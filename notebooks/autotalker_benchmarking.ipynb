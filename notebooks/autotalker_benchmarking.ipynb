{
 "cells": [
  {
   "cell_type": "markdown",
   "id": "1b1daabf-c8e3-43d4-aa32-9789abcc8619",
   "metadata": {},
   "source": [
    "# Autotalker Benchmarking"
   ]
  },
  {
   "cell_type": "markdown",
   "id": "c325d921-2077-42b3-90a8-6f6c7dd928c5",
   "metadata": {},
   "source": [
    "- **Creator**: Sebastian Birk (<sebastian.birk@helmholtz-munich.de>).\n",
    "- **Affiliation:** Helmholtz Munich, Institute of Computational Biology (ICB), Talavera-López Lab\n",
    "- **Date of Creation:** 21.12.2022\n",
    "- **Date of Last Modification:** 21.12.2022"
   ]
  },
  {
   "cell_type": "markdown",
   "id": "2d464ebf-354f-4f61-8040-c3dcbcc893b9",
   "metadata": {},
   "source": [
    "## 1. Setup"
   ]
  },
  {
   "cell_type": "markdown",
   "id": "d5631277-d8d2-4194-a376-280f4f149b7d",
   "metadata": {},
   "source": [
    "### 1.1 Import Libraries"
   ]
  },
  {
   "cell_type": "code",
   "execution_count": 2,
   "id": "b4aa3c6a-5a44-4cf1-84a3-5e514457cf3c",
   "metadata": {},
   "outputs": [],
   "source": [
    "import argparse\n",
    "import os\n",
    "import random\n",
    "import warnings\n",
    "from copy import deepcopy\n",
    "from datetime import datetime\n",
    "\n",
    "import anndata as ad\n",
    "import matplotlib\n",
    "import matplotlib.pyplot as plt\n",
    "import mlflow\n",
    "import numpy as np\n",
    "import pandas as pd\n",
    "import scanpy as sc\n",
    "import scipy.sparse as sp\n",
    "import seaborn as sns\n",
    "import squidpy as sq\n",
    "import torch\n",
    "from matplotlib.pyplot import rc_context"
   ]
  },
  {
   "cell_type": "markdown",
   "id": "9f91f345-c297-47cb-8650-c6d9c60a8b7e",
   "metadata": {},
   "source": [
    "### 1.2 Define Parameters"
   ]
  },
  {
   "cell_type": "code",
   "execution_count": 21,
   "id": "a4d4e6d9-239f-47c5-a30b-579b16d4c27c",
   "metadata": {},
   "outputs": [],
   "source": [
    "## Dataset\n",
    "dataset = \"squidpy_seqfish_mouse_organogenesis\"\n",
    "\n",
    "## Model\n",
    "# AnnData Keys\n",
    "counts_key = \"counts\"\n",
    "cell_type_key = \"celltype_mapped_refined\"\n",
    "adj_key = \"spatial_connectivities\"\n",
    "spatial_key = \"spatial\"\n",
    "gp_names_key = \"autotalker_gp_names\"\n",
    "active_gp_names_key = \"autotalker_active_gp_names\"\n",
    "gp_targets_mask_key = \"autotalker_gp_targets\"\n",
    "gp_sources_mask_key = \"autotalker_gp_sources\"\n",
    "deeplinc_latent_key = \"deeplinc_latent\""
   ]
  },
  {
   "cell_type": "markdown",
   "id": "a6c3b7fa-fa59-43dd-81d2-7e116650915f",
   "metadata": {},
   "source": [
    "### 1.3 Run Notebook Setup"
   ]
  },
  {
   "cell_type": "code",
   "execution_count": 5,
   "id": "924032d4-24a4-45cf-87e1-0eba197da0c2",
   "metadata": {},
   "outputs": [],
   "source": [
    "# Ignore future warnings and user warnings\n",
    "warnings.simplefilter(action=\"ignore\", category=FutureWarning)\n",
    "warnings.simplefilter(action=\"ignore\", category=UserWarning)"
   ]
  },
  {
   "cell_type": "code",
   "execution_count": 6,
   "id": "ab22fbaf-aeed-464b-8a20-b640b9e055fd",
   "metadata": {},
   "outputs": [],
   "source": [
    "# Get time of notebook execution for timestamping saved artifacts\n",
    "now = datetime.now()\n",
    "current_timestamp = now.strftime(\"%d%m%Y_%H%M%S\")"
   ]
  },
  {
   "cell_type": "markdown",
   "id": "2b886225-6b6d-433c-b117-47b9a8f8091f",
   "metadata": {},
   "source": [
    "### 1.4 Configure Paths and Create Directories"
   ]
  },
  {
   "cell_type": "code",
   "execution_count": 12,
   "id": "36675337-808d-40a9-93fc-d6cfa9473f66",
   "metadata": {},
   "outputs": [],
   "source": [
    "# Define paths\n",
    "figure_path = f\"../figures/{dataset}\"\n",
    "srt_data_folder_path = \"../data/srt_data\" # spatially resolved transcriptomics data\n",
    "srt_data_gold_folder_path = f\"{srt_data_folder_path}/gold\"\n",
    "benchmark_data_folder_path = \"../data/benchmark_data\"\n",
    "\n",
    "# Create required directories\n",
    "os.makedirs(figure_path, exist_ok=True)"
   ]
  },
  {
   "cell_type": "markdown",
   "id": "fd883193-8aa9-4809-aeac-cacb478df22b",
   "metadata": {
    "tags": []
   },
   "source": [
    "## 2. Data"
   ]
  },
  {
   "cell_type": "markdown",
   "id": "049f6853-5dc1-4b68-9240-c4b6a00f1514",
   "metadata": {},
   "source": [
    "### 2.1 Load Data & Compute Spatial Neighbor Graph"
   ]
  },
  {
   "cell_type": "code",
   "execution_count": 11,
   "id": "ada889e3-9efd-4371-af10-1c17c68be3cc",
   "metadata": {},
   "outputs": [],
   "source": [
    "adata = ad.read_h5ad(f\"{srt_data_gold_folder_path}/{dataset}.h5ad\")\n",
    "\n",
    "# Compute spatial neighborhood\n",
    "sq.gr.spatial_neighbors(adata,\n",
    "                        coord_type=\"generic\",\n",
    "                        spatial_key=\"spatial\",\n",
    "                        radius=0.03875)"
   ]
  },
  {
   "cell_type": "code",
   "execution_count": 29,
   "id": "d2e741dc-584f-4d05-963a-7a866c83f46d",
   "metadata": {},
   "outputs": [],
   "source": [
    "adata.obsm[deeplinc_latent_key] = np.load(f\"{benchmark_data_folder_path}/deeplinc/run2/emb_hidden2_22.npy\")"
   ]
  },
  {
   "cell_type": "code",
   "execution_count": 31,
   "id": "c676c06a-8516-4d97-8d51-e9145de4504a",
   "metadata": {},
   "outputs": [
    {
     "data": {
      "text/plain": [
       "array([[ 0.44840026,  0.4095279 ,  0.27254602, ...,  0.00249713,\n",
       "         0.22971232,  0.43959036],\n",
       "       [ 0.52195483,  0.36988732,  0.09020187, ..., -0.49185175,\n",
       "         0.11005304, -0.41460598],\n",
       "       [ 0.03786981,  0.07454717,  0.40682665, ..., -0.3426653 ,\n",
       "         0.19174244,  0.24758312],\n",
       "       ...,\n",
       "       [ 0.59005463, -0.19957691, -0.06352405, ...,  0.6907055 ,\n",
       "         0.46307772, -0.05412021],\n",
       "       [ 1.3828728 , -0.6059761 , -0.46798608, ...,  0.6969166 ,\n",
       "         0.0419609 , -1.2146573 ],\n",
       "       [ 0.17522368, -0.37442207,  0.02373267, ...,  0.11247092,\n",
       "         0.16365449,  0.6664656 ]], dtype=float32)"
      ]
     },
     "execution_count": 31,
     "metadata": {},
     "output_type": "execute_result"
    }
   ],
   "source": [
    "adata.obsm[deeplinc_latent_key]"
   ]
  },
  {
   "cell_type": "code",
   "execution_count": null,
   "id": "13391d1c-c070-42f4-8ee8-c03254450964",
   "metadata": {},
   "outputs": [],
   "source": [
    "# Use deeplinc latent space for UMAP generation\n",
    "sc.pp.neighbors(adata, use_rep=deeplinc_latent_key)\n",
    "sc.tl.umap(adata, min_dist=0.3)"
   ]
  },
  {
   "cell_type": "code",
   "execution_count": null,
   "id": "ee37dda9-c3c6-4944-8a3c-d6ebde324073",
   "metadata": {},
   "outputs": [],
   "source": [
    "# Create subplot of cell-type annotations in physical and latent space\n",
    "fig, axs = plt.subplots(nrows=2, ncols=1, figsize=(10, 20))\n",
    "title = fig.suptitle(t=\"Cell-type Annotations in Spatial and Latent Space\",\n",
    "                     x=0.85,\n",
    "                     y=0.925,\n",
    "                     fontsize=20)\n",
    "sc.pl.spatial(adata=adata,\n",
    "              color=[cell_type_key],\n",
    "              spot_size=0.03,\n",
    "              title=\"Spatial Space\",\n",
    "              ax=axs[0],\n",
    "              show=False)\n",
    "sc.pl.umap(adata=adata,\n",
    "           color=[cell_type_key],\n",
    "           title=\"Latent Space\",\n",
    "           ax=axs[1],\n",
    "           show=False)\n",
    "\n",
    "# Create and position shared legend\n",
    "handles, labels = axs[0].get_legend_handles_labels()\n",
    "lgd = fig.legend(handles, labels, bbox_to_anchor=(1.225, 0.625))\n",
    "axs[0].get_legend().remove()\n",
    "axs[1].get_legend().remove()\n",
    "\n",
    "# Adjust, save and display plot\n",
    "plt.subplots_adjust(wspace=0, hspace=0.1)\n",
    "#fig.savefig(f\"{figure_path}/cell_type_annotations_in_spatial_and_latent_space.png\",\n",
    "#            bbox_extra_artists=(lgd, title),\n",
    "#            bbox_inches=\"tight\")\n",
    "plt.show()"
   ]
  },
  {
   "cell_type": "code",
   "execution_count": null,
   "id": "95ea98ad-e459-4444-a1c3-30437a0316e1",
   "metadata": {},
   "outputs": [],
   "source": []
  }
 ],
 "metadata": {
  "kernelspec": {
   "display_name": "Python 3 (ipykernel)",
   "language": "python",
   "name": "python3"
  },
  "language_info": {
   "codemirror_mode": {
    "name": "ipython",
    "version": 3
   },
   "file_extension": ".py",
   "mimetype": "text/x-python",
   "name": "python",
   "nbconvert_exporter": "python",
   "pygments_lexer": "ipython3",
   "version": "3.9.12"
  }
 },
 "nbformat": 4,
 "nbformat_minor": 5
}
