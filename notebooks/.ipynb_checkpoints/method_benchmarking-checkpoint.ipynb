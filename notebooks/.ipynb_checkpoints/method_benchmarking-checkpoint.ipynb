{
 "cells": [
  {
   "cell_type": "markdown",
   "id": "364a9ebc-3e3c-4645-9049-a34bd084c8a8",
   "metadata": {},
   "source": [
    "# Method Benchmarking"
   ]
  },
  {
   "cell_type": "markdown",
   "id": "b0c55227-147e-417f-b0dd-bb0b7f322930",
   "metadata": {},
   "source": [
    "- **Creator**: Sebastian Birk (<sebastian.birk@helmholtz-munich.de>).\n",
    "- **Affiliation:** Helmholtz Munich, Institute of Computational Biology (ICB), Talavera-López Lab\n",
    "- **Date of Creation:** 06.01.2023\n",
    "- **Date of Last Modification:** 10.01.2023"
   ]
  },
  {
   "cell_type": "markdown",
   "id": "7529cde5-be12-403b-a94c-07561774b86c",
   "metadata": {},
   "source": [
    "## 1. Setup"
   ]
  },
  {
   "cell_type": "markdown",
   "id": "faad87bd-fef5-4429-a175-d714c491ae76",
   "metadata": {},
   "source": [
    "### 1.1 Import Libraries"
   ]
  },
  {
   "cell_type": "code",
   "execution_count": 1,
   "id": "f1e0bf12-90ee-403e-8970-0d1ac2f47540",
   "metadata": {},
   "outputs": [],
   "source": [
    "import sys\n",
    "sys.path.append(\"../../autotalker\")"
   ]
  },
  {
   "cell_type": "code",
   "execution_count": 2,
   "id": "d7f93960-c759-424f-8cb2-1d8698acae2c",
   "metadata": {},
   "outputs": [
    {
     "name": "stderr",
     "output_type": "stream",
     "text": [
      "/home/cartalop/anaconda3/envs/autotalker/lib/python3.9/site-packages/omnipath/_core/query/_query_validator.py:165: ResourceWarning: unclosed <ssl.SSLSocket fd=53, family=AddressFamily.AF_INET, type=SocketKind.SOCK_STREAM, proto=6, laddr=('192.168.0.18', 35338), raddr=('178.62.7.222', 443)>\n",
      "  res = Downloader(opt).maybe_download(\n",
      "ResourceWarning: Enable tracemalloc to get the object allocation traceback\n",
      "/home/cartalop/anaconda3/envs/autotalker/lib/python3.9/site-packages/omnipath/_core/query/_query_validator.py:165: ResourceWarning: unclosed <ssl.SSLSocket fd=53, family=AddressFamily.AF_INET, type=SocketKind.SOCK_STREAM, proto=6, laddr=('192.168.0.18', 35364), raddr=('178.62.7.222', 443)>\n",
      "  res = Downloader(opt).maybe_download(\n",
      "ResourceWarning: Enable tracemalloc to get the object allocation traceback\n",
      "/home/cartalop/anaconda3/envs/autotalker/lib/python3.9/site-packages/omnipath/_core/query/_query_validator.py:165: ResourceWarning: unclosed <ssl.SSLSocket fd=53, family=AddressFamily.AF_INET, type=SocketKind.SOCK_STREAM, proto=6, laddr=('192.168.0.18', 35378), raddr=('178.62.7.222', 443)>\n",
      "  res = Downloader(opt).maybe_download(\n",
      "ResourceWarning: Enable tracemalloc to get the object allocation traceback\n",
      "/home/cartalop/anaconda3/envs/autotalker/lib/python3.9/site-packages/omnipath/_core/query/_query_validator.py:165: ResourceWarning: unclosed <ssl.SSLSocket fd=53, family=AddressFamily.AF_INET, type=SocketKind.SOCK_STREAM, proto=6, laddr=('192.168.0.18', 35390), raddr=('178.62.7.222', 443)>\n",
      "  res = Downloader(opt).maybe_download(\n",
      "ResourceWarning: Enable tracemalloc to get the object allocation traceback\n",
      "/home/cartalop/anaconda3/envs/autotalker/lib/python3.9/site-packages/omnipath/_core/downloader/_downloader.py:218: ResourceWarning: unclosed <ssl.SSLSocket fd=53, family=AddressFamily.AF_INET, type=SocketKind.SOCK_STREAM, proto=6, laddr=('192.168.0.18', 35392), raddr=('178.62.7.222', 443)>\n",
      "  return UNKNOWN_SERVER_VERSION\n",
      "ResourceWarning: Enable tracemalloc to get the object allocation traceback\n",
      "/home/cartalop/anaconda3/envs/autotalker/lib/python3.9/site-packages/umap/__init__.py:9: ImportWarning: Tensorflow not installed; ParametricUMAP will be unavailable\n",
      "  warn(\n"
     ]
    }
   ],
   "source": [
    "from datetime import datetime\n",
    "\n",
    "import scanpy as sc\n",
    "import seaborn as sns\n",
    "import matplotlib.pyplot as plt\n",
    "import numpy as np\n",
    "import pandas as pd\n",
    "import scib\n",
    "\n",
    "from autotalker.benchmarking import compute_benchmarking_metrics"
   ]
  },
  {
   "cell_type": "markdown",
   "id": "39b5efa5-2052-4986-8ae5-89cfab018515",
   "metadata": {},
   "source": [
    "### 1.2 Define Parameters"
   ]
  },
  {
   "cell_type": "code",
   "execution_count": 3,
   "id": "e5c8b48a-ed5e-48b5-8c5c-c1de11493aee",
   "metadata": {},
   "outputs": [],
   "source": [
    "dataset = \"squidpy_seqfish_mouse_organogenesis\"\n",
    "cell_type_key = \"celltype_mapped_refined\"\n",
    "latent_key = \"deeplinc_latent\"\n",
    "active_gp_names_key = \"deeplinc_active_gp_names\"\n",
    "spatial_key = \"spatial\"\n",
    "leiden_resolution = 0.3\n",
    "random_seed = 0"
   ]
  },
  {
   "cell_type": "markdown",
   "id": "28adc110-0f41-4a71-9838-dc7f0687809a",
   "metadata": {},
   "source": [
    "### 1.3 Run Notebook Setup"
   ]
  },
  {
   "cell_type": "code",
   "execution_count": 4,
   "id": "334b87ca-3387-4ba9-8567-84bc4754ff0c",
   "metadata": {},
   "outputs": [
    {
     "name": "stderr",
     "output_type": "stream",
     "text": [
      "/home/cartalop/anaconda3/envs/autotalker/lib/python3.9/site-packages/scanpy/_settings.py:447: DeprecationWarning: `set_matplotlib_formats` is deprecated since IPython 7.23, directly use `matplotlib_inline.backend_inline.set_matplotlib_formats()`\n",
      "  IPython.display.set_matplotlib_formats(*ipython_format)\n"
     ]
    }
   ],
   "source": [
    "sc.set_figure_params(figsize=(6, 6))"
   ]
  },
  {
   "cell_type": "code",
   "execution_count": 5,
   "id": "0ab6b302-1c0b-4937-8624-40629ada2e46",
   "metadata": {},
   "outputs": [],
   "source": [
    "# Get time of notebook execution for timestamping saved artifacts\n",
    "now = datetime.now()\n",
    "current_timestamp = now.strftime(\"%d%m%Y_%H%M%S\")"
   ]
  },
  {
   "cell_type": "markdown",
   "id": "85538952-006b-4b0b-a50c-fe7445ce22e2",
   "metadata": {},
   "source": [
    "### 1.4 Configure Paths and Directories"
   ]
  },
  {
   "cell_type": "code",
   "execution_count": 6,
   "id": "7ddcc49c-ba22-4155-acd5-05b5b810e091",
   "metadata": {},
   "outputs": [],
   "source": [
    "data_folder_path = \"../datasets/srt_data/gold/\"\n",
    "figure_folder_path = f\"../figures/{dataset}/benchmarking/\"\n",
    "benchmark_data_folder_path = \"../datasets/benchmark_data/\""
   ]
  },
  {
   "cell_type": "markdown",
   "id": "58f3bcb4-901b-48dd-b684-a398c836160b",
   "metadata": {},
   "source": [
    "## 2. Data"
   ]
  },
  {
   "cell_type": "code",
   "execution_count": 7,
   "id": "5ca4ff68-1935-4d9e-8e71-bad9113ce11c",
   "metadata": {},
   "outputs": [],
   "source": [
    "# Load Data\n",
    "adata = sc.read_h5ad(data_folder_path + f\"{dataset}_deeplinc.h5ad\")"
   ]
  },
  {
   "cell_type": "markdown",
   "id": "5e1f3798-2b4a-49ed-892c-a85d167d8ff1",
   "metadata": {},
   "source": [
    "## 3. Method Benchmarking"
   ]
  },
  {
   "cell_type": "markdown",
   "id": "e819e7ff-4901-4688-8095-c72ede7f905b",
   "metadata": {},
   "source": [
    "### 3.1 DeepLinc"
   ]
  },
  {
   "cell_type": "code",
   "execution_count": null,
   "id": "c5597cbc-e971-4546-92b6-7c00a528380b",
   "metadata": {},
   "outputs": [],
   "source": [
    "# Compute benchmarking metrics for DeepLinc models\n",
    "benchmarking_dict_list = []\n",
    "# for run_number, n_neighbors in zip(np.arange(1, 11), [2, 2, 4, 4, 8, 8, 16, 16, 32, 32]):\n",
    "for run_number, n_neighbors in zip(np.arange(1, 3), [2, 2]):\n",
    "    benchmarking_dict = {}\n",
    "    \n",
    "    # autotalker metrics\n",
    "    benchmarking_dict = compute_benchmarking_metrics(adata=adata,\n",
    "                                                     spatial_model=True,\n",
    "                                                     latent_key=latent_key + f\"_run{run_number}\",\n",
    "                                                     active_gp_names_key=active_gp_names_key,\n",
    "                                                     cell_type_key=cell_type_key,\n",
    "                                                     spatial_key=\"spatial\",\n",
    "                                                     spatial_knng_key = f\"deeplinc_spatial_{n_neighbors}nng\",\n",
    "                                                     latent_knng_key = f\"deeplinc_latent_{n_neighbors}nng\",\n",
    "                                                     n_neighbors=n_neighbors)\n",
    "    \n",
    "    # scib metrics\n",
    "    sc.pp.neighbors(adata=adata,\n",
    "                    use_rep=latent_key + f\"_run{run_number}\")\n",
    "    scib.me.cluster_optimal_resolution(adata=adata,\n",
    "                                       cluster_key=\"cluster\",\n",
    "                                       label_key=cell_type_key)\n",
    "    benchmarking_dict[\"ari\"] = scib.me.ari(adata,\n",
    "                                           cluster_key=\"cluster\",\n",
    "                                           label_key=cell_type_key)\n",
    "    benchmarking_dict[\"clisi\"] = scib.me.clisi_graph(adata=adata,\n",
    "                                                     label_key=cell_type_key,\n",
    "                                                     type_=\"embed\",\n",
    "                                                     use_rep=latent_key + f\"_run{run_number}\")\n",
    "    benchmarking_dict[\"nmi\"] = scib.me.nmi(adata=adata,\n",
    "                                           cluster_key=\"cluster\",\n",
    "                                           label_key=cell_type_key)\n",
    "    benchmarking_dict[\"asw\"] = scib.me.silhouette(adata=adata,\n",
    "                                                  label_key=cell_type_key,\n",
    "                                                  embed=latent_key + f\"_run{run_number}\")\n",
    "    benchmarking_dict[\"isolated_labels_asw\"] = scib.me.isolated_labels_asw(adata=adata,\n",
    "                                                                           batch_key=\"sample\",\n",
    "                                                                           label_key=cell_type_key,\n",
    "                                                                           embed=latent_key + f\"_run{run_number}\")\n",
    "    \n",
    "    benchmarking_dict[\"model\"] = \"deeplinc\"\n",
    "    benchmarking_dict[\"run\"] = run_number\n",
    "    benchmarking_dict_list.append(benchmarking_dict)\n",
    "df = pd.DataFrame(benchmarking_dict_list)"
   ]
  },
  {
   "cell_type": "markdown",
   "id": "a3d224f8-b044-4133-8242-e55c7bec4e9f",
   "metadata": {},
   "source": [
    "### 3.2 Summary"
   ]
  },
  {
   "cell_type": "code",
   "execution_count": null,
   "id": "f589e6b5-155f-4316-a5a6-042a950448e5",
   "metadata": {},
   "outputs": [],
   "source": [
    "mean_df = df.groupby(\"model\").mean()"
   ]
  },
  {
   "cell_type": "code",
   "execution_count": null,
   "id": "446ad295-c603-4593-8b55-91f91db24ffc",
   "metadata": {},
   "outputs": [],
   "source": [
    "columns = [\"gcd\", \"mlnmi\", \"cad\", \"arclisi\", \"germse\", \"cca\", \"ari\", \"clisi\",\n",
    "           \"nmi\", \"asw\", \"isolated_labels_asw\"]"
   ]
  },
  {
   "cell_type": "code",
   "execution_count": null,
   "id": "a4f5774e-3c2b-4987-a278-d31379cbf302",
   "metadata": {},
   "outputs": [],
   "source": [
    "fig, axs = plt.subplots(1, len(columns), figsize=(4*len(columns), 4))\n",
    "\n",
    "# Plot each column in a separate subplot\n",
    "for ax, col in zip(axs, columns):\n",
    "    sns.barplot(data=mean_df, x=mean_df.index, y=col, ax=ax)\n",
    "plt.suptitle(\"Method Benchmarking Metrics\")\n",
    "plt.subplots_adjust(wspace=0.5, top=0.9)\n",
    "plt.show()"
   ]
  },
  {
   "cell_type": "code",
   "execution_count": null,
   "id": "c0447663-be7c-4554-921e-ebe746a67037",
   "metadata": {},
   "outputs": [],
   "source": []
  }
 ],
 "metadata": {
  "kernelspec": {
   "display_name": "Python 3 (ipykernel)",
   "language": "python",
   "name": "python3"
  },
  "language_info": {
   "codemirror_mode": {
    "name": "ipython",
    "version": 3
   },
   "file_extension": ".py",
   "mimetype": "text/x-python",
   "name": "python",
   "nbconvert_exporter": "python",
   "pygments_lexer": "ipython3",
   "version": "3.9.15"
  }
 },
 "nbformat": 4,
 "nbformat_minor": 5
}
