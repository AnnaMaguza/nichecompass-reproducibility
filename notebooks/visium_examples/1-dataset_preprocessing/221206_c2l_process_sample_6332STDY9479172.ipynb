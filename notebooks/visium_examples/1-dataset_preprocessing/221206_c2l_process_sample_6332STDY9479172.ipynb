{
 "cells": [
  {
   "cell_type": "markdown",
   "metadata": {},
   "source": [
    "### Notebook for the deconvolution of 10X Visium lung sample using `cell2location`\n",
    "\n",
    "- **Developed by**: Carlos Talavera-López Ph.D\n",
    "- **Institute of Computational Biology - COmputational Health Centre - Helmholtz Munchen**\n",
    "- v221205"
   ]
  },
  {
   "cell_type": "markdown",
   "metadata": {},
   "source": [
    "### Load required modules"
   ]
  },
  {
   "cell_type": "code",
   "execution_count": null,
   "metadata": {},
   "outputs": [],
   "source": [
    "import scvi\n",
    "import anndata\n",
    "import numpy as np\n",
    "import scanpy as sc\n",
    "import matplotlib as mpl\n",
    "import matplotlib.pyplot as plt\n",
    "import seaborn as sns"
   ]
  },
  {
   "cell_type": "code",
   "execution_count": null,
   "metadata": {},
   "outputs": [],
   "source": [
    "os.environ[\"THEANO_FLAGS\"] = 'device = cuda,floatX = float32,force_device = True'\n",
    "import cell2location"
   ]
  },
  {
   "cell_type": "markdown",
   "metadata": {},
   "source": [
    "### Set up working environment"
   ]
  },
  {
   "cell_type": "code",
   "execution_count": null,
   "metadata": {},
   "outputs": [],
   "source": [
    "%config InlineBackend.figure_format = 'retina'\n",
    "%config InlineBackend.print_figure_kwargs = {'facecolor' : \"w\"}"
   ]
  },
  {
   "cell_type": "code",
   "execution_count": null,
   "metadata": {},
   "outputs": [],
   "source": [
    "results_folder = '/home/cartalop/data/carlos/single_cell/autotalker/public_datasets/meyer_lung/c2l/'\n",
    "ref_run_name = f'{results_folder}/reference_signatures'\n",
    "run_name = f'{results_folder}/cell2location_map'"
   ]
  },
  {
   "cell_type": "code",
   "execution_count": null,
   "metadata": {},
   "outputs": [],
   "source": [
    "plt.show()\n",
    "\n",
    "sc.settings.verbosity = 3\n",
    "sc.logging.print_versions()\n",
    "sc.settings.set_figure_params(dpi = 160, color_map = 'RdPu', dpi_save = 300, vector_friendly = True, format = 'svg', fontsize = 8)\n"
   ]
  },
  {
   "cell_type": "markdown",
   "metadata": {},
   "source": [
    "### Load Visium sample\n",
    "\n",
    "- The sample has already been formatted into an `anndata` object by the authors"
   ]
  },
  {
   "cell_type": "code",
   "execution_count": null,
   "metadata": {},
   "outputs": [],
   "source": [
    "adata_vis = sc.read_h5ad('/home/cartalop/data/carlos/single_cell/autotalker/public_datasets/meyer_lung/6332STDY9479172.h5ad')\n",
    "adata_vis.obs['sample'] = '6332STDY10289520'\n",
    "adata_vis"
   ]
  },
  {
   "cell_type": "code",
   "execution_count": null,
   "metadata": {},
   "outputs": [],
   "source": [
    "adata_vis.obs.head()"
   ]
  },
  {
   "cell_type": "code",
   "execution_count": null,
   "metadata": {},
   "outputs": [],
   "source": [
    "sc.pl.spatial(adata_vis, color = ['SLT: Pulmonary neuroendocrine', 'SLT: Vascular SMC 1', 'SLT: Pericyte', 'SLT: aDC 1'])"
   ]
  },
  {
   "cell_type": "markdown",
   "metadata": {},
   "source": [
    "- Remove mitochondrial genes for downstream analysis"
   ]
  },
  {
   "cell_type": "code",
   "execution_count": null,
   "metadata": {},
   "outputs": [],
   "source": [
    "adata_vis.var['MT_gene'] = [gene.startswith('MT-') for gene in adata_vis.var_names]\n",
    "adata_vis.obsm['MT'] = adata_vis[:, adata_vis.var['MT_gene'].values].X.toarray()\n",
    "adata_vis = adata_vis[:, ~adata_vis.var['MT_gene'].values]\n",
    "adata_vis"
   ]
  },
  {
   "cell_type": "markdown",
   "metadata": {},
   "source": [
    "### Load scRNA-Seq reference"
   ]
  },
  {
   "cell_type": "code",
   "execution_count": null,
   "metadata": {},
   "outputs": [],
   "source": [
    "adata_ref = sc.read_h5ad('/home/cartalop/data/carlos/single_cell/lung/hlca/HLCA_raw_100K_subset.h5ad')\n",
    "adata_ref"
   ]
  },
  {
   "cell_type": "markdown",
   "metadata": {},
   "source": [
    "- Check if `anndata.X` is raw"
   ]
  },
  {
   "cell_type": "code",
   "execution_count": null,
   "metadata": {},
   "outputs": [],
   "source": [
    "def X_is_raw(adata):\n",
    "    return np.array_equal(adata.X.sum(axis=0).astype(int), adata.X.sum(axis=0))"
   ]
  },
  {
   "cell_type": "code",
   "execution_count": null,
   "metadata": {},
   "outputs": [],
   "source": [
    "X_is_raw(adata_ref)"
   ]
  },
  {
   "cell_type": "markdown",
   "metadata": {},
   "source": [
    "### Select informative genes in reference for deconvolutrion"
   ]
  },
  {
   "cell_type": "code",
   "execution_count": null,
   "metadata": {},
   "outputs": [],
   "source": [
    "from cell2location.utils.filtering import filter_genes\n",
    "selected = filter_genes(adata_ref, cell_count_cutoff = 5, cell_percentage_cutoff2 = 0.03, nonz_mean_cutoff = 1.12)"
   ]
  },
  {
   "cell_type": "markdown",
   "metadata": {},
   "source": [
    "- Filter object using these genes"
   ]
  },
  {
   "cell_type": "code",
   "execution_count": null,
   "metadata": {},
   "outputs": [],
   "source": [
    "adata_ref = adata_ref[:, selected].copy()\n",
    "adata_ref"
   ]
  },
  {
   "cell_type": "code",
   "execution_count": null,
   "metadata": {},
   "outputs": [],
   "source": [
    "adata_ref.obs['ann_level_4'].value_counts()"
   ]
  },
  {
   "cell_type": "markdown",
   "metadata": {},
   "source": [
    "### Estimation of reference cell type signatures (NB regression)"
   ]
  },
  {
   "cell_type": "code",
   "execution_count": null,
   "metadata": {},
   "outputs": [],
   "source": [
    "\n",
    "from cell2location.models import RegressionModel\n",
    "\n",
    "RegressionModel.setup_anndata(\n",
    "    adata = adata_ref,\n",
    "    batch_key = 'sample',\n",
    "    labels_key = 'ann_level_4',\n",
    "    categorical_covariate_keys = ['sequencing_platform']\n",
    ")\n",
    "mod = RegressionModel(adata_ref)\n",
    "mod.view_anndata_setup()"
   ]
  },
  {
   "cell_type": "code",
   "execution_count": null,
   "metadata": {},
   "outputs": [],
   "source": [
    "mod.train(\n",
    "    max_epochs = 250,\n",
    "    batch_size = 2500,\n",
    "    train_size = 1,\n",
    "    lr = 0.002,\n",
    ")"
   ]
  },
  {
   "cell_type": "code",
   "execution_count": null,
   "metadata": {},
   "outputs": [],
   "source": [
    "mod.plot_history(20)"
   ]
  },
  {
   "cell_type": "markdown",
   "metadata": {},
   "source": [
    "### Export cell type abundance estimates"
   ]
  },
  {
   "cell_type": "code",
   "execution_count": null,
   "metadata": {},
   "outputs": [],
   "source": [
    "adata_ref = mod.export_posterior(\n",
    "    adata_ref,\n",
    "    sample_kwargs = {\n",
    "        'num_samples': 1000,\n",
    "        'batch_size': 2500,\n",
    "        'use_gpu': True\n",
    "    },\n",
    ")"
   ]
  },
  {
   "cell_type": "markdown",
   "metadata": {},
   "source": [
    "### Save model"
   ]
  },
  {
   "cell_type": "code",
   "execution_count": null,
   "metadata": {},
   "outputs": [],
   "source": [
    "mod.save(f\"{ref_run_name}\", overwrite = True)"
   ]
  },
  {
   "cell_type": "markdown",
   "metadata": {},
   "source": [
    "### Save up annotated Visium object"
   ]
  },
  {
   "cell_type": "code",
   "execution_count": null,
   "metadata": {},
   "outputs": [],
   "source": [
    "adata_file = f\"{ref_run_name}/sc.h5ad\"\n",
    "adata_ref.write(adata_file)\n",
    "adata_file"
   ]
  },
  {
   "cell_type": "markdown",
   "metadata": {},
   "source": [
    "### Evaluate model QC"
   ]
  },
  {
   "cell_type": "code",
   "execution_count": null,
   "metadata": {},
   "outputs": [],
   "source": [
    "mod.plot_QC()"
   ]
  },
  {
   "cell_type": "markdown",
   "metadata": {},
   "source": [
    "### Extract reference cell types signatures as a `pandas` dataframe"
   ]
  },
  {
   "cell_type": "code",
   "execution_count": null,
   "metadata": {},
   "outputs": [],
   "source": [
    "if 'means_per_cluster_mu_fg' in adata_ref.varm.keys():\n",
    "    inf_aver = adata_ref.varm['means_per_cluster_mu_fg'][[f'means_per_cluster_mu_fg_{i}'\n",
    "                                    for i in adata_ref.uns['mod']['factor_names']]].copy()\n",
    "else:\n",
    "    inf_aver = adata_ref.var[[f'means_per_cluster_mu_fg_{i}'\n",
    "                                    for i in adata_ref.uns['mod']['factor_names']]].copy()\n",
    "inf_aver.columns = adata_ref.uns['mod']['factor_names']\n",
    "inf_aver.iloc[0:5, 0:5]"
   ]
  },
  {
   "cell_type": "markdown",
   "metadata": {},
   "source": [
    "### Spatial mapping with `cell2location`"
   ]
  },
  {
   "cell_type": "markdown",
   "metadata": {},
   "source": [
    "- Find shared genes and subset both anndata and reference signatures"
   ]
  },
  {
   "cell_type": "code",
   "execution_count": null,
   "metadata": {},
   "outputs": [],
   "source": [
    "intersect = np.intersect1d(adata_vis.var_names, inf_aver.index)\n",
    "adata_vis = adata_vis[:, intersect].copy()\n",
    "inf_aver = inf_aver.loc[intersect, :].copy()"
   ]
  },
  {
   "cell_type": "code",
   "execution_count": null,
   "metadata": {},
   "outputs": [],
   "source": [
    "from cell2location.models import Cell2location\n",
    "Cell2location.setup_anndata(adata = adata_vis, batch_key = \"sample\")\n",
    "\n",
    "mod = Cell2location(\n",
    "    adata_vis, cell_state_df = inf_aver,\n",
    "    N_cells_per_location = 30,\n",
    "    detection_alpha = 200\n",
    ")\n",
    "mod.view_anndata_setup()\n",
    "\n",
    "mod.train(\n",
    "    max_epochs = 30000,\n",
    "    batch_size = None,\n",
    "    train_size = 1,\n",
    ")"
   ]
  },
  {
   "cell_type": "markdown",
   "metadata": {},
   "source": [
    "- Plot ELBO loss history during training, removing first 100 epochs from the plot"
   ]
  },
  {
   "cell_type": "code",
   "execution_count": null,
   "metadata": {},
   "outputs": [],
   "source": [
    "mod.plot_history(1000)\n",
    "plt.legend(labels = ['full data training']);"
   ]
  },
  {
   "cell_type": "markdown",
   "metadata": {},
   "source": [
    "### Exporting estimated posterior distributions of cell abundance and saving results"
   ]
  },
  {
   "cell_type": "code",
   "execution_count": null,
   "metadata": {},
   "outputs": [],
   "source": [
    "adata_vis = mod.export_posterior(\n",
    "    adata_vis, sample_kwargs = {'num_samples': 1000, 'batch_size': mod.adata.n_obs, 'use_gpu': True}\n",
    ")"
   ]
  },
  {
   "cell_type": "code",
   "execution_count": null,
   "metadata": {},
   "outputs": [],
   "source": [
    "mod.save(f\"{run_name}\", overwrite = True)"
   ]
  },
  {
   "cell_type": "markdown",
   "metadata": {},
   "source": [
    "### Save `anndata` object with results"
   ]
  },
  {
   "cell_type": "code",
   "execution_count": null,
   "metadata": {},
   "outputs": [],
   "source": [
    "adata_file = f\"{run_name}/6332STDY9479172_c2l_ctl221206.h5ad\"\n",
    "adata_vis.write(adata_file)\n",
    "adata_file"
   ]
  },
  {
   "cell_type": "code",
   "execution_count": null,
   "metadata": {},
   "outputs": [],
   "source": [
    "mod.plot_QC()"
   ]
  },
  {
   "cell_type": "code",
   "execution_count": null,
   "metadata": {},
   "outputs": [],
   "source": [
    "fig = mod.plot_spatial_QC_across_batches()"
   ]
  },
  {
   "cell_type": "markdown",
   "metadata": {},
   "source": [
    "### Visualising cell abundance in spatial coordinates\n",
    "\n",
    "- Add 5% quantile, representing confident cell abundance, 'at least this amount is present', to `adata.obs` with cell names for plotting"
   ]
  },
  {
   "cell_type": "code",
   "execution_count": null,
   "metadata": {},
   "outputs": [],
   "source": [
    "adata_vis.obs[adata_vis.uns['mod']['factor_names']] = adata_vis.obsm['q05_cell_abundance_w_sf']"
   ]
  },
  {
   "cell_type": "code",
   "execution_count": null,
   "metadata": {},
   "outputs": [],
   "source": [
    "#from cell2location.utils import select_slide\n",
    "#slide = select_slide(adata_vis, 'V1_Human_Lymph_Node')\n",
    "\n",
    "slide = adata_vis.copy()"
   ]
  },
  {
   "cell_type": "code",
   "execution_count": null,
   "metadata": {},
   "outputs": [],
   "source": [
    "slide"
   ]
  },
  {
   "cell_type": "code",
   "execution_count": null,
   "metadata": {},
   "outputs": [],
   "source": [
    "# plot in spatial coordinates\n",
    "with mpl.rc_context({'axes.facecolor':  'black',\n",
    "                     'figure.figsize': [4.5, 5]}):\n",
    "    colors = ['Alveolar macrophages', 'Alveolar fibroblasts', 'Classical monocytes', 'Ionocyte', 'Basal resting', 'Multiciliated', 'Tuft', 'Suprabasal']\n",
    "    sc.pl.spatial(\n",
    "        slide,\n",
    "        cmap = 'magma',\n",
    "        # show first 8 cell types\n",
    "        color = colors,\n",
    "        ncols = 4,\n",
    "        size = 1.3,\n",
    "        img_key = 'hires',\n",
    "        # limit color scale at 99.2% quantile of cell abundance\n",
    "        vmin = 0,\n",
    "        vmax = 'p99.2'\n",
    "    )"
   ]
  },
  {
   "cell_type": "markdown",
   "metadata": {},
   "source": [
    "### Plot multiple cell types in one panel"
   ]
  },
  {
   "cell_type": "code",
   "execution_count": null,
   "metadata": {},
   "outputs": [],
   "source": [
    "from cell2location.plt import plot_spatial\n",
    "\n",
    "clust_labels = ['Alveolar macrophages', 'Alveolar fibroblasts', 'Classical monocytes', 'Ionocyte']\n",
    "clust_col = ['' + str(i) for i in clust_labels]\n",
    "\n",
    "with mpl.rc_context({'figure.figsize': (10, 10)}):\n",
    "    fig = plot_spatial(\n",
    "        adata = slide,\n",
    "        color = clust_col, labels = clust_labels,\n",
    "        show_img = True,\n",
    "        style = 'fast',\n",
    "        max_color_quantile = 0.992,\n",
    "        circle_diameter = 6,\n",
    "        colorbar_position = 'right'\n",
    "    )"
   ]
  },
  {
   "cell_type": "code",
   "execution_count": null,
   "metadata": {},
   "outputs": [],
   "source": [
    "slide"
   ]
  },
  {
   "cell_type": "code",
   "execution_count": null,
   "metadata": {},
   "outputs": [],
   "source": []
  }
 ],
 "metadata": {
  "kernelspec": {
   "display_name": "Python 3.9.15 ('c2l')",
   "language": "python",
   "name": "python3"
  },
  "language_info": {
   "codemirror_mode": {
    "name": "ipython",
    "version": 3
   },
   "file_extension": ".py",
   "mimetype": "text/x-python",
   "name": "python",
   "nbconvert_exporter": "python",
   "pygments_lexer": "ipython3",
   "version": "3.9.15"
  },
  "orig_nbformat": 4,
  "vscode": {
   "interpreter": {
    "hash": "fd4b892b01f07bad170b31262f36a4de73ba248f537c6b11b8c21c33219b2ca5"
   }
  }
 },
 "nbformat": 4,
 "nbformat_minor": 2
}
