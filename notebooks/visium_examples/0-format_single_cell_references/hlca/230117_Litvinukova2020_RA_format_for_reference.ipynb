{
 "cells": [
  {
   "attachments": {},
   "cell_type": "markdown",
   "metadata": {},
   "source": [
    "### Notebook to format the _Litvinukova et al 2020_ LV datasets.\n",
    "- **Developed by**: Carlos Talavera-López Ph.D\n",
    "- **Institute of Computational Biology - Computational Health Centre - Helmholtz Munich**\n",
    "- v230114"
   ]
  },
  {
   "cell_type": "markdown",
   "metadata": {},
   "source": [
    "### Import required modules"
   ]
  },
  {
   "cell_type": "code",
   "execution_count": 1,
   "metadata": {},
   "outputs": [],
   "source": [
    "import anndata\n",
    "import numpy as np\n",
    "import pandas as pd\n",
    "import scanpy as sc"
   ]
  },
  {
   "cell_type": "markdown",
   "metadata": {},
   "source": [
    "### Set up working environment"
   ]
  },
  {
   "cell_type": "code",
   "execution_count": 2,
   "metadata": {},
   "outputs": [
    {
     "name": "stdout",
     "output_type": "stream",
     "text": [
      "-----\n",
      "anndata     0.8.0\n",
      "scanpy      1.9.1\n",
      "-----\n",
      "PIL                 9.2.0\n",
      "asttokens           NA\n",
      "backcall            0.2.0\n",
      "beta_ufunc          NA\n",
      "binom_ufunc         NA\n",
      "cffi                1.15.1\n",
      "cycler              0.10.0\n",
      "cython_runtime      NA\n",
      "dateutil            2.8.2\n",
      "debugpy             1.6.4\n",
      "decorator           5.1.1\n",
      "entrypoints         0.4\n",
      "executing           1.2.0\n",
      "google              NA\n",
      "h5py                3.7.0\n",
      "hypergeom_ufunc     NA\n",
      "igraph              0.10.2\n",
      "ipykernel           6.17.1\n",
      "jedi                0.18.2\n",
      "joblib              1.2.0\n",
      "kiwisolver          1.4.4\n",
      "leidenalg           0.9.0\n",
      "llvmlite            0.39.1\n",
      "matplotlib          3.6.2\n",
      "mpl_toolkits        NA\n",
      "natsort             8.2.0\n",
      "nbinom_ufunc        NA\n",
      "ncf_ufunc           NA\n",
      "numba               0.56.4\n",
      "numpy               1.23.5\n",
      "packaging           21.3\n",
      "pandas              1.5.2\n",
      "parso               0.8.3\n",
      "pexpect             4.8.0\n",
      "pickleshare         0.7.5\n",
      "pkg_resources       NA\n",
      "platformdirs        2.5.4\n",
      "prompt_toolkit      3.0.33\n",
      "psutil              5.9.4\n",
      "ptyprocess          0.7.0\n",
      "pure_eval           0.2.2\n",
      "pydev_ipython       NA\n",
      "pydevconsole        NA\n",
      "pydevd              2.9.1\n",
      "pydevd_file_utils   NA\n",
      "pydevd_plugins      NA\n",
      "pydevd_tracing      NA\n",
      "pygments            2.13.0\n",
      "pyparsing           3.0.9\n",
      "pytz                2022.6\n",
      "scipy               1.9.3\n",
      "session_info        1.0.0\n",
      "setuptools          65.5.1\n",
      "six                 1.16.0\n",
      "sklearn             1.1.3\n",
      "stack_data          0.6.2\n",
      "texttable           1.6.7\n",
      "threadpoolctl       3.1.0\n",
      "tornado             6.2\n",
      "traitlets           5.6.0\n",
      "typing_extensions   NA\n",
      "wcwidth             0.2.5\n",
      "yaml                6.0\n",
      "zipp                NA\n",
      "zmq                 24.0.1\n",
      "zoneinfo            NA\n",
      "-----\n",
      "IPython             8.7.0\n",
      "jupyter_client      7.4.8\n",
      "jupyter_core        5.1.0\n",
      "-----\n",
      "Python 3.9.15 | packaged by conda-forge | (main, Nov 22 2022, 15:55:03) [GCC 10.4.0]\n",
      "Linux-6.0.18-200.fc36.x86_64-x86_64-with-glibc2.35\n",
      "-----\n",
      "Session information updated at 2023-01-17 08:25\n"
     ]
    }
   ],
   "source": [
    "sc.settings.verbosity = 3\n",
    "sc.logging.print_versions()\n",
    "sc.settings.set_figure_params(dpi = 160, color_map = 'RdPu', dpi_save = 300, vector_friendly = True, format = 'svg', fontsize = 8)"
   ]
  },
  {
   "cell_type": "markdown",
   "metadata": {},
   "source": [
    "### Read in HLCA object"
   ]
  },
  {
   "cell_type": "code",
   "execution_count": 3,
   "metadata": {},
   "outputs": [
    {
     "data": {
      "text/plain": [
       "AnnData object with n_obs × n_vars = 120887 × 15744\n",
       "    obs: 'domain_label', 'cell_states', 'region', 'proc'"
      ]
     },
     "execution_count": 3,
     "metadata": {},
     "output_type": "execute_result"
    }
   ],
   "source": [
    "lv_raw = sc.read_h5ad('/home/cartalop/data/carlos/single_cell/heart/regions/RA/HHH_RA_ctl230101.raw.h5ad')\n",
    "lv_raw"
   ]
  },
  {
   "cell_type": "code",
   "execution_count": 4,
   "metadata": {},
   "outputs": [
    {
     "data": {
      "text/plain": [
       "View of AnnData object with n_obs × n_vars = 38989 × 15744\n",
       "    obs: 'domain_label', 'cell_states', 'region', 'proc'"
      ]
     },
     "execution_count": 4,
     "metadata": {},
     "output_type": "execute_result"
    }
   ],
   "source": [
    "lv_ref = lv_raw[lv_raw.obs['proc'].isin(['Litvinukova2020'])]\n",
    "lv_ref"
   ]
  },
  {
   "cell_type": "markdown",
   "metadata": {},
   "source": [
    "### Clean up object\n",
    "\n",
    "- Remove unnecessary fields in `adata.obs` and `adata.var`\n",
    "- Remove `adata.obsm`, `adata.varm` "
   ]
  },
  {
   "cell_type": "code",
   "execution_count": 5,
   "metadata": {},
   "outputs": [
    {
     "data": {
      "text/plain": [
       "AnnData object with n_obs × n_vars = 38989 × 15744\n",
       "    obs: 'domain_label', 'cell_states'"
      ]
     },
     "execution_count": 5,
     "metadata": {},
     "output_type": "execute_result"
    }
   ],
   "source": [
    "lv_ref.obs = lv_ref.obs[['domain_label', 'cell_states']]\n",
    "lv_ref"
   ]
  },
  {
   "cell_type": "markdown",
   "metadata": {},
   "source": [
    "### Export object"
   ]
  },
  {
   "cell_type": "code",
   "execution_count": 6,
   "metadata": {},
   "outputs": [],
   "source": [
    "lv_ref.write('/home/cartalop/data/carlos/single_cell/heart/regions/RA/HHH_RA_Litvinukova20_ctl230114.raw.h5ad')"
   ]
  },
  {
   "cell_type": "code",
   "execution_count": null,
   "metadata": {},
   "outputs": [],
   "source": []
  }
 ],
 "metadata": {
  "kernelspec": {
   "display_name": "Python 3.9.15 ('c2l')",
   "language": "python",
   "name": "python3"
  },
  "language_info": {
   "codemirror_mode": {
    "name": "ipython",
    "version": 3
   },
   "file_extension": ".py",
   "mimetype": "text/x-python",
   "name": "python",
   "nbconvert_exporter": "python",
   "pygments_lexer": "ipython3",
   "version": "3.9.15"
  },
  "orig_nbformat": 4,
  "vscode": {
   "interpreter": {
    "hash": "fd4b892b01f07bad170b31262f36a4de73ba248f537c6b11b8c21c33219b2ca5"
   }
  }
 },
 "nbformat": 4,
 "nbformat_minor": 2
}
