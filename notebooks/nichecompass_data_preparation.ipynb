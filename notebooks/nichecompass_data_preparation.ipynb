{
 "cells": [
  {
   "cell_type": "markdown",
   "id": "1b1daabf-c8e3-43d4-aa32-9789abcc8619",
   "metadata": {},
   "source": [
    "# Data Preparation"
   ]
  },
  {
   "cell_type": "markdown",
   "id": "c325d921-2077-42b3-90a8-6f6c7dd928c5",
   "metadata": {},
   "source": [
    "- **Creator**: Sebastian Birk (<sebastian.birk@helmholtz-munich.de>).\n",
    "- **Affiliation:** Helmholtz Munich, Institute of Computational Biology (ICB), Talavera-López Lab\n",
    "- **Date of Creation:** 01.10.2022\n",
    "- **Date of Last Modification:** 15.07.2023"
   ]
  },
  {
   "cell_type": "markdown",
   "id": "2d464ebf-354f-4f61-8040-c3dcbcc893b9",
   "metadata": {},
   "source": [
    "## 1. Setup"
   ]
  },
  {
   "cell_type": "markdown",
   "id": "d5631277-d8d2-4194-a376-280f4f149b7d",
   "metadata": {},
   "source": [
    "### 1.1 Import Libraries"
   ]
  },
  {
   "cell_type": "code",
   "execution_count": 2,
   "id": "b4aa3c6a-5a44-4cf1-84a3-5e514457cf3c",
   "metadata": {
    "tags": []
   },
   "outputs": [],
   "source": [
    "import gc\n",
    "import os\n",
    "import warnings\n",
    "from copy import deepcopy\n",
    "\n",
    "import anndata as ad\n",
    "import cv2\n",
    "import matplotlib.pyplot as plt\n",
    "import numpy as np\n",
    "import pandas as pd\n",
    "import scanpy as sc\n",
    "import scipy.sparse as sp\n",
    "import seaborn as sns\n",
    "import squidpy as sq\n",
    "import tiledb\n",
    "import tiledbsoma"
   ]
  },
  {
   "cell_type": "markdown",
   "id": "3cea7a24-26b2-42f2-b838-06184da69605",
   "metadata": {},
   "source": [
    "### 1.2 Run Notebook Setup"
   ]
  },
  {
   "cell_type": "code",
   "execution_count": 3,
   "id": "f028fef3-abc1-483d-b29a-deb9674bcad1",
   "metadata": {
    "tags": []
   },
   "outputs": [],
   "source": [
    "warnings.filterwarnings(\"ignore\")"
   ]
  },
  {
   "cell_type": "markdown",
   "id": "2b886225-6b6d-433c-b117-47b9a8f8091f",
   "metadata": {},
   "source": [
    "### 1.3 Configure Paths and Create Directories"
   ]
  },
  {
   "cell_type": "code",
   "execution_count": 4,
   "id": "36675337-808d-40a9-93fc-d6cfa9473f66",
   "metadata": {
    "tags": []
   },
   "outputs": [],
   "source": [
    "# Define paths\n",
    "srt_data_folder_path = \"../datasets/srt_data\" # spatially resolved transcriptomics data\n",
    "srt_data_bronze_folder_path = f\"{srt_data_folder_path}/bronze\"\n",
    "srt_data_silver_folder_path = f\"{srt_data_folder_path}/silver\"\n",
    "srt_data_gold_folder_path = f\"{srt_data_folder_path}/gold\"\n",
    "\n",
    "# Create required directories\n",
    "os.makedirs(srt_data_bronze_folder_path, exist_ok=True)\n",
    "os.makedirs(srt_data_silver_folder_path, exist_ok=True)\n",
    "os.makedirs(srt_data_gold_folder_path, exist_ok=True)"
   ]
  },
  {
   "cell_type": "markdown",
   "id": "fd883193-8aa9-4809-aeac-cacb478df22b",
   "metadata": {
    "tags": []
   },
   "source": [
    "## 2. Manuscript Data"
   ]
  },
  {
   "cell_type": "markdown",
   "id": "c4a459db-03da-47cf-9b79-a39dc78dc61a",
   "metadata": {},
   "source": [
    "This sections contains all datasets used for the manuscript."
   ]
  },
  {
   "cell_type": "markdown",
   "id": "049f6853-5dc1-4b68-9240-c4b6a00f1514",
   "metadata": {},
   "source": [
    "### 2.1 seqFISH Mouse Organogenesis"
   ]
  },
  {
   "cell_type": "markdown",
   "id": "aba6be87-ec43-4e56-b4b5-4fe2b45f19e1",
   "metadata": {},
   "source": [
    "- **Publication:** Lohoff, T. et al. Integration of spatial and single-cell transcriptomic data elucidates mouse organogenesis. Nat. Biotechnol. 40, 74–85 (2022): https://www.nature.com/articles/s41587-021-01006-2.\n",
    "- **Data Access:** https://marionilab.cruk.cam.ac.uk/SpatialMouseAtlas/\n",
    "    - Three embryos with two sections each can be downloaded\n",
    "    - The two sections can be combined horizontally to get three datasets, one for each embryo\n",
    "- **Data Structure:**\n",
    "    - ```\n",
    "         ├── ../datasets/srt_data/bronze/seqfish_mouse_organogenesis  \n",
    "         │  ├── metadata.Rds (metadata)\n",
    "         │  ├── counts.Rds (raw counts)\n",
    "         │  ├── exprs.Rds (log normalized counts)\n",
    "         │  ├── imputed.h5 (imputed gene expression)\n",
    "         │  ├── imputed_row_names.Rds (row names of imputed gene expression)\n",
    "         │  ├── imputed_column_names.Rds (column names of imputed gene expression)\n",
    "         ├── ../datasets/srt_data/silver\n",
    "         │  ├── seqfish_mouse_organogenesis.h5ad (preprocessed gene expression)\n",
    "         │  ├── seqfish_mouse_organogenesis_imputed.h5ad (preprocessed imputed gene expression)\n",
    "      ```\n",
    "- **Summary:**\n",
    "    - Sagittal tissue sections of three 8-12 somite stage mouse embryos\n",
    "    - 19,451 observations (embryo 1), 14,891 observations (embryo 2) and 23,194 observations (embryo 3) on cell-level with cell-type annotations\n",
    "    - 351 probed genes\n",
    "    - Dataset is also available with imputed genes based on scRNA-seq"
   ]
  },
  {
   "cell_type": "code",
   "execution_count": null,
   "id": "1c00df1b-c23e-4f56-8513-55b5c0b5b104",
   "metadata": {
    "tags": []
   },
   "outputs": [],
   "source": [
    "dataset = \"seqfish_mouse_organogenesis\"\n",
    "cell_type_key = \"celltype_mapped_refined\""
   ]
  },
  {
   "cell_type": "markdown",
   "id": "1e290463-4e20-40cb-9245-cdb3b089cad3",
   "metadata": {},
   "source": [
    "#### 2.1.1 Load & Preprocess Raw Data"
   ]
  },
  {
   "cell_type": "markdown",
   "id": "f9dbeda2-8d82-4b1d-bfab-c2ef698d9aaa",
   "metadata": {},
   "source": [
    "##### 2.1.1.1 Spatial Transcriptomics Data"
   ]
  },
  {
   "cell_type": "markdown",
   "id": "3a5a2a87-dbe6-4bd7-82ca-32f9a29189b4",
   "metadata": {},
   "source": [
    "Preprocessing is done with ```../scripts/seqfish_mouse_organogenesis_data_preparation.R``` and preprocessed version is stored under ```../datasets/srt_data/silver/seqfish_mouse_organogenesis.h5ad```."
   ]
  },
  {
   "cell_type": "code",
   "execution_count": null,
   "id": "ac246328-5be6-4c04-a3bf-8ccce8315856",
   "metadata": {
    "tags": []
   },
   "outputs": [],
   "source": [
    "# Read preprocessed data\n",
    "adata = sc.read_h5ad(f\"{srt_data_silver_folder_path}/{dataset}.h5ad\")\n",
    "\n",
    "# Filter low quality cells\n",
    "adata = adata[adata.obs[\"celltype_mapped_refined\"] != \"Low quality\"]\n",
    "\n",
    "# Format adata\n",
    "adata.obsm[\"spatial\"] = np.column_stack((adata.obs.x, adata.obs.y))\n",
    "adata.obs.drop([\"x\", \"y\"], axis=1, inplace=True)\n",
    "adata.X = adata.X.astype(np.float32)\n",
    "adata.layers[\"counts\"] = adata.layers[\"counts\"].astype(np.float32)\n",
    "\n",
    "# Add sample & batch columns\n",
    "adata.obs.loc[adata.obs.index.str.contains(\"embryo1\"), \"sample\"] = \"embryo1\"\n",
    "adata.obs.loc[adata.obs.index.str.contains(\"embryo2\"), \"sample\"] = \"embryo2\"\n",
    "adata.obs.loc[adata.obs.index.str.contains(\"embryo3\"), \"sample\"] = \"embryo3\"\n",
    "\n",
    "adata.obs.loc[adata.obs.index.str.startswith(\"embryo1\") &\n",
    "              adata.obs.index.str.endswith(\"z2\"), \"batch\"] = \"embryo1_z2\"\n",
    "adata.obs.loc[adata.obs.index.str.startswith(\"embryo1\") &\n",
    "              adata.obs.index.str.endswith(\"z5\"), \"batch\"] = \"embryo1_z5\"\n",
    "adata.obs.loc[adata.obs.index.str.startswith(\"embryo2\") &\n",
    "              adata.obs.index.str.endswith(\"z2\"), \"batch\"] = \"embryo2_z2\"\n",
    "adata.obs.loc[adata.obs.index.str.startswith(\"embryo2\") &\n",
    "              adata.obs.index.str.endswith(\"z5\"), \"batch\"] = \"embryo2_z5\"\n",
    "adata.obs.loc[adata.obs.index.str.startswith(\"embryo3\") &\n",
    "              adata.obs.index.str.endswith(\"z2\"), \"batch\"] = \"embryo3_z2\"\n",
    "adata.obs.loc[adata.obs.index.str.startswith(\"embryo3\") &\n",
    "              adata.obs.index.str.endswith(\"z5\"), \"batch\"] = \"embryo3_z5\"\n",
    "\n",
    "# Write adata to disk separated by batches\n",
    "batch_indeces = list(np.arange(6) + 1)\n",
    "batches = [\"embryo1_z2\",\n",
    "           \"embryo1_z5\",\n",
    "           \"embryo2_z2\",\n",
    "           \"embryo2_z5\",\n",
    "           \"embryo3_z2\",\n",
    "           \"embryo3_z5\"]\n",
    "\n",
    "for batch_idx, batch in zip(batch_indeces, batches):\n",
    "    adata_batch = adata[adata.obs[\"batch\"] == batch]\n",
    "    adata_batch.write(f\"{srt_data_gold_folder_path}/{dataset}_batch{batch_idx}.h5ad\")\n",
    "    \n",
    "# Create adata for embryo 2 for single sample method benchmarking\n",
    "adata_embryo2 = adata[adata.obs[\"sample\"] == \"embryo2\"]\n",
    "adata_embryo2.write(f\"{srt_data_gold_folder_path}/{dataset}_embryo2.h5ad\")"
   ]
  },
  {
   "cell_type": "markdown",
   "id": "cd81225a-1aca-428f-a7f0-3059d2771c67",
   "metadata": {},
   "source": [
    "##### 2.1.1.2 Spatial Transcriptomics Data Subsamples"
   ]
  },
  {
   "cell_type": "code",
   "execution_count": null,
   "id": "e56e3bd2-bce1-4647-9418-016d724f804e",
   "metadata": {},
   "outputs": [],
   "source": [
    "# Create subsamples of all batches for method benchmarking\n",
    "for subsample_pct in [50, 25, 10, 5, 1]:\n",
    "    # Read preprocessed data\n",
    "    adata = sc.read_h5ad(f\"{srt_data_silver_folder_path}/{dataset}.h5ad\")\n",
    "\n",
    "    # Filter low quality cells\n",
    "    adata = adata[adata.obs[\"celltype_mapped_refined\"] != \"Low quality\"]\n",
    "\n",
    "    # Format adata\n",
    "    adata.obsm[\"spatial\"] = np.column_stack((adata.obs.x, adata.obs.y))\n",
    "    adata.obs.drop([\"x\", \"y\"], axis=1, inplace=True)\n",
    "    adata.X = adata.X.astype(np.float32)\n",
    "    adata.layers[\"counts\"] = adata.layers[\"counts\"].astype(np.float32)\n",
    "\n",
    "    # Add sample & batch columns\n",
    "    adata.obs.loc[adata.obs.index.str.contains(\"embryo1\"), \"sample\"] = \"embryo1\"\n",
    "    adata.obs.loc[adata.obs.index.str.contains(\"embryo2\"), \"sample\"] = \"embryo2\"\n",
    "    adata.obs.loc[adata.obs.index.str.contains(\"embryo3\"), \"sample\"] = \"embryo3\"\n",
    "\n",
    "    adata.obs.loc[adata.obs.index.str.startswith(\"embryo1\") &\n",
    "                  adata.obs.index.str.endswith(\"z2\"), \"batch\"] = \"embryo1_z2\"\n",
    "    adata.obs.loc[adata.obs.index.str.startswith(\"embryo1\") &\n",
    "                  adata.obs.index.str.endswith(\"z5\"), \"batch\"] = \"embryo1_z5\"\n",
    "    adata.obs.loc[adata.obs.index.str.startswith(\"embryo2\") &\n",
    "                  adata.obs.index.str.endswith(\"z2\"), \"batch\"] = \"embryo2_z2\"\n",
    "    adata.obs.loc[adata.obs.index.str.startswith(\"embryo2\") &\n",
    "                  adata.obs.index.str.endswith(\"z5\"), \"batch\"] = \"embryo2_z5\"\n",
    "    adata.obs.loc[adata.obs.index.str.startswith(\"embryo3\") &\n",
    "                  adata.obs.index.str.endswith(\"z2\"), \"batch\"] = \"embryo3_z2\"\n",
    "    adata.obs.loc[adata.obs.index.str.startswith(\"embryo3\") &\n",
    "                  adata.obs.index.str.endswith(\"z5\"), \"batch\"] = \"embryo3_z5\"\n",
    "\n",
    "    # Write adata to disk separated by batches\n",
    "    batch_indeces = list(np.arange(6) + 1)\n",
    "    batches = [\"embryo1_z2\",\n",
    "               \"embryo1_z5\",\n",
    "               \"embryo2_z2\",\n",
    "               \"embryo2_z5\",\n",
    "               \"embryo3_z2\",\n",
    "               \"embryo3_z5\"]\n",
    "\n",
    "    for batch_idx, batch in zip(batch_indeces, batches):\n",
    "        adata_batch = adata[adata.obs[\"batch\"] == batch]\n",
    "        adata_batch = adata_batch[:int(subsample_pct/100 * len(adata_batch)),:]\n",
    "        adata_batch.write(f\"{srt_data_gold_folder_path}/{dataset}_subsample_{subsample_pct}pct_batch{batch_idx}.h5ad\")\n",
    "        \n",
    "    # Create adata for embryo 2 for single sample method benchmarking\n",
    "    adata_embryo2 = adata[adata.obs[\"sample\"] == \"embryo2\"]\n",
    "    adata_embryo2.write(f\"{srt_data_gold_folder_path}/{dataset}_subsample_{subsample_pct}pct_embryo2.h5ad\")"
   ]
  },
  {
   "cell_type": "markdown",
   "id": "af62a6b1-6c7c-4487-8fc8-06aaac0bd58d",
   "metadata": {},
   "source": [
    "##### 2.1.1.3 Imputed Data"
   ]
  },
  {
   "cell_type": "code",
   "execution_count": null,
   "id": "7357f47e-2dca-4005-a88a-b71a9fc7ccf3",
   "metadata": {},
   "outputs": [],
   "source": [
    "# Retrieve genes to keep based on max imputed counts\n",
    "batch_indeces = [1, 2, 3, 4, 5, 6]\n",
    "adata = sc.read_h5ad(f\"{srt_data_gold_folder_path}/{dataset}_imputed_batch{batch_idx}.h5ad\")\n",
    "keep_var_names = set(adata.var_names.tolist())\n",
    "for batch_idx in batch_indeces:\n",
    "    adata = sc.read_h5ad(f\"../datasets/srt_data/gold/seqfish_mouse_organogenesis_imputed_batch{batch_idx}.h5ad\")\n",
    "    adata_filtered = adata[:, np.max(adata.layers[\"counts\"].toarray(), axis=0) < 141] # 141 was the max across all non-imputed datasets\n",
    "    keep_var_names = keep_var_names.intersection(set(adata_filtered.var_names.tolist()))\n",
    "\n",
    "# Read preprocessed imputed adata\n",
    "adata_imputed = sc.read_h5ad(f\"{srt_data_silver_folder_path}/{dataset}_imputed.h5ad\")\n",
    "\n",
    "# Filter low quality cells\n",
    "adata_imputed = adata_imputed[adata_imputed.obs[\"celltype_mapped_refined\"] != \"Low quality\"]\n",
    "\n",
    "# Filter genes\n",
    "adata_imputed = adata_imputed[:, adata_imputed.var_names.isin(list(keep_var_names))]\n",
    "\n",
    "# Format imputed adata and reverse log normalization\n",
    "adata_imputed.obsm[\"spatial\"] = np.column_stack((adata_imputed.obs.x, adata_imputed.obs.y))\n",
    "adata_imputed.obs.drop([\"x\", \"y\"], axis=1, inplace=True)\n",
    "adata_imputed.X = sp.csr_matrix(np.round((np.exp(adata_imputed.X.toarray()) - 1)))\n",
    "adata_imputed.X = adata_imputed.X.astype(np.float32)\n",
    "adata_imputed.layers[\"counts\"] = adata_imputed.X \n",
    "\n",
    "# Add sample & batch columns\n",
    "adata_imputed.obs.loc[adata_imputed.obs.index.str.contains(\"embryo1\"), \"sample\"] = \"embryo1\"\n",
    "adata_imputed.obs.loc[adata_imputed.obs.index.str.contains(\"embryo2\"), \"sample\"] = \"embryo2\"\n",
    "adata_imputed.obs.loc[adata_imputed.obs.index.str.contains(\"embryo3\"), \"sample\"] = \"embryo3\"\n",
    "\n",
    "adata_imputed.obs.loc[adata_imputed.obs.index.str.startswith(\"embryo1\") &\n",
    "                      adata_imputed.obs.index.str.endswith(\"z2\"), \"batch\"] = \"embryo1_z2\"\n",
    "adata_imputed.obs.loc[adata_imputed.obs.index.str.startswith(\"embryo1\") &\n",
    "                      adata_imputed.obs.index.str.endswith(\"z5\"), \"batch\"] = \"embryo1_z5\"\n",
    "adata_imputed.obs.loc[adata_imputed.obs.index.str.startswith(\"embryo2\") &\n",
    "                      adata_imputed.obs.index.str.endswith(\"z2\"), \"batch\"] = \"embryo2_z2\"\n",
    "adata_imputed.obs.loc[adata_imputed.obs.index.str.startswith(\"embryo2\") &\n",
    "                      adata_imputed.obs.index.str.endswith(\"z5\"), \"batch\"] = \"embryo2_z5\"\n",
    "adata_imputed.obs.loc[adata_imputed.obs.index.str.startswith(\"embryo3\") &\n",
    "                      adata_imputed.obs.index.str.endswith(\"z2\"), \"batch\"] = \"embryo3_z2\"\n",
    "adata_imputed.obs.loc[adata_imputed.obs.index.str.startswith(\"embryo3\") &\n",
    "                      adata_imputed.obs.index.str.endswith(\"z5\"), \"batch\"] = \"embryo3_z5\"\n",
    "\n",
    "# Write adata to disk separated by batches\n",
    "batch_indeces = list(np.arange(6) + 1)\n",
    "batches = [\"embryo1_z2\",\n",
    "           \"embryo1_z5\",\n",
    "           \"embryo2_z2\",\n",
    "           \"embryo2_z5\",\n",
    "           \"embryo3_z2\",\n",
    "           \"embryo3_z5\"]\n",
    "\n",
    "for batch_idx, batch in zip(batch_indeces, batches):\n",
    "    adata_imputed_batch = adata_imputed[adata_imputed.obs[\"batch\"] == batch]\n",
    "    adata_imputed_batch.write(f\"{srt_data_gold_folder_path}/{dataset}_imputed_batch{batch_idx}.h5ad\")"
   ]
  },
  {
   "cell_type": "raw",
   "id": "c95e43d5-6a33-416d-aa0d-0433eebd5516",
   "metadata": {},
   "source": [
    "sns.displot(list(adata_imputed_batch.layers[\"counts\"][:, :].toarray()[0]), binwidth=1)\n",
    "#plt.xlim(0, 100)\n",
    "#plt.ylim(0, 100)"
   ]
  },
  {
   "cell_type": "markdown",
   "id": "0a9e1309-a0cc-4bbf-8bc3-3a4250bdc164",
   "metadata": {},
   "source": [
    "#### 2.1.2 Explore Data"
   ]
  },
  {
   "cell_type": "markdown",
   "id": "360b48a1-3c00-4316-835a-d0b132cca215",
   "metadata": {},
   "source": [
    "##### 2.1.2.1 Spatial Transcriptomics Data"
   ]
  },
  {
   "cell_type": "code",
   "execution_count": null,
   "id": "b0c4b10f-1fe8-4316-a33f-5ccac2b1371c",
   "metadata": {},
   "outputs": [],
   "source": [
    "for batch_idx in batch_indeces:\n",
    "    adata = sc.read_h5ad(f\"{srt_data_gold_folder_path}/{dataset}_batch{batch_idx}.h5ad\")\n",
    "    \n",
    "    print(f\"Exploring dataset {dataset}_batch{batch_idx}.\")\n",
    "    print(f\"Number of nodes (cells): {adata.X.shape[0]}\")\n",
    "    print(f\"Number of node features (genes): {adata.X.shape[1]}\")\n",
    "\n",
    "    # Visualize cell-level annotated data in physical space\n",
    "    sq.pl.spatial_scatter(adata, color=cell_type_key, shape=None, figsize=(12, 12))        "
   ]
  },
  {
   "cell_type": "markdown",
   "id": "81c18f22-c692-45a2-9848-d1ea14f1038f",
   "metadata": {},
   "source": [
    "##### 2.1.2.2 Spatial Transcriptomics Data Subsamples"
   ]
  },
  {
   "cell_type": "code",
   "execution_count": null,
   "id": "d8c47236-d454-40a1-b853-8117cef05872",
   "metadata": {},
   "outputs": [],
   "source": [
    "for batch_idx in [1]:\n",
    "    for subsample_pct in [50, 25, 10, 5, 1]:\n",
    "        adata = sc.read_h5ad(f\"{srt_data_gold_folder_path}/{dataset}_subsample_{subsample_pct}pct_batch{batch_idx}.h5ad\")\n",
    "\n",
    "        print(f\"Exploring dataset {dataset}_batch{batch_idx}.\")\n",
    "        print(f\"Number of nodes (cells): {adata.X.shape[0]}\")\n",
    "        print(f\"Number of node features (genes): {adata.X.shape[1]}\")\n",
    "\n",
    "        # Visualize cell-level annotated data in physical space\n",
    "        sq.pl.spatial_scatter(adata, color=cell_type_key, shape=None, figsize=(12, 12))"
   ]
  },
  {
   "cell_type": "markdown",
   "id": "4db778ba-cf20-4023-9efe-7f47356da3be",
   "metadata": {},
   "source": [
    "##### 2.1.2.3 Imputed Data"
   ]
  },
  {
   "cell_type": "code",
   "execution_count": null,
   "id": "4aab388e-854b-4f2e-b062-a3cabd69dcbc",
   "metadata": {},
   "outputs": [],
   "source": [
    "for batch_idx in batch_indeces:\n",
    "    adata_imputed = sc.read_h5ad(f\"{srt_data_gold_folder_path}/{dataset}_imputed_batch{batch_idx}.h5ad\")\n",
    "    \n",
    "    print(f\"Exploring dataset {adata_imputed}_batch{batch_idx}.\")\n",
    "    print(f\"Number of nodes (cells): {adata_imputed.X.shape[0]}\")\n",
    "    print(f\"Number of node features (genes): {adata_imputed.X.shape[1]}\")\n",
    "\n",
    "    # Visualize cell-level annotated data in physical space\n",
    "    sq.pl.spatial_scatter(adata_imputed, color=cell_type_key, shape=None, figsize=(12, 12))        "
   ]
  },
  {
   "cell_type": "markdown",
   "id": "a4a1f984-33d9-4cd1-9cc0-e611b1cf2c56",
   "metadata": {},
   "source": [
    "### 2.2 STARmap PLUS Mouse Central Nervous System"
   ]
  },
  {
   "cell_type": "markdown",
   "id": "594f370d-c48c-43cc-9659-76b6c80242e5",
   "metadata": {},
   "source": [
    "- **Publication:** Shi, H. et al. Spatial Atlas of the Mouse Central Nervous System at Molecular Resolution. bioRxiv 2022.06.20.496914 (2022). [doi:10.1101/2022.06.20.496914](https://doi.org/10.1101/2022.06.20.496914)\n",
    "- **Data Access:** https://singlecell.broadinstitute.org/single_cell/study/SCP1830\n",
    "- **Data Structure:**\n",
    "    - ```\n",
    "         ├── ../datasets/srt_data/bronze/starmap_plus_mouse_cns  \n",
    "         │  ├── sagittal1raw_expression_pd.csv (gene expression)\n",
    "         │  ├── imputation_sagittal1.h5ad (imputed gene expression)\n",
    "         │  ├── sagittal1_spatial.csv (spatial coordinates)\n",
    "         │  ├── ...\n",
    "      ```\n",
    "- **Summary:**\n",
    "    - Individual Sample Method Benchmarking\n",
    "        - Sagittal section of mouse brain (batch1)\n",
    "        - 91,246 observations on cell level with cell type annotations\n",
    "        - 1022 genes\n",
    "    - Sample Integration Method Benchmarking\n",
    "        - batch1, ..., batch20\n",
    "        - x observations on cell level with cell type annotations\n",
    "        - 1022 genes    \n",
    "    - Analysis\n",
    "        - 20 transduced CNS tissue slices\n",
    "        - 1,091,527 observations on cell level with cell type annotations\n",
    "        - 11,844 imputed genes"
   ]
  },
  {
   "cell_type": "code",
   "execution_count": null,
   "id": "308b92d1-01a0-43fb-88a3-8a246511ea32",
   "metadata": {
    "tags": []
   },
   "outputs": [],
   "source": [
    "dataset = \"starmap_plus_mouse_cns\"\n",
    "cell_type_key = \"Main_molecular_cell_type\"\n",
    "starmap_plus_dir = f\"{srt_data_bronze_folder_path}/{dataset}/\""
   ]
  },
  {
   "cell_type": "markdown",
   "id": "689702ac-6fd9-49e5-b499-c413bbd1d5ae",
   "metadata": {},
   "source": [
    "#### 2.2.1 Load & Preprocess Raw Data"
   ]
  },
  {
   "cell_type": "markdown",
   "id": "394501b0-eefc-42f4-9309-d55c29d67f62",
   "metadata": {},
   "source": [
    "##### 2.2.1.1 Spatial Transcriptomics Data"
   ]
  },
  {
   "cell_type": "code",
   "execution_count": null,
   "id": "35a3340e-b722-4ebc-aa82-b56f60622d17",
   "metadata": {},
   "outputs": [],
   "source": [
    "batch_indeces = list(np.arange(20) + 1)\n",
    "batches = [\"sagittal1\",\n",
    "           \"sagittal2\",\n",
    "           \"sagittal3\",\n",
    "           \"spinalcord\",\n",
    "           \"well01OB\",\n",
    "           \"well01brain\",\n",
    "           \"well03\",\n",
    "           \"well04\",\n",
    "           \"well05\",\n",
    "           \"well06\",\n",
    "           \"well07\",\n",
    "           \"well08\",\n",
    "           \"well09\",\n",
    "           \"well10\",\n",
    "           \"well11\",\n",
    "           \"well1_5\",\n",
    "           \"well2_5\",\n",
    "           \"well3_5\",\n",
    "           \"well7_5\",\n",
    "           \"well10_5\"]\n",
    "\n",
    "for batch_idx, batch in zip(batch_indeces, batches):\n",
    "    print(f\"Loading, preprocessing and saving batch '{batch}'.\")\n",
    "    \n",
    "    # Read counts and change format\n",
    "    counts = pd.read_csv(starmap_plus_dir + f\"{batch}raw_expression_pd.csv\")\n",
    "    counts.set_index(\"GENE\", inplace=True)\n",
    "    counts = counts.T\n",
    "\n",
    "    # Read metadata and change format\n",
    "    metadata = pd.read_csv(starmap_plus_dir + f\"{batch}_spatial.csv\", skiprows=[1])\n",
    "    metadata.set_index(\"NAME\", inplace=True)\n",
    "\n",
    "    # Merge counts with metadata and store counts in `layers` and spatial coords in `obsm`\n",
    "    adata = ad.AnnData(counts, dtype=np.float32)\n",
    "    adata.obs = pd.merge(adata.obs, metadata, how=\"left\", left_index=True, right_index=True)\n",
    "    adata.obsm[\"spatial\"] = adata.obs[[\"X\", \"Y\"]].values / 1000 # smaller scale for plotting\n",
    "    adata.obs.drop(columns=[\"X\", \"Y\", \"Z\"], inplace=True)\n",
    "    adata.X = sp.csr_matrix(adata.X) # sparse row format\n",
    "    adata.layers[\"counts\"] = adata.X.copy()\n",
    "    \n",
    "    # Preprocess adata\n",
    "    sc.pp.normalize_total(adata, target_sum=1e4)\n",
    "    sc.pp.log1p(adata)\n",
    "    adata.obs[\"batch\"] = batch\n",
    "\n",
    "    # Store adata to disk\n",
    "    adata.write(f\"{srt_data_gold_folder_path}/{dataset}_batch{batch_idx}.h5ad\")"
   ]
  },
  {
   "cell_type": "markdown",
   "id": "c61221fe-6c6a-4e10-b67f-cefe889d28ec",
   "metadata": {},
   "source": [
    "##### 2.2.1.2 Spatial Transcriptomics Data Subsamples"
   ]
  },
  {
   "cell_type": "code",
   "execution_count": null,
   "id": "7e7541cc-ff3b-4af1-8651-fa96e53580e6",
   "metadata": {},
   "outputs": [],
   "source": [
    "# Create subsamples of all batches for method benchmarking\n",
    "for subsample_pct in [50, 25, 10, 5, 1]:\n",
    "    print(f\"Processing subsample {subsample_pct}pct...\")\n",
    "    batch_indeces = list(np.arange(20) + 1)\n",
    "    batches = [\"sagittal1\",\n",
    "               \"sagittal2\",\n",
    "               \"sagittal3\",\n",
    "               \"spinalcord\",\n",
    "               \"well01OB\",\n",
    "               \"well01brain\",\n",
    "               \"well03\",\n",
    "               \"well04\",\n",
    "               \"well05\",\n",
    "               \"well06\",\n",
    "               \"well07\",\n",
    "               \"well08\",\n",
    "               \"well09\",\n",
    "               \"well10\",\n",
    "               \"well11\",\n",
    "               \"well1_5\",\n",
    "               \"well2_5\",\n",
    "               \"well3_5\",\n",
    "               \"well7_5\",\n",
    "               \"well10_5\"]\n",
    "\n",
    "    for batch_idx, batch in zip(batch_indeces, batches):\n",
    "        print(f\"Loading, preprocessing and saving batch '{batch}'.\")\n",
    "\n",
    "        # Read counts and change format\n",
    "        counts = pd.read_csv(starmap_plus_dir + f\"{batch}raw_expression_pd.csv\")\n",
    "        counts.set_index(\"GENE\", inplace=True)\n",
    "        counts = counts.T\n",
    "\n",
    "        # Read metadata and change format\n",
    "        metadata = pd.read_csv(starmap_plus_dir + f\"{batch}_spatial.csv\", skiprows=[1])\n",
    "        metadata.set_index(\"NAME\", inplace=True)\n",
    "\n",
    "        # Merge counts with metadata and store counts in `layers` and spatial coords in `obsm`\n",
    "        adata = ad.AnnData(counts, dtype=np.float32)\n",
    "        adata.obs = pd.merge(adata.obs, metadata, how=\"left\", left_index=True, right_index=True)\n",
    "        adata.obsm[\"spatial\"] = adata.obs[[\"X\", \"Y\"]].values / 1000 # smaller scale for plotting\n",
    "        adata.obs.drop(columns=[\"X\", \"Y\", \"Z\"], inplace=True)\n",
    "        adata.X = sp.csr_matrix(adata.X) # sparse row format\n",
    "        adata.layers[\"counts\"] = adata.X.copy()\n",
    "\n",
    "        # Preprocess adata\n",
    "        sc.pp.normalize_total(adata, target_sum=1e4)\n",
    "        sc.pp.log1p(adata)\n",
    "        adata.obs[\"batch\"] = batch\n",
    "        adata = adata[:int(subsample_pct/100 * len(adata)),:]\n",
    "\n",
    "        # Store adata to disk\n",
    "        adata.write(f\"{srt_data_gold_folder_path}/{dataset}_subsample_{subsample_pct}pct_batch{batch_idx}.h5ad\")"
   ]
  },
  {
   "cell_type": "markdown",
   "id": "6accf9aa-f769-4b92-91ce-22d49c1d5ee2",
   "metadata": {},
   "source": [
    "##### 2.2.1.3 Imputed Data"
   ]
  },
  {
   "cell_type": "markdown",
   "id": "428334d4-bb89-4a7f-9839-4222e9805a67",
   "metadata": {},
   "source": [
    "This is not used in the manuscript."
   ]
  },
  {
   "cell_type": "code",
   "execution_count": null,
   "id": "4ccc29d1-ba95-472c-8a84-a82744a2f827",
   "metadata": {},
   "outputs": [],
   "source": [
    "batch_indeces = [1, 2, 3]\n",
    "batches = [\"sagittal1\", \"sagittal2\", \"sagittal3\"]\n",
    "for batch_idx, batch in zip(batch_indeces, batches):\n",
    "    print(f\"Loading, preprocessing and saving batch '{batch}'.\")    \n",
    "    \n",
    "    # Read adata\n",
    "    adata_imputed = sc.read_h5ad(starmap_plus_dir + f\"imputation_{batch}.h5ad\")\n",
    "\n",
    "    # Read metadata and change format\n",
    "    metadata = pd.read_csv(starmap_plus_dir + f\"{batch}_spatial.csv\", skiprows=[1])\n",
    "    metadata.set_index(\"NAME\", inplace=True)\n",
    "\n",
    "    # Merge adata with metadata\n",
    "    adata_imputed.obs = pd.merge(adata_imputed.obs,\n",
    "                                 metadata,\n",
    "                                 how=\"left\",\n",
    "                                 left_index=True,\n",
    "                                 right_index=True)\n",
    "    \n",
    "    # Format adata\n",
    "    adata_imputed.var_names = adata_imputed.var[\"Gene\"]\n",
    "    adata_imputed.X = adata_imputed.X.astype(np.float32)\n",
    "    adata_imputed.X = (\n",
    "        adata_imputed.X * np.array(adata_imputed.var[\"std\"])) # Undo std scaling of data with sc.pp.scale()\n",
    "    adata_imputed.X = (\n",
    "        adata_imputed.X + np.abs(np.array(adata_imputed.X.min(axis=0)))) # Undo mean scaling of data with sc.pp.scale()\n",
    "    \n",
    "    # Threshold gene expression values to create a sparse row matrix\n",
    "    adata = sc.read_h5ad(f\"{srt_data_gold_folder_path}/{dataset}_batch{batch_idx}.h5ad\")\n",
    "    avg_nnz_per_gene = round(adata.X.nnz / adata.X.shape[1]) \n",
    "    zero_threshs = np.partition(\n",
    "        adata_imputed.X, -avg_nnz_per_gene, axis=0)[-avg_nnz_per_gene,:] # threshhold based on the 'avg_nnz_per_gene'th\n",
    "                                                                         # largest value per gene to arrive at an equal nnz per gene\n",
    "    adata_imputed.X[adata_imputed.X < zero_threshs] = 0\n",
    "    adata_imputed.X = sp.csr_matrix(adata_imputed.X)\n",
    "    adata_imputed.var.drop(columns=[\"Gene\", \"mean\", \"std\"], inplace=True)\n",
    "    adata_imputed.obsm[\"spatial\"] = adata_imputed.obs[[\"X\", \"Y\"]].values / 1000 # smaller scale for plotting with squidpy\n",
    "    adata_imputed.obs.drop(columns=[\"X\", \"Y\", \"Z\"], inplace=True)\n",
    "    adata_imputed.obs[\"batch\"] = batch\n",
    "\n",
    "    # Store adata to disk\n",
    "    adata_imputed.write(f\"{srt_data_gold_folder_path}/{dataset}_imputed_batch{batch_idx}.h5ad\")"
   ]
  },
  {
   "cell_type": "markdown",
   "id": "a44d988f-3497-4e54-b3e0-83e01147c055",
   "metadata": {
    "tags": []
   },
   "source": [
    "#### 2.2.2 Explore Data"
   ]
  },
  {
   "cell_type": "markdown",
   "id": "e56054fc-7c6c-4d34-94c3-70c7d9dedd7e",
   "metadata": {},
   "source": [
    "##### 2.2.2.1 Spatial Transcriptomics Data"
   ]
  },
  {
   "cell_type": "code",
   "execution_count": null,
   "id": "0990d118-e053-487e-ab0b-2cadb961a26e",
   "metadata": {},
   "outputs": [],
   "source": [
    "batch_indeces = list(np.arange(20) + 1)\n",
    "for batch_idx in batch_indeces:\n",
    "    adata = sc.read_h5ad(f\"{srt_data_gold_folder_path}/{dataset}_batch{batch_idx}.h5ad\")\n",
    "    \n",
    "    print(f\"Exploring dataset {dataset}_batch{batch_idx}.\")\n",
    "    print(f\"Number of nodes (cells): {adata.X.shape[0]}\")\n",
    "    print(f\"Number of node features (genes): {adata.X.shape[1]}\")\n",
    "\n",
    "    # Visualize cell-level annotated data in physical space\n",
    "    sq.pl.spatial_scatter(adata, color=cell_type_key, shape=None, figsize=(12, 12))        "
   ]
  },
  {
   "cell_type": "markdown",
   "id": "b4555100-ff65-42aa-8fed-b804e14d2d87",
   "metadata": {},
   "source": [
    "##### 2.2.2.2 Spatial Transcriptomics Data Subsamples"
   ]
  },
  {
   "cell_type": "code",
   "execution_count": null,
   "id": "ad7b9067-19c3-4a9c-98da-afad5469e516",
   "metadata": {},
   "outputs": [],
   "source": [
    "for batch_idx in [1]:\n",
    "    for subsample_pct in [50, 25, 10, 5, 1]:\n",
    "        adata = sc.read_h5ad(f\"{srt_data_gold_folder_path}/{dataset}_subsample_{subsample_pct}pct_batch{batch_idx}.h5ad\")\n",
    "\n",
    "        print(f\"Exploring dataset {dataset}_batch{batch_idx}.\")\n",
    "        print(f\"Number of nodes (cells): {adata.X.shape[0]}\")\n",
    "        print(f\"Number of node features (genes): {adata.X.shape[1]}\")\n",
    "\n",
    "        # Visualize cell-level annotated data in physical space\n",
    "        sq.pl.spatial_scatter(adata, color=cell_type_key, shape=None, figsize=(12, 12))        "
   ]
  },
  {
   "cell_type": "markdown",
   "id": "add0d5a9-b50f-493c-b4ca-98f882222870",
   "metadata": {},
   "source": [
    "##### 2.2.2.3 Imputed Data"
   ]
  },
  {
   "cell_type": "code",
   "execution_count": null,
   "id": "8fb19ba7-267b-47dc-9118-c562b6986314",
   "metadata": {},
   "outputs": [],
   "source": [
    "batch_indeces = [1, 2, 3]\n",
    "for batch_idx in [1, 2, 3]:\n",
    "    adata = sc.read_h5ad(f\"{srt_data_gold_folder_path}/{dataset}_imputed_batch{batch_idx}.h5ad\")\n",
    "    \n",
    "    print(f\"Exploring dataset {dataset}_batch{batch_idx}.\")\n",
    "    print(f\"Number of nodes (cells): {adata.X.shape[0]}\")\n",
    "    print(f\"Number of node features (genes): {adata.X.shape[1]}\")\n",
    "\n",
    "    # Visualize cell-level annotated data in physical space\n",
    "    sq.pl.spatial_scatter(adata, color=cell_type_key, shape=None, figsize=(12, 12))        "
   ]
  },
  {
   "cell_type": "markdown",
   "id": "bbd28b88-ab14-4435-a8f9-5eac60e5aee4",
   "metadata": {},
   "source": [
    "### 2.3 Vizgen MERFISH Mouse Liver"
   ]
  },
  {
   "cell_type": "markdown",
   "id": "087dd137-7a00-452d-9bd8-8e756eafe276",
   "metadata": {},
   "source": [
    "- **Publication**: Vizgen MERFISH Mouse Liver Map January 2022\n",
    "- **Data Access:** https://info.vizgen.com/mouse-liver-access\n",
    "    - Animal 1 replicate 1 is used\n",
    "    - 2 animals with 2 replicates each can be downloaded\n",
    "- **Data Structure:**\n",
    "    - ```\n",
    "         ├── ../datasets/srt_data/bronze/vizgen_merfish_mouse_liver  \n",
    "         │  ├── cell_by_gene.csv (gene expression)\n",
    "         │  ├── cell_metadata.csv (metadata) \n",
    "      ```\n",
    "- **Preprocessing Vignette:** https://squidpy.readthedocs.io/en/latest/external_tutorials/tutorial_vizgen_mouse_liver.html\n",
    "- **Summary:**\n",
    "    - Liver tissue section of mouse liver map\n",
    "    - 367,335 observations on cell-level with cell-type annotations\n",
    "    - 347 probed genes"
   ]
  },
  {
   "cell_type": "code",
   "execution_count": null,
   "id": "59d6bb72-370e-4f1b-9406-6c31e1782d9b",
   "metadata": {},
   "outputs": [],
   "source": [
    "dataset = \"vizgen_merfish_mouse_liver\"\n",
    "cell_type_key = \"Cell_Type\"\n",
    "merfish_dir = f\"{srt_data_bronze_folder_path}/{dataset}/\""
   ]
  },
  {
   "cell_type": "markdown",
   "id": "bc950c28-3a34-4945-840b-2f6bbc782b05",
   "metadata": {},
   "source": [
    "#### 2.3.1 Load & Preprocess Raw Data"
   ]
  },
  {
   "cell_type": "markdown",
   "id": "43d10efc-78da-418f-9f94-02b6d15dd8e9",
   "metadata": {},
   "source": [
    "##### 2.3.1.1 ST Data"
   ]
  },
  {
   "cell_type": "code",
   "execution_count": null,
   "id": "7045fb56-fada-4fa1-aa37-6e89f7a52c22",
   "metadata": {},
   "outputs": [],
   "source": [
    "print(f\"Loading and preprocessing dataset '{dataset}'.\")\n",
    "    \n",
    "# Read adata from files\n",
    "adata = sq.read.vizgen(merfish_dir,\n",
    "                       counts_file=\"Liver1Slice1_cell_by_gene.csv\",\n",
    "                       meta_file=\"Liver1Slice1_cell_metadata.csv\")\n",
    "\n",
    "# Preprocess as per squidpy vignette\n",
    "adata.var_names_make_unique()\n",
    "adata.var[\"mt\"] = adata.var_names.str.startswith(\"mt-\")\n",
    "sc.pp.calculate_qc_metrics(adata, qc_vars=[\"mt\"],percent_top=(50, 100, 200, 300), inplace=True)\n",
    "sc.pp.filter_cells(adata, min_counts=50)\n",
    "sc.pp.filter_genes(adata, min_cells=10)\n",
    "\n",
    "# Store raw counts in `layers`\n",
    "adata.layers[\"counts\"] = adata.X.copy()\n",
    "\n",
    "# Store data to disk\n",
    "adata.write(f\"{srt_data_silver_folder_path}/{dataset}.h5ad\")\n",
    "\n",
    "# Determine cell annotation as per squidpy vignette\n",
    "sc.pp.normalize_total(adata, target_sum=1e4)\n",
    "sc.pp.log1p(adata)\n",
    "sc.pp.scale(adata, max_value=10)\n",
    "sc.tl.pca(adata, svd_solver=\"arpack\")\n",
    "sc.pp.neighbors(adata, n_neighbors=10, n_pcs=20)\n",
    "sc.tl.umap(adata)\n",
    "sc.tl.leiden(adata, resolution=1.5)\n",
    "\n",
    "sc.set_figure_params(figsize=(10,10))\n",
    "sc.pl.umap(adata, color=[\"leiden\"], size=5)\n",
    "\n",
    "gene_panel = \"https://static-content.springer.com/esm/art%3A10.1038%2Fs41421-021-00266-1/MediaObjects/41421_2021_266_MOESM1_ESM.xlsx\"\n",
    "df_ref_panel_ini = pd.read_excel(gene_panel, index_col=0)\n",
    "df_ref_panel = df_ref_panel_ini.iloc[1:,:1]\n",
    "df_ref_panel.index.name = None\n",
    "df_ref_panel.columns = [\"Function\"]\n",
    "\n",
    "# Assign marker gene metadata using reference dataset\n",
    "marker_genes = df_ref_panel[df_ref_panel[\"Function\"].str.contains(\"marker\")].index.tolist()\n",
    "\n",
    "meta_gene = deepcopy(adata.var)\n",
    "common_marker_genes = list(set(meta_gene.index.tolist()).intersection(marker_genes))\n",
    "meta_gene.loc[common_marker_genes, \"Markers\"] = df_ref_panel.loc[common_marker_genes, \"Function\"]\n",
    "meta_gene[\"Markers\"] = meta_gene[\"Markers\"].apply(lambda x: \"N.A.\" if \"marker\" not in str(x) else x)\n",
    "meta_gene[\"Markers\"].value_counts()\n",
    "\n",
    "ser_counts = adata.obs[\"leiden\"].value_counts()\n",
    "ser_counts.name = \"cell counts\"\n",
    "meta_leiden = pd.DataFrame(ser_counts)\n",
    "\n",
    "cat_name = \"leiden\"\n",
    "sig_leiden = pd.DataFrame(columns=adata.var_names, index=adata.obs[cat_name].cat.categories)\n",
    "for clust in adata.obs[cat_name].cat.categories:\n",
    "    sig_leiden.loc[clust] = adata[adata.obs[cat_name].isin([clust]),:].X.mean(0)\n",
    "sig_leiden = sig_leiden.transpose()\n",
    "leiden_clusters = [\"Leiden-\" + str(x) for x in sig_leiden.columns.tolist()]\n",
    "sig_leiden.columns = leiden_clusters\n",
    "meta_leiden.index = sig_leiden.columns.tolist()\n",
    "meta_leiden[\"leiden\"] = pd.Series(meta_leiden.index.tolist(), index=meta_leiden.index.tolist())\n",
    "\n",
    "meta_gene = pd.DataFrame(index=sig_leiden.index.tolist())\n",
    "meta_gene[\"info\"] = pd.Series(\"\", index=meta_gene.index.tolist())\n",
    "meta_gene[\"Markers\"] = pd.Series(\"N.A.\", index=sig_leiden.index.tolist())\n",
    "meta_gene.loc[common_marker_genes, \"Markers\"] = df_ref_panel.loc[common_marker_genes, \"Function\"]\n",
    "\n",
    "meta_leiden[\"Cell_Type\"] = pd.Series(\"N.A.\", index=meta_leiden.index.tolist())\n",
    "num_top_genes = 30\n",
    "for inst_cluster in sig_leiden.columns.tolist():\n",
    "    top_genes = sig_leiden[inst_cluster].sort_values(ascending=False).index.tolist()[:num_top_genes]\n",
    "\n",
    "    inst_ser = meta_gene.loc[top_genes, \"Markers\"]\n",
    "    inst_ser = inst_ser[inst_ser != \"N.A.\"]\n",
    "    ser_counts = inst_ser.value_counts()\n",
    "  \n",
    "    max_count = ser_counts.max()\n",
    "  \n",
    "    max_cat = \"_\".join(sorted(ser_counts[ser_counts == max_count].index.tolist()))\n",
    "    max_cat = max_cat.replace(\" marker\", \"\").replace(\" \", \"-\")\n",
    "  \n",
    "    print(inst_cluster, max_cat)\n",
    "    meta_leiden.loc[inst_cluster, \"Cell_Type\"] = max_cat\n",
    "\n",
    "# Rename clusters\n",
    "meta_leiden[\"name\"] = meta_leiden.apply(lambda x: x[\"Cell_Type\"] + \"_\" + x[\"leiden\"] , axis=1)\n",
    "leiden_names = meta_leiden[\"name\"].values.tolist()\n",
    "meta_leiden.index = leiden_names\n",
    "\n",
    "# Transfer cell type labels to single cells\n",
    "leiden_to_cell_type = deepcopy(meta_leiden)\n",
    "leiden_to_cell_type.set_index(\"leiden\", inplace=True)\n",
    "leiden_to_cell_type.index.name = None\n",
    "\n",
    "adata.obs[\"Cell_Type\"] = adata.obs[\"leiden\"].apply(lambda x: leiden_to_cell_type.loc[\"Leiden-\" + str(x), \"Cell_Type\"])\n",
    "adata.obs[\"Cluster\"] = adata.obs[\"leiden\"].apply(lambda x: leiden_to_cell_type.loc[\"Leiden-\" + str(x), \"name\"])\n",
    "\n",
    "adata_old = adata.copy()\n",
    "\n",
    "adata = ad.AnnData(sp.csr_matrix(adata_old.X))\n",
    "adata.obs_names = adata_old.obs_names\n",
    "adata.var_names = adata_old.var_names\n",
    "\n",
    "adata.layers[\"counts\"] = adata_old.layers[\"counts\"]\n",
    "adata.obsm[\"spatial\"] = adata_old.obsm[\"spatial\"]\n",
    "adata.obs[\"Cell_Type\"] = adata_old.obs[\"Cell_Type\"]\n",
    "\n",
    "# Remove negative probes\n",
    "adata = adata[:, ~adata.var_names.str.contains(\"Blank\")]\n",
    "\n",
    "adata.obs[\"batch\"] = \"animal1_z2\"\n",
    "\n",
    "# Store gene expression in sparse row format\n",
    "adata.layers[\"counts\"] = sp.csr_matrix(adata.layers[\"counts\"])\n",
    "\n",
    "# Add field of view\n",
    "adata.obs[\"fov\"] = adata_old.obs[\"fov\"].values\n",
    "\n",
    "# Store data to disk\n",
    "adata.write(f\"{srt_data_gold_folder_path}/{dataset}.h5ad\")"
   ]
  },
  {
   "cell_type": "markdown",
   "id": "af89d2b5-bfa2-4c10-839f-d094583159d1",
   "metadata": {},
   "source": [
    "##### 2.3.1.2 ST Data Subsamples"
   ]
  },
  {
   "cell_type": "code",
   "execution_count": null,
   "id": "5bf79989-cbd2-4996-bf0a-8c21da25b938",
   "metadata": {},
   "outputs": [],
   "source": [
    "# Create sample for non-scalable methods\n",
    "adata.obs[\"fov\"] = adata_old.obs[\"fov\"].values\n",
    "adata_sample = adata[(adata.obs[\"fov\"] <= 188)] # ~10% of the dataset\n",
    "\n",
    "# Store data to disk\n",
    "adata_sample.write(f\"{srt_data_gold_folder_path}/{dataset}_subsample_10pct.h5ad\")"
   ]
  },
  {
   "cell_type": "markdown",
   "id": "dd91825f-c1c1-48e8-9a78-71f01968e35b",
   "metadata": {},
   "source": [
    "#### 2.3.2 Explore Data"
   ]
  },
  {
   "cell_type": "markdown",
   "id": "8f3a8dd2-d130-4ecb-a5e8-dac4b3be4cb2",
   "metadata": {},
   "source": [
    "##### 2.3.2.1 ST Data"
   ]
  },
  {
   "cell_type": "code",
   "execution_count": null,
   "id": "e8076508-c483-45bf-87c3-5e39d3133fdd",
   "metadata": {},
   "outputs": [],
   "source": [
    "adata = sc.read_h5ad(f\"{srt_data_gold_folder_path}/{dataset}.h5ad\")\n",
    "    \n",
    "print(f\"Exploring dataset {dataset}.\")\n",
    "print(f\"Number of nodes (cells): {adata.X.shape[0]}\")\n",
    "print(f\"Number of node features (genes): {adata.X.shape[1]}\")\n",
    "\n",
    "# Visualize cell-level annotated data in physical space\n",
    "sq.pl.spatial_scatter(adata, color=cell_type_key, shape=None, figsize=(12, 12))        "
   ]
  },
  {
   "cell_type": "markdown",
   "id": "6d28c39d-836d-43be-8878-b3707d9d633c",
   "metadata": {},
   "source": [
    "##### 2.3.2.2 ST Data Subsamples"
   ]
  },
  {
   "cell_type": "code",
   "execution_count": null,
   "id": "b6451637-ebdc-4ae9-95cd-ac2bc69c112d",
   "metadata": {},
   "outputs": [],
   "source": [
    "adata = sc.read_h5ad(f\"{srt_data_gold_folder_path}/{dataset}_subsample_10pct.h5ad\")\n",
    "    \n",
    "print(f\"Exploring dataset {dataset}_subsample_10pct.\")\n",
    "print(f\"Number of nodes (cells): {adata.X.shape[0]}\")\n",
    "print(f\"Number of node features (genes): {adata.X.shape[1]}\")\n",
    "\n",
    "# Visualize cell-level annotated data in physical space\n",
    "sq.pl.spatial_scatter(adata, color=cell_type_key, shape=None, figsize=(12, 12))        "
   ]
  },
  {
   "cell_type": "markdown",
   "id": "b83910ed-7fe7-406e-8ad4-08a7618146c2",
   "metadata": {
    "tags": []
   },
   "source": [
    "### 2.4 nanoString CosMx SMI Human Non-Small-Cell Lung Cancer (NSCLC)"
   ]
  },
  {
   "cell_type": "markdown",
   "id": "0cd26830-d02e-46bc-ae6e-bfe085a88a53",
   "metadata": {},
   "source": [
    "- **Publication:** \n",
    "    - He, S. et al. High-plex imaging of RNA and proteins at subcellular resolution in fixed tissue by spatial molecular imaging. Nat. Biotechnol. 40, 1794–1806 (2022)\n",
    "    - Tang, Z., Zhang, T., Yang, B., Su, J. & Song, Q. SiGra: Single-cell spatial elucidation through image-augmented graph transformer. bioRxiv (2022). [doi:10.1101/2022.08.18.504464v1](https://www.biorxiv.org/content/10.1101/2022.08.18.504464v1)\n",
    "- **Data Access:** \n",
    "    - Annotated version from SiGra: https://purdue0-my.sharepoint.com/:f:/g/personal/tang385_purdue_edu/EoJcJv8OZHRIhLyplj5r1PABW-UQfD1p1YU00gAdZNeK7A?e=K3Mmqg (Lung 9 replicate 1)\n",
    "    - Unannotated version from original source: https://nanostring.com/products/cosmx-spatial-molecular-imager/ffpe-dataset/\n",
    "- **Data Structure**:\n",
    "    - ```\n",
    "         ├── ../datasets/srt_data/bronze/nanostring_cosmx_human_nsclc\n",
    "         │  └── raw         \n",
    "         │    └── Lung5_Rep1\n",
    "         │      └── Lung5_Rep1-Flat_files_and_images (unannotated data)\n",
    "         │    └── Lung5_Rep2\n",
    "         │      └── Lung5_Rep2-Flat_files_and_images (unannotated data)\n",
    "         │    └── Lung5_Rep3\n",
    "         │      └── Lung5_Rep3-Flat_files_and_images (unannotated data)\n",
    "         │    └── Lung6\n",
    "         │      └── Lung6-Flat_files_and_images (unannotated data)\n",
    "         │    └── Lung9_Rep1\n",
    "         │      └── Lung9_Rep1-Flat_files_and_images (unannotated data)\n",
    "         │    └── Lung9_Rep2\n",
    "         │      └── Lung9_Rep2-Flat_files_and_images (unannotated data)\n",
    "         │    └── Lung12\n",
    "         │      └── Lung12-Flat_files_and_images (unannotated data)\n",
    "         │    └── Lung13\n",
    "         │      └── Lung13-Flat_files_and_images (unannotated data)\n",
    "         │  └── sigra_preprocessed\n",
    "         │    └── Lung9_Rep1\n",
    "         │        ├── Lung9_Rep1_exprMat_file.csv (gene expression)\n",
    "         │        ├── matched_annotation_all.csv (cell annotations)\n",
    "         │          └── fov1  \n",
    "         │            ├── CellComposite_F001.jpg (histology image)\n",
    "         │          └── fov2  \n",
    "         │            ├── CellComposite_F002.jpg  \n",
    "         │          └── ...  \n",
    "         │          └── fov20  \n",
    "         │            ├── ...  \n",
    "      ```\n",
    "- **Summary:**\n",
    "    - 8 tissue sections of non-small-cell lung cancer of human from 5 patients\n",
    "        - 800,327 observations at cellular resolution without annotation\n",
    "        - 83,621 observations at cellular resolution with annotations\n",
    "    - 960 genes"
   ]
  },
  {
   "cell_type": "code",
   "execution_count": 5,
   "id": "0e467c02-cfaf-4d87-a2f7-367b3d2cbc7d",
   "metadata": {},
   "outputs": [],
   "source": [
    "dataset = \"nanostring_cosmx_human_nsclc\"\n",
    "cell_type_key = \"cell_type\""
   ]
  },
  {
   "cell_type": "markdown",
   "id": "bd29d85a-8c45-419c-beee-54aa8b8b395b",
   "metadata": {},
   "source": [
    "#### 2.4.1 Load & Preprocess Raw Data"
   ]
  },
  {
   "cell_type": "markdown",
   "id": "21963cd3-afba-4a65-b2f9-b15561dbcd33",
   "metadata": {},
   "source": [
    "##### 2.4.1.1 Annotated ST Data"
   ]
  },
  {
   "cell_type": "code",
   "execution_count": null,
   "id": "c3eaa49c-592e-4eba-b70e-37ea4b1d8ee7",
   "metadata": {},
   "outputs": [],
   "source": [
    "# Define field of views and images\n",
    "fovs = [\"fov1\", \"fov2\", \"fov3\", \"fov4\", \"fov5\",\n",
    "        \"fov6\", \"fov7\", \"fov8\", \"fov9\", \"fov10\",\n",
    "        \"fov11\", \"fov12\", \"fov13\", \"fov14\", \"fov15\",\n",
    "        \"fov16\", \"fov17\", \"fov18\", \"fov19\", \"fov20\"]\n",
    "\n",
    "imgs = [\"F001\", \"F002\", \"F003\", \"F004\", \"F005\",\n",
    "        \"F006\", \"F007\", \"F008\", \"F009\", \"F010\",\n",
    "        \"F011\", \"F012\", \"F013\", \"F014\", \"F015\",\n",
    "        \"F016\", \"F017\", \"F018\", \"F019\", \"F020\",]"
   ]
  },
  {
   "cell_type": "code",
   "execution_count": null,
   "id": "62be9aac-af99-46f7-8a9c-b97935e285d6",
   "metadata": {},
   "outputs": [],
   "source": [
    "nanostring_dir = f\"{srt_data_bronze_folder_path}/{dataset}/\""
   ]
  },
  {
   "cell_type": "code",
   "execution_count": null,
   "id": "29903edc-f389-4a18-862e-94d1e21cbc17",
   "metadata": {},
   "outputs": [],
   "source": [
    "def process_nanostring_cosmx_nsclc_data(fov, fov_id, img_id, coords=\"global\"):\n",
    "    # Read image\n",
    "    img_path = os.path.join(nanostring_dir + \"sigra_preprocessed/Lung9_Rep1\", fov_id, f\"CellComposite_{img_id}.jpg\")\n",
    "    img = cv2.imread(img_path)\n",
    "    height, width, c = img.shape\n",
    "\n",
    "    # Read gene expression counts and filter for current field of view\n",
    "    gene_expr = pd.read_csv(nanostring_dir + \"sigra_preprocessed/Lung9_Rep1/Lung9_Rep1_exprMat_file.csv\", delimiter=\",\")\n",
    "    gene_expr_fov1 = gene_expr[gene_expr[\"fov\"] == fov]\n",
    "    gene_expr_fov1 = gene_expr_fov1.drop(columns=[\"fov\"])\n",
    "    gene_expr_fov1 = gene_expr_fov1.set_index(\"cell_ID\")\n",
    "    idx = gene_expr_fov1.index\n",
    "\n",
    "    # Read annotations and filter for current field of view\n",
    "    annotation = pd.read_csv(nanostring_dir + \"sigra_preprocessed/Lung9_Rep1/matched_annotation_all.csv\")\n",
    "    annotation_fov1 = annotation[annotation[\"fov\"] == int(fov)]\n",
    "\n",
    "    # Define width and height for each image patch\n",
    "    w, h = 60, 60\n",
    "\n",
    "    # Get center of each cell and match to images\n",
    "    for i, row in annotation_fov1.iterrows():\n",
    "        cx, cy = float(annotation_fov1[\"CenterX_local_px\"][i]), float(annotation_fov1[\"CenterY_local_px\"][i])\n",
    "        annotation_fov1[\"CenterY_local_px\"][i] = height - float(annotation_fov1[\"CenterY_local_px\"][i])\n",
    "\n",
    "        if cx - w < 0 or cx + w > width or cy - h < 0 or cy + h > height:\n",
    "            annotation_fov1[\"cell_type\"][i] = np.nan\n",
    "    annotation_fov1 = annotation_fov1.set_index(\"cell_ID\").reindex(idx)\n",
    "\n",
    "    # If annotation is NaN, drop corresponding row in gene expression df\n",
    "    gene_expr_fov1[\"cell_type\"] = annotation_fov1[\"cell_type\"]\n",
    "    gene_expr_fov1[\"niche\"] = annotation_fov1[\"niche\"]\n",
    "    gene_expr_fov1 = gene_expr_fov1.dropna(axis=0, how=\"any\")\n",
    "    gene_expr_fov1 = gene_expr_fov1.drop(columns=[\"cell_type\", \"niche\"])\n",
    "\n",
    "    # Build adata\n",
    "    adata = ad.AnnData(gene_expr_fov1)\n",
    "    annotation_fov1.index = annotation_fov1.index.map(str)\n",
    "    adata.obs[\"cell_type\"] = annotation_fov1.loc[adata.obs_names, \"cell_type\"]\n",
    "    adata.obs[\"niche\"] = annotation_fov1.loc[adata.obs_names, \"niche\"]\n",
    "\n",
    "    adata.obs[\"cx\"] = annotation_fov1.loc[adata.obs_names, \"CenterX_local_px\"]\n",
    "    adata.obs[\"cy\"] = annotation_fov1.loc[adata.obs_names, \"CenterY_local_px\"]\n",
    "\n",
    "    adata.obs[\"cx_g\"] = annotation_fov1.loc[adata.obs_names, \"CenterX_global_px\"]\n",
    "    adata.obs[\"cy_g\"] = annotation_fov1.loc[adata.obs_names, \"CenterY_global_px\"]\n",
    "\n",
    "    # Store coordinates in 'adata.obsm'\n",
    "    if coords==\"local\":\n",
    "        df = pd.DataFrame(index=adata.obs.index)\n",
    "        df[\"cx\"] = adata.obs[\"cx\"] # local coordinate\n",
    "        df[\"cy\"] = adata.obs[\"cy\"] # local coordinate\n",
    "        adata.obsm[\"spatial\"] = df.to_numpy()\n",
    "\n",
    "    elif coords==\"global\":\n",
    "        df = pd.DataFrame(index=adata.obs.index)\n",
    "        df[\"cx_g\"] = adata.obs[\"cx_g\"]\n",
    "        df[\"cy_g\"] = adata.obs[\"cy_g\"]\n",
    "        adata.obsm[\"spatial\"] = df.to_numpy()\n",
    "\n",
    "    # Remove negative probes\n",
    "    adata = adata[:, ~adata.var_names.str.contains(\"NegPrb\")]\n",
    "\n",
    "    # Store counts in adata.layers\n",
    "    adata.X = adata.X.astype(np.float32)\n",
    "    adata.layers[\"counts\"] = adata.X.copy()\n",
    "    \n",
    "    adata.obs[\"batch\"] = \"lung9_rep1\"\n",
    "\n",
    "    adata.obs = adata.obs.drop(columns=[\"cx\", \"cy\", \"cx_g\", \"cy_g\"])\n",
    "    \n",
    "    return adata"
   ]
  },
  {
   "cell_type": "code",
   "execution_count": null,
   "id": "0911d87b-2ba7-4c16-a983-0a0a26eb973b",
   "metadata": {},
   "outputs": [],
   "source": [
    "# Preprocess all fovs and combine them\n",
    "adata_fov_list = []\n",
    "\n",
    "for fov, fov_id, img_id in zip(np.arange(1,21), fovs, imgs):\n",
    "    adata_fov = process_nanostring_cosmx_nsclc_data(fov, fov_id, img_id)\n",
    "    adata_fov_list.append(adata_fov)\n",
    "\n",
    "adata = ad.concat(adata_fov_list, join=\"inner\")"
   ]
  },
  {
   "cell_type": "code",
   "execution_count": null,
   "id": "5d94b7c9-4abc-4a83-83e9-8219b591585f",
   "metadata": {},
   "outputs": [],
   "source": [
    "# Store gene expression in sparse row format\n",
    "adata.X = sp.csr_matrix(adata.X)\n",
    "adata.layers[\"counts\"] = sp.csr_matrix(adata.layers[\"counts\"])\n",
    "\n",
    "# Store data to disk\n",
    "adata.write(f\"{srt_data_gold_folder_path}/{dataset}.h5ad\")"
   ]
  },
  {
   "cell_type": "markdown",
   "id": "afb1cbba-0126-45fc-8038-406c3338732f",
   "metadata": {},
   "source": [
    "##### 2.4.1.2 Annotated ST Data Subsamples"
   ]
  },
  {
   "cell_type": "code",
   "execution_count": null,
   "id": "fcb365fb-3667-4c88-a01d-42c87047976d",
   "metadata": {},
   "outputs": [],
   "source": [
    "# Create sample for non-scalable methods\n",
    "adata_sample = ad.concat(adata_fov_list[:4], join=\"inner\") # first fov that leads to >20% of the dataset\n",
    "\n",
    "# Store gene expression in sparse row format\n",
    "adata_sample.X = sp.csr_matrix(adata_sample.X)\n",
    "adata_sample.layers[\"counts\"] = sp.csr_matrix(adata_sample.layers[\"counts\"])\n",
    "\n",
    "# Store data to disk\n",
    "adata_sample.write(f\"{srt_data_gold_folder_path}/{dataset}_subsample_20pct.h5ad\")"
   ]
  },
  {
   "cell_type": "markdown",
   "id": "f5c723d0-f9b4-40db-8d34-f79398f6ca2e",
   "metadata": {},
   "source": [
    "##### 2.4.1.3 Original ST Data"
   ]
  },
  {
   "cell_type": "code",
   "execution_count": null,
   "id": "3ab43e3e-588f-4afe-8b22-58ae31a4e26a",
   "metadata": {},
   "outputs": [],
   "source": [
    "batches = [\"Lung5_Rep1\",\n",
    "           \"Lung5_Rep2\",\n",
    "           \"Lung5_Rep3\",\n",
    "           \"Lung6\",\n",
    "           \"Lung9_Rep1\",\n",
    "           \"Lung9_Rep2\",\n",
    "           \"Lung12\",\n",
    "           \"Lung13\"]\n",
    "\n",
    "annotation_df = pd.read_csv(f\"{srt_data_bronze_folder_path}/{dataset}/metadata_giotto.csv\", index_col=0)\n",
    "\n",
    "for batch_idx, batch in enumerate(batches):\n",
    "    gene_expr_df = pd.read_csv(f\"{srt_data_bronze_folder_path}/{dataset}/{batch}/{batch}-Flat_files_and_images/{batch}_exprMat_file.csv\")\n",
    "    metadata_df = pd.read_csv(f\"{srt_data_bronze_folder_path}/{dataset}/{batch}/{batch}-Flat_files_and_images/{batch}_metadata_file.csv\")\n",
    "\n",
    "    adata = ad.AnnData(gene_expr_df[gene_expr_df.columns.difference([\"fov\", \"cell_ID\"])].values,\n",
    "                       obs=gene_expr_df[[\"fov\", \"cell_ID\"]],\n",
    "                       dtype=\"float32\")\n",
    "    adata.var_names = gene_expr_df.columns.difference([\"fov\", \"cell_ID\"])\n",
    "    adata.obs[\"batch\"] = batch.lower()\n",
    "    \n",
    "    # Add spatial coordinates from metadata\n",
    "    adata.obs = pd.merge(adata.obs, metadata_df, on=[\"fov\", \"cell_ID\"], how=\"left\")\n",
    "    adata.obsm[\"spatial\"] = np.array(adata.obs[[\"CenterX_global_px\", \"CenterY_global_px\"]])\n",
    "    \n",
    "    # Drop obs without metadata\n",
    "    adata.obs.reset_index(drop=True, inplace=True)\n",
    "    adata = adata[adata.obs.index.isin(adata.obs.dropna().index), :].copy()\n",
    "    \n",
    "    # Add cell type annotations, remove cells without annotations, and make fov unique across batches\n",
    "    adata.obs[\"cell_ID\"] = f\"c_{batch_idx + 1}_\" + adata.obs[\"fov\"].astype(\"str\") + \"_\" + adata.obs[\"cell_ID\"].astype(\"str\")\n",
    "    adata.obs = pd.merge(adata.obs, annotation_df, on=\"cell_ID\", how=\"left\")\n",
    "    adata.obs[\"fov\"] = adata.obs[\"batch\"] + \"_\" + adata.obs[\"fov_x\"].astype(str)\n",
    "    adata.obs = adata.obs[[\"cell_ID\", \"patient\", \"batch\", \"fov\", \"cell_type\", \"niche\"]]\n",
    "    adata.obs.index = adata.obs.index.astype(str)\n",
    "    adata = adata[adata.obs.index.isin(adata.obs.dropna().index), :].copy()\n",
    "    adata.obs.reset_index(drop=True, inplace=True)\n",
    "    \n",
    "    # Convert cell type annotations to coarser resolution\n",
    "    adata.obs[\"cell_type_original\"] = adata.obs[\"cell_type\"].astype(str)\n",
    "    adata.obs.loc[adata.obs[\"cell_type_original\"].apply(\n",
    "        lambda x: \"T\" in x),\"cell_type\"] = \"NK/T cell\"\n",
    "    adata.obs.loc[adata.obs[\"cell_type_original\"].apply(\n",
    "        lambda x: \"tumor\" in x),\"cell_type\"] = \"tumor\"\n",
    "    adata.obs.loc[adata.obs[\"cell_type_original\"] == \"NK\",\"cell_type\"] = \"NK/T cell\"\n",
    "    adata.obs.loc[adata.obs[\"cell_type_original\"].apply(\n",
    "        lambda x: \"DC\" in x),\"cell_type\"] = \"DC\"\n",
    "    adata.obs.loc[(adata.obs[\"cell_type_original\"] == \"monocyte\") |\n",
    "                  (adata.obs[\"cell_type_original\"] == \"macrophage\") |\n",
    "                  (adata.obs[\"cell_type\"] == \"DC\"),\"cell_type\"] = \"myeloid\"\n",
    "    \n",
    "    # Remove negative probes\n",
    "    adata.var.index = adata.var.index.map(str)\n",
    "    adata = adata[:, ~adata.var_names.str.contains(\"NegPrb\")].copy()\n",
    "    \n",
    "    # Remove low quality cells\n",
    "    sc.pp.filter_cells(adata, min_counts=50)\n",
    "        \n",
    "    # Store gene expression in sparse format\n",
    "    adata.X = sp.csr_matrix(np.array(adata.X))\n",
    "    adata.layers[\"counts\"] = adata.X\n",
    "    \n",
    "    # Log normalize counts\n",
    "    sc.pp.normalize_total(adata, target_sum=1e4)\n",
    "    sc.pp.log1p(adata)\n",
    "    \n",
    "    adata.write(f\"{srt_data_gold_folder_path}/{dataset}_batch{batch_idx + 1}.h5ad\")"
   ]
  },
  {
   "cell_type": "code",
   "execution_count": null,
   "id": "8bb78a3d-4552-43ff-8ccb-120c6068985c",
   "metadata": {},
   "outputs": [],
   "source": [
    "annotation_df[\"fov_combined\"] = annotation_df[\"fov\"].astype(str) + annotation_df[\"Run_Tissue_name\"].astype(str)"
   ]
  },
  {
   "cell_type": "code",
   "execution_count": null,
   "id": "787af1b7-19cb-4da7-9463-7cab670f51d8",
   "metadata": {},
   "outputs": [],
   "source": [
    "annotation_df[\"fov_combined\"].nunique()"
   ]
  },
  {
   "cell_type": "code",
   "execution_count": null,
   "id": "7e305be2-27ce-4432-bee3-dc76fbe56447",
   "metadata": {},
   "outputs": [],
   "source": [
    "# Filter genes with strong fov effects\n",
    "batches = [\"Lung5_Rep1\",\n",
    "           \"Lung5_Rep2\",\n",
    "           \"Lung5_Rep3\",\n",
    "           \"Lung6\",\n",
    "           \"Lung9_Rep1\",\n",
    "           \"Lung9_Rep2\",\n",
    "           \"Lung12\",\n",
    "           \"Lung13\"]\n",
    "\n",
    "for batch_idx, batch in enumerate(batches):\n",
    "    adata = sc.read_h5ad(f\"{srt_data_gold_folder_path}/{dataset}_batch{batch_idx + 1}.h5ad\")\n",
    "\n",
    "    filter_genes = [\n",
    "        'AKT1', 'ANXA2', 'B2M', 'C1QC', 'CALM2', 'CD3E', 'CD63', 'CD74', 'CD81',\n",
    "        'CLDN4', 'COL1A1', 'COL3A1', 'COL6A1', 'COL6A2', 'COL9A2', 'CRP',\n",
    "        'CTNNB1', 'DCN', 'DUSP5', 'EIF5A', 'FKBP11', 'GLUL', 'GPNMB', 'GPX1',\n",
    "        'GSTP1', 'HLA-A', 'HLA-B', 'HLA-C', 'HLA-DRB5', 'HLA-E', 'HSP90AA1',\n",
    "        'HSP90AB1', 'HSP90B1', 'HSPA1A', 'HSPA1B', 'HSPB1', 'IFI27', 'IFITM3',\n",
    "        'IGFBP5', 'IGHG1', 'IGHG2', 'IGKC', 'ITGB8', 'JUN', 'JUNB', 'KRT14',\n",
    "        'KRT19', 'KRT8', 'MALAT1', 'MIF', 'MT2A', 'MZT2A', 'NDRG1', 'NEAT1',\n",
    "        'RPL21', 'RPL22', 'RPL32', 'RPL34', 'RPL37', 'S100A10', 'S100A4',\n",
    "        'S100A6', 'S100A9', 'SAT1', 'SERPINA1', 'SLPI', 'SOD2', 'SOX9',\n",
    "        'SQSTM1', 'TACSTD2', 'TAGLN', 'THBS2', 'TIMP1', 'TM4SF1', 'TUBB',\n",
    "        'TYK2', 'VEGFA']\n",
    "\n",
    "    gene_mask = [gene not in filter_genes for gene in adata.var_names]\n",
    "\n",
    "    adata = adata[:, gene_mask]\n",
    "    adata.write(f\"{srt_data_gold_folder_path}/{dataset}_filtered_batch{batch_idx + 1}.h5ad\")"
   ]
  },
  {
   "cell_type": "markdown",
   "id": "55a3095b-ff35-40c5-a389-d3112b8b5a36",
   "metadata": {},
   "source": [
    "##### 2.4.1.3 Original ST Data Subsamples"
   ]
  },
  {
   "cell_type": "code",
   "execution_count": 7,
   "id": "ef34c345-7b7f-4bcd-9233-1b97006bc99d",
   "metadata": {},
   "outputs": [
    {
     "name": "stdout",
     "output_type": "stream",
     "text": [
      "Processing subsample 50pct...\n",
      "Loading, preprocessing and saving batch 'Lung5_Rep1'.\n"
     ]
    },
    {
     "ename": "FileNotFoundError",
     "evalue": "[Errno 2] No such file or directory: '../datasets/srt_data/bronze/nanostring_cosmx_human_nsclc/Lung5_Rep1/Lung5_Rep1-Flat_files_and_images/Lung5_Rep1_exprMat_file.csv'",
     "output_type": "error",
     "traceback": [
      "\u001b[0;31m---------------------------------------------------------------------------\u001b[0m",
      "\u001b[0;31mFileNotFoundError\u001b[0m                         Traceback (most recent call last)",
      "Cell \u001b[0;32mIn[7], line 18\u001b[0m\n\u001b[1;32m     16\u001b[0m \u001b[38;5;28;01mfor\u001b[39;00m batch_idx, batch \u001b[38;5;129;01min\u001b[39;00m \u001b[38;5;28menumerate\u001b[39m(batches):\n\u001b[1;32m     17\u001b[0m     \u001b[38;5;28mprint\u001b[39m(\u001b[38;5;124mf\u001b[39m\u001b[38;5;124m\"\u001b[39m\u001b[38;5;124mLoading, preprocessing and saving batch \u001b[39m\u001b[38;5;124m'\u001b[39m\u001b[38;5;132;01m{\u001b[39;00mbatch\u001b[38;5;132;01m}\u001b[39;00m\u001b[38;5;124m'\u001b[39m\u001b[38;5;124m.\u001b[39m\u001b[38;5;124m\"\u001b[39m)\n\u001b[0;32m---> 18\u001b[0m     gene_expr_df \u001b[38;5;241m=\u001b[39m \u001b[43mpd\u001b[49m\u001b[38;5;241;43m.\u001b[39;49m\u001b[43mread_csv\u001b[49m\u001b[43m(\u001b[49m\u001b[38;5;124;43mf\u001b[39;49m\u001b[38;5;124;43m\"\u001b[39;49m\u001b[38;5;132;43;01m{\u001b[39;49;00m\u001b[43msrt_data_bronze_folder_path\u001b[49m\u001b[38;5;132;43;01m}\u001b[39;49;00m\u001b[38;5;124;43m/\u001b[39;49m\u001b[38;5;132;43;01m{\u001b[39;49;00m\u001b[43mdataset\u001b[49m\u001b[38;5;132;43;01m}\u001b[39;49;00m\u001b[38;5;124;43m/\u001b[39;49m\u001b[38;5;132;43;01m{\u001b[39;49;00m\u001b[43mbatch\u001b[49m\u001b[38;5;132;43;01m}\u001b[39;49;00m\u001b[38;5;124;43m/\u001b[39;49m\u001b[38;5;132;43;01m{\u001b[39;49;00m\u001b[43mbatch\u001b[49m\u001b[38;5;132;43;01m}\u001b[39;49;00m\u001b[38;5;124;43m-Flat_files_and_images/\u001b[39;49m\u001b[38;5;132;43;01m{\u001b[39;49;00m\u001b[43mbatch\u001b[49m\u001b[38;5;132;43;01m}\u001b[39;49;00m\u001b[38;5;124;43m_exprMat_file.csv\u001b[39;49m\u001b[38;5;124;43m\"\u001b[39;49m\u001b[43m)\u001b[49m\n\u001b[1;32m     19\u001b[0m     metadata_df \u001b[38;5;241m=\u001b[39m pd\u001b[38;5;241m.\u001b[39mread_csv(\u001b[38;5;124mf\u001b[39m\u001b[38;5;124m\"\u001b[39m\u001b[38;5;132;01m{\u001b[39;00msrt_data_bronze_folder_path\u001b[38;5;132;01m}\u001b[39;00m\u001b[38;5;124m/\u001b[39m\u001b[38;5;132;01m{\u001b[39;00mdataset\u001b[38;5;132;01m}\u001b[39;00m\u001b[38;5;124m/\u001b[39m\u001b[38;5;132;01m{\u001b[39;00mbatch\u001b[38;5;132;01m}\u001b[39;00m\u001b[38;5;124m/\u001b[39m\u001b[38;5;132;01m{\u001b[39;00mbatch\u001b[38;5;132;01m}\u001b[39;00m\u001b[38;5;124m-Flat_files_and_images/\u001b[39m\u001b[38;5;132;01m{\u001b[39;00mbatch\u001b[38;5;132;01m}\u001b[39;00m\u001b[38;5;124m_metadata_file.csv\u001b[39m\u001b[38;5;124m\"\u001b[39m)\n\u001b[1;32m     21\u001b[0m     adata \u001b[38;5;241m=\u001b[39m ad\u001b[38;5;241m.\u001b[39mAnnData(gene_expr_df[gene_expr_df\u001b[38;5;241m.\u001b[39mcolumns\u001b[38;5;241m.\u001b[39mdifference([\u001b[38;5;124m\"\u001b[39m\u001b[38;5;124mfov\u001b[39m\u001b[38;5;124m\"\u001b[39m, \u001b[38;5;124m\"\u001b[39m\u001b[38;5;124mcell_ID\u001b[39m\u001b[38;5;124m\"\u001b[39m])]\u001b[38;5;241m.\u001b[39mvalues,\n\u001b[1;32m     22\u001b[0m                        obs\u001b[38;5;241m=\u001b[39mgene_expr_df[[\u001b[38;5;124m\"\u001b[39m\u001b[38;5;124mfov\u001b[39m\u001b[38;5;124m\"\u001b[39m, \u001b[38;5;124m\"\u001b[39m\u001b[38;5;124mcell_ID\u001b[39m\u001b[38;5;124m\"\u001b[39m]],\n\u001b[1;32m     23\u001b[0m                        dtype\u001b[38;5;241m=\u001b[39m\u001b[38;5;124m\"\u001b[39m\u001b[38;5;124mfloat32\u001b[39m\u001b[38;5;124m\"\u001b[39m)\n",
      "File \u001b[0;32m~/miniconda3/envs/nichecompass-reproducibility/lib/python3.9/site-packages/pandas/util/_decorators.py:211\u001b[0m, in \u001b[0;36mdeprecate_kwarg.<locals>._deprecate_kwarg.<locals>.wrapper\u001b[0;34m(*args, **kwargs)\u001b[0m\n\u001b[1;32m    209\u001b[0m     \u001b[38;5;28;01melse\u001b[39;00m:\n\u001b[1;32m    210\u001b[0m         kwargs[new_arg_name] \u001b[38;5;241m=\u001b[39m new_arg_value\n\u001b[0;32m--> 211\u001b[0m \u001b[38;5;28;01mreturn\u001b[39;00m \u001b[43mfunc\u001b[49m\u001b[43m(\u001b[49m\u001b[38;5;241;43m*\u001b[39;49m\u001b[43margs\u001b[49m\u001b[43m,\u001b[49m\u001b[43m \u001b[49m\u001b[38;5;241;43m*\u001b[39;49m\u001b[38;5;241;43m*\u001b[39;49m\u001b[43mkwargs\u001b[49m\u001b[43m)\u001b[49m\n",
      "File \u001b[0;32m~/miniconda3/envs/nichecompass-reproducibility/lib/python3.9/site-packages/pandas/util/_decorators.py:331\u001b[0m, in \u001b[0;36mdeprecate_nonkeyword_arguments.<locals>.decorate.<locals>.wrapper\u001b[0;34m(*args, **kwargs)\u001b[0m\n\u001b[1;32m    325\u001b[0m \u001b[38;5;28;01mif\u001b[39;00m \u001b[38;5;28mlen\u001b[39m(args) \u001b[38;5;241m>\u001b[39m num_allow_args:\n\u001b[1;32m    326\u001b[0m     warnings\u001b[38;5;241m.\u001b[39mwarn(\n\u001b[1;32m    327\u001b[0m         msg\u001b[38;5;241m.\u001b[39mformat(arguments\u001b[38;5;241m=\u001b[39m_format_argument_list(allow_args)),\n\u001b[1;32m    328\u001b[0m         \u001b[38;5;167;01mFutureWarning\u001b[39;00m,\n\u001b[1;32m    329\u001b[0m         stacklevel\u001b[38;5;241m=\u001b[39mfind_stack_level(),\n\u001b[1;32m    330\u001b[0m     )\n\u001b[0;32m--> 331\u001b[0m \u001b[38;5;28;01mreturn\u001b[39;00m \u001b[43mfunc\u001b[49m\u001b[43m(\u001b[49m\u001b[38;5;241;43m*\u001b[39;49m\u001b[43margs\u001b[49m\u001b[43m,\u001b[49m\u001b[43m \u001b[49m\u001b[38;5;241;43m*\u001b[39;49m\u001b[38;5;241;43m*\u001b[39;49m\u001b[43mkwargs\u001b[49m\u001b[43m)\u001b[49m\n",
      "File \u001b[0;32m~/miniconda3/envs/nichecompass-reproducibility/lib/python3.9/site-packages/pandas/io/parsers/readers.py:950\u001b[0m, in \u001b[0;36mread_csv\u001b[0;34m(filepath_or_buffer, sep, delimiter, header, names, index_col, usecols, squeeze, prefix, mangle_dupe_cols, dtype, engine, converters, true_values, false_values, skipinitialspace, skiprows, skipfooter, nrows, na_values, keep_default_na, na_filter, verbose, skip_blank_lines, parse_dates, infer_datetime_format, keep_date_col, date_parser, dayfirst, cache_dates, iterator, chunksize, compression, thousands, decimal, lineterminator, quotechar, quoting, doublequote, escapechar, comment, encoding, encoding_errors, dialect, error_bad_lines, warn_bad_lines, on_bad_lines, delim_whitespace, low_memory, memory_map, float_precision, storage_options)\u001b[0m\n\u001b[1;32m    935\u001b[0m kwds_defaults \u001b[38;5;241m=\u001b[39m _refine_defaults_read(\n\u001b[1;32m    936\u001b[0m     dialect,\n\u001b[1;32m    937\u001b[0m     delimiter,\n\u001b[0;32m   (...)\u001b[0m\n\u001b[1;32m    946\u001b[0m     defaults\u001b[38;5;241m=\u001b[39m{\u001b[38;5;124m\"\u001b[39m\u001b[38;5;124mdelimiter\u001b[39m\u001b[38;5;124m\"\u001b[39m: \u001b[38;5;124m\"\u001b[39m\u001b[38;5;124m,\u001b[39m\u001b[38;5;124m\"\u001b[39m},\n\u001b[1;32m    947\u001b[0m )\n\u001b[1;32m    948\u001b[0m kwds\u001b[38;5;241m.\u001b[39mupdate(kwds_defaults)\n\u001b[0;32m--> 950\u001b[0m \u001b[38;5;28;01mreturn\u001b[39;00m \u001b[43m_read\u001b[49m\u001b[43m(\u001b[49m\u001b[43mfilepath_or_buffer\u001b[49m\u001b[43m,\u001b[49m\u001b[43m \u001b[49m\u001b[43mkwds\u001b[49m\u001b[43m)\u001b[49m\n",
      "File \u001b[0;32m~/miniconda3/envs/nichecompass-reproducibility/lib/python3.9/site-packages/pandas/io/parsers/readers.py:605\u001b[0m, in \u001b[0;36m_read\u001b[0;34m(filepath_or_buffer, kwds)\u001b[0m\n\u001b[1;32m    602\u001b[0m _validate_names(kwds\u001b[38;5;241m.\u001b[39mget(\u001b[38;5;124m\"\u001b[39m\u001b[38;5;124mnames\u001b[39m\u001b[38;5;124m\"\u001b[39m, \u001b[38;5;28;01mNone\u001b[39;00m))\n\u001b[1;32m    604\u001b[0m \u001b[38;5;66;03m# Create the parser.\u001b[39;00m\n\u001b[0;32m--> 605\u001b[0m parser \u001b[38;5;241m=\u001b[39m \u001b[43mTextFileReader\u001b[49m\u001b[43m(\u001b[49m\u001b[43mfilepath_or_buffer\u001b[49m\u001b[43m,\u001b[49m\u001b[43m \u001b[49m\u001b[38;5;241;43m*\u001b[39;49m\u001b[38;5;241;43m*\u001b[39;49m\u001b[43mkwds\u001b[49m\u001b[43m)\u001b[49m\n\u001b[1;32m    607\u001b[0m \u001b[38;5;28;01mif\u001b[39;00m chunksize \u001b[38;5;129;01mor\u001b[39;00m iterator:\n\u001b[1;32m    608\u001b[0m     \u001b[38;5;28;01mreturn\u001b[39;00m parser\n",
      "File \u001b[0;32m~/miniconda3/envs/nichecompass-reproducibility/lib/python3.9/site-packages/pandas/io/parsers/readers.py:1442\u001b[0m, in \u001b[0;36mTextFileReader.__init__\u001b[0;34m(self, f, engine, **kwds)\u001b[0m\n\u001b[1;32m   1439\u001b[0m     \u001b[38;5;28mself\u001b[39m\u001b[38;5;241m.\u001b[39moptions[\u001b[38;5;124m\"\u001b[39m\u001b[38;5;124mhas_index_names\u001b[39m\u001b[38;5;124m\"\u001b[39m] \u001b[38;5;241m=\u001b[39m kwds[\u001b[38;5;124m\"\u001b[39m\u001b[38;5;124mhas_index_names\u001b[39m\u001b[38;5;124m\"\u001b[39m]\n\u001b[1;32m   1441\u001b[0m \u001b[38;5;28mself\u001b[39m\u001b[38;5;241m.\u001b[39mhandles: IOHandles \u001b[38;5;241m|\u001b[39m \u001b[38;5;28;01mNone\u001b[39;00m \u001b[38;5;241m=\u001b[39m \u001b[38;5;28;01mNone\u001b[39;00m\n\u001b[0;32m-> 1442\u001b[0m \u001b[38;5;28mself\u001b[39m\u001b[38;5;241m.\u001b[39m_engine \u001b[38;5;241m=\u001b[39m \u001b[38;5;28;43mself\u001b[39;49m\u001b[38;5;241;43m.\u001b[39;49m\u001b[43m_make_engine\u001b[49m\u001b[43m(\u001b[49m\u001b[43mf\u001b[49m\u001b[43m,\u001b[49m\u001b[43m \u001b[49m\u001b[38;5;28;43mself\u001b[39;49m\u001b[38;5;241;43m.\u001b[39;49m\u001b[43mengine\u001b[49m\u001b[43m)\u001b[49m\n",
      "File \u001b[0;32m~/miniconda3/envs/nichecompass-reproducibility/lib/python3.9/site-packages/pandas/io/parsers/readers.py:1735\u001b[0m, in \u001b[0;36mTextFileReader._make_engine\u001b[0;34m(self, f, engine)\u001b[0m\n\u001b[1;32m   1733\u001b[0m     \u001b[38;5;28;01mif\u001b[39;00m \u001b[38;5;124m\"\u001b[39m\u001b[38;5;124mb\u001b[39m\u001b[38;5;124m\"\u001b[39m \u001b[38;5;129;01mnot\u001b[39;00m \u001b[38;5;129;01min\u001b[39;00m mode:\n\u001b[1;32m   1734\u001b[0m         mode \u001b[38;5;241m+\u001b[39m\u001b[38;5;241m=\u001b[39m \u001b[38;5;124m\"\u001b[39m\u001b[38;5;124mb\u001b[39m\u001b[38;5;124m\"\u001b[39m\n\u001b[0;32m-> 1735\u001b[0m \u001b[38;5;28mself\u001b[39m\u001b[38;5;241m.\u001b[39mhandles \u001b[38;5;241m=\u001b[39m \u001b[43mget_handle\u001b[49m\u001b[43m(\u001b[49m\n\u001b[1;32m   1736\u001b[0m \u001b[43m    \u001b[49m\u001b[43mf\u001b[49m\u001b[43m,\u001b[49m\n\u001b[1;32m   1737\u001b[0m \u001b[43m    \u001b[49m\u001b[43mmode\u001b[49m\u001b[43m,\u001b[49m\n\u001b[1;32m   1738\u001b[0m \u001b[43m    \u001b[49m\u001b[43mencoding\u001b[49m\u001b[38;5;241;43m=\u001b[39;49m\u001b[38;5;28;43mself\u001b[39;49m\u001b[38;5;241;43m.\u001b[39;49m\u001b[43moptions\u001b[49m\u001b[38;5;241;43m.\u001b[39;49m\u001b[43mget\u001b[49m\u001b[43m(\u001b[49m\u001b[38;5;124;43m\"\u001b[39;49m\u001b[38;5;124;43mencoding\u001b[39;49m\u001b[38;5;124;43m\"\u001b[39;49m\u001b[43m,\u001b[49m\u001b[43m \u001b[49m\u001b[38;5;28;43;01mNone\u001b[39;49;00m\u001b[43m)\u001b[49m\u001b[43m,\u001b[49m\n\u001b[1;32m   1739\u001b[0m \u001b[43m    \u001b[49m\u001b[43mcompression\u001b[49m\u001b[38;5;241;43m=\u001b[39;49m\u001b[38;5;28;43mself\u001b[39;49m\u001b[38;5;241;43m.\u001b[39;49m\u001b[43moptions\u001b[49m\u001b[38;5;241;43m.\u001b[39;49m\u001b[43mget\u001b[49m\u001b[43m(\u001b[49m\u001b[38;5;124;43m\"\u001b[39;49m\u001b[38;5;124;43mcompression\u001b[39;49m\u001b[38;5;124;43m\"\u001b[39;49m\u001b[43m,\u001b[49m\u001b[43m \u001b[49m\u001b[38;5;28;43;01mNone\u001b[39;49;00m\u001b[43m)\u001b[49m\u001b[43m,\u001b[49m\n\u001b[1;32m   1740\u001b[0m \u001b[43m    \u001b[49m\u001b[43mmemory_map\u001b[49m\u001b[38;5;241;43m=\u001b[39;49m\u001b[38;5;28;43mself\u001b[39;49m\u001b[38;5;241;43m.\u001b[39;49m\u001b[43moptions\u001b[49m\u001b[38;5;241;43m.\u001b[39;49m\u001b[43mget\u001b[49m\u001b[43m(\u001b[49m\u001b[38;5;124;43m\"\u001b[39;49m\u001b[38;5;124;43mmemory_map\u001b[39;49m\u001b[38;5;124;43m\"\u001b[39;49m\u001b[43m,\u001b[49m\u001b[43m \u001b[49m\u001b[38;5;28;43;01mFalse\u001b[39;49;00m\u001b[43m)\u001b[49m\u001b[43m,\u001b[49m\n\u001b[1;32m   1741\u001b[0m \u001b[43m    \u001b[49m\u001b[43mis_text\u001b[49m\u001b[38;5;241;43m=\u001b[39;49m\u001b[43mis_text\u001b[49m\u001b[43m,\u001b[49m\n\u001b[1;32m   1742\u001b[0m \u001b[43m    \u001b[49m\u001b[43merrors\u001b[49m\u001b[38;5;241;43m=\u001b[39;49m\u001b[38;5;28;43mself\u001b[39;49m\u001b[38;5;241;43m.\u001b[39;49m\u001b[43moptions\u001b[49m\u001b[38;5;241;43m.\u001b[39;49m\u001b[43mget\u001b[49m\u001b[43m(\u001b[49m\u001b[38;5;124;43m\"\u001b[39;49m\u001b[38;5;124;43mencoding_errors\u001b[39;49m\u001b[38;5;124;43m\"\u001b[39;49m\u001b[43m,\u001b[49m\u001b[43m \u001b[49m\u001b[38;5;124;43m\"\u001b[39;49m\u001b[38;5;124;43mstrict\u001b[39;49m\u001b[38;5;124;43m\"\u001b[39;49m\u001b[43m)\u001b[49m\u001b[43m,\u001b[49m\n\u001b[1;32m   1743\u001b[0m \u001b[43m    \u001b[49m\u001b[43mstorage_options\u001b[49m\u001b[38;5;241;43m=\u001b[39;49m\u001b[38;5;28;43mself\u001b[39;49m\u001b[38;5;241;43m.\u001b[39;49m\u001b[43moptions\u001b[49m\u001b[38;5;241;43m.\u001b[39;49m\u001b[43mget\u001b[49m\u001b[43m(\u001b[49m\u001b[38;5;124;43m\"\u001b[39;49m\u001b[38;5;124;43mstorage_options\u001b[39;49m\u001b[38;5;124;43m\"\u001b[39;49m\u001b[43m,\u001b[49m\u001b[43m \u001b[49m\u001b[38;5;28;43;01mNone\u001b[39;49;00m\u001b[43m)\u001b[49m\u001b[43m,\u001b[49m\n\u001b[1;32m   1744\u001b[0m \u001b[43m\u001b[49m\u001b[43m)\u001b[49m\n\u001b[1;32m   1745\u001b[0m \u001b[38;5;28;01massert\u001b[39;00m \u001b[38;5;28mself\u001b[39m\u001b[38;5;241m.\u001b[39mhandles \u001b[38;5;129;01mis\u001b[39;00m \u001b[38;5;129;01mnot\u001b[39;00m \u001b[38;5;28;01mNone\u001b[39;00m\n\u001b[1;32m   1746\u001b[0m f \u001b[38;5;241m=\u001b[39m \u001b[38;5;28mself\u001b[39m\u001b[38;5;241m.\u001b[39mhandles\u001b[38;5;241m.\u001b[39mhandle\n",
      "File \u001b[0;32m~/miniconda3/envs/nichecompass-reproducibility/lib/python3.9/site-packages/pandas/io/common.py:856\u001b[0m, in \u001b[0;36mget_handle\u001b[0;34m(path_or_buf, mode, encoding, compression, memory_map, is_text, errors, storage_options)\u001b[0m\n\u001b[1;32m    851\u001b[0m \u001b[38;5;28;01melif\u001b[39;00m \u001b[38;5;28misinstance\u001b[39m(handle, \u001b[38;5;28mstr\u001b[39m):\n\u001b[1;32m    852\u001b[0m     \u001b[38;5;66;03m# Check whether the filename is to be opened in binary mode.\u001b[39;00m\n\u001b[1;32m    853\u001b[0m     \u001b[38;5;66;03m# Binary mode does not support 'encoding' and 'newline'.\u001b[39;00m\n\u001b[1;32m    854\u001b[0m     \u001b[38;5;28;01mif\u001b[39;00m ioargs\u001b[38;5;241m.\u001b[39mencoding \u001b[38;5;129;01mand\u001b[39;00m \u001b[38;5;124m\"\u001b[39m\u001b[38;5;124mb\u001b[39m\u001b[38;5;124m\"\u001b[39m \u001b[38;5;129;01mnot\u001b[39;00m \u001b[38;5;129;01min\u001b[39;00m ioargs\u001b[38;5;241m.\u001b[39mmode:\n\u001b[1;32m    855\u001b[0m         \u001b[38;5;66;03m# Encoding\u001b[39;00m\n\u001b[0;32m--> 856\u001b[0m         handle \u001b[38;5;241m=\u001b[39m \u001b[38;5;28;43mopen\u001b[39;49m\u001b[43m(\u001b[49m\n\u001b[1;32m    857\u001b[0m \u001b[43m            \u001b[49m\u001b[43mhandle\u001b[49m\u001b[43m,\u001b[49m\n\u001b[1;32m    858\u001b[0m \u001b[43m            \u001b[49m\u001b[43mioargs\u001b[49m\u001b[38;5;241;43m.\u001b[39;49m\u001b[43mmode\u001b[49m\u001b[43m,\u001b[49m\n\u001b[1;32m    859\u001b[0m \u001b[43m            \u001b[49m\u001b[43mencoding\u001b[49m\u001b[38;5;241;43m=\u001b[39;49m\u001b[43mioargs\u001b[49m\u001b[38;5;241;43m.\u001b[39;49m\u001b[43mencoding\u001b[49m\u001b[43m,\u001b[49m\n\u001b[1;32m    860\u001b[0m \u001b[43m            \u001b[49m\u001b[43merrors\u001b[49m\u001b[38;5;241;43m=\u001b[39;49m\u001b[43merrors\u001b[49m\u001b[43m,\u001b[49m\n\u001b[1;32m    861\u001b[0m \u001b[43m            \u001b[49m\u001b[43mnewline\u001b[49m\u001b[38;5;241;43m=\u001b[39;49m\u001b[38;5;124;43m\"\u001b[39;49m\u001b[38;5;124;43m\"\u001b[39;49m\u001b[43m,\u001b[49m\n\u001b[1;32m    862\u001b[0m \u001b[43m        \u001b[49m\u001b[43m)\u001b[49m\n\u001b[1;32m    863\u001b[0m     \u001b[38;5;28;01melse\u001b[39;00m:\n\u001b[1;32m    864\u001b[0m         \u001b[38;5;66;03m# Binary mode\u001b[39;00m\n\u001b[1;32m    865\u001b[0m         handle \u001b[38;5;241m=\u001b[39m \u001b[38;5;28mopen\u001b[39m(handle, ioargs\u001b[38;5;241m.\u001b[39mmode)\n",
      "\u001b[0;31mFileNotFoundError\u001b[0m: [Errno 2] No such file or directory: '../datasets/srt_data/bronze/nanostring_cosmx_human_nsclc/Lung5_Rep1/Lung5_Rep1-Flat_files_and_images/Lung5_Rep1_exprMat_file.csv'"
     ]
    }
   ],
   "source": [
    "# Create subsamples of all batches for method benchmarking\n",
    "for subsample_pct in [50, 25, 10, 5, 1]:\n",
    "    print(f\"Processing subsample {subsample_pct}pct...\")\n",
    "    batch_indeces = list(np.arange(8) + 1)\n",
    "    batches = [\"Lung5_Rep1\",\n",
    "               \"Lung5_Rep2\",\n",
    "               \"Lung5_Rep3\",\n",
    "               \"Lung6\",\n",
    "               \"Lung9_Rep1\",\n",
    "               \"Lung9_Rep2\",\n",
    "               \"Lung12\",\n",
    "               \"Lung13\"]\n",
    "\n",
    "    annotation_df = pd.read_csv(f\"{srt_data_bronze_folder_path}/{dataset}/metadata_giotto.csv\", index_col=0)\n",
    "\n",
    "    for batch_idx, batch in enumerate(batches):\n",
    "        print(f\"Loading, preprocessing and saving batch '{batch}'.\")\n",
    "        gene_expr_df = pd.read_csv(f\"{srt_data_bronze_folder_path}/{dataset}/{batch}/{batch}-Flat_files_and_images/{batch}_exprMat_file.csv\")\n",
    "        metadata_df = pd.read_csv(f\"{srt_data_bronze_folder_path}/{dataset}/{batch}/{batch}-Flat_files_and_images/{batch}_metadata_file.csv\")\n",
    "\n",
    "        adata = ad.AnnData(gene_expr_df[gene_expr_df.columns.difference([\"fov\", \"cell_ID\"])].values,\n",
    "                           obs=gene_expr_df[[\"fov\", \"cell_ID\"]],\n",
    "                           dtype=\"float32\")\n",
    "        adata.var_names = gene_expr_df.columns.difference([\"fov\", \"cell_ID\"])\n",
    "        adata.obs[\"batch\"] = batch.lower()\n",
    "\n",
    "        # Add spatial coordinates from metadata\n",
    "        adata.obs = pd.merge(adata.obs, metadata_df, on=[\"fov\", \"cell_ID\"], how=\"left\")\n",
    "        adata.obsm[\"spatial\"] = np.array(adata.obs[[\"CenterX_global_px\", \"CenterY_global_px\"]])\n",
    "\n",
    "        # Drop obs without metadata\n",
    "        adata.obs.reset_index(drop=True, inplace=True)\n",
    "        adata = adata[adata.obs.index.isin(adata.obs.dropna().index), :].copy()\n",
    "\n",
    "        # Add cell type annotations, remove cells without annotations, and make fov unique across batches\n",
    "        adata.obs[\"cell_ID\"] = f\"c_{batch_idx + 1}_\" + adata.obs[\"fov\"].astype(\"str\") + \"_\" + adata.obs[\"cell_ID\"].astype(\"str\")\n",
    "        adata.obs = pd.merge(adata.obs, annotation_df, on=\"cell_ID\", how=\"left\")\n",
    "        adata.obs[\"fov\"] = adata.obs[\"batch\"] + \"_\" + adata.obs[\"fov_x\"].astype(str)\n",
    "        adata.obs = adata.obs[[\"cell_ID\", \"patient\", \"batch\", \"fov\", \"cell_type\", \"niche\"]]\n",
    "        adata.obs.index = adata.obs.index.astype(str)\n",
    "        adata = adata[adata.obs.index.isin(adata.obs.dropna().index), :].copy()\n",
    "        adata.obs.reset_index(drop=True, inplace=True)\n",
    "\n",
    "        # Convert cell type annotations to coarser resolution\n",
    "        adata.obs[\"cell_type_original\"] = adata.obs[\"cell_type\"].astype(str)\n",
    "        adata.obs.loc[adata.obs[\"cell_type_original\"].apply(\n",
    "            lambda x: \"T\" in x),\"cell_type\"] = \"NK/T cell\"\n",
    "        adata.obs.loc[adata.obs[\"cell_type_original\"].apply(\n",
    "            lambda x: \"tumor\" in x),\"cell_type\"] = \"tumor\"\n",
    "        adata.obs.loc[adata.obs[\"cell_type_original\"] == \"NK\",\"cell_type\"] = \"NK/T cell\"\n",
    "        adata.obs.loc[adata.obs[\"cell_type_original\"].apply(\n",
    "            lambda x: \"DC\" in x),\"cell_type\"] = \"DC\"\n",
    "        adata.obs.loc[(adata.obs[\"cell_type_original\"] == \"monocyte\") |\n",
    "                      (adata.obs[\"cell_type_original\"] == \"macrophage\") |\n",
    "                      (adata.obs[\"cell_type\"] == \"DC\"),\"cell_type\"] = \"myeloid\"\n",
    "\n",
    "        # Remove negative probes\n",
    "        adata.var.index = adata.var.index.map(str)\n",
    "        adata = adata[:, ~adata.var_names.str.contains(\"NegPrb\")].copy()\n",
    "\n",
    "        # Remove low quality cells\n",
    "        sc.pp.filter_cells(adata, min_counts=50)\n",
    "\n",
    "        # Store gene expression in sparse format\n",
    "        adata.X = sp.csr_matrix(np.array(adata.X))\n",
    "        adata.layers[\"counts\"] = adata.X\n",
    "\n",
    "        # Log normalize counts\n",
    "        sc.pp.normalize_total(adata, target_sum=1e4)\n",
    "        sc.pp.log1p(adata)\n",
    "\n",
    "        adata.write(f\"{srt_data_gold_folder_path}/{dataset}_subsample_{subsample_pct}pct_batch{batch_idx + 1}.h5ad\")"
   ]
  },
  {
   "cell_type": "markdown",
   "id": "d7823052-c708-4e1e-a942-8140c429f972",
   "metadata": {},
   "source": [
    "#### 2.4.2 Explore Data"
   ]
  },
  {
   "cell_type": "markdown",
   "id": "6470e1ee-857f-4d8a-899f-d9e64de798c8",
   "metadata": {},
   "source": [
    "##### 2.4.2.1 Annotated ST Data"
   ]
  },
  {
   "cell_type": "code",
   "execution_count": null,
   "id": "7fde8532-fe26-4f97-a5e7-136de869d99e",
   "metadata": {},
   "outputs": [],
   "source": [
    "adata = sc.read_h5ad(f\"{srt_data_gold_folder_path}/{dataset}.h5ad\")\n",
    "    \n",
    "print(f\"Exploring dataset {dataset}.\")\n",
    "print(f\"Number of nodes (cells): {adata.X.shape[0]}\")\n",
    "print(f\"Number of node features (genes): {adata.X.shape[1]}\")\n",
    "\n",
    "# Visualize cell-level annotated data in physical space\n",
    "sq.pl.spatial_scatter(adata, color=cell_type_key, shape=None, figsize=(12, 12))        "
   ]
  },
  {
   "cell_type": "markdown",
   "id": "d52d61c6-f7c4-428d-9064-33ffa36f3ecb",
   "metadata": {},
   "source": [
    "##### 2.4.2.2 Annotated ST Data Subsamples"
   ]
  },
  {
   "cell_type": "code",
   "execution_count": null,
   "id": "2c935054-93ea-4dd9-ac41-4ed9400b00cb",
   "metadata": {},
   "outputs": [],
   "source": [
    "adata = sc.read_h5ad(f\"{srt_data_gold_folder_path}/{dataset}_subsample_20pct.h5ad\")\n",
    "    \n",
    "print(f\"Exploring dataset {dataset}_subsample_20pct.\")\n",
    "print(f\"Number of nodes (cells): {adata.X.shape[0]}\")\n",
    "print(f\"Number of node features (genes): {adata.X.shape[1]}\")\n",
    "\n",
    "# Visualize cell-level annotated data in physical space\n",
    "sq.pl.spatial_scatter(adata, color=cell_type_key, shape=None, figsize=(12, 12))        "
   ]
  },
  {
   "cell_type": "markdown",
   "id": "676a3eaa-a3ca-4364-abc8-6d29e6518546",
   "metadata": {},
   "source": [
    "##### 2.4.2.3 Original ST Data"
   ]
  },
  {
   "cell_type": "code",
   "execution_count": null,
   "id": "0978bc30-521a-49b2-8594-6070043be7bc",
   "metadata": {},
   "outputs": [],
   "source": [
    "batch_indeces = list(np.arange(8) + 1)\n",
    "for batch_idx in batch_indeces:\n",
    "    adata = sc.read_h5ad(f\"{srt_data_gold_folder_path}/{dataset}_batch{batch_idx}.h5ad\")\n",
    "    \n",
    "    print(f\"Exploring dataset {dataset}_batch{batch_idx}.\")\n",
    "    print(f\"Number of nodes (cells): {adata.X.shape[0]}\")\n",
    "    print(f\"Number of node features (genes): {adata.X.shape[1]}\")\n",
    "\n",
    "    # Visualize cell-level annotated data in physical space\n",
    "    sq.pl.spatial_scatter(adata, color=cell_type_key, shape=None, figsize=(12, 12))        "
   ]
  },
  {
   "cell_type": "markdown",
   "id": "d7ab5ef5-01b6-4dad-ac3f-87b08e7fcf1f",
   "metadata": {},
   "source": [
    "##### 2.4.2.4 Original ST Data Subsamples"
   ]
  },
  {
   "cell_type": "code",
   "execution_count": null,
   "id": "6488e602-b3cd-4d7c-b848-924c09303e3c",
   "metadata": {},
   "outputs": [],
   "source": [
    "for batch_idx in [1]:\n",
    "    for subsample_pct in [50, 25, 10, 5, 1]:\n",
    "        adata = sc.read_h5ad(f\"{srt_data_gold_folder_path}/{dataset}_subsample_{subsample_pct}pct_batch{batch_idx}.h5ad\")\n",
    "\n",
    "        print(f\"Exploring dataset {dataset}_batch{batch_idx}.\")\n",
    "        print(f\"Number of nodes (cells): {adata.X.shape[0]}\")\n",
    "        print(f\"Number of node features (genes): {adata.X.shape[1]}\")\n",
    "\n",
    "        # Visualize cell-level annotated data in physical space\n",
    "        sq.pl.spatial_scatter(adata, color=cell_type_key, shape=None, figsize=(12, 12))        "
   ]
  },
  {
   "cell_type": "markdown",
   "id": "cd90e9fa-986a-4a87-be6f-03941b3bd462",
   "metadata": {},
   "source": [
    "### 2.5 Slide-seqV2 Mouse Hippocampus"
   ]
  },
  {
   "cell_type": "markdown",
   "id": "ba1cf95d-6d3a-4c8f-807c-66950e2db396",
   "metadata": {},
   "source": [
    "- **Publication**: Stickels, R. R. et al. Highly sensitive spatial transcriptomics at near-cellular resolution with Slide-seqV2. Nat. Biotechnol. 39, 313–319 (2021). [doi:10.1038/s41587-020-0739-1](https://doi.org/10.1038/s41587-020-0739-1)\n",
    "- **Data Access:** Preprocessed version from squidpy API (original source https://singlecell.broadinstitute.org/single_cell/study/SCP815/highly-sensitive-spatial-transcriptomics-at-near-cellular-resolution-with-slide-seqv2)\n",
    "- **Summary:**\n",
    "    - Mouse hippocampus puck\n",
    "    - 41,786 observations on cell-level with cell-type annotations\n",
    "    - 4,000 probed genes"
   ]
  },
  {
   "cell_type": "code",
   "execution_count": null,
   "id": "161f1070-0a7e-4aea-a105-4442c0b34913",
   "metadata": {},
   "outputs": [],
   "source": [
    "dataset = \"slideseqv2_mouse_hippocampus\"\n",
    "cell_type_key = \"cell_type\""
   ]
  },
  {
   "cell_type": "markdown",
   "id": "4a0cf98c-2f69-49bc-8fd5-56594a41cd8a",
   "metadata": {},
   "source": [
    "#### 2.5.1 Load & Preprocess Raw Data"
   ]
  },
  {
   "cell_type": "markdown",
   "id": "86bc8c79-0f1c-466e-9b8e-c34e9af021ae",
   "metadata": {},
   "source": [
    "##### 2.5.1.1 Spatial Transcriptomics Data"
   ]
  },
  {
   "cell_type": "code",
   "execution_count": null,
   "id": "02081521-58dd-450a-a135-90a220b1eb42",
   "metadata": {},
   "outputs": [],
   "source": [
    "print(f\"Loading and preprocessing dataset '{dataset}'.\")\n",
    "\n",
    "# Retrieve adata from squidpy\n",
    "adata = sq.datasets.slideseqv2()\n",
    "\n",
    "# Create new adata to drop all unnecessary columns\n",
    "adata_new = sc.AnnData(sp.csr_matrix(\n",
    "    (adata.shape[0], adata.shape[1]),\n",
    "    dtype=np.float32))\n",
    "adata_new.X = adata.X\n",
    "adata_new.var_names = adata.var_names\n",
    "adata_new.obs_names = adata.obs_names\n",
    "adata_new.obsm[\"spatial\"] = adata.obsm[\"spatial\"]\n",
    "adata_new.obs[\"cell_type\"] = adata.obs[\"cluster\"].values\n",
    "\n",
    "# Store raw counts in adata.layers\n",
    "adata_new.layers[\"counts\"] = adata.raw[:, adata.raw.var_names.isin(adata.var_names)].X\n",
    "\n",
    "adata_new.obs[\"batch\"] = \"sample1\"\n",
    "\n",
    "# Store data to disk\n",
    "adata_new.write(f\"{srt_data_gold_folder_path}/{dataset}.h5ad\")"
   ]
  },
  {
   "cell_type": "markdown",
   "id": "8512672f-443f-4c7a-a203-3879e42a604e",
   "metadata": {},
   "source": [
    "##### 2.5.1.2 Spatial Transcriptomics Data Subsamples"
   ]
  },
  {
   "cell_type": "markdown",
   "id": "19e02c4e-91ac-4d81-b8b3-6f040715fefd",
   "metadata": {},
   "source": [
    "Data is not spatially ordered so we need to use coordinates to subsample."
   ]
  },
  {
   "cell_type": "code",
   "execution_count": null,
   "id": "fc3cff3a-ca22-4df9-8692-a402f5f8ea48",
   "metadata": {},
   "outputs": [],
   "source": [
    "y_diff_list = [1406, 1920, 2223, 2319, 2398] # 50%, 25%, 10%, 5%, 1%\n",
    "\n",
    "for i, subsample_pct in enumerate([50, 25, 10, 5, 1]):\n",
    "    y_max_sample = max(adata.obs.y) - y_diff_list[i]\n",
    "    y_min_sample = min(adata.obs.y) + y_diff_list[i]\n",
    "    adata_sample = adata[(adata.obs.y < y_max_sample) & (adata.obs.y > y_min_sample)]\n",
    "\n",
    "    # Create new adata to drop all unnecessary columns\n",
    "    adata_new_sample = sc.AnnData(sp.csr_matrix(\n",
    "        (adata_sample.shape[0], adata_sample.shape[1]),\n",
    "        dtype=np.float32))\n",
    "    adata_new_sample.X = adata_sample.X\n",
    "    adata_new_sample.var_names = adata_sample.var_names\n",
    "    adata_new_sample.obs_names = adata_sample.obs_names\n",
    "    adata_new_sample.obsm[\"spatial\"] = adata_sample.obsm[\"spatial\"]\n",
    "    adata_new_sample.obs[\"cell_type\"] = adata_sample.obs[\"cluster\"].values\n",
    "\n",
    "    # Store raw counts in adata.layers\n",
    "    adata_new_sample.layers[\"counts\"] = adata_sample.raw[\n",
    "        :, adata_sample.raw.var_names.isin(adata_sample.var_names)].X\n",
    "\n",
    "    adata_new_sample.obs[\"batch\"] = \"sample1\"\n",
    "\n",
    "    # Store data to disk\n",
    "    adata_new_sample.write(f\"{srt_data_gold_folder_path}/{dataset}_subsample_{subsample_pct}pct.h5ad\")"
   ]
  },
  {
   "cell_type": "markdown",
   "id": "aadb6e7f-d129-4975-a7fd-3257e274204e",
   "metadata": {
    "tags": []
   },
   "source": [
    "#### 2.5.2 Explore Data"
   ]
  },
  {
   "cell_type": "markdown",
   "id": "02f4e498-a5a6-4e9b-9369-0e008673662d",
   "metadata": {},
   "source": [
    "##### 2.5.2.1 Spatial Transcriptomics Data"
   ]
  },
  {
   "cell_type": "code",
   "execution_count": null,
   "id": "40289609-ee20-4349-aaeb-bf32a60ddad6",
   "metadata": {},
   "outputs": [],
   "source": [
    "adata = sc.read_h5ad(f\"{srt_data_gold_folder_path}/{dataset}.h5ad\")\n",
    "    \n",
    "print(f\"Exploring dataset {dataset}.\")\n",
    "print(f\"Number of nodes (cells): {adata.X.shape[0]}\")\n",
    "print(f\"Number of node features (genes): {adata.X.shape[1]}\")\n",
    "\n",
    "# Visualize cell-level annotated data in physical space\n",
    "sq.pl.spatial_scatter(adata, color=cell_type_key, shape=None, figsize=(12, 12))        "
   ]
  },
  {
   "cell_type": "markdown",
   "id": "434f2f94-4553-422a-a3b4-3d26ca06d1d7",
   "metadata": {},
   "source": [
    "##### 2.5.2.1 Spatial Transcriptomics Data Subsamples"
   ]
  },
  {
   "cell_type": "code",
   "execution_count": null,
   "id": "f205696e-555e-4a3d-8940-76a937bec759",
   "metadata": {},
   "outputs": [],
   "source": [
    "for subsample_pct in [50, 25, 10, 5, 1]:\n",
    "    adata = sc.read_h5ad(f\"{srt_data_gold_folder_path}/{dataset}_subsample_{subsample_pct}pct.h5ad\")\n",
    "\n",
    "    print(f\"Exploring dataset {dataset}_subsample_{subsample_pct}pct.\")\n",
    "    print(f\"Number of nodes (cells): {adata.X.shape[0]}\")\n",
    "    print(f\"Number of node features (genes): {adata.X.shape[1]}\")\n",
    "\n",
    "    # Visualize cell-level annotated data in physical space\n",
    "    sq.pl.spatial_scatter(adata, color=cell_type_key, shape=None, figsize=(12, 12))        "
   ]
  },
  {
   "cell_type": "markdown",
   "id": "165afaf2-a1ce-462d-8130-1d8cc8feae0a",
   "metadata": {
    "tags": []
   },
   "source": [
    "### 2.6 Spatial ATAC-RNA-Seq Mouse Embryo & Brain"
   ]
  },
  {
   "cell_type": "markdown",
   "id": "dd09ed6a-9cb9-41cc-8ed3-13b2900417af",
   "metadata": {},
   "source": [
    "- **Publication:** Zhang, D. et al. Spatial epigenome–transcriptome co-profiling of mammalian tissues. Nature 1–10 (2023): https://www.nature.com/articles/s41586-023-05795-1.\n",
    "- **Data Access:** \n",
    "    - ATAC fragments raw counts (not used), RNA-seq raw counts & spatial coordinates: https://www.ncbi.nlm.nih.gov/geo/query/acc.cgi?acc=GSE205055\n",
    "    - Cell labels & ATAC peaks raw counts: https://brain-spatial-omics.cells.ucsc.edu\n",
    "- **Data Structure:**\n",
    "    - ```\n",
    "         ├── ../datasets/srt_data/bronze\n",
    "         │  └── spatial_atac_rna_seq_mouse_embryo\n",
    "         │    ├── GSM6801813_ME13_50um_fragments.tsv.gz (E13 ATAC fragments raw counts; not used)\n",
    "         │    ├── GSM6799937_ME13_50um_matrix_merge.tsv.gz (E13 RNA-seq raw counts)    \n",
    "         │    ├── tissue_positions_list_e13.csv (E13 spatial coordinates)\n",
    "         │    ├── meta_e13.tsv (E13 metadata)\n",
    "         │  └── spatial_atac_rna_seq_mouse_brain\n",
    "         │    ├── GSM6204623_MouseBrain_20um_fragments.tsv.gz (P21 ATAC fragments raw counts; not used)\n",
    "         │    ├── GSM6204636_MouseBrain_20um_matrix.tsv.gz (P21 RNA-seq raw counts)\n",
    "         │    ├── GSM6758284_MouseBrain_20um_repATAC_fragments.tsv.gz (P21 replicate ATAC fragments raw counts; not used)\n",
    "         │    ├── GSM6753041_MouseBrain_20um_repATAC_matrix.tsv.gz (P21 replicate RNA-seq raw counts; not used)\n",
    "         │    ├── GSM6758285_MouseBrain_20um_100barcodes_ATAC_fragments.tsv.gz (P22 ATAC fragments raw counts; not used)\n",
    "         │    ├── GSM6753043_MouseBrain_20um_100barcodes_ATAC_matrix.tsv.gz (P22 RNA-seq raw counts)\n",
    "         │    ├── tissue_positions_list_p21.csv (P21 spatial coordinates)\n",
    "         │    ├── tissue_positions_list_p22.csv (P22 spatial coordinates)\n",
    "         │    ├── meta_p21.tsv (P21 metadata)\n",
    "         │    ├── meta_p22.tsv (P22 metadata)\n",
    "         ├── ../datasets/srt_data/silver\n",
    "         │  ├── spatial_atac_rna_seq_mouse_embryo_e13.h5ad (E13 ATAC peaks raw counts)\n",
    "         │  ├── spatial_atac_rna_seq_mouse_brain_p22.h5ad (P22 ATAC peaks raw counts)\n",
    "      ```\n",
    "- **Summary:**\n",
    "    - Embryonic day 13 mouse embryo (E13; pixel size 50 μm), mouse postnatal day 21 & 22 brains (P21 & P22; pixel size 20 μm)\n",
    "    - We use the preprocessed ATAC peaks raw counts. Preprocessing has been done here: https://github.com/di-0579/Spatial_epigenome-transcriptome_co-sequencing/blob/main/Data_visualization/01_joint_P21C_RNA.R. The preprocessed Seurat objects are converted to adata with the script located at ```nichecompass-reproducibility/scripts/spatial_atac_rna_seq_mouse_embryo_and_brain_data_preparation.R```.\n",
    "    - Also available: histone modification modality for mice; adult human brain hippocampus tissue (pixel size: 50 μm)"
   ]
  },
  {
   "cell_type": "code",
   "execution_count": null,
   "id": "62ee40d1-eacb-4e79-bca4-cd635be8e60f",
   "metadata": {
    "tags": []
   },
   "outputs": [],
   "source": [
    "dataset_embryo = \"spatial_atac_rna_seq_mouse_embryo\"\n",
    "dataset_brain = \"spatial_atac_rna_seq_mouse_brain\""
   ]
  },
  {
   "cell_type": "markdown",
   "id": "1e84c4be-2d88-4d85-af6b-b945b9c6b0ca",
   "metadata": {},
   "source": [
    "#### 2.6.1 Load & Preprocess Raw Data"
   ]
  },
  {
   "cell_type": "code",
   "execution_count": null,
   "id": "b243159e-0cdd-45dc-bb5c-69a183e0f44a",
   "metadata": {
    "tags": []
   },
   "outputs": [],
   "source": [
    "# Write embryo dataset adata to disk\n",
    "batch = \"e13\"\n",
    "atac_fragments_file_name = \"GSM6801813_ME13_50um_fragments.tsv.gz\"\n",
    "rna_file_name = \"GSM6799937_ME13_50um_matrix_merge.tsv.gz\"\n",
    "\n",
    "# Load spatial coordinates\n",
    "df_spatial = pd.read_csv(\n",
    "    f\"{srt_data_bronze_folder_path}/{dataset_embryo}/tissue_positions_list_{batch}.csv\",\n",
    "    header=None)\n",
    "df_spatial.index = df_spatial[0]\n",
    "\n",
    "# Load metadata with cell labels\n",
    "df_meta = pd.read_csv(\n",
    "    f\"{srt_data_bronze_folder_path}/{dataset_embryo}/meta_{batch}.tsv\",\n",
    "    sep=\"\\t\",\n",
    "    index_col=0)\n",
    "\n",
    "# Load and format RNA-seq data\n",
    "adata_rna_tmp = sc.read_text(\n",
    "    f\"{srt_data_bronze_folder_path}/{dataset_embryo}/{rna_file_name}\")\n",
    "adata_rna = sc.AnnData(\n",
    "    sp.csr_matrix(adata_rna_tmp.X.T, dtype=np.float32))\n",
    "adata_rna.var = adata_rna_tmp.obs\n",
    "adata_rna.obs = adata_rna_tmp.var\n",
    "del(adata_rna_tmp)\n",
    "adata_rna.obs = adata_rna.obs.join(df_spatial)\n",
    "adata_rna.obsm[\"spatial\"] = adata_rna.obs[[4, 5]].values\n",
    "adata_rna.obs = adata_rna.obs.drop([0, 1, 2, 3, 4, 5], axis=1)\n",
    "adata_rna.obs = adata_rna.obs.join(df_meta)\n",
    "\n",
    "# Store gene expression counts in 'counts' layer\n",
    "adata_rna.layers[\"counts\"] = adata_rna.X\n",
    "\n",
    "# Add batch\n",
    "adata_rna.obs[\"batch\"] = batch\n",
    "\n",
    "adata_rna.write(f\"{srt_data_gold_folder_path}/{dataset_embryo}.h5ad\")\n",
    "\n",
    "# Load and format ATAC preprocessed data\n",
    "adata_atac = sc.read_h5ad(f\"{srt_data_silver_folder_path}/{dataset_embryo}_{batch}.h5ad\")\n",
    "adata_atac.X = adata_atac.X.astype(np.float32)\n",
    "adata_atac.obs = adata_atac.obs.drop(adata_atac.obs.columns, axis=1)\n",
    "adata_atac.var = adata_atac.var.drop(adata_atac.var.columns, axis=1)\n",
    "del(adata_atac.obsm[\"X_umap\"])\n",
    "adata_atac.obs = adata_atac.obs.join(df_spatial)\n",
    "adata_atac.obsm[\"spatial\"] = adata_atac.obs[[4, 5]].values\n",
    "adata_atac.obs = adata_atac.obs.drop([0, 1, 2, 3, 4, 5], axis=1)\n",
    "adata_atac.obs = adata_atac.obs.join(df_meta)\n",
    "adata_atac.var.index = adata_atac.var.index.str.replace(\"-\", \":\", 1)\n",
    "adata_atac.__dict__['_raw'].__dict__['_var'] = adata_atac.__dict__['_raw'].__dict__['_var'].rename(columns={'_index': 'features'})\n",
    "\n",
    "# Store chromatin accessibility counts in 'counts' layer\n",
    "adata_atac.layers[\"counts\"] = adata_atac.X\n",
    "\n",
    "# Add batch\n",
    "adata_atac.obs[\"batch\"] = batch\n",
    "\n",
    "# Bring 'adata_atac' in same order as 'adata_rna'\n",
    "adata_atac = adata_atac[adata_rna.obs.index, :]\n",
    "\n",
    "adata_atac.write(f\"{srt_data_gold_folder_path}/{dataset_embryo}_atac.h5ad\")\n",
    "del(adata_atac)\n",
    "\n",
    "del(df_spatial)\n",
    "del(df_meta)\n",
    "del(adata_rna)\n",
    "\n",
    "gc.collect()"
   ]
  },
  {
   "cell_type": "code",
   "execution_count": null,
   "id": "70c880f3-4ab7-4520-b143-ae8d6219c250",
   "metadata": {},
   "outputs": [],
   "source": [
    "# Write brain dataset adata to disk separated by batches\n",
    "batch_indeces = list(np.arange(2) + 1)\n",
    "batches = [\"p21\",\n",
    "           \"p22\"]\n",
    "atac_fragments_file_names = [\"GSM6204623_MouseBrain_20um_fragments.tsv.gz\",\n",
    "                             \"GSM6758285_MouseBrain_20um_100barcodes_ATAC_fragments.tsv.gz\"]\n",
    "rna_file_names = [\"GSM6204636_MouseBrain_20um_matrix.tsv.gz\",\n",
    "                  \"GSM6753043_MouseBrain_20um_100barcodes_ATAC_matrix.tsv.gz\"]\n",
    "\n",
    "for batch_idx, batch, atac_fragments_file_name, rna_file_name in zip(batch_indeces,\n",
    "                                                                     batches,\n",
    "                                                                     atac_fragments_file_names,\n",
    "                                                                     rna_file_names):\n",
    "    # Load spatial coordinates\n",
    "    df_spatial = pd.read_csv(\n",
    "        f\"{srt_data_bronze_folder_path}/{dataset_brain}/tissue_positions_list_{batch}.csv\",\n",
    "        header=None)\n",
    "    df_spatial.index = df_spatial[0]\n",
    "\n",
    "    # Load metadata with cell labels\n",
    "    df_meta = pd.read_csv(\n",
    "        f\"{srt_data_bronze_folder_path}/{dataset_brain}/meta_{batch}.tsv\",\n",
    "        sep=\"\\t\",\n",
    "        index_col=0)\n",
    "\n",
    "    # Load and format RNA-seq data\n",
    "    adata_rna_tmp = sc.read_text(\n",
    "        f\"{srt_data_bronze_folder_path}/{dataset_brain}/{rna_file_name}\")\n",
    "    adata_rna = sc.AnnData(\n",
    "        sp.csr_matrix(adata_rna_tmp.X.T, dtype=np.float32))\n",
    "    adata_rna.var = adata_rna_tmp.obs\n",
    "    adata_rna.obs = adata_rna_tmp.var\n",
    "    del(adata_rna_tmp)\n",
    "    adata_rna.obs = adata_rna.obs.join(df_spatial)\n",
    "    adata_rna.obsm[\"spatial\"] = adata_rna.obs[[4, 5]].values\n",
    "    adata_rna.obs = adata_rna.obs.drop([0, 1, 2, 3, 4, 5], axis=1)\n",
    "    adata_rna.obs = adata_rna.obs.join(df_meta)\n",
    "\n",
    "    # Store gene expression counts in 'counts' layer\n",
    "    adata_rna.layers[\"counts\"] = adata_rna.X\n",
    "    \n",
    "    # Add batch\n",
    "    adata_rna.obs[\"batch\"] = batch\n",
    "    \n",
    "    adata_rna.write(f\"{srt_data_gold_folder_path}/{dataset_brain}_batch{batch_idx}.h5ad\")\n",
    "    \n",
    "    # Load and format ATAC preprocessed data\n",
    "    try:\n",
    "        adata_atac = sc.read_h5ad(f\"{srt_data_silver_folder_path}/{dataset_brain}_{batch}.h5ad\")\n",
    "        adata_atac.X = adata_atac.X.astype(np.float32)\n",
    "        adata_atac.obs = adata_atac.obs.drop(adata_atac.obs.columns, axis=1)\n",
    "        adata_atac.var = adata_atac.var.drop(adata_atac.var.columns, axis=1)\n",
    "        del(adata_atac.obsm[\"X_umap\"])\n",
    "        adata_atac.obs = adata_atac.obs.join(df_spatial)\n",
    "        adata_atac.obsm[\"spatial\"] = adata_atac.obs[[4, 5]].values\n",
    "        adata_atac.obs = adata_atac.obs.drop([0, 1, 2, 3, 4, 5], axis=1)\n",
    "        adata_atac.obs = adata_atac.obs.join(df_meta)\n",
    "        adata_atac.var.index = adata_atac.var.index.str.replace(\"-\", \":\", 1)\n",
    "        adata_atac.__dict__['_raw'].__dict__['_var'] = adata_atac.__dict__['_raw'].__dict__['_var'].rename(columns={'_index': 'features'})\n",
    "        \n",
    "        # Store chromatin accessibility counts in 'counts' layer\n",
    "        adata_atac.layers[\"counts\"] = adata_atac.X\n",
    "\n",
    "        # Add batch\n",
    "        adata_atac.obs[\"batch\"] = batch\n",
    "        \n",
    "        # Bring 'adata_atac' in same order as 'adata_rna'\n",
    "        adata_atac = adata_atac[adata_rna.obs.index, :]\n",
    "\n",
    "        adata_atac.write(f\"{srt_data_gold_folder_path}/{dataset_brain}_batch{batch_idx}_atac.h5ad\")\n",
    "        del(adata_atac)\n",
    "    except:\n",
    "        print(f\"Could not find preprocessed ATAC data for batch {batch}.\")\n",
    "\n",
    "    del(df_spatial)\n",
    "    del(df_meta)\n",
    "    del(adata_rna)\n",
    "    \n",
    "    gc.collect()"
   ]
  },
  {
   "cell_type": "markdown",
   "id": "698a3f49-42e9-414f-9b0f-04eb7c526c30",
   "metadata": {},
   "source": [
    "#### 2.6.2 Explore Data"
   ]
  },
  {
   "cell_type": "markdown",
   "id": "b6540ef9-0f53-4b77-a7fd-47a9f5aaf23d",
   "metadata": {},
   "source": [
    "##### 2.6.2.1 Spatial Omics Data (RNA)"
   ]
  },
  {
   "cell_type": "code",
   "execution_count": null,
   "id": "403b7f13-8285-452f-a699-5ca66031e17f",
   "metadata": {},
   "outputs": [],
   "source": [
    "adata_rna = sc.read_h5ad(f\"{srt_data_gold_folder_path}/{dataset_embryo}_rna.h5ad\")\n",
    "\n",
    "print(f\"Exploring dataset {dataset_embryo}_rna.\")\n",
    "print(f\"Number of nodes (cells): {adata_rna.X.shape[0]}\")\n",
    "print(f\"Number of node features (genes): {adata_rna.X.shape[1]}\")\n",
    "\n",
    "# Visualize cell-level annotated data in physical space\n",
    "sq.pl.spatial_scatter(adata_rna, color=\"RNA_clusters\", shape=None)        "
   ]
  },
  {
   "cell_type": "code",
   "execution_count": null,
   "id": "edaf6f94-c7ed-47a3-a2f4-51305544e862",
   "metadata": {
    "tags": []
   },
   "outputs": [],
   "source": [
    "for batch_idx in batch_indeces:\n",
    "    adata_rna = sc.read_h5ad(f\"{srt_data_gold_folder_path}/{dataset_brain}_batch{batch_idx}_rna.h5ad\")\n",
    "    \n",
    "    print(f\"Exploring dataset {dataset_brain}_batch{batch_idx}_rna.\")\n",
    "    print(f\"Number of nodes (cells): {adata_rna.X.shape[0]}\")\n",
    "    print(f\"Number of node features (genes): {adata_rna.X.shape[1]}\")\n",
    "\n",
    "    # Visualize cell-level annotated data in physical space\n",
    "    sq.pl.spatial_scatter(adata_rna, color=\"RNA_clusters\", shape=None)        "
   ]
  },
  {
   "cell_type": "markdown",
   "id": "94f9c661-72d1-4b84-969e-ed261553dd26",
   "metadata": {},
   "source": [
    "##### 2.6.2.2 Spatial Omics Data (ATAC)"
   ]
  },
  {
   "cell_type": "code",
   "execution_count": null,
   "id": "6952b1ae-5b4a-4631-8160-ee3d6b0c7b71",
   "metadata": {},
   "outputs": [],
   "source": [
    "adata_atac = sc.read_h5ad(f\"{srt_data_gold_folder_path}/{dataset_embryo}_atac.h5ad\")\n",
    "\n",
    "print(f\"Exploring dataset {dataset_embryo}_batch{batch_idx}_atac.\")\n",
    "print(f\"Number of nodes (cells): {adata_atac.X.shape[0]}\")\n",
    "print(f\"Number of node features (genes): {adata_atac.X.shape[1]}\")\n",
    "\n",
    "# Visualize cell-level annotated data in physical space\n",
    "sq.pl.spatial_scatter(adata_atac, color=\"ATAC_clusters\", shape=None)        "
   ]
  },
  {
   "cell_type": "code",
   "execution_count": null,
   "id": "76bcb1ae-6ef8-4f56-b1dc-0e9a6b12efa6",
   "metadata": {
    "tags": []
   },
   "outputs": [],
   "source": [
    "for batch_idx in batch_indeces:\n",
    "    try:\n",
    "        adata_atac = sc.read_h5ad(f\"{srt_data_gold_folder_path}/{dataset_brain}_batch{batch_idx}_atac.h5ad\")\n",
    "\n",
    "        print(f\"Exploring dataset {dataset_brain}_batch{batch_idx}_atac.\")\n",
    "        print(f\"Number of nodes (cells): {adata_atac.X.shape[0]}\")\n",
    "        print(f\"Number of node features (genes): {adata_atac.X.shape[1]}\")\n",
    "\n",
    "        # Visualize cell-level annotated data in physical space\n",
    "        sq.pl.spatial_scatter(adata_atac, color=\"ATAC_clusters\", shape=None)\n",
    "    except:\n",
    "        print(f\"Could not find preprocessed ATAC data for batch {batch}.\")"
   ]
  },
  {
   "cell_type": "markdown",
   "id": "e7a49ebc-8b45-4f99-806f-4673b24e0ae6",
   "metadata": {},
   "source": [
    "### 2.7 Visium Human Heart"
   ]
  },
  {
   "cell_type": "markdown",
   "id": "8f5889c7-7f96-4b3c-babe-ad5f326c6fe1",
   "metadata": {},
   "source": [
    "- **Publication:**\n",
    "- **Data Access:**\n",
    "- **Data Structure:**\n",
    "    - ```\n",
    "         ├── ../datasets/srt_data/silver\n",
    "         │  ├── HCAHeartST8795933_D5LV_stereoscope_210202.h5ad (donor 5 left ventricle gene expression raw counts)\n",
    "         │  ├── HCAHeartST9383352_D6LV_stereoscope_210202.h5ad (donor 6 sample 1 left ventricle gene expression raw counts)\n",
    "         │  ├── HCAHeartST9383354_D6LV_stereoscope_210202.h5ad (donor 6 sample 2 left ventricle gene expression raw counts)\n",
    "      ```\n",
    "- **Summary:**"
   ]
  },
  {
   "cell_type": "code",
   "execution_count": null,
   "id": "f69336f7-2f51-4ddc-be60-02b3d6aed94e",
   "metadata": {},
   "outputs": [],
   "source": [
    "dataset = \"visium_human_heart\"\n",
    "donor_key = \"donor\"\n",
    "batch_key = \"batch\"\n",
    "cell_type_key = \"majority_cell_type\"\n",
    "cell_types = [\"Adip1\", \"Adip2\", \"Adip3\", \"Adip4\", \"B\",\n",
    "   \"B_cells\", \"B_follicular\", \"B_memory\", \"B_plasma\", \"CD4+T_cytox\",\n",
    "   \"CD4+T_tem\", \"CD4T\", \"CD4T_Tfh\", \"CD4T_Th1\", \"CD4T_naive\", \"CD4T_reg\",\n",
    "   \"CD8+T_cytox\", \"CD8+T_tem\", \"CD8T\", \"CD14+Mo\", \"CD16+Mo\", \"DC\",\n",
    "   \"DOCK4+MØ1\", \"DOCK4+MØ2\", \"EC1_cap\", \"EC2_cap\", \"EC3_cap\", \"EC4_immune\",\n",
    "   \"EC5_art\", \"EC6_ven\", \"EC7_atria\", \"EC8_ln\", \"FB1\", \"FB2\", \"FB3\", \"FB4\",\n",
    "   \"FB5\", \"IL17RA+Mo\", \"ILC\", \"LYVE1+MØ1\", \"LYVE1+MØ2\", \"LYVE1+MØ3\",\n",
    "   \"MAIT\", \"Mast\", \"Meso\", \"Mo_pi\", \"MØ_AgP\", \"MØ_mod\", \"NC1\", \"NC2\",\n",
    "   \"NC3\", \"NC4\", \"NC5\", \"NC6\", \"NK\", \"NKT\", \"NK_ITGAD\", \"NØ\", \"PC1_vent\",\n",
    "   \"PC2_atria\", \"PC3_str\", \"SMC1_basic\", \"SMC2_art\", \"gdT\", \"vCM1\", \"vCM2\",\n",
    "   \"vCM3\", \"vCM4\", \"vCM5\"]"
   ]
  },
  {
   "cell_type": "markdown",
   "id": "995e1c8e-a1b6-485d-8d24-728dfb09281e",
   "metadata": {},
   "source": [
    "#### 2.7.1 Load & Preprocess Raw Data"
   ]
  },
  {
   "cell_type": "code",
   "execution_count": null,
   "id": "6b7719cb-215a-4ed7-9af7-61471cb9891c",
   "metadata": {},
   "outputs": [],
   "source": [
    "adata_batch1 = sc.read_h5ad(f\"{srt_data_silver_folder_path}/HCAHeartST8795933_D5LV_stereoscope_210202.h5ad\")\n",
    "cell_prop_df_batch1 = adata_batch1.obs[cell_types]\n",
    "adata_batch1.obs[cell_type_key] = cell_prop_df_batch1.idxmax(axis=1)\n",
    "adata_batch1.obs[donor_key] = \"donor5\"\n",
    "adata_batch1.obs[batch_key] = \"batch1\"\n",
    "adata_batch1.write(f\"{srt_data_gold_folder_path}/{dataset}_batch1.h5ad\")"
   ]
  },
  {
   "cell_type": "code",
   "execution_count": null,
   "id": "db87f957-3357-47c0-af43-5b34b1c2b6d6",
   "metadata": {},
   "outputs": [],
   "source": [
    "adata_batch2 = sc.read_h5ad(f\"{srt_data_silver_folder_path}/HCAHeartST9383352_D6LV_stereoscope_210202.h5ad\")\n",
    "cell_prop_df_batch2 = adata_batch2.obs[cell_types]\n",
    "adata_batch2.obs[cell_type_key] = cell_prop_df_batch2.idxmax(axis=1)\n",
    "adata_batch2.obs[donor_key] = \"donor6\"\n",
    "adata_batch2.obs[batch_key] = \"batch2\"\n",
    "adata_batch2.write(f\"{srt_data_gold_folder_path}/{dataset}_batch2.h5ad\")"
   ]
  },
  {
   "cell_type": "code",
   "execution_count": null,
   "id": "2242f4c3-b7f4-4cbe-b080-1ce45e21d947",
   "metadata": {},
   "outputs": [],
   "source": [
    "adata_batch3 = sc.read_h5ad(f\"{srt_data_silver_folder_path}/HCAHeartST9383354_D6LV_stereoscope_210202.h5ad\")\n",
    "cell_prop_df_batch3 = adata_batch3.obs[cell_types]\n",
    "adata_batch3.obs[cell_type_key] = cell_prop_df_batch3.idxmax(axis=1)\n",
    "adata_batch3.obs[donor_key] = \"donor6\"\n",
    "adata_batch3.obs[batch_key] = \"batch3\"\n",
    "adata_batch3.write(f\"{srt_data_gold_folder_path}/{dataset}_batch3.h5ad\")"
   ]
  },
  {
   "cell_type": "markdown",
   "id": "2a3e6caf-520e-4890-8266-6bddc4fd3fb3",
   "metadata": {},
   "source": [
    "#### 2.7.2 Explore Data"
   ]
  },
  {
   "cell_type": "code",
   "execution_count": null,
   "id": "e37d7e14-26fd-45bf-8654-04ad69865200",
   "metadata": {},
   "outputs": [],
   "source": [
    "print(f\"Exploring dataset {dataset}_batch1.\")\n",
    "print(f\"Number of nodes (cells): {adata_batch1.layers['counts'].shape[0]}\")\n",
    "print(f\"Number of node features (genes): {adata_batch1.layers['counts'].shape[1]}\")\n",
    "\n",
    "# Visualize cell-level annotated data in physical space\n",
    "sq.pl.spatial_scatter(adata_batch1,\n",
    "                      #groups=\"FB5\",\n",
    "                      color=cell_type_key,\n",
    "                      shape=None,\n",
    "                      figsize=(8, 8))"
   ]
  },
  {
   "cell_type": "code",
   "execution_count": null,
   "id": "0b4386a3-0fbe-452f-9344-5d0ffe09cb90",
   "metadata": {},
   "outputs": [],
   "source": [
    "print(f\"Exploring dataset {dataset}_batch2.\")\n",
    "print(f\"Number of nodes (cells): {adata_batch2.layers['counts'].shape[0]}\")\n",
    "print(f\"Number of node features (genes): {adata_batch2.layers['counts'].shape[1]}\")\n",
    "\n",
    "# Visualize cell-level annotated data in physical space\n",
    "sq.pl.spatial_scatter(adata_batch2,\n",
    "                      #groups=\"CD8+T_cytox\",\n",
    "                      color=cell_type_key,\n",
    "                      shape=None,\n",
    "                      figsize=(10, 10))"
   ]
  },
  {
   "cell_type": "code",
   "execution_count": null,
   "id": "628576ce-c2d8-4023-8cc2-2b1842a1cb1a",
   "metadata": {},
   "outputs": [],
   "source": [
    "print(f\"Exploring dataset {dataset}_batch3.\")\n",
    "print(f\"Number of nodes (cells): {adata_batch3.layers['counts'].shape[0]}\")\n",
    "print(f\"Number of node features (genes): {adata_batch3.layers['counts'].shape[1]}\")\n",
    "\n",
    "# Visualize cell-level annotated data in physical space\n",
    "sq.pl.spatial_scatter(adata_batch3,\n",
    "                      #groups=\"Adip1\",\n",
    "                      color=cell_type_key,\n",
    "                      shape=None,\n",
    "                      figsize=(10, 10))"
   ]
  },
  {
   "cell_type": "markdown",
   "id": "3a9c3e0c-b98d-4e46-bee6-673ce92725f6",
   "metadata": {},
   "source": [
    "### 2.8 Vizgen MERFISH Human Ovarian Cancer"
   ]
  },
  {
   "cell_type": "markdown",
   "id": "0ef67901-33f7-438b-a254-c460cfc8eb8d",
   "metadata": {},
   "source": [
    "- **Publication:** Vizgen MERFISH FFPE Human Immuno-oncology Data Set,  May 2022\n",
    "- **Data Access:** https://info.vizgen.com/ffpe-showcase?submissionGuid=bbe0d6ca-92ad-4257-bdcd-cbc6dee8219b\n",
    "- **Data Structure:**\n",
    "    - ```\n",
    "         ├── ../datasets/srt_data/bronze/vizgen_merfish_human_ovarian_cancer\n",
    "         │  ├── HumanOvarianCancerPatient1_cell_by_gene.csv\n",
    "         │  ├── HumanOvarianCancerPatient1_cell_metadata.csv            \n",
    "         │  ├── HumanOvarianCancerPatient2Slice1_cell_by_gene.csv\n",
    "         │  ├── HumanOvarianCancerPatient2Slice1_cell_metadata.csv\n",
    "         │  ├── HumanOvarianCancerPatient2Slice2_cell_by_gene.csv\n",
    "         │  ├── HumanOvarianCancerPatient2Slice2_cell_metadata.csv\n",
    "         │  ├── HumanOvarianCancerPatient2Slice3_cell_by_gene.csv\n",
    "         │  ├── HumanOvarianCancerPatient2Slice3_cell_metadata.csv\n",
    "      ```\n",
    "- **Summary:**\n",
    "    - 4 FFPE tissue slices of human ovarian cancer from 2 patients\n",
    "    - 896,638 observations at cellular resolution without annotations\n",
    "        - Sample 1: P1, 358,485 observations\n",
    "        - Sample 2: P2, 254,347 observations\n",
    "        - Sample 3: P2, 71,381 observations\n",
    "        - Sample 4: P2, 212,425 observations\n",
    "    - 500 probed genes"
   ]
  },
  {
   "cell_type": "code",
   "execution_count": null,
   "id": "2bb06b4d-4ea1-4103-b426-37d7d34c03de",
   "metadata": {},
   "outputs": [],
   "source": [
    "dataset = \"vizgen_merfish_human_ovarian_cancer\""
   ]
  },
  {
   "cell_type": "markdown",
   "id": "b8b45a30-1409-482d-a87b-bfc0e5141f0e",
   "metadata": {},
   "source": [
    "#### 2.8.1 Load & Preprocess Raw Data"
   ]
  },
  {
   "cell_type": "markdown",
   "id": "3f449ca8-22a3-4f37-8c25-a701c222bfca",
   "metadata": {},
   "source": [
    "##### 2.8.1.1 ST Data"
   ]
  },
  {
   "cell_type": "code",
   "execution_count": null,
   "id": "ec8407e3-e184-464a-81e3-1e1aef17c7e9",
   "metadata": {},
   "outputs": [],
   "source": [
    "batches = [\"Patient1\",\n",
    "           \"Patient2Slice1\",\n",
    "           \"Patient2Slice2\",\n",
    "           \"Patient2Slice3\"]\n",
    "\n",
    "for batch_idx, batch in enumerate(batches):\n",
    "    gene_expr_df = pd.read_csv(f\"{srt_data_bronze_folder_path}/{dataset}/HumanOvarianCancer{batch}_cell_by_gene.csv\")\n",
    "    metadata_df = pd.read_csv(f\"{srt_data_bronze_folder_path}/{dataset}/HumanOvarianCancer{batch}_cell_metadata.csv\")\n",
    "    metadata_df.rename(columns={\"Unnamed: 0\": \"cell\"}, inplace=True)\n",
    "    \n",
    "    cols_to_be_removed = [\"cell\"] + [col for col in gene_expr_df.columns if \"Blank\" in col]\n",
    "    adata = ad.AnnData(gene_expr_df[gene_expr_df.columns.difference(cols_to_be_removed)],\n",
    "                       obs=gene_expr_df[[\"cell\"]],\n",
    "                       dtype=\"float32\")\n",
    "    \n",
    "    # Store gene expression in sparse format\n",
    "    adata.X = sp.csr_matrix(adata.X)\n",
    "    \n",
    "    sc.pp.calculate_qc_metrics(adata, percent_top=(50, 100, 200, 300), inplace=True)\n",
    "    fig, axs = plt.subplots(1, 4, figsize=(15, 4))\n",
    "    sns.histplot(adata.obs[\"total_counts\"],\n",
    "                 kde=False,\n",
    "                 ax=axs[0])\n",
    "    sns.histplot(adata.obs[\"total_counts\"][adata.obs[\"total_counts\"] < 500],\n",
    "                 kde=False,\n",
    "                 bins=40,\n",
    "                 ax=axs[1])\n",
    "    sns.histplot(adata.obs[\"n_genes_by_counts\"],\n",
    "                 kde=False,\n",
    "                 bins=60,\n",
    "                 ax=axs[2])\n",
    "    sns.histplot(adata.obs[\"n_genes_by_counts\"][adata.obs[\"n_genes_by_counts\"] < 50],\n",
    "                 kde=False,\n",
    "                 bins=60,\n",
    "                 ax=axs[3])\n",
    "\n",
    "    sc.pp.filter_cells(adata, min_counts=50)\n",
    "    \n",
    "    # Add metadata\n",
    "    adata.obs = pd.merge(adata.obs, metadata_df, on=[\"cell\"], how=\"left\")\n",
    "    \n",
    "    adata.obsm[\"spatial\"] = np.array(adata.obs[[\"center_x\", \"center_y\"]])\n",
    "    adata.obs = adata.obs.drop(adata.obs.columns, axis=1)\n",
    "    adata.var = adata.var.drop(adata.var.columns, axis=1)\n",
    "    adata.layers[\"counts\"] = adata.X\n",
    "    adata.obs[\"patient\"] = batch[:8].lower()\n",
    "    adata.obs[\"batch\"] = batch.lower()\n",
    "    adata.write(f\"{srt_data_gold_folder_path}/{dataset}_batch{batch_idx + 1}.h5ad\")\n",
    "    \n",
    "# Add annotations\n",
    "adata = sc.read_h5ad(f\"{srt_data_silver_folder_path}/{dataset}.h5ad)\n",
    "adata_batch1 = adata[adata.obs[\"batch\"] == \"sample1\"]\n",
    "adata_batch2 = adata[adata.obs[\"batch\"] == \"sample2\"]\n",
    "adata_batch3 = adata[adata.obs[\"batch\"] == \"sample3\"]\n",
    "adata_batch4 = adata[adata.obs[\"batch\"] == \"sample4\"]\n",
    "                     \n",
    "adata_batch1_original = sc.read_h5ad(f\"{srt_data_silver_folder_path}/{dataset}_batch1.h5ad\")\n",
    "adata_batch2_original = sc.read_h5ad(f\"{srt_data_silver_folder_path}/{dataset}_batch2.h5ad\")\n",
    "adata_batch3_original = sc.read_h5ad(f\"{srt_data_silver_folder_path}/{dataset}_batch3.h5ad\")\n",
    "adata_batch4_original = sc.read_h5ad(f\"{srt_data_silver_folder_path}/{dataset}_batch4.h5ad\")\n",
    "                     \n",
    "adata_batch1_original.obs[\"cell\"] = adata_batch1.obs[\"cell\"].values\n",
    "adata_batch1_original.obs[\"fov\"] = adata_batch1.obs[\"fov\"].values\n",
    "adata_batch1_original.obs[\"cell_type\"] = adata_batch1.obs[\"cell_type\"].values\n",
    "                     \n",
    "adata_batch2_original.obs[\"cell\"] = adata_batch2.obs[\"cell\"].values\n",
    "adata_batch2_original.obs[\"fov\"] = adata_batch2.obs[\"fov\"].values\n",
    "adata_batch2_original.obs[\"cell_type\"] = adata_batch2.obs[\"cell_type\"].values\n",
    "                     \n",
    "adata_batch3_original.obs[\"cell\"] = adata_batch3.obs[\"cell\"].values\n",
    "adata_batch3_original.obs[\"fov\"] = adata_batch3.obs[\"fov\"].values\n",
    "adata_batch3_original.obs[\"cell_type\"] = adata_batch3.obs[\"cell_type\"].values\n",
    "                     \n",
    "adata_batch4_original.obs[\"cell\"] = adata_batch4.obs[\"cell\"].values\n",
    "adata_batch4_original.obs[\"fov\"] = adata_batch4.obs[\"fov\"].values\n",
    "adata_batch4_original.obs[\"cell_type\"] = adata_batch4.obs[\"cell_type\"].values\n",
    "                     \n",
    "adata_batch1_original.write(f\"{srt_data_silver_folder_path}/{dataset}_batch1.h5ad\")\n",
    "adata_batch2_original.write(f\"{srt_data_silver_folder_path}/{dataset}_batch2.h5ad\")\n",
    "adata_batch3_original.write(f\"{srt_data_silver_folder_path}/{dataset}_batch3.h5ad\")\n",
    "adata_batch4_original.write(f\"{srt_data_silver_folder_path}/{dataset}_batch4.h5ad\")"
   ]
  },
  {
   "cell_type": "markdown",
   "id": "577d5228-276a-49dc-afed-3191f808458a",
   "metadata": {
    "tags": []
   },
   "source": [
    "#### 2.8.2 Explore Data"
   ]
  },
  {
   "cell_type": "markdown",
   "id": "2410b1c7-861b-4486-8587-89c4f1f8bd19",
   "metadata": {},
   "source": [
    "##### 2.8.2.1 ST Data"
   ]
  },
  {
   "cell_type": "code",
   "execution_count": null,
   "id": "a5913522-bd71-44a0-bfd2-1c074f0d591e",
   "metadata": {},
   "outputs": [],
   "source": [
    "batch_indeces = list(np.arange(4) + 1)\n",
    "for batch_idx in batch_indeces:\n",
    "    adata = sc.read_h5ad(f\"{srt_data_gold_folder_path}/{dataset}_batch{batch_idx}.h5ad\")\n",
    "    \n",
    "    print(f\"Exploring dataset {dataset}_batch{batch_idx}.\")\n",
    "    print(f\"Number of nodes (cells): {adata.X.shape[0]}\")\n",
    "    print(f\"Number of node features (genes): {adata.X.shape[1]}\")\n",
    "\n",
    "    # Visualize cell-level annotated data in physical space\n",
    "    sq.pl.spatial_scatter(adata, color=\"batch\", shape=None, figsize=(12, 12))        "
   ]
  },
  {
   "cell_type": "markdown",
   "id": "03844107-2462-4b26-a4e0-b9a3995d9405",
   "metadata": {},
   "source": [
    "### 2.9 Vizgen MERFISH Human Colon Cancer"
   ]
  },
  {
   "cell_type": "markdown",
   "id": "961ab8cb-35f0-48d2-9759-409fb4ae0992",
   "metadata": {},
   "source": [
    "- **Publication:** Vizgen MERFISH FFPE Human Immuno-oncology Data Set,  May 2022\n",
    "- **Data Access:** https://info.vizgen.com/ffpe-showcase?submissionGuid=bbe0d6ca-92ad-4257-bdcd-cbc6dee8219b\n",
    "- **Data Structure:**\n",
    "    - ```\n",
    "         ├── ../datasets/srt_data/bronze/vizgen_merfish_human_colon_cancer\n",
    "         │  ├── HumanColonCancerPatient1_cell_by_gene.csv\n",
    "         │  ├── HumanColonCancerPatient1_cell_metadata.csv            \n",
    "         │  ├── HumanColonCancerPatient2_cell_by_gene.csv\n",
    "         │  ├── HumanColonCancerPatient2_cell_metadata.csv\n",
    "      ```\n",
    "- **Summary:**\n",
    "    - 2 FFPE tissue slices of human colon cancer from 2 patients\n",
    "    - 1,495,039 observations at cellular resolution without annotations\n",
    "        - Sample 1: P1, 677,451 observations\n",
    "        - Sample 2: P2, 817,588 observations\n",
    "    - 500 probed genes"
   ]
  },
  {
   "cell_type": "code",
   "execution_count": null,
   "id": "9f804125-64ef-4a7d-b5ac-461ba4b02f1d",
   "metadata": {},
   "outputs": [],
   "source": [
    "dataset = \"vizgen_merfish_human_colon_cancer\""
   ]
  },
  {
   "cell_type": "markdown",
   "id": "16d09c64-e84d-4f50-a833-089387e1ab4c",
   "metadata": {},
   "source": [
    "#### 2.9.1 Load & Preprocess Raw Data"
   ]
  },
  {
   "cell_type": "markdown",
   "id": "9ba8a1c0-688b-4ab9-aa5e-8775688c2427",
   "metadata": {},
   "source": [
    "##### 2.9.1.1 ST Data"
   ]
  },
  {
   "cell_type": "code",
   "execution_count": null,
   "id": "dfd4a158-310d-41c0-bcf6-aed2f6deeaa4",
   "metadata": {},
   "outputs": [],
   "source": [
    "batches = [\"Patient1\",\n",
    "           \"Patient2\"]\n",
    "\n",
    "for batch_idx, batch in enumerate(batches):\n",
    "    gene_expr_df = pd.read_csv(f\"{srt_data_bronze_folder_path}/{dataset}/HumanColonCancer{batch}_cell_by_gene.csv\")\n",
    "    metadata_df = pd.read_csv(f\"{srt_data_bronze_folder_path}/{dataset}/HumanColonCancer{batch}_cell_metadata.csv\")\n",
    "    metadata_df.rename(columns={\"Unnamed: 0\": \"cell\"}, inplace=True)\n",
    "    \n",
    "    cols_to_be_removed = [\"cell\"] + [col for col in gene_expr_df.columns if \"Blank\" in col]\n",
    "    adata = ad.AnnData(gene_expr_df[gene_expr_df.columns.difference(cols_to_be_removed)],\n",
    "                       obs=gene_expr_df[[\"cell\"]],\n",
    "                       dtype=\"float32\")\n",
    "    \n",
    "    # Store gene expression in sparse format\n",
    "    adata.X = sp.csr_matrix(adata.X)\n",
    "    \n",
    "    sc.pp.calculate_qc_metrics(adata, percent_top=(50, 100, 200, 300), inplace=True)\n",
    "    fig, axs = plt.subplots(1, 4, figsize=(15, 4))\n",
    "    sns.histplot(adata.obs[\"total_counts\"],\n",
    "                 kde=False,\n",
    "                 ax=axs[0])\n",
    "    sns.histplot(adata.obs[\"total_counts\"][adata.obs[\"total_counts\"] < 500],\n",
    "                 kde=False,\n",
    "                 bins=40,\n",
    "                 ax=axs[1])\n",
    "    sns.histplot(adata.obs[\"n_genes_by_counts\"],\n",
    "                 kde=False,\n",
    "                 bins=60,\n",
    "                 ax=axs[2])\n",
    "    sns.histplot(adata.obs[\"n_genes_by_counts\"][adata.obs[\"n_genes_by_counts\"] < 50],\n",
    "                 kde=False,\n",
    "                 bins=60,\n",
    "                 ax=axs[3])\n",
    "\n",
    "    sc.pp.filter_cells(adata, min_counts=50)\n",
    "    \n",
    "    # Add metadata\n",
    "    adata.obs = pd.merge(adata.obs, metadata_df, on=[\"cell\"], how=\"left\")\n",
    "    \n",
    "    adata.obsm[\"spatial\"] = np.array(adata.obs[[\"center_x\", \"center_y\"]])\n",
    "    adata.obs = adata.obs.drop(adata.obs.columns, axis=1)\n",
    "    adata.var = adata.var.drop(adata.var.columns, axis=1)\n",
    "    adata.layers[\"counts\"] = adata.X\n",
    "    adata.obs[\"batch\"] = batch.lower()\n",
    "    adata.write(f\"{srt_data_gold_folder_path}/{dataset}_batch{batch_idx + 1}.h5ad\")"
   ]
  },
  {
   "cell_type": "markdown",
   "id": "7b68cda9-75d1-4ea6-a92e-1c01e7cf301f",
   "metadata": {},
   "source": [
    "## 3. Additional Data"
   ]
  },
  {
   "cell_type": "markdown",
   "id": "9194facc-70e7-4b66-a7f5-dcb7e35f1116",
   "metadata": {},
   "source": [
    "This data is not used as part of the publication."
   ]
  },
  {
   "cell_type": "markdown",
   "id": "0b0c2bb3-0730-423f-942c-f1de3757a4ce",
   "metadata": {},
   "source": [
    "### 3.1 nanoString CosMx SMI Human Liver"
   ]
  },
  {
   "cell_type": "markdown",
   "id": "81e394c0-888e-47d7-8e13-3f1da3b69608",
   "metadata": {},
   "source": [
    "- **Publication:** nanoString CosMx SMI Human Liver FFPE Dataset\n",
    "- **Data Access:** https://nanostring.com/products/cosmx-spatial-molecular-imager/human-liver-rna-ffpe-dataset/\n",
    "- **Data Structure**:\n",
    "    - ```\n",
    "         ├── ../datasets/srt_data/bronze/nanostring_cosmx_human_liver\n",
    "         │  ├── LiverDataRelease \n",
    "      ```\n",
    "- **Preprocessing Vignette**: https://nanostring.com/wp-content/uploads/2023/01/LiverPublicDataRelease.html\n",
    "- **Summary:**\n",
    "    - 2 samples: normal human liver (healthy sample) & human hepatocellular carcinoma (disease sample)\n",
    "    - 332,877 observations (healthy sample) & 460,441 observations (disease sample) on cell-level with cell-type annotations\n",
    "    - 1000 genes"
   ]
  },
  {
   "cell_type": "code",
   "execution_count": null,
   "id": "a03b610e-f062-451c-a2e7-4bc6209d75f3",
   "metadata": {},
   "outputs": [],
   "source": [
    "dataset = \"nanostring_cosmx_human_liver\"\n",
    "cell_type_key = \"cellType\""
   ]
  },
  {
   "cell_type": "markdown",
   "id": "35413e18-b152-4d85-b20a-67ed196108a9",
   "metadata": {},
   "source": [
    "#### 3.1.1 Load & Preprocess Raw Data"
   ]
  },
  {
   "cell_type": "code",
   "execution_count": null,
   "id": "13980562-6d51-4e67-96ff-693954f75695",
   "metadata": {},
   "outputs": [],
   "source": [
    "config = tiledb.Config()\n",
    "ctx = tiledb.Ctx(config)\n",
    "\n",
    "# Read in SOMACollection\n",
    "pySoma = tiledbsoma.SOMACollection(f\"{srt_data_bronze_folder_path}/nanostring_cosmx_human_liver/LiverDataRelease\", ctx=ctx)\n",
    "pySoma.keys()\n",
    "\n",
    "# Raw counts\n",
    "counts = pySoma['RNA'].X['counts'].csr()\n",
    "counts\n",
    "\n",
    "# Normalized counts\n",
    "norm = pySoma['RNA_normalized'].X['data'].csr()\n",
    "norm\n",
    "\n",
    "# Cell metadata\n",
    "obs = pySoma['RNA'].obs.df()\n",
    "obs.head()\n",
    "\n",
    "# Target transcript coordinates\n",
    "transcriptCoords = tiledb.open_dataframe(pySoma['RNA'].obsm[\"transcriptCoords\"].uri, ctx=ctx)\n",
    "transcriptCoords\n",
    "\n",
    "# Convert to adata\n",
    "coordinates = np.array(obs[[\"x_slide_mm\", \"y_slide_mm\"]])\n",
    "adata = ad.AnnData(norm, obs = obs, obsm={\"spatial\": coordinates}, dtype = \"float32\")\n",
    "adata.layers[\"counts\"] = counts\n",
    "adata.obs = adata.obs[[\"fov\", \"cellType\", \"niche\"]]\n",
    "adata.var_names = pySoma[\"RNA\"].var_names\n",
    "\n",
    "adata.X = adata.X.astype(np.float32)\n",
    "adata.layers[\"counts\"] = adata.layers[\"counts\"].astype(np.float32)\n",
    "\n",
    "adata_batch1 = adata[adata.obs.index.str.startswith(\"c_1\")]\n",
    "adata_batch2 = adata[adata.obs.index.str.startswith(\"c_2\")]\n",
    "\n",
    "adata_sample1.obs[\"batch\"] = \"sample1\"\n",
    "adata_sample2.obs[\"batch\"] = \"sample2\"\n",
    "\n",
    "adata_sample1.write(f\"{srt_data_gold_folder_path}/{dataset}_sample1.h5ad\")\n",
    "adata_sample2.write(f\"{srt_data_gold_folder_path}/{dataset}_sample2.h5ad\")"
   ]
  },
  {
   "cell_type": "markdown",
   "id": "db31875d-e591-4bc2-a7cc-ee45d1755d1d",
   "metadata": {},
   "source": [
    "#### 3.1.2 Explore Data"
   ]
  },
  {
   "cell_type": "code",
   "execution_count": null,
   "id": "1cd5eb23-358f-43c1-a05d-c49ce451d74a",
   "metadata": {},
   "outputs": [],
   "source": [
    "print(f\"Exploring dataset {dataset}_sample1.\")\n",
    "print(f\"Number of nodes (cells): {adata_sample1.layers['counts'].shape[0]}\")\n",
    "print(f\"Number of node features (genes): {adata_sample1.layers['counts'].shape[1]}\")\n",
    "\n",
    "# Visualize cell-level annotated data in physical space\n",
    "sq.pl.spatial_scatter(adata_sample1, color=cell_type_key, shape=None, figsize=(12, 12))"
   ]
  },
  {
   "cell_type": "code",
   "execution_count": null,
   "id": "8d8ad15a-f2fb-4eb3-8ca1-e4e250eb0a60",
   "metadata": {},
   "outputs": [],
   "source": [
    "print(f\"Exploring dataset {dataset}_sample2.\")\n",
    "print(f\"Number of nodes (cells): {adata_sample2.layers['counts'].shape[0]}\")\n",
    "print(f\"Number of node features (genes): {adata_sample2.layers['counts'].shape[1]}\")\n",
    "\n",
    "# Visualize cell-level annotated data in physical space\n",
    "sq.pl.spatial_scatter(adata_sample2, color=cell_type_key, shape=None, figsize=(12, 12))"
   ]
  },
  {
   "cell_type": "markdown",
   "id": "af858b03-8ef3-4cc4-833a-db54406bc131",
   "metadata": {},
   "source": [
    "### 3.2 Vizgen MERFISH Mouse Brain Receptor"
   ]
  },
  {
   "cell_type": "markdown",
   "id": "f2770c6d-09a6-41ff-9ea1-01af2ad3bf14",
   "metadata": {},
   "source": [
    "- **Publication:** Vizgen Data Release V1.0. May 2021\n",
    "- **Data Access:** https://info.vizgen.com/mouse-brain-map?submissionGuid=a66ccb7f-87cf-4c55-83b9-5a2b6c0c12b9\n",
    "    - Slice 1 replicate 1\n",
    "        - cell_by_gene_S1R1.csv\n",
    "        - cell_metadata_S1R1.csv\n",
    "- **Preprocessing Vignette:** https://squidpy.readthedocs.io/en/latest/external_tutorials/tutorial_vizgen.html\n",
    "- **Summary:**\n",
    "    - Coronal section of mouse brain receptor map\n",
    "    - 78,329 observations on cell-level without annotations\n",
    "    - 649 probed genes"
   ]
  },
  {
   "cell_type": "code",
   "execution_count": null,
   "id": "82ddf2ec-6011-4d01-8b5f-6898c1d59ca9",
   "metadata": {},
   "outputs": [],
   "source": [
    "dataset = \"vizgen_merfish_mouse_brain\"\n",
    "cell_type_key = \"leiden\""
   ]
  },
  {
   "cell_type": "markdown",
   "id": "526118b0-7bf8-47a5-9062-acacfdb38897",
   "metadata": {},
   "source": [
    "#### 3.2.1 Load & Preprocess Raw Data"
   ]
  },
  {
   "cell_type": "code",
   "execution_count": null,
   "id": "e194d941-aa74-4a1e-a1e4-e245a4ab0d1b",
   "metadata": {},
   "outputs": [],
   "source": [
    "print(f\"Loading and preprocessing dataset '{dataset}'.\")\n",
    "\n",
    "# Read adata from files\n",
    "merfish_dir = f\"{srt_data_bronze_folder_path}/merfish/\"\n",
    "adata = sq.read.vizgen(path=merfish_dir,\n",
    "                       counts_file=\"datasets_mouse_brain_map_BrainReceptorShowcase_Slice1_replicate1_cell_by_gene_S1R1.csv\",\n",
    "                       meta_file=\"datasets_mouse_brain_map_BrainReceptorShowcase_Slice1_replicate1_cell_metadata_S1R1.csv\")\n",
    "# Preprocess as per squidpy vignette\n",
    "adata.var_names.unique()\n",
    "adata.var[\"mt\"] = adata.var_names.str.startswith(\"mt-\")\n",
    "sc.pp.calculate_qc_metrics(adata, qc_vars=[\"mt\"], percent_top=(50, 100, 200, 300), inplace=True)\n",
    "fig, axs = plt.subplots(1, 4, figsize=(15, 4))\n",
    "sns.histplot(adata.obs[\"total_counts\"],\n",
    "             kde=False,\n",
    "             ax=axs[0])\n",
    "sns.histplot(adata.obs[\"total_counts\"][adata.obs[\"total_counts\"] < 10000],\n",
    "             kde=False,\n",
    "             bins=40,\n",
    "             ax=axs[1])\n",
    "sns.histplot(adata.obs[\"n_genes_by_counts\"],\n",
    "             kde=False,\n",
    "             bins=60,\n",
    "             ax=axs[2])\n",
    "sns.histplot(adata.obs[\"n_genes_by_counts\"][adata.obs[\"n_genes_by_counts\"] < 4000],\n",
    "             kde=False,\n",
    "             bins=60,\n",
    "             ax=axs[3])\n",
    "sc.pp.filter_cells(adata, min_counts=10)\n",
    "sc.pp.filter_genes(adata, min_cells=10)\n",
    "\n",
    "# Store raw counts in `layers`\n",
    "adata.layers[\"counts\"] = adata.X.copy()\n",
    "\n",
    "# Store data to disk\n",
    "adata.write(f\"{srt_data_silver_folder_path}/{dataset}.h5ad\")\n",
    "\n",
    "# Determine cell annotation as per squidpy vignette\n",
    "sc.pp.highly_variable_genes(adata, flavor=\"seurat_v3\", n_top_genes=4000)\n",
    "sc.pp.normalize_total(adata, inplace=True)\n",
    "sc.pp.log1p(adata)\n",
    "sc.pp.pca(adata)\n",
    "sc.pp.neighbors(adata)\n",
    "sc.tl.umap(adata)\n",
    "sc.tl.leiden(adata)\n",
    "sc.pl.umap(adata,\n",
    "           color=[\"total_counts\", \"n_genes_by_counts\", \"leiden\"])\n",
    "\n",
    "# Store data to disk\n",
    "adata.write(f\"{srt_data_gold_folder_path}/{dataset}.h5ad\")"
   ]
  },
  {
   "cell_type": "markdown",
   "id": "1369825f-06b5-4988-b7ff-ba0e7c636504",
   "metadata": {},
   "source": [
    "#### 3.2.2 Explore Data"
   ]
  },
  {
   "cell_type": "code",
   "execution_count": null,
   "id": "2bdb24de-7a43-411e-9d9e-025395974f20",
   "metadata": {},
   "outputs": [],
   "source": [
    "print(f\"Exploring dataset {dataset}.\")\n",
    "print(f\"Number of nodes (cells): {adata.layers['counts'].shape[0]}\")\n",
    "print(f\"Number of node features (genes): {adata.layers['counts'].shape[1]}\")\n",
    "\n",
    "# Visualize cell-level annotated data in physical space\n",
    "sq.pl.spatial_scatter(adata, color=cell_type_key, shape=None, figsize=(12, 12))"
   ]
  },
  {
   "cell_type": "markdown",
   "id": "d87759e2-d02b-40be-9305-1469f555709a",
   "metadata": {},
   "source": [
    "### 3.3 Vizgen MERFISH Human Liver Cancer"
   ]
  },
  {
   "cell_type": "markdown",
   "id": "ac4dbb1f-7111-40d0-ba42-f6d57f65424a",
   "metadata": {},
   "source": [
    "- **Publication:** Vizgen MERFISH FFPE Human Immuno-oncology Data Set,  May 2022\n",
    "- **Data Access:** https://info.vizgen.com/ffpe-showcase?submissionGuid=bbe0d6ca-92ad-4257-bdcd-cbc6dee8219b\n",
    "    - Liver cancer 1\n",
    "        - cell_by_gene.csv\n",
    "        - cell_metadata.csv\n",
    "- **Summary:**\n",
    "    - FFPE tissue section of human liver cancer\n",
    "    - 480,592 observations on cell-level without annotations\n",
    "    - 500 probed genes"
   ]
  },
  {
   "cell_type": "code",
   "execution_count": null,
   "id": "00ed1a9c-1b2e-4234-b297-501911df7fbd",
   "metadata": {},
   "outputs": [],
   "source": [
    "dataset = \"vizgen_merfish_human_liver_cancer\"\n",
    "cell_type_key = \"leiden\""
   ]
  },
  {
   "cell_type": "markdown",
   "id": "2422bf81-39f7-4a09-876a-55f2e1e7f348",
   "metadata": {},
   "source": [
    "#### 3.3.1 Load & Preprocess Raw Data"
   ]
  },
  {
   "cell_type": "code",
   "execution_count": null,
   "id": "452f0547-efc1-47dd-8d4b-26b151f00082",
   "metadata": {},
   "outputs": [],
   "source": [
    "print(f\"Loading and preprocessing dataset '{dataset}'.\")\n",
    "    \n",
    "# Read counts and remove blank genes\n",
    "vizgen_dir = f\"{srt_data_bronze_folder_path}/merfish/\"\n",
    "adata = ad.read_text(vizgen_dir + \"HumanLiverCancerPatient1_cell_by_gene.csv\" ,delimiter=\",\", first_column_names=True)\n",
    "blank_genes = np.array([\"Blank\" in v for v in adata.var_names])\n",
    "adata.obsm[\"blank_genes\"] = pd.DataFrame(adata[:, blank_genes].X.copy(), columns=adata.var_names[blank_genes], index=adata.obs_names)\n",
    "adata = adata[:, ~blank_genes].copy()\n",
    "adata.X = sp.csr_matrix(adata.X)\n",
    "\n",
    "# Read metadata and align index for join\n",
    "metadata = pd.read_csv(vizgen_dir + \"HumanLiverCancerPatient1_cell_metadata.csv\", header=0, index_col=0)\n",
    "metadata.sort_index(inplace=True)\n",
    "metadata.index = metadata.index.astype(\"str\")\n",
    "\n",
    "# Join counts with obs and store spatial coordinates\n",
    "adata.obs = pd.merge(adata.obs, metadata, how=\"left\", left_index=True, right_index=True)\n",
    "adata.obsm[\"spatial\"] = adata.obs[[\"center_x\", \"center_y\"]].values\n",
    "adata.obs.drop(columns=[\"center_x\", \"center_y\"], inplace=True)\n",
    "\n",
    "# Preprocess\n",
    "adata.var_names_make_unique()\n",
    "adata.var[\"mt\"] = adata.var_names.str.startswith(\"mt-\")\n",
    "sc.pp.calculate_qc_metrics(adata, qc_vars=[\"mt\"], percent_top=(50, 100, 200, 300), inplace=True)\n",
    "sc.pp.filter_cells(adata, min_counts=50)\n",
    "sc.pp.filter_genes(adata, min_cells=10)\n",
    "\n",
    "# Store raw counts in `layers`\n",
    "adata.layers[\"counts\"] = adata.X.copy()\n",
    "\n",
    "# Store data to disk\n",
    "adata.write(f\"{srt_data_silver_folder_path}/{dataset}.h5ad\")\n",
    "\n",
    "# Determine cell annotation\n",
    "sc.pp.normalize_total(adata, inplace=True)\n",
    "sc.pp.log1p(adata)\n",
    "sc.pp.pca(adata)\n",
    "sc.pp.neighbors(adata)\n",
    "sc.tl.umap(adata)\n",
    "sc.tl.leiden(adata)\n",
    "sc.pl.umap(adata,\n",
    "           color=[\"total_counts\", \"n_genes_by_counts\", \"leiden\"])\n",
    "\n",
    "# Store data to disk\n",
    "adata.write(f\"{srt_data_gold_folder_path}/{dataset}.h5ad\")"
   ]
  },
  {
   "cell_type": "markdown",
   "id": "0014d882-a9cd-4d56-ab69-b472bd811ac5",
   "metadata": {},
   "source": [
    "#### 3.3.2 Explore Data"
   ]
  },
  {
   "cell_type": "code",
   "execution_count": null,
   "id": "c700a04a-20ab-4827-8c12-73c0fbb645fb",
   "metadata": {},
   "outputs": [],
   "source": [
    "print(f\"Exploring dataset {dataset}.\")\n",
    "print(f\"Number of nodes (cells): {adata.layers['counts'].shape[0]}\")\n",
    "print(f\"Number of node features (genes): {adata.layers['counts'].shape[1]}\")\n",
    "\n",
    "# Visualize cell-level annotated data in physical space\n",
    "sq.pl.spatial_scatter(adata, color=cell_type_key, shape=None, figsize=(12, 12))"
   ]
  },
  {
   "cell_type": "markdown",
   "id": "3f9356e3-e26b-46f9-8ee6-cf746ed76662",
   "metadata": {},
   "source": [
    "### 3.4 10x Genomics Xenium Human Breast Cancer Tumor Microenvironment"
   ]
  },
  {
   "cell_type": "code",
   "execution_count": null,
   "id": "d751fb52-7d31-45db-8176-b4d0216f1306",
   "metadata": {},
   "outputs": [],
   "source": [
    "dataset = \"10x_xenium_human_breast_cancer\"\n",
    "cell_type_key = \"leiden\""
   ]
  },
  {
   "cell_type": "markdown",
   "id": "fd9af406-07e4-4eb9-891f-dc5427fb84ef",
   "metadata": {
    "tags": []
   },
   "source": [
    "#### 3.4.1 Load & Preprocess Raw Data"
   ]
  },
  {
   "cell_type": "code",
   "execution_count": null,
   "id": "a62e1cb7-19c4-4713-be3e-5a68a2f084b1",
   "metadata": {},
   "outputs": [],
   "source": [
    "print(f\"Loading and preprocessing dataset '{dataset}'.\")\n",
    "\n",
    "# Read adata from file and add metadata\n",
    "xenium_dir = f\"{srt_data_bronze_folder_path}/xenium/\"\n",
    "adata = sc.read_10x_h5(filename=xenium_dir + \"Xenium_FFPE_Human_Breast_Cancer_z2_cell_feature_matrix.h5\")\n",
    "metadata = pd.read_csv(xenium_dir + \"Xenium_FFPE_Human_Breast_Cancer_z2_cells.csv\")\n",
    "metadata.set_index(adata.obs_names, inplace=True)\n",
    "adata.obs = metadata.copy()\n",
    "\n",
    "# Preprocess as per squidpy vignette\n",
    "adata.var_names_make_unique()\n",
    "adata.var[\"mt\"] = adata.var_names.str.startswith(\"mt-\")\n",
    "sc.pp.calculate_qc_metrics(adata, qc_vars=[\"mt\"],percent_top=(50, 100, 200, 300), inplace=True)\n",
    "sc.pp.filter_cells(adata, min_counts=10)\n",
    "sc.pp.filter_genes(adata, min_cells=5)\n",
    "\n",
    "# Store counts in `layers` and spatial coords in `obsm`\n",
    "adata.layers[\"counts\"] = adata.X.copy()\n",
    "adata.obsm[\"spatial\"] = adata.obs[[\"x_centroid\", \"y_centroid\"]].copy().to_numpy()\n",
    "\n",
    "# Store data to disk\n",
    "adata.write(f\"{srt_data_silver_folder_path}/{dataset}.h5ad\")\n",
    "\n",
    "# Determine cell annotation as per squidpy vignette\n",
    "sc.pp.normalize_total(adata, inplace=True)\n",
    "sc.pp.log1p(adata)\n",
    "sc.pp.pca(adata)\n",
    "sc.pp.neighbors(adata)\n",
    "sc.tl.umap(adata)\n",
    "sc.tl.leiden(adata)\n",
    "\n",
    "# Store data to disk\n",
    "adata.write(f\"{srt_data_gold_folder_path}/{dataset}.h5ad\")"
   ]
  },
  {
   "cell_type": "markdown",
   "id": "812ec32c-3b4f-4fb7-be9b-b50a86e1fb26",
   "metadata": {},
   "source": [
    "#### 3.4.2 Explore Data"
   ]
  },
  {
   "cell_type": "code",
   "execution_count": null,
   "id": "518ed7e8-585f-4be3-9fe0-a7debac6b24a",
   "metadata": {},
   "outputs": [],
   "source": [
    "print(f\"Exploring dataset {dataset}.\")\n",
    "print(f\"Number of nodes (cells): {adata.layers['counts'].shape[0]}\")\n",
    "print(f\"Number of node features (genes): {adata.layers['counts'].shape[1]}\")\n",
    "\n",
    "# Visualize cell-level annotated data in physical space\n",
    "sq.pl.spatial_scatter(adata, color=cell_type_key, shape=None, figsize=(12, 12))"
   ]
  },
  {
   "cell_type": "markdown",
   "id": "bac1dc9f-b243-4437-a8c5-ba4461fa89ac",
   "metadata": {},
   "source": [
    "### 3.5 EEL FISH Mouse Brain"
   ]
  },
  {
   "cell_type": "markdown",
   "id": "2f2bd4e8-42ce-4ac2-a50c-e935d2f1e9d1",
   "metadata": {},
   "source": [
    "- **Publication:** Borm, L. E. et al. Scalable in situ single-cell profiling by electrophoretic capture of mRNA using EEL FISH. Nat. Biotechnol. (2022) [doi:10.1038/s41587-022-01455-3](https://doi.org/10.1038/s41587-022-01455-3)\n",
    "- **Data Access:** https://figshare.com/articles/dataset/EEL_Mouse_440_genes_single_cell_data/20310771\n",
    "    - LBEXP20210718_EEL_Mouse_448_2_20220512.h5ad\n",
    "- **Summary:**\n",
    "    - Sagittal mouse brain section\n",
    "    - 127,591 observations on cell-level with cluster annotations \n",
    "    - 440 genes"
   ]
  },
  {
   "cell_type": "code",
   "execution_count": null,
   "id": "ffd3bc37-c3c5-4a94-a72c-9eaf3bc729ed",
   "metadata": {},
   "outputs": [],
   "source": [
    "dataset = \"eel_fish_mouse_brain\"\n",
    "cell_type_key = \"Clusters\""
   ]
  },
  {
   "cell_type": "markdown",
   "id": "3a9850a3-923c-493f-8bec-32ddecef77c9",
   "metadata": {},
   "source": [
    "#### 3.5.1 Load & Preprocess Raw Data"
   ]
  },
  {
   "cell_type": "code",
   "execution_count": null,
   "id": "f6c3e739-b7eb-460a-87a9-cee51b287b11",
   "metadata": {},
   "outputs": [],
   "source": [
    "print(f\"Loading and preprocessing dataset '{dataset}'.\")\n",
    "    \n",
    "# Read adata from file\n",
    "adata = sc.read_h5ad(f\"{srt_data_bronze_folder_path}/eel_fish_mouse_brain/LBEXP20210718_EEL_Mouse_448_2_20220512.h5ad\")\n",
    "\n",
    "# Store counts in `layers` and spatial coords in `obsm`\n",
    "adata.obsm[\"spatial\"] = adata.obs[[\"X\", \"Y\"]].values # smaller scale for plotting with squidpy\n",
    "adata.obs.drop(columns=[\"X\", \"Y\", \"X_um\", \"Y_um\"], inplace=True)\n",
    "adata.layers[\"counts\"] = adata.X.copy()\n",
    "adata.obs[\"batch\"] = \"sample1\"\n",
    "\n",
    "# Store data to disk\n",
    "adata.write(f\"{srt_data_gold_folder_path}/{dataset}.h5ad\")"
   ]
  },
  {
   "cell_type": "markdown",
   "id": "63cae3b5-3555-4a4c-b226-290ecd009c1f",
   "metadata": {},
   "source": [
    "#### 3.5.2 Explore Data"
   ]
  },
  {
   "cell_type": "code",
   "execution_count": null,
   "id": "75d873ae-a207-4a0a-a6f2-8f911087831c",
   "metadata": {},
   "outputs": [],
   "source": [
    "print(f\"Exploring dataset {dataset}.\")\n",
    "print(f\"Number of nodes (cells): {adata.layers['counts'].shape[0]}\")\n",
    "print(f\"Number of node features (genes): {adata.layers['counts'].shape[1]}\")\n",
    "\n",
    "# Visualize cell-level annotated data in physical space\n",
    "sq.pl.spatial_scatter(adata, color=cell_type_key, shape=None, figsize=(12, 12))"
   ]
  },
  {
   "cell_type": "code",
   "execution_count": null,
   "id": "841f0804-591d-40c8-9b09-8ffb38df5c77",
   "metadata": {},
   "outputs": [],
   "source": []
  }
 ],
 "metadata": {
  "kernelspec": {
   "display_name": "Python 3 (ipykernel)",
   "language": "python",
   "name": "python3"
  },
  "language_info": {
   "codemirror_mode": {
    "name": "ipython",
    "version": 3
   },
   "file_extension": ".py",
   "mimetype": "text/x-python",
   "name": "python",
   "nbconvert_exporter": "python",
   "pygments_lexer": "ipython3",
   "version": "3.9.17"
  },
  "toc-autonumbering": false,
  "toc-showcode": false,
  "toc-showmarkdowntxt": false
 },
 "nbformat": 4,
 "nbformat_minor": 5
}
