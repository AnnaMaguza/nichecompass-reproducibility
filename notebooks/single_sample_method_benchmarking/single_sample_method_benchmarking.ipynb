{
 "cells": [
  {
   "cell_type": "markdown",
   "id": "364a9ebc-3e3c-4645-9049-a34bd084c8a8",
   "metadata": {},
   "source": [
    "# Single Sample Method Benchmarking"
   ]
  },
  {
   "cell_type": "markdown",
   "id": "b0c55227-147e-417f-b0dd-bb0b7f322930",
   "metadata": {},
   "source": [
    "- **Creator**: Sebastian Birk (<sebastian.birk@helmholtz-munich.de>).\n",
    "- **Affiliation:** Helmholtz Munich, Institute of Computational Biology (ICB), Talavera-López Lab\n",
    "- **Date of Creation:** 06.01.2023\n",
    "- **Date of Last Modification:** 15.08.2023"
   ]
  },
  {
   "cell_type": "markdown",
   "id": "7529cde5-be12-403b-a94c-07561774b86c",
   "metadata": {},
   "source": [
    "## 1. Setup"
   ]
  },
  {
   "cell_type": "markdown",
   "id": "faad87bd-fef5-4429-a175-d714c491ae76",
   "metadata": {},
   "source": [
    "### 1.1 Import Libraries"
   ]
  },
  {
   "cell_type": "code",
   "execution_count": 1,
   "id": "d9533f18-f082-4dcc-8e93-117b9759133e",
   "metadata": {},
   "outputs": [],
   "source": [
    "%load_ext autoreload\n",
    "%autoreload 2"
   ]
  },
  {
   "cell_type": "code",
   "execution_count": 2,
   "id": "f1e0bf12-90ee-403e-8970-0d1ac2f47540",
   "metadata": {},
   "outputs": [],
   "source": [
    "import sys\n",
    "sys.path.append(\"../../../nichecompass-reproducibility/utils\")"
   ]
  },
  {
   "cell_type": "code",
   "execution_count": 6,
   "id": "d7f93960-c759-424f-8cb2-1d8698acae2c",
   "metadata": {},
   "outputs": [],
   "source": [
    "import os\n",
    "import warnings\n",
    "from datetime import datetime\n",
    "\n",
    "import matplotlib\n",
    "import matplotlib.colors as colors\n",
    "import matplotlib.pyplot as plt\n",
    "import numpy as np\n",
    "import pandas as pd\n",
    "import pickle\n",
    "import plottable\n",
    "import scanpy as sc\n",
    "import scib_metrics\n",
    "import seaborn as sns\n",
    "from matplotlib import gridspec\n",
    "from matplotlib.colors import LinearSegmentedColormap\n",
    "from plottable import ColumnDefinition, Table\n",
    "from plottable.cmap import normed_cmap\n",
    "from plottable.formatters import tickcross\n",
    "from plottable.plots import bar\n",
    "\n",
    "from nichecompass.utils import (add_gps_from_gp_dict_to_adata,\n",
    "                                extract_gp_dict_from_mebocost_es_interactions,\n",
    "                                extract_gp_dict_from_nichenet_lrt_interactions,\n",
    "                                extract_gp_dict_from_omnipath_lr_interactions,\n",
    "                                filter_and_combine_gp_dict_gps)\n",
    "\n",
    "from benchmarking_utils import (compute_combined_benchmarking_metrics_for_all_models,\n",
    "                                compute_combined_benchmarking_metrics)"
   ]
  },
  {
   "cell_type": "markdown",
   "id": "39b5efa5-2052-4986-8ae5-89cfab018515",
   "metadata": {},
   "source": [
    "### 1.2 Define Parameters"
   ]
  },
  {
   "cell_type": "code",
   "execution_count": 7,
   "id": "e5c8b48a-ed5e-48b5-8c5c-c1de11493aee",
   "metadata": {},
   "outputs": [],
   "source": [
    "spatial_key = \"spatial\""
   ]
  },
  {
   "cell_type": "markdown",
   "id": "28adc110-0f41-4a71-9838-dc7f0687809a",
   "metadata": {},
   "source": [
    "### 1.3 Run Notebook Setup"
   ]
  },
  {
   "cell_type": "code",
   "execution_count": 8,
   "id": "334b87ca-3387-4ba9-8567-84bc4754ff0c",
   "metadata": {},
   "outputs": [],
   "source": [
    "sc.set_figure_params(figsize=(6, 6))"
   ]
  },
  {
   "cell_type": "code",
   "execution_count": 9,
   "id": "3944b0c4-023b-4fcb-9b61-9293f08939b2",
   "metadata": {},
   "outputs": [],
   "source": [
    "# Ignore future warnings and user warnings\n",
    "warnings.simplefilter(action=\"ignore\", category=FutureWarning)\n",
    "warnings.simplefilter(action=\"ignore\", category=UserWarning)\n",
    "warnings.simplefilter(action=\"ignore\", category=DeprecationWarning)"
   ]
  },
  {
   "cell_type": "code",
   "execution_count": 10,
   "id": "0ab6b302-1c0b-4937-8624-40629ada2e46",
   "metadata": {},
   "outputs": [],
   "source": [
    "# Get time of notebook execution for timestamping saved artifacts\n",
    "now = datetime.now()\n",
    "current_timestamp = now.strftime(\"%d%m%Y_%H%M%S\")"
   ]
  },
  {
   "cell_type": "markdown",
   "id": "85538952-006b-4b0b-a50c-fe7445ce22e2",
   "metadata": {},
   "source": [
    "### 1.4 Configure Paths and Directories"
   ]
  },
  {
   "cell_type": "code",
   "execution_count": 11,
   "id": "7ddcc49c-ba22-4155-acd5-05b5b810e091",
   "metadata": {},
   "outputs": [],
   "source": [
    "data_folder_path = \"../../datasets/srt_data/gold\"\n",
    "artifact_folder_path = f\"../../artifacts\"\n",
    "gp_data_folder_path = \"../../datasets/gp_data\" # gene program data\n",
    "nichenet_ligand_target_mx_file_path = gp_data_folder_path + \"/nichenet_ligand_target_matrix.csv\"\n",
    "omnipath_lr_interactions_file_path = gp_data_folder_path + \"/omnipath_lr_interactions.csv\""
   ]
  },
  {
   "cell_type": "markdown",
   "id": "5e1f3798-2b4a-49ed-892c-a85d167d8ff1",
   "metadata": {},
   "source": [
    "## 2. Method Benchmarking"
   ]
  },
  {
   "cell_type": "markdown",
   "id": "bed96ebf-922e-42c2-a8aa-778e59737bc0",
   "metadata": {},
   "source": [
    "- Run all model notebooks in the ```notebooks/single_sample_method_benchmarking``` directory before continuing."
   ]
  },
  {
   "cell_type": "markdown",
   "id": "82ff99c4-ab55-4b85-90e9-d73eaa88f282",
   "metadata": {},
   "source": [
    "### 2.1 Benchmarking Metrics"
   ]
  },
  {
   "cell_type": "markdown",
   "id": "bc425774-da7b-40c1-9deb-65299e8c3ea1",
   "metadata": {},
   "source": [
    "#### 2.2.1 Define Functions"
   ]
  },
  {
   "cell_type": "code",
   "execution_count": null,
   "id": "7ce3a1e5-6886-4f83-b17d-1e3b4f58e56b",
   "metadata": {},
   "outputs": [],
   "source": []
  },
  {
   "cell_type": "code",
   "execution_count": null,
   "id": "2a735441-aac3-4a3a-b56c-7ee638a0ba69",
   "metadata": {},
   "outputs": [],
   "source": []
  },
  {
   "cell_type": "code",
   "execution_count": 40,
   "id": "675da1cd-08a5-4e1c-8ffc-7c38d5d1858d",
   "metadata": {},
   "outputs": [],
   "source": [
    "adata = sc.read_h5ad(\"../../artifacts/single_sample_method_benchmarking/nanostring_cosmx_human_nsclc_subsample_20pct_autotalker_single_sample_method_benchmarking.h5ad\")"
   ]
  },
  {
   "cell_type": "code",
   "execution_count": 75,
   "id": "1722bf94-56ef-4aa1-8f28-f5112b778d8e",
   "metadata": {},
   "outputs": [],
   "source": [
    "adata2 = sc.read_h5ad(\"../../artifacts/single_sample_method_benchmarking/nanostring_cosmx_human_nsclc_subsample_20pct_sagenet.h5ad\")"
   ]
  },
  {
   "cell_type": "code",
   "execution_count": 76,
   "id": "05ad4e4a-22a1-4f68-8d35-322da255b4df",
   "metadata": {},
   "outputs": [
    {
     "data": {
      "text/plain": [
       "AnnData object with n_obs × n_vars = 18895 × 960\n",
       "    obs: 'cell_type'\n",
       "    uns: 'sagenet_model_training_duration_run1', 'sagenet_model_training_duration_run10', 'sagenet_model_training_duration_run2', 'sagenet_model_training_duration_run3', 'sagenet_model_training_duration_run4', 'sagenet_model_training_duration_run5', 'sagenet_model_training_duration_run6', 'sagenet_model_training_duration_run7', 'sagenet_model_training_duration_run8', 'sagenet_model_training_duration_run9'\n",
       "    obsm: 'sagenet_latent_run1', 'sagenet_latent_run10', 'sagenet_latent_run2', 'sagenet_latent_run3', 'sagenet_latent_run4', 'sagenet_latent_run5', 'sagenet_latent_run6', 'sagenet_latent_run7', 'sagenet_latent_run8', 'sagenet_latent_run9', 'spatial'"
      ]
     },
     "execution_count": 76,
     "metadata": {},
     "output_type": "execute_result"
    }
   ],
   "source": [
    "adata2"
   ]
  },
  {
   "cell_type": "code",
   "execution_count": 73,
   "id": "13143437-2666-4ed4-8bc1-fad3cde3addd",
   "metadata": {},
   "outputs": [],
   "source": [
    "adata2.obsm[\"spatial\"] = adata.obsm[\"spatial\"]"
   ]
  },
  {
   "cell_type": "code",
   "execution_count": 74,
   "id": "4ed304ac-4ef0-4396-8cf9-8b1915631abe",
   "metadata": {},
   "outputs": [],
   "source": [
    "adata2.write(\"../../artifacts/single_sample_method_benchmarking/nanostring_cosmx_human_nsclc_subsample_20pct_sagenet.h5ad\")"
   ]
  },
  {
   "cell_type": "markdown",
   "id": "3b8aab44-bd2d-46be-83dd-ef60136b473f",
   "metadata": {},
   "source": [
    "#### 2.2.2 Compute Benchmarking Metrics"
   ]
  },
  {
   "cell_type": "code",
   "execution_count": null,
   "id": "6fbe798c-0b98-4b47-a91c-d9756a688dfd",
   "metadata": {},
   "outputs": [
    {
     "name": "stdout",
     "output_type": "stream",
     "text": [
      "Computing metrics for scVI...\n",
      "AnnData object with n_obs × n_vars = 18895 × 960\n",
      "    obs: 'cell_type'\n",
      "    uns: 'scvi_model_training_duration_run1', 'scvi_model_training_duration_run10', 'scvi_model_training_duration_run2', 'scvi_model_training_duration_run3', 'scvi_model_training_duration_run4', 'scvi_model_training_duration_run5', 'scvi_model_training_duration_run6', 'scvi_model_training_duration_run7', 'scvi_model_training_duration_run8', 'scvi_model_training_duration_run9'\n",
      "    obsm: 'scvi_latent_run1', 'scvi_latent_run10', 'scvi_latent_run2', 'scvi_latent_run3', 'scvi_latent_run4', 'scvi_latent_run5', 'scvi_latent_run6', 'scvi_latent_run7', 'scvi_latent_run8', 'scvi_latent_run9', 'spatial'\n",
      "Computing spatial nearest neighbor graph with 15 neighbors for entire dataset...\n",
      "Computing spatial nearest neighbor graph with 90 neighbors for entire dataset...\n",
      "Computing latent nearest neighbor graph with 15 neighbors for entire dataset...\n",
      "Computing latent nearest neighbor graph with 90 neighbors for entire dataset...\n",
      "Neighbor graphs computed. Elapsed time: 0 minutes 20 seconds.\n",
      "\n",
      "Computing benchmarking metrics...\n",
      "Computing GCS metric...\n",
      "Using precomputed spatial nearest neighbor graph...\n",
      "Using precomputed latent nearest neighbor graph...\n",
      "Computing GCS for entire dataset...\n",
      "GCS metric computed. Elapsed time: 0 minutes 20 seconds.\n",
      "\n",
      "Computing MLAMI Metric...\n",
      "Using precomputed spatial nearest neighbor graph...\n",
      "Using precomputed latent nearest neighbor graph...\n",
      "Computing spatial Leiden clusterings for entire dataset...\n",
      "Computing latent Leiden clusterings...\n",
      "Computing MLAMI for entire dataset...\n",
      "MLAMI metric computed. Elapsed time: 0 minutes 43 seconds.\n",
      "\n",
      "Computing CAS metric...\n",
      "Using precomputed spatial nearest neighbor graph...\n",
      "Computing spatial neighborhood enrichment scores...\n",
      "Using precomputed latent nearest neighbor graph...\n",
      "Computing latent neighborhood enrichment scores...\n",
      "Computing CAS...\n",
      "CAS metric computed. Elapsed time: 0 minutes 45 seconds.\n",
      "\n",
      "Computing CLISIS metric...\n",
      "Using precomputed spatial nearest neighbor graph...\n",
      "Computing spatial cell CLISI scores for entire dataset...\n",
      "Using precomputed latent nearest neighbor graph...\n",
      "Computing latent cell CLISI scores...\n",
      "Computing CLISIS...\n",
      "CLISIS metric computed. Elapsed time: 0 minutes 45 seconds.\n",
      "\n",
      "Computing CNMI and CARI metrics...\n",
      "CNMI and CARI metrics computed. Elapsed time: 0 minutes 45 seconds.\n",
      "\n",
      "Computing CASW Metric...\n",
      "CASW metric computed. Elapsed time: 0 minutes 46 seconds.\n",
      "\n",
      "Computing CLISI metric...\n",
      "CLISI metric computed. Elapsed time: 0 minutes 46 seconds.\n",
      "\n",
      "Computing NASW Metric...\n",
      "Using precomputed latent nearest neighbor graph...\n",
      "Computing latent Leiden clusterings...\n",
      "Using precomputed latent Leiden clusters for resolution 0.1.\n",
      "Using precomputed latent Leiden clusters for resolution 0.55.\n",
      "Using precomputed latent Leiden clusters for resolution 1.0.\n",
      "Computing NASW...\n",
      "NASW metric computed. Elapsed time: 0 minutes 46 seconds.\n",
      "\n",
      "AnnData object with n_obs × n_vars = 18895 × 960\n",
      "    obs: 'cell_type', 'leiden_spatial_0.1', 'leiden_spatial_0.55', 'leiden_spatial_1.0', 'leiden_latent_0.1', 'leiden_latent_0.55', 'leiden_latent_1.0'\n",
      "    uns: 'scvi_model_training_duration_run1', 'scvi_model_training_duration_run10', 'scvi_model_training_duration_run2', 'scvi_model_training_duration_run3', 'scvi_model_training_duration_run4', 'scvi_model_training_duration_run5', 'scvi_model_training_duration_run6', 'scvi_model_training_duration_run7', 'scvi_model_training_duration_run8', 'scvi_model_training_duration_run9', 'spatial_15knng_n_neighbors', 'spatial_90knng_n_neighbors', 'scvi_latent_run1_15knng_n_neighbors', 'scvi_latent_run1_90knng_n_neighbors', 'leiden', 'cell_type_nhood_enrichment', 'cell_type_spatial_nhood_enrichment', 'cell_type_latent_nhood_enrichment'\n",
      "    obsm: 'scvi_latent_run1', 'scvi_latent_run10', 'scvi_latent_run2', 'scvi_latent_run3', 'scvi_latent_run4', 'scvi_latent_run5', 'scvi_latent_run6', 'scvi_latent_run7', 'scvi_latent_run8', 'scvi_latent_run9', 'spatial'\n",
      "    obsp: 'spatial_15knng_connectivities', 'spatial_15knng_distances', 'spatial_90knng_connectivities', 'spatial_90knng_distances', 'scvi_latent_run1_15knng_connectivities', 'scvi_latent_run1_15knng_distances', 'scvi_latent_run1_90knng_connectivities', 'scvi_latent_run1_90knng_distances'\n",
      "Using precomputed spatial nearest neighbor graph with 15 neighbors...\n",
      "Using precomputed spatial nearest neighbor graph with 90 neighbors...\n",
      "Computing latent nearest neighbor graph with 15 neighbors for entire dataset...\n",
      "Computing latent nearest neighbor graph with 90 neighbors for entire dataset...\n",
      "Neighbor graphs computed. Elapsed time: 0 minutes 10 seconds.\n",
      "\n",
      "Computing benchmarking metrics...\n",
      "Computing GCS metric...\n",
      "Using precomputed spatial nearest neighbor graph...\n",
      "Using precomputed latent nearest neighbor graph...\n",
      "Computing GCS for entire dataset...\n",
      "GCS metric computed. Elapsed time: 0 minutes 10 seconds.\n",
      "\n",
      "Computing MLAMI Metric...\n",
      "Using precomputed spatial nearest neighbor graph...\n",
      "Using precomputed latent nearest neighbor graph...\n",
      "Computing spatial Leiden clusterings for entire dataset...\n",
      "Computing latent Leiden clusterings...\n",
      "Computing MLAMI for entire dataset...\n",
      "MLAMI metric computed. Elapsed time: 0 minutes 35 seconds.\n",
      "\n",
      "Computing CAS metric...\n",
      "Using precomputed spatial nearest neighbor graph...\n",
      "Computing spatial neighborhood enrichment scores...\n",
      "Using precomputed latent nearest neighbor graph...\n",
      "Computing latent neighborhood enrichment scores...\n",
      "Computing CAS...\n",
      "CAS metric computed. Elapsed time: 0 minutes 36 seconds.\n",
      "\n",
      "Computing CLISIS metric...\n",
      "Using precomputed spatial nearest neighbor graph...\n",
      "Computing spatial cell CLISI scores for entire dataset...\n",
      "Using precomputed latent nearest neighbor graph...\n",
      "Computing latent cell CLISI scores...\n",
      "Computing CLISIS...\n",
      "CLISIS metric computed. Elapsed time: 0 minutes 37 seconds.\n",
      "\n",
      "Computing CNMI and CARI metrics...\n",
      "CNMI and CARI metrics computed. Elapsed time: 0 minutes 37 seconds.\n",
      "\n",
      "Computing CASW Metric...\n",
      "CASW metric computed. Elapsed time: 0 minutes 37 seconds.\n",
      "\n",
      "Computing CLISI metric...\n",
      "CLISI metric computed. Elapsed time: 0 minutes 38 seconds.\n",
      "\n",
      "Computing NASW Metric...\n",
      "Using precomputed latent nearest neighbor graph...\n",
      "Computing latent Leiden clusterings...\n",
      "Using precomputed latent Leiden clusters for resolution 0.1.\n",
      "Using precomputed latent Leiden clusters for resolution 0.55.\n",
      "Using precomputed latent Leiden clusters for resolution 1.0.\n",
      "Computing NASW...\n",
      "NASW metric computed. Elapsed time: 0 minutes 38 seconds.\n",
      "\n",
      "AnnData object with n_obs × n_vars = 18895 × 960\n",
      "    obs: 'cell_type', 'leiden_spatial_0.1', 'leiden_spatial_0.55', 'leiden_spatial_1.0', 'leiden_latent_0.1', 'leiden_latent_0.55', 'leiden_latent_1.0'\n",
      "    uns: 'scvi_model_training_duration_run1', 'scvi_model_training_duration_run10', 'scvi_model_training_duration_run2', 'scvi_model_training_duration_run3', 'scvi_model_training_duration_run4', 'scvi_model_training_duration_run5', 'scvi_model_training_duration_run6', 'scvi_model_training_duration_run7', 'scvi_model_training_duration_run8', 'scvi_model_training_duration_run9', 'spatial_15knng_n_neighbors', 'spatial_90knng_n_neighbors', 'scvi_latent_run1_15knng_n_neighbors', 'scvi_latent_run1_90knng_n_neighbors', 'leiden', 'cell_type_nhood_enrichment', 'cell_type_spatial_nhood_enrichment', 'cell_type_latent_nhood_enrichment', 'scvi_latent_run2_15knng_n_neighbors', 'scvi_latent_run2_90knng_n_neighbors'\n",
      "    obsm: 'scvi_latent_run1', 'scvi_latent_run10', 'scvi_latent_run2', 'scvi_latent_run3', 'scvi_latent_run4', 'scvi_latent_run5', 'scvi_latent_run6', 'scvi_latent_run7', 'scvi_latent_run8', 'scvi_latent_run9', 'spatial'\n",
      "    obsp: 'spatial_15knng_connectivities', 'spatial_15knng_distances', 'spatial_90knng_connectivities', 'spatial_90knng_distances', 'scvi_latent_run1_15knng_connectivities', 'scvi_latent_run1_15knng_distances', 'scvi_latent_run1_90knng_connectivities', 'scvi_latent_run1_90knng_distances', 'scvi_latent_run2_15knng_connectivities', 'scvi_latent_run2_15knng_distances', 'scvi_latent_run2_90knng_connectivities', 'scvi_latent_run2_90knng_distances'\n",
      "Using precomputed spatial nearest neighbor graph with 15 neighbors...\n",
      "Using precomputed spatial nearest neighbor graph with 90 neighbors...\n",
      "Computing latent nearest neighbor graph with 15 neighbors for entire dataset...\n",
      "Computing latent nearest neighbor graph with 90 neighbors for entire dataset...\n",
      "Neighbor graphs computed. Elapsed time: 0 minutes 10 seconds.\n",
      "\n",
      "Computing benchmarking metrics...\n",
      "Computing GCS metric...\n",
      "Using precomputed spatial nearest neighbor graph...\n",
      "Using precomputed latent nearest neighbor graph...\n",
      "Computing GCS for entire dataset...\n",
      "GCS metric computed. Elapsed time: 0 minutes 10 seconds.\n",
      "\n",
      "Computing MLAMI Metric...\n",
      "Using precomputed spatial nearest neighbor graph...\n",
      "Using precomputed latent nearest neighbor graph...\n",
      "Computing spatial Leiden clusterings for entire dataset...\n",
      "Computing latent Leiden clusterings...\n",
      "Computing MLAMI for entire dataset...\n",
      "MLAMI metric computed. Elapsed time: 0 minutes 34 seconds.\n",
      "\n",
      "Computing CAS metric...\n",
      "Using precomputed spatial nearest neighbor graph...\n",
      "Computing spatial neighborhood enrichment scores...\n",
      "Using precomputed latent nearest neighbor graph...\n",
      "Computing latent neighborhood enrichment scores...\n",
      "Computing CAS...\n",
      "CAS metric computed. Elapsed time: 0 minutes 36 seconds.\n",
      "\n",
      "Computing CLISIS metric...\n",
      "Using precomputed spatial nearest neighbor graph...\n",
      "Computing spatial cell CLISI scores for entire dataset...\n",
      "Using precomputed latent nearest neighbor graph...\n",
      "Computing latent cell CLISI scores...\n",
      "Computing CLISIS...\n",
      "CLISIS metric computed. Elapsed time: 0 minutes 36 seconds.\n",
      "\n",
      "Computing CNMI and CARI metrics...\n",
      "CNMI and CARI metrics computed. Elapsed time: 0 minutes 37 seconds.\n",
      "\n",
      "Computing CASW Metric...\n",
      "CASW metric computed. Elapsed time: 0 minutes 37 seconds.\n",
      "\n",
      "Computing CLISI metric...\n",
      "CLISI metric computed. Elapsed time: 0 minutes 37 seconds.\n",
      "\n",
      "Computing NASW Metric...\n",
      "Using precomputed latent nearest neighbor graph...\n",
      "Computing latent Leiden clusterings...\n",
      "Using precomputed latent Leiden clusters for resolution 0.1.\n",
      "Using precomputed latent Leiden clusters for resolution 0.55.\n",
      "Using precomputed latent Leiden clusters for resolution 1.0.\n",
      "Computing NASW...\n",
      "NASW metric computed. Elapsed time: 0 minutes 38 seconds.\n",
      "\n",
      "AnnData object with n_obs × n_vars = 18895 × 960\n",
      "    obs: 'cell_type', 'leiden_spatial_0.1', 'leiden_spatial_0.55', 'leiden_spatial_1.0', 'leiden_latent_0.1', 'leiden_latent_0.55', 'leiden_latent_1.0'\n",
      "    uns: 'scvi_model_training_duration_run1', 'scvi_model_training_duration_run10', 'scvi_model_training_duration_run2', 'scvi_model_training_duration_run3', 'scvi_model_training_duration_run4', 'scvi_model_training_duration_run5', 'scvi_model_training_duration_run6', 'scvi_model_training_duration_run7', 'scvi_model_training_duration_run8', 'scvi_model_training_duration_run9', 'spatial_15knng_n_neighbors', 'spatial_90knng_n_neighbors', 'scvi_latent_run1_15knng_n_neighbors', 'scvi_latent_run1_90knng_n_neighbors', 'leiden', 'cell_type_nhood_enrichment', 'cell_type_spatial_nhood_enrichment', 'cell_type_latent_nhood_enrichment', 'scvi_latent_run2_15knng_n_neighbors', 'scvi_latent_run2_90knng_n_neighbors', 'scvi_latent_run3_15knng_n_neighbors', 'scvi_latent_run3_90knng_n_neighbors'\n",
      "    obsm: 'scvi_latent_run1', 'scvi_latent_run10', 'scvi_latent_run2', 'scvi_latent_run3', 'scvi_latent_run4', 'scvi_latent_run5', 'scvi_latent_run6', 'scvi_latent_run7', 'scvi_latent_run8', 'scvi_latent_run9', 'spatial'\n",
      "    obsp: 'spatial_15knng_connectivities', 'spatial_15knng_distances', 'spatial_90knng_connectivities', 'spatial_90knng_distances', 'scvi_latent_run1_15knng_connectivities', 'scvi_latent_run1_15knng_distances', 'scvi_latent_run1_90knng_connectivities', 'scvi_latent_run1_90knng_distances', 'scvi_latent_run2_15knng_connectivities', 'scvi_latent_run2_15knng_distances', 'scvi_latent_run2_90knng_connectivities', 'scvi_latent_run2_90knng_distances', 'scvi_latent_run3_15knng_connectivities', 'scvi_latent_run3_15knng_distances', 'scvi_latent_run3_90knng_connectivities', 'scvi_latent_run3_90knng_distances'\n",
      "Using precomputed spatial nearest neighbor graph with 15 neighbors...\n",
      "Using precomputed spatial nearest neighbor graph with 90 neighbors...\n",
      "Computing latent nearest neighbor graph with 15 neighbors for entire dataset...\n",
      "Computing latent nearest neighbor graph with 90 neighbors for entire dataset...\n",
      "Neighbor graphs computed. Elapsed time: 0 minutes 10 seconds.\n",
      "\n",
      "Computing benchmarking metrics...\n",
      "Computing GCS metric...\n",
      "Using precomputed spatial nearest neighbor graph...\n",
      "Using precomputed latent nearest neighbor graph...\n",
      "Computing GCS for entire dataset...\n",
      "GCS metric computed. Elapsed time: 0 minutes 10 seconds.\n",
      "\n",
      "Computing MLAMI Metric...\n",
      "Using precomputed spatial nearest neighbor graph...\n",
      "Using precomputed latent nearest neighbor graph...\n",
      "Computing spatial Leiden clusterings for entire dataset...\n",
      "Computing latent Leiden clusterings...\n",
      "Computing MLAMI for entire dataset...\n",
      "MLAMI metric computed. Elapsed time: 0 minutes 33 seconds.\n",
      "\n",
      "Computing CAS metric...\n",
      "Using precomputed spatial nearest neighbor graph...\n",
      "Computing spatial neighborhood enrichment scores...\n",
      "Using precomputed latent nearest neighbor graph...\n",
      "Computing latent neighborhood enrichment scores...\n",
      "Computing CAS...\n",
      "CAS metric computed. Elapsed time: 0 minutes 34 seconds.\n",
      "\n",
      "Computing CLISIS metric...\n",
      "Using precomputed spatial nearest neighbor graph...\n",
      "Computing spatial cell CLISI scores for entire dataset...\n",
      "Using precomputed latent nearest neighbor graph...\n",
      "Computing latent cell CLISI scores...\n",
      "Computing CLISIS...\n",
      "CLISIS metric computed. Elapsed time: 0 minutes 34 seconds.\n",
      "\n",
      "Computing CNMI and CARI metrics...\n",
      "CNMI and CARI metrics computed. Elapsed time: 0 minutes 35 seconds.\n",
      "\n",
      "Computing CASW Metric...\n",
      "CASW metric computed. Elapsed time: 0 minutes 35 seconds.\n",
      "\n",
      "Computing CLISI metric...\n",
      "CLISI metric computed. Elapsed time: 0 minutes 35 seconds.\n",
      "\n",
      "Computing NASW Metric...\n",
      "Using precomputed latent nearest neighbor graph...\n",
      "Computing latent Leiden clusterings...\n",
      "Using precomputed latent Leiden clusters for resolution 0.1.\n",
      "Using precomputed latent Leiden clusters for resolution 0.55.\n",
      "Using precomputed latent Leiden clusters for resolution 1.0.\n",
      "Computing NASW...\n",
      "NASW metric computed. Elapsed time: 0 minutes 36 seconds.\n",
      "\n",
      "AnnData object with n_obs × n_vars = 18895 × 960\n",
      "    obs: 'cell_type', 'leiden_spatial_0.1', 'leiden_spatial_0.55', 'leiden_spatial_1.0', 'leiden_latent_0.1', 'leiden_latent_0.55', 'leiden_latent_1.0'\n",
      "    uns: 'scvi_model_training_duration_run1', 'scvi_model_training_duration_run10', 'scvi_model_training_duration_run2', 'scvi_model_training_duration_run3', 'scvi_model_training_duration_run4', 'scvi_model_training_duration_run5', 'scvi_model_training_duration_run6', 'scvi_model_training_duration_run7', 'scvi_model_training_duration_run8', 'scvi_model_training_duration_run9', 'spatial_15knng_n_neighbors', 'spatial_90knng_n_neighbors', 'scvi_latent_run1_15knng_n_neighbors', 'scvi_latent_run1_90knng_n_neighbors', 'leiden', 'cell_type_nhood_enrichment', 'cell_type_spatial_nhood_enrichment', 'cell_type_latent_nhood_enrichment', 'scvi_latent_run2_15knng_n_neighbors', 'scvi_latent_run2_90knng_n_neighbors', 'scvi_latent_run3_15knng_n_neighbors', 'scvi_latent_run3_90knng_n_neighbors', 'scvi_latent_run4_15knng_n_neighbors', 'scvi_latent_run4_90knng_n_neighbors'\n",
      "    obsm: 'scvi_latent_run1', 'scvi_latent_run10', 'scvi_latent_run2', 'scvi_latent_run3', 'scvi_latent_run4', 'scvi_latent_run5', 'scvi_latent_run6', 'scvi_latent_run7', 'scvi_latent_run8', 'scvi_latent_run9', 'spatial'\n",
      "    obsp: 'spatial_15knng_connectivities', 'spatial_15knng_distances', 'spatial_90knng_connectivities', 'spatial_90knng_distances', 'scvi_latent_run1_15knng_connectivities', 'scvi_latent_run1_15knng_distances', 'scvi_latent_run1_90knng_connectivities', 'scvi_latent_run1_90knng_distances', 'scvi_latent_run2_15knng_connectivities', 'scvi_latent_run2_15knng_distances', 'scvi_latent_run2_90knng_connectivities', 'scvi_latent_run2_90knng_distances', 'scvi_latent_run3_15knng_connectivities', 'scvi_latent_run3_15knng_distances', 'scvi_latent_run3_90knng_connectivities', 'scvi_latent_run3_90knng_distances', 'scvi_latent_run4_15knng_connectivities', 'scvi_latent_run4_15knng_distances', 'scvi_latent_run4_90knng_connectivities', 'scvi_latent_run4_90knng_distances'\n",
      "Using precomputed spatial nearest neighbor graph with 15 neighbors...\n",
      "Using precomputed spatial nearest neighbor graph with 90 neighbors...\n",
      "Computing latent nearest neighbor graph with 15 neighbors for entire dataset...\n",
      "Computing latent nearest neighbor graph with 90 neighbors for entire dataset...\n",
      "Neighbor graphs computed. Elapsed time: 0 minutes 10 seconds.\n",
      "\n",
      "Computing benchmarking metrics...\n",
      "Computing GCS metric...\n",
      "Using precomputed spatial nearest neighbor graph...\n",
      "Using precomputed latent nearest neighbor graph...\n",
      "Computing GCS for entire dataset...\n",
      "GCS metric computed. Elapsed time: 0 minutes 10 seconds.\n",
      "\n",
      "Computing MLAMI Metric...\n",
      "Using precomputed spatial nearest neighbor graph...\n",
      "Using precomputed latent nearest neighbor graph...\n",
      "Computing spatial Leiden clusterings for entire dataset...\n",
      "Computing latent Leiden clusterings...\n",
      "Computing MLAMI for entire dataset...\n",
      "MLAMI metric computed. Elapsed time: 0 minutes 36 seconds.\n",
      "\n",
      "Computing CAS metric...\n",
      "Using precomputed spatial nearest neighbor graph...\n",
      "Computing spatial neighborhood enrichment scores...\n",
      "Using precomputed latent nearest neighbor graph...\n",
      "Computing latent neighborhood enrichment scores...\n",
      "Computing CAS...\n",
      "CAS metric computed. Elapsed time: 0 minutes 37 seconds.\n",
      "\n",
      "Computing CLISIS metric...\n",
      "Using precomputed spatial nearest neighbor graph...\n",
      "Computing spatial cell CLISI scores for entire dataset...\n",
      "Using precomputed latent nearest neighbor graph...\n",
      "Computing latent cell CLISI scores...\n",
      "Computing CLISIS...\n",
      "CLISIS metric computed. Elapsed time: 0 minutes 38 seconds.\n",
      "\n",
      "Computing CNMI and CARI metrics...\n",
      "CNMI and CARI metrics computed. Elapsed time: 0 minutes 38 seconds.\n",
      "\n",
      "Computing CASW Metric...\n",
      "CASW metric computed. Elapsed time: 0 minutes 38 seconds.\n",
      "\n",
      "Computing CLISI metric...\n",
      "CLISI metric computed. Elapsed time: 0 minutes 38 seconds.\n",
      "\n",
      "Computing NASW Metric...\n",
      "Using precomputed latent nearest neighbor graph...\n",
      "Computing latent Leiden clusterings...\n",
      "Using precomputed latent Leiden clusters for resolution 0.1.\n",
      "Using precomputed latent Leiden clusters for resolution 0.55.\n",
      "Using precomputed latent Leiden clusters for resolution 1.0.\n",
      "Computing NASW...\n",
      "NASW metric computed. Elapsed time: 0 minutes 39 seconds.\n",
      "\n",
      "AnnData object with n_obs × n_vars = 18895 × 960\n",
      "    obs: 'cell_type', 'leiden_spatial_0.1', 'leiden_spatial_0.55', 'leiden_spatial_1.0', 'leiden_latent_0.1', 'leiden_latent_0.55', 'leiden_latent_1.0'\n",
      "    uns: 'scvi_model_training_duration_run1', 'scvi_model_training_duration_run10', 'scvi_model_training_duration_run2', 'scvi_model_training_duration_run3', 'scvi_model_training_duration_run4', 'scvi_model_training_duration_run5', 'scvi_model_training_duration_run6', 'scvi_model_training_duration_run7', 'scvi_model_training_duration_run8', 'scvi_model_training_duration_run9', 'spatial_15knng_n_neighbors', 'spatial_90knng_n_neighbors', 'scvi_latent_run1_15knng_n_neighbors', 'scvi_latent_run1_90knng_n_neighbors', 'leiden', 'cell_type_nhood_enrichment', 'cell_type_spatial_nhood_enrichment', 'cell_type_latent_nhood_enrichment', 'scvi_latent_run2_15knng_n_neighbors', 'scvi_latent_run2_90knng_n_neighbors', 'scvi_latent_run3_15knng_n_neighbors', 'scvi_latent_run3_90knng_n_neighbors', 'scvi_latent_run4_15knng_n_neighbors', 'scvi_latent_run4_90knng_n_neighbors', 'scvi_latent_run5_15knng_n_neighbors', 'scvi_latent_run5_90knng_n_neighbors'\n",
      "    obsm: 'scvi_latent_run1', 'scvi_latent_run10', 'scvi_latent_run2', 'scvi_latent_run3', 'scvi_latent_run4', 'scvi_latent_run5', 'scvi_latent_run6', 'scvi_latent_run7', 'scvi_latent_run8', 'scvi_latent_run9', 'spatial'\n",
      "    obsp: 'spatial_15knng_connectivities', 'spatial_15knng_distances', 'spatial_90knng_connectivities', 'spatial_90knng_distances', 'scvi_latent_run1_15knng_connectivities', 'scvi_latent_run1_15knng_distances', 'scvi_latent_run1_90knng_connectivities', 'scvi_latent_run1_90knng_distances', 'scvi_latent_run2_15knng_connectivities', 'scvi_latent_run2_15knng_distances', 'scvi_latent_run2_90knng_connectivities', 'scvi_latent_run2_90knng_distances', 'scvi_latent_run3_15knng_connectivities', 'scvi_latent_run3_15knng_distances', 'scvi_latent_run3_90knng_connectivities', 'scvi_latent_run3_90knng_distances', 'scvi_latent_run4_15knng_connectivities', 'scvi_latent_run4_15knng_distances', 'scvi_latent_run4_90knng_connectivities', 'scvi_latent_run4_90knng_distances', 'scvi_latent_run5_15knng_connectivities', 'scvi_latent_run5_15knng_distances', 'scvi_latent_run5_90knng_connectivities', 'scvi_latent_run5_90knng_distances'\n",
      "Using precomputed spatial nearest neighbor graph with 15 neighbors...\n",
      "Using precomputed spatial nearest neighbor graph with 90 neighbors...\n",
      "Computing latent nearest neighbor graph with 15 neighbors for entire dataset...\n",
      "Computing latent nearest neighbor graph with 90 neighbors for entire dataset...\n",
      "Neighbor graphs computed. Elapsed time: 0 minutes 10 seconds.\n",
      "\n",
      "Computing benchmarking metrics...\n",
      "Computing GCS metric...\n",
      "Using precomputed spatial nearest neighbor graph...\n",
      "Using precomputed latent nearest neighbor graph...\n",
      "Computing GCS for entire dataset...\n",
      "GCS metric computed. Elapsed time: 0 minutes 10 seconds.\n",
      "\n",
      "Computing MLAMI Metric...\n",
      "Using precomputed spatial nearest neighbor graph...\n",
      "Using precomputed latent nearest neighbor graph...\n",
      "Computing spatial Leiden clusterings for entire dataset...\n",
      "Computing latent Leiden clusterings...\n",
      "Computing MLAMI for entire dataset...\n",
      "MLAMI metric computed. Elapsed time: 0 minutes 34 seconds.\n",
      "\n",
      "Computing CAS metric...\n",
      "Using precomputed spatial nearest neighbor graph...\n",
      "Computing spatial neighborhood enrichment scores...\n",
      "Using precomputed latent nearest neighbor graph...\n",
      "Computing latent neighborhood enrichment scores...\n",
      "Computing CAS...\n",
      "CAS metric computed. Elapsed time: 0 minutes 35 seconds.\n",
      "\n",
      "Computing CLISIS metric...\n",
      "Using precomputed spatial nearest neighbor graph...\n",
      "Computing spatial cell CLISI scores for entire dataset...\n",
      "Using precomputed latent nearest neighbor graph...\n",
      "Computing latent cell CLISI scores...\n",
      "Computing CLISIS...\n",
      "CLISIS metric computed. Elapsed time: 0 minutes 35 seconds.\n",
      "\n",
      "Computing CNMI and CARI metrics...\n",
      "CNMI and CARI metrics computed. Elapsed time: 0 minutes 36 seconds.\n",
      "\n",
      "Computing CASW Metric...\n",
      "CASW metric computed. Elapsed time: 0 minutes 36 seconds.\n",
      "\n",
      "Computing CLISI metric...\n",
      "CLISI metric computed. Elapsed time: 0 minutes 36 seconds.\n",
      "\n",
      "Computing NASW Metric...\n",
      "Using precomputed latent nearest neighbor graph...\n",
      "Computing latent Leiden clusterings...\n",
      "Using precomputed latent Leiden clusters for resolution 0.1.\n",
      "Using precomputed latent Leiden clusters for resolution 0.55.\n",
      "Using precomputed latent Leiden clusters for resolution 1.0.\n",
      "Computing NASW...\n",
      "NASW metric computed. Elapsed time: 0 minutes 37 seconds.\n",
      "\n",
      "AnnData object with n_obs × n_vars = 18895 × 960\n",
      "    obs: 'cell_type', 'leiden_spatial_0.1', 'leiden_spatial_0.55', 'leiden_spatial_1.0', 'leiden_latent_0.1', 'leiden_latent_0.55', 'leiden_latent_1.0'\n",
      "    uns: 'scvi_model_training_duration_run1', 'scvi_model_training_duration_run10', 'scvi_model_training_duration_run2', 'scvi_model_training_duration_run3', 'scvi_model_training_duration_run4', 'scvi_model_training_duration_run5', 'scvi_model_training_duration_run6', 'scvi_model_training_duration_run7', 'scvi_model_training_duration_run8', 'scvi_model_training_duration_run9', 'spatial_15knng_n_neighbors', 'spatial_90knng_n_neighbors', 'scvi_latent_run1_15knng_n_neighbors', 'scvi_latent_run1_90knng_n_neighbors', 'leiden', 'cell_type_nhood_enrichment', 'cell_type_spatial_nhood_enrichment', 'cell_type_latent_nhood_enrichment', 'scvi_latent_run2_15knng_n_neighbors', 'scvi_latent_run2_90knng_n_neighbors', 'scvi_latent_run3_15knng_n_neighbors', 'scvi_latent_run3_90knng_n_neighbors', 'scvi_latent_run4_15knng_n_neighbors', 'scvi_latent_run4_90knng_n_neighbors', 'scvi_latent_run5_15knng_n_neighbors', 'scvi_latent_run5_90knng_n_neighbors', 'scvi_latent_run6_15knng_n_neighbors', 'scvi_latent_run6_90knng_n_neighbors'\n",
      "    obsm: 'scvi_latent_run1', 'scvi_latent_run10', 'scvi_latent_run2', 'scvi_latent_run3', 'scvi_latent_run4', 'scvi_latent_run5', 'scvi_latent_run6', 'scvi_latent_run7', 'scvi_latent_run8', 'scvi_latent_run9', 'spatial'\n",
      "    obsp: 'spatial_15knng_connectivities', 'spatial_15knng_distances', 'spatial_90knng_connectivities', 'spatial_90knng_distances', 'scvi_latent_run1_15knng_connectivities', 'scvi_latent_run1_15knng_distances', 'scvi_latent_run1_90knng_connectivities', 'scvi_latent_run1_90knng_distances', 'scvi_latent_run2_15knng_connectivities', 'scvi_latent_run2_15knng_distances', 'scvi_latent_run2_90knng_connectivities', 'scvi_latent_run2_90knng_distances', 'scvi_latent_run3_15knng_connectivities', 'scvi_latent_run3_15knng_distances', 'scvi_latent_run3_90knng_connectivities', 'scvi_latent_run3_90knng_distances', 'scvi_latent_run4_15knng_connectivities', 'scvi_latent_run4_15knng_distances', 'scvi_latent_run4_90knng_connectivities', 'scvi_latent_run4_90knng_distances', 'scvi_latent_run5_15knng_connectivities', 'scvi_latent_run5_15knng_distances', 'scvi_latent_run5_90knng_connectivities', 'scvi_latent_run5_90knng_distances', 'scvi_latent_run6_15knng_connectivities', 'scvi_latent_run6_15knng_distances', 'scvi_latent_run6_90knng_connectivities', 'scvi_latent_run6_90knng_distances'\n",
      "Using precomputed spatial nearest neighbor graph with 15 neighbors...\n",
      "Using precomputed spatial nearest neighbor graph with 90 neighbors...\n",
      "Computing latent nearest neighbor graph with 15 neighbors for entire dataset...\n",
      "Computing latent nearest neighbor graph with 90 neighbors for entire dataset...\n"
     ]
    }
   ],
   "source": [
    "compute_combined_benchmarking_metrics_for_all_models(\n",
    "    dataset=\"nanostring_cosmx_human_nsclc_subsample_20pct\",\n",
    "    metrics=[\"gcs\",\n",
    "             \"mlami\",\n",
    "             \"cas\",\n",
    "             \"clisis\",\n",
    "             \"cnmi\",\n",
    "             \"casw\",\n",
    "             \"clisi\",\n",
    "             \"nasw\"],\n",
    "    included_models=[\"scvi\",\n",
    "                     \"expimap\",\n",
    "                     \"graphst\",\n",
    "                     \"sagenet\"])"
   ]
  },
  {
   "cell_type": "code",
   "execution_count": 78,
   "id": "8eb6f9ec-95d9-49ce-82c3-194a3640e4f2",
   "metadata": {},
   "outputs": [],
   "source": [
    "import pickle\n",
    "with open(\"../../artifacts/single_sample_method_benchmarking/benchmarking_dict_list.pickle\", 'rb') as file:\n",
    "    loaded_dict = pickle.load(file)"
   ]
  },
  {
   "cell_type": "code",
   "execution_count": 79,
   "id": "fbe77b9f-6ceb-44e9-9b9e-1700b307e188",
   "metadata": {},
   "outputs": [
    {
     "data": {
      "text/plain": [
       "[{'gcs': 0.759037103955944,\n",
       "  'mlami': 0.13767904287743543,\n",
       "  'cas': 0.7065524966142978,\n",
       "  'clisis': 0.9034444391727448,\n",
       "  'cnmi': 0.09971506610187823,\n",
       "  'casw': 0.45452479273080826,\n",
       "  'clisi': 0.7321885333341711,\n",
       "  'nasw': 0.6593832721312841,\n",
       "  'model_name': 'sagenet',\n",
       "  'run': 1},\n",
       " {'gcs': 0.7590114757333839,\n",
       "  'mlami': 0.1252585331989316,\n",
       "  'cas': 0.7127399685719442,\n",
       "  'clisis': 0.9029718264937401,\n",
       "  'cnmi': 0.08797399606863242,\n",
       "  'casw': 0.444561131298542,\n",
       "  'clisi': 0.7318247907301959,\n",
       "  'nasw': 0.6632546087106069,\n",
       "  'model_name': 'sagenet',\n",
       "  'run': 2},\n",
       " {'gcs': 0.7586709766370209,\n",
       "  'mlami': 0.11497138303395976,\n",
       "  'cas': 0.6925338832362962,\n",
       "  'clisis': 0.9003952816128731,\n",
       "  'cnmi': 0.0753725428647786,\n",
       "  'casw': 0.4383682385087013,\n",
       "  'clisi': 0.7282575158511891,\n",
       "  'nasw': 0.7294813692569733,\n",
       "  'model_name': 'sagenet',\n",
       "  'run': 3},\n",
       " {'gcs': 0.7585579413609067,\n",
       "  'mlami': 0.1085961213253914,\n",
       "  'cas': 0.6943345288118247,\n",
       "  'clisis': 0.9001866057515144,\n",
       "  'cnmi': 0.08456241899688136,\n",
       "  'casw': 0.43251579999923706,\n",
       "  'clisi': 0.7237318263334387,\n",
       "  'nasw': 0.7380384355783463,\n",
       "  'model_name': 'sagenet',\n",
       "  'run': 4},\n",
       " {'gcs': 0.7589384437433845,\n",
       "  'mlami': 0.11109879843442447,\n",
       "  'cas': 0.6771919882991202,\n",
       "  'clisis': 0.9002668783068657,\n",
       "  'cnmi': 0.08298383082122363,\n",
       "  'casw': 0.4476109445095062,\n",
       "  'clisi': 0.7222555665408864,\n",
       "  'nasw': 0.7371036012967428,\n",
       "  'model_name': 'sagenet',\n",
       "  'run': 5},\n",
       " {'gcs': 0.7588469291937954,\n",
       "  'mlami': 0.11805506486194016,\n",
       "  'cas': 0.6846062445308331,\n",
       "  'clisis': 0.9021748453378677,\n",
       "  'cnmi': 0.07495108252341943,\n",
       "  'casw': 0.4402909055352211,\n",
       "  'clisi': 0.7229835566352395,\n",
       "  'nasw': 0.7410441339015961,\n",
       "  'model_name': 'sagenet',\n",
       "  'run': 6},\n",
       " {'gcs': 0.7587459206010936,\n",
       "  'mlami': 0.10564497033923807,\n",
       "  'cas': 0.6898843527870282,\n",
       "  'clisis': 0.8992995992302895,\n",
       "  'cnmi': 0.06297737740060329,\n",
       "  'casw': 0.4298523738980293,\n",
       "  'clisi': 0.7209117272320915,\n",
       "  'nasw': 0.7185973624388377,\n",
       "  'model_name': 'sagenet',\n",
       "  'run': 7},\n",
       " {'gcs': 0.7588876133170194,\n",
       "  'mlami': 0.1149338138631996,\n",
       "  'cas': 0.6972333701607811,\n",
       "  'clisis': 0.902055062353611,\n",
       "  'cnmi': 0.0723209966778401,\n",
       "  'casw': 0.44421789795160294,\n",
       "  'clisi': 0.7246548708747415,\n",
       "  'nasw': 0.7273320903380712,\n",
       "  'model_name': 'sagenet',\n",
       "  'run': 8}]"
      ]
     },
     "execution_count": 79,
     "metadata": {},
     "output_type": "execute_result"
    }
   ],
   "source": [
    "loaded_dict"
   ]
  },
  {
   "cell_type": "code",
   "execution_count": null,
   "id": "2910da85-38d5-4855-8151-70094c208c90",
   "metadata": {},
   "outputs": [],
   "source": [
    "compute_combined_benchmarking_metrics_for_all_models(\n",
    "    dataset=\"vizgen_merfish_mouse_liver\")"
   ]
  },
  {
   "cell_type": "code",
   "execution_count": null,
   "id": "35744341-7dc3-4cbc-a0af-aaa392af8170",
   "metadata": {},
   "outputs": [],
   "source": [
    "compute_combined_benchmarking_metrics_for_all_models(\n",
    "    dataset=\"vizgen_merfish_mouse_liver_sample\")"
   ]
  },
  {
   "cell_type": "code",
   "execution_count": null,
   "id": "b3d1f940-2b9f-4bc8-810e-1bdab00b9329",
   "metadata": {},
   "outputs": [],
   "source": [
    "compute_combined_benchmarking_metrics_for_all_models(\n",
    "    dataset=\"starmap_plus_mouse_cns\")"
   ]
  },
  {
   "cell_type": "code",
   "execution_count": null,
   "id": "7f8f449a-0ec5-4b39-be0e-2184ea709c2f",
   "metadata": {},
   "outputs": [],
   "source": [
    "compute_combined_benchmarking_metrics_for_all_models(\n",
    "    dataset=\"starmap_plus_mouse_cns_sample\")"
   ]
  },
  {
   "cell_type": "code",
   "execution_count": null,
   "id": "89dd6a14-5a1c-423b-8f2f-3cc7524ba51c",
   "metadata": {},
   "outputs": [],
   "source": [
    "compute_combined_benchmarking_metrics_for_all_models(\n",
    "    dataset=\"nanostring_cosmx_human_nsclc\")"
   ]
  },
  {
   "cell_type": "code",
   "execution_count": null,
   "id": "b805ce71-9d1b-422f-96fc-1b7098fa1688",
   "metadata": {},
   "outputs": [],
   "source": [
    "compute_combined_benchmarking_metrics_for_all_models(\n",
    "    dataset=\"nanostring_cosmx_human_nsclc_subsample_20pct\",\n",
    "    )"
   ]
  },
  {
   "cell_type": "markdown",
   "id": "789dd32c-0c1d-489b-8232-bbf16b89dc3c",
   "metadata": {},
   "source": [
    "#### 3.2.3 Visualize Results"
   ]
  },
  {
   "cell_type": "code",
   "execution_count": null,
   "id": "a06c1040-6026-425b-9f93-086de58b56d6",
   "metadata": {},
   "outputs": [],
   "source": [
    "df = pd.DataFrame()\n",
    "datasets = [\"seqfish_mouse_organogenesis_embryo2\",\n",
    "            \"starmap_plus_mouse_cns_sample\",\n",
    "            \"nanostring_cosmx_human_nsclc_sample\"]\n",
    "timestamps = [\"07032023_193322\",\n",
    "              \"07032023_071219\",\n",
    "              \"07032023_080409\"]\n",
    "\n",
    "for dataset, timestamp in zip(datasets, timestamps):\n",
    "    dataset_artifact_folder_path = f\"../../artifacts/{dataset}/method_benchmarking/comparison/{timestamp}\"\n",
    "    \n",
    "    # Read complete benchmarking data from disk\n",
    "    with open(f\"{dataset_artifact_folder_path}/benchmarking_dict_list.pickle\", \"rb\") as f:\n",
    "        benchmarking_dict_list = pickle.load(f)\n",
    "        dataset_df = pd.DataFrame(benchmarking_dict_list)\n",
    "        dataset_df[\"dataset\"] = dataset\n",
    "        df = pd.concat([df, dataset_df])\n",
    "df.head()\n",
    "\n",
    "columns = [\"gcs\",\n",
    "           \"mlami\",\n",
    "           \"cas\",\n",
    "           \"clisis\",\n",
    "           #\"gerr2\",\n",
    "           #\"cca\"\n",
    "           ]\n",
    "\n",
    "rows = [\"nichecompass\",\n",
    "        \"deeplinc\",\n",
    "        \"graphst\",\n",
    "        \"sagenet\",\n",
    "        \"pca\",\n",
    "        \"scvi\",\n",
    "        \"expimap\"]\n",
    "\n",
    "unrolled_df = pd.melt(df, \n",
    "   id_vars = [\"model_name\", \"dataset\"],\n",
    "   value_vars = columns,\n",
    "   var_name = \"score_type\", \n",
    "   value_name = \"score\")\n",
    "\n",
    "# Compute metric means over all runs\n",
    "mean_df = unrolled_df.groupby([\"model_name\", \"dataset\", \"score_type\"]).mean()\n",
    "mean_df.reset_index(inplace=True)\n",
    "\n",
    "# Remove pca for plot\n",
    "mean_df = mean_df[mean_df[\"model_name\"] != \"pca\"]\n",
    "\n",
    "# Reformat for plot\n",
    "mean_df.replace({\"nichecompass\": \"NicheCompass\",\n",
    "                 \"deeplinc\": \"DeepLinc\",\n",
    "                 \"expimap\": \"expiMap\",\n",
    "                 \"graphst\": \"GraphST\",\n",
    "                 \"sagenet\": \"SageNet\",\n",
    "                 \"scvi\": \"scVI\",\n",
    "                 \"nanostring_cosmx_human_nsclc_sample\": \"nanostring_cosmx_sample\",\n",
    "                 \"starmap_plus_mouse_cns_sample\": \"starmap_plus_sample\",\n",
    "                 \"seqfish_mouse_organogenesis_embryo2\": \"seqfish\"}, inplace=True)\n",
    "\n",
    "# Create spatial indicator column\n",
    "def is_spatially_aware_model(row):\n",
    "    if row[\"model_name\"] in [\"NicheCompass\", \"DeepLinc\", \"GraphST\", \"SageNet\"]:\n",
    "        return True\n",
    "    return False\n",
    "mean_df[\"spatially_aware\"] = mean_df.apply(lambda row: is_spatially_aware_model(row), axis=1)\n",
    "\n",
    "mean_df_seqfish = mean_df[mean_df[\"dataset\"] == \"seqfish\"]"
   ]
  },
  {
   "cell_type": "code",
   "execution_count": null,
   "id": "94762fcf-ffec-4a65-9373-675be6155b91",
   "metadata": {},
   "outputs": [],
   "source": [
    "plot_benchmarking_results(mean_df_seqfish,\n",
    "                          save_dir=figure_folder_path,\n",
    "                          save_name=\"benchmarking_results_seqfish.svg\")"
   ]
  },
  {
   "cell_type": "code",
   "execution_count": null,
   "id": "908193c6-0de2-443c-b14e-29f99d5b8f14",
   "metadata": {},
   "outputs": [],
   "source": [
    "plot_benchmarking_results(mean_df,\n",
    "                          save_dir=figure_folder_path,\n",
    "                          save_name=\"benchmarking_results.svg\")"
   ]
  },
  {
   "cell_type": "code",
   "execution_count": null,
   "id": "8f3c634a-8f83-4890-a2db-5123185471ef",
   "metadata": {},
   "outputs": [],
   "source": [
    "# Compute metric means over all runs\n",
    "mean_df = unrolled_df.groupby([\"model_name\", \"dataset\", \"score_type\"]).mean()\n",
    "\n",
    "print(mean_df)\n",
    "mean_df = mean_df.reindex(rows)\n",
    "\n",
    "metric_ranks = []\n",
    "for metric in mean_df.columns:\n",
    "    mean_df[f\"{metric}_rank\"] = mean_df[metric].rank(ascending=False).astype(int)\n",
    "\n",
    "mean_df[\"model_name\"] = mean_df.index\n",
    "\n",
    "unrolled_mean_df = pd.melt(mean_df, \n",
    "   id_vars = [\"model_name\", \"dataset\"],\n",
    "   value_vars = columns,\n",
    "   var_name = \"score_type\", \n",
    "   value_name = \"score\")"
   ]
  },
  {
   "cell_type": "code",
   "execution_count": null,
   "id": "49d302fa-377f-4b5b-8e2c-ec65db7487b5",
   "metadata": {},
   "outputs": [],
   "source": [
    "plt.figure(figsize=(30, 15))\n",
    "ax = sns.barplot(data=unrolled_mean_df,\n",
    "                 x=\"score_type\",\n",
    "                 y=\"score\",\n",
    "                 hue=\"model_name\",\n",
    "                 palette=\"Accent\")\n",
    "\n",
    "plt.xticks(fontsize=30)\n",
    "plt.yticks(fontsize=30)\n",
    "\n",
    "# Iterate over the bars and annotate each one with the rank\n",
    "for i, p in enumerate(ax.patches):\n",
    "    model_idx, metric_idx = divmod(i, len(columns))\n",
    "    rank = mean_df.loc[rows[model_idx], columns[metric_idx] + \"_rank\"]\n",
    "    ax.annotate(\"%.0f\" % rank,\n",
    "                (p.get_x() + p.get_width() / 2., p.get_height()),\n",
    "                ha=\"center\",\n",
    "                va=\"center\",\n",
    "                fontsize=20,\n",
    "                color=\"gray\",\n",
    "                weight=\"bold\",\n",
    "                xytext=(0, 8),\n",
    "                textcoords=\"offset points\")\n",
    "\n",
    "plt.xlabel(\"Metric\",\n",
    "           fontsize=30)\n",
    "plt.ylabel(\"Metric Value (higher better)\",\n",
    "           fontsize=30)\n",
    "plt.legend(loc=2,\n",
    "           bbox_to_anchor=(1, 1),\n",
    "           prop={\"size\": 28})\n",
    "plt.title(\"Model Benchmarking Evaluation Metrics\",\n",
    "          fontsize=30,\n",
    "          pad=20)\n",
    "plt.savefig(f\"{figure_folder_path}/eval_metrics.svg\",\n",
    "            dpi=300,\n",
    "            bbox_inches=\"tight\",\n",
    "            format=\"svg\")\n",
    "plt.show()"
   ]
  },
  {
   "cell_type": "code",
   "execution_count": null,
   "id": "14c821ec-ab73-498e-a6b8-4fc86306059a",
   "metadata": {},
   "outputs": [],
   "source": [
    "mean_df[\"dataset_score_type\"] = mean_df[\"score_type\"] + mean_df[\"dataset\"]"
   ]
  },
  {
   "cell_type": "code",
   "execution_count": null,
   "id": "1f25b370-bf79-44a5-87af-22b60e83f765",
   "metadata": {},
   "outputs": [],
   "source": [
    "mean_df[mean_df[\"model_name\"] == \"nichecompass\"]"
   ]
  },
  {
   "cell_type": "code",
   "execution_count": null,
   "id": "ad8644d0-c337-4e38-889c-5c9142aeb337",
   "metadata": {},
   "outputs": [],
   "source": [
    "fig, axs = plt.subplots(ncols=2, figsize=(30, 15))\n",
    "\n",
    "plt.xlabel(\"Metric\",\n",
    "           fontsize=30)\n",
    "plt.ylabel(\"Metric Value (higher better)\",\n",
    "           fontsize=30)\n",
    "plt.legend(loc=2,\n",
    "           bbox_to_anchor=(1, 1),\n",
    "           prop={\"size\": 28})\n",
    "plt.title(\"Model Benchmarking Evaluation Metrics\",\n",
    "          fontsize=30,\n",
    "          pad=20)\n",
    "\n",
    "sns.scatterplot(data=mean_df[mean_df[\"dataset\"] == \"starmap_plus_mouse_cns_sample\"],\n",
    "                ax=axs[0],\n",
    "                 x=\"score_type\",\n",
    "                 y=\"score\",\n",
    "                 hue=\"model_name\",\n",
    "                 palette=\"Accent\",\n",
    "                 s=1000,\n",
    "                 style=\"dataset\")\n",
    "\n",
    "sns.scatterplot(data=mean_df[mean_df[\"dataset\"] == \"nanostring_cosmx_human_nsclc_sample\"],\n",
    "                ax=axs[1],\n",
    "                 x=\"score_type\",\n",
    "                 y=\"score\",\n",
    "                 hue=\"model_name\",\n",
    "                 palette=\"Accent\",\n",
    "                 s=1000,\n",
    "                 style=\"dataset\")\n",
    "\n",
    "plt.xticks(fontsize=30)\n",
    "plt.yticks(fontsize=30)\n",
    "\n",
    "\n",
    "plt.savefig(f\"{figure_folder_path}/eval_metrics.svg\",\n",
    "            dpi=300,\n",
    "            bbox_inches=\"tight\",\n",
    "            format=\"svg\")\n",
    "plt.show()"
   ]
  },
  {
   "cell_type": "code",
   "execution_count": null,
   "id": "70cb6f0d-8911-4df1-890e-7c80506a16d6",
   "metadata": {},
   "outputs": [],
   "source": [
    "plt.figure(figsize=(15, 10))\n",
    "ax = sns.scatterplot(data=mean_df,\n",
    "                 x=\"dataset_score_type\",\n",
    "                 y=\"score\",\n",
    "                 hue=\"model_name\",\n",
    "                 palette=\"Accent\",\n",
    "                 s=500,\n",
    "                 style=\"dataset\")\n",
    "\n",
    "plt.xticks(fontsize=30)\n",
    "plt.yticks(fontsize=30)\n",
    "\n",
    "# Iterate over the bars and annotate each one with the rank\n",
    "for i, p in enumerate(ax.patches):\n",
    "    model_idx, metric_idx = divmod(i, len(columns))\n",
    "    rank = mean_df.loc[rows[model_idx], columns[metric_idx] + \"_rank\"]\n",
    "    ax.annotate(\"%.0f\" % rank,\n",
    "                (p.get_x() + p.get_width() / 2., p.get_height()),\n",
    "                ha=\"center\",\n",
    "                va=\"center\",\n",
    "                fontsize=20,\n",
    "                color=\"gray\",\n",
    "                weight=\"bold\",\n",
    "                xytext=(0, 8),\n",
    "                textcoords=\"offset points\")\n",
    "\n",
    "plt.xlabel(\"Metric\",\n",
    "           fontsize=30)\n",
    "plt.ylabel(\"Metric Value (higher better)\",\n",
    "           fontsize=30)\n",
    "plt.legend(loc=2,\n",
    "           bbox_to_anchor=(1, 1),\n",
    "           prop={\"size\": 28})\n",
    "plt.title(\"Model Benchmarking Evaluation Metrics\",\n",
    "          fontsize=30,\n",
    "          pad=20)\n",
    "plt.savefig(f\"{figure_folder_path}/eval_metrics.svg\",\n",
    "            dpi=300,\n",
    "            bbox_inches=\"tight\",\n",
    "            format=\"svg\")\n",
    "plt.show()"
   ]
  },
  {
   "cell_type": "markdown",
   "id": "3c86c0c7-77b8-4b74-a290-7856d4adccc7",
   "metadata": {},
   "source": [
    "##### 3.2.8.1 Metrics Ranking Plot"
   ]
  },
  {
   "cell_type": "code",
   "execution_count": null,
   "id": "895e0bff-e8b0-4bc2-afa1-50b38cd19f2d",
   "metadata": {},
   "outputs": [],
   "source": [
    "mean_df_min_best = mean_df[[\"gcd\", \"cad\", \"arclisi\", \"germse\"]] # lower values are better\n",
    "mean_df_max_best = mean_df[[\"mlnmi\", \"cca\", \"ari\", \"clisi\", \"nmi\", \"asw\", \"ilasw\", ]] # higher values are better\n",
    "rank_df_min = mean_df_min_best.rank(method=\"max\", ascending=True)\n",
    "rank_df_max = mean_df_max_best.rank(method=\"max\", ascending=False)\n",
    "rank_df = pd.concat([rank_df_min, rank_df_max], axis=1)\n",
    "rank_df = rank_df[columns]"
   ]
  },
  {
   "cell_type": "code",
   "execution_count": null,
   "id": "1cfb4629-bd72-4918-bcf0-5176937a28b0",
   "metadata": {},
   "outputs": [],
   "source": [
    "heatmap = sns.heatmap(rank_df, annot=True, cmap=\"YlGnBu\")\n",
    "fig = heatmap.get_figure()\n",
    "plt.title(\"Method Benchmarking Metrics Ranking\", fontsize=20, pad=25)\n",
    "plt.xticks(rotation=45)\n",
    "fig.savefig(f\"{figure_folder_path}/metrics_ranking_{current_timestamp}.png\",\n",
    "            bbox_inches=\"tight\")\n",
    "plt.show()"
   ]
  },
  {
   "cell_type": "code",
   "execution_count": null,
   "id": "c40bd054-dc77-45c5-9c12-7ea78f6829a3",
   "metadata": {},
   "outputs": [],
   "source": []
  },
  {
   "cell_type": "code",
   "execution_count": null,
   "id": "55de09bf-3e2d-41a2-913e-f8e8d6a4817e",
   "metadata": {},
   "outputs": [],
   "source": []
  },
  {
   "cell_type": "code",
   "execution_count": null,
   "id": "2383b1f3-24d5-44bd-b49e-e8377b0aa716",
   "metadata": {},
   "outputs": [],
   "source": []
  },
  {
   "cell_type": "raw",
   "id": "692da99c-6ff5-4929-84b6-cb816255b77c",
   "metadata": {},
   "source": [
    "dataset = \"vizgen_merfish_mouse_liver\"\n",
    "model = \"expimap\"\n",
    "adata_model = sc.read_h5ad(data_folder_path + f\"{dataset}_{model}.h5ad\")\n",
    "adata_original = sc.read_h5ad(data_folder_path + f\"{dataset}.h5ad\")\n",
    "adata_model.var_names = adata_original.var_names\n",
    "adata_model.obs_names = adata_original.obs_names\n",
    "adata_model.obsm[\"spatial\"] = adata_original.obsm[\"spatial\"]\n",
    "adata_model.obs[\"cell_type\"] = adata_original.obs[\"Cell_Type\"].values\n",
    "adata_model.write(f\"{data_folder_path}/{dataset}_{model}.h5ad\") "
   ]
  },
  {
   "cell_type": "code",
   "execution_count": null,
   "id": "0699529d-35fd-404f-b7c5-221cdc26aaf5",
   "metadata": {},
   "outputs": [],
   "source": []
  },
  {
   "cell_type": "markdown",
   "id": "8884ac28-0cdf-4b37-9281-4a86dd194ef5",
   "metadata": {},
   "source": [
    "### 2.1 Latent Space Comparison"
   ]
  },
  {
   "cell_type": "markdown",
   "id": "eb854907-e0d3-4084-98aa-48eb2d5cdabe",
   "metadata": {},
   "source": [
    "#### 2.1.2 Visualize Results"
   ]
  },
  {
   "cell_type": "markdown",
   "id": "684fc7dc-c3d0-4415-91c9-1595c10f5e22",
   "metadata": {},
   "source": [
    "##### 2.1.2.1 seqFISH Mouse Organogenesis"
   ]
  },
  {
   "cell_type": "code",
   "execution_count": null,
   "id": "cbc7fcf2-86e5-4440-80a9-756456e55535",
   "metadata": {},
   "outputs": [],
   "source": [
    "compute_latent_space_comparison(\n",
    "    dataset=\"seqfish_mouse_organogenesis_embryo2\",\n",
    "    cell_type_colors=color_utils.seqfish_mouse_organogenesis_cell_type_colors,\n",
    "    cell_type_groups=None,\n",
    "    n_neighbors=12,\n",
    "    run_number=5,\n",
    "    spot_size=0.03)"
   ]
  },
  {
   "cell_type": "code",
   "execution_count": null,
   "id": "d01d3ebc-a3fa-420d-afde-d49689389a15",
   "metadata": {},
   "outputs": [],
   "source": [
    "compute_latent_space_comparison(dataset=\"seqfish_mouse_organogenesis_embryo2\",\n",
    "                                cell_type_colors=seqfish_mouse_organogenesis_embryo2_cell_type_colors,\n",
    "                                cell_type_groups=\"Mixed mesenchymal mesoderm\", # \"Gut tube\",\n",
    "                                n_neighbors=12,\n",
    "                                run_number=5,\n",
    "                                spot_size=0.03)"
   ]
  },
  {
   "cell_type": "markdown",
   "id": "a41be394-92e7-4847-8e9d-2b7431a8be5d",
   "metadata": {},
   "source": [
    "##### 2.1.2.2 MERFISH Mouse Liver"
   ]
  },
  {
   "cell_type": "code",
   "execution_count": null,
   "id": "e9712b9e-2715-4eba-8469-e2c2778159c9",
   "metadata": {},
   "outputs": [],
   "source": [
    "# DeepLinc did not work on this dataset\n",
    "compute_latent_space_comparison(dataset=\"vizgen_merfish_mouse_liver\",\n",
    "                                cell_type_colors=vizgen_merfish_mouse_liver_cell_type_colors,\n",
    "                                n_neighbors=12,\n",
    "                                run_number=5,\n",
    "                                included_models=[\"NicheCompass\",\n",
    "                                                 \"expiMap\",\n",
    "                                                 \"scVI\"],\n",
    "                                spot_size=20.0)"
   ]
  },
  {
   "cell_type": "code",
   "execution_count": null,
   "id": "97660a2a-1c62-428d-80b4-ec75f70a10ef",
   "metadata": {},
   "outputs": [],
   "source": [
    "# DeepLinc did not work on this dataset\n",
    "compute_latent_space_comparison(dataset=\"vizgen_merfish_mouse_liver_sample\",\n",
    "                                cell_type_colors=vizgen_merfish_mouse_liver_cell_type_colors,\n",
    "                                n_neighbors=12,\n",
    "                                run_number=5,\n",
    "                                included_models=[\"NicheCompass\",\n",
    "                                                 \"GraphST\",\n",
    "                                                 \"SageNet\",\n",
    "                                                 \"expiMap\",\n",
    "                                                 \"scVI\"],\n",
    "                                spot_size=20.0)"
   ]
  },
  {
   "cell_type": "markdown",
   "id": "7ff24528-8d9e-4496-8271-131eae6fe78f",
   "metadata": {},
   "source": [
    "##### 2.1.2.3 STARmap PLUS Mouse CNS"
   ]
  },
  {
   "cell_type": "code",
   "execution_count": null,
   "id": "e73e2fdd-00f4-498c-8d53-a8e2ca1baac4",
   "metadata": {},
   "outputs": [],
   "source": [
    "compute_latent_space_comparison(dataset=\"starmap_plus_mouse_cns\",\n",
    "                                cell_type_colors=starmap_pluse_mouse_cns_cell_type_colors,\n",
    "                                n_neighbors=12,\n",
    "                                run_number=5,\n",
    "                                included_models=[\"NicheCompass\",\n",
    "                                                 \"expiMap\",\n",
    "                                                 \"scVI\"],\n",
    "                                spot_size=0.2)"
   ]
  },
  {
   "cell_type": "code",
   "execution_count": null,
   "id": "b344d3de-7c38-44a0-b26e-19e35ed442bc",
   "metadata": {},
   "outputs": [],
   "source": [
    "compute_latent_space_comparison(dataset=\"starmap_plus_mouse_cns_sample\",\n",
    "                                cell_type_colors=starmap_pluse_mouse_cns_cell_type_colors,\n",
    "                                n_neighbors=12,\n",
    "                                run_number=5,\n",
    "                                spot_size=0.2)"
   ]
  },
  {
   "cell_type": "markdown",
   "id": "9def1fe7-a072-46e0-b7b3-36fd22a54a6a",
   "metadata": {},
   "source": [
    "##### 2.1.2.4 NanoString CosMx Human NSCLC"
   ]
  },
  {
   "cell_type": "code",
   "execution_count": null,
   "id": "1bc27321-91c8-44b5-aa44-c04055a2e1d3",
   "metadata": {},
   "outputs": [],
   "source": [
    "compute_latent_space_comparison(dataset=\"nanostring_cosmx_human_nsclc\",\n",
    "                                cell_type_colors=nanostring_cosmx_human_nsclc_cell_type_colors,\n",
    "                                n_neighbors=12,\n",
    "                                run_number=5,\n",
    "                                included_models=[\"NicheCompass\",\n",
    "                                                 \"expiMap\",\n",
    "                                                 \"scVI\"],\n",
    "                                spot_size=100.0)"
   ]
  },
  {
   "cell_type": "code",
   "execution_count": null,
   "id": "fbb84dc7-267b-4725-9160-acd4b574c4ad",
   "metadata": {},
   "outputs": [],
   "source": [
    "compute_latent_space_comparison(dataset=\"nanostring_cosmx_human_nsclc_sample\",\n",
    "                                cell_type_colors=nanostring_cosmx_human_nsclc_cell_type_colors,\n",
    "                                n_neighbors=12,\n",
    "                                run_number=5,\n",
    "                                spot_size=100.0)"
   ]
  }
 ],
 "metadata": {
  "kernelspec": {
   "display_name": "Python 3 (ipykernel)",
   "language": "python",
   "name": "python3"
  },
  "language_info": {
   "codemirror_mode": {
    "name": "ipython",
    "version": 3
   },
   "file_extension": ".py",
   "mimetype": "text/x-python",
   "name": "python",
   "nbconvert_exporter": "python",
   "pygments_lexer": "ipython3",
   "version": "3.9.17"
  }
 },
 "nbformat": 4,
 "nbformat_minor": 5
}
