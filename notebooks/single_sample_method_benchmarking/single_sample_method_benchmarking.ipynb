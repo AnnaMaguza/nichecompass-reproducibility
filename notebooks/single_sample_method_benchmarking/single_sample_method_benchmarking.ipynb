{
 "cells": [
  {
   "cell_type": "markdown",
   "id": "364a9ebc-3e3c-4645-9049-a34bd084c8a8",
   "metadata": {},
   "source": [
    "# Single Sample Method Benchmarking"
   ]
  },
  {
   "cell_type": "markdown",
   "id": "b0c55227-147e-417f-b0dd-bb0b7f322930",
   "metadata": {},
   "source": [
    "- **Creator**: Sebastian Birk (<sebastian.birk@helmholtz-munich.de>).\n",
    "- **Affiliation:** Helmholtz Munich, Institute of Computational Biology (ICB), Talavera-López Lab\n",
    "- **Date of Creation:** 06.01.2023\n",
    "- **Date of Last Modification:** 19.08.2023"
   ]
  },
  {
   "cell_type": "markdown",
   "id": "7529cde5-be12-403b-a94c-07561774b86c",
   "metadata": {},
   "source": [
    "## 1. Setup"
   ]
  },
  {
   "cell_type": "markdown",
   "id": "faad87bd-fef5-4429-a175-d714c491ae76",
   "metadata": {},
   "source": [
    "### 1.1 Import Libraries"
   ]
  },
  {
   "cell_type": "code",
   "execution_count": 1,
   "id": "d9533f18-f082-4dcc-8e93-117b9759133e",
   "metadata": {},
   "outputs": [],
   "source": [
    "%load_ext autoreload\n",
    "%autoreload 2"
   ]
  },
  {
   "cell_type": "code",
   "execution_count": 2,
   "id": "f1e0bf12-90ee-403e-8970-0d1ac2f47540",
   "metadata": {},
   "outputs": [],
   "source": [
    "import sys\n",
    "sys.path.append(\"../../../nichecompass-reproducibility/utils\")"
   ]
  },
  {
   "cell_type": "code",
   "execution_count": 3,
   "id": "d7f93960-c759-424f-8cb2-1d8698acae2c",
   "metadata": {},
   "outputs": [],
   "source": [
    "import os\n",
    "import shutil\n",
    "import warnings\n",
    "from datetime import datetime\n",
    "\n",
    "import matplotlib\n",
    "import matplotlib.colors as colors\n",
    "import matplotlib.pyplot as plt\n",
    "import seaborn as sns\n",
    "import mlflow\n",
    "import numpy as np\n",
    "import pandas as pd\n",
    "import pickle\n",
    "import plottable\n",
    "import scanpy as sc\n",
    "import scib_metrics\n",
    "\n",
    "from nichecompass.utils import (add_gps_from_gp_dict_to_adata,\n",
    "                                extract_gp_dict_from_mebocost_es_interactions,\n",
    "                                extract_gp_dict_from_nichenet_lrt_interactions,\n",
    "                                extract_gp_dict_from_omnipath_lr_interactions,\n",
    "                                filter_and_combine_gp_dict_gps)\n",
    "\n",
    "from benchmarking_utils import plot_metrics_table"
   ]
  },
  {
   "cell_type": "markdown",
   "id": "39b5efa5-2052-4986-8ae5-89cfab018515",
   "metadata": {},
   "source": [
    "### 1.2 Define Parameters"
   ]
  },
  {
   "cell_type": "code",
   "execution_count": 4,
   "id": "e5c8b48a-ed5e-48b5-8c5c-c1de11493aee",
   "metadata": {},
   "outputs": [],
   "source": [
    "spatial_key = \"spatial\""
   ]
  },
  {
   "cell_type": "code",
   "execution_count": 5,
   "id": "c513d2e5-7690-432e-a63f-c44bdbe0c11e",
   "metadata": {},
   "outputs": [],
   "source": [
    "metric_cols_sample_integration = [\n",
    "    \"gcs\", \"mlami\", \"cas\", \"clisis\", # spatial conservation\n",
    "    \"cari\", \"cnmi\", \"casw\", \"clisi\", # biological conservation\n",
    "    \"nasw\", # cluster separability\n",
    "    \"basw\", \"bgc\", \"blisi\" # batch correction\n",
    "]\n",
    "metric_col_weights_sample_integration = [ # separate for each category (later multiplied with category_col_weights)\n",
    "    (1/6), (1/6), (1/3), (1/3), # spatial conservation\n",
    "    (1/4), (1/4), (1/4), (1/4), # biological conservation\n",
    "    1.0, # cluster separability\n",
    "    (1/3), (1/3), (1,3) # batch correction\n",
    "]\n",
    "metric_col_titles_sample_integration = [\n",
    "    \"Graph Connectivity Similarity\",\n",
    "    \"Maximum Leiden Adjusted Mutual Info\",\n",
    "    \"Cell Type Affinity Similarity\",\n",
    "    \"Cell Type Local Inverse Simpson's Index Similarity\",\n",
    "    \"Cell Type Adjusted Rand Index\",\n",
    "    \"Cell Type Normalized Mutual Info\",\n",
    "    \"Cell Type Average Silhouette Width\",\n",
    "    \"Cell Type Local Inverse Simpson's Index\",\n",
    "    \"Cluster Average Silhouette Width\",\n",
    "    \"Batch Average Silhouette Width\",\n",
    "    \"Batch Graph Connectivity\",\n",
    "    \"Batch Local Inverse Simpson's Index\"\n",
    "]\n",
    "metric_cols_single_sample = metric_cols_sample_integration[:-3]\n",
    "metric_col_weights_single_sample = metric_col_weights_sample_integration[:-3]\n",
    "metric_col_titles_single_sample = metric_col_titles_sample_integration[:-3]\n",
    "\n",
    "category_cols_sample_integration = [\n",
    "    \"Spatial Conservation Score\",\n",
    "    \"Biological Conservation Score\",\n",
    "    \"Cluster Separability Score\",\n",
    "    \"Batch Correction Score\"]\n",
    "category_col_weights_sample_integration = [\n",
    "    1,\n",
    "    1,\n",
    "    1,\n",
    "    1]\n",
    "category_col_titles_sample_integration = [\n",
    "    \"Spatial Conservation Score (25%)\",\n",
    "    \"Biological Conservation Score (25%)\",\n",
    "    \"Cluster Separability Score (25%)\",\n",
    "    \"Batch Correction Score (25%)\"]\n",
    "category_col_weights_single_sample = category_col_weights_sample_integration[:-1]\n",
    "category_cols_single_sample = category_cols_sample_integration[:-1]\n",
    "category_col_titles_single_sample = [\n",
    "    \"Spatial Conservation Score (33%)\",\n",
    "    \"Biological Conservation Score (33%)\",\n",
    "    \"Cluster Separability Score (33%)\"]"
   ]
  },
  {
   "cell_type": "markdown",
   "id": "28adc110-0f41-4a71-9838-dc7f0687809a",
   "metadata": {},
   "source": [
    "### 1.3 Run Notebook Setup"
   ]
  },
  {
   "cell_type": "code",
   "execution_count": 6,
   "id": "334b87ca-3387-4ba9-8567-84bc4754ff0c",
   "metadata": {},
   "outputs": [],
   "source": [
    "sc.set_figure_params(figsize=(6, 6))"
   ]
  },
  {
   "cell_type": "code",
   "execution_count": 7,
   "id": "3944b0c4-023b-4fcb-9b61-9293f08939b2",
   "metadata": {},
   "outputs": [],
   "source": [
    "# Ignore future warnings and user warnings\n",
    "warnings.simplefilter(action=\"ignore\", category=FutureWarning)\n",
    "warnings.simplefilter(action=\"ignore\", category=UserWarning)\n",
    "warnings.simplefilter(action=\"ignore\", category=DeprecationWarning)"
   ]
  },
  {
   "cell_type": "code",
   "execution_count": 8,
   "id": "0ab6b302-1c0b-4937-8624-40629ada2e46",
   "metadata": {},
   "outputs": [],
   "source": [
    "# Get time of notebook execution for timestamping saved artifacts\n",
    "now = datetime.now()\n",
    "current_timestamp = now.strftime(\"%d%m%Y_%H%M%S\")"
   ]
  },
  {
   "cell_type": "code",
   "execution_count": 9,
   "id": "efc97645-e32e-4012-9907-8a575221b2f9",
   "metadata": {},
   "outputs": [],
   "source": [
    "# Set mlflow tracking server (run it on the defined port)\n",
    "mlflow.set_tracking_uri(\"http://localhost:8889\")"
   ]
  },
  {
   "cell_type": "markdown",
   "id": "85538952-006b-4b0b-a50c-fe7445ce22e2",
   "metadata": {},
   "source": [
    "### 1.4 Configure Paths and Directories"
   ]
  },
  {
   "cell_type": "code",
   "execution_count": 10,
   "id": "7ddcc49c-ba22-4155-acd5-05b5b810e091",
   "metadata": {},
   "outputs": [],
   "source": [
    "data_folder_path = \"../../datasets/srt_data/gold\"\n",
    "artifact_folder_path = f\"../../artifacts\"\n",
    "gp_data_folder_path = \"../../datasets/gp_data\" # gene program data\n",
    "nichenet_ligand_target_mx_file_path = gp_data_folder_path + \"/nichenet_ligand_target_matrix.csv\"\n",
    "omnipath_lr_interactions_file_path = gp_data_folder_path + \"/omnipath_lr_interactions.csv\"\n",
    "benchmarking_folder_path = f\"{artifact_folder_path}/single_sample_method_benchmarking\""
   ]
  },
  {
   "cell_type": "markdown",
   "id": "5e1f3798-2b4a-49ed-892c-a85d167d8ff1",
   "metadata": {},
   "source": [
    "## 2. Method Benchmarking"
   ]
  },
  {
   "cell_type": "markdown",
   "id": "bed96ebf-922e-42c2-a8aa-778e59737bc0",
   "metadata": {},
   "source": [
    "- Run all model notebooks in the ```notebooks/single_sample_method_benchmarking``` directory before continuing."
   ]
  },
  {
   "cell_type": "markdown",
   "id": "521e3095-f73f-446f-afed-c3d825cfbc2d",
   "metadata": {},
   "source": [
    "### 2.1 Retrieve NicheCompass Runs"
   ]
  },
  {
   "cell_type": "markdown",
   "id": "d74899e5-1274-404f-8ec6-9ffef5e51b4e",
   "metadata": {},
   "source": [
    "#### 2.1.1 seqFISH Mouse Organogenesis"
   ]
  },
  {
   "cell_type": "code",
   "execution_count": null,
   "id": "1f2f816b-fda4-4723-8e7e-053c05dcceb1",
   "metadata": {},
   "outputs": [],
   "source": [
    "# Store NicheCompass GCN encoder results in benchmarking folder\n",
    "task = \"single_sample_method_benchmarking\"\n",
    "conv_layer_encoder = \"gcnconv\"\n",
    "datasets = [\n",
    "    \"seqfish_mouse_organogenesis_embryo2\",\n",
    "    \"seqfish_mouse_organogenesis_subsample_50pct_embryo2\",\n",
    "    \"seqfish_mouse_organogenesis_subsample_25pct_embryo2\",\n",
    "    \"seqfish_mouse_organogenesis_subsample_10pct_embryo2\",\n",
    "    \"seqfish_mouse_organogenesis_subsample_5pct_embryo2\",\n",
    "    \"seqfish_mouse_organogenesis_subsample_1pct_embryo2\",\n",
    "]\n",
    "timestamps = [\n",
    "    \"17082023_113817_1\",\n",
    "    \"17082023_121306_1\",\n",
    "    \"17082023_121306_1\",\n",
    "    \"17082023_121309_1\",\n",
    "    \"17082023_121309_1\",\n",
    "    \"17082023_121309_1\",\n",
    "]\n",
    "\n",
    "for dataset, timestamp in zip(datasets, timestamps):\n",
    "    source_path = f\"{artifact_folder_path}/{dataset}/results/{conv_layer_encoder}_{task}/{timestamp}/{dataset}_{conv_layer_encoder}_{task}.h5ad\"\n",
    "    destination_path = f\"{artifact_folder_path}/{task}/{dataset}_nichecompass_{conv_layer_encoder}.h5ad\"\n",
    "    shutil.copy(source_path, destination_path)"
   ]
  },
  {
   "cell_type": "code",
   "execution_count": null,
   "id": "40d514f0-3288-4bf6-93e4-3c713c8b0865",
   "metadata": {},
   "outputs": [],
   "source": [
    "# Store NicheCompass GATv2 encoder results in benchmarking folder\n",
    "task = \"single_sample_method_benchmarking\"\n",
    "conv_layer_encoder = \"gatv2conv\"\n",
    "datasets = [\n",
    "    \"seqfish_mouse_organogenesis_embryo2\",\n",
    "    \"seqfish_mouse_organogenesis_subsample_50pct_embryo2\",\n",
    "    \"seqfish_mouse_organogenesis_subsample_25pct_embryo2\",\n",
    "    \"seqfish_mouse_organogenesis_subsample_10pct_embryo2\",\n",
    "    \"seqfish_mouse_organogenesis_subsample_5pct_embryo2\",\n",
    "    \"seqfish_mouse_organogenesis_subsample_1pct_embryo2\",\n",
    "]\n",
    "timestamps = [\n",
    "    \"16082023_153513_1\",\n",
    "    \"16082023_201308_1\",\n",
    "    \"16082023_201312_1\",\n",
    "    \"16082023_201320_1\",\n",
    "    \"16082023_201434_1\",\n",
    "    \"16082023_202321_1\",\n",
    "]\n",
    "\n",
    "for dataset, timestamp in zip(datasets, timestamps):\n",
    "    source_path = f\"{artifact_folder_path}/{dataset}/results/{conv_layer_encoder}_{task}/{timestamp}/{dataset}_{conv_layer_encoder}_{task}.h5ad\"\n",
    "    destination_path = f\"{artifact_folder_path}/{task}/{dataset}_nichecompass_{conv_layer_encoder}.h5ad\"\n",
    "    shutil.copy(source_path, destination_path)"
   ]
  },
  {
   "cell_type": "markdown",
   "id": "a18165ea-8b86-41d4-b4dc-09a2ac617f32",
   "metadata": {},
   "source": [
    "#### 2.1.2 nanoString CosMx SMI Human Non-Small-Cell Lung Cancer (NSCLC)"
   ]
  },
  {
   "cell_type": "code",
   "execution_count": null,
   "id": "7d753aaa-95d2-4e0d-99b6-50e00f5d4351",
   "metadata": {},
   "outputs": [],
   "source": [
    "# Store NicheCompass GCN encoder results in benchmarking folder\n",
    "task = \"single_sample_method_benchmarking\"\n",
    "conv_layer_encoder = \"gcnconv\"\n",
    "datasets = [\n",
    "    \"nanostring_cosmx_human_nsclc_batch5\",\n",
    "    \"nanostring_cosmx_human_nsclc_subsample_50pct_batch5\",\n",
    "    \"nanostring_cosmx_human_nsclc_subsample_25pct_batch5\",\n",
    "    \"nanostring_cosmx_human_nsclc_subsample_10pct_batch5\",\n",
    "    \"nanostring_cosmx_human_nsclc_subsample_5pct_batch5\",\n",
    "    \"nanostring_cosmx_human_nsclc_subsample_1pct_batch5\",\n",
    "]\n",
    "timestamps = [\n",
    "    \"16082023_174027_1\",\n",
    "    \"16082023_174028_1\",\n",
    "    \"16082023_174332_1\",\n",
    "    \"17082023_100851_1\",\n",
    "    \"17082023_101057_1\",\n",
    "    \"16082023_154030_1\",\n",
    "]\n",
    "\n",
    "for dataset, timestamp in zip(datasets, timestamps):\n",
    "    source_path = f\"{artifact_folder_path}/{dataset}/results/{conv_layer_encoder}_{task}/{timestamp}/{dataset}_{conv_layer_encoder}_{task}.h5ad\"\n",
    "    destination_path = f\"{artifact_folder_path}/{task}/{dataset}_nichecompass_{conv_layer_encoder}.h5ad\"\n",
    "    shutil.copy(source_path, destination_path)"
   ]
  },
  {
   "cell_type": "code",
   "execution_count": null,
   "id": "11c021c8-8733-42eb-9a7b-83494deffc77",
   "metadata": {},
   "outputs": [],
   "source": [
    "# Store NicheCompass GATv2 encoder results in benchmarking folder\n",
    "task = \"single_sample_method_benchmarking\"\n",
    "conv_layer_encoder = \"gatv2conv\"\n",
    "datasets = [\n",
    "    \"nanostring_cosmx_human_nsclc_batch5\",\n",
    "    \"nanostring_cosmx_human_nsclc_subsample_50pct_batch5\",\n",
    "    \"nanostring_cosmx_human_nsclc_subsample_25pct_batch5\",\n",
    "    \"nanostring_cosmx_human_nsclc_subsample_10pct_batch5\",\n",
    "    \"nanostring_cosmx_human_nsclc_subsample_5pct_batch5\",\n",
    "    \"nanostring_cosmx_human_nsclc_subsample_1pct_batch5\",\n",
    "]\n",
    "timestamps = [\n",
    "    \"16082023_191755_1\", # only contains 4 runs due to 2 day limit\n",
    "    \"16082023_203456_1\",\n",
    "    \"18082023_100942_1\",\n",
    "    \"17082023_100713_1\",\n",
    "    \"16082023_203744_1\",\n",
    "    \"16082023_203926_1\",\n",
    "]\n",
    "\n",
    "for dataset, timestamp in zip(datasets, timestamps):\n",
    "    source_path = f\"{artifact_folder_path}/{dataset}/results/{conv_layer_encoder}_{task}/{timestamp}/{dataset}_{conv_layer_encoder}_{task}.h5ad\"\n",
    "    destination_path = f\"{artifact_folder_path}/{task}/{dataset}_nichecompass_{conv_layer_encoder}.h5ad\"\n",
    "    shutil.copy(source_path, destination_path)"
   ]
  },
  {
   "cell_type": "code",
   "execution_count": null,
   "id": "54be19ed-c859-48b5-8459-15c9bfd79805",
   "metadata": {},
   "outputs": [],
   "source": [
    "# Add missing runs for 'nanostring_cosmx_human_nsclc_batch5'\n",
    "dataset = \"nanostring_cosmx_human_nsclc_batch5\"\n",
    "conv_layer_encoder = \"gatv2conv\"\n",
    "timestamp = \"18082023_185135_1\"\n",
    "\n",
    "adata1 = sc.read_h5ad(f\"{benchmarking_folder_path}/{dataset}_nichecompass_{conv_layer_encoder}.h5ad\")\n",
    "adata2 = sc.read_h5ad(f\"{artifact_folder_path}/{dataset}/results/{conv_layer_encoder}_single_sample_method_benchmarking/{timestamp}/{dataset}_{conv_layer_encoder}_single_sample_method_benchmarking.h5ad\")\n",
    "\n",
    "for run_number in [1, 2, 3, 4]:\n",
    "    adata1.uns[f\"nichecompass_latent_run{run_number}_umap\"] = adata2.uns[f\"nichecompass_latent_run{run_number}_umap\"]\n",
    "    adata1.uns[f\"nichecompass_model_training_duration_run{run_number}\"] = adata2.uns[f\"nichecompass_model_training_duration_run{run_number}\"]\n",
    "    adata1.obsm[f\"nichecompass_latent_run{run_number}\"] = adata2.obsm[f\"nichecompass_latent_run{run_number}\"]\n",
    "    adata1.obsp[f\"nichecompass_latent_run{run_number}_connectivities\"] = adata2.obsp[f\"nichecompass_latent_run{run_number}_connectivities\"]\n",
    "    adata1.obsp[f\"nichecompass_latent_run{run_number}_distances\"] = adata2.obsp[f\"nichecompass_latent_run{run_number}_distances\"]\n",
    "    \n",
    "adata1.write(f\"{benchmarking_folder_path}/{dataset}_nichecompass_{conv_layer_encoder}.h5ad\")"
   ]
  },
  {
   "cell_type": "markdown",
   "id": "25b6d996-956a-4033-862e-bc29a4d3b110",
   "metadata": {
    "tags": []
   },
   "source": [
    "#### 2.1.4 Vizgen MERFISH Mouse Liver"
   ]
  },
  {
   "cell_type": "code",
   "execution_count": 11,
   "id": "83769898-c912-41fc-94f2-b5f67c6a84bd",
   "metadata": {},
   "outputs": [],
   "source": [
    "# Store NicheCompass GCN encoder results in benchmarking folder\n",
    "task = \"single_sample_method_benchmarking\"\n",
    "conv_layer_encoder = \"gcnconv\"\n",
    "datasets = [\n",
    "    \"vizgen_merfish_mouse_liver\",\n",
    "    \"vizgen_merfish_mouse_liver_subsample_50pct\",\n",
    "    \"vizgen_merfish_mouse_liver_subsample_25pct\",\n",
    "    \"vizgen_merfish_mouse_liver_subsample_10pct\",\n",
    "    \"vizgen_merfish_mouse_liver_subsample_5pct\",\n",
    "    \"vizgen_merfish_mouse_liver_subsample_1pct\",\n",
    "]\n",
    "timestamps = [\n",
    "    \"16082023_165031_1\",\n",
    "    \"16082023_165038_1\",\n",
    "    \"16082023_165031_1\",\n",
    "    \"16082023_165031_1\",\n",
    "    \"16082023_165031_1\",\n",
    "    \"16082023_170911_1\",\n",
    "]\n",
    "\n",
    "for dataset, timestamp in zip(datasets, timestamps):\n",
    "    source_path = f\"{artifact_folder_path}/{dataset}/results/{conv_layer_encoder}_{task}/{timestamp}/{dataset}_{conv_layer_encoder}_{task}.h5ad\"\n",
    "    destination_path = f\"{artifact_folder_path}/{task}/{dataset}_nichecompass_{conv_layer_encoder}.h5ad\"\n",
    "    shutil.copy(source_path, destination_path)"
   ]
  },
  {
   "cell_type": "code",
   "execution_count": 12,
   "id": "0627246e-4062-4a0b-bad9-6ae21f6374ba",
   "metadata": {},
   "outputs": [],
   "source": [
    "# Add missing runs for 'vizgen_merfish_mouse_liver'\n",
    "dataset = \"vizgen_merfish_mouse_liver\"\n",
    "conv_layer_encoder = \"gcnconv\"\n",
    "timestamp = \"18082023_171011_2\"\n",
    "\n",
    "adata1 = sc.read_h5ad(f\"{benchmarking_folder_path}/{dataset}_nichecompass_{conv_layer_encoder}.h5ad\")\n",
    "adata2 = sc.read_h5ad(f\"{artifact_folder_path}/{dataset}/results/{conv_layer_encoder}_single_sample_method_benchmarking/{timestamp}/{dataset}_{conv_layer_encoder}_single_sample_method_benchmarking.h5ad\")\n",
    "\n",
    "for run_number in [1, 2, 3]:\n",
    "    adata1.uns[f\"nichecompass_latent_run{run_number}_umap\"] = adata2.uns[f\"nichecompass_latent_run{run_number}_umap\"]\n",
    "    adata1.uns[f\"nichecompass_model_training_duration_run{run_number}\"] = adata2.uns[f\"nichecompass_model_training_duration_run{run_number}\"]\n",
    "    adata1.obsm[f\"nichecompass_latent_run{run_number}\"] = adata2.obsm[f\"nichecompass_latent_run{run_number}\"]\n",
    "    adata1.obsp[f\"nichecompass_latent_run{run_number}_connectivities\"] = adata2.obsp[f\"nichecompass_latent_run{run_number}_connectivities\"]\n",
    "    adata1.obsp[f\"nichecompass_latent_run{run_number}_distances\"] = adata2.obsp[f\"nichecompass_latent_run{run_number}_distances\"]\n",
    "    \n",
    "adata1.write(f\"{benchmarking_folder_path}/{dataset}_nichecompass_{conv_layer_encoder}.h5ad\")"
   ]
  },
  {
   "cell_type": "code",
   "execution_count": 14,
   "id": "2a6e6b37-5bc2-48da-989d-77f7f3a555ca",
   "metadata": {},
   "outputs": [],
   "source": [
    "adata = sc.read_h5ad(\"../../artifacts/single_sample_method_benchmarking/nanostring_cosmx_human_nsclc_batch5_expimap.h5ad\")"
   ]
  },
  {
   "cell_type": "code",
   "execution_count": 15,
   "id": "f57eec3a-1608-44c2-9c6c-ec6bbc54056a",
   "metadata": {},
   "outputs": [
    {
     "data": {
      "text/plain": [
       "AnnData object with n_obs × n_vars = 77391 × 960\n",
       "    obs: 'cell_type'\n",
       "    uns: 'expimap_model_training_duration_run4', 'expimap_model_training_duration_run5', 'expimap_model_training_duration_run6', 'expimap_model_training_duration_run7', 'expimap_model_training_duration_run8'\n",
       "    obsm: 'expimap_latent_run4', 'expimap_latent_run5', 'expimap_latent_run6', 'expimap_latent_run7', 'expimap_latent_run8', 'spatial'"
      ]
     },
     "execution_count": 15,
     "metadata": {},
     "output_type": "execute_result"
    }
   ],
   "source": [
    "adata"
   ]
  },
  {
   "cell_type": "code",
   "execution_count": null,
   "id": "9b7adee6-e9ad-41af-8d15-1657b5318092",
   "metadata": {},
   "outputs": [],
   "source": [
    "# Store NicheCompass GATv2 encoder results in benchmarking folder\n",
    "task = \"single_sample_method_benchmarking\"\n",
    "conv_layer_encoder = \"gatv2conv\"\n",
    "datasets = [\n",
    "    \"vizgen_merfish_mouse_liver\",\n",
    "    \"vizgen_merfish_mouse_liver_subsample_50pct\",\n",
    "    \"vizgen_merfish_mouse_liver_subsample_25pct\",\n",
    "    \"vizgen_merfish_mouse_liver_subsample_10pct\",\n",
    "    \"vizgen_merfish_mouse_liver_subsample_5pct\",\n",
    "    \"vizgen_merfish_mouse_liver_subsample_1pct\",\n",
    "]\n",
    "timestamps = [\n",
    "    \"\",\n",
    "    \"\",\n",
    "    \"\",\n",
    "    \"\",\n",
    "    \"\",\n",
    "    \"16082023_204835_1\",\n",
    "]\n",
    "\n",
    "for dataset, timestamp in zip(datasets, timestamps):\n",
    "    source_path = f\"{artifact_folder_path}/{dataset}/results/{conv_layer_encoder}_{task}/{timestamp}/{dataset}_{conv_layer_encoder}_{task}.h5ad\"\n",
    "    destination_path = f\"{artifact_folder_path}/{task}/{dataset}_nichecompass_{conv_layer_encoder}.h5ad\"\n",
    "    shutil.copy(source_path, destination_path)"
   ]
  },
  {
   "cell_type": "markdown",
   "id": "f68b309e-653e-479f-8932-fbe0b8d9bc3d",
   "metadata": {},
   "source": [
    "#### 2.1.5 Slide-seqV2 Mouse Hippocampus"
   ]
  },
  {
   "cell_type": "code",
   "execution_count": null,
   "id": "52175a2d-f5fc-48e2-8a73-a331dffe9aaf",
   "metadata": {},
   "outputs": [],
   "source": [
    "# Store NicheCompass GCN encoder results in benchmarking folder\n",
    "task = \"single_sample_method_benchmarking\"\n",
    "conv_layer_encoder = \"gcnconv\"\n",
    "datasets = [\n",
    "    \"slideseqv2_mouse_hippocampus\",\n",
    "    \"slideseqv2_mouse_hippocampus_subsample_50pct\",\n",
    "    \"slideseqv2_mouse_hippocampus_subsample_25pct\",\n",
    "    \"slideseqv2_mouse_hippocampus_subsample_10pct\",\n",
    "    \"slideseqv2_mouse_hippocampus_subsample_5pct\",\n",
    "    \"slideseqv2_mouse_hippocampus_subsample_1pct\",\n",
    "]\n",
    "timestamps = [\n",
    "    \"16082023_205838_1\",\n",
    "    \"16082023_210004_1\",\n",
    "    \"16082023_210005_1\",\n",
    "    \"16082023_210304_1\",\n",
    "    \"16082023_211128_1\",\n",
    "    \"16082023_211128_1\",\n",
    "]\n",
    "\n",
    "for dataset, timestamp in zip(datasets, timestamps):\n",
    "    source_path = f\"{artifact_folder_path}/{dataset}/results/{conv_layer_encoder}_{task}/{timestamp}/{dataset}_{conv_layer_encoder}_{task}.h5ad\"\n",
    "    destination_path = f\"{artifact_folder_path}/{task}/{dataset}_nichecompass_{conv_layer_encoder}.h5ad\"\n",
    "    shutil.copy(source_path, destination_path)"
   ]
  },
  {
   "cell_type": "code",
   "execution_count": 13,
   "id": "576e15bc-c583-4a86-b5d5-b0458a9c630d",
   "metadata": {},
   "outputs": [],
   "source": [
    "# Store NicheCompass GATv2 encoder results in benchmarking folder\n",
    "task = \"single_sample_method_benchmarking\"\n",
    "conv_layer_encoder = \"gatv2conv\"\n",
    "datasets = [\n",
    "    \"slideseqv2_mouse_hippocampus\",\n",
    "    \"slideseqv2_mouse_hippocampus_subsample_50pct\",\n",
    "    \"slideseqv2_mouse_hippocampus_subsample_25pct\",\n",
    "    \"slideseqv2_mouse_hippocampus_subsample_10pct\",\n",
    "    \"slideseqv2_mouse_hippocampus_subsample_5pct\",\n",
    "    \"slideseqv2_mouse_hippocampus_subsample_1pct\",\n",
    "]\n",
    "timestamps = [\n",
    "    \"17082023_104409_1\",\n",
    "    \"18082023_095235_1\",\n",
    "    \"17082023_110554_1\",\n",
    "    \"16082023_212040_1\",\n",
    "    \"16082023_212145_1\",\n",
    "    \"16082023_212338_1\",\n",
    "]\n",
    "\n",
    "for dataset, timestamp in zip(datasets, timestamps):\n",
    "    source_path = f\"{artifact_folder_path}/{dataset}/results/{conv_layer_encoder}_{task}/{timestamp}/{dataset}_{conv_layer_encoder}_{task}.h5ad\"\n",
    "    destination_path = f\"{artifact_folder_path}/{task}/{dataset}_nichecompass_{conv_layer_encoder}.h5ad\"\n",
    "    shutil.copy(source_path, destination_path)"
   ]
  },
  {
   "cell_type": "markdown",
   "id": "82ff99c4-ab55-4b85-90e9-d73eaa88f282",
   "metadata": {},
   "source": [
    "### 2.1 Create Benchmarking Metrics Plots & Run Time Plots"
   ]
  },
  {
   "cell_type": "markdown",
   "id": "e69c3cca-3c7d-4c5e-ac5f-ca9b1af82102",
   "metadata": {},
   "source": [
    "#### 2.1.1 seqFISH Mouse Organogenesis"
   ]
  },
  {
   "cell_type": "code",
   "execution_count": null,
   "id": "914664f8-6347-4c09-86b5-3d2c27246ddd",
   "metadata": {},
   "outputs": [],
   "source": [
    "datasets = [\"seqfish_mouse_organogenesis_embryo2\",\n",
    "            \"seqfish_mouse_organogenesis_subsample_50pct_embryo2\",\n",
    "            \"seqfish_mouse_organogenesis_subsample_25pct_embryo2\",\n",
    "            \"seqfish_mouse_organogenesis_subsample_10pct_embryo2\",\n",
    "            \"seqfish_mouse_organogenesis_subsample_5pct_embryo2\",\n",
    "            \"seqfish_mouse_organogenesis_subsample_1pct_embryo2\"]\n",
    "models = [\"nichecompass_gcnconv\",\n",
    "          \"nichecompass_gatv2conv\",\n",
    "          \"deeplinc\",\n",
    "          \"graphst\",\n",
    "          \"sagenet\",\n",
    "          \"scvi\",\n",
    "          \"expimap\"]"
   ]
  },
  {
   "cell_type": "code",
   "execution_count": null,
   "id": "a1afa8d8-c3da-4e82-a5d3-870e045faab8",
   "metadata": {},
   "outputs": [],
   "source": [
    "summary_df = pd.DataFrame()\n",
    "for dataset in datasets:\n",
    "    for model in models:\n",
    "        benchmark_df = pd.read_csv(f\"{benchmarking_folder_path}/{dataset}_{model}_metrics.csv\")\n",
    "        #adata = sc.read_h5ad(f\"../../artifacts/single_sample_method_benchmarking/{dataset}_{model}.h5ad\")\n",
    "        #training_durations = []\n",
    "        #for run_number in [1, 2, 3, 4, 5, 6, 7, 8]:\n",
    "        #    training_durations.append(adata.uns[f\"{model.split('_')[0]}_model_training_duration_run{run_number}\"])\n",
    "        #benchmark_df[\"run_time\"] = training_durations\n",
    "        #benchmark_df = benchmark_df[[\"dataset\", \"run_number\", \"run_time\", \"gcs\", \"mlami\", \"cas\", \"clisis\", \"nasw\", \"cnmi\", \"cari\", \"casw\", \"clisi\"]]\n",
    "        #benchmark_df.to_csv(f\"{benchmarking_folder_path}/{dataset}_{model}_metrics.csv\", index=False)\n",
    "        benchmark_df[\"model\"] = model\n",
    "        benchmark_df[category_cols_single_sample[0]] = np.average(benchmark_df[metric_cols_single_sample[:4]], weights=metric_col_weights_single_sample[:4], axis=1)\n",
    "        benchmark_df[category_cols_single_sample[1]] = np.average(benchmark_df[metric_cols_single_sample[4:8]], weights=metric_col_weights_single_sample[4:8], axis=1)\n",
    "        benchmark_df[category_cols_single_sample[2]] = np.average(benchmark_df[metric_cols_single_sample[8:9]], weights=metric_col_weights_single_sample[8:9], axis=1)\n",
    "        benchmark_df[\"Overall Score\"] = np.average(benchmark_df[category_cols_single_sample[:3]], weights=category_col_weights_single_sample[:3] ,axis=1)\n",
    "        summary_df = pd.concat([summary_df, benchmark_df], ignore_index=True)\n",
    " \n",
    "# Reformat for plot\n",
    "summary_df.replace({\"nichecompass_gcnconv\": \"NicheCompass GCN\",\n",
    "                    \"nichecompass_gatv2conv\": \"NicheCompass GATv2\",\n",
    "                    \"deeplinc\": \"DeepLinc\",\n",
    "                    \"expimap\": \"expiMap\",\n",
    "                    \"graphst\": \"GraphST\",\n",
    "                    \"sagenet\": \"SageNet\",\n",
    "                    \"scvi\": \"scVI\"}, inplace=True)\n",
    "\n",
    "# Plot over all loss weights combinations\n",
    "# Prepare metrics table plot\n",
    "group_cols = [\"dataset\", \"model\"]\n",
    "aggregate_df = summary_df.groupby(group_cols).mean(\"Overall Score\").sort_values(\"Overall Score\", ascending=False)[\n",
    "    category_cols_single_sample].reset_index()\n",
    "\n",
    "unrolled_df = pd.melt(aggregate_df, \n",
    "   id_vars=group_cols,\n",
    "   value_vars=category_cols_single_sample, # metric_cols_single_sample,\n",
    "   var_name=\"score_type\", \n",
    "   value_name=\"score\")\n",
    "\n",
    "# Create spatial indicator column\n",
    "def is_spatially_aware_model(row):\n",
    "    if row[\"model\"] in [\"NicheCompass GCN\", \"NicheCompass GATv2\", \"DeepLinc\", \"GraphST\", \"SageNet\"]:\n",
    "        return True\n",
    "    return False\n",
    "unrolled_df[\"spatially_aware\"] = unrolled_df.apply(lambda row: is_spatially_aware_model(row), axis=1)\n",
    "unrolled_df = unrolled_df[[\"dataset\", \"spatially_aware\", \"model\", \"score_type\", \"score\"]]\n",
    "\n",
    "# Order datasets\n",
    "unrolled_df[\"dataset\"] = pd.Categorical(unrolled_df[\"dataset\"], categories=datasets, ordered=True)\n",
    "unrolled_df = unrolled_df.sort_values(by=\"dataset\")"
   ]
  },
  {
   "cell_type": "code",
   "execution_count": null,
   "id": "1bd0829d-e607-4e9b-934c-10df85cfac21",
   "metadata": {},
   "outputs": [],
   "source": [
    "summary_df[\"model\"].value_counts()"
   ]
  },
  {
   "cell_type": "code",
   "execution_count": null,
   "id": "c9b78079-ec91-4168-a38f-0ff3530e8d12",
   "metadata": {},
   "outputs": [],
   "source": [
    "# Plot table\n",
    "plot_metrics_table(\n",
    "    df=unrolled_df,\n",
    "    model_col=\"model\",\n",
    "    model_col_width=2.,\n",
    "    group_col=\"dataset\",\n",
    "    metric_cols=category_cols_single_sample, # metric_cols_single_sample,\n",
    "    metric_col_weights=category_col_weights_single_sample, # metric_col_weights_single_sample,\n",
    "    metric_col_titles=[col.replace(\" \", \"\\n\") for col in category_col_titles_single_sample],\n",
    "    metric_col_width=1.1, # 0.8,\n",
    "    plot_width=36, # 32,\n",
    "    plot_height=8,\n",
    "    show=True,\n",
    "    save_dir=benchmarking_folder_path,\n",
    "    save_name=f\"benchmarking_metrics_seqfish_mouse_organogenesis.png\")"
   ]
  },
  {
   "cell_type": "code",
   "execution_count": null,
   "id": "c0472e92-4455-4411-aa91-cc3f4aa6b191",
   "metadata": {},
   "outputs": [],
   "source": [
    "run_time_mean_df = summary_df.groupby([\"dataset\", \"model\"])[[\"run_time\"]].mean().reset_index()\n",
    "\n",
    "def create_dataset_share_col(row):\n",
    "    if row[\"dataset\"] == \"seqfish_mouse_organogenesis_embryo2\":\n",
    "        return 100\n",
    "    elif row[\"dataset\"] == \"seqfish_mouse_organogenesis_subsample_50pct_embryo2\":    \n",
    "        return 50\n",
    "    elif row[\"dataset\"] == \"seqfish_mouse_organogenesis_subsample_25pct_embryo2\":    \n",
    "        return 25\n",
    "    elif row[\"dataset\"] == \"seqfish_mouse_organogenesis_subsample_10pct_embryo2\":    \n",
    "        return 10\n",
    "    elif row[\"dataset\"] == \"seqfish_mouse_organogenesis_subsample_5pct_embryo2\":    \n",
    "        return 5\n",
    "    elif row[\"dataset\"] == \"seqfish_mouse_organogenesis_subsample_1pct_embryo2\":    \n",
    "        return 1\n",
    "    \n",
    "run_time_mean_df[\"dataset_share\"] = run_time_mean_df.apply(lambda row: create_dataset_share_col(row), axis=1)\n",
    "    \n",
    "sns.lineplot(data=run_time_mean_df, x=\"dataset_share\", y=\"run_time\", hue=\"model\", marker='o')\n",
    "plt.title(\" Model Run Time: seqFISH Mouse Organogenesis\")\n",
    "plt.ylabel(\"Run Time (Seconds)\")\n",
    "plt.xlabel(\"Subsample Percentage\")\n",
    "legend = plt.gca().get_legend()\n",
    "handles, labels = legend.legendHandles, [text.get_text() for text in legend.get_texts()]\n",
    "order = [3, 2, 4, 1, 0, 6, 5]\n",
    "ordered_handles = [handles[i] for i in order]\n",
    "ordered_labels = [labels[i] for i in order]\n",
    "plt.legend(ordered_handles, ordered_labels)\n",
    "plt.savefig(benchmarking_folder_path + \"/benchmarking_runtimes_seqfish_mouse_organogenesis.png\")\n",
    "plt.show()"
   ]
  },
  {
   "cell_type": "markdown",
   "id": "cc6150e3-3aa9-4c55-bb20-2e0efe236ffc",
   "metadata": {},
   "source": [
    "#### 2.1.2 nanoString CosMx SMI Human Non-Small-Cell Lung Cancer (NSCLC)"
   ]
  },
  {
   "cell_type": "code",
   "execution_count": null,
   "id": "1d6422aa-660c-4474-9fea-3f9868b34146",
   "metadata": {},
   "outputs": [],
   "source": [
    "datasets = [\"nanostring_cosmx_human_nsclc_batch5\",\n",
    "            \"nanostring_cosmx_human_nsclc_subsample_50pct_batch5\",\n",
    "            \"nanostring_cosmx_human_nsclc_subsample_25pct_batch5\",\n",
    "            \"nanostring_cosmx_human_nsclc_subsample_10pct_batch5\",\n",
    "            \"nanostring_cosmx_human_nsclc_subsample_5pct_batch5\",\n",
    "            \"nanostring_cosmx_human_nsclc_subsample_1pct_batch5\"]\n",
    "models = [#\"nichecompass_gcnconv\",\n",
    "          #\"nichecompass_gatv2conv\",\n",
    "          #\"deeplinc\",\n",
    "          \"graphst\",\n",
    "          #\"sagenet\",\n",
    "          \"scvi\",\n",
    "          #\"expimap\"\n",
    "]"
   ]
  },
  {
   "cell_type": "code",
   "execution_count": null,
   "id": "32f942b2-587f-4095-b6d8-868a15e860c5",
   "metadata": {},
   "outputs": [],
   "source": [
    "summary_df = pd.DataFrame()\n",
    "for dataset in datasets:\n",
    "    for model in models:\n",
    "        try:\n",
    "            benchmark_df = pd.read_csv(f\"{benchmarking_folder_path}/{dataset}_{model}_metrics.csv\")\n",
    "            #adata = sc.read_h5ad(f\"../../artifacts/single_sample_method_benchmarking/{dataset}_{model}.h5ad\")\n",
    "            #training_durations = []\n",
    "            #for run_number in [1, 2, 3, 4, 5, 6, 7, 8]:\n",
    "            #    training_durations.append(adata.uns[f\"{model.split('_')[0]}_model_training_duration_run{run_number}\"])\n",
    "            #benchmark_df[\"run_time\"] = training_durations\n",
    "            #benchmark_df = benchmark_df[[\"dataset\", \"run_number\", \"run_time\", \"gcs\", \"mlami\", \"cas\", \"clisis\", \"nasw\", \"cnmi\", \"cari\", \"casw\", \"clisi\"]]\n",
    "            #benchmark_df.to_csv(f\"{benchmarking_folder_path}/{dataset}_{model}_metrics.csv\", index=False)\n",
    "            benchmark_df[\"model\"] = model\n",
    "            benchmark_df[category_cols_single_sample[0]] = np.average(benchmark_df[metric_cols_single_sample[:4]], weights=metric_col_weights_single_sample[:4], axis=1)\n",
    "            benchmark_df[category_cols_single_sample[1]] = np.average(benchmark_df[metric_cols_single_sample[4:8]], weights=metric_col_weights_single_sample[4:8], axis=1)\n",
    "            benchmark_df[category_cols_single_sample[2]] = np.average(benchmark_df[metric_cols_single_sample[8:9]], weights=metric_col_weights_single_sample[8:9], axis=1)\n",
    "            benchmark_df[\"Overall Score\"] = np.average(benchmark_df[category_cols_single_sample[:3]], weights=category_col_weights_single_sample[:3] ,axis=1)\n",
    "            summary_df = pd.concat([summary_df, benchmark_df], ignore_index=True)\n",
    "        except FileNotFoundError:\n",
    "            print(f\"Did not find file {benchmarking_folder_path}/{dataset}_{model}_metrics.csv. Continuing...\")\n",
    "            missing_run_data = {\n",
    "                \"dataset\": [dataset] * 8,\n",
    "                \"model\": [model] * 8,\n",
    "                \"run_number\": [1, 2, 3, 4, 5, 6, 7, 8],\n",
    "            }\n",
    "            missing_run_df = pd.DataFrame(missing_run_data)\n",
    "            summary_df = summary_df.append(missing_run_df, ignore_index=True)\n",
    "            continue\n",
    " \n",
    "# Reformat for plot\n",
    "summary_df.replace({\"nichecompass_gcnconv\": \"NicheCompass GCN\",\n",
    "                    \"nichecompass_gatv2conv\": \"NicheCompass GATv2\",\n",
    "                    \"deeplinc\": \"DeepLinc\",\n",
    "                    \"expimap\": \"expiMap\",\n",
    "                    \"graphst\": \"GraphST\",\n",
    "                    \"sagenet\": \"SageNet\",\n",
    "                    \"scvi\": \"scVI\"}, inplace=True)\n",
    "\n",
    "# Plot over all loss weights combinations\n",
    "# Prepare metrics table plot\n",
    "group_cols = [\"dataset\", \"model\"]\n",
    "aggregate_df = summary_df.groupby(group_cols).mean(\"Overall Score\").sort_values(\"Overall Score\", ascending=False)[\n",
    "    category_cols_single_sample].reset_index()\n",
    "\n",
    "unrolled_df = pd.melt(aggregate_df, \n",
    "   id_vars=group_cols,\n",
    "   value_vars=category_cols_single_sample, # metric_cols_single_sample,\n",
    "   var_name=\"score_type\", \n",
    "   value_name=\"score\")\n",
    "\n",
    "# Create spatial indicator column\n",
    "def is_spatially_aware_model(row):\n",
    "    if row[\"model\"] in [\"NicheCompass GCN\", \"NicheCompass GATv2\", \"DeepLinc\", \"GraphST\", \"SageNet\"]:\n",
    "        return True\n",
    "    return False\n",
    "unrolled_df[\"spatially_aware\"] = unrolled_df.apply(lambda row: is_spatially_aware_model(row), axis=1)\n",
    "unrolled_df = unrolled_df[[\"dataset\", \"spatially_aware\", \"model\", \"score_type\", \"score\"]]\n",
    "\n",
    "# Order datasets\n",
    "unrolled_df[\"dataset\"] = pd.Categorical(unrolled_df[\"dataset\"], categories=datasets, ordered=True)\n",
    "unrolled_df = unrolled_df.sort_values(by=\"dataset\")"
   ]
  },
  {
   "cell_type": "code",
   "execution_count": null,
   "id": "3d6dd988-9a7b-4242-926f-6a7283cba972",
   "metadata": {},
   "outputs": [],
   "source": [
    "summary_df[\"model\"].value_counts()"
   ]
  },
  {
   "cell_type": "code",
   "execution_count": null,
   "id": "4a3872fa-6a37-4871-83ac-3400e6ca25f3",
   "metadata": {},
   "outputs": [],
   "source": [
    "# Plot table\n",
    "plot_metrics_table(\n",
    "    df=unrolled_df,\n",
    "    model_col=\"model\",\n",
    "    model_col_width=2.,\n",
    "    group_col=\"dataset\",\n",
    "    metric_cols=category_cols_single_sample, # metric_cols_single_sample,\n",
    "    metric_col_weights=category_col_weights_single_sample, # metric_col_weights_single_sample,\n",
    "    metric_col_titles=[col.replace(\" \", \"\\n\") for col in category_col_titles_single_sample],\n",
    "    metric_col_width=1.2, # 0.8,\n",
    "    plot_width=36, # 32,\n",
    "    plot_height=8,\n",
    "    show=True,\n",
    "    save_dir=benchmarking_folder_path,\n",
    "    save_name=f\"benchmarking_results_{dataset}.png\")"
   ]
  },
  {
   "cell_type": "code",
   "execution_count": null,
   "id": "97c8c36c-d953-45db-9ab3-734203bb4937",
   "metadata": {},
   "outputs": [],
   "source": [
    "run_time_mean_df = summary_df.groupby([\"dataset\", \"model\"])[[\"run_time\"]].mean().reset_index()\n",
    "\n",
    "def create_dataset_share_col(row):\n",
    "    if row[\"dataset\"] == \"nanostring_cosmx_human_nsclc_batch5\":\n",
    "        return 100\n",
    "    elif row[\"dataset\"] == \"nanostring_cosmx_human_nsclc_subsample_50pct_batch5\":    \n",
    "        return 50\n",
    "    elif row[\"dataset\"] == \"nanostring_cosmx_human_nsclc_subsample_25pct_batch5\":    \n",
    "        return 25\n",
    "    elif row[\"dataset\"] == \"nanostring_cosmx_human_nsclc_subsample_10pct_batch5\":    \n",
    "        return 10\n",
    "    elif row[\"dataset\"] == \"nanostring_cosmx_human_nsclc_subsample_5pct_batch5\":    \n",
    "        return 5\n",
    "    elif row[\"dataset\"] == \"nanostring_cosmx_human_nsclc_subsample_1pct_batch5\":    \n",
    "        return 1\n",
    "    \n",
    "run_time_mean_df[\"dataset_share\"] = run_time_mean_df.apply(lambda row: create_dataset_share_col(row), axis=1)\n",
    "    \n",
    "sns.lineplot(data=run_time_mean_df, x=\"dataset_share\", y=\"run_time\", hue=\"model\", marker='o')\n",
    "plt.title(\"nanoString CosMx Human NSCLC Model Run Times\")\n",
    "plt.ylabel(\"Run Time (Seconds)\")\n",
    "plt.xlabel(\"Subsample Percentage\")\n",
    "plt.legend()\n",
    "plt.show()"
   ]
  },
  {
   "cell_type": "markdown",
   "id": "32e7829f-acdc-40df-a608-14b05afbd55d",
   "metadata": {},
   "source": [
    "#### 2.1.3 Vizgen MERFISH Mouse Liver"
   ]
  },
  {
   "cell_type": "code",
   "execution_count": null,
   "id": "db20e1a2-841b-4202-b1eb-7752b4a8d252",
   "metadata": {},
   "outputs": [],
   "source": [
    "datasets = [\"vizgen_merfish_mouse_liver\",\n",
    "            \"vizgen_merfish_mouse_liver_subsample_50pct\",\n",
    "            \"vizgen_merfish_mouse_liver_subsample_25pct\",\n",
    "            \"vizgen_merfish_mouse_liver_subsample_10pct\",\n",
    "            \"vizgen_merfish_mouse_liver_subsample_5pct\",\n",
    "            \"vizgen_merfish_mouse_liver_subsample_1pct\"]\n",
    "models = [\"nichecompass_gcnconv\",\n",
    "          \"nichecompass_gatv2conv\",\n",
    "          \"deeplinc\",\n",
    "          \"graphst\",\n",
    "          \"sagenet\",\n",
    "          \"scvi\",\n",
    "          \"expimap\"]"
   ]
  },
  {
   "cell_type": "code",
   "execution_count": null,
   "id": "85deb77c-07b8-402e-ad59-2720785b3db9",
   "metadata": {},
   "outputs": [],
   "source": [
    "summary_df = pd.DataFrame()\n",
    "for dataset in datasets:\n",
    "    for model in models:\n",
    "        try:\n",
    "            benchmark_df = pd.read_csv(f\"{benchmarking_folder_path}/{dataset}_{model}_metrics.csv\")\n",
    "            #adata = sc.read_h5ad(f\"../../artifacts/single_sample_method_benchmarking/{dataset}_{model}.h5ad\")\n",
    "            #training_durations = []\n",
    "            #for run_number in [1, 2, 3, 4, 5, 6, 7, 8]:\n",
    "            #    training_durations.append(adata.uns[f\"{model.split('_')[0]}_model_training_duration_run{run_number}\"])\n",
    "            #benchmark_df[\"run_time\"] = training_durations\n",
    "            #benchmark_df = benchmark_df[[\"dataset\", \"run_number\", \"run_time\", \"gcs\", \"mlami\", \"cas\", \"clisis\", \"nasw\", \"cnmi\", \"cari\", \"casw\", \"clisi\"]]\n",
    "            #benchmark_df.to_csv(f\"{benchmarking_folder_path}/{dataset}_{model}_metrics.csv\", index=False)\n",
    "            benchmark_df[\"model\"] = model\n",
    "            benchmark_df[category_cols_single_sample[0]] = np.average(benchmark_df[metric_cols_single_sample[:4]], weights=metric_col_weights_single_sample[:4], axis=1)\n",
    "            benchmark_df[category_cols_single_sample[1]] = np.average(benchmark_df[metric_cols_single_sample[4:8]], weights=metric_col_weights_single_sample[4:8], axis=1)\n",
    "            benchmark_df[category_cols_single_sample[2]] = np.average(benchmark_df[metric_cols_single_sample[8:9]], weights=metric_col_weights_single_sample[8:9], axis=1)\n",
    "            benchmark_df[\"Overall Score\"] = np.average(benchmark_df[category_cols_single_sample[:3]], weights=category_col_weights_single_sample[:3] ,axis=1)\n",
    "            summary_df = pd.concat([summary_df, benchmark_df], ignore_index=True)\n",
    "        except FileNotFoundError:\n",
    "            print(f\"Did not find file {benchmarking_folder_path}/{dataset}_{model}_metrics.csv. Continuing...\")\n",
    "            missing_run_data = {\n",
    "                \"dataset\": [dataset] * 8,\n",
    "                \"model\": [model] * 8,\n",
    "                \"run_number\": [1, 2, 3, 4, 5, 6, 7, 8],\n",
    "                \"run_time\": [np.nan] * 8\n",
    "            }\n",
    "            missing_run_df = pd.DataFrame(missing_run_data)\n",
    "            summary_df = summary_df.append(missing_run_df, ignore_index=True)\n",
    "            continue\n",
    " \n",
    "# Reformat for plot\n",
    "summary_df.replace({\"nichecompass_gcnconv\": \"NicheCompass GCN\",\n",
    "                    \"nichecompass_gatv2conv\": \"NicheCompass GATv2\",\n",
    "                    \"deeplinc\": \"DeepLinc\",\n",
    "                    \"expimap\": \"expiMap\",\n",
    "                    \"graphst\": \"GraphST\",\n",
    "                    \"sagenet\": \"SageNet\",\n",
    "                    \"scvi\": \"scVI\"}, inplace=True)\n",
    "\n",
    "# Plot over all loss weights combinations\n",
    "# Prepare metrics table plot\n",
    "group_cols = [\"dataset\", \"model\"]\n",
    "aggregate_df = summary_df.groupby(group_cols).mean(\"Overall Score\").sort_values(\"Overall Score\", ascending=False)[\n",
    "    category_cols_single_sample].reset_index()\n",
    "\n",
    "unrolled_df = pd.melt(aggregate_df, \n",
    "   id_vars=group_cols,\n",
    "   value_vars=category_cols_single_sample, # metric_cols_single_sample,\n",
    "   var_name=\"score_type\", \n",
    "   value_name=\"score\")\n",
    "\n",
    "# Create spatial indicator column\n",
    "def is_spatially_aware_model(row):\n",
    "    if row[\"model\"] in [\"NicheCompass GCN\", \"NicheCompass GATv2\", \"DeepLinc\", \"GraphST\", \"SageNet\"]:\n",
    "        return True\n",
    "    return False\n",
    "unrolled_df[\"spatially_aware\"] = unrolled_df.apply(lambda row: is_spatially_aware_model(row), axis=1)\n",
    "unrolled_df = unrolled_df[[\"dataset\", \"spatially_aware\", \"model\", \"score_type\", \"score\"]]\n",
    "\n",
    "# Order datasets\n",
    "unrolled_df[\"dataset\"] = pd.Categorical(unrolled_df[\"dataset\"], categories=datasets, ordered=True)\n",
    "unrolled_df = unrolled_df.sort_values(by=\"dataset\")"
   ]
  },
  {
   "cell_type": "code",
   "execution_count": null,
   "id": "64e9cd81-7eb2-4388-a9f4-b69222ebd248",
   "metadata": {},
   "outputs": [],
   "source": [
    "summary_df[\"model\"].value_counts()"
   ]
  },
  {
   "cell_type": "code",
   "execution_count": null,
   "id": "97a04483-34f3-4147-9282-041bfe9a21bb",
   "metadata": {},
   "outputs": [],
   "source": [
    "# Plot table\n",
    "plot_metrics_table(\n",
    "    df=unrolled_df,\n",
    "    model_col=\"model\",\n",
    "    model_col_width=2.,\n",
    "    group_col=\"dataset\",\n",
    "    metric_cols=category_cols_single_sample, # metric_cols_single_sample,\n",
    "    metric_col_weights=category_col_weights_single_sample, # metric_col_weights_single_sample,\n",
    "    metric_col_titles=[col.replace(\" \", \"\\n\") for col in category_col_titles_single_sample],\n",
    "    metric_col_width=1.2, # 0.8,\n",
    "    plot_width=36, # 32,\n",
    "    plot_height=8,\n",
    "    show=True,\n",
    "    save_dir=benchmarking_folder_path,\n",
    "    save_name=f\"benchmarking_results_{dataset}.png\")"
   ]
  },
  {
   "cell_type": "markdown",
   "id": "d2929a7c-3c87-4fc6-a7c9-6a08f0e22e00",
   "metadata": {},
   "source": [
    "#### 2.1.4 Slide-seqV2 Mouse Hippocampus"
   ]
  },
  {
   "cell_type": "code",
   "execution_count": null,
   "id": "dd2feb93-2187-40ad-bc67-6a5f04d2a6f0",
   "metadata": {},
   "outputs": [],
   "source": [
    "datasets = [\"slideseqv2_mouse_hippocampus\",\n",
    "            \"slideseqv2_mouse_hippocampus_subsample_50pct\",\n",
    "            \"slideseqv2_mouse_hippocampus_subsample_25pct\",\n",
    "            \"slideseqv2_mouse_hippocampus_subsample_10pct\",\n",
    "            \"slideseqv2_mouse_hippocampus_subsample_5pct\",\n",
    "            \"slideseqv2_mouse_hippocampus_subsample_1pct\"]\n",
    "models = [\"nichecompass_gcnconv\",\n",
    "          \"nichecompass_gatv2conv\",\n",
    "          \"deeplinc\",\n",
    "          \"graphst\",\n",
    "          \"sagenet\",\n",
    "          \"scvi\",\n",
    "          \"expimap\"]"
   ]
  },
  {
   "cell_type": "code",
   "execution_count": null,
   "id": "c40bd054-dc77-45c5-9c12-7ea78f6829a3",
   "metadata": {},
   "outputs": [],
   "source": [
    "summary_df = pd.DataFrame()\n",
    "for dataset in datasets:\n",
    "    for model in models:\n",
    "        try:\n",
    "            benchmark_df = pd.read_csv(f\"{benchmarking_folder_path}/{dataset}_{model}_metrics.csv\")\n",
    "            #adata = sc.read_h5ad(f\"../../artifacts/single_sample_method_benchmarking/{dataset}_{model}.h5ad\")\n",
    "            #training_durations = []\n",
    "            #for run_number in [1, 2, 3, 4, 5, 6, 7, 8]:\n",
    "            #    training_durations.append(adata.uns[f\"{model.split('_')[0]}_model_training_duration_run{run_number}\"])\n",
    "            #benchmark_df[\"run_time\"] = training_durations\n",
    "            #benchmark_df = benchmark_df[[\"dataset\", \"run_number\", \"run_time\", \"gcs\", \"mlami\", \"cas\", \"clisis\", \"nasw\", \"cnmi\", \"cari\", \"casw\", \"clisi\"]]\n",
    "            #benchmark_df.to_csv(f\"{benchmarking_folder_path}/{dataset}_{model}_metrics.csv\", index=False)\n",
    "            benchmark_df[\"model\"] = model\n",
    "            benchmark_df[category_cols_single_sample[0]] = np.average(benchmark_df[metric_cols_single_sample[:4]], weights=metric_col_weights_single_sample[:4], axis=1)\n",
    "            benchmark_df[category_cols_single_sample[1]] = np.average(benchmark_df[metric_cols_single_sample[4:8]], weights=metric_col_weights_single_sample[4:8], axis=1)\n",
    "            benchmark_df[category_cols_single_sample[2]] = np.average(benchmark_df[metric_cols_single_sample[8:9]], weights=metric_col_weights_single_sample[8:9], axis=1)\n",
    "            benchmark_df[\"Overall Score\"] = np.average(benchmark_df[category_cols_single_sample[:3]], weights=category_col_weights_single_sample[:3] ,axis=1)\n",
    "            summary_df = pd.concat([summary_df, benchmark_df], ignore_index=True)\n",
    "        except FileNotFoundError:\n",
    "            print(f\"Did not find file {benchmarking_folder_path}/{dataset}_{model}_metrics.csv. Continuing...\")\n",
    "            missing_run_data = {\n",
    "                \"dataset\": [dataset] * 8,\n",
    "                \"model\": [model] * 8,\n",
    "                \"run_number\": [1, 2, 3, 4, 5, 6, 7, 8],\n",
    "                \"run_time\": [np.nan] * 8\n",
    "            }\n",
    "            missing_run_df = pd.DataFrame(missing_run_data)\n",
    "            summary_df = summary_df.append(missing_run_df, ignore_index=True)\n",
    "            continue\n",
    " \n",
    "# Reformat for plot\n",
    "summary_df.replace({\"nichecompass_gcnconv\": \"NicheCompass GCN\",\n",
    "                    \"nichecompass_gatv2conv\": \"NicheCompass GATv2\",\n",
    "                    \"deeplinc\": \"DeepLinc\",\n",
    "                    \"expimap\": \"expiMap\",\n",
    "                    \"graphst\": \"GraphST\",\n",
    "                    \"sagenet\": \"SageNet\",\n",
    "                    \"scvi\": \"scVI\"}, inplace=True)\n",
    "\n",
    "# Plot over all loss weights combinations\n",
    "# Prepare metrics table plot\n",
    "group_cols = [\"dataset\", \"model\"]\n",
    "aggregate_df = summary_df.groupby(group_cols).mean(\"Overall Score\").sort_values(\"Overall Score\", ascending=False)[\n",
    "    category_cols_single_sample].reset_index()\n",
    "\n",
    "unrolled_df = pd.melt(aggregate_df, \n",
    "   id_vars=group_cols,\n",
    "   value_vars=category_cols_single_sample, # metric_cols_single_sample,\n",
    "   var_name=\"score_type\", \n",
    "   value_name=\"score\")\n",
    "\n",
    "# Create spatial indicator column\n",
    "def is_spatially_aware_model(row):\n",
    "    if row[\"model\"] in [\"NicheCompass GCN\", \"NicheCompass GATv2\", \"DeepLinc\", \"GraphST\", \"SageNet\"]:\n",
    "        return True\n",
    "    return False\n",
    "unrolled_df[\"spatially_aware\"] = unrolled_df.apply(lambda row: is_spatially_aware_model(row), axis=1)\n",
    "unrolled_df = unrolled_df[[\"dataset\", \"spatially_aware\", \"model\", \"score_type\", \"score\"]]\n",
    "\n",
    "# Order datasets\n",
    "unrolled_df[\"dataset\"] = pd.Categorical(unrolled_df[\"dataset\"], categories=datasets, ordered=True)\n",
    "unrolled_df = unrolled_df.sort_values(by=\"dataset\")"
   ]
  },
  {
   "cell_type": "code",
   "execution_count": null,
   "id": "44fab006-e6ab-4e8d-b5b7-4189e29c180a",
   "metadata": {},
   "outputs": [],
   "source": [
    "summary_df[\"model\"].value_counts()"
   ]
  },
  {
   "cell_type": "code",
   "execution_count": null,
   "id": "55de09bf-3e2d-41a2-913e-f8e8d6a4817e",
   "metadata": {},
   "outputs": [],
   "source": [
    "# Plot table\n",
    "plot_metrics_table(\n",
    "    df=unrolled_df,\n",
    "    model_col=\"model\",\n",
    "    model_col_width=2.,\n",
    "    group_col=\"dataset\",\n",
    "    metric_cols=category_cols_single_sample, # metric_cols_single_sample,\n",
    "    metric_col_weights=category_col_weights_single_sample, # metric_col_weights_single_sample,\n",
    "    metric_col_titles=[col.replace(\" \", \"\\n\") for col in category_col_titles_single_sample],\n",
    "    metric_col_width=1.2, # 0.8,\n",
    "    plot_width=36, # 32,\n",
    "    plot_height=8,\n",
    "    show=True,\n",
    "    save_dir=benchmarking_folder_path,\n",
    "    save_name=f\"benchmarking_results_{dataset}.png\")"
   ]
  },
  {
   "cell_type": "code",
   "execution_count": null,
   "id": "2383b1f3-24d5-44bd-b49e-e8377b0aa716",
   "metadata": {},
   "outputs": [],
   "source": [
    "summary_df[\"model\"].value_counts()"
   ]
  },
  {
   "cell_type": "code",
   "execution_count": null,
   "id": "0699529d-35fd-404f-b7c5-221cdc26aaf5",
   "metadata": {},
   "outputs": [],
   "source": [
    "run_time_mean_df = summary_df.groupby([\"dataset\", \"model\"])[[\"run_time\"]].mean().reset_index()\n",
    "\n",
    "def create_dataset_share_col(row):\n",
    "    if row[\"dataset\"] == \"slideseqv2_mouse_hippocampus\":\n",
    "        return 100\n",
    "    elif row[\"dataset\"] == \"slideseqv2_mouse_hippocampus_subsample_50pct\":    \n",
    "        return 50\n",
    "    elif row[\"dataset\"] == \"slideseqv2_mouse_hippocampus_subsample_25pct\":    \n",
    "        return 25\n",
    "    elif row[\"dataset\"] == \"slideseqv2_mouse_hippocampus_subsample_10pct\":    \n",
    "        return 10\n",
    "    elif row[\"dataset\"] == \"slideseqv2_mouse_hippocampus_subsample_5pct\":    \n",
    "        return 5\n",
    "    elif row[\"dataset\"] == \"slideseqv2_mouse_hippocampus_subsample_1pct\":    \n",
    "        return 1\n",
    "    \n",
    "run_time_mean_df[\"dataset_share\"] = run_time_mean_df.apply(lambda row: create_dataset_share_col(row), axis=1)\n",
    "    \n",
    "sns.lineplot(data=run_time_mean_df, x=\"dataset_share\", y=\"run_time\", hue=\"model\", marker='o')\n",
    "plt.title(\"nanoString CosMx Human NSCLC Model Run Times\")\n",
    "plt.ylabel(\"Run Time (Seconds)\")\n",
    "plt.xlabel(\"Subsample Percentage\")\n",
    "plt.legend()\n",
    "plt.show()"
   ]
  },
  {
   "cell_type": "markdown",
   "id": "8884ac28-0cdf-4b37-9281-4a86dd194ef5",
   "metadata": {},
   "source": [
    "### 2.1 Latent Space Comparison"
   ]
  },
  {
   "cell_type": "markdown",
   "id": "eb854907-e0d3-4084-98aa-48eb2d5cdabe",
   "metadata": {},
   "source": [
    "#### 2.1.2 Visualize Results"
   ]
  },
  {
   "cell_type": "markdown",
   "id": "684fc7dc-c3d0-4415-91c9-1595c10f5e22",
   "metadata": {},
   "source": [
    "##### 2.1.2.1 seqFISH Mouse Organogenesis"
   ]
  },
  {
   "cell_type": "code",
   "execution_count": null,
   "id": "cbc7fcf2-86e5-4440-80a9-756456e55535",
   "metadata": {},
   "outputs": [],
   "source": [
    "compute_latent_space_comparison(\n",
    "    dataset=\"seqfish_mouse_organogenesis_embryo2\",\n",
    "    cell_type_colors=color_utils.seqfish_mouse_organogenesis_cell_type_colors,\n",
    "    cell_type_groups=None,\n",
    "    n_neighbors=12,\n",
    "    run_number=5,\n",
    "    spot_size=0.03)"
   ]
  },
  {
   "cell_type": "code",
   "execution_count": null,
   "id": "d01d3ebc-a3fa-420d-afde-d49689389a15",
   "metadata": {},
   "outputs": [],
   "source": [
    "compute_latent_space_comparison(dataset=\"seqfish_mouse_organogenesis_embryo2\",\n",
    "                                cell_type_colors=seqfish_mouse_organogenesis_embryo2_cell_type_colors,\n",
    "                                cell_type_groups=\"Mixed mesenchymal mesoderm\", # \"Gut tube\",\n",
    "                                n_neighbors=12,\n",
    "                                run_number=5,\n",
    "                                spot_size=0.03)"
   ]
  },
  {
   "cell_type": "markdown",
   "id": "a41be394-92e7-4847-8e9d-2b7431a8be5d",
   "metadata": {},
   "source": [
    "##### 2.1.2.2 MERFISH Mouse Liver"
   ]
  },
  {
   "cell_type": "code",
   "execution_count": null,
   "id": "e9712b9e-2715-4eba-8469-e2c2778159c9",
   "metadata": {},
   "outputs": [],
   "source": [
    "# DeepLinc did not work on this dataset\n",
    "compute_latent_space_comparison(dataset=\"vizgen_merfish_mouse_liver\",\n",
    "                                cell_type_colors=vizgen_merfish_mouse_liver_cell_type_colors,\n",
    "                                n_neighbors=12,\n",
    "                                run_number=5,\n",
    "                                included_models=[\"NicheCompass\",\n",
    "                                                 \"expiMap\",\n",
    "                                                 \"scVI\"],\n",
    "                                spot_size=20.0)"
   ]
  },
  {
   "cell_type": "code",
   "execution_count": null,
   "id": "97660a2a-1c62-428d-80b4-ec75f70a10ef",
   "metadata": {},
   "outputs": [],
   "source": [
    "# DeepLinc did not work on this dataset\n",
    "compute_latent_space_comparison(dataset=\"vizgen_merfish_mouse_liver_sample\",\n",
    "                                cell_type_colors=vizgen_merfish_mouse_liver_cell_type_colors,\n",
    "                                n_neighbors=12,\n",
    "                                run_number=5,\n",
    "                                included_models=[\"NicheCompass\",\n",
    "                                                 \"GraphST\",\n",
    "                                                 \"SageNet\",\n",
    "                                                 \"expiMap\",\n",
    "                                                 \"scVI\"],\n",
    "                                spot_size=20.0)"
   ]
  },
  {
   "cell_type": "markdown",
   "id": "7ff24528-8d9e-4496-8271-131eae6fe78f",
   "metadata": {},
   "source": [
    "##### 2.1.2.3 STARmap PLUS Mouse CNS"
   ]
  },
  {
   "cell_type": "code",
   "execution_count": null,
   "id": "e73e2fdd-00f4-498c-8d53-a8e2ca1baac4",
   "metadata": {},
   "outputs": [],
   "source": [
    "compute_latent_space_comparison(dataset=\"starmap_plus_mouse_cns\",\n",
    "                                cell_type_colors=starmap_pluse_mouse_cns_cell_type_colors,\n",
    "                                n_neighbors=12,\n",
    "                                run_number=5,\n",
    "                                included_models=[\"NicheCompass\",\n",
    "                                                 \"expiMap\",\n",
    "                                                 \"scVI\"],\n",
    "                                spot_size=0.2)"
   ]
  },
  {
   "cell_type": "code",
   "execution_count": null,
   "id": "b344d3de-7c38-44a0-b26e-19e35ed442bc",
   "metadata": {},
   "outputs": [],
   "source": [
    "compute_latent_space_comparison(dataset=\"starmap_plus_mouse_cns_sample\",\n",
    "                                cell_type_colors=starmap_pluse_mouse_cns_cell_type_colors,\n",
    "                                n_neighbors=12,\n",
    "                                run_number=5,\n",
    "                                spot_size=0.2)"
   ]
  },
  {
   "cell_type": "markdown",
   "id": "9def1fe7-a072-46e0-b7b3-36fd22a54a6a",
   "metadata": {},
   "source": [
    "##### 2.1.2.4 NanoString CosMx Human NSCLC"
   ]
  },
  {
   "cell_type": "code",
   "execution_count": null,
   "id": "1bc27321-91c8-44b5-aa44-c04055a2e1d3",
   "metadata": {},
   "outputs": [],
   "source": [
    "compute_latent_space_comparison(dataset=\"nanostring_cosmx_human_nsclc\",\n",
    "                                cell_type_colors=nanostring_cosmx_human_nsclc_cell_type_colors,\n",
    "                                n_neighbors=12,\n",
    "                                run_number=5,\n",
    "                                included_models=[\"NicheCompass\",\n",
    "                                                 \"expiMap\",\n",
    "                                                 \"scVI\"],\n",
    "                                spot_size=100.0)"
   ]
  },
  {
   "cell_type": "code",
   "execution_count": null,
   "id": "fbb84dc7-267b-4725-9160-acd4b574c4ad",
   "metadata": {},
   "outputs": [],
   "source": [
    "compute_latent_space_comparison(dataset=\"nanostring_cosmx_human_nsclc_sample\",\n",
    "                                cell_type_colors=nanostring_cosmx_human_nsclc_cell_type_colors,\n",
    "                                n_neighbors=12,\n",
    "                                run_number=5,\n",
    "                                spot_size=100.0)"
   ]
  }
 ],
 "metadata": {
  "kernelspec": {
   "display_name": "Python 3 (ipykernel)",
   "language": "python",
   "name": "python3"
  },
  "language_info": {
   "codemirror_mode": {
    "name": "ipython",
    "version": 3
   },
   "file_extension": ".py",
   "mimetype": "text/x-python",
   "name": "python",
   "nbconvert_exporter": "python",
   "pygments_lexer": "ipython3",
   "version": "3.9.17"
  },
  "toc-showcode": false
 },
 "nbformat": 4,
 "nbformat_minor": 5
}
