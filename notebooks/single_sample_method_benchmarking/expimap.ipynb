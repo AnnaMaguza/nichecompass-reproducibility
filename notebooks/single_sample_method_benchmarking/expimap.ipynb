{
 "cells": [
  {
   "cell_type": "markdown",
   "id": "364a9ebc-3e3c-4645-9049-a34bd084c8a8",
   "metadata": {},
   "source": [
    "# expiMap"
   ]
  },
  {
   "cell_type": "markdown",
   "id": "b0c55227-147e-417f-b0dd-bb0b7f322930",
   "metadata": {},
   "source": [
    "- **Creator**: Sebastian Birk (<sebastian.birk@helmholtz-munich.de>).\n",
    "- **Affiliation:** Helmholtz Munich, Institute of Computational Biology (ICB), Talavera-López Lab\n",
    "- **Date of Creation:** 05.01.2023\n",
    "- **Date of Last Modification:** 17.08.2023"
   ]
  },
  {
   "cell_type": "markdown",
   "id": "fa669117-f347-4666-b112-8ea6669fd9e9",
   "metadata": {},
   "source": [
    "- The expiMap source code is available at https://github.com/theislab/scarches.\n",
    "- The corresponding preprint is \"Lotfollahi, M. et al. Biologically informed deep learning to infer gene program activity in single cells. bioRxiv 2022.02.05.479217 (2022) doi:10.1101/2022.02.05.479217\".\n",
    "- The workflow of this notebook follows the tutorial from https://scarches.readthedocs.io/en/latest/expimap_surgery_pipeline_basic.html.\n",
    "- We use a modified version of the NicheCompass gene program mask with only target genes as the gene program mask for expimap. The reasons are that it is relevant for cell communication, to improve comparability and since the expiMap method did not work well on this dataset with the reactome gene program used in the above cited tutorial.\n",
    "- The authors use raw counts as input to expiMap. Therefore, we also use raw counts (stored in adata.X)."
   ]
  },
  {
   "cell_type": "markdown",
   "id": "7529cde5-be12-403b-a94c-07561774b86c",
   "metadata": {},
   "source": [
    "## 1. Setup"
   ]
  },
  {
   "cell_type": "markdown",
   "id": "faad87bd-fef5-4429-a175-d714c491ae76",
   "metadata": {},
   "source": [
    "### 1.1 Import Libraries"
   ]
  },
  {
   "cell_type": "code",
   "execution_count": 1,
   "id": "d7f93960-c759-424f-8cb2-1d8698acae2c",
   "metadata": {},
   "outputs": [
    {
     "name": "stderr",
     "output_type": "stream",
     "text": [
      "[rank: 0] Global seed set to 0\n",
      "/home/aih/sebastian.birk/.local/lib/python3.9/site-packages/flax/struct.py:136: FutureWarning: jax.tree_util.register_keypaths is deprecated, and will be removed in a future release. Please use `register_pytree_with_keys()` instead.\n",
      "  jax.tree_util.register_keypaths(data_clz, keypaths)\n",
      "/home/aih/sebastian.birk/.local/lib/python3.9/site-packages/flax/struct.py:136: FutureWarning: jax.tree_util.register_keypaths is deprecated, and will be removed in a future release. Please use `register_pytree_with_keys()` instead.\n",
      "  jax.tree_util.register_keypaths(data_clz, keypaths)\n",
      "WARNING:root:mvTCR is not installed. To use mvTCR models, please install it first using \"pip install mvtcr\"\n",
      "WARNING:root:multigrate is not installed. To use multigrate models, please install it first using \"pip install multigrate\".\n"
     ]
    }
   ],
   "source": [
    "import os\n",
    "import time\n",
    "from datetime import datetime\n",
    "\n",
    "import gdown\n",
    "import matplotlib.pyplot as plt\n",
    "import numpy as np\n",
    "import scanpy as sc\n",
    "import scarches as sca\n",
    "import scipy.sparse as sp\n",
    "import squidpy as sq\n",
    "from nichecompass.utils import (add_gps_from_gp_dict_to_adata,\n",
    "                                extract_gp_dict_from_mebocost_es_interactions,\n",
    "                                extract_gp_dict_from_nichenet_lrt_interactions,\n",
    "                                extract_gp_dict_from_omnipath_lr_interactions,\n",
    "                                filter_and_combine_gp_dict_gps)"
   ]
  },
  {
   "cell_type": "markdown",
   "id": "39b5efa5-2052-4986-8ae5-89cfab018515",
   "metadata": {},
   "source": [
    "### 1.2 Define Parameters"
   ]
  },
  {
   "cell_type": "code",
   "execution_count": 2,
   "id": "e5c8b48a-ed5e-48b5-8c5c-c1de11493aee",
   "metadata": {},
   "outputs": [],
   "source": [
    "model_name = \"expimap\"\n",
    "latent_key = f\"{model_name}_latent\"\n",
    "leiden_resolution = 0.5 # used for Leiden clustering of latent space\n",
    "random_seed = 0 # used for Leiden clustering"
   ]
  },
  {
   "cell_type": "markdown",
   "id": "28adc110-0f41-4a71-9838-dc7f0687809a",
   "metadata": {},
   "source": [
    "### 1.3 Run Notebook Setup"
   ]
  },
  {
   "cell_type": "code",
   "execution_count": 3,
   "id": "334b87ca-3387-4ba9-8567-84bc4754ff0c",
   "metadata": {},
   "outputs": [],
   "source": [
    "sc.set_figure_params(figsize=(6, 6))"
   ]
  },
  {
   "cell_type": "code",
   "execution_count": 4,
   "id": "0ab6b302-1c0b-4937-8624-40629ada2e46",
   "metadata": {},
   "outputs": [],
   "source": [
    "# Get time of notebook execution for timestamping saved artifacts\n",
    "now = datetime.now()\n",
    "current_timestamp = now.strftime(\"%d%m%Y_%H%M%S\")"
   ]
  },
  {
   "cell_type": "markdown",
   "id": "85538952-006b-4b0b-a50c-fe7445ce22e2",
   "metadata": {},
   "source": [
    "### 1.4 Configure Paths and Directories"
   ]
  },
  {
   "cell_type": "code",
   "execution_count": 5,
   "id": "7ddcc49c-ba22-4155-acd5-05b5b810e091",
   "metadata": {},
   "outputs": [],
   "source": [
    "data_folder_path = \"../../datasets/srt_data/gold/\"\n",
    "benchmarking_folder_path = \"../../artifacts/single_sample_method_benchmarking\"\n",
    "figure_folder_path = f\"../../figures\"\n",
    "gp_data_folder_path = \"../../datasets/gp_data\" # gene program data\n",
    "ga_data_folder_path = \"../../datasets/ga_data\" # gene annotation data\n",
    "\n",
    "# Create required directories\n",
    "os.makedirs(gp_data_folder_path, exist_ok=True)"
   ]
  },
  {
   "cell_type": "markdown",
   "id": "d974cd00-eafa-4432-b172-fafc4058a619",
   "metadata": {},
   "source": [
    "## 2. expiMap Model"
   ]
  },
  {
   "cell_type": "markdown",
   "id": "8791f7bf-e9f3-4384-9cef-2d6719d2d1fd",
   "metadata": {},
   "source": [
    "### 2.1 Prepare Gene Program Mask"
   ]
  },
  {
   "cell_type": "markdown",
   "id": "2d721fdf-088a-4726-a10c-df7105c967bc",
   "metadata": {},
   "source": [
    "#### 2.1.1 Mouse"
   ]
  },
  {
   "cell_type": "code",
   "execution_count": 6,
   "id": "7dd3a336-6522-43f7-94c0-9eca6ddd489b",
   "metadata": {},
   "outputs": [
    {
     "name": "stdout",
     "output_type": "stream",
     "text": [
      "\n",
      "Preparing the gene program mask...\n",
      "Number of gene programs before filtering and combining: 1818.\n",
      "Number of gene programs after filtering and combining: 1818.\n"
     ]
    }
   ],
   "source": [
    "species = \"mouse\"\n",
    "\n",
    "nichenet_lr_network_file_path = gp_data_folder_path + \\\n",
    "                                \"/nichenet_lr_network_v2_\" \\\n",
    "                                f\"{species}.csv\"\n",
    "nichenet_ligand_target_matrix_file_path = gp_data_folder_path + \\\n",
    "                                          \"/nichenet_ligand_target_matrix_\" \\\n",
    "                                          f\"v2_{species}.csv\"\n",
    "omnipath_lr_network_file_path = gp_data_folder_path + \\\n",
    "                                     \"/omnipath_lr_network.csv\"\n",
    "gene_orthologs_mapping_file_path = ga_data_folder_path + \\\n",
    "                                   \"/human_mouse_gene_orthologs.csv\"\n",
    "\n",
    "print(\"\\nPreparing the gene program mask...\")\n",
    "# OmniPath gene programs\n",
    "mouse_omnipath_gp_dict = extract_gp_dict_from_omnipath_lr_interactions(\n",
    "    species=species,\n",
    "    min_curation_effort=0,\n",
    "    load_from_disk=True,\n",
    "    save_to_disk=False,\n",
    "    lr_network_file_path=omnipath_lr_network_file_path,\n",
    "    gene_orthologs_mapping_file_path=gene_orthologs_mapping_file_path,\n",
    "    plot_gp_gene_count_distributions=False)\n",
    "\n",
    "# NicheNet gene programs\n",
    "mouse_nichenet_gp_dict = extract_gp_dict_from_nichenet_lrt_interactions(\n",
    "    species=species,\n",
    "    version=\"v2\",\n",
    "    keep_target_genes_ratio=1.0,\n",
    "    max_n_target_genes_per_gp=250,\n",
    "    load_from_disk=True,\n",
    "    save_to_disk=False,\n",
    "    lr_network_file_path=nichenet_lr_network_file_path,\n",
    "    ligand_target_matrix_file_path=nichenet_ligand_target_matrix_file_path,\n",
    "    gene_orthologs_mapping_file_path=gene_orthologs_mapping_file_path,\n",
    "    plot_gp_gene_count_distributions=False)\n",
    "\n",
    "# Combine gene programs into one dictionary\n",
    "mouse_combined_gp_dict = dict(mouse_omnipath_gp_dict)\n",
    "mouse_combined_gp_dict.update(mouse_nichenet_gp_dict)\n",
    "\n",
    "mouse_mebocost_gp_dict = extract_gp_dict_from_mebocost_es_interactions(\n",
    "    dir_path=f\"{gp_data_folder_path}/metabolite_enzyme_sensor_gps\",\n",
    "    species=species,\n",
    "    plot_gp_gene_count_distributions=False)\n",
    "\n",
    "mouse_combined_gp_dict.update(mouse_mebocost_gp_dict)\n",
    "    \n",
    "# Filter and combine gene programs\n",
    "mouse_combined_new_gp_dict = filter_and_combine_gp_dict_gps(\n",
    "    gp_dict=mouse_combined_gp_dict,\n",
    "    gp_filter_mode=\"subset\",\n",
    "    combine_overlap_gps=True,\n",
    "    overlap_thresh_source_genes=0.9,\n",
    "    overlap_thresh_target_genes=0.9,\n",
    "    overlap_thresh_genes=0.9,\n",
    "    verbose=False)\n",
    "\n",
    "print(\"Number of gene programs before filtering and combining: \"\n",
    "      f\"{len(mouse_combined_new_gp_dict)}.\")\n",
    "print(f\"Number of gene programs after filtering and combining: \"\n",
    "      f\"{len(mouse_combined_new_gp_dict)}.\")"
   ]
  },
  {
   "cell_type": "markdown",
   "id": "69401d81-1893-4a20-a70b-6623778bb797",
   "metadata": {},
   "source": [
    "#### 2.1.2 Human"
   ]
  },
  {
   "cell_type": "code",
   "execution_count": 7,
   "id": "a9460b8e-9247-44f9-9d85-54cb40c0f851",
   "metadata": {},
   "outputs": [
    {
     "name": "stdout",
     "output_type": "stream",
     "text": [
      "\n",
      "Preparing the gene program mask...\n",
      "Number of gene programs before filtering and combining: 1691.\n",
      "Number of gene programs after filtering and combining: 1691.\n"
     ]
    }
   ],
   "source": [
    "species = \"human\"\n",
    "\n",
    "nichenet_lr_network_file_path = gp_data_folder_path + \\\n",
    "                                \"/nichenet_lr_network_v2_\" \\\n",
    "                                f\"{species}.csv\"\n",
    "nichenet_ligand_target_matrix_file_path = gp_data_folder_path + \\\n",
    "                                          \"/nichenet_ligand_target_matrix_\" \\\n",
    "                                          f\"v2_{species}.csv\"\n",
    "omnipath_lr_network_file_path = gp_data_folder_path + \\\n",
    "                                     \"/omnipath_lr_network.csv\"\n",
    "gene_orthologs_mapping_file_path = ga_data_folder_path + \\\n",
    "                                   \"/human_mouse_gene_orthologs.csv\"\n",
    "\n",
    "print(\"\\nPreparing the gene program mask...\")\n",
    "# OmniPath gene programs\n",
    "human_omnipath_gp_dict = extract_gp_dict_from_omnipath_lr_interactions(\n",
    "    species=species,\n",
    "    min_curation_effort=0,\n",
    "    load_from_disk=True,\n",
    "    save_to_disk=False,\n",
    "    lr_network_file_path=omnipath_lr_network_file_path,\n",
    "    gene_orthologs_mapping_file_path=gene_orthologs_mapping_file_path,\n",
    "    plot_gp_gene_count_distributions=False)\n",
    "\n",
    "# NicheNet gene programs\n",
    "human_nichenet_gp_dict = extract_gp_dict_from_nichenet_lrt_interactions(\n",
    "    species=species,\n",
    "    version=\"v2\",\n",
    "    keep_target_genes_ratio=1.0,\n",
    "    max_n_target_genes_per_gp=250,\n",
    "    load_from_disk=True,\n",
    "    save_to_disk=False,\n",
    "    lr_network_file_path=nichenet_lr_network_file_path,\n",
    "    ligand_target_matrix_file_path=nichenet_ligand_target_matrix_file_path,\n",
    "    gene_orthologs_mapping_file_path=gene_orthologs_mapping_file_path,\n",
    "    plot_gp_gene_count_distributions=False)\n",
    "\n",
    "# Combine gene programs into one dictionary\n",
    "human_combined_gp_dict = dict(human_omnipath_gp_dict)\n",
    "human_combined_gp_dict.update(human_nichenet_gp_dict)\n",
    "\n",
    "human_mebocost_gp_dict = extract_gp_dict_from_mebocost_es_interactions(\n",
    "    dir_path=f\"{gp_data_folder_path}/metabolite_enzyme_sensor_gps\",\n",
    "    species=species,\n",
    "    plot_gp_gene_count_distributions=False)\n",
    "\n",
    "human_combined_gp_dict.update(human_mebocost_gp_dict)\n",
    "    \n",
    "# Filter and combine gene programs\n",
    "human_combined_new_gp_dict = filter_and_combine_gp_dict_gps(\n",
    "    gp_dict=human_combined_gp_dict,\n",
    "    gp_filter_mode=\"subset\",\n",
    "    combine_overlap_gps=True,\n",
    "    overlap_thresh_source_genes=0.9,\n",
    "    overlap_thresh_target_genes=0.9,\n",
    "    overlap_thresh_genes=0.9,\n",
    "    verbose=False)\n",
    "\n",
    "print(\"Number of gene programs before filtering and combining: \"\n",
    "      f\"{len(human_combined_new_gp_dict)}.\")\n",
    "print(f\"Number of gene programs after filtering and combining: \"\n",
    "      f\"{len(human_combined_new_gp_dict)}.\")"
   ]
  },
  {
   "cell_type": "markdown",
   "id": "df82c18e-4444-4e82-88d9-afc843f5e480",
   "metadata": {},
   "source": [
    "### 2.2 Define Training Function"
   ]
  },
  {
   "cell_type": "code",
   "execution_count": 8,
   "id": "8ea39b0f-9c9a-459a-ba2e-c843802a8e37",
   "metadata": {},
   "outputs": [],
   "source": [
    "def train_expimap_models(dataset,\n",
    "                         gp_dict,\n",
    "                         cell_type_key,\n",
    "                         adata_new=None,\n",
    "                         n_start_run=1,\n",
    "                         n_end_run=8,\n",
    "                         n_neighbor_list=[4, 4, 8, 8, 12, 12, 16, 16],\n",
    "                         plot_latent_umaps: bool=False):\n",
    "    \n",
    "    # Configure figure folder path\n",
    "    dataset_figure_folder_path = f\"{figure_folder_path}/{dataset}/method_benchmarking/expimap/{current_timestamp}\"\n",
    "    os.makedirs(dataset_figure_folder_path, exist_ok=True)\n",
    "    \n",
    "    # Create new adata to store results from training runs in storage-efficient way\n",
    "    if adata_new is None:\n",
    "        adata_original = sc.read_h5ad(data_folder_path + f\"{dataset}.h5ad\")\n",
    "        adata_new = sc.AnnData(sp.csr_matrix(\n",
    "            (adata_original.shape[0], adata_original.shape[1]),\n",
    "            dtype=np.float32))\n",
    "        adata_new.var_names = adata_original.var_names\n",
    "        adata_new.obs_names = adata_original.obs_names\n",
    "        adata_new.obs[\"cell_type\"] = adata_original.obs[cell_type_key].values\n",
    "        adata_new.obsm[\"spatial\"] = adata_original.obsm[\"spatial\"]\n",
    "        del(adata_original)\n",
    "    \n",
    "    model_seeds = list(range(10))\n",
    "    for run_number, n_neighbors in zip(np.arange(n_start_run, n_end_run+1), n_neighbor_list):\n",
    "        # n_neighbors is here only used for the latent neighbor graph construction used for\n",
    "        # UMAP generation and clustering as expiMap is not a spatial method\n",
    "        \n",
    "        # Load data\n",
    "        adata = sc.read_h5ad(data_folder_path + f\"{dataset}.h5ad\")\n",
    "        \n",
    "        # Store raw counts in optimized format in adata.X\n",
    "        adata.layers[\"counts\"] = adata.layers[\"counts\"].tocsr()\n",
    "        adata.X = adata.layers[\"counts\"]\n",
    "        \n",
    "        adata.obs[\"batch\"] == \"batch1\"  \n",
    "        \n",
    "        # Add the gene program dictionary as binary masks to the adata for model training\n",
    "        # Use only target genes from the NicheCompass gene program mask\n",
    "        add_gps_from_gp_dict_to_adata(\n",
    "            gp_dict=gp_dict,\n",
    "            adata=adata,\n",
    "            genes_uppercase=True,\n",
    "            gp_targets_mask_key=\"I\",\n",
    "            gp_sources_mask_key=\"_\",\n",
    "            gp_names_key=\"terms\",\n",
    "            min_genes_per_gp=1,\n",
    "            min_source_genes_per_gp=0,\n",
    "            min_target_genes_per_gp=0,\n",
    "            max_genes_per_gp=None,\n",
    "            max_source_genes_per_gp=None,\n",
    "            max_target_genes_per_gp=None)\n",
    "\n",
    "        # Determine dimensionality of hidden encoder\n",
    "        n_hidden_encoder = len(adata.uns[\"terms\"])\n",
    "        \n",
    "        start_time = time.time()\n",
    "        \n",
    "        # Initialize model\n",
    "        intr_cvae = sca.models.EXPIMAP(adata=adata,\n",
    "                                       condition_key=\"batch\",\n",
    "                                       hidden_layer_sizes=[256, 256, 256],\n",
    "                                       recon_loss=\"nb\")\n",
    "\n",
    "        # Train model\n",
    "        early_stopping_kwargs = {\n",
    "            \"early_stopping_metric\": \"val_unweighted_loss\",\n",
    "            \"threshold\": 0,\n",
    "            \"patience\": 50,\n",
    "            \"reduce_lr\": True,\n",
    "            \"lr_patience\": 13,\n",
    "            \"lr_factor\": 0.1}\n",
    "        intr_cvae.train(\n",
    "            n_epochs=400,\n",
    "            alpha_epoch_anneal=100,\n",
    "            alpha=0.7,\n",
    "            alpha_kl=0.5,\n",
    "            weight_decay=0.,\n",
    "            early_stopping_kwargs=early_stopping_kwargs,\n",
    "            use_early_stopping=True,\n",
    "            monitor_only_val=False,\n",
    "            seed=model_seeds[run_number-1])\n",
    "\n",
    "        # Store latent representation\n",
    "        adata.obsm[latent_key] = intr_cvae.get_latent(mean=False, only_active=True)\n",
    "        \n",
    "        # Measure time for model training\n",
    "        end_time = time.time()\n",
    "        elapsed_time = end_time - start_time\n",
    "        hours, rem = divmod(elapsed_time, 3600)\n",
    "        minutes, seconds = divmod(rem, 60)\n",
    "        print(f\"Duration of model training in run {run_number}: {int(hours)} hours, {int(minutes)} minutes and {int(seconds)} seconds.\")\n",
    "        adata_new.uns[f\"{model_name}_model_training_duration_run{run_number}\"] = (\n",
    "            elapsed_time)\n",
    "\n",
    "        if plot_latent_umaps:\n",
    "            # Use expiMap latent space for UMAP generation\n",
    "            sc.pp.neighbors(adata,\n",
    "                            use_rep=latent_key,\n",
    "                            n_neighbors=n_neighbors)\n",
    "            sc.tl.umap(adata)\n",
    "            fig = sc.pl.umap(adata,\n",
    "                             color=[cell_type_key],\n",
    "                             title=\"Latent Space with Cell Types: expiMap\",\n",
    "                             return_fig=True)\n",
    "            fig.savefig(f\"{dataset_figure_folder_path}/latent_{model_name}\"\n",
    "                        f\"_cell_types_run{run_number}.png\",\n",
    "                        bbox_inches=\"tight\")\n",
    "\n",
    "            # Compute latent Leiden clustering\n",
    "            sc.tl.leiden(adata=adata,\n",
    "                         resolution=leiden_resolution,\n",
    "                         random_state=random_seed,\n",
    "                         key_added=f\"latent_{model_name}_leiden_{str(leiden_resolution)}\")\n",
    "\n",
    "            # Create subplot of latent Leiden cluster annotations in physical and latent space\n",
    "            fig, axs = plt.subplots(nrows=2, ncols=1, figsize=(6, 12))\n",
    "            title = fig.suptitle(t=\"Latent and Physical Space with Leiden Clusters: expiMap\")\n",
    "            sc.pl.umap(adata=adata,\n",
    "                       color=[f\"latent_{model_name}_leiden_{str(leiden_resolution)}\"],\n",
    "                       title=f\"Latent Space with Leiden Clusters\",\n",
    "                       ax=axs[0],\n",
    "                       show=False)\n",
    "            sq.pl.spatial_scatter(adata=adata,\n",
    "                                  color=[f\"latent_{model_name}_leiden_{str(leiden_resolution)}\"],\n",
    "                                  title=f\"Physical Space with Leiden Clusters\",\n",
    "                                  shape=None,\n",
    "                                  ax=axs[1])\n",
    "\n",
    "            # Create and position shared legend\n",
    "            handles, labels = axs[0].get_legend_handles_labels()\n",
    "            lgd = fig.legend(handles, labels, bbox_to_anchor=(1.25, 0.9185))\n",
    "            axs[0].get_legend().remove()\n",
    "            axs[1].get_legend().remove()\n",
    "\n",
    "            # Adjust, save and display plot\n",
    "            plt.subplots_adjust(wspace=0, hspace=0.2)\n",
    "            fig.savefig(f\"{dataset_figure_folder_path}/latent_physical_comparison_\"\n",
    "                        f\"{model_name}_run{run_number}.png\",\n",
    "                        bbox_extra_artists=(lgd, title),\n",
    "                        bbox_inches=\"tight\")\n",
    "            plt.show()\n",
    "\n",
    "        # Store latent representation\n",
    "        adata_new.obsm[latent_key + f\"_run{run_number}\"] = adata.obsm[latent_key]\n",
    "\n",
    "        # Store intermediate adata to disk\n",
    "        adata_new.write(f\"{benchmarking_folder_path}/{dataset}_{model_name}.h5ad\")\n",
    "\n",
    "    # Store final adata to disk\n",
    "    adata_new.write(f\"{benchmarking_folder_path}/{dataset}_{model_name}.h5ad\")    "
   ]
  },
  {
   "cell_type": "markdown",
   "id": "73f25415-e54e-4d2e-a6e3-bd6f3eef0d72",
   "metadata": {},
   "source": [
    "### 2.3 Train Models on Benchmarking Datasets"
   ]
  },
  {
   "cell_type": "code",
   "execution_count": null,
   "id": "0c7cd035-1727-4316-98f2-d8652f717699",
   "metadata": {},
   "outputs": [],
   "source": [
    "train_expimap_models(dataset=\"seqfish_mouse_organogenesis_embryo2\",\n",
    "                     gp_dict=mouse_combined_new_gp_dict,\n",
    "                     cell_type_key=\"celltype_mapped_refined\",\n",
    "                     adata_new=None,\n",
    "                     n_start_run=1,\n",
    "                     n_end_run=8,\n",
    "                     n_neighbor_list=[4, 4, 8, 8, 12, 12, 16, 16])"
   ]
  },
  {
   "cell_type": "code",
   "execution_count": null,
   "id": "1659054d-fa4b-4e42-807f-1ec2e0fba87b",
   "metadata": {},
   "outputs": [],
   "source": [
    "for subsample_pct in [50, 25, 10, 5, 1]:\n",
    "    train_expimap_models(dataset=f\"seqfish_mouse_organogenesis_subsample_{subsample_pct}pct_embryo2\",\n",
    "                         gp_dict=mouse_combined_new_gp_dict,\n",
    "                         cell_type_key=\"celltype_mapped_refined\",\n",
    "                         adata_new=None,\n",
    "                         n_start_run=1,\n",
    "                         n_end_run=8,\n",
    "                         n_neighbor_list=[4, 4, 8, 8, 12, 12, 16, 16])"
   ]
  },
  {
   "cell_type": "code",
   "execution_count": 9,
   "id": "8a61a165-ad03-4422-b383-1b2d79218bf6",
   "metadata": {},
   "outputs": [],
   "source": [
    "adata_new = sc.read_h5ad(\"../../datasets/srt_data/gold/nanostring_cosmx_human_nsclc_batch5_expimap.h5ad\")"
   ]
  },
  {
   "cell_type": "code",
   "execution_count": 10,
   "id": "0db492dc-56da-4ae1-806d-dea051e5eb8e",
   "metadata": {},
   "outputs": [
    {
     "data": {
      "text/plain": [
       "AnnData object with n_obs × n_vars = 77391 × 960\n",
       "    obs: 'cell_type'\n",
       "    uns: 'expimap_model_training_duration_run1', 'expimap_model_training_duration_run2', 'expimap_model_training_duration_run3'\n",
       "    obsm: 'expimap_latent_run1', 'expimap_latent_run2', 'expimap_latent_run3', 'spatial'"
      ]
     },
     "execution_count": 10,
     "metadata": {},
     "output_type": "execute_result"
    }
   ],
   "source": [
    "adata_new"
   ]
  },
  {
   "cell_type": "code",
   "execution_count": null,
   "id": "f0716d8a-fdc9-4308-950d-decc145cef40",
   "metadata": {},
   "outputs": [
    {
     "name": "stdout",
     "output_type": "stream",
     "text": [
      "\n",
      "INITIALIZING NEW NETWORK..............\n",
      "Encoder Architecture:\n",
      "\tInput Layer in, out and cond: 960 256 1\n",
      "\tHidden Layer 1 in/out: 256 256\n",
      "\tHidden Layer 2 in/out: 256 256\n",
      "\tMean/Var Layer in/out: 256 1494\n",
      "Decoder Architecture:\n",
      "\tMasked linear layer in, ext_m, ext, cond, out:  1494 0 0 1 960\n",
      "\twith hard mask.\n",
      "Last Decoder layer: softmax\n",
      "Preparing (77391, 960)\n",
      "Instantiating dataset\n",
      "Init the group lasso proximal operator for the main terms.\n",
      " |██████--------------| 30.0%  - epoch_loss: 444.8878881612 - epoch_recon_loss: 425.8612580746 - epoch_kl_loss: 38.0532596973 - val_loss: 520.2205305256 - val_recon_loss: 500.0123451108 - val_kl_loss: 40.4163600734269\n",
      "ADJUSTED LR\n",
      " |███████-------------| 35.0%  - epoch_loss: 443.8959753754 - epoch_recon_loss: 424.8003894491 - epoch_kl_loss: 38.1911715796 - val_loss: 520.2896383317 - val_recon_loss: 500.0355349681 - val_kl_loss: 40.5081978470\n",
      "ADJUSTED LR\n",
      " |███████-------------| 38.2%  - epoch_loss: 444.4876332134 - epoch_recon_loss: 425.3608319484 - epoch_kl_loss: 38.2536037340 - val_loss: 519.9847071913 - val_recon_loss: 499.6275024414 - val_kl_loss: 40.7144152532\n",
      "ADJUSTED LR\n",
      " |█████████-----------| 46.0%  - epoch_loss: 444.2083727915 - epoch_recon_loss: 425.0754825697 - epoch_kl_loss: 38.2657798767 - val_loss: 519.6983372423 - val_recon_loss: 499.3487668897 - val_kl_loss: 40.6991351393\n",
      "ADJUSTED LR\n",
      " |█████████-----------| 49.2%  - epoch_loss: 444.5298681417 - epoch_recon_loss: 425.3857903437 - epoch_kl_loss: 38.2881541611 - val_loss: 519.7770490803 - val_recon_loss: 499.4131614810 - val_kl_loss: 40.7277689449\n",
      "ADJUSTED LR\n",
      " |██████████----------| 52.5%  - epoch_loss: 444.2888996649 - epoch_recon_loss: 425.1498653867 - epoch_kl_loss: 38.2780684865 - val_loss: 519.5680847168 - val_recon_loss: 499.2075710609 - val_kl_loss: 40.7210290627\n",
      "ADJUSTED LR\n",
      " |███████████---------| 55.2%  - epoch_loss: 443.0274430861 - epoch_recon_loss: 423.9337261235 - epoch_kl_loss: 38.1874328753 - val_loss: 520.1322061507 - val_recon_loss: 499.7650696801 - val_kl_loss: 40.7342680009\n",
      "Stopping early: no improvement of more than 0 nats in 50 epochs\n",
      "If the early stopping criterion is too strong, please instantiate it with different parameters in the train method.\n",
      "Saving best state of network...\n",
      "Best State was in Epoch 169\n",
      "Duration of model training in run 4: 0 hours, 38 minutes and 17 seconds.\n",
      "\n",
      "INITIALIZING NEW NETWORK..............\n",
      "Encoder Architecture:\n",
      "\tInput Layer in, out and cond: 960 256 1\n",
      "\tHidden Layer 1 in/out: 256 256\n",
      "\tHidden Layer 2 in/out: 256 256\n",
      "\tMean/Var Layer in/out: 256 1494\n",
      "Decoder Architecture:\n",
      "\tMasked linear layer in, ext_m, ext, cond, out:  1494 0 0 1 960\n",
      "\twith hard mask.\n",
      "Last Decoder layer: softmax\n",
      "Preparing (77391, 960)\n",
      "Instantiating dataset\n",
      "Init the group lasso proximal operator for the main terms.\n",
      " |█-------------------| 5.0%  - epoch_loss: 421.9322419053 - epoch_recon_loss: 409.2893947216 - epoch_kl_loss: 133.0826070523 - val_loss: 493.7575428447 - val_recon_loss: 481.5706326844 - val_kl_loss: 128.283252278301"
     ]
    }
   ],
   "source": [
    "train_expimap_models(dataset=\"nanostring_cosmx_human_nsclc_batch5\",\n",
    "                     gp_dict=human_combined_new_gp_dict,\n",
    "                     cell_type_key=\"cell_type\",\n",
    "                     adata_new=None,\n",
    "                     n_start_run=4,\n",
    "                     n_end_run=8,\n",
    "                     n_neighbor_list=[8, 12, 12, 16, 16])"
   ]
  },
  {
   "cell_type": "code",
   "execution_count": null,
   "id": "f5b3d1af-a005-4790-bbd9-65e7c286ab1f",
   "metadata": {},
   "outputs": [],
   "source": [
    "for subsample_pct in [50, 25, 10, 5, 1]:\n",
    "    train_expimap_models(dataset=f\"nanostring_cosmx_human_nsclc_subsample_{subsample_pct}pct_batch5\",\n",
    "                         gp_dict=human_combined_new_gp_dict,\n",
    "                         cell_type_key=\"cell_type\",\n",
    "                         adata_new=None,\n",
    "                         n_start_run=1,\n",
    "                         n_end_run=8,\n",
    "                         n_neighbor_list=[4, 4, 8, 8, 12, 12, 16, 16])"
   ]
  },
  {
   "cell_type": "code",
   "execution_count": null,
   "id": "0c63c2f3-38ca-476d-bf2e-cac68c30f9b2",
   "metadata": {},
   "outputs": [],
   "source": [
    "train_expimap_models(dataset=\"vizgen_merfish_mouse_liver\",\n",
    "                     gp_dict=mouse_combined_new_gp_dict,\n",
    "                     cell_type_key=\"Cell_Type\",\n",
    "                     adata_new=None,\n",
    "                     n_start_run=1,\n",
    "                     n_end_run=8,\n",
    "                     n_neighbor_list=[4, 4, 8, 8, 12, 12, 16, 16])"
   ]
  },
  {
   "cell_type": "code",
   "execution_count": null,
   "id": "7e2bfa53-80b3-4ba3-8da4-47b06443e731",
   "metadata": {},
   "outputs": [],
   "source": [
    "for subsample_pct in [50, 25, 10, 5, 1]:\n",
    "    train_expimap_models(dataset=f\"vizgen_merfish_mouse_liver_subsample_{subsample_pct}pct\",\n",
    "                         cell_type_key=\"Cell_Type\",\n",
    "                         gp_dict=mouse_combined_new_gp_dict,\n",
    "                         adata_new=None,\n",
    "                         n_start_run=1,\n",
    "                         n_end_run=8,\n",
    "                         n_neighbor_list=[4, 4, 8, 8, 12, 12, 16, 16])"
   ]
  },
  {
   "cell_type": "code",
   "execution_count": null,
   "id": "167e90f9-a124-4180-a142-f295f4ca7128",
   "metadata": {},
   "outputs": [],
   "source": [
    "train_expimap_models(dataset=\"slideseqv2_mouse_hippocampus\",\n",
    "                     cell_type_key=\"cell_type\",\n",
    "                     gp_dict=mouse_combined_new_gp_dict,\n",
    "                     adata_new=None,\n",
    "                     n_start_run=1,\n",
    "                     n_end_run=8,\n",
    "                     n_neighbor_list=[4, 4, 8, 8, 12, 12, 16, 16])"
   ]
  },
  {
   "cell_type": "code",
   "execution_count": null,
   "id": "27f389a8-62e6-4d1f-bcb6-2ded4e4d346c",
   "metadata": {},
   "outputs": [],
   "source": [
    "for subsample_pct in [50, 25, 10, 5, 1]:\n",
    "    train_expimap_models(dataset=f\"slideseqv2_mouse_hippocampus_subsample_{subsample_pct}pct\",\n",
    "                         cell_type_key=\"cell_type\",\n",
    "                         gp_dict=mouse_combined_new_gp_dict,\n",
    "                         adata_new=None,\n",
    "                         n_start_run=1,\n",
    "                         n_end_run=8,\n",
    "                         n_neighbor_list=[4, 4, 8, 8, 12, 12, 16, 16])"
   ]
  },
  {
   "cell_type": "code",
   "execution_count": null,
   "id": "861c4cb2-757a-44ca-acf1-b677b8308841",
   "metadata": {},
   "outputs": [],
   "source": []
  }
 ],
 "metadata": {
  "kernelspec": {
   "display_name": "Python 3 (ipykernel)",
   "language": "python",
   "name": "python3"
  },
  "language_info": {
   "codemirror_mode": {
    "name": "ipython",
    "version": 3
   },
   "file_extension": ".py",
   "mimetype": "text/x-python",
   "name": "python",
   "nbconvert_exporter": "python",
   "pygments_lexer": "ipython3",
   "version": "3.9.17"
  }
 },
 "nbformat": 4,
 "nbformat_minor": 5
}
