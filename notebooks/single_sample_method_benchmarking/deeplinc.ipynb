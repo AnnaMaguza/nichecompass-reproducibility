{
 "cells": [
  {
   "cell_type": "markdown",
   "id": "364a9ebc-3e3c-4645-9049-a34bd084c8a8",
   "metadata": {},
   "source": [
    "# DeepLinc"
   ]
  },
  {
   "cell_type": "markdown",
   "id": "b0c55227-147e-417f-b0dd-bb0b7f322930",
   "metadata": {},
   "source": [
    "- **Creator**: Sebastian Birk (<sebastian.birk@helmholtz-munich.de>).\n",
    "- **Affiliation:** Helmholtz Munich, Institute of Computational Biology (ICB), Talavera-López Lab\n",
    "- **Date of Creation:** 05.01.2023\n",
    "- **Date of Last Modification:** 18.08.2023"
   ]
  },
  {
   "cell_type": "markdown",
   "id": "8eb78e3b-6546-47bd-9d50-b337ad74ece4",
   "metadata": {},
   "source": [
    "- The DeepLinc source code is available at https://github.com/xryanglab/DeepLinc.\n",
    "- The corresponding publication is \"Li, R. & Yang, X. De novo reconstruction of cell interaction landscapes from single-cell spatial transcriptome data with DeepLinc. Genome Biol. 23, 124 (2022)\".\n",
    "- The logic to run DeepLinc is encapsulated into the Python script 'deeplinc.py' in the 'root/scripts' folder.\n",
    "- We train DeepLinc models on the benchmarking datasets with different adjacency matrices corresponding to 4, 8, 12, 16, and 20 average neighbors.\n",
    "- We compute 2 runs per number of average neighbors resulting in a total of 10 runs. Each of the 2 runs uses a different random seed (seed 0 and seed 1).\n",
    "- To train a DeepLinc model with 4 average neighbors, open a terminal, navigate to the 'root/scripts' folder, and run ```python deeplinc.py -e ../datasets/srt_data/gold/seqfish_mouse_organogenesis_embryo2_counts.csv -a ../datasets/srt_data/gold/seqfish_mouse_organogenesis_embryo2_adj4.csv -c ../datasets/srt_data/gold/seqfish_mouse_organogenesis_embryo2_coords.csv -r ../datasets/srt_data/gold/seqfish_mouse_organogenesis_embryo2_cell_types.csv -n run1 -i 40 --seed 0``` (after the data has been prepared further down in this notebook).\n",
    "- The results of the trained DeepLinc models (latent space features & reconstructed adjacency matrices) are manually stored in ```../datasets/benchmark_data/deeplinc/{dataset}```.\n",
    "- According to the instructions in the Github repo, the authors use raw counts as input to DeepLinc. Therefore, we also use raw counts.\n",
    "- To define the spatial neighborhood graph, the original DeepLinc paper uses the 3 nearest neighbors of a cell as neighbors as long as their distance to the cell would fall below a threshold radius. The threshold radius is determined by plotting the distribution of cell's distances to their 3 nearest neighbors and drawing a cutoff to remove outliers. The union of all neighbors is used as final spatial neighborhood graph (the adjacency matrix is made symmetric). We use the same method but vary the number of neighbors between 4, 8, 12, 16 and 20 and do not use the threshhold radius cutoff to make the benchmarking more simple and comparable between different methods.\n",
    "- Also note that a different environment with an older Python version is required to run DeepLinc ('root/deeplinc_env.yml')."
   ]
  },
  {
   "cell_type": "markdown",
   "id": "7529cde5-be12-403b-a94c-07561774b86c",
   "metadata": {},
   "source": [
    "## 1. Setup"
   ]
  },
  {
   "cell_type": "markdown",
   "id": "faad87bd-fef5-4429-a175-d714c491ae76",
   "metadata": {},
   "source": [
    "### 1.1 Import Libraries"
   ]
  },
  {
   "cell_type": "code",
   "execution_count": 1,
   "id": "d7f93960-c759-424f-8cb2-1d8698acae2c",
   "metadata": {
    "tags": []
   },
   "outputs": [],
   "source": [
    "import csv\n",
    "import os\n",
    "import re\n",
    "from datetime import datetime\n",
    "\n",
    "import anndata as ad\n",
    "import matplotlib.pyplot as plt\n",
    "import numpy as np\n",
    "import pandas as pd\n",
    "import scanpy as sc\n",
    "import scipy.sparse as sp\n",
    "import squidpy as sq"
   ]
  },
  {
   "cell_type": "markdown",
   "id": "39b5efa5-2052-4986-8ae5-89cfab018515",
   "metadata": {},
   "source": [
    "### 1.2 Define Parameters"
   ]
  },
  {
   "cell_type": "code",
   "execution_count": 2,
   "id": "e5c8b48a-ed5e-48b5-8c5c-c1de11493aee",
   "metadata": {
    "tags": []
   },
   "outputs": [],
   "source": [
    "model_name = \"deeplinc\"\n",
    "latent_key = f\"{model_name}_latent\"\n",
    "leiden_resolution = 0.5 # used for Leiden clustering of latent space\n",
    "random_seed = 0"
   ]
  },
  {
   "cell_type": "markdown",
   "id": "28adc110-0f41-4a71-9838-dc7f0687809a",
   "metadata": {},
   "source": [
    "### 1.3 Run Notebook Setup"
   ]
  },
  {
   "cell_type": "code",
   "execution_count": 3,
   "id": "334b87ca-3387-4ba9-8567-84bc4754ff0c",
   "metadata": {
    "tags": []
   },
   "outputs": [],
   "source": [
    "sc.set_figure_params(figsize=(6, 6))"
   ]
  },
  {
   "cell_type": "code",
   "execution_count": 4,
   "id": "0ab6b302-1c0b-4937-8624-40629ada2e46",
   "metadata": {
    "tags": []
   },
   "outputs": [],
   "source": [
    "# Get time of notebook execution for timestamping saved artifacts\n",
    "now = datetime.now()\n",
    "current_timestamp = now.strftime(\"%d%m%Y_%H%M%S\")"
   ]
  },
  {
   "cell_type": "markdown",
   "id": "85538952-006b-4b0b-a50c-fe7445ce22e2",
   "metadata": {},
   "source": [
    "### 1.4 Configure Paths and Directories"
   ]
  },
  {
   "cell_type": "code",
   "execution_count": 5,
   "id": "7ddcc49c-ba22-4155-acd5-05b5b810e091",
   "metadata": {
    "tags": []
   },
   "outputs": [],
   "source": [
    "data_folder_path = \"../../datasets/srt_data/gold/\"\n",
    "figure_folder_path = f\"../../figures\"\n",
    "benchmark_data_folder_path = \"../../datasets/benchmark_data/\"\n",
    "benchmarking_folder_path = \"../../artifacts/single_sample_method_benchmarking\""
   ]
  },
  {
   "cell_type": "markdown",
   "id": "58f3bcb4-901b-48dd-b684-a398c836160b",
   "metadata": {},
   "source": [
    "## 2. Data"
   ]
  },
  {
   "cell_type": "markdown",
   "id": "6c409162-2e75-4e6e-b503-34c899d3cbcd",
   "metadata": {},
   "source": [
    "### 2.1 Define Data Preparation Function"
   ]
  },
  {
   "cell_type": "code",
   "execution_count": 6,
   "id": "b511456d-7196-470c-9ca3-1cf5dfdc4a8e",
   "metadata": {
    "tags": []
   },
   "outputs": [],
   "source": [
    "def preprocess_data_for_deeplinc(dataset,\n",
    "                                 cell_type_key):\n",
    "    # Configure benchmark folder path\n",
    "    benchmark_data_dataset_folder_path = f\"{benchmark_data_folder_path}/{model_name}/{dataset}\"\n",
    "    os.makedirs(benchmark_data_dataset_folder_path, exist_ok=True)\n",
    "    \n",
    "    # Load data\n",
    "    adata = sc.read_h5ad(data_folder_path + f\"{dataset}.h5ad\")\n",
    "\n",
    "    # Create csv files to run DeepLinc\n",
    "    #counts_df = pd.DataFrame(adata.layers[\"counts\"].toarray(), columns=adata.var_names)\n",
    "    #counts_df.to_csv(f\"{benchmark_data_dataset_folder_path}/counts.csv\", index=False)\n",
    "\n",
    "    #coords_df = pd.DataFrame(adata.obsm[\"spatial\"], columns=[\"X\", \"Y\"])\n",
    "    #coords_df.to_csv(f\"{benchmark_data_dataset_folder_path}/coords.csv\", index=False)\n",
    "\n",
    "    #cell_types_df = pd.DataFrame(adata.obs[cell_type_key])\n",
    "    #cell_types_df.rename(columns={cell_type_key: \"Cell_class_name\"}, inplace=True)\n",
    "    #cell_types_df[\"Cell_ID\"] = np.arange(len(adata))\n",
    "    #cell_types_df[\"Cell_class_id\"] = cell_types_df[\"Cell_class_name\"].cat.codes\n",
    "    #cell_types_df = cell_types_df[[\"Cell_ID\", \"Cell_class_id\", \"Cell_class_name\"]]\n",
    "    #cell_types_df.to_csv(f\"{benchmark_data_dataset_folder_path}/cell_types.csv\", index=False)\n",
    "    \n",
    "    for n_neighbors in [16]:\n",
    "        # Compute spatial neighborhood graphs\n",
    "        sq.gr.spatial_neighbors(adata,\n",
    "                                coord_type=\"generic\",\n",
    "                                spatial_key=\"spatial\",\n",
    "                                n_neighs=n_neighbors)\n",
    "        \n",
    "        # Make adjacency matrix symmetric\n",
    "        adj = (adata.obsp[\"spatial_connectivities\"].maximum(\n",
    "            adata.obsp[\"spatial_connectivities\"].T))\n",
    "        \n",
    "        # Write the sparse matrix to a CSV file in dense format\n",
    "        with open(f\"{benchmark_data_dataset_folder_path}/adj{n_neighbors}.csv\", \"w\", newline=\"\") as csvfile:\n",
    "            writer = csv.writer(csvfile)\n",
    "            writer.writerow(list(range(adj.shape[0]))) # column headers\n",
    "            for i in range(adj.shape[0]):\n",
    "                row_data = np.repeat(0.0, adj.shape[1])\n",
    "                row_data[adj.nonzero()[1][adj.nonzero()[0] == i]] = 1.0\n",
    "                row_data = row_data.tolist()\n",
    "                writer.writerow(row_data)"
   ]
  },
  {
   "cell_type": "markdown",
   "id": "5d28bf11-3e09-4444-95b2-be34fb9dd066",
   "metadata": {},
   "source": [
    "### 2.2 Preprocess Benchmarking Datasets"
   ]
  },
  {
   "cell_type": "code",
   "execution_count": 7,
   "id": "d94e0bb9-624f-4c5a-ba88-074086094420",
   "metadata": {
    "tags": []
   },
   "outputs": [],
   "source": [
    "preprocess_data_for_deeplinc(dataset=\"seqfish_mouse_organogenesis_embryo2\",\n",
    "                             cell_type_key=\"celltype_mapped_refined\")"
   ]
  },
  {
   "cell_type": "code",
   "execution_count": 8,
   "id": "ffe589ae-e19c-4d89-813b-455709ac8180",
   "metadata": {
    "tags": []
   },
   "outputs": [],
   "source": [
    "for subsample_pct in [50, 25, 10, 5, 1]:\n",
    "    preprocess_data_for_deeplinc(dataset=f\"seqfish_mouse_organogenesis_subsample_{subsample_pct}pct_embryo2\",\n",
    "                                 cell_type_key=\"celltype_mapped_refined\")"
   ]
  },
  {
   "cell_type": "code",
   "execution_count": null,
   "id": "bd6a8eaf-c85d-4cd3-b800-5d563f3a1163",
   "metadata": {
    "tags": []
   },
   "outputs": [],
   "source": [
    "preprocess_data_for_deeplinc(dataset=\"nanostring_cosmx_human_nsclc_batch5\",\n",
    "                             cell_type_key=\"cell_type\")"
   ]
  },
  {
   "cell_type": "code",
   "execution_count": 14,
   "id": "953126b7-2165-4cdf-93b1-6a9c32bbc5a0",
   "metadata": {
    "tags": []
   },
   "outputs": [],
   "source": [
    "for subsample_pct in [50, 25, 10, 5, 1]:\n",
    "    preprocess_data_for_deeplinc(dataset=f\"nanostring_cosmx_human_nsclc_subsample_{subsample_pct}pct_batch5\",\n",
    "                                 cell_type_key=\"cell_type\")"
   ]
  },
  {
   "cell_type": "code",
   "execution_count": null,
   "id": "7ba49fba-9efe-4100-8eb0-2aa99dcf7b91",
   "metadata": {
    "tags": []
   },
   "outputs": [],
   "source": [
    "# This does not work because of memory exhaustion\n",
    "# Tesla V100S-PCIE-32GB GPU\n",
    "# The adjacency matrix csv files have dim n_obs x n_obs\n",
    "preprocess_data_for_deeplinc(dataset=\"vizgen_merfish_mouse_liver\",\n",
    "                             cell_type_key=\"Cell_Type\")"
   ]
  },
  {
   "cell_type": "code",
   "execution_count": null,
   "id": "b1ef72ce-3ada-46d1-9a00-1063fe93a6f2",
   "metadata": {
    "tags": []
   },
   "outputs": [],
   "source": [
    "# 50 pct exhausts memory\n",
    "for subsample_pct in [10, 5, 1]:\n",
    "    preprocess_data_for_deeplinc(dataset=f\"vizgen_merfish_mouse_liver_subsample_{subsample_pct}pct\",\n",
    "                                 cell_type_key=\"Cell_Type\")"
   ]
  },
  {
   "cell_type": "code",
   "execution_count": null,
   "id": "b4dcacf1-77f8-4137-8ddc-64f4da3f6620",
   "metadata": {},
   "outputs": [],
   "source": [
    "preprocess_data_for_deeplinc(dataset=\"slideseqv2_mouse_hippocampus\",\n",
    "                             cell_type_key=\"cell_type\")"
   ]
  },
  {
   "cell_type": "code",
   "execution_count": null,
   "id": "56b2af74-b576-487b-aefb-54d99b751e3b",
   "metadata": {},
   "outputs": [],
   "source": [
    "for subsample_pct in [50, 25, 10, 5, 1]:\n",
    "    preprocess_data_for_deeplinc(dataset=f\"slideseqv2_mouse_hippocampus_subsample_{subsample_pct}pct\",\n",
    "                                 cell_type_key=\"cell_type\")"
   ]
  },
  {
   "cell_type": "markdown",
   "id": "656c9b41-6c0f-46d8-9419-ee9857f34237",
   "metadata": {},
   "source": [
    "## 3. DeepLinc Model"
   ]
  },
  {
   "cell_type": "markdown",
   "id": "72a7a8b5-c89d-43cf-9aca-4cb7ea6e6bf7",
   "metadata": {},
   "source": [
    "Now, train DeepLinc models with the ```../../scripts/single_sample_method_benchmarking/deeplinc/train_deeplinc_models.sh``` script. The latent space features of trained models will be stored under ```../../datasets/benchmark_data/deeplinc/{dataset}/runs``` . Delete all ```emb_hidden*_*.npy``` files except for the one of the second hidden layer with the highest number (last epoch where the model improved)."
   ]
  },
  {
   "cell_type": "markdown",
   "id": "94d7fbb3-623d-442a-b076-244550271b14",
   "metadata": {},
   "source": [
    "### 3.1 Define Result Retrieval Function"
   ]
  },
  {
   "cell_type": "code",
   "execution_count": 6,
   "id": "617aa1d1-5832-4bd7-94eb-464c3135f1e2",
   "metadata": {},
   "outputs": [],
   "source": [
    "def extract_number_after_last_letter(s):\n",
    "    match = re.search(r\"[a-zA-Z](\\d+)$\", s)\n",
    "    if match:\n",
    "        return int(match.group(1))\n",
    "    else:\n",
    "        return None"
   ]
  },
  {
   "cell_type": "code",
   "execution_count": 10,
   "id": "3295fd5a-722b-4aba-b3ec-227ffdd3077b",
   "metadata": {},
   "outputs": [],
   "source": [
    "def get_deeplinc_latent(dataset,\n",
    "                        cell_type_key,\n",
    "                        adata_new=None,\n",
    "                        plot_latent_umaps=False):\n",
    "    # Configure benchmark folder path\n",
    "    benchmark_data_dataset_folder_path = f\"{benchmark_data_folder_path}/{model_name}/{dataset}/runs\"\n",
    "    \n",
    "    # Configure figure folder path\n",
    "    dataset_figure_folder_path = f\"{figure_folder_path}/{dataset}/method_benchmarking/\" \\\n",
    "                                 f\"{model_name}/{current_timestamp}\"\n",
    "    os.makedirs(dataset_figure_folder_path, exist_ok=True)\n",
    "    \n",
    "    # Create new adata to store results from training runs in storage-efficient way\n",
    "    if adata_new is None:\n",
    "        adata_original = sc.read_h5ad(data_folder_path + f\"{dataset}.h5ad\")\n",
    "        adata_new = sc.AnnData(sp.csr_matrix(\n",
    "            (adata_original.shape[0], adata_original.shape[1]),\n",
    "            dtype=np.float32))\n",
    "        adata_new.var_names = adata_original.var_names\n",
    "        adata_new.obs_names = adata_original.obs_names\n",
    "        adata_new.obs[\"cell_type\"] = adata_original.obs[cell_type_key].values\n",
    "        adata_new.obsm[\"spatial\"] = adata_original.obsm[\"spatial\"]\n",
    "        del(adata_original)\n",
    "\n",
    "    run_number = 0\n",
    "    for directory, subdirectory, file_list in os.walk(benchmark_data_dataset_folder_path):\n",
    "        for file in file_list:\n",
    "            if \"hidden2\" in file:\n",
    "                file_path = os.path.join(directory, file)\n",
    "\n",
    "                adata = sc.read_h5ad(data_folder_path + f\"{dataset}.h5ad\")\n",
    "                adata.obsm[latent_key] = np.load(file_path)\n",
    "\n",
    "                if plot_latent_umaps:\n",
    "                    # Use DeepLinc latent space for UMAP generation\n",
    "                    sc.pp.neighbors(adata,\n",
    "                                    use_rep=latent_key,\n",
    "                                    n_neighbors=extract_number_after_last_letter(directory))\n",
    "                    sc.tl.umap(adata)\n",
    "                    fig = sc.pl.umap(adata,\n",
    "                                     color=[cell_type_key],\n",
    "                                     title=\"Latent Space with Cell Types: DeepLinc\",\n",
    "                                     return_fig=True)\n",
    "                    fig.savefig(f\"{dataset_figure_folder_path}/latent_{model_name}_cell_types_run{run_number+1}.png\",\n",
    "                                bbox_inches=\"tight\")\n",
    "\n",
    "                    # Compute latent Leiden clustering\n",
    "                    sc.tl.leiden(adata=adata,\n",
    "                                 resolution=leiden_resolution,\n",
    "                                 random_state=random_seed,\n",
    "                                 key_added=f\"latent_{model_name}_leiden_{str(leiden_resolution)}\")\n",
    "\n",
    "                    # Create subplot of latent Leiden cluster annotations in physical and latent space\n",
    "                    fig, axs = plt.subplots(nrows=2, ncols=1, figsize=(6, 12))\n",
    "                    title = fig.suptitle(t=\"Latent and Physical Space with Leiden Clusters: DeepLinc\")\n",
    "                    sc.pl.umap(adata=adata,\n",
    "                               color=[f\"latent_{model_name}_leiden_{str(leiden_resolution)}\"],\n",
    "                               title=f\"Latent Space with Leiden Clusters\",\n",
    "                               ax=axs[0],\n",
    "                               show=False)\n",
    "                    sq.pl.spatial_scatter(adata=adata,\n",
    "                                          color=[f\"latent_{model_name}_leiden_{str(leiden_resolution)}\"],\n",
    "                                          title=f\"Physical Space with Leiden Clusters\",\n",
    "                                          shape=None,\n",
    "                                          ax=axs[1])\n",
    "\n",
    "                    # Create and position shared legend\n",
    "                    handles, labels = axs[0].get_legend_handles_labels()\n",
    "                    lgd = fig.legend(handles, labels, ncol=2, bbox_to_anchor=(1.25, 0.9185))\n",
    "                    axs[0].get_legend().remove()\n",
    "                    axs[1].get_legend().remove()\n",
    "\n",
    "                    # Adjust, save and display plot\n",
    "                    plt.subplots_adjust(wspace=0, hspace=0.2)\n",
    "                    fig.savefig(f\"{dataset_figure_folder_path}/latent_physical_comparison_\"\n",
    "                                f\"{model_name}_run{run_number+1}.png\",\n",
    "                                bbox_extra_artists=(lgd, title),\n",
    "                                bbox_inches=\"tight\")\n",
    "                    plt.show()\n",
    "\n",
    "                adata_new.obsm[latent_key + f\"_run{run_number+1}\"] = np.load(file_path)\n",
    "\n",
    "                # Store intermediate adata to disk\n",
    "                adata_new.write(f\"{benchmarking_folder_path}/{dataset}_{model_name}.h5ad\")\n",
    "                \n",
    "                run_number += 1\n",
    "\n",
    "    # Store final adata to disk\n",
    "    adata_new.write(f\"{benchmarking_folder_path}/{dataset}_{model_name}.h5ad\")  "
   ]
  },
  {
   "cell_type": "markdown",
   "id": "2c9a72aa-e02f-496c-9bdc-b8b8b3e2eb82",
   "metadata": {},
   "source": [
    "### 3.2 Retrieve Results on Benchmarking Datasets"
   ]
  },
  {
   "cell_type": "code",
   "execution_count": 11,
   "id": "0cb35fd5-0d28-43eb-8c7e-7246578317a8",
   "metadata": {},
   "outputs": [],
   "source": [
    "get_deeplinc_latent(dataset=\"seqfish_mouse_organogenesis_embryo2\",\n",
    "                    cell_type_key=\"celltype_mapped_refined\")"
   ]
  },
  {
   "cell_type": "code",
   "execution_count": 12,
   "id": "b8018760-5bd1-4fa0-8de4-26ba63d72ef7",
   "metadata": {},
   "outputs": [],
   "source": [
    "for subsample_pct in [50, 25, 10, 5, 1]:\n",
    "    get_deeplinc_latent(dataset=f\"seqfish_mouse_organogenesis_subsample_{subsample_pct}pct_embryo2\",\n",
    "                        cell_type_key=\"celltype_mapped_refined\")"
   ]
  },
  {
   "cell_type": "raw",
   "id": "d0921a40-17bc-4005-b918-a171c2d2760c",
   "metadata": {},
   "source": [
    "# This does not work because of memory exhaustion\n",
    "# (Tesla V100-SXM3-32GB GPU)\n",
    "# The adjacency matrix csv files have dim n_obs x n_obs\n",
    "get_deeplinc_latent(dataset=\"nanostring_cosmx_human_nsclc_batch5\",\n",
    "                    cell_type_key=\"cell_type\")"
   ]
  },
  {
   "cell_type": "code",
   "execution_count": null,
   "id": "a2ecbc94-25c9-43de-95c7-dde150165a03",
   "metadata": {},
   "outputs": [],
   "source": [
    "for subsample_pct in [50, 25, 10, 5, 1]:\n",
    "    get_deeplinc_latent(dataset=f\"nanostring_cosmx_human_nsclc_subsample_{subsample_pct}pct_batch5\",\n",
    "                        cell_type_key=\"cell_type\")"
   ]
  },
  {
   "cell_type": "raw",
   "id": "7a2a232c-7f57-47b7-a4bf-10002b97def2",
   "metadata": {},
   "source": [
    "# This does not work because of memory exhaustion\n",
    "# (Tesla V100-SXM3-32GB GPU)\n",
    "# The adjacency matrix csv files have dim n_obs x n_obs\n",
    "get_deeplinc_latent(dataset=\"vizgen_merfish_mouse_liver\",\n",
    "                    cell_type_key=\"Cell_Type\")"
   ]
  },
  {
   "cell_type": "raw",
   "id": "a5776aa9-0f03-44e1-ae26-f13051a253fc",
   "metadata": {},
   "source": [
    "for subsample_pct in [50, 25, 10, 5, 1]:\n",
    "    get_deeplinc_latent(dataset=f\"vizgen_merfish_mouse_liver_subsample_{subsample_pct}pct\",\n",
    "                        cell_type_key=\"Cell_Type\")"
   ]
  },
  {
   "cell_type": "code",
   "execution_count": null,
   "id": "96ffbbc6-c508-4816-97d3-fd63ce3d5bc7",
   "metadata": {},
   "outputs": [],
   "source": [
    "# This does not work because of memory exhaustion\n",
    "# (Tesla V100-SXM3-32GB GPU)\n",
    "# The adjacency matrix csv files have dim n_obs x n_obs\n",
    "get_deeplinc_latent(dataset=\"slideseqv2_mouse_hippocampus\",\n",
    "                    cell_type_key=\"cell_type\")"
   ]
  },
  {
   "cell_type": "code",
   "execution_count": null,
   "id": "4ff662d7-4525-4b95-bc87-6aade77fb612",
   "metadata": {},
   "outputs": [],
   "source": [
    "for subsample_pct in [50, 25, 10, 5, 1]:\n",
    "    get_deeplinc_latent(dataset=f\"slideseqv2_mouse_hippocampus_subsample_{subsample_pct}pct\",\n",
    "                        cell_type_key=\"cell_type\")"
   ]
  },
  {
   "cell_type": "code",
   "execution_count": null,
   "id": "47bd8bf0-bc6d-40e4-a19f-47bfa9f69bd1",
   "metadata": {},
   "outputs": [],
   "source": []
  }
 ],
 "metadata": {
  "kernelspec": {
   "display_name": "Python 3 (ipykernel)",
   "language": "python",
   "name": "python3"
  },
  "language_info": {
   "codemirror_mode": {
    "name": "ipython",
    "version": 3
   },
   "file_extension": ".py",
   "mimetype": "text/x-python",
   "name": "python",
   "nbconvert_exporter": "python",
   "pygments_lexer": "ipython3",
   "version": "3.9.17"
  }
 },
 "nbformat": 4,
 "nbformat_minor": 5
}
