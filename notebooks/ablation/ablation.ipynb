{
 "cells": [
  {
   "cell_type": "markdown",
   "id": "364a9ebc-3e3c-4645-9049-a34bd084c8a8",
   "metadata": {},
   "source": [
    "# Ablation"
   ]
  },
  {
   "cell_type": "markdown",
   "id": "b0c55227-147e-417f-b0dd-bb0b7f322930",
   "metadata": {},
   "source": [
    "- **Creator**: Sebastian Birk (<sebastian.birk@helmholtz-munich.de>).\n",
    "- **Affiliation:** Helmholtz Munich, Institute of Computational Biology (ICB), Talavera-López Lab\n",
    "- **Date of Creation:** 06.01.2023\n",
    "- **Date of Last Modification:** 18.07.2023"
   ]
  },
  {
   "cell_type": "markdown",
   "id": "7529cde5-be12-403b-a94c-07561774b86c",
   "metadata": {},
   "source": [
    "## 1. Setup"
   ]
  },
  {
   "cell_type": "markdown",
   "id": "faad87bd-fef5-4429-a175-d714c491ae76",
   "metadata": {},
   "source": [
    "### 1.1 Import Libraries"
   ]
  },
  {
   "cell_type": "code",
   "execution_count": null,
   "id": "d9533f18-f082-4dcc-8e93-117b9759133e",
   "metadata": {},
   "outputs": [],
   "source": [
    "%load_ext autoreload\n",
    "%autoreload 2"
   ]
  },
  {
   "cell_type": "code",
   "execution_count": null,
   "id": "f1e0bf12-90ee-403e-8970-0d1ac2f47540",
   "metadata": {},
   "outputs": [],
   "source": [
    "import sys\n",
    "sys.path.append(\"../../utils\")"
   ]
  },
  {
   "cell_type": "code",
   "execution_count": null,
   "id": "d7f93960-c759-424f-8cb2-1d8698acae2c",
   "metadata": {},
   "outputs": [],
   "source": [
    "import os\n",
    "import warnings\n",
    "from datetime import datetime\n",
    "\n",
    "import mlflow\n",
    "import numpy as np\n",
    "import pandas as pd\n",
    "import pickle\n",
    "import plottable\n",
    "\n",
    "from nichecompass.benchmarking import compute_benchmarking_metrics\n",
    "from nichecompass.models import NicheCompass\n",
    "from nichecompass.utils import (add_gps_from_gp_dict_to_adata,\n",
    "                                create_new_color_dict,\n",
    "                                extract_gp_dict_from_mebocost_es_interactions,\n",
    "                                extract_gp_dict_from_nichenet_lrt_interactions,\n",
    "                                extract_gp_dict_from_omnipath_lr_interactions,\n",
    "                                filter_and_combine_gp_dict_gps)\n",
    "\n",
    "import scanpy as sc\n",
    "\n",
    "from ablation_utils import *"
   ]
  },
  {
   "cell_type": "markdown",
   "id": "39b5efa5-2052-4986-8ae5-89cfab018515",
   "metadata": {},
   "source": [
    "### 1.2 Define Parameters"
   ]
  },
  {
   "cell_type": "code",
   "execution_count": null,
   "id": "e5c8b48a-ed5e-48b5-8c5c-c1de11493aee",
   "metadata": {},
   "outputs": [],
   "source": [
    "latent_key = \"nichecompass_latent\"\n",
    "spatial_key = \"spatial\"\n",
    "latent_knng_key = \"nichecompass_latent_knng\"\n",
    "spatial_knng_key = \"spatial_knng\"\n",
    "gp_names_key = \"nichecompass_gp_names\""
   ]
  },
  {
   "cell_type": "markdown",
   "id": "28adc110-0f41-4a71-9838-dc7f0687809a",
   "metadata": {},
   "source": [
    "### 1.4 Run Notebook Setup"
   ]
  },
  {
   "cell_type": "code",
   "execution_count": null,
   "id": "334b87ca-3387-4ba9-8567-84bc4754ff0c",
   "metadata": {},
   "outputs": [],
   "source": [
    "sc.set_figure_params(figsize=(6, 6))"
   ]
  },
  {
   "cell_type": "code",
   "execution_count": null,
   "id": "3944b0c4-023b-4fcb-9b61-9293f08939b2",
   "metadata": {},
   "outputs": [],
   "source": [
    "# Ignore future warnings and user warnings\n",
    "warnings.simplefilter(action=\"ignore\", category=FutureWarning)\n",
    "warnings.simplefilter(action=\"ignore\", category=UserWarning)\n",
    "warnings.simplefilter(action=\"ignore\", category=DeprecationWarning)"
   ]
  },
  {
   "cell_type": "code",
   "execution_count": null,
   "id": "0ab6b302-1c0b-4937-8624-40629ada2e46",
   "metadata": {},
   "outputs": [],
   "source": [
    "# Get time of notebook execution for timestamping saved artifacts\n",
    "now = datetime.now()\n",
    "current_timestamp = now.strftime(\"%d%m%Y_%H%M%S\")"
   ]
  },
  {
   "cell_type": "code",
   "execution_count": null,
   "id": "8d5dcfd0-3d3b-4641-aec0-55c46b64636e",
   "metadata": {},
   "outputs": [],
   "source": [
    "# Set mlflow tracking server (run it on the defined port)\n",
    "mlflow.set_tracking_uri(\"http://localhost:8999\")"
   ]
  },
  {
   "cell_type": "markdown",
   "id": "85538952-006b-4b0b-a50c-fe7445ce22e2",
   "metadata": {},
   "source": [
    "### 1.5 Configure Paths and Directories"
   ]
  },
  {
   "cell_type": "code",
   "execution_count": null,
   "id": "7ddcc49c-ba22-4155-acd5-05b5b810e091",
   "metadata": {},
   "outputs": [],
   "source": [
    "artifact_folder_path = f\"../../artifacts\"\n",
    "miscellaneous_folder_path = f\"{artifact_folder_path}/miscellaneous\"\n",
    "figure_folder_path = f\"{miscellaneous_folder_path}/ablation\""
   ]
  },
  {
   "cell_type": "markdown",
   "id": "5e1f3798-2b4a-49ed-892c-a85d167d8ff1",
   "metadata": {},
   "source": [
    "## 2. Ablation"
   ]
  },
  {
   "cell_type": "markdown",
   "id": "8884ac28-0cdf-4b37-9281-4a86dd194ef5",
   "metadata": {},
   "source": [
    "### 2.1 Loss Weights, Gene Program Mask & Number of Neighbors"
   ]
  },
  {
   "cell_type": "markdown",
   "id": "336e7c13-1408-4020-a348-57553cda48c9",
   "metadata": {},
   "source": [
    "- Three single sample datasets are used (batch1 of Xenium Human Breast Cancer, batch1 of STARmap PLUS Mouse CNS, batch2 of Vizgen MERFISH Human Ovarian Cancer).\n",
    "- Different combinations of the edge reconstruction loss, gene expression reconstruction loss, and KL divergence weighting hyperparameters are tested.\n",
    "- Number of neighbors of the spatial neighborhood graph is varied between ```4```, ```8```, ```12```, and ```16```.\n",
    "- GP mask is varied between fully connected gene program mask, unfiltered NicheCompass default GP mask (nichenet_keep_target_genes_ratio=1.0), weakly filtered NicheCompass default GP mask (nichenet_keep_target_genes_ratio=0.1), strongly filtered NicheCompass default GP mask (nichenet_keep_target_genes_ratio=0.01).\n",
    "- This results in a total of 208 (4x4x3x3) + (2x2x4x4) runs per dataset."
   ]
  },
  {
   "cell_type": "code",
   "execution_count": null,
   "id": "3b10d503-b972-4d74-b902-7781ae95160c",
   "metadata": {},
   "outputs": [],
   "source": [
    "ablation_task = \"loss_weights\"\n",
    "datasets = [\"xenium_human_breast_cancer\", \"starmap_plus_mouse_cns\", \"vizgen_merfish_human_ovarian_cancer\"]\n",
    "cell_type_keys = [\"cell_states\", \"Main_molecular_cell_type\", \"cell_type\"]\n",
    "batch_keys = [None, None, None]\n",
    "experiment_ids = [3, 4, 5]\n",
    "\n",
    "ablation_col = \"loss_weights\"\n",
    "dataset_col = \"dataset\"\n",
    "group_cols = [dataset_col] + [ablation_col]\n",
    "metric_cols = [\"gcs\", \"mlami\", \"cas\", \"clisis\", \"nasw\", \"cari\", \"cnmi\", \"casw\", \"clisi\"]\n",
    "metric_col_weights = [1., 1., 1., 1., 2., 0.5, 0.5, 0.5, 0.5]\n",
    "metric_col_titles = [\"Graph Connectivity Similarity\",\n",
    "                     \"Maximum Leiden Adjusted Mutual Info\",\n",
    "                     \"Cell Type Affinity Similarity\",\n",
    "                     \"Cell Type Local Inverse Simpson's Index Similarity\",\n",
    "                     \"Niche Average Silhouette Width\",\n",
    "                     \"Cell Type Adjusted Rand Index\",\n",
    "                     \"Cell Type Normalized Mutual Info\",\n",
    "                     \"Cell Type Average Silhouette Width\",\n",
    "                     \"Cell Type Local Inverse Simpson's Index\"]\n",
    "\n",
    "ablation_folder_path = f\"{artifact_folder_path}/{ablation_task}_ablation\"\n",
    "os.makedirs(ablation_folder_path, exist_ok=True)"
   ]
  },
  {
   "cell_type": "raw",
   "id": "eca2cef7-a19f-404f-88d2-50726d9eae44",
   "metadata": {
    "tags": []
   },
   "source": [
    "# Retrieve metrics and params of ablation runs from mlflow and save to disk\n",
    "summary_df = pd.DataFrame()\n",
    "for dataset, experiment_id in zip(datasets, experiment_ids):\n",
    "    runs_info = mlflow.list_run_infos(experiment_id)\n",
    "    for run_info in runs_info:\n",
    "        run = mlflow.get_run(run_info.run_uuid)\n",
    "        if run.info.status == \"RUNNING\":\n",
    "            continue\n",
    "        run_dict = {\"dataset\": dataset}\n",
    "        run_dict[\"timestamp\"] = run.data.params[\"timestamp\"]\n",
    "        run_dict[\"val_auroc_score\"] = run.data.metrics.get(\"val_auroc_score\", np.nan)\n",
    "        run_dict[\"val_gene_expr_mse_score\"] = run.data.metrics.get(\"val_gene_expr_mse_score\", np.nan)\n",
    "        run_dict[\"lambda_edge_recon_\"] = run.data.params[\"lambda_edge_recon_\"]\n",
    "        run_dict[\"lambda_gene_expr_recon_\"] = run.data.params[\"lambda_gene_expr_recon_\"]\n",
    "        run_dict[\"n_neighbors\"] = run.data.params[\"n_neighbors\"]\n",
    "        run_dict[\"nichenet_keep_target_genes_ratio\"] = run.data.params[\"nichenet_keep_target_genes_ratio\"]\n",
    "        run_dict[\"add_fc_gps_instead_of_gp_dict_gps\"] = run.data.params[\"add_fc_gps_instead_of_gp_dict_gps\"]\n",
    "        run_df = pd.DataFrame(run_dict, index=[0])\n",
    "        summary_df = pd.concat([summary_df, run_df], ignore_index=True)\n",
    "\n",
    "for dataset in datasets:\n",
    "    summary_df[summary_df[\"dataset\"] == dataset].to_csv(f\"{ablation_folder_path}/mlflow_summary_{ablation_task}_ablation_{dataset}.csv\")"
   ]
  },
  {
   "cell_type": "code",
   "execution_count": null,
   "id": "19afbf8d-dd99-4645-824f-4302329041ba",
   "metadata": {},
   "outputs": [],
   "source": [
    "# Load metrics and params of ablation runs from disk\n",
    "summary_df = pd.DataFrame()\n",
    "for dataset in datasets:\n",
    "    dataset_df = pd.read_csv(f\"{ablation_folder_path}/mlflow_summary_{ablation_task}_ablation_{dataset}.csv\", index_col=0)\n",
    "    summary_df = pd.concat([summary_df, dataset_df], ignore_index=True)\n",
    "    \n",
    "# Define params of interest\n",
    "summary_df[\"loss_weights\"] = summary_df.apply(lambda row: get_loss_weights(row), axis=1)\n",
    "summary_df[\"gp_mask\"] = summary_df.apply(lambda row: get_gp_mask(row), axis=1)\n",
    "summary_df[\"n_neighbors\"] = summary_df[\"n_neighbors\"].astype(str)"
   ]
  },
  {
   "cell_type": "code",
   "execution_count": null,
   "id": "295aced2-3b17-4233-905b-cf32be52e766",
   "metadata": {},
   "outputs": [],
   "source": [
    "# Validate that all runs are ok\n",
    "# temp\n",
    "summary_df[summary_df[\"dataset\"] == \"vizgen_merfish_human_ovarian_cancer\"][\"nichenet_keep_target_genes_ratio\"].value_counts()\n",
    "\n",
    "# temp\n",
    "summary_df[(summary_df[\"dataset\"] == \"vizgen_merfish_human_ovarian_cancer\") & (summary_df[\"nichenet_keep_target_genes_ratio\"] == 0.01)][\"n_neighbors\"].value_counts()"
   ]
  },
  {
   "cell_type": "code",
   "execution_count": null,
   "id": "52f3dfc2-b381-4bde-947d-bf0294aaf6e8",
   "metadata": {},
   "outputs": [],
   "source": [
    "# Split into multiple files for each dataset for parallel metrics computation\n",
    "for dataset in datasets:\n",
    "    j = 0\n",
    "    for i in np.arange(20, 240, 20):\n",
    "        dataset_df = summary_df[summary_df[\"dataset\"] == dataset]\n",
    "        temp_df = dataset_df[j:i]\n",
    "        temp_df.to_csv(f\"{ablation_folder_path}/mlflow_summary_{ablation_task}_ablation_{dataset}_{i}.csv\")\n",
    "        j = i"
   ]
  },
  {
   "cell_type": "markdown",
   "id": "efa745b3-fb94-4f3f-b395-5a782fe2c4bd",
   "metadata": {},
   "source": [
    "Now run respective jobs in ```../notebooks/slurm_job_submission.ipynb```."
   ]
  },
  {
   "cell_type": "code",
   "execution_count": null,
   "id": "450338e6-7d89-4077-8a9f-316a646606ae",
   "metadata": {},
   "outputs": [],
   "source": [
    "# tmp\n",
    "datasets = [\"starmap_plus_mouse_cns\"]"
   ]
  },
  {
   "cell_type": "code",
   "execution_count": null,
   "id": "b9101cc4-16c0-4f50-b832-9ce7596b908e",
   "metadata": {},
   "outputs": [],
   "source": [
    "# tmp\n",
    "# Load files with computed metrics and join to metadata\n",
    "summary_df = pd.DataFrame()\n",
    "for dataset in datasets:\n",
    "    for i in np.arange(20, 240, 20):\n",
    "        metadata_df = pd.read_csv(f\"{ablation_folder_path}/mlflow_summary_{ablation_task}_ablation_{dataset}_{i}.csv\")\n",
    "        metrics_df = pd.read_csv(f\"{ablation_folder_path}/tmp/mlflow_summary_{ablation_task}_ablation_{dataset}_{i}.csv_metrics_temp.csv\")\n",
    "        metrics2_df = pd.read_csv(f\"{ablation_folder_path}/mlflow_summary_{ablation_task}_ablation_{dataset}_{i}.csv_metrics_temp.csv\")\n",
    "        iteration_df = metadata_df.merge(metrics_df,on=[\"dataset\", \"timestamp\"], how=\"left\")\n",
    "        iteration_df.drop(\"Unnamed: 0_x\", axis=1, inplace=True)\n",
    "        iteration_df.drop(\"Unnamed: 0_y\", axis=1, inplace=True)\n",
    "        iteration_df = iteration_df.merge(metrics2_df, on=[\"dataset\", \"timestamp\"], how=\"left\")\n",
    "        iteration_df.drop(\"Unnamed: 0\", axis=1, inplace=True)\n",
    "        iteration_df.to_csv(f\"{ablation_folder_path}/mlflow_summary_{ablation_task}_ablation_{dataset}_{i}_metrics.csv\", index=False)\n",
    "        summary_df = pd.concat([summary_df, iteration_df], ignore_index=True)"
   ]
  },
  {
   "cell_type": "code",
   "execution_count": null,
   "id": "dd2022d5-e6df-402e-9115-8e3dc2f687e4",
   "metadata": {},
   "outputs": [],
   "source": [
    "# Load data\n",
    "summary_df = pd.DataFrame()\n",
    "for dataset in datasets:\n",
    "    for i in np.arange(20, 240, 20):\n",
    "        iteration_df = pd.read_csv(f\"{ablation_folder_path}/mlflow_summary_{ablation_task}_ablation_{dataset}_{i}_metrics.csv\")\n",
    "        summary_df = pd.concat([summary_df, iteration_df], ignore_index=True)\n",
    "summary_df.to_csv(f\"{ablation_folder_path}/mlflow_summary_{ablation_task}_ablation_metrics.csv\", index=False)"
   ]
  },
  {
   "cell_type": "code",
   "execution_count": null,
   "id": "811e52b3-7995-400a-9b3e-335e6d0828df",
   "metadata": {},
   "outputs": [],
   "source": [
    "# Compute overall score\n",
    "summary_df[\"overall_score\"] = np.average(summary_df[metric_cols], weights=metric_col_weights, axis=1)"
   ]
  },
  {
   "cell_type": "code",
   "execution_count": null,
   "id": "f3dbaf1b-eea0-42f1-b5cd-85728477d38e",
   "metadata": {},
   "outputs": [],
   "source": []
  },
  {
   "cell_type": "code",
   "execution_count": null,
   "id": "3e83981f-ba33-4fce-b0ef-e0d3e5abf312",
   "metadata": {},
   "outputs": [],
   "source": [
    "filtered_df = summary_df[summary_df['gcs'].isnull()]"
   ]
  },
  {
   "cell_type": "code",
   "execution_count": null,
   "id": "69abea34-99ae-4d41-be1d-a5b549c0d604",
   "metadata": {},
   "outputs": [],
   "source": [
    "filtered_df2 = filtered_df[~filtered_df[\"timestamp\"].isin([\"30062023_100000_1\", \"29062023_161622_6\", \"29062023_161622_1\"])][14:]"
   ]
  },
  {
   "cell_type": "code",
   "execution_count": null,
   "id": "cead94b2-3a62-47c7-a308-215d51e4d295",
   "metadata": {},
   "outputs": [],
   "source": [
    "filtered_df2[\"timestamp\"].tolist()"
   ]
  },
  {
   "cell_type": "code",
   "execution_count": null,
   "id": "2175f6b6-fba5-48d8-a515-a7796435ad6a",
   "metadata": {},
   "outputs": [],
   "source": [
    "test_df = summary_df.merge(df1, on=[\"dataset\", \"timestamp\"], how=\"left\")"
   ]
  },
  {
   "cell_type": "code",
   "execution_count": null,
   "id": "f19ccc64-e256-476e-a601-177e3b8e6ee5",
   "metadata": {},
   "outputs": [],
   "source": [
    "df1"
   ]
  },
  {
   "cell_type": "code",
   "execution_count": null,
   "id": "571502f7-62c7-43b5-80c5-2a98ee0367e1",
   "metadata": {},
   "outputs": [],
   "source": [
    "# temp\n",
    "df1 = pd.read_csv(\"../../artifacts/loss_weights_ablation/mlflow_summary_loss_weights_ablation_starmap_plus_mouse_cns_metrics_temp_first.csv\")\n",
    "df2 = pd.read_csv(\"../../artifacts/loss_weights_ablation/mlflow_summary_loss_weights_ablation_starmap_plus_mouse_cns_metrics_temp_second.csv\")\n",
    "df3 = pd.read_csv(\"../../artifacts/loss_weights_ablation/mlflow_summary_loss_weights_ablation_starmap_plus_mouse_cns_metrics_temp_third.csv\")\n",
    "df4 = pd.read_csv(\"../../artifacts/loss_weights_ablation/mlflow_summary_loss_weights_ablation_starmap_plus_mouse_cns_metrics_temp_fourth.csv\")\n",
    "\n",
    "test_df = summary_df.set_index(['dataset', 'timestamp'])\n",
    "df1 = df1.set_index(['dataset', 'timestamp'])\n",
    "df2 = df2.set_index(['dataset', 'timestamp'])\n",
    "df3 = df3.set_index(['dataset', 'timestamp'])\n",
    "df4 = df4.set_index(['dataset', 'timestamp'])\n",
    "test_df = test_df.combine_first(df1)\n",
    "test_df = test_df.combine_first(df2)\n",
    "test_df = test_df.combine_first(df3)\n",
    "test_df = test_df.combine_first(df4)\n",
    "\n",
    "test_df.reset_index(inplace=True)\n",
    "test_df.drop(\"Unnamed: 0\", axis=1, inplace=True)\n",
    "\n",
    "test_df = test_df[['dataset', 'timestamp', 'n_neighbors', 'gp_mask', 'loss_weights', 'add_fc_gps_instead_of_gp_dict_gps', 'nichenet_keep_target_genes_ratio',\n",
    "'lambda_edge_recon_', 'lambda_gene_expr_recon_', 'val_auroc_score', 'val_gene_expr_mse_score',\n",
    "'gcs', 'mlami', 'cas', 'clisis','nasw', 'cnmi', 'cari', 'casw', 'clisi']]\n",
    "\n",
    "\n",
    "\n",
    "# Compute overall score\n",
    "summary_df[\"overall_score\"] = np.average(summary_df[metric_cols], weights=metric_col_weights, axis=1)\n",
    "order = summary_df.groupby(\"loss_weights\").mean(\"overall_score\").sort_values(\"overall_score\", ascending=False).index"
   ]
  },
  {
   "cell_type": "code",
   "execution_count": null,
   "id": "c90952a9-c6f5-4cab-bdba-93b4799959b2",
   "metadata": {},
   "outputs": [],
   "source": [
    "filtered_df = summary_df[summary_df['gcs'].isnull()]"
   ]
  },
  {
   "cell_type": "code",
   "execution_count": null,
   "id": "a863c809-59ea-4a24-83b2-633132f5e4c1",
   "metadata": {},
   "outputs": [],
   "source": [
    "filtered_df"
   ]
  },
  {
   "cell_type": "code",
   "execution_count": null,
   "id": "97a0103f-9989-4bd5-9a97-3cb0c00c9ae0",
   "metadata": {},
   "outputs": [],
   "source": [
    "metrics_df = pd.DataFrame()\n",
    "timestamps = filtered_df2[\"timestamp\"].tolist()\n",
    "# Compute metrics for ablation runs models\n",
    "dataset_metrics_df = compute_metrics(\n",
    "    artifact_folder_path=artifact_folder_path,\n",
    "    dataset=dataset,\n",
    "    task=\"loss_weights_ablation\",\n",
    "    timestamps=timestamps,\n",
    "    cell_type_key=\"Main_molecular_cell_type\",\n",
    "    batch_key=None,\n",
    "    spatial_key=\"spatial\",\n",
    "    latent_key=\"nichecompass_latent\",\n",
    "    metrics=metric_cols,\n",
    "    file_name=f\"mlflow_summary_loss_weights_ablation_{dataset}.csv\")\n",
    "metrics_df = pd.concat([metrics_df, dataset_metrics_df],\n",
    "                       axis=0)"
   ]
  },
  {
   "cell_type": "code",
   "execution_count": null,
   "id": "78b02c75-346d-4d10-a72b-34f3c7b8b7d7",
   "metadata": {},
   "outputs": [],
   "source": [
    "# Generate loss weights boxplots\n",
    "order = summary_df.groupby(\"loss_weights\").mean(\"overall_score\").sort_values(\"overall_score\", ascending=False).index\n",
    "\n",
    "plot_metrics_boxplot(\n",
    "    fig_title=\"Loss Weights Ablation\",\n",
    "    df=summary_df,\n",
    "    group_col=\"loss_weights\",\n",
    "    metric_cols=[\"val_auroc_score\", \"val_gene_expr_mse_score\"] + metric_cols + [\"overall_score\"],\n",
    "    metric_col_titles=[\"Val AUROC\", \"Val Gene Expr MSE\"] + metric_col_titles + [\"Overall Score\"],\n",
    "    order=order,\n",
    "    save_fig=True,\n",
    "    figure_folder_path=figure_folder_path,\n",
    "    file_name=\"loss_weights_ablation_metrics.png\")"
   ]
  },
  {
   "cell_type": "code",
   "execution_count": null,
   "id": "e9a1d0a6-540f-4c60-a004-fbeda27c021d",
   "metadata": {},
   "outputs": [],
   "source": [
    "summary_df"
   ]
  },
  {
   "cell_type": "code",
   "execution_count": null,
   "id": "ecfb1337-ec3d-42ed-aacf-0676ad271da0",
   "metadata": {},
   "outputs": [],
   "source": [
    "# Generate gp mask boxplots\n",
    "order = summary_df.groupby(\"gp_mask\").mean(\"overall_score\").sort_values(\"overall_score\", ascending=False).index\n",
    "\n",
    "plot_metrics_boxplot(\n",
    "    fig_title=\"GP Mask Ablation\",\n",
    "    df=summary_df,\n",
    "    group_col=\"gp_mask\",\n",
    "    metric_cols=[\"val_auroc_score\", \"val_gene_expr_mse_score\"] + metric_cols + [\"overall_score\"],\n",
    "    metric_col_titles=[\"Val AUROC\", \"Val Gene Expr MSE\"] + metric_col_titles + [\"Overall Score\"],\n",
    "    order=order,\n",
    "    save_fig=True,\n",
    "    figure_folder_path=figure_folder_path,\n",
    "    file_name=\"gp_mask_ablation_metrics.png\")"
   ]
  },
  {
   "cell_type": "code",
   "execution_count": null,
   "id": "172b9f2b-6740-40cf-bc60-c16647318ab4",
   "metadata": {},
   "outputs": [],
   "source": [
    "# Generate gp mask boxplots\n",
    "summary_df[\"n_neighbors\"] = summary_df[\"n_neighbors\"].astype(\"str\")\n",
    "order = summary_df.groupby(\"n_neighbors\").mean(\"overall_score\").sort_values(\"overall_score\", ascending=False).index\n",
    "\n",
    "plot_metrics_boxplot(\n",
    "    fig_title=\"Number of Neighbors Ablation\",\n",
    "    df=summary_df,\n",
    "    group_col=\"n_neighbors\",\n",
    "    metric_cols=[\"val_auroc_score\", \"val_gene_expr_mse_score\"] + metric_cols + [\"overall_score\"],\n",
    "    metric_col_titles=[\"Val AUROC\", \"Val Gene Expr MSE\"] + metric_col_titles + [\"Overall Score\"],\n",
    "    order=order,\n",
    "    save_fig=True,\n",
    "    figure_folder_path=figure_folder_path,\n",
    "    file_name=\"n_neighbors_ablation_metrics.png\")"
   ]
  },
  {
   "cell_type": "raw",
   "id": "787239b3-a138-4578-9938-91c775d5ac8b",
   "metadata": {},
   "source": [
    "ablation_col = \"loss_weights\"\n",
    "dataset_col = \"dataset\"\n",
    "group_cols = [dataset_col] + [ablation_col]\n",
    "metric_cols = [\"gcs\", \"nasw\"]\n",
    "metric_cols_weights = [0.6, 0.6]\n",
    "metric_score_cols = [metric_col + \"_points\" for metric_col in metric_cols]\n",
    "\n",
    "# Compute ablation points\n",
    "points_df = compute_ablation_points(\n",
    "    df=summary_df,\n",
    "    group_col=ablation_col,\n",
    "    metric_cols=metric_cols,\n",
    "    metric_cols_weights=metric_cols_weights,\n",
    "    sort_metric_col=\"total_score\")"
   ]
  },
  {
   "cell_type": "raw",
   "id": "d2ba4672-050b-4b19-9596-60d8b4b2f4cd",
   "metadata": {},
   "source": [
    "# Unroll points df and compute means over group columns and score type\n",
    "unrolled_points_df = pd.melt(points_df, \n",
    "   id_vars=group_cols,\n",
    "   value_vars=metric_score_cols,\n",
    "   var_name=\"score_type\", \n",
    "   value_name=\"score\")\n",
    "\n",
    "# Compute metric means over all runs\n",
    "mean_points_df = unrolled_points_df.groupby(group_cols + [\"score_type\"]).mean()\n",
    "mean_points_df.reset_index(inplace=True)"
   ]
  },
  {
   "cell_type": "raw",
   "id": "cb5139a5-1d22-4ea2-8930-332ecd21e295",
   "metadata": {},
   "source": [
    "plot_ablation_points(df=mean_points_df,\n",
    "                     ablation_col=ablation_col,\n",
    "                     ablation_col_width=7,\n",
    "                     group_col=dataset_col,\n",
    "                     metric_cols=metric_score_cols,\n",
    "                     show=True,\n",
    "                     save_dir=None,\n",
    "                     save_name=\"ablation_results.svg\")"
   ]
  },
  {
   "cell_type": "code",
   "execution_count": null,
   "id": "6baec827-1cbf-434e-96eb-b7daf4edeef5",
   "metadata": {},
   "outputs": [],
   "source": [
    "# Prepare metrics table plot\n",
    "aggregate_df = summary_df.groupby([\"dataset\", \"loss_weights\"]).mean(\"overall_score\").sort_values(\"overall_score\", ascending=False)[metric_cols].reset_index()\n",
    "\n",
    "unrolled_df = pd.melt(aggregate_df, \n",
    "   id_vars=group_cols,\n",
    "   value_vars=metric_cols,\n",
    "   var_name=\"score_type\", \n",
    "   value_name=\"score\")\n",
    "\n",
    "# Bring df in right order for table\n",
    "unrolled_df = unrolled_df.sort_values(\"dataset\")"
   ]
  },
  {
   "cell_type": "code",
   "execution_count": null,
   "id": "1f0a2083-65a5-4ec2-ae33-e38eeaed8da2",
   "metadata": {},
   "outputs": [],
   "source": [
    "summary_df.groupby([\"dataset\", \"loss_weights\"]).mean()[\"cnmi\"]"
   ]
  },
  {
   "cell_type": "code",
   "execution_count": null,
   "id": "4d7f8e82-bebc-4a3f-a55d-22103ba6c342",
   "metadata": {},
   "outputs": [],
   "source": [
    "summary_df.groupby([\"loss_weights\"]).mean()[\"gcs\"]"
   ]
  },
  {
   "cell_type": "code",
   "execution_count": null,
   "id": "3e822eee-474b-4c22-93a0-2b738c855c24",
   "metadata": {},
   "outputs": [],
   "source": [
    "plot_metrics_table(\n",
    "    df=unrolled_df,\n",
    "    ablation_col=ablation_col,\n",
    "    ablation_col_width=5,\n",
    "    group_col=dataset_col,\n",
    "    metric_cols=metric_cols,\n",
    "    metric_col_weights=metric_col_weights,\n",
    "    metric_col_width=0.7,\n",
    "    plot_width=18,\n",
    "    plot_height=15,\n",
    "    show=True,\n",
    "    save_dir=None,\n",
    "    save_name=\"ablation_results.svg\")"
   ]
  },
  {
   "cell_type": "code",
   "execution_count": null,
   "id": "95680d0e-b2c5-4cdb-9090-ffd33adeb590",
   "metadata": {},
   "outputs": [],
   "source": []
  },
  {
   "cell_type": "code",
   "execution_count": null,
   "id": "cee8265b-8f53-448a-a391-8a0e4d4ba740",
   "metadata": {},
   "outputs": [],
   "source": []
  },
  {
   "cell_type": "code",
   "execution_count": null,
   "id": "9606316b-66d7-4a33-9265-b2129d96c50f",
   "metadata": {},
   "outputs": [],
   "source": [
    "summary_df.sort_values(\"nasw\", ascending=False).head(60)"
   ]
  },
  {
   "cell_type": "code",
   "execution_count": null,
   "id": "469a9d4c-55c2-4c6d-bce6-fb4bad307e8e",
   "metadata": {},
   "outputs": [],
   "source": [
    "artifact_folder_path"
   ]
  },
  {
   "cell_type": "code",
   "execution_count": null,
   "id": "63cb930d-a92f-4dc8-a481-58264be030aa",
   "metadata": {},
   "outputs": [],
   "source": [
    "visualize_latent_embeddings(artifact_folder_path=artifact_folder_path,\n",
    "                            plot_label=\"test\",\n",
    "                            dataset=\"xenium_human_breast_cancer\",\n",
    "                            task=\"loss_weights_ablation\",\n",
    "                            timestamps=[\"01072023_101716_27\"],\n",
    "                            cat_key=\"cell_states\",\n",
    "                            sample_key=\"batch\",\n",
    "                            groups=None,\n",
    "                            spot_size=50.,\n",
    "                            save_fig=False)"
   ]
  },
  {
   "cell_type": "code",
   "execution_count": null,
   "id": "7750cf2f-2100-4a8e-ac17-d442c6e58734",
   "metadata": {},
   "outputs": [],
   "source": [
    "visualize_latent_embeddings(artifact_folder_path=artifact_folder_path,\n",
    "                            plot_label=\"test\",\n",
    "                            dataset=\"xenium_human_breast_cancer\",\n",
    "                            task=\"loss_weights_ablation\",\n",
    "                            timestamps=[\"30062023_143855_10\"],\n",
    "                            cat_key=\"cell_states\",\n",
    "                            sample_key=\"batch\",\n",
    "                            groups=None,\n",
    "                            spot_size=50.,\n",
    "                            save_fig=False)"
   ]
  },
  {
   "cell_type": "code",
   "execution_count": null,
   "id": "f9063517-68ad-4c40-9760-11674e4f0a60",
   "metadata": {},
   "outputs": [],
   "source": []
  },
  {
   "cell_type": "code",
   "execution_count": null,
   "id": "202ef656-53da-41ab-b854-a21e93bb0060",
   "metadata": {},
   "outputs": [],
   "source": [
    "# Remove runs with 0 lambda for both losses\n",
    "summary_df = summary_df[summary_df[\"loss_weights\"] != \"lambda_edge_recon_0.0_+_lambda_gene_expr_recon_0.0\"]"
   ]
  },
  {
   "cell_type": "code",
   "execution_count": null,
   "id": "75e80bb0-4639-408d-b4d6-e479f4243f96",
   "metadata": {},
   "outputs": [],
   "source": [
    "# GP mask plot\n",
    "plot_metrics(fig_title=\"Gene Program Mask Ablation\",\n",
    "             df=summary_df,\n",
    "             group_col=\"gp_mask\",\n",
    "             metric_cols=[\"val_auroc_score\", \"val_gene_expr_mse_score\", \"gcs\", \"nasw\", \"cnmi\", \"metrics_score\"],\n",
    "             save_fig=True,\n",
    "             figure_folder_path=figure_folder_path,\n",
    "             file_name=\"gp_mask_ablation_metrics.png\")"
   ]
  },
  {
   "cell_type": "code",
   "execution_count": null,
   "id": "8b26dbb1-0fd2-4c65-b9aa-50a25f17b20a",
   "metadata": {},
   "outputs": [],
   "source": [
    "summary_df[\"n_neighbors\"] = summary_df[\"n_neighbors\"].astype(str)"
   ]
  },
  {
   "cell_type": "code",
   "execution_count": null,
   "id": "25a52036-4d68-4ba5-8887-08e99ea3cab3",
   "metadata": {},
   "outputs": [],
   "source": [
    "# Number of neighbors plot\n",
    "plot_metrics(fig_title=\"Number of Neighbors Ablation\",\n",
    "             df=summary_df,\n",
    "             group_col=\"n_neighbors\",\n",
    "             metric_cols=[\"val_auroc_score\", \"val_gene_expr_mse_score\", \"gcs\", \"nasw\", \"cnmi\", \"metrics_score\"],\n",
    "             save_fig=True,\n",
    "             figure_folder_path=figure_folder_path,\n",
    "             file_name=\"n_neighbors_ablation_metrics.png\")"
   ]
  },
  {
   "cell_type": "code",
   "execution_count": null,
   "id": "d950b9e8-9421-4ed5-be32-57a52605c306",
   "metadata": {},
   "outputs": [],
   "source": [
    "# GP mask plot\n",
    "plot_metrics(fig_title=\"Gene Program Mask Ablation\",\n",
    "             df=summary_df,\n",
    "             group_col=\"n_neighbors\",\n",
    "             metric_cols=[\"val_auroc_score\", \"val_gene_expr_mse_score\"],\n",
    "             save_fig=False,\n",
    "             figure_folder_path=figure_folder_path,\n",
    "             file_name=\"gp_mask_ablation_metrics.png\")"
   ]
  },
  {
   "cell_type": "code",
   "execution_count": null,
   "id": "404c6a8c-27c1-4b92-af08-993b6f622cdb",
   "metadata": {},
   "outputs": [],
   "source": [
    "ablation_col = \"loss_weights\"\n",
    "dataset_col = \"dataset\"\n",
    "group_cols = [dataset_col] + [ablation_col]\n",
    "metric_cols = [\"cas\", \"mlami\", \"gcs\", \"cca\"]\n",
    "metric_cols_weights = [0.6, 0.6, 0.6, 0.4]\n",
    "metric_score_cols = [metric_col + \"_points\" for metric_col in metric_cols]\n",
    "\n",
    "# Compute ablation points\n",
    "points_df = compute_ablation_points(\n",
    "    df=test_df,\n",
    "    group_col=ablation_col,\n",
    "    metric_cols=metric_cols,\n",
    "    metric_cols_weights=metric_cols_weights,\n",
    "    sort_metric_col=\"total_score\")"
   ]
  },
  {
   "cell_type": "code",
   "execution_count": null,
   "id": "151d204b-a3a9-4547-9c12-038aedbf6289",
   "metadata": {},
   "outputs": [],
   "source": [
    "# Plot metrics\n",
    "for dataset in datasets:\n",
    "    dataset_df = points_df[points_df[\"dataset\"] == dataset]\n",
    "    plot_metrics(\n",
    "        fig_title=f\"Loss Weights Ablation: {dataset}\",\n",
    "        df=dataset_df,\n",
    "        group_col=\"loss_weights\",\n",
    "        metric_cols=metric_cols,\n",
    "        plot_ratio_active_gps=False,\n",
    "        save_fig=False,\n",
    "        file_name=\"ablation_metrics.png\")"
   ]
  },
  {
   "cell_type": "code",
   "execution_count": null,
   "id": "120a4f1b-3910-4076-9816-4b0b8a6215c1",
   "metadata": {},
   "outputs": [],
   "source": [
    "ablation_col = \"loss_weights\"\n",
    "dataset_col = \"dataset\"\n",
    "group_cols = [dataset_col] + [ablation_col]\n",
    "metric_cols = [\"cas\", \"mlami\", \"gcs\", \"cca\"]\n",
    "metric_cols_weights = [0.6, 0.6, 0.6, 0.4]\n",
    "metric_score_cols = [metric_col + \"_points\" for metric_col in metric_cols]"
   ]
  },
  {
   "cell_type": "code",
   "execution_count": null,
   "id": "f4f53ae8-d099-4088-9676-17ba19645f12",
   "metadata": {},
   "outputs": [],
   "source": [
    "# Unroll points df and compute means over group columns and score type\n",
    "unrolled_points_df = pd.melt(points_df, \n",
    "   id_vars=group_cols,\n",
    "   value_vars=metric_score_cols,\n",
    "   var_name=\"score_type\", \n",
    "   value_name=\"score\")\n",
    "\n",
    "# Compute metric means over all runs\n",
    "mean_points_df = unrolled_points_df.groupby(group_cols + [\"score_type\"]).mean()\n",
    "mean_points_df.reset_index(inplace=True)"
   ]
  },
  {
   "cell_type": "code",
   "execution_count": null,
   "id": "90cafb3a-f454-424f-ac65-ac2f84d88594",
   "metadata": {},
   "outputs": [],
   "source": [
    "mean_points_df"
   ]
  },
  {
   "cell_type": "code",
   "execution_count": null,
   "id": "5345c392-05aa-4668-9ff0-4a9ae97012e1",
   "metadata": {},
   "outputs": [],
   "source": [
    "plot_ablation_points(df=mean_points_df,\n",
    "                     ablation_col=ablation_col,\n",
    "                     ablation_col_width=7,\n",
    "                     group_col=dataset_col,\n",
    "                     metric_cols=metric_score_cols,\n",
    "                     show=True,\n",
    "                     save_dir=None,\n",
    "                     save_name=\"ablation_results.svg\")"
   ]
  },
  {
   "cell_type": "code",
   "execution_count": null,
   "id": "7e490c4f-12a0-421e-bbf3-78a4e0b4f9fd",
   "metadata": {},
   "outputs": [],
   "source": [
    "visualize_latent_embeddings(artifact_folder_path=artifact_folder_path,\n",
    "                            plot_label=\"test\",\n",
    "                            task=ablation_task + \"_ablation\",\n",
    "                            timestamps=timestamps,\n",
    "                            dataset=\"xenium_human_breast_cancer\",\n",
    "                            cat_key=\"cell_states\",\n",
    "                            sample_key=\"batch\",\n",
    "                            groups=None,\n",
    "                            spot_size=30.,\n",
    "                            save_fig=False)"
   ]
  },
  {
   "cell_type": "markdown",
   "id": "f6c536ea-044d-4e7f-ab21-07461a0a6e4f",
   "metadata": {},
   "source": [
    "### 2.2 Neighbor Sampling"
   ]
  },
  {
   "cell_type": "code",
   "execution_count": null,
   "id": "80c089da-1476-4acb-ab90-79aa1efc83b2",
   "metadata": {},
   "outputs": [],
   "source": [
    "ablation_task = \"neighbor_sampling\"\n",
    "cross_ablation_task = \"loss_weights\"\n",
    "datasets = [\"xenium_human_breast_cancer\", \"starmap_plus_mouse_cns\", \"vizgen_merfish_human_ovarian_cancer\"]\n",
    "cell_type_keys = [\"cell_states\", \"Main_molecular_cell_type\", \"cell_type\"]\n",
    "batch_keys = [None, None, None]\n",
    "experiment_ids = [9, 10, 11]\n",
    "\n",
    "ablation_folder_path = f\"{artifact_folder_path}/{ablation_task}_ablation\"\n",
    "os.makedirs(ablation_folder_path, exist_ok=True)"
   ]
  },
  {
   "cell_type": "code",
   "execution_count": null,
   "id": "5a7604d3-9b06-4db1-a7fe-7bcbb5f3f7cd",
   "metadata": {},
   "outputs": [],
   "source": [
    "# Retrieve metrics and params of ablation runs from mlflow and save to disk\n",
    "summary_df = pd.DataFrame()\n",
    "for dataset, experiment_id in zip(datasets, experiment_ids):\n",
    "    runs_info = mlflow.list_run_infos(experiment_id)\n",
    "    for run_info in runs_info:\n",
    "        run = mlflow.get_run(run_info.run_uuid)\n",
    "        if run.info.status == \"RUNNING\":\n",
    "            continue\n",
    "        run_dict = {\"dataset\": dataset}\n",
    "        run_dict[\"timestamp\"] = run.data.params[\"timestamp\"]\n",
    "        run_dict[\"val_auroc_score\"] = run.data.metrics.get(\"val_auroc_score\", np.nan)\n",
    "        run_dict[\"val_gene_expr_mse_score\"] = run.data.metrics.get(\"val_gene_expr_mse_score\", np.nan)\n",
    "        run_dict[\"n_neighbors\"] = run.data.params[\"n_neighbors\"]\n",
    "        run_dict[\"n_sampled_neighbors\"] = run.data.params[\"n_sampled_neighbors_\"]\n",
    "        run_df = pd.DataFrame(run_dict, index=[0])\n",
    "        summary_df = pd.concat([summary_df, run_df], ignore_index=True)\n",
    "\n",
    "for dataset in datasets:\n",
    "    summary_df[summary_df[\"dataset\"] == dataset].to_csv(f\"{ablation_folder_path}/mlflow_summary_{ablation_task}_ablation_{dataset}.csv\", index=False)"
   ]
  },
  {
   "cell_type": "code",
   "execution_count": null,
   "id": "38f2f44a-4cca-4675-abd3-21f6631ddd91",
   "metadata": {},
   "outputs": [],
   "source": [
    "# Load metrics and params of ablation runs from disk\n",
    "summary_df = pd.DataFrame()\n",
    "for dataset in datasets:\n",
    "    dataset_df = pd.read_csv(f\"{ablation_folder_path}/mlflow_summary_{ablation_task}_ablation_{dataset}.csv\")\n",
    "    summary_df = pd.concat([summary_df, dataset_df], ignore_index=True)\n",
    "\n",
    "summary2_df = pd.DataFrame()\n",
    "for dataset in datasets:\n",
    "    dataset_df = pd.read_csv(f\"{ablation_folder_path.replace(ablation_task, cross_ablation_task)}/mlflow_summary_{cross_ablation_task}_ablation_{dataset}.csv\", index_col=0)\n",
    "    summary2_df = pd.concat([summary2_df, dataset_df], ignore_index=True)"
   ]
  },
  {
   "cell_type": "code",
   "execution_count": null,
   "id": "b321eac7-670f-4769-90ef-2109efa96375",
   "metadata": {},
   "outputs": [],
   "source": [
    "# Only keep relevant runs and params from previous ablation\n",
    "summary2_df = summary2_df[(summary2_df[\"lambda_edge_recon_\"] == 500000.0) &\n",
    "           (summary2_df[\"lambda_gene_expr_recon_\"] == 300.0) &\n",
    "           (summary2_df[\"nichenet_keep_target_genes_ratio\"] == 0.01)][\n",
    "    [\"dataset\", \"timestamp\", \"val_auroc_score\", \"val_gene_expr_mse_score\", \"n_neighbors\"]]\n",
    "\n",
    "summary2_df[\"n_sampled_neighbors\"] = -1 # No neighbor sampling"
   ]
  },
  {
   "cell_type": "code",
   "execution_count": null,
   "id": "8375634f-e17d-4a5e-8711-59b9cb1373e5",
   "metadata": {},
   "outputs": [],
   "source": [
    "summary_df_filtered = summary_df[(summary_df[\"n_neighbors\"].isin([4, 8, 12, 16])) & (summary_df[\"n_sampled_neighbors\"] == 4)]\n",
    "summary_df = pd.concat([summary_df_filtered, summary2_df], ignore_index=True)\n",
    "summary_df[\"n_sampled_neighbors\"] = summary_df[\"n_sampled_neighbors\"].astype(str)"
   ]
  },
  {
   "cell_type": "code",
   "execution_count": null,
   "id": "9c2413f3-86fc-4846-9bb7-07fde7ad2dd0",
   "metadata": {},
   "outputs": [],
   "source": [
    "summary_df.to_csv(f\"{ablation_folder_path}/mlflow_summary_{ablation_task}_ablation_processed.csv\", index=False)"
   ]
  },
  {
   "cell_type": "code",
   "execution_count": null,
   "id": "df9cc3bb-4b64-4464-927a-2016daa3d5f3",
   "metadata": {},
   "outputs": [],
   "source": [
    "summary_df"
   ]
  },
  {
   "cell_type": "code",
   "execution_count": null,
   "id": "f1ed6312-60ae-48d6-bf3a-5ce1ea83dab3",
   "metadata": {},
   "outputs": [],
   "source": [
    "# Neighbor sampling comparison vs without plot\n",
    "plot_metrics(fig_title=\"Neighbor Sampling Ablation\",\n",
    "             df=summary_df,\n",
    "             group_col=\"n_sampled_neighbors\",\n",
    "             metric_cols=[\"val_auroc_score\", \"val_gene_expr_mse_score\"],\n",
    "             save_fig=True,\n",
    "             figure_folder_path=figure_folder_path,\n",
    "             file_name=\"neighbor_sampling_ablation_metrics.png\")"
   ]
  },
  {
   "cell_type": "markdown",
   "id": "7c7c1a59-bf6a-4172-ad6f-b29950c38992",
   "metadata": {},
   "source": [
    "### 2.3 Encoder Architecture"
   ]
  },
  {
   "cell_type": "code",
   "execution_count": null,
   "id": "e26f45db-d9c6-4784-b963-8c8c28128359",
   "metadata": {},
   "outputs": [],
   "source": [
    "ablation_task = \"encoder_architecture\"\n",
    "cross_ablation_task = \"loss_weights\"\n",
    "datasets = [\"xenium_human_breast_cancer\"]\n",
    "cell_type_keys = [\"cell_states\"]\n",
    "batch_keys = [None]\n",
    "experiment_ids = [7]\n",
    "\n",
    "ablation_folder_path = f\"{artifact_folder_path}/{ablation_task}_ablation\"\n",
    "os.makedirs(ablation_folder_path, exist_ok=True)"
   ]
  },
  {
   "cell_type": "code",
   "execution_count": null,
   "id": "8bc590b1-9f1a-465b-9d7c-4a91ff2e2b3e",
   "metadata": {},
   "outputs": [],
   "source": [
    "# Retrieve metrics and params of ablation runs from mlflow and save to disk\n",
    "summary_df = pd.DataFrame()\n",
    "for dataset, experiment_id in zip(datasets, experiment_ids):\n",
    "    runs_info = mlflow.list_run_infos(experiment_id)\n",
    "    for run_info in runs_info:\n",
    "        run = mlflow.get_run(run_info.run_uuid)\n",
    "        if run.info.status == \"RUNNING\":\n",
    "            continue\n",
    "        run_dict = {\"dataset\": dataset}\n",
    "        run_dict[\"timestamp\"] = run.data.params[\"timestamp\"]\n",
    "        run_dict[\"val_auroc_score\"] = run.data.metrics.get(\"val_auroc_score\", np.nan)\n",
    "        run_dict[\"val_gene_expr_mse_score\"] = run.data.metrics.get(\"val_gene_expr_mse_score\", np.nan)\n",
    "        run_dict[\"n_neighbors\"] = run.data.params[\"n_neighbors\"]\n",
    "        run_dict[\"n_layers_encoder\"] = run.data.params[\"n_layers_encoder_\"]\n",
    "        run_dict[\"conv_layer_encoder\"] = run.data.params[\"conv_layer_encoder_\"]\n",
    "        run_df = pd.DataFrame(run_dict, index=[0])\n",
    "        summary_df = pd.concat([summary_df, run_df], ignore_index=True)\n",
    "\n",
    "for dataset in datasets:\n",
    "    summary_df[summary_df[\"dataset\"] == dataset].to_csv(f\"{ablation_folder_path}/mlflow_summary_{ablation_task}_ablation_{dataset}.csv\")"
   ]
  },
  {
   "cell_type": "code",
   "execution_count": null,
   "id": "cc8b7549-c95c-42a2-b50b-69ab51b4bd97",
   "metadata": {},
   "outputs": [],
   "source": [
    "summary_df = summary_df[summary_df[\"n_neighbors\"].isin([\"4\", \"8\"])]"
   ]
  },
  {
   "cell_type": "code",
   "execution_count": null,
   "id": "538c9271-ee91-4887-a356-8a0c5d169a8b",
   "metadata": {},
   "outputs": [],
   "source": [
    "# GATv2 vs GCN plot\n",
    "plot_metrics(fig_title=\"Encoder Layer Type Ablation\",\n",
    "             df=summary_df,\n",
    "             group_col=\"conv_layer_encoder\",\n",
    "             metric_cols=[\"val_auroc_score\", \"val_gene_expr_mse_score\"],\n",
    "             save_fig=True,\n",
    "             figure_folder_path=figure_folder_path,\n",
    "             file_name=\"encoder_layer_type_ablation_metrics.png\")"
   ]
  },
  {
   "cell_type": "markdown",
   "id": "28667a02-f3ff-446c-bd1e-f1f07b57e6cd",
   "metadata": {},
   "source": [
    "#### 2.1.2 Categorical Covariates Contrastive Loss"
   ]
  },
  {
   "cell_type": "code",
   "execution_count": null,
   "id": "621b1eae-7f33-42b6-8e13-b0f51ac8a322",
   "metadata": {},
   "outputs": [],
   "source": []
  },
  {
   "cell_type": "code",
   "execution_count": null,
   "id": "1dbae5b7-ddd1-4f3b-a17b-ddde7348f3ac",
   "metadata": {},
   "outputs": [],
   "source": []
  },
  {
   "cell_type": "markdown",
   "id": "479f5902-db7e-49cc-8058-960416f9c5ea",
   "metadata": {},
   "source": [
    "### 2.5 Spatial Neighborhood Graph"
   ]
  },
  {
   "cell_type": "code",
   "execution_count": null,
   "id": "838f8fdd-f959-414e-a88c-0d2e72c01c55",
   "metadata": {},
   "outputs": [],
   "source": [
    "visualize_niches(artifact_folder_path=artifact_folder_path,\n",
    "                 dataset=dataset,\n",
    "                 task=ablation_task + \"_ablation\",\n",
    "                 timestamps=timestamps,\n",
    "                 sample_key=\"batch\",\n",
    "                 latent_key=latent_key,\n",
    "                 latent_leiden_resolution=0.2,\n",
    "                 latent_cluster_key=\"nichecompass_latent_clusters\",\n",
    "                 spot_size=30.)"
   ]
  },
  {
   "cell_type": "markdown",
   "id": "9f999afd-a31d-4672-bf5d-04b0eadd3954",
   "metadata": {},
   "source": [
    "### 2.5 Gene Program Mask"
   ]
  },
  {
   "cell_type": "code",
   "execution_count": null,
   "id": "ed9c86a2-809c-49d6-8149-c40664d1e992",
   "metadata": {},
   "outputs": [],
   "source": []
  },
  {
   "cell_type": "code",
   "execution_count": null,
   "id": "346d66a2-0bc7-41d1-a842-8800d8d70f66",
   "metadata": {},
   "outputs": [],
   "source": [
    "\"\"\"\n",
    "# Log additional mlflow param\n",
    "run_ids = []\n",
    "runs_info = mlflow.list_run_infos(3)\n",
    "for run_info in runs_info:\n",
    "    run = mlflow.get_run(run_info.run_uuid)\n",
    "    if \"add_fc_gps_instead_of_gp_dict_gps\" not in run.data.params:\n",
    "        run_ids.append(run_info.run_uuid)\n",
    "        \n",
    "for run_id in run_ids:\n",
    "    with mlflow.start_run(run_id=run_id) as run:\n",
    "        mlflow.log_param(\"add_fc_gps_instead_of_gp_dict_gps\", True)\n",
    "\"\"\""
   ]
  },
  {
   "cell_type": "code",
   "execution_count": null,
   "id": "54eb43f5-c498-4451-b596-4c658b6b21f9",
   "metadata": {},
   "outputs": [],
   "source": []
  }
 ],
 "metadata": {
  "kernelspec": {
   "display_name": "Python 3 (ipykernel)",
   "language": "python",
   "name": "python3"
  },
  "language_info": {
   "codemirror_mode": {
    "name": "ipython",
    "version": 3
   },
   "file_extension": ".py",
   "mimetype": "text/x-python",
   "name": "python",
   "nbconvert_exporter": "python",
   "pygments_lexer": "ipython3",
   "version": "3.9.16"
  }
 },
 "nbformat": 4,
 "nbformat_minor": 5
}
