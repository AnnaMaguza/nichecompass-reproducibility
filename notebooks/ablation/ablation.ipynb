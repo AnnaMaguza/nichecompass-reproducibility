{
 "cells": [
  {
   "cell_type": "markdown",
   "id": "364a9ebc-3e3c-4645-9049-a34bd084c8a8",
   "metadata": {},
   "source": [
    "# Ablation"
   ]
  },
  {
   "cell_type": "markdown",
   "id": "b0c55227-147e-417f-b0dd-bb0b7f322930",
   "metadata": {},
   "source": [
    "- **Creator**: Sebastian Birk (<sebastian.birk@helmholtz-munich.de>).\n",
    "- **Affiliation:** Helmholtz Munich, Institute of Computational Biology (ICB), Talavera-López Lab\n",
    "- **Date of Creation:** 06.01.2023\n",
    "- **Date of Last Modification:** 10.07.2023"
   ]
  },
  {
   "cell_type": "markdown",
   "id": "7529cde5-be12-403b-a94c-07561774b86c",
   "metadata": {},
   "source": [
    "## 1. Setup"
   ]
  },
  {
   "cell_type": "markdown",
   "id": "faad87bd-fef5-4429-a175-d714c491ae76",
   "metadata": {},
   "source": [
    "### 1.1 Import Libraries"
   ]
  },
  {
   "cell_type": "code",
   "execution_count": 2,
   "id": "d9533f18-f082-4dcc-8e93-117b9759133e",
   "metadata": {},
   "outputs": [],
   "source": [
    "%load_ext autoreload\n",
    "%autoreload 2"
   ]
  },
  {
   "cell_type": "code",
   "execution_count": 3,
   "id": "f1e0bf12-90ee-403e-8970-0d1ac2f47540",
   "metadata": {},
   "outputs": [],
   "source": [
    "import sys\n",
    "sys.path.append(\"../../utils\")"
   ]
  },
  {
   "cell_type": "code",
   "execution_count": null,
   "id": "d7f93960-c759-424f-8cb2-1d8698acae2c",
   "metadata": {},
   "outputs": [],
   "source": [
    "import os\n",
    "import warnings\n",
    "from datetime import datetime\n",
    "\n",
    "import mlflow\n",
    "import numpy as np\n",
    "import pandas as pd\n",
    "import pickle\n",
    "import plottable\n",
    "\n",
    "from nichecompass.benchmarking import compute_benchmarking_metrics\n",
    "from nichecompass.models import NicheCompass\n",
    "from nichecompass.utils import (add_gps_from_gp_dict_to_adata,\n",
    "                                create_new_color_dict,\n",
    "                                extract_gp_dict_from_mebocost_es_interactions,\n",
    "                                extract_gp_dict_from_nichenet_lrt_interactions,\n",
    "                                extract_gp_dict_from_omnipath_lr_interactions,\n",
    "                                filter_and_combine_gp_dict_gps)\n",
    "\n",
    "import scanpy as sc\n",
    "\n",
    "from ablation_utils import *"
   ]
  },
  {
   "cell_type": "markdown",
   "id": "39b5efa5-2052-4986-8ae5-89cfab018515",
   "metadata": {},
   "source": [
    "### 1.2 Define Parameters"
   ]
  },
  {
   "cell_type": "code",
   "execution_count": null,
   "id": "e5c8b48a-ed5e-48b5-8c5c-c1de11493aee",
   "metadata": {},
   "outputs": [],
   "source": [
    "latent_key = \"nichecompass_latent\"\n",
    "spatial_key = \"spatial\"\n",
    "latent_knng_key = \"nichecompass_latent_knng\"\n",
    "spatial_knng_key = \"spatial_knng\"\n",
    "gp_names_key = \"nichecompass_gp_names\""
   ]
  },
  {
   "cell_type": "markdown",
   "id": "28adc110-0f41-4a71-9838-dc7f0687809a",
   "metadata": {},
   "source": [
    "### 1.4 Run Notebook Setup"
   ]
  },
  {
   "cell_type": "code",
   "execution_count": null,
   "id": "334b87ca-3387-4ba9-8567-84bc4754ff0c",
   "metadata": {},
   "outputs": [],
   "source": [
    "sc.set_figure_params(figsize=(6, 6))"
   ]
  },
  {
   "cell_type": "code",
   "execution_count": null,
   "id": "3944b0c4-023b-4fcb-9b61-9293f08939b2",
   "metadata": {},
   "outputs": [],
   "source": [
    "# Ignore future warnings and user warnings\n",
    "warnings.simplefilter(action=\"ignore\", category=FutureWarning)\n",
    "warnings.simplefilter(action=\"ignore\", category=UserWarning)\n",
    "warnings.simplefilter(action=\"ignore\", category=DeprecationWarning)"
   ]
  },
  {
   "cell_type": "code",
   "execution_count": null,
   "id": "0ab6b302-1c0b-4937-8624-40629ada2e46",
   "metadata": {},
   "outputs": [],
   "source": [
    "# Get time of notebook execution for timestamping saved artifacts\n",
    "now = datetime.now()\n",
    "current_timestamp = now.strftime(\"%d%m%Y_%H%M%S\")"
   ]
  },
  {
   "cell_type": "code",
   "execution_count": null,
   "id": "8d5dcfd0-3d3b-4641-aec0-55c46b64636e",
   "metadata": {},
   "outputs": [],
   "source": [
    "# Set mlflow tracking server (run it on the defined port)\n",
    "mlflow.set_tracking_uri(\"http://localhost:8999\")"
   ]
  },
  {
   "cell_type": "markdown",
   "id": "85538952-006b-4b0b-a50c-fe7445ce22e2",
   "metadata": {},
   "source": [
    "### 1.5 Configure Paths and Directories"
   ]
  },
  {
   "cell_type": "code",
   "execution_count": null,
   "id": "7ddcc49c-ba22-4155-acd5-05b5b810e091",
   "metadata": {},
   "outputs": [],
   "source": [
    "artifact_folder_path = f\"../../artifacts\"\n",
    "miscellaneous_folder_path = f\"{artifact_folder_path}/miscellaneous\"\n",
    "figure_folder_path = f\"{miscellaneous_folder_path}/ablation\""
   ]
  },
  {
   "cell_type": "markdown",
   "id": "5e1f3798-2b4a-49ed-892c-a85d167d8ff1",
   "metadata": {},
   "source": [
    "## 2. Ablation"
   ]
  },
  {
   "cell_type": "markdown",
   "id": "8884ac28-0cdf-4b37-9281-4a86dd194ef5",
   "metadata": {},
   "source": [
    "### 2.1 Loss Weights (Edge Reconstruction, Gene Expression Reconstruction, KL Divergence) & Gene Program Mask"
   ]
  },
  {
   "cell_type": "markdown",
   "id": "336e7c13-1408-4020-a348-57553cda48c9",
   "metadata": {},
   "source": [
    "- Different combinations of the edge reconstruction loss and gene expression reconstruction loss weighting hyperparameters are tested.\n",
    "- Three datasets are used (batch1 of Xenium Human Breast Cancer, batch1 of STARmap PLUS Mouse CNS, batch2 of Vizgen MERFISH Human Ovarian Cancer).\n",
    "- Number of neighbors of the spatial neighborhood graph is varied between ```4```, ```8```, ```12```, and ```16```.\n",
    "- For each dataset and 'n_neighbors', one run is performed with a fully connected gene program mask, one with an unfiltered NicheCompass default GP mask (nichenet_keep_target_genes_ratio=1.0), one with a weakly filtered NicheCompass default GP mask (nichenet_keep_target_genes_ratio=0.1), and one with a strongly filtered NicheCompass default GP mask (nichenet_keep_target_genes_ratio=0.01).\n",
    "- This results in a total of 48 runs per loss weight combination."
   ]
  },
  {
   "cell_type": "code",
   "execution_count": null,
   "id": "3b10d503-b972-4d74-b902-7781ae95160c",
   "metadata": {},
   "outputs": [],
   "source": [
    "ablation_task = \"loss_weights\"\n",
    "datasets = [\"xenium_human_breast_cancer\", \"starmap_plus_mouse_cns\", \"vizgen_merfish_human_ovarian_cancer\"]\n",
    "cell_type_keys = [\"cell_states\", \"Main_molecular_cell_type\", \"cell_type\"]\n",
    "batch_keys = [None, None, None]\n",
    "experiment_ids = [3, 4, 5]"
   ]
  },
  {
   "cell_type": "code",
   "execution_count": null,
   "id": "12100bd5-c63f-41f9-9742-e74a55f240c9",
   "metadata": {},
   "outputs": [],
   "source": [
    "ablation_folder_path = f\"{artifact_folder_path}/{ablation_task}_ablation\""
   ]
  },
  {
   "cell_type": "code",
   "execution_count": null,
   "id": "c7b24e36-0478-42f6-980a-90365ad968fc",
   "metadata": {
    "tags": []
   },
   "outputs": [],
   "source": [
    "# Retrieve metrics and params of ablation runs from mlflow and store in summary df\n",
    "summary_df = pd.DataFrame()\n",
    "for dataset, experiment_id in zip(datasets, experiment_ids):\n",
    "    runs_info = mlflow.list_run_infos(experiment_id)\n",
    "    for run_info in runs_info:\n",
    "        run = mlflow.get_run(run_info.run_uuid)\n",
    "        if run.info.status == \"RUNNING\":\n",
    "            continue\n",
    "        run_dict = {\"dataset\": dataset}\n",
    "        run_dict[\"timestamp\"] = run.data.params[\"timestamp\"]\n",
    "        run_dict[\"val_auroc_score\"] = run.data.metrics.get(\"val_auroc_score\", np.nan)\n",
    "        run_dict[\"val_gene_expr_mse_score\"] = run.data.metrics.get(\"val_gene_expr_mse_score\", np.nan)\n",
    "        run_dict[\"lambda_edge_recon_\"] = run.data.params[\"lambda_edge_recon_\"]\n",
    "        run_dict[\"lambda_gene_expr_recon_\"] = run.data.params[\"lambda_gene_expr_recon_\"]\n",
    "        run_dict[\"n_neighbors\"] = run.data.params[\"n_neighbors\"]\n",
    "        run_dict[\"nichenet_keep_target_genes_ratio\"] = run.data.params[\"nichenet_keep_target_genes_ratio\"]\n",
    "        run_dict[\"add_fc_gps_instead_of_gp_dict_gps\"] = run.data.params[\"add_fc_gps_instead_of_gp_dict_gps\"]\n",
    "        run_df = pd.DataFrame(run_dict, index=[0])\n",
    "        summary_df = pd.concat([summary_df, run_df], ignore_index=True)\n",
    "summary_df[\"loss_weights\"] = summary_df.apply(lambda row: get_loss_weights(row), axis=1)\n",
    "summary_df[\"gp_mask\"] = summary_df.apply(lambda row: get_gp_mask(row), axis=1)\n",
    "\n",
    "for dataset in datasets:\n",
    "    summary_df[summary_df[\"dataset\"] == dataset].to_csv(f\"{miscellaneous_folder_path}/mlflow_summary_{ablation_task}_ablation_{dataset}.csv\")"
   ]
  },
  {
   "cell_type": "code",
   "execution_count": null,
   "id": "19afbf8d-dd99-4645-824f-4302329041ba",
   "metadata": {},
   "outputs": [],
   "source": [
    "summary_df = pd.DataFrame()\n",
    "for dataset in datasets:\n",
    "    dataset_df = pd.read_csv(f\"{miscellaneous_folder_path}/mlflow_summary_{ablation_task}_ablation_{dataset}.csv\", index_col=0)\n",
    "    summary_df = pd.concat([summary_df, dataset_df], ignore_index=True)"
   ]
  },
  {
   "cell_type": "code",
   "execution_count": null,
   "id": "b3a2c8b8-3676-4c33-8c1c-03d7b0547508",
   "metadata": {},
   "outputs": [],
   "source": [
    "j = 0\n",
    "for i in np.arange(20, 460, 20):\n",
    "    temp_df = summary_df[j:i]\n",
    "    temp_df.to_csv(f\"{ablation_folder_path}/mlflow_summary_{ablation_task}_ablation_{i}.csv\")\n",
    "    j = i"
   ]
  },
  {
   "cell_type": "code",
   "execution_count": null,
   "id": "f9670e24-a8de-4c48-af94-351556839688",
   "metadata": {},
   "outputs": [],
   "source": []
  },
  {
   "cell_type": "code",
   "execution_count": null,
   "id": "78b02c75-346d-4d10-a72b-34f3c7b8b7d7",
   "metadata": {},
   "outputs": [],
   "source": [
    "# Loss weights plot\n",
    "plot_metrics(fig_title=\"Loss Weights Ablation\",\n",
    "             df=summary_df,\n",
    "             group_col=\"loss_weights\",\n",
    "             metric_cols=[\"val_auroc_score\", \"val_gene_expr_mse_score\"],\n",
    "             save_fig=True,\n",
    "             figure_folder_path=figure_folder_path,\n",
    "             file_name=\"loss_weights_ablation_metrics.png\")"
   ]
  },
  {
   "cell_type": "code",
   "execution_count": null,
   "id": "75e80bb0-4639-408d-b4d6-e479f4243f96",
   "metadata": {},
   "outputs": [],
   "source": [
    "# GP mask plot\n",
    "plot_metrics(fig_title=\"Gene Program Mask Ablation\",\n",
    "             df=summary_df,\n",
    "             group_col=\"gp_mask\",\n",
    "             metric_cols=[\"val_auroc_score\", \"val_gene_expr_mse_score\"],\n",
    "             save_fig=True,\n",
    "             figure_folder_path=figure_folder_path,\n",
    "             file_name=\"gp_mask_ablation_metrics.png\")"
   ]
  },
  {
   "cell_type": "code",
   "execution_count": null,
   "id": "25a52036-4d68-4ba5-8887-08e99ea3cab3",
   "metadata": {},
   "outputs": [],
   "source": [
    "summary_df[\"n_neighbors\"] = summary_df[\"n_neighbors\"].astype(str)"
   ]
  },
  {
   "cell_type": "code",
   "execution_count": null,
   "id": "d950b9e8-9421-4ed5-be32-57a52605c306",
   "metadata": {},
   "outputs": [],
   "source": [
    "# GP mask plot\n",
    "plot_metrics(fig_title=\"Gene Program Mask Ablation\",\n",
    "             df=summary_df,\n",
    "             group_col=\"n_neighbors\",\n",
    "             metric_cols=[\"val_auroc_score\", \"val_gene_expr_mse_score\"],\n",
    "             save_fig=False,\n",
    "             figure_folder_path=figure_folder_path,\n",
    "             file_name=\"gp_mask_ablation_metrics.png\")"
   ]
  },
  {
   "cell_type": "code",
   "execution_count": null,
   "id": "3d9ed849-ad54-4a3c-98b8-4e51edcb6f7e",
   "metadata": {},
   "outputs": [],
   "source": [
    "# Compute metrics and add to summary df\n",
    "metrics_df = pd.DataFrame()\n",
    "for i, dataset in enumerate(datasets):\n",
    "    # Get timestamps of ablation runs for specific dataset\n",
    "    timestamps = summary_df[(summary_df[\"dataset\"] == dataset) & (summary_df[\"val_auroc_score\"].notnull())][\"timestamp\"].tolist()\n",
    "    \n",
    "    # Compute metrics for ablation runs models\n",
    "    current_iteration_metrics_df = compute_metrics(\n",
    "        artifact_folder_path=artifact_folder_path,\n",
    "        dataset=dataset,\n",
    "        task=ablation_task + \"_ablation\",\n",
    "        timestamps=timestamps,\n",
    "        cell_type_key=cell_type_keys[i],\n",
    "        batch_key=batch_keys[i],\n",
    "        spatial_key=spatial_key,\n",
    "        latent_key=latent_key)\n",
    "    metrics_df = pd.concat([metrics_df, current_iteration_metrics_df], axis=0)\n",
    "summary_df = pd.merge(summary_df, metrics_df, on=[\"dataset\", \"timestamp\"], how=\"left\")"
   ]
  },
  {
   "cell_type": "code",
   "execution_count": null,
   "id": "aa4a6e77-742d-421e-bfb2-713fc9e05a74",
   "metadata": {},
   "outputs": [],
   "source": [
    "test_df = summary_df.dropna()"
   ]
  },
  {
   "cell_type": "code",
   "execution_count": null,
   "id": "f5617a69-12d3-4336-827c-465b24fb046d",
   "metadata": {},
   "outputs": [],
   "source": [
    "test_df"
   ]
  },
  {
   "cell_type": "code",
   "execution_count": null,
   "id": "404c6a8c-27c1-4b92-af08-993b6f622cdb",
   "metadata": {},
   "outputs": [],
   "source": [
    "ablation_col = \"loss_weights\"\n",
    "dataset_col = \"dataset\"\n",
    "group_cols = [dataset_col] + [ablation_col]\n",
    "metric_cols = [\"cas\", \"mlami\", \"gcs\", \"cca\"]\n",
    "metric_cols_weights = [0.6, 0.6, 0.6, 0.4]\n",
    "metric_score_cols = [metric_col + \"_points\" for metric_col in metric_cols]\n",
    "\n",
    "# Compute ablation points\n",
    "points_df = compute_ablation_points(\n",
    "    df=test_df,\n",
    "    group_col=ablation_col,\n",
    "    metric_cols=metric_cols,\n",
    "    metric_cols_weights=metric_cols_weights,\n",
    "    sort_metric_col=\"total_score\")"
   ]
  },
  {
   "cell_type": "code",
   "execution_count": null,
   "id": "151d204b-a3a9-4547-9c12-038aedbf6289",
   "metadata": {},
   "outputs": [],
   "source": [
    "# Plot metrics\n",
    "for dataset in datasets:\n",
    "    dataset_df = points_df[points_df[\"dataset\"] == dataset]\n",
    "    plot_metrics(\n",
    "        fig_title=f\"Loss Weights Ablation: {dataset}\",\n",
    "        df=dataset_df,\n",
    "        group_col=\"loss_weights\",\n",
    "        metric_cols=metric_cols,\n",
    "        plot_ratio_active_gps=False,\n",
    "        save_fig=False,\n",
    "        file_name=\"ablation_metrics.png\")"
   ]
  },
  {
   "cell_type": "code",
   "execution_count": null,
   "id": "120a4f1b-3910-4076-9816-4b0b8a6215c1",
   "metadata": {},
   "outputs": [],
   "source": [
    "ablation_col = \"loss_weights\"\n",
    "dataset_col = \"dataset\"\n",
    "group_cols = [dataset_col] + [ablation_col]\n",
    "metric_cols = [\"cas\", \"mlami\", \"gcs\", \"cca\"]\n",
    "metric_cols_weights = [0.6, 0.6, 0.6, 0.4]\n",
    "metric_score_cols = [metric_col + \"_points\" for metric_col in metric_cols]"
   ]
  },
  {
   "cell_type": "code",
   "execution_count": null,
   "id": "f4f53ae8-d099-4088-9676-17ba19645f12",
   "metadata": {},
   "outputs": [],
   "source": [
    "# Unroll points df and compute means over group columns and score type\n",
    "unrolled_points_df = pd.melt(points_df, \n",
    "   id_vars=group_cols,\n",
    "   value_vars=metric_score_cols,\n",
    "   var_name=\"score_type\", \n",
    "   value_name=\"score\")\n",
    "\n",
    "# Compute metric means over all runs\n",
    "mean_points_df = unrolled_points_df.groupby(group_cols + [\"score_type\"]).mean()\n",
    "mean_points_df.reset_index(inplace=True)"
   ]
  },
  {
   "cell_type": "code",
   "execution_count": null,
   "id": "529305dd-7d02-4f5b-a507-75b434b844be",
   "metadata": {},
   "outputs": [],
   "source": [
    "mean_points_df"
   ]
  },
  {
   "cell_type": "code",
   "execution_count": null,
   "id": "cc526a5c-9b18-440a-9c5f-b234df85b17f",
   "metadata": {},
   "outputs": [],
   "source": [
    "group_cols + [\"score_type\"]"
   ]
  },
  {
   "cell_type": "code",
   "execution_count": null,
   "id": "1587d019-b046-48f0-901a-b30518005a7d",
   "metadata": {},
   "outputs": [],
   "source": [
    "group_cols"
   ]
  },
  {
   "cell_type": "code",
   "execution_count": null,
   "id": "90cafb3a-f454-424f-ac65-ac2f84d88594",
   "metadata": {},
   "outputs": [],
   "source": [
    "mean_points_df"
   ]
  },
  {
   "cell_type": "code",
   "execution_count": null,
   "id": "5345c392-05aa-4668-9ff0-4a9ae97012e1",
   "metadata": {},
   "outputs": [],
   "source": [
    "plot_ablation_points(df=mean_points_df,\n",
    "                     ablation_col=ablation_col,\n",
    "                     ablation_col_width=7,\n",
    "                     group_col=dataset_col,\n",
    "                     metric_cols=metric_score_cols,\n",
    "                     show=True,\n",
    "                     save_dir=None,\n",
    "                     save_name=\"ablation_results.svg\")"
   ]
  },
  {
   "cell_type": "code",
   "execution_count": null,
   "id": "7e490c4f-12a0-421e-bbf3-78a4e0b4f9fd",
   "metadata": {},
   "outputs": [],
   "source": [
    "visualize_latent_embeddings(artifact_folder_path=artifact_folder_path,\n",
    "                            plot_label=\"test\",\n",
    "                            task=ablation_task + \"_ablation\",\n",
    "                            timestamps=timestamps,\n",
    "                            dataset=\"xenium_human_breast_cancer\",\n",
    "                            cat_key=\"cell_states\",\n",
    "                            sample_key=\"batch\",\n",
    "                            groups=None,\n",
    "                            spot_size=30.,\n",
    "                            save_fig=False)"
   ]
  },
  {
   "cell_type": "markdown",
   "id": "7c7c1a59-bf6a-4172-ad6f-b29950c38992",
   "metadata": {},
   "source": [
    "### 2.2 Encoder Architecture (GCN vs GATv2)"
   ]
  },
  {
   "cell_type": "markdown",
   "id": "28667a02-f3ff-446c-bd1e-f1f07b57e6cd",
   "metadata": {},
   "source": [
    "#### 2.1.2 Categorical Covariates Contrastive Loss"
   ]
  },
  {
   "cell_type": "code",
   "execution_count": null,
   "id": "621b1eae-7f33-42b6-8e13-b0f51ac8a322",
   "metadata": {},
   "outputs": [],
   "source": []
  },
  {
   "cell_type": "code",
   "execution_count": null,
   "id": "1dbae5b7-ddd1-4f3b-a17b-ddde7348f3ac",
   "metadata": {},
   "outputs": [],
   "source": []
  },
  {
   "cell_type": "markdown",
   "id": "479f5902-db7e-49cc-8058-960416f9c5ea",
   "metadata": {},
   "source": [
    "### 2.5 Spatial Neighborhood Graph"
   ]
  },
  {
   "cell_type": "code",
   "execution_count": null,
   "id": "838f8fdd-f959-414e-a88c-0d2e72c01c55",
   "metadata": {},
   "outputs": [],
   "source": [
    "visualize_niches(artifact_folder_path=artifact_folder_path,\n",
    "                 dataset=dataset,\n",
    "                 task=ablation_task + \"_ablation\",\n",
    "                 timestamps=timestamps,\n",
    "                 sample_key=\"batch\",\n",
    "                 latent_key=latent_key,\n",
    "                 latent_leiden_resolution=0.2,\n",
    "                 latent_cluster_key=\"nichecompass_latent_clusters\",\n",
    "                 spot_size=30.)"
   ]
  },
  {
   "cell_type": "markdown",
   "id": "9f999afd-a31d-4672-bf5d-04b0eadd3954",
   "metadata": {},
   "source": [
    "### 2.5 Gene Program Mask"
   ]
  },
  {
   "cell_type": "code",
   "execution_count": null,
   "id": "ed9c86a2-809c-49d6-8149-c40664d1e992",
   "metadata": {},
   "outputs": [],
   "source": []
  },
  {
   "cell_type": "code",
   "execution_count": null,
   "id": "346d66a2-0bc7-41d1-a842-8800d8d70f66",
   "metadata": {},
   "outputs": [],
   "source": [
    "\"\"\"\n",
    "# Log additional mlflow param\n",
    "run_ids = []\n",
    "runs_info = mlflow.list_run_infos(3)\n",
    "for run_info in runs_info:\n",
    "    run = mlflow.get_run(run_info.run_uuid)\n",
    "    if \"add_fc_gps_instead_of_gp_dict_gps\" not in run.data.params:\n",
    "        run_ids.append(run_info.run_uuid)\n",
    "        \n",
    "for run_id in run_ids:\n",
    "    with mlflow.start_run(run_id=run_id) as run:\n",
    "        mlflow.log_param(\"add_fc_gps_instead_of_gp_dict_gps\", True)\n",
    "\"\"\""
   ]
  },
  {
   "cell_type": "code",
   "execution_count": null,
   "id": "54eb43f5-c498-4451-b596-4c658b6b21f9",
   "metadata": {},
   "outputs": [],
   "source": []
  }
 ],
 "metadata": {
  "kernelspec": {
   "display_name": "Python 3 (ipykernel)",
   "language": "python",
   "name": "python3"
  },
  "language_info": {
   "codemirror_mode": {
    "name": "ipython",
    "version": 3
   },
   "file_extension": ".py",
   "mimetype": "text/x-python",
   "name": "python",
   "nbconvert_exporter": "python",
   "pygments_lexer": "ipython3",
   "version": "3.9.16"
  }
 },
 "nbformat": 4,
 "nbformat_minor": 5
}
