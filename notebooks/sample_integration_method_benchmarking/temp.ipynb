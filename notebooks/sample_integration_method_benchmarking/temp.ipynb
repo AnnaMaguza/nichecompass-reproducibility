{
 "cells": [
  {
   "cell_type": "code",
   "execution_count": 1,
   "id": "01360ce4-b3f1-4766-ae16-db4c327aa091",
   "metadata": {
    "tags": []
   },
   "outputs": [],
   "source": [
    "%load_ext autoreload\n",
    "%autoreload 2"
   ]
  },
  {
   "cell_type": "code",
   "execution_count": 2,
   "id": "4a4ceeba-ef09-4559-88e2-cbe464ecd1d7",
   "metadata": {
    "tags": []
   },
   "outputs": [],
   "source": [
    "import matplotlib.pyplot as plt\n",
    "import scanpy as sc\n",
    "import scib"
   ]
  },
  {
   "cell_type": "code",
   "execution_count": 3,
   "id": "8d74beea-c388-4e25-954b-626b4367f596",
   "metadata": {
    "tags": []
   },
   "outputs": [],
   "source": [
    "import sys\n",
    "sys.path.append(\"../../../autotalker\")"
   ]
  },
  {
   "cell_type": "code",
   "execution_count": 4,
   "id": "b1dbfaf0-0fde-4138-9beb-39b73e56b95d",
   "metadata": {
    "tags": []
   },
   "outputs": [],
   "source": [
    "from autotalker.benchmarking import compute_clisis, compute_cas"
   ]
  },
  {
   "cell_type": "code",
   "execution_count": 49,
   "id": "7ac0b66a-c568-44e6-95aa-f1042b27b782",
   "metadata": {
    "tags": []
   },
   "outputs": [],
   "source": [
    "adata_auto = sc.read_h5ad(\"../../datasets/srt_data/gold/results/seqfish_mouse_organogenesis_autotalker_oneshot_integrated.h5ad\")\n",
    "model = \"autotalker\"\n",
    "adata = adata_auto"
   ]
  },
  {
   "cell_type": "code",
   "execution_count": 21,
   "id": "60368746-9c34-4c03-85d7-80e1d58aba18",
   "metadata": {},
   "outputs": [
    {
     "data": {
      "text/html": [
       "<div>\n",
       "<style scoped>\n",
       "    .dataframe tbody tr th:only-of-type {\n",
       "        vertical-align: middle;\n",
       "    }\n",
       "\n",
       "    .dataframe tbody tr th {\n",
       "        vertical-align: top;\n",
       "    }\n",
       "\n",
       "    .dataframe thead th {\n",
       "        text-align: right;\n",
       "    }\n",
       "</style>\n",
       "<table border=\"1\" class=\"dataframe\">\n",
       "  <thead>\n",
       "    <tr style=\"text-align: right;\">\n",
       "      <th></th>\n",
       "    </tr>\n",
       "  </thead>\n",
       "  <tbody>\n",
       "    <tr>\n",
       "      <th>Abcc4</th>\n",
       "    </tr>\n",
       "    <tr>\n",
       "      <th>Acp5</th>\n",
       "    </tr>\n",
       "    <tr>\n",
       "      <th>Acvr1</th>\n",
       "    </tr>\n",
       "    <tr>\n",
       "      <th>Acvr2a</th>\n",
       "    </tr>\n",
       "    <tr>\n",
       "      <th>Adora2b</th>\n",
       "    </tr>\n",
       "    <tr>\n",
       "      <th>...</th>\n",
       "    </tr>\n",
       "    <tr>\n",
       "      <th>Wnt8a</th>\n",
       "    </tr>\n",
       "    <tr>\n",
       "      <th>Xist</th>\n",
       "    </tr>\n",
       "    <tr>\n",
       "      <th>Zfp444</th>\n",
       "    </tr>\n",
       "    <tr>\n",
       "      <th>Zfp57</th>\n",
       "    </tr>\n",
       "    <tr>\n",
       "      <th>Zic3</th>\n",
       "    </tr>\n",
       "  </tbody>\n",
       "</table>\n",
       "<p>351 rows × 0 columns</p>\n",
       "</div>"
      ],
      "text/plain": [
       "Empty DataFrame\n",
       "Columns: []\n",
       "Index: [Abcc4, Acp5, Acvr1, Acvr2a, Adora2b, Afp, Ahnak, Akr1c19, Alas2, Aldh1a2, Aldh2, Aldob, Alx1, Apln, Aplnr, Apoa4, Apob, Aqp3, Aqp8, Arhgdib, Arl4d, Ash2l, Ass1, Atp1b1, Axin2, Bak1, Bambi, Bcl2, Bid, Bin2, Bmi1, Bmp2, Bmp4, Bmp5, Bmp7, Bmper, Car7, Cavin3, Cbfa2t3, Ccng1, Cd34, Cd8a, Cdh1, Cdh2, Cdh5, Cdx1, Cdx2, Cdx4, Cer1, Cers4, Chrd, Cldn4, Cldn5, Clic6, Cntfr, Col1a1, Col1a2, Col26a1, Col4a1, Coro1a, Cpm, Cpn1, Cxcl12, Cyp26a1, Ddit4l, Dkk1, Dlk1, Dll1, Dll3, Dnajb13, Dnd1, Dnmt3a, Dnmt3b, Dnmt3l, Dppa2, Dusp6, Eed, Efna5, Elf5, Emcn, En1, Eng, Eomes, Ep300, Epcam, Epha5, Epor, Erg, Esam, Ets1, Etv4, Evx1, Ezh1, Ezh2, F2r, F2rl2, Fam181b, Fezf1, Fgf10, Fgf15, ...]\n",
       "\n",
       "[351 rows x 0 columns]"
      ]
     },
     "execution_count": 21,
     "metadata": {},
     "output_type": "execute_result"
    }
   ],
   "source": [
    "adata.var"
   ]
  },
  {
   "cell_type": "code",
   "execution_count": 5,
   "id": "8101b295-0a83-4c0a-901e-1ba3d77d00d3",
   "metadata": {
    "tags": []
   },
   "outputs": [
    {
     "name": "stderr",
     "output_type": "stream",
     "text": [
      "/home/cartalop/miniconda3/envs/autotalker/lib/python3.10/site-packages/omnipath/_core/query/_query_validator.py:165: ResourceWarning: unclosed <ssl.SSLSocket fd=53, family=AddressFamily.AF_INET, type=SocketKind.SOCK_STREAM, proto=6, laddr=('10.213.3.147', 50408), raddr=('178.62.7.222', 443)>\n",
      "  res = Downloader(opt).maybe_download(\n",
      "/home/cartalop/miniconda3/envs/autotalker/lib/python3.10/site-packages/omnipath/_core/query/_query_validator.py:165: ResourceWarning: unclosed <ssl.SSLSocket fd=53, family=AddressFamily.AF_INET, type=SocketKind.SOCK_STREAM, proto=6, laddr=('10.213.3.147', 50422), raddr=('178.62.7.222', 443)>\n",
      "  res = Downloader(opt).maybe_download(\n",
      "/home/cartalop/miniconda3/envs/autotalker/lib/python3.10/site-packages/omnipath/_core/query/_query_validator.py:165: ResourceWarning: unclosed <ssl.SSLSocket fd=53, family=AddressFamily.AF_INET, type=SocketKind.SOCK_STREAM, proto=6, laddr=('10.213.3.147', 50434), raddr=('178.62.7.222', 443)>\n",
      "  res = Downloader(opt).maybe_download(\n",
      "/home/cartalop/miniconda3/envs/autotalker/lib/python3.10/site-packages/omnipath/_core/query/_query_validator.py:165: ResourceWarning: unclosed <ssl.SSLSocket fd=53, family=AddressFamily.AF_INET, type=SocketKind.SOCK_STREAM, proto=6, laddr=('10.213.3.147', 50450), raddr=('178.62.7.222', 443)>\n",
      "  res = Downloader(opt).maybe_download(\n",
      "/home/cartalop/miniconda3/envs/autotalker/lib/python3.10/site-packages/omnipath/_core/query/_query_validator.py:165: ResourceWarning: unclosed <ssl.SSLSocket fd=53, family=AddressFamily.AF_INET, type=SocketKind.SOCK_STREAM, proto=6, laddr=('10.213.3.147', 50460), raddr=('178.62.7.222', 443)>\n",
      "  res = Downloader(opt).maybe_download(\n",
      "/home/cartalop/miniconda3/envs/autotalker/lib/python3.10/site-packages/omnipath/_core/downloader/_downloader.py:208: ResourceWarning: unclosed <ssl.SSLSocket fd=53, family=AddressFamily.AF_INET, type=SocketKind.SOCK_STREAM, proto=6, laddr=('10.213.3.147', 50472), raddr=('178.62.7.222', 443)>\n",
      "  return Downloader(opt).maybe_download(\n",
      "/home/cartalop/miniconda3/envs/autotalker/lib/python3.10/site-packages/umap/__init__.py:9: ImportWarning: Tensorflow not installed; ParametricUMAP will be unavailable\n",
      "  warn(\n"
     ]
    }
   ],
   "source": [
    "from autotalker.utils import get_gene_annotations"
   ]
  },
  {
   "cell_type": "code",
   "execution_count": 6,
   "id": "89e06a32-1716-4c5e-ab94-409d9c68e0d9",
   "metadata": {
    "tags": []
   },
   "outputs": [],
   "source": [
    "adata_rna = sc.read_h5ad(\"../../datasets/srt_data/gold/spatial_atac_rna_seq_mouse_embryo_and_brain_batch1_rna.h5ad\")\n",
    "adata_atac = sc.read_h5ad(\"../../datasets/srt_data/gold/spatial_atac_rna_seq_mouse_embryo_and_brain_batch1_atac.h5ad\")"
   ]
  },
  {
   "cell_type": "code",
   "execution_count": 32,
   "id": "1b4fa74b-1dd5-4d42-91a5-af9d7df75779",
   "metadata": {
    "tags": []
   },
   "outputs": [
    {
     "name": "stderr",
     "output_type": "stream",
     "text": [
      "/home/cartalop/miniconda3/envs/autotalker/lib/python3.10/site-packages/anndata/_io/specs/methods.py:584: OldFormatWarning: Element '/obs/__categories/domain' was written without encoding metadata.\n",
      "  categories = read_elem(categories_dset)\n",
      "/home/cartalop/miniconda3/envs/autotalker/lib/python3.10/site-packages/anndata/_io/specs/methods.py:587: OldFormatWarning: Element '/obs/domain' was written without encoding metadata.\n",
      "  read_elem(dataset), categories, ordered=ordered\n",
      "/home/cartalop/miniconda3/envs/autotalker/lib/python3.10/site-packages/anndata/_io/specs/methods.py:584: OldFormatWarning: Element '/obs/__categories/cell_type' was written without encoding metadata.\n",
      "  categories = read_elem(categories_dset)\n",
      "/home/cartalop/miniconda3/envs/autotalker/lib/python3.10/site-packages/anndata/_io/specs/methods.py:587: OldFormatWarning: Element '/obs/cell_type' was written without encoding metadata.\n",
      "  read_elem(dataset), categories, ordered=ordered\n",
      "/home/cartalop/miniconda3/envs/autotalker/lib/python3.10/site-packages/anndata/_io/specs/methods.py:590: OldFormatWarning: Element '/obs/cells' was written without encoding metadata.\n",
      "  return read_elem(dataset)\n",
      "/home/cartalop/miniconda3/envs/autotalker/lib/python3.10/site-packages/anndata/_io/specs/methods.py:590: OldFormatWarning: Element '/var/genes' was written without encoding metadata.\n",
      "  return read_elem(dataset)\n",
      "/home/cartalop/miniconda3/envs/autotalker/lib/python3.10/site-packages/anndata/_io/specs/methods.py:584: OldFormatWarning: Element '/obs/__categories/domain' was written without encoding metadata.\n",
      "  categories = read_elem(categories_dset)\n",
      "/home/cartalop/miniconda3/envs/autotalker/lib/python3.10/site-packages/anndata/_io/specs/methods.py:587: OldFormatWarning: Element '/obs/domain' was written without encoding metadata.\n",
      "  read_elem(dataset), categories, ordered=ordered\n",
      "/home/cartalop/miniconda3/envs/autotalker/lib/python3.10/site-packages/anndata/_io/specs/methods.py:584: OldFormatWarning: Element '/obs/__categories/cell_type' was written without encoding metadata.\n",
      "  categories = read_elem(categories_dset)\n",
      "/home/cartalop/miniconda3/envs/autotalker/lib/python3.10/site-packages/anndata/_io/specs/methods.py:587: OldFormatWarning: Element '/obs/cell_type' was written without encoding metadata.\n",
      "  read_elem(dataset), categories, ordered=ordered\n",
      "/home/cartalop/miniconda3/envs/autotalker/lib/python3.10/site-packages/anndata/_io/specs/methods.py:590: OldFormatWarning: Element '/obs/cells' was written without encoding metadata.\n",
      "  return read_elem(dataset)\n",
      "/home/cartalop/miniconda3/envs/autotalker/lib/python3.10/site-packages/anndata/_io/specs/methods.py:590: OldFormatWarning: Element '/var/peaks' was written without encoding metadata.\n",
      "  return read_elem(dataset)\n"
     ]
    }
   ],
   "source": [
    "adata_rna = sc.read_h5ad(\"../../datasets/srt_data/gold/Chen-2019-RNA.h5ad\")\n",
    "adata_atac = sc.read_h5ad(\"../../datasets/srt_data/gold/Chen-2019-ATAC.h5ad\")"
   ]
  },
  {
   "cell_type": "code",
   "execution_count": 21,
   "id": "b1fe9632-e078-4236-8e64-3c1ce87b22a3",
   "metadata": {
    "tags": []
   },
   "outputs": [
    {
     "data": {
      "text/html": [
       "<div>\n",
       "<style scoped>\n",
       "    .dataframe tbody tr th:only-of-type {\n",
       "        vertical-align: middle;\n",
       "    }\n",
       "\n",
       "    .dataframe tbody tr th {\n",
       "        vertical-align: top;\n",
       "    }\n",
       "\n",
       "    .dataframe thead th {\n",
       "        text-align: right;\n",
       "    }\n",
       "</style>\n",
       "<table border=\"1\" class=\"dataframe\">\n",
       "  <thead>\n",
       "    <tr style=\"text-align: right;\">\n",
       "      <th></th>\n",
       "    </tr>\n",
       "    <tr>\n",
       "      <th>peaks</th>\n",
       "    </tr>\n",
       "  </thead>\n",
       "  <tbody>\n",
       "    <tr>\n",
       "      <th>chr1:3005833-3005982</th>\n",
       "    </tr>\n",
       "    <tr>\n",
       "      <th>chr1:3094772-3095489</th>\n",
       "    </tr>\n",
       "    <tr>\n",
       "      <th>chr1:3119556-3120739</th>\n",
       "    </tr>\n",
       "    <tr>\n",
       "      <th>chr1:3121334-3121696</th>\n",
       "    </tr>\n",
       "    <tr>\n",
       "      <th>chr1:3134637-3135032</th>\n",
       "    </tr>\n",
       "    <tr>\n",
       "      <th>...</th>\n",
       "    </tr>\n",
       "    <tr>\n",
       "      <th>chrY:1086239-1086779</th>\n",
       "    </tr>\n",
       "    <tr>\n",
       "      <th>chrY:1090474-1090713</th>\n",
       "    </tr>\n",
       "    <tr>\n",
       "      <th>chrY:1232696-1232955</th>\n",
       "    </tr>\n",
       "    <tr>\n",
       "      <th>chrY:1245435-1245988</th>\n",
       "    </tr>\n",
       "    <tr>\n",
       "      <th>chrY:1246136-1246326</th>\n",
       "    </tr>\n",
       "  </tbody>\n",
       "</table>\n",
       "<p>241757 rows × 0 columns</p>\n",
       "</div>"
      ],
      "text/plain": [
       "Empty DataFrame\n",
       "Columns: []\n",
       "Index: [chr1:3005833-3005982, chr1:3094772-3095489, chr1:3119556-3120739, chr1:3121334-3121696, chr1:3134637-3135032, chr1:3164929-3165186, chr1:3167174-3167517, chr1:3181253-3181529, chr1:3204775-3205172, chr1:3210899-3211332, chr1:3216313-3216806, chr1:3217279-3217678, chr1:3228082-3228372, chr1:3265226-3265683, chr1:3285156-3285379, chr1:3292445-3293016, chr1:3297430-3297757, chr1:3299624-3299967, chr1:3309837-3310383, chr1:3322351-3323065, chr1:3325260-3325476, chr1:3327464-3327716, chr1:3330234-3330873, chr1:3333641-3333963, chr1:3360842-3361271, chr1:3366414-3366776, chr1:3369504-3369922, chr1:3371691-3371872, chr1:3372309-3372820, chr1:3377281-3377446, chr1:3381808-3382304, chr1:3388374-3388802, chr1:3391831-3392476, chr1:3399032-3399359, chr1:3399823-3400568, chr1:3405984-3406577, chr1:3407421-3407730, chr1:3410708-3411386, chr1:3418259-3418810, chr1:3433756-3434460, chr1:3444674-3444905, chr1:3455348-3455648, chr1:3457789-3458115, chr1:3466505-3466942, chr1:3507183-3507386, chr1:3514660-3514829, chr1:3514846-3515111, chr1:3533007-3533224, chr1:3551494-3551737, chr1:3552496-3552748, chr1:3576226-3576496, chr1:3587423-3587613, chr1:3588221-3588413, chr1:3596263-3596464, chr1:3611234-3611538, chr1:3632944-3633164, chr1:3652834-3653085, chr1:3659362-3659608, chr1:3662270-3662895, chr1:3663468-3663617, chr1:3670910-3672688, chr1:3710091-3710509, chr1:3712394-3712729, chr1:3742054-3742452, chr1:3853798-3854101, chr1:3892194-3892555, chr1:3900215-3900720, chr1:3903437-3903847, chr1:3909390-3909898, chr1:3932527-3932828, chr1:3990383-3990744, chr1:3994752-3995136, chr1:4069020-4069469, chr1:4089644-4090082, chr1:4138975-4139633, chr1:4146063-4146251, chr1:4175014-4175205, chr1:4186695-4186912, chr1:4255751-4255947, chr1:4273150-4273459, chr1:4332330-4332726, chr1:4362406-4362723, chr1:4392575-4392932, chr1:4414206-4415170, chr1:4527371-4527827, chr1:4571432-4572236, chr1:4611738-4612069, chr1:4703137-4703933, chr1:4722608-4722968, chr1:4748085-4748514, chr1:4752057-4752286, chr1:4766602-4767160, chr1:4785358-4786256, chr1:4807441-4808229, chr1:4813314-4813890, chr1:4818598-4818766, chr1:4829669-4829826, chr1:4833627-4833852, chr1:4841973-4842521, chr1:4857342-4858057, ...]\n",
       "\n",
       "[241757 rows x 0 columns]"
      ]
     },
     "execution_count": 21,
     "metadata": {},
     "output_type": "execute_result"
    }
   ],
   "source": [
    "adata_atac.var"
   ]
  },
  {
   "cell_type": "code",
   "execution_count": 33,
   "id": "574947d6-a930-4e9b-85fe-4bafd6188513",
   "metadata": {
    "tags": []
   },
   "outputs": [],
   "source": [
    "ga_data_folder_path = \"../../datasets/ga_data\"\n",
    "gtf_file_path = ga_data_folder_path + \"/gencode.vM25.chr_patch_hapl_scaff.annotation.gtf.gz\" # \"/gencode.vM32.chr_patch_hapl_scaff.annotation.gtf.gz\""
   ]
  },
  {
   "cell_type": "code",
   "execution_count": 34,
   "id": "9c8d0d5d-e3bf-4c82-be07-d82c8e59f8c9",
   "metadata": {
    "tags": []
   },
   "outputs": [],
   "source": [
    "get_gene_annotations(\n",
    "    adata=adata_rna,\n",
    "    adata_atac=adata_atac,\n",
    "    gtf_file_path=gtf_file_path)"
   ]
  },
  {
   "cell_type": "code",
   "execution_count": 36,
   "id": "4bec9f2e-d54a-4d02-bd20-8bee00610c45",
   "metadata": {
    "tags": []
   },
   "outputs": [
    {
     "data": {
      "text/html": [
       "<div>\n",
       "<style scoped>\n",
       "    .dataframe tbody tr th:only-of-type {\n",
       "        vertical-align: middle;\n",
       "    }\n",
       "\n",
       "    .dataframe tbody tr th {\n",
       "        vertical-align: top;\n",
       "    }\n",
       "\n",
       "    .dataframe thead th {\n",
       "        text-align: right;\n",
       "    }\n",
       "</style>\n",
       "<table border=\"1\" class=\"dataframe\">\n",
       "  <thead>\n",
       "    <tr style=\"text-align: right;\">\n",
       "      <th></th>\n",
       "      <th>chrom</th>\n",
       "      <th>chromStart</th>\n",
       "      <th>chromEnd</th>\n",
       "      <th>name</th>\n",
       "      <th>score</th>\n",
       "      <th>strand</th>\n",
       "      <th>thickStart</th>\n",
       "      <th>thickEnd</th>\n",
       "      <th>itemRgb</th>\n",
       "      <th>blockCount</th>\n",
       "      <th>blockSizes</th>\n",
       "      <th>blockStarts</th>\n",
       "      <th>gene_id</th>\n",
       "      <th>gene_type</th>\n",
       "      <th>mgi_id</th>\n",
       "      <th>havana_gene</th>\n",
       "      <th>tag</th>\n",
       "    </tr>\n",
       "    <tr>\n",
       "      <th>genes</th>\n",
       "      <th></th>\n",
       "      <th></th>\n",
       "      <th></th>\n",
       "      <th></th>\n",
       "      <th></th>\n",
       "      <th></th>\n",
       "      <th></th>\n",
       "      <th></th>\n",
       "      <th></th>\n",
       "      <th></th>\n",
       "      <th></th>\n",
       "      <th></th>\n",
       "      <th></th>\n",
       "      <th></th>\n",
       "      <th></th>\n",
       "      <th></th>\n",
       "      <th></th>\n",
       "    </tr>\n",
       "  </thead>\n",
       "  <tbody>\n",
       "    <tr>\n",
       "      <th>0610005C13Rik</th>\n",
       "      <td>chr7</td>\n",
       "      <td>45567793</td>\n",
       "      <td>45575327</td>\n",
       "      <td>0610005C13Rik</td>\n",
       "      <td>.</td>\n",
       "      <td>-</td>\n",
       "      <td>.</td>\n",
       "      <td>.</td>\n",
       "      <td>.</td>\n",
       "      <td>.</td>\n",
       "      <td>.</td>\n",
       "      <td>.</td>\n",
       "      <td>ENSMUSG00000109644.1</td>\n",
       "      <td>antisense</td>\n",
       "      <td>MGI:1918911</td>\n",
       "      <td>OTTMUSG00000030340.4</td>\n",
       "      <td>NaN</td>\n",
       "    </tr>\n",
       "    <tr>\n",
       "      <th>0610009B22Rik</th>\n",
       "      <td>chr11</td>\n",
       "      <td>51685385</td>\n",
       "      <td>51688874</td>\n",
       "      <td>0610009B22Rik</td>\n",
       "      <td>.</td>\n",
       "      <td>-</td>\n",
       "      <td>.</td>\n",
       "      <td>.</td>\n",
       "      <td>.</td>\n",
       "      <td>.</td>\n",
       "      <td>.</td>\n",
       "      <td>.</td>\n",
       "      <td>ENSMUSG00000007777.9</td>\n",
       "      <td>protein_coding</td>\n",
       "      <td>MGI:1913300</td>\n",
       "      <td>OTTMUSG00000005608.1</td>\n",
       "      <td>NaN</td>\n",
       "    </tr>\n",
       "    <tr>\n",
       "      <th>0610009E02Rik</th>\n",
       "      <td>chr2</td>\n",
       "      <td>26445695</td>\n",
       "      <td>26459390</td>\n",
       "      <td>0610009E02Rik</td>\n",
       "      <td>.</td>\n",
       "      <td>+</td>\n",
       "      <td>.</td>\n",
       "      <td>.</td>\n",
       "      <td>.</td>\n",
       "      <td>.</td>\n",
       "      <td>.</td>\n",
       "      <td>.</td>\n",
       "      <td>ENSMUSG00000086714.1</td>\n",
       "      <td>processed_transcript</td>\n",
       "      <td>MGI:3698435</td>\n",
       "      <td>OTTMUSG00000012797.1</td>\n",
       "      <td>overlapping_locus</td>\n",
       "    </tr>\n",
       "    <tr>\n",
       "      <th>0610009L18Rik</th>\n",
       "      <td>chr11</td>\n",
       "      <td>120348677</td>\n",
       "      <td>120351190</td>\n",
       "      <td>0610009L18Rik</td>\n",
       "      <td>.</td>\n",
       "      <td>+</td>\n",
       "      <td>.</td>\n",
       "      <td>.</td>\n",
       "      <td>.</td>\n",
       "      <td>.</td>\n",
       "      <td>.</td>\n",
       "      <td>.</td>\n",
       "      <td>ENSMUSG00000043644.4</td>\n",
       "      <td>bidirectional_promoter_lncRNA</td>\n",
       "      <td>MGI:1914088</td>\n",
       "      <td>OTTMUSG00000004146.2</td>\n",
       "      <td>NaN</td>\n",
       "    </tr>\n",
       "    <tr>\n",
       "      <th>0610010F05Rik</th>\n",
       "      <td>chr11</td>\n",
       "      <td>23564960</td>\n",
       "      <td>23633639</td>\n",
       "      <td>0610010F05Rik</td>\n",
       "      <td>.</td>\n",
       "      <td>-</td>\n",
       "      <td>.</td>\n",
       "      <td>.</td>\n",
       "      <td>.</td>\n",
       "      <td>.</td>\n",
       "      <td>.</td>\n",
       "      <td>.</td>\n",
       "      <td>ENSMUSG00000042208.15</td>\n",
       "      <td>protein_coding</td>\n",
       "      <td>MGI:1918925</td>\n",
       "      <td>OTTMUSG00000005276.5</td>\n",
       "      <td>ncRNA_host</td>\n",
       "    </tr>\n",
       "    <tr>\n",
       "      <th>...</th>\n",
       "      <td>...</td>\n",
       "      <td>...</td>\n",
       "      <td>...</td>\n",
       "      <td>...</td>\n",
       "      <td>...</td>\n",
       "      <td>...</td>\n",
       "      <td>...</td>\n",
       "      <td>...</td>\n",
       "      <td>...</td>\n",
       "      <td>...</td>\n",
       "      <td>...</td>\n",
       "      <td>...</td>\n",
       "      <td>...</td>\n",
       "      <td>...</td>\n",
       "      <td>...</td>\n",
       "      <td>...</td>\n",
       "      <td>...</td>\n",
       "    </tr>\n",
       "    <tr>\n",
       "      <th>Vmn1r181</th>\n",
       "      <td>chr7</td>\n",
       "      <td>23974614</td>\n",
       "      <td>23988139</td>\n",
       "      <td>Vmn1r181</td>\n",
       "      <td>.</td>\n",
       "      <td>+</td>\n",
       "      <td>.</td>\n",
       "      <td>.</td>\n",
       "      <td>.</td>\n",
       "      <td>.</td>\n",
       "      <td>.</td>\n",
       "      <td>.</td>\n",
       "      <td>ENSMUSG00000097425.3</td>\n",
       "      <td>protein_coding</td>\n",
       "      <td>MGI:3033489</td>\n",
       "      <td>OTTMUSG00000038015.2</td>\n",
       "      <td>NaN</td>\n",
       "    </tr>\n",
       "    <tr>\n",
       "      <th>Vmn1r193</th>\n",
       "      <td>chr13</td>\n",
       "      <td>22213671</td>\n",
       "      <td>22223160</td>\n",
       "      <td>Vmn1r193</td>\n",
       "      <td>.</td>\n",
       "      <td>-</td>\n",
       "      <td>.</td>\n",
       "      <td>.</td>\n",
       "      <td>.</td>\n",
       "      <td>.</td>\n",
       "      <td>.</td>\n",
       "      <td>.</td>\n",
       "      <td>ENSMUSG00000046932.2</td>\n",
       "      <td>protein_coding</td>\n",
       "      <td>MGI:2159695</td>\n",
       "      <td>OTTMUSG00000000481.3</td>\n",
       "      <td>NaN</td>\n",
       "    </tr>\n",
       "    <tr>\n",
       "      <th>Vmn1r68</th>\n",
       "      <td>chr7</td>\n",
       "      <td>10507397</td>\n",
       "      <td>10558485</td>\n",
       "      <td>Vmn1r68</td>\n",
       "      <td>.</td>\n",
       "      <td>-</td>\n",
       "      <td>.</td>\n",
       "      <td>.</td>\n",
       "      <td>.</td>\n",
       "      <td>.</td>\n",
       "      <td>.</td>\n",
       "      <td>.</td>\n",
       "      <td>ENSMUSG00000047031.5</td>\n",
       "      <td>protein_coding</td>\n",
       "      <td>MGI:3648262</td>\n",
       "      <td>OTTMUSG00000038515.3</td>\n",
       "      <td>overlapping_locus</td>\n",
       "    </tr>\n",
       "    <tr>\n",
       "      <th>Vmn1r82</th>\n",
       "      <td>chr7</td>\n",
       "      <td>12300429</td>\n",
       "      <td>12308582</td>\n",
       "      <td>Vmn1r82</td>\n",
       "      <td>.</td>\n",
       "      <td>+</td>\n",
       "      <td>.</td>\n",
       "      <td>.</td>\n",
       "      <td>.</td>\n",
       "      <td>.</td>\n",
       "      <td>.</td>\n",
       "      <td>.</td>\n",
       "      <td>ENSMUSG00000058132.5</td>\n",
       "      <td>protein_coding</td>\n",
       "      <td>MGI:2159656</td>\n",
       "      <td>OTTMUSG00000038261.3</td>\n",
       "      <td>NaN</td>\n",
       "    </tr>\n",
       "    <tr>\n",
       "      <th>n-R5s50</th>\n",
       "      <td>chr14</td>\n",
       "      <td>110161834</td>\n",
       "      <td>110161945</td>\n",
       "      <td>n-R5s50</td>\n",
       "      <td>.</td>\n",
       "      <td>+</td>\n",
       "      <td>.</td>\n",
       "      <td>.</td>\n",
       "      <td>.</td>\n",
       "      <td>.</td>\n",
       "      <td>.</td>\n",
       "      <td>.</td>\n",
       "      <td>ENSMUSG00000065102.1</td>\n",
       "      <td>rRNA</td>\n",
       "      <td>MGI:4421895</td>\n",
       "      <td>NaN</td>\n",
       "      <td>NaN</td>\n",
       "    </tr>\n",
       "  </tbody>\n",
       "</table>\n",
       "<p>28930 rows × 17 columns</p>\n",
       "</div>"
      ],
      "text/plain": [
       "               chrom  chromStart   chromEnd           name score strand  \\\n",
       "genes                                                                     \n",
       "0610005C13Rik   chr7    45567793   45575327  0610005C13Rik     .      -   \n",
       "0610009B22Rik  chr11    51685385   51688874  0610009B22Rik     .      -   \n",
       "0610009E02Rik   chr2    26445695   26459390  0610009E02Rik     .      +   \n",
       "0610009L18Rik  chr11   120348677  120351190  0610009L18Rik     .      +   \n",
       "0610010F05Rik  chr11    23564960   23633639  0610010F05Rik     .      -   \n",
       "...              ...         ...        ...            ...   ...    ...   \n",
       "Vmn1r181        chr7    23974614   23988139       Vmn1r181     .      +   \n",
       "Vmn1r193       chr13    22213671   22223160       Vmn1r193     .      -   \n",
       "Vmn1r68         chr7    10507397   10558485        Vmn1r68     .      -   \n",
       "Vmn1r82         chr7    12300429   12308582        Vmn1r82     .      +   \n",
       "n-R5s50        chr14   110161834  110161945        n-R5s50     .      +   \n",
       "\n",
       "              thickStart thickEnd itemRgb blockCount blockSizes blockStarts  \\\n",
       "genes                                                                         \n",
       "0610005C13Rik          .        .       .          .          .           .   \n",
       "0610009B22Rik          .        .       .          .          .           .   \n",
       "0610009E02Rik          .        .       .          .          .           .   \n",
       "0610009L18Rik          .        .       .          .          .           .   \n",
       "0610010F05Rik          .        .       .          .          .           .   \n",
       "...                  ...      ...     ...        ...        ...         ...   \n",
       "Vmn1r181               .        .       .          .          .           .   \n",
       "Vmn1r193               .        .       .          .          .           .   \n",
       "Vmn1r68                .        .       .          .          .           .   \n",
       "Vmn1r82                .        .       .          .          .           .   \n",
       "n-R5s50                .        .       .          .          .           .   \n",
       "\n",
       "                             gene_id                      gene_type  \\\n",
       "genes                                                                 \n",
       "0610005C13Rik   ENSMUSG00000109644.1                      antisense   \n",
       "0610009B22Rik   ENSMUSG00000007777.9                 protein_coding   \n",
       "0610009E02Rik   ENSMUSG00000086714.1           processed_transcript   \n",
       "0610009L18Rik   ENSMUSG00000043644.4  bidirectional_promoter_lncRNA   \n",
       "0610010F05Rik  ENSMUSG00000042208.15                 protein_coding   \n",
       "...                              ...                            ...   \n",
       "Vmn1r181        ENSMUSG00000097425.3                 protein_coding   \n",
       "Vmn1r193        ENSMUSG00000046932.2                 protein_coding   \n",
       "Vmn1r68         ENSMUSG00000047031.5                 protein_coding   \n",
       "Vmn1r82         ENSMUSG00000058132.5                 protein_coding   \n",
       "n-R5s50         ENSMUSG00000065102.1                           rRNA   \n",
       "\n",
       "                    mgi_id           havana_gene                tag  \n",
       "genes                                                                \n",
       "0610005C13Rik  MGI:1918911  OTTMUSG00000030340.4                NaN  \n",
       "0610009B22Rik  MGI:1913300  OTTMUSG00000005608.1                NaN  \n",
       "0610009E02Rik  MGI:3698435  OTTMUSG00000012797.1  overlapping_locus  \n",
       "0610009L18Rik  MGI:1914088  OTTMUSG00000004146.2                NaN  \n",
       "0610010F05Rik  MGI:1918925  OTTMUSG00000005276.5         ncRNA_host  \n",
       "...                    ...                   ...                ...  \n",
       "Vmn1r181       MGI:3033489  OTTMUSG00000038015.2                NaN  \n",
       "Vmn1r193       MGI:2159695  OTTMUSG00000000481.3                NaN  \n",
       "Vmn1r68        MGI:3648262  OTTMUSG00000038515.3  overlapping_locus  \n",
       "Vmn1r82        MGI:2159656  OTTMUSG00000038261.3                NaN  \n",
       "n-R5s50        MGI:4421895                   NaN                NaN  \n",
       "\n",
       "[28930 rows x 17 columns]"
      ]
     },
     "execution_count": 36,
     "metadata": {},
     "output_type": "execute_result"
    }
   ],
   "source": [
    "adata_rna.var"
   ]
  },
  {
   "cell_type": "code",
   "execution_count": 39,
   "id": "39ca2f1c-911e-4a24-8d17-435e22f40077",
   "metadata": {},
   "outputs": [],
   "source": [
    "import scglue\n",
    "scglue.data.get_gene_annotation(\n",
    "    adata, gtf=gtf_file_path,\n",
    "    gtf_by=\"gene_name\"\n",
    ")"
   ]
  },
  {
   "cell_type": "code",
   "execution_count": 26,
   "id": "8f47ce06-5891-47f3-b28d-fc0613a586a6",
   "metadata": {
    "tags": []
   },
   "outputs": [
    {
     "data": {
      "text/html": [
       "<div>\n",
       "<style scoped>\n",
       "    .dataframe tbody tr th:only-of-type {\n",
       "        vertical-align: middle;\n",
       "    }\n",
       "\n",
       "    .dataframe tbody tr th {\n",
       "        vertical-align: top;\n",
       "    }\n",
       "\n",
       "    .dataframe thead th {\n",
       "        text-align: right;\n",
       "    }\n",
       "</style>\n",
       "<table border=\"1\" class=\"dataframe\">\n",
       "  <thead>\n",
       "    <tr style=\"text-align: right;\">\n",
       "      <th></th>\n",
       "      <th>chrom</th>\n",
       "      <th>chromStart</th>\n",
       "      <th>chromEnd</th>\n",
       "    </tr>\n",
       "    <tr>\n",
       "      <th>peaks</th>\n",
       "      <th></th>\n",
       "      <th></th>\n",
       "      <th></th>\n",
       "    </tr>\n",
       "  </thead>\n",
       "  <tbody>\n",
       "    <tr>\n",
       "      <th>chr1:3005833-3005982</th>\n",
       "      <td>chr1</td>\n",
       "      <td>3005833</td>\n",
       "      <td>3005982</td>\n",
       "    </tr>\n",
       "    <tr>\n",
       "      <th>chr1:3094772-3095489</th>\n",
       "      <td>chr1</td>\n",
       "      <td>3094772</td>\n",
       "      <td>3095489</td>\n",
       "    </tr>\n",
       "    <tr>\n",
       "      <th>chr1:3119556-3120739</th>\n",
       "      <td>chr1</td>\n",
       "      <td>3119556</td>\n",
       "      <td>3120739</td>\n",
       "    </tr>\n",
       "    <tr>\n",
       "      <th>chr1:3121334-3121696</th>\n",
       "      <td>chr1</td>\n",
       "      <td>3121334</td>\n",
       "      <td>3121696</td>\n",
       "    </tr>\n",
       "    <tr>\n",
       "      <th>chr1:3134637-3135032</th>\n",
       "      <td>chr1</td>\n",
       "      <td>3134637</td>\n",
       "      <td>3135032</td>\n",
       "    </tr>\n",
       "    <tr>\n",
       "      <th>...</th>\n",
       "      <td>...</td>\n",
       "      <td>...</td>\n",
       "      <td>...</td>\n",
       "    </tr>\n",
       "    <tr>\n",
       "      <th>chrY:1086239-1086779</th>\n",
       "      <td>chrY</td>\n",
       "      <td>1086239</td>\n",
       "      <td>1086779</td>\n",
       "    </tr>\n",
       "    <tr>\n",
       "      <th>chrY:1090474-1090713</th>\n",
       "      <td>chrY</td>\n",
       "      <td>1090474</td>\n",
       "      <td>1090713</td>\n",
       "    </tr>\n",
       "    <tr>\n",
       "      <th>chrY:1232696-1232955</th>\n",
       "      <td>chrY</td>\n",
       "      <td>1232696</td>\n",
       "      <td>1232955</td>\n",
       "    </tr>\n",
       "    <tr>\n",
       "      <th>chrY:1245435-1245988</th>\n",
       "      <td>chrY</td>\n",
       "      <td>1245435</td>\n",
       "      <td>1245988</td>\n",
       "    </tr>\n",
       "    <tr>\n",
       "      <th>chrY:1246136-1246326</th>\n",
       "      <td>chrY</td>\n",
       "      <td>1246136</td>\n",
       "      <td>1246326</td>\n",
       "    </tr>\n",
       "  </tbody>\n",
       "</table>\n",
       "<p>241757 rows × 3 columns</p>\n",
       "</div>"
      ],
      "text/plain": [
       "                     chrom  chromStart  chromEnd\n",
       "peaks                                           \n",
       "chr1:3005833-3005982  chr1     3005833   3005982\n",
       "chr1:3094772-3095489  chr1     3094772   3095489\n",
       "chr1:3119556-3120739  chr1     3119556   3120739\n",
       "chr1:3121334-3121696  chr1     3121334   3121696\n",
       "chr1:3134637-3135032  chr1     3134637   3135032\n",
       "...                    ...         ...       ...\n",
       "chrY:1086239-1086779  chrY     1086239   1086779\n",
       "chrY:1090474-1090713  chrY     1090474   1090713\n",
       "chrY:1232696-1232955  chrY     1232696   1232955\n",
       "chrY:1245435-1245988  chrY     1245435   1245988\n",
       "chrY:1246136-1246326  chrY     1246136   1246326\n",
       "\n",
       "[241757 rows x 3 columns]"
      ]
     },
     "execution_count": 26,
     "metadata": {},
     "output_type": "execute_result"
    }
   ],
   "source": [
    "adata_atac.var"
   ]
  },
  {
   "cell_type": "code",
   "execution_count": 39,
   "id": "4b6cbafa-18a6-455e-9e42-b3e92eda1f7e",
   "metadata": {
    "tags": []
   },
   "outputs": [
    {
     "ename": "RuntimeError",
     "evalue": "This function relies on bedtools (>=2.29.2). Detected version is 2.25.0. Please install a newer version. You may install bedtools following the guide from https://bedtools.readthedocs.io/en/latest/content/installation.html, or use `conda install -c bioconda bedtools` if a conda environment is being used.",
     "output_type": "error",
     "traceback": [
      "\u001b[0;31m---------------------------------------------------------------------------\u001b[0m",
      "\u001b[0;31mRuntimeError\u001b[0m                              Traceback (most recent call last)",
      "Cell \u001b[0;32mIn[39], line 2\u001b[0m\n\u001b[1;32m      1\u001b[0m \u001b[38;5;28;01mimport\u001b[39;00m \u001b[38;5;21;01mscglue\u001b[39;00m\n\u001b[0;32m----> 2\u001b[0m guidance \u001b[38;5;241m=\u001b[39m \u001b[43mscglue\u001b[49m\u001b[38;5;241;43m.\u001b[39;49m\u001b[43mgenomics\u001b[49m\u001b[38;5;241;43m.\u001b[39;49m\u001b[43mrna_anchored_guidance_graph\u001b[49m\u001b[43m(\u001b[49m\u001b[43madata_rna\u001b[49m\u001b[43m,\u001b[49m\u001b[43m \u001b[49m\u001b[43madata_atac\u001b[49m\u001b[43m)\u001b[49m\n\u001b[1;32m      3\u001b[0m guidance\n",
      "File \u001b[0;32m~/miniconda3/envs/autotalker/lib/python3.10/site-packages/scglue/genomics.py:536\u001b[0m, in \u001b[0;36mrna_anchored_guidance_graph\u001b[0;34m(rna, gene_region, promoter_len, extend_range, extend_fn, signs, propagate_highly_variable, corrupt_rate, random_state, *others)\u001b[0m\n\u001b[1;32m    534\u001b[0m \u001b[38;5;28;01melif\u001b[39;00m gene_region \u001b[38;5;241m!=\u001b[39m \u001b[38;5;124m\"\u001b[39m\u001b[38;5;124mgene_body\u001b[39m\u001b[38;5;124m\"\u001b[39m:\n\u001b[1;32m    535\u001b[0m     \u001b[38;5;28;01mraise\u001b[39;00m \u001b[38;5;167;01mValueError\u001b[39;00m(\u001b[38;5;124m\"\u001b[39m\u001b[38;5;124mUnrecognized `gene_range`!\u001b[39m\u001b[38;5;124m\"\u001b[39m)\n\u001b[0;32m--> 536\u001b[0m graphs \u001b[38;5;241m=\u001b[39m [window_graph(\n\u001b[1;32m    537\u001b[0m     rna_bed, other_bed, window_size\u001b[38;5;241m=\u001b[39mextend_range,\n\u001b[1;32m    538\u001b[0m     attr_fn\u001b[38;5;241m=\u001b[39m\u001b[38;5;28;01mlambda\u001b[39;00m l, r, d, s\u001b[38;5;241m=\u001b[39msign: {\n\u001b[1;32m    539\u001b[0m         \u001b[38;5;124m\"\u001b[39m\u001b[38;5;124mdist\u001b[39m\u001b[38;5;124m\"\u001b[39m: \u001b[38;5;28mabs\u001b[39m(d), \u001b[38;5;124m\"\u001b[39m\u001b[38;5;124mweight\u001b[39m\u001b[38;5;124m\"\u001b[39m: extend_fn(\u001b[38;5;28mabs\u001b[39m(d)), \u001b[38;5;124m\"\u001b[39m\u001b[38;5;124msign\u001b[39m\u001b[38;5;124m\"\u001b[39m: s\n\u001b[1;32m    540\u001b[0m     }\n\u001b[1;32m    541\u001b[0m ) \u001b[38;5;28;01mfor\u001b[39;00m other_bed, sign \u001b[38;5;129;01min\u001b[39;00m \u001b[38;5;28mzip\u001b[39m(other_beds, signs)]\n\u001b[1;32m    542\u001b[0m graph \u001b[38;5;241m=\u001b[39m compose_multigraph(\u001b[38;5;241m*\u001b[39mgraphs)\n\u001b[1;32m    544\u001b[0m corrupt_num \u001b[38;5;241m=\u001b[39m \u001b[38;5;28mround\u001b[39m(corrupt_rate \u001b[38;5;241m*\u001b[39m graph\u001b[38;5;241m.\u001b[39mnumber_of_edges())\n",
      "File \u001b[0;32m~/miniconda3/envs/autotalker/lib/python3.10/site-packages/scglue/genomics.py:536\u001b[0m, in \u001b[0;36m<listcomp>\u001b[0;34m(.0)\u001b[0m\n\u001b[1;32m    534\u001b[0m \u001b[38;5;28;01melif\u001b[39;00m gene_region \u001b[38;5;241m!=\u001b[39m \u001b[38;5;124m\"\u001b[39m\u001b[38;5;124mgene_body\u001b[39m\u001b[38;5;124m\"\u001b[39m:\n\u001b[1;32m    535\u001b[0m     \u001b[38;5;28;01mraise\u001b[39;00m \u001b[38;5;167;01mValueError\u001b[39;00m(\u001b[38;5;124m\"\u001b[39m\u001b[38;5;124mUnrecognized `gene_range`!\u001b[39m\u001b[38;5;124m\"\u001b[39m)\n\u001b[0;32m--> 536\u001b[0m graphs \u001b[38;5;241m=\u001b[39m [\u001b[43mwindow_graph\u001b[49m\u001b[43m(\u001b[49m\n\u001b[1;32m    537\u001b[0m \u001b[43m    \u001b[49m\u001b[43mrna_bed\u001b[49m\u001b[43m,\u001b[49m\u001b[43m \u001b[49m\u001b[43mother_bed\u001b[49m\u001b[43m,\u001b[49m\u001b[43m \u001b[49m\u001b[43mwindow_size\u001b[49m\u001b[38;5;241;43m=\u001b[39;49m\u001b[43mextend_range\u001b[49m\u001b[43m,\u001b[49m\n\u001b[1;32m    538\u001b[0m \u001b[43m    \u001b[49m\u001b[43mattr_fn\u001b[49m\u001b[38;5;241;43m=\u001b[39;49m\u001b[38;5;28;43;01mlambda\u001b[39;49;00m\u001b[43m \u001b[49m\u001b[43ml\u001b[49m\u001b[43m,\u001b[49m\u001b[43m \u001b[49m\u001b[43mr\u001b[49m\u001b[43m,\u001b[49m\u001b[43m \u001b[49m\u001b[43md\u001b[49m\u001b[43m,\u001b[49m\u001b[43m \u001b[49m\u001b[43ms\u001b[49m\u001b[38;5;241;43m=\u001b[39;49m\u001b[43msign\u001b[49m\u001b[43m:\u001b[49m\u001b[43m \u001b[49m\u001b[43m{\u001b[49m\n\u001b[1;32m    539\u001b[0m \u001b[43m        \u001b[49m\u001b[38;5;124;43m\"\u001b[39;49m\u001b[38;5;124;43mdist\u001b[39;49m\u001b[38;5;124;43m\"\u001b[39;49m\u001b[43m:\u001b[49m\u001b[43m \u001b[49m\u001b[38;5;28;43mabs\u001b[39;49m\u001b[43m(\u001b[49m\u001b[43md\u001b[49m\u001b[43m)\u001b[49m\u001b[43m,\u001b[49m\u001b[43m \u001b[49m\u001b[38;5;124;43m\"\u001b[39;49m\u001b[38;5;124;43mweight\u001b[39;49m\u001b[38;5;124;43m\"\u001b[39;49m\u001b[43m:\u001b[49m\u001b[43m \u001b[49m\u001b[43mextend_fn\u001b[49m\u001b[43m(\u001b[49m\u001b[38;5;28;43mabs\u001b[39;49m\u001b[43m(\u001b[49m\u001b[43md\u001b[49m\u001b[43m)\u001b[49m\u001b[43m)\u001b[49m\u001b[43m,\u001b[49m\u001b[43m \u001b[49m\u001b[38;5;124;43m\"\u001b[39;49m\u001b[38;5;124;43msign\u001b[39;49m\u001b[38;5;124;43m\"\u001b[39;49m\u001b[43m:\u001b[49m\u001b[43m \u001b[49m\u001b[43ms\u001b[49m\n\u001b[1;32m    540\u001b[0m \u001b[43m    \u001b[49m\u001b[43m}\u001b[49m\n\u001b[1;32m    541\u001b[0m \u001b[43m\u001b[49m\u001b[43m)\u001b[49m \u001b[38;5;28;01mfor\u001b[39;00m other_bed, sign \u001b[38;5;129;01min\u001b[39;00m \u001b[38;5;28mzip\u001b[39m(other_beds, signs)]\n\u001b[1;32m    542\u001b[0m graph \u001b[38;5;241m=\u001b[39m compose_multigraph(\u001b[38;5;241m*\u001b[39mgraphs)\n\u001b[1;32m    544\u001b[0m corrupt_num \u001b[38;5;241m=\u001b[39m \u001b[38;5;28mround\u001b[39m(corrupt_rate \u001b[38;5;241m*\u001b[39m graph\u001b[38;5;241m.\u001b[39mnumber_of_edges())\n",
      "File \u001b[0;32m~/miniconda3/envs/autotalker/lib/python3.10/site-packages/scglue/genomics.py:408\u001b[0m, in \u001b[0;36mwindow_graph\u001b[0;34m(left, right, window_size, left_sorted, right_sorted, attr_fn)\u001b[0m\n\u001b[1;32m    372\u001b[0m \u001b[38;5;28;01mdef\u001b[39;00m \u001b[38;5;21mwindow_graph\u001b[39m(\n\u001b[1;32m    373\u001b[0m         left: Union[Bed, \u001b[38;5;28mstr\u001b[39m], right: Union[Bed, \u001b[38;5;28mstr\u001b[39m], window_size: \u001b[38;5;28mint\u001b[39m,\n\u001b[1;32m    374\u001b[0m         left_sorted: \u001b[38;5;28mbool\u001b[39m \u001b[38;5;241m=\u001b[39m \u001b[38;5;28;01mFalse\u001b[39;00m, right_sorted: \u001b[38;5;28mbool\u001b[39m \u001b[38;5;241m=\u001b[39m \u001b[38;5;28;01mFalse\u001b[39;00m,\n\u001b[1;32m    375\u001b[0m         attr_fn: Optional[Callable[[Interval, Interval, \u001b[38;5;28mfloat\u001b[39m], Mapping[\u001b[38;5;28mstr\u001b[39m, Any]]] \u001b[38;5;241m=\u001b[39m \u001b[38;5;28;01mNone\u001b[39;00m\n\u001b[1;32m    376\u001b[0m ) \u001b[38;5;241m-\u001b[39m\u001b[38;5;241m>\u001b[39m nx\u001b[38;5;241m.\u001b[39mMultiDiGraph:\n\u001b[1;32m    377\u001b[0m \u001b[38;5;250m    \u001b[39m\u001b[38;5;124mr\u001b[39m\u001b[38;5;124;03m\"\"\"\u001b[39;00m\n\u001b[1;32m    378\u001b[0m \u001b[38;5;124;03m    Construct a window graph between two sets of genomic features, where\u001b[39;00m\n\u001b[1;32m    379\u001b[0m \u001b[38;5;124;03m    features pairs within a window size are connected.\u001b[39;00m\n\u001b[0;32m   (...)\u001b[0m\n\u001b[1;32m    406\u001b[0m \u001b[38;5;124;03m        Window graph\u001b[39;00m\n\u001b[1;32m    407\u001b[0m \u001b[38;5;124;03m    \"\"\"\u001b[39;00m\n\u001b[0;32m--> 408\u001b[0m     \u001b[43mcheck_deps\u001b[49m\u001b[43m(\u001b[49m\u001b[38;5;124;43m\"\u001b[39;49m\u001b[38;5;124;43mbedtools\u001b[39;49m\u001b[38;5;124;43m\"\u001b[39;49m\u001b[43m)\u001b[49m\n\u001b[1;32m    409\u001b[0m     \u001b[38;5;28;01mif\u001b[39;00m \u001b[38;5;28misinstance\u001b[39m(left, Bed):\n\u001b[1;32m    410\u001b[0m         pbar_total \u001b[38;5;241m=\u001b[39m \u001b[38;5;28mlen\u001b[39m(left)\n",
      "File \u001b[0;32m~/miniconda3/envs/autotalker/lib/python3.10/site-packages/scglue/check.py:169\u001b[0m, in \u001b[0;36mcheck_deps\u001b[0;34m(*args)\u001b[0m\n\u001b[1;32m    160\u001b[0m \u001b[38;5;250m\u001b[39m\u001b[38;5;124mr\u001b[39m\u001b[38;5;124;03m\"\"\"\u001b[39;00m\n\u001b[1;32m    161\u001b[0m \u001b[38;5;124;03mCheck whether certain dependencies are installed\u001b[39;00m\n\u001b[1;32m    162\u001b[0m \n\u001b[0;32m   (...)\u001b[0m\n\u001b[1;32m    166\u001b[0m \u001b[38;5;124;03m    A list of dependencies to check\u001b[39;00m\n\u001b[1;32m    167\u001b[0m \u001b[38;5;124;03m\"\"\"\u001b[39;00m\n\u001b[1;32m    168\u001b[0m \u001b[38;5;28;01mfor\u001b[39;00m item \u001b[38;5;129;01min\u001b[39;00m args:\n\u001b[0;32m--> 169\u001b[0m     \u001b[43mCHECKERS\u001b[49m\u001b[43m[\u001b[49m\u001b[43mitem\u001b[49m\u001b[43m]\u001b[49m\u001b[38;5;241;43m.\u001b[39;49m\u001b[43mcheck\u001b[49m\u001b[43m(\u001b[49m\u001b[43m)\u001b[49m\n",
      "File \u001b[0;32m~/miniconda3/envs/autotalker/lib/python3.10/site-packages/scglue/check.py:127\u001b[0m, in \u001b[0;36mCmdChecker.check\u001b[0;34m(self)\u001b[0m\n\u001b[1;32m    125\u001b[0m     v \u001b[38;5;241m=\u001b[39m \u001b[38;5;28;01mNone\u001b[39;00m\n\u001b[1;32m    126\u001b[0m \u001b[38;5;28;01mif\u001b[39;00m \u001b[38;5;28mself\u001b[39m\u001b[38;5;241m.\u001b[39mvmin \u001b[38;5;129;01mand\u001b[39;00m v \u001b[38;5;241m<\u001b[39m \u001b[38;5;28mself\u001b[39m\u001b[38;5;241m.\u001b[39mvmin:\n\u001b[0;32m--> 127\u001b[0m     \u001b[38;5;28;01mraise\u001b[39;00m \u001b[38;5;167;01mRuntimeError\u001b[39;00m(\u001b[38;5;124m\"\u001b[39m\u001b[38;5;124m \u001b[39m\u001b[38;5;124m\"\u001b[39m\u001b[38;5;241m.\u001b[39mjoin([\n\u001b[1;32m    128\u001b[0m         \u001b[38;5;28mself\u001b[39m\u001b[38;5;241m.\u001b[39mvreq_hint, \u001b[38;5;124mf\u001b[39m\u001b[38;5;124m\"\u001b[39m\u001b[38;5;124mDetected version is \u001b[39m\u001b[38;5;132;01m{\u001b[39;00mv\u001b[38;5;132;01m}\u001b[39;00m\u001b[38;5;124m.\u001b[39m\u001b[38;5;124m\"\u001b[39m,\n\u001b[1;32m    129\u001b[0m         \u001b[38;5;124m\"\u001b[39m\u001b[38;5;124mPlease install a newer version.\u001b[39m\u001b[38;5;124m\"\u001b[39m, \u001b[38;5;28mself\u001b[39m\u001b[38;5;241m.\u001b[39minstall_hint\n\u001b[1;32m    130\u001b[0m     ]))\n",
      "\u001b[0;31mRuntimeError\u001b[0m: This function relies on bedtools (>=2.29.2). Detected version is 2.25.0. Please install a newer version. You may install bedtools following the guide from https://bedtools.readthedocs.io/en/latest/content/installation.html, or use `conda install -c bioconda bedtools` if a conda environment is being used."
     ]
    }
   ],
   "source": [
    "import scglue\n",
    "guidance = scglue.genomics.rna_anchored_guidance_graph(adata_rna, adata_atac)\n",
    "guidance"
   ]
  },
  {
   "cell_type": "code",
   "execution_count": 45,
   "id": "fdfbf0e7-8f55-4959-87a2-3822adfcf17f",
   "metadata": {},
   "outputs": [
    {
     "data": {
      "text/plain": [
       "Index(['0610005C13Rik', '0610009B22Rik', '0610009E02Rik', '0610009L18Rik',\n",
       "       '0610010F05Rik', '0610030E20Rik', '0610031O16Rik', '0610038B21Rik',\n",
       "       '0610039K10Rik', '0610040B10Rik',\n",
       "       ...\n",
       "       'Trpd52l3', 'V1ra8', 'V1rd19', 'Vmn1r-ps128', 'Vmn1r14', 'Vmn1r181',\n",
       "       'Vmn1r193', 'Vmn1r68', 'Vmn1r82', 'n-R5s50'],\n",
       "      dtype='object', name='genes', length=28930)"
      ]
     },
     "execution_count": 45,
     "metadata": {},
     "output_type": "execute_result"
    }
   ],
   "source": [
    "adata.var_names"
   ]
  },
  {
   "cell_type": "code",
   "execution_count": null,
   "id": "de6f1f1a-1aa8-401d-883b-a7a420763dc9",
   "metadata": {
    "tags": []
   },
   "outputs": [],
   "source": [
    "get_gene_annotations(\n",
    "    adata=adata_rna,\n",
    "    adata_atac=adata_atac,\n",
    "    gtf_file_path=gtf_file_path)"
   ]
  },
  {
   "cell_type": "code",
   "execution_count": null,
   "id": "9a5f762f-7a28-4865-818c-eb1386712aae",
   "metadata": {
    "tags": []
   },
   "outputs": [],
   "source": [
    "adata_rna.var[:50]"
   ]
  },
  {
   "cell_type": "code",
   "execution_count": null,
   "id": "2e1f303f-3ce0-4002-9aa4-c6b4f8cacf1d",
   "metadata": {
    "tags": []
   },
   "outputs": [],
   "source": [
    "adata_atac.var[:50]"
   ]
  },
  {
   "cell_type": "code",
   "execution_count": null,
   "id": "50a065e9-f5db-4745-8afd-12e67d601462",
   "metadata": {
    "tags": []
   },
   "outputs": [],
   "source": [
    "# Gene Program Mask\n",
    "nichenet_keep_target_genes_ratio = 0.01\n",
    "nichenet_max_n_target_genes_per_gp = 25344\n",
    "include_mebocost_gps = True\n",
    "mebocost_species = \"mouse\"\n",
    "gp_filter_mode = \"subset\"\n",
    "combine_overlap_gps = True\n",
    "overlap_thresh_source_genes = 0.9\n",
    "overlap_thresh_target_genes = 0.9\n",
    "overlap_thresh_genes = 0.9\n",
    "\n",
    "# Data\n",
    "dataset = \"starmap_plus_mouse_cns\"\n",
    "reference_batches = [\"batch1_sample\", \"batch2_sample\", \"batch3_sample\"]\n",
    "counts_key = \"counts\"\n",
    "condition_key = \"batch\"\n",
    "n_neighbors = 12\n",
    "spatial_key = \"spatial\"\n",
    "adj_key = \"spatial_connectivities\"\n",
    "mapping_entity_key = \"mapping_entity\"\n",
    "filter_genes = True\n",
    "n_hvg = 2000\n",
    "gp_targets_mask_key = \"autotalker_gp_targets\"\n",
    "gp_sources_mask_key = \"autotalker_gp_sources\"\n",
    "gp_names_key = \"autotalker_gp_names\"\n",
    "\n",
    "# Model\n",
    "load_timestamp = \"27032023_184359\"\n",
    "latent_key = \"latent\"\n",
    "\n",
    "# Benchmarking\n",
    "cell_type_key = \"cell_type\"\n",
    "spatial_knng_key = \"autotalker_spatial_knng\"\n",
    "latent_knng_key = \"autotalker_latent_knng\"\n",
    "\n",
    "# Other\n",
    "random_seed = 0"
   ]
  },
  {
   "cell_type": "code",
   "execution_count": null,
   "id": "004668d0-3358-49fe-89e2-08a1f5b5005b",
   "metadata": {},
   "outputs": [],
   "source": [
    "run_number = 1"
   ]
  },
  {
   "cell_type": "code",
   "execution_count": null,
   "id": "e81e7148-5ae3-47f2-bc0a-ee2bb183352b",
   "metadata": {
    "tags": []
   },
   "outputs": [],
   "source": [
    "# Compute metrics\n",
    "metrics_dict = {}\n",
    "\n",
    "# Spatial conservation metrics\n",
    "metrics_dict[\"cas\"] = compute_cas(\n",
    "    adata=adata,\n",
    "    cell_type_key=cell_type_key,\n",
    "    condition_key=condition_key,\n",
    "    spatial_knng_key=spatial_knng_key,\n",
    "    latent_knng_key=latent_knng_key,\n",
    "    spatial_key=spatial_key,\n",
    "    latent_key=f\"{model.lower()}_{latent_key}_run{run_number}\")\n",
    "metrics_dict[\"clisis\"] = compute_clisis(\n",
    "    adata=adata,\n",
    "    cell_type_key=cell_type_key,\n",
    "    condition_key=condition_key,\n",
    "    spatial_knng_key=spatial_knng_key,\n",
    "    latent_knng_key=latent_knng_key,\n",
    "    spatial_key=spatial_key,\n",
    "    latent_key=f\"{model.lower()}_{latent_key}_run{run_number}\")\n",
    "\n",
    "# Batch correction metrics\n",
    "metrics_dict[\"asw\"] = scib.me.silhouette_batch(\n",
    "    adata=adata,\n",
    "    batch_key=condition_key,\n",
    "    label_key=cell_type_key,\n",
    "    embed=f\"{model.lower()}_{latent_key}_run{run_number}\")\n",
    "metrics_dict[\"ilisi\"] = scib.me.ilisi_graph(\n",
    "    adata=adata,\n",
    "    batch_key=condition_key,\n",
    "    type_=\"embed\",\n",
    "    use_rep=f\"{model.lower()}_{latent_key}_run{run_number}\")\n",
    "    #type_=\"knn\")"
   ]
  },
  {
   "cell_type": "code",
   "execution_count": null,
   "id": "91df9ba3-6726-4d4a-ba71-576496db9d6f",
   "metadata": {},
   "outputs": [],
   "source": [
    "# Autotalker\n",
    "metrics_dict"
   ]
  },
  {
   "cell_type": "code",
   "execution_count": null,
   "id": "8f489b9a-b827-42ab-99fd-fd959b3f6937",
   "metadata": {},
   "outputs": [],
   "source": [
    "sc.pp.neighbors(adata,\n",
    "                use_rep=f\"{model}_{latent_key}_run{run_number}\")\n",
    "sc.tl.umap(adata)\n",
    "\n",
    "# Plot UMAP with batch annotations\n",
    "fig = sc.pl.umap(adata,\n",
    "                 color=[condition_key],\n",
    "                 legend_fontsize=12,\n",
    "                 size=240000/len(adata),\n",
    "                 return_fig=True)\n",
    "fig.set_figheight(7)\n",
    "fig.set_figwidth(7)\n",
    "\n",
    "\n",
    "# Plot UMAP with cell type annotations\n",
    "fig = sc.pl.umap(adata,\n",
    "                 color=[cell_type_key],\n",
    "                 legend_fontsize=12,\n",
    "                 size=240000/len(adata),\n",
    "                 return_fig=True)\n",
    "fig.set_figheight(7)\n",
    "fig.set_figwidth(7)"
   ]
  },
  {
   "cell_type": "code",
   "execution_count": null,
   "id": "3f838113-5470-4b1e-ba24-2b86147a88cb",
   "metadata": {},
   "outputs": [],
   "source": [
    "1 / (2 * 2 * 2)"
   ]
  },
  {
   "cell_type": "code",
   "execution_count": null,
   "id": "899441f7-c171-479a-995f-b1affe37c937",
   "metadata": {},
   "outputs": [],
   "source": [
    "512 * 0.125"
   ]
  },
  {
   "cell_type": "code",
   "execution_count": null,
   "id": "a908c290-2ddb-4541-99d7-516fc77221de",
   "metadata": {
    "tags": []
   },
   "outputs": [],
   "source": [
    "# Autotalker\n",
    "metrics_dict"
   ]
  },
  {
   "cell_type": "code",
   "execution_count": null,
   "id": "d9e9d20a-1063-43c7-978f-2ff382befaeb",
   "metadata": {},
   "outputs": [],
   "source": [
    "sc.pp.neighbors(adata,\n",
    "                use_rep=f\"{model}_{latent_key}_run1\")\n",
    "sc.tl.umap(adata)\n",
    "\n",
    "# Plot UMAP with batch annotations\n",
    "fig = sc.pl.umap(adata,\n",
    "                 color=[condition_key],\n",
    "                 legend_fontsize=12,\n",
    "                 size=240000/len(adata),\n",
    "                 return_fig=True)\n",
    "fig.set_figheight(7)\n",
    "fig.set_figwidth(7)\n",
    "\n",
    "\n",
    "# Plot UMAP with cell type annotations\n",
    "fig = sc.pl.umap(adata,\n",
    "                 color=[cell_type_key],\n",
    "                 legend_fontsize=12,\n",
    "                 size=240000/len(adata),\n",
    "                 return_fig=True)\n",
    "fig.set_figheight(7)\n",
    "fig.set_figwidth(7)"
   ]
  },
  {
   "cell_type": "code",
   "execution_count": null,
   "id": "f833d4dd-f656-434e-a275-a96bedf40c6b",
   "metadata": {},
   "outputs": [],
   "source": [
    "sc.pp.neighbors(adata,\n",
    "                use_rep=f\"{model}_{latent_key}_run1\")\n",
    "sc.tl.umap(adata)\n",
    "\n",
    "# Plot UMAP with batch annotations\n",
    "fig = sc.pl.umap(adata,\n",
    "                 color=[condition_key],\n",
    "                 legend_fontsize=12,\n",
    "                 size=240000/len(adata),\n",
    "                 return_fig=True)\n",
    "fig.set_figheight(7)\n",
    "fig.set_figwidth(7)\n",
    "\n",
    "\n",
    "# Plot UMAP with cell type annotations\n",
    "fig = sc.pl.umap(adata,\n",
    "                 color=[cell_type_key],\n",
    "                 legend_fontsize=12,\n",
    "                 size=240000/len(adata),\n",
    "                 return_fig=True)\n",
    "fig.set_figheight(7)\n",
    "fig.set_figwidth(7)"
   ]
  },
  {
   "cell_type": "code",
   "execution_count": null,
   "id": "064137dd-6fab-4873-beb7-ba4986e598c9",
   "metadata": {
    "tags": []
   },
   "outputs": [],
   "source": [
    "sc.pp.neighbors(adata,\n",
    "                use_rep=f\"{model}_{latent_key}_run1\")\n",
    "sc.tl.umap(adata)\n",
    "\n",
    "# Plot UMAP with batch annotations\n",
    "fig = sc.pl.umap(adata,\n",
    "                 color=[condition_key],\n",
    "                 legend_fontsize=12,\n",
    "                 size=240000/len(adata),\n",
    "                 return_fig=True)\n",
    "fig.set_figheight(7)\n",
    "fig.set_figwidth(7)\n",
    "\n",
    "\n",
    "# Plot UMAP with cell type annotations\n",
    "fig = sc.pl.umap(adata,\n",
    "                 color=[cell_type_key],\n",
    "                 legend_fontsize=12,\n",
    "                 size=240000/len(adata),\n",
    "                 return_fig=True)\n",
    "fig.set_figheight(7)\n",
    "fig.set_figwidth(7)"
   ]
  },
  {
   "cell_type": "code",
   "execution_count": null,
   "id": "b70004eb-9862-44dd-83e3-708994e880dc",
   "metadata": {},
   "outputs": [],
   "source": []
  },
  {
   "cell_type": "code",
   "execution_count": null,
   "id": "227288dc-64d6-4342-a59d-0d63ff5ce55b",
   "metadata": {
    "tags": []
   },
   "outputs": [],
   "source": [
    "# Autotalker new (2 layers)\n",
    "metrics_dict"
   ]
  },
  {
   "cell_type": "code",
   "execution_count": null,
   "id": "00c9809b-1ac9-4165-a747-39121a391d7e",
   "metadata": {},
   "outputs": [],
   "source": [
    "# Autotalker new\n",
    "metrics_dict"
   ]
  },
  {
   "cell_type": "code",
   "execution_count": null,
   "id": "84dcc42e-3694-4b86-8764-171544d8ed82",
   "metadata": {},
   "outputs": [],
   "source": [
    "# Autotalker old\n",
    "metrics_dict"
   ]
  },
  {
   "cell_type": "code",
   "execution_count": null,
   "id": "1e8e1591-4a34-4825-a727-2fdcd44b14e4",
   "metadata": {},
   "outputs": [],
   "source": [
    "adata_graph = sc.read_h5ad(\"../../datasets/srt_data/gold/results/seqfish_mouse_organogenesis_graphst_oneshot_integrated.h5ad\")\n",
    "model = \"graphst\"\n",
    "adata = adata_graph"
   ]
  },
  {
   "cell_type": "code",
   "execution_count": null,
   "id": "319839c3-4e83-420e-873c-0813f61cfaf3",
   "metadata": {
    "tags": []
   },
   "outputs": [],
   "source": [
    "# GraphST\n",
    "metrics_dict"
   ]
  },
  {
   "cell_type": "code",
   "execution_count": null,
   "id": "1b7a45ac-c934-4f58-a132-df5b14b9550e",
   "metadata": {
    "tags": []
   },
   "outputs": [],
   "source": [
    "# GraphST\n",
    "sc.pp.neighbors(adata,\n",
    "                use_rep=f\"{model}_{latent_key}_run1\")\n",
    "sc.tl.umap(adata)\n",
    "\n",
    "# Plot UMAP with batch annotations\n",
    "fig = sc.pl.umap(adata,\n",
    "                 color=[condition_key],\n",
    "                 legend_fontsize=12,\n",
    "                 size=240000/len(adata),\n",
    "                 return_fig=True)\n",
    "fig.set_figheight(7)\n",
    "fig.set_figwidth(7)\n",
    "\n",
    "\n",
    "# Plot UMAP with cell type annbbbbotations\n",
    "fig = sc.pl.umap(adata,\n",
    "                 color=[cell_type_key],\n",
    "                 legend_fontsize=12,\n",
    "                 size=240000/len(adata),\n",
    "                 return_fig=True)\n",
    "fig.set_figheight(7)\n",
    "fig.set_figwidth(7)"
   ]
  },
  {
   "cell_type": "code",
   "execution_count": null,
   "id": "bfb4c79a-a344-4ac5-9dd9-e99f43fdf443",
   "metadata": {
    "tags": []
   },
   "outputs": [],
   "source": [
    "adata_scvi = sc.read_h5ad(\"../../datasets/srt_data/gold/results/seqfish_mouse_organogenesis_scvi_oneshot_integrated.h5ad\")\n",
    "model = \"scvi\"\n",
    "adata = adata_scvi"
   ]
  },
  {
   "cell_type": "code",
   "execution_count": null,
   "id": "90fd976b-619e-48b8-bb04-e5bd41154c67",
   "metadata": {
    "tags": []
   },
   "outputs": [],
   "source": [
    "# scVI\n",
    "metrics_dict"
   ]
  },
  {
   "cell_type": "code",
   "execution_count": null,
   "id": "9c531699-21eb-42a2-82c7-47eea82b225d",
   "metadata": {
    "tags": []
   },
   "outputs": [],
   "source": [
    "# scVI\n",
    "sc.pp.neighbors(adata,\n",
    "                use_rep=f\"{model}_{latent_key}_run1\")\n",
    "sc.tl.umap(adata)\n",
    "\n",
    "# Plot UMAP with batch annotations\n",
    "fig = sc.pl.umap(adata,\n",
    "                 color=[condition_key],\n",
    "                 legend_fontsize=12,\n",
    "                 size=240000/len(adata),\n",
    "                 return_fig=True)\n",
    "fig.set_figheight(7)\n",
    "fig.set_figwidth(7)\n",
    "\n",
    "\n",
    "# Plot UMAP with cell type annbbbbotations\n",
    "fig = sc.pl.umap(adata,\n",
    "                 color=[cell_type_key],\n",
    "                 legend_fontsize=12,\n",
    "                 size=240000/len(adata),\n",
    "                 return_fig=True)\n",
    "fig.set_figheight(7)\n",
    "fig.set_figwidth(7)"
   ]
  },
  {
   "cell_type": "code",
   "execution_count": null,
   "id": "73b2dc4d-061d-4895-bf39-735ec27f0ccc",
   "metadata": {},
   "outputs": [],
   "source": [
    "adata.obsp[\"autotalker_latent_run1_connectivities\"].sum(axis=1)"
   ]
  },
  {
   "cell_type": "code",
   "execution_count": null,
   "id": "053c3c2d-9b15-4e28-9b91-c5a0b80fa2f3",
   "metadata": {},
   "outputs": [],
   "source": [
    "sc.pp.neighbors(adata=adata,\n",
    "                # use_rep=spatial_key,\n",
    "                n_neighbors=15,\n",
    "                random_state=0,\n",
    "                key_added=\"spatial\",\n",
    "                knn=True)"
   ]
  },
  {
   "cell_type": "code",
   "execution_count": null,
   "id": "dd5e855b-b5cd-4acf-8069-25ca63c04d54",
   "metadata": {},
   "outputs": [],
   "source": [
    "adata.obsp[\"spatial_connectivities\"].toarray()[:10, :200]"
   ]
  },
  {
   "cell_type": "code",
   "execution_count": null,
   "id": "fbf3064c-96b2-4afd-9d2f-bb19375a7561",
   "metadata": {},
   "outputs": [],
   "source": [
    "batches = adata.obs[condition_key].unique().tolist()[:7]"
   ]
  },
  {
   "cell_type": "code",
   "execution_count": null,
   "id": "0eb3dd42-d2c9-48fd-b77d-1a95322c0561",
   "metadata": {},
   "outputs": [],
   "source": [
    "adata_batch_list = []\n",
    "for batch in batches:\n",
    "    adata_batch_list.append(adata[adata.obs[condition_key] == batch][:50, :].copy())\n",
    "adata = sc.concat(adata_batch_list, join=\"inner\")\n",
    "\n",
    "adata.obs[\"cell_type\"] = adata.obs[\"cell_type\"].astype(\"category\")"
   ]
  },
  {
   "cell_type": "code",
   "execution_count": null,
   "id": "0a2316cb-3fd2-4708-b63f-4a7d50667d58",
   "metadata": {},
   "outputs": [],
   "source": [
    "adata"
   ]
  },
  {
   "cell_type": "code",
   "execution_count": null,
   "id": "d2c757ce-b42d-4bf4-b918-b93f9ca1efbe",
   "metadata": {},
   "outputs": [],
   "source": [
    "adata_sample = adata[:5, :]"
   ]
  },
  {
   "cell_type": "code",
   "execution_count": null,
   "id": "3fa9e70d-a35f-4ce3-ad21-501e362d49a9",
   "metadata": {},
   "outputs": [],
   "source": [
    "adata_sample = adata_batch_list[0].copy()"
   ]
  },
  {
   "cell_type": "code",
   "execution_count": null,
   "id": "d6ef61f6-8586-496f-9917-265a499b8061",
   "metadata": {},
   "outputs": [],
   "source": [
    "adata_sample.obsp[\"spatial_connectivities\"].toarray()"
   ]
  },
  {
   "cell_type": "code",
   "execution_count": null,
   "id": "5e69718d-abfe-4b78-a927-d3eaae928b29",
   "metadata": {},
   "outputs": [],
   "source": [
    "import squidpy as sq\n",
    "sq.gr.nhood_enrichment(adata=adata_sample,\n",
    "                       cluster_key=\"cell_type\",\n",
    "                       connectivity_key=\"spatial\",\n",
    "                       n_perms=1000,\n",
    "                       seed=0,\n",
    "                       show_progress_bar=False)"
   ]
  },
  {
   "cell_type": "code",
   "execution_count": null,
   "id": "05f3867a-a86d-408f-a85f-2300db2e90b0",
   "metadata": {},
   "outputs": [],
   "source": [
    "# Compute metrics\n",
    "metrics_dict = {}\n",
    "\n",
    "# Spatial conservation metrics\n",
    "metrics_dict[\"cas\"] = compute_cas(\n",
    "    adata=adata,\n",
    "    cell_type_key=cell_type_key,\n",
    "    condition_key=condition_key,\n",
    "    spatial_knng_key=spatial_knng_key,\n",
    "    latent_knng_key=latent_knng_key,\n",
    "    spatial_key=spatial_key,\n",
    "    latent_key=f\"{model.lower()}_{latent_key}_run1\")\n",
    "\"\"\"\n",
    "metrics_dict[\"clisis\"] = compute_clisis(\n",
    "    adata=adata,\n",
    "    cell_type_key=cell_type_key,\n",
    "    condition_key=condition_key,\n",
    "    spatial_knng_key=spatial_knng_key,\n",
    "    latent_knng_key=latent_knng_key,\n",
    "    spatial_key=spatial_key,\n",
    "    latent_key=f\"{model.lower()}_{latent_key}_run1\")\n",
    "\n",
    "# Batch correction metrics\n",
    "metrics_dict[\"asw\"] = scib.me.silhouette_batch(\n",
    "    adata=adata,\n",
    "    batch_key=condition_key,\n",
    "    label_key=cell_type_key,\n",
    "    embed=f\"{model.lower()}_{latent_key}_run1\")\n",
    "metrics_dict[\"ilisi\"] = scib.me.ilisi_graph(\n",
    "    adata=adata,\n",
    "    batch_key=condition_key,\n",
    "    type_=\"embed\",\n",
    "    use_rep=f\"{model.lower()}_{latent_key}_run1\")\n",
    "    #type_=\"knn\")\n",
    "\"\"\""
   ]
  },
  {
   "cell_type": "code",
   "execution_count": null,
   "id": "6748f0f6-ecc1-4ed8-af22-6e04954961b1",
   "metadata": {},
   "outputs": [],
   "source": []
  }
 ],
 "metadata": {
  "kernelspec": {
   "display_name": "Python 3 (ipykernel)",
   "language": "python",
   "name": "python3"
  },
  "language_info": {
   "codemirror_mode": {
    "name": "ipython",
    "version": 3
   },
   "file_extension": ".py",
   "mimetype": "text/x-python",
   "name": "python",
   "nbconvert_exporter": "python",
   "pygments_lexer": "ipython3",
   "version": "3.10.9"
  }
 },
 "nbformat": 4,
 "nbformat_minor": 5
}
