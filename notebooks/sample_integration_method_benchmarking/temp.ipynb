{
 "cells": [
  {
   "cell_type": "code",
   "execution_count": 1,
   "id": "01360ce4-b3f1-4766-ae16-db4c327aa091",
   "metadata": {
    "tags": []
   },
   "outputs": [],
   "source": [
    "%load_ext autoreload\n",
    "%autoreload 2"
   ]
  },
  {
   "cell_type": "code",
   "execution_count": 2,
   "id": "4a4ceeba-ef09-4559-88e2-cbe464ecd1d7",
   "metadata": {
    "tags": []
   },
   "outputs": [],
   "source": [
    "import matplotlib.pyplot as plt\n",
    "import scanpy as sc\n",
    "import scib"
   ]
  },
  {
   "cell_type": "code",
   "execution_count": 3,
   "id": "8d74beea-c388-4e25-954b-626b4367f596",
   "metadata": {
    "tags": []
   },
   "outputs": [],
   "source": [
    "import sys\n",
    "sys.path.append(\"../../../autotalker\")"
   ]
  },
  {
   "cell_type": "code",
   "execution_count": 4,
   "id": "b1dbfaf0-0fde-4138-9beb-39b73e56b95d",
   "metadata": {
    "tags": []
   },
   "outputs": [],
   "source": [
    "from autotalker.benchmarking import compute_clisis, compute_cas"
   ]
  },
  {
   "cell_type": "code",
   "execution_count": 49,
   "id": "7ac0b66a-c568-44e6-95aa-f1042b27b782",
   "metadata": {
    "tags": []
   },
   "outputs": [],
   "source": [
    "adata_auto = sc.read_h5ad(\"../../datasets/srt_data/gold/results/seqfish_mouse_organogenesis_autotalker_oneshot_integrated.h5ad\")\n",
    "model = \"autotalker\"\n",
    "adata = adata_auto"
   ]
  },
  {
   "cell_type": "code",
   "execution_count": 21,
   "id": "60368746-9c34-4c03-85d7-80e1d58aba18",
   "metadata": {},
   "outputs": [
    {
     "data": {
      "text/html": [
       "<div>\n",
       "<style scoped>\n",
       "    .dataframe tbody tr th:only-of-type {\n",
       "        vertical-align: middle;\n",
       "    }\n",
       "\n",
       "    .dataframe tbody tr th {\n",
       "        vertical-align: top;\n",
       "    }\n",
       "\n",
       "    .dataframe thead th {\n",
       "        text-align: right;\n",
       "    }\n",
       "</style>\n",
       "<table border=\"1\" class=\"dataframe\">\n",
       "  <thead>\n",
       "    <tr style=\"text-align: right;\">\n",
       "      <th></th>\n",
       "    </tr>\n",
       "  </thead>\n",
       "  <tbody>\n",
       "    <tr>\n",
       "      <th>Abcc4</th>\n",
       "    </tr>\n",
       "    <tr>\n",
       "      <th>Acp5</th>\n",
       "    </tr>\n",
       "    <tr>\n",
       "      <th>Acvr1</th>\n",
       "    </tr>\n",
       "    <tr>\n",
       "      <th>Acvr2a</th>\n",
       "    </tr>\n",
       "    <tr>\n",
       "      <th>Adora2b</th>\n",
       "    </tr>\n",
       "    <tr>\n",
       "      <th>...</th>\n",
       "    </tr>\n",
       "    <tr>\n",
       "      <th>Wnt8a</th>\n",
       "    </tr>\n",
       "    <tr>\n",
       "      <th>Xist</th>\n",
       "    </tr>\n",
       "    <tr>\n",
       "      <th>Zfp444</th>\n",
       "    </tr>\n",
       "    <tr>\n",
       "      <th>Zfp57</th>\n",
       "    </tr>\n",
       "    <tr>\n",
       "      <th>Zic3</th>\n",
       "    </tr>\n",
       "  </tbody>\n",
       "</table>\n",
       "<p>351 rows × 0 columns</p>\n",
       "</div>"
      ],
      "text/plain": [
       "Empty DataFrame\n",
       "Columns: []\n",
       "Index: [Abcc4, Acp5, Acvr1, Acvr2a, Adora2b, Afp, Ahnak, Akr1c19, Alas2, Aldh1a2, Aldh2, Aldob, Alx1, Apln, Aplnr, Apoa4, Apob, Aqp3, Aqp8, Arhgdib, Arl4d, Ash2l, Ass1, Atp1b1, Axin2, Bak1, Bambi, Bcl2, Bid, Bin2, Bmi1, Bmp2, Bmp4, Bmp5, Bmp7, Bmper, Car7, Cavin3, Cbfa2t3, Ccng1, Cd34, Cd8a, Cdh1, Cdh2, Cdh5, Cdx1, Cdx2, Cdx4, Cer1, Cers4, Chrd, Cldn4, Cldn5, Clic6, Cntfr, Col1a1, Col1a2, Col26a1, Col4a1, Coro1a, Cpm, Cpn1, Cxcl12, Cyp26a1, Ddit4l, Dkk1, Dlk1, Dll1, Dll3, Dnajb13, Dnd1, Dnmt3a, Dnmt3b, Dnmt3l, Dppa2, Dusp6, Eed, Efna5, Elf5, Emcn, En1, Eng, Eomes, Ep300, Epcam, Epha5, Epor, Erg, Esam, Ets1, Etv4, Evx1, Ezh1, Ezh2, F2r, F2rl2, Fam181b, Fezf1, Fgf10, Fgf15, ...]\n",
       "\n",
       "[351 rows x 0 columns]"
      ]
     },
     "execution_count": 21,
     "metadata": {},
     "output_type": "execute_result"
    }
   ],
   "source": [
    "adata.var"
   ]
  },
  {
   "cell_type": "code",
   "execution_count": 22,
   "id": "8101b295-0a83-4c0a-901e-1ba3d77d00d3",
   "metadata": {},
   "outputs": [],
   "source": [
    "from autotalker.utils import get_gene_annotations"
   ]
  },
  {
   "cell_type": "code",
   "execution_count": 35,
   "id": "574947d6-a930-4e9b-85fe-4bafd6188513",
   "metadata": {},
   "outputs": [],
   "source": [
    "ga_data_folder_path = \"../../datasets/ga_data\"\n",
    "gtf_file_path = ga_data_folder_path + \"/gencode.vM32.chr_patch_hapl_scaff.annotation.gtf.gz\""
   ]
  },
  {
   "cell_type": "code",
   "execution_count": 46,
   "id": "1b4fa74b-1dd5-4d42-91a5-af9d7df75779",
   "metadata": {},
   "outputs": [
    {
     "name": "stderr",
     "output_type": "stream",
     "text": [
      "/home/sbirk/miniconda3/envs/autotalker/lib/python3.9/site-packages/anndata/_io/specs/methods.py:584: OldFormatWarning: Element '/obs/__categories/domain' was written without encoding metadata.\n",
      "  categories = read_elem(categories_dset)\n",
      "/home/sbirk/miniconda3/envs/autotalker/lib/python3.9/site-packages/anndata/_io/specs/methods.py:587: OldFormatWarning: Element '/obs/domain' was written without encoding metadata.\n",
      "  read_elem(dataset), categories, ordered=ordered\n",
      "/home/sbirk/miniconda3/envs/autotalker/lib/python3.9/site-packages/anndata/_io/specs/methods.py:584: OldFormatWarning: Element '/obs/__categories/cell_type' was written without encoding metadata.\n",
      "  categories = read_elem(categories_dset)\n",
      "/home/sbirk/miniconda3/envs/autotalker/lib/python3.9/site-packages/anndata/_io/specs/methods.py:587: OldFormatWarning: Element '/obs/cell_type' was written without encoding metadata.\n",
      "  read_elem(dataset), categories, ordered=ordered\n",
      "/home/sbirk/miniconda3/envs/autotalker/lib/python3.9/site-packages/anndata/_io/specs/methods.py:590: OldFormatWarning: Element '/obs/cells' was written without encoding metadata.\n",
      "  return read_elem(dataset)\n",
      "/home/sbirk/miniconda3/envs/autotalker/lib/python3.9/site-packages/anndata/_io/specs/methods.py:590: OldFormatWarning: Element '/var/genes' was written without encoding metadata.\n",
      "  return read_elem(dataset)\n"
     ]
    }
   ],
   "source": [
    "adata = sc.read_h5ad(ga_data_folder_path + \"/Chen-2019-RNA.h5ad\")"
   ]
  },
  {
   "cell_type": "code",
   "execution_count": 39,
   "id": "39ca2f1c-911e-4a24-8d17-435e22f40077",
   "metadata": {},
   "outputs": [],
   "source": [
    "import scglue\n",
    "scglue.data.get_gene_annotation(\n",
    "    adata, gtf=gtf_file_path,\n",
    "    gtf_by=\"gene_name\"\n",
    ")"
   ]
  },
  {
   "cell_type": "code",
   "execution_count": 45,
   "id": "fdfbf0e7-8f55-4959-87a2-3822adfcf17f",
   "metadata": {},
   "outputs": [
    {
     "data": {
      "text/plain": [
       "Index(['0610005C13Rik', '0610009B22Rik', '0610009E02Rik', '0610009L18Rik',\n",
       "       '0610010F05Rik', '0610030E20Rik', '0610031O16Rik', '0610038B21Rik',\n",
       "       '0610039K10Rik', '0610040B10Rik',\n",
       "       ...\n",
       "       'Trpd52l3', 'V1ra8', 'V1rd19', 'Vmn1r-ps128', 'Vmn1r14', 'Vmn1r181',\n",
       "       'Vmn1r193', 'Vmn1r68', 'Vmn1r82', 'n-R5s50'],\n",
       "      dtype='object', name='genes', length=28930)"
      ]
     },
     "execution_count": 45,
     "metadata": {},
     "output_type": "execute_result"
    }
   ],
   "source": [
    "adata.var_names"
   ]
  },
  {
   "cell_type": "code",
   "execution_count": 50,
   "id": "de6f1f1a-1aa8-401d-883b-a7a420763dc9",
   "metadata": {},
   "outputs": [],
   "source": [
    "get_gene_annotations(\n",
    "    adata=adata,\n",
    "    gtf_file_path=gtf_file_path)"
   ]
  },
  {
   "cell_type": "code",
   "execution_count": 51,
   "id": "9a5f762f-7a28-4865-818c-eb1386712aae",
   "metadata": {},
   "outputs": [
    {
     "data": {
      "text/html": [
       "<div>\n",
       "<style scoped>\n",
       "    .dataframe tbody tr th:only-of-type {\n",
       "        vertical-align: middle;\n",
       "    }\n",
       "\n",
       "    .dataframe tbody tr th {\n",
       "        vertical-align: top;\n",
       "    }\n",
       "\n",
       "    .dataframe thead th {\n",
       "        text-align: right;\n",
       "    }\n",
       "</style>\n",
       "<table border=\"1\" class=\"dataframe\">\n",
       "  <thead>\n",
       "    <tr style=\"text-align: right;\">\n",
       "      <th></th>\n",
       "      <th>chrom</th>\n",
       "      <th>chromStart</th>\n",
       "      <th>chromEnd</th>\n",
       "      <th>name</th>\n",
       "      <th>score</th>\n",
       "      <th>strand</th>\n",
       "      <th>thickStart</th>\n",
       "      <th>thickEnd</th>\n",
       "      <th>itemRgb</th>\n",
       "      <th>blockCount</th>\n",
       "      <th>blockSizes</th>\n",
       "      <th>blockStarts</th>\n",
       "      <th>gene_id</th>\n",
       "      <th>gene_type</th>\n",
       "      <th>mgi_id</th>\n",
       "      <th>havana_gene</th>\n",
       "      <th>tag</th>\n",
       "    </tr>\n",
       "  </thead>\n",
       "  <tbody>\n",
       "    <tr>\n",
       "      <th>Abcc4</th>\n",
       "      <td>chr14</td>\n",
       "      <td>118720103.0</td>\n",
       "      <td>118943631.0</td>\n",
       "      <td>Abcc4</td>\n",
       "      <td>.</td>\n",
       "      <td>-</td>\n",
       "      <td>.</td>\n",
       "      <td>.</td>\n",
       "      <td>.</td>\n",
       "      <td>.</td>\n",
       "      <td>.</td>\n",
       "      <td>.</td>\n",
       "      <td>ENSMUSG00000032849.15</td>\n",
       "      <td>protein_coding</td>\n",
       "      <td>MGI:2443111</td>\n",
       "      <td>OTTMUSG00000069739.1</td>\n",
       "      <td>ncRNA_host</td>\n",
       "    </tr>\n",
       "    <tr>\n",
       "      <th>Acp5</th>\n",
       "      <td>chr9</td>\n",
       "      <td>22038022.0</td>\n",
       "      <td>22047007.0</td>\n",
       "      <td>Acp5</td>\n",
       "      <td>.</td>\n",
       "      <td>-</td>\n",
       "      <td>.</td>\n",
       "      <td>.</td>\n",
       "      <td>.</td>\n",
       "      <td>.</td>\n",
       "      <td>.</td>\n",
       "      <td>.</td>\n",
       "      <td>ENSMUSG00000001348.16</td>\n",
       "      <td>protein_coding</td>\n",
       "      <td>MGI:87883</td>\n",
       "      <td>OTTMUSG00000062335.1</td>\n",
       "      <td>NaN</td>\n",
       "    </tr>\n",
       "    <tr>\n",
       "      <th>Acvr1</th>\n",
       "      <td>chr2</td>\n",
       "      <td>58278655.0</td>\n",
       "      <td>58457169.0</td>\n",
       "      <td>Acvr1</td>\n",
       "      <td>.</td>\n",
       "      <td>-</td>\n",
       "      <td>.</td>\n",
       "      <td>.</td>\n",
       "      <td>.</td>\n",
       "      <td>.</td>\n",
       "      <td>.</td>\n",
       "      <td>.</td>\n",
       "      <td>ENSMUSG00000026836.16</td>\n",
       "      <td>protein_coding</td>\n",
       "      <td>MGI:87911</td>\n",
       "      <td>OTTMUSG00000012677.4</td>\n",
       "      <td>NaN</td>\n",
       "    </tr>\n",
       "    <tr>\n",
       "      <th>Acvr2a</th>\n",
       "      <td>chr2</td>\n",
       "      <td>48704120.0</td>\n",
       "      <td>48793281.0</td>\n",
       "      <td>Acvr2a</td>\n",
       "      <td>.</td>\n",
       "      <td>+</td>\n",
       "      <td>.</td>\n",
       "      <td>.</td>\n",
       "      <td>.</td>\n",
       "      <td>.</td>\n",
       "      <td>.</td>\n",
       "      <td>.</td>\n",
       "      <td>ENSMUSG00000052155.6</td>\n",
       "      <td>protein_coding</td>\n",
       "      <td>MGI:102806</td>\n",
       "      <td>OTTMUSG00000012394.1</td>\n",
       "      <td>NaN</td>\n",
       "    </tr>\n",
       "    <tr>\n",
       "      <th>Adora2b</th>\n",
       "      <td>chr11</td>\n",
       "      <td>62139809.0</td>\n",
       "      <td>62157279.0</td>\n",
       "      <td>Adora2b</td>\n",
       "      <td>.</td>\n",
       "      <td>+</td>\n",
       "      <td>.</td>\n",
       "      <td>.</td>\n",
       "      <td>.</td>\n",
       "      <td>.</td>\n",
       "      <td>.</td>\n",
       "      <td>.</td>\n",
       "      <td>ENSMUSG00000018500.3</td>\n",
       "      <td>protein_coding</td>\n",
       "      <td>MGI:99403</td>\n",
       "      <td>OTTMUSG00000005854.1</td>\n",
       "      <td>NaN</td>\n",
       "    </tr>\n",
       "    <tr>\n",
       "      <th>...</th>\n",
       "      <td>...</td>\n",
       "      <td>...</td>\n",
       "      <td>...</td>\n",
       "      <td>...</td>\n",
       "      <td>...</td>\n",
       "      <td>...</td>\n",
       "      <td>...</td>\n",
       "      <td>...</td>\n",
       "      <td>...</td>\n",
       "      <td>...</td>\n",
       "      <td>...</td>\n",
       "      <td>...</td>\n",
       "      <td>...</td>\n",
       "      <td>...</td>\n",
       "      <td>...</td>\n",
       "      <td>...</td>\n",
       "      <td>...</td>\n",
       "    </tr>\n",
       "    <tr>\n",
       "      <th>Wnt8a</th>\n",
       "      <td>chr18</td>\n",
       "      <td>34675365.0</td>\n",
       "      <td>34681326.0</td>\n",
       "      <td>Wnt8a</td>\n",
       "      <td>.</td>\n",
       "      <td>+</td>\n",
       "      <td>.</td>\n",
       "      <td>.</td>\n",
       "      <td>.</td>\n",
       "      <td>.</td>\n",
       "      <td>.</td>\n",
       "      <td>.</td>\n",
       "      <td>ENSMUSG00000012282.3</td>\n",
       "      <td>protein_coding</td>\n",
       "      <td>MGI:107924</td>\n",
       "      <td>OTTMUSG00000073230.1</td>\n",
       "      <td>NaN</td>\n",
       "    </tr>\n",
       "    <tr>\n",
       "      <th>Xist</th>\n",
       "      <td>chrX</td>\n",
       "      <td>102503971.0</td>\n",
       "      <td>102526860.0</td>\n",
       "      <td>Xist</td>\n",
       "      <td>.</td>\n",
       "      <td>-</td>\n",
       "      <td>.</td>\n",
       "      <td>.</td>\n",
       "      <td>.</td>\n",
       "      <td>.</td>\n",
       "      <td>.</td>\n",
       "      <td>.</td>\n",
       "      <td>ENSMUSG00000086503.5</td>\n",
       "      <td>lncRNA</td>\n",
       "      <td>MGI:98974</td>\n",
       "      <td>OTTMUSG00000018295.5</td>\n",
       "      <td>ncRNA_host</td>\n",
       "    </tr>\n",
       "    <tr>\n",
       "      <th>Zfp444</th>\n",
       "      <td>chr7</td>\n",
       "      <td>6175224.0</td>\n",
       "      <td>6196810.0</td>\n",
       "      <td>Zfp444</td>\n",
       "      <td>.</td>\n",
       "      <td>+</td>\n",
       "      <td>.</td>\n",
       "      <td>.</td>\n",
       "      <td>.</td>\n",
       "      <td>.</td>\n",
       "      <td>.</td>\n",
       "      <td>.</td>\n",
       "      <td>ENSMUSG00000044876.16</td>\n",
       "      <td>protein_coding</td>\n",
       "      <td>MGI:1923365</td>\n",
       "      <td>OTTMUSG00000022336.4</td>\n",
       "      <td>NaN</td>\n",
       "    </tr>\n",
       "    <tr>\n",
       "      <th>Zfp57</th>\n",
       "      <td>chr17</td>\n",
       "      <td>37312054.0</td>\n",
       "      <td>37321527.0</td>\n",
       "      <td>Zfp57</td>\n",
       "      <td>.</td>\n",
       "      <td>+</td>\n",
       "      <td>.</td>\n",
       "      <td>.</td>\n",
       "      <td>.</td>\n",
       "      <td>.</td>\n",
       "      <td>.</td>\n",
       "      <td>.</td>\n",
       "      <td>ENSMUSG00000036036.16</td>\n",
       "      <td>protein_coding</td>\n",
       "      <td>MGI:99204</td>\n",
       "      <td>OTTMUSG00000037387.4</td>\n",
       "      <td>NaN</td>\n",
       "    </tr>\n",
       "    <tr>\n",
       "      <th>Zic3</th>\n",
       "      <td>chrX</td>\n",
       "      <td>57068059.0</td>\n",
       "      <td>57087096.0</td>\n",
       "      <td>Zic3</td>\n",
       "      <td>.</td>\n",
       "      <td>+</td>\n",
       "      <td>.</td>\n",
       "      <td>.</td>\n",
       "      <td>.</td>\n",
       "      <td>.</td>\n",
       "      <td>.</td>\n",
       "      <td>.</td>\n",
       "      <td>ENSMUSG00000067860.12</td>\n",
       "      <td>protein_coding</td>\n",
       "      <td>MGI:106676</td>\n",
       "      <td>OTTMUSG00000017528.6</td>\n",
       "      <td>NaN</td>\n",
       "    </tr>\n",
       "  </tbody>\n",
       "</table>\n",
       "<p>351 rows × 17 columns</p>\n",
       "</div>"
      ],
      "text/plain": [
       "         chrom   chromStart     chromEnd     name score strand thickStart  \\\n",
       "Abcc4    chr14  118720103.0  118943631.0    Abcc4     .      -          .   \n",
       "Acp5      chr9   22038022.0   22047007.0     Acp5     .      -          .   \n",
       "Acvr1     chr2   58278655.0   58457169.0    Acvr1     .      -          .   \n",
       "Acvr2a    chr2   48704120.0   48793281.0   Acvr2a     .      +          .   \n",
       "Adora2b  chr11   62139809.0   62157279.0  Adora2b     .      +          .   \n",
       "...        ...          ...          ...      ...   ...    ...        ...   \n",
       "Wnt8a    chr18   34675365.0   34681326.0    Wnt8a     .      +          .   \n",
       "Xist      chrX  102503971.0  102526860.0     Xist     .      -          .   \n",
       "Zfp444    chr7    6175224.0    6196810.0   Zfp444     .      +          .   \n",
       "Zfp57    chr17   37312054.0   37321527.0    Zfp57     .      +          .   \n",
       "Zic3      chrX   57068059.0   57087096.0     Zic3     .      +          .   \n",
       "\n",
       "        thickEnd itemRgb blockCount blockSizes blockStarts  \\\n",
       "Abcc4          .       .          .          .           .   \n",
       "Acp5           .       .          .          .           .   \n",
       "Acvr1          .       .          .          .           .   \n",
       "Acvr2a         .       .          .          .           .   \n",
       "Adora2b        .       .          .          .           .   \n",
       "...          ...     ...        ...        ...         ...   \n",
       "Wnt8a          .       .          .          .           .   \n",
       "Xist           .       .          .          .           .   \n",
       "Zfp444         .       .          .          .           .   \n",
       "Zfp57          .       .          .          .           .   \n",
       "Zic3           .       .          .          .           .   \n",
       "\n",
       "                       gene_id       gene_type       mgi_id  \\\n",
       "Abcc4    ENSMUSG00000032849.15  protein_coding  MGI:2443111   \n",
       "Acp5     ENSMUSG00000001348.16  protein_coding    MGI:87883   \n",
       "Acvr1    ENSMUSG00000026836.16  protein_coding    MGI:87911   \n",
       "Acvr2a    ENSMUSG00000052155.6  protein_coding   MGI:102806   \n",
       "Adora2b   ENSMUSG00000018500.3  protein_coding    MGI:99403   \n",
       "...                        ...             ...          ...   \n",
       "Wnt8a     ENSMUSG00000012282.3  protein_coding   MGI:107924   \n",
       "Xist      ENSMUSG00000086503.5          lncRNA    MGI:98974   \n",
       "Zfp444   ENSMUSG00000044876.16  protein_coding  MGI:1923365   \n",
       "Zfp57    ENSMUSG00000036036.16  protein_coding    MGI:99204   \n",
       "Zic3     ENSMUSG00000067860.12  protein_coding   MGI:106676   \n",
       "\n",
       "                  havana_gene         tag  \n",
       "Abcc4    OTTMUSG00000069739.1  ncRNA_host  \n",
       "Acp5     OTTMUSG00000062335.1         NaN  \n",
       "Acvr1    OTTMUSG00000012677.4         NaN  \n",
       "Acvr2a   OTTMUSG00000012394.1         NaN  \n",
       "Adora2b  OTTMUSG00000005854.1         NaN  \n",
       "...                       ...         ...  \n",
       "Wnt8a    OTTMUSG00000073230.1         NaN  \n",
       "Xist     OTTMUSG00000018295.5  ncRNA_host  \n",
       "Zfp444   OTTMUSG00000022336.4         NaN  \n",
       "Zfp57    OTTMUSG00000037387.4         NaN  \n",
       "Zic3     OTTMUSG00000017528.6         NaN  \n",
       "\n",
       "[351 rows x 17 columns]"
      ]
     },
     "execution_count": 51,
     "metadata": {},
     "output_type": "execute_result"
    }
   ],
   "source": [
    "adata.var"
   ]
  },
  {
   "cell_type": "code",
   "execution_count": null,
   "id": "50a065e9-f5db-4745-8afd-12e67d601462",
   "metadata": {
    "tags": []
   },
   "outputs": [],
   "source": [
    "# Gene Program Mask\n",
    "nichenet_keep_target_genes_ratio = 0.01\n",
    "nichenet_max_n_target_genes_per_gp = 25344\n",
    "include_mebocost_gps = True\n",
    "mebocost_species = \"mouse\"\n",
    "gp_filter_mode = \"subset\"\n",
    "combine_overlap_gps = True\n",
    "overlap_thresh_source_genes = 0.9\n",
    "overlap_thresh_target_genes = 0.9\n",
    "overlap_thresh_genes = 0.9\n",
    "\n",
    "# Data\n",
    "dataset = \"starmap_plus_mouse_cns\"\n",
    "reference_batches = [\"batch1_sample\", \"batch2_sample\", \"batch3_sample\"]\n",
    "counts_key = \"counts\"\n",
    "condition_key = \"batch\"\n",
    "n_neighbors = 12\n",
    "spatial_key = \"spatial\"\n",
    "adj_key = \"spatial_connectivities\"\n",
    "mapping_entity_key = \"mapping_entity\"\n",
    "filter_genes = True\n",
    "n_hvg = 2000\n",
    "gp_targets_mask_key = \"autotalker_gp_targets\"\n",
    "gp_sources_mask_key = \"autotalker_gp_sources\"\n",
    "gp_names_key = \"autotalker_gp_names\"\n",
    "\n",
    "# Model\n",
    "load_timestamp = \"27032023_184359\"\n",
    "latent_key = \"latent\"\n",
    "\n",
    "# Benchmarking\n",
    "cell_type_key = \"cell_type\"\n",
    "spatial_knng_key = \"autotalker_spatial_knng\"\n",
    "latent_knng_key = \"autotalker_latent_knng\"\n",
    "\n",
    "# Other\n",
    "random_seed = 0"
   ]
  },
  {
   "cell_type": "code",
   "execution_count": null,
   "id": "004668d0-3358-49fe-89e2-08a1f5b5005b",
   "metadata": {},
   "outputs": [],
   "source": [
    "run_number = 1"
   ]
  },
  {
   "cell_type": "code",
   "execution_count": null,
   "id": "e81e7148-5ae3-47f2-bc0a-ee2bb183352b",
   "metadata": {
    "tags": []
   },
   "outputs": [],
   "source": [
    "# Compute metrics\n",
    "metrics_dict = {}\n",
    "\n",
    "# Spatial conservation metrics\n",
    "metrics_dict[\"cas\"] = compute_cas(\n",
    "    adata=adata,\n",
    "    cell_type_key=cell_type_key,\n",
    "    condition_key=condition_key,\n",
    "    spatial_knng_key=spatial_knng_key,\n",
    "    latent_knng_key=latent_knng_key,\n",
    "    spatial_key=spatial_key,\n",
    "    latent_key=f\"{model.lower()}_{latent_key}_run{run_number}\")\n",
    "metrics_dict[\"clisis\"] = compute_clisis(\n",
    "    adata=adata,\n",
    "    cell_type_key=cell_type_key,\n",
    "    condition_key=condition_key,\n",
    "    spatial_knng_key=spatial_knng_key,\n",
    "    latent_knng_key=latent_knng_key,\n",
    "    spatial_key=spatial_key,\n",
    "    latent_key=f\"{model.lower()}_{latent_key}_run{run_number}\")\n",
    "\n",
    "# Batch correction metrics\n",
    "metrics_dict[\"asw\"] = scib.me.silhouette_batch(\n",
    "    adata=adata,\n",
    "    batch_key=condition_key,\n",
    "    label_key=cell_type_key,\n",
    "    embed=f\"{model.lower()}_{latent_key}_run{run_number}\")\n",
    "metrics_dict[\"ilisi\"] = scib.me.ilisi_graph(\n",
    "    adata=adata,\n",
    "    batch_key=condition_key,\n",
    "    type_=\"embed\",\n",
    "    use_rep=f\"{model.lower()}_{latent_key}_run{run_number}\")\n",
    "    #type_=\"knn\")"
   ]
  },
  {
   "cell_type": "code",
   "execution_count": null,
   "id": "91df9ba3-6726-4d4a-ba71-576496db9d6f",
   "metadata": {},
   "outputs": [],
   "source": [
    "# Autotalker\n",
    "metrics_dict"
   ]
  },
  {
   "cell_type": "code",
   "execution_count": null,
   "id": "8f489b9a-b827-42ab-99fd-fd959b3f6937",
   "metadata": {},
   "outputs": [],
   "source": [
    "sc.pp.neighbors(adata,\n",
    "                use_rep=f\"{model}_{latent_key}_run{run_number}\")\n",
    "sc.tl.umap(adata)\n",
    "\n",
    "# Plot UMAP with batch annotations\n",
    "fig = sc.pl.umap(adata,\n",
    "                 color=[condition_key],\n",
    "                 legend_fontsize=12,\n",
    "                 size=240000/len(adata),\n",
    "                 return_fig=True)\n",
    "fig.set_figheight(7)\n",
    "fig.set_figwidth(7)\n",
    "\n",
    "\n",
    "# Plot UMAP with cell type annotations\n",
    "fig = sc.pl.umap(adata,\n",
    "                 color=[cell_type_key],\n",
    "                 legend_fontsize=12,\n",
    "                 size=240000/len(adata),\n",
    "                 return_fig=True)\n",
    "fig.set_figheight(7)\n",
    "fig.set_figwidth(7)"
   ]
  },
  {
   "cell_type": "code",
   "execution_count": null,
   "id": "3f838113-5470-4b1e-ba24-2b86147a88cb",
   "metadata": {},
   "outputs": [],
   "source": [
    "1 / (2 * 2 * 2)"
   ]
  },
  {
   "cell_type": "code",
   "execution_count": null,
   "id": "899441f7-c171-479a-995f-b1affe37c937",
   "metadata": {},
   "outputs": [],
   "source": [
    "512 * 0.125"
   ]
  },
  {
   "cell_type": "code",
   "execution_count": null,
   "id": "a908c290-2ddb-4541-99d7-516fc77221de",
   "metadata": {
    "tags": []
   },
   "outputs": [],
   "source": [
    "# Autotalker\n",
    "metrics_dict"
   ]
  },
  {
   "cell_type": "code",
   "execution_count": null,
   "id": "d9e9d20a-1063-43c7-978f-2ff382befaeb",
   "metadata": {},
   "outputs": [],
   "source": [
    "sc.pp.neighbors(adata,\n",
    "                use_rep=f\"{model}_{latent_key}_run1\")\n",
    "sc.tl.umap(adata)\n",
    "\n",
    "# Plot UMAP with batch annotations\n",
    "fig = sc.pl.umap(adata,\n",
    "                 color=[condition_key],\n",
    "                 legend_fontsize=12,\n",
    "                 size=240000/len(adata),\n",
    "                 return_fig=True)\n",
    "fig.set_figheight(7)\n",
    "fig.set_figwidth(7)\n",
    "\n",
    "\n",
    "# Plot UMAP with cell type annotations\n",
    "fig = sc.pl.umap(adata,\n",
    "                 color=[cell_type_key],\n",
    "                 legend_fontsize=12,\n",
    "                 size=240000/len(adata),\n",
    "                 return_fig=True)\n",
    "fig.set_figheight(7)\n",
    "fig.set_figwidth(7)"
   ]
  },
  {
   "cell_type": "code",
   "execution_count": null,
   "id": "f833d4dd-f656-434e-a275-a96bedf40c6b",
   "metadata": {},
   "outputs": [],
   "source": [
    "sc.pp.neighbors(adata,\n",
    "                use_rep=f\"{model}_{latent_key}_run1\")\n",
    "sc.tl.umap(adata)\n",
    "\n",
    "# Plot UMAP with batch annotations\n",
    "fig = sc.pl.umap(adata,\n",
    "                 color=[condition_key],\n",
    "                 legend_fontsize=12,\n",
    "                 size=240000/len(adata),\n",
    "                 return_fig=True)\n",
    "fig.set_figheight(7)\n",
    "fig.set_figwidth(7)\n",
    "\n",
    "\n",
    "# Plot UMAP with cell type annotations\n",
    "fig = sc.pl.umap(adata,\n",
    "                 color=[cell_type_key],\n",
    "                 legend_fontsize=12,\n",
    "                 size=240000/len(adata),\n",
    "                 return_fig=True)\n",
    "fig.set_figheight(7)\n",
    "fig.set_figwidth(7)"
   ]
  },
  {
   "cell_type": "code",
   "execution_count": null,
   "id": "064137dd-6fab-4873-beb7-ba4986e598c9",
   "metadata": {
    "tags": []
   },
   "outputs": [],
   "source": [
    "sc.pp.neighbors(adata,\n",
    "                use_rep=f\"{model}_{latent_key}_run1\")\n",
    "sc.tl.umap(adata)\n",
    "\n",
    "# Plot UMAP with batch annotations\n",
    "fig = sc.pl.umap(adata,\n",
    "                 color=[condition_key],\n",
    "                 legend_fontsize=12,\n",
    "                 size=240000/len(adata),\n",
    "                 return_fig=True)\n",
    "fig.set_figheight(7)\n",
    "fig.set_figwidth(7)\n",
    "\n",
    "\n",
    "# Plot UMAP with cell type annotations\n",
    "fig = sc.pl.umap(adata,\n",
    "                 color=[cell_type_key],\n",
    "                 legend_fontsize=12,\n",
    "                 size=240000/len(adata),\n",
    "                 return_fig=True)\n",
    "fig.set_figheight(7)\n",
    "fig.set_figwidth(7)"
   ]
  },
  {
   "cell_type": "code",
   "execution_count": null,
   "id": "b70004eb-9862-44dd-83e3-708994e880dc",
   "metadata": {},
   "outputs": [],
   "source": []
  },
  {
   "cell_type": "code",
   "execution_count": null,
   "id": "227288dc-64d6-4342-a59d-0d63ff5ce55b",
   "metadata": {
    "tags": []
   },
   "outputs": [],
   "source": [
    "# Autotalker new (2 layers)\n",
    "metrics_dict"
   ]
  },
  {
   "cell_type": "code",
   "execution_count": null,
   "id": "00c9809b-1ac9-4165-a747-39121a391d7e",
   "metadata": {},
   "outputs": [],
   "source": [
    "# Autotalker new\n",
    "metrics_dict"
   ]
  },
  {
   "cell_type": "code",
   "execution_count": null,
   "id": "84dcc42e-3694-4b86-8764-171544d8ed82",
   "metadata": {},
   "outputs": [],
   "source": [
    "# Autotalker old\n",
    "metrics_dict"
   ]
  },
  {
   "cell_type": "code",
   "execution_count": null,
   "id": "1e8e1591-4a34-4825-a727-2fdcd44b14e4",
   "metadata": {},
   "outputs": [],
   "source": [
    "adata_graph = sc.read_h5ad(\"../../datasets/srt_data/gold/results/seqfish_mouse_organogenesis_graphst_oneshot_integrated.h5ad\")\n",
    "model = \"graphst\"\n",
    "adata = adata_graph"
   ]
  },
  {
   "cell_type": "code",
   "execution_count": null,
   "id": "319839c3-4e83-420e-873c-0813f61cfaf3",
   "metadata": {
    "tags": []
   },
   "outputs": [],
   "source": [
    "# GraphST\n",
    "metrics_dict"
   ]
  },
  {
   "cell_type": "code",
   "execution_count": null,
   "id": "1b7a45ac-c934-4f58-a132-df5b14b9550e",
   "metadata": {
    "tags": []
   },
   "outputs": [],
   "source": [
    "# GraphST\n",
    "sc.pp.neighbors(adata,\n",
    "                use_rep=f\"{model}_{latent_key}_run1\")\n",
    "sc.tl.umap(adata)\n",
    "\n",
    "# Plot UMAP with batch annotations\n",
    "fig = sc.pl.umap(adata,\n",
    "                 color=[condition_key],\n",
    "                 legend_fontsize=12,\n",
    "                 size=240000/len(adata),\n",
    "                 return_fig=True)\n",
    "fig.set_figheight(7)\n",
    "fig.set_figwidth(7)\n",
    "\n",
    "\n",
    "# Plot UMAP with cell type annbbbbotations\n",
    "fig = sc.pl.umap(adata,\n",
    "                 color=[cell_type_key],\n",
    "                 legend_fontsize=12,\n",
    "                 size=240000/len(adata),\n",
    "                 return_fig=True)\n",
    "fig.set_figheight(7)\n",
    "fig.set_figwidth(7)"
   ]
  },
  {
   "cell_type": "code",
   "execution_count": null,
   "id": "bfb4c79a-a344-4ac5-9dd9-e99f43fdf443",
   "metadata": {
    "tags": []
   },
   "outputs": [],
   "source": [
    "adata_scvi = sc.read_h5ad(\"../../datasets/srt_data/gold/results/seqfish_mouse_organogenesis_scvi_oneshot_integrated.h5ad\")\n",
    "model = \"scvi\"\n",
    "adata = adata_scvi"
   ]
  },
  {
   "cell_type": "code",
   "execution_count": null,
   "id": "90fd976b-619e-48b8-bb04-e5bd41154c67",
   "metadata": {
    "tags": []
   },
   "outputs": [],
   "source": [
    "# scVI\n",
    "metrics_dict"
   ]
  },
  {
   "cell_type": "code",
   "execution_count": null,
   "id": "9c531699-21eb-42a2-82c7-47eea82b225d",
   "metadata": {
    "tags": []
   },
   "outputs": [],
   "source": [
    "# scVI\n",
    "sc.pp.neighbors(adata,\n",
    "                use_rep=f\"{model}_{latent_key}_run1\")\n",
    "sc.tl.umap(adata)\n",
    "\n",
    "# Plot UMAP with batch annotations\n",
    "fig = sc.pl.umap(adata,\n",
    "                 color=[condition_key],\n",
    "                 legend_fontsize=12,\n",
    "                 size=240000/len(adata),\n",
    "                 return_fig=True)\n",
    "fig.set_figheight(7)\n",
    "fig.set_figwidth(7)\n",
    "\n",
    "\n",
    "# Plot UMAP with cell type annbbbbotations\n",
    "fig = sc.pl.umap(adata,\n",
    "                 color=[cell_type_key],\n",
    "                 legend_fontsize=12,\n",
    "                 size=240000/len(adata),\n",
    "                 return_fig=True)\n",
    "fig.set_figheight(7)\n",
    "fig.set_figwidth(7)"
   ]
  },
  {
   "cell_type": "code",
   "execution_count": null,
   "id": "73b2dc4d-061d-4895-bf39-735ec27f0ccc",
   "metadata": {},
   "outputs": [],
   "source": [
    "adata.obsp[\"autotalker_latent_run1_connectivities\"].sum(axis=1)"
   ]
  },
  {
   "cell_type": "code",
   "execution_count": null,
   "id": "053c3c2d-9b15-4e28-9b91-c5a0b80fa2f3",
   "metadata": {},
   "outputs": [],
   "source": [
    "sc.pp.neighbors(adata=adata,\n",
    "                # use_rep=spatial_key,\n",
    "                n_neighbors=15,\n",
    "                random_state=0,\n",
    "                key_added=\"spatial\",\n",
    "                knn=True)"
   ]
  },
  {
   "cell_type": "code",
   "execution_count": null,
   "id": "dd5e855b-b5cd-4acf-8069-25ca63c04d54",
   "metadata": {},
   "outputs": [],
   "source": [
    "adata.obsp[\"spatial_connectivities\"].toarray()[:10, :200]"
   ]
  },
  {
   "cell_type": "code",
   "execution_count": null,
   "id": "fbf3064c-96b2-4afd-9d2f-bb19375a7561",
   "metadata": {},
   "outputs": [],
   "source": [
    "batches = adata.obs[condition_key].unique().tolist()[:7]"
   ]
  },
  {
   "cell_type": "code",
   "execution_count": null,
   "id": "0eb3dd42-d2c9-48fd-b77d-1a95322c0561",
   "metadata": {},
   "outputs": [],
   "source": [
    "adata_batch_list = []\n",
    "for batch in batches:\n",
    "    adata_batch_list.append(adata[adata.obs[condition_key] == batch][:50, :].copy())\n",
    "adata = sc.concat(adata_batch_list, join=\"inner\")\n",
    "\n",
    "adata.obs[\"cell_type\"] = adata.obs[\"cell_type\"].astype(\"category\")"
   ]
  },
  {
   "cell_type": "code",
   "execution_count": null,
   "id": "0a2316cb-3fd2-4708-b63f-4a7d50667d58",
   "metadata": {},
   "outputs": [],
   "source": [
    "adata"
   ]
  },
  {
   "cell_type": "code",
   "execution_count": null,
   "id": "d2c757ce-b42d-4bf4-b918-b93f9ca1efbe",
   "metadata": {},
   "outputs": [],
   "source": [
    "adata_sample = adata[:5, :]"
   ]
  },
  {
   "cell_type": "code",
   "execution_count": null,
   "id": "3fa9e70d-a35f-4ce3-ad21-501e362d49a9",
   "metadata": {},
   "outputs": [],
   "source": [
    "adata_sample = adata_batch_list[0].copy()"
   ]
  },
  {
   "cell_type": "code",
   "execution_count": null,
   "id": "d6ef61f6-8586-496f-9917-265a499b8061",
   "metadata": {},
   "outputs": [],
   "source": [
    "adata_sample.obsp[\"spatial_connectivities\"].toarray()"
   ]
  },
  {
   "cell_type": "code",
   "execution_count": null,
   "id": "5e69718d-abfe-4b78-a927-d3eaae928b29",
   "metadata": {},
   "outputs": [],
   "source": [
    "import squidpy as sq\n",
    "sq.gr.nhood_enrichment(adata=adata_sample,\n",
    "                       cluster_key=\"cell_type\",\n",
    "                       connectivity_key=\"spatial\",\n",
    "                       n_perms=1000,\n",
    "                       seed=0,\n",
    "                       show_progress_bar=False)"
   ]
  },
  {
   "cell_type": "code",
   "execution_count": null,
   "id": "05f3867a-a86d-408f-a85f-2300db2e90b0",
   "metadata": {},
   "outputs": [],
   "source": [
    "# Compute metrics\n",
    "metrics_dict = {}\n",
    "\n",
    "# Spatial conservation metrics\n",
    "metrics_dict[\"cas\"] = compute_cas(\n",
    "    adata=adata,\n",
    "    cell_type_key=cell_type_key,\n",
    "    condition_key=condition_key,\n",
    "    spatial_knng_key=spatial_knng_key,\n",
    "    latent_knng_key=latent_knng_key,\n",
    "    spatial_key=spatial_key,\n",
    "    latent_key=f\"{model.lower()}_{latent_key}_run1\")\n",
    "\"\"\"\n",
    "metrics_dict[\"clisis\"] = compute_clisis(\n",
    "    adata=adata,\n",
    "    cell_type_key=cell_type_key,\n",
    "    condition_key=condition_key,\n",
    "    spatial_knng_key=spatial_knng_key,\n",
    "    latent_knng_key=latent_knng_key,\n",
    "    spatial_key=spatial_key,\n",
    "    latent_key=f\"{model.lower()}_{latent_key}_run1\")\n",
    "\n",
    "# Batch correction metrics\n",
    "metrics_dict[\"asw\"] = scib.me.silhouette_batch(\n",
    "    adata=adata,\n",
    "    batch_key=condition_key,\n",
    "    label_key=cell_type_key,\n",
    "    embed=f\"{model.lower()}_{latent_key}_run1\")\n",
    "metrics_dict[\"ilisi\"] = scib.me.ilisi_graph(\n",
    "    adata=adata,\n",
    "    batch_key=condition_key,\n",
    "    type_=\"embed\",\n",
    "    use_rep=f\"{model.lower()}_{latent_key}_run1\")\n",
    "    #type_=\"knn\")\n",
    "\"\"\""
   ]
  },
  {
   "cell_type": "code",
   "execution_count": null,
   "id": "6748f0f6-ecc1-4ed8-af22-6e04954961b1",
   "metadata": {},
   "outputs": [],
   "source": []
  }
 ],
 "metadata": {
  "kernelspec": {
   "display_name": "Python 3 (ipykernel)",
   "language": "python",
   "name": "python3"
  },
  "language_info": {
   "codemirror_mode": {
    "name": "ipython",
    "version": 3
   },
   "file_extension": ".py",
   "mimetype": "text/x-python",
   "name": "python",
   "nbconvert_exporter": "python",
   "pygments_lexer": "ipython3",
   "version": "3.9.15"
  }
 },
 "nbformat": 4,
 "nbformat_minor": 5
}
