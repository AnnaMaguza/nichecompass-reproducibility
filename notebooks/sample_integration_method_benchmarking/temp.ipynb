{
 "cells": [
  {
   "cell_type": "code",
   "execution_count": 1,
   "id": "01360ce4-b3f1-4766-ae16-db4c327aa091",
   "metadata": {},
   "outputs": [],
   "source": [
    "%load_ext autoreload\n",
    "%autoreload 2"
   ]
  },
  {
   "cell_type": "code",
   "execution_count": 2,
   "id": "4a4ceeba-ef09-4559-88e2-cbe464ecd1d7",
   "metadata": {},
   "outputs": [],
   "source": [
    "import scanpy as sc\n",
    "import scib"
   ]
  },
  {
   "cell_type": "code",
   "execution_count": 3,
   "id": "8d74beea-c388-4e25-954b-626b4367f596",
   "metadata": {},
   "outputs": [],
   "source": [
    "import sys\n",
    "sys.path.append(\"../../../autotalker\")"
   ]
  },
  {
   "cell_type": "code",
   "execution_count": 4,
   "id": "b1dbfaf0-0fde-4138-9beb-39b73e56b95d",
   "metadata": {},
   "outputs": [],
   "source": [
    "from autotalker.benchmarking import compute_clisis, compute_cas"
   ]
  },
  {
   "cell_type": "code",
   "execution_count": 213,
   "id": "7ac0b66a-c568-44e6-95aa-f1042b27b782",
   "metadata": {},
   "outputs": [],
   "source": [
    "adata_auto = sc.read_h5ad(\"../../datasets/srt_data/gold/results/seqfish_mouse_organogenesis_autotalker_oneshot_integrated.h5ad\")\n",
    "model = \"autotalker\"\n",
    "adata = adata_auto"
   ]
  },
  {
   "cell_type": "code",
   "execution_count": 201,
   "id": "5b094767-3746-4a39-ada5-7834db3eee9c",
   "metadata": {},
   "outputs": [],
   "source": [
    "adata_graph = sc.read_h5ad(\"../../datasets/srt_data/gold/results/seqfish_mouse_organogenesis_graphst_oneshot_integrated.h5ad\")\n",
    "model = \"graphst\"\n",
    "adata = adata_graph"
   ]
  },
  {
   "cell_type": "code",
   "execution_count": 6,
   "id": "50a065e9-f5db-4745-8afd-12e67d601462",
   "metadata": {},
   "outputs": [],
   "source": [
    "# Gene Program Mask\n",
    "nichenet_keep_target_genes_ratio = 0.01\n",
    "nichenet_max_n_target_genes_per_gp = 25344\n",
    "include_mebocost_gps = True\n",
    "mebocost_species = \"mouse\"\n",
    "gp_filter_mode = \"subset\"\n",
    "combine_overlap_gps = True\n",
    "overlap_thresh_source_genes = 0.9\n",
    "overlap_thresh_target_genes = 0.9\n",
    "overlap_thresh_genes = 0.9\n",
    "\n",
    "# Data\n",
    "dataset = \"starmap_plus_mouse_cns\"\n",
    "reference_batches = [\"batch1_sample\", \"batch2_sample\", \"batch3_sample\"]\n",
    "counts_key = \"counts\"\n",
    "condition_key = \"batch\"\n",
    "n_neighbors = 12\n",
    "spatial_key = \"spatial\"\n",
    "adj_key = \"spatial_connectivities\"\n",
    "mapping_entity_key = \"mapping_entity\"\n",
    "filter_genes = True\n",
    "n_hvg = 2000\n",
    "gp_targets_mask_key = \"autotalker_gp_targets\"\n",
    "gp_sources_mask_key = \"autotalker_gp_sources\"\n",
    "gp_names_key = \"autotalker_gp_names\"\n",
    "\n",
    "# Model\n",
    "load_timestamp = \"27032023_184359\"\n",
    "latent_key = \"latent\"\n",
    "\n",
    "# Benchmarking\n",
    "cell_type_key = \"cell_type\"\n",
    "spatial_knng_key = \"autotalker_spatial_knng\"\n",
    "latent_knng_key = \"autotalker_latent_knng\"\n",
    "\n",
    "# Other\n",
    "random_seed = 0"
   ]
  },
  {
   "cell_type": "code",
   "execution_count": 214,
   "id": "e81e7148-5ae3-47f2-bc0a-ee2bb183352b",
   "metadata": {},
   "outputs": [
    {
     "name": "stdout",
     "output_type": "stream",
     "text": [
      "Computing spatial nearest neighbor graph for batch embryo1_z2...\n",
      "Computing spatial nearest neighbor graph for batch embryo1_z5...\n",
      "Computing spatial nearest neighbor graph for batch embryo2_z2...\n",
      "Computing spatial nearest neighbor graph for batch embryo2_z5...\n",
      "Computing spatial nearest neighbor graph for batch embryo3_z2...\n",
      "Computing spatial nearest neighbor graph for batch embryo3_z5...\n",
      "Combining spatial nearest neighbor graphs...\n",
      "Computing spatial neighborhood enrichment scores...\n",
      "Computing latent nearest neighbor graph...\n",
      "Computing latent neighborhood enrichment scores...\n",
      "Computing CAS...\n",
      "Using precomputed spatial nearest neighbor graph...\n",
      "Computing spatial cell CLISI scores for entire dataset...\n",
      "Using precomputed latent nearest neighbor graph...\n",
      "Computing latent cell CLISI scores...\n",
      "Computing CLISIS...\n",
      "mean silhouette per group:                                 silhouette_score\n",
      "group                                           \n",
      "Allantois                               0.933600\n",
      "Anterior somitic tissues                0.958553\n",
      "Blood progenitors                       0.902102\n",
      "Cardiomyocytes                          0.967430\n",
      "Cranial mesoderm                        0.944259\n",
      "Definitive endoderm                     0.892660\n",
      "Dermomyotome                            0.946565\n",
      "Endothelium                             0.957344\n",
      "Erythroid                               0.952659\n",
      "ExE endoderm                            0.852354\n",
      "Forebrain/Midbrain/Hindbrain            0.920648\n",
      "Gut tube                                0.951084\n",
      "Haematoendothelial progenitors          0.976127\n",
      "Intermediate mesoderm                   0.936621\n",
      "Lateral plate mesoderm                  0.928723\n",
      "Mixed mesenchymal mesoderm              0.954246\n",
      "NMP                                     0.811489\n",
      "Neural crest                            0.965306\n",
      "Presomitic mesoderm                     0.927108\n",
      "Sclerotome                              0.961998\n",
      "Spinal cord                             0.804938\n",
      "Splanchnic mesoderm                     0.964702\n",
      "Surface ectoderm                        0.954114\n"
     ]
    }
   ],
   "source": [
    "# Compute metrics\n",
    "metrics_dict = {}\n",
    "\n",
    "# Spatial conservation metrics\n",
    "metrics_dict[\"cas\"] = compute_cas(\n",
    "    adata=adata,\n",
    "    cell_type_key=cell_type_key,\n",
    "    condition_key=condition_key,\n",
    "    spatial_knng_key=spatial_knng_key,\n",
    "    latent_knng_key=latent_knng_key,\n",
    "    spatial_key=spatial_key,\n",
    "    latent_key=f\"{model.lower()}_{latent_key}_run1\")\n",
    "metrics_dict[\"clisis\"] = compute_clisis(\n",
    "    adata=adata,\n",
    "    cell_type_key=cell_type_key,\n",
    "    condition_key=condition_key,\n",
    "    spatial_knng_key=spatial_knng_key,\n",
    "    latent_knng_key=latent_knng_key,\n",
    "    spatial_key=spatial_key,\n",
    "    latent_key=f\"{model.lower()}_{latent_key}_run1\")\n",
    "\n",
    "# Batch correction metrics\n",
    "metrics_dict[\"asw\"] = scib.me.silhouette_batch(\n",
    "    adata=adata,\n",
    "    batch_key=condition_key,\n",
    "    label_key=cell_type_key,\n",
    "    embed=f\"{model.lower()}_{latent_key}_run1\")\n",
    "metrics_dict[\"ilisi\"] = scib.me.ilisi_graph(\n",
    "    adata=adata,\n",
    "    batch_key=condition_key,\n",
    "    type_=\"embed\",\n",
    "    use_rep=f\"{model.lower()}_{latent_key}_run1\")\n",
    "    #type_=\"knn\")"
   ]
  },
  {
   "cell_type": "code",
   "execution_count": 215,
   "id": "227288dc-64d6-4342-a59d-0d63ff5ce55b",
   "metadata": {},
   "outputs": [
    {
     "data": {
      "text/plain": [
       "{'cas': 0.5707141417257142,\n",
       " 'clisis': 0.9130278398086543,\n",
       " 'asw': 0.9288969028701565,\n",
       " 'ilisi': 0.15331887289540216}"
      ]
     },
     "execution_count": 215,
     "metadata": {},
     "output_type": "execute_result"
    }
   ],
   "source": [
    "# Autotalker new (2 layers)\n",
    "metrics_dict"
   ]
  },
  {
   "cell_type": "code",
   "execution_count": 209,
   "id": "00c9809b-1ac9-4165-a747-39121a391d7e",
   "metadata": {},
   "outputs": [
    {
     "data": {
      "text/plain": [
       "{'cas': 0.55854807564555,\n",
       " 'clisis': 0.9077236380646184,\n",
       " 'asw': 0.9264081005211691,\n",
       " 'ilisi': 0.2305902955803667}"
      ]
     },
     "execution_count": 209,
     "metadata": {},
     "output_type": "execute_result"
    }
   ],
   "source": [
    "# Autotalker new\n",
    "metrics_dict"
   ]
  },
  {
   "cell_type": "code",
   "execution_count": 200,
   "id": "84dcc42e-3694-4b86-8764-171544d8ed82",
   "metadata": {},
   "outputs": [
    {
     "data": {
      "text/plain": [
       "{'cas': 0.5418271019673746,\n",
       " 'clisis': 0.9109334988770585,\n",
       " 'asw': 0.9459392645800031,\n",
       " 'ilisi': 0.1749282196392648}"
      ]
     },
     "execution_count": 200,
     "metadata": {},
     "output_type": "execute_result"
    }
   ],
   "source": [
    "# Autotalker old\n",
    "metrics_dict"
   ]
  },
  {
   "cell_type": "code",
   "execution_count": 203,
   "id": "d48cf0f5-8ffa-4f61-acfb-6c1332b566d6",
   "metadata": {},
   "outputs": [
    {
     "data": {
      "text/plain": [
       "{'cas': 0.5346951918608724,\n",
       " 'clisis': 0.9086096795728897,\n",
       " 'asw': 0.9568973614685743,\n",
       " 'ilisi': 0.21278161156319317}"
      ]
     },
     "execution_count": 203,
     "metadata": {},
     "output_type": "execute_result"
    }
   ],
   "source": [
    "# GraphST\n",
    "metrics_dict"
   ]
  },
  {
   "cell_type": "code",
   "execution_count": null,
   "id": "73b2dc4d-061d-4895-bf39-735ec27f0ccc",
   "metadata": {},
   "outputs": [],
   "source": [
    "adata.obsp[\"autotalker_latent_run1_connectivities\"].sum(axis=1)"
   ]
  },
  {
   "cell_type": "code",
   "execution_count": null,
   "id": "053c3c2d-9b15-4e28-9b91-c5a0b80fa2f3",
   "metadata": {},
   "outputs": [],
   "source": [
    "sc.pp.neighbors(adata=adata,\n",
    "                # use_rep=spatial_key,\n",
    "                n_neighbors=15,\n",
    "                random_state=0,\n",
    "                key_added=\"spatial\",\n",
    "                knn=True)"
   ]
  },
  {
   "cell_type": "code",
   "execution_count": null,
   "id": "dd5e855b-b5cd-4acf-8069-25ca63c04d54",
   "metadata": {},
   "outputs": [],
   "source": [
    "adata.obsp[\"spatial_connectivities\"].toarray()[:10, :200]"
   ]
  },
  {
   "cell_type": "code",
   "execution_count": 18,
   "id": "fbf3064c-96b2-4afd-9d2f-bb19375a7561",
   "metadata": {},
   "outputs": [],
   "source": [
    "batches = adata.obs[condition_key].unique().tolist()[:7]"
   ]
  },
  {
   "cell_type": "code",
   "execution_count": 28,
   "id": "0eb3dd42-d2c9-48fd-b77d-1a95322c0561",
   "metadata": {},
   "outputs": [],
   "source": [
    "adata_batch_list = []\n",
    "for batch in batches:\n",
    "    adata_batch_list.append(adata[adata.obs[condition_key] == batch][:50, :].copy())\n",
    "adata = sc.concat(adata_batch_list, join=\"inner\")\n",
    "\n",
    "adata.obs[\"cell_type\"] = adata.obs[\"cell_type\"].astype(\"category\")"
   ]
  },
  {
   "cell_type": "code",
   "execution_count": 175,
   "id": "0a2316cb-3fd2-4708-b63f-4a7d50667d58",
   "metadata": {},
   "outputs": [
    {
     "data": {
      "text/plain": [
       "AnnData object with n_obs × n_vars = 52568 × 351\n",
       "    obs: 'cell_type', 'batch', 'reference'\n",
       "    uns: 'graphst_latent_run1', 'graphst_latent_run10', 'graphst_latent_run3', 'graphst_latent_run4', 'graphst_latent_run5', 'graphst_latent_run6', 'graphst_latent_run7', 'graphst_latent_run8', 'graphst_latent_run9', 'graphst_model_training_duration_run1', 'graphst_model_training_duration_run10', 'graphst_model_training_duration_run3', 'graphst_model_training_duration_run4', 'graphst_model_training_duration_run5', 'graphst_model_training_duration_run6', 'graphst_model_training_duration_run7', 'graphst_model_training_duration_run8', 'graphst_model_training_duration_run9', 'umap'\n",
       "    obsm: 'graphst_latent_run1', 'graphst_latent_run10', 'graphst_latent_run10_X_umap', 'graphst_latent_run1_X_umap', 'graphst_latent_run3', 'graphst_latent_run3_X_umap', 'graphst_latent_run4', 'graphst_latent_run4_X_umap', 'graphst_latent_run5', 'graphst_latent_run5_X_umap', 'graphst_latent_run6', 'graphst_latent_run6_X_umap', 'graphst_latent_run7', 'graphst_latent_run7_X_umap', 'graphst_latent_run8', 'graphst_latent_run8_X_umap', 'graphst_latent_run9', 'graphst_latent_run9_X_umap', 'spatial'\n",
       "    obsp: 'graphst_latent_run10_connectivities', 'graphst_latent_run10_distances', 'graphst_latent_run1_connectivities', 'graphst_latent_run1_distances', 'graphst_latent_run3_connectivities', 'graphst_latent_run3_distances', 'graphst_latent_run4_connectivities', 'graphst_latent_run4_distances', 'graphst_latent_run5_connectivities', 'graphst_latent_run5_distances', 'graphst_latent_run6_connectivities', 'graphst_latent_run6_distances', 'graphst_latent_run7_connectivities', 'graphst_latent_run7_distances', 'graphst_latent_run8_connectivities', 'graphst_latent_run8_distances', 'graphst_latent_run9_connectivities', 'graphst_latent_run9_distances'"
      ]
     },
     "execution_count": 175,
     "metadata": {},
     "output_type": "execute_result"
    }
   ],
   "source": [
    "adata"
   ]
  },
  {
   "cell_type": "code",
   "execution_count": null,
   "id": "d2c757ce-b42d-4bf4-b918-b93f9ca1efbe",
   "metadata": {},
   "outputs": [],
   "source": [
    "adata_sample = adata[:5, :]"
   ]
  },
  {
   "cell_type": "code",
   "execution_count": null,
   "id": "3fa9e70d-a35f-4ce3-ad21-501e362d49a9",
   "metadata": {},
   "outputs": [],
   "source": [
    "adata_sample = adata_batch_list[0].copy()"
   ]
  },
  {
   "cell_type": "code",
   "execution_count": null,
   "id": "d6ef61f6-8586-496f-9917-265a499b8061",
   "metadata": {},
   "outputs": [],
   "source": [
    "adata_sample.obsp[\"spatial_connectivities\"].toarray()"
   ]
  },
  {
   "cell_type": "code",
   "execution_count": null,
   "id": "5e69718d-abfe-4b78-a927-d3eaae928b29",
   "metadata": {},
   "outputs": [],
   "source": [
    "import squidpy as sq\n",
    "sq.gr.nhood_enrichment(adata=adata_sample,\n",
    "                       cluster_key=\"cell_type\",\n",
    "                       connectivity_key=\"spatial\",\n",
    "                       n_perms=1000,\n",
    "                       seed=0,\n",
    "                       show_progress_bar=False)"
   ]
  },
  {
   "cell_type": "code",
   "execution_count": 182,
   "id": "05f3867a-a86d-408f-a85f-2300db2e90b0",
   "metadata": {},
   "outputs": [
    {
     "name": "stdout",
     "output_type": "stream",
     "text": [
      "Computing spatial nearest neighbor graph for batch embryo1_z2...\n",
      "Computing spatial nearest neighbor graph for batch embryo1_z5...\n",
      "Computing spatial nearest neighbor graph for batch embryo2_z2...\n",
      "Computing spatial nearest neighbor graph for batch embryo2_z5...\n",
      "Computing spatial nearest neighbor graph for batch embryo3_z2...\n",
      "Computing spatial nearest neighbor graph for batch embryo3_z5...\n",
      "Combining spatial nearest neighbor graphs...\n",
      "Computing spatial neighborhood enrichment scores...\n",
      "Computing latent nearest neighbor graph...\n",
      "Computing latent neighborhood enrichment scores...\n",
      "22101.322463510936\n",
      "____________________________________\n",
      "19581.100115731937\n",
      "[[ 3.81817995e+02 -1.43669233e+01 -1.35434606e+00 -2.42815344e+01\n",
      "  -2.94425195e+01 -8.70529537e+00 -2.22849003e+01 -6.86531409e+00\n",
      "   1.89040958e+00 -1.08856663e+00 -5.06420428e+01 -3.26262151e+01\n",
      "   3.16328763e+01 -9.31856026e-01  1.78688831e+01  6.31806914e+01\n",
      "  -7.44089192e+00 -2.62959243e+01 -1.71328431e+01 -1.86438397e+01\n",
      "  -3.29692899e+01 -2.16524067e+01 -1.97897623e+01]\n",
      " [-1.43669233e+01  8.40832745e+01 -3.10883865e+00 -2.46120454e+01\n",
      "   6.10304089e+01 -8.49810520e+00  9.24146837e+01  1.14034739e+01\n",
      "  -1.71383507e+01 -2.86019049e+00 -5.03921570e+01 -3.39655216e+01\n",
      "   2.34034700e+01 -7.74419309e+00 -2.26622366e+01 -2.56619723e+01\n",
      "  -6.47450935e+00  1.82620976e+00 -1.57767879e+01  1.43281692e+02\n",
      "  -2.84764978e+01 -1.99517701e+01 -2.43538871e+01]\n",
      " [-1.35434606e+00 -3.10883865e+00  1.65946395e+01 -7.91376726e+00\n",
      "  -8.27981717e+00 -3.30030601e+00 -6.35750037e+00  3.82228592e+01\n",
      "   1.03807897e+02  1.73536101e+00 -1.69590449e+01 -1.13103380e+01\n",
      "   1.52343325e+01 -3.87773495e+00 -4.72676806e+00 -6.93052573e+00\n",
      "  -2.17528654e+00 -5.01037436e+00 -5.79648475e+00 -5.13359881e+00\n",
      "  -1.05951591e+01 -7.11836689e+00 -8.83408533e+00]\n",
      " [-2.42815344e+01 -2.46120454e+01 -7.91376726e+00  5.86477694e+02\n",
      "  -5.14953502e+01 -1.41268143e+01 -4.10429233e+01 -2.27327653e+01\n",
      "  -3.20134162e+01  1.38118146e+01 -8.94470228e+01 -5.96815537e+01\n",
      "  -3.01445968e+01 -2.75784204e+01 -3.91250476e+01 -6.07914701e+00\n",
      "  -1.22690878e+01 -4.62487446e+01 -3.03623602e+01 -3.10047745e+01\n",
      "  -5.81354552e+01 -3.07924901e+01 -4.15079942e+01]\n",
      " [-2.94425195e+01  6.10304089e+01 -8.27981717e+00 -5.14953502e+01\n",
      "   3.48936509e+02 -9.58582679e+00  1.50632698e+01  7.94720168e+00\n",
      "  -4.20032304e+01 -4.96262328e+00 -9.41795022e+01 -5.36569301e+01\n",
      "   1.04755010e+01 -2.57456194e+01 -4.75886529e+01 -5.19505246e+01\n",
      "  -1.35321458e+01  1.10835049e+01 -3.55828286e+01  5.84509126e+01\n",
      "  -6.16168008e+01 -4.73817315e+01 -3.97866109e+01]\n",
      " [-8.70529537e+00 -8.49810520e+00 -3.30030601e+00 -1.41268143e+01\n",
      "  -9.58582679e+00  3.20659537e+02 -1.21695105e+01 -1.31189173e+01\n",
      "  -9.89510518e+00  9.94383569e-01  8.87638225e-01 -5.31864599e+00\n",
      "  -5.55594984e+00 -7.40596177e+00 -1.27954913e+01 -1.45222904e+01\n",
      "  -3.31016988e+00 -1.33231848e+01 -9.85924636e+00 -9.81417973e+00\n",
      "   2.00443897e-01 -1.51975300e+01  3.56027100e+00]\n",
      " [-2.22849003e+01  9.24146837e+01 -6.35750037e+00 -4.10429233e+01\n",
      "   1.50632698e+01 -1.21695105e+01  3.03735103e+02 -3.21233193e+01\n",
      "  -3.15162281e+01 -5.74534178e+00 -7.87256608e+01 -5.22117527e+01\n",
      "  -1.45071548e+01  2.83829203e+01 -3.73977486e+01 -3.79917453e+01\n",
      "  -4.44167123e+00 -6.30148754e+00  6.03155325e+00  1.35378844e+02\n",
      "  -4.08623598e+01 -3.33299575e+01 -1.86987080e+01]\n",
      " [-6.86531409e+00  1.14034739e+01  3.82228592e+01 -2.27327653e+01\n",
      "   7.94720168e+00 -1.31189173e+01 -3.21233193e+01  2.70341545e+02\n",
      "   3.91064798e+01 -2.55700940e-01 -9.66260640e+01 -4.62099768e+01\n",
      "   1.34267362e+02 -1.23144701e+01 -2.48472708e+01 -2.84884349e+01\n",
      "  -1.32694149e+01 -1.08194587e+01 -2.69929914e+01 -1.71008209e+01\n",
      "  -6.12407987e+01 -3.92217024e+01 -4.28370978e+01]\n",
      " [ 1.89040958e+00 -1.71383507e+01  1.03807897e+02 -3.20134162e+01\n",
      "  -4.20032304e+01 -9.89510518e+00 -3.15162281e+01  3.91064798e+01\n",
      "   6.15785917e+02 -4.42247247e+00 -7.84125232e+01 -4.89965629e+01\n",
      "   3.56614126e+00 -2.31988254e+01 -3.22802057e+01 -2.87865032e+01\n",
      "  -1.09515991e+01 -3.93019615e+01 -2.25416621e+01 -2.37934632e+01\n",
      "  -5.23585647e+01 -3.84414501e+01 -3.84212448e+01]\n",
      " [-1.08856663e+00 -2.86019049e+00  1.73536101e+00  1.38118146e+01\n",
      "  -4.96262328e+00  9.94383569e-01 -5.74534178e+00 -2.55700940e-01\n",
      "  -4.42247247e+00  7.31187559e+00 -9.24151955e+00 -3.27136261e+00\n",
      "   4.56897679e-01 -1.02050779e+00  3.10041220e+00  1.83228058e+01\n",
      "  -1.20927848e+00 -3.68210022e+00 -4.11164388e+00 -3.66094053e+00\n",
      "  -7.23866728e+00  1.33505598e+01  2.20411205e+01]\n",
      " [-5.06420428e+01 -5.03921570e+01 -1.69590449e+01 -8.94470228e+01\n",
      "  -9.41795022e+01  8.87638225e-01 -7.87256608e+01 -9.66260640e+01\n",
      "  -7.84125232e+01 -9.24151955e+00  4.29645081e+02 -1.20540892e+02\n",
      "  -7.84996548e+01 -5.62514923e+01 -7.78365439e+01 -9.29346260e+01\n",
      "  -1.91960993e+01 -7.20553640e+01 -6.14828915e+01 -6.61355206e+01\n",
      "  -5.74285529e+01 -1.07218517e+02 -7.65213645e+01]\n",
      " [-3.26262151e+01 -3.39655216e+01 -1.13103380e+01 -5.96815537e+01\n",
      "  -5.36569301e+01 -5.31864599e+00 -5.22117527e+01 -4.62099768e+01\n",
      "  -4.89965629e+01 -3.27136261e+00 -1.20540892e+02  5.07944310e+02\n",
      "  -3.53831812e+01 -3.32399883e+01 -4.92698668e+01 -5.75619162e+01\n",
      "  -1.65451092e+01 -5.88206750e+01 -4.18917189e+01 -4.44451604e+01\n",
      "  -7.35663639e+01 -4.85875663e+01 -4.13580826e+01]\n",
      " [ 3.16328763e+01  2.34034700e+01  1.52343325e+01 -3.01445968e+01\n",
      "   1.04755010e+01 -5.55594984e+00 -1.45071548e+01  1.34267362e+02\n",
      "   3.56614126e+00  4.56897679e-01 -7.84996548e+01 -3.53831812e+01\n",
      "   8.93238902e+01  1.16900818e+01 -8.43990243e-01  2.95349333e+00\n",
      "  -9.30842156e+00  6.85002079e-01 -2.12786449e+01 -3.26081393e+00\n",
      "  -4.56738497e+01 -9.70763632e+00 -2.97322287e+01]\n",
      " [-9.31856026e-01 -7.74419309e+00 -3.87773495e+00 -2.75784204e+01\n",
      "  -2.57456194e+01 -7.40596177e+00  2.83829203e+01 -1.23144701e+01\n",
      "  -2.31988254e+01 -1.02050779e+00 -5.62514923e+01 -3.32399883e+01\n",
      "   1.16900818e+01  2.09317732e+02  1.24781381e+02 -6.17295257e+00\n",
      "   1.87292902e+00 -1.91913641e+01 -9.11856980e+00 -1.14120375e+01\n",
      "  -1.57315823e+01  1.57399037e-01 -2.69310824e+00]\n",
      " [ 1.78688831e+01 -2.26622366e+01 -4.72676806e+00 -3.91250476e+01\n",
      "  -4.75886529e+01 -1.27954913e+01 -3.73977486e+01 -2.48472708e+01\n",
      "  -3.22802057e+01  3.10041220e+00 -7.78365439e+01 -4.92698668e+01\n",
      "  -8.43990243e-01  1.24781381e+02  4.49829326e+02 -1.51462844e+01\n",
      "  -5.81901387e+00 -4.07058035e+01 -2.63483236e+01 -2.95865983e+01\n",
      "  -4.39025456e+01 -2.51332318e+01 -3.21912871e+01]\n",
      " [ 6.31806914e+01 -2.56619723e+01 -6.93052573e+00 -6.07914701e+00\n",
      "  -5.19505246e+01 -1.45222904e+01 -3.79917453e+01 -2.84884349e+01\n",
      "  -2.87865032e+01  1.83228058e+01 -9.29346260e+01 -5.75619162e+01\n",
      "   2.95349333e+00 -6.17295257e+00 -1.51462844e+01  3.57085974e+02\n",
      "  -1.27239496e+01 -3.78875098e+01 -2.91795093e+01 -3.19091755e+01\n",
      "  -5.58523975e+01  2.42986577e+01  5.37223105e+00]\n",
      " [-7.44089192e+00 -6.47450935e+00 -2.17528654e+00 -1.22690878e+01\n",
      "  -1.35321458e+01 -3.31016988e+00 -4.44167123e+00 -1.32694149e+01\n",
      "  -1.09515991e+01 -1.20927848e+00 -1.91960993e+01 -1.65451092e+01\n",
      "  -9.30842156e+00  1.87292902e+00 -5.81901387e+00 -1.27239496e+01\n",
      "   4.11623846e+01 -1.26543445e+01 -1.47896889e+00 -7.50161832e+00\n",
      "   1.25919831e+02 -1.12014707e+01 -9.10064634e+00]\n",
      " [-2.62959243e+01  1.82620976e+00 -5.01037436e+00 -4.62487446e+01\n",
      "   1.10835049e+01 -1.33231848e+01 -6.30148754e+00 -1.08194587e+01\n",
      "  -3.93019615e+01 -3.68210022e+00 -7.20553640e+01 -5.88206750e+01\n",
      "   6.85002079e-01 -1.91913641e+01 -4.07058035e+01 -3.78875098e+01\n",
      "  -1.26543445e+01  3.78969843e+02 -3.16650689e+01 -5.97487045e+00\n",
      "  -5.12381419e+01 -3.90958981e+01  2.26546824e+01]\n",
      " [-1.71328431e+01 -1.57767879e+01 -5.79648475e+00 -3.03623602e+01\n",
      "  -3.55828286e+01 -9.85924636e+00  6.03155325e+00 -2.69929914e+01\n",
      "  -2.25416621e+01 -4.11164388e+00 -6.14828915e+01 -4.18917189e+01\n",
      "  -2.12786449e+01 -9.11856980e+00 -2.63483236e+01 -2.91795093e+01\n",
      "  -1.47896889e+00 -3.16650689e+01  5.70271702e+02 -2.13531322e+01\n",
      "  -2.58644175e+01 -3.48747257e+01 -1.23334600e+01]\n",
      " [-1.86438397e+01  1.43281692e+02 -5.13359881e+00 -3.10047745e+01\n",
      "   5.84509126e+01 -9.81417973e+00  1.35378844e+02 -1.71008209e+01\n",
      "  -2.37934632e+01 -3.66094053e+00 -6.61355206e+01 -4.44451604e+01\n",
      "  -3.26081393e+00 -1.14120375e+01 -2.95865983e+01 -3.19091755e+01\n",
      "  -7.50161832e+00 -5.97487045e+00 -2.13531322e+01  2.35152113e+02\n",
      "  -3.78069714e+01 -2.64098702e+01 -3.35805649e+01]\n",
      " [-3.29692899e+01 -2.84764978e+01 -1.05951591e+01 -5.81354552e+01\n",
      "  -6.16168008e+01  2.00443897e-01 -4.08623598e+01 -6.12407987e+01\n",
      "  -5.23585647e+01 -7.23866728e+00 -5.74285529e+01 -7.35663639e+01\n",
      "  -4.56738497e+01 -1.57315823e+01 -4.39025456e+01 -5.58523975e+01\n",
      "   1.25919831e+02 -5.12381419e+01 -2.58644175e+01 -3.78069714e+01\n",
      "   4.84557545e+02 -6.13134066e+01 -4.99635209e+01]\n",
      " [-2.16524067e+01 -1.99517701e+01 -7.11836689e+00 -3.07924901e+01\n",
      "  -4.73817315e+01 -1.51975300e+01 -3.33299575e+01 -3.92217024e+01\n",
      "  -3.84414501e+01  1.33505598e+01 -1.07218517e+02 -4.85875663e+01\n",
      "  -9.70763632e+00  1.57399037e-01 -2.51332318e+01  2.42986577e+01\n",
      "  -1.12014707e+01 -3.90958981e+01 -3.48747257e+01 -2.64098702e+01\n",
      "  -6.13134066e+01  4.46564401e+02 -4.48673367e+01]\n",
      " [-1.97897623e+01 -2.43538871e+01 -8.83408533e+00 -4.15079942e+01\n",
      "  -3.97866109e+01  3.56027100e+00 -1.86987080e+01 -4.28370978e+01\n",
      "  -3.84212448e+01  2.20411205e+01 -7.65213645e+01 -4.13580826e+01\n",
      "  -2.97322287e+01 -2.69310824e+00 -3.21912871e+01  5.37223105e+00\n",
      "  -9.10064634e+00  2.26546824e+01 -1.23334600e+01 -3.35805649e+01\n",
      "  -4.99635209e+01 -4.48673367e+01  3.95878768e+02]]\n",
      "____________________________________\n",
      "[[ 2.82984358e+02 -1.31871963e+01  4.79931857e+00 -2.32789862e+01\n",
      "  -2.84572326e+01 -8.07663874e+00 -2.06851071e+01  5.72340369e+00\n",
      "   3.34357125e+01  1.18299620e-01 -5.58302437e+01 -3.23404192e+01\n",
      "   3.85937426e+01 -1.90758026e+00  1.86569004e+01  4.94764733e+01\n",
      "  -6.67387700e+00 -2.32929513e+01 -1.59944560e+01 -1.76587505e+01\n",
      "  -3.20753904e+01 -2.17247169e+01 -1.47086114e+01]\n",
      " [-1.31871963e+01  7.04174533e+01 -1.03083208e+00 -2.40103665e+01\n",
      "   5.38477002e+01 -5.37076870e+00  8.80532742e+01  1.97726954e+01\n",
      "  -1.05049189e+01 -2.77315174e+00 -5.44524726e+01 -3.37333840e+01\n",
      "   2.10407954e+01 -6.80105451e+00 -2.14453364e+01 -2.30105407e+01\n",
      "  -4.48296249e+00  4.88657053e+00 -1.53945539e+01  1.15573388e+02\n",
      "  -2.27863080e+01 -2.03239739e+01 -2.14504495e+01]\n",
      " [ 4.79931857e+00 -1.03083208e+00  7.20117141e+00 -1.39549101e+00\n",
      "  -7.34883979e+00 -1.80618270e+00 -1.36083257e+00  2.33339276e+01\n",
      "   6.04481187e+01 -1.16691086e+00 -1.81457644e+01 -8.69277442e+00\n",
      "   1.36873593e+01 -2.32711726e+00 -9.73206406e-01 -1.41004128e+00\n",
      "  -2.29512098e+00 -3.11477368e+00 -4.74221880e+00 -3.99220889e+00\n",
      "  -9.93368733e+00 -4.76709670e+00 -6.23387271e+00]\n",
      " [-2.32789862e+01 -2.40103665e+01 -1.39549101e+00  4.88005097e+02\n",
      "  -5.03127486e+01 -1.33348881e+01 -3.77872713e+01  1.75461351e+01\n",
      "  -1.28953941e+01  1.00662170e+01 -9.35747319e+01 -5.63856585e+01\n",
      "  -2.68507575e+01 -2.60425011e+01 -3.72919731e+01  2.01874351e+01\n",
      "  -1.16598734e+01 -4.44415212e+01 -2.87168430e+01 -3.01874650e+01\n",
      "  -5.76577865e+01 -1.76838068e+01 -2.87121926e+01]\n",
      " [-2.84572326e+01  5.38477002e+01 -7.34883979e+00 -5.03127486e+01\n",
      "   2.96217774e+02 -3.89572363e+00  1.20883005e+01  2.61575840e+01\n",
      "  -3.80529405e+01 -4.65272442e+00 -9.08504847e+01 -2.90807397e+01\n",
      "   1.68132769e+01 -2.65424434e+01 -4.53389435e+01 -5.03202814e+01\n",
      "  -1.17467386e+01  1.22174672e+01 -3.57818443e+01  5.26330546e+01\n",
      "  -6.09743150e+01 -4.91264793e+01 -3.14115848e+01]\n",
      " [-8.07663874e+00 -5.37076870e+00 -1.80618270e+00 -1.33348881e+01\n",
      "  -3.89572363e+00  2.02577221e+02 -1.11652452e+01 -5.61992133e+00\n",
      "  -7.09779812e-01  5.39723147e-01  2.78669939e+00 -1.04185559e+01\n",
      "   2.59180446e+00 -7.25857535e+00 -1.22666868e+01 -1.40024240e+01\n",
      "   8.85779183e-01 -1.31480842e+01 -8.88124334e+00 -7.64472347e+00\n",
      "   2.41278129e+01 -1.41791467e+01  1.45744304e+00]\n",
      " [-2.06851071e+01  8.80532742e+01 -1.36083257e+00 -3.77872713e+01\n",
      "   1.20883005e+01 -1.11652452e+01  2.67876282e+02 -1.65255919e+01\n",
      "  -2.62178673e+01 -5.28680436e+00 -8.78233381e+01 -5.16772546e+01\n",
      "  -4.80909607e+00  2.26361821e+01 -3.54739671e+01 -3.32529761e+01\n",
      "  -1.62186874e+00 -2.87325308e+00  3.63558252e+00  1.15877046e+02\n",
      "  -2.92588356e+01 -3.32521218e+01 -1.95229198e+00]\n",
      " [ 5.72340369e+00  1.97726954e+01  2.33339276e+01  1.75461351e+01\n",
      "   2.61575840e+01 -5.61992133e+00 -1.65255919e+01  1.41015953e+02\n",
      "   4.39576726e+01 -5.50864059e-01 -9.49961066e+01 -2.47798837e+01\n",
      "   8.31091862e+01 -3.74157753e+00 -5.90527617e+00 -1.18329500e+01\n",
      "  -1.12284505e+01  6.87538632e+00 -1.96219630e+01 -8.89222072e-01\n",
      "  -5.77531064e+01 -2.66518171e+01 -3.21973249e+01]\n",
      " [ 3.34357125e+01 -1.05049189e+01  6.04481187e+01 -1.28953941e+01\n",
      "  -3.80529405e+01 -7.09779812e-01 -2.62178673e+01  4.39576726e+01\n",
      "   3.56931333e+02 -1.16536458e+00 -8.59074407e+01 -3.83874059e+01\n",
      "   1.73119830e+01 -1.95522102e+01 -2.51762972e+01 -3.67805152e+00\n",
      "  -1.02775041e+01 -3.75032707e+01 -1.78698166e+01 -1.76420689e+01\n",
      "  -4.79924585e+01 -2.59799378e+01 -3.70064871e+01]\n",
      " [ 1.18299620e-01 -2.77315174e+00 -1.16691086e+00  1.00662170e+01\n",
      "  -4.65272442e+00  5.39723147e-01 -5.28680436e+00 -5.50864059e-01\n",
      "  -1.16536458e+00  6.23036552e+00 -1.10669319e+01 -4.30388795e+00\n",
      "  -1.19779901e+00 -1.98731168e+00  4.05556374e+00  1.22050326e+01\n",
      "  -1.02484843e+00 -1.48986893e+00 -1.96052624e+00 -3.02230987e+00\n",
      "  -6.80124625e+00  1.09963217e+01  1.72973621e+01]\n",
      " [-5.58302437e+01 -5.44524726e+01 -1.81457644e+01 -9.35747319e+01\n",
      "  -9.08504847e+01  2.78669939e+00 -8.78233381e+01 -9.49961066e+01\n",
      "  -8.59074407e+01 -1.10669319e+01  5.19801062e+02 -1.36131622e+02\n",
      "  -7.44973703e+01 -6.21396001e+01 -8.95045652e+01 -9.63693893e+01\n",
      "  -2.00702122e+01 -6.45995007e+01 -6.67644629e+01 -6.77333140e+01\n",
      "  -6.57550090e+01 -1.18219990e+02 -7.70006431e+01]\n",
      " [-3.23404192e+01 -3.37333840e+01 -8.69277442e+00 -5.63856585e+01\n",
      "  -2.90807397e+01 -1.04185559e+01 -5.16772546e+01 -2.47798837e+01\n",
      "  -3.83874059e+01 -4.30388795e+00 -1.36131622e+02  4.77956731e+02\n",
      "  -2.29197022e+01 -3.33870132e+01 -4.06162981e+01 -4.99945086e+01\n",
      "  -1.59732502e+01 -4.82982157e+01 -3.92203176e+01 -4.18671423e+01\n",
      "  -7.49500682e+01 -1.48582721e+01 -4.69981979e+01]\n",
      " [ 3.85937426e+01  2.10407954e+01  1.36873593e+01 -2.68507575e+01\n",
      "   1.68132769e+01  2.59180446e+00 -4.80909607e+00  8.31091862e+01\n",
      "   1.73119830e+01 -1.19779901e+00 -7.44973703e+01 -2.29197022e+01\n",
      "   5.81420138e+01  1.56240133e+01  1.35150385e+01  1.28324021e+01\n",
      "  -7.54890201e+00  7.94618779e+00 -1.77631056e+01  6.00638429e+00\n",
      "  -4.02466338e+01 -1.39243606e+00 -1.74663199e+01]\n",
      " [-1.90758026e+00 -6.80105451e+00 -2.32711726e+00 -2.60425011e+01\n",
      "  -2.65424434e+01 -7.25857535e+00  2.26361821e+01 -3.74157753e+00\n",
      "  -1.95522102e+01 -1.98731168e+00 -6.21396001e+01 -3.33870132e+01\n",
      "   1.56240133e+01  1.73340183e+02  1.13861187e+02 -4.58411221e+00\n",
      "   3.30112641e+00 -1.87437118e+01 -8.47559090e+00 -1.11563954e+01\n",
      "  -1.25759926e+01  4.49674333e-01  1.05056565e+01]\n",
      " [ 1.86569004e+01 -2.14453364e+01 -9.73206406e-01 -3.72919731e+01\n",
      "  -4.53389435e+01 -1.22666868e+01 -3.54739671e+01 -5.90527617e+00\n",
      "  -2.51762972e+01  4.05556374e+00 -8.95045652e+01 -4.06162981e+01\n",
      "   1.35150385e+01  1.13861187e+02  4.06497331e+02 -1.45425453e+01\n",
      "  -3.60739376e+00 -3.88161465e+01 -2.12629318e+01 -2.73197348e+01\n",
      "  -4.29187753e+01 -2.71093267e+01 -1.76396832e+01]\n",
      " [ 4.94764733e+01 -2.30105407e+01 -1.41004128e+00  2.01874351e+01\n",
      "  -5.03202814e+01 -1.40024240e+01 -3.32529761e+01 -1.18329500e+01\n",
      "  -3.67805152e+00  1.22050326e+01 -9.63693893e+01 -4.99945086e+01\n",
      "   1.28324021e+01 -4.58411221e+00 -1.45425453e+01  3.20605395e+02\n",
      "  -1.15253815e+01 -3.23042925e+01 -2.50230932e+01 -2.89338872e+01\n",
      "  -5.74631992e+01  2.24031969e+01  1.08386618e+01]\n",
      " [-6.67387700e+00 -4.48296249e+00 -2.29512098e+00 -1.16598734e+01\n",
      "  -1.17467386e+01  8.85779183e-01 -1.62186874e+00 -1.12284505e+01\n",
      "  -1.02775041e+01 -1.02484843e+00 -2.00702122e+01 -1.59732502e+01\n",
      "  -7.54890201e+00  3.30112641e+00 -3.60739376e+00 -1.15253815e+01\n",
      "   3.98668879e+01 -1.16719597e+01  2.13886851e+00 -4.70442494e+00\n",
      "   1.26929716e+02 -1.12170592e+01 -8.47750875e+00]\n",
      " [-2.32929513e+01  4.88657053e+00 -3.11477368e+00 -4.44415212e+01\n",
      "   1.22174672e+01 -1.31480842e+01 -2.87325308e+00  6.87538632e+00\n",
      "  -3.75032707e+01 -1.48986893e+00 -6.45995007e+01 -4.82982157e+01\n",
      "   7.94618779e+00 -1.87437118e+01 -3.88161465e+01 -3.23042925e+01\n",
      "  -1.16719597e+01  2.81624926e+02 -3.07862757e+01 -2.65484048e+00\n",
      "  -5.06261420e+01 -3.94391946e+01  6.62855290e+01]\n",
      " [-1.59944560e+01 -1.53945539e+01 -4.74221880e+00 -2.87168430e+01\n",
      "  -3.57818443e+01 -8.88124334e+00  3.63558252e+00 -1.96219630e+01\n",
      "  -1.78698166e+01 -1.96052624e+00 -6.67644629e+01 -3.92203176e+01\n",
      "  -1.77631056e+01 -8.47559090e+00 -2.12629318e+01 -2.50230932e+01\n",
      "   2.13886851e+00 -3.07862757e+01  4.98658682e+02 -2.04827544e+01\n",
      "  -2.15161715e+01 -3.33479340e+01  3.37345165e+00]\n",
      " [-1.76587505e+01  1.15573388e+02 -3.99220889e+00 -3.01874650e+01\n",
      "   5.26330546e+01 -7.64472347e+00  1.15877046e+02 -8.89222072e-01\n",
      "  -1.76420689e+01 -3.02230987e+00 -6.77333140e+01 -4.18671423e+01\n",
      "   6.00638429e+00 -1.11563954e+01 -2.73197348e+01 -2.89338872e+01\n",
      "  -4.70442494e+00 -2.65484048e+00 -2.04827544e+01  1.79664275e+02\n",
      "  -3.21080778e+01 -2.68343310e+01 -3.05466795e+01]\n",
      " [-3.20753904e+01 -2.27863080e+01 -9.93368733e+00 -5.76577865e+01\n",
      "  -6.09743150e+01  2.41278129e+01 -2.92588356e+01 -5.77531064e+01\n",
      "  -4.79924585e+01 -6.80124625e+00 -6.57550090e+01 -7.49500682e+01\n",
      "  -4.02466338e+01 -1.25759926e+01 -4.29187753e+01 -5.74631992e+01\n",
      "   1.26929716e+02 -5.06261420e+01 -2.15161715e+01 -3.21080778e+01\n",
      "   4.67730003e+02 -6.45682112e+01 -4.38699414e+01]\n",
      " [-2.17247169e+01 -2.03239739e+01 -4.76709670e+00 -1.76838068e+01\n",
      "  -4.91264793e+01 -1.41791467e+01 -3.32521218e+01 -2.66518171e+01\n",
      "  -2.59799378e+01  1.09963217e+01 -1.18219990e+02 -1.48582721e+01\n",
      "  -1.39243606e+00  4.49674333e-01 -2.71093267e+01  2.24031969e+01\n",
      "  -1.12170592e+01 -3.94391946e+01 -3.33479340e+01 -2.68343310e+01\n",
      "  -6.45682112e+01  3.87569663e+02 -4.37517469e+01]\n",
      " [-1.47086114e+01 -2.14504495e+01 -6.23387271e+00 -2.87121926e+01\n",
      "  -3.14115848e+01  1.45744304e+00 -1.95229198e+00 -3.21973249e+01\n",
      "  -3.70064871e+01  1.72973621e+01 -7.70006431e+01 -4.69981979e+01\n",
      "  -1.74663199e+01  1.05056565e+01 -1.76396832e+01  1.08386618e+01\n",
      "  -8.47750875e+00  6.62855290e+01  3.37345165e+00 -3.05466795e+01\n",
      "  -4.38699414e+01 -4.37517469e+01  2.91490751e+02]]\n",
      "Computing CAS...\n"
     ]
    },
    {
     "data": {
      "text/plain": [
       "'\\nmetrics_dict[\"clisis\"] = compute_clisis(\\n    adata=adata,\\n    cell_type_key=cell_type_key,\\n    condition_key=condition_key,\\n    spatial_knng_key=spatial_knng_key,\\n    latent_knng_key=latent_knng_key,\\n    spatial_key=spatial_key,\\n    latent_key=f\"{model.lower()}_{latent_key}_run1\")\\n\\n# Batch correction metrics\\nmetrics_dict[\"asw\"] = scib.me.silhouette_batch(\\n    adata=adata,\\n    batch_key=condition_key,\\n    label_key=cell_type_key,\\n    embed=f\"{model.lower()}_{latent_key}_run1\")\\nmetrics_dict[\"ilisi\"] = scib.me.ilisi_graph(\\n    adata=adata,\\n    batch_key=condition_key,\\n    type_=\"embed\",\\n    use_rep=f\"{model.lower()}_{latent_key}_run1\")\\n    #type_=\"knn\")\\n'"
      ]
     },
     "execution_count": 182,
     "metadata": {},
     "output_type": "execute_result"
    }
   ],
   "source": [
    "# Compute metrics\n",
    "metrics_dict = {}\n",
    "\n",
    "# Spatial conservation metrics\n",
    "metrics_dict[\"cas\"] = compute_cas(\n",
    "    adata=adata,\n",
    "    cell_type_key=cell_type_key,\n",
    "    condition_key=condition_key,\n",
    "    spatial_knng_key=spatial_knng_key,\n",
    "    latent_knng_key=latent_knng_key,\n",
    "    spatial_key=spatial_key,\n",
    "    latent_key=f\"{model.lower()}_{latent_key}_run1\")\n",
    "\"\"\"\n",
    "metrics_dict[\"clisis\"] = compute_clisis(\n",
    "    adata=adata,\n",
    "    cell_type_key=cell_type_key,\n",
    "    condition_key=condition_key,\n",
    "    spatial_knng_key=spatial_knng_key,\n",
    "    latent_knng_key=latent_knng_key,\n",
    "    spatial_key=spatial_key,\n",
    "    latent_key=f\"{model.lower()}_{latent_key}_run1\")\n",
    "\n",
    "# Batch correction metrics\n",
    "metrics_dict[\"asw\"] = scib.me.silhouette_batch(\n",
    "    adata=adata,\n",
    "    batch_key=condition_key,\n",
    "    label_key=cell_type_key,\n",
    "    embed=f\"{model.lower()}_{latent_key}_run1\")\n",
    "metrics_dict[\"ilisi\"] = scib.me.ilisi_graph(\n",
    "    adata=adata,\n",
    "    batch_key=condition_key,\n",
    "    type_=\"embed\",\n",
    "    use_rep=f\"{model.lower()}_{latent_key}_run1\")\n",
    "    #type_=\"knn\")\n",
    "\"\"\""
   ]
  },
  {
   "cell_type": "code",
   "execution_count": null,
   "id": "6748f0f6-ecc1-4ed8-af22-6e04954961b1",
   "metadata": {},
   "outputs": [],
   "source": []
  }
 ],
 "metadata": {
  "kernelspec": {
   "display_name": "Python 3 (ipykernel)",
   "language": "python",
   "name": "python3"
  },
  "language_info": {
   "codemirror_mode": {
    "name": "ipython",
    "version": 3
   },
   "file_extension": ".py",
   "mimetype": "text/x-python",
   "name": "python",
   "nbconvert_exporter": "python",
   "pygments_lexer": "ipython3",
   "version": "3.9.15"
  }
 },
 "nbformat": 4,
 "nbformat_minor": 5
}
