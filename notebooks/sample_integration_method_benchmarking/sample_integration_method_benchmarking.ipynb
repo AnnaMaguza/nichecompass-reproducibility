{
 "cells": [
  {
   "cell_type": "markdown",
   "id": "1b1daabf-c8e3-43d4-aa32-9789abcc8619",
   "metadata": {},
   "source": [
    "# Sample Integration Method Benchmarking"
   ]
  },
  {
   "cell_type": "markdown",
   "id": "c325d921-2077-42b3-90a8-6f6c7dd928c5",
   "metadata": {},
   "source": [
    "- **Creator**: Sebastian Birk (<sebastian.birk@helmholtz-munich.de>).\n",
    "- **Affiliation:** Helmholtz Munich, Institute of Computational Biology (ICB), Talavera-López Lab\n",
    "- **Date of Creation:** 20.01.2023\n",
    "- **Date of Last Modification:** 26.04.2023"
   ]
  },
  {
   "cell_type": "markdown",
   "id": "2d464ebf-354f-4f61-8040-c3dcbcc893b9",
   "metadata": {},
   "source": [
    "## 1. Setup"
   ]
  },
  {
   "cell_type": "markdown",
   "id": "d5631277-d8d2-4194-a376-280f4f149b7d",
   "metadata": {},
   "source": [
    "### 1.1 Import Libraries"
   ]
  },
  {
   "cell_type": "code",
   "execution_count": null,
   "id": "4e5d3297-0290-47c0-846f-705e74cdb3de",
   "metadata": {
    "tags": []
   },
   "outputs": [],
   "source": [
    "%load_ext autoreload\n",
    "%autoreload 2"
   ]
  },
  {
   "cell_type": "code",
   "execution_count": null,
   "id": "8dbd4925-7505-4d01-bf91-95b54bb8b533",
   "metadata": {
    "tags": []
   },
   "outputs": [],
   "source": [
    "import sys\n",
    "sys.path.append(\"../../utils\")"
   ]
  },
  {
   "cell_type": "code",
   "execution_count": null,
   "id": "b4aa3c6a-5a44-4cf1-84a3-5e514457cf3c",
   "metadata": {
    "tags": []
   },
   "outputs": [],
   "source": [
    "import argparse\n",
    "import os\n",
    "import pickle\n",
    "import random\n",
    "import warnings\n",
    "from copy import deepcopy\n",
    "from datetime import datetime\n",
    "\n",
    "import anndata as ad\n",
    "import matplotlib\n",
    "import matplotlib.colors as colors\n",
    "import matplotlib.pyplot as plt\n",
    "import mlflow\n",
    "import numpy as np\n",
    "import pandas as pd\n",
    "import plottable\n",
    "import scanpy as sc\n",
    "import scib\n",
    "import scipy.sparse as sp\n",
    "import scvi\n",
    "import seaborn as sns\n",
    "import squidpy as sq\n",
    "import torch\n",
    "from GraphST import GraphST\n",
    "from matplotlib import gridspec\n",
    "from matplotlib.pyplot import rc_context\n",
    "from plottable import ColumnDefinition, Table\n",
    "from plottable.cmap import normed_cmap\n",
    "from plottable.formatters import tickcross\n",
    "from plottable.plots import bar\n",
    "from sklearn.decomposition import KernelPCA\n",
    "\n",
    "from benchmarking_utils import *\n",
    "from color_utils import *"
   ]
  },
  {
   "cell_type": "markdown",
   "id": "9f91f345-c297-47cb-8650-c6d9c60a8b7e",
   "metadata": {},
   "source": [
    "### 1.2 Define Parameters"
   ]
  },
  {
   "cell_type": "code",
   "execution_count": null,
   "id": "600855b8-47f5-4cdb-8fe3-94c6cb6eca0e",
   "metadata": {
    "tags": []
   },
   "outputs": [],
   "source": [
    "# Gene Program Mask\n",
    "nichenet_keep_target_genes_ratio = 0.01\n",
    "nichenet_max_n_target_genes_per_gp = 25344\n",
    "include_mebocost_gps = True\n",
    "mebocost_species = \"mouse\"\n",
    "gp_filter_mode = \"subset\"\n",
    "combine_overlap_gps = True\n",
    "overlap_thresh_source_genes = 0.9\n",
    "overlap_thresh_target_genes = 0.9\n",
    "overlap_thresh_genes = 0.9\n",
    "\n",
    "# Data\n",
    "counts_key = \"counts\"\n",
    "condition_key = \"batch\"\n",
    "n_neighbors = 12\n",
    "spatial_key = \"spatial\"\n",
    "adj_key = \"spatial_connectivities\"\n",
    "mapping_entity_key = \"mapping_entity\"\n",
    "filter_genes = True\n",
    "n_hvg = 2000\n",
    "gp_targets_mask_key = \"nichecompass_gp_targets\"\n",
    "gp_sources_mask_key = \"nichecompass_gp_sources\"\n",
    "gp_names_key = \"nichecompass_gp_names\"\n",
    "\n",
    "# Model\n",
    "load_timestamp = \"27032023_184359\"\n",
    "latent_key = \"latent\"\n",
    "\n",
    "# Benchmarking\n",
    "cell_type_key = \"Main_molecular_cell_type\"\n",
    "spatial_knng_key = \"nichecompass_spatial_knng\"\n",
    "latent_knng_key = \"nichecompass_latent_knng\"\n",
    "\n",
    "# Other\n",
    "random_seed = 0"
   ]
  },
  {
   "cell_type": "markdown",
   "id": "a6c3b7fa-fa59-43dd-81d2-7e116650915f",
   "metadata": {},
   "source": [
    "### 1.3 Run Notebook Setup"
   ]
  },
  {
   "cell_type": "code",
   "execution_count": null,
   "id": "37685c2a-9a44-4de7-a7ca-5f7d23ef62b0",
   "metadata": {
    "tags": []
   },
   "outputs": [],
   "source": [
    "sc.set_figure_params(figsize=(6, 6))\n",
    "sns.set_style(\"whitegrid\", {'axes.grid' : False})"
   ]
  },
  {
   "cell_type": "code",
   "execution_count": null,
   "id": "924032d4-24a4-45cf-87e1-0eba197da0c2",
   "metadata": {
    "tags": []
   },
   "outputs": [],
   "source": [
    "# Ignore future warnings and user warnings\n",
    "warnings.simplefilter(action=\"ignore\", category=FutureWarning)\n",
    "warnings.simplefilter(action=\"ignore\", category=UserWarning)"
   ]
  },
  {
   "cell_type": "code",
   "execution_count": null,
   "id": "ab22fbaf-aeed-464b-8a20-b640b9e055fd",
   "metadata": {
    "tags": []
   },
   "outputs": [],
   "source": [
    "# Get time of notebook execution for timestamping saved artifacts\n",
    "now = datetime.now()\n",
    "current_timestamp = now.strftime(\"%d%m%Y_%H%M%S\")"
   ]
  },
  {
   "cell_type": "markdown",
   "id": "2b886225-6b6d-433c-b117-47b9a8f8091f",
   "metadata": {},
   "source": [
    "### 1.4 Configure Paths and Create Directories"
   ]
  },
  {
   "cell_type": "code",
   "execution_count": null,
   "id": "36675337-808d-40a9-93fc-d6cfa9473f66",
   "metadata": {
    "tags": []
   },
   "outputs": [],
   "source": [
    "# Define paths\n",
    "figure_folder_path = f\"../../figures/sample_integration_method_benchmarking/{current_timestamp}\"\n",
    "metric_artifacts_folder_path = f\"../../artifacts/sample_integration_method_benchmarking/{load_timestamp}\"\n",
    "gp_data_folder_path = \"../../datasets/gp_data\" # gene program data\n",
    "srt_data_folder_path = \"../../datasets/srt_data\" # spatially resolved transcriptomics data\n",
    "srt_data_gold_folder_path = f\"{srt_data_folder_path}/gold\"\n",
    "srt_data_results_folder_path = \"../../datasets/srt_data/results/sample_integration_method_benchmarking\" \n",
    "nichenet_ligand_target_mx_file_path = gp_data_folder_path + \"/nichenet_ligand_target_matrix.csv\"\n",
    "omnipath_lr_interactions_file_path = gp_data_folder_path + \"/omnipath_lr_interactions.csv\"\n",
    "\n",
    "# Create required directories\n",
    "os.makedirs(figure_folder_path, exist_ok=True)\n",
    "os.makedirs(metric_artifacts_folder_path, exist_ok=True)"
   ]
  },
  {
   "cell_type": "markdown",
   "id": "1f53d723-4fd7-49dc-844b-58cf8b9585a2",
   "metadata": {},
   "source": [
    "## 2. Sample Integration Evaluation"
   ]
  },
  {
   "cell_type": "markdown",
   "id": "d56571c4-9fea-4738-8aef-0c95210f4e27",
   "metadata": {},
   "source": [
    "### 4.1 One-Shot Batch Integration"
   ]
  },
  {
   "cell_type": "code",
   "execution_count": null,
   "id": "43af2fbb-4dc2-4082-8580-b982cd59c632",
   "metadata": {
    "tags": []
   },
   "outputs": [],
   "source": [
    "# Plot UMAP with batch annotations\n",
    "fig = sc.pl.umap(adata_reference,\n",
    "                 color=[condition_key],\n",
    "                 legend_fontsize=12,\n",
    "                 size=240000/len(adata_reference),\n",
    "                 return_fig=True)\n",
    "fig.set_figheight(7)\n",
    "fig.set_figwidth(7)\n",
    "plt.title(f\"One-Shot Integration: {model_name} Latent Batch Annotations\", size=20, pad=15)\n",
    "fig.savefig(f\"{figure_folder_path}/latent_batches_{model_name.lower()}_oneshot_integrated.svg\",\n",
    "            bbox_inches=\"tight\",\n",
    "            format=\"svg\")\n",
    "\n",
    "# Plot UMAP with cell type annotations\n",
    "fig = sc.pl.umap(adata_reference,\n",
    "                 color=[cell_type_key],\n",
    "                 palette=starmap_pluse_mouse_cns_cell_type_colors,\n",
    "                 legend_fontsize=12,\n",
    "                 size=240000/len(adata_reference),\n",
    "                 return_fig=True)\n",
    "fig.set_figheight(7)\n",
    "fig.set_figwidth(7)\n",
    "plt.title(f\"One-Shot Integration: {model_name} Latent Cell Type Annotations\", size=20, pad=15)\n",
    "fig.savefig(f\"{figure_folder_path}/latent_cell_types_{model_name.lower()}_oneshot_integrated.svg\",\n",
    "            bbox_inches=\"tight\",\n",
    "            format=\"svg\")"
   ]
  },
  {
   "cell_type": "markdown",
   "id": "9823ccdb-7f44-4ccb-b983-9a94b2a40b95",
   "metadata": {},
   "source": [
    "##### 4.1.1.2 GraphST"
   ]
  },
  {
   "cell_type": "code",
   "execution_count": null,
   "id": "d3b8d4bc-e94b-4d03-b927-ae0a6f4d4929",
   "metadata": {
    "tags": []
   },
   "outputs": [],
   "source": [
    "# Plot UMAP with batch annotations\n",
    "fig = sc.pl.umap(adata_reference,\n",
    "                 color=[condition_key],\n",
    "                 legend_fontsize=12,\n",
    "                 size=240000/len(adata_reference),\n",
    "                 return_fig=True)\n",
    "fig.set_figheight(7)\n",
    "fig.set_figwidth(7)\n",
    "plt.title(f\"One-Shot Integration: {model_name} Latent Batch Annotations\", size=20, pad=15)\n",
    "fig.savefig(f\"{figure_folder_path}/latent_batches_{model_name.lower()}_oneshot_integrated.svg\",\n",
    "            bbox_inches=\"tight\",\n",
    "            format=\"svg\")\n",
    "\n",
    "# Plot UMAP with cell type annotations\n",
    "fig = sc.pl.umap(adata_reference,\n",
    "                 color=[cell_type_key],\n",
    "                 palette=starmap_pluse_mouse_cns_cell_type_colors,\n",
    "                 legend_fontsize=12,\n",
    "                 size=240000/len(adata_reference),\n",
    "                 return_fig=True)\n",
    "fig.set_figheight(7)\n",
    "fig.set_figwidth(7)\n",
    "plt.title(f\"One-Shot Integration: {model_name} Latent Cell Type Annotations\", size=20, pad=15)\n",
    "fig.savefig(f\"{figure_folder_path}/latent_cell_types_{model_name.lower()}_oneshot_integrated.svg\",\n",
    "            bbox_inches=\"tight\",\n",
    "            format=\"svg\")"
   ]
  },
  {
   "cell_type": "markdown",
   "id": "158665e2-60f6-42a4-a91c-f231a30bfd22",
   "metadata": {},
   "source": [
    "#### 4.1.2 NicheCompass"
   ]
  },
  {
   "cell_type": "code",
   "execution_count": null,
   "id": "16776df5-543e-4dda-a63c-44774ba76b38",
   "metadata": {
    "tags": []
   },
   "outputs": [],
   "source": [
    "model_name = \"NicheCompass\"\n",
    "\n",
    "# Load trained model\n",
    "model = NicheCompass.load(dir_path=model_artifacts_folder_path + \"/reference\",\n",
    "                        adata=None,\n",
    "                        adata_file_name=f\"{dataset}_reference.h5ad\",\n",
    "                        gp_names_key=\"nichecompass_gp_names\")\n",
    "\n",
    "adata_reference = model.adata\n",
    "\n",
    "# Use NicheCompass latent representation for UMAP generation\n",
    "sc.pp.neighbors(adata_reference,\n",
    "                use_rep=f\"{model_name.lower()}_{latent_key}\")\n",
    "sc.tl.umap(adata_reference)\n",
    "\n",
    "# Save integrated adata to disk\n",
    "adata_reference.write(f\"{srt_data_gold_folder_path}/{dataset}_{model_name.lower()}_oneshot_integrated.h5ad\")"
   ]
  },
  {
   "cell_type": "code",
   "execution_count": null,
   "id": "9edaf50d-f07c-4d8e-9e88-baa0f12529a9",
   "metadata": {
    "tags": []
   },
   "outputs": [],
   "source": [
    "# Plot UMAP with batch annotations\n",
    "fig = sc.pl.umap(adata_reference,\n",
    "                 color=[condition_key],\n",
    "                 legend_fontsize=12,\n",
    "                 size=240000/len(adata_reference),\n",
    "                 return_fig=True)\n",
    "fig.set_figheight(10)\n",
    "fig.set_figwidth(10)\n",
    "plt.title(f\"One-Shot Integration: {model_name} Latent Batch Annotations\", size=20, pad=15)\n",
    "fig.savefig(f\"{figure_folder_path}/latent_batches_{model_name.lower()}_oneshot_integrated.svg\",\n",
    "            bbox_inches=\"tight\",\n",
    "            format=\"svg\")\n",
    "\n",
    "# Plot UMAP with cell type annotations\n",
    "fig = sc.pl.umap(adata_reference,\n",
    "                 color=[cell_type_key],\n",
    "                 palette=starmap_pluse_mouse_cns_cell_type_colors,\n",
    "                 legend_fontsize=12,\n",
    "                 size=240000/len(adata_reference),\n",
    "                 return_fig=True)\n",
    "fig.set_figheight(10)\n",
    "fig.set_figwidth(10)\n",
    "plt.title(f\"One-Shot Integration: {model_name} Latent Cell Type Annotations\", size=20, pad=15)\n",
    "fig.savefig(f\"{figure_folder_path}/latent_cell_types_{model_name.lower()}_oneshot_integrated.svg\",\n",
    "            bbox_inches=\"tight\",\n",
    "            format=\"svg\")"
   ]
  },
  {
   "cell_type": "markdown",
   "id": "e795460e-1599-4a9c-9f31-2c2e3e4bf26f",
   "metadata": {},
   "source": [
    "#### 4.1.3 Evaluation"
   ]
  },
  {
   "cell_type": "markdown",
   "id": "6775ab58-31a6-408c-8712-a7f837f14269",
   "metadata": {},
   "source": [
    "##### 4.1.3.2 Latent Space Comparison Visualization"
   ]
  },
  {
   "cell_type": "code",
   "execution_count": null,
   "id": "94e5c6e4-415f-49fc-be2a-88372175e433",
   "metadata": {},
   "outputs": [],
   "source": [
    "import argparse\n",
    "import os\n",
    "import pickle\n",
    "import random\n",
    "import warnings\n",
    "from copy import deepcopy\n",
    "from datetime import datetime\n",
    "\n",
    "import anndata as ad\n",
    "import matplotlib\n",
    "import matplotlib.colors as colors\n",
    "import matplotlib.pyplot as plt\n",
    "import mlflow\n",
    "import numpy as np\n",
    "import pandas as pd\n",
    "import plottable\n",
    "import scanpy as sc\n",
    "import scib\n",
    "import scipy.sparse as sp\n",
    "import scvi\n",
    "import seaborn as sns\n",
    "import squidpy as sq\n",
    "import torch\n",
    "from GraphST import GraphST\n",
    "from matplotlib import gridspec\n",
    "from matplotlib.pyplot import rc_context\n",
    "from plottable import ColumnDefinition, Table\n",
    "from plottable.cmap import normed_cmap\n",
    "from plottable.formatters import tickcross\n",
    "from plottable.plots import bar\n",
    "from sklearn.decomposition import KernelPCA\n",
    "\n",
    "from nichecompass.benchmarking import compute_clisis, compute_cas\n",
    "from nichecompass.models import NicheCompass\n",
    "from nichecompass.utils import (add_gps_from_gp_dict_to_adata,\n",
    "                                extract_gp_dict_from_mebocost_es_interactions,\n",
    "                                extract_gp_dict_from_nichenet_ligand_target_mx,\n",
    "                                extract_gp_dict_from_omnipath_lr_interactions,\n",
    "                                filter_and_combine_gp_dict_gps,\n",
    "                                get_unique_genes_from_gp_dict)\n",
    "\n",
    "from benchmarking_utils import *\n",
    "from color_utils import *"
   ]
  },
  {
   "cell_type": "code",
   "execution_count": null,
   "id": "f64d13b5-c0c8-4239-a810-9b5d712db644",
   "metadata": {
    "tags": []
   },
   "outputs": [],
   "source": [
    "compute_latent_space_comparison(dataset=\"seqfish_mouse_organogenesis\",\n",
    "                                run_number=5,\n",
    "                                srt_data_results_folder_path=srt_data_results_folder_path,\n",
    "                                cell_type_colors=seqfish_mouse_organogenesis_cell_type_colors,\n",
    "                                dataset_title_string=\"seqFISH Mouse Organogenesis\",\n",
    "                                cell_type_key=\"cell_type\",\n",
    "                                condition_key=\"batch\",\n",
    "                                figure_folder_path=figure_folder_path,\n",
    "                                cell_type_groups=None,\n",
    "                                spot_size=0.03,\n",
    "                                included_models=[\"NicheCompass\",\n",
    "                                                 \"GraphST\",\n",
    "                                                 \"scVI\"],\n",
    "                                save_fig=True)"
   ]
  },
  {
   "cell_type": "markdown",
   "id": "7bea212c-c31c-4c68-a0f1-b19b0228a466",
   "metadata": {},
   "source": [
    "##### 4.1.3.3 Compute Batch Integration Metrics"
   ]
  },
  {
   "cell_type": "code",
   "execution_count": null,
   "id": "5656260b-2552-41b2-8dd8-e88c286df188",
   "metadata": {},
   "outputs": [],
   "source": [
    "adata = sc.read_h5ad(\"../../datasets/srt_data/results/sample_integration_method_benchmarking/seqfish_mouse_organogenesis_graphst_sample_integration_method_benchmarking.h5ad\")"
   ]
  },
  {
   "cell_type": "code",
   "execution_count": null,
   "id": "c576f8c0-8bd4-4f13-b2fb-949a5ca8310a",
   "metadata": {},
   "outputs": [],
   "source": [
    "adata"
   ]
  },
  {
   "cell_type": "code",
   "execution_count": null,
   "id": "4d7a2297-2af4-4573-bd9b-939649ec57a4",
   "metadata": {
    "tags": []
   },
   "outputs": [],
   "source": [
    "compute_batch_integration_metrics(dataset=\"seqfish_mouse_organogenesis\",\n",
    "                                  condition_key=\"batch\",\n",
    "                                  cell_type_key=\"cell_type\",\n",
    "                                  srt_data_results_folder_path=srt_data_results_folder_path,\n",
    "                                  metric_artifacts_folder_path=metric_artifacts_folder_path,\n",
    "                                  included_models=[#\"NicheCompass\",\n",
    "                                                   \"GraphST\",\n",
    "                                                   \"scVI\"])"
   ]
  },
  {
   "cell_type": "markdown",
   "id": "d57ad281-c145-42bb-9dbb-4d4a7703c7d3",
   "metadata": {},
   "source": [
    "##### 4.1.3.4 Visualize Batch Integration Results"
   ]
  },
  {
   "cell_type": "code",
   "execution_count": null,
   "id": "87bfb851-9846-4071-be7e-b6ecfd4c00bb",
   "metadata": {
    "tags": []
   },
   "outputs": [],
   "source": [
    "df = pd.DataFrame()\n",
    "datasets = [\"starmap_plus_mouse_cns\",]\n",
    "timestamps = [\"27032023_184359\"]\n",
    "\n",
    "for dataset, timestamp in zip(datasets, timestamps):\n",
    "    dataset_metric_artifacts_folder_path = f\"../artifacts/{dataset}/metrics/{timestamp}\"\n",
    "    \n",
    "    metrics_dict_list = []\n",
    "    for model in [\"NicheCompass\", \"GraphST\", \"scVI\"]:\n",
    "        # Read complete benchmarking data from disk\n",
    "        with open(f\"{dataset_metric_artifacts_folder_path}/metrics_{model.lower()}_oneshot_integrated.pickle\", \"rb\") as f:\n",
    "            metrics_dict = pickle.load(f)\n",
    "            metrics_dict[\"model_name\"] = model.lower()\n",
    "            metrics_dict_list.append(metrics_dict)\n",
    "    \n",
    "    dataset_df = pd.DataFrame(metrics_dict_list)\n",
    "    dataset_df[\"dataset\"] = dataset\n",
    "\n",
    "df = pd.concat([df, dataset_df])\n",
    "df.head()\n",
    "\n",
    "columns = [\"cas\",\n",
    "           \"clisis\",\n",
    "           \"asw\",\n",
    "           \"ilisi\",\n",
    "           ]\n",
    "\n",
    "rows = [\"nichecompass\",\n",
    "        \"graphst\",\n",
    "        \"scvi\"]\n",
    "\n",
    "unrolled_df = pd.melt(df, \n",
    "   id_vars = [\"model_name\", \"dataset\"],\n",
    "   value_vars = columns,\n",
    "   var_name = \"score_type\", \n",
    "   value_name = \"score\")\n",
    "\n",
    "# Compute metric means over all runs\n",
    "mean_df = unrolled_df.groupby([\"model_name\", \"dataset\", \"score_type\"]).mean()\n",
    "mean_df.reset_index(inplace=True)\n",
    "\n",
    "# Reformat for plot\n",
    "mean_df.replace({\"nichecompass\": \"NicheCompass\",\n",
    "                 \"graphst\": \"GraphST\",\n",
    "                 \"scvi\": \"scVI\"}, inplace=True)\n",
    "\n",
    "# Sort for right order of columns in plottable\n",
    "mean_df[\"score_type\"] = pd.Categorical(mean_df[\"score_type\"], [\"cas\", \"clisis\", \"asw\", \"ilisi\"])\n",
    "mean_df.sort_values([\"model_name\", \"score_type\"], inplace=True)\n",
    "\n",
    "# Create spatial indicator column\n",
    "def is_spatially_aware_model(row):\n",
    "    if row[\"model_name\"] in [\"NicheCompass\", \"GraphST\"]:\n",
    "        return True\n",
    "    return False\n",
    "mean_df[\"spatially_aware\"] = mean_df.apply(lambda row: is_spatially_aware_model(row), axis=1)"
   ]
  },
  {
   "cell_type": "code",
   "execution_count": null,
   "id": "9b232796-17df-4f78-a046-1bd3c7ccc9bf",
   "metadata": {
    "tags": []
   },
   "outputs": [],
   "source": [
    "plot_batch_integration_results(mean_df,\n",
    "                               show=True,\n",
    "                               save_dir=None,\n",
    "                               save_name=\"batch_integration_results.svg\")"
   ]
  },
  {
   "cell_type": "markdown",
   "id": "176de1bd-5811-43c6-9b4b-7d91ff74aa2b",
   "metadata": {},
   "source": [
    "##### 4.1.3.4 Scalability"
   ]
  },
  {
   "cell_type": "code",
   "execution_count": null,
   "id": "9ad06011-9f0c-4f3d-a92a-0b46879e1c85",
   "metadata": {},
   "outputs": [],
   "source": [
    "datasets = [\"seqfish_mouse_organogenesis\", \"starmap_plus_mouse_cns\"]\n",
    "models = [\"NicheCompass (Attention Aggregator)\", \"NicheCompass (Norm Aggregator)\", \"GraphST\", \"scVI\"]\n",
    "\n",
    "run_time_dict = {\"Dataset\": [],\n",
    "                 \"Model\": [],\n",
    "                 \"Dataset Size (%)\": [],\n",
    "                 \"Mean Runtime (s)\": []}\n",
    "\n",
    "for dataset in datasets:\n",
    "    for model in models:\n",
    "        for subsample_pct in [1, 5, 10, 25, 50, 100]:\n",
    "            if model == \"NicheCompass (Attention Aggregator)\":\n",
    "                model_subtype = \"nichecompass_one-hop-attention\"\n",
    "                model_str = \"nichecompass\"\n",
    "            elif model == \"NicheCompass (Norm Aggregator)\":\n",
    "                model_subtype = \"nichecompass_one-hop-norm\"\n",
    "                model_str = \"nichecompass\"\n",
    "            else:\n",
    "                model_subtype = model\n",
    "                model_str = model\n",
    "                \n",
    "            if subsample_pct == 100:\n",
    "                subsample_str = \"\"\n",
    "            else:\n",
    "                subsample_str = f\"_subsample_{subsample_pct}pct\"\n",
    "\n",
    "            try:\n",
    "                adata = sc.read_h5ad(f\"{srt_data_results_folder_path}/{dataset}{subsample_str}_{model_subtype.lower()}_sample_integration_method_benchmarking.h5ad\")\n",
    "            except:\n",
    "                print(f\"Did not load {dataset}{subsample_str}_{model_subtype.lower()}_sample_integration_method_benchmarking.h5ad\")\n",
    "                continue\n",
    "                \n",
    "            print(f\"Loaded {dataset}{subsample_str}_{model_subtype.lower()}_sample_integration_method_benchmarking.h5ad\")\n",
    "\n",
    "            run_times = []\n",
    "            for run_number in range(1, 11):\n",
    "                run_times.append(adata.uns[f\"{model_str.lower()}_model_training_duration_run{run_number}\"])\n",
    "            run_time_dict[\"Dataset\"].append(dataset)\n",
    "            run_time_dict[\"Model\"].append(model)\n",
    "            run_time_dict[\"Dataset Size (%)\"].append(subsample_pct)\n",
    "            run_time_dict[\"Mean Runtime (s)\"].append(np.mean(run_times))\n",
    "\n",
    "run_time_df = pd.DataFrame(run_time_dict)\n",
    "display(run_time_df)"
   ]
  },
  {
   "cell_type": "code",
   "execution_count": null,
   "id": "a419e2f3-3fe7-411a-9020-1d88acea2b20",
   "metadata": {},
   "outputs": [],
   "source": [
    "# Create a figure with two subplots\n",
    "fig, axs = plt.subplots(1, 2, figsize=(10, 5), sharey=True)\n",
    "\n",
    "# Plot the first lineplot in the first subplot\n",
    "sns.lineplot(x=\"Dataset Size (%)\", y=\"Mean Runtime (s)\", hue=run_time_df[\"Model\"], data=run_time_df[run_time_df[\"Dataset\"] == \"seqfish_mouse_organogenesis\"], marker=\"o\", ax=axs[0])\n",
    "axs[0].set_title(\"seqFISH Mouse Organogenesis\")\n",
    "\n",
    "# Plot the second lineplot in the second subplot\n",
    "sns.lineplot(x=\"Dataset Size (%)\", y=\"Mean Runtime (s)\", hue=run_time_df[\"Model\"], data=run_time_df[run_time_df[\"Dataset\"] == \"starmap_plus_mouse_cns\"], marker=\"o\", ax=axs[1], legend=False)\n",
    "axs[1].set_title(\"STARmap PLUS Mouse CNS\")\n",
    "\n",
    "# Remove the legend title\n",
    "leg = axs[0].legend()\n",
    "leg.set_title(\"\")\n",
    "\n",
    "# Add a grid to both subplots\n",
    "for ax in axs:\n",
    "    ax.grid(True, linewidth=0.2, color='lightgrey')\n",
    "    \n",
    "plt.subplots_adjust(wspace=0.05)\n",
    "\n",
    "plt.savefig(f\"{figure_folder_path}/method_comparison_scalability.svg\",\n",
    "            bbox_inches=\"tight\")\n",
    "plt.show()"
   ]
  },
  {
   "cell_type": "markdown",
   "id": "3a553a3d-2c88-4fcc-93f3-c07693be365d",
   "metadata": {},
   "source": [
    "### 4.2 Query-to-Reference Mapping"
   ]
  },
  {
   "cell_type": "markdown",
   "id": "ac2adc45-78e3-4632-b752-f9b0afe3f2c3",
   "metadata": {},
   "source": [
    "#### 3.3.1 Building the Reference"
   ]
  },
  {
   "cell_type": "markdown",
   "id": "b98c90af-b0ae-440b-adde-8d4b2b8ed41f",
   "metadata": {},
   "source": [
    "#### 3.3.2 Mapping the Query"
   ]
  },
  {
   "cell_type": "markdown",
   "id": "08384712-93b9-4952-a614-43d5814cd6b8",
   "metadata": {},
   "source": [
    "##### 3.3.2.1 Initialize, Train & Save Model"
   ]
  },
  {
   "cell_type": "code",
   "execution_count": null,
   "id": "b28a0b8a-d154-4e76-9d7e-d5459498a580",
   "metadata": {},
   "outputs": [],
   "source": []
  }
 ],
 "metadata": {
  "kernelspec": {
   "display_name": "Python 3 (ipykernel)",
   "language": "python",
   "name": "python3"
  },
  "language_info": {
   "codemirror_mode": {
    "name": "ipython",
    "version": 3
   },
   "file_extension": ".py",
   "mimetype": "text/x-python",
   "name": "python",
   "nbconvert_exporter": "python",
   "pygments_lexer": "ipython3",
   "version": "3.9.16"
  },
  "toc-autonumbering": false,
  "toc-showcode": false,
  "toc-showmarkdowntxt": false
 },
 "nbformat": 4,
 "nbformat_minor": 5
}
