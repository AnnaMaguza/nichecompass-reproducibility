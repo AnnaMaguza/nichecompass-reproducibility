{
 "cells": [
  {
   "cell_type": "markdown",
   "id": "1b1daabf-c8e3-43d4-aa32-9789abcc8619",
   "metadata": {},
   "source": [
    "# Sample Integration Method Benchmarking"
   ]
  },
  {
   "cell_type": "markdown",
   "id": "c325d921-2077-42b3-90a8-6f6c7dd928c5",
   "metadata": {},
   "source": [
    "- **Creator**: Sebastian Birk (<sebastian.birk@helmholtz-munich.de>).\n",
    "- **Affiliation:** Helmholtz Munich, Institute of Computational Biology (ICB), Talavera-López Lab\n",
    "- **Date of Creation:** 20.01.2023\n",
    "- **Date of Last Modification:** 22.08.2023"
   ]
  },
  {
   "cell_type": "markdown",
   "id": "2d464ebf-354f-4f61-8040-c3dcbcc893b9",
   "metadata": {},
   "source": [
    "## 1. Setup"
   ]
  },
  {
   "cell_type": "markdown",
   "id": "d5631277-d8d2-4194-a376-280f4f149b7d",
   "metadata": {},
   "source": [
    "### 1.1 Import Libraries"
   ]
  },
  {
   "cell_type": "code",
   "execution_count": 4,
   "id": "4e5d3297-0290-47c0-846f-705e74cdb3de",
   "metadata": {
    "tags": []
   },
   "outputs": [
    {
     "name": "stdout",
     "output_type": "stream",
     "text": [
      "The autoreload extension is already loaded. To reload it, use:\n",
      "  %reload_ext autoreload\n"
     ]
    }
   ],
   "source": [
    "%load_ext autoreload\n",
    "%autoreload 2"
   ]
  },
  {
   "cell_type": "code",
   "execution_count": 5,
   "id": "8dbd4925-7505-4d01-bf91-95b54bb8b533",
   "metadata": {
    "tags": []
   },
   "outputs": [],
   "source": [
    "import sys\n",
    "sys.path.append(\"../../utils\")"
   ]
  },
  {
   "cell_type": "code",
   "execution_count": 15,
   "id": "d2de203a-d8f2-473f-8b0b-b5acb634d7c7",
   "metadata": {},
   "outputs": [],
   "source": [
    "import argparse\n",
    "import os\n",
    "import pickle\n",
    "import random\n",
    "import shutil\n",
    "import warnings\n",
    "from copy import deepcopy\n",
    "from datetime import datetime\n",
    "\n",
    "import anndata as ad\n",
    "import matplotlib\n",
    "import matplotlib.colors as colors\n",
    "import matplotlib.pyplot as plt\n",
    "import mlflow\n",
    "import numpy as np\n",
    "import pandas as pd\n",
    "import plottable\n",
    "import scanpy as sc\n",
    "import scipy.sparse as sp\n",
    "import scvi\n",
    "import seaborn as sns\n",
    "import squidpy as sq\n",
    "import torch\n",
    "from GraphST import GraphST\n",
    "from matplotlib import gridspec\n",
    "from matplotlib.pyplot import rc_context\n",
    "from plottable import ColumnDefinition, Table\n",
    "from plottable.cmap import normed_cmap\n",
    "from plottable.formatters import tickcross\n",
    "from plottable.plots import bar\n",
    "from sklearn.decomposition import KernelPCA\n",
    "\n",
    "from nichecompass.benchmarking import compute_clisis, compute_cas\n",
    "from nichecompass.models import NicheCompass\n",
    "\n",
    "from benchmarking_utils import *"
   ]
  },
  {
   "cell_type": "markdown",
   "id": "9f91f345-c297-47cb-8650-c6d9c60a8b7e",
   "metadata": {},
   "source": [
    "### 1.2 Define Parameters"
   ]
  },
  {
   "cell_type": "code",
   "execution_count": 8,
   "id": "600855b8-47f5-4cdb-8fe3-94c6cb6eca0e",
   "metadata": {
    "tags": []
   },
   "outputs": [],
   "source": [
    "metric_cols_sample_integration = [\n",
    "    \"gcs\", \"mlami\", \"cas\", \"clisis\", # spatial conservation\n",
    "    \"cari\", \"cnmi\", \"casw\", \"clisi\", # biological conservation\n",
    "    \"nasw\", # cluster separability\n",
    "    \"basw\", \"bgc\", \"blisi\" # batch correction\n",
    "]\n",
    "metric_col_weights_sample_integration = [ # separate for each category (later multiplied with category_col_weights)\n",
    "    (1/6), (1/6), (1/3), (1/3), # spatial conservation\n",
    "    (1/4), (1/4), (1/4), (1/4), # biological conservation\n",
    "    1.0, # cluster separability\n",
    "    (1/3), (1/3), (1,3) # batch correction\n",
    "]\n",
    "metric_col_titles_sample_integration = [\n",
    "    \"Graph Connectivity Similarity\",\n",
    "    \"Maximum Leiden Adjusted Mutual Info\",\n",
    "    \"Cell Type Affinity Similarity\",\n",
    "    \"Cell Type Local Inverse Simpson's Index Similarity\",\n",
    "    \"Cell Type Adjusted Rand Index\",\n",
    "    \"Cell Type Normalized Mutual Info\",\n",
    "    \"Cell Type Average Silhouette Width\",\n",
    "    \"Cell Type Local Inverse Simpson's Index\",\n",
    "    \"Cluster Average Silhouette Width\",\n",
    "    \"Batch Average Silhouette Width\",\n",
    "    \"Batch Graph Connectivity\",\n",
    "    \"Batch Local Inverse Simpson's Index\"\n",
    "]\n",
    "metric_cols_single_sample = metric_cols_sample_integration[:-3]\n",
    "metric_col_weights_single_sample = metric_col_weights_sample_integration[:-3]\n",
    "metric_col_titles_single_sample = metric_col_titles_sample_integration[:-3]\n",
    "\n",
    "category_cols_sample_integration = [\n",
    "    \"Spatial Conservation Score\",\n",
    "    \"Biological Conservation Score\",\n",
    "    \"Cluster Separability Score\",\n",
    "    \"Batch Correction Score\"]\n",
    "category_col_weights_sample_integration = [\n",
    "    1,\n",
    "    1,\n",
    "    1,\n",
    "    1]\n",
    "category_col_titles_sample_integration = [\n",
    "    \"Spatial Conservation Score (25%)\",\n",
    "    \"Biological Conservation Score (25%)\",\n",
    "    \"Cluster Separability Score (25%)\",\n",
    "    \"Batch Correction Score (25%)\"]\n",
    "category_col_weights_single_sample = category_col_weights_sample_integration[:-1]\n",
    "category_cols_single_sample = category_cols_sample_integration[:-1]\n",
    "category_col_titles_single_sample = [\n",
    "    \"Spatial Conservation Score (33%)\",\n",
    "    \"Biological Conservation Score (33%)\",\n",
    "    \"Cluster Separability Score (33%)\"]"
   ]
  },
  {
   "cell_type": "markdown",
   "id": "a6c3b7fa-fa59-43dd-81d2-7e116650915f",
   "metadata": {},
   "source": [
    "### 1.3 Run Notebook Setup"
   ]
  },
  {
   "cell_type": "code",
   "execution_count": 9,
   "id": "37685c2a-9a44-4de7-a7ca-5f7d23ef62b0",
   "metadata": {
    "tags": []
   },
   "outputs": [],
   "source": [
    "sc.set_figure_params(figsize=(6, 6))\n",
    "sns.set_style(\"whitegrid\", {'axes.grid' : False})"
   ]
  },
  {
   "cell_type": "code",
   "execution_count": 10,
   "id": "924032d4-24a4-45cf-87e1-0eba197da0c2",
   "metadata": {
    "tags": []
   },
   "outputs": [],
   "source": [
    "# Ignore future warnings and user warnings\n",
    "warnings.simplefilter(action=\"ignore\", category=FutureWarning)\n",
    "warnings.simplefilter(action=\"ignore\", category=UserWarning)"
   ]
  },
  {
   "cell_type": "code",
   "execution_count": 11,
   "id": "ab22fbaf-aeed-464b-8a20-b640b9e055fd",
   "metadata": {
    "tags": []
   },
   "outputs": [],
   "source": [
    "# Get time of notebook execution for timestamping saved artifacts\n",
    "now = datetime.now()\n",
    "current_timestamp = now.strftime(\"%d%m%Y_%H%M%S\")"
   ]
  },
  {
   "cell_type": "code",
   "execution_count": 12,
   "id": "b92eca87-1b83-4cec-805c-fa3aff96496d",
   "metadata": {},
   "outputs": [],
   "source": [
    "# Set mlflow tracking server (run it on the defined port)\n",
    "mlflow.set_tracking_uri(\"http://localhost:8889\")"
   ]
  },
  {
   "cell_type": "markdown",
   "id": "2b886225-6b6d-433c-b117-47b9a8f8091f",
   "metadata": {},
   "source": [
    "### 1.4 Configure Paths and Create Directories"
   ]
  },
  {
   "cell_type": "code",
   "execution_count": 13,
   "id": "36675337-808d-40a9-93fc-d6cfa9473f66",
   "metadata": {
    "tags": []
   },
   "outputs": [],
   "source": [
    "data_folder_path = \"../../datasets/srt_data/gold\"\n",
    "artifact_folder_path = f\"../../artifacts\""
   ]
  },
  {
   "cell_type": "markdown",
   "id": "02c57f4e-804c-4f52-aaaa-0c9013ecf0b9",
   "metadata": {},
   "source": [
    "## 2. Method Benchmarking"
   ]
  },
  {
   "cell_type": "markdown",
   "id": "4b6865fa-b859-428c-afd1-85596aac1cf8",
   "metadata": {},
   "source": [
    "- Run all model notebooks in the ```notebooks/sample_integration_method_benchmarking``` directory before continuing."
   ]
  },
  {
   "cell_type": "markdown",
   "id": "1826a2b4-931a-49a5-9ecf-5009499fa9ce",
   "metadata": {},
   "source": [
    "### 2.1 Retrieve NicheCompass Runs"
   ]
  },
  {
   "cell_type": "markdown",
   "id": "8f375b54-edbf-46d2-bedf-af326f4b8cfe",
   "metadata": {},
   "source": [
    "#### 2.1.1 seqFISH Mouse Organogenesis"
   ]
  },
  {
   "cell_type": "code",
   "execution_count": 17,
   "id": "4eb06bb8-4493-4b40-b9a7-3d0a222e83eb",
   "metadata": {},
   "outputs": [],
   "source": [
    "# Store NicheCompass GCN encoder results in benchmarking folder\n",
    "task = \"sample_integration_method_benchmarking\"\n",
    "conv_layer_encoder = \"gcnconv\"\n",
    "datasets = [\n",
    "    \"seqfish_mouse_organogenesis\",\n",
    "    \"seqfish_mouse_organogenesis_subsample_50pct\",\n",
    "    \"seqfish_mouse_organogenesis_subsample_25pct\",\n",
    "    \"seqfish_mouse_organogenesis_subsample_10pct\",\n",
    "    \"seqfish_mouse_organogenesis_subsample_5pct\",\n",
    "    \"seqfish_mouse_organogenesis_subsample_1pct\",\n",
    "]\n",
    "timestamps = [\n",
    "    \"22082023_135318_1\",\n",
    "    \"22082023_143133_1\",\n",
    "    \"22082023_143133_1\",\n",
    "    \"22082023_150526_1\",\n",
    "    \"22082023_151248_1\",\n",
    "    \"22082023_152633_1\",\n",
    "]\n",
    "\n",
    "for dataset, timestamp in zip(datasets, timestamps):\n",
    "    source_path = f\"{artifact_folder_path}/{dataset}/results/{conv_layer_encoder}_{task}/{timestamp}/{dataset}_{conv_layer_encoder}_{task}.h5ad\"\n",
    "    destination_path = f\"{artifact_folder_path}/{task}/{dataset}_nichecompass_{conv_layer_encoder}.h5ad\"\n",
    "    shutil.copy(source_path, destination_path)"
   ]
  },
  {
   "cell_type": "code",
   "execution_count": null,
   "id": "101063b0-32ee-4e9f-af26-c774e3e4c888",
   "metadata": {},
   "outputs": [],
   "source": [
    "# Store NicheCompass GCN encoder results in benchmarking folder\n",
    "task = \"single_sample_method_benchmarking\"\n",
    "conv_layer_encoder = \"gatv2conv\"\n",
    "datasets = [\n",
    "    \"seqfish_mouse_organogenesis\",\n",
    "    \"seqfish_mouse_organogenesis_subsample_50pct\",\n",
    "    \"seqfish_mouse_organogenesis_subsample_25pct\",\n",
    "    \"seqfish_mouse_organogenesis_subsample_10pct\",\n",
    "    \"seqfish_mouse_organogenesis_subsample_5pct\",\n",
    "    \"seqfish_mouse_organogenesis_subsample_1pct\",\n",
    "]\n",
    "timestamps = [\n",
    "    \"\",\n",
    "    \"\",\n",
    "    \"\",\n",
    "    \"\",\n",
    "    \"\",\n",
    "    \"\",\n",
    "]\n",
    "\n",
    "for dataset, timestamp in zip(datasets, timestamps):\n",
    "    source_path = f\"{artifact_folder_path}/{dataset}/results/{conv_layer_encoder}_{task}/{timestamp}/{dataset}_{conv_layer_encoder}_{task}.h5ad\"\n",
    "    destination_path = f\"{artifact_folder_path}/{task}/{dataset}_nichecompass_{conv_layer_encoder}.h5ad\"\n",
    "    shutil.copy(source_path, destination_path)"
   ]
  },
  {
   "cell_type": "markdown",
   "id": "399821d6-1312-41e5-bb95-b99a312147f2",
   "metadata": {},
   "source": [
    "#### 2.1.2 nanoString CosMx SMI Human Non-Small-Cell Lung Cancer (NSCLC)"
   ]
  },
  {
   "cell_type": "code",
   "execution_count": null,
   "id": "9dc2fb2f-8c63-45ee-bb45-259b1182cdcf",
   "metadata": {},
   "outputs": [],
   "source": [
    "# Store NicheCompass GCN encoder results in benchmarking folder\n",
    "task = \"sample_integration_method_benchmarking\"\n",
    "conv_layer_encoder = \"gcnconv\"\n",
    "datasets = [\n",
    "    \"nanostring_cosmx_human_nsclc\",\n",
    "    \"nanostring_cosmx_human_nsclc_subsample_50pct\",\n",
    "    #\"nanostring_cosmx_human_nsclc_subsample_25pct\",\n",
    "    \"nanostring_cosmx_human_nsclc_subsample_10pct\",\n",
    "    \"nanostring_cosmx_human_nsclc_subsample_5pct\",\n",
    "    \"nanostring_cosmx_human_nsclc_subsample_1pct\",\n",
    "]\n",
    "timestamps = [\n",
    "    \"21082023_162330_1\",\n",
    "    \"21082023_205148_1\",\n",
    "    #\"22082023_084950_1\",\n",
    "    \"22082023_093531_1\",\n",
    "    \"22082023_093728_1\",\n",
    "    \"22082023_093729_1\",\n",
    "]\n",
    "\n",
    "for dataset, timestamp in zip(datasets, timestamps):\n",
    "    source_path = f\"{artifact_folder_path}/{dataset}/results/{conv_layer_encoder}_{task}/{timestamp}/{dataset}_{conv_layer_encoder}_{task}.h5ad\"\n",
    "    destination_path = f\"{artifact_folder_path}/{task}/{dataset}_nichecompass_{conv_layer_encoder}.h5ad\"\n",
    "    shutil.copy(source_path, destination_path)"
   ]
  },
  {
   "cell_type": "code",
   "execution_count": null,
   "id": "a0b0b3c2-39b7-437c-a4ab-108f79acf354",
   "metadata": {},
   "outputs": [],
   "source": [
    "# Add missing runs for 'nanostring_cosmx_human_nsclc'\n",
    "dataset = \"nanostring_cosmx_human_nsclc\"\n",
    "conv_layer_encoder = \"gcnconv\"\n",
    "timestamp = \"21082023_162250_1\"\n",
    "\n",
    "adata1 = sc.read_h5ad(f\"{benchmarking_folder_path}/{dataset}_nichecompass_{conv_layer_encoder}.h5ad\")\n",
    "adata2 = sc.read_h5ad(f\"{artifact_folder_path}/{dataset}/results/{conv_layer_encoder}_single_sample_method_benchmarking/{timestamp}/{dataset}_{conv_layer_encoder}_single_sample_method_benchmarking.h5ad\")\n",
    "\n",
    "for run_number in [3, 4]:\n",
    "    adata1.uns[f\"nichecompass_latent_run{run_number}_umap\"] = adata2.uns[f\"nichecompass_latent_run{run_number}_umap\"]\n",
    "    adata1.uns[f\"nichecompass_model_training_duration_run{run_number}\"] = adata2.uns[f\"nichecompass_model_training_duration_run{run_number}\"]\n",
    "    adata1.obsm[f\"nichecompass_latent_run{run_number}\"] = adata2.obsm[f\"nichecompass_latent_run{run_number}\"]\n",
    "    adata1.obsp[f\"nichecompass_latent_run{run_number}_connectivities\"] = adata2.obsp[f\"nichecompass_latent_run{run_number}_connectivities\"]\n",
    "    adata1.obsp[f\"nichecompass_latent_run{run_number}_distances\"] = adata2.obsp[f\"nichecompass_latent_run{run_number}_distances\"]\n",
    "    \n",
    "del(adata2)\n",
    "gc.collect()\n",
    "\n",
    "timestamp = \"22082023_010227_1\"\n",
    "adata2 = sc.read_h5ad(f\"{artifact_folder_path}/{dataset}/results/{conv_layer_encoder}_single_sample_method_benchmarking/{timestamp}/{dataset}_{conv_layer_encoder}_single_sample_method_benchmarking.h5ad\")\n",
    "\n",
    "for run_number in [5]:\n",
    "    adata1.uns[f\"nichecompass_latent_run{run_number}_umap\"] = adata2.uns[f\"nichecompass_latent_run{run_number}_umap\"]\n",
    "    adata1.uns[f\"nichecompass_model_training_duration_run{run_number}\"] = adata2.uns[f\"nichecompass_model_training_duration_run{run_number}\"]\n",
    "    adata1.obsm[f\"nichecompass_latent_run{run_number}\"] = adata2.obsm[f\"nichecompass_latent_run{run_number}\"]\n",
    "    adata1.obsp[f\"nichecompass_latent_run{run_number}_connectivities\"] = adata2.obsp[f\"nichecompass_latent_run{run_number}_connectivities\"]\n",
    "    adata1.obsp[f\"nichecompass_latent_run{run_number}_distances\"] = adata2.obsp[f\"nichecompass_latent_run{run_number}_distances\"]\n",
    "    \n",
    "del(adata2)\n",
    "gc.collect()\n",
    "\n",
    "timestamp = \"21082023_163844_1\"\n",
    "adata2 = sc.read_h5ad(f\"{artifact_folder_path}/{dataset}/results/{conv_layer_encoder}_single_sample_method_benchmarking/{timestamp}/{dataset}_{conv_layer_encoder}_single_sample_method_benchmarking.h5ad\")\n",
    "\n",
    "for run_number in [6]:\n",
    "    adata1.uns[f\"nichecompass_latent_run{run_number}_umap\"] = adata2.uns[f\"nichecompass_latent_run{run_number}_umap\"]\n",
    "    adata1.uns[f\"nichecompass_model_training_duration_run{run_number}\"] = adata2.uns[f\"nichecompass_model_training_duration_run{run_number}\"]\n",
    "    adata1.obsm[f\"nichecompass_latent_run{run_number}\"] = adata2.obsm[f\"nichecompass_latent_run{run_number}\"]\n",
    "    adata1.obsp[f\"nichecompass_latent_run{run_number}_connectivities\"] = adata2.obsp[f\"nichecompass_latent_run{run_number}_connectivities\"]\n",
    "    adata1.obsp[f\"nichecompass_latent_run{run_number}_distances\"] = adata2.obsp[f\"nichecompass_latent_run{run_number}_distances\"]\n",
    "    \n",
    "del(adata2)\n",
    "gc.collect()\n",
    "\n",
    "timestamp = \"21082023_162134_1\"\n",
    "adata2 = sc.read_h5ad(f\"{artifact_folder_path}/{dataset}/results/{conv_layer_encoder}_single_sample_method_benchmarking/{timestamp}/{dataset}_{conv_layer_encoder}_single_sample_method_benchmarking.h5ad\")\n",
    "\n",
    "for run_number in [7]:\n",
    "    adata1.uns[f\"nichecompass_latent_run{run_number}_umap\"] = adata2.uns[f\"nichecompass_latent_run{run_number}_umap\"]\n",
    "    adata1.uns[f\"nichecompass_model_training_duration_run{run_number}\"] = adata2.uns[f\"nichecompass_model_training_duration_run{run_number}\"]\n",
    "    adata1.obsm[f\"nichecompass_latent_run{run_number}\"] = adata2.obsm[f\"nichecompass_latent_run{run_number}\"]\n",
    "    adata1.obsp[f\"nichecompass_latent_run{run_number}_connectivities\"] = adata2.obsp[f\"nichecompass_latent_run{run_number}_connectivities\"]\n",
    "    adata1.obsp[f\"nichecompass_latent_run{run_number}_distances\"] = adata2.obsp[f\"nichecompass_latent_run{run_number}_distances\"]\n",
    "    \n",
    "del(adata2)\n",
    "gc.collect()\n",
    "\n",
    "timestamp = \"21082023_155619_1\"\n",
    "adata2 = sc.read_h5ad(f\"{artifact_folder_path}/{dataset}/results/{conv_layer_encoder}_single_sample_method_benchmarking/{timestamp}/{dataset}_{conv_layer_encoder}_single_sample_method_benchmarking.h5ad\")\n",
    "\n",
    "for run_number in [8]:\n",
    "    adata1.uns[f\"nichecompass_latent_run{run_number}_umap\"] = adata2.uns[f\"nichecompass_latent_run{run_number}_umap\"]\n",
    "    adata1.uns[f\"nichecompass_model_training_duration_run{run_number}\"] = adata2.uns[f\"nichecompass_model_training_duration_run{run_number}\"]\n",
    "    adata1.obsm[f\"nichecompass_latent_run{run_number}\"] = adata2.obsm[f\"nichecompass_latent_run{run_number}\"]\n",
    "    adata1.obsp[f\"nichecompass_latent_run{run_number}_connectivities\"] = adata2.obsp[f\"nichecompass_latent_run{run_number}_connectivities\"]\n",
    "    adata1.obsp[f\"nichecompass_latent_run{run_number}_distances\"] = adata2.obsp[f\"nichecompass_latent_run{run_number}_distances\"]\n",
    "    \n",
    "adata1.write(f\"{benchmarking_folder_path}/{dataset}_nichecompass_{conv_layer_encoder}.h5ad\")"
   ]
  },
  {
   "cell_type": "code",
   "execution_count": null,
   "id": "eb2acd5d-f4ff-4d2c-869c-5652c39a8922",
   "metadata": {},
   "outputs": [],
   "source": [
    "# Add missing runs for 'nanostring_cosmx_human_nsclc_subsample_50pct'\n",
    "dataset = \"nanostring_cosmx_human_nsclc_subsample_50pct\"\n",
    "conv_layer_encoder = \"gcnconv\"\n",
    "timestamp = \"21082023_204746_1\"\n",
    "\n",
    "adata1 = sc.read_h5ad(f\"{benchmarking_folder_path}/{dataset}_nichecompass_{conv_layer_encoder}.h5ad\")\n",
    "adata2 = sc.read_h5ad(f\"{artifact_folder_path}/{dataset}/results/{conv_layer_encoder}_single_sample_method_benchmarking/{timestamp}/{dataset}_{conv_layer_encoder}_single_sample_method_benchmarking.h5ad\")\n",
    "\n",
    "for run_number in [5, 6]:\n",
    "    adata1.uns[f\"nichecompass_latent_run{run_number}_umap\"] = adata2.uns[f\"nichecompass_latent_run{run_number}_umap\"]\n",
    "    adata1.uns[f\"nichecompass_model_training_duration_run{run_number}\"] = adata2.uns[f\"nichecompass_model_training_duration_run{run_number}\"]\n",
    "    adata1.obsm[f\"nichecompass_latent_run{run_number}\"] = adata2.obsm[f\"nichecompass_latent_run{run_number}\"]\n",
    "    adata1.obsp[f\"nichecompass_latent_run{run_number}_connectivities\"] = adata2.obsp[f\"nichecompass_latent_run{run_number}_connectivities\"]\n",
    "    adata1.obsp[f\"nichecompass_latent_run{run_number}_distances\"] = adata2.obsp[f\"nichecompass_latent_run{run_number}_distances\"]\n",
    "    \n",
    "del(adata2)\n",
    "gc.collect()\n",
    "\n",
    "timestamp = \"22082023_084437_1\"\n",
    "adata2 = sc.read_h5ad(f\"{artifact_folder_path}/{dataset}/results/{conv_layer_encoder}_single_sample_method_benchmarking/{timestamp}/{dataset}_{conv_layer_encoder}_single_sample_method_benchmarking.h5ad\")\n",
    "\n",
    "for run_number in [7]:\n",
    "    adata1.uns[f\"nichecompass_latent_run{run_number}_umap\"] = adata2.uns[f\"nichecompass_latent_run{run_number}_umap\"]\n",
    "    adata1.uns[f\"nichecompass_model_training_duration_run{run_number}\"] = adata2.uns[f\"nichecompass_model_training_duration_run{run_number}\"]\n",
    "    adata1.obsm[f\"nichecompass_latent_run{run_number}\"] = adata2.obsm[f\"nichecompass_latent_run{run_number}\"]\n",
    "    adata1.obsp[f\"nichecompass_latent_run{run_number}_connectivities\"] = adata2.obsp[f\"nichecompass_latent_run{run_number}_connectivities\"]\n",
    "    adata1.obsp[f\"nichecompass_latent_run{run_number}_distances\"] = adata2.obsp[f\"nichecompass_latent_run{run_number}_distances\"]\n",
    "    \n",
    "del(adata2)\n",
    "gc.collect()\n",
    "\n",
    "timestamp = \"22082023_084415_1\"\n",
    "adata2 = sc.read_h5ad(f\"{artifact_folder_path}/{dataset}/results/{conv_layer_encoder}_single_sample_method_benchmarking/{timestamp}/{dataset}_{conv_layer_encoder}_single_sample_method_benchmarking.h5ad\")\n",
    "\n",
    "for run_number in [8]:\n",
    "    adata1.uns[f\"nichecompass_latent_run{run_number}_umap\"] = adata2.uns[f\"nichecompass_latent_run{run_number}_umap\"]\n",
    "    adata1.uns[f\"nichecompass_model_training_duration_run{run_number}\"] = adata2.uns[f\"nichecompass_model_training_duration_run{run_number}\"]\n",
    "    adata1.obsm[f\"nichecompass_latent_run{run_number}\"] = adata2.obsm[f\"nichecompass_latent_run{run_number}\"]\n",
    "    adata1.obsp[f\"nichecompass_latent_run{run_number}_connectivities\"] = adata2.obsp[f\"nichecompass_latent_run{run_number}_connectivities\"]\n",
    "    adata1.obsp[f\"nichecompass_latent_run{run_number}_distances\"] = adata2.obsp[f\"nichecompass_latent_run{run_number}_distances\"]\n",
    "    \n",
    "del(adata2)\n",
    "gc.collect()\n",
    "    \n",
    "adata1.write(f\"{benchmarking_folder_path}/{dataset}_nichecompass_{conv_layer_encoder}.h5ad\")"
   ]
  },
  {
   "cell_type": "code",
   "execution_count": null,
   "id": "e78bc8c1-c933-4480-86b7-e3227ea17aba",
   "metadata": {},
   "outputs": [],
   "source": []
  },
  {
   "cell_type": "markdown",
   "id": "1f53d723-4fd7-49dc-844b-58cf8b9585a2",
   "metadata": {},
   "source": [
    "## 2. Sample Integration Evaluation"
   ]
  },
  {
   "cell_type": "markdown",
   "id": "d56571c4-9fea-4738-8aef-0c95210f4e27",
   "metadata": {},
   "source": [
    "### 2.1 One-Shot Batch Integration"
   ]
  },
  {
   "cell_type": "markdown",
   "id": "6775ab58-31a6-408c-8712-a7f837f14269",
   "metadata": {},
   "source": [
    "#### 2.1.1 Latent Space Comparison Visualization"
   ]
  },
  {
   "cell_type": "code",
   "execution_count": null,
   "id": "f64d13b5-c0c8-4239-a810-9b5d712db644",
   "metadata": {
    "tags": []
   },
   "outputs": [],
   "source": [
    "run_number = 5\n",
    "\n",
    "compute_latent_space_comparison(dataset=\"seqfish_mouse_organogenesis\",\n",
    "                                run_number=run_number,\n",
    "                                srt_data_results_folder_path=f\"{srt_data_results_folder_path}/sample_integration_method_benchmarking\",\n",
    "                                cell_type_colors=seqfish_mouse_organogenesis_cell_type_colors,\n",
    "                                dataset_title_string=\"seqFISH Mouse Organogenesis\",\n",
    "                                cell_type_key=\"cell_type\",\n",
    "                                condition_key=\"batch\",\n",
    "                                figure_folder_path=figure_folder_path,\n",
    "                                cell_type_groups=None,\n",
    "                                spot_size=0.03,\n",
    "                                included_models=[# \"NicheCompass\",\n",
    "                                                 \"GraphST\",\n",
    "                                                 \"scVI\"],\n",
    "                                save_fig=True)"
   ]
  },
  {
   "cell_type": "code",
   "execution_count": null,
   "id": "69c50b6e-9882-4fdf-8f7c-a6dfd54eed96",
   "metadata": {},
   "outputs": [],
   "source": [
    "run_number = 5\n",
    "\n",
    "compute_latent_space_comparison(dataset=\"starmap_plus_mouse_cns\",\n",
    "                                run_number=run_number,\n",
    "                                srt_data_results_folder_path=f\"{srt_data_results_folder_path}/sample_integration_method_benchmarking\",\n",
    "                                cell_type_colors=seqfish_mouse_organogenesis_cell_type_colors,\n",
    "                                dataset_title_string=\"seqFISH Mouse Organogenesis\",\n",
    "                                cell_type_key=\"cell_type\",\n",
    "                                condition_key=\"batch\",\n",
    "                                figure_folder_path=figure_folder_path,\n",
    "                                cell_type_groups=None,\n",
    "                                spot_size=0.03,\n",
    "                                included_models=[# \"NicheCompass\",\n",
    "                                                 \"GraphST\",\n",
    "                                                 \"scVI\"],\n",
    "                                save_fig=True)"
   ]
  },
  {
   "cell_type": "markdown",
   "id": "7bea212c-c31c-4c68-a0f1-b19b0228a466",
   "metadata": {},
   "source": [
    "##### 4.1.3.3 Compute Batch Integration Metrics"
   ]
  },
  {
   "cell_type": "code",
   "execution_count": null,
   "id": "5656260b-2552-41b2-8dd8-e88c286df188",
   "metadata": {},
   "outputs": [],
   "source": [
    "adata = sc.read_h5ad(\"../../datasets/srt_data/results/sample_integration_method_benchmarking/seqfish_mouse_organogenesis_graphst_sample_integration_method_benchmarking.h5ad\")"
   ]
  },
  {
   "cell_type": "code",
   "execution_count": null,
   "id": "c576f8c0-8bd4-4f13-b2fb-949a5ca8310a",
   "metadata": {},
   "outputs": [],
   "source": [
    "adata"
   ]
  },
  {
   "cell_type": "code",
   "execution_count": null,
   "id": "4d7a2297-2af4-4573-bd9b-939649ec57a4",
   "metadata": {
    "tags": []
   },
   "outputs": [],
   "source": [
    "compute_batch_integration_metrics(dataset=\"seqfish_mouse_organogenesis\",\n",
    "                                  condition_key=\"batch\",\n",
    "                                  cell_type_key=\"cell_type\",\n",
    "                                  srt_data_results_folder_path=srt_data_results_folder_path,\n",
    "                                  metric_artifacts_folder_path=metric_artifacts_folder_path,\n",
    "                                  included_models=[#\"NicheCompass\",\n",
    "                                                   \"GraphST\",\n",
    "                                                   \"scVI\"])"
   ]
  },
  {
   "cell_type": "markdown",
   "id": "d57ad281-c145-42bb-9dbb-4d4a7703c7d3",
   "metadata": {},
   "source": [
    "##### 4.1.3.4 Visualize Batch Integration Results"
   ]
  },
  {
   "cell_type": "code",
   "execution_count": null,
   "id": "87bfb851-9846-4071-be7e-b6ecfd4c00bb",
   "metadata": {
    "tags": []
   },
   "outputs": [],
   "source": [
    "df = pd.DataFrame()\n",
    "datasets = [\"starmap_plus_mouse_cns\",]\n",
    "timestamps = [\"27032023_184359\"]\n",
    "\n",
    "for dataset, timestamp in zip(datasets, timestamps):\n",
    "    dataset_metric_artifacts_folder_path = f\"../artifacts/{dataset}/metrics/{timestamp}\"\n",
    "    \n",
    "    metrics_dict_list = []\n",
    "    for model in [\"NicheCompass\", \"GraphST\", \"scVI\"]:\n",
    "        # Read complete benchmarking data from disk\n",
    "        with open(f\"{dataset_metric_artifacts_folder_path}/metrics_{model.lower()}_oneshot_integrated.pickle\", \"rb\") as f:\n",
    "            metrics_dict = pickle.load(f)\n",
    "            metrics_dict[\"model_name\"] = model.lower()\n",
    "            metrics_dict_list.append(metrics_dict)\n",
    "    \n",
    "    dataset_df = pd.DataFrame(metrics_dict_list)\n",
    "    dataset_df[\"dataset\"] = dataset\n",
    "\n",
    "df = pd.concat([df, dataset_df])\n",
    "df.head()\n",
    "\n",
    "columns = [\"cas\",\n",
    "           \"clisis\",\n",
    "           \"asw\",\n",
    "           \"ilisi\",\n",
    "           ]\n",
    "\n",
    "rows = [\"nichecompass\",\n",
    "        \"graphst\",\n",
    "        \"scvi\"]\n",
    "\n",
    "unrolled_df = pd.melt(df, \n",
    "   id_vars = [\"model_name\", \"dataset\"],\n",
    "   value_vars = columns,\n",
    "   var_name = \"score_type\", \n",
    "   value_name = \"score\")\n",
    "\n",
    "# Compute metric means over all runs\n",
    "mean_df = unrolled_df.groupby([\"model_name\", \"dataset\", \"score_type\"]).mean()\n",
    "mean_df.reset_index(inplace=True)\n",
    "\n",
    "# Reformat for plot\n",
    "mean_df.replace({\"nichecompass\": \"NicheCompass\",\n",
    "                 \"graphst\": \"GraphST\",\n",
    "                 \"scvi\": \"scVI\"}, inplace=True)\n",
    "\n",
    "# Sort for right order of columns in plottable\n",
    "mean_df[\"score_type\"] = pd.Categorical(mean_df[\"score_type\"], [\"cas\", \"clisis\", \"asw\", \"ilisi\"])\n",
    "mean_df.sort_values([\"model_name\", \"score_type\"], inplace=True)\n",
    "\n",
    "# Create spatial indicator column\n",
    "def is_spatially_aware_model(row):\n",
    "    if row[\"model_name\"] in [\"NicheCompass\", \"GraphST\"]:\n",
    "        return True\n",
    "    return False\n",
    "mean_df[\"spatially_aware\"] = mean_df.apply(lambda row: is_spatially_aware_model(row), axis=1)"
   ]
  },
  {
   "cell_type": "code",
   "execution_count": null,
   "id": "9b232796-17df-4f78-a046-1bd3c7ccc9bf",
   "metadata": {
    "tags": []
   },
   "outputs": [],
   "source": [
    "plot_batch_integration_results(mean_df,\n",
    "                               show=True,\n",
    "                               save_dir=None,\n",
    "                               save_name=\"batch_integration_results.svg\")"
   ]
  },
  {
   "cell_type": "markdown",
   "id": "176de1bd-5811-43c6-9b4b-7d91ff74aa2b",
   "metadata": {},
   "source": [
    "##### 4.1.3.4 Scalability"
   ]
  },
  {
   "cell_type": "code",
   "execution_count": null,
   "id": "9ad06011-9f0c-4f3d-a92a-0b46879e1c85",
   "metadata": {},
   "outputs": [],
   "source": [
    "datasets = [\"seqfish_mouse_organogenesis\", \"starmap_plus_mouse_cns\"]\n",
    "models = [\"NicheCompass (Attention Aggregator)\", \"NicheCompass (Norm Aggregator)\", \"GraphST\", \"scVI\"]\n",
    "\n",
    "run_time_dict = {\"Dataset\": [],\n",
    "                 \"Model\": [],\n",
    "                 \"Dataset Size (%)\": [],\n",
    "                 \"Mean Runtime (s)\": []}\n",
    "\n",
    "for dataset in datasets:\n",
    "    for model in models:\n",
    "        for subsample_pct in [1, 5, 10, 25, 50, 100]:\n",
    "            if model == \"NicheCompass (Attention Aggregator)\":\n",
    "                model_subtype = \"nichecompass_one-hop-attention\"\n",
    "                model_str = \"nichecompass\"\n",
    "            elif model == \"NicheCompass (Norm Aggregator)\":\n",
    "                model_subtype = \"nichecompass_one-hop-norm\"\n",
    "                model_str = \"nichecompass\"\n",
    "            else:\n",
    "                model_subtype = model\n",
    "                model_str = model\n",
    "                \n",
    "            if subsample_pct == 100:\n",
    "                subsample_str = \"\"\n",
    "            else:\n",
    "                subsample_str = f\"_subsample_{subsample_pct}pct\"\n",
    "\n",
    "            try:\n",
    "                adata = sc.read_h5ad(f\"{srt_data_results_folder_path}/{dataset}{subsample_str}_{model_subtype.lower()}_sample_integration_method_benchmarking.h5ad\")\n",
    "            except:\n",
    "                print(f\"Did not load {dataset}{subsample_str}_{model_subtype.lower()}_sample_integration_method_benchmarking.h5ad\")\n",
    "                continue\n",
    "                \n",
    "            print(f\"Loaded {dataset}{subsample_str}_{model_subtype.lower()}_sample_integration_method_benchmarking.h5ad\")\n",
    "\n",
    "            run_times = []\n",
    "            for run_number in range(1, 11):\n",
    "                run_times.append(adata.uns[f\"{model_str.lower()}_model_training_duration_run{run_number}\"])\n",
    "            run_time_dict[\"Dataset\"].append(dataset)\n",
    "            run_time_dict[\"Model\"].append(model)\n",
    "            run_time_dict[\"Dataset Size (%)\"].append(subsample_pct)\n",
    "            run_time_dict[\"Mean Runtime (s)\"].append(np.mean(run_times))\n",
    "\n",
    "run_time_df = pd.DataFrame(run_time_dict)\n",
    "display(run_time_df)"
   ]
  },
  {
   "cell_type": "code",
   "execution_count": null,
   "id": "a419e2f3-3fe7-411a-9020-1d88acea2b20",
   "metadata": {},
   "outputs": [],
   "source": [
    "# Create a figure with two subplots\n",
    "fig, axs = plt.subplots(1, 2, figsize=(10, 5), sharey=True)\n",
    "\n",
    "# Plot the first lineplot in the first subplot\n",
    "sns.lineplot(x=\"Dataset Size (%)\", y=\"Mean Runtime (s)\", hue=run_time_df[\"Model\"], data=run_time_df[run_time_df[\"Dataset\"] == \"seqfish_mouse_organogenesis\"], marker=\"o\", ax=axs[0])\n",
    "axs[0].set_title(\"seqFISH Mouse Organogenesis\")\n",
    "\n",
    "# Plot the second lineplot in the second subplot\n",
    "sns.lineplot(x=\"Dataset Size (%)\", y=\"Mean Runtime (s)\", hue=run_time_df[\"Model\"], data=run_time_df[run_time_df[\"Dataset\"] == \"starmap_plus_mouse_cns\"], marker=\"o\", ax=axs[1], legend=False)\n",
    "axs[1].set_title(\"STARmap PLUS Mouse CNS\")\n",
    "\n",
    "# Remove the legend title\n",
    "leg = axs[0].legend()\n",
    "leg.set_title(\"\")\n",
    "\n",
    "# Add a grid to both subplots\n",
    "for ax in axs:\n",
    "    ax.grid(True, linewidth=0.2, color='lightgrey')\n",
    "    \n",
    "plt.subplots_adjust(wspace=0.05)\n",
    "\n",
    "plt.savefig(f\"{figure_folder_path}/method_comparison_scalability.svg\",\n",
    "            bbox_inches=\"tight\")\n",
    "plt.show()"
   ]
  },
  {
   "cell_type": "markdown",
   "id": "3a553a3d-2c88-4fcc-93f3-c07693be365d",
   "metadata": {},
   "source": [
    "### 4.2 Query-to-Reference Mapping"
   ]
  },
  {
   "cell_type": "markdown",
   "id": "ac2adc45-78e3-4632-b752-f9b0afe3f2c3",
   "metadata": {},
   "source": [
    "#### 3.3.1 Building the Reference"
   ]
  },
  {
   "cell_type": "markdown",
   "id": "b98c90af-b0ae-440b-adde-8d4b2b8ed41f",
   "metadata": {},
   "source": [
    "#### 3.3.2 Mapping the Query"
   ]
  },
  {
   "cell_type": "markdown",
   "id": "08384712-93b9-4952-a614-43d5814cd6b8",
   "metadata": {},
   "source": [
    "##### 3.3.2.1 Initialize, Train & Save Model"
   ]
  },
  {
   "cell_type": "code",
   "execution_count": null,
   "id": "b28a0b8a-d154-4e76-9d7e-d5459498a580",
   "metadata": {},
   "outputs": [],
   "source": []
  },
  {
   "cell_type": "code",
   "execution_count": null,
   "id": "2c273b90-70ad-4a3e-ae6b-9c59e0df5f1b",
   "metadata": {},
   "outputs": [],
   "source": []
  },
  {
   "cell_type": "code",
   "execution_count": null,
   "id": "f11597b8-f4aa-45d4-a31d-4d0100ae8a40",
   "metadata": {},
   "outputs": [],
   "source": []
  },
  {
   "cell_type": "code",
   "execution_count": null,
   "id": "43af2fbb-4dc2-4082-8580-b982cd59c632",
   "metadata": {
    "tags": []
   },
   "outputs": [],
   "source": [
    "# Plot UMAP with batch annotations\n",
    "fig = sc.pl.umap(adata_reference,\n",
    "                 color=[condition_key],\n",
    "                 legend_fontsize=12,\n",
    "                 size=240000/len(adata_reference),\n",
    "                 return_fig=True)\n",
    "fig.set_figheight(7)\n",
    "fig.set_figwidth(7)\n",
    "plt.title(f\"One-Shot Integration: {model_name} Latent Batch Annotations\", size=20, pad=15)\n",
    "fig.savefig(f\"{figure_folder_path}/latent_batches_{model_name.lower()}_oneshot_integrated.svg\",\n",
    "            bbox_inches=\"tight\",\n",
    "            format=\"svg\")\n",
    "\n",
    "# Plot UMAP with cell type annotations\n",
    "fig = sc.pl.umap(adata_reference,\n",
    "                 color=[cell_type_key],\n",
    "                 palette=starmap_pluse_mouse_cns_cell_type_colors,\n",
    "                 legend_fontsize=12,\n",
    "                 size=240000/len(adata_reference),\n",
    "                 return_fig=True)\n",
    "fig.set_figheight(7)\n",
    "fig.set_figwidth(7)\n",
    "plt.title(f\"One-Shot Integration: {model_name} Latent Cell Type Annotations\", size=20, pad=15)\n",
    "fig.savefig(f\"{figure_folder_path}/latent_cell_types_{model_name.lower()}_oneshot_integrated.svg\",\n",
    "            bbox_inches=\"tight\",\n",
    "            format=\"svg\")"
   ]
  },
  {
   "cell_type": "markdown",
   "id": "f49cd2bc-4135-4c63-86bf-3f9edc7375da",
   "metadata": {},
   "source": [
    "##### 4.1.1.2 GraphST"
   ]
  },
  {
   "cell_type": "code",
   "execution_count": null,
   "id": "d3b8d4bc-e94b-4d03-b927-ae0a6f4d4929",
   "metadata": {
    "tags": []
   },
   "outputs": [],
   "source": [
    "# Plot UMAP with batch annotations\n",
    "fig = sc.pl.umap(adata_reference,\n",
    "                 color=[condition_key],\n",
    "                 legend_fontsize=12,\n",
    "                 size=240000/len(adata_reference),\n",
    "                 return_fig=True)\n",
    "fig.set_figheight(7)\n",
    "fig.set_figwidth(7)\n",
    "plt.title(f\"One-Shot Integration: {model_name} Latent Batch Annotations\", size=20, pad=15)\n",
    "fig.savefig(f\"{figure_folder_path}/latent_batches_{model_name.lower()}_oneshot_integrated.svg\",\n",
    "            bbox_inches=\"tight\",\n",
    "            format=\"svg\")\n",
    "\n",
    "# Plot UMAP with cell type annotations\n",
    "fig = sc.pl.umap(adata_reference,\n",
    "                 color=[cell_type_key],\n",
    "                 palette=starmap_pluse_mouse_cns_cell_type_colors,\n",
    "                 legend_fontsize=12,\n",
    "                 size=240000/len(adata_reference),\n",
    "                 return_fig=True)\n",
    "fig.set_figheight(7)\n",
    "fig.set_figwidth(7)\n",
    "plt.title(f\"One-Shot Integration: {model_name} Latent Cell Type Annotations\", size=20, pad=15)\n",
    "fig.savefig(f\"{figure_folder_path}/latent_cell_types_{model_name.lower()}_oneshot_integrated.svg\",\n",
    "            bbox_inches=\"tight\",\n",
    "            format=\"svg\")"
   ]
  },
  {
   "cell_type": "markdown",
   "id": "349857c6-ca76-4640-9f28-2abb0713af2b",
   "metadata": {},
   "source": [
    "#### 4.1.2 NicheCompass"
   ]
  },
  {
   "cell_type": "code",
   "execution_count": null,
   "id": "16776df5-543e-4dda-a63c-44774ba76b38",
   "metadata": {
    "tags": []
   },
   "outputs": [],
   "source": [
    "model_name = \"NicheCompass\"\n",
    "\n",
    "# Load trained model\n",
    "model = NicheCompass.load(dir_path=model_artifacts_folder_path + \"/reference\",\n",
    "                        adata=None,\n",
    "                        adata_file_name=f\"{dataset}_reference.h5ad\",\n",
    "                        gp_names_key=\"nichecompass_gp_names\")\n",
    "\n",
    "adata_reference = model.adata\n",
    "\n",
    "# Use NicheCompass latent representation for UMAP generation\n",
    "sc.pp.neighbors(adata_reference,\n",
    "                use_rep=f\"{model_name.lower()}_{latent_key}\")\n",
    "sc.tl.umap(adata_reference)\n",
    "\n",
    "# Save integrated adata to disk\n",
    "adata_reference.write(f\"{srt_data_gold_folder_path}/{dataset}_{model_name.lower()}_oneshot_integrated.h5ad\")"
   ]
  },
  {
   "cell_type": "code",
   "execution_count": null,
   "id": "9edaf50d-f07c-4d8e-9e88-baa0f12529a9",
   "metadata": {
    "tags": []
   },
   "outputs": [],
   "source": [
    "# Plot UMAP with batch annotations\n",
    "fig = sc.pl.umap(adata_reference,\n",
    "                 color=[condition_key],\n",
    "                 legend_fontsize=12,\n",
    "                 size=240000/len(adata_reference),\n",
    "                 return_fig=True)\n",
    "fig.set_figheight(10)\n",
    "fig.set_figwidth(10)\n",
    "plt.title(f\"One-Shot Integration: {model_name} Latent Batch Annotations\", size=20, pad=15)\n",
    "fig.savefig(f\"{figure_folder_path}/latent_batches_{model_name.lower()}_oneshot_integrated.svg\",\n",
    "            bbox_inches=\"tight\",\n",
    "            format=\"svg\")\n",
    "\n",
    "# Plot UMAP with cell type annotations\n",
    "fig = sc.pl.umap(adata_reference,\n",
    "                 color=[cell_type_key],\n",
    "                 palette=starmap_pluse_mouse_cns_cell_type_colors,\n",
    "                 legend_fontsize=12,\n",
    "                 size=240000/len(adata_reference),\n",
    "                 return_fig=True)\n",
    "fig.set_figheight(10)\n",
    "fig.set_figwidth(10)\n",
    "plt.title(f\"One-Shot Integration: {model_name} Latent Cell Type Annotations\", size=20, pad=15)\n",
    "fig.savefig(f\"{figure_folder_path}/latent_cell_types_{model_name.lower()}_oneshot_integrated.svg\",\n",
    "            bbox_inches=\"tight\",\n",
    "            format=\"svg\")"
   ]
  },
  {
   "cell_type": "code",
   "execution_count": null,
   "id": "84b33d36-e177-4c28-b524-aee31bf37560",
   "metadata": {},
   "outputs": [],
   "source": []
  }
 ],
 "metadata": {
  "kernelspec": {
   "display_name": "Python 3 (ipykernel)",
   "language": "python",
   "name": "python3"
  },
  "language_info": {
   "codemirror_mode": {
    "name": "ipython",
    "version": 3
   },
   "file_extension": ".py",
   "mimetype": "text/x-python",
   "name": "python",
   "nbconvert_exporter": "python",
   "pygments_lexer": "ipython3",
   "version": "3.9.17"
  },
  "toc-autonumbering": false,
  "toc-showcode": false,
  "toc-showmarkdowntxt": false
 },
 "nbformat": 4,
 "nbformat_minor": 5
}
