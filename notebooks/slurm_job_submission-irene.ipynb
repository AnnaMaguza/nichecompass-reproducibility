{
 "cells": [
  {
   "cell_type": "markdown",
   "id": "9ccd0531-bc7a-4384-9ffc-e4131f16025c",
   "metadata": {},
   "source": [
    "# Slurm Job Submission"
   ]
  },
  {
   "cell_type": "markdown",
   "id": "d4448290-48cf-4a56-b9a3-0290d6345360",
   "metadata": {},
   "source": [
    "- **Creator**: Sebastian Birk (<sebastian.birk@helmholtz-munich.de>).\n",
    "- **Affiliation:** Helmholtz Munich, Institute of Computational Biology (ICB), Talavera-López Lab\n",
    "- **Date of Creation:** 20.03.2023\n",
    "- **Date of Last Modification:** 05.09.2023"
   ]
  },
  {
   "cell_type": "markdown",
   "id": "a6ceaea6-79f1-4f03-9a23-d0f958a5066b",
   "metadata": {},
   "source": [
    "## 1. Setup"
   ]
  },
  {
   "cell_type": "markdown",
   "id": "2b7dfb6a-b438-44d7-8130-5893fd7c914e",
   "metadata": {},
   "source": [
    "### 1.1 Import Libraries"
   ]
  },
  {
   "cell_type": "code",
   "execution_count": 1,
   "id": "a5e1a586-a535-4262-a5f3-6e29c211e4b1",
   "metadata": {},
   "outputs": [],
   "source": [
    "import numpy as np\n",
    "import os\n",
    "import glob\n",
    "import scanpy as sc\n",
    "import gc"
   ]
  },
  {
   "cell_type": "markdown",
   "id": "70fa7d24-fae3-4180-9fc6-6facf79c2874",
   "metadata": {},
   "source": [
    "### 1.2 Define Parameters"
   ]
  },
  {
   "cell_type": "code",
   "execution_count": 2,
   "id": "c3714882-2917-400f-aefd-ef3d5d850aa1",
   "metadata": {},
   "outputs": [],
   "source": [
    "conda_env_name = \"nichecompass\"\n",
    "reproducibility_conda_env_name = \"nichecompass-reproducibility\""
   ]
  },
  {
   "cell_type": "markdown",
   "id": "2bb57dfc-31f5-4e74-b9b7-f13d9c6fdac0",
   "metadata": {},
   "source": [
    "### 1.3 Define Functions"
   ]
  },
  {
   "cell_type": "code",
   "execution_count": 3,
   "id": "03a6acd1-b9c1-4be1-827a-6cdb8a426ebf",
   "metadata": {},
   "outputs": [],
   "source": [
    "def submit_python_script(\n",
    "        job_name_prefix,\n",
    "        job_id,\n",
    "        job_folder_path,\n",
    "        conda_env_name,\n",
    "        script_folder_path,\n",
    "        script_name,\n",
    "        script_args,\n",
    "        t=\"48:00:00\",\n",
    "        p=\"gpu_p\",\n",
    "        gres=\"gpu:1\",\n",
    "        qos=\"gpu_normal\",\n",
    "        cores=\"20\",\n",
    "        mem='160',\n",
    "        nice=10000):\n",
    "    \n",
    "    job_name = f\"{job_id}_{job_name_prefix}\"\n",
    "    job_file_path = f\"{job_folder_path}/job_{job_name}.cmd\"\n",
    "    out_file_path = f\"logs/out_{job_name}.txt\"\n",
    "    err_file_path = f\"logs/err_{job_name}.txt\"\n",
    "    \n",
    "    os.makedirs(job_folder_path + \"/logs\", exist_ok=True)\n",
    "    \n",
    "    with open(job_file_path, \"w\") as handle:\n",
    "        handle.writelines(\"#!/bin/bash\\n\")\n",
    "        handle.writelines(f\"#SBATCH -J {job_name}\\n\")\n",
    "        handle.writelines(f\"#SBATCH -o {out_file_path}\\n\")\n",
    "        handle.writelines(f\"#SBATCH -e {err_file_path}\\n\")\n",
    "        handle.writelines(f\"#SBATCH -t {t}\\n\")\n",
    "        handle.writelines(f\"#SBATCH -p {p}\\n\")\n",
    "        handle.writelines(f\"#SBATCH -c {cores}\\n\")\n",
    "        if \"gpu\" in p:\n",
    "            handle.writelines(f\"#SBATCH --gres={gres}\\n\")\n",
    "        handle.writelines(f\"#SBATCH --qos={qos}\\n\")       \n",
    "        handle.writelines(f\"#SBATCH --mem={mem}G\\n\")\n",
    "        handle.writelines(f\"#SBATCH --nice={nice}\\n\")\n",
    "        handle.writelines(\"source $HOME/.bashrc\\n\")\n",
    "        handle.writelines(f\"conda activate {conda_env_name}\\n\")\n",
    "        handle.writelines(f\"cd {script_folder_path}/slurm_jobs\\n\")\n",
    "        handle.writelines(f\"python ../../{script_name}\")\n",
    "        handle.writelines(f\"{script_args}\")\n",
    "        handle.writelines(\"\\n\")\n",
    "        \n",
    "    os.system(f\"sbatch {job_file_path}\")"
   ]
  },
  {
   "cell_type": "markdown",
   "id": "1e47e24d-ae4a-4a5b-90f6-4e522841aa27",
   "metadata": {},
   "source": [
    "## 5. NicheCompass Reference Model"
   ]
  },
  {
   "cell_type": "markdown",
   "id": "413c9cff-5e54-4e16-95b1-31179ceae348",
   "metadata": {},
   "source": [
    "### 5.3 nanoString CosMx SMI Human Non-Small-Cell Lung Cancer (NSCLC)"
   ]
  },
  {
   "cell_type": "markdown",
   "id": "9789ce55-d046-4721-8e5d-a896b3d25780",
   "metadata": {},
   "source": [
    "#### 5.3.2 train reference"
   ]
  },
  {
   "cell_type": "code",
   "execution_count": null,
   "id": "c5a19419-dc35-4d53-af4a-c4321a76fa0d",
   "metadata": {},
   "outputs": [],
   "source": [
    "job_id = 1\n",
    "cat_covariates_embeds_nums = \"3 30 5\" # \"3 30 15\"\n",
    "contrastive_logits_pos_ratio = 0. # 0 0.0078125 (4) 0.015625 (8) 0.03125 (16)\n",
    "lambda_cat_covariates_contrastive = 0.\n",
    "lambda_l1_masked = 0. # 0 100\n",
    "lambda_l1_addon = 1000. # 0 100 1000\n",
    "active_gp_thresh_ratio = 0.03 # 0.01"
   ]
  },
  {
   "cell_type": "code",
   "execution_count": null,
   "id": "64979bcd-e215-4bfe-b945-1e3159b68450",
   "metadata": {},
   "outputs": [],
   "source": [
    "job_id = 3\n",
    "cat_covariates_embeds_nums = \"3 30 5\" # \"3 30 15\"\n",
    "contrastive_logits_pos_ratio = 0. # 0 0.0078125 (4) 0.015625 (8) 0.03125 (16)\n",
    "lambda_cat_covariates_contrastive = 0.\n",
    "lambda_l1_masked = 100. # 0 100\n",
    "lambda_l1_addon = 1000. # 0 100 1000\n",
    "active_gp_thresh_ratio = 0.03 # 0.01"
   ]
  },
  {
   "cell_type": "code",
   "execution_count": null,
   "id": "e686f788-8699-4e37-9c62-6825c20713db",
   "metadata": {},
   "outputs": [],
   "source": [
    "job_id = 5\n",
    "cat_covariates_embeds_nums = \"3 30 5\" # \"3 30 15\"\n",
    "contrastive_logits_pos_ratio = 0.0078125 # 0 0.0078125 (4) 0.015625 (8) 0.03125 (16)\n",
    "lambda_cat_covariates_contrastive = 1000000.\n",
    "lambda_l1_masked = 0. # 0 100\n",
    "lambda_l1_addon = 1000. # 0 100 1000\n",
    "active_gp_thresh_ratio = 0.03 # 0.01"
   ]
  },
  {
   "cell_type": "code",
   "execution_count": null,
   "id": "5aa6242e-dc8a-47a0-9258-4808e4de0b23",
   "metadata": {},
   "outputs": [],
   "source": [
    "job_id = 7\n",
    "cat_covariates_embeds_nums = \"3 30 5\" # \"3 30 15\"\n",
    "contrastive_logits_pos_ratio = 0.0078125 # 0 0.0078125 (4) 0.015625 (8) 0.03125 (16)\n",
    "lambda_cat_covariates_contrastive = 1000000.\n",
    "lambda_l1_masked = 100. # 0 100\n",
    "lambda_l1_addon = 1000. # 0 100 1000\n",
    "active_gp_thresh_ratio = 0.03 # 0.01"
   ]
  },
  {
   "cell_type": "code",
   "execution_count": null,
   "id": "fd29cab3-dc0b-4e97-bdfa-ab8c42d75d64",
   "metadata": {},
   "outputs": [],
   "source": [
    "job_id = 9\n",
    "cat_covariates_embeds_nums = \"3 30 5\" # \"3 30 15\"\n",
    "contrastive_logits_pos_ratio = 0.015625 # 0 0.0078125 (4) 0.015625 (8) 0.03125 (16)\n",
    "lambda_cat_covariates_contrastive = 1000000.\n",
    "lambda_l1_masked = 100. # 0 100\n",
    "lambda_l1_addon = 1000. # 0 100 1000\n",
    "active_gp_thresh_ratio = 0.03 # 0.01"
   ]
  },
  {
   "cell_type": "code",
   "execution_count": null,
   "id": "212bfd6a-c4d9-4b28-83b1-8ca9aee70bfd",
   "metadata": {},
   "outputs": [],
   "source": [
    "job_id = 11\n",
    "cat_covariates_embeds_nums = \"3 30 5\" # \"3 30 15\"\n",
    "contrastive_logits_pos_ratio = 0.015625 # 0 0.0078125 (4) 0.015625 (8) 0.03125 (16)\n",
    "lambda_cat_covariates_contrastive = 500000.\n",
    "lambda_l1_masked = 100. # 0 100\n",
    "lambda_l1_addon = 1000. # 0 100 1000\n",
    "active_gp_thresh_ratio = 0.03 # 0.01"
   ]
  },
  {
   "cell_type": "code",
   "execution_count": null,
   "id": "0b0242d2-33f9-45e6-8efa-8edde57a9da2",
   "metadata": {},
   "outputs": [],
   "source": [
    "job_id = 14\n",
    "cat_covariates_embeds_nums = \"3 30 5\" # \"3 30 15\"\n",
    "contrastive_logits_pos_ratio = 0.03125 # 0 0.0078125 (4) 0.015625 (8) 0.03125 (16)\n",
    "lambda_cat_covariates_contrastive = 500000.\n",
    "lambda_l1_masked = 100. # 0 100\n",
    "lambda_l1_addon = 1000. # 0 100 1000\n",
    "active_gp_thresh_ratio = 0.03 # 0.01"
   ]
  },
  {
   "cell_type": "code",
   "execution_count": null,
   "id": "b79f9c5c-8853-4927-bd75-2fe73b2a39c6",
   "metadata": {},
   "outputs": [],
   "source": [
    "job_id = 16\n",
    "cat_covariates_embeds_nums = \"3 30 5\" # \"3 30 15\"\n",
    "contrastive_logits_pos_ratio = 0.015625 # 0 0.0078125 (4) 0.015625 (8) 0.03125 (16)\n",
    "lambda_cat_covariates_contrastive = 100000.\n",
    "lambda_l1_masked = 100. # 0 100\n",
    "lambda_l1_addon = 1000. # 0 100 1000\n",
    "active_gp_thresh_ratio = 0.03 # 0.01"
   ]
  },
  {
   "cell_type": "code",
   "execution_count": null,
   "id": "543c9749-b548-4aa3-89ef-d9bf8b2be43e",
   "metadata": {},
   "outputs": [],
   "source": [
    "job_id = 18\n",
    "cat_covariates_embeds_nums = \"3 30 15\" # \"3 30 15\"\n",
    "contrastive_logits_pos_ratio = 0.015625 # 0 0.0078125 (4) 0.015625 (8) 0.03125 (16)\n",
    "lambda_cat_covariates_contrastive = 1000000.\n",
    "lambda_l1_masked = 100. # 0 100\n",
    "lambda_l1_addon = 1000. # 0 100 1000\n",
    "active_gp_thresh_ratio = 0.03 # 0.01"
   ]
  },
  {
   "cell_type": "code",
   "execution_count": null,
   "id": "b1fd924d-ab46-4a65-bf5c-2981d76b6645",
   "metadata": {},
   "outputs": [],
   "source": [
    "job_id = 20\n",
    "cat_covariates_embeds_nums = \"3 30 5\" # \"3 30 15\"\n",
    "contrastive_logits_pos_ratio = 0.015625 # 0 0.0078125 (4) 0.015625 (8) 0.03125 (16)\n",
    "lambda_cat_covariates_contrastive = 1000000.\n",
    "lambda_l1_masked = 100. # 0 100\n",
    "lambda_l1_addon = 1000. # 0 100 1000\n",
    "active_gp_thresh_ratio = 0.1 # 0.01"
   ]
  },
  {
   "cell_type": "code",
   "execution_count": 4,
   "id": "7eba4a3d-ebf8-440b-bfcc-cadafe66e172",
   "metadata": {},
   "outputs": [],
   "source": [
    "# no contrastive, highger covar embedding node\n",
    "job_id = 21\n",
    "reference_batches = \"batch1 batch2 batch3 batch4 batch5 batch6 batch7 batch8\" \n",
    "cat_covariates_embeds_nums = \"3 30 15\" # \"3 30 15\"\n",
    "contrastive_logits_pos_ratio = 0. # 0 0.0078125 (4) 0.015625 (8) 0.03125 (16)\n",
    "lambda_cat_covariates_contrastive = 0.\n",
    "lambda_l1_masked = 0. # 0 100\n",
    "lambda_l1_addon = 1000. # 0 100 1000\n",
    "active_gp_thresh_ratio = 0.03 # 0.01\n",
    "lambda_edge_recon = 5000000.\n",
    "lambda_gene_expr_recon = 3000."
   ]
  },
  {
   "cell_type": "code",
   "execution_count": 6,
   "id": "de5fd04d-71e2-4b2b-9490-addfebfeb814",
   "metadata": {},
   "outputs": [],
   "source": [
    "# no contrastive, higher covar embedding node\n",
    "job_id = 22\n",
    "reference_batches = \"batch1 batch2 batch3 batch4 batch5 batch6 batch7 batch8\" \n",
    "cat_covariates_embeds_nums = \"3 30 30\" # \"3 30 15\"\n",
    "contrastive_logits_pos_ratio = 0. # 0 0.0078125 (4) 0.015625 (8) 0.03125 (16)\n",
    "lambda_cat_covariates_contrastive = 0.\n",
    "lambda_l1_masked = 0. # 0 100\n",
    "lambda_l1_addon = 1000. # 0 100 1000\n",
    "active_gp_thresh_ratio = 0.03 # 0.01\n",
    "lambda_edge_recon = 5000000.\n",
    "lambda_gene_expr_recon = 3000."
   ]
  },
  {
   "cell_type": "code",
   "execution_count": 8,
   "id": "934e6f3e-6a16-4483-a457-81fefaa5caeb",
   "metadata": {},
   "outputs": [],
   "source": [
    "# no contrastive, decrease kl\n",
    "job_id = 23\n",
    "reference_batches = \"batch1 batch2 batch3 batch4 batch5 batch6 batch7 batch8\" \n",
    "cat_covariates_embeds_nums = \"3 30 5\" # \"3 30 15\"\n",
    "contrastive_logits_pos_ratio = 0. # 0 0.0078125 (4) 0.015625 (8) 0.03125 (16)\n",
    "lambda_cat_covariates_contrastive = 0.\n",
    "lambda_l1_masked = 0. # 0 100\n",
    "lambda_l1_addon = 1000. # 0 100 1000\n",
    "active_gp_thresh_ratio = 0.03 # 0.01\n",
    "# decrease weight of KL divergence in the loss\n",
    "lambda_edge_recon = 25000000.\n",
    "lambda_gene_expr_recon = 15000."
   ]
  },
  {
   "cell_type": "code",
   "execution_count": 10,
   "id": "d259a250-15c3-435a-a0c1-a3a1d026eb6f",
   "metadata": {},
   "outputs": [],
   "source": [
    "# no contrastive, decrease kl\n",
    "job_id = 24\n",
    "reference_batches = \"batch1 batch2 batch3 batch4 batch5 batch6 batch7 batch8\" \n",
    "cat_covariates_embeds_nums = \"3 30 5\" # \"3 30 15\"\n",
    "contrastive_logits_pos_ratio = 0. # 0 0.0078125 (4) 0.015625 (8) 0.03125 (16)\n",
    "lambda_cat_covariates_contrastive = 0.\n",
    "lambda_l1_masked = 100. # 0 100\n",
    "lambda_l1_addon = 1000. # 0 100 1000\n",
    "active_gp_thresh_ratio = 0.03 # 0.01\n",
    "# decrease weight of KL divergence in the loss\n",
    "lambda_edge_recon = 25000000.\n",
    "lambda_gene_expr_recon = 15000."
   ]
  },
  {
   "cell_type": "code",
   "execution_count": 12,
   "id": "c44699dc-b93a-4f0e-9bdb-15be24c5b432",
   "metadata": {},
   "outputs": [],
   "source": [
    "# no contrastive, decrease kl\n",
    "job_id = 25\n",
    "reference_batches = \"batch1 batch2 batch3 batch4 batch5 batch6 batch7 batch8\" \n",
    "cat_covariates_embeds_nums = \"3 30 5\" # \"3 30 15\"\n",
    "contrastive_logits_pos_ratio = 0. # 0 0.0078125 (4) 0.015625 (8) 0.03125 (16)\n",
    "lambda_cat_covariates_contrastive = 0.\n",
    "lambda_l1_masked = 0. # 0 100\n",
    "lambda_l1_addon = 1000. # 0 100 1000\n",
    "active_gp_thresh_ratio = 0.03 # 0.01\n",
    "# decrease weight of KL divergence in the loss\n",
    "lambda_edge_recon = 50000000.\n",
    "lambda_gene_expr_recon = 30000."
   ]
  },
  {
   "cell_type": "code",
   "execution_count": 14,
   "id": "6d41807e-fd27-428a-a9ac-a23c4327a02f",
   "metadata": {},
   "outputs": [],
   "source": [
    "# no contrastive, decrease kl\n",
    "job_id = 26\n",
    "reference_batches = \"batch1 batch2 batch3 batch4 batch5 batch6 batch7 batch8\" \n",
    "cat_covariates_embeds_nums = \"3 30 5\" # \"3 30 15\"\n",
    "contrastive_logits_pos_ratio = 0. # 0 0.0078125 (4) 0.015625 (8) 0.03125 (16)\n",
    "lambda_cat_covariates_contrastive = 0.\n",
    "lambda_l1_masked = 100. # 0 100\n",
    "lambda_l1_addon = 1000. # 0 100 1000\n",
    "active_gp_thresh_ratio = 0.03 # 0.01\n",
    "# decrease weight of KL divergence in the loss\n",
    "lambda_edge_recon = 50000000.\n",
    "lambda_gene_expr_recon = 30000."
   ]
  },
  {
   "cell_type": "code",
   "execution_count": 16,
   "id": "07a6df9b-7f7b-46ea-9c7e-32e91511811d",
   "metadata": {},
   "outputs": [],
   "source": [
    "# no contrastive, decrease kl, -5r3 - 6\n",
    "job_id = 27\n",
    "reference_batches = \"batch1 batch2 batch5 batch6 batch7 batch8\" \n",
    "cat_covariates_embeds_nums = \"3 30 5\" # \"3 30 15\"\n",
    "contrastive_logits_pos_ratio = 0. # 0 0.0078125 (4) 0.015625 (8) 0.03125 (16)\n",
    "lambda_cat_covariates_contrastive = 0.\n",
    "lambda_l1_masked = 0. # 0 100\n",
    "lambda_l1_addon = 1000. # 0 100 1000\n",
    "active_gp_thresh_ratio = 0.03 # 0.01\n",
    "# decrease weight of KL divergence in the loss\n",
    "lambda_edge_recon = 50000000.\n",
    "lambda_gene_expr_recon = 30000."
   ]
  },
  {
   "cell_type": "code",
   "execution_count": 18,
   "id": "55b9e52c-1c33-4097-9a90-d30dbb900dd3",
   "metadata": {},
   "outputs": [],
   "source": [
    "# no contrastive, -5r3 - 13, decrease kl\n",
    "job_id = 28\n",
    "reference_batches = \"batch1 batch2 batch4 batch5 batch6 batch7\" \n",
    "cat_covariates_embeds_nums = \"3 30 5\" # \"3 30 15\"\n",
    "contrastive_logits_pos_ratio = 0. # 0 0.0078125 (4) 0.015625 (8) 0.03125 (16)\n",
    "lambda_cat_covariates_contrastive = 0.\n",
    "lambda_l1_masked = 0. # 0 100\n",
    "lambda_l1_addon = 1000. # 0 100 1000\n",
    "active_gp_thresh_ratio = 0.03 # 0.01\n",
    "# decrease weight of KL divergence in the loss\n",
    "lambda_edge_recon = 50000000.\n",
    "lambda_gene_expr_recon = 30000."
   ]
  },
  {
   "cell_type": "code",
   "execution_count": null,
   "id": "ba2661b4-4880-4855-95ee-2833e571fb4d",
   "metadata": {},
   "outputs": [],
   "source": [
    "# no contrastive, -5r3 - 6\n",
    "job_id = 29\n",
    "reference_batches = \"batch1 batch2 batch5 batch6 batch7 batch8\" \n",
    "cat_covariates_embeds_nums = \"3 30 5\" # \"3 30 15\"\n",
    "contrastive_logits_pos_ratio = 0. # 0 0.0078125 (4) 0.015625 (8) 0.03125 (16)\n",
    "lambda_cat_covariates_contrastive = 0.\n",
    "lambda_l1_masked = 0. # 0 100\n",
    "lambda_l1_addon = 1000. # 0 100 1000\n",
    "active_gp_thresh_ratio = 0.03 # 0.01\n",
    "# decrease weight of KL divergence in the loss\n",
    "lambda_edge_recon = 50000000.\n",
    "lambda_gene_expr_recon = 30000."
   ]
  },
  {
   "cell_type": "code",
   "execution_count": null,
   "id": "9eae748b-e9f6-4832-b6a4-6a9637a89b75",
   "metadata": {},
   "outputs": [],
   "source": [
    "# no contrastive, -5r3 - 13\n",
    "job_id = 30\n",
    "reference_batches = \"batch1 batch2 batch4 batch5 batch6 batch7\" \n",
    "cat_covariates_embeds_nums = \"3 30 5\" # \"3 30 15\"\n",
    "contrastive_logits_pos_ratio = 0. # 0 0.0078125 (4) 0.015625 (8) 0.03125 (16)\n",
    "lambda_cat_covariates_contrastive = 0.\n",
    "lambda_l1_masked = 0. # 0 100\n",
    "lambda_l1_addon = 1000. # 0 100 1000\n",
    "active_gp_thresh_ratio = 0.03 # 0.01\n",
    "# decrease weight of KL divergence in the loss\n",
    "lambda_edge_recon = 5000000.\n",
    "lambda_gene_expr_recon = 3000."
   ]
  },
  {
   "cell_type": "code",
   "execution_count": 4,
   "id": "887c3d20-cd9d-4132-800b-144c0e5fa2f5",
   "metadata": {
    "tags": []
   },
   "outputs": [],
   "source": [
    "# no contrastive, decrease kl\n",
    "job_id = 31\n",
    "reference_batches = \"batch1 batch2 batch3 batch4 batch5 batch6 batch7 batch8\" \n",
    "cat_covariates_embeds_nums = \"3 30 5\" # \"3 30 15\"\n",
    "contrastive_logits_pos_ratio = 0. # 0 0.0078125 (4) 0.015625 (8) 0.03125 (16)\n",
    "lambda_cat_covariates_contrastive = 0.\n",
    "lambda_l1_masked = 0. # 0 100\n",
    "lambda_l1_addon = 1000. # 0 100 1000\n",
    "active_gp_thresh_ratio = 0.03 # 0.01\n",
    "# decrease weight of KL divergence in the loss\n",
    "lambda_edge_recon = 500000000.\n",
    "lambda_gene_expr_recon = 300000."
   ]
  },
  {
   "cell_type": "code",
   "execution_count": 6,
   "id": "bd5520c1-4795-480e-a7ec-05bc1733ab23",
   "metadata": {},
   "outputs": [],
   "source": [
    "# no contrastive, decrease kl\n",
    "job_id = 32\n",
    "reference_batches = \"batch1 batch2 batch3 batch4 batch5 batch6 batch7 batch8\" \n",
    "cat_covariates_embeds_nums = \"3 30 5\" # \"3 30 15\"\n",
    "contrastive_logits_pos_ratio = 0. # 0 0.0078125 (4) 0.015625 (8) 0.03125 (16)\n",
    "lambda_cat_covariates_contrastive = 0.\n",
    "lambda_l1_masked = 100. # 0 100\n",
    "lambda_l1_addon = 1000. # 0 100 1000\n",
    "active_gp_thresh_ratio = 0.03 # 0.01\n",
    "# decrease weight of KL divergence in the loss\n",
    "lambda_edge_recon = 500000000.\n",
    "lambda_gene_expr_recon = 300000."
   ]
  },
  {
   "cell_type": "code",
   "execution_count": 8,
   "id": "b55d96a2-5698-46b2-ac02-796dfc479fb8",
   "metadata": {},
   "outputs": [],
   "source": [
    "# no contrastive, decrease kl\n",
    "job_id = 33\n",
    "reference_batches = \"batch1 batch2 batch3 batch4 batch5 batch6 batch7 batch8\" \n",
    "cat_covariates_embeds_nums = \"3 30 5\" # \"3 30 15\"\n",
    "contrastive_logits_pos_ratio = 0. # 0 0.0078125 (4) 0.015625 (8) 0.03125 (16)\n",
    "lambda_cat_covariates_contrastive = 0.\n",
    "lambda_l1_masked = 0. # 0 100\n",
    "lambda_l1_addon = 1000. # 0 100 1000\n",
    "active_gp_thresh_ratio = 0.03 # 0.01\n",
    "# decrease weight of KL divergence in the loss\n",
    "lambda_edge_recon = 5000000000.\n",
    "lambda_gene_expr_recon = 3000000."
   ]
  },
  {
   "cell_type": "code",
   "execution_count": 10,
   "id": "04faa662-40b1-4392-b948-f961acecaa3a",
   "metadata": {},
   "outputs": [],
   "source": [
    "# no contrastive, decrease kl\n",
    "job_id = 34\n",
    "reference_batches = \"batch1 batch2 batch3 batch4 batch5 batch6 batch7 batch8\" \n",
    "cat_covariates_embeds_nums = \"3 30 5\" # \"3 30 15\"\n",
    "contrastive_logits_pos_ratio = 0. # 0 0.0078125 (4) 0.015625 (8) 0.03125 (16)\n",
    "lambda_cat_covariates_contrastive = 0.\n",
    "lambda_l1_masked = 100. # 0 100\n",
    "lambda_l1_addon = 1000. # 0 100 1000\n",
    "active_gp_thresh_ratio = 0.03 # 0.01\n",
    "# decrease weight of KL divergence in the loss\n",
    "lambda_edge_recon = 5000000000.\n",
    "lambda_gene_expr_recon = 3000000."
   ]
  },
  {
   "cell_type": "code",
   "execution_count": 12,
   "id": "3bef4b8c-8557-4d0d-a314-0ab1ed5c8b88",
   "metadata": {},
   "outputs": [],
   "source": [
    "# no contrastive, decrease kl\n",
    "job_id = 35\n",
    "reference_batches = \"batch1 batch2 batch3 batch4 batch5 batch6 batch7 batch8\" \n",
    "cat_covariates_embeds_nums = \"3 30 5\" # \"3 30 15\"\n",
    "contrastive_logits_pos_ratio = 0. # 0 0.0078125 (4) 0.015625 (8) 0.03125 (16)\n",
    "lambda_cat_covariates_contrastive = 0.\n",
    "lambda_l1_masked = 0. # 0 100\n",
    "lambda_l1_addon = 1000. # 0 100 1000\n",
    "active_gp_thresh_ratio = 0.03 # 0.01\n",
    "# decrease weight of KL divergence in the loss\n",
    "lambda_edge_recon = 50000000000.\n",
    "lambda_gene_expr_recon = 30000000."
   ]
  },
  {
   "cell_type": "code",
   "execution_count": 14,
   "id": "545a58f7-d093-45e4-8230-0c545b9dd7be",
   "metadata": {},
   "outputs": [],
   "source": [
    "# no contrastive, decrease kl\n",
    "job_id = 36\n",
    "reference_batches = \"batch1 batch2 batch3 batch4 batch5 batch6 batch7 batch8\" \n",
    "cat_covariates_embeds_nums = \"3 30 5\" # \"3 30 15\"\n",
    "contrastive_logits_pos_ratio = 0. # 0 0.0078125 (4) 0.015625 (8) 0.03125 (16)\n",
    "lambda_cat_covariates_contrastive = 0.\n",
    "lambda_l1_masked = 100. # 0 100\n",
    "lambda_l1_addon = 1000. # 0 100 1000\n",
    "active_gp_thresh_ratio = 0.03 # 0.01\n",
    "# decrease weight of KL divergence in the loss\n",
    "lambda_edge_recon = 50000000000.\n",
    "lambda_gene_expr_recon = 30000000."
   ]
  },
  {
   "cell_type": "code",
   "execution_count": null,
   "id": "4a00ba0f-2aa4-4aca-943e-c8bb3c93cb18",
   "metadata": {},
   "outputs": [],
   "source": []
  },
  {
   "cell_type": "code",
   "execution_count": 4,
   "id": "9cd70b4a-d985-413f-94e7-714e389b6d98",
   "metadata": {},
   "outputs": [],
   "source": [
    "# no contrastive, decrease kl\n",
    "job_id = 41\n",
    "reference_batches = \"batch1 batch2 batch3 batch4 batch5 batch6 batch7 batch8\" \n",
    "cat_covariates_embeds_nums = \"3 30 5\" # \"3 30 15\"\n",
    "contrastive_logits_pos_ratio = 0. # 0 0.0078125 (4) 0.015625 (8) 0.03125 (16)\n",
    "lambda_cat_covariates_contrastive = 0.\n",
    "lambda_l1_masked = 0. # 0 100\n",
    "lambda_l1_addon = 1000. # 0 100 1000\n",
    "active_gp_thresh_ratio = 0.03 # 0.01\n",
    "# decrease weight of KL divergence in the loss\n",
    "lambda_edge_recon = 50000000.\n",
    "lambda_gene_expr_recon = 30000."
   ]
  },
  {
   "cell_type": "code",
   "execution_count": 7,
   "id": "4d75cbe0-7884-4254-ba35-72c998e7793f",
   "metadata": {},
   "outputs": [],
   "source": [
    "# no contrastive, decrease kl, -5r3 - 6\n",
    "job_id = 42\n",
    "reference_batches = \"batch1 batch2 batch5 batch6 batch7 batch8\" \n",
    "cat_covariates_embeds_nums = \"3 30 5\" # \"3 30 15\"\n",
    "contrastive_logits_pos_ratio = 0. # 0 0.0078125 (4) 0.015625 (8) 0.03125 (16)\n",
    "lambda_cat_covariates_contrastive = 0.\n",
    "lambda_l1_masked = 0. # 0 100\n",
    "lambda_l1_addon = 1000. # 0 100 1000\n",
    "active_gp_thresh_ratio = 0.03 # 0.01\n",
    "# decrease weight of KL divergence in the loss\n",
    "lambda_edge_recon = 50000000.\n",
    "lambda_gene_expr_recon = 30000."
   ]
  },
  {
   "cell_type": "code",
   "execution_count": 9,
   "id": "61a81c39-8de3-4bbc-8431-65a053dafd63",
   "metadata": {},
   "outputs": [],
   "source": [
    "# no contrastive, -5r3 - 13, decrease kl\n",
    "job_id = 43\n",
    "reference_batches = \"batch1 batch2 batch4 batch5 batch6 batch7\" \n",
    "cat_covariates_embeds_nums = \"3 30 5\" # \"3 30 15\"\n",
    "contrastive_logits_pos_ratio = 0. # 0 0.0078125 (4) 0.015625 (8) 0.03125 (16)\n",
    "lambda_cat_covariates_contrastive = 0.\n",
    "lambda_l1_masked = 0. # 0 100\n",
    "lambda_l1_addon = 1000. # 0 100 1000\n",
    "active_gp_thresh_ratio = 0.03 # 0.01\n",
    "# decrease weight of KL divergence in the loss\n",
    "lambda_edge_recon = 50000000.\n",
    "lambda_gene_expr_recon = 30000."
   ]
  },
  {
   "cell_type": "code",
   "execution_count": null,
   "id": "5da2fac0-830e-406d-acda-150743c934e3",
   "metadata": {},
   "outputs": [],
   "source": []
  },
  {
   "cell_type": "code",
   "execution_count": 18,
   "id": "5b9f2066-ecbc-4bc0-b301-e18a57633fb2",
   "metadata": {},
   "outputs": [],
   "source": [
    "# no contrastive, decrease kl\n",
    "job_id = 44\n",
    "reference_batches = \"batch1 batch2 batch3 batch4 batch5 batch6 batch7 batch8\" \n",
    "cat_covariates_embeds_nums = \"3 30 5\" # \"3 30 15\"\n",
    "contrastive_logits_pos_ratio = 0. # 0 0.0078125 (4) 0.015625 (8) 0.03125 (16)\n",
    "lambda_cat_covariates_contrastive = 0.\n",
    "lambda_l1_masked = 0. # 0 100\n",
    "lambda_l1_addon = 100. # 0 100 1000\n",
    "active_gp_thresh_ratio = 0.03 # 0.01\n",
    "# decrease weight of KL divergence in the loss\n",
    "lambda_edge_recon = 50000000.\n",
    "lambda_gene_expr_recon = 30000."
   ]
  },
  {
   "cell_type": "code",
   "execution_count": 20,
   "id": "016dd5ce-1536-42b5-aefd-0ca61d63647c",
   "metadata": {},
   "outputs": [],
   "source": [
    "# no contrastive, decrease kl, -5r3 - 6\n",
    "job_id = 45\n",
    "reference_batches = \"batch1 batch2 batch5 batch6 batch7 batch8\" \n",
    "cat_covariates_embeds_nums = \"3 30 5\" # \"3 30 15\"\n",
    "contrastive_logits_pos_ratio = 0. # 0 0.0078125 (4) 0.015625 (8) 0.03125 (16)\n",
    "lambda_cat_covariates_contrastive = 0.\n",
    "lambda_l1_masked = 0. # 0 100\n",
    "lambda_l1_addon = 100. # 0 100 1000\n",
    "active_gp_thresh_ratio = 0.03 # 0.01\n",
    "# decrease weight of KL divergence in the loss\n",
    "lambda_edge_recon = 50000000.\n",
    "lambda_gene_expr_recon = 30000."
   ]
  },
  {
   "cell_type": "code",
   "execution_count": 22,
   "id": "282172bd-c8e8-46bb-b54b-6f2ce47141f7",
   "metadata": {},
   "outputs": [],
   "source": [
    "# no contrastive, -5r3 - 13, decrease kl\n",
    "job_id = 46\n",
    "reference_batches = \"batch1 batch2 batch4 batch5 batch6 batch7\" \n",
    "cat_covariates_embeds_nums = \"3 30 5\" # \"3 30 15\"\n",
    "contrastive_logits_pos_ratio = 0. # 0 0.0078125 (4) 0.015625 (8) 0.03125 (16)\n",
    "lambda_cat_covariates_contrastive = 0.\n",
    "lambda_l1_masked = 0. # 0 100\n",
    "lambda_l1_addon = 100. # 0 100 1000\n",
    "active_gp_thresh_ratio = 0.03 # 0.01\n",
    "# decrease weight of KL divergence in the loss\n",
    "lambda_edge_recon = 50000000.\n",
    "lambda_gene_expr_recon = 30000."
   ]
  },
  {
   "cell_type": "code",
   "execution_count": null,
   "id": "8b353aeb-5fae-4ba5-92c3-245720b8f8b1",
   "metadata": {},
   "outputs": [],
   "source": []
  },
  {
   "cell_type": "code",
   "execution_count": 12,
   "id": "6a7be352-0a89-4343-8be4-a97892bac444",
   "metadata": {},
   "outputs": [],
   "source": [
    "# no contrastive, decrease kl\n",
    "job_id = 47\n",
    "reference_batches = \"batch1 batch2 batch3 batch4 batch5 batch6 batch7 batch8\" \n",
    "cat_covariates_embeds_nums = \"3 30 5\" # \"3 30 15\"\n",
    "contrastive_logits_pos_ratio = 0. # 0 0.0078125 (4) 0.015625 (8) 0.03125 (16)\n",
    "lambda_cat_covariates_contrastive = 0.\n",
    "lambda_l1_masked = 50. # 0 100\n",
    "lambda_l1_addon = 500. # 0 100 1000\n",
    "active_gp_thresh_ratio = 0.03 # 0.01\n",
    "# decrease weight of KL divergence in the loss\n",
    "lambda_edge_recon = 50000000.\n",
    "lambda_gene_expr_recon = 30000."
   ]
  },
  {
   "cell_type": "code",
   "execution_count": 14,
   "id": "7f3d44a6-a20d-4093-a29d-d32b1bb3709f",
   "metadata": {},
   "outputs": [],
   "source": [
    "# no contrastive, decrease kl, -5r3 - 6\n",
    "job_id = 48\n",
    "reference_batches = \"batch1 batch2 batch5 batch6 batch7 batch8\" \n",
    "cat_covariates_embeds_nums = \"3 30 5\" # \"3 30 15\"\n",
    "contrastive_logits_pos_ratio = 0. # 0 0.0078125 (4) 0.015625 (8) 0.03125 (16)\n",
    "lambda_cat_covariates_contrastive = 0.\n",
    "lambda_l1_masked = 50. # 0 100\n",
    "lambda_l1_addon = 500. # 0 100 1000\n",
    "active_gp_thresh_ratio = 0.03 # 0.01\n",
    "# decrease weight of KL divergence in the loss\n",
    "lambda_edge_recon = 50000000.\n",
    "lambda_gene_expr_recon = 30000."
   ]
  },
  {
   "cell_type": "code",
   "execution_count": 16,
   "id": "61fad522-7e49-44cd-90f6-7b5f44393339",
   "metadata": {},
   "outputs": [],
   "source": [
    "# no contrastive, -5r3 - 13, decrease kl\n",
    "job_id = 49\n",
    "reference_batches = \"batch1 batch2 batch4 batch5 batch6 batch7\" \n",
    "cat_covariates_embeds_nums = \"3 30 5\" # \"3 30 15\"\n",
    "contrastive_logits_pos_ratio = 0. # 0 0.0078125 (4) 0.015625 (8) 0.03125 (16)\n",
    "lambda_cat_covariates_contrastive = 0.\n",
    "lambda_l1_masked = 50. # 0 100\n",
    "lambda_l1_addon = 500. # 0 100 1000\n",
    "active_gp_thresh_ratio = 0.03 # 0.01\n",
    "# decrease weight of KL divergence in the loss\n",
    "lambda_edge_recon = 50000000.\n",
    "lambda_gene_expr_recon = 30000."
   ]
  },
  {
   "cell_type": "code",
   "execution_count": null,
   "id": "0d598d28-f282-4e55-a886-62086b9091b4",
   "metadata": {},
   "outputs": [],
   "source": []
  },
  {
   "cell_type": "code",
   "execution_count": 23,
   "id": "71d6724d-f065-44e7-9293-0e1acce99a72",
   "metadata": {},
   "outputs": [
    {
     "name": "stdout",
     "output_type": "stream",
     "text": [
      "Submitted batch job 14017568\n"
     ]
    }
   ],
   "source": [
    "dataset = \"nanostring_cosmx_human_nsclc\"\n",
    "task = \"reference\"\n",
    "job_name_prefix = f\"{dataset}_nichecompass_{task}\"\n",
    "job_folder_path = f\"../scripts/{task}/slurm_jobs\"\n",
    "script_folder_path = f\"/lustre/groups/imm01/workspace/irene.bonafonte/Projects/2023May_nichecompass/nichecompass-reproducibility/scripts/{task}\"\n",
    "script_name = \"train_nichecompass_reference_model.py\"\n",
    "\n",
    "\n",
    "# Hyperparameters\n",
    "# reference_batches = \"batch1 batch2 batch3 batch4 batch5 batch6 batch7 batch8\" \n",
    "cat_covariates_keys = \"batch fov patient\"\n",
    "species = \"human\"\n",
    "node_label_method = \"one-hop-norm\"\n",
    "n_neighbors = 4\n",
    "n_sampled_neighbors = 4\n",
    "edge_batch_size = 512\n",
    "cat_covariates_embeds_injection = \"gene_expr_decoder\" # \"encoder gene_expr_decoder\"\n",
    "cat_covariates_no_edges = \"True False True\"\n",
    "contrastive_logits_neg_ratio = 0.\n",
    "\n",
    "script_args = f\" --dataset {dataset}\" \\\n",
    "              f\" --reference_batches {reference_batches}\" \\\n",
    "              f\" --n_neighbors {n_neighbors}\" \\\n",
    "              \" --no-filter_genes\" \\\n",
    "              \" --nichenet_keep_target_genes_ratio 1.0\" \\\n",
    "              \" --nichenet_max_n_target_genes_per_gp 250\" \\\n",
    "              \" --include_mebocost_gps\" \\\n",
    "              f\" --species {species}\" \\\n",
    "              \" --gp_filter_mode subset\" \\\n",
    "              \" --combine_overlap_gps\" \\\n",
    "              \" --overlap_thresh_source_genes 0.9\" \\\n",
    "              \" --overlap_thresh_target_genes 0.9\" \\\n",
    "              \" --overlap_thresh_genes 0.9\" \\\n",
    "              \" --counts_key counts\" \\\n",
    "              f\" --cat_covariates_keys {cat_covariates_keys}\" \\\n",
    "              f\" --cat_covariates_no_edges {cat_covariates_no_edges}\" \\\n",
    "              \" --spatial_key spatial\" \\\n",
    "              \" --adj_key spatial_connectivities\" \\\n",
    "              \" --mapping_entity_key mapping_entity\" \\\n",
    "              \" --gp_targets_mask_key nichecompass_gp_targets\" \\\n",
    "              \" --gp_sources_mask_key nichecompass_gp_sources\" \\\n",
    "              \" --gp_names_key nichecompass_gp_names\" \\\n",
    "              f\" --model_label {task}\" \\\n",
    "              \" --active_gp_names_key nichecompass_active_gp_names\" \\\n",
    "              \" --latent_key nichecompass_latent\" \\\n",
    "              \" --n_addon_gp 100\" \\\n",
    "              f\" --active_gp_thresh_ratio {active_gp_thresh_ratio}\" \\\n",
    "              \" --gene_expr_recon_dist nb\" \\\n",
    "              f\" --cat_covariates_embeds_injection {cat_covariates_embeds_injection}\" \\\n",
    "              f\" --cat_covariates_embeds_nums {cat_covariates_embeds_nums}\" \\\n",
    "              \" --log_variational\" \\\n",
    "              f\" --node_label_method {node_label_method}\" \\\n",
    "              \" --n_layers_encoder 1\" \\\n",
    "              \" --n_hidden_encoder 960\" \\\n",
    "              \" --conv_layer_encoder gatv2conv\" \\\n",
    "              \" --n_epochs 400\" \\\n",
    "              \" --n_epochs_all_gps 25\" \\\n",
    "              \" --n_epochs_no_cat_covariates_contrastive 0\" \\\n",
    "              \" --lr 0.001\" \\\n",
    "              f\" --lambda_edge_recon {lambda_edge_recon}\" \\\n",
    "              f\" --lambda_gene_expr_recon {lambda_gene_expr_recon}\" \\\n",
    "              f\" --lambda_cat_covariates_contrastive {lambda_cat_covariates_contrastive}\" \\\n",
    "              f\" --contrastive_logits_pos_ratio {contrastive_logits_pos_ratio}\" \\\n",
    "              f\" --contrastive_logits_neg_ratio {contrastive_logits_neg_ratio}\" \\\n",
    "              \" --lambda_group_lasso 0.\" \\\n",
    "              f\" --lambda_l1_masked {lambda_l1_masked}\" \\\n",
    "              f\" --lambda_l1_addon {lambda_l1_addon}\" \\\n",
    "              f\" --edge_batch_size {edge_batch_size}\" \\\n",
    "              \" --node_batch_size 256\" \\\n",
    "              f\" --n_sampled_neighbors {n_sampled_neighbors}\" \\\n",
    "              f\" --timestamp_suffix _{job_id}\"\n",
    "\n",
    "submit_python_script(\n",
    "        job_name_prefix=job_name_prefix,\n",
    "        job_id=job_id,\n",
    "        job_folder_path=job_folder_path,\n",
    "        conda_env_name=conda_env_name,\n",
    "        script_folder_path=script_folder_path,\n",
    "        script_name=script_name,\n",
    "        script_args=script_args,\n",
    "        nice=10000,\n",
    "        mem=128,\n",
    "        cores=8,\n",
    "        t='24:00:00'\n",
    ")"
   ]
  },
  {
   "cell_type": "markdown",
   "id": "8c03e639-7b35-4de7-a5b3-b47b4b5a5c9c",
   "metadata": {},
   "source": [
    "#### 5.3.2 metrics"
   ]
  },
  {
   "cell_type": "code",
   "execution_count": null,
   "id": "5358b6f2-3cd3-4de3-87ec-23701d4eb138",
   "metadata": {},
   "outputs": [],
   "source": [
    "dataset = 'nanostring_cosmx_human_nsclc'\n",
    "model_type = 'reference'\n",
    "available_models = glob.glob(f'../artifacts/{dataset}/models/{model_type}/*')\n",
    "models = []\n",
    "for model in available_models:\n",
    "    model_label = model.split('/')[-1]\n",
    "    if os.path.exists(f\"{model}/{dataset}_{model_type}.h5ad\"):\n",
    "        model_adata = sc.read_h5ad(f'{model}/{dataset}_{model_type}.h5ad')\n",
    "        # only embeddings with all samples\n",
    "        if model_adata.obs.batch.nunique() == 8:\n",
    "            models.append(model_label)\n",
    "            print(model_label)\n",
    "        del model_adata\n",
    "    \n",
    "    gc.collect()"
   ]
  },
  {
   "cell_type": "code",
   "execution_count": 7,
   "id": "67c5be01-65c5-4136-b81b-63232fcb3c91",
   "metadata": {},
   "outputs": [
    {
     "data": {
      "text/plain": [
       "['05102023_213259_9',\n",
       " '12102023_161937_34',\n",
       " '05102023_213300_18',\n",
       " '30092023_022140_303',\n",
       " '06102023_193137_21',\n",
       " '12102023_161937_31',\n",
       " '05102023_213300_14',\n",
       " '06102023_193137_22',\n",
       " '06102023_193136_23',\n",
       " '12102023_161937_35',\n",
       " '05102023_213300_11',\n",
       " '12102023_161937_36',\n",
       " '30092023_022140_301',\n",
       " '12102023_161937_32',\n",
       " '12102023_161937_33',\n",
       " '05102023_213259_5',\n",
       " '06102023_173137_24',\n",
       " '05102023_213300_20',\n",
       " '05102023_213300_1',\n",
       " '05102023_213300_16',\n",
       " '06102023_193136_25',\n",
       " '06102023_193048_26']"
      ]
     },
     "execution_count": 7,
     "metadata": {},
     "output_type": "execute_result"
    }
   ],
   "source": [
    "models"
   ]
  },
  {
   "cell_type": "code",
   "execution_count": 7,
   "id": "300f9e13-ad94-473d-9bf0-ce838eb428e1",
   "metadata": {},
   "outputs": [
    {
     "name": "stdout",
     "output_type": "stream",
     "text": [
      "Submitted batch job 14022455\n",
      "Submitted batch job 14022456\n",
      "Submitted batch job 14022457\n"
     ]
    }
   ],
   "source": [
    "task='reference'\n",
    "job_folder_path = f\"../scripts/{task}/slurm_jobs\"\n",
    "script_folder_path=f\"/lustre/groups/imm01/workspace/irene.bonafonte/Projects/2023May_nichecompass/nichecompass-reproducibility/scripts/{task}\"\n",
    "models = ['19102023_172844_41', '19102023_180356_44', '19102023_172844_47']\n",
    "for model in models:\n",
    "    submit_python_script(\n",
    "        job_name_prefix='metrics',\n",
    "        job_id=model,\n",
    "        script_folder_path=script_folder_path,\n",
    "        job_folder_path=job_folder_path,\n",
    "        script_name='nsclc_integration_metrics.py',\n",
    "        script_args=f' --model {model}',\n",
    "        conda_env_name=conda_env_name\n",
    "    )"
   ]
  },
  {
   "cell_type": "code",
   "execution_count": 15,
   "id": "d3720d88-65e2-48cf-8623-3bf33896641e",
   "metadata": {},
   "outputs": [
    {
     "data": {
      "text/plain": [
       "22"
      ]
     },
     "execution_count": 15,
     "metadata": {},
     "output_type": "execute_result"
    }
   ],
   "source": [
    "len(models)"
   ]
  },
  {
   "cell_type": "markdown",
   "id": "9870fc03-c2d8-42e6-a2bd-1704312606ec",
   "metadata": {},
   "source": [
    "#### 5.3.3 cluster and visualize "
   ]
  },
  {
   "cell_type": "code",
   "execution_count": 9,
   "id": "db72e8e7-b407-4cc9-9420-cc2c1afb5fee",
   "metadata": {},
   "outputs": [
    {
     "name": "stdout",
     "output_type": "stream",
     "text": [
      "Submitted batch job 14011278\n",
      "Submitted batch job 14011279\n",
      "Submitted batch job 14011280\n",
      "Submitted batch job 14011281\n",
      "Submitted batch job 14011282\n"
     ]
    }
   ],
   "source": [
    "runs=['25','27','28','29','30','1']\n",
    "\n",
    "for run in runs:\n",
    "    leiden_resolution=0.5\n",
    "    task='reference'\n",
    "    job_folder_path = f\"../scripts/{task}/slurm_jobs\"\n",
    "    script_folder_path=f\"/lustre/groups/imm01/workspace/irene.bonafonte/Projects/2023May_nichecompass/nichecompass-reproducibility/scripts/{task}\"\n",
    "    submit_python_script(\n",
    "        job_name_prefix='cluster_latent',\n",
    "        job_id=run,\n",
    "        script_folder_path=script_folder_path,\n",
    "        job_folder_path=job_folder_path,\n",
    "        script_name='nsclc_visualize_and_cluster_models.py',\n",
    "        conda_env_name=conda_env_name,\n",
    "        p='cpu_p',\n",
    "        qos='cpu_normal',\n",
    "        cores='8',\n",
    "        mem='64',\n",
    "        t=\"24:00:00\",\n",
    "        script_args=f' --model_type {task}' \\\n",
    "                    f' --suffix {run}' \\\n",
    "                    f' --cluster' \\\n",
    "                    f' --leiden_resolution {leiden_resolution}' \\\n",
    "    )"
   ]
  },
  {
   "cell_type": "code",
   "execution_count": 9,
   "id": "17c2d74a-9914-4e0e-8ee6-f3ee95e1a5e0",
   "metadata": {},
   "outputs": [
    {
     "name": "stdout",
     "output_type": "stream",
     "text": [
      "Submitted batch job 14030564\n",
      "Submitted batch job 14030565\n",
      "Submitted batch job 14030566\n",
      "Submitted batch job 14030567\n",
      "Submitted batch job 14030568\n",
      "Submitted batch job 14030569\n"
     ]
    }
   ],
   "source": [
    "runs=['27_3','28_3','27_4','28_8']\n",
    "runs=['27_3','28_3']\n",
    "runs=['42_4','43_8', '45_4','46_8', '48_4','49_8']\n",
    "runs=['27_4','28_8']\n",
    "runs=['42_3','43_3', '45_3','46_3', '48_3','49_3']\n",
    "\n",
    "for run in runs:\n",
    "    leiden_resolution=0.5\n",
    "    task='reference_query'\n",
    "    model_type='reference_query_mapping'\n",
    "    job_folder_path = f\"../scripts/{task}/slurm_jobs\"\n",
    "    script_folder_path=f\"/lustre/groups/imm01/workspace/irene.bonafonte/Projects/2023May_nichecompass/nichecompass-reproducibility/scripts/{task}\"\n",
    "    submit_python_script(\n",
    "        job_name_prefix='cluster_latent',\n",
    "        job_id=run,\n",
    "        script_folder_path=script_folder_path,\n",
    "        job_folder_path=job_folder_path,\n",
    "        script_name='nsclc_visualize_and_cluster_models.py',\n",
    "        conda_env_name=conda_env_name,\n",
    "        p='gpu_p',\n",
    "        qos='gpu_normal',\n",
    "        cores='8',\n",
    "        mem='64',\n",
    "        t=\"24:00:00\",\n",
    "        script_args=f' --model_type {model_type}' \\\n",
    "                    f' --suffix {run}' \\\n",
    "                    f' --cluster' \\\n",
    "                    f' --leiden_resolution {leiden_resolution}' \\\n",
    "    )"
   ]
  },
  {
   "cell_type": "markdown",
   "id": "7d9c3051-90e9-4cb9-a6bc-2369c729546c",
   "metadata": {},
   "source": [
    "#### 5.3.4 query mapping\n",
    "run one per timestamp, re-name manually, run second one"
   ]
  },
  {
   "cell_type": "code",
   "execution_count": 4,
   "id": "05d1fd47-859e-4e54-8a2d-dc18da4f6a8b",
   "metadata": {},
   "outputs": [],
   "source": [
    "dataset = \"nanostring_cosmx_human_nsclc\"\n",
    "task = \"reference_query\"\n",
    "job_name_prefix = f\"{dataset}_nichecompass_{task}\"\n",
    "job_folder_path = f\"../scripts/{task}/slurm_jobs\"\n",
    "script_folder_path = f\"/lustre/groups/imm01/workspace/irene.bonafonte/Projects/2023May_nichecompass/nichecompass-reproducibility/scripts/{task}\"\n",
    "script_name = \"map_query_on_nichecompass_reference_model.py\"\n",
    "\n",
    "jobs = [\n",
    "    # job_id timestamp              query   l1m l1a l_edge l_gex\n",
    "    ['27_3', '06102023_173136_27', 'batch3', 0, 0, 50000000, 30000],  ['27_4', '06102023_173136_27', 'batch4', 0, 0, 50000000, 30000],\n",
    "    ['28_3', '06102023_193135_28', 'batch3', 0, 0, 50000000, 30000], ['28_8', '06102023_193135_28', 'batch8', 0, 0, 50000000, 30000]  \n",
    "]"
   ]
  },
  {
   "cell_type": "code",
   "execution_count": null,
   "id": "755b3d72-a4ca-47da-a819-b401dd32fdc3",
   "metadata": {},
   "outputs": [],
   "source": [
    "# no contrastive, decrease kl\n",
    "job_id = 41\n",
    "reference_batches = \"batch1 batch2 batch3 batch4 batch5 batch6 batch7 batch8\" \n",
    "cat_covariates_embeds_nums = \"3 30 5\" # \"3 30 15\"\n",
    "contrastive_logits_pos_ratio = 0. # 0 0.0078125 (4) 0.015625 (8) 0.03125 (16)\n",
    "lambda_cat_covariates_contrastive = 0.\n",
    "lambda_l1_masked = 0. # 0 100\n",
    "lambda_l1_addon = 1000. # 0 100 1000\n",
    "active_gp_thresh_ratio = 0.03 # 0.01\n",
    "# decrease weight of KL divergence in the loss\n",
    "lambda_edge_recon = 50000000.\n",
    "lambda_gene_expr_recon = 30000.\n",
    "\n",
    "# no contrastive, decrease kl\n",
    "job_id = 44\n",
    "reference_batches = \"batch1 batch2 batch3 batch4 batch5 batch6 batch7 batch8\" \n",
    "cat_covariates_embeds_nums = \"3 30 5\" # \"3 30 15\"\n",
    "contrastive_logits_pos_ratio = 0. # 0 0.0078125 (4) 0.015625 (8) 0.03125 (16)\n",
    "lambda_cat_covariates_contrastive = 0.\n",
    "lambda_l1_masked = 0. # 0 100\n",
    "lambda_l1_addon = 100. # 0 100 1000\n",
    "active_gp_thresh_ratio = 0.03 # 0.01\n",
    "# decrease weight of KL divergence in the loss\n",
    "lambda_edge_recon = 50000000.\n",
    "lambda_gene_expr_recon = 30000.\n",
    "\n",
    "# no contrastive, decrease kl\n",
    "job_id = 47\n",
    "reference_batches = \"batch1 batch2 batch3 batch4 batch5 batch6 batch7 batch8\" \n",
    "cat_covariates_embeds_nums = \"3 30 5\" # \"3 30 15\"\n",
    "contrastive_logits_pos_ratio = 0. # 0 0.0078125 (4) 0.015625 (8) 0.03125 (16)\n",
    "lambda_cat_covariates_contrastive = 0.\n",
    "lambda_l1_masked = 50. # 0 100\n",
    "lambda_l1_addon = 500. # 0 100 1000\n",
    "active_gp_thresh_ratio = 0.03 # 0.01\n",
    "# decrease weight of KL divergence in the loss\n",
    "lambda_edge_recon = 50000000.\n",
    "lambda_gene_expr_recon = 30000."
   ]
  },
  {
   "cell_type": "code",
   "execution_count": 10,
   "id": "58255107-ce5b-428a-b816-aa792fcf6f6d",
   "metadata": {},
   "outputs": [],
   "source": [
    "dataset = \"nanostring_cosmx_human_nsclc\"\n",
    "task = \"reference_query\"\n",
    "job_name_prefix = f\"{dataset}_nichecompass_{task}\"\n",
    "job_folder_path = f\"../scripts/{task}/slurm_jobs\"\n",
    "script_folder_path = f\"/lustre/groups/imm01/workspace/irene.bonafonte/Projects/2023May_nichecompass/nichecompass-reproducibility/scripts/{task}\"\n",
    "script_name = \"map_query_on_nichecompass_reference_model.py\"\n",
    "\n",
    "jobs = [\n",
    "    # job_id timestamp              query   l1m l1a l_edge l_gex\n",
    "    ['42_3', '19102023_172844_42', 'batch3', 0, 1000, 50000000, 30000],  ['42_4', '19102023_172844_42', 'batch4', 0, 1000, 50000000, 30000],\n",
    "    ['43_3', '19102023_172844_43', 'batch3', 0, 1000, 50000000, 30000],  ['43_8', '19102023_172844_43', 'batch8', 0, 1000, 50000000, 30000],    \n",
    "    ['45_3', '19102023_180839_45', 'batch3', 0, 100, 50000000, 30000], ['45_4', '19102023_180839_45', 'batch4', 0, 100, 50000000, 30000],\n",
    "    ['46_3', '19102023_184159_46', 'batch3', 0, 100, 50000000, 30000], ['46_8', '19102023_184159_46', 'batch8', 0, 100, 50000000, 30000],    \n",
    "    ['48_3', '19102023_172905_48', 'batch3', 50, 500, 50000000, 30000], ['48_4', '19102023_172905_48', 'batch4', 50, 500, 50000000, 30000],\n",
    "    ['49_3', '19102023_172905_49', 'batch3', 50, 500, 50000000, 30000], ['49_8', '19102023_172905_49', 'batch8', 50, 500, 50000000, 30000]    \n",
    "]"
   ]
  },
  {
   "cell_type": "code",
   "execution_count": 11,
   "id": "971fde70-5403-4243-ac9c-c0ba5b525169",
   "metadata": {},
   "outputs": [
    {
     "name": "stdout",
     "output_type": "stream",
     "text": [
      "Submitted batch job 14022892\n",
      "Submitted batch job 14022893\n",
      "Submitted batch job 14022894\n",
      "Submitted batch job 14022895\n",
      "Submitted batch job 14022896\n",
      "Submitted batch job 14022897\n",
      "Submitted batch job 14022898\n",
      "Submitted batch job 14022899\n",
      "Submitted batch job 14022900\n",
      "Submitted batch job 14022901\n",
      "Submitted batch job 14022902\n",
      "Submitted batch job 14022903\n"
     ]
    }
   ],
   "source": [
    "for job in jobs:\n",
    "    job_name_prefix = f\"{dataset}_nichecompass_{task}\"\n",
    "    job_folder_path = f\"../scripts/{task}/slurm_jobs\"\n",
    "    script_folder_path = f\"/lustre/groups/imm01/workspace/irene.bonafonte/Projects/2023May_nichecompass/nichecompass-reproducibility/scripts/{task}\"\n",
    "    script_name = \"map_query_on_nichecompass_reference_model.py\"\n",
    "    script_args = f\" --dataset {dataset}\" \\\n",
    "                  f\" --query_batches {job[2]}\" \\\n",
    "                  f\" --n_neighbors 4\" \\\n",
    "                  \" --spatial_key spatial\" \\\n",
    "                  \" --mapping_entity_key mapping_entity\" \\\n",
    "                  \" --gp_names_key nichecompass_gp_names\" \\\n",
    "                  f\" --reference_model_label reference\" \\\n",
    "                  f\" --load_timestamp {job[1]}\" \\\n",
    "                  f\" --query_model_label query\" \\\n",
    "                  f\" --reference_query_model_label reference_query_mapping\" \\\n",
    "                  \" --n_epochs 400\" \\\n",
    "                  \" --n_epochs_all_gps 25\" \\\n",
    "                  \" --n_epochs_no_cat_covariates_contrastive 0\" \\\n",
    "                  \" --lr 0.001\" \\\n",
    "                  f\" --lambda_edge_recon {job[5]}\" \\\n",
    "                  f\" --lambda_gene_expr_recon {job[6]}\" \\\n",
    "                  f\" --lambda_cat_covariates_contrastive 0.\" \\\n",
    "                  f\" --contrastive_logits_pos_ratio 0.\" \\\n",
    "                  f\" --contrastive_logits_neg_ratio 0.\" \\\n",
    "                  \" --lambda_group_lasso 0.\" \\\n",
    "                  f\" --lambda_l1_masked {job[3]}\" \\\n",
    "                  f\" --edge_batch_size 512\" \\\n",
    "                  \" --node_batch_size 256\" \\\n",
    "                  f\" --n_sampled_neighbors 4\" \\\n",
    "\n",
    "    submit_python_script(\n",
    "            job_name_prefix=job_name_prefix,\n",
    "            job_id=job[0],\n",
    "            job_folder_path=job_folder_path,\n",
    "            conda_env_name=conda_env_name,\n",
    "            script_folder_path=script_folder_path,\n",
    "            script_name=script_name,\n",
    "            script_args=script_args,\n",
    "            cores='8',\n",
    "            mem='128',\n",
    "            t=\"24:00:00\"\n",
    "    )"
   ]
  },
  {
   "cell_type": "code",
   "execution_count": null,
   "id": "82bc2329-794d-4021-a351-93dfd4902e6c",
   "metadata": {},
   "outputs": [],
   "source": [
    "# 27 5 & 6, 28 5 & 13, 29 5 & 6, 30 5 & 13"
   ]
  },
  {
   "cell_type": "code",
   "execution_count": null,
   "id": "fad9ec1b-55e4-4f3b-8794-c5c8a4f3619b",
   "metadata": {},
   "outputs": [],
   "source": [
    "# no contrastive, -5r3 - 6\n",
    "job_id = 29\n",
    "reference_batches = \"batch1 batch2 batch5 batch6 batch7 batch8\" \n",
    "cat_covariates_embeds_nums = \"3 30 5\" # \"3 30 15\"\n",
    "contrastive_logits_pos_ratio = 0. # 0 0.0078125 (4) 0.015625 (8) 0.03125 (16)\n",
    "lambda_cat_covariates_contrastive = 0.\n",
    "lambda_l1_masked = 0. # 0 100\n",
    "lambda_l1_addon = 1000. # 0 100 1000\n",
    "active_gp_thresh_ratio = 0.03 # 0.01\n",
    "# decrease weight of KL divergence in the loss\n",
    "lambda_edge_recon = 50000000.\n",
    "lambda_gene_expr_recon = 30000."
   ]
  },
  {
   "cell_type": "code",
   "execution_count": null,
   "id": "b5058f35-1ef8-4397-aacd-3066454c24b3",
   "metadata": {},
   "outputs": [],
   "source": [
    "cat_covariates_keys = \"batch fov patient\"\n",
    "species = \"human\"\n",
    "node_label_method = \"one-hop-norm\"\n",
    "n_neighbors = 4\n",
    "n_sampled_neighbors = 4\n",
    "edge_batch_size = 512\n",
    "cat_covariates_embeds_injection = \"gene_expr_decoder\" # \"encoder gene_expr_decoder\"\n",
    "cat_covariates_no_edges = \"True False True\"\n",
    "contrastive_logits_neg_ratio = 0.\n",
    "\n",
    "script_args = f\" --dataset {dataset}\" \\\n",
    "              f\" --reference_batches {reference_batches}\" \\\n",
    "              f\" --n_neighbors {n_neighbors}\" \\\n",
    "              \" --no-filter_genes\" \\\n",
    "              \" --nichenet_keep_target_genes_ratio 1.0\" \\\n",
    "              \" --nichenet_max_n_target_genes_per_gp 250\" \\\n",
    "              \" --include_mebocost_gps\" \\\n",
    "              f\" --species {species}\" \\\n",
    "              \" --gp_filter_mode subset\" \\\n",
    "              \" --combine_overlap_gps\" \\\n",
    "              \" --overlap_thresh_source_genes 0.9\" \\\n",
    "              \" --overlap_thresh_target_genes 0.9\" \\\n",
    "              \" --overlap_thresh_genes 0.9\" \\\n",
    "              \" --counts_key counts\" \\\n",
    "              f\" --cat_covariates_keys {cat_covariates_keys}\" \\\n",
    "              f\" --cat_covariates_no_edges {cat_covariates_no_edges}\" \\\n",
    "              \" --spatial_key spatial\" \\\n",
    "              \" --adj_key spatial_connectivities\" \\\n",
    "              \" --mapping_entity_key mapping_entity\" \\\n",
    "              \" --gp_targets_mask_key nichecompass_gp_targets\" \\\n",
    "              \" --gp_sources_mask_key nichecompass_gp_sources\" \\\n",
    "              \" --gp_names_key nichecompass_gp_names\" \\\n",
    "              f\" --model_label {task}\" \\\n",
    "              \" --active_gp_names_key nichecompass_active_gp_names\" \\\n",
    "              \" --latent_key nichecompass_latent\" \\\n",
    "              \" --n_addon_gp 100\" \\\n",
    "              f\" --active_gp_thresh_ratio {active_gp_thresh_ratio}\" \\\n",
    "              \" --gene_expr_recon_dist nb\" \\\n",
    "              f\" --cat_covariates_embeds_injection {cat_covariates_embeds_injection}\" \\\n",
    "              f\" --cat_covariates_embeds_nums {cat_covariates_embeds_nums}\" \\\n",
    "              \" --log_variational\" \\\n",
    "              f\" --node_label_method {node_label_method}\" \\\n",
    "              \" --n_layers_encoder 1\" \\\n",
    "              \" --n_hidden_encoder 960\" \\\n",
    "              \" --conv_layer_encoder gatv2conv\" \\\n",
    "              \" --n_epochs 400\" \\\n",
    "              \" --n_epochs_all_gps 25\" \\\n",
    "              \" --n_epochs_no_cat_covariates_contrastive 0\" \\\n",
    "              \" --lr 0.001\" \\\n",
    "              f\" --lambda_edge_recon {lambda_edge_recon}\" \\\n",
    "              f\" --lambda_gene_expr_recon {lambda_gene_expr_recon}\" \\\n",
    "              f\" --lambda_cat_covariates_contrastive {lambda_cat_covariates_contrastive}\" \\\n",
    "              f\" --contrastive_logits_pos_ratio {contrastive_logits_pos_ratio}\" \\\n",
    "              f\" --contrastive_logits_neg_ratio {contrastive_logits_neg_ratio}\" \\\n",
    "              \" --lambda_group_lasso 0.\" \\\n",
    "              f\" --lambda_l1_masked {lambda_l1_masked}\" \\\n",
    "              f\" --lambda_l1_addon {lambda_l1_masked}\" \\\n",
    "              f\" --edge_batch_size {edge_batch_size}\" \\\n",
    "              \" --node_batch_size 256\" \\\n",
    "              f\" --n_sampled_neighbors {n_sampled_neighbors}\" \\\n",
    "              f\" --timestamp_suffix _{job_id}\""
   ]
  },
  {
   "cell_type": "markdown",
   "id": "09b70aea-8e7b-4407-8478-7aee6a8d9fcd",
   "metadata": {},
   "source": [
    "#### 5.3.4 GP test\n"
   ]
  },
  {
   "cell_type": "code",
   "execution_count": 7,
   "id": "ba68cff6-134e-43ba-931e-42ea368bbf3d",
   "metadata": {},
   "outputs": [
    {
     "name": "stdout",
     "output_type": "stream",
     "text": [
      "Submitted batch job 14126041\n"
     ]
    }
   ],
   "source": [
    "runs=['43']\n",
    "leidens=[0.35]\n",
    "\n",
    "for run, leiden in zip(runs, leidens):\n",
    "    task='reference'\n",
    "    model_type='reference'\n",
    "    job_folder_path = f\"../scripts/{task}/slurm_jobs\"\n",
    "    script_folder_path=f\"/lustre/groups/imm01/workspace/irene.bonafonte/Projects/2023May_nichecompass/nichecompass-reproducibility/scripts/{task}\"\n",
    "    submit_python_script(\n",
    "        job_name_prefix='gp_test',\n",
    "        job_id=run,\n",
    "        script_folder_path=script_folder_path,\n",
    "        job_folder_path=job_folder_path,\n",
    "        script_name='differential_gp.py',\n",
    "        conda_env_name=conda_env_name,\n",
    "        p='gpu_p',\n",
    "        qos='gpu_normal',\n",
    "        cores='8',\n",
    "        mem='64',\n",
    "        t=\"48:00:00\",\n",
    "        script_args=f' --model_type {model_type}' \\\n",
    "                    f' --suffix {run}' \\\n",
    "                    f' --leiden_resolution {leiden}' \\\n",
    "    )"
   ]
  },
  {
   "cell_type": "code",
   "execution_count": 9,
   "id": "f23ef331-1708-47b9-aeef-47182c50bcb3",
   "metadata": {},
   "outputs": [
    {
     "name": "stdout",
     "output_type": "stream",
     "text": [
      "Submitted batch job 14126201\n"
     ]
    }
   ],
   "source": [
    "runs=['43_3','43_8', '49_3','49_8']\n",
    "leidens=[0.35,0.5,0.4,0.4]\n",
    "\n",
    "runs=['43_8']\n",
    "leidens=[0.5]\n",
    "\n",
    "for run, leiden in zip(runs, leidens):\n",
    "    task='reference_query'\n",
    "    model_type='reference_query_mapping'\n",
    "    job_folder_path = f\"../scripts/{task}/slurm_jobs\"\n",
    "    script_folder_path=f\"/lustre/groups/imm01/workspace/irene.bonafonte/Projects/2023May_nichecompass/nichecompass-reproducibility/scripts/{task}\"\n",
    "    submit_python_script(\n",
    "        job_name_prefix='gp_test',\n",
    "        job_id=run,\n",
    "        script_folder_path=script_folder_path,\n",
    "        job_folder_path=job_folder_path,\n",
    "        script_name='differential_gp.py',\n",
    "        conda_env_name=conda_env_name,\n",
    "        p='gpu_p',\n",
    "        qos='gpu_normal',\n",
    "        cores='8',\n",
    "        mem='64',\n",
    "        t=\"48:00:00\",\n",
    "        script_args=f' --model_type {model_type}' \\\n",
    "                    f' --suffix {run}' \\\n",
    "                    f' --leiden_resolution {leiden}' \\\n",
    "    )"
   ]
  },
  {
   "cell_type": "code",
   "execution_count": null,
   "id": "675e107e-3df9-4c06-b516-9aa8299f356a",
   "metadata": {},
   "outputs": [],
   "source": []
  }
 ],
 "metadata": {
  "kernelspec": {
   "display_name": "Python 3 (ipykernel)",
   "language": "python",
   "name": "python3"
  },
  "language_info": {
   "codemirror_mode": {
    "name": "ipython",
    "version": 3
   },
   "file_extension": ".py",
   "mimetype": "text/x-python",
   "name": "python",
   "nbconvert_exporter": "python",
   "pygments_lexer": "ipython3",
   "version": "3.9.18"
  }
 },
 "nbformat": 4,
 "nbformat_minor": 5
}
