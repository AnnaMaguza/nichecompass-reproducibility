{
 "cells": [
  {
   "cell_type": "markdown",
   "id": "9ccd0531-bc7a-4384-9ffc-e4131f16025c",
   "metadata": {},
   "source": [
    "# Slurm Job Submission"
   ]
  },
  {
   "cell_type": "markdown",
   "id": "d4448290-48cf-4a56-b9a3-0290d6345360",
   "metadata": {},
   "source": [
    "- **Creator**: Sebastian Birk (<sebastian.birk@helmholtz-munich.de>).\n",
    "- **Affiliation:** Helmholtz Munich, Institute of Computational Biology (ICB), Talavera-López Lab\n",
    "- **Date of Creation:** 20.03.2023\n",
    "- **Date of Last Modification:** 05.09.2023"
   ]
  },
  {
   "cell_type": "markdown",
   "id": "a6ceaea6-79f1-4f03-9a23-d0f958a5066b",
   "metadata": {},
   "source": [
    "## 1. Setup"
   ]
  },
  {
   "cell_type": "markdown",
   "id": "2b7dfb6a-b438-44d7-8130-5893fd7c914e",
   "metadata": {},
   "source": [
    "### 1.1 Import Libraries"
   ]
  },
  {
   "cell_type": "code",
   "execution_count": 1,
   "id": "a5e1a586-a535-4262-a5f3-6e29c211e4b1",
   "metadata": {},
   "outputs": [],
   "source": [
    "import numpy as np\n",
    "import os"
   ]
  },
  {
   "cell_type": "markdown",
   "id": "70fa7d24-fae3-4180-9fc6-6facf79c2874",
   "metadata": {},
   "source": [
    "### 1.2 Define Parameters"
   ]
  },
  {
   "cell_type": "code",
   "execution_count": 2,
   "id": "c3714882-2917-400f-aefd-ef3d5d850aa1",
   "metadata": {},
   "outputs": [],
   "source": [
    "conda_env_name = \"nichecompass\"\n",
    "reproducibility_conda_env_name = \"nichecompass-reproducibility\""
   ]
  },
  {
   "cell_type": "markdown",
   "id": "2bb57dfc-31f5-4e74-b9b7-f13d9c6fdac0",
   "metadata": {},
   "source": [
    "### 1.3 Define Functions"
   ]
  },
  {
   "cell_type": "code",
   "execution_count": 3,
   "id": "03a6acd1-b9c1-4be1-827a-6cdb8a426ebf",
   "metadata": {},
   "outputs": [],
   "source": [
    "def submit_python_script(\n",
    "        job_name_prefix,\n",
    "        job_id,\n",
    "        job_folder_path,\n",
    "        conda_env_name,\n",
    "        script_folder_path,\n",
    "        script_name,\n",
    "        script_args,\n",
    "        t=\"24:00:00\",\n",
    "        p=\"gpu_p\",\n",
    "        gres=\"gpu:1\",\n",
    "        qos=\"gpu_normal\",\n",
    "        nice=10000):\n",
    "    \n",
    "    job_name = f\"{job_id}_{job_name_prefix}\"\n",
    "    job_file_path = f\"{script_folder_path}/slurm_jobs/job_{job_name}.cmd\"\n",
    "    out_file_path = f\"logs/out_{job_name}.txt\"\n",
    "    err_file_path = f\"logs/err_{job_name}.txt\"\n",
    "    \n",
    "    os.makedirs(job_folder_path + \"/logs\", exist_ok=True)\n",
    "    \n",
    "    with open(job_file_path, \"w\") as handle:\n",
    "        handle.writelines(\"#!/bin/bash\\n\")\n",
    "        handle.writelines(f\"#SBATCH -J {job_name}\\n\")\n",
    "        handle.writelines(f\"#SBATCH -o {out_file_path}\\n\")\n",
    "        handle.writelines(f\"#SBATCH -e {err_file_path}\\n\")\n",
    "        handle.writelines(f\"#SBATCH -t {t}\\n\")\n",
    "        handle.writelines(f\"#SBATCH -p {p}\\n\")\n",
    "        handle.writelines(\"#SBATCH -c 6\\n\")\n",
    "        #handle.writelines(\"#SBATCH --exclude=supergpu02,supergpu03\\n\")\n",
    "        if \"gpu\" in p:\n",
    "            handle.writelines(f\"#SBATCH --gres={gres}\\n\")\n",
    "            handle.writelines(f\"#SBATCH --qos={qos}\\n\")       \n",
    "        handle.writelines(\"#SBATCH --mem=128G\\n\")\n",
    "        handle.writelines(f\"#SBATCH --nice={nice}\\n\")\n",
    "        handle.writelines(\"source $HOME/.bashrc\\n\")\n",
    "        handle.writelines(f\"conda activate {conda_env_name}\\n\")\n",
    "        handle.writelines(f\"cd {script_folder_path}\\n\")\n",
    "        handle.writelines(f\"python ../{script_name}\")\n",
    "        handle.writelines(f\"{script_args}\")\n",
    "        handle.writelines(\"\\n\")\n",
    "        \n",
    "    os.system(f\"sbatch {job_file_path}\")"
   ]
  },
  {
   "cell_type": "markdown",
   "id": "1e47e24d-ae4a-4a5b-90f6-4e522841aa27",
   "metadata": {},
   "source": [
    "## 5. NicheCompass Reference Model"
   ]
  },
  {
   "cell_type": "markdown",
   "id": "413c9cff-5e54-4e16-95b1-31179ceae348",
   "metadata": {},
   "source": [
    "### 5.3 nanoString CosMx SMI Human Non-Small-Cell Lung Cancer (NSCLC)"
   ]
  },
  {
   "cell_type": "code",
   "execution_count": null,
   "id": "c5a19419-dc35-4d53-af4a-c4321a76fa0d",
   "metadata": {},
   "outputs": [],
   "source": [
    "job_id = 1\n",
    "cat_covariates_embeds_nums = \"3 30 5\" # \"3 30 15\"\n",
    "contrastive_logits_pos_ratio = 0. # 0 0.0078125 (4) 0.015625 (8) 0.03125 (16)\n",
    "lambda_cat_covariates_contrastive = 0.\n",
    "lambda_l1_masked = 0. # 0 100\n",
    "lambda_l1_addon = 1000. # 0 100 1000\n",
    "active_gp_thresh_ratio = 0.03 # 0.01"
   ]
  },
  {
   "cell_type": "code",
   "execution_count": null,
   "id": "64979bcd-e215-4bfe-b945-1e3159b68450",
   "metadata": {},
   "outputs": [],
   "source": [
    "job_id = 3\n",
    "cat_covariates_embeds_nums = \"3 30 5\" # \"3 30 15\"\n",
    "contrastive_logits_pos_ratio = 0. # 0 0.0078125 (4) 0.015625 (8) 0.03125 (16)\n",
    "lambda_cat_covariates_contrastive = 0.\n",
    "lambda_l1_masked = 100. # 0 100\n",
    "lambda_l1_addon = 1000. # 0 100 1000\n",
    "active_gp_thresh_ratio = 0.03 # 0.01"
   ]
  },
  {
   "cell_type": "code",
   "execution_count": null,
   "id": "e686f788-8699-4e37-9c62-6825c20713db",
   "metadata": {},
   "outputs": [],
   "source": [
    "job_id = 5\n",
    "cat_covariates_embeds_nums = \"3 30 5\" # \"3 30 15\"\n",
    "contrastive_logits_pos_ratio = 0.0078125 # 0 0.0078125 (4) 0.015625 (8) 0.03125 (16)\n",
    "lambda_cat_covariates_contrastive = 1000000.\n",
    "lambda_l1_masked = 0. # 0 100\n",
    "lambda_l1_addon = 1000. # 0 100 1000\n",
    "active_gp_thresh_ratio = 0.03 # 0.01"
   ]
  },
  {
   "cell_type": "code",
   "execution_count": null,
   "id": "5aa6242e-dc8a-47a0-9258-4808e4de0b23",
   "metadata": {},
   "outputs": [],
   "source": [
    "job_id = 7\n",
    "cat_covariates_embeds_nums = \"3 30 5\" # \"3 30 15\"\n",
    "contrastive_logits_pos_ratio = 0.0078125 # 0 0.0078125 (4) 0.015625 (8) 0.03125 (16)\n",
    "lambda_cat_covariates_contrastive = 1000000.\n",
    "lambda_l1_masked = 100. # 0 100\n",
    "lambda_l1_addon = 1000. # 0 100 1000\n",
    "active_gp_thresh_ratio = 0.03 # 0.01"
   ]
  },
  {
   "cell_type": "code",
   "execution_count": null,
   "id": "fd29cab3-dc0b-4e97-bdfa-ab8c42d75d64",
   "metadata": {},
   "outputs": [],
   "source": [
    "job_id = 9\n",
    "cat_covariates_embeds_nums = \"3 30 5\" # \"3 30 15\"\n",
    "contrastive_logits_pos_ratio = 0.015625 # 0 0.0078125 (4) 0.015625 (8) 0.03125 (16)\n",
    "lambda_cat_covariates_contrastive = 1000000.\n",
    "lambda_l1_masked = 100. # 0 100\n",
    "lambda_l1_addon = 1000. # 0 100 1000\n",
    "active_gp_thresh_ratio = 0.03 # 0.01"
   ]
  },
  {
   "cell_type": "code",
   "execution_count": null,
   "id": "212bfd6a-c4d9-4b28-83b1-8ca9aee70bfd",
   "metadata": {},
   "outputs": [],
   "source": [
    "job_id = 11\n",
    "cat_covariates_embeds_nums = \"3 30 5\" # \"3 30 15\"\n",
    "contrastive_logits_pos_ratio = 0.015625 # 0 0.0078125 (4) 0.015625 (8) 0.03125 (16)\n",
    "lambda_cat_covariates_contrastive = 500000.\n",
    "lambda_l1_masked = 100. # 0 100\n",
    "lambda_l1_addon = 1000. # 0 100 1000\n",
    "active_gp_thresh_ratio = 0.03 # 0.01"
   ]
  },
  {
   "cell_type": "code",
   "execution_count": null,
   "id": "0b0242d2-33f9-45e6-8efa-8edde57a9da2",
   "metadata": {},
   "outputs": [],
   "source": [
    "job_id = 14\n",
    "cat_covariates_embeds_nums = \"3 30 5\" # \"3 30 15\"\n",
    "contrastive_logits_pos_ratio = 0.03125 # 0 0.0078125 (4) 0.015625 (8) 0.03125 (16)\n",
    "lambda_cat_covariates_contrastive = 500000.\n",
    "lambda_l1_masked = 100. # 0 100\n",
    "lambda_l1_addon = 1000. # 0 100 1000\n",
    "active_gp_thresh_ratio = 0.03 # 0.01"
   ]
  },
  {
   "cell_type": "code",
   "execution_count": null,
   "id": "b79f9c5c-8853-4927-bd75-2fe73b2a39c6",
   "metadata": {},
   "outputs": [],
   "source": [
    "job_id = 16\n",
    "cat_covariates_embeds_nums = \"3 30 5\" # \"3 30 15\"\n",
    "contrastive_logits_pos_ratio = 0.015625 # 0 0.0078125 (4) 0.015625 (8) 0.03125 (16)\n",
    "lambda_cat_covariates_contrastive = 100000.\n",
    "lambda_l1_masked = 100. # 0 100\n",
    "lambda_l1_addon = 1000. # 0 100 1000\n",
    "active_gp_thresh_ratio = 0.03 # 0.01"
   ]
  },
  {
   "cell_type": "code",
   "execution_count": null,
   "id": "543c9749-b548-4aa3-89ef-d9bf8b2be43e",
   "metadata": {},
   "outputs": [],
   "source": [
    "job_id = 18\n",
    "cat_covariates_embeds_nums = \"3 30 15\" # \"3 30 15\"\n",
    "contrastive_logits_pos_ratio = 0.015625 # 0 0.0078125 (4) 0.015625 (8) 0.03125 (16)\n",
    "lambda_cat_covariates_contrastive = 1000000.\n",
    "lambda_l1_masked = 100. # 0 100\n",
    "lambda_l1_addon = 1000. # 0 100 1000\n",
    "active_gp_thresh_ratio = 0.03 # 0.01"
   ]
  },
  {
   "cell_type": "code",
   "execution_count": null,
   "id": "b1fd924d-ab46-4a65-bf5c-2981d76b6645",
   "metadata": {},
   "outputs": [],
   "source": [
    "job_id = 20\n",
    "cat_covariates_embeds_nums = \"3 30 5\" # \"3 30 15\"\n",
    "contrastive_logits_pos_ratio = 0.015625 # 0 0.0078125 (4) 0.015625 (8) 0.03125 (16)\n",
    "lambda_cat_covariates_contrastive = 1000000.\n",
    "lambda_l1_masked = 100. # 0 100\n",
    "lambda_l1_addon = 1000. # 0 100 1000\n",
    "active_gp_thresh_ratio = 0.1 # 0.01"
   ]
  },
  {
   "cell_type": "code",
   "execution_count": 4,
   "id": "7eba4a3d-ebf8-440b-bfcc-cadafe66e172",
   "metadata": {},
   "outputs": [],
   "source": [
    "# no contrastive, highger covar embedding node\n",
    "job_id = 21\n",
    "reference_batches = \"batch1 batch2 batch3 batch4 batch5 batch6 batch7 batch8\" \n",
    "cat_covariates_embeds_nums = \"3 30 15\" # \"3 30 15\"\n",
    "contrastive_logits_pos_ratio = 0. # 0 0.0078125 (4) 0.015625 (8) 0.03125 (16)\n",
    "lambda_cat_covariates_contrastive = 0.\n",
    "lambda_l1_masked = 0. # 0 100\n",
    "lambda_l1_addon = 1000. # 0 100 1000\n",
    "active_gp_thresh_ratio = 0.03 # 0.01\n",
    "lambda_edge_recon = 5000000.\n",
    "lambda_gene_expr_recon = 3000."
   ]
  },
  {
   "cell_type": "code",
   "execution_count": 6,
   "id": "de5fd04d-71e2-4b2b-9490-addfebfeb814",
   "metadata": {},
   "outputs": [],
   "source": [
    "# no contrastive, highger covar embedding node\n",
    "job_id = 22\n",
    "reference_batches = \"batch1 batch2 batch3 batch4 batch5 batch6 batch7 batch8\" \n",
    "cat_covariates_embeds_nums = \"3 30 30\" # \"3 30 15\"\n",
    "contrastive_logits_pos_ratio = 0. # 0 0.0078125 (4) 0.015625 (8) 0.03125 (16)\n",
    "lambda_cat_covariates_contrastive = 0.\n",
    "lambda_l1_masked = 0. # 0 100\n",
    "lambda_l1_addon = 1000. # 0 100 1000\n",
    "active_gp_thresh_ratio = 0.03 # 0.01\n",
    "lambda_edge_recon = 5000000.\n",
    "lambda_gene_expr_recon = 3000."
   ]
  },
  {
   "cell_type": "code",
   "execution_count": 8,
   "id": "934e6f3e-6a16-4483-a457-81fefaa5caeb",
   "metadata": {},
   "outputs": [],
   "source": [
    "# no contrastive, decrease kl\n",
    "job_id = 23\n",
    "reference_batches = \"batch1 batch2 batch3 batch4 batch5 batch6 batch7 batch8\" \n",
    "cat_covariates_embeds_nums = \"3 30 5\" # \"3 30 15\"\n",
    "contrastive_logits_pos_ratio = 0. # 0 0.0078125 (4) 0.015625 (8) 0.03125 (16)\n",
    "lambda_cat_covariates_contrastive = 0.\n",
    "lambda_l1_masked = 0. # 0 100\n",
    "lambda_l1_addon = 1000. # 0 100 1000\n",
    "active_gp_thresh_ratio = 0.03 # 0.01\n",
    "# decrease weight of KL divergence in the loss\n",
    "lambda_edge_recon = 25000000.\n",
    "lambda_gene_expr_recon = 15000."
   ]
  },
  {
   "cell_type": "code",
   "execution_count": 10,
   "id": "d259a250-15c3-435a-a0c1-a3a1d026eb6f",
   "metadata": {},
   "outputs": [],
   "source": [
    "# no contrastive, decrease kl\n",
    "job_id = 24\n",
    "reference_batches = \"batch1 batch2 batch3 batch4 batch5 batch6 batch7 batch8\" \n",
    "cat_covariates_embeds_nums = \"3 30 5\" # \"3 30 15\"\n",
    "contrastive_logits_pos_ratio = 0. # 0 0.0078125 (4) 0.015625 (8) 0.03125 (16)\n",
    "lambda_cat_covariates_contrastive = 0.\n",
    "lambda_l1_masked = 100. # 0 100\n",
    "lambda_l1_addon = 1000. # 0 100 1000\n",
    "active_gp_thresh_ratio = 0.03 # 0.01\n",
    "# decrease weight of KL divergence in the loss\n",
    "lambda_edge_recon = 25000000.\n",
    "lambda_gene_expr_recon = 15000."
   ]
  },
  {
   "cell_type": "code",
   "execution_count": 12,
   "id": "c44699dc-b93a-4f0e-9bdb-15be24c5b432",
   "metadata": {},
   "outputs": [],
   "source": [
    "# no contrastive, decrease kl\n",
    "job_id = 25\n",
    "reference_batches = \"batch1 batch2 batch3 batch4 batch5 batch6 batch7 batch8\" \n",
    "cat_covariates_embeds_nums = \"3 30 5\" # \"3 30 15\"\n",
    "contrastive_logits_pos_ratio = 0. # 0 0.0078125 (4) 0.015625 (8) 0.03125 (16)\n",
    "lambda_cat_covariates_contrastive = 0.\n",
    "lambda_l1_masked = 0. # 0 100\n",
    "lambda_l1_addon = 1000. # 0 100 1000\n",
    "active_gp_thresh_ratio = 0.03 # 0.01\n",
    "# decrease weight of KL divergence in the loss\n",
    "lambda_edge_recon = 50000000.\n",
    "lambda_gene_expr_recon = 30000."
   ]
  },
  {
   "cell_type": "code",
   "execution_count": 14,
   "id": "6d41807e-fd27-428a-a9ac-a23c4327a02f",
   "metadata": {},
   "outputs": [],
   "source": [
    "# no contrastive, decrease kl\n",
    "job_id = 26\n",
    "reference_batches = \"batch1 batch2 batch3 batch4 batch5 batch6 batch7 batch8\" \n",
    "cat_covariates_embeds_nums = \"3 30 5\" # \"3 30 15\"\n",
    "contrastive_logits_pos_ratio = 0. # 0 0.0078125 (4) 0.015625 (8) 0.03125 (16)\n",
    "lambda_cat_covariates_contrastive = 0.\n",
    "lambda_l1_masked = 100. # 0 100\n",
    "lambda_l1_addon = 1000. # 0 100 1000\n",
    "active_gp_thresh_ratio = 0.03 # 0.01\n",
    "# decrease weight of KL divergence in the loss\n",
    "lambda_edge_recon = 50000000.\n",
    "lambda_gene_expr_recon = 30000."
   ]
  },
  {
   "cell_type": "code",
   "execution_count": 16,
   "id": "07a6df9b-7f7b-46ea-9c7e-32e91511811d",
   "metadata": {},
   "outputs": [],
   "source": [
    "# no contrastive, decrease kl, -5r3 - 6\n",
    "job_id = 27\n",
    "reference_batches = \"batch1 batch2 batch5 batch6 batch7 batch8\" \n",
    "cat_covariates_embeds_nums = \"3 30 5\" # \"3 30 15\"\n",
    "contrastive_logits_pos_ratio = 0. # 0 0.0078125 (4) 0.015625 (8) 0.03125 (16)\n",
    "lambda_cat_covariates_contrastive = 0.\n",
    "lambda_l1_masked = 0. # 0 100\n",
    "lambda_l1_addon = 1000. # 0 100 1000\n",
    "active_gp_thresh_ratio = 0.03 # 0.01\n",
    "# decrease weight of KL divergence in the loss\n",
    "lambda_edge_recon = 50000000.\n",
    "lambda_gene_expr_recon = 30000."
   ]
  },
  {
   "cell_type": "code",
   "execution_count": 18,
   "id": "55b9e52c-1c33-4097-9a90-d30dbb900dd3",
   "metadata": {},
   "outputs": [],
   "source": [
    "# no contrastive, -5r3 - 13, decrease kl\n",
    "job_id = 28\n",
    "reference_batches = \"batch1 batch2 batch4 batch5 batch6 batch7\" \n",
    "cat_covariates_embeds_nums = \"3 30 5\" # \"3 30 15\"\n",
    "contrastive_logits_pos_ratio = 0. # 0 0.0078125 (4) 0.015625 (8) 0.03125 (16)\n",
    "lambda_cat_covariates_contrastive = 0.\n",
    "lambda_l1_masked = 0. # 0 100\n",
    "lambda_l1_addon = 1000. # 0 100 1000\n",
    "active_gp_thresh_ratio = 0.03 # 0.01\n",
    "# decrease weight of KL divergence in the loss\n",
    "lambda_edge_recon = 50000000.\n",
    "lambda_gene_expr_recon = 30000."
   ]
  },
  {
   "cell_type": "code",
   "execution_count": null,
   "id": "ba2661b4-4880-4855-95ee-2833e571fb4d",
   "metadata": {},
   "outputs": [],
   "source": [
    "# no contrastive, -5r3 - 6\n",
    "job_id = 29\n",
    "reference_batches = \"batch1 batch2 batch5 batch6 batch7 batch8\" \n",
    "cat_covariates_embeds_nums = \"3 30 5\" # \"3 30 15\"\n",
    "contrastive_logits_pos_ratio = 0. # 0 0.0078125 (4) 0.015625 (8) 0.03125 (16)\n",
    "lambda_cat_covariates_contrastive = 0.\n",
    "lambda_l1_masked = 0. # 0 100\n",
    "lambda_l1_addon = 1000. # 0 100 1000\n",
    "active_gp_thresh_ratio = 0.03 # 0.01\n",
    "# decrease weight of KL divergence in the loss\n",
    "lambda_edge_recon = 50000000.\n",
    "lambda_gene_expr_recon = 30000."
   ]
  },
  {
   "cell_type": "code",
   "execution_count": null,
   "id": "9eae748b-e9f6-4832-b6a4-6a9637a89b75",
   "metadata": {},
   "outputs": [],
   "source": [
    "# no contrastive, -5r3 - 13\n",
    "job_id = 30\n",
    "reference_batches = \"batch1 batch2 batch4 batch5 batch6 batch7\" \n",
    "cat_covariates_embeds_nums = \"3 30 5\" # \"3 30 15\"\n",
    "contrastive_logits_pos_ratio = 0. # 0 0.0078125 (4) 0.015625 (8) 0.03125 (16)\n",
    "lambda_cat_covariates_contrastive = 0.\n",
    "lambda_l1_masked = 0. # 0 100\n",
    "lambda_l1_addon = 1000. # 0 100 1000\n",
    "active_gp_thresh_ratio = 0.03 # 0.01\n",
    "# decrease weight of KL divergence in the loss\n",
    "lambda_edge_recon = 5000000.\n",
    "lambda_gene_expr_recon = 3000."
   ]
  },
  {
   "cell_type": "code",
   "execution_count": 23,
   "id": "71d6724d-f065-44e7-9293-0e1acce99a72",
   "metadata": {},
   "outputs": [
    {
     "name": "stdout",
     "output_type": "stream",
     "text": [
      "Submitted batch job 13795722\n"
     ]
    }
   ],
   "source": [
    "dataset = \"nanostring_cosmx_human_nsclc\"\n",
    "task = \"reference\"\n",
    "job_name_prefix = f\"{dataset}_nichecompass_{task}\"\n",
    "job_folder_path = f\"../scripts/{task}/slurm_jobs\"\n",
    "script_folder_path = f\"/lustre/groups/imm01/workspace/irene.bonafonte/Projects/2023May_nichecompass/nichecompass-reproducibility/scripts/{task}\"\n",
    "script_name = \"train_nichecompass_reference_model.py\"\n",
    "\n",
    "\n",
    "# Hyperparameters\n",
    "# reference_batches = \"batch1 batch2 batch3 batch4 batch5 batch6 batch7 batch8\" \n",
    "cat_covariates_keys = \"batch fov patient\"\n",
    "species = \"human\"\n",
    "node_label_method = \"one-hop-norm\"\n",
    "n_neighbors = 4\n",
    "n_sampled_neighbors = 4\n",
    "edge_batch_size = 512\n",
    "cat_covariates_embeds_injection = \"gene_expr_decoder\" # \"encoder gene_expr_decoder\"\n",
    "cat_covariates_no_edges = \"True False True\"\n",
    "contrastive_logits_neg_ratio = 0.\n",
    "\n",
    "script_args = f\" --dataset {dataset}\" \\\n",
    "              f\" --reference_batches {reference_batches}\" \\\n",
    "              f\" --n_neighbors {n_neighbors}\" \\\n",
    "              \" --no-filter_genes\" \\\n",
    "              \" --nichenet_keep_target_genes_ratio 1.0\" \\\n",
    "              \" --nichenet_max_n_target_genes_per_gp 250\" \\\n",
    "              \" --include_mebocost_gps\" \\\n",
    "              f\" --species {species}\" \\\n",
    "              \" --gp_filter_mode subset\" \\\n",
    "              \" --combine_overlap_gps\" \\\n",
    "              \" --overlap_thresh_source_genes 0.9\" \\\n",
    "              \" --overlap_thresh_target_genes 0.9\" \\\n",
    "              \" --overlap_thresh_genes 0.9\" \\\n",
    "              \" --counts_key counts\" \\\n",
    "              f\" --cat_covariates_keys {cat_covariates_keys}\" \\\n",
    "              f\" --cat_covariates_no_edges {cat_covariates_no_edges}\" \\\n",
    "              \" --spatial_key spatial\" \\\n",
    "              \" --adj_key spatial_connectivities\" \\\n",
    "              \" --mapping_entity_key mapping_entity\" \\\n",
    "              \" --gp_targets_mask_key nichecompass_gp_targets\" \\\n",
    "              \" --gp_sources_mask_key nichecompass_gp_sources\" \\\n",
    "              \" --gp_names_key nichecompass_gp_names\" \\\n",
    "              f\" --model_label {task}\" \\\n",
    "              \" --active_gp_names_key nichecompass_active_gp_names\" \\\n",
    "              \" --latent_key nichecompass_latent\" \\\n",
    "              \" --n_addon_gp 100\" \\\n",
    "              f\" --active_gp_thresh_ratio {active_gp_thresh_ratio}\" \\\n",
    "              \" --gene_expr_recon_dist nb\" \\\n",
    "              f\" --cat_covariates_embeds_injection {cat_covariates_embeds_injection}\" \\\n",
    "              f\" --cat_covariates_embeds_nums {cat_covariates_embeds_nums}\" \\\n",
    "              \" --log_variational\" \\\n",
    "              f\" --node_label_method {node_label_method}\" \\\n",
    "              \" --n_layers_encoder 1\" \\\n",
    "              \" --n_hidden_encoder 960\" \\\n",
    "              \" --conv_layer_encoder gatv2conv\" \\\n",
    "              \" --n_epochs 400\" \\\n",
    "              \" --n_epochs_all_gps 25\" \\\n",
    "              \" --n_epochs_no_cat_covariates_contrastive 0\" \\\n",
    "              \" --lr 0.001\" \\\n",
    "              f\" --lambda_edge_recon {lambda_edge_recon}\" \\\n",
    "              f\" --lambda_gene_expr_recon {lambda_gene_expr_recon}\" \\\n",
    "              f\" --lambda_cat_covariates_contrastive {lambda_cat_covariates_contrastive}\" \\\n",
    "              f\" --contrastive_logits_pos_ratio {contrastive_logits_pos_ratio}\" \\\n",
    "              f\" --contrastive_logits_neg_ratio {contrastive_logits_neg_ratio}\" \\\n",
    "              \" --lambda_group_lasso 0.\" \\\n",
    "              f\" --lambda_l1_masked {lambda_l1_masked}\" \\\n",
    "              f\" --lambda_l1_addon {lambda_l1_masked}\" \\\n",
    "              f\" --edge_batch_size {edge_batch_size}\" \\\n",
    "              \" --node_batch_size 256\" \\\n",
    "              f\" --n_sampled_neighbors {n_sampled_neighbors}\" \\\n",
    "              f\" --timestamp_suffix _{job_id}\"\n",
    "\n",
    "submit_python_script(\n",
    "        job_name_prefix=job_name_prefix,\n",
    "        job_id=job_id,\n",
    "        job_folder_path=job_folder_path,\n",
    "        conda_env_name=conda_env_name,\n",
    "        script_folder_path=script_folder_path,\n",
    "        script_name=script_name,\n",
    "        script_args=script_args,\n",
    "        nice=10000)"
   ]
  },
  {
   "cell_type": "markdown",
   "id": "ab61fcaa-335f-4c98-aa15-0a1df4c2f717",
   "metadata": {},
   "source": [
    "## 6. NicheCompass Reference Query Mapping"
   ]
  },
  {
   "cell_type": "markdown",
   "id": "7d9c3051-90e9-4cb9-a6bc-2369c729546c",
   "metadata": {},
   "source": [
    "### 6.1 nanoString CosMx Human NSCLC"
   ]
  },
  {
   "cell_type": "code",
   "execution_count": null,
   "id": "b04ac9f7-747b-4ec8-acc0-f42d1b2bd9ff",
   "metadata": {},
   "outputs": [],
   "source": [
    "task = \"reference_query\"\n",
    "dataset = \"nanostring_cosmx_human_nsclc\"\n",
    "job_id = 11\n",
    "query_batches = \"batch8\"\n",
    "n_neighbors = 4\n",
    "n_sampled_neighbors = 4\n",
    "load_timestamp = \"05092023_101353_3\"  #\n",
    "lambda_cat_covariates_contrastive = 0.\n",
    "contrastive_logits_pos_ratio = 0.\n",
    "contrastive_logits_neg_ratio = 0.\n",
    "lambda_l1_masked = 0.\n",
    "edge_batch_size = 512\n",
    "\n",
    "job_name_prefix = f\"{dataset}_nichecompass_{task}_query_mapping\"\n",
    "job_folder_path = f\"../scripts/{task}/slurm_jobs\"\n",
    "script_folder_path = f\"/home/aih/sebastian.birk/workspace/projects/nichecompass-reproducibility/scripts/{task}\"\n",
    "script_name = \"map_query_on_nichecompass_reference_model.py\"\n",
    "script_args = f\" --dataset {dataset}\" \\\n",
    "              f\" --query_batches {query_batches}\" \\\n",
    "              f\" --n_neighbors {n_neighbors}\" \\\n",
    "              \" --spatial_key spatial\" \\\n",
    "              \" --mapping_entity_key mapping_entity\" \\\n",
    "              \" --gp_names_key nichecompass_gp_names\" \\\n",
    "              f\" --reference_model_label reference\" \\\n",
    "              f\" --load_timestamp {load_timestamp}\" \\\n",
    "              f\" --query_model_label query\" \\\n",
    "              f\" --reference_query_model_label reference_query_mapping\" \\\n",
    "              \" --n_epochs 400\" \\\n",
    "              \" --n_epochs_all_gps 25\" \\\n",
    "              \" --n_epochs_no_cat_covariates_contrastive 0\" \\\n",
    "              \" --lr 0.001\" \\\n",
    "              f\" --lambda_edge_recon {lambda_edge_recon}\" \\\n",
    "              f\" --lambda_gene_expr_recon {lambda_gene_expr_recon}\" \\\n",
    "              f\" --lambda_cat_covariates_contrastive {lambda_cat_covariates_contrastive}\" \\\n",
    "              f\" --contrastive_logits_pos_ratio {contrastive_logits_pos_ratio}\" \\\n",
    "              f\" --contrastive_logits_neg_ratio {contrastive_logits_neg_ratio}\" \\\n",
    "              \" --lambda_group_lasso 0.\" \\\n",
    "              f\" --lambda_l1_masked {lambda_l1_masked}\" \\\n",
    "              f\" --edge_batch_size {edge_batch_size}\" \\\n",
    "              \" --node_batch_size None\" \\\n",
    "              f\" --n_sampled_neighbors {n_sampled_neighbors}\" \\\n",
    "\n",
    "submit_python_script(\n",
    "        job_name_prefix=job_name_prefix,\n",
    "        job_id=job_id,\n",
    "        job_folder_path=job_folder_path,\n",
    "        conda_env_name=conda_env_name,\n",
    "        script_folder_path=script_folder_path,\n",
    "        script_name=script_name,\n",
    "        script_args=script_args)"
   ]
  }
 ],
 "metadata": {
  "kernelspec": {
   "display_name": "Python 3 (ipykernel)",
   "language": "python",
   "name": "python3"
  },
  "language_info": {
   "codemirror_mode": {
    "name": "ipython",
    "version": 3
   },
   "file_extension": ".py",
   "mimetype": "text/x-python",
   "name": "python",
   "nbconvert_exporter": "python",
   "pygments_lexer": "ipython3",
   "version": "3.9.18"
  }
 },
 "nbformat": 4,
 "nbformat_minor": 5
}
