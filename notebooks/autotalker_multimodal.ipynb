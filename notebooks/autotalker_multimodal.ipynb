{
 "cells": [
  {
   "cell_type": "code",
   "execution_count": 1,
   "id": "01360ce4-b3f1-4766-ae16-db4c327aa091",
   "metadata": {
    "tags": []
   },
   "outputs": [],
   "source": [
    "%load_ext autoreload\n",
    "%autoreload 2"
   ]
  },
  {
   "cell_type": "code",
   "execution_count": 2,
   "id": "8d74beea-c388-4e25-954b-626b4367f596",
   "metadata": {
    "tags": []
   },
   "outputs": [],
   "source": [
    "import sys\n",
    "sys.path.append(\"../../autotalker\")"
   ]
  },
  {
   "cell_type": "code",
   "execution_count": 3,
   "id": "4a4ceeba-ef09-4559-88e2-cbe464ecd1d7",
   "metadata": {
    "tags": []
   },
   "outputs": [
    {
     "name": "stderr",
     "output_type": "stream",
     "text": [
      "/home/cartalop/miniconda3/envs/autotalker_new/lib/python3.9/site-packages/omnipath/_core/query/_query_validator.py:165: ResourceWarning: unclosed <ssl.SSLSocket fd=52, family=AddressFamily.AF_INET, type=SocketKind.SOCK_STREAM, proto=6, laddr=('192.168.0.18', 57804), raddr=('178.62.7.222', 443)>\n",
      "  res = Downloader(opt).maybe_download(\n",
      "/home/cartalop/miniconda3/envs/autotalker_new/lib/python3.9/site-packages/omnipath/_core/query/_query_validator.py:165: ResourceWarning: unclosed <ssl.SSLSocket fd=52, family=AddressFamily.AF_INET, type=SocketKind.SOCK_STREAM, proto=6, laddr=('192.168.0.18', 57806), raddr=('178.62.7.222', 443)>\n",
      "  res = Downloader(opt).maybe_download(\n",
      "/home/cartalop/miniconda3/envs/autotalker_new/lib/python3.9/site-packages/omnipath/_core/query/_query_validator.py:165: ResourceWarning: unclosed <ssl.SSLSocket fd=52, family=AddressFamily.AF_INET, type=SocketKind.SOCK_STREAM, proto=6, laddr=('192.168.0.18', 57812), raddr=('178.62.7.222', 443)>\n",
      "  res = Downloader(opt).maybe_download(\n",
      "/home/cartalop/miniconda3/envs/autotalker_new/lib/python3.9/site-packages/omnipath/_core/query/_query_validator.py:165: ResourceWarning: unclosed <ssl.SSLSocket fd=52, family=AddressFamily.AF_INET, type=SocketKind.SOCK_STREAM, proto=6, laddr=('192.168.0.18', 57820), raddr=('178.62.7.222', 443)>\n",
      "  res = Downloader(opt).maybe_download(\n",
      "/home/cartalop/miniconda3/envs/autotalker_new/lib/python3.9/site-packages/omnipath/_core/downloader/_downloader.py:208: ResourceWarning: unclosed <ssl.SSLSocket fd=52, family=AddressFamily.AF_INET, type=SocketKind.SOCK_STREAM, proto=6, laddr=('192.168.0.18', 57838), raddr=('178.62.7.222', 443)>\n",
      "  return Downloader(opt).maybe_download(\n",
      "/home/cartalop/miniconda3/envs/autotalker_new/lib/python3.9/site-packages/umap/__init__.py:9: ImportWarning: Tensorflow not installed; ParametricUMAP will be unavailable\n",
      "  warn(\n"
     ]
    }
   ],
   "source": [
    "import os\n",
    "\n",
    "import anndata as ad\n",
    "import matplotlib.pyplot as plt\n",
    "import scanpy as sc\n",
    "import scib\n",
    "import squidpy as sq\n",
    "\n",
    "from autotalker.benchmarking import compute_clisis, compute_cas\n",
    "from autotalker.models import Autotalker\n",
    "from autotalker.utils import get_gene_annotations, generate_multimodal_pairing_dict, add_multimodal_mask_to_adata\n",
    "from autotalker.utils import (add_gps_from_gp_dict_to_adata,\n",
    "                              extract_gp_dict_from_mebocost_es_interactions,\n",
    "                              extract_gp_dict_from_nichenet_ligand_target_mx,\n",
    "                              extract_gp_dict_from_omnipath_lr_interactions,\n",
    "                              filter_and_combine_gp_dict_gps,\n",
    "                              get_unique_genes_from_gp_dict)"
   ]
  },
  {
   "cell_type": "markdown",
   "id": "34dd85c6-7214-4099-835c-d700b954dd56",
   "metadata": {},
   "source": [
    "### 1.2 Define Parameters"
   ]
  },
  {
   "cell_type": "code",
   "execution_count": 4,
   "id": "b0a1e66d-6128-4bb7-9540-0f78c07a8f9e",
   "metadata": {
    "tags": []
   },
   "outputs": [],
   "source": [
    "nichenet_keep_target_genes_ratio = 0.01\n",
    "nichenet_max_n_target_genes_per_gp = 25344\n",
    "include_mebocost_gps = True\n",
    "mebocost_species = \"mouse\"\n",
    "filter_genes = True\n",
    "gp_filter_mode = \"subset\"\n",
    "combine_overlap_gps = True\n",
    "overlap_thresh_source_genes = 0.9\n",
    "overlap_thresh_target_genes = 0.9\n",
    "overlap_thresh_genes = 0.9\n",
    "gp_targets_mask_key = \"autotalker_gp_targets\"\n",
    "gp_sources_mask_key = \"autotalker_gp_sources\"\n",
    "gp_names_key = \"autotalker_gp_names\"\n",
    "cond_embed_injection = [\"gene_expr_decoder\"]\n",
    "active_gp_names_key = \"autotalker_active_gp_names\"\n",
    "latent_key = \"autotalker_latent\"\n",
    "active_gp_thresh_ratio = 0.05\n",
    "gene_expr_recon_dist = \"nb\"\n",
    "n_layers_encoder = 1\n",
    "conv_layer_encoder = \"gcn\"\n",
    "log_variational = True\n",
    "node_label_method = \"one-hop-attention\"\n",
    "filter_peaks = True"
   ]
  },
  {
   "cell_type": "code",
   "execution_count": 5,
   "id": "3d0f2be4-39fc-4303-b437-e8204f5b3351",
   "metadata": {
    "tags": []
   },
   "outputs": [],
   "source": [
    "srt_data_gold_folder_path = \"../datasets/srt_data/gold\"\n",
    "figure_folder_path = f\"../figures\"\n",
    "ga_data_folder_path = \"../datasets/ga_data\"\n",
    "gp_data_folder_path = \"../datasets/gp_data\" # gene program data\n",
    "nichenet_ligand_target_mx_file_path = gp_data_folder_path + \"/nichenet_ligand_target_matrix.csv\"\n",
    "omnipath_lr_interactions_file_path = gp_data_folder_path + \"/omnipath_lr_interactions.csv\"\n",
    "gtf_file_path = ga_data_folder_path + \"/gencode.vM32.chr_patch_hapl_scaff.annotation.gtf.gz\"\n",
    "\n",
    "# Create required directories\n",
    "os.makedirs(gp_data_folder_path, exist_ok=True)\n",
    "os.makedirs(srt_data_gold_folder_path + \"/results\", exist_ok=True)"
   ]
  },
  {
   "cell_type": "markdown",
   "id": "cfaa36bc-969b-49f0-bbf7-bd0ae0df6e34",
   "metadata": {},
   "source": [
    "## 2. Autotalker Model"
   ]
  },
  {
   "cell_type": "markdown",
   "id": "6bf51fa5-92f1-49f8-bcf1-590235d2dfd3",
   "metadata": {},
   "source": [
    "### 2.1 Prepare Gene Program Mask"
   ]
  },
  {
   "cell_type": "code",
   "execution_count": null,
   "id": "807d2e13-29f2-478e-8c8a-a820570917c9",
   "metadata": {
    "tags": []
   },
   "outputs": [],
   "source": [
    "print(\"Preparing the gene program mask...\")\n",
    "# OmniPath gene programs\n",
    "omnipath_gp_dict = extract_gp_dict_from_omnipath_lr_interactions(\n",
    "    min_curation_effort=0,\n",
    "    load_from_disk=True,\n",
    "    save_to_disk=False,\n",
    "    file_path=omnipath_lr_interactions_file_path,\n",
    "    plot_gp_gene_count_distributions=False)\n",
    "\n",
    "omnipath_genes = get_unique_genes_from_gp_dict(\n",
    "    gp_dict=omnipath_gp_dict,\n",
    "    retrieved_gene_entities=[\"sources\", \"targets\"])\n",
    "\n",
    "# NicheNet gene programs\n",
    "nichenet_gp_dict = extract_gp_dict_from_nichenet_ligand_target_mx(\n",
    "    keep_target_genes_ratio=nichenet_keep_target_genes_ratio,\n",
    "    max_n_target_genes_per_gp=nichenet_max_n_target_genes_per_gp,\n",
    "    load_from_disk=True,\n",
    "    save_to_disk=False,\n",
    "    file_path=nichenet_ligand_target_mx_file_path,\n",
    "    plot_gp_gene_count_distributions=False)\n",
    "\n",
    "nichenet_source_genes = get_unique_genes_from_gp_dict(\n",
    "    gp_dict=nichenet_gp_dict,\n",
    "    retrieved_gene_entities=[\"sources\"])\n",
    "\n",
    "# Combine gene programs into one dictionary\n",
    "combined_gp_dict = dict(omnipath_gp_dict)\n",
    "combined_gp_dict.update(nichenet_gp_dict)\n",
    "\n",
    "if filter_genes:\n",
    "    # Get gene program relevant genes\n",
    "    gp_relevant_genes = list(set(omnipath_genes + nichenet_source_genes))\n",
    "\n",
    "# Mebocost gene programs\n",
    "if include_mebocost_gps:\n",
    "    mebocost_gp_dict = extract_gp_dict_from_mebocost_es_interactions(\n",
    "    dir_path=f\"{gp_data_folder_path}/metabolite_enzyme_sensor_gps/\",\n",
    "    species=mebocost_species,\n",
    "    genes_uppercase=True,\n",
    "    plot_gp_gene_count_distributions=False)\n",
    "    \n",
    "    mebocost_genes = get_unique_genes_from_gp_dict(\n",
    "        gp_dict=mebocost_gp_dict,\n",
    "        retrieved_gene_entities=[\"sources\", \"targets\"])\n",
    "\n",
    "    combined_gp_dict.update(mebocost_gp_dict)\n",
    "    \n",
    "    if filter_genes:\n",
    "        # Update gene program relevant genes\n",
    "        gp_relevant_genes = list(set(gp_relevant_genes + mebocost_genes))\n",
    "    \n",
    "# Filter and combine gene programs\n",
    "combined_new_gp_dict = filter_and_combine_gp_dict_gps(\n",
    "    gp_dict=combined_gp_dict,\n",
    "    gp_filter_mode=gp_filter_mode,\n",
    "    combine_overlap_gps=combine_overlap_gps,\n",
    "    overlap_thresh_source_genes=overlap_thresh_source_genes,\n",
    "    overlap_thresh_target_genes=overlap_thresh_target_genes,\n",
    "    overlap_thresh_genes=overlap_thresh_genes,\n",
    "    verbose=False)\n",
    "\n",
    "print(\"Number of gene programs before filtering and combining: \"\n",
    "      f\"{len(combined_gp_dict)}.\")\n",
    "print(f\"Number of gene programs after filtering and combining: \"\n",
    "      f\"{len(combined_new_gp_dict)}.\")"
   ]
  },
  {
   "cell_type": "code",
   "execution_count": 6,
   "id": "c2b71431-320b-4b6e-af34-53b2cf9e1824",
   "metadata": {
    "tags": []
   },
   "outputs": [],
   "source": [
    "dataset = \"spatial_atac_rna_seq_mouse_embryo_and_brain_batch1\"\n",
    "spatial_key = \"spatial\"\n",
    "n_neighbors = 4\n",
    "adj_key = \"spatial_connectivities\"\n",
    "n_hvg = 2000\n",
    "counts_key = \"counts\"\n",
    "condition_key = \"batch\""
   ]
  },
  {
   "cell_type": "code",
   "execution_count": null,
   "id": "13c1a2a4-a040-4ad4-9fc4-ba63cced7ce5",
   "metadata": {
    "tags": []
   },
   "outputs": [],
   "source": [
    "adata = sc.read_h5ad(\n",
    "        f\"{srt_data_gold_folder_path}/{dataset}_rna.h5ad\")\n",
    "adata_atac = sc.read_h5ad(\n",
    "        f\"{srt_data_gold_folder_path}/{dataset}_atac.h5ad\")\n",
    "\n",
    "# TEMP DELETE\n",
    "adata.layers[\"counts\"] = adata.X\n",
    "adata_atac.layers[\"counts\"] = adata_atac.X\n",
    "adata.obs[\"batch\"] = \"e13\"\n",
    "adata_atac.obs[\"batch\"] = \"e13\"\n",
    "\n",
    "# Compute (separate) spatial neighborhood graphs\n",
    "sq.gr.spatial_neighbors(adata,\n",
    "                        coord_type=\"generic\",\n",
    "                        spatial_key=spatial_key,\n",
    "                        n_neighs=n_neighbors)\n",
    "# Make adjacency matrix symmetric\n",
    "adata.obsp[adj_key] = (\n",
    "    adata.obsp[adj_key].maximum(\n",
    "        adata.obsp[adj_key].T))"
   ]
  },
  {
   "cell_type": "code",
   "execution_count": null,
   "id": "f5ec964c-2d59-4f5a-8bdd-6904bb5b0b61",
   "metadata": {
    "tags": []
   },
   "outputs": [],
   "source": [
    "if filter_genes:\n",
    "    print(\"\\nFiltering genes...\")\n",
    "    # Filter genes and only keep ligand, receptor, metabolitye enzyme, \n",
    "    # metabolite sensor and the 'n_hvg' highly variable genes (potential target\n",
    "    # genes of nichenet)\n",
    "    gp_dict_genes = get_unique_genes_from_gp_dict(\n",
    "        gp_dict=combined_new_gp_dict,\n",
    "            retrieved_gene_entities=[\"sources\", \"targets\"])\n",
    "        print(f\"Starting with {len(adata.var_names)} genes.\")\n",
    "    sc.pp.filter_genes(adata,\n",
    "                       min_cells=0)\n",
    "    print(f\"Keeping {len(adata.var_names)} genes after filtering genes with \"\n",
    "          \"expression in 0 cells.\")\n",
    "\n",
    "    if counts_key is not None:\n",
    "        hvg_layer = counts_key\n",
    "        if (adata.layers[counts_key].astype(int).sum() == \n",
    "        adata.layers[counts_key].sum()): # raw counts\n",
    "            hvg_flavor = \"seurat_v3\"\n",
    "        else: # log normalized counts\n",
    "            hvg_flavor = \"seurat\"\n",
    "    else:\n",
    "        hvg_layer = None\n",
    "        if adata.X.astype(int).sum() == adata.X.sum():\n",
    "        # raw counts\n",
    "            hvg_flavor = \"seurat_v3\"\n",
    "        else: # log normalized counts\n",
    "            hvg_flavor = \"seurat\"\n",
    "\n",
    "    sc.pp.highly_variable_genes(\n",
    "        adata,\n",
    "        layer=hvg_layer,\n",
    "        n_top_genes=n_hvg,\n",
    "        flavor=hvg_flavor,\n",
    "        batch_key=condition_key,\n",
    "        subset=False)\n",
    "\n",
    "    adata.var[\"gp_relevant\"] = (\n",
    "        adata.var.index.str.upper().isin(gp_relevant_genes))\n",
    "    adata.var[\"keep_gene\"] = (adata.var[\"gp_relevant\"] | \n",
    "                              adata.var[\"highly_variable\"])\n",
    "    adata = adata[:, adata.var[\"keep_gene\"] == True]\n",
    "    print(f\"Keeping {len(adata.var_names)} highly variable or gene program \"\n",
    "          \"relevant genes.\")\n",
    "    adata = (adata[:, adata.var_names[adata.var_names.str.upper().isin(\n",
    "                gp_dict_genes)].sort_values()])\n",
    "    print(f\"Keeping {len(adata.var_names)} genes after filtering genes not in \"\n",
    "          \"gp dict.\")"
   ]
  },
  {
   "cell_type": "code",
   "execution_count": null,
   "id": "306dc799-741e-462a-9957-956ee911e3dd",
   "metadata": {
    "tags": []
   },
   "outputs": [],
   "source": [
    "# Add the gene program dictionary as binary masks to the adata for model \n",
    "# training\n",
    "add_gps_from_gp_dict_to_adata(\n",
    "    gp_dict=combined_new_gp_dict,\n",
    "    adata=adata,\n",
    "    genes_uppercase=True,\n",
    "    gp_targets_mask_key=gp_targets_mask_key,\n",
    "    gp_sources_mask_key=gp_sources_mask_key,\n",
    "    gp_names_key=gp_names_key,\n",
    "    min_genes_per_gp=1,\n",
    "    min_source_genes_per_gp=0,\n",
    "    min_target_genes_per_gp=0,\n",
    "    max_genes_per_gp=None,\n",
    "    max_source_genes_per_gp=None,\n",
    "    max_target_genes_per_gp=None,\n",
    "    filter_genes_not_in_masks=False)"
   ]
  },
  {
   "cell_type": "code",
   "execution_count": null,
   "id": "db82893a-b80f-4f2a-883d-8031fb70c46b",
   "metadata": {
    "tags": []
   },
   "outputs": [],
   "source": [
    "adata, adata_atac = get_gene_annotations(\n",
    "    adata=adata,\n",
    "    adata_atac=adata_atac,\n",
    "    gtf_file_path=gtf_file_path)\n",
    "\n",
    "gene_peak_dict = generate_multimodal_pairing_dict(\n",
    "    adata,\n",
    "    adata_atac)"
   ]
  },
  {
   "cell_type": "raw",
   "id": "94f28912-a824-4131-a5f2-a8a9a4ec2308",
   "metadata": {},
   "source": [
    "import pickle\n",
    "# Open the file in write binary mode\n",
    "with open(\"gene_peak_dict\", \"wb\") as file:\n",
    "    # Dump the dictionary to the file\n",
    "    pickle.dump(gene_peak_dict, file)"
   ]
  },
  {
   "cell_type": "raw",
   "id": "3345dafc-a57e-498e-a5fa-25eccbc30e5f",
   "metadata": {},
   "source": [
    "import pickle\n",
    "# Open the file in write binary mode\n",
    "with open(\"combined_new_gp_dict\", \"wb\") as file:\n",
    "    # Dump the dictionary to the file\n",
    "    pickle.dump(combined_new_gp_dict, file)"
   ]
  },
  {
   "cell_type": "raw",
   "id": "eda8f9d8-5af4-43bc-a1e3-429e949596bd",
   "metadata": {},
   "source": [
    "adata.write(\"adata.h5ad\")"
   ]
  },
  {
   "cell_type": "raw",
   "id": "7b9d08eb-0f17-46e7-8bba-d6db2329ab11",
   "metadata": {},
   "source": [
    "adata_atac.write(\"adata_atac.h5ad\")"
   ]
  },
  {
   "cell_type": "code",
   "execution_count": 6,
   "id": "793f0e20-0187-4a4e-9dc0-42b760dad1eb",
   "metadata": {},
   "outputs": [],
   "source": [
    "import pickle\n",
    "with open(\"combined_new_gp_dict\", \"rb\") as file:\n",
    "    # Dump the dictionary to the file\n",
    "    combined_new_gp_dict = pickle.load(file)"
   ]
  },
  {
   "cell_type": "code",
   "execution_count": 7,
   "id": "7b0fd1d5-572c-4058-b892-95568b9c1d10",
   "metadata": {},
   "outputs": [],
   "source": [
    "import pickle\n",
    "with open(\"gene_peak_dict\", \"rb\") as file:\n",
    "    # Dump the dictionary to the file\n",
    "    gene_peak_dict = pickle.load(file)"
   ]
  },
  {
   "cell_type": "code",
   "execution_count": 8,
   "id": "7cbe809b-252a-4b05-9e4b-8802d3f0b818",
   "metadata": {},
   "outputs": [],
   "source": [
    "adata = sc.read_h5ad(\"adata.h5ad\")\n",
    "adata_atac = sc.read_h5ad(\"adata_atac.h5ad\")"
   ]
  },
  {
   "cell_type": "code",
   "execution_count": 9,
   "id": "f1bb2024-de55-4da9-8f4d-bcc6efd4f6d6",
   "metadata": {},
   "outputs": [
    {
     "name": "stdout",
     "output_type": "stream",
     "text": [
      "Filtering peaks...\n",
      "Starting with 5700133 peaks.\n"
     ]
    },
    {
     "ename": "ValueError",
     "evalue": "b'svddc failed in l2fit.'",
     "output_type": "error",
     "traceback": [
      "\u001b[0;31m---------------------------------------------------------------------------\u001b[0m",
      "\u001b[0;31mValueError\u001b[0m                                Traceback (most recent call last)",
      "Cell \u001b[0;32mIn[9], line 1\u001b[0m\n\u001b[0;32m----> 1\u001b[0m adata_atac \u001b[38;5;241m=\u001b[39m \u001b[43madd_multimodal_mask_to_adata\u001b[49m\u001b[43m(\u001b[49m\n\u001b[1;32m      2\u001b[0m \u001b[43m    \u001b[49m\u001b[43madata\u001b[49m\u001b[38;5;241;43m=\u001b[39;49m\u001b[43madata\u001b[49m\u001b[43m,\u001b[49m\n\u001b[1;32m      3\u001b[0m \u001b[43m    \u001b[49m\u001b[43madata_atac\u001b[49m\u001b[38;5;241;43m=\u001b[39;49m\u001b[43madata_atac\u001b[49m\u001b[43m,\u001b[49m\n\u001b[1;32m      4\u001b[0m \u001b[43m    \u001b[49m\u001b[43mgene_peak_mapping_dict\u001b[49m\u001b[38;5;241;43m=\u001b[39;49m\u001b[43mgene_peak_dict\u001b[49m\u001b[43m)\u001b[49m\n",
      "File \u001b[0;32m~/sebastianbirk/autotalker-reproducibility/notebooks/../../autotalker/autotalker/utils/multimodal_pairing.py:256\u001b[0m, in \u001b[0;36madd_multimodal_mask_to_adata\u001b[0;34m(adata, adata_atac, gene_peak_mapping_dict, filter_peaks_based_on_genes, filter_hvg_peaks, n_hvg_peaks, condition_key, gp_targets_mask_key, gp_sources_mask_key, gp_names_key, ca_targets_mask_key, ca_sources_mask_key, source_peaks_idx_key, target_peaks_idx_key, peaks_idx_key)\u001b[0m\n\u001b[1;32m    254\u001b[0m     \u001b[38;5;28mprint\u001b[39m(\u001b[38;5;124m\"\u001b[39m\u001b[38;5;124mFiltering peaks...\u001b[39m\u001b[38;5;124m\"\u001b[39m)\n\u001b[1;32m    255\u001b[0m     \u001b[38;5;28mprint\u001b[39m(\u001b[38;5;124mf\u001b[39m\u001b[38;5;124m\"\u001b[39m\u001b[38;5;124mStarting with \u001b[39m\u001b[38;5;132;01m{\u001b[39;00m\u001b[38;5;28mlen\u001b[39m(adata_atac\u001b[38;5;241m.\u001b[39mvar_names)\u001b[38;5;132;01m}\u001b[39;00m\u001b[38;5;124m peaks.\u001b[39m\u001b[38;5;124m\"\u001b[39m)\n\u001b[0;32m--> 256\u001b[0m     \u001b[43msc\u001b[49m\u001b[38;5;241;43m.\u001b[39;49m\u001b[43mpp\u001b[49m\u001b[38;5;241;43m.\u001b[39;49m\u001b[43mhighly_variable_genes\u001b[49m\u001b[43m(\u001b[49m\u001b[43madata_atac\u001b[49m\u001b[43m,\u001b[49m\n\u001b[1;32m    257\u001b[0m \u001b[43m                                \u001b[49m\u001b[43mn_top_genes\u001b[49m\u001b[38;5;241;43m=\u001b[39;49m\u001b[43mn_hvg_peaks\u001b[49m\u001b[43m,\u001b[49m\n\u001b[1;32m    258\u001b[0m \u001b[43m                                \u001b[49m\u001b[43mflavor\u001b[49m\u001b[38;5;241;43m=\u001b[39;49m\u001b[38;5;124;43m\"\u001b[39;49m\u001b[38;5;124;43mseurat_v3\u001b[39;49m\u001b[38;5;124;43m\"\u001b[39;49m\u001b[43m,\u001b[49m\n\u001b[1;32m    259\u001b[0m \u001b[43m                                \u001b[49m\u001b[43mbatch_key\u001b[49m\u001b[38;5;241;43m=\u001b[39;49m\u001b[43mcondition_key\u001b[49m\u001b[43m)\u001b[49m\n\u001b[1;32m    260\u001b[0m     \u001b[38;5;28mprint\u001b[39m(\u001b[38;5;124mf\u001b[39m\u001b[38;5;124m\"\u001b[39m\u001b[38;5;124mKeeping \u001b[39m\u001b[38;5;132;01m{\u001b[39;00m\u001b[38;5;28mlen\u001b[39m(adata_atac\u001b[38;5;241m.\u001b[39mvar_names)\u001b[38;5;132;01m}\u001b[39;00m\u001b[38;5;124m highly variable peaks.\u001b[39m\u001b[38;5;124m\"\u001b[39m)\n\u001b[1;32m    262\u001b[0m \u001b[38;5;66;03m# Create mapping dict for computationally efficient mapping of peaks to\u001b[39;00m\n\u001b[1;32m    263\u001b[0m \u001b[38;5;66;03m# their index in ´adata_atac.var_names´    \u001b[39;00m\n",
      "File \u001b[0;32m~/miniconda3/envs/autotalker_new/lib/python3.9/site-packages/scanpy/preprocessing/_highly_variable_genes.py:428\u001b[0m, in \u001b[0;36mhighly_variable_genes\u001b[0;34m(adata, layer, n_top_genes, min_disp, max_disp, min_mean, max_mean, span, n_bins, flavor, subset, inplace, batch_key, check_values)\u001b[0m\n\u001b[1;32m    422\u001b[0m     \u001b[38;5;28;01mraise\u001b[39;00m \u001b[38;5;167;01mValueError\u001b[39;00m(\n\u001b[1;32m    423\u001b[0m         \u001b[38;5;124m'\u001b[39m\u001b[38;5;124m`pp.highly_variable_genes` expects an `AnnData` argument, \u001b[39m\u001b[38;5;124m'\u001b[39m\n\u001b[1;32m    424\u001b[0m         \u001b[38;5;124m'\u001b[39m\u001b[38;5;124mpass `inplace=False` if you want to return a `pd.DataFrame`.\u001b[39m\u001b[38;5;124m'\u001b[39m\n\u001b[1;32m    425\u001b[0m     )\n\u001b[1;32m    427\u001b[0m \u001b[38;5;28;01mif\u001b[39;00m flavor \u001b[38;5;241m==\u001b[39m \u001b[38;5;124m'\u001b[39m\u001b[38;5;124mseurat_v3\u001b[39m\u001b[38;5;124m'\u001b[39m:\n\u001b[0;32m--> 428\u001b[0m     \u001b[38;5;28;01mreturn\u001b[39;00m \u001b[43m_highly_variable_genes_seurat_v3\u001b[49m\u001b[43m(\u001b[49m\n\u001b[1;32m    429\u001b[0m \u001b[43m        \u001b[49m\u001b[43madata\u001b[49m\u001b[43m,\u001b[49m\n\u001b[1;32m    430\u001b[0m \u001b[43m        \u001b[49m\u001b[43mlayer\u001b[49m\u001b[38;5;241;43m=\u001b[39;49m\u001b[43mlayer\u001b[49m\u001b[43m,\u001b[49m\n\u001b[1;32m    431\u001b[0m \u001b[43m        \u001b[49m\u001b[43mn_top_genes\u001b[49m\u001b[38;5;241;43m=\u001b[39;49m\u001b[43mn_top_genes\u001b[49m\u001b[43m,\u001b[49m\n\u001b[1;32m    432\u001b[0m \u001b[43m        \u001b[49m\u001b[43mbatch_key\u001b[49m\u001b[38;5;241;43m=\u001b[39;49m\u001b[43mbatch_key\u001b[49m\u001b[43m,\u001b[49m\n\u001b[1;32m    433\u001b[0m \u001b[43m        \u001b[49m\u001b[43mcheck_values\u001b[49m\u001b[38;5;241;43m=\u001b[39;49m\u001b[43mcheck_values\u001b[49m\u001b[43m,\u001b[49m\n\u001b[1;32m    434\u001b[0m \u001b[43m        \u001b[49m\u001b[43mspan\u001b[49m\u001b[38;5;241;43m=\u001b[39;49m\u001b[43mspan\u001b[49m\u001b[43m,\u001b[49m\n\u001b[1;32m    435\u001b[0m \u001b[43m        \u001b[49m\u001b[43msubset\u001b[49m\u001b[38;5;241;43m=\u001b[39;49m\u001b[43msubset\u001b[49m\u001b[43m,\u001b[49m\n\u001b[1;32m    436\u001b[0m \u001b[43m        \u001b[49m\u001b[43minplace\u001b[49m\u001b[38;5;241;43m=\u001b[39;49m\u001b[43minplace\u001b[49m\u001b[43m,\u001b[49m\n\u001b[1;32m    437\u001b[0m \u001b[43m    \u001b[49m\u001b[43m)\u001b[49m\n\u001b[1;32m    439\u001b[0m \u001b[38;5;28;01mif\u001b[39;00m batch_key \u001b[38;5;129;01mis\u001b[39;00m \u001b[38;5;28;01mNone\u001b[39;00m:\n\u001b[1;32m    440\u001b[0m     df \u001b[38;5;241m=\u001b[39m _highly_variable_genes_single_batch(\n\u001b[1;32m    441\u001b[0m         adata,\n\u001b[1;32m    442\u001b[0m         layer\u001b[38;5;241m=\u001b[39mlayer,\n\u001b[0;32m   (...)\u001b[0m\n\u001b[1;32m    449\u001b[0m         flavor\u001b[38;5;241m=\u001b[39mflavor,\n\u001b[1;32m    450\u001b[0m     )\n",
      "File \u001b[0;32m~/miniconda3/envs/autotalker_new/lib/python3.9/site-packages/scanpy/preprocessing/_highly_variable_genes.py:85\u001b[0m, in \u001b[0;36m_highly_variable_genes_seurat_v3\u001b[0;34m(adata, layer, n_top_genes, batch_key, check_values, span, subset, inplace)\u001b[0m\n\u001b[1;32m     83\u001b[0m x \u001b[38;5;241m=\u001b[39m np\u001b[38;5;241m.\u001b[39mlog10(mean[not_const])\n\u001b[1;32m     84\u001b[0m model \u001b[38;5;241m=\u001b[39m loess(x, y, span\u001b[38;5;241m=\u001b[39mspan, degree\u001b[38;5;241m=\u001b[39m\u001b[38;5;241m2\u001b[39m)\n\u001b[0;32m---> 85\u001b[0m \u001b[43mmodel\u001b[49m\u001b[38;5;241;43m.\u001b[39;49m\u001b[43mfit\u001b[49m\u001b[43m(\u001b[49m\u001b[43m)\u001b[49m\n\u001b[1;32m     86\u001b[0m estimat_var[not_const] \u001b[38;5;241m=\u001b[39m model\u001b[38;5;241m.\u001b[39moutputs\u001b[38;5;241m.\u001b[39mfitted_values\n\u001b[1;32m     87\u001b[0m reg_std \u001b[38;5;241m=\u001b[39m np\u001b[38;5;241m.\u001b[39msqrt(\u001b[38;5;241m10\u001b[39m\u001b[38;5;241m*\u001b[39m\u001b[38;5;241m*\u001b[39mestimat_var)\n",
      "File \u001b[0;32m_loess.pyx:899\u001b[0m, in \u001b[0;36m_loess.loess.fit\u001b[0;34m()\u001b[0m\n",
      "\u001b[0;31mValueError\u001b[0m: b'svddc failed in l2fit.'"
     ]
    }
   ],
   "source": [
    "adata_atac = add_multimodal_mask_to_adata(\n",
    "    adata=adata,\n",
    "    adata_atac=adata_atac,\n",
    "    gene_peak_mapping_dict=gene_peak_dict)"
   ]
  },
  {
   "cell_type": "code",
   "execution_count": null,
   "id": "75191a36-4418-40ae-b593-4a14735de033",
   "metadata": {},
   "outputs": [],
   "source": [
    "adata_atac.write(\"adata_atac.h5ad\")"
   ]
  },
  {
   "cell_type": "code",
   "execution_count": null,
   "id": "81da0101-5631-4b4e-9a9f-1cc5aeffce87",
   "metadata": {},
   "outputs": [],
   "source": [
    "# Determine dimensionality of hidden encoder\n",
    "n_hidden_encoder = len(adata.uns[gp_names_key])\n",
    "\n",
    "# Determine dimensionality of conditional embedding (in case injected)\n",
    "n_cond_embed = len(adata.uns[gp_names_key])"
   ]
  },
  {
   "cell_type": "code",
   "execution_count": null,
   "id": "6d417c51-72c4-488d-a68f-87ee0f036f7d",
   "metadata": {},
   "outputs": [],
   "source": [
    "1 / 0"
   ]
  },
  {
   "cell_type": "code",
   "execution_count": null,
   "id": "ed9fb575-1d5c-4ba3-9cd8-d59f604592c2",
   "metadata": {},
   "outputs": [],
   "source": [
    "import gc\n",
    "gc.collect()\n",
    "import torch\n",
    "torch.cuda.empty_cache()"
   ]
  },
  {
   "cell_type": "code",
   "execution_count": null,
   "id": "f064cf79-8d0b-4964-a4af-100b8c6e204f",
   "metadata": {},
   "outputs": [],
   "source": [
    " np.nonzero(\n",
    "        adata.varm[gp_sources_mask_key].sum(axis=1))[0]"
   ]
  },
  {
   "cell_type": "code",
   "execution_count": null,
   "id": "92db77c7-f8b1-4e5b-ae53-d5bd5e7c35ac",
   "metadata": {},
   "outputs": [],
   "source": [
    "adata.varm[gp_sources_mask_key].shape"
   ]
  },
  {
   "cell_type": "code",
   "execution_count": null,
   "id": "c2dd6c51-9fee-45c2-9e76-62d3f4403cb5",
   "metadata": {},
   "outputs": [],
   "source": [
    "adata"
   ]
  },
  {
   "cell_type": "code",
   "execution_count": null,
   "id": "04954b54-08a3-408a-9cf0-f8ffa3a4cfa8",
   "metadata": {},
   "outputs": [],
   "source": [
    "np.zeros(adata.varm[\"autotalker_gp_targets\"].shape[1])"
   ]
  },
  {
   "cell_type": "code",
   "execution_count": null,
   "id": "b297a804-f2af-416e-81ce-8e024c752e91",
   "metadata": {},
   "outputs": [],
   "source": []
  },
  {
   "cell_type": "code",
   "execution_count": null,
   "id": "f759f547-c72e-4930-9033-dc34d984dc32",
   "metadata": {},
   "outputs": [],
   "source": [
    "adata_atac.varm[\"autotalker_ca_sources\"]"
   ]
  },
  {
   "cell_type": "code",
   "execution_count": null,
   "id": "9c6d9142-5a33-445f-8d01-8249608daf0b",
   "metadata": {},
   "outputs": [],
   "source": [
    "adata_atac"
   ]
  },
  {
   "cell_type": "code",
   "execution_count": null,
   "id": "34ccd774-b7c7-4505-a436-e9af753bf7e6",
   "metadata": {
    "tags": []
   },
   "outputs": [],
   "source": [
    "print(\"\\nTraining model...\")\n",
    "# Initialize model\n",
    "model = Autotalker(adata,\n",
    "                   adata_atac,\n",
    "                   counts_key=counts_key,\n",
    "                   adj_key=adj_key,\n",
    "                   condition_key=condition_key,\n",
    "                   cond_embed_injection=cond_embed_injection,\n",
    "                   n_cond_embed=n_cond_embed,\n",
    "                   gp_names_key=gp_names_key,\n",
    "                   active_gp_names_key=active_gp_names_key,\n",
    "                   gp_targets_mask_key=gp_targets_mask_key,\n",
    "                   gp_sources_mask_key=gp_sources_mask_key,\n",
    "                   latent_key=latent_key,\n",
    "                   active_gp_thresh_ratio=active_gp_thresh_ratio,\n",
    "                   gene_expr_recon_dist=gene_expr_recon_dist,\n",
    "                   n_layers_encoder=n_layers_encoder,\n",
    "                   conv_layer_encoder=conv_layer_encoder,\n",
    "                   n_hidden_encoder=n_hidden_encoder,\n",
    "                   log_variational=log_variational,\n",
    "                   node_label_method=node_label_method)"
   ]
  },
  {
   "cell_type": "code",
   "execution_count": null,
   "id": "4f38627a-2d9b-445f-816b-8f73e207bf9b",
   "metadata": {},
   "outputs": [],
   "source": [
    "# Train model\n",
    "model.train(n_epochs=args.n_epochs,\n",
    "            n_epochs_all_gps=args.n_epochs_all_gps,\n",
    "            n_epochs_no_cond_contrastive=args.n_epochs_no_cond_contrastive,\n",
    "            lr=args.lr,\n",
    "            lambda_edge_recon=args.lambda_edge_recon,\n",
    "            lambda_gene_expr_recon=args.lambda_gene_expr_recon,\n",
    "            lambda_cond_contrastive=args.lambda_cond_contrastive,\n",
    "            contrastive_logits_ratio=args.contrastive_logits_ratio,\n",
    "            lambda_group_lasso=args.lambda_group_lasso,\n",
    "            lambda_l1_masked=args.lambda_l1_masked,\n",
    "            edge_batch_size=args.edge_batch_size,\n",
    "            node_batch_size=args.node_batch_size,\n",
    "            mlflow_experiment_id=mlflow_experiment_id,\n",
    "            verbose=True)"
   ]
  }
 ],
 "metadata": {
  "kernelspec": {
   "display_name": "Python 3 (ipykernel)",
   "language": "python",
   "name": "python3"
  },
  "language_info": {
   "codemirror_mode": {
    "name": "ipython",
    "version": 3
   },
   "file_extension": ".py",
   "mimetype": "text/x-python",
   "name": "python",
   "nbconvert_exporter": "python",
   "pygments_lexer": "ipython3",
   "version": "3.9.16"
  },
  "toc-showcode": false
 },
 "nbformat": 4,
 "nbformat_minor": 5
}
