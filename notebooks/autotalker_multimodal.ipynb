{
 "cells": [
  {
   "cell_type": "markdown",
   "id": "9f591a0e-a193-41fc-ac73-244685d00364",
   "metadata": {},
   "source": [
    "# Autotalker Multimodal"
   ]
  },
  {
   "cell_type": "markdown",
   "id": "9ee29243-10ac-42ee-bcdb-a3f6d2e7a0dc",
   "metadata": {},
   "source": [
    "- **Creator**: Sebastian Birk (<sebastian.birk@helmholtz-munich.de>).\n",
    "- **Affiliation:** Helmholtz Munich, Institute of Computational Biology (ICB), Talavera-López Lab\n",
    "- **Date of Creation:** 24.04.2023\n",
    "- **Date of Last Modification:** 14.05.2023"
   ]
  },
  {
   "cell_type": "markdown",
   "id": "d0125b1d-0a8c-4100-baa0-42de7d4499c6",
   "metadata": {},
   "source": [
    "## 1. Setup"
   ]
  },
  {
   "cell_type": "markdown",
   "id": "e738fa93-0e42-4130-9667-4eb9496493a0",
   "metadata": {},
   "source": [
    "### 1.1 Import Libraries"
   ]
  },
  {
   "cell_type": "code",
   "execution_count": 1,
   "id": "01360ce4-b3f1-4766-ae16-db4c327aa091",
   "metadata": {
    "tags": []
   },
   "outputs": [],
   "source": [
    "%load_ext autoreload\n",
    "%autoreload 2"
   ]
  },
  {
   "cell_type": "code",
   "execution_count": 2,
   "id": "8d74beea-c388-4e25-954b-626b4367f596",
   "metadata": {
    "tags": []
   },
   "outputs": [],
   "source": [
    "import sys\n",
    "sys.path.append(\"../../autotalker\")\n",
    "sys.path.append(\"../utils\")"
   ]
  },
  {
   "cell_type": "code",
   "execution_count": 3,
   "id": "4a4ceeba-ef09-4559-88e2-cbe464ecd1d7",
   "metadata": {
    "tags": []
   },
   "outputs": [
    {
     "name": "stderr",
     "output_type": "stream",
     "text": [
      "/home/cartalop/miniconda3/envs/autotalker/lib/python3.10/site-packages/lightning_fabric/__init__.py:29: DeprecationWarning: Deprecated call to `pkg_resources.declare_namespace('lightning_fabric')`.\n",
      "Implementing implicit namespace packages (as specified in PEP 420) is preferred to `pkg_resources.declare_namespace`. See https://setuptools.pypa.io/en/latest/references/keywords.html#keyword-namespace-packages\n",
      "  __import__(\"pkg_resources\").declare_namespace(__name__)\n",
      "/home/cartalop/miniconda3/envs/autotalker/lib/python3.10/site-packages/pytorch_lightning/__init__.py:45: DeprecationWarning: Deprecated call to `pkg_resources.declare_namespace('pytorch_lightning')`.\n",
      "Implementing implicit namespace packages (as specified in PEP 420) is preferred to `pkg_resources.declare_namespace`. See https://setuptools.pypa.io/en/latest/references/keywords.html#keyword-namespace-packages\n",
      "  __import__(\"pkg_resources\").declare_namespace(__name__)\n",
      "Global seed set to 0\n",
      "/home/cartalop/miniconda3/envs/autotalker/lib/python3.10/site-packages/flax/core/frozen_dict.py:169: FutureWarning: jax.tree_util.register_keypaths is deprecated, and will be removed in a future release. Please use `register_pytree_with_keys()` instead.\n",
      "  jax.tree_util.register_keypaths(\n",
      "/home/cartalop/miniconda3/envs/autotalker/lib/python3.10/site-packages/omnipath/_core/query/_query_validator.py:165: ResourceWarning: unclosed <ssl.SSLSocket fd=63, family=AddressFamily.AF_INET, type=SocketKind.SOCK_STREAM, proto=6, laddr=('192.168.0.18', 40676), raddr=('178.62.7.222', 443)>\n",
      "  res = Downloader(opt).maybe_download(\n",
      "/home/cartalop/miniconda3/envs/autotalker/lib/python3.10/site-packages/omnipath/_core/query/_query_validator.py:165: ResourceWarning: unclosed <ssl.SSLSocket fd=63, family=AddressFamily.AF_INET, type=SocketKind.SOCK_STREAM, proto=6, laddr=('192.168.0.18', 40682), raddr=('178.62.7.222', 443)>\n",
      "  res = Downloader(opt).maybe_download(\n",
      "/home/cartalop/miniconda3/envs/autotalker/lib/python3.10/site-packages/omnipath/_core/query/_query_validator.py:165: ResourceWarning: unclosed <ssl.SSLSocket fd=63, family=AddressFamily.AF_INET, type=SocketKind.SOCK_STREAM, proto=6, laddr=('192.168.0.18', 40688), raddr=('178.62.7.222', 443)>\n",
      "  res = Downloader(opt).maybe_download(\n",
      "/home/cartalop/miniconda3/envs/autotalker/lib/python3.10/site-packages/omnipath/_core/query/_query_validator.py:165: ResourceWarning: unclosed <ssl.SSLSocket fd=63, family=AddressFamily.AF_INET, type=SocketKind.SOCK_STREAM, proto=6, laddr=('192.168.0.18', 40700), raddr=('178.62.7.222', 443)>\n",
      "  res = Downloader(opt).maybe_download(\n",
      "/home/cartalop/miniconda3/envs/autotalker/lib/python3.10/site-packages/omnipath/_core/query/_query_validator.py:165: ResourceWarning: unclosed <ssl.SSLSocket fd=63, family=AddressFamily.AF_INET, type=SocketKind.SOCK_STREAM, proto=6, laddr=('192.168.0.18', 40714), raddr=('178.62.7.222', 443)>\n",
      "  res = Downloader(opt).maybe_download(\n",
      "/home/cartalop/miniconda3/envs/autotalker/lib/python3.10/site-packages/omnipath/_core/downloader/_downloader.py:208: ResourceWarning: unclosed <ssl.SSLSocket fd=63, family=AddressFamily.AF_INET, type=SocketKind.SOCK_STREAM, proto=6, laddr=('192.168.0.18', 40726), raddr=('178.62.7.222', 443)>\n",
      "  return Downloader(opt).maybe_download(\n",
      "/home/cartalop/miniconda3/envs/autotalker/lib/python3.10/site-packages/umap/__init__.py:9: ImportWarning: Tensorflow not installed; ParametricUMAP will be unavailable\n",
      "  warn(\n"
     ]
    }
   ],
   "source": [
    "import os\n",
    "from datetime import datetime\n",
    "\n",
    "import anndata as ad\n",
    "import matplotlib.pyplot as plt\n",
    "import numpy as np\n",
    "import scanpy as sc\n",
    "import scib\n",
    "import scvi\n",
    "import squidpy as sq\n",
    "\n",
    "from autotalker.benchmarking import compute_clisis, compute_cas\n",
    "from autotalker.models import Autotalker\n",
    "from autotalker.utils import get_gene_annotations, generate_multimodal_pairing_dict, add_multimodal_mask_to_adata\n",
    "from autotalker.utils import (add_gps_from_gp_dict_to_adata,\n",
    "                              extract_gp_dict_from_mebocost_es_interactions,\n",
    "                              extract_gp_dict_from_nichenet_ligand_target_mx,\n",
    "                              extract_gp_dict_from_omnipath_lr_interactions,\n",
    "                              filter_and_combine_gp_dict_gps,\n",
    "                              get_unique_genes_from_gp_dict)\n",
    "\n",
    "from color_utils import (latent_cluster_colors,\n",
    "                         spatial_atac_rna_seq_mouse_embryo_and_brain_rna_colors,\n",
    "                         spatial_atac_rna_seq_mouse_embryo_and_brain_atac_colors)"
   ]
  },
  {
   "cell_type": "markdown",
   "id": "34dd85c6-7214-4099-835c-d700b954dd56",
   "metadata": {},
   "source": [
    "### 1.2 Define Parameters"
   ]
  },
  {
   "cell_type": "code",
   "execution_count": 4,
   "id": "b0a1e66d-6128-4bb7-9540-0f78c07a8f9e",
   "metadata": {
    "tags": []
   },
   "outputs": [],
   "source": [
    "dataset = \"spatial_atac_rna_seq_mouse_brain\"\n",
    "condition = \"batch2\"\n",
    "if condition is not None:\n",
    "    dataset = dataset + \"_\" + condition\n",
    "spatial_key = \"spatial\"\n",
    "n_neighbors = 8\n",
    "adj_key = \"spatial_connectivities\"\n",
    "n_hvg = 3000\n",
    "counts_key = \"counts\"\n",
    "condition_key = \"batch\"\n",
    "\n",
    "nichenet_keep_target_genes_ratio = 0.01\n",
    "nichenet_max_n_target_genes_per_gp = 1000\n",
    "include_mebocost_gps = True\n",
    "mebocost_species = \"mouse\"\n",
    "filter_genes = True\n",
    "gp_filter_mode = \"subset\"\n",
    "combine_overlap_gps = True\n",
    "overlap_thresh_source_genes = 0.9\n",
    "overlap_thresh_target_genes = 0.9\n",
    "overlap_thresh_genes = 0.9\n",
    "gp_targets_mask_key = \"autotalker_gp_targets\"\n",
    "gp_sources_mask_key = \"autotalker_gp_sources\"\n",
    "gp_names_key = \"autotalker_gp_names\"\n",
    "cond_embed_injection = [\"gene_expr_decoder\",\n",
    "                        \"chrom_access_decoder\"]\n",
    "active_gp_names_key = \"autotalker_active_gp_names\"\n",
    "latent_key = \"autotalker_latent\"\n",
    "active_gp_thresh_ratio = 0.1\n",
    "gene_expr_recon_dist = \"nb\"\n",
    "n_layers_encoder = 1\n",
    "conv_layer_encoder = \"gcnconv\"\n",
    "log_variational = True\n",
    "node_label_method = \"one-hop-norm\"\n",
    "filter_peaks = True\n",
    "min_cell_peak_thresh_ratio = 0.0005 # 0.05%\n",
    "n_epochs = 100\n",
    "n_epochs_all_gps = 25\n",
    "n_epochs_no_cond_contrastive = 0\n",
    "lr = 0.001\n",
    "lambda_edge_recon = 500000.\n",
    "lambda_gene_expr_recon = 100.\n",
    "lambda_chrom_access_recon = 50.\n",
    "lambda_cond_contrastive = 0.\n",
    "contrastive_logits_ratio = 0.015625\n",
    "lambda_group_lasso = 0.\n",
    "lambda_l1_masked = 30.\n",
    "edge_batch_size = 4096\n",
    "node_batch_size = None\n",
    "mlflow_experiment_id = None"
   ]
  },
  {
   "cell_type": "markdown",
   "id": "70b30929-388a-4442-9430-561d6649120e",
   "metadata": {},
   "source": [
    "### 1.3 Run Notebook Setup"
   ]
  },
  {
   "cell_type": "code",
   "execution_count": 5,
   "id": "5ced8a20-3c08-4287-b4a0-1d5c670571cc",
   "metadata": {},
   "outputs": [],
   "source": [
    "# Get time of notebook execution for timestamping saved artifacts\n",
    "now = datetime.now()\n",
    "current_timestamp = now.strftime(\"%d%m%Y_%H%M%S\")"
   ]
  },
  {
   "cell_type": "markdown",
   "id": "b2333607-4793-4d5f-8458-93f333e24759",
   "metadata": {},
   "source": [
    "### 1.4 Configure Paths and Create Directories"
   ]
  },
  {
   "cell_type": "code",
   "execution_count": 6,
   "id": "3d0f2be4-39fc-4303-b437-e8204f5b3351",
   "metadata": {
    "tags": []
   },
   "outputs": [],
   "source": [
    "# Define paths\n",
    "srt_data_gold_folder_path = \"../datasets/srt_data/gold\"\n",
    "figure_folder_path = f\"../figures\"\n",
    "model_artifacts_folder_path = f\"../artifacts/{dataset}/models/{current_timestamp}\"\n",
    "ga_data_folder_path = \"../datasets/ga_data\"\n",
    "gp_data_folder_path = \"../datasets/gp_data\" # gene program data\n",
    "nichenet_ligand_target_mx_file_path = gp_data_folder_path + \"/nichenet_ligand_target_matrix.csv\"\n",
    "omnipath_lr_interactions_file_path = gp_data_folder_path + \"/omnipath_lr_interactions.csv\"\n",
    "gtf_file_path = ga_data_folder_path + \"/gencode.vM32.chr_patch_hapl_scaff.annotation.gtf.gz\"\n",
    "\n",
    "# Create required directories\n",
    "os.makedirs(gp_data_folder_path, exist_ok=True)\n",
    "os.makedirs(srt_data_gold_folder_path + \"/results\", exist_ok=True)"
   ]
  },
  {
   "cell_type": "markdown",
   "id": "cfaa36bc-969b-49f0-bbf7-bd0ae0df6e34",
   "metadata": {},
   "source": [
    "## 2. Autotalker Model"
   ]
  },
  {
   "cell_type": "markdown",
   "id": "6bf51fa5-92f1-49f8-bcf1-590235d2dfd3",
   "metadata": {},
   "source": [
    "### 2.1 Prepare Gene Program Mask"
   ]
  },
  {
   "cell_type": "code",
   "execution_count": 7,
   "id": "807d2e13-29f2-478e-8c8a-a820570917c9",
   "metadata": {
    "tags": []
   },
   "outputs": [
    {
     "name": "stdout",
     "output_type": "stream",
     "text": [
      "Preparing the gene program mask...\n",
      "Number of gene programs before filtering and combining: 1725.\n",
      "Number of gene programs after filtering and combining: 1583.\n"
     ]
    }
   ],
   "source": [
    "print(\"Preparing the gene program mask...\")\n",
    "# OmniPath gene programs\n",
    "omnipath_gp_dict = extract_gp_dict_from_omnipath_lr_interactions(\n",
    "    min_curation_effort=0,\n",
    "    load_from_disk=True,\n",
    "    save_to_disk=False,\n",
    "    file_path=omnipath_lr_interactions_file_path,\n",
    "    plot_gp_gene_count_distributions=False)\n",
    "\n",
    "omnipath_genes = get_unique_genes_from_gp_dict(\n",
    "    gp_dict=omnipath_gp_dict,\n",
    "    retrieved_gene_entities=[\"sources\", \"targets\"])\n",
    "\n",
    "# NicheNet gene programs\n",
    "nichenet_gp_dict = extract_gp_dict_from_nichenet_ligand_target_mx(\n",
    "    keep_target_genes_ratio=nichenet_keep_target_genes_ratio,\n",
    "    max_n_target_genes_per_gp=nichenet_max_n_target_genes_per_gp,\n",
    "    load_from_disk=True,\n",
    "    save_to_disk=False,\n",
    "    file_path=nichenet_ligand_target_mx_file_path,\n",
    "    plot_gp_gene_count_distributions=False)\n",
    "\n",
    "nichenet_source_genes = get_unique_genes_from_gp_dict(\n",
    "    gp_dict=nichenet_gp_dict,\n",
    "    retrieved_gene_entities=[\"sources\"])\n",
    "\n",
    "# Combine gene programs into one dictionary\n",
    "combined_gp_dict = dict(omnipath_gp_dict)\n",
    "combined_gp_dict.update(nichenet_gp_dict)\n",
    "\n",
    "if filter_genes:\n",
    "    # Get gene program relevant genes\n",
    "    gp_relevant_genes = list(set(omnipath_genes + nichenet_source_genes))\n",
    "\n",
    "# Mebocost gene programs\n",
    "if include_mebocost_gps:\n",
    "    mebocost_gp_dict = extract_gp_dict_from_mebocost_es_interactions(\n",
    "    dir_path=f\"{gp_data_folder_path}/metabolite_enzyme_sensor_gps/\",\n",
    "    species=mebocost_species,\n",
    "    genes_uppercase=True,\n",
    "    plot_gp_gene_count_distributions=False)\n",
    "    \n",
    "    mebocost_genes = get_unique_genes_from_gp_dict(\n",
    "        gp_dict=mebocost_gp_dict,\n",
    "        retrieved_gene_entities=[\"sources\", \"targets\"])\n",
    "\n",
    "    combined_gp_dict.update(mebocost_gp_dict)\n",
    "    \n",
    "    if filter_genes:\n",
    "        # Update gene program relevant genes\n",
    "        gp_relevant_genes = list(set(gp_relevant_genes + mebocost_genes))\n",
    "    \n",
    "# Filter and combine gene programs\n",
    "combined_new_gp_dict = filter_and_combine_gp_dict_gps(\n",
    "    gp_dict=combined_gp_dict,\n",
    "    gp_filter_mode=gp_filter_mode,\n",
    "    combine_overlap_gps=combine_overlap_gps,\n",
    "    overlap_thresh_source_genes=overlap_thresh_source_genes,\n",
    "    overlap_thresh_target_genes=overlap_thresh_target_genes,\n",
    "    overlap_thresh_genes=overlap_thresh_genes,\n",
    "    verbose=False)\n",
    "\n",
    "print(\"Number of gene programs before filtering and combining: \"\n",
    "      f\"{len(combined_gp_dict)}.\")\n",
    "print(f\"Number of gene programs after filtering and combining: \"\n",
    "      f\"{len(combined_new_gp_dict)}.\")"
   ]
  },
  {
   "cell_type": "markdown",
   "id": "0f123920-0fba-46e4-8e33-07f374630221",
   "metadata": {},
   "source": [
    "### 2.2 Load Data & Compute Spatial Neighbor Graph"
   ]
  },
  {
   "cell_type": "code",
   "execution_count": 8,
   "id": "13c1a2a4-a040-4ad4-9fc4-ba63cced7ce5",
   "metadata": {
    "tags": []
   },
   "outputs": [],
   "source": [
    "# Read data\n",
    "adata = sc.read_h5ad(\n",
    "        f\"{srt_data_gold_folder_path}/{dataset}_rna.h5ad\")\n",
    "adata_atac = sc.read_h5ad(\n",
    "        f\"{srt_data_gold_folder_path}/{dataset}_atac.h5ad\")\n",
    "\n",
    "# Compute (separate) spatial neighborhood graphs\n",
    "sq.gr.spatial_neighbors(adata,\n",
    "                        coord_type=\"generic\",\n",
    "                        spatial_key=spatial_key,\n",
    "                        n_neighs=n_neighbors)\n",
    "\n",
    "# Make adjacency matrix symmetric\n",
    "adata.obsp[adj_key] = (\n",
    "    adata.obsp[adj_key].maximum(\n",
    "        adata.obsp[adj_key].T))"
   ]
  },
  {
   "cell_type": "markdown",
   "id": "b0b68fd8-4964-4492-ae7f-29a09ed2b6bb",
   "metadata": {},
   "source": [
    "### 2.3 Filter Genes & Peaks"
   ]
  },
  {
   "cell_type": "code",
   "execution_count": 9,
   "id": "f5ec964c-2d59-4f5a-8bdd-6904bb5b0b61",
   "metadata": {
    "tags": []
   },
   "outputs": [
    {
     "name": "stdout",
     "output_type": "stream",
     "text": [
      "\n",
      "Filtering genes...\n",
      "Starting with 22914 genes.\n",
      "Keeping 22914 genes after filtering genes with expression in 0 cells.\n",
      "Keeping 4962 highly variable or gene program relevant genes.\n",
      "Keeping 3715 genes after filtering genes not in gp dict.\n",
      "\n",
      "Filtering peaks...\n",
      "Starting with 121068 peaks.\n",
      "Keeping 121068 peaks after filtering peaks with counts in less than 4 cells.\n"
     ]
    }
   ],
   "source": [
    "if filter_genes:\n",
    "    print(\"\\nFiltering genes...\")\n",
    "    # Filter genes and only keep ligand, receptor, metabolitye enzyme, \n",
    "    # metabolite sensor and the 'n_hvg' highly variable genes (potential target\n",
    "    # genes of nichenet)\n",
    "    gp_dict_genes = get_unique_genes_from_gp_dict(\n",
    "        gp_dict=combined_new_gp_dict,\n",
    "            retrieved_gene_entities=[\"sources\", \"targets\"])\n",
    "    print(f\"Starting with {len(adata.var_names)} genes.\")\n",
    "    sc.pp.filter_genes(adata,\n",
    "                       min_cells=0)\n",
    "    print(f\"Keeping {len(adata.var_names)} genes after filtering genes with \"\n",
    "          \"expression in 0 cells.\")\n",
    "\n",
    "    if counts_key is not None:\n",
    "        hvg_layer = counts_key\n",
    "        if (adata.layers[counts_key].astype(int).astype(np.float32).sum() == \n",
    "        adata.layers[counts_key].sum()): # raw counts\n",
    "            hvg_flavor = \"seurat_v3\"\n",
    "        else: # log normalized counts\n",
    "            hvg_flavor = \"seurat\"\n",
    "    else:\n",
    "        hvg_layer = None\n",
    "        if adata.X.astype(int).astype(np.float32).sum() == adata.X.sum():\n",
    "        # raw counts\n",
    "            hvg_flavor = \"seurat_v3\"\n",
    "        else: # log normalized counts\n",
    "            hvg_flavor = \"seurat\"\n",
    "\n",
    "    sc.pp.highly_variable_genes(\n",
    "        adata,\n",
    "        layer=hvg_layer,\n",
    "        n_top_genes=n_hvg,\n",
    "        flavor=hvg_flavor,\n",
    "        batch_key=condition_key,\n",
    "        subset=False)\n",
    "\n",
    "    adata.var[\"gp_relevant\"] = (\n",
    "        adata.var.index.str.upper().isin(gp_relevant_genes))\n",
    "    adata.var[\"keep_gene\"] = (adata.var[\"gp_relevant\"] | \n",
    "                              adata.var[\"highly_variable\"])\n",
    "    adata = adata[:, adata.var[\"keep_gene\"] == True]\n",
    "    print(f\"Keeping {len(adata.var_names)} highly variable or gene program \"\n",
    "          \"relevant genes.\")\n",
    "    adata = (adata[:, adata.var_names[adata.var_names.str.upper().isin(\n",
    "                gp_dict_genes)].sort_values()])\n",
    "    print(f\"Keeping {len(adata.var_names)} genes after filtering genes not in \"\n",
    "          \"gp dict.\")\n",
    "    \n",
    "if filter_peaks:\n",
    "    print(\"\\nFiltering peaks...\")\n",
    "    print(f\"Starting with {len(adata_atac.var_names)} peaks.\")\n",
    "    # Filter out peaks that are rarely detected to reduce GPU footprint of model\n",
    "    min_cells = int(adata_atac.shape[0] * min_cell_peak_thresh_ratio)\n",
    "    sc.pp.filter_genes(adata_atac, min_cells=min_cells)\n",
    "    print(f\"Keeping {len(adata_atac.var_names)} peaks after filtering peaks with \"\n",
    "          f\"counts in less than {int(adata_atac.shape[0] * min_cell_peak_thresh_ratio)} cells.\")"
   ]
  },
  {
   "cell_type": "markdown",
   "id": "6da05467-1b1c-41eb-b81c-306a25d660c9",
   "metadata": {},
   "source": [
    "### 2.4 Annotate Genes"
   ]
  },
  {
   "cell_type": "code",
   "execution_count": 10,
   "id": "6e334b0c-ac00-4ee4-bafb-2b8506e07a1c",
   "metadata": {},
   "outputs": [],
   "source": [
    "adata, adata_atac = get_gene_annotations(\n",
    "    adata=adata,\n",
    "    adata_atac=adata_atac,\n",
    "    gtf_file_path=gtf_file_path)"
   ]
  },
  {
   "cell_type": "markdown",
   "id": "8294f3a9-9cab-4654-b979-4836a0c5917c",
   "metadata": {},
   "source": [
    "### 2.5 Add Gene Program Mask to Data"
   ]
  },
  {
   "cell_type": "code",
   "execution_count": 11,
   "id": "306dc799-741e-462a-9957-956ee911e3dd",
   "metadata": {
    "tags": []
   },
   "outputs": [],
   "source": [
    "# Add the gene program dictionary as binary masks to the adata for model \n",
    "# training\n",
    "add_gps_from_gp_dict_to_adata(\n",
    "    gp_dict=combined_new_gp_dict,\n",
    "    adata=adata,\n",
    "    genes_uppercase=True,\n",
    "    gp_targets_mask_key=gp_targets_mask_key,\n",
    "    gp_sources_mask_key=gp_sources_mask_key,\n",
    "    gp_names_key=gp_names_key,\n",
    "    min_genes_per_gp=1,\n",
    "    min_source_genes_per_gp=0,\n",
    "    min_target_genes_per_gp=0,\n",
    "    max_genes_per_gp=None,\n",
    "    max_source_genes_per_gp=None,\n",
    "    max_target_genes_per_gp=None,\n",
    "    filter_genes_not_in_masks=False)"
   ]
  },
  {
   "cell_type": "markdown",
   "id": "391fd660-4729-4ec7-b36a-e34bfdf59b55",
   "metadata": {},
   "source": [
    "### 2.6 Add Chromatin Accessibility Mask to Data"
   ]
  },
  {
   "cell_type": "code",
   "execution_count": 12,
   "id": "db82893a-b80f-4f2a-883d-8031fb70c46b",
   "metadata": {
    "tags": []
   },
   "outputs": [
    {
     "name": "stderr",
     "output_type": "stream",
     "text": [
      "/home/cartalop/miniconda3/envs/autotalker/lib/python3.10/subprocess.py:1072: ResourceWarning: subprocess 34281 is still running\n",
      "  _warn(\"subprocess %s is still running\" % self.pid,\n",
      "/home/cartalop/miniconda3/envs/autotalker/lib/python3.10/subprocess.py:1072: ResourceWarning: subprocess 34282 is still running\n",
      "  _warn(\"subprocess %s is still running\" % self.pid,\n"
     ]
    },
    {
     "data": {
      "application/vnd.jupyter.widget-view+json": {
       "model_id": "e367adf2644c46beb4832dc6e46fae9e",
       "version_major": 2,
       "version_minor": 0
      },
      "text/plain": [
       "window_graph:   0%|          | 0/3677 [00:00<?, ?it/s]"
      ]
     },
     "metadata": {},
     "output_type": "display_data"
    }
   ],
   "source": [
    "gene_peak_dict = generate_multimodal_pairing_dict(\n",
    "    adata,\n",
    "    adata_atac)"
   ]
  },
  {
   "cell_type": "code",
   "execution_count": 13,
   "id": "9d809fb0-2b02-435d-bba2-3ca80d071cd4",
   "metadata": {},
   "outputs": [
    {
     "name": "stdout",
     "output_type": "stream",
     "text": [
      "Keeping 17078 peaks after filtering peaks with no matching genes in gp mask.\n"
     ]
    }
   ],
   "source": [
    "adata_atac = add_multimodal_mask_to_adata(\n",
    "    adata=adata,\n",
    "    adata_atac=adata_atac,\n",
    "    gene_peak_mapping_dict=gene_peak_dict)\n",
    "\n",
    "print(f\"Keeping {len(adata_atac.var_names)} peaks after filtering peaks with \"\n",
    "      \"no matching genes in gp mask.\")"
   ]
  },
  {
   "cell_type": "markdown",
   "id": "e726017a-a5b2-4eec-b9e7-91e56f084559",
   "metadata": {},
   "source": [
    "### 2.7 Initialize, Train & Save Model"
   ]
  },
  {
   "cell_type": "code",
   "execution_count": 14,
   "id": "34ccd774-b7c7-4505-a436-e9af753bf7e6",
   "metadata": {
    "tags": []
   },
   "outputs": [
    {
     "name": "stdout",
     "output_type": "stream",
     "text": [
      "--- INITIALIZING NEW NETWORK MODULE: VARIATIONAL GENE PROGRAM GRAPH AUTOENCODER ---\n",
      "LOSS -> include_edge_recon_loss: True, include_gene_expr_recon_loss: True, gene_expr_recon_dist: nb, include_chrom_access_recon_loss: True, chrom_access_recon_dist: nb \n",
      "NODE LABEL METHOD -> one-hop-norm\n",
      "ACTIVE GP THRESHOLD RATIO -> 0.1\n",
      "LOG VARIATIONAL -> True\n",
      "CONDITIONAL EMBEDDING INJECTION -> ['gene_expr_decoder', 'chrom_access_decoder']\n",
      "ENCODER -> n_input: 20755, n_cond_embed_input: 0, n_layers: 1, n_hidden: 1486, n_latent: 1486, n_addon_latent: 0, conv_layer: gcnconv, n_attention_heads: 0, dropout_rate: 0.0\n"
     ]
    },
    {
     "name": "stderr",
     "output_type": "stream",
     "text": [
      "/home/cartalop/sebastianbirk/autotalker-reproducibility/notebooks/../../autotalker/autotalker/models/autotalker.py:292: UserWarning: Creating a tensor from a list of numpy.ndarrays is extremely slow. Please consider converting the list to a single numpy.ndarray with numpy.array() before converting to a tensor. (Triggered internally at /opt/conda/conda-bld/pytorch_1678411187366/work/torch/csrc/utils/tensor_new.cpp:245.)\n",
      "  self.ca_mask_ = torch.sparse_coo_tensor(\n"
     ]
    },
    {
     "name": "stdout",
     "output_type": "stream",
     "text": [
      "COSINE SIM GRAPH DECODER -> n_cond_embed_input: 0, n_cond_embed_output: 1486, dropout_rate: 0.0\n",
      "MASKED GENE EXPRESSION DECODER -> n_input: 1486, n_cond_embed_input: 1486, n_addon_input: 0, n_output: 7354\n",
      "MASKED CHROMATIN ACCESSIBILITY DECODER -> n_input: 1486, n_cond_embed_input: 1486, n_addon_input: 0, n_output: 34156\n",
      "ONE HOP GCN NORM NODE LABEL AGGREGATOR -> self_loops: True\n"
     ]
    }
   ],
   "source": [
    "# Initialize model\n",
    "model = Autotalker(adata,\n",
    "                   adata_atac,\n",
    "                   counts_key=counts_key,\n",
    "                   adj_key=adj_key,\n",
    "                   condition_key=condition_key,\n",
    "                   cond_embed_injection=cond_embed_injection,\n",
    "                   n_cond_embed=None,\n",
    "                   gp_names_key=gp_names_key,\n",
    "                   active_gp_names_key=active_gp_names_key,\n",
    "                   gp_targets_mask_key=gp_targets_mask_key,\n",
    "                   gp_sources_mask_key=gp_sources_mask_key,\n",
    "                   latent_key=latent_key,\n",
    "                   active_gp_thresh_ratio=active_gp_thresh_ratio,\n",
    "                   gene_expr_recon_dist=gene_expr_recon_dist,\n",
    "                   n_layers_encoder=n_layers_encoder,\n",
    "                   conv_layer_encoder=conv_layer_encoder,\n",
    "                   n_hidden_encoder=None,\n",
    "                   log_variational=log_variational,\n",
    "                   node_label_method=node_label_method)"
   ]
  },
  {
   "cell_type": "code",
   "execution_count": null,
   "id": "4f38627a-2d9b-445f-816b-8f73e207bf9b",
   "metadata": {},
   "outputs": [
    {
     "name": "stdout",
     "output_type": "stream",
     "text": [
      "\n",
      "--- INITIALIZING TRAINER ---\n",
      "Number of training nodes: 8293\n",
      "Number of validation nodes: 922\n",
      "Number of training edges: 33399\n",
      "Number of validation edges: 3711\n",
      "\n",
      "--- MODEL TRAINING ---\n",
      "Epoch 1/100 |--------------------| 1.0% val_auroc_score: 0.9459; val_auprc_score: 0.9522; val_best_acc_score: 0.6974; val_best_f1_score: 0.7652; train_kl_reg_loss: 954.5667; train_edge_recon_loss: 346776.1389; train_gene_expr_recon_loss: 149131.7387; train_masked_gp_l1_reg_loss: 45889.1063; train_group_lasso_reg_loss: 0.0000; train_chrom_access_recon_loss: 259159.9722; train_global_loss: 801911.5139; train_optim_loss: 801911.5139; val_kl_reg_loss: 81.2334; val_edge_recon_loss: 400961.0938; val_gene_expr_recon_loss: 131774.7188; val_masked_gp_l1_reg_loss: 28232.7109; val_group_lasso_reg_loss: 0.0000; val_chrom_access_recon_loss: 250280.9844; val_global_loss: 811330.6875; val_optim_loss: 811330.6875\n",
      "Epoch 2/100 |--------------------| 2.0% val_auroc_score: 0.9116; val_auprc_score: 0.9099; val_best_acc_score: 0.8211; val_best_f1_score: 0.8280; train_kl_reg_loss: 108.8779; train_edge_recon_loss: 345889.8681; train_gene_expr_recon_loss: 128491.0660; train_masked_gp_l1_reg_loss: 18731.1444; train_group_lasso_reg_loss: 0.0000; train_chrom_access_recon_loss: 248105.7726; train_global_loss: 741326.7431; train_optim_loss: 741326.7431; val_kl_reg_loss: 181.6453; val_edge_recon_loss: 385564.9375; val_gene_expr_recon_loss: 126620.4453; val_masked_gp_l1_reg_loss: 9643.0938; val_group_lasso_reg_loss: 0.0000; val_chrom_access_recon_loss: 246408.3750; val_global_loss: 768418.5000; val_optim_loss: 768418.5000\n"
     ]
    }
   ],
   "source": [
    "# Train model\n",
    "model.train(n_epochs=n_epochs,\n",
    "            n_epochs_all_gps=n_epochs_all_gps,\n",
    "            n_epochs_no_cond_contrastive=n_epochs_no_cond_contrastive,\n",
    "            lr=lr,\n",
    "            lambda_edge_recon=lambda_edge_recon,\n",
    "            lambda_gene_expr_recon=lambda_gene_expr_recon,\n",
    "            lambda_chrom_access_recon=lambda_chrom_access_recon,\n",
    "            lambda_cond_contrastive=lambda_cond_contrastive,\n",
    "            contrastive_logits_ratio=contrastive_logits_ratio,\n",
    "            lambda_group_lasso=lambda_group_lasso,\n",
    "            lambda_l1_masked=lambda_l1_masked,\n",
    "            edge_batch_size=edge_batch_size,\n",
    "            node_batch_size=node_batch_size,\n",
    "            mlflow_experiment_id=mlflow_experiment_id,\n",
    "            use_cuda_if_available=False,\n",
    "            verbose=True)"
   ]
  },
  {
   "cell_type": "code",
   "execution_count": null,
   "id": "69946a51-e4df-4ea2-8263-7a24db17b18b",
   "metadata": {
    "tags": []
   },
   "outputs": [],
   "source": [
    "print(\"Computing neighbor graph...\")\n",
    "# Use latent representation for UMAP generation\n",
    "sc.pp.neighbors(model.adata,\n",
    "                use_rep=latent_key,\n",
    "                key_added=latent_key)\n",
    "\n",
    "print(\"\\nComputing UMAP embedding...\")\n",
    "sc.tl.umap(model.adata,\n",
    "           neighbors_key=latent_key)\n",
    "\n",
    "print(\"\\nSaving model...\")\n",
    "# Save trained model\n",
    "model.save(dir_path=model_artifacts_folder_path + \"/reference\",\n",
    "           overwrite=True,\n",
    "           save_adata=True,\n",
    "           adata_file_name=f\"{dataset}_reference.h5ad\",\n",
    "           save_adata_atac=True,\n",
    "           adata_atac_file_name=f\"{dataset}_reference_atac.h5ad\")"
   ]
  },
  {
   "cell_type": "markdown",
   "id": "3a36c4cc-a932-40af-a21e-e7eff2c24dcc",
   "metadata": {},
   "source": [
    "## 3. Analyze Results"
   ]
  },
  {
   "cell_type": "code",
   "execution_count": null,
   "id": "c1281508-3c54-4b6a-95fd-bcbc815cbbd3",
   "metadata": {},
   "outputs": [],
   "source": [
    "sc.tl.leiden(model.adata,\n",
    "             key_added=\"autotalker_cluster\",\n",
    "             neighbors_key=latent_key,\n",
    "             resolution=1.0)"
   ]
  },
  {
   "cell_type": "code",
   "execution_count": null,
   "id": "d2624d37-b64f-4a04-9dcc-fce2cbefa8ba",
   "metadata": {},
   "outputs": [],
   "source": [
    "#del(adata.uns[\"autotalker_cluster_colors\"])\n",
    "sq.pl.spatial_scatter(model.adata, color=\"autotalker_cluster\", shape=None)        "
   ]
  },
  {
   "cell_type": "code",
   "execution_count": null,
   "id": "27fd46c9-a83d-4b80-98d1-bb01844c8faf",
   "metadata": {},
   "outputs": [],
   "source": [
    "sq.pl.spatial_scatter(model.adata, color=\"ATAC_clusters\", shape=None)  "
   ]
  },
  {
   "cell_type": "code",
   "execution_count": null,
   "id": "47e7527a-9c83-4a4d-aa29-943bc450307d",
   "metadata": {},
   "outputs": [],
   "source": [
    "sq.pl.spatial_scatter(model.adata, color=\"RNA_clusters\", shape=None)  "
   ]
  },
  {
   "cell_type": "code",
   "execution_count": null,
   "id": "427c3cd8-e674-4dc5-b008-c3e9f042c17a",
   "metadata": {},
   "outputs": [],
   "source": [
    "# Plot UMAP with cell type annotations\n",
    "fig = sc.pl.umap(model.adata,\n",
    "                 #groups=\"Allantois\",\n",
    "                 color=[\"autotalker_cluster\"],\n",
    "                 palette=latent_cluster_colors,\n",
    "                 legend_fontsize=12,\n",
    "                 size=240000/len(model.adata),\n",
    "                 return_fig=True)\n",
    "fig.set_figheight(10)\n",
    "fig.set_figwidth(10)\n",
    "fig.set_size_inches(15, 10)\n",
    "plt.title(\"Autotalker (Multimodal): Latent Space Cluster Annotations\", size=20, pad=15)"
   ]
  },
  {
   "cell_type": "code",
   "execution_count": null,
   "id": "8d4adb7b-4f20-4e9f-81d3-bbf93baad59e",
   "metadata": {},
   "outputs": [],
   "source": [
    "sq.pl.spatial_scatter(model.adata, color=\"RNA_clusters\", shape=None)        "
   ]
  },
  {
   "cell_type": "code",
   "execution_count": null,
   "id": "d6d5dafa-b4e3-403d-8778-30276462e9aa",
   "metadata": {},
   "outputs": [],
   "source": [
    "# Plot UMAP with cell type annotations\n",
    "fig = sc.pl.umap(model.adata,\n",
    "                 #groups=\"Allantois\",\n",
    "                 color=[\"RNA_clusters\"],\n",
    "                 palette=spatial_atac_rna_seq_mouse_embryo_and_brain_cell_type_colors,\n",
    "                 legend_fontsize=12,\n",
    "                 size=240000/len(model.adata),\n",
    "                 return_fig=True)\n",
    "fig.set_figheight(10)\n",
    "fig.set_figwidth(10)\n",
    "fig.set_size_inches(15, 10)\n",
    "plt.title(\"One-Shot Integration: Latent Space Cell Type Annotations\", size=20, pad=15)"
   ]
  },
  {
   "cell_type": "code",
   "execution_count": null,
   "id": "ec652f46-ab70-40d7-a6e5-6221106b41c5",
   "metadata": {},
   "outputs": [],
   "source": [
    "sq.pl.spatial_scatter(model.adata, color=\"ATAC_clusters\", shape=None)        "
   ]
  },
  {
   "cell_type": "code",
   "execution_count": null,
   "id": "76fe30b6-0c52-4bce-86ac-a26fa4146b9d",
   "metadata": {},
   "outputs": [],
   "source": [
    "model.adata.obs[\"ATAC_clusters\"].unique()"
   ]
  },
  {
   "cell_type": "code",
   "execution_count": null,
   "id": "14aeb8b4-00a0-4479-a890-49461cc0a928",
   "metadata": {},
   "outputs": [],
   "source": [
    "# Plot UMAP with cell type annotations\n",
    "fig = sc.pl.umap(model.adata,\n",
    "                 #groups=\"Allantois\",\n",
    "                 color=[\"ATAC_clusters\"],\n",
    "                 palette=spatial_atac_rna_seq_mouse_embryo_and_brain_atac_colors,\n",
    "                 legend_fontsize=12,\n",
    "                 size=240000/len(model.adata),\n",
    "                 return_fig=True)\n",
    "fig.set_figheight(10)\n",
    "fig.set_figwidth(10)\n",
    "fig.set_size_inches(15, 10)\n",
    "plt.title(\"One-Shot Integration: Latent Space Cell Type Annotations\", size=20, pad=15)"
   ]
  },
  {
   "cell_type": "markdown",
   "id": "166b4741-4e0b-41d7-aacf-87cb87212607",
   "metadata": {},
   "source": [
    "## 4. Benchmarks"
   ]
  },
  {
   "cell_type": "markdown",
   "id": "3636aeb3-edd1-4716-8f15-996a7b000660",
   "metadata": {},
   "source": [
    "### 4.1 SCVI Benchmark (RNA)"
   ]
  },
  {
   "cell_type": "code",
   "execution_count": null,
   "id": "12d3b87a-8032-485f-aa7f-fe5d912adeb0",
   "metadata": {},
   "outputs": [],
   "source": [
    "# Setup adata\n",
    "scvi.model.SCVI.setup_anndata(adata,\n",
    "                              layer=counts_key,\n",
    "                              batch_key=condition_key)\n",
    "\n",
    "# Initialize model\n",
    "# Use hyperparams that provenly work well on integration tasks\n",
    "model = scvi.model.SCVI(adata,\n",
    "                        n_layers=2,\n",
    "                        n_latent=30,\n",
    "                        gene_likelihood=\"nb\")\n",
    "\n",
    "# Train model\n",
    "model.train()\n",
    "\n",
    "# Store latent representation\n",
    "adata.obsm[\"scvi_latent\"] = model.get_latent_representation()"
   ]
  },
  {
   "cell_type": "code",
   "execution_count": null,
   "id": "4cc00644-cfa2-4f08-bb43-f844bf1ddacb",
   "metadata": {},
   "outputs": [],
   "source": [
    "sc.pp.neighbors(adata, use_rep=\"scvi_latent\")\n",
    "sc.tl.umap(adata)\n",
    "sc.tl.leiden(adata, key_added=\"scvi_cluster\", resolution=1.)"
   ]
  },
  {
   "cell_type": "code",
   "execution_count": null,
   "id": "cfc4b9fa-6723-42c8-8552-d20254dc7883",
   "metadata": {},
   "outputs": [],
   "source": [
    "# Plot UMAP with cell type annotations\n",
    "fig = sc.pl.umap(adata,\n",
    "                 #groups=\"Allantois\",\n",
    "                 color=[\"scvi_cluster\"],\n",
    "                 #palette=spatial_atac_rna_seq_mouse_embryo_and_brain_cell_type_colors,\n",
    "                 legend_fontsize=12,\n",
    "                 size=240000/len(adata),\n",
    "                 return_fig=True)\n",
    "fig.set_figheight(10)\n",
    "fig.set_figwidth(10)\n",
    "fig.set_size_inches(15, 10)\n",
    "plt.title(\"One-Shot Integration: Latent Space Cell Type Annotations\", size=20, pad=15)"
   ]
  },
  {
   "cell_type": "code",
   "execution_count": null,
   "id": "48784993-96e7-40a5-b51d-c7390b59597c",
   "metadata": {},
   "outputs": [],
   "source": [
    "# Plot UMAP with cell type annotations\n",
    "fig = sc.pl.umap(adata,\n",
    "                 #groups=\"Allantois\",\n",
    "                 color=[\"leiden\"],\n",
    "                 palette=latent_cluster_colors,\n",
    "                 legend_fontsize=12,\n",
    "                 size=240000/len(model.adata),\n",
    "                 return_fig=True)\n",
    "fig.set_figheight(10)\n",
    "fig.set_figwidth(10)\n",
    "fig.set_size_inches(15, 10)\n",
    "plt.title(\"One-Shot Integration: Latent Space Cell Type Annotations\", size=20, pad=15)"
   ]
  },
  {
   "cell_type": "code",
   "execution_count": null,
   "id": "60bb80fa-e37a-4a5f-87e3-36302bb69e14",
   "metadata": {},
   "outputs": [],
   "source": [
    "sq.pl.spatial_scatter(adata, color=\"scvi_cluster\", shape=None)        "
   ]
  },
  {
   "cell_type": "code",
   "execution_count": null,
   "id": "81a2a560-b933-4fb0-b291-b6fd5d620ffd",
   "metadata": {},
   "outputs": [],
   "source": [
    "sq.pl.spatial_scatter(adata, color=\"RNA_clusters\", shape=None)        "
   ]
  },
  {
   "cell_type": "code",
   "execution_count": null,
   "id": "c70d4e61-ea50-4bca-bc05-1e271e6861a4",
   "metadata": {},
   "outputs": [],
   "source": [
    "del(adata.uns[\"RNA_clusters_colors\"])"
   ]
  },
  {
   "cell_type": "code",
   "execution_count": null,
   "id": "1e3a3bf6-ef70-4b7e-b061-57b72955b71d",
   "metadata": {},
   "outputs": [],
   "source": [
    "sq.pl.spatial_scatter(adata,\n",
    "                      color=\"RNA_clusters\",\n",
    "                      shape=None)        "
   ]
  },
  {
   "cell_type": "markdown",
   "id": "45f7dd1c-0f8f-497f-ba84-435881b8c393",
   "metadata": {},
   "source": [
    "### 4.2 PeakVI Benchmark (ATAC)"
   ]
  },
  {
   "cell_type": "code",
   "execution_count": null,
   "id": "72179cb2-e388-487b-96b0-8b0fe1cf6db4",
   "metadata": {},
   "outputs": [],
   "source": [
    "# Setup adata\n",
    "scvi.model.SCVI.setup_anndata(adata_atac,\n",
    "                              layer=counts_key,\n",
    "                              batch_key=condition_key)\n",
    "\n",
    "# Initialize model\n",
    "pvi = scvi.model.SCVI(adata_atac,\n",
    "                      gene_likelihood=\"nb\")\n",
    "\n",
    "# Train model\n",
    "pvi.train()\n",
    "\n",
    "# Store latent representation\n",
    "adata_atac.obsm[\"pvi_latent\"] = pvi.get_latent_representation()"
   ]
  },
  {
   "cell_type": "code",
   "execution_count": null,
   "id": "5ae3aa04-7804-456c-9dcd-0fe1206544e4",
   "metadata": {},
   "outputs": [],
   "source": [
    "# Setup adata\n",
    "scvi.model.PEAKVI.setup_anndata(adata_atac,\n",
    "                                layer=counts_key,\n",
    "                                batch_key=condition_key)\n",
    "\n",
    "# Initialize model\n",
    "pvi = scvi.model.PEAKVI(adata_atac)\n",
    "\n",
    "# Train model\n",
    "pvi.train()\n",
    "\n",
    "# Store latent representation\n",
    "adata_atac.obsm[\"pvi_latent\"] = pvi.get_latent_representation()"
   ]
  },
  {
   "cell_type": "code",
   "execution_count": null,
   "id": "6ba2c243-206a-4b00-87ba-770cfe090e09",
   "metadata": {},
   "outputs": [],
   "source": [
    "sc.pp.neighbors(adata_atac, use_rep=\"pvi_latent\")\n",
    "sc.tl.umap(adata_atac)\n",
    "sc.tl.leiden(adata_atac, key_added=\"pvi_cluster\", resolution=1.)"
   ]
  },
  {
   "cell_type": "code",
   "execution_count": null,
   "id": "29429a9b-5a1f-4823-a290-b76fc94d39f2",
   "metadata": {},
   "outputs": [],
   "source": [
    "# NB\n",
    "# Plot UMAP with latent cluster annotations\n",
    "fig = sc.pl.umap(adata_atac,\n",
    "                 color=[\"pvi_cluster\"],\n",
    "                 palette=latent_cluster_colors,\n",
    "                 legend_fontsize=12,\n",
    "                 size=240000/len(adata_atac),\n",
    "                 return_fig=True)\n",
    "fig.set_figheight(10)\n",
    "fig.set_figwidth(10)\n",
    "fig.set_size_inches(15, 10)\n",
    "plt.title(\"PeakVI: Latent Space Cluster Annotations\", size=20, pad=15)"
   ]
  },
  {
   "cell_type": "code",
   "execution_count": null,
   "id": "07518f08-abf3-434e-bfc0-aa2455caad62",
   "metadata": {},
   "outputs": [],
   "source": [
    "# NB\n",
    "# Plot UMAP with latent cluster annotations\n",
    "fig = sc.pl.umap(adata_atac,\n",
    "                 color=[\"pvi_cluster\"],\n",
    "                 palette=latent_cluster_colors,\n",
    "                 legend_fontsize=12,\n",
    "                 size=240000/len(adata_atac),\n",
    "                 return_fig=True)\n",
    "fig.set_figheight(10)\n",
    "fig.set_figwidth(10)\n",
    "fig.set_size_inches(15, 10)\n",
    "plt.title(\"PeakVI: Latent Space Cluster Annotations\", size=20, pad=15)"
   ]
  },
  {
   "cell_type": "code",
   "execution_count": null,
   "id": "388a6913-6cde-40ec-a7a0-aec56a47cdb2",
   "metadata": {},
   "outputs": [],
   "source": [
    "# NB\n",
    "# Plot UMAP with latent cluster annotations\n",
    "fig = sc.pl.umap(adata_atac,\n",
    "                 color=[\"pvi_cluster\"],\n",
    "                 palette=latent_cluster_colors,\n",
    "                 legend_fontsize=12,\n",
    "                 size=240000/len(adata_atac),\n",
    "                 return_fig=True)\n",
    "fig.set_figheight(10)\n",
    "fig.set_figwidth(10)\n",
    "fig.set_size_inches(15, 10)\n",
    "plt.title(\"PeakVI: Latent Space Cluster Annotations\", size=20, pad=15)"
   ]
  },
  {
   "cell_type": "code",
   "execution_count": null,
   "id": "af351b5d-28c5-42cc-8392-9919bfc06878",
   "metadata": {},
   "outputs": [],
   "source": [
    "# NB\n",
    "sq.pl.spatial_scatter(adata_atac, color=\"pvi_cluster\", shape=None)"
   ]
  },
  {
   "cell_type": "code",
   "execution_count": null,
   "id": "f7a28e3f-239f-47c3-8814-821fc058ec71",
   "metadata": {},
   "outputs": [],
   "source": [
    "# NB\n",
    "sq.pl.spatial_scatter(adata_atac, color=\"pvi_cluster\", shape=None)        "
   ]
  },
  {
   "cell_type": "code",
   "execution_count": null,
   "id": "05b4a6c6-a8ad-4ba5-8ac6-b8584fc5aedc",
   "metadata": {},
   "outputs": [],
   "source": [
    "# NB\n",
    "sq.pl.spatial_scatter(adata_atac, color=\"pvi_cluster\", shape=None)        "
   ]
  },
  {
   "cell_type": "code",
   "execution_count": null,
   "id": "448a6fcd-def8-43ed-a281-acfec22d67da",
   "metadata": {},
   "outputs": [],
   "source": [
    "# NB\n",
    "sq.pl.spatial_scatter(adata_atac, color=\"ATAC_clusters\", shape=None)        "
   ]
  },
  {
   "cell_type": "code",
   "execution_count": null,
   "id": "152314e2-fdfb-490b-aa59-f38e06fceec5",
   "metadata": {},
   "outputs": [],
   "source": [
    "# Poisson\n",
    "# Plot UMAP with latent cluster annotations\n",
    "fig = sc.pl.umap(adata_atac,\n",
    "                 color=[\"pvi_cluster\"],\n",
    "                 palette=latent_cluster_colors,\n",
    "                 legend_fontsize=12,\n",
    "                 size=240000/len(adata_atac),\n",
    "                 return_fig=True)\n",
    "fig.set_figheight(10)\n",
    "fig.set_figwidth(10)\n",
    "fig.set_size_inches(15, 10)\n",
    "plt.title(\"PeakVI: Latent Space Cluster Annotations\", size=20, pad=15)"
   ]
  },
  {
   "cell_type": "code",
   "execution_count": null,
   "id": "584a0fe3-8f31-4e0a-90e9-f80e2f96424e",
   "metadata": {},
   "outputs": [],
   "source": [
    "# Plot UMAP with given annotations\n",
    "fig = sc.pl.umap(adata_atac,\n",
    "                 color=[\"ATAC_clusters\"],\n",
    "                 # palette=spatial_atac_rna_seq_mouse_embryo_and_brain_atac_colors,\n",
    "                 legend_fontsize=12,\n",
    "                 size=240000/len(adata_atac),\n",
    "                 return_fig=True)\n",
    "fig.set_figheight(10)\n",
    "fig.set_figwidth(10)\n",
    "fig.set_size_inches(15, 10)\n",
    "plt.title(\"PeakVI: Latent Space ATAC Cluster Annotations\", size=20, pad=15)"
   ]
  },
  {
   "cell_type": "code",
   "execution_count": null,
   "id": "1f849c05-a5d6-4e28-88c6-26be79562f9f",
   "metadata": {},
   "outputs": [],
   "source": [
    "# Poisson\n",
    "sq.pl.spatial_scatter(adata_atac, color=\"pvi_cluster\", shape=None)        "
   ]
  },
  {
   "cell_type": "code",
   "execution_count": null,
   "id": "5e740039-191e-492e-a179-332a030500f0",
   "metadata": {},
   "outputs": [],
   "source": [
    "sq.pl.spatial_scatter(adata_atac, color=\"ATAC_clusters\", shape=None)        "
   ]
  },
  {
   "cell_type": "code",
   "execution_count": null,
   "id": "9d6057bb-ac95-45f0-84ec-c203ca8049c7",
   "metadata": {},
   "outputs": [],
   "source": [
    "sq.pl.spatial_scatter(adata_atac, color=\"pvi_cluster\", shape=None)        "
   ]
  },
  {
   "cell_type": "code",
   "execution_count": null,
   "id": "2cd29694-bdc7-4a3e-adf8-551d2bf3f2cb",
   "metadata": {},
   "outputs": [],
   "source": [
    "# Plot UMAP with given annotations\n",
    "fig = sc.pl.umap(adata_atac,\n",
    "                 color=[\"Jiont_clusters\"],\n",
    "                 #palette=spatial_atac_rna_seq_mouse_embryo_and_brain_atac_colors,\n",
    "                 legend_fontsize=12,\n",
    "                 size=240000/len(adata_atac),\n",
    "                 return_fig=True)\n",
    "fig.set_figheight(10)\n",
    "fig.set_figwidth(10)\n",
    "fig.set_size_inches(15, 10)\n",
    "plt.title(\"PeakVI: Latent Space ATAC Cluster Annotations\", size=20, pad=15)"
   ]
  },
  {
   "cell_type": "code",
   "execution_count": null,
   "id": "19d52406-c266-463b-9909-9ae253e159b8",
   "metadata": {},
   "outputs": [],
   "source": [
    "del(adata_atac.uns[\"ATAC_clusters_colors\"])\n",
    "sq.pl.spatial_scatter(adata_atac, color=\"Jiont_clusters\", shape=None)        "
   ]
  },
  {
   "cell_type": "code",
   "execution_count": null,
   "id": "bbd2f9d2-88d3-4587-8cf8-122d40584076",
   "metadata": {},
   "outputs": [],
   "source": []
  }
 ],
 "metadata": {
  "kernelspec": {
   "display_name": "Python 3 (ipykernel)",
   "language": "python",
   "name": "python3"
  },
  "language_info": {
   "codemirror_mode": {
    "name": "ipython",
    "version": 3
   },
   "file_extension": ".py",
   "mimetype": "text/x-python",
   "name": "python",
   "nbconvert_exporter": "python",
   "pygments_lexer": "ipython3",
   "version": "3.10.9"
  },
  "toc-showcode": false
 },
 "nbformat": 4,
 "nbformat_minor": 5
}
