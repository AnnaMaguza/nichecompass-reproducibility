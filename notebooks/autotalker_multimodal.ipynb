{
 "cells": [
  {
   "cell_type": "code",
   "execution_count": 1,
   "id": "01360ce4-b3f1-4766-ae16-db4c327aa091",
   "metadata": {
    "tags": []
   },
   "outputs": [],
   "source": [
    "%load_ext autoreload\n",
    "%autoreload 2"
   ]
  },
  {
   "cell_type": "code",
   "execution_count": 2,
   "id": "8d74beea-c388-4e25-954b-626b4367f596",
   "metadata": {
    "tags": []
   },
   "outputs": [],
   "source": [
    "import sys\n",
    "sys.path.append(\"../../autotalker\")"
   ]
  },
  {
   "cell_type": "code",
   "execution_count": null,
   "id": "4a4ceeba-ef09-4559-88e2-cbe464ecd1d7",
   "metadata": {
    "tags": []
   },
   "outputs": [],
   "source": [
    "import os\n",
    "\n",
    "import anndata as ad\n",
    "import matplotlib.pyplot as plt\n",
    "import scanpy as sc\n",
    "import scib\n",
    "import squidpy as sq\n",
    "\n",
    "from autotalker.benchmarking import compute_clisis, compute_cas\n",
    "from autotalker.models import Autotalker\n",
    "from autotalker.utils import get_gene_annotations, generate_multimodal_pairing_dict, add_multimodal_pairings_to_adata\n",
    "from autotalker.utils import (add_gps_from_gp_dict_to_adata,\n",
    "                              extract_gp_dict_from_mebocost_es_interactions,\n",
    "                              extract_gp_dict_from_nichenet_ligand_target_mx,\n",
    "                              extract_gp_dict_from_omnipath_lr_interactions,\n",
    "                              filter_and_combine_gp_dict_gps,\n",
    "                              get_unique_genes_from_gp_dict)"
   ]
  },
  {
   "cell_type": "markdown",
   "id": "34dd85c6-7214-4099-835c-d700b954dd56",
   "metadata": {},
   "source": [
    "### 1.2 Define Parameters"
   ]
  },
  {
   "cell_type": "code",
   "execution_count": 65,
   "id": "b0a1e66d-6128-4bb7-9540-0f78c07a8f9e",
   "metadata": {},
   "outputs": [],
   "source": [
    "nichenet_keep_target_genes_ratio = 0.01\n",
    "nichenet_max_n_target_genes_per_gp = 25344\n",
    "include_mebocost_gps = True\n",
    "mebocost_species = \"mouse\"\n",
    "filter_genes = True\n",
    "gp_filter_mode = \"subset\"\n",
    "combine_overlap_gps = True\n",
    "overlap_thresh_source_genes = 0.9\n",
    "overlap_thresh_target_genes = 0.9\n",
    "overlap_thresh_genes = 0.9\n",
    "gp_targets_mask_key = \"autotalker_gp_targets\"\n",
    "gp_sources_mask_key = \"autotalker_gp_sources\"\n",
    "gp_names_key = \"autotalker_gp_names\""
   ]
  },
  {
   "cell_type": "code",
   "execution_count": 5,
   "id": "3d0f2be4-39fc-4303-b437-e8204f5b3351",
   "metadata": {},
   "outputs": [],
   "source": [
    "srt_data_gold_folder_path = \"../datasets/srt_data/gold\"\n",
    "figure_folder_path = f\"../figures\"\n",
    "ga_data_folder_path = \"../datasets/ga_data\"\n",
    "gp_data_folder_path = \"../datasets/gp_data\" # gene program data\n",
    "nichenet_ligand_target_mx_file_path = gp_data_folder_path + \"/nichenet_ligand_target_matrix.csv\"\n",
    "omnipath_lr_interactions_file_path = gp_data_folder_path + \"/omnipath_lr_interactions.csv\"\n",
    "gtf_file_path = ga_data_folder_path + \"/gencode.vM32.chr_patch_hapl_scaff.annotation.gtf.gz\"\n",
    "\n",
    "# Create required directories\n",
    "os.makedirs(gp_data_folder_path, exist_ok=True)\n",
    "os.makedirs(srt_data_gold_folder_path + \"/results\", exist_ok=True)"
   ]
  },
  {
   "cell_type": "markdown",
   "id": "cfaa36bc-969b-49f0-bbf7-bd0ae0df6e34",
   "metadata": {},
   "source": [
    "## 2. Autotalker Model"
   ]
  },
  {
   "cell_type": "markdown",
   "id": "6bf51fa5-92f1-49f8-bcf1-590235d2dfd3",
   "metadata": {},
   "source": [
    "### 2.1 Prepare Gene Program Mask"
   ]
  },
  {
   "cell_type": "code",
   "execution_count": 6,
   "id": "807d2e13-29f2-478e-8c8a-a820570917c9",
   "metadata": {
    "tags": []
   },
   "outputs": [
    {
     "name": "stdout",
     "output_type": "stream",
     "text": [
      "Preparing the gene program mask...\n",
      "Number of gene programs before filtering and combining: 1725.\n",
      "Number of gene programs after filtering and combining: 1575.\n"
     ]
    }
   ],
   "source": [
    "print(\"Preparing the gene program mask...\")\n",
    "# OmniPath gene programs\n",
    "omnipath_gp_dict = extract_gp_dict_from_omnipath_lr_interactions(\n",
    "    min_curation_effort=0,\n",
    "    load_from_disk=True,\n",
    "    save_to_disk=False,\n",
    "    file_path=omnipath_lr_interactions_file_path,\n",
    "    plot_gp_gene_count_distributions=False)\n",
    "\n",
    "omnipath_genes = get_unique_genes_from_gp_dict(\n",
    "    gp_dict=omnipath_gp_dict,\n",
    "    retrieved_gene_entities=[\"sources\", \"targets\"])\n",
    "\n",
    "# NicheNet gene programs\n",
    "nichenet_gp_dict = extract_gp_dict_from_nichenet_ligand_target_mx(\n",
    "    keep_target_genes_ratio=nichenet_keep_target_genes_ratio,\n",
    "    max_n_target_genes_per_gp=nichenet_max_n_target_genes_per_gp,\n",
    "    load_from_disk=True,\n",
    "    save_to_disk=False,\n",
    "    file_path=nichenet_ligand_target_mx_file_path,\n",
    "    plot_gp_gene_count_distributions=False)\n",
    "\n",
    "nichenet_source_genes = get_unique_genes_from_gp_dict(\n",
    "    gp_dict=nichenet_gp_dict,\n",
    "    retrieved_gene_entities=[\"sources\"])\n",
    "\n",
    "# Combine gene programs into one dictionary\n",
    "combined_gp_dict = dict(omnipath_gp_dict)\n",
    "combined_gp_dict.update(nichenet_gp_dict)\n",
    "\n",
    "if filter_genes:\n",
    "    # Get gene program relevant genes\n",
    "    gp_relevant_genes = list(set(omnipath_genes + nichenet_source_genes))\n",
    "\n",
    "# Mebocost gene programs\n",
    "if include_mebocost_gps:\n",
    "    mebocost_gp_dict = extract_gp_dict_from_mebocost_es_interactions(\n",
    "    dir_path=f\"{gp_data_folder_path}/metabolite_enzyme_sensor_gps/\",\n",
    "    species=mebocost_species,\n",
    "    genes_uppercase=True,\n",
    "    plot_gp_gene_count_distributions=False)\n",
    "    \n",
    "    mebocost_genes = get_unique_genes_from_gp_dict(\n",
    "        gp_dict=mebocost_gp_dict,\n",
    "        retrieved_gene_entities=[\"sources\", \"targets\"])\n",
    "\n",
    "    combined_gp_dict.update(mebocost_gp_dict)\n",
    "    \n",
    "    if filter_genes:\n",
    "        # Update gene program relevant genes\n",
    "        gp_relevant_genes = list(set(gp_relevant_genes + mebocost_genes))\n",
    "    \n",
    "# Filter and combine gene programs\n",
    "combined_new_gp_dict = filter_and_combine_gp_dict_gps(\n",
    "    gp_dict=combined_gp_dict,\n",
    "    gp_filter_mode=gp_filter_mode,\n",
    "    combine_overlap_gps=combine_overlap_gps,\n",
    "    overlap_thresh_source_genes=overlap_thresh_source_genes,\n",
    "    overlap_thresh_target_genes=overlap_thresh_target_genes,\n",
    "    overlap_thresh_genes=overlap_thresh_genes,\n",
    "    verbose=False)\n",
    "\n",
    "print(\"Number of gene programs before filtering and combining: \"\n",
    "      f\"{len(combined_gp_dict)}.\")\n",
    "print(f\"Number of gene programs after filtering and combining: \"\n",
    "      f\"{len(combined_new_gp_dict)}.\")"
   ]
  },
  {
   "cell_type": "code",
   "execution_count": 7,
   "id": "c2b71431-320b-4b6e-af34-53b2cf9e1824",
   "metadata": {},
   "outputs": [],
   "source": [
    "dataset = \"spatial_atac_rna_seq_mouse_embryo_and_brain_batch1\"\n",
    "spatial_key = \"spatial\"\n",
    "n_neighbors = 4\n",
    "adj_key = \"spatial_connectivities\"\n",
    "n_hvg = 2000\n",
    "counts_key = \"counts\"\n",
    "condition_key = \"batch\""
   ]
  },
  {
   "cell_type": "code",
   "execution_count": 8,
   "id": "13c1a2a4-a040-4ad4-9fc4-ba63cced7ce5",
   "metadata": {},
   "outputs": [],
   "source": [
    "adata = sc.read_h5ad(\n",
    "        f\"{srt_data_gold_folder_path}/{dataset}_rna.h5ad\")\n",
    "adata_atac = sc.read_h5ad(\n",
    "        f\"{srt_data_gold_folder_path}/{dataset}_atac.h5ad\")\n",
    "\n",
    "# TEMP DELETE\n",
    "adata.layers[\"counts\"] = adata.X\n",
    "adata_atac.layers[\"counts\"] = adata_atac.X\n",
    "adata.obs[\"batch\"] = \"e13\"\n",
    "adata_atac.obs[\"batch\"] = \"e13\"\n",
    "\n",
    "# Compute (separate) spatial neighborhood graphs\n",
    "sq.gr.spatial_neighbors(adata,\n",
    "                        coord_type=\"generic\",\n",
    "                        spatial_key=spatial_key,\n",
    "                        n_neighs=n_neighbors)\n",
    "# Make adjacency matrix symmetric\n",
    "adata.obsp[adj_key] = (\n",
    "    adata.obsp[adj_key].maximum(\n",
    "        adata.obsp[adj_key].T))"
   ]
  },
  {
   "cell_type": "code",
   "execution_count": 9,
   "id": "f5ec964c-2d59-4f5a-8bdd-6904bb5b0b61",
   "metadata": {},
   "outputs": [
    {
     "name": "stdout",
     "output_type": "stream",
     "text": [
      "\n",
      "Filtering genes...\n",
      "Starting with 20900 genes.\n",
      "Keeping 20900 genes after filtering genes with expression in 0 cells.\n",
      "Keeping 3953 highly variable or gene program relevant genes.\n",
      "Keeping 3570 genes after filtering genes not in gp dict.\n"
     ]
    }
   ],
   "source": [
    "if filter_genes:\n",
    "    print(\"\\nFiltering genes...\")\n",
    "    # Filter genes and only keep ligand, receptor, metabolitye enzyme, \n",
    "    # metabolite sensor and the 'n_hvg' highly variable genes (potential target\n",
    "    # genes of nichenet)\n",
    "    gp_dict_genes = get_unique_genes_from_gp_dict(\n",
    "        gp_dict=combined_new_gp_dict,\n",
    "        retrieved_gene_entities=[\"sources\", \"targets\"])\n",
    "    print(f\"Starting with {len(adata.var_names)} genes.\")\n",
    "    sc.pp.filter_genes(adata,\n",
    "                       min_cells=0)\n",
    "    print(f\"Keeping {len(adata.var_names)} genes after filtering genes with \"\n",
    "          \"expression in 0 cells.\")\n",
    "\n",
    "    if counts_key is not None:\n",
    "        hvg_layer = counts_key\n",
    "        if (adata.layers[counts_key].astype(int).sum() == \n",
    "        adata.layers[counts_key].sum()): # raw counts\n",
    "            hvg_flavor = \"seurat_v3\"\n",
    "        else: # log normalized counts\n",
    "            hvg_flavor = \"seurat\"\n",
    "    else:\n",
    "        hvg_layer = None\n",
    "        if adata.X.astype(int).sum() == adata.X.sum():\n",
    "        # raw counts\n",
    "            hvg_flavor = \"seurat_v3\"\n",
    "        else: # log normalized counts\n",
    "            hvg_flavor = \"seurat\"\n",
    "\n",
    "    sc.pp.highly_variable_genes(\n",
    "        adata,\n",
    "        layer=hvg_layer,\n",
    "        n_top_genes=n_hvg,\n",
    "        flavor=hvg_flavor,\n",
    "        batch_key=condition_key,\n",
    "        subset=False)\n",
    "\n",
    "    adata.var[\"gp_relevant\"] = (\n",
    "        adata.var.index.str.upper().isin(gp_relevant_genes))\n",
    "    adata.var[\"keep_gene\"] = (adata.var[\"gp_relevant\"] | \n",
    "                              adata.var[\"highly_variable\"])\n",
    "    adata = adata[:, adata.var[\"keep_gene\"] == True]\n",
    "    print(f\"Keeping {len(adata.var_names)} highly variable or gene program \"\n",
    "          \"relevant genes.\")\n",
    "    adata = (adata[:, adata.var_names[adata.var_names.str.upper().isin(\n",
    "                gp_dict_genes)].sort_values()])\n",
    "    print(f\"Keeping {len(adata.var_names)} genes after filtering genes not in \"\n",
    "          \"gp dict.\")"
   ]
  },
  {
   "cell_type": "code",
   "execution_count": 66,
   "id": "306dc799-741e-462a-9957-956ee911e3dd",
   "metadata": {},
   "outputs": [],
   "source": [
    "# Add the gene program dictionary as binary masks to the adata for model \n",
    "# training\n",
    "add_gps_from_gp_dict_to_adata(\n",
    "    gp_dict=combined_new_gp_dict,\n",
    "    adata=adata,\n",
    "    genes_uppercase=True,\n",
    "    gp_targets_mask_key=gp_targets_mask_key,\n",
    "    gp_sources_mask_key=gp_sources_mask_key,\n",
    "    gp_names_key=gp_names_key,\n",
    "    min_genes_per_gp=1,\n",
    "    min_source_genes_per_gp=0,\n",
    "    min_target_genes_per_gp=0,\n",
    "    max_genes_per_gp=None,\n",
    "    max_source_genes_per_gp=None,\n",
    "    max_target_genes_per_gp=None,\n",
    "    filter_genes_not_in_masks=False)"
   ]
  },
  {
   "cell_type": "code",
   "execution_count": null,
   "id": "db82893a-b80f-4f2a-883d-8031fb70c46b",
   "metadata": {},
   "outputs": [],
   "source": [
    "adata, adata_atac = get_gene_annotations(\n",
    "    adata=adata,\n",
    "    adata_atac=adata_atac,\n",
    "    gtf_file_path=gtf_file_path)\n",
    "\n",
    "gene_peak_dict = generate_multimodal_pairing_dict(\n",
    "    adata,\n",
    "    adata_atac)\n",
    "\n",
    "add_multimodal_pairings_to_adata(\n",
    "    gp_dict=combined_new_gp_dict,\n",
    "    atac_pairing_dict=gene_peak_dict,\n",
    "    adata_atac=adata_atac)"
   ]
  },
  {
   "cell_type": "raw",
   "id": "94f28912-a824-4131-a5f2-a8a9a4ec2308",
   "metadata": {},
   "source": [
    "import pickle\n",
    "# Open the file in write binary mode\n",
    "with open(\"gene_peak_dict\", \"wb\") as file:\n",
    "    # Dump the dictionary to the file\n",
    "    pickle.dump(gene_peak_dict, file)"
   ]
  },
  {
   "cell_type": "raw",
   "id": "cd746966-77e5-4c94-9eb5-366398186219",
   "metadata": {},
   "source": [
    "import pickle\n",
    "with open(\"gene_peak_dict\", \"rb\") as file:\n",
    "    # Dump the dictionary to the file\n",
    "    gene_peak_dict = pickle.load(file)"
   ]
  },
  {
   "cell_type": "code",
   "execution_count": 62,
   "id": "f051887e-cc15-4534-9142-8efc5b7d8582",
   "metadata": {},
   "outputs": [
    {
     "data": {
      "text/plain": [
       "AnnData object with n_obs × n_vars = 2187 × 3531\n",
       "    obs: 'RNA_clusters', 'ATAC_clusters', 'Joint_clusters', 'batch'\n",
       "    var: 'n_cells', 'highly_variable', 'highly_variable_rank', 'means', 'variances', 'variances_norm', 'highly_variable_nbatches', 'gp_relevant', 'keep_gene', 'chrom', 'chromStart', 'chromEnd', 'name', 'score', 'strand', 'thickStart', 'thickEnd', 'itemRgb', 'blockCount', 'blockSizes', 'blockStarts', 'gene_id', 'gene_type', 'mgi_id', 'havana_gene', 'tag'\n",
       "    uns: 'spatial_neighbors', 'hvg'\n",
       "    obsm: 'spatial'\n",
       "    layers: 'counts'\n",
       "    obsp: 'spatial_connectivities', 'spatial_distances'"
      ]
     },
     "execution_count": 62,
     "metadata": {},
     "output_type": "execute_result"
    }
   ],
   "source": [
    "adata"
   ]
  },
  {
   "cell_type": "code",
   "execution_count": 68,
   "id": "81da0101-5631-4b4e-9a9f-1cc5aeffce87",
   "metadata": {},
   "outputs": [],
   "source": [
    "# Determine dimensionality of hidden encoder\n",
    "n_hidden_encoder = len(adata.uns[gp_names_key])\n",
    "\n",
    "# Determine dimensionality of conditional embedding (in case injected)\n",
    "n_cond_embed = len(adata.uns[gp_names_key])"
   ]
  },
  {
   "cell_type": "code",
   "execution_count": 69,
   "id": "34ccd774-b7c7-4505-a436-e9af753bf7e6",
   "metadata": {
    "tags": []
   },
   "outputs": [
    {
     "name": "stdout",
     "output_type": "stream",
     "text": [
      "\n",
      "Training model...\n"
     ]
    },
    {
     "ename": "NameError",
     "evalue": "name 'Autotalker' is not defined",
     "output_type": "error",
     "traceback": [
      "\u001b[0;31m---------------------------------------------------------------------------\u001b[0m",
      "\u001b[0;31mNameError\u001b[0m                                 Traceback (most recent call last)",
      "Cell \u001b[0;32mIn[69], line 3\u001b[0m\n\u001b[1;32m      1\u001b[0m \u001b[38;5;28mprint\u001b[39m(\u001b[38;5;124m\"\u001b[39m\u001b[38;5;130;01m\\n\u001b[39;00m\u001b[38;5;124mTraining model...\u001b[39m\u001b[38;5;124m\"\u001b[39m)\n\u001b[1;32m      2\u001b[0m \u001b[38;5;66;03m# Initialize model\u001b[39;00m\n\u001b[0;32m----> 3\u001b[0m model \u001b[38;5;241m=\u001b[39m \u001b[43mAutotalker\u001b[49m(adata,\n\u001b[1;32m      4\u001b[0m                    adata_atac,\n\u001b[1;32m      5\u001b[0m                    counts_key\u001b[38;5;241m=\u001b[39margs\u001b[38;5;241m.\u001b[39mcounts_key,\n\u001b[1;32m      6\u001b[0m                    adj_key\u001b[38;5;241m=\u001b[39margs\u001b[38;5;241m.\u001b[39madj_key,\n\u001b[1;32m      7\u001b[0m                    condition_key\u001b[38;5;241m=\u001b[39margs\u001b[38;5;241m.\u001b[39mcondition_key,\n\u001b[1;32m      8\u001b[0m                    cond_embed_injection\u001b[38;5;241m=\u001b[39margs\u001b[38;5;241m.\u001b[39mcond_embed_injection,\n\u001b[1;32m      9\u001b[0m                    n_cond_embed\u001b[38;5;241m=\u001b[39mn_cond_embed,\n\u001b[1;32m     10\u001b[0m                    gp_names_key\u001b[38;5;241m=\u001b[39margs\u001b[38;5;241m.\u001b[39mgp_names_key,\n\u001b[1;32m     11\u001b[0m                    active_gp_names_key\u001b[38;5;241m=\u001b[39margs\u001b[38;5;241m.\u001b[39mactive_gp_names_key,\n\u001b[1;32m     12\u001b[0m                    gp_targets_mask_key\u001b[38;5;241m=\u001b[39margs\u001b[38;5;241m.\u001b[39mgp_targets_mask_key,\n\u001b[1;32m     13\u001b[0m                    gp_sources_mask_key\u001b[38;5;241m=\u001b[39margs\u001b[38;5;241m.\u001b[39mgp_sources_mask_key,\n\u001b[1;32m     14\u001b[0m                    latent_key\u001b[38;5;241m=\u001b[39margs\u001b[38;5;241m.\u001b[39mlatent_key,\n\u001b[1;32m     15\u001b[0m                    active_gp_thresh_ratio\u001b[38;5;241m=\u001b[39margs\u001b[38;5;241m.\u001b[39mactive_gp_thresh_ratio,\n\u001b[1;32m     16\u001b[0m                    gene_expr_recon_dist\u001b[38;5;241m=\u001b[39margs\u001b[38;5;241m.\u001b[39mgene_expr_recon_dist,\n\u001b[1;32m     17\u001b[0m                    n_layers_encoder\u001b[38;5;241m=\u001b[39margs\u001b[38;5;241m.\u001b[39mn_layers_encoder,\n\u001b[1;32m     18\u001b[0m                    conv_layer_encoder\u001b[38;5;241m=\u001b[39margs\u001b[38;5;241m.\u001b[39mconv_layer_encoder,\n\u001b[1;32m     19\u001b[0m                    n_hidden_encoder\u001b[38;5;241m=\u001b[39mn_hidden_encoder,\n\u001b[1;32m     20\u001b[0m                    log_variational\u001b[38;5;241m=\u001b[39margs\u001b[38;5;241m.\u001b[39mlog_variational,\n\u001b[1;32m     21\u001b[0m                    node_label_method\u001b[38;5;241m=\u001b[39margs\u001b[38;5;241m.\u001b[39mnode_label_method)\n",
      "\u001b[0;31mNameError\u001b[0m: name 'Autotalker' is not defined"
     ]
    }
   ],
   "source": [
    "print(\"\\nTraining model...\")\n",
    "# Initialize model\n",
    "model = Autotalker(adata,\n",
    "                   adata_atac,\n",
    "                   counts_key=args.counts_key,\n",
    "                   adj_key=args.adj_key,\n",
    "                   condition_key=args.condition_key,\n",
    "                   cond_embed_injection=args.cond_embed_injection,\n",
    "                   n_cond_embed=n_cond_embed,\n",
    "                   gp_names_key=args.gp_names_key,\n",
    "                   active_gp_names_key=args.active_gp_names_key,\n",
    "                   gp_targets_mask_key=args.gp_targets_mask_key,\n",
    "                   gp_sources_mask_key=args.gp_sources_mask_key,\n",
    "                   latent_key=args.latent_key,\n",
    "                   active_gp_thresh_ratio=args.active_gp_thresh_ratio,\n",
    "                   gene_expr_recon_dist=args.gene_expr_recon_dist,\n",
    "                   n_layers_encoder=args.n_layers_encoder,\n",
    "                   conv_layer_encoder=args.conv_layer_encoder,\n",
    "                   n_hidden_encoder=n_hidden_encoder,\n",
    "                   log_variational=args.log_variational,\n",
    "                   node_label_method=args.node_label_method)"
   ]
  },
  {
   "cell_type": "code",
   "execution_count": null,
   "id": "4f38627a-2d9b-445f-816b-8f73e207bf9b",
   "metadata": {},
   "outputs": [],
   "source": [
    "# Train model\n",
    "model.train(n_epochs=args.n_epochs,\n",
    "            n_epochs_all_gps=args.n_epochs_all_gps,\n",
    "            n_epochs_no_cond_contrastive=args.n_epochs_no_cond_contrastive,\n",
    "            lr=args.lr,\n",
    "            lambda_edge_recon=args.lambda_edge_recon,\n",
    "            lambda_gene_expr_recon=args.lambda_gene_expr_recon,\n",
    "            lambda_cond_contrastive=args.lambda_cond_contrastive,\n",
    "            contrastive_logits_ratio=args.contrastive_logits_ratio,\n",
    "            lambda_group_lasso=args.lambda_group_lasso,\n",
    "            lambda_l1_masked=args.lambda_l1_masked,\n",
    "            edge_batch_size=args.edge_batch_size,\n",
    "            node_batch_size=args.node_batch_size,\n",
    "            mlflow_experiment_id=mlflow_experiment_id,\n",
    "            verbose=True)"
   ]
  }
 ],
 "metadata": {
  "kernelspec": {
   "display_name": "Python 3 (ipykernel)",
   "language": "python",
   "name": "python3"
  },
  "language_info": {
   "codemirror_mode": {
    "name": "ipython",
    "version": 3
   },
   "file_extension": ".py",
   "mimetype": "text/x-python",
   "name": "python",
   "nbconvert_exporter": "python",
   "pygments_lexer": "ipython3",
   "version": "3.9.16"
  },
  "toc-showcode": false
 },
 "nbformat": 4,
 "nbformat_minor": 5
}
