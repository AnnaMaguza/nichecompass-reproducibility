{
 "cells": [
  {
   "cell_type": "markdown",
   "id": "9f591a0e-a193-41fc-ac73-244685d00364",
   "metadata": {},
   "source": [
    "# Autotalker Multimodal"
   ]
  },
  {
   "cell_type": "markdown",
   "id": "9ee29243-10ac-42ee-bcdb-a3f6d2e7a0dc",
   "metadata": {},
   "source": [
    "- **Creator**: Sebastian Birk (<sebastian.birk@helmholtz-munich.de>).\n",
    "- **Affiliation:** Helmholtz Munich, Institute of Computational Biology (ICB), Talavera-López Lab\n",
    "- **Date of Creation:** 24.04.2023\n",
    "- **Date of Last Modification:** 03.05.2023"
   ]
  },
  {
   "cell_type": "markdown",
   "id": "d0125b1d-0a8c-4100-baa0-42de7d4499c6",
   "metadata": {},
   "source": [
    "## 1. Setup"
   ]
  },
  {
   "cell_type": "markdown",
   "id": "e738fa93-0e42-4130-9667-4eb9496493a0",
   "metadata": {},
   "source": [
    "### 1.1 Import Libraries"
   ]
  },
  {
   "cell_type": "code",
   "execution_count": 4,
   "id": "01360ce4-b3f1-4766-ae16-db4c327aa091",
   "metadata": {
    "tags": []
   },
   "outputs": [
    {
     "name": "stdout",
     "output_type": "stream",
     "text": [
      "The autoreload extension is already loaded. To reload it, use:\n",
      "  %reload_ext autoreload\n"
     ]
    }
   ],
   "source": [
    "%load_ext autoreload\n",
    "%autoreload 2"
   ]
  },
  {
   "cell_type": "code",
   "execution_count": 5,
   "id": "8d74beea-c388-4e25-954b-626b4367f596",
   "metadata": {
    "tags": []
   },
   "outputs": [],
   "source": [
    "import sys\n",
    "sys.path.append(\"../../autotalker\")\n",
    "sys.path.append(\"../utils\")"
   ]
  },
  {
   "cell_type": "code",
   "execution_count": 6,
   "id": "4a4ceeba-ef09-4559-88e2-cbe464ecd1d7",
   "metadata": {
    "tags": []
   },
   "outputs": [],
   "source": [
    "import os\n",
    "\n",
    "import anndata as ad\n",
    "import matplotlib.pyplot as plt\n",
    "import scanpy as sc\n",
    "import scib\n",
    "import scvi\n",
    "import squidpy as sq\n",
    "\n",
    "from autotalker.benchmarking import compute_clisis, compute_cas\n",
    "from autotalker.models import Autotalker\n",
    "from autotalker.utils import get_gene_annotations, generate_multimodal_pairing_dict, add_multimodal_mask_to_adata\n",
    "from autotalker.utils import (add_gps_from_gp_dict_to_adata,\n",
    "                              extract_gp_dict_from_mebocost_es_interactions,\n",
    "                              extract_gp_dict_from_nichenet_ligand_target_mx,\n",
    "                              extract_gp_dict_from_omnipath_lr_interactions,\n",
    "                              filter_and_combine_gp_dict_gps,\n",
    "                              get_unique_genes_from_gp_dict)\n",
    "\n",
    "from color_utils import (latent_cluster_colors,\n",
    "                         spatial_atac_rna_seq_mouse_embryo_and_brain_rna_colors,\n",
    "                         spatial_atac_rna_seq_mouse_embryo_and_brain_atac_colors)"
   ]
  },
  {
   "cell_type": "markdown",
   "id": "34dd85c6-7214-4099-835c-d700b954dd56",
   "metadata": {},
   "source": [
    "### 1.2 Define Parameters"
   ]
  },
  {
   "cell_type": "code",
   "execution_count": 10,
   "id": "b0a1e66d-6128-4bb7-9540-0f78c07a8f9e",
   "metadata": {
    "tags": []
   },
   "outputs": [],
   "source": [
    "dataset = \"spatial_atac_rna_seq_mouse_embryo_and_brain_batch1\"\n",
    "spatial_key = \"spatial\"\n",
    "n_neighbors = 12\n",
    "adj_key = \"spatial_connectivities\"\n",
    "n_hvg = 2000\n",
    "counts_key = \"counts\"\n",
    "condition_key = \"batch\"\n",
    "\n",
    "nichenet_keep_target_genes_ratio = 0.01\n",
    "nichenet_max_n_target_genes_per_gp = 25344\n",
    "include_mebocost_gps = True\n",
    "mebocost_species = \"mouse\"\n",
    "filter_genes = True\n",
    "gp_filter_mode = \"subset\"\n",
    "combine_overlap_gps = True\n",
    "overlap_thresh_source_genes = 0.9\n",
    "overlap_thresh_target_genes = 0.9\n",
    "overlap_thresh_genes = 0.9\n",
    "gp_targets_mask_key = \"autotalker_gp_targets\"\n",
    "gp_sources_mask_key = \"autotalker_gp_sources\"\n",
    "gp_names_key = \"autotalker_gp_names\"\n",
    "cond_embed_injection = [\"gene_expr_decoder\"]\n",
    "active_gp_names_key = \"autotalker_active_gp_names\"\n",
    "latent_key = \"autotalker_latent\"\n",
    "active_gp_thresh_ratio = 0.05\n",
    "gene_expr_recon_dist = \"nb\"\n",
    "n_layers_encoder = 1\n",
    "conv_layer_encoder = \"gcnconv\"\n",
    "log_variational = True\n",
    "node_label_method = \"one-hop-attention\"\n",
    "filter_peaks = True\n",
    "min_cell_peak_thresh_ratio = 0.001 # 0.1%\n",
    "n_epochs = 10\n",
    "n_epochs_all_gps = 10\n",
    "n_epochs_no_cond_contrastive = 0\n",
    "lr = 0.001\n",
    "lambda_edge_recon = 0.\n",
    "lambda_gene_expr_recon = 0.\n",
    "lambda_chrom_access_recon = 1000.\n",
    "lambda_cond_contrastive = 0.\n",
    "contrastive_logits_ratio = 0.015625\n",
    "lambda_group_lasso = 0.\n",
    "lambda_l1_masked = 0.\n",
    "edge_batch_size = 128\n",
    "node_batch_size = None\n",
    "mlflow_experiment_id = None"
   ]
  },
  {
   "cell_type": "code",
   "execution_count": 8,
   "id": "3d0f2be4-39fc-4303-b437-e8204f5b3351",
   "metadata": {
    "tags": []
   },
   "outputs": [],
   "source": [
    "srt_data_gold_folder_path = \"../datasets/srt_data/gold\"\n",
    "figure_folder_path = f\"../figures\"\n",
    "ga_data_folder_path = \"../datasets/ga_data\"\n",
    "gp_data_folder_path = \"../datasets/gp_data\" # gene program data\n",
    "nichenet_ligand_target_mx_file_path = gp_data_folder_path + \"/nichenet_ligand_target_matrix.csv\"\n",
    "omnipath_lr_interactions_file_path = gp_data_folder_path + \"/omnipath_lr_interactions.csv\"\n",
    "gtf_file_path = ga_data_folder_path + \"/gencode.vM32.chr_patch_hapl_scaff.annotation.gtf.gz\"\n",
    "\n",
    "# Create required directories\n",
    "os.makedirs(gp_data_folder_path, exist_ok=True)\n",
    "os.makedirs(srt_data_gold_folder_path + \"/results\", exist_ok=True)"
   ]
  },
  {
   "cell_type": "markdown",
   "id": "cfaa36bc-969b-49f0-bbf7-bd0ae0df6e34",
   "metadata": {},
   "source": [
    "## 2. Autotalker Model"
   ]
  },
  {
   "cell_type": "markdown",
   "id": "6bf51fa5-92f1-49f8-bcf1-590235d2dfd3",
   "metadata": {},
   "source": [
    "### 2.1 Prepare Gene Program Mask"
   ]
  },
  {
   "cell_type": "code",
   "execution_count": 9,
   "id": "807d2e13-29f2-478e-8c8a-a820570917c9",
   "metadata": {
    "tags": []
   },
   "outputs": [
    {
     "name": "stdout",
     "output_type": "stream",
     "text": [
      "Preparing the gene program mask...\n",
      "Number of gene programs before filtering and combining: 1725.\n",
      "Number of gene programs after filtering and combining: 1575.\n"
     ]
    }
   ],
   "source": [
    "print(\"Preparing the gene program mask...\")\n",
    "# OmniPath gene programs\n",
    "omnipath_gp_dict = extract_gp_dict_from_omnipath_lr_interactions(\n",
    "    min_curation_effort=0,\n",
    "    load_from_disk=True,\n",
    "    save_to_disk=False,\n",
    "    file_path=omnipath_lr_interactions_file_path,\n",
    "    plot_gp_gene_count_distributions=False)\n",
    "\n",
    "omnipath_genes = get_unique_genes_from_gp_dict(\n",
    "    gp_dict=omnipath_gp_dict,\n",
    "    retrieved_gene_entities=[\"sources\", \"targets\"])\n",
    "\n",
    "# NicheNet gene programs\n",
    "nichenet_gp_dict = extract_gp_dict_from_nichenet_ligand_target_mx(\n",
    "    keep_target_genes_ratio=nichenet_keep_target_genes_ratio,\n",
    "    max_n_target_genes_per_gp=nichenet_max_n_target_genes_per_gp,\n",
    "    load_from_disk=True,\n",
    "    save_to_disk=False,\n",
    "    file_path=nichenet_ligand_target_mx_file_path,\n",
    "    plot_gp_gene_count_distributions=False)\n",
    "\n",
    "nichenet_source_genes = get_unique_genes_from_gp_dict(\n",
    "    gp_dict=nichenet_gp_dict,\n",
    "    retrieved_gene_entities=[\"sources\"])\n",
    "\n",
    "# Combine gene programs into one dictionary\n",
    "combined_gp_dict = dict(omnipath_gp_dict)\n",
    "combined_gp_dict.update(nichenet_gp_dict)\n",
    "\n",
    "if filter_genes:\n",
    "    # Get gene program relevant genes\n",
    "    gp_relevant_genes = list(set(omnipath_genes + nichenet_source_genes))\n",
    "\n",
    "# Mebocost gene programs\n",
    "if include_mebocost_gps:\n",
    "    mebocost_gp_dict = extract_gp_dict_from_mebocost_es_interactions(\n",
    "    dir_path=f\"{gp_data_folder_path}/metabolite_enzyme_sensor_gps/\",\n",
    "    species=mebocost_species,\n",
    "    genes_uppercase=True,\n",
    "    plot_gp_gene_count_distributions=False)\n",
    "    \n",
    "    mebocost_genes = get_unique_genes_from_gp_dict(\n",
    "        gp_dict=mebocost_gp_dict,\n",
    "        retrieved_gene_entities=[\"sources\", \"targets\"])\n",
    "\n",
    "    combined_gp_dict.update(mebocost_gp_dict)\n",
    "    \n",
    "    if filter_genes:\n",
    "        # Update gene program relevant genes\n",
    "        gp_relevant_genes = list(set(gp_relevant_genes + mebocost_genes))\n",
    "    \n",
    "# Filter and combine gene programs\n",
    "combined_new_gp_dict = filter_and_combine_gp_dict_gps(\n",
    "    gp_dict=combined_gp_dict,\n",
    "    gp_filter_mode=gp_filter_mode,\n",
    "    combine_overlap_gps=combine_overlap_gps,\n",
    "    overlap_thresh_source_genes=overlap_thresh_source_genes,\n",
    "    overlap_thresh_target_genes=overlap_thresh_target_genes,\n",
    "    overlap_thresh_genes=overlap_thresh_genes,\n",
    "    verbose=False)\n",
    "\n",
    "print(\"Number of gene programs before filtering and combining: \"\n",
    "      f\"{len(combined_gp_dict)}.\")\n",
    "print(f\"Number of gene programs after filtering and combining: \"\n",
    "      f\"{len(combined_new_gp_dict)}.\")"
   ]
  },
  {
   "cell_type": "markdown",
   "id": "0f123920-0fba-46e4-8e33-07f374630221",
   "metadata": {},
   "source": [
    "### 2.2 Load Data & Compute Spatial Neighbor Graph"
   ]
  },
  {
   "cell_type": "code",
   "execution_count": 11,
   "id": "13c1a2a4-a040-4ad4-9fc4-ba63cced7ce5",
   "metadata": {
    "tags": []
   },
   "outputs": [
    {
     "name": "stderr",
     "output_type": "stream",
     "text": [
      "\n",
      "KeyboardInterrupt\n",
      "\n"
     ]
    }
   ],
   "source": [
    "# Read data\n",
    "adata = sc.read_h5ad(\n",
    "        f\"{srt_data_gold_folder_path}/{dataset}_rna.h5ad\")\n",
    "adata_atac = sc.read_h5ad(\n",
    "        f\"{srt_data_gold_folder_path}/{dataset}_atac.h5ad\")\n",
    "\n",
    "# Compute (separate) spatial neighborhood graphs\n",
    "sq.gr.spatial_neighbors(adata,\n",
    "                        coord_type=\"generic\",\n",
    "                        spatial_key=spatial_key,\n",
    "                        n_neighs=n_neighbors)\n",
    "# Make adjacency matrix symmetric\n",
    "adata.obsp[adj_key] = (\n",
    "    adata.obsp[adj_key].maximum(\n",
    "        adata.obsp[adj_key].T))"
   ]
  },
  {
   "cell_type": "markdown",
   "id": "b0b68fd8-4964-4492-ae7f-29a09ed2b6bb",
   "metadata": {},
   "source": [
    "### 2.3 Filter Genes & Peaks"
   ]
  },
  {
   "cell_type": "code",
   "execution_count": null,
   "id": "f5ec964c-2d59-4f5a-8bdd-6904bb5b0b61",
   "metadata": {
    "tags": []
   },
   "outputs": [],
   "source": [
    "if filter_genes:\n",
    "    print(\"\\nFiltering genes...\")\n",
    "    # Filter genes and only keep ligand, receptor, metabolitye enzyme, \n",
    "    # metabolite sensor and the 'n_hvg' highly variable genes (potential target\n",
    "    # genes of nichenet)\n",
    "    gp_dict_genes = get_unique_genes_from_gp_dict(\n",
    "        gp_dict=combined_new_gp_dict,\n",
    "            retrieved_gene_entities=[\"sources\", \"targets\"])\n",
    "    print(f\"Starting with {len(adata.var_names)} genes.\")\n",
    "    sc.pp.filter_genes(adata,\n",
    "                       min_cells=0)\n",
    "    print(f\"Keeping {len(adata.var_names)} genes after filtering genes with \"\n",
    "          \"expression in 0 cells.\")\n",
    "\n",
    "    if counts_key is not None:\n",
    "        hvg_layer = counts_key\n",
    "        if (adata.layers[counts_key].astype(int).sum() == \n",
    "        adata.layers[counts_key].sum()): # raw counts\n",
    "            hvg_flavor = \"seurat_v3\"\n",
    "        else: # log normalized counts\n",
    "            hvg_flavor = \"seurat\"\n",
    "    else:\n",
    "        hvg_layer = None\n",
    "        if adata.X.astype(int).sum() == adata.X.sum():\n",
    "        # raw counts\n",
    "            hvg_flavor = \"seurat_v3\"\n",
    "        else: # log normalized counts\n",
    "            hvg_flavor = \"seurat\"\n",
    "\n",
    "    sc.pp.highly_variable_genes(\n",
    "        adata,\n",
    "        layer=hvg_layer,\n",
    "        n_top_genes=n_hvg,\n",
    "        flavor=hvg_flavor,\n",
    "        batch_key=condition_key,\n",
    "        subset=False)\n",
    "\n",
    "    adata.var[\"gp_relevant\"] = (\n",
    "        adata.var.index.str.upper().isin(gp_relevant_genes))\n",
    "    adata.var[\"keep_gene\"] = (adata.var[\"gp_relevant\"] | \n",
    "                              adata.var[\"highly_variable\"])\n",
    "    adata = adata[:, adata.var[\"keep_gene\"] == True]\n",
    "    print(f\"Keeping {len(adata.var_names)} highly variable or gene program \"\n",
    "          \"relevant genes.\")\n",
    "    adata = (adata[:, adata.var_names[adata.var_names.str.upper().isin(\n",
    "                gp_dict_genes)].sort_values()])\n",
    "    print(f\"Keeping {len(adata.var_names)} genes after filtering genes not in \"\n",
    "          \"gp dict.\")\n",
    "    \n",
    "if filter_peaks:\n",
    "    print(\"\\nFiltering peaks...\")\n",
    "    print(f\"Starting with {len(adata_atac.var_names)} peaks.\")\n",
    "    # Filter out peaks that are rarely detected to reduce GPU footprint of model\n",
    "    min_cells = int(adata_atac.shape[0] * min_cell_peak_thresh_ratio)\n",
    "    sc.pp.filter_genes(adata_atac, min_cells=min_cells)\n",
    "    print(f\"Keeping {len(adata_atac.var_names)} peaks after filtering peaks with \"\n",
    "          f\"counts in less than {int(adata_atac.shape[0] * min_cell_peak_thresh_ratio)} cells.\")"
   ]
  },
  {
   "cell_type": "markdown",
   "id": "6da05467-1b1c-41eb-b81c-306a25d660c9",
   "metadata": {},
   "source": [
    "### 2.4 Annotate Genes"
   ]
  },
  {
   "cell_type": "code",
   "execution_count": null,
   "id": "6e334b0c-ac00-4ee4-bafb-2b8506e07a1c",
   "metadata": {},
   "outputs": [],
   "source": [
    "adata, adata_atac = get_gene_annotations(\n",
    "    adata=adata,\n",
    "    adata_atac=adata_atac,\n",
    "    gtf_file_path=gtf_file_path)"
   ]
  },
  {
   "cell_type": "markdown",
   "id": "8294f3a9-9cab-4654-b979-4836a0c5917c",
   "metadata": {},
   "source": [
    "### 2.5 Add Gene Program Mask to Data"
   ]
  },
  {
   "cell_type": "code",
   "execution_count": null,
   "id": "306dc799-741e-462a-9957-956ee911e3dd",
   "metadata": {
    "tags": []
   },
   "outputs": [],
   "source": [
    "# Add the gene program dictionary as binary masks to the adata for model \n",
    "# training\n",
    "add_gps_from_gp_dict_to_adata(\n",
    "    gp_dict=combined_new_gp_dict,\n",
    "    adata=adata,\n",
    "    genes_uppercase=True,\n",
    "    gp_targets_mask_key=gp_targets_mask_key,\n",
    "    gp_sources_mask_key=gp_sources_mask_key,\n",
    "    gp_names_key=gp_names_key,\n",
    "    min_genes_per_gp=1,\n",
    "    min_source_genes_per_gp=0,\n",
    "    min_target_genes_per_gp=0,\n",
    "    max_genes_per_gp=None,\n",
    "    max_source_genes_per_gp=None,\n",
    "    max_target_genes_per_gp=None,\n",
    "    filter_genes_not_in_masks=False)"
   ]
  },
  {
   "cell_type": "markdown",
   "id": "391fd660-4729-4ec7-b36a-e34bfdf59b55",
   "metadata": {},
   "source": [
    "### 2.6 Add Chromatin Accessibility Mask to Data"
   ]
  },
  {
   "cell_type": "code",
   "execution_count": null,
   "id": "db82893a-b80f-4f2a-883d-8031fb70c46b",
   "metadata": {
    "tags": []
   },
   "outputs": [],
   "source": [
    "gene_peak_dict = generate_multimodal_pairing_dict(\n",
    "    adata,\n",
    "    adata_atac)"
   ]
  },
  {
   "cell_type": "code",
   "execution_count": null,
   "id": "9d809fb0-2b02-435d-bba2-3ca80d071cd4",
   "metadata": {},
   "outputs": [],
   "source": [
    "adata_atac = add_multimodal_mask_to_adata(\n",
    "    adata=adata,\n",
    "    adata_atac=adata_atac,\n",
    "    gene_peak_mapping_dict=gene_peak_dict)"
   ]
  },
  {
   "cell_type": "markdown",
   "id": "e726017a-a5b2-4eec-b9e7-91e56f084559",
   "metadata": {},
   "source": [
    "### 2.7 Initialize, Train & Save Model"
   ]
  },
  {
   "cell_type": "raw",
   "id": "66525e47-6c37-4903-a0f2-d71c8530bd4b",
   "metadata": {},
   "source": [
    "import pickle\n",
    "\n",
    "# Open the file in write binary mode\n",
    "with open(\"gene_peak_dict\", \"wb\") as file:\n",
    "    # Dump the dictionary to the file\n",
    "    pickle.dump(gene_peak_dict, file)\n",
    "    \n",
    "# Open the file in write binary mode\n",
    "with open(\"combined_new_gp_dict\", \"wb\") as file:\n",
    "    # Dump the dictionary to the file\n",
    "    pickle.dump(combined_new_gp_dict, file)\n",
    "    \n",
    "adata.write(\"adata.h5ad\")\n",
    "adata_atac.write(\"adata_atac.h5ad\")"
   ]
  },
  {
   "cell_type": "raw",
   "id": "45234a45-1432-4866-a5fd-ad9365c32063",
   "metadata": {},
   "source": [
    "import pickle\n",
    "\n",
    "with open(\"combined_new_gp_dict\", \"rb\") as file:\n",
    "    # Dump the dictionary to the file\n",
    "    combined_new_gp_dict = pickle.load(file)\n",
    "    \n",
    "with open(\"gene_peak_dict\", \"rb\") as file:\n",
    "    # Dump the dictionary to the file\n",
    "    gene_peak_dict = pickle.load(file)\n",
    "    \n",
    "adata = sc.read_h5ad(\"adata.h5ad\")\n",
    "adata_atac = sc.read_h5ad(\"adata_atac.h5ad\")"
   ]
  },
  {
   "cell_type": "code",
   "execution_count": null,
   "id": "81da0101-5631-4b4e-9a9f-1cc5aeffce87",
   "metadata": {},
   "outputs": [],
   "source": [
    "# Determine dimensionality of hidden encoder\n",
    "n_hidden_encoder = len(adata.uns[gp_names_key])\n",
    "\n",
    "# Determine dimensionality of conditional embedding (in case injected)\n",
    "n_cond_embed = len(adata.uns[gp_names_key])"
   ]
  },
  {
   "cell_type": "code",
   "execution_count": null,
   "id": "6d417c51-72c4-488d-a68f-87ee0f036f7d",
   "metadata": {},
   "outputs": [],
   "source": [
    "1 / 0"
   ]
  },
  {
   "cell_type": "code",
   "execution_count": null,
   "id": "ed9fb575-1d5c-4ba3-9cd8-d59f604592c2",
   "metadata": {},
   "outputs": [],
   "source": [
    "import gc\n",
    "gc.collect()\n",
    "import torch\n",
    "torch.cuda.empty_cache()"
   ]
  },
  {
   "cell_type": "code",
   "execution_count": null,
   "id": "34ccd774-b7c7-4505-a436-e9af753bf7e6",
   "metadata": {
    "tags": []
   },
   "outputs": [],
   "source": [
    "# Initialize model\n",
    "model = Autotalker(adata,\n",
    "                   adata_atac,\n",
    "                   counts_key=counts_key,\n",
    "                   adj_key=adj_key,\n",
    "                   condition_key=condition_key,\n",
    "                   cond_embed_injection=cond_embed_injection,\n",
    "                   n_cond_embed=n_cond_embed,\n",
    "                   gp_names_key=gp_names_key,\n",
    "                   active_gp_names_key=active_gp_names_key,\n",
    "                   gp_targets_mask_key=gp_targets_mask_key,\n",
    "                   gp_sources_mask_key=gp_sources_mask_key,\n",
    "                   latent_key=latent_key,\n",
    "                   active_gp_thresh_ratio=active_gp_thresh_ratio,\n",
    "                   gene_expr_recon_dist=gene_expr_recon_dist,\n",
    "                   n_layers_encoder=n_layers_encoder,\n",
    "                   conv_layer_encoder=conv_layer_encoder,\n",
    "                   n_hidden_encoder=n_hidden_encoder,\n",
    "                   log_variational=log_variational,\n",
    "                   node_label_method=node_label_method)"
   ]
  },
  {
   "cell_type": "code",
   "execution_count": null,
   "id": "4f38627a-2d9b-445f-816b-8f73e207bf9b",
   "metadata": {},
   "outputs": [],
   "source": [
    "# Train model\n",
    "model.train(n_epochs=n_epochs,\n",
    "            n_epochs_all_gps=n_epochs_all_gps,\n",
    "            n_epochs_no_cond_contrastive=n_epochs_no_cond_contrastive,\n",
    "            lr=lr,\n",
    "            lambda_edge_recon=lambda_edge_recon,\n",
    "            lambda_gene_expr_recon=lambda_gene_expr_recon,\n",
    "            lambda_chrom_access_recon=lambda_chrom_access_recon,\n",
    "            lambda_cond_contrastive=lambda_cond_contrastive,\n",
    "            contrastive_logits_ratio=contrastive_logits_ratio,\n",
    "            lambda_group_lasso=lambda_group_lasso,\n",
    "            lambda_l1_masked=lambda_l1_masked,\n",
    "            edge_batch_size=edge_batch_size,\n",
    "            node_batch_size=node_batch_size,\n",
    "            mlflow_experiment_id=mlflow_experiment_id,\n",
    "            verbose=True)"
   ]
  },
  {
   "cell_type": "markdown",
   "id": "3a36c4cc-a932-40af-a21e-e7eff2c24dcc",
   "metadata": {},
   "source": [
    "## 3. Analyze Results"
   ]
  },
  {
   "cell_type": "code",
   "execution_count": null,
   "id": "c1281508-3c54-4b6a-95fd-bcbc815cbbd3",
   "metadata": {},
   "outputs": [],
   "source": [
    "sc.pp.neighbors(model.adata,\n",
    "                use_rep=latent_key)\n",
    "sc.tl.umap(model.adata)\n",
    "sc.tl.leiden(model.adata,\n",
    "             resolution=1.)"
   ]
  },
  {
   "cell_type": "code",
   "execution_count": null,
   "id": "d2624d37-b64f-4a04-9dcc-fce2cbefa8ba",
   "metadata": {},
   "outputs": [],
   "source": [
    "del(adata.uns[\"leiden_colors\"])\n",
    "sq.pl.spatial_scatter(model.adata, color=\"leiden\", shape=None)        "
   ]
  },
  {
   "cell_type": "code",
   "execution_count": null,
   "id": "427c3cd8-e674-4dc5-b008-c3e9f042c17a",
   "metadata": {},
   "outputs": [],
   "source": [
    "# Plot UMAP with cell type annotations\n",
    "fig = sc.pl.umap(model.adata,\n",
    "                 #groups=\"Allantois\",\n",
    "                 color=[\"leiden\"],\n",
    "                 palette=latent_cluster_colors,\n",
    "                 legend_fontsize=12,\n",
    "                 size=240000/len(model.adata),\n",
    "                 return_fig=True)\n",
    "fig.set_figheight(10)\n",
    "fig.set_figwidth(10)\n",
    "fig.set_size_inches(15, 10)\n",
    "plt.title(\"One-Shot Integration: Latent Space Cell Type Annotations\", size=20, pad=15)"
   ]
  },
  {
   "cell_type": "code",
   "execution_count": null,
   "id": "8d4adb7b-4f20-4e9f-81d3-bbf93baad59e",
   "metadata": {},
   "outputs": [],
   "source": [
    "sq.pl.spatial_scatter(model.adata, color=\"RNA_clusters\", shape=None)        "
   ]
  },
  {
   "cell_type": "code",
   "execution_count": null,
   "id": "d6d5dafa-b4e3-403d-8778-30276462e9aa",
   "metadata": {},
   "outputs": [],
   "source": [
    "# Plot UMAP with cell type annotations\n",
    "fig = sc.pl.umap(model.adata,\n",
    "                 #groups=\"Allantois\",\n",
    "                 color=[\"RNA_clusters\"],\n",
    "                 palette=spatial_atac_rna_seq_mouse_embryo_and_brain_cell_type_colors,\n",
    "                 legend_fontsize=12,\n",
    "                 size=240000/len(model.adata),\n",
    "                 return_fig=True)\n",
    "fig.set_figheight(10)\n",
    "fig.set_figwidth(10)\n",
    "fig.set_size_inches(15, 10)\n",
    "plt.title(\"One-Shot Integration: Latent Space Cell Type Annotations\", size=20, pad=15)"
   ]
  },
  {
   "cell_type": "code",
   "execution_count": null,
   "id": "ec652f46-ab70-40d7-a6e5-6221106b41c5",
   "metadata": {},
   "outputs": [],
   "source": [
    "sq.pl.spatial_scatter(model.adata, color=\"ATAC_clusters\", shape=None)        "
   ]
  },
  {
   "cell_type": "code",
   "execution_count": null,
   "id": "76fe30b6-0c52-4bce-86ac-a26fa4146b9d",
   "metadata": {},
   "outputs": [],
   "source": [
    "model.adata.obs[\"ATAC_clusters\"].unique()"
   ]
  },
  {
   "cell_type": "code",
   "execution_count": null,
   "id": "14aeb8b4-00a0-4479-a890-49461cc0a928",
   "metadata": {},
   "outputs": [],
   "source": [
    "# Plot UMAP with cell type annotations\n",
    "fig = sc.pl.umap(model.adata,\n",
    "                 #groups=\"Allantois\",\n",
    "                 color=[\"ATAC_clusters\"],\n",
    "                 palette=spatial_atac_rna_seq_mouse_embryo_and_brain_atac_colors,\n",
    "                 legend_fontsize=12,\n",
    "                 size=240000/len(model.adata),\n",
    "                 return_fig=True)\n",
    "fig.set_figheight(10)\n",
    "fig.set_figwidth(10)\n",
    "fig.set_size_inches(15, 10)\n",
    "plt.title(\"One-Shot Integration: Latent Space Cell Type Annotations\", size=20, pad=15)"
   ]
  },
  {
   "cell_type": "markdown",
   "id": "166b4741-4e0b-41d7-aacf-87cb87212607",
   "metadata": {},
   "source": [
    "## 4. SCVI Benchmark"
   ]
  },
  {
   "cell_type": "code",
   "execution_count": null,
   "id": "12d3b87a-8032-485f-aa7f-fe5d912adeb0",
   "metadata": {},
   "outputs": [],
   "source": [
    "# Setup adata\n",
    "scvi.model.SCVI.setup_anndata(adata,\n",
    "                              layer=counts_key,\n",
    "                              batch_key=condition_key)\n",
    "\n",
    "# Initialize model\n",
    "# Use hyperparams that provenly work well on integration tasks\n",
    "model = scvi.model.SCVI(adata,\n",
    "                        n_layers=2,\n",
    "                        n_latent=30,\n",
    "                        gene_likelihood=\"nb\")\n",
    "\n",
    "# Train model\n",
    "model.train()\n",
    "\n",
    "# Store latent representation\n",
    "adata.obsm[\"scvi_latent\"] = model.get_latent_representation()"
   ]
  },
  {
   "cell_type": "code",
   "execution_count": null,
   "id": "4cc00644-cfa2-4f08-bb43-f844bf1ddacb",
   "metadata": {},
   "outputs": [],
   "source": [
    "sc.pp.neighbors(adata,\n",
    "                use_rep=\"scvi_latent\")\n",
    "sc.tl.umap(adata)\n",
    "sc.tl.leiden(adata=adata,\n",
    "             resolution=1.)"
   ]
  },
  {
   "cell_type": "code",
   "execution_count": null,
   "id": "cfc4b9fa-6723-42c8-8552-d20254dc7883",
   "metadata": {},
   "outputs": [],
   "source": [
    "# Plot UMAP with cell type annotations\n",
    "fig = sc.pl.umap(adata,\n",
    "                 #groups=\"Allantois\",\n",
    "                 color=[\"RNA_clusters\"],\n",
    "                 palette=spatial_atac_rna_seq_mouse_embryo_and_brain_cell_type_colors,\n",
    "                 legend_fontsize=12,\n",
    "                 size=240000/len(model.adata),\n",
    "                 return_fig=True)\n",
    "fig.set_figheight(10)\n",
    "fig.set_figwidth(10)\n",
    "fig.set_size_inches(15, 10)\n",
    "plt.title(\"One-Shot Integration: Latent Space Cell Type Annotations\", size=20, pad=15)"
   ]
  },
  {
   "cell_type": "code",
   "execution_count": null,
   "id": "48784993-96e7-40a5-b51d-c7390b59597c",
   "metadata": {},
   "outputs": [],
   "source": [
    "# Plot UMAP with cell type annotations\n",
    "fig = sc.pl.umap(adata,\n",
    "                 #groups=\"Allantois\",\n",
    "                 color=[\"leiden\"],\n",
    "                 palette=latent_cluster_colors,\n",
    "                 legend_fontsize=12,\n",
    "                 size=240000/len(model.adata),\n",
    "                 return_fig=True)\n",
    "fig.set_figheight(10)\n",
    "fig.set_figwidth(10)\n",
    "fig.set_size_inches(15, 10)\n",
    "plt.title(\"One-Shot Integration: Latent Space Cell Type Annotations\", size=20, pad=15)"
   ]
  },
  {
   "cell_type": "code",
   "execution_count": null,
   "id": "60bb80fa-e37a-4a5f-87e3-36302bb69e14",
   "metadata": {},
   "outputs": [],
   "source": [
    "sq.pl.spatial_scatter(adata, color=\"leiden\", shape=None)        "
   ]
  },
  {
   "cell_type": "code",
   "execution_count": null,
   "id": "c70d4e61-ea50-4bca-bc05-1e271e6861a4",
   "metadata": {},
   "outputs": [],
   "source": [
    "del(adata.uns[\"RNA_clusters_colors\"])"
   ]
  },
  {
   "cell_type": "code",
   "execution_count": null,
   "id": "1e3a3bf6-ef70-4b7e-b061-57b72955b71d",
   "metadata": {},
   "outputs": [],
   "source": [
    "sq.pl.spatial_scatter(adata,\n",
    "                      color=\"RNA_clusters\",\n",
    "                      shape=None)        "
   ]
  },
  {
   "cell_type": "code",
   "execution_count": null,
   "id": "cdbc1599-b8a7-4d9d-af15-56d8b510a87a",
   "metadata": {},
   "outputs": [],
   "source": [
    "adata.obs[\"leiden\"]"
   ]
  },
  {
   "cell_type": "code",
   "execution_count": null,
   "id": "42cdc307-5426-4216-a275-fa9bd8f47a01",
   "metadata": {},
   "outputs": [],
   "source": [
    "adata.obs[\"RNA_clusters\"]"
   ]
  },
  {
   "cell_type": "code",
   "execution_count": null,
   "id": "c461ba2d-18e6-428b-b6f9-72c804416834",
   "metadata": {},
   "outputs": [],
   "source": []
  }
 ],
 "metadata": {
  "kernelspec": {
   "display_name": "Python 3 (ipykernel)",
   "language": "python",
   "name": "python3"
  },
  "language_info": {
   "codemirror_mode": {
    "name": "ipython",
    "version": 3
   },
   "file_extension": ".py",
   "mimetype": "text/x-python",
   "name": "python",
   "nbconvert_exporter": "python",
   "pygments_lexer": "ipython3",
   "version": "3.9.15"
  },
  "toc-showcode": false
 },
 "nbformat": 4,
 "nbformat_minor": 5
}
