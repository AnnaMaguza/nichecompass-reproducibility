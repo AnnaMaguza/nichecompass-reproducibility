{
 "cells": [
  {
   "cell_type": "code",
   "execution_count": 1,
   "id": "01360ce4-b3f1-4766-ae16-db4c327aa091",
   "metadata": {
    "tags": []
   },
   "outputs": [],
   "source": [
    "%load_ext autoreload\n",
    "%autoreload 2"
   ]
  },
  {
   "cell_type": "code",
   "execution_count": 2,
   "id": "8d74beea-c388-4e25-954b-626b4367f596",
   "metadata": {
    "tags": []
   },
   "outputs": [],
   "source": [
    "import sys\n",
    "sys.path.append(\"../../autotalker\")"
   ]
  },
  {
   "cell_type": "code",
   "execution_count": 21,
   "id": "4a4ceeba-ef09-4559-88e2-cbe464ecd1d7",
   "metadata": {
    "tags": []
   },
   "outputs": [],
   "source": [
    "import os\n",
    "\n",
    "import anndata as ad\n",
    "import matplotlib.pyplot as plt\n",
    "import scanpy as sc\n",
    "import scib\n",
    "import squidpy as sq\n",
    "\n",
    "from autotalker.benchmarking import compute_clisis, compute_cas\n",
    "from autotalker.utils import get_gene_annotations, generate_multimodal_pairing_dict, add_multimodal_pairings_to_adata\n",
    "\n",
    "from autotalker.utils import (add_gps_from_gp_dict_to_adata,\n",
    "                              extract_gp_dict_from_mebocost_es_interactions,\n",
    "                              extract_gp_dict_from_nichenet_ligand_target_mx,\n",
    "                              extract_gp_dict_from_omnipath_lr_interactions,\n",
    "                              filter_and_combine_gp_dict_gps,\n",
    "                              get_unique_genes_from_gp_dict)"
   ]
  },
  {
   "cell_type": "markdown",
   "id": "34dd85c6-7214-4099-835c-d700b954dd56",
   "metadata": {},
   "source": [
    "### 1.2 Define Parameters"
   ]
  },
  {
   "cell_type": "code",
   "execution_count": 7,
   "id": "b0a1e66d-6128-4bb7-9540-0f78c07a8f9e",
   "metadata": {},
   "outputs": [],
   "source": [
    "nichenet_keep_target_genes_ratio = 0.01\n",
    "nichenet_max_n_target_genes_per_gp = 25344\n",
    "include_mebocost_gps = True\n",
    "mebocost_species = \"mouse\"\n",
    "filter_genes = True\n",
    "gp_filter_mode = \"subset\"\n",
    "combine_overlap_gps = True\n",
    "overlap_thresh_source_genes = 0.9\n",
    "overlap_thresh_target_genes = 0.9\n",
    "overlap_thresh_genes = 0.9"
   ]
  },
  {
   "cell_type": "code",
   "execution_count": 45,
   "id": "3d0f2be4-39fc-4303-b437-e8204f5b3351",
   "metadata": {},
   "outputs": [],
   "source": [
    "srt_data_gold_folder_path = \"../datasets/srt_data/gold\"\n",
    "figure_folder_path = f\"../figures\"\n",
    "ga_data_folder_path = \"../datasets/ga_data\"\n",
    "gp_data_folder_path = \"../datasets/gp_data\" # gene program data\n",
    "nichenet_ligand_target_mx_file_path = gp_data_folder_path + \"/nichenet_ligand_target_matrix.csv\"\n",
    "omnipath_lr_interactions_file_path = gp_data_folder_path + \"/omnipath_lr_interactions.csv\"\n",
    "gtf_file_path = ga_data_folder_path + \"/gencode.vM32.chr_patch_hapl_scaff.annotation.gtf.gz\"\n",
    "\n",
    "# Create required directories\n",
    "os.makedirs(gp_data_folder_path, exist_ok=True)\n",
    "os.makedirs(srt_data_gold_folder_path + \"/results\", exist_ok=True)"
   ]
  },
  {
   "cell_type": "markdown",
   "id": "cfaa36bc-969b-49f0-bbf7-bd0ae0df6e34",
   "metadata": {},
   "source": [
    "## 2. Autotalker Model"
   ]
  },
  {
   "cell_type": "markdown",
   "id": "6bf51fa5-92f1-49f8-bcf1-590235d2dfd3",
   "metadata": {},
   "source": [
    "### 2.1 Prepare Gene Program Mask"
   ]
  },
  {
   "cell_type": "code",
   "execution_count": 8,
   "id": "807d2e13-29f2-478e-8c8a-a820570917c9",
   "metadata": {
    "tags": []
   },
   "outputs": [
    {
     "name": "stdout",
     "output_type": "stream",
     "text": [
      "Preparing the gene program mask...\n",
      "Number of gene programs before filtering and combining: 1725.\n",
      "Number of gene programs after filtering and combining: 1575.\n"
     ]
    }
   ],
   "source": [
    "print(\"Preparing the gene program mask...\")\n",
    "# OmniPath gene programs\n",
    "omnipath_gp_dict = extract_gp_dict_from_omnipath_lr_interactions(\n",
    "    min_curation_effort=0,\n",
    "    load_from_disk=True,\n",
    "    save_to_disk=False,\n",
    "    file_path=omnipath_lr_interactions_file_path,\n",
    "    plot_gp_gene_count_distributions=False)\n",
    "\n",
    "omnipath_genes = get_unique_genes_from_gp_dict(\n",
    "    gp_dict=omnipath_gp_dict,\n",
    "    retrieved_gene_entities=[\"sources\", \"targets\"])\n",
    "\n",
    "# NicheNet gene programs\n",
    "nichenet_gp_dict = extract_gp_dict_from_nichenet_ligand_target_mx(\n",
    "    keep_target_genes_ratio=nichenet_keep_target_genes_ratio,\n",
    "    max_n_target_genes_per_gp=nichenet_max_n_target_genes_per_gp,\n",
    "    load_from_disk=True,\n",
    "    save_to_disk=False,\n",
    "    file_path=nichenet_ligand_target_mx_file_path,\n",
    "    plot_gp_gene_count_distributions=False)\n",
    "\n",
    "nichenet_source_genes = get_unique_genes_from_gp_dict(\n",
    "    gp_dict=nichenet_gp_dict,\n",
    "    retrieved_gene_entities=[\"sources\"])\n",
    "\n",
    "# Combine gene programs into one dictionary\n",
    "combined_gp_dict = dict(omnipath_gp_dict)\n",
    "combined_gp_dict.update(nichenet_gp_dict)\n",
    "\n",
    "if filter_genes:\n",
    "    # Get gene program relevant genes\n",
    "    gp_relevant_genes = list(set(omnipath_genes + nichenet_source_genes))\n",
    "\n",
    "# Mebocost gene programs\n",
    "if include_mebocost_gps:\n",
    "    mebocost_gp_dict = extract_gp_dict_from_mebocost_es_interactions(\n",
    "    dir_path=f\"{gp_data_folder_path}/metabolite_enzyme_sensor_gps/\",\n",
    "    species=mebocost_species,\n",
    "    genes_uppercase=True,\n",
    "    plot_gp_gene_count_distributions=False)\n",
    "    \n",
    "    mebocost_genes = get_unique_genes_from_gp_dict(\n",
    "        gp_dict=mebocost_gp_dict,\n",
    "        retrieved_gene_entities=[\"sources\", \"targets\"])\n",
    "\n",
    "    combined_gp_dict.update(mebocost_gp_dict)\n",
    "    \n",
    "    if filter_genes:\n",
    "        # Update gene program relevant genes\n",
    "        gp_relevant_genes = list(set(gp_relevant_genes + mebocost_genes))\n",
    "    \n",
    "# Filter and combine gene programs\n",
    "combined_new_gp_dict = filter_and_combine_gp_dict_gps(\n",
    "    gp_dict=combined_gp_dict,\n",
    "    gp_filter_mode=gp_filter_mode,\n",
    "    combine_overlap_gps=combine_overlap_gps,\n",
    "    overlap_thresh_source_genes=overlap_thresh_source_genes,\n",
    "    overlap_thresh_target_genes=overlap_thresh_target_genes,\n",
    "    overlap_thresh_genes=overlap_thresh_genes,\n",
    "    verbose=False)\n",
    "\n",
    "print(\"Number of gene programs before filtering and combining: \"\n",
    "      f\"{len(combined_gp_dict)}.\")\n",
    "print(f\"Number of gene programs after filtering and combining: \"\n",
    "      f\"{len(combined_new_gp_dict)}.\")"
   ]
  },
  {
   "cell_type": "code",
   "execution_count": 39,
   "id": "89e06a32-1716-4c5e-ab94-409d9c68e0d9",
   "metadata": {
    "tags": []
   },
   "outputs": [
    {
     "ename": "NameError",
     "evalue": "name 'adata_rna' is not defined",
     "output_type": "error",
     "traceback": [
      "\u001b[0;31m---------------------------------------------------------------------------\u001b[0m",
      "\u001b[0;31mNameError\u001b[0m                                 Traceback (most recent call last)",
      "Cell \u001b[0;32mIn[39], line 5\u001b[0m\n\u001b[1;32m      3\u001b[0m adata\u001b[38;5;241m.\u001b[39mlayers[\u001b[38;5;124m\"\u001b[39m\u001b[38;5;124mcounts\u001b[39m\u001b[38;5;124m\"\u001b[39m] \u001b[38;5;241m=\u001b[39m adata\u001b[38;5;241m.\u001b[39mX\n\u001b[1;32m      4\u001b[0m adata_atac\u001b[38;5;241m.\u001b[39mlayers[\u001b[38;5;124m\"\u001b[39m\u001b[38;5;124mcounts\u001b[39m\u001b[38;5;124m\"\u001b[39m] \u001b[38;5;241m=\u001b[39m adata_atac\u001b[38;5;241m.\u001b[39mX\n\u001b[0;32m----> 5\u001b[0m \u001b[43madata_rna\u001b[49m\u001b[38;5;241m.\u001b[39mobs[\u001b[38;5;124m\"\u001b[39m\u001b[38;5;124mbatch\u001b[39m\u001b[38;5;124m\"\u001b[39m] \u001b[38;5;241m=\u001b[39m \u001b[38;5;124m\"\u001b[39m\u001b[38;5;124me13\u001b[39m\u001b[38;5;124m\"\u001b[39m\n\u001b[1;32m      6\u001b[0m adata_atac\u001b[38;5;241m.\u001b[39mobs[\u001b[38;5;124m\"\u001b[39m\u001b[38;5;124mbatch\u001b[39m\u001b[38;5;124m\"\u001b[39m] \u001b[38;5;241m=\u001b[39m \u001b[38;5;124m\"\u001b[39m\u001b[38;5;124me13\u001b[39m\u001b[38;5;124m\"\u001b[39m\n",
      "\u001b[0;31mNameError\u001b[0m: name 'adata_rna' is not defined"
     ]
    }
   ],
   "source": [
    "adata = sc.read_h5ad(\"../datasets/srt_data/gold/spatial_atac_rna_seq_mouse_embryo_and_brain_batch1_rna.h5ad\")\n",
    "adata_atac = sc.read_h5ad(\"../datasets/srt_data/gold/spatial_atac_rna_seq_mouse_embryo_and_brain_batch1_atac.h5ad\")\n",
    "adata.layers[\"counts\"] = adata.X\n",
    "adata_atac.layers[\"counts\"] = adata_atac.X\n",
    "adata.obs[\"batch\"] = \"e13\"\n",
    "adata_atac.obs[\"batch\"] = \"e13\""
   ]
  },
  {
   "cell_type": "code",
   "execution_count": 37,
   "id": "c2b71431-320b-4b6e-af34-53b2cf9e1824",
   "metadata": {},
   "outputs": [],
   "source": [
    "dataset = \"spatial_atac_rna_seq_mouse_embryo_and_brain_batch1\"\n",
    "spatial_key = \"spatial\"\n",
    "n_neighbors = 4\n",
    "adj_key = \"spatial_connectivities\"\n",
    "n_hvg = 2000\n",
    "counts_key = \"counts\"\n",
    "condition_key = \"batch\""
   ]
  },
  {
   "cell_type": "code",
   "execution_count": 26,
   "id": "13c1a2a4-a040-4ad4-9fc4-ba63cced7ce5",
   "metadata": {},
   "outputs": [],
   "source": [
    "adata = ad.read_h5ad(\n",
    "        f\"{srt_data_gold_folder_path}/{dataset}_rna.h5ad\")\n",
    "# Compute (separate) spatial neighborhood graphs\n",
    "sq.gr.spatial_neighbors(adata,\n",
    "                        coord_type=\"generic\",\n",
    "                        spatial_key=spatial_key,\n",
    "                        n_neighs=n_neighbors)\n",
    "# Make adjacency matrix symmetric\n",
    "adata.obsp[adj_key] = (\n",
    "    adata.obsp[adj_key].maximum(\n",
    "        adata.obsp[adj_key].T))"
   ]
  },
  {
   "cell_type": "code",
   "execution_count": 41,
   "id": "f5ec964c-2d59-4f5a-8bdd-6904bb5b0b61",
   "metadata": {},
   "outputs": [
    {
     "name": "stdout",
     "output_type": "stream",
     "text": [
      "\n",
      "Filtering genes...\n",
      "Starting with 20900 genes.\n",
      "Keeping 20900 genes after filtering genes with expression in 0 cells.\n",
      "Keeping 3953 highly variable or gene program relevant genes.\n",
      "Keeping 3570 genes after filtering genes not in gp dict.\n"
     ]
    }
   ],
   "source": [
    "if filter_genes:\n",
    "    print(\"\\nFiltering genes...\")\n",
    "    # Filter genes and only keep ligand, receptor, metabolitye enzyme, \n",
    "    # metabolite sensor and the 'n_hvg' highly variable genes (potential target\n",
    "    # genes of nichenet)\n",
    "    gp_dict_genes = get_unique_genes_from_gp_dict(\n",
    "        gp_dict=combined_new_gp_dict,\n",
    "        retrieved_gene_entities=[\"sources\", \"targets\"])\n",
    "    print(f\"Starting with {len(adata.var_names)} genes.\")\n",
    "    sc.pp.filter_genes(adata,\n",
    "                       min_cells=0)\n",
    "    print(f\"Keeping {len(adata.var_names)} genes after filtering genes with \"\n",
    "          \"expression in 0 cells.\")\n",
    "\n",
    "    if counts_key is not None:\n",
    "        hvg_layer = counts_key\n",
    "        if (adata.layers[counts_key].astype(int).sum() == \n",
    "        adata.layers[counts_key].sum()): # raw counts\n",
    "            hvg_flavor = \"seurat_v3\"\n",
    "        else: # log normalized counts\n",
    "            hvg_flavor = \"seurat\"\n",
    "    else:\n",
    "        hvg_layer = None\n",
    "        if adata.X.astype(int).sum() == adata.X.sum():\n",
    "        # raw counts\n",
    "            hvg_flavor = \"seurat_v3\"\n",
    "        else: # log normalized counts\n",
    "            hvg_flavor = \"seurat\"\n",
    "\n",
    "    sc.pp.highly_variable_genes(\n",
    "        adata,\n",
    "        layer=hvg_layer,\n",
    "        n_top_genes=n_hvg,\n",
    "        flavor=hvg_flavor,\n",
    "        batch_key=condition_key,\n",
    "        subset=False)\n",
    "\n",
    "    adata.var[\"gp_relevant\"] = (\n",
    "        adata.var.index.str.upper().isin(gp_relevant_genes))\n",
    "    adata.var[\"keep_gene\"] = (adata.var[\"gp_relevant\"] | \n",
    "                              adata.var[\"highly_variable\"])\n",
    "    adata = adata[:, adata.var[\"keep_gene\"] == True]\n",
    "    print(f\"Keeping {len(adata.var_names)} highly variable or gene program \"\n",
    "          \"relevant genes.\")\n",
    "    adata = (adata[:, adata.var_names[adata.var_names.str.upper().isin(\n",
    "                gp_dict_genes)].sort_values()])\n",
    "    print(f\"Keeping {len(adata.var_names)} genes after filtering genes not in \"\n",
    "          \"gp dict.\")"
   ]
  },
  {
   "cell_type": "code",
   "execution_count": 46,
   "id": "9c8d0d5d-e3bf-4c82-be07-d82c8e59f8c9",
   "metadata": {
    "tags": []
   },
   "outputs": [],
   "source": [
    "adata, adata_atac = get_gene_annotations(\n",
    "    adata=adata,\n",
    "    adata_atac=adata_atac,\n",
    "    gtf_file_path=gtf_file_path)"
   ]
  },
  {
   "cell_type": "code",
   "execution_count": 47,
   "id": "db82893a-b80f-4f2a-883d-8031fb70c46b",
   "metadata": {},
   "outputs": [
    {
     "name": "stderr",
     "output_type": "stream",
     "text": [
      "/Users/sebastian.birk/opt/anaconda3/envs/autotalker_cpu/lib/python3.9/subprocess.py:1052: ResourceWarning: subprocess 20672 is still running\n",
      "  _warn(\"subprocess %s is still running\" % self.pid,\n",
      "/Users/sebastian.birk/opt/anaconda3/envs/autotalker_cpu/lib/python3.9/subprocess.py:1052: ResourceWarning: subprocess 20673 is still running\n",
      "  _warn(\"subprocess %s is still running\" % self.pid,\n"
     ]
    },
    {
     "data": {
      "application/vnd.jupyter.widget-view+json": {
       "model_id": "6d729070bb4843c2bf9939c3c4ce75da",
       "version_major": 2,
       "version_minor": 0
      },
      "text/plain": [
       "window_graph:   0%|          | 0/3531 [00:00<?, ?it/s]"
      ]
     },
     "metadata": {},
     "output_type": "display_data"
    },
    {
     "name": "stdout",
     "output_type": "stream",
     "text": [
      "this part works\n"
     ]
    }
   ],
   "source": [
    "gene_peak_dict = generate_multimodal_pairing_dict(adata, adata_atac)"
   ]
  },
  {
   "cell_type": "code",
   "execution_count": 48,
   "id": "266b6ad0-473d-4b00-8cf6-f8df86f528af",
   "metadata": {},
   "outputs": [],
   "source": [
    "import pickle\n",
    "# Open the file in write binary mode\n",
    "with open(\"gene_peak_dict\", \"wb\") as file:\n",
    "    # Dump the dictionary to the file\n",
    "    pickle.dump(gene_peak_dict, file)"
   ]
  },
  {
   "cell_type": "code",
   "execution_count": null,
   "id": "08f8a689-4c05-432a-9489-59a78353bb5f",
   "metadata": {},
   "outputs": [],
   "source": [
    "add_multimodal_pairings_to_adata(gp_dict=omnipath_gp_dict,\n",
    "                                 atac_pairing_dict=gene_peak_dict,\n",
    "                                 adata_atac=adata_atac)"
   ]
  },
  {
   "cell_type": "code",
   "execution_count": null,
   "id": "62a744ac-abc7-4641-8e6b-195076679578",
   "metadata": {
    "tags": []
   },
   "outputs": [],
   "source": [
    "import torch\n",
    "torch.tensor(range(5))"
   ]
  },
  {
   "cell_type": "code",
   "execution_count": null,
   "id": "2d480b04-9e4d-4c8e-bd1d-65211a8d4de9",
   "metadata": {},
   "outputs": [],
   "source": [
    "gp_data_folder_path = \"../../datasets/gp_data\" # gene program data\n",
    "\n",
    "nichenet_ligand_target_mx_file_path = gp_data_folder_path + \"/nichenet_ligand_target_matrix.csv\"\n",
    "omnipath_lr_interactions_file_path = gp_data_folder_path + \"/omnipath_lr_interactions.csv\"\n",
    "\n",
    "\n",
    "print(\"Preparing the gene program mask...\")\n",
    "# OmniPath gene programs\n",
    "omnipath_gp_dict = extract_gp_dict_from_omnipath_lr_interactions(\n",
    "    min_curation_effort=0,\n",
    "    load_from_disk=True,\n",
    "    save_to_disk=False,\n",
    "    file_path=omnipath_lr_interactions_file_path,\n",
    "    plot_gp_gene_count_distributions=False)\n",
    "\n",
    "omnipath_genes = get_unique_genes_from_gp_dict(\n",
    "    gp_dict=omnipath_gp_dict,\n",
    "    retrieved_gene_entities=[\"sources\", \"targets\"])\n",
    "\n",
    "# NicheNet gene programs\n",
    "nichenet_gp_dict = extract_gp_dict_from_nichenet_ligand_target_mx(\n",
    "    keep_target_genes_ratio=nichenet_keep_target_genes_ratio,\n",
    "    max_n_target_genes_per_gp=nichenet_max_n_target_genes_per_gp,\n",
    "    load_from_disk=True,\n",
    "    save_to_disk=False,\n",
    "    file_path=nichenet_ligand_target_mx_file_path,\n",
    "    plot_gp_gene_count_distributions=False)\n",
    "\n",
    "nichenet_source_genes = get_unique_genes_from_gp_dict(\n",
    "    gp_dict=nichenet_gp_dict,\n",
    "    retrieved_gene_entities=[\"sources\"])\n",
    "\n",
    "# Combine gene programs into one dictionary\n",
    "combined_gp_dict = dict(omnipath_gp_dict)\n",
    "combined_gp_dict.update(nichenet_gp_dict)\n",
    "\n",
    "if filter_genes:\n",
    "    # Get gene program relevant genes\n",
    "    gp_relevant_genes = list(set(omnipath_genes + nichenet_source_genes))\n",
    "\n",
    "# Mebocost gene programs\n",
    "if include_mebocost_gps:\n",
    "    mebocost_gp_dict = extract_gp_dict_from_mebocost_es_interactions(\n",
    "    dir_path=f\"{gp_data_folder_path}/metabolite_enzyme_sensor_gps/\",\n",
    "    species=mebocost_species,\n",
    "    genes_uppercase=True,\n",
    "    plot_gp_gene_count_distributions=False)\n",
    "    \n",
    "    mebocost_genes = get_unique_genes_from_gp_dict(\n",
    "        gp_dict=mebocost_gp_dict,\n",
    "        retrieved_gene_entities=[\"sources\", \"targets\"])\n",
    "\n",
    "    combined_gp_dict.update(mebocost_gp_dict)\n",
    "    \n",
    "    if filter_genes:\n",
    "        # Update gene program relevant genes\n",
    "        gp_relevant_genes = list(set(gp_relevant_genes + mebocost_genes))\n",
    "    \n",
    "# Filter and combine gene programs\n",
    "combined_new_gp_dict = filter_and_combine_gp_dict_gps(\n",
    "    gp_dict=combined_gp_dict,\n",
    "    gp_filter_mode=gp_filter_mode,\n",
    "    combine_overlap_gps=combine_overlap_gps,\n",
    "    overlap_thresh_source_genes=overlap_thresh_source_genes,\n",
    "    overlap_thresh_target_genes=overlap_thresh_target_genes,\n",
    "    overlap_thresh_genes=overlap_thresh_genes,\n",
    "    verbose=False)\n",
    "\n",
    "print(\"Number of gene programs before filtering and combining: \"\n",
    "      f\"{len(combined_gp_dict)}.\")\n",
    "print(f\"Number of gene programs after filtering and combining: \"\n",
    "      f\"{len(combined_new_gp_dict)}.\")"
   ]
  },
  {
   "cell_type": "code",
   "execution_count": null,
   "id": "9c4e0169-5671-4767-ae43-100582da2e89",
   "metadata": {},
   "outputs": [],
   "source": [
    "# Compute (separate) spatial neighborhood graphs\n",
    "sq.gr.spatial_neighbors(adata,\n",
    "                        coord_type=\"generic\",\n",
    "                        spatial_key=spatial_key,\n",
    "                        n_neighs=n_neighbors)\n",
    "# Make adjacency matrix symmetric\n",
    "adata.obsp[adj_key] = (\n",
    "    adata.obsp[adj_key].maximum(\n",
    "        adata.obsp[adj_key].T))"
   ]
  },
  {
   "cell_type": "code",
   "execution_count": null,
   "id": "386b3211-e1da-4c19-ae23-816d270fb333",
   "metadata": {},
   "outputs": [],
   "source": [
    "\n",
    "            # Compute (separate) spatial neighborhood graphs\n",
    "            sq.gr.spatial_neighbors(adata,\n",
    "                                    coord_type=\"generic\",\n",
    "                                    spatial_key=spatial_key,\n",
    "                                    n_neighs=n_neighbors)\n",
    "            # Make adjacency matrix symmetric\n",
    "            adata.obsp[adj_key] = (\n",
    "                adata.obsp[adj_key].maximum(\n",
    "                    adata.obsp[adj_key].T))\n",
    "            \n",
    "        # Filter genes if specified\n",
    "        if filter_genes:\n",
    "            print(\"\\nFiltering genes...\")\n",
    "            # Filter genes and only keep ligand, receptor, metabolitye enzyme, \n",
    "            # metabolite sensor and the 'n_hvg' highly variable genes (potential target\n",
    "            # genes of nichenet)\n",
    "            gp_dict_genes = get_unique_genes_from_gp_dict(\n",
    "                gp_dict=combined_new_gp_dict,\n",
    "                retrieved_gene_entities=[\"sources\", \"targets\"])\n",
    "            print(f\"Starting with {len(adata.var_names)} genes.\")\n",
    "            sc.pp.filter_genes(adata,\n",
    "                               min_cells=0)\n",
    "            print(f\"Keeping {len(adata.var_names)} genes after filtering \"\n",
    "                  \"genes with expression in 0 cells.\")\n",
    "\n",
    "            if counts_key is not None:\n",
    "                hvg_layer = counts_key\n",
    "                if (adata.layers[counts_key].astype(int).sum() == \n",
    "                adata.layers[counts_key].sum()): # raw counts\n",
    "                    hvg_flavor = \"seurat_v3\"\n",
    "                else:\n",
    "                    hvg_flavor = \"seurat\" # log normalized counts\n",
    "            else:\n",
    "                hvg_layer = None\n",
    "                if adata.X.astype(int).sum() == adata.X.sum(): # raw counts\n",
    "                    hvg_flavor = \"seurat_v3\"\n",
    "                else: # log normalized counts\n",
    "                    hvg_flavor = \"seurat\"\n",
    "\n",
    "            sc.pp.highly_variable_genes(\n",
    "                adata,\n",
    "                layer=hvg_layer,\n",
    "                n_top_genes=n_hvg,\n",
    "                flavor=hvg_flavor,\n",
    "                batch_key=condition_key,\n",
    "                subset=False)\n",
    "\n",
    "            adata.var[\"gp_relevant\"] = (\n",
    "                adata.var.index.str.upper().isin(gp_relevant_genes))\n",
    "            adata.var[\"keep_gene\"] = (adata.var[\"gp_relevant\"] | \n",
    "                                                adata.var[\"highly_variable\"])\n",
    "            adata = (\n",
    "                adata[:, adata.var[\"keep_gene\"] == True])\n",
    "            print(f\"Keeping {len(adata.var_names)} highly variable or gene \"\n",
    "                  \"program relevant genes.\")\n",
    "            adata = (\n",
    "                adata[:, adata.var_names[\n",
    "                    adata.var_names.str.upper().isin(\n",
    "                        gp_dict_genes)].sort_values()])\n",
    "            print(f\"Keeping {len(adata.var_names)} genes after filtering \"\n",
    "                  \"genes not in gp dict.\")\n",
    "        \n",
    "        # Add the gene program dictionary as binary masks to the adata for model \n",
    "        # training\n",
    "        add_gps_from_gp_dict_to_adata(\n",
    "            gp_dict=combined_new_gp_dict,\n",
    "            adata=adata,\n",
    "            genes_uppercase=True,\n",
    "            gp_targets_mask_key=gp_targets_mask_key,\n",
    "            gp_sources_mask_key=gp_sources_mask_key,\n",
    "            gp_names_key=gp_names_key,\n",
    "            min_genes_per_gp=1,\n",
    "            min_source_genes_per_gp=0,\n",
    "            min_target_genes_per_gp=0,\n",
    "            max_genes_per_gp=None,\n",
    "            max_source_genes_per_gp=None,\n",
    "            max_target_genes_per_gp=None,\n",
    "            filter_genes_not_in_masks=False)\n",
    "\n",
    "        # Determine dimensionality of hidden encoder\n",
    "        n_hidden_encoder = int(len(adata.var_names) / 2)\n",
    "        n_cond_embed = int(len(adata.var_names) / 2)\n",
    "\n",
    "        start_time = time.time()\n",
    "        \n",
    "        print(\"\\nTraining model...\")\n",
    "        # Initialize model\n",
    "        model = Autotalker(adata,\n",
    "                           counts_key=counts_key,\n",
    "                           adj_key=adj_key,\n",
    "                           condition_key=condition_key,\n",
    "                           cond_embed_injection=cond_embed_injection,\n",
    "                           n_cond_embed=n_cond_embed,\n",
    "                           gp_names_key=gp_names_key,\n",
    "                           active_gp_names_key=active_gp_names_key,\n",
    "                           gp_targets_mask_key=gp_targets_mask_key,\n",
    "                           gp_sources_mask_key=gp_sources_mask_key,\n",
    "                           latent_key=latent_key,\n",
    "                           active_gp_thresh_ratio=active_gp_thresh_ratio,\n",
    "                           gene_expr_recon_dist=gene_expr_recon_dist,\n",
    "                           n_layers_encoder=n_layers_encoder,\n",
    "                           conv_layer_encoder=conv_layer_encoder,\n",
    "                           n_hidden_encoder=n_hidden_encoder,\n",
    "                           log_variational=log_variational)\n",
    "\n",
    "        # Train model\n",
    "        model.train(n_epochs=n_epochs,\n",
    "                    n_epochs_all_gps=n_epochs_all_gps,\n",
    "                    lr=lr,\n",
    "                    lambda_edge_recon=lambda_edge_recon,\n",
    "                    lambda_gene_expr_recon=lambda_gene_expr_recon,\n",
    "                    lambda_cond_contrastive=lambda_cond_contrastive,\n",
    "                    contrastive_logits_ratio=contrastive_logits_ratio,\n",
    "                    lambda_group_lasso=lambda_group_lasso,\n",
    "                    lambda_l1_masked=lambda_l1_masked,\n",
    "                    edge_batch_size=edge_batch_size,\n",
    "                    node_batch_size=node_batch_size,\n",
    "                    seed=model_seeds[run_number-1],\n",
    "                    verbose=True)      "
   ]
  },
  {
   "cell_type": "code",
   "execution_count": null,
   "id": "40fd402b-6fa3-4ecc-813c-cbf1f9c0c542",
   "metadata": {},
   "outputs": [],
   "source": []
  },
  {
   "cell_type": "code",
   "execution_count": null,
   "id": "2725ac7a-6454-41ad-96cb-4c4610456e07",
   "metadata": {},
   "outputs": [],
   "source": []
  },
  {
   "cell_type": "code",
   "execution_count": null,
   "id": "06b9bd9f-65bb-4811-bb55-42ed9a5f79d3",
   "metadata": {},
   "outputs": [],
   "source": []
  },
  {
   "cell_type": "code",
   "execution_count": null,
   "id": "f13606ad-aabf-47c3-8b75-3dd2f02f79d2",
   "metadata": {},
   "outputs": [],
   "source": []
  },
  {
   "cell_type": "code",
   "execution_count": null,
   "id": "e1ac7a00-50a5-4758-915f-2df2b83d0bc4",
   "metadata": {},
   "outputs": [],
   "source": [
    "edges_list = list(graph.edges)"
   ]
  },
  {
   "cell_type": "code",
   "execution_count": null,
   "id": "e449014c-3e4f-494e-8ef9-5feec2761667",
   "metadata": {},
   "outputs": [],
   "source": [
    "import networkx as nx\n",
    "sparse_matrix = nx.to_scipy_sparse_array(graph)"
   ]
  },
  {
   "cell_type": "code",
   "execution_count": null,
   "id": "ffcb2abe-6fa3-448e-8fe4-d1cf155ea3b8",
   "metadata": {},
   "outputs": [],
   "source": [
    "adata_rna"
   ]
  },
  {
   "cell_type": "code",
   "execution_count": null,
   "id": "c3ccc47e-aac7-4c9c-a89b-ff8dca096e62",
   "metadata": {},
   "outputs": [],
   "source": [
    "adata_atac"
   ]
  },
  {
   "cell_type": "code",
   "execution_count": null,
   "id": "f825a803-ec6d-4d1d-ac7f-f3c27e9c0537",
   "metadata": {},
   "outputs": [],
   "source": [
    "sparse_matrix"
   ]
  },
  {
   "cell_type": "code",
   "execution_count": null,
   "id": "39ca2f1c-911e-4a24-8d17-435e22f40077",
   "metadata": {},
   "outputs": [],
   "source": [
    "import scglue\n",
    "scglue.data.get_gene_annotation(\n",
    "    adata, gtf=gtf_file_path,\n",
    "    gtf_by=\"gene_name\"\n",
    ")"
   ]
  },
  {
   "cell_type": "code",
   "execution_count": null,
   "id": "8f47ce06-5891-47f3-b28d-fc0613a586a6",
   "metadata": {
    "tags": []
   },
   "outputs": [],
   "source": [
    "adata_atac.var"
   ]
  },
  {
   "cell_type": "code",
   "execution_count": null,
   "id": "58091ac9-153a-4004-a86f-178c48554ccc",
   "metadata": {},
   "outputs": [],
   "source": [
    "import scglue"
   ]
  },
  {
   "cell_type": "code",
   "execution_count": null,
   "id": "4b6cbafa-18a6-455e-9e42-b3e92eda1f7e",
   "metadata": {
    "tags": []
   },
   "outputs": [],
   "source": [
    "guidance = scglue.genomics.rna_anchored_guidance_graph(adata_rna, adata_atac, propagate_highly_variable=False)\n",
    "guidance"
   ]
  },
  {
   "cell_type": "code",
   "execution_count": null,
   "id": "b0193a38-87d1-421c-824f-9060b9e36433",
   "metadata": {},
   "outputs": [],
   "source": [
    "guidance"
   ]
  },
  {
   "cell_type": "code",
   "execution_count": null,
   "id": "f3620161-8203-4128-978f-d39f424b1494",
   "metadata": {},
   "outputs": [],
   "source": [
    "scglue.graph.check_graph(guidance, [adata_rna, adata_atac])"
   ]
  },
  {
   "cell_type": "code",
   "execution_count": null,
   "id": "180f15a9-4cb2-4ae0-a5ef-21a444a36664",
   "metadata": {},
   "outputs": [],
   "source": [
    "guidance.attributes"
   ]
  },
  {
   "cell_type": "code",
   "execution_count": null,
   "id": "16d26b23-56b4-4aa0-8b1d-b1cdd8731fb0",
   "metadata": {},
   "outputs": [],
   "source": [
    "0.0078125 * 128"
   ]
  },
  {
   "cell_type": "code",
   "execution_count": null,
   "id": "a00ff539-287f-48c0-8f90-5559de4d50e6",
   "metadata": {},
   "outputs": [],
   "source": []
  },
  {
   "cell_type": "code",
   "execution_count": null,
   "id": "fdfbf0e7-8f55-4959-87a2-3822adfcf17f",
   "metadata": {},
   "outputs": [],
   "source": [
    "adata.var_names"
   ]
  },
  {
   "cell_type": "code",
   "execution_count": null,
   "id": "de6f1f1a-1aa8-401d-883b-a7a420763dc9",
   "metadata": {
    "tags": []
   },
   "outputs": [],
   "source": [
    "get_gene_annotations(\n",
    "    adata=adata_rna,\n",
    "    adata_atac=adata_atac,\n",
    "    gtf_file_path=gtf_file_path)"
   ]
  },
  {
   "cell_type": "code",
   "execution_count": null,
   "id": "9a5f762f-7a28-4865-818c-eb1386712aae",
   "metadata": {
    "tags": []
   },
   "outputs": [],
   "source": [
    "adata_rna.var[:50]"
   ]
  },
  {
   "cell_type": "code",
   "execution_count": null,
   "id": "2e1f303f-3ce0-4002-9aa4-c6b4f8cacf1d",
   "metadata": {
    "tags": []
   },
   "outputs": [],
   "source": [
    "adata_atac.var[:50]"
   ]
  },
  {
   "cell_type": "code",
   "execution_count": null,
   "id": "34ccd774-b7c7-4505-a436-e9af753bf7e6",
   "metadata": {
    "tags": []
   },
   "outputs": [],
   "source": [
    "adata_auto = sc.read_h5ad(\"../../datasets/srt_data/gold/results/seqfish_mouse_organogenesis_autotalker_oneshot_integrated.h5ad\")\n",
    "model = \"autotalker\"\n",
    "adata = adata_auto"
   ]
  },
  {
   "cell_type": "code",
   "execution_count": null,
   "id": "50a065e9-f5db-4745-8afd-12e67d601462",
   "metadata": {
    "tags": []
   },
   "outputs": [],
   "source": [
    "# Gene Program Mask\n",
    "nichenet_keep_target_genes_ratio = 0.01\n",
    "nichenet_max_n_target_genes_per_gp = 25344\n",
    "include_mebocost_gps = True\n",
    "mebocost_species = \"mouse\"\n",
    "gp_filter_mode = \"subset\"\n",
    "combine_overlap_gps = True\n",
    "overlap_thresh_source_genes = 0.9\n",
    "overlap_thresh_target_genes = 0.9\n",
    "overlap_thresh_genes = 0.9\n",
    "\n",
    "# Data\n",
    "dataset = \"starmap_plus_mouse_cns\"\n",
    "reference_batches = [\"batch1_sample\", \"batch2_sample\", \"batch3_sample\"]\n",
    "counts_key = \"counts\"\n",
    "condition_key = \"batch\"\n",
    "n_neighbors = 12\n",
    "spatial_key = \"spatial\"\n",
    "adj_key = \"spatial_connectivities\"\n",
    "mapping_entity_key = \"mapping_entity\"\n",
    "filter_genes = True\n",
    "n_hvg = 2000\n",
    "gp_targets_mask_key = \"autotalker_gp_targets\"\n",
    "gp_sources_mask_key = \"autotalker_gp_sources\"\n",
    "gp_names_key = \"autotalker_gp_names\"\n",
    "\n",
    "# Model\n",
    "load_timestamp = \"27032023_184359\"\n",
    "latent_key = \"latent\"\n",
    "\n",
    "# Benchmarking\n",
    "cell_type_key = \"cell_type\"\n",
    "spatial_knng_key = \"autotalker_spatial_knng\"\n",
    "latent_knng_key = \"autotalker_latent_knng\"\n",
    "\n",
    "# Other\n",
    "random_seed = 0"
   ]
  },
  {
   "cell_type": "code",
   "execution_count": null,
   "id": "2e73a02d-74d3-4ab2-b2b5-3744f680e544",
   "metadata": {},
   "outputs": [],
   "source": [
    "1/0.03125"
   ]
  },
  {
   "cell_type": "code",
   "execution_count": null,
   "id": "004668d0-3358-49fe-89e2-08a1f5b5005b",
   "metadata": {
    "tags": []
   },
   "outputs": [],
   "source": [
    "run_number = 1"
   ]
  },
  {
   "cell_type": "code",
   "execution_count": null,
   "id": "e81e7148-5ae3-47f2-bc0a-ee2bb183352b",
   "metadata": {
    "tags": []
   },
   "outputs": [],
   "source": [
    "# Compute metrics\n",
    "metrics_dict = {}\n",
    "\n",
    "# Spatial conservation metrics\n",
    "metrics_dict[\"cas\"] = compute_cas(\n",
    "    adata=adata,\n",
    "    cell_type_key=cell_type_key,\n",
    "    condition_key=condition_key,\n",
    "    spatial_knng_key=spatial_knng_key,\n",
    "    latent_knng_key=latent_knng_key,\n",
    "    spatial_key=spatial_key,\n",
    "    latent_key=f\"{model.lower()}_{latent_key}_run{run_number}\")\n",
    "metrics_dict[\"clisis\"] = compute_clisis(\n",
    "    adata=adata,\n",
    "    cell_type_key=cell_type_key,\n",
    "    condition_key=condition_key,\n",
    "    spatial_knng_key=spatial_knng_key,\n",
    "    latent_knng_key=latent_knng_key,\n",
    "    spatial_key=spatial_key,\n",
    "    latent_key=f\"{model.lower()}_{latent_key}_run{run_number}\")\n",
    "\n",
    "# Batch correction metrics\n",
    "metrics_dict[\"asw\"] = scib.me.silhouette_batch(\n",
    "    adata=adata,\n",
    "    batch_key=condition_key,\n",
    "    label_key=cell_type_key,\n",
    "    embed=f\"{model.lower()}_{latent_key}_run{run_number}\")\n",
    "metrics_dict[\"ilisi\"] = scib.me.ilisi_graph(\n",
    "    adata=adata,\n",
    "    batch_key=condition_key,\n",
    "    type_=\"embed\",\n",
    "    use_rep=f\"{model.lower()}_{latent_key}_run{run_number}\")\n",
    "    #type_=\"knn\")"
   ]
  },
  {
   "cell_type": "code",
   "execution_count": null,
   "id": "779fb0e7-cc63-43b1-922c-9552aed23d59",
   "metadata": {},
   "outputs": [],
   "source": [
    "# Autotalker # 3 0.5 10000\n",
    "metrics_dict"
   ]
  },
  {
   "cell_type": "code",
   "execution_count": null,
   "id": "54c7642a-be29-4b0f-a636-7605dcc21fe1",
   "metadata": {},
   "outputs": [],
   "source": [
    "# Autotalker # 1 0.25 10000\n",
    "metrics_dict"
   ]
  },
  {
   "cell_type": "code",
   "execution_count": null,
   "id": "b2b7c156-f885-4dc8-b128-986a03131660",
   "metadata": {
    "tags": []
   },
   "outputs": [],
   "source": [
    "# Autotalker # 3 0.25 10000\n",
    "metrics_dict"
   ]
  },
  {
   "cell_type": "code",
   "execution_count": null,
   "id": "7a7a0cb2-0259-4004-8465-9cc0b745ae4b",
   "metadata": {},
   "outputs": [],
   "source": [
    "# Autotalker\n",
    "metrics_dict # 1 0.125 10000"
   ]
  },
  {
   "cell_type": "code",
   "execution_count": null,
   "id": "7e06c0b4-5a2f-4308-a817-553aab5394f9",
   "metadata": {
    "tags": []
   },
   "outputs": [],
   "source": [
    "# Autotalker\n",
    "metrics_dict # 3 0.125 10000"
   ]
  },
  {
   "cell_type": "code",
   "execution_count": null,
   "id": "30d13af6-78aa-4e56-8c05-d7f4059ba3ba",
   "metadata": {},
   "outputs": [],
   "source": [
    "# Autotalker # 5 0.125 10000\n",
    "metrics_dict"
   ]
  },
  {
   "cell_type": "code",
   "execution_count": null,
   "id": "b5cee76a-66b2-4ea2-86b9-a6ce9d4ebcd2",
   "metadata": {},
   "outputs": [],
   "source": [
    "metrics_dict"
   ]
  },
  {
   "cell_type": "code",
   "execution_count": null,
   "id": "7c75112f-8b56-4cef-b2b5-e66d62d06828",
   "metadata": {
    "tags": []
   },
   "outputs": [],
   "source": [
    "sc.pp.neighbors(adata,\n",
    "                use_rep=f\"{model}_{latent_key}_run{run_number}\")\n",
    "sc.tl.umap(adata)\n",
    "\n",
    "# Plot UMAP with batch annotations\n",
    "fig = sc.pl.umap(adata,\n",
    "                 color=[condition_key],\n",
    "                 legend_fontsize=12,\n",
    "                 size=240000/len(adata),\n",
    "                 return_fig=True)\n",
    "fig.set_figheight(7)\n",
    "fig.set_figwidth(7)\n",
    "\n",
    "\n",
    "# Plot UMAP with cell type annotations\n",
    "fig = sc.pl.umap(adata,\n",
    "                 color=[cell_type_key],\n",
    "                 legend_fontsize=12,\n",
    "                 size=240000/len(adata),\n",
    "                 return_fig=True)\n",
    "fig.set_figheight(7)\n",
    "fig.set_figwidth(7)"
   ]
  },
  {
   "cell_type": "markdown",
   "id": "d358cdc8-f5de-44a6-93be-4e376dfc9160",
   "metadata": {},
   "source": [
    "# Autotalker\n",
    "metrics_dict"
   ]
  },
  {
   "cell_type": "code",
   "execution_count": null,
   "id": "8f489b9a-b827-42ab-99fd-fd959b3f6937",
   "metadata": {},
   "outputs": [],
   "source": [
    "sc.pp.neighbors(adata,\n",
    "                use_rep=f\"{model}_{latent_key}_run{run_number}\")\n",
    "sc.tl.umap(adata)\n",
    "\n",
    "# Plot UMAP with batch annotations\n",
    "fig = sc.pl.umap(adata,\n",
    "                 color=[condition_key],\n",
    "                 legend_fontsize=12,\n",
    "                 size=240000/len(adata),\n",
    "                 return_fig=True)\n",
    "fig.set_figheight(7)\n",
    "fig.set_figwidth(7)\n",
    "\n",
    "\n",
    "# Plot UMAP with cell type annotations\n",
    "fig = sc.pl.umap(adata,\n",
    "                 color=[cell_type_key],\n",
    "                 legend_fontsize=12,\n",
    "                 size=240000/len(adata),\n",
    "                 return_fig=True)\n",
    "fig.set_figheight(7)\n",
    "fig.set_figwidth(7)"
   ]
  },
  {
   "cell_type": "code",
   "execution_count": null,
   "id": "3f838113-5470-4b1e-ba24-2b86147a88cb",
   "metadata": {},
   "outputs": [],
   "source": [
    "1 / (2 * 2 * 2)"
   ]
  },
  {
   "cell_type": "code",
   "execution_count": null,
   "id": "adb46f36-1320-4f0a-a1a0-5759ae0c635e",
   "metadata": {},
   "outputs": [],
   "source": []
  },
  {
   "cell_type": "code",
   "execution_count": null,
   "id": "899441f7-c171-479a-995f-b1affe37c937",
   "metadata": {},
   "outputs": [],
   "source": [
    "512 * 0.125"
   ]
  },
  {
   "cell_type": "code",
   "execution_count": null,
   "id": "a908c290-2ddb-4541-99d7-516fc77221de",
   "metadata": {
    "tags": []
   },
   "outputs": [],
   "source": [
    "# Autotalker\n",
    "metrics_dict"
   ]
  },
  {
   "cell_type": "code",
   "execution_count": null,
   "id": "d9e9d20a-1063-43c7-978f-2ff382befaeb",
   "metadata": {},
   "outputs": [],
   "source": [
    "sc.pp.neighbors(adata,\n",
    "                use_rep=f\"{model}_{latent_key}_run1\")\n",
    "sc.tl.umap(adata)\n",
    "\n",
    "# Plot UMAP with batch annotations\n",
    "fig = sc.pl.umap(adata,\n",
    "                 color=[condition_key],\n",
    "                 legend_fontsize=12,\n",
    "                 size=240000/len(adata),\n",
    "                 return_fig=True)\n",
    "fig.set_figheight(7)\n",
    "fig.set_figwidth(7)\n",
    "\n",
    "\n",
    "# Plot UMAP with cell type annotations\n",
    "fig = sc.pl.umap(adata,\n",
    "                 color=[cell_type_key],\n",
    "                 legend_fontsize=12,\n",
    "                 size=240000/len(adata),\n",
    "                 return_fig=True)\n",
    "fig.set_figheight(7)\n",
    "fig.set_figwidth(7)"
   ]
  },
  {
   "cell_type": "code",
   "execution_count": null,
   "id": "f833d4dd-f656-434e-a275-a96bedf40c6b",
   "metadata": {},
   "outputs": [],
   "source": [
    "sc.pp.neighbors(adata,\n",
    "                use_rep=f\"{model}_{latent_key}_run1\")\n",
    "sc.tl.umap(adata)\n",
    "\n",
    "# Plot UMAP with batch annotations\n",
    "fig = sc.pl.umap(adata,\n",
    "                 color=[condition_key],\n",
    "                 legend_fontsize=12,\n",
    "                 size=240000/len(adata),\n",
    "                 return_fig=True)\n",
    "fig.set_figheight(7)\n",
    "fig.set_figwidth(7)\n",
    "\n",
    "\n",
    "# Plot UMAP with cell type annotations\n",
    "fig = sc.pl.umap(adata,\n",
    "                 color=[cell_type_key],\n",
    "                 legend_fontsize=12,\n",
    "                 size=240000/len(adata),\n",
    "                 return_fig=True)\n",
    "fig.set_figheight(7)\n",
    "fig.set_figwidth(7)"
   ]
  },
  {
   "cell_type": "code",
   "execution_count": null,
   "id": "064137dd-6fab-4873-beb7-ba4986e598c9",
   "metadata": {
    "tags": []
   },
   "outputs": [],
   "source": [
    "sc.pp.neighbors(adata,\n",
    "                use_rep=f\"{model}_{latent_key}_run1\")\n",
    "sc.tl.umap(adata)\n",
    "\n",
    "# Plot UMAP with batch annotations\n",
    "fig = sc.pl.umap(adata,\n",
    "                 color=[condition_key],\n",
    "                 legend_fontsize=12,\n",
    "                 size=240000/len(adata),\n",
    "                 return_fig=True)\n",
    "fig.set_figheight(7)\n",
    "fig.set_figwidth(7)\n",
    "\n",
    "\n",
    "# Plot UMAP with cell type annotations\n",
    "fig = sc.pl.umap(adata,\n",
    "                 color=[cell_type_key],\n",
    "                 legend_fontsize=12,\n",
    "                 size=240000/len(adata),\n",
    "                 return_fig=True)\n",
    "fig.set_figheight(7)\n",
    "fig.set_figwidth(7)"
   ]
  },
  {
   "cell_type": "code",
   "execution_count": null,
   "id": "b70004eb-9862-44dd-83e3-708994e880dc",
   "metadata": {},
   "outputs": [],
   "source": []
  },
  {
   "cell_type": "code",
   "execution_count": null,
   "id": "227288dc-64d6-4342-a59d-0d63ff5ce55b",
   "metadata": {
    "tags": []
   },
   "outputs": [],
   "source": [
    "# Autotalker new (2 layers)\n",
    "metrics_dict"
   ]
  },
  {
   "cell_type": "code",
   "execution_count": null,
   "id": "00c9809b-1ac9-4165-a747-39121a391d7e",
   "metadata": {},
   "outputs": [],
   "source": [
    "# Autotalker new\n",
    "metrics_dict"
   ]
  },
  {
   "cell_type": "code",
   "execution_count": null,
   "id": "84dcc42e-3694-4b86-8764-171544d8ed82",
   "metadata": {},
   "outputs": [],
   "source": [
    "# Autotalker old\n",
    "metrics_dict"
   ]
  },
  {
   "cell_type": "code",
   "execution_count": null,
   "id": "1e8e1591-4a34-4825-a727-2fdcd44b14e4",
   "metadata": {},
   "outputs": [],
   "source": [
    "adata_graph = sc.read_h5ad(\"../../datasets/srt_data/gold/results/seqfish_mouse_organogenesis_graphst_oneshot_integrated.h5ad\")\n",
    "model = \"graphst\"\n",
    "adata = adata_graph"
   ]
  },
  {
   "cell_type": "code",
   "execution_count": null,
   "id": "319839c3-4e83-420e-873c-0813f61cfaf3",
   "metadata": {
    "tags": []
   },
   "outputs": [],
   "source": [
    "# GraphST\n",
    "metrics_dict"
   ]
  },
  {
   "cell_type": "code",
   "execution_count": null,
   "id": "1b7a45ac-c934-4f58-a132-df5b14b9550e",
   "metadata": {
    "tags": []
   },
   "outputs": [],
   "source": [
    "# GraphST\n",
    "sc.pp.neighbors(adata,\n",
    "                use_rep=f\"{model}_{latent_key}_run1\")\n",
    "sc.tl.umap(adata)\n",
    "\n",
    "# Plot UMAP with batch annotations\n",
    "fig = sc.pl.umap(adata,\n",
    "                 color=[condition_key],\n",
    "                 legend_fontsize=12,\n",
    "                 size=240000/len(adata),\n",
    "                 return_fig=True)\n",
    "fig.set_figheight(7)\n",
    "fig.set_figwidth(7)\n",
    "\n",
    "\n",
    "# Plot UMAP with cell type annbbbbotations\n",
    "fig = sc.pl.umap(adata,\n",
    "                 color=[cell_type_key],\n",
    "                 legend_fontsize=12,\n",
    "                 size=240000/len(adata),\n",
    "                 return_fig=True)\n",
    "fig.set_figheight(7)\n",
    "fig.set_figwidth(7)"
   ]
  },
  {
   "cell_type": "code",
   "execution_count": null,
   "id": "bfb4c79a-a344-4ac5-9dd9-e99f43fdf443",
   "metadata": {
    "tags": []
   },
   "outputs": [],
   "source": [
    "adata_scvi = sc.read_h5ad(\"../../datasets/srt_data/gold/results/seqfish_mouse_organogenesis_scvi_oneshot_integrated.h5ad\")\n",
    "model = \"scvi\"\n",
    "adata = adata_scvi"
   ]
  },
  {
   "cell_type": "code",
   "execution_count": null,
   "id": "90fd976b-619e-48b8-bb04-e5bd41154c67",
   "metadata": {
    "tags": []
   },
   "outputs": [],
   "source": [
    "# scVI\n",
    "metrics_dict"
   ]
  },
  {
   "cell_type": "code",
   "execution_count": null,
   "id": "9c531699-21eb-42a2-82c7-47eea82b225d",
   "metadata": {
    "tags": []
   },
   "outputs": [],
   "source": [
    "# scVI\n",
    "sc.pp.neighbors(adata,\n",
    "                use_rep=f\"{model}_{latent_key}_run1\")\n",
    "sc.tl.umap(adata)\n",
    "\n",
    "# Plot UMAP with batch annotations\n",
    "fig = sc.pl.umap(adata,\n",
    "                 color=[condition_key],\n",
    "                 legend_fontsize=12,\n",
    "                 size=240000/len(adata),\n",
    "                 return_fig=True)\n",
    "fig.set_figheight(7)\n",
    "fig.set_figwidth(7)\n",
    "\n",
    "\n",
    "# Plot UMAP with cell type annbbbbotations\n",
    "fig = sc.pl.umap(adata,\n",
    "                 color=[cell_type_key],\n",
    "                 legend_fontsize=12,\n",
    "                 size=240000/len(adata),\n",
    "                 return_fig=True)\n",
    "fig.set_figheight(7)\n",
    "fig.set_figwidth(7)"
   ]
  },
  {
   "cell_type": "code",
   "execution_count": null,
   "id": "73b2dc4d-061d-4895-bf39-735ec27f0ccc",
   "metadata": {},
   "outputs": [],
   "source": [
    "adata.obsp[\"autotalker_latent_run1_connectivities\"].sum(axis=1)"
   ]
  },
  {
   "cell_type": "code",
   "execution_count": null,
   "id": "053c3c2d-9b15-4e28-9b91-c5a0b80fa2f3",
   "metadata": {},
   "outputs": [],
   "source": [
    "sc.pp.neighbors(adata=adata,\n",
    "                # use_rep=spatial_key,\n",
    "                n_neighbors=15,\n",
    "                random_state=0,\n",
    "                key_added=\"spatial\",\n",
    "                knn=True)"
   ]
  },
  {
   "cell_type": "code",
   "execution_count": null,
   "id": "dd5e855b-b5cd-4acf-8069-25ca63c04d54",
   "metadata": {},
   "outputs": [],
   "source": [
    "adata.obsp[\"spatial_connectivities\"].toarray()[:10, :200]"
   ]
  },
  {
   "cell_type": "code",
   "execution_count": null,
   "id": "fbf3064c-96b2-4afd-9d2f-bb19375a7561",
   "metadata": {},
   "outputs": [],
   "source": [
    "batches = adata.obs[condition_key].unique().tolist()[:7]"
   ]
  },
  {
   "cell_type": "code",
   "execution_count": null,
   "id": "0eb3dd42-d2c9-48fd-b77d-1a95322c0561",
   "metadata": {},
   "outputs": [],
   "source": [
    "adata_batch_list = []\n",
    "for batch in batches:\n",
    "    adata_batch_list.append(adata[adata.obs[condition_key] == batch][:50, :].copy())\n",
    "adata = sc.concat(adata_batch_list, join=\"inner\")\n",
    "\n",
    "adata.obs[\"cell_type\"] = adata.obs[\"cell_type\"].astype(\"category\")"
   ]
  },
  {
   "cell_type": "code",
   "execution_count": null,
   "id": "0a2316cb-3fd2-4708-b63f-4a7d50667d58",
   "metadata": {},
   "outputs": [],
   "source": [
    "adata"
   ]
  },
  {
   "cell_type": "code",
   "execution_count": null,
   "id": "d2c757ce-b42d-4bf4-b918-b93f9ca1efbe",
   "metadata": {},
   "outputs": [],
   "source": [
    "adata_sample = adata[:5, :]"
   ]
  },
  {
   "cell_type": "code",
   "execution_count": null,
   "id": "3fa9e70d-a35f-4ce3-ad21-501e362d49a9",
   "metadata": {},
   "outputs": [],
   "source": [
    "adata_sample = adata_batch_list[0].copy()"
   ]
  },
  {
   "cell_type": "code",
   "execution_count": null,
   "id": "d6ef61f6-8586-496f-9917-265a499b8061",
   "metadata": {},
   "outputs": [],
   "source": [
    "adata_sample.obsp[\"spatial_connectivities\"].toarray()"
   ]
  },
  {
   "cell_type": "code",
   "execution_count": null,
   "id": "5e69718d-abfe-4b78-a927-d3eaae928b29",
   "metadata": {},
   "outputs": [],
   "source": [
    "import squidpy as sq\n",
    "sq.gr.nhood_enrichment(adata=adata_sample,\n",
    "                       cluster_key=\"cell_type\",\n",
    "                       connectivity_key=\"spatial\",\n",
    "                       n_perms=1000,\n",
    "                       seed=0,\n",
    "                       show_progress_bar=False)"
   ]
  },
  {
   "cell_type": "code",
   "execution_count": null,
   "id": "05f3867a-a86d-408f-a85f-2300db2e90b0",
   "metadata": {},
   "outputs": [],
   "source": [
    "# Compute metrics\n",
    "metrics_dict = {}\n",
    "\n",
    "# Spatial conservation metrics\n",
    "metrics_dict[\"cas\"] = compute_cas(\n",
    "    adata=adata,\n",
    "    cell_type_key=cell_type_key,\n",
    "    condition_key=condition_key,\n",
    "    spatial_knng_key=spatial_knng_key,\n",
    "    latent_knng_key=latent_knng_key,\n",
    "    spatial_key=spatial_key,\n",
    "    latent_key=f\"{model.lower()}_{latent_key}_run1\")\n",
    "\"\"\"\n",
    "metrics_dict[\"clisis\"] = compute_clisis(\n",
    "    adata=adata,\n",
    "    cell_type_key=cell_type_key,\n",
    "    condition_key=condition_key,\n",
    "    spatial_knng_key=spatial_knng_key,\n",
    "    latent_knng_key=latent_knng_key,\n",
    "    spatial_key=spatial_key,\n",
    "    latent_key=f\"{model.lower()}_{latent_key}_run1\")\n",
    "\n",
    "# Batch correction metrics\n",
    "metrics_dict[\"asw\"] = scib.me.silhouette_batch(\n",
    "    adata=adata,\n",
    "    batch_key=condition_key,\n",
    "    label_key=cell_type_key,\n",
    "    embed=f\"{model.lower()}_{latent_key}_run1\")\n",
    "metrics_dict[\"ilisi\"] = scib.me.ilisi_graph(\n",
    "    adata=adata,\n",
    "    batch_key=condition_key,\n",
    "    type_=\"embed\",\n",
    "    use_rep=f\"{model.lower()}_{latent_key}_run1\")\n",
    "    #type_=\"knn\")\n",
    "\"\"\""
   ]
  },
  {
   "cell_type": "code",
   "execution_count": null,
   "id": "6748f0f6-ecc1-4ed8-af22-6e04954961b1",
   "metadata": {},
   "outputs": [],
   "source": []
  }
 ],
 "metadata": {
  "kernelspec": {
   "display_name": "Python 3 (ipykernel)",
   "language": "python",
   "name": "python3"
  },
  "language_info": {
   "codemirror_mode": {
    "name": "ipython",
    "version": 3
   },
   "file_extension": ".py",
   "mimetype": "text/x-python",
   "name": "python",
   "nbconvert_exporter": "python",
   "pygments_lexer": "ipython3",
   "version": "3.9.16"
  },
  "toc-showcode": false
 },
 "nbformat": 4,
 "nbformat_minor": 5
}
