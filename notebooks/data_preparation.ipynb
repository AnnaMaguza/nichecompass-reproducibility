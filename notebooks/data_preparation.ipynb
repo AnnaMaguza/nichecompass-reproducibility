{
 "cells": [
  {
   "cell_type": "markdown",
   "id": "1b1daabf-c8e3-43d4-aa32-9789abcc8619",
   "metadata": {},
   "source": [
    "# Autotalker Data Preprocessing"
   ]
  },
  {
   "cell_type": "markdown",
   "id": "c325d921-2077-42b3-90a8-6f6c7dd928c5",
   "metadata": {},
   "source": [
    "- **Creator**: Sebastian Birk (<sebastian.birk@helmholtz-munich.de>).\n",
    "- **Affiliation:** Helmholtz Munich, Institute of Computational Biology (ICB), Talavera-López Lab\n",
    "- **Date of Creation:** 01.10.2022\n",
    "- **Date of Last Modification:** 11.01.2023"
   ]
  },
  {
   "cell_type": "markdown",
   "id": "2d464ebf-354f-4f61-8040-c3dcbcc893b9",
   "metadata": {},
   "source": [
    "## 1. Setup"
   ]
  },
  {
   "cell_type": "markdown",
   "id": "d5631277-d8d2-4194-a376-280f4f149b7d",
   "metadata": {},
   "source": [
    "### 1.1 Import Libraries"
   ]
  },
  {
   "cell_type": "code",
   "execution_count": 1,
   "id": "b4aa3c6a-5a44-4cf1-84a3-5e514457cf3c",
   "metadata": {},
   "outputs": [],
   "source": [
    "import os\n",
    "from copy import deepcopy\n",
    "\n",
    "import anndata as ad\n",
    "import matplotlib.pyplot as plt\n",
    "import numpy as np\n",
    "import pandas as pd\n",
    "import scanpy as sc\n",
    "import scipy.sparse as sp\n",
    "import seaborn as sns\n",
    "import squidpy as sq"
   ]
  },
  {
   "cell_type": "markdown",
   "id": "2b886225-6b6d-433c-b117-47b9a8f8091f",
   "metadata": {},
   "source": [
    "### 1.2 Configure Paths and Create Directories"
   ]
  },
  {
   "cell_type": "code",
   "execution_count": 2,
   "id": "36675337-808d-40a9-93fc-d6cfa9473f66",
   "metadata": {},
   "outputs": [],
   "source": [
    "# Define paths\n",
    "srt_data_folder_path = \"../datasets/srt_data\" # spatially resolved transcriptomics data\n",
    "srt_data_bronze_folder_path = f\"{srt_data_folder_path}/bronze\"\n",
    "srt_data_silver_folder_path = f\"{srt_data_folder_path}/silver\"\n",
    "srt_data_gold_folder_path = f\"{srt_data_folder_path}/gold\"\n",
    "\n",
    "# Create required directories\n",
    "os.makedirs(srt_data_bronze_folder_path, exist_ok=True)\n",
    "os.makedirs(srt_data_silver_folder_path, exist_ok=True)\n",
    "os.makedirs(srt_data_gold_folder_path, exist_ok=True)"
   ]
  },
  {
   "cell_type": "markdown",
   "id": "fd883193-8aa9-4809-aeac-cacb478df22b",
   "metadata": {
    "tags": []
   },
   "source": [
    "## 2. Data"
   ]
  },
  {
   "cell_type": "markdown",
   "id": "049f6853-5dc1-4b68-9240-c4b6a00f1514",
   "metadata": {},
   "source": [
    "### 2.1 seqFISH Mouse Organogenesis Dataset"
   ]
  },
  {
   "cell_type": "markdown",
   "id": "aba6be87-ec43-4e56-b4b5-4fe2b45f19e1",
   "metadata": {},
   "source": [
    "- **Publication:** Lohoff, T. et al. Highly multiplexed spatially resolved gene expression profiling of mouse organogenesis. bioRxiv 2020.11.20.391896 (2020). [doi:10.1101/2020.11.20.391896](https://doi.org/10.1101/2020.11.20.391896)\n",
    "- **Data Access:** Preprocessed version from squidpy API and original source https://marionilab.cruk.cam.ac.uk/SpatialMouseAtlas/\n",
    "- **Summary:**\n",
    "    - Original source\n",
    "        - Sagittal tissue sections of 3 8-12 somite stage mouse embryos\n",
    "        - 19,451 observations (embryo 1), 14,891 observations (embryo 2) and 23,194 observations (embryo 3) on cell-level with cell-type annotations\n",
    "        - 351 probed genes\n",
    "        - Dataset is also available with imputed genes based on scRNA-seq"
   ]
  },
  {
   "cell_type": "code",
   "execution_count": 3,
   "id": "1c00df1b-c23e-4f56-8513-55b5c0b5b104",
   "metadata": {},
   "outputs": [],
   "source": [
    "dataset = \"seqfish_mouse_organogenesis\"\n",
    "cell_type_key = \"celltype_mapped_refined\""
   ]
  },
  {
   "cell_type": "markdown",
   "id": "1e290463-4e20-40cb-9245-cdb3b089cad3",
   "metadata": {},
   "source": [
    "#### 2.1.1 Load & Preprocess Raw Data"
   ]
  },
  {
   "cell_type": "markdown",
   "id": "5cd36b62-2cfc-4bef-86ec-28ebdeba5f43",
   "metadata": {},
   "source": [
    "Preprocessing is done with ```../scripts/seqfish_mouse_organogenesis_data_preparation.R```."
   ]
  },
  {
   "cell_type": "code",
   "execution_count": 4,
   "id": "ac246328-5be6-4c04-a3bf-8ccce8315856",
   "metadata": {},
   "outputs": [
    {
     "ename": "FileNotFoundError",
     "evalue": "[Errno 2] Unable to open file (unable to open file: name = '../datasets/srt_data/silver/seqfish_mouse_organogenesis.h5ad', errno = 2, error message = 'No such file or directory', flags = 0, o_flags = 0)",
     "output_type": "error",
     "traceback": [
      "\u001b[0;31m---------------------------------------------------------------------------\u001b[0m",
      "\u001b[0;31mFileNotFoundError\u001b[0m                         Traceback (most recent call last)",
      "Cell \u001b[0;32mIn[4], line 2\u001b[0m\n\u001b[1;32m      1\u001b[0m \u001b[38;5;66;03m# Read preprocessed data\u001b[39;00m\n\u001b[0;32m----> 2\u001b[0m adata \u001b[38;5;241m=\u001b[39m \u001b[43msc\u001b[49m\u001b[38;5;241;43m.\u001b[39;49m\u001b[43mread_h5ad\u001b[49m\u001b[43m(\u001b[49m\u001b[38;5;124;43mf\u001b[39;49m\u001b[38;5;124;43m\"\u001b[39;49m\u001b[38;5;132;43;01m{\u001b[39;49;00m\u001b[43msrt_data_silver_folder_path\u001b[49m\u001b[38;5;132;43;01m}\u001b[39;49;00m\u001b[38;5;124;43m/\u001b[39;49m\u001b[38;5;132;43;01m{\u001b[39;49;00m\u001b[43mdataset\u001b[49m\u001b[38;5;132;43;01m}\u001b[39;49;00m\u001b[38;5;124;43m.h5ad\u001b[39;49m\u001b[38;5;124;43m\"\u001b[39;49m\u001b[43m)\u001b[49m\n",
      "File \u001b[0;32m~/miniconda3/envs/autotalker/lib/python3.9/site-packages/anndata/_io/h5ad.py:224\u001b[0m, in \u001b[0;36mread_h5ad\u001b[0;34m(filename, backed, as_sparse, as_sparse_fmt, chunk_size)\u001b[0m\n\u001b[1;32m    216\u001b[0m         \u001b[38;5;28;01mraise\u001b[39;00m \u001b[38;5;167;01mNotImplementedError\u001b[39;00m(\n\u001b[1;32m    217\u001b[0m             \u001b[38;5;124m\"\u001b[39m\u001b[38;5;124mCurrently only `X` and `raw/X` can be read as sparse.\u001b[39m\u001b[38;5;124m\"\u001b[39m\n\u001b[1;32m    218\u001b[0m         )\n\u001b[1;32m    220\u001b[0m rdasp \u001b[38;5;241m=\u001b[39m partial(\n\u001b[1;32m    221\u001b[0m     read_dense_as_sparse, sparse_format\u001b[38;5;241m=\u001b[39mas_sparse_fmt, axis_chunk\u001b[38;5;241m=\u001b[39mchunk_size\n\u001b[1;32m    222\u001b[0m )\n\u001b[0;32m--> 224\u001b[0m \u001b[38;5;28;01mwith\u001b[39;00m \u001b[43mh5py\u001b[49m\u001b[38;5;241;43m.\u001b[39;49m\u001b[43mFile\u001b[49m\u001b[43m(\u001b[49m\u001b[43mfilename\u001b[49m\u001b[43m,\u001b[49m\u001b[43m \u001b[49m\u001b[38;5;124;43m\"\u001b[39;49m\u001b[38;5;124;43mr\u001b[39;49m\u001b[38;5;124;43m\"\u001b[39;49m\u001b[43m)\u001b[49m \u001b[38;5;28;01mas\u001b[39;00m f:\n\u001b[1;32m    225\u001b[0m     d \u001b[38;5;241m=\u001b[39m {}\n\u001b[1;32m    226\u001b[0m     \u001b[38;5;28;01mfor\u001b[39;00m k \u001b[38;5;129;01min\u001b[39;00m f\u001b[38;5;241m.\u001b[39mkeys():\n\u001b[1;32m    227\u001b[0m         \u001b[38;5;66;03m# Backwards compat for old raw\u001b[39;00m\n",
      "File \u001b[0;32m~/miniconda3/envs/autotalker/lib/python3.9/site-packages/h5py/_hl/files.py:533\u001b[0m, in \u001b[0;36mFile.__init__\u001b[0;34m(self, name, mode, driver, libver, userblock_size, swmr, rdcc_nslots, rdcc_nbytes, rdcc_w0, track_order, fs_strategy, fs_persist, fs_threshold, fs_page_size, page_buf_size, min_meta_keep, min_raw_keep, locking, alignment_threshold, alignment_interval, **kwds)\u001b[0m\n\u001b[1;32m    525\u001b[0m     fapl \u001b[38;5;241m=\u001b[39m make_fapl(driver, libver, rdcc_nslots, rdcc_nbytes, rdcc_w0,\n\u001b[1;32m    526\u001b[0m                      locking, page_buf_size, min_meta_keep, min_raw_keep,\n\u001b[1;32m    527\u001b[0m                      alignment_threshold\u001b[38;5;241m=\u001b[39malignment_threshold,\n\u001b[1;32m    528\u001b[0m                      alignment_interval\u001b[38;5;241m=\u001b[39malignment_interval,\n\u001b[1;32m    529\u001b[0m                      \u001b[38;5;241m*\u001b[39m\u001b[38;5;241m*\u001b[39mkwds)\n\u001b[1;32m    530\u001b[0m     fcpl \u001b[38;5;241m=\u001b[39m make_fcpl(track_order\u001b[38;5;241m=\u001b[39mtrack_order, fs_strategy\u001b[38;5;241m=\u001b[39mfs_strategy,\n\u001b[1;32m    531\u001b[0m                      fs_persist\u001b[38;5;241m=\u001b[39mfs_persist, fs_threshold\u001b[38;5;241m=\u001b[39mfs_threshold,\n\u001b[1;32m    532\u001b[0m                      fs_page_size\u001b[38;5;241m=\u001b[39mfs_page_size)\n\u001b[0;32m--> 533\u001b[0m     fid \u001b[38;5;241m=\u001b[39m \u001b[43mmake_fid\u001b[49m\u001b[43m(\u001b[49m\u001b[43mname\u001b[49m\u001b[43m,\u001b[49m\u001b[43m \u001b[49m\u001b[43mmode\u001b[49m\u001b[43m,\u001b[49m\u001b[43m \u001b[49m\u001b[43muserblock_size\u001b[49m\u001b[43m,\u001b[49m\u001b[43m \u001b[49m\u001b[43mfapl\u001b[49m\u001b[43m,\u001b[49m\u001b[43m \u001b[49m\u001b[43mfcpl\u001b[49m\u001b[43m,\u001b[49m\u001b[43m \u001b[49m\u001b[43mswmr\u001b[49m\u001b[38;5;241;43m=\u001b[39;49m\u001b[43mswmr\u001b[49m\u001b[43m)\u001b[49m\n\u001b[1;32m    535\u001b[0m \u001b[38;5;28;01mif\u001b[39;00m \u001b[38;5;28misinstance\u001b[39m(libver, \u001b[38;5;28mtuple\u001b[39m):\n\u001b[1;32m    536\u001b[0m     \u001b[38;5;28mself\u001b[39m\u001b[38;5;241m.\u001b[39m_libver \u001b[38;5;241m=\u001b[39m libver\n",
      "File \u001b[0;32m~/miniconda3/envs/autotalker/lib/python3.9/site-packages/h5py/_hl/files.py:226\u001b[0m, in \u001b[0;36mmake_fid\u001b[0;34m(name, mode, userblock_size, fapl, fcpl, swmr)\u001b[0m\n\u001b[1;32m    224\u001b[0m     \u001b[38;5;28;01mif\u001b[39;00m swmr \u001b[38;5;129;01mand\u001b[39;00m swmr_support:\n\u001b[1;32m    225\u001b[0m         flags \u001b[38;5;241m|\u001b[39m\u001b[38;5;241m=\u001b[39m h5f\u001b[38;5;241m.\u001b[39mACC_SWMR_READ\n\u001b[0;32m--> 226\u001b[0m     fid \u001b[38;5;241m=\u001b[39m \u001b[43mh5f\u001b[49m\u001b[38;5;241;43m.\u001b[39;49m\u001b[43mopen\u001b[49m\u001b[43m(\u001b[49m\u001b[43mname\u001b[49m\u001b[43m,\u001b[49m\u001b[43m \u001b[49m\u001b[43mflags\u001b[49m\u001b[43m,\u001b[49m\u001b[43m \u001b[49m\u001b[43mfapl\u001b[49m\u001b[38;5;241;43m=\u001b[39;49m\u001b[43mfapl\u001b[49m\u001b[43m)\u001b[49m\n\u001b[1;32m    227\u001b[0m \u001b[38;5;28;01melif\u001b[39;00m mode \u001b[38;5;241m==\u001b[39m \u001b[38;5;124m'\u001b[39m\u001b[38;5;124mr+\u001b[39m\u001b[38;5;124m'\u001b[39m:\n\u001b[1;32m    228\u001b[0m     fid \u001b[38;5;241m=\u001b[39m h5f\u001b[38;5;241m.\u001b[39mopen(name, h5f\u001b[38;5;241m.\u001b[39mACC_RDWR, fapl\u001b[38;5;241m=\u001b[39mfapl)\n",
      "File \u001b[0;32mh5py/_objects.pyx:54\u001b[0m, in \u001b[0;36mh5py._objects.with_phil.wrapper\u001b[0;34m()\u001b[0m\n",
      "File \u001b[0;32mh5py/_objects.pyx:55\u001b[0m, in \u001b[0;36mh5py._objects.with_phil.wrapper\u001b[0;34m()\u001b[0m\n",
      "File \u001b[0;32mh5py/h5f.pyx:106\u001b[0m, in \u001b[0;36mh5py.h5f.open\u001b[0;34m()\u001b[0m\n",
      "\u001b[0;31mFileNotFoundError\u001b[0m: [Errno 2] Unable to open file (unable to open file: name = '../datasets/srt_data/silver/seqfish_mouse_organogenesis.h5ad', errno = 2, error message = 'No such file or directory', flags = 0, o_flags = 0)"
     ]
    }
   ],
   "source": [
    "# Read preprocessed data\n",
    "adata = sc.read_h5ad(f\"{srt_data_silver_folder_path}/{dataset}.h5ad\")"
   ]
  },
  {
   "cell_type": "code",
   "execution_count": 5,
   "id": "edd55a7f-cef9-484c-9b4f-e07f61dbd5a3",
   "metadata": {},
   "outputs": [],
   "source": [
    "# Filter low quality cells\n",
    "adata = adata[adata.obs[\"celltype_mapped_refined\"] != \"Low quality\"]"
   ]
  },
  {
   "cell_type": "code",
   "execution_count": 9,
   "id": "68599830-6ad7-451c-b712-69ae8176ba71",
   "metadata": {},
   "outputs": [
    {
     "name": "stderr",
     "output_type": "stream",
     "text": [
      "/var/folders/wj/ck4tvfm941sdgxng3r0d3lh1k5k8lb/T/ipykernel_96564/2441972308.py:1: FutureWarning: X.dtype being converted to np.float32 from float64. In the next version of anndata (0.9) conversion will not be automatic. Pass dtype explicitly to avoid this warning. Pass `AnnData(X, dtype=X.dtype, ...)` to get the future behavour.\n",
      "  adata.obsm[\"spatial\"] = np.column_stack((adata.obs.x, adata.obs.y))\n"
     ]
    }
   ],
   "source": [
    "# Format adata\n",
    "adata.obsm[\"spatial\"] = np.column_stack((adata.obs.x, adata.obs.y))\n",
    "adata.obs.drop([\"x\", \"y\"], axis=1, inplace=True)\n",
    "adata.X = adata.X.astype(np.float32)"
   ]
  },
  {
   "cell_type": "code",
   "execution_count": 10,
   "id": "12a4b504-35f6-419e-a813-0be10d3cf00d",
   "metadata": {},
   "outputs": [],
   "source": [
    "# Change cell annotation colors\n",
    "color_list = [\"#d8d4d6\", # Allantois\n",
    "              \"#800000\", # Anterior somitic tissues\n",
    "              \"#b7efae\", # Blood progenitors\n",
    "              \"#805500\", # Cardiomyocytes\n",
    "              \"#ffaa00\", # Cranial mesoderm\n",
    "              \"#558000\", # Definitive endoderm\n",
    "              \"#aaff00\", # Dermomyotome\n",
    "              \"#ff0000\", # Endothelium\n",
    "              \"#b3ffb3\", # Erythroid\n",
    "              \"#008055\", # Forebrain/Midbrain/Hindbrain\n",
    "              \"#00ffaa\", # Gut tube\n",
    "              \"#005580\", # Haematoendothelial progenitors\n",
    "              \"#00aaff\", # Intermediate mesoderm\n",
    "              \"#000080\", # Lateral plate mesoderm\n",
    "              # \"#0000ff\", # Low quality\n",
    "              \"#550080\", # Mixed mesenchymal mesoderm\n",
    "              \"#aa00ff\", # Neural crest\n",
    "              \"#3997fe\", # ExE endoderm\n",
    "              \"#800055\", # NMP\n",
    "              \"#ff00aa\", # Presomitic mesoderm\n",
    "              \"#80ffff\", # Sclerotome^\n",
    "              \"#ff8080\", # Spinal cord\n",
    "              \"#000000\", # Splanchnic mesoderm\n",
    "              \"#ffff80\"] # Surface ectoderm\n",
    "adata.uns[\"celltype_mapped_refined_colors\"] = color_list"
   ]
  },
  {
   "cell_type": "code",
   "execution_count": 11,
   "id": "2a4a5a5d-91d4-4f46-9c9a-5dbed965184f",
   "metadata": {},
   "outputs": [],
   "source": [
    "adata_embryo1 = adata[adata.obs.index.str.contains(\"embryo1\")].copy()\n",
    "adata_embryo2 = adata[adata.obs.index.str.contains(\"embryo2\")].copy()\n",
    "adata_embryo3 = adata[adata.obs.index.str.contains(\"embryo3\")].copy()"
   ]
  },
  {
   "cell_type": "code",
   "execution_count": 7,
   "id": "037fa58f-f9ee-44a1-bb05-30157b2472a8",
   "metadata": {},
   "outputs": [],
   "source": [
    "# Store data to disk\n",
    "adata_embryo1.write(f\"{srt_data_gold_folder_path}/{dataset}_embryo1.h5ad\")\n",
    "adata_embryo2.write(f\"{srt_data_gold_folder_path}/{dataset}_embryo2.h5ad\")\n",
    "adata_embryo3.write(f\"{srt_data_gold_folder_path}/{dataset}_embryo3.h5ad\")"
   ]
  },
  {
   "cell_type": "markdown",
   "id": "79b91bd5-fac9-4dbd-a5c9-065dad989b43",
   "metadata": {},
   "source": [
    "Set radius with 5 digits accuracy to get average number of neighbors of 2, 4, 8, 16 and 32 respectively."
   ]
  },
  {
   "cell_type": "code",
   "execution_count": null,
   "id": "843c55c3-10e6-4dd1-800c-82e2ace6ff99",
   "metadata": {},
   "outputs": [],
   "source": [
    "sq.gr.spatial_neighbors(adata_embryo2,\n",
    "                        coord_type=\"generic\",\n",
    "                        spatial_key=\"spatial\",\n",
    "                        radius=0.03154)\n",
    "avg_edges_per_node = round(adata_embryo2.obsp['spatial_connectivities'].sum(axis=0).mean(), 4)\n",
    "print(f\"Average number of edges per node: {avg_edges_per_node}.\")"
   ]
  },
  {
   "cell_type": "code",
   "execution_count": null,
   "id": "33a5ad36-1507-417d-bd81-b091f8b5a977",
   "metadata": {},
   "outputs": [],
   "source": [
    "embryo2_dict = {}\n",
    "embryo2_dict[\"radius_2_avg_neighbors\"] = 0.03154\n",
    "embryo2_dict[\"radius_4_avg_neighbors\"] = 0.03957\n",
    "embryo2_dict[\"radius_8_avg_neighbors\"] = 0.05194\n",
    "embryo2_dict[\"radius_16_avg_neighbors\"] = 0.07316\n",
    "embryo2_dict[\"radius_32_avg_neighbors\"] = 0.10386"
   ]
  },
  {
   "cell_type": "code",
   "execution_count": null,
   "id": "837e5f00-92e0-4356-a7ba-a61fa085e496",
   "metadata": {},
   "outputs": [],
   "source": [
    "# Create csv files for embryo 2 for DeepLinc method\n",
    "counts_df = pd.DataFrame(adata_embryo2.X.toarray(), columns=adata_embryo2.var_names)\n",
    "counts_df.to_csv(f\"{srt_data_gold_folder_path}/{dataset}_embryo2_counts.csv\", index=False)\n",
    "\n",
    "coords_df = pd.DataFrame(adata_embryo2.obsm[\"spatial\"], columns=[\"X\", \"Y\"])\n",
    "coords_df.to_csv(f\"{srt_data_gold_folder_path}/{dataset}_embryo2_coords.csv\", index=False)\n",
    "\n",
    "for n_neighbors in [2, 4, 8, 16, 32]:\n",
    "    sq.gr.spatial_neighbors(adata_embryo2,\n",
    "                            coord_type=\"generic\",\n",
    "                            spatial_key=\"spatial\",\n",
    "                            radius=embryo2_dict[f\"radius_{n_neighbors}_avg_neighbors\"])\n",
    "    adj_df = pd.DataFrame(adata_embryo2.obsp[\"spatial_connectivities\"].toarray())\n",
    "    adj_df.to_csv(f\"{srt_data_gold_folder_path}/{dataset}_embryo2_adj{n_neighbors}.csv\", index=False)\n",
    "\n",
    "cell_types_df = pd.DataFrame(adata_embryo2.obs[\"celltype_mapped_refined\"])\n",
    "cell_types_df.rename(columns={\"celltype_mapped_refined\": \"Cell_class_name\"}, inplace=True)\n",
    "cell_types_df[\"Cell_ID\"] = np.arange(len(adata_embryo2))\n",
    "cell_types_df[\"Cell_class_id\"] = cell_types_df[\"Cell_class_name\"].cat.codes\n",
    "cell_types_df = cell_types_df[[\"Cell_ID\", \"Cell_class_id\", \"Cell_class_name\"]]\n",
    "cell_types_df.to_csv(f\"{srt_data_gold_folder_path}/{dataset}_embryo2_cell_types.csv\", index=False)"
   ]
  },
  {
   "cell_type": "markdown",
   "id": "0a9e1309-a0cc-4bbf-8bc3-3a4250bdc164",
   "metadata": {},
   "source": [
    "#### 2.1.2 Explore Data"
   ]
  },
  {
   "cell_type": "code",
   "execution_count": null,
   "id": "4aab388e-854b-4f2e-b062-a3cabd69dcbc",
   "metadata": {},
   "outputs": [],
   "source": [
    "print(f\"Exploring dataset {dataset}_embryo1.\")\n",
    "print(f\"Number of nodes (cells): {adata_embryo1.layers['counts'].shape[0]}\")\n",
    "print(f\"Number of node features (genes): {adata_embryo1.layers['counts'].shape[1]}\")\n",
    "\n",
    "# Visualize cell-level annotated data in physical space\n",
    "sq.pl.spatial_scatter(adata_embryo1, color=cell_type_key, shape=None, figsize=(12, 12))"
   ]
  },
  {
   "cell_type": "code",
   "execution_count": null,
   "id": "d0cc18fa-cc37-4910-9de3-c2a55cba3e01",
   "metadata": {},
   "outputs": [],
   "source": [
    "print(f\"Exploring dataset {dataset}_embryo2.\")\n",
    "print(f\"Number of nodes (cells): {adata_embryo2.layers['counts'].shape[0]}\")\n",
    "print(f\"Number of node features (genes): {adata_embryo2.layers['counts'].shape[1]}\")\n",
    "\n",
    "# Visualize cell-level annotated data in physical space\n",
    "sq.pl.spatial_scatter(adata_embryo2, color=cell_type_key, shape=None, figsize=(12, 12))"
   ]
  },
  {
   "cell_type": "code",
   "execution_count": null,
   "id": "6f9c773d-9235-48dd-b8c5-8b1d8f966eb0",
   "metadata": {},
   "outputs": [],
   "source": [
    "print(f\"Exploring dataset {dataset}_embryo3.\")\n",
    "print(f\"Number of nodes (cells): {adata_embryo3.layers['counts'].shape[0]}\")\n",
    "print(f\"Number of node features (genes): {adata_embryo3.layers['counts'].shape[1]}\")\n",
    "\n",
    "# Visualize cell-level annotated data in physical space\n",
    "sq.pl.spatial_scatter(adata_embryo3, color=cell_type_key, shape=None, figsize=(12, 12))"
   ]
  },
  {
   "cell_type": "markdown",
   "id": "d9f640c3-f159-4dca-9a2e-7e43f142f4da",
   "metadata": {},
   "source": [
    "### 2.2 Squidpy Slide-seqV2 Mouse Hippocampus Dataset"
   ]
  },
  {
   "cell_type": "markdown",
   "id": "9bf6ffd9-19aa-4fb9-9ceb-9ae2aff5173c",
   "metadata": {},
   "source": [
    "- **Publication**: Stickels, R. R. et al. Highly sensitive spatial transcriptomics at near-cellular resolution with Slide-seqV2. Nat. Biotechnol. 39, 313–319 (2021). [doi:10.1038/s41587-020-0739-1](https://doi.org/10.1038/s41587-020-0739-1)\n",
    "- **Data Access:** Preprocessed version from squidpy API (original source https://singlecell.broadinstitute.org/single_cell/study/SCP815/highly-sensitive-spatial-transcriptomics-at-near-cellular-resolution-with-slide-seqv2)\n",
    "- **Summary:**\n",
    "    - Mouse hippocampus puck\n",
    "    - 41,786 observations on cell-level with cell-type annotations\n",
    "    - 4,000 probed genes"
   ]
  },
  {
   "cell_type": "code",
   "execution_count": null,
   "id": "161f1070-0a7e-4aea-a105-4442c0b34913",
   "metadata": {},
   "outputs": [],
   "source": [
    "dataset = \"squidpy_slideseqv2_mouse_hippocampus\"\n",
    "cell_type_key = \"cluster\""
   ]
  },
  {
   "cell_type": "markdown",
   "id": "ef4a716e-a9ce-4884-994c-2c4027eaddc4",
   "metadata": {},
   "source": [
    "#### 2.2.1 Load & Preprocess Raw Data"
   ]
  },
  {
   "cell_type": "code",
   "execution_count": null,
   "id": "02081521-58dd-450a-a135-90a220b1eb42",
   "metadata": {},
   "outputs": [],
   "source": [
    "print(f\"Loading and preprocessing dataset '{dataset}'.\")\n",
    "\n",
    "# Retrieve adata from squidpy\n",
    "adata = sq.datasets.slideseqv2()\n",
    "\n",
    "# Store raw counts in `layers`\n",
    "adata.layers[\"counts\"] = adata.X.copy()\n",
    "\n",
    "# Store data to disk\n",
    "adata.write(f\"{srt_data_gold_folder_path}/{dataset}.h5ad\")"
   ]
  },
  {
   "cell_type": "markdown",
   "id": "011e3d5b-295c-4dea-b501-23bac57544e7",
   "metadata": {},
   "source": [
    "#### 2.2.2 Explore Data"
   ]
  },
  {
   "cell_type": "code",
   "execution_count": null,
   "id": "7441d6b7-8878-4b50-87f1-4727867a9ae6",
   "metadata": {},
   "outputs": [],
   "source": [
    "print(f\"Exploring dataset {dataset}.\")\n",
    "print(f\"Number of nodes (cells): {adata.layers['counts'].shape[0]}\")\n",
    "print(f\"Number of node features (genes): {adata.layers['counts'].shape[1]}\")\n",
    "\n",
    "# Visualize cell-level annotated data in physical space\n",
    "sq.pl.spatial_scatter(adata, color=cell_type_key, shape=None, figsize=(12, 12))"
   ]
  },
  {
   "cell_type": "markdown",
   "id": "af858b03-8ef3-4cc4-833a-db54406bc131",
   "metadata": {},
   "source": [
    "### 2.3 Vizgen MERFISH Mouse Brain Receptor Dataset"
   ]
  },
  {
   "cell_type": "markdown",
   "id": "f2770c6d-09a6-41ff-9ea1-01af2ad3bf14",
   "metadata": {},
   "source": [
    "- **Publication:** Vizgen Data Release V1.0. May 2021\n",
    "- **Data Access:** https://info.vizgen.com/mouse-brain-map?submissionGuid=a66ccb7f-87cf-4c55-83b9-5a2b6c0c12b9\n",
    "    - Slice 1 Replicate 1\n",
    "        - cell_by_gene_S1R1.csv\n",
    "        - cell_metadata_S1R1.csv\n",
    "- **Preprocessing Vignette:** https://squidpy.readthedocs.io/en/latest/external_tutorials/tutorial_vizgen.html\n",
    "- **Summary:**\n",
    "    - Coronal section of mouse brain receptor map\n",
    "    - 78,329 observations on cell-level without annotations\n",
    "    - 649 probed genes"
   ]
  },
  {
   "cell_type": "code",
   "execution_count": null,
   "id": "82ddf2ec-6011-4d01-8b5f-6898c1d59ca9",
   "metadata": {},
   "outputs": [],
   "source": [
    "dataset = \"vizgen_merfish_mouse_brain\"\n",
    "cell_type_key = \"leiden\""
   ]
  },
  {
   "cell_type": "markdown",
   "id": "526118b0-7bf8-47a5-9062-acacfdb38897",
   "metadata": {},
   "source": [
    "#### 2.3.1 Load & Preprocess Raw Data"
   ]
  },
  {
   "cell_type": "code",
   "execution_count": null,
   "id": "e194d941-aa74-4a1e-a1e4-e245a4ab0d1b",
   "metadata": {},
   "outputs": [],
   "source": [
    "print(f\"Loading and preprocessing dataset '{dataset}'.\")\n",
    "\n",
    "# Read adata from files\n",
    "merfish_dir = f\"{srt_data_bronze_folder_path}/merfish/\"\n",
    "adata = sq.read.vizgen(path=merfish_dir,\n",
    "                       counts_file=\"datasets_mouse_brain_map_BrainReceptorShowcase_Slice1_Replicate1_cell_by_gene_S1R1.csv\",\n",
    "                       meta_file=\"datasets_mouse_brain_map_BrainReceptorShowcase_Slice1_Replicate1_cell_metadata_S1R1.csv\")\n",
    "# Preprocess as per squidpy vignette\n",
    "adata.var_names.unique()\n",
    "adata.var[\"mt\"] = adata.var_names.str.startswith(\"mt-\")\n",
    "sc.pp.calculate_qc_metrics(adata, qc_vars=[\"mt\"], percent_top=(50, 100, 200, 300), inplace=True)\n",
    "fig, axs = plt.subplots(1, 4, figsize=(15, 4))\n",
    "sns.histplot(adata.obs[\"total_counts\"],\n",
    "             kde=False,\n",
    "             ax=axs[0])\n",
    "sns.histplot(adata.obs[\"total_counts\"][adata.obs[\"total_counts\"] < 10000],\n",
    "             kde=False,\n",
    "             bins=40,\n",
    "             ax=axs[1])\n",
    "sns.histplot(adata.obs[\"n_genes_by_counts\"],\n",
    "             kde=False,\n",
    "             bins=60,\n",
    "             ax=axs[2])\n",
    "sns.histplot(adata.obs[\"n_genes_by_counts\"][adata.obs[\"n_genes_by_counts\"] < 4000],\n",
    "             kde=False,\n",
    "             bins=60,\n",
    "             ax=axs[3])\n",
    "sc.pp.filter_cells(adata, min_counts=10)\n",
    "sc.pp.filter_genes(adata, min_cells=10)\n",
    "\n",
    "# Store raw counts in `layers`\n",
    "adata.layers[\"counts\"] = adata.X.copy()\n",
    "\n",
    "# Store data to disk\n",
    "adata.write(f\"{srt_data_silver_folder_path}/{dataset}.h5ad\")\n",
    "\n",
    "# Determine cell annotation as per squidpy vignette\n",
    "sc.pp.highly_variable_genes(adata, flavor=\"seurat_v3\", n_top_genes=4000)\n",
    "sc.pp.normalize_total(adata, inplace=True)\n",
    "sc.pp.log1p(adata)\n",
    "sc.pp.pca(adata)\n",
    "sc.pp.neighbors(adata)\n",
    "sc.tl.umap(adata)\n",
    "sc.tl.leiden(adata)\n",
    "sc.pl.umap(adata,\n",
    "           color=[\"total_counts\", \"n_genes_by_counts\", \"leiden\"])\n",
    "\n",
    "# Store data to disk\n",
    "adata.write(f\"{srt_data_gold_folder_path}/{dataset}.h5ad\")"
   ]
  },
  {
   "cell_type": "markdown",
   "id": "1369825f-06b5-4988-b7ff-ba0e7c636504",
   "metadata": {},
   "source": [
    "#### 2.3.2 Explore Data"
   ]
  },
  {
   "cell_type": "code",
   "execution_count": null,
   "id": "2bdb24de-7a43-411e-9d9e-025395974f20",
   "metadata": {},
   "outputs": [],
   "source": [
    "print(f\"Exploring dataset {dataset}.\")\n",
    "print(f\"Number of nodes (cells): {adata.layers['counts'].shape[0]}\")\n",
    "print(f\"Number of node features (genes): {adata.layers['counts'].shape[1]}\")\n",
    "\n",
    "# Visualize cell-level annotated data in physical space\n",
    "sq.pl.spatial_scatter(adata, color=cell_type_key, shape=None, figsize=(12, 12))"
   ]
  },
  {
   "cell_type": "markdown",
   "id": "63526c94-921b-4d06-ab5d-3414163d6d10",
   "metadata": {},
   "source": [
    "### 2.4 Vizgen MERFISH Mouse Liver Dataset"
   ]
  },
  {
   "cell_type": "markdown",
   "id": "b9399cb3-2f8f-4889-98eb-013530007c2a",
   "metadata": {},
   "source": [
    "- **Publication**: Vizgen MERFISH Mouse Liver Map January 2022\n",
    "- **Data Access:** https://info.vizgen.com/mouse-liver-access\n",
    "    - Animal 1 replicate 1\n",
    "        - cell_by_gene.csv\n",
    "        - cell_metadata.csv\n",
    "- **Preprocessing Vignette:** https://squidpy.readthedocs.io/en/latest/external_tutorials/tutorial_vizgen_mouse_liver.html\n",
    "- **Summary:**\n",
    "    - Liver tissue section of mouse liver map\n",
    "    - 367,335 observations on cell-level without annotations\n",
    "    - 385 probed genes"
   ]
  },
  {
   "cell_type": "code",
   "execution_count": null,
   "id": "59d6bb72-370e-4f1b-9406-6c31e1782d9b",
   "metadata": {},
   "outputs": [],
   "source": [
    "dataset = \"vizgen_merfish_mouse_liver\"\n",
    "cell_type_key = \"Cell_Type\""
   ]
  },
  {
   "cell_type": "markdown",
   "id": "02900722-ba20-44c2-8b6b-01eec710a692",
   "metadata": {},
   "source": [
    "#### 2.4.1 Load & Preprocess Raw Data"
   ]
  },
  {
   "cell_type": "code",
   "execution_count": null,
   "id": "7045fb56-fada-4fa1-aa37-6e89f7a52c22",
   "metadata": {},
   "outputs": [],
   "source": [
    "print(f\"Loading and preprocessing dataset '{dataset}'.\")\n",
    "    \n",
    "# Read adata from files\n",
    "merfish_dir = f\"{srt_data_bronze_folder_path}/merfish/\"\n",
    "adata = sq.read.vizgen(merfish_dir,\n",
    "                       counts_file=\"Liver1Slice1_cell_by_gene.csv\",\n",
    "                       meta_file=\"Liver1Slice1_cell_metadata.csv\")\n",
    "\n",
    "# Preprocess as per squidpy vignette\n",
    "adata.var_names_make_unique()\n",
    "adata.var[\"mt\"] = adata.var_names.str.startswith(\"mt-\")\n",
    "sc.pp.calculate_qc_metrics(adata, qc_vars=[\"mt\"],percent_top=(50, 100, 200, 300), inplace=True)\n",
    "sc.pp.filter_cells(adata, min_counts=50)\n",
    "sc.pp.filter_genes(adata, min_cells=10)\n",
    "\n",
    "# Store raw counts in `layers`\n",
    "adata.layers[\"counts\"] = adata.X.copy()\n",
    "\n",
    "# Store data to disk\n",
    "adata.write(f\"{srt_data_silver_folder_path}/{dataset}.h5ad\")\n",
    "\n",
    "# Determine cell annotation as per squidpy vignette\n",
    "sc.pp.normalize_total(adata)\n",
    "sc.pp.log1p(adata)\n",
    "sc.pp.scale(adata, max_value=10)\n",
    "sc.tl.pca(adata, svd_solver=\"arpack\")\n",
    "sc.pp.neighbors(adata, n_neighbors=10, n_pcs=20)\n",
    "sc.tl.umap(adata)\n",
    "sc.tl.leiden(adata, resolution=1.5)\n",
    "\n",
    "sc.set_figure_params(figsize=(10,10))\n",
    "sc.pl.umap(adata, color=[\"leiden\"], size=5)\n",
    "\n",
    "gene_panel = \"https://static-content.springer.com/esm/art%3A10.1038%2Fs41421-021-00266-1/MediaObjects/41421_2021_266_MOESM1_ESM.xlsx\"\n",
    "df_ref_panel_ini = pd.read_excel(gene_panel, index_col=0)\n",
    "df_ref_panel = df_ref_panel_ini.iloc[1:,:1]\n",
    "df_ref_panel.index.name = None\n",
    "df_ref_panel.columns = [\"Function\"]\n",
    "\n",
    "# Assign marker gene metadata using reference dataset\n",
    "marker_genes = df_ref_panel[df_ref_panel[\"Function\"].str.contains(\"marker\")].index.tolist()\n",
    "\n",
    "meta_gene = deepcopy(adata.var)\n",
    "common_marker_genes = list(set(meta_gene.index.tolist()).intersection(marker_genes))\n",
    "meta_gene.loc[common_marker_genes, \"Markers\"] = df_ref_panel.loc[common_marker_genes, \"Function\"]\n",
    "meta_gene[\"Markers\"] = meta_gene[\"Markers\"].apply(lambda x: \"N.A.\" if \"marker\" not in str(x) else x)\n",
    "meta_gene[\"Markers\"].value_counts()\n",
    "\n",
    "ser_counts = adata.obs[\"leiden\"].value_counts()\n",
    "ser_counts.name = \"cell counts\"\n",
    "meta_leiden = pd.DataFrame(ser_counts)\n",
    "\n",
    "cat_name = \"leiden\"\n",
    "sig_leiden = pd.DataFrame(columns=adata.var_names, index=adata.obs[cat_name].cat.categories)\n",
    "for clust in adata.obs[cat_name].cat.categories:\n",
    "    sig_leiden.loc[clust] = adata[adata.obs[cat_name].isin([clust]),:].X.mean(0)\n",
    "sig_leiden = sig_leiden.transpose()\n",
    "leiden_clusters = [\"Leiden-\" + str(x) for x in sig_leiden.columns.tolist()]\n",
    "sig_leiden.columns = leiden_clusters\n",
    "meta_leiden.index = sig_leiden.columns.tolist()\n",
    "meta_leiden[\"leiden\"] = pd.Series(meta_leiden.index.tolist(), index=meta_leiden.index.tolist())\n",
    "\n",
    "meta_gene = pd.DataFrame(index=sig_leiden.index.tolist())\n",
    "meta_gene[\"info\"] = pd.Series(\"\", index=meta_gene.index.tolist())\n",
    "meta_gene[\"Markers\"] = pd.Series(\"N.A.\", index=sig_leiden.index.tolist())\n",
    "meta_gene.loc[common_marker_genes, \"Markers\"] = df_ref_panel.loc[common_marker_genes, \"Function\"]\n",
    "\n",
    "meta_leiden[\"Cell_Type\"] = pd.Series(\"N.A.\", index=meta_leiden.index.tolist())\n",
    "num_top_genes = 30\n",
    "for inst_cluster in sig_leiden.columns.tolist():\n",
    "    top_genes = sig_leiden[inst_cluster].sort_values(ascending=False).index.tolist()[:num_top_genes]\n",
    "\n",
    "    inst_ser = meta_gene.loc[top_genes, \"Markers\"]\n",
    "    inst_ser = inst_ser[inst_ser != \"N.A.\"]\n",
    "    ser_counts = inst_ser.value_counts()\n",
    "  \n",
    "    max_count = ser_counts.max()\n",
    "  \n",
    "    max_cat = \"_\".join(sorted(ser_counts[ser_counts == max_count].index.tolist()))\n",
    "    max_cat = max_cat.replace(\" marker\", \"\").replace(\" \", \"-\")\n",
    "  \n",
    "    print(inst_cluster, max_cat)\n",
    "    meta_leiden.loc[inst_cluster, \"Cell_Type\"] = max_cat\n",
    "\n",
    "# Rename clusters\n",
    "meta_leiden[\"name\"] = meta_leiden.apply(lambda x: x[\"Cell_Type\"] + \"_\" + x[\"leiden\"] , axis=1)\n",
    "leiden_names = meta_leiden[\"name\"].values.tolist()\n",
    "meta_leiden.index = leiden_names\n",
    "\n",
    "# Transfer cell type labels to single cells\n",
    "leiden_to_cell_type = deepcopy(meta_leiden)\n",
    "leiden_to_cell_type.set_index(\"leiden\", inplace=True)\n",
    "leiden_to_cell_type.index.name = None\n",
    "\n",
    "adata.obs[\"Cell_Type\"] = adata.obs[\"leiden\"].apply(lambda x: leiden_to_cell_type.loc[\"Leiden-\" + str(x), \"Cell_Type\"])\n",
    "adata.obs[\"Cluster\"] = adata.obs[\"leiden\"].apply(lambda x: leiden_to_cell_type.loc[\"Leiden-\" + str(x), \"name\"])\n",
    "\n",
    "# Store data to disk\n",
    "adata.write(f\"{srt_data_gold_folder_path}/{dataset}.h5ad\")"
   ]
  },
  {
   "cell_type": "markdown",
   "id": "5965cade-4a4b-4098-9d15-0f7a0e583e07",
   "metadata": {},
   "source": [
    "#### 2.4.2 Explore Data"
   ]
  },
  {
   "cell_type": "code",
   "execution_count": null,
   "id": "1c8364a0-2969-43de-bae4-dc4e10d70412",
   "metadata": {},
   "outputs": [],
   "source": [
    "print(f\"Exploring dataset {dataset}.\")\n",
    "print(f\"Number of nodes (cells): {adata.layers['counts'].shape[0]}\")\n",
    "print(f\"Number of node features (genes): {adata.layers['counts'].shape[1]}\")\n",
    "\n",
    "# Visualize cell-level annotated data in physical space\n",
    "sq.pl.spatial_scatter(adata, color=cell_type_key, shape=None, figsize=(12, 12))"
   ]
  },
  {
   "cell_type": "markdown",
   "id": "d87759e2-d02b-40be-9305-1469f555709a",
   "metadata": {},
   "source": [
    "### 2.5 Vizgen MERFISH Human Liver Cancer Dataset"
   ]
  },
  {
   "cell_type": "markdown",
   "id": "ac4dbb1f-7111-40d0-ba42-f6d57f65424a",
   "metadata": {},
   "source": [
    "- **Publication:** Vizgen MERFISH FFPE Human Immuno-oncology Data Set,  May 2022\n",
    "- **Data Access:** https://info.vizgen.com/ffpe-showcase?submissionGuid=bbe0d6ca-92ad-4257-bdcd-cbc6dee8219b\n",
    "    - Liver cancer 1\n",
    "        - cell_by_gene.csv\n",
    "        - cell_metadata.csv\n",
    "- **Summary:**\n",
    "    - FFPE tissue section of human liver cancer\n",
    "    - 480,592 observations on cell-level without annotations\n",
    "    - 500 probed genes"
   ]
  },
  {
   "cell_type": "code",
   "execution_count": null,
   "id": "00ed1a9c-1b2e-4234-b297-501911df7fbd",
   "metadata": {},
   "outputs": [],
   "source": [
    "dataset = \"vizgen_merfish_human_liver_cancer\"\n",
    "cell_type_key = \"leiden\""
   ]
  },
  {
   "cell_type": "markdown",
   "id": "2422bf81-39f7-4a09-876a-55f2e1e7f348",
   "metadata": {},
   "source": [
    "#### 2.5.1 Load & Preprocess Raw Data"
   ]
  },
  {
   "cell_type": "code",
   "execution_count": null,
   "id": "452f0547-efc1-47dd-8d4b-26b151f00082",
   "metadata": {},
   "outputs": [],
   "source": [
    "print(f\"Loading and preprocessing dataset '{dataset}'.\")\n",
    "    \n",
    "# Read counts and remove blank genes\n",
    "vizgen_dir = f\"{srt_data_bronze_folder_path}/merfish/\"\n",
    "adata = ad.read_text(vizgen_dir + \"HumanLiverCancerPatient1_cell_by_gene.csv\" ,delimiter=\",\", first_column_names=True)\n",
    "blank_genes = np.array([\"Blank\" in v for v in adata.var_names])\n",
    "adata.obsm[\"blank_genes\"] = pd.DataFrame(adata[:, blank_genes].X.copy(), columns=adata.var_names[blank_genes], index=adata.obs_names)\n",
    "adata = adata[:, ~blank_genes].copy()\n",
    "adata.X = sp.csr_matrix(adata.X)\n",
    "\n",
    "# Read metadata and align index for join\n",
    "metadata = pd.read_csv(vizgen_dir + \"HumanLiverCancerPatient1_cell_metadata.csv\", header=0, index_col=0)\n",
    "metadata.sort_index(inplace=True)\n",
    "metadata.index = metadata.index.astype(\"str\")\n",
    "\n",
    "# Join counts with obs and store spatial coordinates\n",
    "adata.obs = pd.merge(adata.obs, metadata, how=\"left\", left_index=True, right_index=True)\n",
    "adata.obsm[\"spatial\"] = adata.obs[[\"center_x\", \"center_y\"]].values\n",
    "adata.obs.drop(columns=[\"center_x\", \"center_y\"], inplace=True)\n",
    "\n",
    "# Preprocess\n",
    "adata.var_names_make_unique()\n",
    "adata.var[\"mt\"] = adata.var_names.str.startswith(\"mt-\")\n",
    "sc.pp.calculate_qc_metrics(adata, qc_vars=[\"mt\"], percent_top=(50, 100, 200, 300), inplace=True)\n",
    "sc.pp.filter_cells(adata, min_counts=50)\n",
    "sc.pp.filter_genes(adata, min_cells=10)\n",
    "\n",
    "# Store raw counts in `layers`\n",
    "adata.layers[\"counts\"] = adata.X.copy()\n",
    "\n",
    "# Store data to disk\n",
    "adata.write(f\"{srt_data_silver_folder_path}/{dataset}.h5ad\")\n",
    "\n",
    "# Determine cell annotation\n",
    "sc.pp.normalize_total(adata, inplace=True)\n",
    "sc.pp.log1p(adata)\n",
    "sc.pp.pca(adata)\n",
    "sc.pp.neighbors(adata)\n",
    "sc.tl.umap(adata)\n",
    "sc.tl.leiden(adata)\n",
    "sc.pl.umap(adata,\n",
    "           color=[\"total_counts\", \"n_genes_by_counts\", \"leiden\"])\n",
    "\n",
    "# Store data to disk\n",
    "adata.write(f\"{srt_data_gold_folder_path}/{dataset}.h5ad\")"
   ]
  },
  {
   "cell_type": "markdown",
   "id": "0014d882-a9cd-4d56-ab69-b472bd811ac5",
   "metadata": {},
   "source": [
    "#### 2.5.2 Explore Data"
   ]
  },
  {
   "cell_type": "code",
   "execution_count": null,
   "id": "c700a04a-20ab-4827-8c12-73c0fbb645fb",
   "metadata": {},
   "outputs": [],
   "source": [
    "print(f\"Exploring dataset {dataset}.\")\n",
    "print(f\"Number of nodes (cells): {adata.layers['counts'].shape[0]}\")\n",
    "print(f\"Number of node features (genes): {adata.layers['counts'].shape[1]}\")\n",
    "\n",
    "# Visualize cell-level annotated data in physical space\n",
    "sq.pl.spatial_scatter(adata, color=cell_type_key, shape=None, figsize=(12, 12))"
   ]
  },
  {
   "cell_type": "markdown",
   "id": "3f9356e3-e26b-46f9-8ee6-cf746ed76662",
   "metadata": {},
   "source": [
    "### 2.6 10x Genomics Xenium Human Breast Cancer Tumor Microenvironment Dataset"
   ]
  },
  {
   "cell_type": "markdown",
   "id": "6b4c1c52-07bf-4c5e-ad0b-dd3594a307bb",
   "metadata": {},
   "source": [
    "- **Publication:** Janesick, A. et al. High resolution mapping of the breast cancer tumor microenvironment using integrated single cell, spatial and in situ analysis of FFPE tissue. bioRxiv 2022.10.06.510405 (2022). [doi:10.1101/2022.10.06.510405](https://doi.org/10.1101/2022.10.06.510405)\n",
    "- **Data Access:** https://www.10xgenomics.com/products/xenium-in-situ/preview-dataset-human-breast\n",
    "    - Feature-cell matrix (HDF5)\n",
    "    - Cell summary file (CSV) -> unpack with ```gzip -d Xenium_FFPE_Human_Breast_Cancer_Rep1_cells.csv.gz```\n",
    "- **Preprocessing Vignette:** https://squidpy.readthedocs.io/en/latest/external_tutorials/tutorial_xenium.html\n",
    "- **Summary**:\n",
    "    - FFPE tissue section of human breast cancer\n",
    "    - 164,079 observations on cell-level without annotations\n",
    "    - 313 probed genes"
   ]
  },
  {
   "cell_type": "code",
   "execution_count": null,
   "id": "d751fb52-7d31-45db-8176-b4d0216f1306",
   "metadata": {},
   "outputs": [],
   "source": [
    "dataset = \"10x_xenium_human_breast_cancer\"\n",
    "cell_type_key = \"leiden\""
   ]
  },
  {
   "cell_type": "markdown",
   "id": "fd9af406-07e4-4eb9-891f-dc5427fb84ef",
   "metadata": {},
   "source": [
    "#### 2.6.1 Load & Preprocess Raw Data"
   ]
  },
  {
   "cell_type": "code",
   "execution_count": null,
   "id": "a62e1cb7-19c4-4713-be3e-5a68a2f084b1",
   "metadata": {},
   "outputs": [],
   "source": [
    "print(f\"Loading and preprocessing dataset '{dataset}'.\")\n",
    "\n",
    "# Read adata from file and add metadata\n",
    "xenium_dir = f\"{srt_data_bronze_folder_path}/xenium/\"\n",
    "adata = sc.read_10x_h5(filename=xenium_dir + \"Xenium_FFPE_Human_Breast_Cancer_Rep1_cell_feature_matrix.h5\")\n",
    "metadata = pd.read_csv(xenium_dir + \"Xenium_FFPE_Human_Breast_Cancer_Rep1_cells.csv\")\n",
    "metadata.set_index(adata.obs_names, inplace=True)\n",
    "adata.obs = metadata.copy()\n",
    "\n",
    "# Preprocess as per squidpy vignette\n",
    "adata.var_names_make_unique()\n",
    "adata.var[\"mt\"] = adata.var_names.str.startswith(\"mt-\")\n",
    "sc.pp.calculate_qc_metrics(adata, qc_vars=[\"mt\"],percent_top=(50, 100, 200, 300), inplace=True)\n",
    "sc.pp.filter_cells(adata, min_counts=10)\n",
    "sc.pp.filter_genes(adata, min_cells=5)\n",
    "\n",
    "# Store counts in `layers` and spatial coords in `obsm`\n",
    "adata.layers[\"counts\"] = adata.X.copy()\n",
    "adata.obsm[\"spatial\"] = adata.obs[[\"x_centroid\", \"y_centroid\"]].copy().to_numpy()\n",
    "\n",
    "# Store data to disk\n",
    "adata.write(f\"{srt_data_silver_folder_path}/{dataset}.h5ad\")\n",
    "\n",
    "# Determine cell annotation as per squidpy vignette\n",
    "sc.pp.normalize_total(adata, inplace=True)\n",
    "sc.pp.log1p(adata)\n",
    "sc.pp.pca(adata)\n",
    "sc.pp.neighbors(adata)\n",
    "sc.tl.umap(adata)\n",
    "sc.tl.leiden(adata)\n",
    "\n",
    "# Store data to disk\n",
    "adata.write(f\"{srt_data_gold_folder_path}/{dataset}.h5ad\")"
   ]
  },
  {
   "cell_type": "markdown",
   "id": "812ec32c-3b4f-4fb7-be9b-b50a86e1fb26",
   "metadata": {},
   "source": [
    "#### 2.6.2 Explore Data"
   ]
  },
  {
   "cell_type": "code",
   "execution_count": null,
   "id": "518ed7e8-585f-4be3-9fe0-a7debac6b24a",
   "metadata": {},
   "outputs": [],
   "source": [
    "print(f\"Exploring dataset {dataset}.\")\n",
    "print(f\"Number of nodes (cells): {adata.layers['counts'].shape[0]}\")\n",
    "print(f\"Number of node features (genes): {adata.layers['counts'].shape[1]}\")\n",
    "\n",
    "# Visualize cell-level annotated data in physical space\n",
    "sq.pl.spatial_scatter(adata, color=cell_type_key, shape=None, figsize=(12, 12))"
   ]
  },
  {
   "cell_type": "markdown",
   "id": "a4610000-3874-4766-ad65-9cb6228ae9db",
   "metadata": {},
   "source": [
    "### 2.7 STARmap PLUS Mouse Central Nervous System Dataset"
   ]
  },
  {
   "cell_type": "markdown",
   "id": "d5fde11e-7c7e-4245-956b-b9bd692647ec",
   "metadata": {},
   "source": [
    "- **Publication:** Shi, H. et al. Spatial Atlas of the Mouse Central Nervous System at Molecular Resolution. bioRxiv 2022.06.20.496914 (2022). [doi:10.1101/2022.06.20.496914](https://doi.org/10.1101/2022.06.20.496914)\n",
    "- **Data Access:** https://singlecell.broadinstitute.org/single_cell/study/SCP1830\n",
    "    - Sagittal 1 (Slice 3)\n",
    "        - sagittal1_spatial.csv\n",
    "        - sagittal1raw_expression_pd.csv\n",
    "- **Summary:**\n",
    "    - Sagittal section of mouse brain\n",
    "    - 91,246 observations on cell-level with cell-type annotations\n",
    "    - 1022 genes"
   ]
  },
  {
   "cell_type": "code",
   "execution_count": null,
   "id": "308b92d1-01a0-43fb-88a3-8a246511ea32",
   "metadata": {},
   "outputs": [],
   "source": [
    "dataset = \"starmap_plus_mouse_cns\"\n",
    "cell_type_key = \"Maintype_Symbol\""
   ]
  },
  {
   "cell_type": "markdown",
   "id": "6ff44e7e-1c02-4b33-b543-d5a7d9fbfd02",
   "metadata": {},
   "source": [
    "#### 2.7.1 Load & Preprocess Raw Data"
   ]
  },
  {
   "cell_type": "code",
   "execution_count": null,
   "id": "3d094c4b-cde8-4ab5-a952-0a0367b6836c",
   "metadata": {},
   "outputs": [],
   "source": [
    "print(f\"Loading and preprocessing dataset '{dataset}'.\")\n",
    "\n",
    "# Read counts and metadata and change format\n",
    "starmap_plus_dir = f\"{srt_data_bronze_folder_path}/starmap_plus/\"\n",
    "metadata = pd.read_csv(starmap_plus_dir + \"sagittal1_spatial.csv\", skiprows=[1])\n",
    "counts = pd.read_csv(starmap_plus_dir + \"sagittal1raw_expression_pd.csv\")\n",
    "counts.set_index(\"GENE\", inplace=True)\n",
    "metadata.set_index(\"NAME\", inplace=True)\n",
    "counts = counts.T\n",
    "\n",
    "# Merge counts with metadata and store counts in `layers` and spatial coords in `obsm`\n",
    "adata = ad.AnnData(counts, dtype=np.float32)\n",
    "adata.obs = pd.merge(adata.obs, metadata, how=\"left\", left_index=True, right_index=True)\n",
    "adata.obsm[\"spatial\"] = adata.obs[[\"X\", \"Y\"]].values / 1000 # smaller scale for plotting with squidpy\n",
    "adata.obs.drop(columns=[\"X\", \"Y\", \"Z\"], inplace=True)\n",
    "adata.layers[\"counts\"] = adata.X.copy()\n",
    "\n",
    "# Store data to disk\n",
    "adata.write(f\"{srt_data_gold_folder_path}/{dataset}.h5ad\")"
   ]
  },
  {
   "cell_type": "markdown",
   "id": "a39d6555-eb48-443b-8f3c-261eb5989531",
   "metadata": {},
   "source": [
    "#### 2.7.2 Explore Data"
   ]
  },
  {
   "cell_type": "code",
   "execution_count": null,
   "id": "77664900-529e-474d-9d3d-f8ca7448d3a1",
   "metadata": {},
   "outputs": [],
   "source": [
    "print(f\"Exploring dataset {dataset}.\")\n",
    "print(f\"Number of nodes (cells): {adata.layers['counts'].shape[0]}\")\n",
    "print(f\"Number of node features (genes): {adata.layers['counts'].shape[1]}\")\n",
    "\n",
    "# Visualize cell-level annotated data in physical space\n",
    "sq.pl.spatial_scatter(adata, color=cell_type_key, shape=None, figsize=(12, 12))"
   ]
  },
  {
   "cell_type": "markdown",
   "id": "bac1dc9f-b243-4437-a8c5-ba4461fa89ac",
   "metadata": {},
   "source": [
    "### 2.8 EEL FISH Mouse Brain Dataset"
   ]
  },
  {
   "cell_type": "markdown",
   "id": "2f2bd4e8-42ce-4ac2-a50c-e935d2f1e9d1",
   "metadata": {},
   "source": [
    "- **Publication:** Borm, L. E. et al. Scalable in situ single-cell profiling by electrophoretic capture of mRNA using EEL FISH. Nat. Biotechnol. (2022) [doi:10.1038/s41587-022-01455-3](https://doi.org/10.1038/s41587-022-01455-3)\n",
    "- **Data Accress:** https://figshare.com/articles/dataset/EEL_Mouse_440_genes_single_cell_data/20310771\n",
    "    - LBEXP20210718_EEL_Mouse_448_2_20220512.h5ad\n",
    "- **Summary:**\n",
    "    - Sagittal mouse brain section\n",
    "    - 127,591 observations on cell-level with cluster annotations \n",
    "    - 440 genes"
   ]
  },
  {
   "cell_type": "code",
   "execution_count": null,
   "id": "ffd3bc37-c3c5-4a94-a72c-9eaf3bc729ed",
   "metadata": {},
   "outputs": [],
   "source": [
    "dataset = \"eel_fish_mouse_brain\"\n",
    "cell_type_key = \"Clusters\""
   ]
  },
  {
   "cell_type": "markdown",
   "id": "3a9850a3-923c-493f-8bec-32ddecef77c9",
   "metadata": {},
   "source": [
    "#### 2.8.1 Load & Preprocess Raw Data"
   ]
  },
  {
   "cell_type": "code",
   "execution_count": null,
   "id": "f6c3e739-b7eb-460a-87a9-cee51b287b11",
   "metadata": {},
   "outputs": [],
   "source": [
    "print(f\"Loading and preprocessing dataset '{dataset}'.\")\n",
    "    \n",
    "# Read adata from file\n",
    "eel_fish_dir = f\"{srt_data_bronze_folder_path}/eel_fish/\"\n",
    "adata = sc.read_h5ad(eel_fish_dir + \"LBEXP20210718_EEL_Mouse_448_2_20220512.h5ad\")\n",
    "\n",
    "# Store counts in `layers` and spatial coords in `obsm`\n",
    "adata.obsm[\"spatial\"] = adata.obs[[\"X\", \"Y\"]].values # smaller scale for plotting with squidpy\n",
    "adata.obs.drop(columns=[\"X\", \"Y\", \"X_um\", \"Y_um\"], inplace=True)\n",
    "adata.layers[\"counts\"] = adata.X.copy()\n",
    "\n",
    "# Store data to disk\n",
    "adata.write(f\"{srt_data_gold_folder_path}/{dataset}.h5ad\")"
   ]
  },
  {
   "cell_type": "markdown",
   "id": "63cae3b5-3555-4a4c-b226-290ecd009c1f",
   "metadata": {},
   "source": [
    "#### 2.8.2 Explore Data"
   ]
  },
  {
   "cell_type": "code",
   "execution_count": null,
   "id": "75d873ae-a207-4a0a-a6f2-8f911087831c",
   "metadata": {},
   "outputs": [],
   "source": [
    "print(f\"Exploring dataset {dataset}.\")\n",
    "print(f\"Number of nodes (cells): {adata.layers['counts'].shape[0]}\")\n",
    "print(f\"Number of node features (genes): {adata.layers['counts'].shape[1]}\")\n",
    "\n",
    "# Visualize cell-level annotated data in physical space\n",
    "sq.pl.spatial_scatter(adata, color=cell_type_key, shape=None, figsize=(12, 12))"
   ]
  },
  {
   "cell_type": "code",
   "execution_count": null,
   "id": "3aaf5648-feb0-45ba-889b-884a6bd9888a",
   "metadata": {},
   "outputs": [],
   "source": []
  }
 ],
 "metadata": {
  "kernelspec": {
   "display_name": "Python 3 (ipykernel)",
   "language": "python",
   "name": "python3"
  },
  "language_info": {
   "codemirror_mode": {
    "name": "ipython",
    "version": 3
   },
   "file_extension": ".py",
   "mimetype": "text/x-python",
   "name": "python",
   "nbconvert_exporter": "python",
   "pygments_lexer": "ipython3",
   "version": "3.9.15"
  }
 },
 "nbformat": 4,
 "nbformat_minor": 5
}
