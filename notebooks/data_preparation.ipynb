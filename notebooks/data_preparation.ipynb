{
 "cells": [
  {
   "cell_type": "markdown",
   "id": "1b1daabf-c8e3-43d4-aa32-9789abcc8619",
   "metadata": {},
   "source": [
    "# Data Preparation"
   ]
  },
  {
   "cell_type": "markdown",
   "id": "c325d921-2077-42b3-90a8-6f6c7dd928c5",
   "metadata": {},
   "source": [
    "- **Creator**: Sebastian Birk (<sebastian.birk@helmholtz-munich.de>).\n",
    "- **Affiliation:** Helmholtz Munich, Institute of Computational Biology (ICB), Talavera-López Lab\n",
    "- **Date of Creation:** 01.10.2022\n",
    "- **Date of Last Modification:** 01.02.2023"
   ]
  },
  {
   "cell_type": "markdown",
   "id": "2d464ebf-354f-4f61-8040-c3dcbcc893b9",
   "metadata": {},
   "source": [
    "## 1. Setup"
   ]
  },
  {
   "cell_type": "markdown",
   "id": "d5631277-d8d2-4194-a376-280f4f149b7d",
   "metadata": {},
   "source": [
    "### 1.1 Import Libraries"
   ]
  },
  {
   "cell_type": "code",
   "execution_count": null,
   "id": "b4aa3c6a-5a44-4cf1-84a3-5e514457cf3c",
   "metadata": {},
   "outputs": [],
   "source": [
    "import os\n",
    "import warnings\n",
    "from copy import deepcopy\n",
    "\n",
    "import anndata as ad\n",
    "import cv2\n",
    "import matplotlib.pyplot as plt\n",
    "import numpy as np\n",
    "import pandas as pd\n",
    "import scanpy as sc\n",
    "import scipy.sparse as sp\n",
    "import seaborn as sns\n",
    "import squidpy as sq\n",
    "import tiledb\n",
    "import tiledbsoma"
   ]
  },
  {
   "cell_type": "markdown",
   "id": "3cea7a24-26b2-42f2-b838-06184da69605",
   "metadata": {},
   "source": [
    "### 1.2 Run Notebook Setup"
   ]
  },
  {
   "cell_type": "code",
   "execution_count": null,
   "id": "f028fef3-abc1-483d-b29a-deb9674bcad1",
   "metadata": {},
   "outputs": [],
   "source": [
    "warnings.filterwarnings(\"ignore\")"
   ]
  },
  {
   "cell_type": "markdown",
   "id": "2b886225-6b6d-433c-b117-47b9a8f8091f",
   "metadata": {},
   "source": [
    "### 1.3 Configure Paths and Create Directories"
   ]
  },
  {
   "cell_type": "code",
   "execution_count": null,
   "id": "36675337-808d-40a9-93fc-d6cfa9473f66",
   "metadata": {},
   "outputs": [],
   "source": [
    "# Define paths\n",
    "srt_data_folder_path = \"../datasets/srt_data\" # spatially resolved transcriptomics data\n",
    "srt_data_bronze_folder_path = f\"{srt_data_folder_path}/bronze\"\n",
    "srt_data_silver_folder_path = f\"{srt_data_folder_path}/silver\"\n",
    "srt_data_gold_folder_path = f\"{srt_data_folder_path}/gold\"\n",
    "\n",
    "# Create required directories\n",
    "os.makedirs(srt_data_bronze_folder_path, exist_ok=True)\n",
    "os.makedirs(srt_data_silver_folder_path, exist_ok=True)\n",
    "os.makedirs(srt_data_gold_folder_path, exist_ok=True)"
   ]
  },
  {
   "cell_type": "markdown",
   "id": "fd883193-8aa9-4809-aeac-cacb478df22b",
   "metadata": {
    "tags": []
   },
   "source": [
    "## 2. Publication Data"
   ]
  },
  {
   "cell_type": "markdown",
   "id": "049f6853-5dc1-4b68-9240-c4b6a00f1514",
   "metadata": {},
   "source": [
    "### 2.1 seqFISH Mouse Organogenesis Dataset"
   ]
  },
  {
   "cell_type": "markdown",
   "id": "aba6be87-ec43-4e56-b4b5-4fe2b45f19e1",
   "metadata": {},
   "source": [
    "- **Publication:** Lohoff, T. et al. Highly multiplexed spatially resolved gene expression profiling of mouse organogenesis. bioRxiv 2020.11.20.391896 (2020). [doi:10.1101/2020.11.20.391896](https://doi.org/10.1101/2020.11.20.391896)\n",
    "- **Data Access:** https://marionilab.cruk.cam.ac.uk/SpatialMouseAtlas/\n",
    "    - 3 embryos with 2 zlicates can be downloaded\n",
    "    - The two zlicates are combined respectively to get 3 datasets, 1 for each embryo\n",
    "- **Data Structure:**\n",
    "    - ```\n",
    "         ├── ../datasets/srt_data/bronze\n",
    "         │   └── seqfish_mouse_organogenesis  \n",
    "         │        └── metadata.Rds (metadata)\n",
    "         │        └── counts.Rds (raw counts)\n",
    "         │        └── exprs.Rds (log normalized counts)\n",
    "         │        └── imputed.h5 (imputed gene expression)\n",
    "         │        └── imputed_row_names.Rds (row names of imputed gene expression)\n",
    "         │        └── imputed_column_names.Rds (column names of imputed gene expression)\n",
    "      ```\n",
    "- **Summary:**\n",
    "    - Sagittal tissue sections of 3 8-12 somite stage mouse embryos\n",
    "    - 19,451 observations (embryo 1), 14,891 observations (embryo 2) and 23,194 observations (embryo 3) on cell-level with cell-type annotations\n",
    "    - 351 probed genes\n",
    "    - Dataset is also available with imputed genes based on scRNA-seq"
   ]
  },
  {
   "cell_type": "code",
   "execution_count": null,
   "id": "1c00df1b-c23e-4f56-8513-55b5c0b5b104",
   "metadata": {},
   "outputs": [],
   "source": [
    "dataset = \"seqfish_mouse_organogenesis\"\n",
    "cell_type_key = \"celltype_mapped_refined\""
   ]
  },
  {
   "cell_type": "markdown",
   "id": "1e290463-4e20-40cb-9245-cdb3b089cad3",
   "metadata": {},
   "source": [
    "#### 2.1.1 Load & Preprocess Raw Data"
   ]
  },
  {
   "cell_type": "markdown",
   "id": "5cd36b62-2cfc-4bef-86ec-28ebdeba5f43",
   "metadata": {},
   "source": [
    "Preprocessing is done with ```../scripts/seqfish_mouse_organogenesis_data_preparation.R``` and preprocessed version is stored under ```../datasets/srt_data/silver/seqfish_mouse_organogenesis.h5ad```."
   ]
  },
  {
   "cell_type": "code",
   "execution_count": null,
   "id": "ac246328-5be6-4c04-a3bf-8ccce8315856",
   "metadata": {},
   "outputs": [],
   "source": [
    "# Read preprocessed data\n",
    "adata = sc.read_h5ad(f\"{srt_data_silver_folder_path}/{dataset}.h5ad\")"
   ]
  },
  {
   "cell_type": "code",
   "execution_count": null,
   "id": "edd55a7f-cef9-484c-9b4f-e07f61dbd5a3",
   "metadata": {},
   "outputs": [],
   "source": [
    "# Filter low quality cells\n",
    "adata = adata[adata.obs[\"celltype_mapped_refined\"] != \"Low quality\"]"
   ]
  },
  {
   "cell_type": "code",
   "execution_count": null,
   "id": "68599830-6ad7-451c-b712-69ae8176ba71",
   "metadata": {},
   "outputs": [],
   "source": [
    "# Format adata\n",
    "adata.obsm[\"spatial\"] = np.column_stack((adata.obs.x, adata.obs.y))\n",
    "adata.obs.drop([\"x\", \"y\"], axis=1, inplace=True)\n",
    "adata.X = adata.X.astype(np.float32)\n",
    "adata.layers[\"counts\"] = adata.layers[\"counts\"].astype(np.float32)"
   ]
  },
  {
   "cell_type": "code",
   "execution_count": null,
   "id": "12a4b504-35f6-419e-a813-0be10d3cf00d",
   "metadata": {},
   "outputs": [],
   "source": [
    "# Change cell annotation colors\n",
    "color_list = [\"#d8d4d6\", # Allantois\n",
    "              \"#800000\", # Anterior somitic tissues\n",
    "              \"#dece3c\", # Blood progenitors\n",
    "              \"#805500\", # Cardiomyocytes\n",
    "              \"#ffaa00\", # Cranial mesoderm\n",
    "              \"#558000\", # Definitive endoderm\n",
    "              \"#aaff00\", # Dermomyotome\n",
    "              \"#ff0000\", # Endothelium\n",
    "              \"#b3ffb3\", # Erythroid\n",
    "              \"#008055\", # Forebrain/Midbrain/Hindbrain\n",
    "              \"#00ffaa\", # Gut tube\n",
    "              \"#005580\", # Haematoendothelial progenitors\n",
    "              \"#00aaff\", # Intermediate mesoderm\n",
    "              \"#000080\", # Lateral plate mesoderm\n",
    "              # \"#0000ff\", # Low quality\n",
    "              \"#550080\", # Mixed mesenchymal mesoderm\n",
    "              \"#aa00ff\", # Neural crest\n",
    "              \"#3997fe\", # ExE endoderm\n",
    "              \"#800055\", # NMP\n",
    "              \"#ff00aa\", # Presomitic mesoderm\n",
    "              \"#80ffff\", # Sclerotome^\n",
    "              \"#ff8080\", # Spinal cord\n",
    "              \"#000000\", # Splanchnic mesoderm\n",
    "              \"#ffff80\"] # Surface ectoderm\n",
    "adata.uns[\"celltype_mapped_refined_colors\"] = color_list"
   ]
  },
  {
   "cell_type": "code",
   "execution_count": null,
   "id": "2a4a5a5d-91d4-4f46-9c9a-5dbed965184f",
   "metadata": {},
   "outputs": [],
   "source": [
    "# Embryo split\n",
    "adata_embryo1 = adata[adata.obs.index.str.contains(\"embryo1\")].copy()\n",
    "adata_embryo2 = adata[adata.obs.index.str.contains(\"embryo2\")].copy()\n",
    "adata_embryo3 = adata[adata.obs.index.str.contains(\"embryo3\")].copy()\n",
    "adata_embryo1.obs[\"batch\"] = \"embryo1\"\n",
    "adata_embryo2.obs[\"batch\"] = \"embryo2\"\n",
    "adata_embryo3.obs[\"batch\"] = \"embryo3\"\n",
    "\n",
    "# Section split\n",
    "adata_embryo1z2 = adata[adata.obs.index.str.startswith(\"embryo1\") &\n",
    "                          adata.obs.index.str.endswith(\"z2\")].copy()\n",
    "adata_embryo1z5 = adata[adata.obs.index.str.startswith(\"embryo1\") &\n",
    "                          adata.obs.index.str.endswith(\"z5\")].copy()\n",
    "adata_embryo2z2 = adata[adata.obs.index.str.startswith(\"embryo2\") &\n",
    "                          adata.obs.index.str.endswith(\"z2\")].copy()\n",
    "adata_embryo2z5 = adata[adata.obs.index.str.startswith(\"embryo2\") &\n",
    "                          adata.obs.index.str.endswith(\"z5\")].copy()\n",
    "adata_embryo3z2 = adata[adata.obs.index.str.startswith(\"embryo3\") &\n",
    "                          adata.obs.index.str.endswith(\"z2\")].copy()\n",
    "adata_embryo3z5 = adata[adata.obs.index.str.startswith(\"embryo3\") &\n",
    "                          adata.obs.index.str.endswith(\"z5\")].copy()\n",
    "adata_embryo1z2.obs[\"batch\"] = \"embryo1_z2\"\n",
    "adata_embryo1z5.obs[\"batch\"] = \"embryo1_z5\"\n",
    "adata_embryo2z2.obs[\"batch\"] = \"embryo2_z2\"\n",
    "adata_embryo2z5.obs[\"batch\"] = \"embryo2_z5\"\n",
    "adata_embryo3z2.obs[\"batch\"] = \"embryo3_z2\"\n",
    "adata_embryo3z5.obs[\"batch\"] = \"embryo3_z5\""
   ]
  },
  {
   "cell_type": "code",
   "execution_count": null,
   "id": "037fa58f-f9ee-44a1-bb05-30157b2472a8",
   "metadata": {},
   "outputs": [],
   "source": [
    "# Store data to disk\n",
    "adata_embryo1.write(f\"{srt_data_gold_folder_path}/{dataset}_embryo1.h5ad\")\n",
    "adata_embryo2.write(f\"{srt_data_gold_folder_path}/{dataset}_embryo2.h5ad\")\n",
    "adata_embryo3.write(f\"{srt_data_gold_folder_path}/{dataset}_embryo3.h5ad\")\n",
    "\n",
    "adata_embryo1z2.write(f\"{srt_data_gold_folder_path}/{dataset}_embryo1_z2.h5ad\")\n",
    "adata_embryo1z5.write(f\"{srt_data_gold_folder_path}/{dataset}_embryo1_z5.h5ad\")\n",
    "adata_embryo2z2.write(f\"{srt_data_gold_folder_path}/{dataset}_embryo2_z2.h5ad\")\n",
    "adata_embryo2z5.write(f\"{srt_data_gold_folder_path}/{dataset}_embryo2_z5.h5ad\")\n",
    "adata_embryo3z2.write(f\"{srt_data_gold_folder_path}/{dataset}_embryo3_z2.h5ad\")\n",
    "adata_embryo3z5.write(f\"{srt_data_gold_folder_path}/{dataset}_embryo3_z5.h5ad\")"
   ]
  },
  {
   "cell_type": "code",
   "execution_count": null,
   "id": "7357f47e-2dca-4005-a88a-b71a9fc7ccf3",
   "metadata": {},
   "outputs": [],
   "source": [
    "# Read imputed data\n",
    "adata_imputed = sc.read_h5ad(f\"{srt_data_silver_folder_path}/{dataset}_imputed.h5ad\")\n",
    "\n",
    "# Process imputed data\n",
    "adata_imputed.uns[\"celltype_mapped_refined_colors\"] = color_list\n",
    "adata_imputed.obsm[\"spatial\"] = np.column_stack((adata_imputed.obs.x, adata_imputed.obs.y))\n",
    "adata_imputed.obs.drop([\"x\", \"y\"], axis=1, inplace=True)\n",
    "adata_imputed.X = adata_imputed.X.astype(np.float32)\n",
    "adata_imputed = adata_imputed[adata_imputed.obs[\"celltype_mapped_refined\"] != \"Low quality\"]\n",
    "\n",
    "# Create sample column\n",
    "adata_imputed.obs[\"sample\"] = None\n",
    "adata_imputed.obs[\"sample\"][adata_imputed.obs.index.str.startswith(\"embryo1\")] = \"embryo1\"\n",
    "adata_imputed.obs[\"sample\"][adata_imputed.obs.index.str.startswith(\"embryo2\")] = \"embryo2\"\n",
    "adata_imputed.obs[\"sample\"][adata_imputed.obs.index.str.startswith(\"embryo3\")] = \"embryo3\"\n",
    "\n",
    "# Create batch column\n",
    "adata_imputed.obs[\"batch\"] = None\n",
    "adata_imputed.obs.loc[adata_imputed.obs.index.str.startswith(\"embryo1\") & \n",
    "                      adata_imputed.obs.index.str.endswith(\"z2\"), \"batch\"] = \"embryo1_z2\"\n",
    "adata_imputed.obs.loc[adata_imputed.obs.index.str.startswith(\"embryo1\") & \n",
    "                      adata_imputed.obs.index.str.endswith(\"z5\"), \"batch\"] = \"embryo1_z5\"\n",
    "adata_imputed.obs.loc[adata_imputed.obs.index.str.startswith(\"embryo2\") & \n",
    "                      adata_imputed.obs.index.str.endswith(\"z2\"), \"batch\"] = \"embryo2_z2\"\n",
    "adata_imputed.obs.loc[adata_imputed.obs.index.str.startswith(\"embryo2\") & \n",
    "                      adata_imputed.obs.index.str.endswith(\"z5\"), \"batch\"] = \"embryo2_z5\"\n",
    "adata_imputed.obs.loc[adata_imputed.obs.index.str.startswith(\"embryo3\") & \n",
    "                      adata_imputed.obs.index.str.endswith(\"z2\"), \"batch\"] = \"embryo3_z2\"\n",
    "adata_imputed.obs.loc[adata_imputed.obs.index.str.startswith(\"embryo3\") & \n",
    "                      adata_imputed.obs.index.str.endswith(\"z5\"), \"batch\"] = \"embryo3_z5\"\n",
    "\n",
    "# Store imputed data to disk\n",
    "adata_imputed.write(f\"{srt_data_gold_folder_path}/{dataset}_imputed.h5ad\")"
   ]
  },
  {
   "cell_type": "markdown",
   "id": "0a9e1309-a0cc-4bbf-8bc3-3a4250bdc164",
   "metadata": {},
   "source": [
    "#### 2.1.2 Explore Data"
   ]
  },
  {
   "cell_type": "code",
   "execution_count": null,
   "id": "4aab388e-854b-4f2e-b062-a3cabd69dcbc",
   "metadata": {},
   "outputs": [],
   "source": [
    "print(f\"Exploring dataset {dataset}_embryo1.\")\n",
    "print(f\"Number of nodes (cells): {adata_embryo1.layers['counts'].shape[0]}\")\n",
    "print(f\"Number of node features (genes): {adata_embryo1.layers['counts'].shape[1]}\")\n",
    "\n",
    "# Visualize cell-level annotated data in physical space\n",
    "sq.pl.spatial_scatter(adata_embryo1, color=cell_type_key, shape=None, figsize=(12, 12))"
   ]
  },
  {
   "cell_type": "code",
   "execution_count": null,
   "id": "d0cc18fa-cc37-4910-9de3-c2a55cba3e01",
   "metadata": {},
   "outputs": [],
   "source": [
    "print(f\"Exploring dataset {dataset}_embryo2.\")\n",
    "print(f\"Number of nodes (cells): {adata_embryo2.layers['counts'].shape[0]}\")\n",
    "print(f\"Number of node features (genes): {adata_embryo2.layers['counts'].shape[1]}\")\n",
    "\n",
    "# Visualize cell-level annotated data in physical space\n",
    "sq.pl.spatial_scatter(adata_embryo2, color=cell_type_key, shape=None, figsize=(12, 12))"
   ]
  },
  {
   "cell_type": "code",
   "execution_count": null,
   "id": "6f9c773d-9235-48dd-b8c5-8b1d8f966eb0",
   "metadata": {},
   "outputs": [],
   "source": [
    "print(f\"Exploring dataset {dataset}_embryo3.\")\n",
    "print(f\"Number of nodes (cells): {adata_embryo3.layers['counts'].shape[0]}\")\n",
    "print(f\"Number of node features (genes): {adata_embryo3.layers['counts'].shape[1]}\")\n",
    "\n",
    "# Visualize cell-level annotated data in physical space\n",
    "sq.pl.spatial_scatter(adata_embryo3, color=cell_type_key, shape=None, figsize=(12, 12))"
   ]
  },
  {
   "cell_type": "markdown",
   "id": "8836a1eb-852c-4d6d-8d0e-27702db052f0",
   "metadata": {},
   "source": [
    "#### 2.1.3 Analyze Data"
   ]
  },
  {
   "cell_type": "code",
   "execution_count": null,
   "id": "b61f7750-4270-4bd9-8f3b-585b4c2c3bc7",
   "metadata": {},
   "outputs": [],
   "source": [
    "# Read data from disk\n",
    "adata_embryo1 = sc.read_h5ad(f\"{srt_data_gold_folder_path}/{dataset}_embryo1.h5ad\")\n",
    "adata_embryo2 = sc.read_h5ad(f\"{srt_data_gold_folder_path}/{dataset}_embryo2.h5ad\")\n",
    "adata_embryo3 = sc.read_h5ad(f\"{srt_data_gold_folder_path}/{dataset}_embryo3.h5ad\")"
   ]
  },
  {
   "cell_type": "markdown",
   "id": "319e7db9-d377-4341-9ab9-a22d26b5cc04",
   "metadata": {},
   "source": [
    "Set radius with 5 digits accuracy to get average number of neighbors of 2, 4, 8, 16 and 32 respectively."
   ]
  },
  {
   "cell_type": "code",
   "execution_count": null,
   "id": "699697eb-0f48-4eb9-8548-593f1fee003c",
   "metadata": {},
   "outputs": [],
   "source": [
    "sq.gr.spatial_neighbors(adata_embryo1,\n",
    "                        coord_type=\"generic\",\n",
    "                        spatial_key=\"spatial\",\n",
    "                        radius=0.08348)\n",
    "avg_edges_per_node = round(adata_embryo1.obsp['spatial_connectivities'].sum(axis=0).mean(), 4)\n",
    "print(f\"Average number of edges per node: {avg_edges_per_node}.\")"
   ]
  },
  {
   "cell_type": "code",
   "execution_count": null,
   "id": "7dc9b762-3a27-4326-90f6-7134d72602ea",
   "metadata": {},
   "outputs": [],
   "source": [
    "embryo1_dict = {}\n",
    "embryo1_dict[\"radius_4_avg_neighbors\"] = 0.03979\n",
    "embryo1_dict[\"radius_8_avg_neighbors\"] = 0.05279\n",
    "embryo1_dict[\"radius_12_avg_neighbors\"] = 0.06450\n",
    "embryo1_dict[\"radius_16_avg_neighbors\"] = 0.07458\n",
    "embryo1_dict[\"radius_20_avg_neighbors\"] = 0.08348"
   ]
  },
  {
   "cell_type": "code",
   "execution_count": null,
   "id": "843c55c3-10e6-4dd1-800c-82e2ace6ff99",
   "metadata": {},
   "outputs": [],
   "source": [
    "sq.gr.spatial_neighbors(adata_embryo2,\n",
    "                        coord_type=\"generic\",\n",
    "                        spatial_key=\"spatial\",\n",
    "                        radius=0.08349)\n",
    "avg_edges_per_node = round(adata_embryo2.obsp['spatial_connectivities'].sum(axis=0).mean(), 4)\n",
    "print(f\"Average number of edges per node: {avg_edges_per_node}.\")"
   ]
  },
  {
   "cell_type": "code",
   "execution_count": null,
   "id": "33a5ad36-1507-417d-bd81-b091f8b5a977",
   "metadata": {},
   "outputs": [],
   "source": [
    "embryo2_dict = {}\n",
    "embryo2_dict[\"radius_4_avg_neighbors\"] = 0.04019\n",
    "embryo2_dict[\"radius_8_avg_neighbors\"] = 0.05293\n",
    "embryo2_dict[\"radius_12_avg_neighbors\"] = 0.06450\n",
    "embryo2_dict[\"radius_16_avg_neighbors\"] = 0.07460\n",
    "embryo2_dict[\"radius_20_avg_neighbors\"] = 0.08349"
   ]
  },
  {
   "cell_type": "code",
   "execution_count": null,
   "id": "43955558-25b6-4d2b-8c54-656cd9e7f76d",
   "metadata": {},
   "outputs": [],
   "source": [
    "sq.gr.spatial_neighbors(adata_embryo3,\n",
    "                        coord_type=\"generic\",\n",
    "                        spatial_key=\"spatial\",\n",
    "                        radius=0.09028)\n",
    "avg_edges_per_node = round(adata_embryo3.obsp['spatial_connectivities'].sum(axis=0).mean(), 4)\n",
    "print(f\"Average number of edges per node: {avg_edges_per_node}.\")"
   ]
  },
  {
   "cell_type": "code",
   "execution_count": null,
   "id": "a12ad312-88ac-4ea5-9fd3-73f47bd89eee",
   "metadata": {},
   "outputs": [],
   "source": [
    "embryo3_dict = {}\n",
    "embryo3_dict[\"radius_4_avg_neighbors\"] = 0.04206\n",
    "embryo3_dict[\"radius_8_avg_neighbors\"] = 0.05639\n",
    "embryo3_dict[\"radius_12_avg_neighbors\"] = 0.06930\n",
    "embryo3_dict[\"radius_16_avg_neighbors\"] = 0.08038\n",
    "embryo3_dict[\"radius_20_avg_neighbors\"] = 0.09028"
   ]
  },
  {
   "cell_type": "markdown",
   "id": "d4c4a1d2-98ff-4277-901f-362b7363a53c",
   "metadata": {},
   "source": [
    "### 2.2 Vizgen MERFISH Mouse Liver Dataset"
   ]
  },
  {
   "cell_type": "markdown",
   "id": "eef9d705-52aa-4451-a79a-e1920595b37c",
   "metadata": {},
   "source": [
    "- **Publication**: Vizgen MERFISH Mouse Liver Map January 2022\n",
    "- **Data Access:** https://info.vizgen.com/mouse-liver-access\n",
    "    - Animal 1 replicate 1 is used\n",
    "    - 2 animals with 2 replicates each can be downloaded\n",
    "- **Data Structure:**\n",
    "    - ```\n",
    "         ├── ../datasets/srt_data/bronze\n",
    "         │   └── vizgen_merfish_mouse_liver  \n",
    "         │        └── cell_by_gene.csv (gene expression)\n",
    "         │        └── cell_metadata.csv (metadata) \n",
    "      ```\n",
    "- **Preprocessing Vignette:** https://squidpy.readthedocs.io/en/latest/external_tutorials/tutorial_vizgen_mouse_liver.html\n",
    "- **Summary:**\n",
    "    - Liver tissue section of mouse liver map\n",
    "    - 367,335 observations on cell-level with cell-type annotations\n",
    "    - 347 probed genes"
   ]
  },
  {
   "cell_type": "code",
   "execution_count": null,
   "id": "59d6bb72-370e-4f1b-9406-6c31e1782d9b",
   "metadata": {},
   "outputs": [],
   "source": [
    "dataset = \"vizgen_merfish_mouse_liver\"\n",
    "cell_type_key = \"Cell_Type\""
   ]
  },
  {
   "cell_type": "markdown",
   "id": "07793a27-7e7e-4c52-83ce-ca192893da8f",
   "metadata": {},
   "source": [
    "#### 2.2.1 Load & Preprocess Raw Data"
   ]
  },
  {
   "cell_type": "code",
   "execution_count": null,
   "id": "970f194c-9a67-4e68-bb0a-08db30d05dd1",
   "metadata": {},
   "outputs": [],
   "source": [
    "merfish_dir = f\"{srt_data_bronze_folder_path}/{dataset}/\""
   ]
  },
  {
   "cell_type": "code",
   "execution_count": null,
   "id": "7045fb56-fada-4fa1-aa37-6e89f7a52c22",
   "metadata": {},
   "outputs": [],
   "source": [
    "print(f\"Loading and preprocessing dataset '{dataset}'.\")\n",
    "    \n",
    "# Read adata from files\n",
    "adata = sq.read.vizgen(merfish_dir,\n",
    "                       counts_file=\"Liver1Slice1_cell_by_gene.csv\",\n",
    "                       meta_file=\"Liver1Slice1_cell_metadata.csv\")\n",
    "\n",
    "# Preprocess as per squidpy vignette\n",
    "adata.var_names_make_unique()\n",
    "adata.var[\"mt\"] = adata.var_names.str.startswith(\"mt-\")\n",
    "sc.pp.calculate_qc_metrics(adata, qc_vars=[\"mt\"],percent_top=(50, 100, 200, 300), inplace=True)\n",
    "sc.pp.filter_cells(adata, min_counts=50)\n",
    "sc.pp.filter_genes(adata, min_cells=10)\n",
    "\n",
    "# Store raw counts in `layers`\n",
    "adata.layers[\"counts\"] = adata.X.copy()\n",
    "\n",
    "# Store data to disk\n",
    "adata.write(f\"{srt_data_silver_folder_path}/{dataset}.h5ad\")\n",
    "\n",
    "# Determine cell annotation as per squidpy vignette\n",
    "sc.pp.normalize_total(adata)\n",
    "sc.pp.log1p(adata)\n",
    "sc.pp.scale(adata, max_value=10)\n",
    "sc.tl.pca(adata, svd_solver=\"arpack\")\n",
    "sc.pp.neighbors(adata, n_neighbors=10, n_pcs=20)\n",
    "sc.tl.umap(adata)\n",
    "sc.tl.leiden(adata, resolution=1.5)\n",
    "\n",
    "sc.set_figure_params(figsize=(10,10))\n",
    "sc.pl.umap(adata, color=[\"leiden\"], size=5)\n",
    "\n",
    "gene_panel = \"https://static-content.springer.com/esm/art%3A10.1038%2Fs41421-021-00266-1/MediaObjects/41421_2021_266_MOESM1_ESM.xlsx\"\n",
    "df_ref_panel_ini = pd.read_excel(gene_panel, index_col=0)\n",
    "df_ref_panel = df_ref_panel_ini.iloc[1:,:1]\n",
    "df_ref_panel.index.name = None\n",
    "df_ref_panel.columns = [\"Function\"]\n",
    "\n",
    "# Assign marker gene metadata using reference dataset\n",
    "marker_genes = df_ref_panel[df_ref_panel[\"Function\"].str.contains(\"marker\")].index.tolist()\n",
    "\n",
    "meta_gene = deepcopy(adata.var)\n",
    "common_marker_genes = list(set(meta_gene.index.tolist()).intersection(marker_genes))\n",
    "meta_gene.loc[common_marker_genes, \"Markers\"] = df_ref_panel.loc[common_marker_genes, \"Function\"]\n",
    "meta_gene[\"Markers\"] = meta_gene[\"Markers\"].apply(lambda x: \"N.A.\" if \"marker\" not in str(x) else x)\n",
    "meta_gene[\"Markers\"].value_counts()\n",
    "\n",
    "ser_counts = adata.obs[\"leiden\"].value_counts()\n",
    "ser_counts.name = \"cell counts\"\n",
    "meta_leiden = pd.DataFrame(ser_counts)\n",
    "\n",
    "cat_name = \"leiden\"\n",
    "sig_leiden = pd.DataFrame(columns=adata.var_names, index=adata.obs[cat_name].cat.categories)\n",
    "for clust in adata.obs[cat_name].cat.categories:\n",
    "    sig_leiden.loc[clust] = adata[adata.obs[cat_name].isin([clust]),:].X.mean(0)\n",
    "sig_leiden = sig_leiden.transpose()\n",
    "leiden_clusters = [\"Leiden-\" + str(x) for x in sig_leiden.columns.tolist()]\n",
    "sig_leiden.columns = leiden_clusters\n",
    "meta_leiden.index = sig_leiden.columns.tolist()\n",
    "meta_leiden[\"leiden\"] = pd.Series(meta_leiden.index.tolist(), index=meta_leiden.index.tolist())\n",
    "\n",
    "meta_gene = pd.DataFrame(index=sig_leiden.index.tolist())\n",
    "meta_gene[\"info\"] = pd.Series(\"\", index=meta_gene.index.tolist())\n",
    "meta_gene[\"Markers\"] = pd.Series(\"N.A.\", index=sig_leiden.index.tolist())\n",
    "meta_gene.loc[common_marker_genes, \"Markers\"] = df_ref_panel.loc[common_marker_genes, \"Function\"]\n",
    "\n",
    "meta_leiden[\"Cell_Type\"] = pd.Series(\"N.A.\", index=meta_leiden.index.tolist())\n",
    "num_top_genes = 30\n",
    "for inst_cluster in sig_leiden.columns.tolist():\n",
    "    top_genes = sig_leiden[inst_cluster].sort_values(ascending=False).index.tolist()[:num_top_genes]\n",
    "\n",
    "    inst_ser = meta_gene.loc[top_genes, \"Markers\"]\n",
    "    inst_ser = inst_ser[inst_ser != \"N.A.\"]\n",
    "    ser_counts = inst_ser.value_counts()\n",
    "  \n",
    "    max_count = ser_counts.max()\n",
    "  \n",
    "    max_cat = \"_\".join(sorted(ser_counts[ser_counts == max_count].index.tolist()))\n",
    "    max_cat = max_cat.zlace(\" marker\", \"\").zlace(\" \", \"-\")\n",
    "  \n",
    "    print(inst_cluster, max_cat)\n",
    "    meta_leiden.loc[inst_cluster, \"Cell_Type\"] = max_cat\n",
    "\n",
    "# Rename clusters\n",
    "meta_leiden[\"name\"] = meta_leiden.apply(lambda x: x[\"Cell_Type\"] + \"_\" + x[\"leiden\"] , axis=1)\n",
    "leiden_names = meta_leiden[\"name\"].values.tolist()\n",
    "meta_leiden.index = leiden_names\n",
    "\n",
    "# Transfer cell type labels to single cells\n",
    "leiden_to_cell_type = deepcopy(meta_leiden)\n",
    "leiden_to_cell_type.set_index(\"leiden\", inplace=True)\n",
    "leiden_to_cell_type.index.name = None\n",
    "\n",
    "adata.obs[\"Cell_Type\"] = adata.obs[\"leiden\"].apply(lambda x: leiden_to_cell_type.loc[\"Leiden-\" + str(x), \"Cell_Type\"])\n",
    "adata.obs[\"Cluster\"] = adata.obs[\"leiden\"].apply(lambda x: leiden_to_cell_type.loc[\"Leiden-\" + str(x), \"name\"])"
   ]
  },
  {
   "cell_type": "code",
   "execution_count": null,
   "id": "f0b81663-1b39-48eb-85c4-8a704889c5ed",
   "metadata": {},
   "outputs": [],
   "source": [
    "adata_old = adata.copy()"
   ]
  },
  {
   "cell_type": "code",
   "execution_count": null,
   "id": "62f3b963-4d11-43bd-a85c-0bb729527711",
   "metadata": {},
   "outputs": [],
   "source": [
    "adata = ad.AnnData(sp.csr_matrix(adata_old.X))\n",
    "adata.obs_names = adata_old.obs_names\n",
    "adata.var_names = adata_old.var_names\n",
    "\n",
    "adata.layers[\"counts\"] = adata_old.layers[\"counts\"]\n",
    "adata.obsm[\"spatial\"] = adata_old.obsm[\"spatial\"]\n",
    "adata.obs[\"Cell_Type\"] = adata_old.obs[\"Cell_Type\"]\n",
    "\n",
    "# Remove negative probes\n",
    "adata = adata[:, ~adata.var_names.str.contains(\"Blank\")]\n",
    "\n",
    "adata.obs[\"batch\"] = \"animal1_z2\"\n",
    "\n",
    "# Store gene expression in sparse row format\n",
    "adata.layers[\"counts\"] = sp.csr_matrix(adata.layers[\"counts\"])\n",
    "\n",
    "# Store data to disk\n",
    "adata.write(f\"{srt_data_gold_folder_path}/{dataset}.h5ad\")"
   ]
  },
  {
   "cell_type": "markdown",
   "id": "56f75461-027f-449f-9355-66a7d8de3d8f",
   "metadata": {},
   "source": [
    "#### 2.2.2 Explore Data"
   ]
  },
  {
   "cell_type": "code",
   "execution_count": null,
   "id": "1c8364a0-2969-43de-bae4-dc4e10d70412",
   "metadata": {},
   "outputs": [],
   "source": [
    "print(f\"Exploring dataset {dataset}.\")\n",
    "print(f\"Number of nodes (cells): {adata.layers['counts'].shape[0]}\")\n",
    "print(f\"Number of node features (genes): {adata.layers['counts'].shape[1]}\")\n",
    "\n",
    "# Visualize cell-level annotated data in physical space\n",
    "sq.pl.spatial_scatter(adata, color=cell_type_key, shape=None, figsize=(12, 12))"
   ]
  },
  {
   "cell_type": "markdown",
   "id": "a4a1f984-33d9-4cd1-9cc0-e611b1cf2c56",
   "metadata": {},
   "source": [
    "### 2.3 STARmap PLUS Mouse Central Nervous System Dataset"
   ]
  },
  {
   "cell_type": "markdown",
   "id": "594f370d-c48c-43cc-9659-76b6c80242e5",
   "metadata": {},
   "source": [
    "- **Publication:** Shi, H. et al. Spatial Atlas of the Mouse Central Nervous System at Molecular Resolution. bioRxiv 2022.06.20.496914 (2022). [doi:10.1101/2022.06.20.496914](https://doi.org/10.1101/2022.06.20.496914)\n",
    "- **Data Access:** https://singlecell.broadinstitute.org/single_cell/study/SCP1830\n",
    "    - Sagittal 1 (Slice 3)\n",
    "- **Data Structure:**\n",
    "    - ```\n",
    "         ├── ../datasets/srt_data/bronze\n",
    "         │   └── starmap_plus_mouse_cns  \n",
    "         │        └── sagittal1raw_expression_pd.csv (gene expression)\n",
    "         │        └── sagittal1_spatial.csv (spatial coordinates) \n",
    "      ```\n",
    "- **Summary:**\n",
    "    - Sagittal section of mouse brain\n",
    "    - 91,246 observations on cell-level with cell-type annotations\n",
    "    - 1022 genes"
   ]
  },
  {
   "cell_type": "code",
   "execution_count": null,
   "id": "308b92d1-01a0-43fb-88a3-8a246511ea32",
   "metadata": {},
   "outputs": [],
   "source": [
    "dataset = \"starmap_plus_mouse_cns\"\n",
    "cell_type_key = \"Main_molecular_cell_type\""
   ]
  },
  {
   "cell_type": "markdown",
   "id": "689702ac-6fd9-49e5-b499-c413bbd1d5ae",
   "metadata": {},
   "source": [
    "#### 2.3.1 Load & Preprocess Raw Data"
   ]
  },
  {
   "cell_type": "code",
   "execution_count": null,
   "id": "e176d609-9a6b-4f22-9c7f-4715b5a5690b",
   "metadata": {},
   "outputs": [],
   "source": [
    "starmap_plus_dir = f\"{srt_data_bronze_folder_path}/{dataset}/\""
   ]
  },
  {
   "cell_type": "code",
   "execution_count": null,
   "id": "3d094c4b-cde8-4ab5-a952-0a0367b6836c",
   "metadata": {},
   "outputs": [],
   "source": [
    "print(f\"Loading and preprocessing dataset '{dataset}'.\")\n",
    "\n",
    "# Read counts and metadata and change format\n",
    "metadata = pd.read_csv(starmap_plus_dir + \"sagittal1_spatial.csv\", skiprows=[1])\n",
    "counts = pd.read_csv(starmap_plus_dir + \"sagittal1raw_expression_pd.csv\")\n",
    "counts.set_index(\"GENE\", inplace=True)\n",
    "metadata.set_index(\"NAME\", inplace=True)\n",
    "counts = counts.T\n",
    "\n",
    "# Merge counts with metadata and store counts in `layers` and spatial coords in `obsm`\n",
    "adata = ad.AnnData(counts, dtype=np.float32)\n",
    "adata.obs = pd.merge(adata.obs, metadata, how=\"left\", left_index=True, right_index=True)\n",
    "adata.obsm[\"spatial\"] = adata.obs[[\"X\", \"Y\"]].values / 1000 # smaller scale for plotting with squidpy\n",
    "adata.layers[\"counts\"] = adata.X.copy()\n",
    "\n",
    "# Normalize counts\n",
    "sc.pp.normalize_total(adata, target_sum=1e4)\n",
    "\n",
    "# Log-transform the normalized counts\n",
    "sc.pp.log1p(adata)\n",
    "\n",
    "adata.obs[\"batch\"] = \"sagittal1_slice3\"\n",
    "\n",
    "adata.obs.drop(columns=[\"X\", \"Y\", \"Z\"], inplace=True)"
   ]
  },
  {
   "cell_type": "code",
   "execution_count": null,
   "id": "a8584fcb-7f34-4a0d-8164-1fe1f438ad32",
   "metadata": {},
   "outputs": [],
   "source": [
    "# Store gene expression in sparse row format\n",
    "adata.X = sp.csr_matrix(adata.X)\n",
    "adata.layers[\"counts\"] = sp.csr_matrix(adata.layers[\"counts\"])\n",
    "\n",
    "# Store data to disk\n",
    "adata.write(f\"{srt_data_gold_folder_path}/{dataset}.h5ad\")"
   ]
  },
  {
   "cell_type": "markdown",
   "id": "a44d988f-3497-4e54-b3e0-83e01147c055",
   "metadata": {},
   "source": [
    "#### 2.3.2 Explore Data"
   ]
  },
  {
   "cell_type": "code",
   "execution_count": null,
   "id": "77664900-529e-474d-9d3d-f8ca7448d3a1",
   "metadata": {},
   "outputs": [],
   "source": [
    "print(f\"Exploring dataset {dataset}.\")\n",
    "print(f\"Number of nodes (cells): {adata.layers['counts'].shape[0]}\")\n",
    "print(f\"Number of node features (genes): {adata.layers['counts'].shape[1]}\")\n",
    "\n",
    "# Visualize cell-level annotated data in physical space\n",
    "sq.pl.spatial_scatter(adata, color=cell_type_key, shape=None, figsize=(12, 12))"
   ]
  },
  {
   "cell_type": "markdown",
   "id": "b83910ed-7fe7-406e-8ad4-08a7618146c2",
   "metadata": {
    "tags": []
   },
   "source": [
    "### 2.4 nanoString CosMx SMI Human Non-Small-Cell Lung Cancer (NSCLC)"
   ]
  },
  {
   "cell_type": "markdown",
   "id": "0cd26830-d02e-46bc-ae6e-bfe085a88a53",
   "metadata": {},
   "source": [
    "- **Publication:** Tang, Z., Zhang, T., Yang, B., Su, J. & Song, Q. SiGra: Single-cell spatial elucidation through image-augmented graph transformer. bioRxiv (2022). [doi:10.1101/2022.08.18.504464v1](https://www.biorxiv.org/content/10.1101/2022.08.18.504464v1)\n",
    "- **Data Access:** Preprocessed version from SiGra (https://github.com/QSong-github/SiGra): https://purdue0-my.shazoint.com/personal/tang385_purdue_edu/_layouts/15/onedrive.aspx?id=%2Fpersonal%2Ftang385%5Fpurdue%5Fedu%2FDocuments%2FSigra%5Fdataset&ga=1 (original source https://nanostring.com/products/cosmx-spatial-molecular-imager/ffpe-dataset/)\n",
    "    - Lung 9 (replicate 1)\n",
    "- **Data Structure**:\n",
    "    - ```\n",
    "         ├── ../datasets/srt_data/bronze\n",
    "         │   └── nanostring_cosmx_human_nsclc  \n",
    "         │        └── Lung9_z2_exprMat_file.csv (gene expression)\n",
    "         │        └── matched_annotation_all.csv (cell annotations)\n",
    "         │        └── fov1  \n",
    "         │              ├── CellComposite_F001.jpg (histology image)\n",
    "         │        └── fov2  \n",
    "         │              ├── CellComposite_F002.jpg  \n",
    "         │        └── ...  \n",
    "         │        └── fov20  \n",
    "         │              ├── ...  \n",
    "      ```\n",
    "- **Summary:**\n",
    "    - Non-small-cell lung cancer of human\n",
    "    - 83,621 observations on cell-level with cell-type annotations across 20 fovs\n",
    "    - 960 genes"
   ]
  },
  {
   "cell_type": "code",
   "execution_count": null,
   "id": "0e467c02-cfaf-4d87-a2f7-367b3d2cbc7d",
   "metadata": {},
   "outputs": [],
   "source": [
    "dataset = \"nanostring_cosmx_human_nsclc\"\n",
    "cell_type_key = \"cell_type\""
   ]
  },
  {
   "cell_type": "markdown",
   "id": "bd29d85a-8c45-419c-beee-54aa8b8b395b",
   "metadata": {},
   "source": [
    "#### 2.4.1 Load & Preprocess Raw Data"
   ]
  },
  {
   "cell_type": "code",
   "execution_count": null,
   "id": "c3eaa49c-592e-4eba-b70e-37ea4b1d8ee7",
   "metadata": {},
   "outputs": [],
   "source": [
    "# Define field of views and images\n",
    "fovs = [\"fov1\", \"fov2\", \"fov3\", \"fov4\", \"fov5\",\n",
    "        \"fov6\", \"fov7\", \"fov8\", \"fov9\", \"fov10\",\n",
    "        \"fov11\", \"fov12\", \"fov13\", \"fov14\", \"fov15\",\n",
    "        \"fov16\", \"fov17\", \"fov18\", \"fov19\", \"fov20\"]\n",
    "\n",
    "imgs = [\"F001\", \"F002\", \"F003\", \"F004\", \"F005\",\n",
    "        \"F006\", \"F007\", \"F008\", \"F009\", \"F010\",\n",
    "        \"F011\", \"F012\", \"F013\", \"F014\", \"F015\",\n",
    "        \"F016\", \"F017\", \"F018\", \"F019\", \"F020\",]"
   ]
  },
  {
   "cell_type": "code",
   "execution_count": null,
   "id": "62be9aac-af99-46f7-8a9c-b97935e285d6",
   "metadata": {},
   "outputs": [],
   "source": [
    "nanostring_dir = f\"{srt_data_bronze_folder_path}/{dataset}/\""
   ]
  },
  {
   "cell_type": "code",
   "execution_count": null,
   "id": "29903edc-f389-4a18-862e-94d1e21cbc17",
   "metadata": {},
   "outputs": [],
   "source": [
    "def process_nanostring_cosmx_nsclc_data(fov, fov_id, img_id, coords=\"global\"):\n",
    "    # Read image\n",
    "    img_path = os.path.join(nanostring_dir, fov_id, f\"CellComposite_{img_id}.jpg\")\n",
    "    img = cv2.imread(img_path)\n",
    "    height, width, c = img.shape\n",
    "\n",
    "    # Read gene expression counts and filter for current field of view\n",
    "    gene_expr = pd.read_csv(nanostring_dir + \"Lung9_z2_exprMat_file.csv\", delimiter=\",\")\n",
    "    gene_expr_fov1 = gene_expr[gene_expr[\"fov\"] == fov]\n",
    "    gene_expr_fov1 = gene_expr_fov1.drop(columns=[\"fov\"])\n",
    "    gene_expr_fov1 = gene_expr_fov1.set_index(\"cell_ID\")\n",
    "    idx = gene_expr_fov1.index\n",
    "\n",
    "    # Read annotations and filter for current field of view\n",
    "    annotation = pd.read_csv(nanostring_dir + \"matched_annotation_all.csv\")\n",
    "    annotation_fov1 = annotation[annotation[\"fov\"] == int(fov)]\n",
    "\n",
    "    # Define width and height for each image patch\n",
    "    w, h = 60, 60\n",
    "\n",
    "    # Get center of each cell and match to images\n",
    "    for i, row in annotation_fov1.iterrows():\n",
    "        cx, cy = float(annotation_fov1[\"CenterX_local_px\"][i]), float(annotation_fov1[\"CenterY_local_px\"][i])\n",
    "        annotation_fov1[\"CenterY_local_px\"][i] = height - float(annotation_fov1[\"CenterY_local_px\"][i])\n",
    "\n",
    "        if cx - w < 0 or cx + w > width or cy - h < 0 or cy + h > height:\n",
    "            annotation_fov1[\"cell_type\"][i] = np.nan\n",
    "    annotation_fov1 = annotation_fov1.set_index(\"cell_ID\").reindex(idx)\n",
    "\n",
    "    # If annotation is NaN, drop corresponding row in gene expression df\n",
    "    gene_expr_fov1[\"cell_type\"] = annotation_fov1[\"cell_type\"]\n",
    "    gene_expr_fov1[\"niche\"] = annotation_fov1[\"niche\"]\n",
    "    gene_expr_fov1 = gene_expr_fov1.dropna(axis=0, how=\"any\")\n",
    "    gene_expr_fov1 = gene_expr_fov1.drop(columns=[\"cell_type\", \"niche\"])\n",
    "\n",
    "    # Build adata\n",
    "    adata = ad.AnnData(gene_expr_fov1)\n",
    "    annotation_fov1.index = annotation_fov1.index.map(str)\n",
    "    adata.obs[\"cell_type\"] = annotation_fov1.loc[adata.obs_names, \"cell_type\"]\n",
    "    adata.obs[\"niche\"] = annotation_fov1.loc[adata.obs_names, \"niche\"]\n",
    "\n",
    "    adata.obs[\"cx\"] = annotation_fov1.loc[adata.obs_names, \"CenterX_local_px\"]\n",
    "    adata.obs[\"cy\"] = annotation_fov1.loc[adata.obs_names, \"CenterY_local_px\"]\n",
    "\n",
    "    adata.obs[\"cx_g\"] = annotation_fov1.loc[adata.obs_names, \"CenterX_global_px\"]\n",
    "    adata.obs[\"cy_g\"] = annotation_fov1.loc[adata.obs_names, \"CenterY_global_px\"]\n",
    "\n",
    "    # Store coordinates in 'adata.obsm'\n",
    "    if coords==\"local\":\n",
    "        df = pd.DataFrame(index=adata.obs.index)\n",
    "        df[\"cx\"] = adata.obs[\"cx\"] # local coordinate\n",
    "        df[\"cy\"] = adata.obs[\"cy\"] # local coordinate\n",
    "        adata.obsm[\"spatial\"] = df.to_numpy()\n",
    "\n",
    "    elif coords==\"global\":\n",
    "        df = pd.DataFrame(index=adata.obs.index)\n",
    "        df[\"cx_g\"] = adata.obs[\"cx_g\"]\n",
    "        df[\"cy_g\"] = adata.obs[\"cy_g\"]\n",
    "        adata.obsm[\"spatial\"] = df.to_numpy()\n",
    "\n",
    "    # Remove negative probes\n",
    "    adata = adata[:, ~adata.var_names.str.contains(\"NegPrb\")]\n",
    "\n",
    "    # Store counts in adata.layers\n",
    "    adata.layers[\"counts\"] = adata.X.copy()\n",
    "    \n",
    "    # Normalize counts\n",
    "    sc.pp.normalize_total(adata, target_sum=1e4)\n",
    "\n",
    "    # Log-transform the normalized counts\n",
    "    sc.pp.log1p(adata)\n",
    "    \n",
    "    adata.obs[\"batch\"] = \"lung9_z2\"\n",
    "\n",
    "    adata.obs = adata.obs.drop(columns=[\"cx\", \"cy\", \"cx_g\", \"cy_g\"])\n",
    "    \n",
    "    return adata"
   ]
  },
  {
   "cell_type": "code",
   "execution_count": null,
   "id": "0911d87b-2ba7-4c16-a983-0a0a26eb973b",
   "metadata": {},
   "outputs": [],
   "source": [
    "# Preprocess all fovs and combine them\n",
    "adata_fov_list = []\n",
    "\n",
    "for fov, fov_id, img_id in zip(np.arange(1,21), fovs, imgs):\n",
    "    adata_fov = process_nanostring_cosmx_nsclc_data(fov, fov_id, img_id)\n",
    "    adata_fov_list.append(adata_fov)\n",
    "\n",
    "adata = ad.concat(adata_fov_list, join=\"inner\")"
   ]
  },
  {
   "cell_type": "code",
   "execution_count": null,
   "id": "5d94b7c9-4abc-4a83-83e9-8219b591585f",
   "metadata": {},
   "outputs": [],
   "source": [
    "# Store gene expression in sparse row format\n",
    "adata.X = sp.csr_matrix(adata.X)\n",
    "adata.layers[\"counts\"] = sp.csr_matrix(adata.layers[\"counts\"])\n",
    "\n",
    "# Store data to disk\n",
    "adata.write(f\"{srt_data_gold_folder_path}/{dataset}.h5ad\")"
   ]
  },
  {
   "cell_type": "markdown",
   "id": "d7823052-c708-4e1e-a942-8140c429f972",
   "metadata": {},
   "source": [
    "#### 2.4.2 Explore Data"
   ]
  },
  {
   "cell_type": "code",
   "execution_count": null,
   "id": "1e947e03-eea1-4e79-a6b9-f79947ddee59",
   "metadata": {},
   "outputs": [],
   "source": [
    "print(f\"Exploring dataset {dataset}.\")\n",
    "print(f\"Number of nodes (cells): {adata.layers['counts'].shape[0]}\")\n",
    "print(f\"Number of node features (genes): {adata.layers['counts'].shape[1]}\")\n",
    "\n",
    "# Visualize cell-level annotated data in physical space\n",
    "sq.pl.spatial_scatter(adata, color=cell_type_key, shape=None, figsize=(12, 12))"
   ]
  },
  {
   "cell_type": "markdown",
   "id": "983471d9-ef43-4010-9c08-0425f7bc2cdd",
   "metadata": {},
   "source": [
    "### 2.5 nanoString CosMx SMI Human Liver"
   ]
  },
  {
   "cell_type": "markdown",
   "id": "572becdd-83be-49fe-a411-11f135525361",
   "metadata": {},
   "source": [
    "- **Publication:** nanoString CosMx SMI Human Liver FFPE Dataset\n",
    "- **Data Access:** https://nanostring.com/products/cosmx-spatial-molecular-imager/human-liver-rna-ffpe-dataset/\n",
    "- **Data Structure**:\n",
    "    - ```\n",
    "         ├── ../datasets/srt_data/bronze\n",
    "         │   └── nanostring_cosmx_human_liver\n",
    "         │        └── LiverDataRelease \n",
    "      ```\n",
    "- **Preprocessing Vignette**: https://nanostring.com/wp-content/uploads/2023/01/LiverPublicDataRelease.html\n",
    "- **Summary:**\n",
    "    - 2 samples: normal human liver (healthy sample) & human hepatocellular carcinoma (disease sample)\n",
    "    - 332,877 observations (healthy sample) & 460,441 observations (disease sample) on cell-level with cell-type annotations\n",
    "    - 1000 genes"
   ]
  },
  {
   "cell_type": "code",
   "execution_count": null,
   "id": "a03b610e-f062-451c-a2e7-4bc6209d75f3",
   "metadata": {},
   "outputs": [],
   "source": [
    "dataset = \"nanostring_cosmx_human_liver\"\n",
    "cell_type_key = \"cellType\""
   ]
  },
  {
   "cell_type": "markdown",
   "id": "937369fc-0436-4509-95db-3995731df0cb",
   "metadata": {},
   "source": [
    "#### 2.5.1 Load & Preprocess Raw Data"
   ]
  },
  {
   "cell_type": "code",
   "execution_count": null,
   "id": "13980562-6d51-4e67-96ff-693954f75695",
   "metadata": {},
   "outputs": [],
   "source": [
    "config = tiledb.Config()\n",
    "ctx = tiledb.Ctx(config)\n",
    "\n",
    "# Read in SOMACollection\n",
    "pySoma = tiledbsoma.SOMACollection(\"/bronze/nanostring_cosmx_human_liver/LiverDataRelease\", ctx=ctx)\n",
    "pySoma.keys()\n",
    "\n",
    "# Raw counts\n",
    "counts = pySoma['RNA'].X['counts'].csr()\n",
    "counts\n",
    "\n",
    "# Normalized counts\n",
    "norm = pySoma['RNA_normalized'].X['data'].csr()\n",
    "norm\n",
    "\n",
    "# Cell metadata\n",
    "obs = pySoma['RNA'].obs.df()\n",
    "obs.head()\n",
    "\n",
    "# Target transcript coordinates\n",
    "transcriptCoords = tiledb.open_dataframe(pySoma['RNA'].obsm[\"transcriptCoords\"].uri, ctx=ctx)\n",
    "transcriptCoords\n",
    "\n",
    "# Convert to adata\n",
    "coordinates = np.array(obs[[\"x_slide_mm\", \"y_slide_mm\"]])\n",
    "adata = ad.AnnData(norm, obs = obs, obsm={\"spatial\": coordinates}, dtype = \"float32\")\n",
    "adata.layers[\"counts\"] = counts\n",
    "adata.obs = adata.obs[[\"fov\", \"cellType\", \"niche\"]]\n",
    "adata.var_names = pySoma[\"RNA\"].var_names\n",
    "\n",
    "adata.X = adata.X.astype(np.float32)\n",
    "adata.layers[\"counts\"] = adata.layers[\"counts\"].astype(np.float32)\n",
    "\n",
    "adata_sample1 = adata[adata.obs.index.str.startswith(\"c_1\")]\n",
    "adata_sample2 = adata[adata.obs.index.str.startswith(\"c_2\")]\n",
    "\n",
    "adata_sample1.obs[\"batch\"] = \"sample1\"\n",
    "adata_sample2.obs[\"batch\"] = \"sample2\"\n",
    "\n",
    "adata_sample1.write(f\"{srt_data_gold_folder_path}/{dataset}_sample1.h5ad\")\n",
    "adata_sample2.write(f\"{srt_data_gold_folder_path}/{dataset}_sample2.h5ad\")"
   ]
  },
  {
   "cell_type": "markdown",
   "id": "48bea63f-7357-4c05-a7fb-e4add39a31b9",
   "metadata": {},
   "source": [
    "#### 2.5.2 Explore Data"
   ]
  },
  {
   "cell_type": "code",
   "execution_count": null,
   "id": "1cd5eb23-358f-43c1-a05d-c49ce451d74a",
   "metadata": {},
   "outputs": [],
   "source": [
    "print(f\"Exploring dataset {dataset}_sample1.\")\n",
    "print(f\"Number of nodes (cells): {adata_sample1.layers['counts'].shape[0]}\")\n",
    "print(f\"Number of node features (genes): {adata_sample1.layers['counts'].shape[1]}\")\n",
    "\n",
    "# Visualize cell-level annotated data in physical space\n",
    "sq.pl.spatial_scatter(adata_sample1, color=cell_type_key, shape=None, figsize=(12, 12))"
   ]
  },
  {
   "cell_type": "code",
   "execution_count": null,
   "id": "8d8ad15a-f2fb-4eb3-8ca1-e4e250eb0a60",
   "metadata": {},
   "outputs": [],
   "source": [
    "print(f\"Exploring dataset {dataset}_sample2.\")\n",
    "print(f\"Number of nodes (cells): {adata_sample2.layers['counts'].shape[0]}\")\n",
    "print(f\"Number of node features (genes): {adata_sample2.layers['counts'].shape[1]}\")\n",
    "\n",
    "# Visualize cell-level annotated data in physical space\n",
    "sq.pl.spatial_scatter(adata_sample2, color=cell_type_key, shape=None, figsize=(12, 12))"
   ]
  },
  {
   "cell_type": "markdown",
   "id": "7b68cda9-75d1-4ea6-a92e-1c01e7cf301f",
   "metadata": {},
   "source": [
    "## 3. Additional Data"
   ]
  },
  {
   "cell_type": "markdown",
   "id": "9194facc-70e7-4b66-a7f5-dcb7e35f1116",
   "metadata": {},
   "source": [
    "This data is not used as part of the publication."
   ]
  },
  {
   "cell_type": "markdown",
   "id": "5cc61c56-fa4e-4e9a-a68d-5a634b797708",
   "metadata": {},
   "source": [
    "### 3.1 Slide-seqV2 Mouse Hippocampus Dataset"
   ]
  },
  {
   "cell_type": "markdown",
   "id": "f405d35d-88da-45a9-9dc7-638c77a73c55",
   "metadata": {},
   "source": [
    "- **Publication**: Stickels, R. R. et al. Highly sensitive spatial transcriptomics at near-cellular resolution with Slide-seqV2. Nat. Biotechnol. 39, 313–319 (2021). [doi:10.1038/s41587-020-0739-1](https://doi.org/10.1038/s41587-020-0739-1)\n",
    "- **Data Access:** Preprocessed version from squidpy API (original source https://singlecell.broadinstitute.org/single_cell/study/SCP815/highly-sensitive-spatial-transcriptomics-at-near-cellular-resolution-with-slide-seqv2)\n",
    "- **Summary:**\n",
    "    - Mouse hippocampus puck\n",
    "    - 41,786 observations on cell-level with cell-type annotations\n",
    "    - 4,000 probed genes"
   ]
  },
  {
   "cell_type": "code",
   "execution_count": null,
   "id": "161f1070-0a7e-4aea-a105-4442c0b34913",
   "metadata": {},
   "outputs": [],
   "source": [
    "dataset = \"slideseqv2_mouse_hippocampus\"\n",
    "cell_type_key = \"cluster\""
   ]
  },
  {
   "cell_type": "markdown",
   "id": "e550fc2b-c670-4e8c-a894-d5522762f7f9",
   "metadata": {},
   "source": [
    "#### 3.1.1 Load & Preprocess Raw Data"
   ]
  },
  {
   "cell_type": "code",
   "execution_count": null,
   "id": "02081521-58dd-450a-a135-90a220b1eb42",
   "metadata": {},
   "outputs": [],
   "source": [
    "print(f\"Loading and preprocessing dataset '{dataset}'.\")\n",
    "\n",
    "# Retrieve adata from squidpy\n",
    "adata = sq.datasets.slideseqv2()\n",
    "\n",
    "# Store data to disk\n",
    "adata.write(f\"{srt_data_gold_folder_path}/{dataset}.h5ad\")"
   ]
  },
  {
   "cell_type": "markdown",
   "id": "455584b8-1ea4-4c81-8086-813cb040d553",
   "metadata": {
    "tags": []
   },
   "source": [
    "#### 3.2.1 Explore Data"
   ]
  },
  {
   "cell_type": "code",
   "execution_count": null,
   "id": "7441d6b7-8878-4b50-87f1-4727867a9ae6",
   "metadata": {},
   "outputs": [],
   "source": [
    "print(f\"Exploring dataset {dataset}.\")\n",
    "print(f\"Number of nodes (cells): {adata.layers['counts'].shape[0]}\")\n",
    "print(f\"Number of node features (genes): {adata.layers['counts'].shape[1]}\")\n",
    "\n",
    "# Visualize cell-level annotated data in physical space\n",
    "sq.pl.spatial_scatter(adata, color=cell_type_key, shape=None, figsize=(12, 12))"
   ]
  },
  {
   "cell_type": "markdown",
   "id": "af858b03-8ef3-4cc4-833a-db54406bc131",
   "metadata": {},
   "source": [
    "### 3.2 Vizgen MERFISH Mouse Brain Receptor Dataset"
   ]
  },
  {
   "cell_type": "markdown",
   "id": "f2770c6d-09a6-41ff-9ea1-01af2ad3bf14",
   "metadata": {},
   "source": [
    "- **Publication:** Vizgen Data Release V1.0. May 2021\n",
    "- **Data Access:** https://info.vizgen.com/mouse-brain-map?submissionGuid=a66ccb7f-87cf-4c55-83b9-5a2b6c0c12b9\n",
    "    - Slice 1 zlicate 1\n",
    "        - cell_by_gene_S1R1.csv\n",
    "        - cell_metadata_S1R1.csv\n",
    "- **Preprocessing Vignette:** https://squidpy.readthedocs.io/en/latest/external_tutorials/tutorial_vizgen.html\n",
    "- **Summary:**\n",
    "    - Coronal section of mouse brain receptor map\n",
    "    - 78,329 observations on cell-level without annotations\n",
    "    - 649 probed genes"
   ]
  },
  {
   "cell_type": "code",
   "execution_count": null,
   "id": "82ddf2ec-6011-4d01-8b5f-6898c1d59ca9",
   "metadata": {},
   "outputs": [],
   "source": [
    "dataset = \"vizgen_merfish_mouse_brain\"\n",
    "cell_type_key = \"leiden\""
   ]
  },
  {
   "cell_type": "markdown",
   "id": "526118b0-7bf8-47a5-9062-acacfdb38897",
   "metadata": {},
   "source": [
    "#### 3.2.1 Load & Preprocess Raw Data"
   ]
  },
  {
   "cell_type": "code",
   "execution_count": null,
   "id": "e194d941-aa74-4a1e-a1e4-e245a4ab0d1b",
   "metadata": {},
   "outputs": [],
   "source": [
    "print(f\"Loading and preprocessing dataset '{dataset}'.\")\n",
    "\n",
    "# Read adata from files\n",
    "merfish_dir = f\"{srt_data_bronze_folder_path}/merfish/\"\n",
    "adata = sq.read.vizgen(path=merfish_dir,\n",
    "                       counts_file=\"datasets_mouse_brain_map_BrainReceptorShowcase_Slice1_zlicate1_cell_by_gene_S1R1.csv\",\n",
    "                       meta_file=\"datasets_mouse_brain_map_BrainReceptorShowcase_Slice1_zlicate1_cell_metadata_S1R1.csv\")\n",
    "# Preprocess as per squidpy vignette\n",
    "adata.var_names.unique()\n",
    "adata.var[\"mt\"] = adata.var_names.str.startswith(\"mt-\")\n",
    "sc.pp.calculate_qc_metrics(adata, qc_vars=[\"mt\"], percent_top=(50, 100, 200, 300), inplace=True)\n",
    "fig, axs = plt.subplots(1, 4, figsize=(15, 4))\n",
    "sns.histplot(adata.obs[\"total_counts\"],\n",
    "             kde=False,\n",
    "             ax=axs[0])\n",
    "sns.histplot(adata.obs[\"total_counts\"][adata.obs[\"total_counts\"] < 10000],\n",
    "             kde=False,\n",
    "             bins=40,\n",
    "             ax=axs[1])\n",
    "sns.histplot(adata.obs[\"n_genes_by_counts\"],\n",
    "             kde=False,\n",
    "             bins=60,\n",
    "             ax=axs[2])\n",
    "sns.histplot(adata.obs[\"n_genes_by_counts\"][adata.obs[\"n_genes_by_counts\"] < 4000],\n",
    "             kde=False,\n",
    "             bins=60,\n",
    "             ax=axs[3])\n",
    "sc.pp.filter_cells(adata, min_counts=10)\n",
    "sc.pp.filter_genes(adata, min_cells=10)\n",
    "\n",
    "# Store raw counts in `layers`\n",
    "adata.layers[\"counts\"] = adata.X.copy()\n",
    "\n",
    "# Store data to disk\n",
    "adata.write(f\"{srt_data_silver_folder_path}/{dataset}.h5ad\")\n",
    "\n",
    "# Determine cell annotation as per squidpy vignette\n",
    "sc.pp.highly_variable_genes(adata, flavor=\"seurat_v3\", n_top_genes=4000)\n",
    "sc.pp.normalize_total(adata, inplace=True)\n",
    "sc.pp.log1p(adata)\n",
    "sc.pp.pca(adata)\n",
    "sc.pp.neighbors(adata)\n",
    "sc.tl.umap(adata)\n",
    "sc.tl.leiden(adata)\n",
    "sc.pl.umap(adata,\n",
    "           color=[\"total_counts\", \"n_genes_by_counts\", \"leiden\"])\n",
    "\n",
    "# Store data to disk\n",
    "adata.write(f\"{srt_data_gold_folder_path}/{dataset}.h5ad\")"
   ]
  },
  {
   "cell_type": "markdown",
   "id": "1369825f-06b5-4988-b7ff-ba0e7c636504",
   "metadata": {},
   "source": [
    "#### 3.2.2 Explore Data"
   ]
  },
  {
   "cell_type": "code",
   "execution_count": null,
   "id": "2bdb24de-7a43-411e-9d9e-025395974f20",
   "metadata": {},
   "outputs": [],
   "source": [
    "print(f\"Exploring dataset {dataset}.\")\n",
    "print(f\"Number of nodes (cells): {adata.layers['counts'].shape[0]}\")\n",
    "print(f\"Number of node features (genes): {adata.layers['counts'].shape[1]}\")\n",
    "\n",
    "# Visualize cell-level annotated data in physical space\n",
    "sq.pl.spatial_scatter(adata, color=cell_type_key, shape=None, figsize=(12, 12))"
   ]
  },
  {
   "cell_type": "markdown",
   "id": "d87759e2-d02b-40be-9305-1469f555709a",
   "metadata": {},
   "source": [
    "### 3.3 Vizgen MERFISH Human Liver Cancer Dataset"
   ]
  },
  {
   "cell_type": "markdown",
   "id": "ac4dbb1f-7111-40d0-ba42-f6d57f65424a",
   "metadata": {},
   "source": [
    "- **Publication:** Vizgen MERFISH FFPE Human Immuno-oncology Data Set,  May 2022\n",
    "- **Data Access:** https://info.vizgen.com/ffpe-showcase?submissionGuid=bbe0d6ca-92ad-4257-bdcd-cbc6dee8219b\n",
    "    - Liver cancer 1\n",
    "        - cell_by_gene.csv\n",
    "        - cell_metadata.csv\n",
    "- **Summary:**\n",
    "    - FFPE tissue section of human liver cancer\n",
    "    - 480,592 observations on cell-level without annotations\n",
    "    - 500 probed genes"
   ]
  },
  {
   "cell_type": "code",
   "execution_count": null,
   "id": "00ed1a9c-1b2e-4234-b297-501911df7fbd",
   "metadata": {},
   "outputs": [],
   "source": [
    "dataset = \"vizgen_merfish_human_liver_cancer\"\n",
    "cell_type_key = \"leiden\""
   ]
  },
  {
   "cell_type": "markdown",
   "id": "2422bf81-39f7-4a09-876a-55f2e1e7f348",
   "metadata": {},
   "source": [
    "#### 3.3.1 Load & Preprocess Raw Data"
   ]
  },
  {
   "cell_type": "code",
   "execution_count": null,
   "id": "452f0547-efc1-47dd-8d4b-26b151f00082",
   "metadata": {},
   "outputs": [],
   "source": [
    "print(f\"Loading and preprocessing dataset '{dataset}'.\")\n",
    "    \n",
    "# Read counts and remove blank genes\n",
    "vizgen_dir = f\"{srt_data_bronze_folder_path}/merfish/\"\n",
    "adata = ad.read_text(vizgen_dir + \"HumanLiverCancerPatient1_cell_by_gene.csv\" ,delimiter=\",\", first_column_names=True)\n",
    "blank_genes = np.array([\"Blank\" in v for v in adata.var_names])\n",
    "adata.obsm[\"blank_genes\"] = pd.DataFrame(adata[:, blank_genes].X.copy(), columns=adata.var_names[blank_genes], index=adata.obs_names)\n",
    "adata = adata[:, ~blank_genes].copy()\n",
    "adata.X = sp.csr_matrix(adata.X)\n",
    "\n",
    "# Read metadata and align index for join\n",
    "metadata = pd.read_csv(vizgen_dir + \"HumanLiverCancerPatient1_cell_metadata.csv\", header=0, index_col=0)\n",
    "metadata.sort_index(inplace=True)\n",
    "metadata.index = metadata.index.astype(\"str\")\n",
    "\n",
    "# Join counts with obs and store spatial coordinates\n",
    "adata.obs = pd.merge(adata.obs, metadata, how=\"left\", left_index=True, right_index=True)\n",
    "adata.obsm[\"spatial\"] = adata.obs[[\"center_x\", \"center_y\"]].values\n",
    "adata.obs.drop(columns=[\"center_x\", \"center_y\"], inplace=True)\n",
    "\n",
    "# Preprocess\n",
    "adata.var_names_make_unique()\n",
    "adata.var[\"mt\"] = adata.var_names.str.startswith(\"mt-\")\n",
    "sc.pp.calculate_qc_metrics(adata, qc_vars=[\"mt\"], percent_top=(50, 100, 200, 300), inplace=True)\n",
    "sc.pp.filter_cells(adata, min_counts=50)\n",
    "sc.pp.filter_genes(adata, min_cells=10)\n",
    "\n",
    "# Store raw counts in `layers`\n",
    "adata.layers[\"counts\"] = adata.X.copy()\n",
    "\n",
    "# Store data to disk\n",
    "adata.write(f\"{srt_data_silver_folder_path}/{dataset}.h5ad\")\n",
    "\n",
    "# Determine cell annotation\n",
    "sc.pp.normalize_total(adata, inplace=True)\n",
    "sc.pp.log1p(adata)\n",
    "sc.pp.pca(adata)\n",
    "sc.pp.neighbors(adata)\n",
    "sc.tl.umap(adata)\n",
    "sc.tl.leiden(adata)\n",
    "sc.pl.umap(adata,\n",
    "           color=[\"total_counts\", \"n_genes_by_counts\", \"leiden\"])\n",
    "\n",
    "# Store data to disk\n",
    "adata.write(f\"{srt_data_gold_folder_path}/{dataset}.h5ad\")"
   ]
  },
  {
   "cell_type": "markdown",
   "id": "0014d882-a9cd-4d56-ab69-b472bd811ac5",
   "metadata": {},
   "source": [
    "#### 3.3.2 Explore Data"
   ]
  },
  {
   "cell_type": "code",
   "execution_count": null,
   "id": "c700a04a-20ab-4827-8c12-73c0fbb645fb",
   "metadata": {},
   "outputs": [],
   "source": [
    "print(f\"Exploring dataset {dataset}.\")\n",
    "print(f\"Number of nodes (cells): {adata.layers['counts'].shape[0]}\")\n",
    "print(f\"Number of node features (genes): {adata.layers['counts'].shape[1]}\")\n",
    "\n",
    "# Visualize cell-level annotated data in physical space\n",
    "sq.pl.spatial_scatter(adata, color=cell_type_key, shape=None, figsize=(12, 12))"
   ]
  },
  {
   "cell_type": "markdown",
   "id": "3f9356e3-e26b-46f9-8ee6-cf746ed76662",
   "metadata": {},
   "source": [
    "### 3.4 10x Genomics Xenium Human Breast Cancer Tumor Microenvironment Dataset"
   ]
  },
  {
   "cell_type": "markdown",
   "id": "6b4c1c52-07bf-4c5e-ad0b-dd3594a307bb",
   "metadata": {},
   "source": [
    "- **Publication:** Janesick, A. et al. High resolution mapping of the breast cancer tumor microenvironment using integrated single cell, spatial and in situ analysis of FFPE tissue. bioRxiv 2022.10.06.510405 (2022). [doi:10.1101/2022.10.06.510405](https://doi.org/10.1101/2022.10.06.510405)\n",
    "- **Data Access:** https://www.10xgenomics.com/products/xenium-in-situ/preview-dataset-human-breast\n",
    "    - Feature-cell matrix (HDF5)\n",
    "    - Cell summary file (CSV) -> unpack with ```gzip -d Xenium_FFPE_Human_Breast_Cancer_z2_cells.csv.gz```\n",
    "- **Preprocessing Vignette:** https://squidpy.readthedocs.io/en/latest/external_tutorials/tutorial_xenium.html\n",
    "- **Summary**:\n",
    "    - FFPE tissue section of human breast cancer\n",
    "    - 164,079 observations on cell-level without annotations\n",
    "    - 313 probed genes"
   ]
  },
  {
   "cell_type": "code",
   "execution_count": null,
   "id": "d751fb52-7d31-45db-8176-b4d0216f1306",
   "metadata": {},
   "outputs": [],
   "source": [
    "dataset = \"10x_xenium_human_breast_cancer\"\n",
    "cell_type_key = \"leiden\""
   ]
  },
  {
   "cell_type": "markdown",
   "id": "fd9af406-07e4-4eb9-891f-dc5427fb84ef",
   "metadata": {
    "tags": []
   },
   "source": [
    "#### 3.4.1 Load & Preprocess Raw Data"
   ]
  },
  {
   "cell_type": "code",
   "execution_count": null,
   "id": "a62e1cb7-19c4-4713-be3e-5a68a2f084b1",
   "metadata": {},
   "outputs": [],
   "source": [
    "print(f\"Loading and preprocessing dataset '{dataset}'.\")\n",
    "\n",
    "# Read adata from file and add metadata\n",
    "xenium_dir = f\"{srt_data_bronze_folder_path}/xenium/\"\n",
    "adata = sc.read_10x_h5(filename=xenium_dir + \"Xenium_FFPE_Human_Breast_Cancer_z2_cell_feature_matrix.h5\")\n",
    "metadata = pd.read_csv(xenium_dir + \"Xenium_FFPE_Human_Breast_Cancer_z2_cells.csv\")\n",
    "metadata.set_index(adata.obs_names, inplace=True)\n",
    "adata.obs = metadata.copy()\n",
    "\n",
    "# Preprocess as per squidpy vignette\n",
    "adata.var_names_make_unique()\n",
    "adata.var[\"mt\"] = adata.var_names.str.startswith(\"mt-\")\n",
    "sc.pp.calculate_qc_metrics(adata, qc_vars=[\"mt\"],percent_top=(50, 100, 200, 300), inplace=True)\n",
    "sc.pp.filter_cells(adata, min_counts=10)\n",
    "sc.pp.filter_genes(adata, min_cells=5)\n",
    "\n",
    "# Store counts in `layers` and spatial coords in `obsm`\n",
    "adata.layers[\"counts\"] = adata.X.copy()\n",
    "adata.obsm[\"spatial\"] = adata.obs[[\"x_centroid\", \"y_centroid\"]].copy().to_numpy()\n",
    "\n",
    "# Store data to disk\n",
    "adata.write(f\"{srt_data_silver_folder_path}/{dataset}.h5ad\")\n",
    "\n",
    "# Determine cell annotation as per squidpy vignette\n",
    "sc.pp.normalize_total(adata, inplace=True)\n",
    "sc.pp.log1p(adata)\n",
    "sc.pp.pca(adata)\n",
    "sc.pp.neighbors(adata)\n",
    "sc.tl.umap(adata)\n",
    "sc.tl.leiden(adata)\n",
    "\n",
    "# Store data to disk\n",
    "adata.write(f\"{srt_data_gold_folder_path}/{dataset}.h5ad\")"
   ]
  },
  {
   "cell_type": "markdown",
   "id": "812ec32c-3b4f-4fb7-be9b-b50a86e1fb26",
   "metadata": {},
   "source": [
    "#### 3.4.2 Explore Data"
   ]
  },
  {
   "cell_type": "code",
   "execution_count": null,
   "id": "518ed7e8-585f-4be3-9fe0-a7debac6b24a",
   "metadata": {},
   "outputs": [],
   "source": [
    "print(f\"Exploring dataset {dataset}.\")\n",
    "print(f\"Number of nodes (cells): {adata.layers['counts'].shape[0]}\")\n",
    "print(f\"Number of node features (genes): {adata.layers['counts'].shape[1]}\")\n",
    "\n",
    "# Visualize cell-level annotated data in physical space\n",
    "sq.pl.spatial_scatter(adata, color=cell_type_key, shape=None, figsize=(12, 12))"
   ]
  },
  {
   "cell_type": "markdown",
   "id": "bac1dc9f-b243-4437-a8c5-ba4461fa89ac",
   "metadata": {},
   "source": [
    "### 3.5 EEL FISH Mouse Brain Dataset"
   ]
  },
  {
   "cell_type": "markdown",
   "id": "2f2bd4e8-42ce-4ac2-a50c-e935d2f1e9d1",
   "metadata": {},
   "source": [
    "- **Publication:** Borm, L. E. et al. Scalable in situ single-cell profiling by electrophoretic capture of mRNA using EEL FISH. Nat. Biotechnol. (2022) [doi:10.1038/s41587-022-01455-3](https://doi.org/10.1038/s41587-022-01455-3)\n",
    "- **Data Accress:** https://figshare.com/articles/dataset/EEL_Mouse_440_genes_single_cell_data/20310771\n",
    "    - LBEXP20210718_EEL_Mouse_448_2_20220512.h5ad\n",
    "- **Summary:**\n",
    "    - Sagittal mouse brain section\n",
    "    - 127,591 observations on cell-level with cluster annotations \n",
    "    - 440 genes"
   ]
  },
  {
   "cell_type": "code",
   "execution_count": null,
   "id": "ffd3bc37-c3c5-4a94-a72c-9eaf3bc729ed",
   "metadata": {},
   "outputs": [],
   "source": [
    "dataset = \"eel_fish_mouse_brain\"\n",
    "cell_type_key = \"Clusters\""
   ]
  },
  {
   "cell_type": "markdown",
   "id": "3a9850a3-923c-493f-8bec-32ddecef77c9",
   "metadata": {},
   "source": [
    "#### 3.5.1 Load & Preprocess Raw Data"
   ]
  },
  {
   "cell_type": "code",
   "execution_count": null,
   "id": "f6c3e739-b7eb-460a-87a9-cee51b287b11",
   "metadata": {},
   "outputs": [],
   "source": [
    "print(f\"Loading and preprocessing dataset '{dataset}'.\")\n",
    "    \n",
    "# Read adata from file\n",
    "eel_fish_dir = f\"{srt_data_bronze_folder_path}/eel_fish/\"\n",
    "adata = sc.read_h5ad(eel_fish_dir + \"LBEXP20210718_EEL_Mouse_448_2_20220512.h5ad\")\n",
    "\n",
    "# Store counts in `layers` and spatial coords in `obsm`\n",
    "adata.obsm[\"spatial\"] = adata.obs[[\"X\", \"Y\"]].values # smaller scale for plotting with squidpy\n",
    "adata.obs.drop(columns=[\"X\", \"Y\", \"X_um\", \"Y_um\"], inplace=True)\n",
    "adata.layers[\"counts\"] = adata.X.copy()\n",
    "\n",
    "# Store data to disk\n",
    "adata.write(f\"{srt_data_gold_folder_path}/{dataset}.h5ad\")"
   ]
  },
  {
   "cell_type": "markdown",
   "id": "63cae3b5-3555-4a4c-b226-290ecd009c1f",
   "metadata": {},
   "source": [
    "#### 3.5.2 Explore Data"
   ]
  },
  {
   "cell_type": "code",
   "execution_count": null,
   "id": "75d873ae-a207-4a0a-a6f2-8f911087831c",
   "metadata": {},
   "outputs": [],
   "source": [
    "print(f\"Exploring dataset {dataset}.\")\n",
    "print(f\"Number of nodes (cells): {adata.layers['counts'].shape[0]}\")\n",
    "print(f\"Number of node features (genes): {adata.layers['counts'].shape[1]}\")\n",
    "\n",
    "# Visualize cell-level annotated data in physical space\n",
    "sq.pl.spatial_scatter(adata, color=cell_type_key, shape=None, figsize=(12, 12))"
   ]
  },
  {
   "cell_type": "code",
   "execution_count": null,
   "id": "3aaf5648-feb0-45ba-889b-884a6bd9888a",
   "metadata": {},
   "outputs": [],
   "source": []
  }
 ],
 "metadata": {
  "kernelspec": {
   "display_name": "Python 3 (ipykernel)",
   "language": "python",
   "name": "python3"
  },
  "language_info": {
   "codemirror_mode": {
    "name": "ipython",
    "version": 3
   },
   "file_extension": ".py",
   "mimetype": "text/x-python",
   "name": "python",
   "nbconvert_exporter": "python",
   "pygments_lexer": "ipython3",
   "version": "3.9.15"
  }
 },
 "nbformat": 4,
 "nbformat_minor": 5
}
