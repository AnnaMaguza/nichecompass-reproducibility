{
 "cells": [
  {
   "cell_type": "markdown",
   "id": "1b1daabf-c8e3-43d4-aa32-9789abcc8619",
   "metadata": {},
   "source": [
    "# Autotalker Batch Integration"
   ]
  },
  {
   "cell_type": "markdown",
   "id": "c325d921-2077-42b3-90a8-6f6c7dd928c5",
   "metadata": {},
   "source": [
    "- **Creator**: Sebastian Birk (<sebastian.birk@helmholtz-munich.de>).\n",
    "- **Affiliation:** Helmholtz Munich, Institute of Computational Biology (ICB), Talavera-López Lab\n",
    "- **Date of Creation:** 20.01.2023\n",
    "- **Date of Last Modification:** 25.01.2023"
   ]
  },
  {
   "cell_type": "markdown",
   "id": "2d464ebf-354f-4f61-8040-c3dcbcc893b9",
   "metadata": {},
   "source": [
    "## 1. Setup"
   ]
  },
  {
   "cell_type": "markdown",
   "id": "d5631277-d8d2-4194-a376-280f4f149b7d",
   "metadata": {},
   "source": [
    "### 1.1 Import Libraries"
   ]
  },
  {
   "cell_type": "code",
   "execution_count": 1,
   "id": "4e5d3297-0290-47c0-846f-705e74cdb3de",
   "metadata": {},
   "outputs": [],
   "source": [
    "%load_ext autoreload\n",
    "%autoreload 2"
   ]
  },
  {
   "cell_type": "code",
   "execution_count": 2,
   "id": "8dbd4925-7505-4d01-bf91-95b54bb8b533",
   "metadata": {},
   "outputs": [],
   "source": [
    "import sys\n",
    "sys.path.append(\"../../autotalker\")"
   ]
  },
  {
   "cell_type": "code",
   "execution_count": 3,
   "id": "b4aa3c6a-5a44-4cf1-84a3-5e514457cf3c",
   "metadata": {},
   "outputs": [
    {
     "name": "stderr",
     "output_type": "stream",
     "text": [
      "/home/sbirk/miniconda3/envs/autotalker/lib/python3.9/site-packages/omnipath/_core/query/_query_validator.py:165: ResourceWarning: unclosed <ssl.SSLSocket fd=62, family=AddressFamily.AF_INET, type=SocketKind.SOCK_STREAM, proto=6, laddr=('10.209.62.242', 57144), raddr=('178.62.7.222', 443)>\n",
      "  res = Downloader(opt).maybe_download(\n",
      "ResourceWarning: Enable tracemalloc to get the object allocation traceback\n",
      "/home/sbirk/miniconda3/envs/autotalker/lib/python3.9/site-packages/omnipath/_core/query/_query_validator.py:165: ResourceWarning: unclosed <ssl.SSLSocket fd=62, family=AddressFamily.AF_INET, type=SocketKind.SOCK_STREAM, proto=6, laddr=('10.209.62.242', 57152), raddr=('178.62.7.222', 443)>\n",
      "  res = Downloader(opt).maybe_download(\n",
      "ResourceWarning: Enable tracemalloc to get the object allocation traceback\n",
      "/home/sbirk/miniconda3/envs/autotalker/lib/python3.9/site-packages/omnipath/_core/query/_query_validator.py:165: ResourceWarning: unclosed <ssl.SSLSocket fd=62, family=AddressFamily.AF_INET, type=SocketKind.SOCK_STREAM, proto=6, laddr=('10.209.62.242', 57158), raddr=('178.62.7.222', 443)>\n",
      "  res = Downloader(opt).maybe_download(\n",
      "ResourceWarning: Enable tracemalloc to get the object allocation traceback\n",
      "/home/sbirk/miniconda3/envs/autotalker/lib/python3.9/site-packages/omnipath/_core/query/_query_validator.py:165: ResourceWarning: unclosed <ssl.SSLSocket fd=62, family=AddressFamily.AF_INET, type=SocketKind.SOCK_STREAM, proto=6, laddr=('10.209.62.242', 57166), raddr=('178.62.7.222', 443)>\n",
      "  res = Downloader(opt).maybe_download(\n",
      "ResourceWarning: Enable tracemalloc to get the object allocation traceback\n",
      "/home/sbirk/miniconda3/envs/autotalker/lib/python3.9/site-packages/omnipath/_core/query/_query_validator.py:165: ResourceWarning: unclosed <ssl.SSLSocket fd=62, family=AddressFamily.AF_INET, type=SocketKind.SOCK_STREAM, proto=6, laddr=('10.209.62.242', 57180), raddr=('178.62.7.222', 443)>\n",
      "  res = Downloader(opt).maybe_download(\n",
      "ResourceWarning: Enable tracemalloc to get the object allocation traceback\n",
      "/home/sbirk/miniconda3/envs/autotalker/lib/python3.9/site-packages/omnipath/_core/downloader/_downloader.py:218: ResourceWarning: unclosed <ssl.SSLSocket fd=62, family=AddressFamily.AF_INET, type=SocketKind.SOCK_STREAM, proto=6, laddr=('10.209.62.242', 57192), raddr=('178.62.7.222', 443)>\n",
      "  return UNKNOWN_SERVER_VERSION\n",
      "ResourceWarning: Enable tracemalloc to get the object allocation traceback\n",
      "/home/sbirk/miniconda3/envs/autotalker/lib/python3.9/site-packages/umap/__init__.py:9: ImportWarning: Tensorflow not installed; ParametricUMAP will be unavailable\n",
      "  warn(\n"
     ]
    }
   ],
   "source": [
    "import argparse\n",
    "import os\n",
    "import random\n",
    "import warnings\n",
    "from copy import deepcopy\n",
    "from datetime import datetime\n",
    "\n",
    "import anndata as ad\n",
    "import matplotlib\n",
    "import matplotlib.pyplot as plt\n",
    "import mlflow\n",
    "import numpy as np\n",
    "import pandas as pd\n",
    "import scanpy as sc\n",
    "import scib\n",
    "import scipy.sparse as sp\n",
    "import seaborn as sns\n",
    "import squidpy as sq\n",
    "import torch\n",
    "from matplotlib.pyplot import rc_context\n",
    "\n",
    "from autotalker.models import Autotalker\n",
    "from autotalker.utils import (add_gps_from_gp_dict_to_adata,\n",
    "                              extract_gp_dict_from_mebocost_es_interactions,\n",
    "                              extract_gp_dict_from_nichenet_ligand_target_mx,\n",
    "                              extract_gp_dict_from_omnipath_lr_interactions,\n",
    "                              filter_and_combine_gp_dict_gps)"
   ]
  },
  {
   "cell_type": "markdown",
   "id": "9f91f345-c297-47cb-8650-c6d9c60a8b7e",
   "metadata": {},
   "source": [
    "### 1.2 Define Parameters"
   ]
  },
  {
   "cell_type": "code",
   "execution_count": 4,
   "id": "a4d4e6d9-239f-47c5-a30b-579b16d4c27c",
   "metadata": {},
   "outputs": [],
   "source": [
    "## Dataset\n",
    "dataset = \"seqfish_mouse_organogenesis\"\n",
    "batch1 = \"embryo1_rep1\"\n",
    "batch2 = \"embryo1_rep2\"\n",
    "batch3 = \"embryo2_rep1\"\n",
    "batch4 = \"embryo2_rep2\"\n",
    "batch5 = \"embryo3_rep1\"\n",
    "batch6 = \"embryo3_rep2\"\n",
    "n_neighbors = 12\n",
    "\n",
    "## Model\n",
    "# AnnData Keys\n",
    "counts_key = \"counts\"\n",
    "cell_type_key = \"celltype_mapped_refined\"\n",
    "adj_key = \"spatial_connectivities\"\n",
    "spatial_key = \"spatial\"\n",
    "gp_names_key = \"autotalker_gp_names\"\n",
    "active_gp_names_key = \"autotalker_active_gp_names\"\n",
    "gp_targets_mask_key = \"autotalker_gp_targets\"\n",
    "gp_sources_mask_key = \"autotalker_gp_sources\"\n",
    "latent_key = \"autotalker_latent\"\n",
    "condition_key = \"batch\"\n",
    "\n",
    "# Architecture\n",
    "active_gp_thresh_ratio = 0.03\n",
    "gene_expr_recon_dist = \"nb\"\n",
    "n_cond_embed = 6\n",
    "\n",
    "# Trainer\n",
    "n_epochs = 20\n",
    "n_epochs_all_gps = 10\n",
    "lr = 0.001\n",
    "lambda_edge_recon = 0.005\n",
    "lambda_gene_expr_recon = 0.002\n",
    "\n",
    "## Others\n",
    "random_seed = 42\n",
    "load_timestamp = None"
   ]
  },
  {
   "cell_type": "markdown",
   "id": "a6c3b7fa-fa59-43dd-81d2-7e116650915f",
   "metadata": {},
   "source": [
    "### 1.3 Run Notebook Setup"
   ]
  },
  {
   "cell_type": "code",
   "execution_count": 5,
   "id": "924032d4-24a4-45cf-87e1-0eba197da0c2",
   "metadata": {},
   "outputs": [],
   "source": [
    "# Ignore future warnings and user warnings\n",
    "warnings.simplefilter(action=\"ignore\", category=FutureWarning)\n",
    "warnings.simplefilter(action=\"ignore\", category=UserWarning)"
   ]
  },
  {
   "cell_type": "code",
   "execution_count": 6,
   "id": "ab22fbaf-aeed-464b-8a20-b640b9e055fd",
   "metadata": {},
   "outputs": [],
   "source": [
    "# Get time of notebook execution for timestamping saved artifacts\n",
    "now = datetime.now()\n",
    "current_timestamp = now.strftime(\"%d%m%Y_%H%M%S\")"
   ]
  },
  {
   "cell_type": "markdown",
   "id": "2b886225-6b6d-433c-b117-47b9a8f8091f",
   "metadata": {},
   "source": [
    "### 1.4 Configure Paths and Create Directories"
   ]
  },
  {
   "cell_type": "code",
   "execution_count": 7,
   "id": "36675337-808d-40a9-93fc-d6cfa9473f66",
   "metadata": {},
   "outputs": [],
   "source": [
    "# Define paths\n",
    "figure_folder_path = f\"../figures/{dataset}/batch_integration/{current_timestamp}\"\n",
    "model_artifacts_folder_path = f\"../artifacts/{dataset}/batch_integration/{current_timestamp}\"\n",
    "gp_data_folder_path = \"../datasets/gp_data\" # gene program data\n",
    "srt_data_folder_path = \"../datasets/srt_data\" # spatially resolved transcriptomics data\n",
    "srt_data_gold_folder_path = f\"{srt_data_folder_path}/gold\"\n",
    "nichenet_ligand_target_mx_file_path = gp_data_folder_path + \"/nichenet_ligand_target_matrix.csv\"\n",
    "omnipath_lr_interactions_file_path = gp_data_folder_path + \"/omnipath_lr_interactions.csv\"\n",
    "\n",
    "# Create required directories\n",
    "os.makedirs(figure_folder_path, exist_ok=True)\n",
    "os.makedirs(model_artifacts_folder_path, exist_ok=True)"
   ]
  },
  {
   "cell_type": "markdown",
   "id": "fd883193-8aa9-4809-aeac-cacb478df22b",
   "metadata": {
    "tags": []
   },
   "source": [
    "## 2. Data"
   ]
  },
  {
   "cell_type": "markdown",
   "id": "049f6853-5dc1-4b68-9240-c4b6a00f1514",
   "metadata": {},
   "source": [
    "### 2.1 Load Data & Compute Spatial Neighbor Graph"
   ]
  },
  {
   "cell_type": "code",
   "execution_count": 8,
   "id": "e9be7111-01fc-451a-83c2-5e20eccafbc1",
   "metadata": {},
   "outputs": [],
   "source": [
    "adata_batch1 = ad.read_h5ad(f\"{srt_data_gold_folder_path}/{dataset}_{batch1}.h5ad\")\n",
    "adata_batch2 = ad.read_h5ad(f\"{srt_data_gold_folder_path}/{dataset}_{batch2}.h5ad\")\n",
    "adata_batch3 = ad.read_h5ad(f\"{srt_data_gold_folder_path}/{dataset}_{batch3}.h5ad\")\n",
    "adata_batch4 = ad.read_h5ad(f\"{srt_data_gold_folder_path}/{dataset}_{batch4}.h5ad\")\n",
    "adata_batch5 = ad.read_h5ad(f\"{srt_data_gold_folder_path}/{dataset}_{batch5}.h5ad\")\n",
    "adata_batch6 = ad.read_h5ad(f\"{srt_data_gold_folder_path}/{dataset}_{batch6}.h5ad\")\n",
    "\n",
    "adata_batch_list = [adata_batch1,\n",
    "                    adata_batch2,\n",
    "                    adata_batch3,\n",
    "                    adata_batch4,\n",
    "                    adata_batch5,\n",
    "                    adata_batch6]"
   ]
  },
  {
   "cell_type": "code",
   "execution_count": 9,
   "id": "ada889e3-9efd-4371-af10-1c17c68be3cc",
   "metadata": {},
   "outputs": [],
   "source": [
    "for adata_batch in adata_batch_list:\n",
    "    # Compute (separate) spatial neighborhood\n",
    "    sq.gr.spatial_neighbors(adata_batch,\n",
    "                            coord_type=\"generic\",\n",
    "                            spatial_key=spatial_key,\n",
    "                            n_neighs=n_neighbors)\n",
    "    # Make adjacency matrix symmetric\n",
    "    adata_batch.obsp[\"spatial_connectivities\"] = adata_batch.obsp[\"spatial_connectivities\"].maximum(\n",
    "        adata_batch.obsp[\"spatial_connectivities\"].T)"
   ]
  },
  {
   "cell_type": "markdown",
   "id": "e6a855d6-4208-4716-b58f-b7e368f82499",
   "metadata": {},
   "source": [
    "### 2.2 Combine Data for One-Shot Batch Integration"
   ]
  },
  {
   "cell_type": "code",
   "execution_count": 10,
   "id": "47d37571-3e06-41f0-b2c3-ecb5c191b396",
   "metadata": {},
   "outputs": [],
   "source": [
    "adata_one_shot = ad.concat(adata_batch_list, join=\"inner\")\n",
    "\n",
    "# Combine spatial neighborhood graphs as disconnected components\n",
    "connectivities_extension_batch1 = sp.csr_matrix((adata_batch1.shape[0],\n",
    "                                                 (adata_batch2.shape[0] +\n",
    "                                                  adata_batch3.shape[0] +\n",
    "                                                  adata_batch4.shape[0] +\n",
    "                                                  adata_batch5.shape[0] +\n",
    "                                                  adata_batch6.shape[0])))\n",
    "connectivities_extension_batch2_before = sp.csr_matrix((adata_batch2.shape[0],\n",
    "                                                        adata_batch1.shape[0]))\n",
    "connectivities_extension_batch2_after = sp.csr_matrix((adata_batch2.shape[0],\n",
    "                                                       (adata_batch3.shape[0] +\n",
    "                                                        adata_batch4.shape[0] +\n",
    "                                                        adata_batch5.shape[0] +\n",
    "                                                        adata_batch6.shape[0])))\n",
    "connectivities_extension_batch3_before = sp.csr_matrix((adata_batch3.shape[0],\n",
    "                                                        (adata_batch1.shape[0] +\n",
    "                                                         adata_batch2.shape[0])))\n",
    "connectivities_extension_batch3_after = sp.csr_matrix((adata_batch3.shape[0],\n",
    "                                                       (adata_batch4.shape[0] +\n",
    "                                                        adata_batch5.shape[0] +\n",
    "                                                        adata_batch6.shape[0])))\n",
    "connectivities_extension_batch4_before = sp.csr_matrix((adata_batch4.shape[0],\n",
    "                                                        (adata_batch1.shape[0] +\n",
    "                                                         adata_batch2.shape[0] +\n",
    "                                                         adata_batch3.shape[0])))\n",
    "connectivities_extension_batch4_after = sp.csr_matrix((adata_batch4.shape[0],\n",
    "                                                       (adata_batch5.shape[0] +\n",
    "                                                        adata_batch6.shape[0])))\n",
    "connectivities_extension_batch5_before = sp.csr_matrix((adata_batch5.shape[0],\n",
    "                                                        (adata_batch1.shape[0] +\n",
    "                                                         adata_batch2.shape[0] +\n",
    "                                                         adata_batch3.shape[0] +\n",
    "                                                         adata_batch4.shape[0])))\n",
    "connectivities_extension_batch5_after = sp.csr_matrix((adata_batch5.shape[0],\n",
    "                                                       adata_batch6.shape[0]))\n",
    "connectivities_extension_batch6 = sp.csr_matrix((adata_batch6.shape[0],\n",
    "                                                 (adata_batch1.shape[0] +\n",
    "                                                  adata_batch2.shape[0] +\n",
    "                                                  adata_batch3.shape[0] +\n",
    "                                                  adata_batch4.shape[0] +\n",
    "                                                  adata_batch5.shape[0])))\n",
    "\n",
    "connectivities_batch1 = sp.hstack((adata_batch1.obsp[\"spatial_connectivities\"],\n",
    "                                   connectivities_extension_batch1))\n",
    "connectivities_batch2 = sp.hstack((connectivities_extension_batch2_before,\n",
    "                                   adata_batch2.obsp[\"spatial_connectivities\"],\n",
    "                                   connectivities_extension_batch2_after))\n",
    "connectivities_batch3 = sp.hstack((connectivities_extension_batch3_before,\n",
    "                                   adata_batch3.obsp[\"spatial_connectivities\"],\n",
    "                                   connectivities_extension_batch3_after))\n",
    "connectivities_batch4 = sp.hstack((connectivities_extension_batch4_before,\n",
    "                                   adata_batch4.obsp[\"spatial_connectivities\"],\n",
    "                                   connectivities_extension_batch4_after))\n",
    "connectivities_batch5 = sp.hstack((connectivities_extension_batch5_before,\n",
    "                                   adata_batch5.obsp[\"spatial_connectivities\"],\n",
    "                                   connectivities_extension_batch5_after))\n",
    "connectivities_batch6 = sp.hstack((connectivities_extension_batch6,\n",
    "                                   adata_batch6.obsp[\"spatial_connectivities\"]))\n",
    "\n",
    "connectivities = sp.vstack((connectivities_batch1,\n",
    "                            connectivities_batch2,\n",
    "                            connectivities_batch3,\n",
    "                            connectivities_batch4,\n",
    "                            connectivities_batch5,\n",
    "                            connectivities_batch6))\n",
    "\n",
    "adata_one_shot.obsp[\"spatial_connectivities\"] = connectivities"
   ]
  },
  {
   "cell_type": "markdown",
   "id": "2f7906f1-9e00-45ea-b6b0-25807b85f806",
   "metadata": {},
   "source": [
    "### 2.3 Combine Data for Query-to-Reference Mapping"
   ]
  },
  {
   "cell_type": "code",
   "execution_count": 11,
   "id": "118d6d1b-e8ab-48c0-89e5-1b056740e0cd",
   "metadata": {},
   "outputs": [],
   "source": [
    "adata_reference = ad.concat(adata_batch_list[:-2], join=\"inner\")\n",
    "\n",
    "# Combine spatial neighborhood graphs as disconnected components\n",
    "connectivities_extension_batch1 = sp.csr_matrix((adata_batch1.shape[0],\n",
    "                                                 (adata_batch2.shape[0] +\n",
    "                                                  adata_batch3.shape[0] +\n",
    "                                                  adata_batch4.shape[0])))\n",
    "connectivities_extension_batch2_before = sp.csr_matrix((adata_batch2.shape[0],\n",
    "                                                        adata_batch1.shape[0]))\n",
    "connectivities_extension_batch2_after = sp.csr_matrix((adata_batch2.shape[0],\n",
    "                                                       (adata_batch3.shape[0] +\n",
    "                                                        adata_batch4.shape[0])))\n",
    "connectivities_extension_batch3_before = sp.csr_matrix((adata_batch3.shape[0],\n",
    "                                                        (adata_batch1.shape[0] +\n",
    "                                                         adata_batch2.shape[0])))\n",
    "connectivities_extension_batch3_after = sp.csr_matrix((adata_batch3.shape[0],\n",
    "                                                       (adata_batch4.shape[0])))\n",
    "connectivities_extension_batch4 = sp.csr_matrix((adata_batch4.shape[0],\n",
    "                                                 (adata_batch1.shape[0] +\n",
    "                                                  adata_batch2.shape[0] +\n",
    "                                                  adata_batch3.shape[0])))\n",
    "\n",
    "connectivities_batch1 = sp.hstack((adata_batch1.obsp[\"spatial_connectivities\"],\n",
    "                                   connectivities_extension_batch1))\n",
    "connectivities_batch2 = sp.hstack((connectivities_extension_batch2_before,\n",
    "                                   adata_batch2.obsp[\"spatial_connectivities\"],\n",
    "                                   connectivities_extension_batch2_after))\n",
    "connectivities_batch3 = sp.hstack((connectivities_extension_batch3_before,\n",
    "                                   adata_batch3.obsp[\"spatial_connectivities\"],\n",
    "                                   connectivities_extension_batch3_after))\n",
    "connectivities_batch4 = sp.hstack((connectivities_extension_batch4,\n",
    "                                   adata_batch4.obsp[\"spatial_connectivities\"]))\n",
    "\n",
    "connectivities = sp.vstack((connectivities_batch1,\n",
    "                            connectivities_batch2,\n",
    "                            connectivities_batch3,\n",
    "                            connectivities_batch4))\n",
    "\n",
    "adata_reference.obsp[\"spatial_connectivities\"] = connectivities\n",
    "\n",
    "adata_query = adata_batch_list[-1]"
   ]
  },
  {
   "cell_type": "code",
   "execution_count": 12,
   "id": "89939f22-c6ee-4901-8c55-47c23b6f7f85",
   "metadata": {},
   "outputs": [],
   "source": [
    "adata_reference_query_list = [adata_reference, adata_query]\n",
    "\n",
    "adata_reference_query = ad.concat(adata_reference_query_list, join=\"inner\")\n",
    "\n",
    "# Combine spatial neighborhood graphs as disconnected components\n",
    "connectivities_extension_adata_reference = sp.csr_matrix((adata_reference.shape[0],\n",
    "                                                          (adata_query.shape[0])))\n",
    "connectivities_extension_adata_query = sp.csr_matrix((adata_query.shape[0],\n",
    "                                                      (adata_reference.shape[0])))\n",
    "\n",
    "connectivities_adata_reference = sp.hstack((adata_reference.obsp[\"spatial_connectivities\"],\n",
    "                                           connectivities_extension_adata_reference))\n",
    "connectivities_adata_query = sp.hstack((connectivities_extension_adata_query,\n",
    "                                       adata_query.obsp[\"spatial_connectivities\"]))\n",
    "\n",
    "adata_reference_query.obsp[\"spatial_connectivities\"] = sp.vstack((connectivities_adata_reference,\n",
    "                                                                  connectivities_adata_query))"
   ]
  },
  {
   "cell_type": "markdown",
   "id": "1f53d723-4fd7-49dc-844b-58cf8b9585a2",
   "metadata": {},
   "source": [
    "## 3. Autotalker Model"
   ]
  },
  {
   "cell_type": "markdown",
   "id": "2677924a-2550-45ca-b18c-35039aee1d44",
   "metadata": {},
   "source": [
    "### 3.1 Prepare Gene Program Mask"
   ]
  },
  {
   "cell_type": "code",
   "execution_count": 13,
   "id": "ce3d2721-7054-4761-8032-e1641c2523a3",
   "metadata": {},
   "outputs": [],
   "source": [
    "nichenet_gp_dict = extract_gp_dict_from_nichenet_ligand_target_mx(\n",
    "    keep_target_ratio=0.01,\n",
    "    load_from_disk=True,\n",
    "    save_to_disk=False,\n",
    "    file_path=nichenet_ligand_target_mx_file_path)"
   ]
  },
  {
   "cell_type": "code",
   "execution_count": 14,
   "id": "5c9d262a-f54a-40bc-aa63-eb6f42a28886",
   "metadata": {},
   "outputs": [],
   "source": [
    "omnipath_gp_dict = extract_gp_dict_from_omnipath_lr_interactions(\n",
    "    min_curation_effort=0,\n",
    "    load_from_disk=False,\n",
    "    save_to_disk=True,\n",
    "    file_path=omnipath_lr_interactions_file_path)"
   ]
  },
  {
   "cell_type": "code",
   "execution_count": 15,
   "id": "ae0f307d-68f8-4003-89bc-b9ded45569a9",
   "metadata": {},
   "outputs": [],
   "source": [
    "mebocost_gp_dict = extract_gp_dict_from_mebocost_es_interactions(\n",
    "    dir_path=f\"{gp_data_folder_path}/metabolite_enzyme_sensor_gps/\",\n",
    "    species=\"mouse\",\n",
    "    genes_uppercase=True)"
   ]
  },
  {
   "cell_type": "code",
   "execution_count": 16,
   "id": "85b8c216-c3e0-43bb-8de6-24796912dd67",
   "metadata": {},
   "outputs": [],
   "source": [
    "# Combine gene programs into one dictionary\n",
    "combined_gp_dict = dict(nichenet_gp_dict)\n",
    "combined_gp_dict.update(omnipath_gp_dict)\n",
    "combined_gp_dict.update(mebocost_gp_dict)"
   ]
  },
  {
   "cell_type": "code",
   "execution_count": 17,
   "id": "cdc8cb30-2ad9-4903-9a8d-4deb60ffcbbb",
   "metadata": {},
   "outputs": [
    {
     "name": "stdout",
     "output_type": "stream",
     "text": [
      "Removing GP 'CTF1_ligand_receptor_GP' as it is a subset of GP 'CTF1_ligand_targetgenes_GP'.\n",
      "Removing GP 'LEP_ligand_receptor_GP' as it is a subset of GP 'LEP_ligand_targetgenes_GP'.\n",
      "Removing GP 'IL4_ligand_receptor_GP' as it is a subset of GP 'IL4_ligand_targetgenes_GP'.\n",
      "Removing GP 'IL12A_ligand_receptor_GP' as it is a subset of GP 'IL12A_ligand_targetgenes_GP'.\n",
      "Removing GP 'IL23A_ligand_receptor_GP' as it is a subset of GP 'IL23A_ligand_targetgenes_GP'.\n",
      "Removing GP 'CSF2_ligand_receptor_GP' as it is a subset of GP 'CSF2_ligand_targetgenes_GP'.\n",
      "Removing GP 'IL21_ligand_receptor_GP' as it is a subset of GP 'IL21_ligand_targetgenes_GP'.\n",
      "Removing GP 'TSLP_ligand_receptor_GP' as it is a subset of GP 'TSLP_ligand_targetgenes_GP'.\n",
      "Removing GP 'GH2_ligand_receptor_GP' as it is a subset of GP 'GH2_ligand_targetgenes_GP'.\n",
      "Removing GP 'EGF_ligand_receptor_GP' as it is a subset of GP 'EGF_ligand_targetgenes_GP'.\n",
      "Removing GP 'IL10_ligand_receptor_GP' as it is a subset of GP 'IL10_ligand_targetgenes_GP'.\n",
      "Removing GP 'TNFSF4_ligand_receptor_GP' as it is a subset of GP 'TNFSF4_ligand_targetgenes_GP'.\n",
      "Removing GP 'TNFSF18_ligand_receptor_GP' as it is a subset of GP 'TNFSF18_ligand_targetgenes_GP'.\n",
      "Removing GP 'TGFB1_ligand_receptor_GP' as it is a subset of GP 'TGFB1_ligand_targetgenes_GP'.\n",
      "Removing GP 'BMP2_ligand_receptor_GP' as it is a subset of GP 'BMP2_ligand_targetgenes_GP'.\n",
      "Removing GP 'IL1B_ligand_receptor_GP' as it is a subset of GP 'IL1B_ligand_targetgenes_GP'.\n",
      "Removing GP 'CSH1_ligand_receptor_GP' as it is a subset of GP 'CSH1_ligand_targetgenes_GP'.\n",
      "Removing GP 'EDN1_ligand_receptor_GP' as it is a subset of GP 'EDN1_ligand_targetgenes_GP'.\n",
      "Removing GP 'EDN3_ligand_receptor_GP' as it is a subset of GP 'EDN3_ligand_targetgenes_GP'.\n",
      "Removing GP 'GCG_ligand_receptor_GP' as it is a subset of GP 'GCG_ligand_targetgenes_GP'.\n",
      "Removing GP 'HCRT_ligand_receptor_GP' as it is a subset of GP 'HCRT_ligand_targetgenes_GP'.\n",
      "Removing GP 'IGF1_ligand_receptor_GP' as it is a subset of GP 'IGF1_ligand_targetgenes_GP'.\n",
      "Removing GP 'GRP_ligand_receptor_GP' as it is a subset of GP 'GRP_ligand_targetgenes_GP'.\n",
      "Removing GP 'NTF3_ligand_receptor_GP' as it is a subset of GP 'NTF3_ligand_targetgenes_GP'.\n",
      "Removing GP 'AVP_ligand_receptor_GP' as it is a subset of GP 'AVP_ligand_targetgenes_GP'.\n",
      "Removing GP 'CSHL1_ligand_receptor_GP' as it is a subset of GP 'CSHL1_ligand_targetgenes_GP'.\n",
      "Removing GP 'PROK1_ligand_receptor_GP' as it is a subset of GP 'PROK1_ligand_targetgenes_GP'.\n",
      "Removing GP 'AGT_ligand_receptor_GP' as it is a subset of GP 'AGT_ligand_targetgenes_GP'.\n",
      "Removing GP 'GHRH_ligand_receptor_GP' as it is a subset of GP 'GHRH_ligand_targetgenes_GP'.\n",
      "Removing GP 'DLL3_ligand_receptor_GP' as it is a subset of GP 'DLL3_ligand_targetgenes_GP'.\n",
      "Removing GP 'DLL4_ligand_receptor_GP' as it is a subset of GP 'DLL4_ligand_targetgenes_GP'.\n",
      "Removing GP 'FGF23_ligand_receptor_GP' as it is a subset of GP 'FGF23_ligand_targetgenes_GP'.\n",
      "Removing GP 'GDF6_ligand_receptor_GP' as it is a subset of GP 'GDF6_ligand_targetgenes_GP'.\n",
      "Removing GP 'GDF9_ligand_receptor_GP' as it is a subset of GP 'GDF9_ligand_targetgenes_GP'.\n",
      "Removing GP 'IL12B_ligand_receptor_GP' as it is a subset of GP 'IL12B_ligand_targetgenes_GP'.\n",
      "Removing GP 'JAG1_ligand_receptor_GP' as it is a subset of GP 'JAG1_ligand_targetgenes_GP'.\n",
      "Removing GP 'CRLF1_ligand_receptor_GP' as it is a subset of GP 'CRLF1_ligand_targetgenes_GP'.\n",
      "Removing GP 'VGF_ligand_receptor_GP' as it is a subset of GP 'VGF_ligand_targetgenes_GP'.\n",
      "Removing GP 'IL27_ligand_receptor_GP' as it is a subset of GP 'IL27_ligand_targetgenes_GP'.\n",
      "Removing GP 'CMTM8_ligand_receptor_GP' as it is a subset of GP 'CMTM8_ligand_targetgenes_GP'.\n",
      "Removing GP 'SECTM1_ligand_receptor_GP' as it is a subset of GP 'SECTM1_ligand_targetgenes_GP'.\n",
      "Removing GP 'CMTM2_ligand_receptor_GP' as it is a subset of GP 'CMTM2_ligand_targetgenes_GP'.\n",
      "Removing GP 'BMP8A_ligand_receptor_GP' as it is a subset of GP 'BMP8A_ligand_targetgenes_GP'.\n",
      "Removing GP 'GDF3_ligand_receptor_GP' as it is a subset of GP 'GDF3_ligand_targetgenes_GP'.\n",
      "Removing GP 'EFNB3_ligand_targetgenes_GP' as it is a subset of GP 'EFNB3_ligand_receptor_GP'.\n",
      "Removing GP 'EFNB2_ligand_targetgenes_GP' as it is a subset of GP 'EFNB2_ligand_receptor_GP'.\n",
      "Removing GP 'EFNB1_ligand_targetgenes_GP' as it is a subset of GP 'EFNB1_ligand_receptor_GP'.\n",
      "Removing GP 'CCL23_ligand_targetgenes_GP' as it is a subset of GP 'CCL23_ligand_receptor_GP'.\n",
      "Removing GP 'CCL27_ligand_targetgenes_GP' as it is a subset of GP 'CCL27_ligand_receptor_GP'.\n",
      "Removing GP 'CCL28_ligand_targetgenes_GP' as it is a subset of GP 'CCL28_ligand_receptor_GP'.\n",
      "Removing GP 'CCL16_ligand_targetgenes_GP' as it is a subset of GP 'CCL16_ligand_receptor_GP'.\n",
      "Removing GP 'CXCL5_ligand_targetgenes_GP' as it is a subset of GP 'CXCL5_ligand_receptor_GP'.\n",
      "Removing GP 'PMCH_ligand_targetgenes_GP' as it is a subset of GP 'PMCH_ligand_receptor_GP'.\n",
      "Removing GP 'NMS_ligand_targetgenes_GP' as it is a subset of GP 'NMS_ligand_receptor_GP'.\n",
      "Removing GP 'NMU_ligand_targetgenes_GP' as it is a subset of GP 'NMU_ligand_receptor_GP'.\n",
      "Removing GP 'NPB_ligand_targetgenes_GP' as it is a subset of GP 'NPB_ligand_receptor_GP'.\n",
      "Removing GP 'NPW_ligand_targetgenes_GP' as it is a subset of GP 'NPW_ligand_receptor_GP'.\n",
      "Removing GP 'RLN3_ligand_targetgenes_GP' as it is a subset of GP 'RLN3_ligand_receptor_GP'.\n",
      "Removing GP 'PYY_ligand_targetgenes_GP' as it is a subset of GP 'PYY_ligand_receptor_GP'.\n",
      "Removing GP 'PPY_ligand_targetgenes_GP' as it is a subset of GP 'PPY_ligand_receptor_GP'.\n",
      "Removing GP 'NRG3_ligand_targetgenes_GP' as it is a subset of GP 'NRG3_ligand_receptor_GP'.\n",
      "Removing GP 'NRG4_ligand_targetgenes_GP' as it is a subset of GP 'NRG4_ligand_receptor_GP'.\n",
      "Removing GP 'FGF22_ligand_targetgenes_GP' as it is a subset of GP 'FGF22_ligand_receptor_GP'.\n",
      "Removing GP 'FGF13_ligand_targetgenes_GP' as it is a subset of GP 'FGF13_ligand_receptor_GP'.\n",
      "Removing GP 'FGF11_ligand_targetgenes_GP' as it is a subset of GP 'FGF11_ligand_receptor_GP'.\n",
      "Removing GP 'FGF14_ligand_targetgenes_GP' as it is a subset of GP 'FGF14_ligand_receptor_GP'.\n",
      "Removing GP 'PODXL2_ligand_targetgenes_GP' as it is a subset of GP 'PODXL2_ligand_receptor_GP'.\n",
      "Removing GP 'ADM2_ligand_targetgenes_GP' as it is a subset of GP 'ADM2_ligand_receptor_GP'.\n",
      "Removing GP 'APOB_ligand_targetgenes_GP' as it is a subset of GP 'APOB_ligand_receptor_GP'.\n",
      "Removing GP 'NPS_ligand_targetgenes_GP' as it is a subset of GP 'NPS_ligand_receptor_GP'.\n",
      "Removing GP 'PTH2_ligand_targetgenes_GP' as it is a subset of GP 'PTH2_ligand_receptor_GP'.\n",
      "Removing GP 'INSL3_ligand_targetgenes_GP' as it is a subset of GP 'INSL3_ligand_receptor_GP'.\n",
      "Removing GP 'NECTIN3_ligand_targetgenes_GP' as it is a subset of GP 'NECTIN3_ligand_receptor_GP'.\n",
      "Removing GP 'LAMA1_ligand_targetgenes_GP' as it is a subset of GP 'LAMA1_ligand_receptor_GP'.\n",
      "Removing GP 'WNT9A_ligand_targetgenes_GP' as it is a subset of GP 'WNT9A_ligand_receptor_GP'.\n",
      "Removing GP 'WNT9B_ligand_targetgenes_GP' as it is a subset of GP 'WNT9B_ligand_receptor_GP'.\n",
      "Removing GP 'WNT3_ligand_targetgenes_GP' as it is a subset of GP 'WNT3_ligand_receptor_GP'.\n",
      "Removing GP 'SOST_ligand_targetgenes_GP' as it is a subset of GP 'SOST_ligand_receptor_GP'.\n",
      "Removing GP 'EFNA1_ligand_targetgenes_GP' as it is a subset of GP 'EFNA1_ligand_receptor_GP'.\n",
      "Removing GP 'EFNA2_ligand_targetgenes_GP' as it is a subset of GP 'EFNA2_ligand_receptor_GP'.\n",
      "Removing GP 'EFNA3_ligand_targetgenes_GP' as it is a subset of GP 'EFNA3_ligand_receptor_GP'.\n",
      "Removing GP 'CCL22_ligand_targetgenes_GP' as it is a subset of GP 'CCL22_ligand_receptor_GP'.\n",
      "Removing GP 'NRG2_ligand_targetgenes_GP' as it is a subset of GP 'NRG2_ligand_receptor_GP'.\n",
      "Removing GP 'LAMC2_ligand_targetgenes_GP' as it is a subset of GP 'LAMC2_ligand_receptor_GP'.\n",
      "Removing GP 'ICAM5_ligand_targetgenes_GP' as it is a subset of GP 'ICAM5_ligand_receptor_GP'.\n",
      "Removing GP 'COMP_ligand_targetgenes_GP' as it is a subset of GP 'COMP_ligand_receptor_GP'.\n",
      "Removing GP 'CHAD_ligand_targetgenes_GP' as it is a subset of GP 'CHAD_ligand_receptor_GP'.\n",
      "Removing GP 'THBS4_ligand_targetgenes_GP' as it is a subset of GP 'THBS4_ligand_receptor_GP'.\n",
      "Removing GP 'SEMA7A_ligand_targetgenes_GP' as it is a subset of GP 'SEMA7A_ligand_receptor_GP'.\n",
      "Removing GP 'CCL8_ligand_targetgenes_GP' as it is a subset of GP 'CCL8_ligand_receptor_GP'.\n",
      "Removing GP 'CCL7_ligand_targetgenes_GP' as it is a subset of GP 'CCL7_ligand_receptor_GP'.\n",
      "Removing GP 'XCL1_ligand_targetgenes_GP' as it is a subset of GP 'XCL1_ligand_receptor_GP'.\n",
      "Removing GP 'CCL4L1_ligand_targetgenes_GP' as it is a subset of GP 'CCL4L1_ligand_receptor_GP'.\n",
      "Removing GP 'COPA_ligand_targetgenes_GP' as it is a subset of GP 'COPA_ligand_receptor_GP'.\n",
      "Removing GP 'GUCA2A_ligand_targetgenes_GP' as it is a subset of GP 'GUCA2A_ligand_receptor_GP'.\n",
      "Removing GP 'GUCA2B_ligand_targetgenes_GP' as it is a subset of GP 'GUCA2B_ligand_receptor_GP'.\n",
      "Removing GP 'NTN4_ligand_targetgenes_GP' as it is a subset of GP 'NTN4_ligand_receptor_GP'.\n",
      "Removing GP 'CD99_ligand_targetgenes_GP' as it is a subset of GP 'CD99_ligand_receptor_GP'.\n",
      "Removing GP 'SEMA3C_ligand_targetgenes_GP' as it is a subset of GP 'SEMA3C_ligand_receptor_GP'.\n",
      "Removing GP 'NECTIN2_ligand_targetgenes_GP' as it is a subset of GP 'NECTIN2_ligand_receptor_GP'.\n",
      "Removing GP 'HLA-B_ligand_targetgenes_GP' as it is a subset of GP 'HLA-B_ligand_receptor_GP'.\n",
      "Removing GP 'HLA-C_ligand_targetgenes_GP' as it is a subset of GP 'HLA-C_ligand_receptor_GP'.\n",
      "Removing GP 'CNTN1_ligand_targetgenes_GP' as it is a subset of GP 'CNTN1_ligand_receptor_GP'.\n",
      "Removing GP 'SEMA3F_ligand_targetgenes_GP' as it is a subset of GP 'SEMA3F_ligand_receptor_GP'.\n",
      "Removing GP 'FAM3C_ligand_targetgenes_GP' as it is a subset of GP 'FAM3C_ligand_receptor_GP'.\n",
      "Removing GP 'ULBP2_ligand_targetgenes_GP' as it is a subset of GP 'ULBP2_ligand_receptor_GP'.\n",
      "Removing GP 'GPHA2_ligand_targetgenes_GP' as it is a subset of GP 'GPHA2_ligand_receptor_GP'.\n",
      "Removing GP 'FLRT3_ligand_targetgenes_GP' as it is a subset of GP 'FLRT3_ligand_receptor_GP'.\n",
      "Removing GP 'PRND_ligand_targetgenes_GP' as it is a subset of GP 'PRND_ligand_receptor_GP'.\n",
      "Removing GP 'NDP_ligand_targetgenes_GP' as it is a subset of GP 'NDP_ligand_receptor_GP'.\n",
      "Removing GP 'RSPO2_ligand_targetgenes_GP' as it is a subset of GP 'RSPO2_ligand_receptor_GP'.\n",
      "Removing GP 'RSPO4_ligand_targetgenes_GP' as it is a subset of GP 'RSPO4_ligand_receptor_GP'.\n",
      "Removing GP 'NTN3_ligand_targetgenes_GP' as it is a subset of GP 'NTN3_ligand_receptor_GP'.\n",
      "Removing GP 'DHH_ligand_targetgenes_GP' as it is a subset of GP 'DHH_ligand_receptor_GP'.\n",
      "Removing GP 'DSC1_ligand_targetgenes_GP' as it is a subset of GP 'DSC1_ligand_receptor_GP'.\n",
      "Removing GP 'DSC2_ligand_targetgenes_GP' as it is a subset of GP 'DSC2_ligand_receptor_GP'.\n",
      "Removing GP 'NLGN2_ligand_targetgenes_GP' as it is a subset of GP 'NLGN2_ligand_receptor_GP'.\n",
      "Removing GP 'NXPH1_ligand_targetgenes_GP' as it is a subset of GP 'NXPH1_ligand_receptor_GP'.\n",
      "Removing GP 'NPFF_ligand_targetgenes_GP' as it is a subset of GP 'NPFF_ligand_receptor_GP'.\n",
      "Removing GP 'TAC3_ligand_targetgenes_GP' as it is a subset of GP 'TAC3_ligand_receptor_GP'.\n",
      "Removing GP 'TAC4_ligand_targetgenes_GP' as it is a subset of GP 'TAC4_ligand_receptor_GP'.\n",
      "Removing GP 'NMB_ligand_targetgenes_GP' as it is a subset of GP 'NMB_ligand_receptor_GP'.\n",
      "Removing GP 'GALP_ligand_targetgenes_GP' as it is a subset of GP 'GALP_ligand_receptor_GP'.\n",
      "Removing GP 'MLN_ligand_targetgenes_GP' as it is a subset of GP 'MLN_ligand_receptor_GP'.\n",
      "Removing GP 'IL17B_ligand_targetgenes_GP' as it is a subset of GP 'IL17B_ligand_receptor_GP'.\n",
      "Removing GP 'QRFP_ligand_targetgenes_GP' as it is a subset of GP 'QRFP_ligand_receptor_GP'.\n",
      "Removing GP 'TXLNA_ligand_targetgenes_GP' as it is a subset of GP 'TXLNA_ligand_receptor_GP'.\n",
      "Removing GP 'Deoxyinosine_metabolite_enzyme_sensor_GP' as it is a subset of GP 'Adenosine_metabolite_enzyme_sensor_GP'.\n",
      "Removing GP 'Deoxyadenosine_metabolite_enzyme_sensor_GP' as it is a subset of GP 'Adenosine_metabolite_enzyme_sensor_GP'.\n",
      "Removing GP 'Guanosine_metabolite_enzyme_sensor_GP' as it is a subset of GP 'Adenosine_metabolite_enzyme_sensor_GP'.\n",
      "Removing GP 'Inosine_metabolite_enzyme_sensor_GP' as it is a subset of GP 'Adenosine_metabolite_enzyme_sensor_GP'.\n",
      "Removing GP 'Corticosterone_metabolite_enzyme_sensor_GP' as it is a subset of GP 'Cortisol_metabolite_enzyme_sensor_GP'.\n",
      "Removing GP 'Deoxyinosine_metabolite_enzyme_sensor_GP' as it is a subset of GP 'Deoxyadenosine_metabolite_enzyme_sensor_GP'.\n",
      "Removing GP 'D-Galactose_metabolite_enzyme_sensor_GP' as it is a subset of GP 'D-Glucose_metabolite_enzyme_sensor_GP'.\n",
      "Removing GP 'D-Maltose_metabolite_enzyme_sensor_GP' as it is a subset of GP 'D-Glucose_metabolite_enzyme_sensor_GP'.\n",
      "Removing GP 'Estriol_metabolite_enzyme_sensor_GP' as it is a subset of GP 'Estrone_metabolite_enzyme_sensor_GP'.\n",
      "Removing GP 'Estriol_metabolite_enzyme_sensor_GP' as it is a subset of GP 'Estradiol_metabolite_enzyme_sensor_GP'.\n",
      "Removing GP 'L-Dopa_metabolite_enzyme_sensor_GP' as it is a subset of GP 'L-Tyrosine_metabolite_enzyme_sensor_GP'.\n",
      "Removing GP 'Deoxyinosine_metabolite_enzyme_sensor_GP' as it is a subset of GP 'Inosine_metabolite_enzyme_sensor_GP'.\n",
      "Removing GP 'Deoxyadenosine_metabolite_enzyme_sensor_GP' as it is a subset of GP 'Inosine_metabolite_enzyme_sensor_GP'.\n",
      "Removing GP 'Guanosine_metabolite_enzyme_sensor_GP' as it is a subset of GP 'Inosine_metabolite_enzyme_sensor_GP'.\n",
      "Removing GP 'Stearic acid_metabolite_enzyme_sensor_GP' as it is a subset of GP 'Oleic acid_metabolite_enzyme_sensor_GP'.\n",
      "Removing GP 'Dihomo-gamma-linolenic acid_metabolite_enzyme_sensor_GP' as it is a subset of GP 'Oleic acid_metabolite_enzyme_sensor_GP'.\n",
      "Removing GP 'gamma-Linolenic acid_metabolite_enzyme_sensor_GP' as it is a subset of GP 'Oleic acid_metabolite_enzyme_sensor_GP'.\n",
      "Removing GP 'Epinephrine_metabolite_enzyme_sensor_GP' as it is a subset of GP 'Norepinephrine_metabolite_enzyme_sensor_GP'.\n",
      "Removing GP 'Stearic acid_metabolite_enzyme_sensor_GP' as it is a subset of GP 'Palmitic acid_metabolite_enzyme_sensor_GP'.\n",
      "Removing GP 'Dihomo-gamma-linolenic acid_metabolite_enzyme_sensor_GP' as it is a subset of GP 'Palmitic acid_metabolite_enzyme_sensor_GP'.\n",
      "Removing GP 'gamma-Linolenic acid_metabolite_enzyme_sensor_GP' as it is a subset of GP 'Palmitic acid_metabolite_enzyme_sensor_GP'.\n",
      "Removing GP 'Androsterone_metabolite_enzyme_sensor_GP' as it is a subset of GP 'Testosterone_metabolite_enzyme_sensor_GP'.\n",
      "Removing GP 'Liothyronine_metabolite_enzyme_sensor_GP' as it is a subset of GP 'Thyroxine_metabolite_enzyme_sensor_GP'.\n",
      "Removing GP 'Cytidine_metabolite_enzyme_sensor_GP' as it is a subset of GP 'Uridine_metabolite_enzyme_sensor_GP'.\n",
      "Removing GP 'Thymine_metabolite_enzyme_sensor_GP' as it is a subset of GP 'Uracil_metabolite_enzyme_sensor_GP'.\n",
      "Removing GP 'alpha-Linolenic acid_metabolite_enzyme_sensor_GP' as it is a subset of GP 'Linoleic acid_metabolite_enzyme_sensor_GP'.\n",
      "Removing GP 'Dihomo-gamma-linolenic acid_metabolite_enzyme_sensor_GP' as it is a subset of GP 'Linoleic acid_metabolite_enzyme_sensor_GP'.\n",
      "Removing GP 'gamma-Linolenic acid_metabolite_enzyme_sensor_GP' as it is a subset of GP 'Linoleic acid_metabolite_enzyme_sensor_GP'.\n",
      "Removing GP 'Dihomo-gamma-linolenic acid_metabolite_enzyme_sensor_GP' as it is a subset of GP 'Stearic acid_metabolite_enzyme_sensor_GP'.\n",
      "Removing GP 'gamma-Linolenic acid_metabolite_enzyme_sensor_GP' as it is a subset of GP 'Stearic acid_metabolite_enzyme_sensor_GP'.\n",
      "Removing GP 'alpha-Linolenic acid_metabolite_enzyme_sensor_GP' as it is a subset of GP 'Arachidonic acid_metabolite_enzyme_sensor_GP'.\n",
      "Removing GP 'Dihomo-gamma-linolenic acid_metabolite_enzyme_sensor_GP' as it is a subset of GP 'Arachidonic acid_metabolite_enzyme_sensor_GP'.\n",
      "Removing GP 'gamma-Linolenic acid_metabolite_enzyme_sensor_GP' as it is a subset of GP 'Arachidonic acid_metabolite_enzyme_sensor_GP'.\n",
      "Removing GP 'Prostaglandin F2a_metabolite_enzyme_sensor_GP' as it is a subset of GP 'Prostaglandin E2_metabolite_enzyme_sensor_GP'.\n",
      "Removing GP '13-cis-Retinoic acid_metabolite_enzyme_sensor_GP' as it is a subset of GP 'Retinal_metabolite_enzyme_sensor_GP'.\n",
      "Removing GP 'Dihomo-gamma-linolenic acid_metabolite_enzyme_sensor_GP' as it is a subset of GP 'alpha-Linolenic acid_metabolite_enzyme_sensor_GP'.\n",
      "Removing GP 'gamma-Linolenic acid_metabolite_enzyme_sensor_GP' as it is a subset of GP 'alpha-Linolenic acid_metabolite_enzyme_sensor_GP'.\n",
      "Removing GP '13-cis-Retinoic acid_metabolite_enzyme_sensor_GP' as it is a subset of GP 'all-trans-Retinoic acid_metabolite_enzyme_sensor_GP'.\n",
      "Removing GP 'Docosahexaenoic acid_metabolite_enzyme_sensor_GP' as it is a subset of GP 'Eicosapentaenoic acid_metabolite_enzyme_sensor_GP'.\n",
      "Removing GP 'Eicosapentaenoic acid_metabolite_enzyme_sensor_GP' as it is a subset of GP 'Docosahexaenoic acid_metabolite_enzyme_sensor_GP'.\n",
      "Removing GP '13-cis-Retinoic acid_metabolite_enzyme_sensor_GP' as it is a subset of GP '9-cis-Retinoic acid_metabolite_enzyme_sensor_GP'.\n",
      "Removing GP 'gamma-Linolenic acid_metabolite_enzyme_sensor_GP' as it is a subset of GP 'Dihomo-gamma-linolenic acid_metabolite_enzyme_sensor_GP'.\n",
      "Removing GP 'Dihomo-gamma-linolenic acid_metabolite_enzyme_sensor_GP' as it is a subset of GP 'gamma-Linolenic acid_metabolite_enzyme_sensor_GP'.\n",
      "Removing GP 'Calcitriol_metabolite_enzyme_sensor_GP' as it is a subset of GP 'Calcidiol_metabolite_enzyme_sensor_GP'.\n",
      "Number of gene programs before filtering and combining: 1725.\n",
      "Number of gene programs after filtering and combining: 1575.\n"
     ]
    }
   ],
   "source": [
    "# Filter and combine gene programs\n",
    "combined_new_gp_dict = filter_and_combine_gp_dict_gps(\n",
    "    gp_dict=combined_gp_dict,\n",
    "    gp_filter_mode=\"subset\",\n",
    "    combine_overlap_gps=True,\n",
    "    overlap_thresh_source_genes=0.9,\n",
    "    overlap_thresh_target_genes=0.9,\n",
    "    overlap_thresh_genes=0.9,\n",
    "    verbose=True)\n",
    "\n",
    "print(f\"Number of gene programs before filtering and combining: {len(combined_gp_dict)}.\")\n",
    "print(f\"Number of gene programs after filtering and combining: {len(combined_new_gp_dict)}.\")"
   ]
  },
  {
   "cell_type": "code",
   "execution_count": 18,
   "id": "96904c26-a72f-44d6-ba1b-9b8818ccee3c",
   "metadata": {},
   "outputs": [
    {
     "name": "stdout",
     "output_type": "stream",
     "text": [
      "Number of gene programs with probed genes: 489.\n",
      "Example gene programs: ['TNFSF11_ligand_targetgenes_GP', 'ITGA4_ligand_targetgenes_GP', 'CSH2_ligand_targetgenes_GP', 'CSF3_ligand_targetgenes_GP', 'NOV_ligand_targetgenes_GP'].\n",
      "Number of gene program target genes: 7476.\n",
      "Number of gene program source genes: 127.\n"
     ]
    }
   ],
   "source": [
    "for adata in [adata_one_shot, adata_reference, adata_query]:\n",
    "\n",
    "    # Add the gene program dictionary as binary masks to the adata for model training\n",
    "    add_gps_from_gp_dict_to_adata(\n",
    "        gp_dict=combined_new_gp_dict,\n",
    "        adata=adata,\n",
    "        genes_uppercase=True,\n",
    "        gp_targets_mask_key=\"autotalker_gp_targets\",\n",
    "        gp_sources_mask_key=\"autotalker_gp_sources\",\n",
    "        gp_names_key=\"autotalker_gp_names\",\n",
    "        min_genes_per_gp=1,\n",
    "        min_source_genes_per_gp=0,\n",
    "        min_target_genes_per_gp=0,\n",
    "        max_genes_per_gp=None,\n",
    "        max_source_genes_per_gp=None,\n",
    "        max_target_genes_per_gp=None,\n",
    "        filter_genes_not_in_masks=False)\n",
    "\n",
    "# Determine dimensionality of hidden encoder\n",
    "n_hidden_encoder = len(adata_one_shot.uns[\"autotalker_gp_names\"])\n",
    "\n",
    "# Summarize gene programs\n",
    "print(f\"Number of gene programs with probed genes: {len(adata_one_shot.uns['autotalker_gp_names'])}.\")\n",
    "print(f\"Example gene programs: {random.sample(list(adata_one_shot.uns['autotalker_gp_names']), 5)}.\")\n",
    "print(f\"Number of gene program target genes: {adata_one_shot.varm['autotalker_gp_targets'].sum()}.\")\n",
    "print(f\"Number of gene program source genes: {adata_one_shot.varm['autotalker_gp_sources'].sum()}.\")"
   ]
  },
  {
   "cell_type": "markdown",
   "id": "185b20df-515d-461a-8c6e-7c64413fbe69",
   "metadata": {},
   "source": [
    "### 3.2 One Shot Batch Integration Without Conditional Embedding"
   ]
  },
  {
   "cell_type": "markdown",
   "id": "8ca0cf8a-052b-418a-b36a-e1625d1f17ac",
   "metadata": {},
   "source": [
    "#### 3.2.1 Initialize, Train & Save Model"
   ]
  },
  {
   "cell_type": "code",
   "execution_count": 19,
   "id": "c80c1095-c630-457f-a685-2ee9e4cabd4e",
   "metadata": {},
   "outputs": [
    {
     "name": "stdout",
     "output_type": "stream",
     "text": [
      "--- INITIALIZING NEW NETWORK MODULE: VARIATIONAL GENE PROGRAM GRAPH AUTOENCODER ---\n",
      "LOSS -> include_edge_recon_loss: True, include_gene_expr_recon_loss: True, gene_expr_recon_dist: nb\n",
      "NODE LABEL METHOD -> one-hop-attention\n",
      "ACTIVE GP THRESHOLD RATIO -> 0.03\n",
      "LOG VARIATIONAL -> True\n",
      "GRAPH ENCODER -> n_input: 351, n_cond_embed_input: 0, n_hidden: 489, n_latent: 489, n_addon_latent: 0, conv_layer: gcnconv, n_attention_heads: 0, dropout_rate: 0.0\n",
      "DOT PRODUCT GRAPH DECODER -> n_cond_embed_input: 0, n_output: 489, dropout_rate: 0.0\n",
      "MASKED GENE EXPRESSION DECODER -> n_input: 489, n_cond_embed_input: 0, n_addon_input: 0, n_output: 702\n"
     ]
    }
   ],
   "source": [
    "# Initialize model\n",
    "model = Autotalker(adata_one_shot,\n",
    "                   counts_key=counts_key,\n",
    "                   adj_key=adj_key,\n",
    "                   condition_key=None,\n",
    "                   gp_names_key=gp_names_key,\n",
    "                   active_gp_names_key=active_gp_names_key,\n",
    "                   gp_targets_mask_key=gp_targets_mask_key,\n",
    "                   gp_sources_mask_key=gp_sources_mask_key,\n",
    "                   latent_key=latent_key,\n",
    "                   active_gp_thresh_ratio=active_gp_thresh_ratio,\n",
    "                   gene_expr_recon_dist=gene_expr_recon_dist,\n",
    "                   n_hidden_encoder=n_hidden_encoder,\n",
    "                   n_addon_gps=0,\n",
    "                   node_label_method=\"one-hop-attention\")"
   ]
  },
  {
   "cell_type": "code",
   "execution_count": null,
   "id": "3886ce9f-1ca7-418c-86da-296611d95a3e",
   "metadata": {},
   "outputs": [
    {
     "name": "stdout",
     "output_type": "stream",
     "text": [
      "--- INITIALIZING TRAINER ---\n",
      "Number of training nodes: 47311\n",
      "Number of validation nodes: 5257\n",
      "Number of training edges: 319410\n",
      "Number of validation edges: 35490\n",
      "\n",
      "--- MODEL TRAINING ---\n",
      "Epoch 1/20 |█-------------------| 5.0% val_auroc_score: 0.9524; val_auprc_score: 0.9143; val_best_acc_score: 0.8196; val_best_f1_score: 0.8472; train_kl_reg_loss: 0.0095; train_edge_recon_loss: 0.0231; train_gene_expr_recon_loss: 0.6409; train_group_lasso_reg_loss: 0.0000; train_global_loss: 0.6735; train_optim_loss: 0.6735; val_kl_reg_loss: 0.0121; val_edge_recon_loss: 0.0146; val_gene_expr_recon_loss: 0.5958; val_group_lasso_reg_loss: 0.0000; val_global_loss: 0.6226; val_optim_loss: 0.6226\n",
      "Epoch 2/20 |██------------------| 10.0% val_auroc_score: 0.9712; val_auprc_score: 0.9473; val_best_acc_score: 0.8650; val_best_f1_score: 0.8810; train_kl_reg_loss: 0.0126; train_edge_recon_loss: 0.0182; train_gene_expr_recon_loss: 0.5955; train_group_lasso_reg_loss: 0.0000; train_global_loss: 0.6263; train_optim_loss: 0.6263; val_kl_reg_loss: 0.0124; val_edge_recon_loss: 0.0107; val_gene_expr_recon_loss: 0.5804; val_group_lasso_reg_loss: 0.0000; val_global_loss: 0.6035; val_optim_loss: 0.6035\n",
      "Epoch 3/20 |███-----------------| 15.0% val_auroc_score: 0.9743; val_auprc_score: 0.9527; val_best_acc_score: 0.8656; val_best_f1_score: 0.8815; train_kl_reg_loss: 0.0141; train_edge_recon_loss: 0.0167; train_gene_expr_recon_loss: 0.5849; train_group_lasso_reg_loss: 0.0000; train_global_loss: 0.6157; train_optim_loss: 0.6157; val_kl_reg_loss: 0.0139; val_edge_recon_loss: 0.0106; val_gene_expr_recon_loss: 0.5739; val_group_lasso_reg_loss: 0.0000; val_global_loss: 0.5984; val_optim_loss: 0.5984\n",
      "Epoch 4/20 |████----------------| 20.0% val_auroc_score: 0.9736; val_auprc_score: 0.9510; val_best_acc_score: 0.8601; val_best_f1_score: 0.8772; train_kl_reg_loss: 0.0150; train_edge_recon_loss: 0.0160; train_gene_expr_recon_loss: 0.5795; train_group_lasso_reg_loss: 0.0000; train_global_loss: 0.6105; train_optim_loss: 0.6105; val_kl_reg_loss: 0.0162; val_edge_recon_loss: 0.0109; val_gene_expr_recon_loss: 0.5714; val_group_lasso_reg_loss: 0.0000; val_global_loss: 0.5986; val_optim_loss: 0.5986\n",
      "Epoch 5/20 |█████---------------| 25.0% val_auroc_score: 0.9812; val_auprc_score: 0.9657; val_best_acc_score: 0.8840; val_best_f1_score: 0.8960; train_kl_reg_loss: 0.0157; train_edge_recon_loss: 0.0154; train_gene_expr_recon_loss: 0.5763; train_group_lasso_reg_loss: 0.0000; train_global_loss: 0.6073; train_optim_loss: 0.6073; val_kl_reg_loss: 0.0143; val_edge_recon_loss: 0.0092; val_gene_expr_recon_loss: 0.5679; val_group_lasso_reg_loss: 0.0000; val_global_loss: 0.5914; val_optim_loss: 0.5914\n",
      "Epoch 6/20 |██████--------------| 30.0% val_auroc_score: 0.9828; val_auprc_score: 0.9689; val_best_acc_score: 0.8902; val_best_f1_score: 0.9010; train_kl_reg_loss: 0.0161; train_edge_recon_loss: 0.0149; train_gene_expr_recon_loss: 0.5738; train_group_lasso_reg_loss: 0.0000; train_global_loss: 0.6048; train_optim_loss: 0.6048; val_kl_reg_loss: 0.0153; val_edge_recon_loss: 0.0088; val_gene_expr_recon_loss: 0.5674; val_group_lasso_reg_loss: 0.0000; val_global_loss: 0.5915; val_optim_loss: 0.5915\n",
      "Epoch 7/20 |███████-------------| 35.0% val_auroc_score: 0.9839; val_auprc_score: 0.9708; val_best_acc_score: 0.8906; val_best_f1_score: 0.9014; train_kl_reg_loss: 0.0164; train_edge_recon_loss: 0.0147; train_gene_expr_recon_loss: 0.5735; train_group_lasso_reg_loss: 0.0000; train_global_loss: 0.6045; train_optim_loss: 0.6045; val_kl_reg_loss: 0.0154; val_edge_recon_loss: 0.0086; val_gene_expr_recon_loss: 0.5673; val_group_lasso_reg_loss: 0.0000; val_global_loss: 0.5912; val_optim_loss: 0.5912\n",
      "Epoch 8/20 |████████------------| 40.0% val_auroc_score: 0.9837; val_auprc_score: 0.9702; val_best_acc_score: 0.8899; val_best_f1_score: 0.9008; train_kl_reg_loss: 0.0167; train_edge_recon_loss: 0.0144; train_gene_expr_recon_loss: 0.5714; train_group_lasso_reg_loss: 0.0000; train_global_loss: 0.6025; train_optim_loss: 0.6025; val_kl_reg_loss: 0.0175; val_edge_recon_loss: 0.0087; val_gene_expr_recon_loss: 0.5651; val_group_lasso_reg_loss: 0.0000; val_global_loss: 0.5913; val_optim_loss: 0.5913\n",
      "Epoch 9/20 |█████████-----------| 45.0% val_auroc_score: 0.9825; val_auprc_score: 0.9687; val_best_acc_score: 0.8873; val_best_f1_score: 0.8987; train_kl_reg_loss: 0.0168; train_edge_recon_loss: 0.0142; train_gene_expr_recon_loss: 0.5700; train_group_lasso_reg_loss: 0.0000; train_global_loss: 0.6011; train_optim_loss: 0.6011; val_kl_reg_loss: 0.0155; val_edge_recon_loss: 0.0087; val_gene_expr_recon_loss: 0.5680; val_group_lasso_reg_loss: 0.0000; val_global_loss: 0.5922; val_optim_loss: 0.5922\n"
     ]
    }
   ],
   "source": [
    "# Train model\n",
    "model.train(n_epochs,\n",
    "            n_epochs_all_gps=n_epochs_all_gps,\n",
    "            lr=lr,\n",
    "            lambda_edge_recon=lambda_edge_recon,\n",
    "            lambda_gene_expr_recon=lambda_gene_expr_recon,\n",
    "            verbose=True)"
   ]
  },
  {
   "cell_type": "code",
   "execution_count": null,
   "id": "4d5ffae4-3090-4605-b9c7-8977c3603283",
   "metadata": {},
   "outputs": [],
   "source": [
    "# Save trained model\n",
    "model.save(dir_path=model_artifacts_folder_path + \"/one_shot_no_cond_embed\",\n",
    "           overwrite=True,\n",
    "           save_adata=True,\n",
    "           adata_file_name=f\"{dataset}.h5ad\")"
   ]
  },
  {
   "cell_type": "markdown",
   "id": "b5fa89c9-7f83-40e1-a196-740c5fbb6497",
   "metadata": {},
   "source": [
    "#### 3.2.2 Load Model"
   ]
  },
  {
   "cell_type": "code",
   "execution_count": null,
   "id": "13d93113-2701-4400-85eb-8ca5a4ea95b1",
   "metadata": {},
   "outputs": [],
   "source": [
    "if load_timestamp is not None:\n",
    "    model_artifacts_load_folder_path = f\"../artifacts/{dataset}/batch_integration/{load_timestamp}\"\n",
    "else:\n",
    "    model_artifacts_load_folder_path = model_artifacts_folder_path"
   ]
  },
  {
   "cell_type": "code",
   "execution_count": null,
   "id": "b1de7b09-e1f8-45b8-ae6e-bdb3c5f21904",
   "metadata": {},
   "outputs": [],
   "source": [
    "# Load trained model\n",
    "model = Autotalker.load(dir_path=model_artifacts_load_folder_path + \"/one_shot_no_cond_embed\",\n",
    "                        adata=None,\n",
    "                        adata_file_name=f\"{dataset}.h5ad\",\n",
    "                        gp_names_key=\"autotalker_gp_names\")"
   ]
  },
  {
   "cell_type": "markdown",
   "id": "55633181-d268-4476-8674-b6ba3ff55567",
   "metadata": {},
   "source": [
    "#### 3.2.3 Analyze Latent Space"
   ]
  },
  {
   "cell_type": "code",
   "execution_count": null,
   "id": "06c4ccdc-9115-4ada-894c-5faa1aa1fc86",
   "metadata": {},
   "outputs": [],
   "source": [
    "# Use Autotalker latent space for UMAP generation\n",
    "sc.pp.neighbors(model.adata, use_rep=latent_key)\n",
    "sc.tl.umap(model.adata)"
   ]
  },
  {
   "cell_type": "code",
   "execution_count": null,
   "id": "a8a6f36d-7a74-4e46-84ee-708696ab13b7",
   "metadata": {},
   "outputs": [],
   "source": [
    "# Plot UMAP with batch annotation\n",
    "fig = sc.pl.umap(model.adata,\n",
    "                 color=[condition_key],\n",
    "                 title=\"Latent Space Batch Annotations (One Shot No Cond Embedding)\",\n",
    "                 return_fig=True)\n",
    "fig.savefig(f\"{figure_folder_path}/latent_batches_one_shot_no_cond_embed.png\",\n",
    "            bbox_inches=\"tight\")"
   ]
  },
  {
   "cell_type": "code",
   "execution_count": null,
   "id": "185a63c4-8699-4b01-99f8-04dd65a8c776",
   "metadata": {},
   "outputs": [],
   "source": [
    "# Plot UMAP with cell type annotation\n",
    "fig = sc.pl.umap(model.adata,\n",
    "                 color=[cell_type_key],\n",
    "                 title=\"Latent Space Cell Type Annotations (One Shot No Cond Embedding)\",\n",
    "                 return_fig=True)\n",
    "fig.savefig(f\"{figure_folder_path}/latent_cell_types_one_shot_no_cond_embed.png\",\n",
    "            bbox_inches=\"tight\")"
   ]
  },
  {
   "cell_type": "markdown",
   "id": "d3fcbbd1-a4cf-4d5a-ad60-5e8c34977f89",
   "metadata": {},
   "source": [
    "#### 3.2.4 Analyze Batch Correction Metrics"
   ]
  },
  {
   "cell_type": "code",
   "execution_count": null,
   "id": "edadf929-9152-4be8-8d84-afe0510f8e9f",
   "metadata": {},
   "outputs": [],
   "source": [
    "batch_correction_metrics_one_shot_no_cond_embed = {}\n",
    "\n",
    "batch_correction_metrics_one_shot_no_cond_embed[\"graph_connectivity\"] = scib.me.graph_connectivity(\n",
    "    model.adata,\n",
    "    label_key=cell_type_key)\n",
    "\n",
    "batch_correction_metrics_one_shot_no_cond_embed[\"ilisi_graph\"] = scib.me.ilisi_graph(\n",
    "    model.adata,\n",
    "    batch_key=condition_key,\n",
    "    type_=\"embed\",\n",
    "    use_rep=latent_key)\n",
    "\n",
    "batch_correction_metrics_one_shot_no_cond_embed[\"kbet\"] = scib.me.kBET(\n",
    "    model.adata,\n",
    "    batch_key=condition_key,\n",
    "    label_key=cell_type_key,\n",
    "    type_=\"embed\",\n",
    "    embed=latent_key)\n",
    "\n",
    "batch_correction_metrics_one_shot_no_cond_embed[\"silhouette_batch\"] = scib.me.silhouette_batch(\n",
    "    model.adata,\n",
    "    batch_key=condition_key,\n",
    "    label_key=cell_type_key,\n",
    "    embed=latent_key)\n",
    "\n",
    "print(batch_correction_metrics_one_shot_no_cond_embed)"
   ]
  },
  {
   "cell_type": "markdown",
   "id": "2c487a7d-a8ba-4447-b856-3473b7daca83",
   "metadata": {},
   "source": [
    "### 3.3 One-Shot Batch Integration With Conditional Embedding"
   ]
  },
  {
   "cell_type": "markdown",
   "id": "a915a48a-1fe9-45a5-a5c2-f6ed24414f59",
   "metadata": {},
   "source": [
    "#### 3.3.1 Initialize, Train & Save Model"
   ]
  },
  {
   "cell_type": "code",
   "execution_count": null,
   "id": "21c525d4-f561-4b99-8df9-d3e1dee5233f",
   "metadata": {},
   "outputs": [],
   "source": [
    "# Initialize model\n",
    "model = Autotalker(adata_one_shot,\n",
    "                   counts_key=counts_key,\n",
    "                   adj_key=adj_key,\n",
    "                   condition_key=condition_key,\n",
    "                   cond_embed_injection=[\"encoder\",\n",
    "                                         \"gene_expr_decoder\",\n",
    "                                         \"graph_decoder\"\n",
    "                   ],\n",
    "                   n_cond_embed=n_cond_embed,\n",
    "                   gp_names_key=gp_names_key,\n",
    "                   active_gp_names_key=active_gp_names_key,\n",
    "                   gp_targets_mask_key=gp_targets_mask_key,\n",
    "                   gp_sources_mask_key=gp_sources_mask_key,\n",
    "                   latent_key=latent_key,\n",
    "                   active_gp_thresh_ratio=active_gp_thresh_ratio,\n",
    "                   gene_expr_recon_dist=gene_expr_recon_dist,\n",
    "                   n_hidden_encoder=n_hidden_encoder,\n",
    "                   n_addon_gps=0,\n",
    "                   node_label_method=\"one-hop-attention\")"
   ]
  },
  {
   "cell_type": "code",
   "execution_count": null,
   "id": "1d95bc7c-255f-40b6-932b-6f82e9a8d72e",
   "metadata": {},
   "outputs": [],
   "source": [
    "# Train model\n",
    "model.train(n_epochs,\n",
    "            n_epochs_all_gps=n_epochs_all_gps,\n",
    "            lr=lr,\n",
    "            lambda_edge_recon=lambda_edge_recon,\n",
    "            lambda_gene_expr_recon=lambda_gene_expr_recon,\n",
    "            verbose=True)"
   ]
  },
  {
   "cell_type": "code",
   "execution_count": null,
   "id": "e1ed97c7-4186-44cf-a459-569b61c7e534",
   "metadata": {},
   "outputs": [],
   "source": [
    "# Save trained model\n",
    "model.save(dir_path=model_artifacts_folder_path + \"/one_shot_cond_embed\",\n",
    "           overwrite=True,\n",
    "           save_adata=True,\n",
    "           adata_file_name=f\"{dataset}.h5ad\")"
   ]
  },
  {
   "cell_type": "markdown",
   "id": "fc8eb04d-47de-4650-b3a1-4e2f9d361955",
   "metadata": {},
   "source": [
    "#### 3.3.2 Load Model"
   ]
  },
  {
   "cell_type": "code",
   "execution_count": null,
   "id": "9ee5d746-0b2c-48d3-9ec3-1c330a37e4e8",
   "metadata": {},
   "outputs": [],
   "source": [
    "if load_timestamp is not None:\n",
    "    model_artifacts_load_folder_path = f\"../artifacts/{dataset}/batch_integration/{load_timestamp}\"\n",
    "else:\n",
    "    model_artifacts_load_folder_path = model_artifacts_folder_path"
   ]
  },
  {
   "cell_type": "code",
   "execution_count": null,
   "id": "1d1eb496-fcb2-4397-afe7-95c9f2843b2b",
   "metadata": {},
   "outputs": [],
   "source": [
    "# Load trained model\n",
    "model = Autotalker.load(dir_path=model_artifacts_folder_path + \"/one_shot_cond_embed\",\n",
    "                        adata=None,\n",
    "                        adata_file_name=f\"{dataset}.h5ad\",\n",
    "                        gp_names_key=\"autotalker_gp_names\")"
   ]
  },
  {
   "cell_type": "markdown",
   "id": "9747fd10-eaee-4fce-a4f7-4e0e756040f2",
   "metadata": {},
   "source": [
    "#### 3.3.2 Analyze Latent Space"
   ]
  },
  {
   "cell_type": "code",
   "execution_count": null,
   "id": "e7e78bd9-7c87-4112-8ab0-d3f651109445",
   "metadata": {},
   "outputs": [],
   "source": [
    "# Use Autotalker latent space for UMAP generation\n",
    "sc.pp.neighbors(model.adata, use_rep=latent_key)\n",
    "sc.tl.umap(model.adata)"
   ]
  },
  {
   "cell_type": "code",
   "execution_count": null,
   "id": "09684cbd-1a41-405c-a0f7-f04c641b5321",
   "metadata": {},
   "outputs": [],
   "source": [
    "# Plot UMAP with batch annotations\n",
    "fig = sc.pl.umap(model.adata,\n",
    "                 color=[condition_key],\n",
    "                 title=\"Latent Space Batch Annotations (One Shot Cond Embedding)\",\n",
    "                 return_fig=True)\n",
    "fig.savefig(f\"{figure_folder_path}/latent_batches_one_shot_cond_embed.png\",\n",
    "            bbox_inches=\"tight\")"
   ]
  },
  {
   "cell_type": "code",
   "execution_count": null,
   "id": "07ea68fb-2ab3-4f58-94ae-1bcaf4391c1d",
   "metadata": {},
   "outputs": [],
   "source": [
    "# Plot UMAP with cell type annotations\n",
    "fig = sc.pl.umap(model.adata,\n",
    "                 color=[cell_type_key],\n",
    "                 title=\"Latent Space Cell Type Annotations (One Shot Cond Embedding)\",\n",
    "                 return_fig=True)\n",
    "fig.savefig(f\"{figure_folder_path}/latent_cell_types_one_shot_cond_embed.png\",\n",
    "            bbox_inches=\"tight\")"
   ]
  },
  {
   "cell_type": "markdown",
   "id": "9e524c6b-a847-47ea-8afd-bb419f47de59",
   "metadata": {},
   "source": [
    "#### 3.3.3 Analyze Batch Correction Metrics"
   ]
  },
  {
   "cell_type": "code",
   "execution_count": null,
   "id": "025dfbcd-94d9-47c3-bfaa-85e2f1d0cfa3",
   "metadata": {},
   "outputs": [],
   "source": [
    "batch_correction_metrics_one_shot_cond_embed = {}\n",
    "\n",
    "batch_correction_metrics_one_shot_cond_embed[\"graph_connectivity\"] = scib.me.graph_connectivity(\n",
    "    model.adata,\n",
    "    label_key=cell_type_key)\n",
    "\n",
    "batch_correction_metrics_one_shot_cond_embed[\"ilisi_graph\"] = scib.me.ilisi_graph(\n",
    "    model.adata,\n",
    "    batch_key=condition_key,\n",
    "    type_=\"embed\",\n",
    "    use_rep=latent_key)\n",
    "\n",
    "\n",
    "batch_correction_metrics_one_shot_cond_embed[\"kbet\"] = scib.me.kBET(\n",
    "    model.adata,\n",
    "    batch_key=condition_key,\n",
    "    label_key=cell_type_key,\n",
    "    type_=\"embed\",\n",
    "    embed=latent_key)\n",
    "\n",
    "\n",
    "batch_correction_metrics_one_shot_cond_embed[\"silhouette_batch\"] = scib.me.silhouette_batch(\n",
    "    model.adata,\n",
    "    batch_key=condition_key,\n",
    "    label_key=cell_type_key,\n",
    "    embed=latent_key)\n",
    "\n",
    "print(batch_correction_metrics_one_shot_cond_embed)"
   ]
  },
  {
   "cell_type": "markdown",
   "id": "9c4bdb58-0b6a-42fe-a821-1a8aca2519a2",
   "metadata": {},
   "source": [
    "#### 3.3.3 Analyze Conditional Embedding"
   ]
  },
  {
   "cell_type": "code",
   "execution_count": null,
   "id": "886466e6-6d3f-4276-827a-01913ca63eae",
   "metadata": {},
   "outputs": [],
   "source": [
    "# Get conditional embeddings\n",
    "cond_embed = model.get_conditional_embeddings()\n",
    "adata_cond_embed = ad.AnnData(cond_embed)\n",
    "adata_cond_embed.obs[\"batch\"] = model.adata.obs[\"batch\"].unique()"
   ]
  },
  {
   "cell_type": "code",
   "execution_count": null,
   "id": "20065dca-1d6f-4cc0-b526-8d0aae9c1525",
   "metadata": {},
   "outputs": [],
   "source": [
    "sc.pp.neighbors(adata_cond_embed)\n",
    "sc.tl.umap(adata_cond_embed)\n",
    "fig = sc.pl.umap(adata_cond_embed,\n",
    "                 color=[condition_key],\n",
    "                 size=200,\n",
    "                 title=\"One-Shot Conditional Embeddings\",\n",
    "                 return_fig=True)\n",
    "fig.savefig(f\"{figure_folder_path}/cond_embed_one_shot.png\",\n",
    "            bbox_inches=\"tight\")"
   ]
  },
  {
   "cell_type": "markdown",
   "id": "3a553a3d-2c88-4fcc-93f3-c07693be365d",
   "metadata": {},
   "source": [
    "### 3.4 Query-to-Reference Mapping"
   ]
  },
  {
   "cell_type": "markdown",
   "id": "ac2adc45-78e3-4632-b752-f9b0afe3f2c3",
   "metadata": {},
   "source": [
    "#### 3.4.1 Reference"
   ]
  },
  {
   "cell_type": "markdown",
   "id": "9afbaf87-08b0-4ec4-916b-fd78ba183b03",
   "metadata": {},
   "source": [
    "##### 3.4.1.1 Initialize, Train & Save Model"
   ]
  },
  {
   "cell_type": "code",
   "execution_count": null,
   "id": "bf4ba2d0-3a25-4d03-b884-d854a66f174c",
   "metadata": {},
   "outputs": [],
   "source": [
    "# Initialize model\n",
    "model = Autotalker(adata_reference,\n",
    "                   counts_key=counts_key,\n",
    "                   adj_key=adj_key,\n",
    "                   condition_key=condition_key,\n",
    "                   cond_embed_injection=[\"encoder\",\n",
    "                                         \"gene_expr_decoder\",\n",
    "                                         \"graph_decoder\"],\n",
    "                   n_cond_embed=n_cond_embed,\n",
    "                   gp_names_key=gp_names_key,\n",
    "                   active_gp_names_key=active_gp_names_key,\n",
    "                   gp_targets_mask_key=gp_targets_mask_key,\n",
    "                   gp_sources_mask_key=gp_sources_mask_key,\n",
    "                   latent_key=latent_key,\n",
    "                   active_gp_thresh_ratio=active_gp_thresh_ratio,\n",
    "                   gene_expr_recon_dist=gene_expr_recon_dist,\n",
    "                   n_hidden_encoder=n_hidden_encoder,\n",
    "                   n_addon_gps=0,\n",
    "                   node_label_method=\"one-hop-attention\")"
   ]
  },
  {
   "cell_type": "code",
   "execution_count": null,
   "id": "75dc5e24-659a-4b71-b694-b9d8b8ee820e",
   "metadata": {},
   "outputs": [],
   "source": [
    "# Train model\n",
    "model.train(n_epochs,\n",
    "            n_epochs_all_gps=n_epochs_all_gps,\n",
    "            lr=lr,\n",
    "            lambda_edge_recon=lambda_edge_recon,\n",
    "            lambda_gene_expr_recon=lambda_gene_expr_recon,\n",
    "            verbose=True)"
   ]
  },
  {
   "cell_type": "code",
   "execution_count": null,
   "id": "08c2bff7-95dc-4c24-9be1-0c11d44d5390",
   "metadata": {},
   "outputs": [],
   "source": [
    "# Save trained model\n",
    "model.save(dir_path=model_artifacts_folder_path + \"/reference_cond_embed\",\n",
    "           overwrite=True,\n",
    "           save_adata=True,\n",
    "           adata_file_name=f\"{dataset}.h5ad\")"
   ]
  },
  {
   "cell_type": "markdown",
   "id": "12c3e9e8-f606-4511-a6d4-bf6327c03fc4",
   "metadata": {},
   "source": [
    "##### 3.4.1.2 Load Model"
   ]
  },
  {
   "cell_type": "code",
   "execution_count": null,
   "id": "1e5b8db9-a76e-419b-b797-6028e58e866a",
   "metadata": {},
   "outputs": [],
   "source": [
    "# Load trained model\n",
    "model = Autotalker.load(dir_path=model_artifacts_folder_path + \"/reference_cond_embed\",\n",
    "                        adata=None,\n",
    "                        adata_file_name=f\"{dataset}.h5ad\",\n",
    "                        gp_names_key=\"autotalker_gp_names\")"
   ]
  },
  {
   "cell_type": "markdown",
   "id": "e3fc93b0-2c59-41a8-b495-7efe1fd6aebe",
   "metadata": {},
   "source": [
    "##### 3.4.1.3 Analyze Latent Space"
   ]
  },
  {
   "cell_type": "code",
   "execution_count": null,
   "id": "fe52e5d5-792e-4eee-a724-78e6ee26dd75",
   "metadata": {},
   "outputs": [],
   "source": [
    "# Use Autotalker latent space for UMAP generation\n",
    "sc.pp.neighbors(model.adata, use_rep=latent_key)\n",
    "sc.tl.umap(model.adata)"
   ]
  },
  {
   "cell_type": "code",
   "execution_count": null,
   "id": "318425ce-98c5-4e14-b6bc-852d0fa5f023",
   "metadata": {},
   "outputs": [],
   "source": [
    "# Plot UMAP with batch annotations\n",
    "fig = sc.pl.umap(model.adata,\n",
    "                 color=[condition_key],\n",
    "                 title=\"Latent Space Batch Annotations (Reference Cond Embedding)\",\n",
    "                 return_fig=True)\n",
    "fig.savefig(f\"{figure_folder_path}/latent_batches_reference_cond_embed.png\",\n",
    "            bbox_inches=\"tight\")"
   ]
  },
  {
   "cell_type": "code",
   "execution_count": null,
   "id": "6762223d-92f9-4fd9-95e9-25cf38328255",
   "metadata": {},
   "outputs": [],
   "source": [
    "# Plot UMAP with cell type annotations\n",
    "fig = sc.pl.umap(model.adata,\n",
    "                 color=[cell_type_key],\n",
    "                 title=\"Latent Space Cell Type Annotations (Reference Cond Embedding)\",\n",
    "                 return_fig=True)\n",
    "fig.savefig(f\"{figure_folder_path}/latent_cell_types_reference_cond_embed.png\",\n",
    "            bbox_inches=\"tight\")"
   ]
  },
  {
   "cell_type": "markdown",
   "id": "c68294f6-78a0-48b6-99aa-57db0fa34a3a",
   "metadata": {},
   "source": [
    "##### 3.4.1.4 Analyze Batch Correction Metrics"
   ]
  },
  {
   "cell_type": "code",
   "execution_count": null,
   "id": "b3dc1ed9-6e0b-468f-802c-48fc0ecd4ba7",
   "metadata": {},
   "outputs": [],
   "source": [
    "batch_correction_metrics_reference_cond_embed = {}\n",
    "\n",
    "batch_correction_metrics_reference_cond_embed[\"graph_connectivity\"] = scib.me.graph_connectivity(\n",
    "    model.adata,\n",
    "    label_key=cell_type_key)\n",
    "\n",
    "batch_correction_metrics_reference_cond_embed[\"ilisi_graph\"] = scib.me.ilisi_graph(\n",
    "    model.adata,\n",
    "    batch_key=condition_key,\n",
    "    type_=\"embed\",\n",
    "    use_rep=latent_key)\n",
    "\n",
    "batch_correction_metrics_reference_cond_embed[\"kbet\"] = scib.me.kBET(\n",
    "    model.adata,\n",
    "    batch_key=condition_key,\n",
    "    label_key=cell_type_key,\n",
    "    type_=\"embed\",\n",
    "    embed=latent_key)\n",
    "\n",
    "batch_correction_metrics_reference_cond_embed[\"silhouette_batch\"] = scib.me.silhouette_batch(\n",
    "    model.adata,\n",
    "    batch_key=condition_key,\n",
    "    label_key=cell_type_key,\n",
    "    embed=latent_key)\n",
    "\n",
    "print(batch_correction_metrics_reference_cond_embed)"
   ]
  },
  {
   "cell_type": "markdown",
   "id": "105b8e5a-9976-41ba-9d70-65cc02cfd89d",
   "metadata": {},
   "source": [
    "##### 3.4.1.5 Analyze Conditional Embedding"
   ]
  },
  {
   "cell_type": "code",
   "execution_count": null,
   "id": "0bf92300-7f54-4b87-9ef0-61e34e71f584",
   "metadata": {},
   "outputs": [],
   "source": [
    "# Get conditional embeddings\n",
    "cond_embed = model.get_conditional_embeddings()\n",
    "adata_cond_embed = ad.AnnData(cond_embed)\n",
    "adata_cond_embed.obs[\"batch\"] = model.adata.obs[\"batch\"].unique()"
   ]
  },
  {
   "cell_type": "code",
   "execution_count": null,
   "id": "18d5c759-a053-4c87-8b84-75e5142acb90",
   "metadata": {},
   "outputs": [],
   "source": [
    "sc.pp.neighbors(adata_cond_embed)\n",
    "sc.tl.umap(adata_cond_embed)\n",
    "fig = sc.pl.umap(adata_cond_embed,\n",
    "                 color=[condition_key],\n",
    "                 size=200,\n",
    "                 title=\"Reference Conditional Embeddings\",\n",
    "                 return_fig=True)\n",
    "fig.savefig(f\"{figure_folder_path}/cond_embed_reference.png\",\n",
    "            bbox_inches=\"tight\")"
   ]
  },
  {
   "cell_type": "markdown",
   "id": "b98c90af-b0ae-440b-adde-8d4b2b8ed41f",
   "metadata": {},
   "source": [
    "#### 3.4.2 Query"
   ]
  },
  {
   "cell_type": "markdown",
   "id": "08384712-93b9-4952-a614-43d5814cd6b8",
   "metadata": {},
   "source": [
    "##### 3.4.2.1 Initialize, Train & Save Model"
   ]
  },
  {
   "cell_type": "code",
   "execution_count": null,
   "id": "30194516-a9d9-4a75-9572-df50262162c9",
   "metadata": {},
   "outputs": [],
   "source": [
    "# Load model trained on reference data for transfer learning with query data\n",
    "# Freeze all weights except for conditional weights\n",
    "model = Autotalker.load(dir_path=model_artifacts_folder_path + \"/reference_cond_embed\",\n",
    "                        adata=adata_query,\n",
    "                        adata_file_name=f\"{dataset}.h5ad\",\n",
    "                        gp_names_key=\"autotalker_gp_names\",\n",
    "                        unfreeze_all_weights=False,\n",
    "                        unfreeze_cond_embed_weights=True)"
   ]
  },
  {
   "cell_type": "code",
   "execution_count": null,
   "id": "e6ecdc51-f9e0-443e-840b-7fe9fc668cdc",
   "metadata": {},
   "outputs": [],
   "source": [
    "# Train model\n",
    "model.train(n_epochs,\n",
    "            n_epochs_all_gps=n_epochs_all_gps,\n",
    "            lr=lr,\n",
    "            lambda_edge_recon=lambda_edge_recon,\n",
    "            lambda_gene_expr_recon=lambda_gene_expr_recon,\n",
    "            verbose=True)"
   ]
  },
  {
   "cell_type": "code",
   "execution_count": null,
   "id": "fbb836ee-1cb2-4d59-8de6-82be98969b6b",
   "metadata": {},
   "outputs": [],
   "source": [
    "# Save trained model\n",
    "model.save(dir_path=model_artifacts_folder_path + \"/reference_query_cond_embed\",\n",
    "           overwrite=True,\n",
    "           save_adata=True,\n",
    "           adata_file_name=f\"{dataset}.h5ad\")"
   ]
  },
  {
   "cell_type": "markdown",
   "id": "e0e2d251-d944-47f9-833a-2d7cbd2aa400",
   "metadata": {},
   "source": [
    "##### 3.4.2.2 Load Model"
   ]
  },
  {
   "cell_type": "code",
   "execution_count": null,
   "id": "071840f3-cd20-4124-abb1-9f08a142fb7a",
   "metadata": {},
   "outputs": [],
   "source": [
    "# Load trained model\n",
    "model = Autotalker.load(dir_path=model_artifacts_folder_path + \"/reference_query_cond_embed\",\n",
    "                        adata=None,\n",
    "                        adata_file_name=f\"{dataset}.h5ad\",\n",
    "                        gp_names_key=\"autotalker_gp_names\")"
   ]
  },
  {
   "cell_type": "markdown",
   "id": "ea4bc295-04d5-4b00-95b1-ff3521ea9694",
   "metadata": {},
   "source": [
    "##### 3.4.1.3 Analyze Latent Space"
   ]
  },
  {
   "cell_type": "code",
   "execution_count": null,
   "id": "73e67657-f58c-4519-97d7-befb6ea04b2f",
   "metadata": {},
   "outputs": [],
   "source": [
    "adata_reference_query.uns[gp_names_key] = adata_reference.uns[gp_names_key]\n",
    "\n",
    "adata_reference_query.obsm[\"autotalker_latent\"] = model.get_latent_representation(\n",
    "    adata=adata_reference_query,\n",
    "    condition_key=\"batch\")"
   ]
  },
  {
   "cell_type": "code",
   "execution_count": null,
   "id": "d4219329-a424-4412-8401-f994d88045d9",
   "metadata": {},
   "outputs": [],
   "source": [
    "# Use Autotalker latent space for UMAP generation\n",
    "sc.pp.neighbors(adata_reference_query, use_rep=latent_key)\n",
    "sc.tl.umap(adata_reference_query)"
   ]
  },
  {
   "cell_type": "code",
   "execution_count": null,
   "id": "9d24c30c-6990-4938-832b-c1d38eadb106",
   "metadata": {},
   "outputs": [],
   "source": [
    "# Plot UMAP with batch annotations\n",
    "fig = sc.pl.umap(adata_reference_query,\n",
    "                 color=[condition_key],\n",
    "                 title=\"Latent Space Batch Annotations (Reference Query Mapping Cond Embedding)\",\n",
    "                 return_fig=True)\n",
    "fig.savefig(f\"{figure_folder_path}/latent_batches_reference_query_cond_embed.png\",\n",
    "            bbox_inches=\"tight\")"
   ]
  },
  {
   "cell_type": "code",
   "execution_count": null,
   "id": "b319eadb-2999-4892-943e-bfdb79a909e6",
   "metadata": {},
   "outputs": [],
   "source": [
    "# Plot UMAP with cell type annotations\n",
    "fig = sc.pl.umap(adata_reference_query,\n",
    "                 color=[cell_type_key],\n",
    "                 title=\"Latent Space Cell Type Annotations (Reference Query Mapping Cond Embedding)\",\n",
    "                 return_fig=True)\n",
    "fig.savefig(f\"{figure_folder_path}/latent_cell_types_reference_query_cond_embed.png\",\n",
    "            bbox_inches=\"tight\")"
   ]
  },
  {
   "cell_type": "markdown",
   "id": "532782cd-ca12-4b89-969a-6b8e7ee1a5d3",
   "metadata": {},
   "source": [
    "##### 3.4.2.4 Analyze Batch Correction Metrics"
   ]
  },
  {
   "cell_type": "code",
   "execution_count": null,
   "id": "53dd8b73-3956-49cc-b075-ff934dfb6070",
   "metadata": {},
   "outputs": [],
   "source": [
    "batch_correction_metrics_reference_query_cond_embed = {}\n",
    "\n",
    "batch_correction_metrics_reference_query_cond_embed[\"graph_connectivity\"] = scib.me.graph_connectivity(\n",
    "    adata_reference_query,\n",
    "    label_key=cell_type_key)\n",
    "\n",
    "batch_correction_metrics_reference_query_cond_embed[\"ilisi_graph\"] = scib.me.ilisi_graph(\n",
    "    adata_reference_query,\n",
    "    batch_key=condition_key,\n",
    "    type_=\"embed\",\n",
    "    use_rep=latent_key)\n",
    "\n",
    "batch_correction_metrics_reference_query_cond_embed[\"kbet\"] = scib.me.kBET(\n",
    "    adata_reference_query,\n",
    "    batch_key=condition_key,\n",
    "    label_key=cell_type_key,\n",
    "    type_=\"embed\",\n",
    "    embed=latent_key)\n",
    "\n",
    "batch_correction_metrics_reference_query_cond_embed[\"silhouette_batch\"] = scib.me.silhouette_batch(\n",
    "    adata_reference_query,\n",
    "    batch_key=condition_key,\n",
    "    label_key=cell_type_key,\n",
    "    embed=latent_key)\n",
    "\n",
    "print(batch_correction_metrics_reference_query_cond_embed)"
   ]
  },
  {
   "cell_type": "markdown",
   "id": "d93aa904-f3cd-4c8f-900f-51a497818d68",
   "metadata": {},
   "source": [
    "##### 3.4.1.4 Analyze Conditional Embedding"
   ]
  },
  {
   "cell_type": "code",
   "execution_count": null,
   "id": "48a5adda-fca7-486a-ad38-d0507866c11e",
   "metadata": {},
   "outputs": [],
   "source": [
    "# Get conditional embeddings\n",
    "cond_embed = model.get_conditional_embeddings()\n",
    "adata_cond_embed = ad.AnnData(cond_embed)\n",
    "adata_cond_embed.obs[\"batch\"] = adata_reference_query.obs[\"batch\"].unique()"
   ]
  },
  {
   "cell_type": "code",
   "execution_count": null,
   "id": "6b692219-9d5e-4e51-90e5-eb06a917bae8",
   "metadata": {},
   "outputs": [],
   "source": [
    "sc.pp.neighbors(adata_cond_embed)\n",
    "sc.tl.umap(adata_cond_embed)\n",
    "fig = sc.pl.umap(adata_cond_embed,\n",
    "                 color=[condition_key],\n",
    "                 size=200,\n",
    "                 title=\"Reference Query Mapping Conditional Embeddings\",\n",
    "                 return_fig=True)\n",
    "fig.savefig(f\"{figure_folder_path}/cond_embed_reference_query.png\",\n",
    "            bbox_inches=\"tight\")"
   ]
  },
  {
   "cell_type": "code",
   "execution_count": null,
   "id": "92216e46-4fd3-4b3b-90b3-0f0c1c604e49",
   "metadata": {},
   "outputs": [],
   "source": []
  },
  {
   "cell_type": "code",
   "execution_count": null,
   "id": "2dfbcac0-5716-465e-a2de-4efb7f8e987a",
   "metadata": {},
   "outputs": [],
   "source": []
  },
  {
   "cell_type": "code",
   "execution_count": null,
   "id": "0abddbb5-80da-4c57-8c46-65330a9bf37a",
   "metadata": {},
   "outputs": [],
   "source": []
  },
  {
   "cell_type": "code",
   "execution_count": null,
   "id": "420e1ce9-f823-4d5a-a483-9d7cf760f301",
   "metadata": {},
   "outputs": [],
   "source": []
  },
  {
   "cell_type": "code",
   "execution_count": null,
   "id": "93ae2ee3-57ee-466e-b5a7-0cfdd7863b9b",
   "metadata": {},
   "outputs": [],
   "source": []
  },
  {
   "cell_type": "code",
   "execution_count": null,
   "id": "89a52cde-0b9d-482c-a39d-18a53571577d",
   "metadata": {},
   "outputs": [],
   "source": []
  },
  {
   "cell_type": "code",
   "execution_count": null,
   "id": "78526a08-b61b-45f1-b687-13ac7d6d48dd",
   "metadata": {},
   "outputs": [],
   "source": [
    "adata_complete = adata_complete[adata_complete.obs[\"batch\"] != \"embryo3_rep1\"]"
   ]
  },
  {
   "cell_type": "code",
   "execution_count": null,
   "id": "dbc6ab0c-f933-44c6-924b-519ec954c115",
   "metadata": {},
   "outputs": [],
   "source": [
    "# Use Autotalker latent space for UMAP generation\n",
    "sc.pp.neighbors(adata_complete, use_rep=latent_key, key_added=latent_key)\n",
    "sc.tl.umap(adata_complete, neighbors_key=latent_key)"
   ]
  },
  {
   "cell_type": "code",
   "execution_count": null,
   "id": "cace9370-2ceb-43d6-9ff9-35644f944068",
   "metadata": {},
   "outputs": [],
   "source": [
    "# Plot UMAP with batch annotations\n",
    "fig = sc.pl.umap(adata_complete,\n",
    "                 color=[condition_key],\n",
    "                 title=\"Latent Space with Decoder Integrated Batches: Autotalker\",\n",
    "                 return_fig=True)\n",
    "fig.savefig(f\"{figure_folder_path}/latent_autotalker_batches_integrated_decoder.png\",\n",
    "            bbox_inches=\"tight\")"
   ]
  },
  {
   "cell_type": "code",
   "execution_count": null,
   "id": "309ae97d-a1c7-483a-8f49-258a83415d66",
   "metadata": {},
   "outputs": [],
   "source": []
  },
  {
   "cell_type": "code",
   "execution_count": null,
   "id": "304ea97b-6953-4dcc-be07-2faf1dac419c",
   "metadata": {},
   "outputs": [],
   "source": [
    "scib.me.silhouette_batch(adata=adata_one_shot,\n",
    "                         batch_key=condition_key,\n",
    "                         label_key=cell_type_key,\n",
    "                         embed=latent_key)"
   ]
  },
  {
   "cell_type": "code",
   "execution_count": null,
   "id": "8f10b7a4-2ab1-4b2a-80d4-09273aa680a9",
   "metadata": {},
   "outputs": [],
   "source": []
  },
  {
   "cell_type": "code",
   "execution_count": null,
   "id": "f6013aa2-f7a9-4f46-87d6-1d18be9bef42",
   "metadata": {},
   "outputs": [],
   "source": [
    "from sklearn import preprocessing\n",
    "le = preprocessing.LabelEncoder()\n",
    "adata_one_shot.obs[\"condition\"] = le.fit_transform(adata_one_shot.obs[\"batch\"].values)\n",
    "\n",
    "cond_embed = model.get_conditional_embeddings()\n",
    "active_gp_mask = model.model.get_active_gp_mask()\n",
    "cond_embed_dot_pr = np.array(model.model.graph_decoder.cond_embed_l(torch.tensor(cond_embed, device=\"cuda:0\"))[:, active_gp_mask].cpu().detach())"
   ]
  },
  {
   "cell_type": "code",
   "execution_count": null,
   "id": "1332f6a8-b0cc-4a34-9e35-6eb98c25f66f",
   "metadata": {},
   "outputs": [],
   "source": [
    "adata_one_shot.obsm[\"autotalker_latent_cond\"] = adata_one_shot.obsm[\"autotalker_latent\"] + cond_embed_dot_pr[torch.tensor(adata_one_shot.obs[\"condition\"].values)]"
   ]
  },
  {
   "cell_type": "code",
   "execution_count": null,
   "id": "87e6eb71-0d45-4cea-93df-8a680266a3b8",
   "metadata": {},
   "outputs": [],
   "source": [
    "# Use Autotalker latent space for UMAP generation\n",
    "sc.pp.neighbors(adata_one_shot, use_rep=\"autotalker_latent_cond\")\n",
    "sc.tl.umap(adata_one_shot)"
   ]
  },
  {
   "cell_type": "code",
   "execution_count": null,
   "id": "fd4239a2-4a29-4af7-8420-e5feb19f0cdf",
   "metadata": {},
   "outputs": [],
   "source": [
    "fig = sc.pl.umap(adata_one_shot,\n",
    "                 color=[condition_key],\n",
    "                 title=\"Latent Space with Decoder Integrated Batches: Autotalker\",\n",
    "                 return_fig=True)"
   ]
  },
  {
   "cell_type": "code",
   "execution_count": null,
   "id": "ad620139-046e-4dad-b9ba-f4b00a3afd0d",
   "metadata": {},
   "outputs": [],
   "source": [
    "# Use Autotalker latent space for UMAP generation\n",
    "sc.pp.neighbors(adata_one_shot, use_rep=latent_key)\n",
    "sc.tl.umap(adata_one_shot)"
   ]
  },
  {
   "cell_type": "code",
   "execution_count": null,
   "id": "f37fd353-a1cb-4c9a-a787-691667db650e",
   "metadata": {},
   "outputs": [],
   "source": [
    "fig = sc.pl.umap(adata_one_shot,\n",
    "                 color=[condition_key],\n",
    "                 title=\"Latent Space with Decoder Integrated Batches: Autotalker\",\n",
    "                 return_fig=True)"
   ]
  },
  {
   "cell_type": "code",
   "execution_count": null,
   "id": "1020428a-1c2f-4570-94ec-0998764c4aaf",
   "metadata": {},
   "outputs": [],
   "source": []
  },
  {
   "cell_type": "code",
   "execution_count": null,
   "id": "2397ac6a-0ebb-4652-ab04-22526100c0e5",
   "metadata": {},
   "outputs": [],
   "source": []
  },
  {
   "cell_type": "code",
   "execution_count": null,
   "id": "8df1e81f-154f-44b3-8d34-811f9f1b67fc",
   "metadata": {},
   "outputs": [],
   "source": []
  },
  {
   "cell_type": "code",
   "execution_count": null,
   "id": "2721d821-68ab-4ec4-b9a5-7dc73b3dfb03",
   "metadata": {},
   "outputs": [],
   "source": []
  }
 ],
 "metadata": {
  "kernelspec": {
   "display_name": "Python 3 (ipykernel)",
   "language": "python",
   "name": "python3"
  },
  "language_info": {
   "codemirror_mode": {
    "name": "ipython",
    "version": 3
   },
   "file_extension": ".py",
   "mimetype": "text/x-python",
   "name": "python",
   "nbconvert_exporter": "python",
   "pygments_lexer": "ipython3",
   "version": "3.9.15"
  }
 },
 "nbformat": 4,
 "nbformat_minor": 5
}
