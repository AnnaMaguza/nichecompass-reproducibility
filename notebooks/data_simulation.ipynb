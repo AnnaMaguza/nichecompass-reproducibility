{
 "cells": [
  {
   "cell_type": "markdown",
   "id": "e5070953-d3a2-4b55-a413-6667b866ab11",
   "metadata": {},
   "source": [
    "# Data Simulations"
   ]
  },
  {
   "cell_type": "markdown",
   "id": "89a92b1d-780f-43c1-a458-3f22f12d5d9d",
   "metadata": {},
   "source": [
    "- **Creator**: Sebastian Birk (<sebastian.birk@helmholtz-munich.de>).\n",
    "- **Affiliation:** Helmholtz Munich, Institute of AI for Health (AIH), Talavera-López Lab\n",
    "- **Date of Creation:** 24.05.2024\n",
    "- **Date of Last Modification:** 17.06.2024"
   ]
  },
  {
   "cell_type": "markdown",
   "id": "46492b38-b25a-4be3-9001-329f951a0622",
   "metadata": {},
   "source": [
    "## 1. Setup"
   ]
  },
  {
   "cell_type": "markdown",
   "id": "fe5bc485-4124-4ae2-b5d8-2ccf4d075f4e",
   "metadata": {},
   "source": [
    "### 1.1 Import Libraries"
   ]
  },
  {
   "cell_type": "code",
   "execution_count": 1,
   "id": "5592c919-5b6a-4619-978e-0f6a479b579c",
   "metadata": {},
   "outputs": [
    {
     "name": "stderr",
     "output_type": "stream",
     "text": [
      "/home/aih/sebastian.birk/miniconda3/envs/nichecompass/lib/python3.9/site-packages/dask/dataframe/_pyarrow_compat.py:23: UserWarning: You are using pyarrow version 11.0.0 which is known to be insecure. See https://www.cve.org/CVERecord?id=CVE-2023-47248 for further details. Please upgrade to pyarrow>=14.0.1 or install pyarrow-hotfix to patch your current version.\n",
      "  warnings.warn(\n",
      "WARNING:root:Failed to download from `https://omnipathdb.org/`.\n",
      "WARNING:root:Traceback (most recent call last):\n",
      "  File \"/home/aih/sebastian.birk/miniconda3/envs/nichecompass/lib/python3.9/site-packages/urllib3/connectionpool.py\", line 715, in urlopen\n",
      "    httplib_response = self._make_request(\n",
      "  File \"/home/aih/sebastian.birk/miniconda3/envs/nichecompass/lib/python3.9/site-packages/urllib3/connectionpool.py\", line 404, in _make_request\n",
      "    self._validate_conn(conn)\n",
      "  File \"/home/aih/sebastian.birk/miniconda3/envs/nichecompass/lib/python3.9/site-packages/urllib3/connectionpool.py\", line 1058, in _validate_conn\n",
      "    conn.connect()\n",
      "  File \"/home/aih/sebastian.birk/miniconda3/envs/nichecompass/lib/python3.9/site-packages/urllib3/connection.py\", line 419, in connect\n",
      "    self.sock = ssl_wrap_socket(\n",
      "  File \"/home/aih/sebastian.birk/miniconda3/envs/nichecompass/lib/python3.9/site-packages/urllib3/util/ssl_.py\", line 449, in ssl_wrap_socket\n",
      "    ssl_sock = _ssl_wrap_socket_impl(\n",
      "  File \"/home/aih/sebastian.birk/miniconda3/envs/nichecompass/lib/python3.9/site-packages/urllib3/util/ssl_.py\", line 493, in _ssl_wrap_socket_impl\n",
      "    return ssl_context.wrap_socket(sock, server_hostname=server_hostname)\n",
      "  File \"/home/aih/sebastian.birk/miniconda3/envs/nichecompass/lib/python3.9/ssl.py\", line 501, in wrap_socket\n",
      "    return self.sslsocket_class._create(\n",
      "  File \"/home/aih/sebastian.birk/miniconda3/envs/nichecompass/lib/python3.9/ssl.py\", line 1041, in _create\n",
      "    self.do_handshake()\n",
      "  File \"/home/aih/sebastian.birk/miniconda3/envs/nichecompass/lib/python3.9/ssl.py\", line 1310, in do_handshake\n",
      "    self._sslobj.do_handshake()\n",
      "ssl.SSLEOFError: EOF occurred in violation of protocol (_ssl.c:1129)\n",
      "\n",
      "During handling of the above exception, another exception occurred:\n",
      "\n",
      "Traceback (most recent call last):\n",
      "  File \"/home/aih/sebastian.birk/miniconda3/envs/nichecompass/lib/python3.9/site-packages/requests/adapters.py\", line 486, in send\n",
      "    resp = conn.urlopen(\n",
      "  File \"/home/aih/sebastian.birk/miniconda3/envs/nichecompass/lib/python3.9/site-packages/urllib3/connectionpool.py\", line 799, in urlopen\n",
      "    retries = retries.increment(\n",
      "  File \"/home/aih/sebastian.birk/miniconda3/envs/nichecompass/lib/python3.9/site-packages/urllib3/util/retry.py\", line 592, in increment\n",
      "    raise MaxRetryError(_pool, url, error or ResponseError(cause))\n",
      "urllib3.exceptions.MaxRetryError: HTTPSConnectionPool(host='omnipathdb.org', port=443): Max retries exceeded with url: /queries/enzsub?format=json (Caused by SSLError(SSLEOFError(8, 'EOF occurred in violation of protocol (_ssl.c:1129)')))\n",
      "\n",
      "During handling of the above exception, another exception occurred:\n",
      "\n",
      "Traceback (most recent call last):\n",
      "  File \"/home/aih/sebastian.birk/miniconda3/envs/nichecompass/lib/python3.9/site-packages/omnipath/_core/downloader/_downloader.py\", line 143, in maybe_download\n",
      "    res = self._download(req)\n",
      "  File \"/home/aih/sebastian.birk/miniconda3/envs/nichecompass/lib/python3.9/site-packages/omnipath/_core/downloader/_downloader.py\", line 178, in _download\n",
      "    with self._session.send(\n",
      "  File \"/home/aih/sebastian.birk/miniconda3/envs/nichecompass/lib/python3.9/site-packages/requests/sessions.py\", line 703, in send\n",
      "    r = adapter.send(request, **kwargs)\n",
      "  File \"/home/aih/sebastian.birk/miniconda3/envs/nichecompass/lib/python3.9/site-packages/requests/adapters.py\", line 517, in send\n",
      "    raise SSLError(e, request=request)\n",
      "requests.exceptions.SSLError: HTTPSConnectionPool(host='omnipathdb.org', port=443): Max retries exceeded with url: /queries/enzsub?format=json (Caused by SSLError(SSLEOFError(8, 'EOF occurred in violation of protocol (_ssl.c:1129)')))\n",
      "\n"
     ]
    }
   ],
   "source": [
    "import warnings\n",
    "\n",
    "import numpy as np\n",
    "import pandas as pd\n",
    "import random\n",
    "import scanpy as sc\n",
    "import squidpy as sq\n",
    "\n",
    "from nichecompass.utils import (add_gps_from_gp_dict_to_adata,\n",
    "                                compute_communication_gp_network,\n",
    "                                visualize_communication_gp_network,\n",
    "                                create_new_color_dict,\n",
    "                                extract_gp_dict_from_mebocost_es_interactions,\n",
    "                                extract_gp_dict_from_nichenet_lrt_interactions,\n",
    "                                extract_gp_dict_from_omnipath_lr_interactions,\n",
    "                                filter_and_combine_gp_dict_gps,\n",
    "                                generate_enriched_gp_info_plots)"
   ]
  },
  {
   "cell_type": "markdown",
   "id": "89cbfa37-1b4f-498d-b550-86fd19c44159",
   "metadata": {},
   "source": [
    "### 1.2 Run Notebook Setup"
   ]
  },
  {
   "cell_type": "code",
   "execution_count": 2,
   "id": "ef8e6b34-1c7d-41ea-8108-d8a8ff681f85",
   "metadata": {},
   "outputs": [],
   "source": [
    "warnings.filterwarnings(\"ignore\")\n",
    "pd.set_option('display.max_columns', None)"
   ]
  },
  {
   "cell_type": "markdown",
   "id": "2a8f2964-3139-4059-bede-e3775ca122d5",
   "metadata": {},
   "source": [
    "### 1.3 Configure Paths and Create Directories"
   ]
  },
  {
   "cell_type": "code",
   "execution_count": 3,
   "id": "57dead28-9c33-4e13-9a75-9f14e7c27858",
   "metadata": {},
   "outputs": [],
   "source": [
    "species = \"mouse\"\n",
    "\n",
    "ga_data_folder_path = \"../datasets/ga_data\"\n",
    "gp_data_folder_path = \"../datasets/gp_data\"\n",
    "so_data_folder_path = \"../datasets/srt_data\"\n",
    "omnipath_lr_network_file_path = f\"{gp_data_folder_path}/omnipath_lr_network.csv\"\n",
    "collectri_tf_network_file_path = f\"{gp_data_folder_path}/collectri_tf_network_{species}.csv\"\n",
    "nichenet_lr_network_file_path = f\"{gp_data_folder_path}/nichenet_lr_network_v2_{species}.csv\"\n",
    "nichenet_ligand_target_matrix_file_path = f\"{gp_data_folder_path}/nichenet_ligand_target_matrix_v2_{species}.csv\"\n",
    "mebocost_enzyme_sensor_interactions_folder_path = f\"{gp_data_folder_path}/metabolite_enzyme_sensor_gps\"\n",
    "gene_orthologs_mapping_file_path = f\"{ga_data_folder_path}/human_mouse_gene_orthologs.csv\""
   ]
  },
  {
   "cell_type": "markdown",
   "id": "f35d8500-cd0e-4931-8ca2-52260d2a448b",
   "metadata": {},
   "source": [
    "## 2. Simulate Data"
   ]
  },
  {
   "cell_type": "markdown",
   "id": "d5e8683c-fe1e-4caa-a76f-357055f78c0b",
   "metadata": {},
   "source": [
    "### 2.1 Simulate Gene Interactions Based on Prior Knowledge Gene Programs (GPs)"
   ]
  },
  {
   "cell_type": "markdown",
   "id": "26fec8a8-b002-411f-ba35-fe07601b7e94",
   "metadata": {},
   "source": [
    "- Here we retrieve GPs based on three databases of prior knowledge of inter- and intracellular interaction pathways:\n",
    "    - OmniPath (Ligand-Receptor GPs)\n",
    "    - MEBOCOST (Enzyme-Sensor GPs)\n",
    "    - NicheNet (Combined Interaction GPs)\n",
    "- These GPs are also used as prior GPs supplied to NicheCompass. We will use these to artificially upregulate some programs and check whether this can be recovered by NicheCompass."
   ]
  },
  {
   "cell_type": "code",
   "execution_count": 4,
   "id": "d9f8d253-fc4d-477a-b9f2-1bd07edba9e5",
   "metadata": {},
   "outputs": [],
   "source": [
    "cell_types = [f\"Celltype{n}\" for n in range(1,5)]\n",
    "fold_changes = [1, 3, 5, 10]\n",
    "fold_changes_probs = [0.7, 0.1, 0.1, 0.1]"
   ]
  },
  {
   "cell_type": "code",
   "execution_count": 5,
   "id": "ca77a2d1-633a-4fe4-b24d-c7a6cc590b6d",
   "metadata": {},
   "outputs": [],
   "source": [
    "# Retrieve OmniPath GPs (source: ligand genes; target: receptor genes)\n",
    "omnipath_gp_dict = extract_gp_dict_from_omnipath_lr_interactions(\n",
    "    species=species,\n",
    "    min_curation_effort=0,\n",
    "    load_from_disk=True,\n",
    "    save_to_disk=False,\n",
    "    lr_network_file_path=omnipath_lr_network_file_path,\n",
    "    gene_orthologs_mapping_file_path=gene_orthologs_mapping_file_path,\n",
    "    plot_gp_gene_count_distributions=False)\n",
    "\n",
    "omnipath_gp_df = pd.DataFrame(omnipath_gp_dict.values())\n",
    "\n",
    "omnipath_gp_df[\"celltypeA\"] = np.random.choice(cell_types, size=len(omnipath_gp_df))\n",
    "omnipath_gp_df[\"celltypeB\"] = np.random.choice(cell_types, size=len(omnipath_gp_df))\n",
    "omnipath_gp_df[\"sources\"] = omnipath_gp_df[\"sources\"].apply(lambda x: \",\".join(map(str, x)))\n",
    "omnipath_gp_df[\"targets\"] = omnipath_gp_df[\"targets\"].apply(lambda x: \",\".join(map(str, x)))\n",
    "omnipath_gp_df[\"fold_change\"] = np.random.choice(fold_changes, size=len(omnipath_gp_df), p=fold_changes_probs)\n",
    "omnipath_gp_df.drop([\"sources_categories\", \"targets_categories\"], axis=1, inplace=True)\n",
    "omnipath_gp_df.to_csv(f\"{gp_data_folder_path}/simulations/omnipath_gps_simulations.csv\", index=False)"
   ]
  },
  {
   "cell_type": "code",
   "execution_count": 6,
   "id": "191beb76-bf9c-41fc-96f9-d7f7fa7b06f2",
   "metadata": {},
   "outputs": [],
   "source": [
    "# Retrieve MEBOCOST GPs (source: enzyme genes; target: sensor genes)\n",
    "mebocost_gp_dict = extract_gp_dict_from_mebocost_es_interactions(\n",
    "    dir_path=mebocost_enzyme_sensor_interactions_folder_path,\n",
    "    species=species,\n",
    "    plot_gp_gene_count_distributions=False)\n",
    "\n",
    "mebocost_gp_df = pd.DataFrame(mebocost_gp_dict.values())\n",
    "\n",
    "mebocost_gp_df[\"celltypeA\"] = np.random.choice(cell_types, size=len(mebocost_gp_df))\n",
    "mebocost_gp_df[\"celltypeB\"] = np.random.choice(cell_types, size=len(mebocost_gp_df))\n",
    "mebocost_gp_df[\"sources\"] = mebocost_gp_df[\"sources\"].apply(lambda x: np.random.choice(x, size=min(10, len(x)), replace=False)) # only keep 10 source genes\n",
    "mebocost_gp_df[\"targets\"] = mebocost_gp_df[\"targets\"].apply(lambda x: np.random.choice(x, size=min(10, len(x)), replace=False)) # only keep 10 target genes\n",
    "mebocost_gp_df[\"sources\"] = mebocost_gp_df[\"sources\"].apply(lambda x: \",\".join(map(str, x)))\n",
    "mebocost_gp_df[\"targets\"] = mebocost_gp_df[\"targets\"].apply(lambda x: \",\".join(map(str, x)))\n",
    "mebocost_gp_df[\"fold_change\"] = np.random.choice(fold_changes, size=len(mebocost_gp_df), p=fold_changes_probs)\n",
    "mebocost_gp_df.drop([\"sources_categories\", \"targets_categories\"], axis=1, inplace=True)\n",
    "mebocost_gp_df.to_csv(f\"{gp_data_folder_path}/simulations/mebocost_gps_simulations.csv\", index=False)"
   ]
  },
  {
   "cell_type": "code",
   "execution_count": 7,
   "id": "3f843a28-27d1-4916-911e-fc409586164e",
   "metadata": {},
   "outputs": [],
   "source": [
    "# Retrieve NicheNet GPs (source: ligand genes; target: receptor genes, target genes)\n",
    "nichenet_gp_dict = extract_gp_dict_from_nichenet_lrt_interactions(\n",
    "    species=species,\n",
    "    version=\"v2\",\n",
    "    keep_target_genes_ratio=1.,\n",
    "    max_n_target_genes_per_gp=250,\n",
    "    load_from_disk=True,\n",
    "    save_to_disk=False,\n",
    "    lr_network_file_path=nichenet_lr_network_file_path,\n",
    "    ligand_target_matrix_file_path=nichenet_ligand_target_matrix_file_path,\n",
    "    gene_orthologs_mapping_file_path=gene_orthologs_mapping_file_path,\n",
    "    plot_gp_gene_count_distributions=False)\n",
    "\n",
    "nichenet_gp_df = pd.DataFrame(nichenet_gp_dict.values())\n",
    "\n",
    "nichenet_gp_df[\"celltypeA\"] = np.random.choice(cell_types, size=len(nichenet_gp_df))\n",
    "nichenet_gp_df[\"celltypeB\"] = np.random.choice(cell_types, size=len(nichenet_gp_df))\n",
    "nichenet_gp_df[\"targets\"] = nichenet_gp_df[\"targets\"].apply(lambda x: np.random.choice(x, size=min(10, len(x)), replace=False)) # only keep 10 target genes\n",
    "nichenet_gp_df[\"sources\"] = nichenet_gp_df[\"sources\"].apply(lambda x: \",\".join(map(str, x)))\n",
    "nichenet_gp_df[\"targets\"] = nichenet_gp_df[\"targets\"].apply(lambda x: \",\".join(map(str, x)))\n",
    "nichenet_gp_df[\"fold_change\"] = np.random.choice(fold_changes, size=len(nichenet_gp_df), p=fold_changes_probs)\n",
    "nichenet_gp_df.drop([\"sources_categories\", \"targets_categories\"], axis=1, inplace=True)\n",
    "nichenet_gp_df.to_csv(f\"{gp_data_folder_path}/simulations/nichenet_gps_simulations.csv\", index=False)"
   ]
  },
  {
   "cell_type": "code",
   "execution_count": 8,
   "id": "6de4b6e4-f6e4-4080-bc36-7aab6cc37685",
   "metadata": {},
   "outputs": [],
   "source": [
    "# Add GPs into one combined dictionary for model training\n",
    "combined_gp_dict = dict(omnipath_gp_dict)\n",
    "combined_gp_dict.update(mebocost_gp_dict)\n",
    "combined_gp_dict.update(nichenet_gp_dict)"
   ]
  },
  {
   "cell_type": "code",
   "execution_count": 9,
   "id": "85aae240-4414-40d7-b1dd-222d960005c9",
   "metadata": {},
   "outputs": [
    {
     "name": "stdout",
     "output_type": "stream",
     "text": [
      "Number of gene programs before filtering and combining: 2324.\n",
      "Number of gene programs after filtering and combining: 1818.\n"
     ]
    }
   ],
   "source": [
    "# Filter and combine GPs to avoid overlaps\n",
    "combined_new_gp_dict = filter_and_combine_gp_dict_gps(\n",
    "    gp_dict=combined_gp_dict,\n",
    "    gp_filter_mode=\"subset\",\n",
    "    combine_overlap_gps=True,\n",
    "    overlap_thresh_source_genes=0.9,\n",
    "    overlap_thresh_target_genes=0.9,\n",
    "    overlap_thresh_genes=0.9)\n",
    "\n",
    "print(\"Number of gene programs before filtering and combining: \"\n",
    "      f\"{len(combined_gp_dict)}.\")\n",
    "print(f\"Number of gene programs after filtering and combining: \"\n",
    "      f\"{len(combined_new_gp_dict)}.\")"
   ]
  },
  {
   "cell_type": "code",
   "execution_count": 10,
   "id": "44a908e6-752d-41a7-97db-702f5d8479d3",
   "metadata": {},
   "outputs": [],
   "source": [
    "# Retrieve combined GPs\n",
    "combined_gp_df = pd.DataFrame(combined_new_gp_dict.values())\n",
    "\n",
    "sampled_idx = np.random.choice([1, 2, 3, 4], size=len(combined_gp_df))\n",
    "cell_type_region_choices = [[idx] + list(set(range(1, 5)) - set([idx])) for idx in sampled_idx]\n",
    "\n",
    "combined_gp_df[\"celltypeA\"] = [\"Celltype\" + str(idx) for idx in sampled_idx]\n",
    "combined_gp_df[\"regionA\"] = [\"Region\" + str(np.random.choice(cell_type_region_choices[idx],\n",
    "                                                             p=[0.7, 0.1, 0.1, 0.1])) for idx in range(len(combined_gp_df))] # this should be aligned with 'region_celltype_df' from simulation\n",
    "combined_gp_df[\"celltypeB\"] = np.random.choice(cell_types, size=len(combined_gp_df))\n",
    "combined_gp_df[\"sources\"] = combined_gp_df[\"sources\"].apply(lambda x: np.random.choice(x, size=min(10, len(x)), replace=False)) # only keep 10 source genes\n",
    "combined_gp_df[\"targets\"] = combined_gp_df[\"targets\"].apply(lambda x: np.random.choice(x, size=min(10, len(x)), replace=False)) # only keep 10 target genes\n",
    "combined_gp_df[\"sources\"] = combined_gp_df[\"sources\"].apply(lambda x: \",\".join(map(str, x)))\n",
    "combined_gp_df[\"targets\"] = combined_gp_df[\"targets\"].apply(lambda x: \",\".join(map(str, x)))\n",
    "combined_gp_df[\"fold_change\"] = np.random.choice(fold_changes, size=len(combined_gp_df), p=fold_changes_probs)\n",
    "combined_gp_df.drop([\"sources_categories\", \"targets_categories\"], axis=1, inplace=True)\n",
    "combined_gp_df.to_csv(f\"{gp_data_folder_path}/simulations/combined_gps_simulations.csv\", index=False)"
   ]
  },
  {
   "cell_type": "code",
   "execution_count": 13,
   "id": "b7d4688f-0a52-4481-bc76-5ec49075c50e",
   "metadata": {},
   "outputs": [
    {
     "name": "stdout",
     "output_type": "stream",
     "text": [
      "4501\n"
     ]
    }
   ],
   "source": [
    "# Get unique number of genes in combined gp dataframe\n",
    "combined_gp_source_genes = combined_gp_df[\"sources\"].apply(lambda x: x.split(\",\")).values\n",
    "combined_gp_target_genes = combined_gp_df[\"targets\"].apply(lambda x: x.split(\",\")).values\n",
    "unique_target_genes = set([gene for genes in combined_gp_target_genes for gene in genes])\n",
    "unique_source_genes = set([gene for genes in combined_gp_source_genes for gene in genes])\n",
    "unique_prior_genes = unique_target_genes | unique_source_genes\n",
    "print(len(unique_prior_genes)) # 4501"
   ]
  },
  {
   "cell_type": "code",
   "execution_count": 19,
   "id": "5bf70a56-d42c-4b04-a3c3-60ab9e285128",
   "metadata": {},
   "outputs": [
    {
     "name": "stdout",
     "output_type": "stream",
     "text": [
      "13327\n"
     ]
    }
   ],
   "source": [
    "# Get total number of unique genes\n",
    "all_genes_df = pd.DataFrame(combined_new_gp_dict.values())\n",
    "all_source_genes = all_genes_df[\"sources\"]\n",
    "all_target_genes = all_genes_df[\"targets\"]\n",
    "unique_target_genes = set([gene for genes in all_source_genes for gene in genes])\n",
    "unique_source_genes = set([gene for genes in all_target_genes for gene in genes])\n",
    "unique_genes = unique_target_genes | unique_source_genes\n",
    "print(len(unique_genes)) # 13327"
   ]
  },
  {
   "cell_type": "code",
   "execution_count": 26,
   "id": "26beaac9-da3b-4f1e-8b8d-a8fafa6488a6",
   "metadata": {},
   "outputs": [],
   "source": [
    "# Simulate de-novo genes and GPs.\n",
    "# Include all genes that are not included in combined gp dict as de novo genes\n",
    "unique_denovo_genes = [f\"denovo_gene{i}\" for i in range (len(unique_genes) - len(unique_prior_genes))]\n",
    "#all_genes = list(unique_prior_genes) + unique_denovo_genes\n",
    "all_genes = unique_denovo_genes\n",
    "n_denovo_gps = 182\n",
    "de_novo_gp_df = pd.DataFrame({\"sources\": [random.sample(all_genes, 1) for i in range(n_denovo_gps)] , \"targets\": [random.sample(all_genes, 10) for i in range(n_denovo_gps)]})\n",
    "de_novo_gp_df[\"sources\"] = de_novo_gp_df[\"sources\"].apply(lambda x: \",\".join(map(str, x)))\n",
    "de_novo_gp_df[\"targets\"] = de_novo_gp_df[\"targets\"].apply(lambda x: \",\".join(map(str, x)))\n",
    "\n",
    "sampled_idx = np.random.choice([1, 2, 3, 4], size=len(de_novo_gp_df))\n",
    "cell_type_region_choices = [[idx] + list(set(range(1, 5)) - set([idx])) for idx in sampled_idx]\n",
    "de_novo_gp_df[\"celltypeA\"] = [\"Celltype\" + str(idx) for idx in sampled_idx]\n",
    "de_novo_gp_df[\"regionA\"] = [\"Region\" + str(np.random.choice(cell_type_region_choices[idx],\n",
    "                                                            p=[0.7, 0.1, 0.1, 0.1])) for idx in range(len(de_novo_gp_df))] # this should be aligned with 'region_celltype_df' from simulation\n",
    "de_novo_gp_df[\"celltypeB\"] = np.random.choice(cell_types, size=len(de_novo_gp_df))\n",
    "de_novo_gp_df[\"fold_change\"] = np.random.choice(fold_changes, size=len(de_novo_gp_df), p=fold_changes_probs)\n",
    "all_gp_df = pd.concat([combined_gp_df, de_novo_gp_df])\n",
    "all_gp_df.to_csv(f\"{gp_data_folder_path}/simulations/combined_denovo_gps_simulations.csv\", index=False)"
   ]
  },
  {
   "cell_type": "code",
   "execution_count": 27,
   "id": "b31ec10d-043a-4c09-a20c-c26dd09db941",
   "metadata": {},
   "outputs": [
    {
     "name": "stdout",
     "output_type": "stream",
     "text": [
      "6290\n"
     ]
    }
   ],
   "source": [
    "# Get unique number of genes\n",
    "all_gp_source_genes = all_gp_df[\"sources\"].apply(lambda x: x.split(\",\")).values\n",
    "all_gp_target_genes = all_gp_df[\"targets\"].apply(lambda x: x.split(\",\")).values\n",
    "unique_target_genes = set([gene for genes in all_gp_target_genes for gene in genes])\n",
    "unique_source_genes = set([gene for genes in all_gp_source_genes for gene in genes])\n",
    "unique_all_genes = unique_target_genes | unique_source_genes\n",
    "print(len(unique_all_genes)) # 6290"
   ]
  },
  {
   "cell_type": "code",
   "execution_count": 42,
   "id": "fe5ed851-c3c3-4ea4-bd08-69022b0778e4",
   "metadata": {},
   "outputs": [],
   "source": [
    "# Create different prior GP fold changes\n",
    "for fold_change_descriptor, fold_changes_probs in zip(\n",
    "    [\"weak\", \"medium\", \"strong\"],\n",
    "    [[0.7, 0.1, 0.1, 0.1],\n",
    "     [0.9, 1/30, 1/30, 1/30],\n",
    "     [0.95, 1/60, 1/60, 1/60]]):\n",
    "    all_gp_df[\"fold_change\"] = np.random.choice(fold_changes, size=len(all_gp_df), p=fold_changes_probs)\n",
    "    all_gp_df.to_csv(f\"{gp_data_folder_path}/simulations/combined_denovo_gps_simulations_{fold_change_descriptor}_fc.csv\", index=False)"
   ]
  },
  {
   "cell_type": "markdown",
   "id": "e9ae2e4a-f74f-4e96-be05-a9bbc0e2f83a",
   "metadata": {},
   "source": [
    "### 2.2 Simulate Data Based on Gene Interactions"
   ]
  },
  {
   "cell_type": "markdown",
   "id": "58af3b0c-9216-4ca7-b33c-34ca60af2c64",
   "metadata": {},
   "source": [
    "Run '../scripts/data_simulation/data_simulation.R' with simulated gene interactions as input."
   ]
  },
  {
   "cell_type": "markdown",
   "id": "c05ef135-634b-428b-9875-8dc68f4f0879",
   "metadata": {},
   "source": [
    "### 2.3 Explore Simulated Data"
   ]
  },
  {
   "cell_type": "code",
   "execution_count": null,
   "id": "352f8c4e-8b15-4da7-b4d9-94a65e834400",
   "metadata": {},
   "outputs": [],
   "source": [
    "adata_ref_gps_1 = sc.read_h5ad(f\"{so_data_folder_path}/simulations/simulated_ref_gps_1.h5ad\")\n",
    "adata_ref_gps_1.obsm[\"spatial\"] = adata_ref_gps_1.obs[[\"x\", \"y\"]].values"
   ]
  },
  {
   "cell_type": "code",
   "execution_count": null,
   "id": "13e88de4-99b6-446f-acc0-da093ae4d899",
   "metadata": {},
   "outputs": [],
   "source": [
    "# Visualize cell types in tissue\n",
    "sq.pl.spatial_scatter(adata_ref_gps_1, color=\"cell_type\", shape=None) "
   ]
  },
  {
   "cell_type": "code",
   "execution_count": null,
   "id": "f4cb3131-d17e-4b7f-bbfe-14e8aa371de3",
   "metadata": {},
   "outputs": [],
   "source": [
    "# Visualize cell types in tissue\n",
    "sq.pl.spatial_scatter(adata_ref_gps_1, color=\"region_label\", shape=None) "
   ]
  },
  {
   "cell_type": "code",
   "execution_count": null,
   "id": "653e7eb2-64ca-4474-b269-794cf8952943",
   "metadata": {},
   "outputs": [],
   "source": [
    "combined_gp_df[combined_gp_df[\"fold_change\"] == 10]"
   ]
  },
  {
   "cell_type": "code",
   "execution_count": null,
   "id": "7258ac93-bbfd-42cd-adb7-466e871ddc1d",
   "metadata": {},
   "outputs": [],
   "source": [
    "sq.pl.spatial_scatter(adata_ref_gps_1, color=\"Cxcl10\", shape=None) "
   ]
  },
  {
   "cell_type": "code",
   "execution_count": null,
   "id": "75d19b6e-3135-46aa-8081-5fe447d51856",
   "metadata": {},
   "outputs": [],
   "source": [
    "# Reduce sparsity for cell interaction genes? E.g. add counts of 1?\n",
    "# Different number of genes and locations\n"
   ]
  },
  {
   "cell_type": "code",
   "execution_count": null,
   "id": "e6678d34-7b99-40a9-bb25-51f764d87a5a",
   "metadata": {},
   "outputs": [],
   "source": [
    "adata_free = sc.read_h5ad(\"./simulated_free_1.h5ad\")\n",
    "adata_free.obsm[\"spatial\"] = adata_free.obs[[\"x\", \"y\"]].values"
   ]
  },
  {
   "cell_type": "code",
   "execution_count": null,
   "id": "abfd1cbc-f7ff-4e11-8f4a-156d4e50344f",
   "metadata": {},
   "outputs": [],
   "source": [
    "# Visualize cell types in tissue\n",
    "sq.pl.spatial_scatter(adata_free, color=\"cell_type\", shape=None) "
   ]
  },
  {
   "cell_type": "code",
   "execution_count": null,
   "id": "60293900-d76a-49fb-8548-951a7aa8e88b",
   "metadata": {},
   "outputs": [],
   "source": [
    "# Visualize cell types in tissue\n",
    "sq.pl.spatial_scatter(adata_free, color=\"region_label\", shape=None) "
   ]
  },
  {
   "cell_type": "code",
   "execution_count": null,
   "id": "917cea4b-068c-407e-935d-8d6adcbad733",
   "metadata": {},
   "outputs": [],
   "source": [
    "adata_free.uns"
   ]
  },
  {
   "cell_type": "code",
   "execution_count": null,
   "id": "dfc9f8b4-67e3-4f3d-b052-64fbe4eeda8e",
   "metadata": {},
   "outputs": [],
   "source": [
    "sq.pl.spatial_scatter(adata_free, color=\"EFNA1\", shape=None) "
   ]
  },
  {
   "cell_type": "code",
   "execution_count": null,
   "id": "9b078949-747f-4e8d-ac5d-45af9fefd8e5",
   "metadata": {},
   "outputs": [],
   "source": [
    "sq.pl.spatial_scatter(adata_free, color=\"EPHA1\", shape=None) "
   ]
  },
  {
   "cell_type": "code",
   "execution_count": null,
   "id": "feb2cf28-57f8-438c-a38f-b15b5ab204de",
   "metadata": {},
   "outputs": [],
   "source": []
  },
  {
   "cell_type": "code",
   "execution_count": null,
   "id": "c6ad4b14-4dd3-4c9e-9780-8b1ebea82226",
   "metadata": {},
   "outputs": [],
   "source": []
  },
  {
   "cell_type": "code",
   "execution_count": null,
   "id": "85ac54bf-b355-4cda-9cd2-3e74139a6059",
   "metadata": {},
   "outputs": [],
   "source": [
    "adata_ref.uns"
   ]
  },
  {
   "cell_type": "code",
   "execution_count": null,
   "id": "66c13964-7022-4d4d-a313-74aaf3c90693",
   "metadata": {},
   "outputs": [],
   "source": [
    "sq.pl.spatial_scatter(adata_ref, color=\"Bdnf\", shape=None) "
   ]
  },
  {
   "cell_type": "code",
   "execution_count": null,
   "id": "76217766-f3f7-4e67-8d2e-75cbc192d848",
   "metadata": {},
   "outputs": [],
   "source": [
    "sq.pl.spatial_scatter(adata_ref, color=\"Drd4\", shape=None) "
   ]
  },
  {
   "cell_type": "code",
   "execution_count": null,
   "id": "a57334f1-f54e-46f9-b6a1-90d76fdd9efb",
   "metadata": {},
   "outputs": [],
   "source": [
    "sq.pl.spatial_scatter(adata_ref, color=\"Fyn\", shape=None) "
   ]
  },
  {
   "cell_type": "code",
   "execution_count": null,
   "id": "3d4aec0f-01c6-4c9c-a4b7-00c3df7ad688",
   "metadata": {},
   "outputs": [],
   "source": [
    "sq.pl.spatial_scatter(adata_ref, color=\"Mapk7\", shape=None) "
   ]
  },
  {
   "cell_type": "code",
   "execution_count": null,
   "id": "960178ab-dc1e-4cf1-8801-9a49eb327f5f",
   "metadata": {},
   "outputs": [],
   "source": []
  }
 ],
 "metadata": {
  "kernelspec": {
   "display_name": "Python 3 (ipykernel)",
   "language": "python",
   "name": "python3"
  },
  "language_info": {
   "codemirror_mode": {
    "name": "ipython",
    "version": 3
   },
   "file_extension": ".py",
   "mimetype": "text/x-python",
   "name": "python",
   "nbconvert_exporter": "python",
   "pygments_lexer": "ipython3",
   "version": "3.9.16"
  }
 },
 "nbformat": 4,
 "nbformat_minor": 5
}
