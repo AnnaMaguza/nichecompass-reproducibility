{
 "cells": [
  {
   "cell_type": "markdown",
   "id": "1b1daabf-c8e3-43d4-aa32-9789abcc8619",
   "metadata": {},
   "source": [
    "# Reference Query Mapping"
   ]
  },
  {
   "cell_type": "markdown",
   "id": "c325d921-2077-42b3-90a8-6f6c7dd928c5",
   "metadata": {},
   "source": [
    "- **Creator**: Sebastian Birk (<sebastian.birk@helmholtz-munich.de>).\n",
    "- **Affiliation:** Helmholtz Munich, Institute of Computational Biology (ICB), Talavera-López Lab\n",
    "- **Date of Creation:** 18.05.2023\n",
    "- **Date of Last Modification:** 05.07.2023"
   ]
  },
  {
   "cell_type": "markdown",
   "id": "68a24279-e59a-4c19-8c58-c8b9286fcd04",
   "metadata": {},
   "source": [
    "Before proceeding with this notebook, two steps need to be successfully conducted: <br>\n",
    "- A model has been trained with a reference dataset with ```<root>/scripts/train_nichecompass_reference_model.py```. <br>\n",
    "- A query has been mapped onto the reference model with ```<root>/scripts/map_query_on_nichecompass_reference_model.py```."
   ]
  },
  {
   "cell_type": "markdown",
   "id": "7350cbcb-18f8-4f7a-a476-2dd0a0e1e3be",
   "metadata": {},
   "source": [
    "## 1. Setup"
   ]
  },
  {
   "cell_type": "markdown",
   "id": "2ada23e4-a814-4374-825f-00528a78cec4",
   "metadata": {},
   "source": [
    "### 1.1 Import Libraries"
   ]
  },
  {
   "cell_type": "code",
   "execution_count": null,
   "id": "6a70c75d-cd86-4b02-b2fb-0e04ed0720c9",
   "metadata": {},
   "outputs": [],
   "source": [
    "%load_ext autoreload\n",
    "%autoreload 2"
   ]
  },
  {
   "cell_type": "code",
   "execution_count": null,
   "id": "11542f4a-84c1-44a1-aee3-dde4bcd77bbb",
   "metadata": {},
   "outputs": [],
   "source": [
    "import sys\n",
    "sys.path.append(\"../../utils\")"
   ]
  },
  {
   "cell_type": "code",
   "execution_count": null,
   "id": "1f54c6e8-ff7b-438a-b86d-1c5c3d2bf8be",
   "metadata": {},
   "outputs": [],
   "source": [
    "import os\n",
    "import warnings\n",
    "\n",
    "import matplotlib.cm as cm\n",
    "import matplotlib.pyplot as plt\n",
    "import numpy as np\n",
    "import pandas as pd\n",
    "import scarches as sca\n",
    "import seaborn as sns\n",
    "from scipy.spatial import distance\n",
    "from scipy.spatial.distance import cdist\n",
    "from scipy.optimize import linear_sum_assignment\n",
    "\n",
    "from nichecompass.models import NicheCompass\n",
    "from nichecompass.utils import create_new_color_dict\n",
    "from analysis_utils import *\n",
    "from reference_query_mapping_utils import Sankey"
   ]
  },
  {
   "cell_type": "markdown",
   "id": "0dcc2cfe-2cff-4d1d-9b99-5163cca5ec41",
   "metadata": {},
   "source": [
    "### 1.2 Define Parameters"
   ]
  },
  {
   "cell_type": "code",
   "execution_count": null,
   "id": "109b8c21-9856-45f6-927a-39fb8b9a5072",
   "metadata": {},
   "outputs": [],
   "source": [
    "### Dataset ###\n",
    "dataset = \"seqfish_mouse_organogenesis_imputed\"\n",
    "\n",
    "### Model ###\n",
    "node_label_method = \"one-hop-norm\"\n",
    "gp_names_key = \"nichecompass_gp_names\"\n",
    "mapping_entity_key = \"mapping_entity\"\n",
    "sample_key = \"sample\"\n",
    "condition_key = \"batch\"\n",
    "cell_type_key = \"celltype_mapped_refined\"\n",
    "latent_key = \"nichecompass_latent\"\n",
    "spatial_key = \"spatial\"\n",
    "reference_query_model_label = f\"{node_label_method}_reference_query_query_mapping\"\n",
    "load_timestamp = \"01072023_165203_1\"\n",
    "\n",
    "### Analysis ###\n",
    "latent_leiden_resolution = 0.2\n",
    "latent_cluster_key = f\"latent_leiden_{str(latent_leiden_resolution)}\"\n",
    "spot_size = 0.03\n",
    "\n",
    "latent_reference_leiden_resolution = 0.15\n",
    "latent_reference_cluster_key = f\"latent_leiden_reference_{latent_reference_leiden_resolution}\"\n",
    "\n",
    "latent_query_leiden_resolution = 0.15\n",
    "latent_query_cluster_key = f\"latent_leiden_query_{latent_query_leiden_resolution}\"\n",
    "\n",
    "label_key = latent_reference_cluster_key\n",
    "ground_truth_key = latent_query_cluster_key\n",
    "transfer_label_key = f\"transferred_{label_key}\"\n",
    "transfer_label_uncertainty_key = f\"transferred_{label_key}_uncertainty\"\n",
    "transfer_label_evaluation_key = f\"{transfer_label_key}_evaluation\""
   ]
  },
  {
   "cell_type": "markdown",
   "id": "47cb51f2-d355-459c-933d-b1a2d012e87a",
   "metadata": {},
   "source": [
    "### 1.3 Run Notebook Setup"
   ]
  },
  {
   "cell_type": "code",
   "execution_count": null,
   "id": "10f8dfe2-a878-43a9-b12f-7fefbcaa0c4f",
   "metadata": {},
   "outputs": [],
   "source": [
    "warnings.filterwarnings(\"ignore\")"
   ]
  },
  {
   "cell_type": "markdown",
   "id": "5063253e-b9df-47e3-96f0-522dcf862f1e",
   "metadata": {},
   "source": [
    "### 1.4 Configure Paths"
   ]
  },
  {
   "cell_type": "code",
   "execution_count": null,
   "id": "9bbe62ae-d7ed-4ccb-a65c-689b0afd75b7",
   "metadata": {},
   "outputs": [],
   "source": [
    "# Define paths\n",
    "artifacts_folder_path = f\"../../artifacts\"\n",
    "model_folder_path = f\"{artifacts_folder_path}/{dataset}/models/{reference_query_model_label}/{load_timestamp}\"\n",
    "figure_folder_path = f\"{artifacts_folder_path}/{dataset}/figures/{load_timestamp}\"\n",
    "os.makedirs(figure_folder_path, exist_ok=True)"
   ]
  },
  {
   "cell_type": "markdown",
   "id": "103871a2-2d96-4a64-9f71-99f388a9c345",
   "metadata": {},
   "source": [
    "## 2. Model"
   ]
  },
  {
   "cell_type": "markdown",
   "id": "c58bd27f-555f-4a34-89c9-0d5f6fa3b147",
   "metadata": {},
   "source": [
    "### 2.1 Load Model"
   ]
  },
  {
   "cell_type": "code",
   "execution_count": null,
   "id": "229a2c49-724d-4265-9edf-e878d42d1878",
   "metadata": {},
   "outputs": [],
   "source": [
    "# Load trained model\n",
    "model = NicheCompass.load(dir_path=model_folder_path,\n",
    "                          adata=None,\n",
    "                          adata_file_name=f\"{dataset}_{reference_query_model_label}.h5ad\",\n",
    "                          gp_names_key=gp_names_key)"
   ]
  },
  {
   "cell_type": "markdown",
   "id": "e95d9890-53ac-47cf-a758-7b5f7c80aa2e",
   "metadata": {},
   "source": [
    "## 3. Analysis"
   ]
  },
  {
   "cell_type": "code",
   "execution_count": null,
   "id": "c8a4431f-c5e3-4f0f-a1be-78a29f4cac5d",
   "metadata": {},
   "outputs": [],
   "source": [
    "# Check number of active gene programs\n",
    "active_gps = model.get_active_gps()\n",
    "print(f\"Number of total gene programs: {len(model.adata.uns[gp_names_key])}.\")\n",
    "print(f\"Number of active gene programs: {len(active_gps)}.\")"
   ]
  },
  {
   "cell_type": "code",
   "execution_count": null,
   "id": "3c1dc40c-5063-4e5c-ae02-1dfef52c4ebe",
   "metadata": {},
   "outputs": [],
   "source": [
    "gp_summary_df = model.get_gp_summary()\n",
    "gp_summary_df[gp_summary_df[\"gp_active\"] == True][0:20]"
   ]
  },
  {
   "cell_type": "markdown",
   "id": "91b2e495-b117-4408-9748-46c954207c20",
   "metadata": {},
   "source": [
    "### 3.1 Analyze Latent Manifold"
   ]
  },
  {
   "cell_type": "code",
   "execution_count": null,
   "id": "244e01c0-5e73-4d9c-b85b-bcf2f899d79c",
   "metadata": {},
   "outputs": [],
   "source": [
    "samples = model.adata.obs[sample_key].unique().tolist()"
   ]
  },
  {
   "cell_type": "code",
   "execution_count": null,
   "id": "4ff9d640-03a7-4994-9621-fd09d35c66b3",
   "metadata": {},
   "outputs": [],
   "source": [
    "# Plot mapping entities in latent and physical space\n",
    "save_fig = True\n",
    "file_path = f\"{figure_folder_path}/\" \\\n",
    "            \"mapping_entities_latent_physical_space.svg\"\n",
    "\n",
    "plot_category_in_latent_and_physical_space(\n",
    "    adata=model.adata,\n",
    "    plot_label=\"Mapping Entities\",\n",
    "    cat_key=mapping_entity_key,\n",
    "    groups=None,\n",
    "    sample_key=sample_key,\n",
    "    samples=samples,\n",
    "    cat_colors=None,\n",
    "    size=360000/len(model.adata),\n",
    "    spot_size=spot_size,\n",
    "    save_fig=save_fig,\n",
    "    file_path=file_path)"
   ]
  },
  {
   "cell_type": "code",
   "execution_count": null,
   "id": "69ba7cdd-7d9f-46bd-8b47-bd2cf7bd2291",
   "metadata": {},
   "outputs": [],
   "source": [
    "# Plot batches in latent and physical space\n",
    "save_fig = True\n",
    "file_path = f\"{figure_folder_path}/\" \\\n",
    "            \"batches_latent_physical_space.svg\"\n",
    "\n",
    "plot_category_in_latent_and_physical_space(\n",
    "    adata=model.adata,\n",
    "    plot_label=\"Batches\",\n",
    "    cat_key=condition_key,\n",
    "    groups=None,\n",
    "    sample_key=sample_key,\n",
    "    samples=samples,\n",
    "    cat_colors=None,\n",
    "    size=360000/len(model.adata),\n",
    "    spot_size=spot_size,\n",
    "    save_fig=save_fig,\n",
    "    file_path=file_path)"
   ]
  },
  {
   "cell_type": "code",
   "execution_count": null,
   "id": "97d0393f-c005-4e38-8d9f-267fb07da82d",
   "metadata": {},
   "outputs": [],
   "source": [
    "cell_type_colors = create_new_color_dict(\n",
    "    adata=model.adata,\n",
    "    cat_key=cell_type_key)"
   ]
  },
  {
   "cell_type": "code",
   "execution_count": null,
   "id": "942d3691-56a5-40b7-a425-28422ce1de92",
   "metadata": {},
   "outputs": [],
   "source": [
    "# Plot cell types in latent and physical space\n",
    "save_fig = True\n",
    "file_path = f\"{figure_folder_path}/\" \\\n",
    "            \"cell_types_latent_physical_space.svg\"\n",
    "\n",
    "plot_category_in_latent_and_physical_space(\n",
    "    adata=model.adata,\n",
    "    plot_label=\"Cell Types\",\n",
    "    cat_key=cell_type_key,\n",
    "    groups=None, # \"ExE endoderm\",\n",
    "    sample_key=sample_key,\n",
    "    samples=samples,\n",
    "    cat_colors=cell_type_colors,\n",
    "    size=None,\n",
    "    spot_size=spot_size,\n",
    "    save_fig=save_fig,\n",
    "    file_path=file_path)"
   ]
  },
  {
   "cell_type": "code",
   "execution_count": null,
   "id": "9d0c8194-4022-4e1e-b280-f30f6fb574fd",
   "metadata": {},
   "outputs": [],
   "source": [
    "# Compute latent Leiden clustering \n",
    "sc.tl.leiden(adata=model.adata,\n",
    "             resolution=latent_leiden_resolution,\n",
    "             key_added=latent_cluster_key,\n",
    "             neighbors_key=latent_key)"
   ]
  },
  {
   "cell_type": "code",
   "execution_count": null,
   "id": "ee2046bb-4853-47f7-8dab-dd5c8f098faa",
   "metadata": {},
   "outputs": [],
   "source": [
    "latent_cluster_colors = create_new_color_dict(\n",
    "    adata=model.adata,\n",
    "    cat_key=latent_cluster_key)"
   ]
  },
  {
   "cell_type": "code",
   "execution_count": null,
   "id": "5bcb6164-4761-45f8-a026-ce593186b768",
   "metadata": {},
   "outputs": [],
   "source": [
    "# Latent clusters in latent and physical space\n",
    "save_fig = True\n",
    "file_path = f\"{figure_folder_path}/res_{latent_leiden_resolution}_\" \\\n",
    "            \"latent_clusters_latent_physical_space.svg\"\n",
    "\n",
    "plot_category_in_latent_and_physical_space(\n",
    "    adata=model.adata,\n",
    "    plot_label=\"Latent Clusters\",\n",
    "    cat_key=latent_cluster_key,\n",
    "    groups=None,\n",
    "    sample_key=sample_key,\n",
    "    samples=samples,\n",
    "    cat_colors=latent_cluster_colors,\n",
    "    size=None,\n",
    "    spot_size=spot_size,\n",
    "    save_fig=save_fig,\n",
    "    file_path=file_path)"
   ]
  },
  {
   "cell_type": "markdown",
   "id": "4fa43a45-7c6d-475a-be71-e5378594c1e4",
   "metadata": {},
   "source": [
    "### 3.2 Analyze Query Enrichments (vs Reference)"
   ]
  },
  {
   "cell_type": "markdown",
   "id": "e3969ec5-3b85-4a12-9a6d-b01ec67173d6",
   "metadata": {
    "tags": []
   },
   "source": [
    "#### 3.2.1 Visualize Query-enriched Cell Types in Physical and Latent Space"
   ]
  },
  {
   "cell_type": "code",
   "execution_count": null,
   "id": "6b0003d5-00ed-4f70-bde4-d9c884556085",
   "metadata": {},
   "outputs": [],
   "source": [
    "adata_reference = model.adata[model.adata.obs[mapping_entity_key] == \"reference\"]\n",
    "adata_query = model.adata[model.adata.obs[mapping_entity_key] == \"query\"]\n",
    "\n",
    "reference_samples = adata_reference.obs[sample_key].unique().tolist()"
   ]
  },
  {
   "cell_type": "code",
   "execution_count": null,
   "id": "83797f77-9e5d-4b6d-b73a-c593b33da6e3",
   "metadata": {},
   "outputs": [],
   "source": [
    "enriched_query_cell_type_prop_thresh = 5.\n",
    "query_enriched_cell_type_key = \"query_enriched_cell_types\"\n",
    "\n",
    "# Get query-enriched cell types\n",
    "cell_type_reference_proportions = adata_reference.obs[cell_type_key].value_counts().sort_index() / len(adata_reference)\n",
    "cell_type_query_proportions = adata_query.obs[cell_type_key].value_counts().sort_index() / len(adata_query)\n",
    "relative_cell_type_query_proportions = cell_type_query_proportions / cell_type_reference_proportions\n",
    "relative_cell_type_query_proportions.sort_values(ascending=False, inplace=True)\n",
    "display(relative_cell_type_query_proportions)\n",
    "\n",
    "query_enriched_cell_types = relative_cell_type_query_proportions[relative_cell_type_query_proportions > enriched_query_cell_type_prop_thresh].index.to_list()\n",
    "model.adata.obs[query_enriched_cell_type_key] = \"Cell types not enriched in query\"\n",
    "for cell_type in query_enriched_cell_types:\n",
    "    model.adata.obs.loc[model.adata.obs[cell_type_key] == cell_type, query_enriched_cell_type_key] = cell_type"
   ]
  },
  {
   "cell_type": "code",
   "execution_count": null,
   "id": "f6d4d837-e4ac-472c-8eb9-70958e7a9d29",
   "metadata": {},
   "outputs": [],
   "source": [
    "# Plot of query-enriched cell-type annotations in physical and latent space\n",
    "save_fig = True\n",
    "file_path = f\"{figure_folder_path}/\" \\\n",
    "            \"query_enriched_cell_types_latent_physical_space.svg\"\n",
    "\n",
    "plot_category_in_latent_and_physical_space(\n",
    "    adata=model.adata,\n",
    "    plot_label=\"Query Enriched Cell Types\",\n",
    "    cat_key=query_enriched_cell_type_key,\n",
    "    groups=None,\n",
    "    sample_key=sample_key,\n",
    "    samples=samples,\n",
    "    cat_colors=\"coolwarm\",\n",
    "    size=360000/len(model.adata),\n",
    "    spot_size=spot_size,\n",
    "    save_fig=save_fig,\n",
    "    file_path=file_path)"
   ]
  },
  {
   "cell_type": "markdown",
   "id": "8fd23951-a059-43c9-a1b5-f7657f6679e4",
   "metadata": {},
   "source": [
    "#### 3.1.2 Visualize Query-enriched Niches / Latent Clusters in Physical and Latent Space"
   ]
  },
  {
   "cell_type": "code",
   "execution_count": null,
   "id": "f1282610-f726-472a-aaa5-43b49b6fbc6e",
   "metadata": {},
   "outputs": [],
   "source": [
    "query_enriched_latent_cluster_key = \"query_enriched_latent_cluster\"\n",
    "enriched_query_latent_cluster_prop_thresh = 5."
   ]
  },
  {
   "cell_type": "code",
   "execution_count": null,
   "id": "f59c8079-0c63-4515-9617-2773fda450e0",
   "metadata": {},
   "outputs": [],
   "source": [
    "# Get query-enriched latent leiden clusters\n",
    "latent_cluster_reference_proportions = adata_reference.obs[f\"latent_leiden_{str(latent_leiden_resolution)}\"].value_counts().sort_index() / len(adata_reference)\n",
    "latent_cluster_query_proportions = adata_query.obs[f\"latent_leiden_{str(latent_leiden_resolution)}\"].value_counts().sort_index() / len(adata_query)\n",
    "relative_latent_cluster_query_proportions = latent_cluster_query_proportions / latent_cluster_reference_proportions\n",
    "relative_latent_cluster_query_proportions.sort_values(ascending=False, inplace=True)\n",
    "display(relative_latent_cluster_query_proportions)\n",
    "\n",
    "query_enriched_latent_clusters = relative_latent_cluster_query_proportions[relative_latent_cluster_query_proportions > enriched_query_latent_cluster_prop_thresh].index.to_list()\n",
    "model.adata.obs[query_enriched_latent_cluster_key] = \"Latent clusters not enriched in query\"\n",
    "for latent_cluster in query_enriched_latent_clusters:\n",
    "    model.adata.obs.loc[model.adata.obs[f\"latent_leiden_{str(latent_leiden_resolution)}\"] == latent_cluster, query_enriched_latent_cluster_key] = f\"Cluster {latent_cluster}\""
   ]
  },
  {
   "cell_type": "code",
   "execution_count": null,
   "id": "c1f83097-fd5b-4110-b3d8-d6a890b2560f",
   "metadata": {},
   "outputs": [],
   "source": [
    "# Plot of query-enriched cell-type annotations in physical and latent space\n",
    "save_fig = True\n",
    "file_path = f\"{figure_folder_path}/\" \\\n",
    "            \"query_enriched_latent_clusters_latent_physical_space.svg\"\n",
    "\n",
    "plot_category_in_latent_and_physical_space(\n",
    "    adata=model.adata,\n",
    "    plot_label=\"Query Enriched Latent Clusters\",\n",
    "    cat_key=query_enriched_latent_cluster_key,\n",
    "    groups=None,\n",
    "    sample_key=sample_key,\n",
    "    samples=samples,\n",
    "    cat_colors=\"coolwarm\",\n",
    "    size=360000/len(model.adata),\n",
    "    spot_size=spot_size,\n",
    "    save_fig=save_fig,\n",
    "    file_path=file_path)"
   ]
  },
  {
   "cell_type": "markdown",
   "id": "238e6e69-9a31-47b3-9462-2371426d2464",
   "metadata": {},
   "source": [
    "### 3.3 Transfer Niche Labels from Reference to Query"
   ]
  },
  {
   "cell_type": "markdown",
   "id": "8e4039f1-3be7-4a57-b91e-57fe97802203",
   "metadata": {},
   "source": [
    "#### 3.3.1 Compute Reference Niches"
   ]
  },
  {
   "cell_type": "code",
   "execution_count": null,
   "id": "ca8da23c-4fe4-4d70-8e72-daabc1aeeb22",
   "metadata": {},
   "outputs": [],
   "source": [
    "# Compute latent neighbor graph just for reference\n",
    "sc.pp.neighbors(adata_reference,\n",
    "                use_rep=latent_key,\n",
    "                key_added=latent_key)\n",
    "\n",
    "# Compute latent Leiden clustering just for reference\n",
    "sc.tl.leiden(adata=adata_reference,\n",
    "             resolution=latent_reference_leiden_resolution,\n",
    "             key_added=latent_reference_cluster_key,\n",
    "             neighbors_key=latent_key)\n",
    "\n",
    "model.adata.obs[latent_reference_cluster_key] = adata_reference.obs[latent_reference_cluster_key]"
   ]
  },
  {
   "cell_type": "code",
   "execution_count": null,
   "id": "fbe4db91-0822-4f2c-a5f9-70531cad3cdc",
   "metadata": {},
   "outputs": [],
   "source": [
    "latent_reference_cluster_colors = create_new_color_dict(\n",
    "    adata=model.adata,\n",
    "    cat_key=latent_reference_cluster_key)"
   ]
  },
  {
   "cell_type": "code",
   "execution_count": null,
   "id": "f725a733-8095-4471-83b2-cd71038f0c98",
   "metadata": {},
   "outputs": [],
   "source": [
    "# Latent reference clusters in latent and physical space\n",
    "save_fig = True\n",
    "file_path = f\"{figure_folder_path}/res_{latent_leiden_resolution}_\" \\\n",
    "            \"latent_reference_clusters_latent_physical_space.svg\"\n",
    "\n",
    "plot_category_in_latent_and_physical_space(\n",
    "    adata=model.adata,\n",
    "    plot_label=\"Latent Reference Clusters\",\n",
    "    cat_key=latent_reference_cluster_key,\n",
    "    groups=None,\n",
    "    sample_key=sample_key,\n",
    "    samples=samples,\n",
    "    cat_colors=latent_reference_cluster_colors,\n",
    "    size=None,\n",
    "    spot_size=spot_size,\n",
    "    save_fig=save_fig,\n",
    "    file_path=file_path)"
   ]
  },
  {
   "cell_type": "code",
   "execution_count": null,
   "id": "1a567c38-54b8-45e4-8e7a-48ba1e5827d1",
   "metadata": {},
   "outputs": [],
   "source": [
    "\"\"\"\n",
    "# Compute spatial neighbor graph just for reference\n",
    "sc.pp.neighbors(adata_reference,\n",
    "                use_rep=spatial_key,\n",
    "                key_added=spatial_key)\n",
    "\n",
    "# Compute spatial Leiden clustering just for reference\n",
    "spatial_reference_leiden_resolution = 0.15\n",
    "spatial_reference_cluster_key = f\"spatial_leiden_reference_{spatial_reference_leiden_resolution}\"\n",
    " \n",
    "sc.tl.leiden(adata=adata_reference,\n",
    "             resolution=spatial_reference_leiden_resolution,\n",
    "             key_added=spatial_reference_cluster_key,\n",
    "             neighbors_key=spatial_key)\n",
    "\n",
    "model.adata.obs[spatial_reference_cluster_key] = adata_reference.obs[spatial_reference_cluster_key]\n",
    "\"\"\""
   ]
  },
  {
   "cell_type": "code",
   "execution_count": null,
   "id": "06a1ac71-ffd5-4ea0-8066-da7a9aac61a0",
   "metadata": {},
   "outputs": [],
   "source": [
    "\"\"\"\n",
    "spatial_reference_cluster_colors = create_new_color_dict(\n",
    "    adata=model.adata,\n",
    "    cat_key=spatial_reference_cluster_key)\n",
    "\"\"\""
   ]
  },
  {
   "cell_type": "code",
   "execution_count": null,
   "id": "1744bdd4-cad1-4550-99b6-b574c024426a",
   "metadata": {},
   "outputs": [],
   "source": [
    "\"\"\"\n",
    "# Spatial reference clusters in latent and physical space\n",
    "save_fig = False\n",
    "file_path = f\"{figure_folder_path}/res_{latent_leiden_resolution}_\" \\\n",
    "            \"spatial_reference_clusters_latent_physical_space.svg\"\n",
    "\n",
    "plot_category_in_latent_and_physical_space(\n",
    "    adata=model.adata,\n",
    "    plot_label=\"Latent Reference Clusters\",\n",
    "    cat_key=spatial_reference_cluster_key,\n",
    "    groups=None,\n",
    "    sample_key=sample_key,\n",
    "    samples=samples,\n",
    "    cat_colors=spatial_reference_cluster_colors,\n",
    "    size=None,\n",
    "    spot_size=spot_size,\n",
    "    save_fig=save_fig,\n",
    "    file_path=file_path)\n",
    "\"\"\""
   ]
  },
  {
   "cell_type": "markdown",
   "id": "456895ed-291c-419e-a644-137d9c586a0d",
   "metadata": {},
   "source": [
    "#### 3.3.2 Compute Query Niches"
   ]
  },
  {
   "cell_type": "code",
   "execution_count": null,
   "id": "d0ef838d-c455-4173-8c35-5c3c57f39a11",
   "metadata": {},
   "outputs": [],
   "source": [
    "# Compute latent neighbor graph just for query\n",
    "sc.pp.neighbors(adata_query,\n",
    "                use_rep=latent_key,\n",
    "                key_added=latent_key)\n",
    "\n",
    "# Compute latent Leiden clustering just for query\n",
    "sc.tl.leiden(adata=adata_query,\n",
    "             resolution=latent_query_leiden_resolution,\n",
    "             key_added=latent_query_cluster_key,\n",
    "             neighbors_key=latent_key)\n",
    "\n",
    "model.adata.obs[latent_query_cluster_key] = adata_query.obs[latent_query_cluster_key]\n",
    "\n",
    "# Map query niches to reference niches using cell type proportions\n",
    "# Find best matching niches using pairwise euclidean distance between niche cell type proportion\n",
    "# vectors\n",
    "\n",
    "# Compute cell type proportions\n",
    "reference_counts_df = model.adata[model.adata.obs[mapping_entity_key] == \"reference\"].obs.groupby(\n",
    "    [latent_reference_cluster_key, cell_type_key]).size().unstack()\n",
    "query_counts_df = model.adata[model.adata.obs[mapping_entity_key] == \"query\"].obs.groupby(\n",
    "    [latent_query_cluster_key, cell_type_key]).size().unstack()\n",
    "reference_proportions_df = reference_counts_df.div(reference_counts_df.sum(axis=1), axis=0)\n",
    "query_proportions_df = query_counts_df.div(query_counts_df.sum(axis=1), axis=0)\n",
    "\n",
    "# Calculate the Euclidean distance between each pair of niches in the reference and query\n",
    "distances = cdist(query_proportions_df.values,\n",
    "                  reference_proportions_df.values,\n",
    "                  metric=\"euclidean\")\n",
    "\n",
    "# Apply the Hungarian algorithm to minimize the total Euclidean distance\n",
    "#query_latent_cluster_indices, reference_latent_cluster_indices = linear_sum_assignment(distances)\n",
    "#query_latent_cluster_indices = query_latent_cluster_indices.astype(str)\n",
    "#reference_latent_cluster_indices = reference_latent_cluster_indices.astype(str)\n",
    "\n",
    "# For each query niche find the reference niche with the minimum Euclidean distance\n",
    "query_latent_cluster_indices = np.arange(adata_query.obs[latent_query_cluster_key].nunique()).astype(str)\n",
    "reference_latent_cluster_indices = np.argmin(distances, axis=1).astype(str)\n",
    "\n",
    "mapping_dict = {k: v for k, v in zip(query_latent_cluster_indices, reference_latent_cluster_indices)}\n",
    "\n",
    "# Assign indices of most similar reference clusters to query\n",
    "query_proportions_df.index = reference_latent_cluster_indices\n",
    "query_proportions_df.sort_index(inplace=True)\n",
    "query_proportions_df.index.name = \"Niche\"\n",
    "\n",
    "model.adata.obs[latent_query_cluster_key] = model.adata.obs[latent_query_cluster_key].map(mapping_dict)"
   ]
  },
  {
   "cell_type": "code",
   "execution_count": null,
   "id": "a11cfef3-a2f9-4ffb-8284-60152bf1f979",
   "metadata": {},
   "outputs": [],
   "source": [
    "# Latent query clusters in latent and physical space\n",
    "save_fig = True\n",
    "file_path = f\"{figure_folder_path}/res_{latent_leiden_resolution}_\" \\\n",
    "            \"latent_query_clusters_latent_physical_space.svg\"\n",
    "\n",
    "plot_category_in_latent_and_physical_space(\n",
    "    adata=model.adata,\n",
    "    plot_label=\"Latent Query Clusters\",\n",
    "    cat_key=latent_query_cluster_key,\n",
    "    groups=None,\n",
    "    sample_key=sample_key,\n",
    "    samples=samples,\n",
    "    cat_colors=latent_reference_cluster_colors,\n",
    "    size=None,\n",
    "    spot_size=spot_size,\n",
    "    save_fig=save_fig,\n",
    "    file_path=file_path)"
   ]
  },
  {
   "cell_type": "code",
   "execution_count": null,
   "id": "b8dd758c-3ea6-4105-ad48-fa6026bcccdf",
   "metadata": {},
   "outputs": [],
   "source": [
    "\"\"\"\n",
    "# Compute spatial neighbor graph just for query\n",
    "sc.pp.neighbors(adata_query,\n",
    "                use_rep=spatial_key,\n",
    "                key_added=spatial_key)\n",
    "\n",
    "# Compute spatial Leiden clustering just for query\n",
    "spatial_query_leiden_resolution = 0.11\n",
    "spatial_query_cluster_key = f\"latent_leiden_query_{spatial_query_leiden_resolution}\"\n",
    " \n",
    "sc.tl.leiden(adata=adata_query,\n",
    "             resolution=spatial_query_leiden_resolution,\n",
    "             key_added=spatial_query_cluster_key,\n",
    "             neighbors_key=spatial_key)\n",
    "\n",
    "model.adata.obs[spatial_query_cluster_key] = adata_query.obs[spatial_query_cluster_key]\n",
    "\"\"\""
   ]
  },
  {
   "cell_type": "code",
   "execution_count": null,
   "id": "71efbb99-2635-4360-8a4c-ece088ece1a5",
   "metadata": {},
   "outputs": [],
   "source": [
    "\"\"\"\n",
    "spatial_query_cluster_colors = create_new_color_dict(\n",
    "    adata=model.adata,\n",
    "    cat_key=spatial_query_cluster_key)\n",
    "\"\"\""
   ]
  },
  {
   "cell_type": "code",
   "execution_count": null,
   "id": "8d65b4d4-a1e1-48af-86ba-ff516b765d85",
   "metadata": {},
   "outputs": [],
   "source": [
    "\"\"\"\n",
    "# Spatial query clusters in latent and physical space\n",
    "save_fig = False\n",
    "file_path = f\"{figure_folder_path}/res_{latent_leiden_resolution}_\" \\\n",
    "            \"spatial_query_clusters_latent_physical_space.svg\"\n",
    "\n",
    "plot_category_in_latent_and_physical_space(\n",
    "    adata=model.adata,\n",
    "    plot_label=\"Latent Query Clusters\",\n",
    "    cat_key=spatial_query_cluster_key,\n",
    "    groups=None,\n",
    "    sample_key=sample_key,\n",
    "    samples=samples,\n",
    "    cat_colors=spatial_query_cluster_colors,\n",
    "    size=None,\n",
    "    spot_size=spot_size,\n",
    "    save_fig=save_fig,\n",
    "    file_path=file_path)\n",
    "\"\"\""
   ]
  },
  {
   "cell_type": "markdown",
   "id": "4e17040d-eb92-4c6e-8a9d-b1c021b96cfc",
   "metadata": {},
   "source": [
    "#### 3.3.3 Transfer Niche Labels"
   ]
  },
  {
   "cell_type": "code",
   "execution_count": null,
   "id": "498db177-0727-476c-8fb1-85cfbc3d2de4",
   "metadata": {},
   "outputs": [],
   "source": [
    "# Prepare label transfer via scarches\n",
    "knn_transformer = sca.utils.knn.weighted_knn_trainer(\n",
    "    train_adata=adata_reference,\n",
    "    train_adata_emb=latent_key,\n",
    "    n_neighbors=15)"
   ]
  },
  {
   "cell_type": "code",
   "execution_count": null,
   "id": "efb99307-a570-47ce-b0f6-3c90295c64a9",
   "metadata": {},
   "outputs": [],
   "source": [
    "# Compute label transfer via scarches\n",
    "labels, uncert = sca.utils.knn.weighted_knn_transfer(\n",
    "    query_adata=adata_query,\n",
    "    query_adata_emb=latent_key,\n",
    "    label_keys=label_key,\n",
    "    knn_model=knn_transformer,\n",
    "    ref_adata_obs=adata_reference.obs)"
   ]
  },
  {
   "cell_type": "code",
   "execution_count": null,
   "id": "1e495eca-9d3c-40bc-a021-4b09ce634483",
   "metadata": {},
   "outputs": [],
   "source": [
    "labels.rename(columns={label_key: transfer_label_key}, inplace=True)\n",
    "uncert.rename(columns={label_key: transfer_label_uncertainty_key}, inplace=True)\n",
    "\n",
    "# Join results of label transfer to adata\n",
    "model.adata.obs = model.adata.obs.join(labels)\n",
    "model.adata.obs = model.adata.obs.join(uncert)"
   ]
  },
  {
   "cell_type": "code",
   "execution_count": null,
   "id": "588459b3-8762-44b6-b4c4-0e674baafe4b",
   "metadata": {},
   "outputs": [],
   "source": []
  },
  {
   "cell_type": "code",
   "execution_count": null,
   "id": "55a37167-46d9-4d2c-b7e4-859a11138b34",
   "metadata": {},
   "outputs": [],
   "source": [
    "# Add evaluations\n",
    "model.adata.obs[transfer_label_evaluation_key] = model.adata.obs.apply(\n",
    "    lambda row: \"Correct\" if row[transfer_label_key] == row[ground_truth_key] else (\n",
    "        row[transfer_label_key] if pd.isnull(row[transfer_label_key]) else (\n",
    "            \"Not in Query\" if row[transfer_label_key] not in model.adata.obs[ground_truth_key].unique().tolist() else \"Incorrect\")), axis=1)"
   ]
  },
  {
   "cell_type": "code",
   "execution_count": null,
   "id": "29fe6a13-9a28-44d9-958a-53392ee86e6f",
   "metadata": {},
   "outputs": [],
   "source": [
    "# Plot uncertainties\n",
    "sns.distplot(model.adata.obs[transfer_label_uncertainty_key])"
   ]
  },
  {
   "cell_type": "code",
   "execution_count": null,
   "id": "189c1e0a-5746-430e-8e5c-63ec921f19d4",
   "metadata": {},
   "outputs": [],
   "source": [
    "# Set high uncertainty labels evaluation to 'Unknown'\n",
    "uncertainty_threshold = 0.001\n",
    "\n",
    "model.adata.obs[transfer_label_evaluation_key] = model.adata.obs[transfer_label_evaluation_key].mask(\n",
    "    model.adata.obs[transfer_label_uncertainty_key] > uncertainty_threshold,\n",
    "    \"Unknown\")"
   ]
  },
  {
   "cell_type": "code",
   "execution_count": null,
   "id": "6411bd34-628b-4e6c-a263-3a3697902e2d",
   "metadata": {},
   "outputs": [],
   "source": [
    "adata_query_label_transfer = model.adata[model.adata.obs[mapping_entity_key] == \"query\"]"
   ]
  },
  {
   "cell_type": "code",
   "execution_count": null,
   "id": "5a29d738-e620-4926-8e1c-fb5af3a1c77a",
   "metadata": {},
   "outputs": [],
   "source": [
    "print(f\"Percentage of 'Unknown', with uncertainty_threshold = {uncertainty_threshold}:\")\n",
    "print(f\"{np.round(sum(adata_query_label_transfer.obs[transfer_label_evaluation_key] =='Unknown')/adata_query_label_transfer.n_obs*100,2)}%\")"
   ]
  },
  {
   "cell_type": "code",
   "execution_count": null,
   "id": "a2d2e26f-cfc1-4d31-89c6-117d98289792",
   "metadata": {},
   "outputs": [],
   "source": [
    "label_cats = adata_query_label_transfer.obs[transfer_label_key].unique().tolist()"
   ]
  },
  {
   "cell_type": "code",
   "execution_count": null,
   "id": "74877c22-634d-4a25-bd80-3c8eb92a8a94",
   "metadata": {},
   "outputs": [],
   "source": [
    "perc_correct = pd.crosstab(\n",
    "    adata_query_label_transfer.obs[transfer_label_key],\n",
    "    adata_query_label_transfer.obs[transfer_label_evaluation_key],\n",
    ").loc[label_cats, :]\n",
    "total_n_per_ct = adata_query_label_transfer.obs[transfer_label_key].value_counts()\n",
    "perc_correct = perc_correct.div(perc_correct.sum(axis=1), axis=\"rows\") * 100\n",
    "# add a bar (=row) for the entire query dataset:\n",
    "perc_correct.index = perc_correct.index.tolist()\n",
    "total_n_per_ct.index = total_n_per_ct.index.tolist()\n",
    "total_n_per_ct[\"Overall\"] = adata_query_label_transfer.shape[0]\n",
    "perc_correct.loc[\"Overall\", :] = (\n",
    "    adata_query_label_transfer.obs[transfer_label_evaluation_key].value_counts()\n",
    "    / total_n_per_ct[\"Overall\"]\n",
    "    * 100\n",
    ")\n",
    "\n",
    "incl_celln_in_label = True\n",
    "# set celltype order:\n",
    "# follow bio order, except that new/unseen cell types will come first:\n",
    "plot_label_cats = label_cats + [\"Overall\"]\n",
    "perc_correct = perc_correct.loc[plot_label_cats, :]\n",
    "with plt.rc_context(\n",
    "    {\n",
    "        \"figure.figsize\": (0.4 * len(label_cats), 3),\n",
    "        \"axes.spines.right\": False,\n",
    "        \"axes.spines.top\": False,\n",
    "    }\n",
    "):\n",
    "    fig, ax = plt.subplots()\n",
    "    perc_correct.plot(kind=\"bar\", stacked=True, ax=ax)\n",
    "    handles, labels = ax.get_legend_handles_labels()\n",
    "    ax.legend(handles[::-1], labels[::-1], loc=(1.01, 0.60), frameon=False)\n",
    "\n",
    "    cts_no_underscore = [ct.replace(\"_\", \" \") for ct in label_cats]\n",
    "    if incl_celln_in_label:\n",
    "        plt.xticks(\n",
    "            ticks=range(len(label_cats) + 1),\n",
    "            labels=[\n",
    "                f\"{ct_no_und} ({total_n_per_ct[ct]})\"\n",
    "                for ct_no_und, ct in zip(\n",
    "                    cts_no_underscore + [\"Overall\"],\n",
    "                    plot_label_cats,  # ct_df_q + [\"Overall\"]\n",
    "                )\n",
    "            ],\n",
    "        )\n",
    "        plt.xlabel(\"Original label (n cells)\")\n",
    "    else:\n",
    "        plt.xticks(\n",
    "            ticks=range(len(plot_label_cats)),\n",
    "            labels=[f\"{ct_no_und}\" for ct_no_und in cts_no_underscore],\n",
    "        )\n",
    "        plt.xlabel(\"Original label\")\n",
    "    ax.set_ylabel(\"% of cells\")\n",
    "    plt.grid(False)"
   ]
  },
  {
   "cell_type": "code",
   "execution_count": null,
   "id": "63d05f83-8ec2-4723-8246-656941d9995b",
   "metadata": {},
   "outputs": [],
   "source": [
    "model.adata.obs"
   ]
  },
  {
   "cell_type": "code",
   "execution_count": null,
   "id": "29b5396c-d9e3-4d89-a3f7-926863a70373",
   "metadata": {},
   "outputs": [],
   "source": [
    "fig, ax = plt.subplots(figsize=(10, 5))\n",
    "sankey(\n",
    "    x=adata_query_label_transfer.obs[ground_truth_key],\n",
    "    y=adata_query_label_transfer.obs[transfer_label_key],\n",
    "    title=\"Original label vs. predicted annotation\",\n",
    "    title_left=\"Original label\",\n",
    "    title_right=\"Predicted annotation\",\n",
    "    ax=ax,\n",
    "    fontsize=\"5\",  # \"xx-small\",\n",
    "    left_order=label_cats,\n",
    "    colorside=\"left\",\n",
    "    alpha=0.5,\n",
    ")\n",
    "plt.show()"
   ]
  },
  {
   "cell_type": "code",
   "execution_count": null,
   "id": "d7c10917-5a30-4738-8a34-bc9d46b28452",
   "metadata": {},
   "outputs": [],
   "source": [
    "# Prepare reference data for cell type composition comparison plot by unrolling\n",
    "# Use non-transferred labels for reference\n",
    "reference_counts_df = model.adata[model.adata.obs[mapping_entity_key] == \"reference\"].obs.groupby(\n",
    "    [label_key, cell_type_key]).size().unstack()\n",
    "\n",
    "reference_counts_df[transfer_label_key] = reference_counts_df.index\n",
    "\n",
    "unrolled_reference_counts_df = pd.melt(\n",
    "    reference_counts_df,\n",
    "    id_vars=transfer_label_key,\n",
    "    var_name=cell_type_key,\n",
    "    value_name=\"counts\")\n",
    "\n",
    "unrolled_reference_counts_df[mapping_entity_key] = \"reference\""
   ]
  },
  {
   "cell_type": "code",
   "execution_count": null,
   "id": "c02c8dbd-ae6d-402e-98f3-2703aa0d461e",
   "metadata": {},
   "outputs": [],
   "source": [
    "# Prepare query data for cell type composition comparison plot by unrolling\n",
    "# Use transferred labels for query\n",
    "query_counts_df = adata_query_label_transfer.obs.groupby(\n",
    "    [transfer_label_key, cell_type_key]).size().unstack()\n",
    "\n",
    "query_counts_df[transfer_label_key] = query_counts_df.index\n",
    "\n",
    "unrolled_query_counts_df = pd.melt(\n",
    "    query_counts_df,\n",
    "    id_vars=transfer_label_key,\n",
    "    var_name=cell_type_key,\n",
    "    value_name=\"counts\")\n",
    "\n",
    "unrolled_query_counts_df[mapping_entity_key] = \"query\""
   ]
  },
  {
   "cell_type": "code",
   "execution_count": null,
   "id": "49f5b9c6-d973-49d0-b43b-7e528e472f2a",
   "metadata": {},
   "outputs": [],
   "source": [
    "# Combine the unrolled dfs\n",
    "unrolled_combined_counts_df = pd.concat([unrolled_reference_counts_df,\n",
    "                                         unrolled_query_counts_df]).reset_index(drop=True)"
   ]
  },
  {
   "cell_type": "code",
   "execution_count": null,
   "id": "1bf5b045-c110-4cef-903a-2afc15b359be",
   "metadata": {},
   "outputs": [],
   "source": [
    "unrolled_combined_counts_df"
   ]
  },
  {
   "cell_type": "code",
   "execution_count": null,
   "id": "e4b0f1a2-f024-4a16-b866-cc102890a9c7",
   "metadata": {},
   "outputs": [],
   "source": [
    "# Adapted from https://stackoverflow.com/questions/22787209/how-to-have-clusters-of-stacked-bars\n",
    "\n",
    "\n",
    "def plot_clustered_stacked(dfall, labels=None, title=\"multiple stacked bar plot\",  H=\"//\", **kwargs):\n",
    "    \"\"\"Given a list of dataframes, with identical columns and index, create a clustered stacked bar plot. \n",
    "labels is a list of the names of the dataframe, used for the legend\n",
    "title is a string for the title of the plot\n",
    "H is the hatch used for identification of the different dataframe\"\"\"\n",
    "\n",
    "    n_df = len(dfall)\n",
    "    n_col = len(dfall[0].columns) \n",
    "    n_ind = len(dfall[0].index)\n",
    "    plt.figure(figsize=(10, 5))\n",
    "    axe = plt.subplot(111)\n",
    "\n",
    "    for df in dfall: # for each data frame\n",
    "        axe = df.plot(kind=\"bar\",\n",
    "                      linewidth=0,\n",
    "                      stacked=True,\n",
    "                      ax=axe,\n",
    "                      legend=False,\n",
    "                      grid=False,\n",
    "                      **kwargs)  # make bar plots\n",
    "\n",
    "    h,l = axe.get_legend_handles_labels() # get the handles we want to modify\n",
    "    for i in range(0, n_df * n_col, n_col): # len(h) = n_col * n_df\n",
    "        for j, pa in enumerate(h[i:i+n_col]):\n",
    "            for rect in pa.patches: # for each index\n",
    "                rect.set_x(rect.get_x() + 1 / float(n_df + 1) * i / float(n_col))\n",
    "                rect.set_hatch(H * int(i / n_col)) #edited part     \n",
    "                rect.set_width(1 / float(n_df + 1))\n",
    "\n",
    "    axe.set_xticks((np.arange(0, 2 * n_ind, 2) + 1 / float(n_df + 1)) / 2.)\n",
    "    axe.set_xticklabels(df.index, rotation = 0)\n",
    "    axe.set_title(title)\n",
    "    \n",
    "    # Add invisible data to add another legend\n",
    "    n=[]        \n",
    "    for i in range(n_df):\n",
    "        n.append(axe.bar(0, 0, color=\"gray\", hatch=H * i))\n",
    "        \n",
    "    l1 = axe.legend(h[:n_col], l[:n_col], loc=\"best\", bbox_to_anchor=(0.8, 0.55, 0.5, 0.5), fontsize=8)\n",
    "    if labels is not None:\n",
    "        l2 = plt.legend(n, labels, loc=\"best\", bbox_to_anchor=(0.8, -0.5, 0.5, 0.5), fontsize=8) \n",
    "    axe.add_artist(l1)\n",
    "    #plt.subplots_adjust()\n",
    "    return axe"
   ]
  },
  {
   "cell_type": "code",
   "execution_count": null,
   "id": "e64041e8-3c88-4a77-9076-f17964ffe6ab",
   "metadata": {},
   "outputs": [],
   "source": [
    "reference_counts_df = model.adata[model.adata.obs[mapping_entity_key] == \"reference\"].obs.groupby(\n",
    "    [label_key, cell_type_key]).size().unstack()\n",
    "\n",
    "query_counts_df = adata_query_label_transfer.obs.groupby(\n",
    "    [transfer_label_key, cell_type_key]).size().unstack()\n",
    "\n",
    "reference_proportions_df = reference_counts_df.div(reference_counts_df.sum(axis=1), axis=0)\n",
    "query_proportions_df = query_counts_df.div(query_counts_df.sum(axis=1), axis=0)\n",
    "\n",
    "reference_proportions_df.index = reference_proportions_df.index.astype(int)\n",
    "reference_proportions_df.sort_index(inplace=True)\n",
    "reference_proportions_df.index.name = \"Niche\"\n",
    "\n",
    "query_proportions_df.index = query_proportions_df.index.astype(int)\n",
    "query_proportions_df.sort_index(inplace=True)\n",
    "query_proportions_df.index.name = \"Niche\""
   ]
  },
  {
   "cell_type": "code",
   "execution_count": null,
   "id": "1fdc1242-064b-41f8-a292-9e1f1fb5c28f",
   "metadata": {},
   "outputs": [],
   "source": [
    "plot_clustered_stacked([reference_proportions_df, query_proportions_df],[\"reference\", \"query\"], title=\"Cell Type Proportions in Reference Niches and Transferred Query Niches\")"
   ]
  },
  {
   "cell_type": "code",
   "execution_count": null,
   "id": "80934f99-8db4-4260-8d64-650e6af21f10",
   "metadata": {},
   "outputs": [],
   "source": [
    "# A JSD value close to 0 indicates that the two probability distributions being compared are very similar\n",
    "# A JSD value close to 1 indicates that the two probability distributions being compared are very dissimilar\n",
    "\n",
    "jsd_scores = []\n",
    "\n",
    "for subgroup in range(len(query_proportions_df.values)):\n",
    "    p = reference_proportions_df.values[subgroup]\n",
    "    q = query_proportions_df.values[subgroup]\n",
    "    jsd = distance.jensenshannon(p, q)\n",
    "    jsd_scores.append(jsd)\n",
    "\n",
    "average_jsd = np.mean(jsd_scores)"
   ]
  },
  {
   "cell_type": "code",
   "execution_count": null,
   "id": "f29a8e09-b700-4090-9ed7-bb29f27a98a3",
   "metadata": {},
   "outputs": [],
   "source": [
    "df.columns.tolist()"
   ]
  },
  {
   "cell_type": "code",
   "execution_count": null,
   "id": "fc9cedc6-092b-4e8c-852a-22a01080828b",
   "metadata": {},
   "outputs": [],
   "source": [
    "spatial_reference_counts_df = model.adata[model.adata.obs[mapping_entity_key] == \"reference\"].obs.groupby(\n",
    "    [spatial_reference_cluster_key, cell_type_key]).size().unstack()"
   ]
  },
  {
   "cell_type": "code",
   "execution_count": null,
   "id": "6cbeb0ea-e347-4496-85cf-16e7b9520eee",
   "metadata": {},
   "outputs": [],
   "source": [
    "spatial_query_counts_df = model.adata[model.adata.obs[mapping_entity_key] == \"query\"].obs.groupby(\n",
    "    [spatial_query_cluster_key, cell_type_key]).size().unstack()"
   ]
  },
  {
   "cell_type": "code",
   "execution_count": null,
   "id": "692d945d-a16b-4bcc-8ef8-3b7aa2852361",
   "metadata": {},
   "outputs": [],
   "source": [
    "spatial_query_counts_df"
   ]
  },
  {
   "cell_type": "code",
   "execution_count": null,
   "id": "cd5021b8-0a49-4511-b4e9-ddea1892c009",
   "metadata": {},
   "outputs": [],
   "source": [
    "spatial_reference_counts_df = model.adata[model.adata.obs[mapping_entity_key] == \"reference\"].obs.groupby(\n",
    "    [spatial_reference_cluster_key, cell_type_key]).size().unstack()\n",
    "\n",
    "spatial_query_counts_df = model.adata[model.adata.obs[mapping_entity_key] == \"query\"].obs.groupby(\n",
    "    [spatial_query_cluster_key, cell_type_key]).size().unstack()\n",
    "\n",
    "spatial_reference_proportions_df = spatial_reference_counts_df.div(spatial_reference_counts_df.sum(axis=1), axis=0)\n",
    "spatial_query_proportions_df = spatial_query_counts_df.div(spatial_query_counts_df.sum(axis=1), axis=0)\n",
    "\n",
    "spatial_reference_proportions_df.index = spatial_reference_proportions_df.index.astype(int)\n",
    "spatial_reference_proportions_df.sort_index(inplace=True)\n",
    "spatial_reference_proportions_df.index.name = \"Niche\"\n",
    "\n",
    "spatial_query_proportions_df.index = spatial_query_proportions_df.index.astype(int)"
   ]
  },
  {
   "cell_type": "code",
   "execution_count": null,
   "id": "c9725d42-9ca4-44e0-8a99-1c5aa1158f45",
   "metadata": {},
   "outputs": [],
   "source": [
    "# Calculate the Euclidean distance between each pair of niches in the reference and query\n",
    "distances = cdist(spatial_query_proportions_df.values,\n",
    "                  spatial_reference_proportions_df.values,\n",
    "                  metric=\"euclidean\")"
   ]
  },
  {
   "cell_type": "code",
   "execution_count": null,
   "id": "59f781b6-b272-4ada-a8b4-789129092762",
   "metadata": {},
   "outputs": [],
   "source": [
    "# Initialize an empty list to store the selected indices\n",
    "selected_indices = []\n",
    "\n",
    "# Iterate over each row of the distance array\n",
    "for i in range(distances.shape[0]):\n",
    "    # Exclude indices that have already been taken\n",
    "    available_indices = np.setdiff1d(np.arange(distances.shape[1]), selected_indices)\n",
    "\n",
    "    # Get the indices of the minimum distances for the available indices\n",
    "    min_indices = np.argsort(distances[i, available_indices])[:1]\n",
    "\n",
    "    # Convert the min_indices back to the original indices\n",
    "    original_indices = available_indices[min_indices]\n",
    "\n",
    "    # Add the selected index to the list\n",
    "    selected_indices.append(original_indices[0])\n",
    "\n",
    "# Print the selected indices\n",
    "print(selected_indices)"
   ]
  },
  {
   "cell_type": "code",
   "execution_count": null,
   "id": "d5a7cb63-66a1-4c31-a7b7-c05c65ef16ed",
   "metadata": {},
   "outputs": [],
   "source": [
    "# Apply the Hungarian algorithm to minimize the total distance\n",
    "from scipy.optimize import linear_sum_assignment\n",
    "query_latent_cluster_indices, reference_latent_cluster_indices = linear_sum_assignment(distances)\n",
    "\n",
    "# Print the selected indices\n",
    "selected_indices = reference_latent_cluster_indices.tolist()\n",
    "print(selected_indices)\n",
    "spatial_query_proportions_df.sort_index(inplace=True)\n",
    "spatial_query_proportions_df.index.name = \"Niche\""
   ]
  },
  {
   "cell_type": "code",
   "execution_count": null,
   "id": "ecc5381c-69e7-4b6d-940f-636a540ed28b",
   "metadata": {},
   "outputs": [],
   "source": [
    "# Assign indices of most similar reference clusters to query\n",
    "spatial_query_proportions_df.index = selected_indices"
   ]
  },
  {
   "cell_type": "code",
   "execution_count": null,
   "id": "a07a58cb-25e1-4c01-8cba-2aac1dfd3639",
   "metadata": {},
   "outputs": [],
   "source": [
    "spatial_reference_sorted_indices = spatial_reference_proportions_df.values.argsort(axis=1)[:, ::-1]\n",
    "spatial_reference_sorted_cell_types = spatial_reference_proportions_df.columns.values[spatial_reference_sorted_indices]\n",
    "\n",
    "spatial_query_sorted_indices = spatial_query_proportions_df.values.argsort(axis=1)[:, ::-1]\n",
    "spatial_query_sorted_cell_types = spatial_query_proportions_df.columns.values[spatial_query_sorted_indices]"
   ]
  },
  {
   "cell_type": "code",
   "execution_count": null,
   "id": "cafca56b-3d47-42c8-a111-fa34ffc93d49",
   "metadata": {},
   "outputs": [],
   "source": []
  },
  {
   "cell_type": "code",
   "execution_count": null,
   "id": "cf78b58a-216c-43de-9e4a-8beaa47bb508",
   "metadata": {},
   "outputs": [],
   "source": [
    "spatial_top_n_accuracies = []\n",
    "for n in range(1, len(query_proportions_df.values) + 1):\n",
    "    spatial_top_n_accuracies.append(calculate_top_accuracy(spatial_reference_sorted_cell_types, spatial_query_sorted_cell_types, n=n))"
   ]
  },
  {
   "cell_type": "code",
   "execution_count": null,
   "id": "94eda5c3-c75b-4178-8b3d-7121ae30d62e",
   "metadata": {},
   "outputs": [],
   "source": [
    "spatial_top_n_accuracies"
   ]
  },
  {
   "cell_type": "code",
   "execution_count": null,
   "id": "c5abcb97-c5fc-4321-ae24-3d8020cb5d8f",
   "metadata": {},
   "outputs": [],
   "source": [
    "min_distance_indices = np.argmin(distances, axis=1)"
   ]
  },
  {
   "cell_type": "code",
   "execution_count": null,
   "id": "5cb8397b-b359-4147-bb09-97187824ca71",
   "metadata": {},
   "outputs": [],
   "source": [
    "min_distance_indices"
   ]
  },
  {
   "cell_type": "code",
   "execution_count": null,
   "id": "96e4a742-10fe-4f8d-af80-a9e8ac622574",
   "metadata": {},
   "outputs": [],
   "source": [
    "min_indices = np.unravel_index(np.argmin(distances, axis=1), distances.shape)"
   ]
  },
  {
   "cell_type": "code",
   "execution_count": null,
   "id": "8f43f023-e3c5-4452-a991-89587f5e7965",
   "metadata": {},
   "outputs": [],
   "source": [
    "min_indices"
   ]
  },
  {
   "cell_type": "code",
   "execution_count": null,
   "id": "c5cc21ab-ad90-4ce5-a16c-0d9d29bdf398",
   "metadata": {},
   "outputs": [],
   "source": [
    "np.argmin(distances, axis=0)"
   ]
  },
  {
   "cell_type": "code",
   "execution_count": null,
   "id": "1562349f-b142-404f-8218-46ed5e7e5837",
   "metadata": {},
   "outputs": [],
   "source": []
  },
  {
   "cell_type": "code",
   "execution_count": null,
   "id": "fc44fae1-9b64-4740-945c-3a8557e6f11c",
   "metadata": {},
   "outputs": [],
   "source": []
  },
  {
   "cell_type": "code",
   "execution_count": null,
   "id": "81677d3e-9ef8-43ec-961c-a09cb4501bce",
   "metadata": {},
   "outputs": [],
   "source": []
  },
  {
   "cell_type": "code",
   "execution_count": null,
   "id": "10e7efa9-d2a7-4df7-82cd-fbc56e66b0dc",
   "metadata": {},
   "outputs": [],
   "source": []
  },
  {
   "cell_type": "code",
   "execution_count": null,
   "id": "b07b2f92-86e0-4a7e-a5c8-d3bef7af3ab5",
   "metadata": {},
   "outputs": [],
   "source": []
  },
  {
   "cell_type": "code",
   "execution_count": null,
   "id": "0e755e82-7d4b-42e4-a67a-852bec47ebc0",
   "metadata": {},
   "outputs": [],
   "source": [
    "reference_sorted_indices = reference_proportions_df.values.argsort(axis=1)[:, ::-1]\n",
    "reference_sorted_cell_types = reference_proportions_df.columns.values[reference_sorted_indices]\n",
    "\n",
    "query_sorted_indices = query_proportions_df.values.argsort(axis=1)[:, ::-1]\n",
    "query_sorted_cell_types = query_proportions_df.columns.values[query_sorted_indices]"
   ]
  },
  {
   "cell_type": "code",
   "execution_count": null,
   "id": "318662d1-720f-4fd1-8282-1fc7bb988075",
   "metadata": {},
   "outputs": [],
   "source": [
    "spatial_query_proportions_df"
   ]
  },
  {
   "cell_type": "code",
   "execution_count": null,
   "id": "b4c7034a-ad21-47ac-aec8-943a14cd30af",
   "metadata": {},
   "outputs": [],
   "source": []
  },
  {
   "cell_type": "code",
   "execution_count": null,
   "id": "d869776a-aac3-43e1-a2b6-6230c90466eb",
   "metadata": {},
   "outputs": [],
   "source": []
  },
  {
   "cell_type": "code",
   "execution_count": null,
   "id": "245c2231-74a9-4feb-8750-edc4b7c95e02",
   "metadata": {},
   "outputs": [],
   "source": []
  },
  {
   "cell_type": "code",
   "execution_count": null,
   "id": "19682203-cce9-4ab0-bd3b-aa6fc3189320",
   "metadata": {},
   "outputs": [],
   "source": []
  },
  {
   "cell_type": "code",
   "execution_count": null,
   "id": "1e215e98-8a50-4e6f-9361-9bed8f582916",
   "metadata": {},
   "outputs": [],
   "source": []
  },
  {
   "cell_type": "code",
   "execution_count": null,
   "id": "172ef35e-df4d-4d82-b945-04d1a7a904d5",
   "metadata": {},
   "outputs": [],
   "source": []
  },
  {
   "cell_type": "code",
   "execution_count": null,
   "id": "95d1baff-fa8d-4b00-a184-13199556d61e",
   "metadata": {},
   "outputs": [],
   "source": [
    "def calculate_top_accuracy(list1, list2, n):\n",
    "    num_groups = len(list1)\n",
    "    top_n_matches = 0\n",
    "    top_n_total = 0\n",
    "\n",
    "    for i in range(num_groups):\n",
    "        group1_categories = list1[i][:n]\n",
    "        group2_categories = list2[i][:n]\n",
    "        common_categories = set(group1_categories).intersection(group2_categories)\n",
    "        \n",
    "        top_n_matches += len(common_categories)\n",
    "        top_n_total += n\n",
    "\n",
    "    accuracy = top_n_matches / top_n_total\n",
    "    return accuracy\n",
    "\n",
    "# Example lists of top categories per group\n",
    "list1 = [['A', 'B', 'C'], ['X', 'Y', 'Z'], ['P', 'Q', 'R']]\n",
    "list2 = [['A', 'B', 'C'], ['X', 'Z', 'Y'], ['R', 'P', 'Q']]\n",
    "\n",
    "# Calculate top 1 accuracy\n",
    "top1_accuracy = calculate_top_accuracy(list1, list2, n=1)\n",
    "print(\"Top 1 Accuracy:\", top1_accuracy)\n",
    "\n",
    "# Calculate top 2 accuracy\n",
    "top2_accuracy = calculate_top_accuracy(list1, list2, n=2)\n",
    "print(\"Top 2 Accuracy:\", top2_accuracy)\n",
    "\n",
    "# Calculate top 3 accuracy\n",
    "top3_accuracy = calculate_top_accuracy(list1, list2, n=3)\n",
    "print(\"Top 3 Accuracy:\", top3_accuracy)"
   ]
  },
  {
   "cell_type": "code",
   "execution_count": null,
   "id": "1cff833b-f510-436a-8fa1-8ac73b57accf",
   "metadata": {},
   "outputs": [],
   "source": []
  },
  {
   "cell_type": "code",
   "execution_count": null,
   "id": "5f95f52f-6d9b-448f-9b9a-0c1518d28d13",
   "metadata": {},
   "outputs": [],
   "source": []
  },
  {
   "cell_type": "code",
   "execution_count": null,
   "id": "8a936d63-00f5-4f2f-8bce-529647a159d6",
   "metadata": {},
   "outputs": [],
   "source": [
    "top_accuracies = []\n",
    "for n in range(1, len(query_proportions_df.values) + 1):\n",
    "    top_accuracies.append(calculate_top_accuracy(reference_sorted_cell_types, query_sorted_cell_types, n=n))"
   ]
  },
  {
   "cell_type": "code",
   "execution_count": null,
   "id": "f43be79c-99cb-47f3-a1d4-5bc6b4c26a38",
   "metadata": {},
   "outputs": [],
   "source": [
    "sns.lineplot(top_accuracies, marker=\"o\", label=\"NicheCompass Niches\")\n",
    "sns.lineplot(spatial_top_n_accuracies, marker=\"o\", label=\"Best Matching Spatial Niches\")\n",
    "plt.xlabel(\"n\")\n",
    "plt.ylabel(\"Top n Accuracy\")\n",
    "plt.ylim(0, 1)\n",
    "plt.legend()\n",
    "plt.show()"
   ]
  },
  {
   "cell_type": "code",
   "execution_count": null,
   "id": "185d6019-20e9-406f-ad61-85a8fc907776",
   "metadata": {},
   "outputs": [],
   "source": []
  },
  {
   "cell_type": "code",
   "execution_count": null,
   "id": "f307f9ed-3e61-41e3-a912-955519fab54b",
   "metadata": {},
   "outputs": [],
   "source": []
  },
  {
   "cell_type": "code",
   "execution_count": null,
   "id": "2a6b55ed-fff4-44bd-84f6-d6b34303f068",
   "metadata": {},
   "outputs": [],
   "source": []
  },
  {
   "cell_type": "code",
   "execution_count": null,
   "id": "7b1843cc-97b8-4cf5-9feb-413819a1a6a5",
   "metadata": {},
   "outputs": [],
   "source": []
  },
  {
   "cell_type": "code",
   "execution_count": null,
   "id": "edc14e15-294a-48e7-9eb7-ce23177e097d",
   "metadata": {},
   "outputs": [],
   "source": []
  },
  {
   "cell_type": "code",
   "execution_count": null,
   "id": "ce34d47f-9403-4dd3-8c86-0df74499c039",
   "metadata": {},
   "outputs": [],
   "source": [
    "top2_accuracy = calculate_top_accuracy(reference_sorted_cell_types, query_sorted_cell_types, n=2)"
   ]
  },
  {
   "cell_type": "code",
   "execution_count": null,
   "id": "bd8703d8-0531-4277-9bb5-ea530f7b841e",
   "metadata": {},
   "outputs": [],
   "source": []
  },
  {
   "cell_type": "code",
   "execution_count": null,
   "id": "540c4db5-a9b5-4b48-8c90-b2b041c00a83",
   "metadata": {},
   "outputs": [],
   "source": [
    "reference_sorted_cell_types"
   ]
  },
  {
   "cell_type": "code",
   "execution_count": null,
   "id": "653950e1-89dd-4f2f-b0bb-aafb3e29199b",
   "metadata": {},
   "outputs": [],
   "source": [
    "# Print the ordered list of categories for each group\n",
    "for group, categories in zip(query_proportions_df.index, sorted_cell_types):\n",
    "    print(f\"{group}: {', '.join(categories)}\")"
   ]
  },
  {
   "cell_type": "code",
   "execution_count": null,
   "id": "69e908d4-7d57-4e52-a5c3-e9c9cbea800e",
   "metadata": {},
   "outputs": [],
   "source": [
    "sorted_cell_types"
   ]
  },
  {
   "cell_type": "code",
   "execution_count": null,
   "id": "2f97cec0-e818-4907-b541-401e107cfb76",
   "metadata": {},
   "outputs": [],
   "source": [
    "# Compute top accuracies\n",
    "query_proportions_df"
   ]
  },
  {
   "cell_type": "code",
   "execution_count": null,
   "id": "de836b4e-0bbf-4f3e-b227-4f938662dcdd",
   "metadata": {},
   "outputs": [],
   "source": []
  },
  {
   "cell_type": "code",
   "execution_count": null,
   "id": "24821d25-9693-4d7a-9cc8-2b1bdcf035a3",
   "metadata": {},
   "outputs": [],
   "source": [
    "average_jsd"
   ]
  },
  {
   "cell_type": "code",
   "execution_count": null,
   "id": "f2d947ad-7ce4-4464-b36a-abab8751ea70",
   "metadata": {},
   "outputs": [],
   "source": [
    "save_fig = False\n",
    "file_path = f\"{figure_folder_path}/\" \\\n",
    "            f\"res_{latent_leiden_resolution}_\" \\\n",
    "            f\"niche_composition.svg\"\n",
    "\n",
    "ax = df_counts.plot(kind=\"bar\", stacked=True, figsize=(10,10))\n",
    "legend = plt.legend(bbox_to_anchor=(1, 1), loc=\"upper left\", prop={'size': 10})\n",
    "legend.set_title(\"Cell Type Annotations\", prop={'size': 10})\n",
    "plt.title(\"Cell Type Composition of Niches\")\n",
    "plt.xlabel(\"Niche\")\n",
    "plt.ylabel(\"Cell Type Counts\")\n",
    "if save_fig:\n",
    "    plt.savefig(file_path,\n",
    "                bbox_extra_artists=(legend,),\n",
    "                bbox_inches=\"tight\")"
   ]
  },
  {
   "cell_type": "code",
   "execution_count": null,
   "id": "4009c104-0380-42e4-a94f-3b07daa09459",
   "metadata": {},
   "outputs": [],
   "source": []
  },
  {
   "cell_type": "code",
   "execution_count": null,
   "id": "adc73d2e-d263-48cf-9b79-2c9af6bde405",
   "metadata": {},
   "outputs": [],
   "source": []
  },
  {
   "cell_type": "code",
   "execution_count": null,
   "id": "6d32cae7-3059-4840-9006-b53396573659",
   "metadata": {},
   "outputs": [],
   "source": []
  },
  {
   "cell_type": "code",
   "execution_count": null,
   "id": "6a6de02d-ceac-4bc9-b8b2-940d881b1190",
   "metadata": {},
   "outputs": [],
   "source": [
    "model.adata.obsm[\"X_pca\"].shape"
   ]
  },
  {
   "cell_type": "code",
   "execution_count": null,
   "id": "3cd024b7-0dd4-4dea-a2aa-63d545d772a5",
   "metadata": {},
   "outputs": [],
   "source": [
    "adata_reference.obsm[\"X_pca\"]"
   ]
  },
  {
   "cell_type": "code",
   "execution_count": null,
   "id": "6a20eb59-4043-49da-90a7-4c89f36469c7",
   "metadata": {},
   "outputs": [],
   "source": [
    "adata_query.obsm[\"X_pca\"]"
   ]
  },
  {
   "cell_type": "code",
   "execution_count": null,
   "id": "7bb64b6a-ed2a-4cb9-a670-24e7b65f0b76",
   "metadata": {},
   "outputs": [],
   "source": [
    "# Prepare label transfer via scarches\n",
    "knn_transformer = sca.utils.knn.weighted_knn_trainer(\n",
    "    train_adata=adata_reference,\n",
    "    train_adata_emb=\"X_pca\",\n",
    "    n_neighbors=50)"
   ]
  },
  {
   "cell_type": "code",
   "execution_count": null,
   "id": "f1592119-5034-415c-acd1-60d4fb60521e",
   "metadata": {},
   "outputs": [],
   "source": [
    "# Compute label transfer via scarches\n",
    "labels, uncert = sca.utils.knn.weighted_knn_transfer(\n",
    "    query_adata=adata_query,\n",
    "    query_adata_emb=\"X_pca\",\n",
    "    label_keys=label_key,\n",
    "    knn_model=knn_transformer,\n",
    "    ref_adata_obs=adata_reference.obs)"
   ]
  },
  {
   "cell_type": "code",
   "execution_count": null,
   "id": "05348cc8-ad8e-4893-8e6f-7789a2407467",
   "metadata": {},
   "outputs": [],
   "source": [
    "labels.rename(columns={label_key: f\"{transfer_label_key}_pca\"}, inplace=True)\n",
    "uncert.rename(columns={label_key: f\"{transfer_label_uncertainty_key}_pca\"}, inplace=True)\n",
    "\n",
    "# Join results of label transfer to adata\n",
    "model.adata.obs = model.adata.obs.join(labels)\n",
    "model.adata.obs = model.adata.obs.join(uncert)"
   ]
  },
  {
   "cell_type": "code",
   "execution_count": null,
   "id": "794eb172-6ce5-41f8-921e-4f02a9892e72",
   "metadata": {},
   "outputs": [],
   "source": [
    "labels"
   ]
  },
  {
   "cell_type": "code",
   "execution_count": null,
   "id": "c9e4467c-962c-4b90-be3a-4dd6aed14736",
   "metadata": {},
   "outputs": [],
   "source": [
    "model.adata.obs[f\"{transfer_label_evaluation_key}_pca\"] = model.adata.obs.apply(\n",
    "    lambda row: \"Correct\" if row[f\"{transfer_label_key}_pca\"] == row[label_key] else (row[f\"{transfer_label_key}_pca\"] if pd.isnull(row[f\"{transfer_label_key}_pca\"]) else \"Incorrect\"), axis=1)"
   ]
  },
  {
   "cell_type": "code",
   "execution_count": null,
   "id": "05962f18-3dd7-4cfa-acee-855edd9c4fab",
   "metadata": {},
   "outputs": [],
   "source": [
    "uncertainty_threshold = 0.2\n",
    "\n",
    "model.adata.obs[f\"{transfer_label_evaluation_key}_pca\"] = model.adata.obs[f\"{transfer_label_evaluation_key}_pca\"].mask(\n",
    "    model.adata.obs[f\"{transfer_label_uncertainty_key}_pca\"] > uncertainty_threshold,\n",
    "    \"Unknown\")"
   ]
  },
  {
   "cell_type": "code",
   "execution_count": null,
   "id": "28631751-dbd5-473d-a2dc-f20517204d13",
   "metadata": {},
   "outputs": [],
   "source": [
    "adata_query_label_transfer = model.adata[model.adata.obs[mapping_entity_key] == \"query\"]"
   ]
  },
  {
   "cell_type": "code",
   "execution_count": null,
   "id": "826b1a71-1c5a-4d44-89c7-3caddae313cf",
   "metadata": {},
   "outputs": [],
   "source": [
    "print(f\"Percentage of 'Unknown', with uncertainty_threshold = {uncertainty_threshold}:\")\n",
    "print(f\"{np.round(sum(adata_query_label_transfer.obs[transfer_label_evaluation_key] =='Unknown')/adata_query_label_transfer.n_obs*100,2)}%\")"
   ]
  },
  {
   "cell_type": "code",
   "execution_count": null,
   "id": "6caefe80-9d54-4fc6-9595-ceb908604f49",
   "metadata": {},
   "outputs": [],
   "source": [
    "query_enriched_labels = (query_enriched_cell_types if label_key == \"celltype_mapped_refined\" else query_enriched_latent_clusters)\n",
    "not_query_enriched_labels = list(set(model.adata.obs[label_key].unique().tolist()) - set(query_enriched_labels))\n",
    "label_cats = not_query_enriched_labels + query_enriched_labels"
   ]
  },
  {
   "cell_type": "code",
   "execution_count": null,
   "id": "f1e5f9f2-b176-4c1b-960e-102df0720940",
   "metadata": {},
   "outputs": [],
   "source": [
    "adata_query_label_transfer.obs"
   ]
  },
  {
   "cell_type": "code",
   "execution_count": null,
   "id": "7ac82b4e-8821-4691-bd1b-6c772c0e7293",
   "metadata": {},
   "outputs": [],
   "source": []
  },
  {
   "cell_type": "code",
   "execution_count": null,
   "id": "638a2261-f0ec-4b74-86ec-e93bdc4c147b",
   "metadata": {},
   "outputs": [],
   "source": [
    "perc_correct = pd.crosstab(\n",
    "    adata_query_label_transfer.obs[f\"{transfer_label_key}_pca\"],\n",
    "    adata_query_label_transfer.obs[f\"{transfer_label_evaluation_key}_pca\"],\n",
    ").loc[label_cats, :]\n",
    "total_n_per_ct = adata_query_label_transfer.obs[transfer_label_key].value_counts()\n",
    "perc_correct = perc_correct.div(perc_correct.sum(axis=1), axis=\"rows\") * 100\n",
    "# add a bar (=row) for the entire query dataset:\n",
    "perc_correct.index = perc_correct.index.tolist()\n",
    "total_n_per_ct.index = total_n_per_ct.index.tolist()\n",
    "total_n_per_ct[\"Overall\"] = adata_query_label_transfer.shape[0]\n",
    "perc_correct.loc[\"Overall\", :] = (\n",
    "    adata_query_label_transfer.obs[transfer_label_evaluation_key].value_counts()\n",
    "    / total_n_per_ct[\"Overall\"]\n",
    "    * 100\n",
    ")\n",
    "\n",
    "incl_celln_in_label = True\n",
    "# set celltype order:\n",
    "# follow bio order, except that new/unseen cell types will come first:\n",
    "plot_label_cats = label_cats + [\"Overall\"]\n",
    "perc_correct = perc_correct.loc[plot_label_cats, :]\n",
    "with plt.rc_context(\n",
    "    {\n",
    "        \"figure.figsize\": (0.4 * len(label_cats), 3),\n",
    "        \"axes.spines.right\": False,\n",
    "        \"axes.spines.top\": False,\n",
    "    }\n",
    "):\n",
    "    fig, ax = plt.subplots()\n",
    "    perc_correct.plot(kind=\"bar\", stacked=True, ax=ax)\n",
    "    handles, labels = ax.get_legend_handles_labels()\n",
    "    ax.legend(handles[::-1], labels[::-1], loc=(1.01, 0.60), frameon=False)\n",
    "\n",
    "    cts_no_underscore = [ct.replace(\"_\", \" \") for ct in label_cats]\n",
    "    if incl_celln_in_label:\n",
    "        plt.xticks(\n",
    "            ticks=range(len(label_cats) + 1),\n",
    "            labels=[\n",
    "                f\"{ct_no_und} ({total_n_per_ct[ct]})\"\n",
    "                for ct_no_und, ct in zip(\n",
    "                    cts_no_underscore + [\"Overall\"],\n",
    "                    plot_label_cats,  # ct_df_q + [\"Overall\"]\n",
    "                )\n",
    "            ],\n",
    "        )\n",
    "        plt.xlabel(\"Original label (n cells)\")\n",
    "    else:\n",
    "        plt.xticks(\n",
    "            ticks=range(len(plot_label_cats)),\n",
    "            labels=[f\"{ct_no_und}\" for ct_no_und in cts_no_underscore],\n",
    "        )\n",
    "        plt.xlabel(\"Original label\")\n",
    "    ax.set_ylabel(\"% of cells\")\n",
    "    plt.grid(False)"
   ]
  },
  {
   "cell_type": "code",
   "execution_count": null,
   "id": "1e09cc08-9d09-4eed-b80d-7ea4a64cb4cf",
   "metadata": {},
   "outputs": [],
   "source": []
  },
  {
   "cell_type": "code",
   "execution_count": null,
   "id": "ed065926-64b2-4ba1-890a-01de85960de4",
   "metadata": {},
   "outputs": [],
   "source": []
  },
  {
   "cell_type": "code",
   "execution_count": null,
   "id": "e4606068-ae1a-41ba-9174-a9dd1f0dbc5d",
   "metadata": {},
   "outputs": [],
   "source": []
  },
  {
   "cell_type": "code",
   "execution_count": null,
   "id": "af321dd5-392e-4654-b04b-d28eccdc2aac",
   "metadata": {},
   "outputs": [],
   "source": []
  },
  {
   "cell_type": "code",
   "execution_count": null,
   "id": "3a8cbc86-668e-435b-a9fa-a42d1ee3bf1f",
   "metadata": {},
   "outputs": [],
   "source": [
    "# Plot of query-enriched cell-type annotations in physical and latent space\n",
    "save_fig = False\n",
    "file_path = f\"{figure_folder_path}/\" \\\n",
    "            \"query_enriched_latent_clusters_latent_physical_space.svg\"\n",
    "\n",
    "plot_category_in_latent_and_physical_space(\n",
    "    adata=model.adata,\n",
    "    plot_label=\"Label Transfer Uncertainty\",\n",
    "    cat_key=transfer_label_key,\n",
    "    groups=\"Unknown\",\n",
    "    sample_key=sample_key,\n",
    "    samples=samples,\n",
    "    cat_colors=\"coolwarm\",\n",
    "    size=360000/len(model.adata),\n",
    "    spot_size=spot_size,\n",
    "    save_fig=save_fig,\n",
    "    file_path=file_path)"
   ]
  },
  {
   "cell_type": "markdown",
   "id": "2835549b-2d95-4e26-90fb-d1d94bd6b2e2",
   "metadata": {},
   "source": [
    "## 4. Benchmarking"
   ]
  },
  {
   "cell_type": "markdown",
   "id": "6eaa452e-2c31-4f31-b913-f9cbe22d67d0",
   "metadata": {},
   "source": [
    "### 3.1 Batch Integration Baselines"
   ]
  },
  {
   "cell_type": "code",
   "execution_count": null,
   "id": "f44104df-d4b9-4d04-ae18-828e3212735e",
   "metadata": {},
   "outputs": [],
   "source": [
    "### TO DO ###"
   ]
  },
  {
   "cell_type": "markdown",
   "id": "b8487860-dee3-446f-abfa-f6455fc8f96d",
   "metadata": {},
   "source": [
    "#### 3.1.1 scVI"
   ]
  },
  {
   "cell_type": "code",
   "execution_count": null,
   "id": "c9a952ef-9efc-400c-a28b-a3cc12c70250",
   "metadata": {},
   "outputs": [],
   "source": [
    "scvi.settings.seed = random_seed\n",
    "    \n",
    "# Setup adata\n",
    "scvi.model.SCVI.setup_anndata(adata_one_shot,\n",
    "                              layer=counts_key,\n",
    "                              batch_key=condition_key)\n",
    "\n",
    "# Initialize model\n",
    "# Use hyperparams that provenly work well on integration tasks (https://docs.scvi-tools.org/en/stable/tutorials/notebooks/harmonization.html)\n",
    "vae = scvi.model.SCVI(adata_one_shot,\n",
    "                      n_layers=2,\n",
    "                      n_latent=30,\n",
    "                      gene_likelihood=\"nb\")\n",
    "\n",
    "# Train model\n",
    "vae.train()\n",
    "\n",
    "adata_one_shot.obsm[\"scvi_latent\"] = vae.get_latent_representation()"
   ]
  },
  {
   "cell_type": "code",
   "execution_count": null,
   "id": "83393d73-3908-4bd6-b016-ca0dbf7b4835",
   "metadata": {},
   "outputs": [],
   "source": [
    "# Use scVI latent space for UMAP generation\n",
    "sc.pp.neighbors(adata_one_shot, use_rep=\"scvi_latent\")\n",
    "sc.tl.umap(adata_one_shot)"
   ]
  },
  {
   "cell_type": "code",
   "execution_count": null,
   "id": "28c0be8e-1864-4c46-b819-f77cc0184e53",
   "metadata": {},
   "outputs": [],
   "source": [
    "# Plot UMAP with batch annotations\n",
    "fig = sc.pl.umap(adata_one_shot,\n",
    "                 color=[cell_type_key],\n",
    "                 legend_fontsize=12,\n",
    "                 return_fig=True)\n",
    "plt.title(\"scVI Integration: Latent Space Cell Type Annotations\", size=20, pad=15)\n",
    "fig.savefig(f\"{figure_folder_path}/latent_cell_types_scvi.png\",\n",
    "            bbox_inches=\"tight\")"
   ]
  },
  {
   "cell_type": "markdown",
   "id": "3921008b-f97a-44ad-97cf-bdbc4e82125d",
   "metadata": {},
   "source": [
    "#### 3.1.2 SageNet"
   ]
  },
  {
   "cell_type": "code",
   "execution_count": null,
   "id": "692ea96a-00bf-4bab-93be-c546c1eb1704",
   "metadata": {},
   "outputs": [],
   "source": [
    "#################################################################\n",
    "This cell throws an error as the solver cannot solve this problem\n",
    "#################################################################\n",
    "\n",
    "\n",
    "# Construct gene interaction network for spatial references\n",
    "for i in range(len(adata_batch_list[:-2])):\n",
    "    adata_batch_list[i].X = adata_batch_list[i].X.toarray() # convert to dense matrix as required by glasso\n",
    "    print(\"Computing gene interaction network...\")\n",
    "    glasso(adata_batch_list[i], [0.25, 0.5])\n",
    "    adata_batch_list[i].X = sp.csc_matrix(adata_batch_list[i].X) # convert back to sparse matrix\n",
    "    print(\"Computing Leiden clusters...\")\n",
    "    sc.tl.leiden(adata_batch_list[i],\n",
    "                 resolution=.05,\n",
    "                 random_state=random_seed,\n",
    "                 key_added=\"leiden_0.05\",\n",
    "                 adjacency=adata_batch_list[i].obsp[\"spatial_connectivities\"])\n",
    "    sc.tl.leiden(adata_batch_list[i],\n",
    "                 resolution=.1,\n",
    "                 random_state=random_seed,\n",
    "                 key_added=\"leiden_0.1\",\n",
    "                 adjacency=adata_batch_list[i].obsp[\"spatial_connectivities\"])\n",
    "    sc.tl.leiden(adata_batch_list[i],\n",
    "                 resolution=.5,\n",
    "                 random_state=random_seed,\n",
    "                 key_added=\"leiden_0.5\",\n",
    "                 adjacency=adata_batch_list[i].obsp[\"spatial_connectivities\"])"
   ]
  },
  {
   "cell_type": "code",
   "execution_count": null,
   "id": "53b69d7f-bf97-43cf-a88e-58ac59049512",
   "metadata": {},
   "outputs": [],
   "source": [
    "if torch.cuda.is_available():\n",
    "  dev = \"cuda:0\"\n",
    "else:\n",
    "  dev = \"cpu\"\n",
    "device = torch.device(dev)\n",
    "print(device)"
   ]
  },
  {
   "cell_type": "code",
   "execution_count": null,
   "id": "2dfb93f2-ec17-4760-add5-19cd53bc9b59",
   "metadata": {},
   "outputs": [],
   "source": [
    "# Define model object\n",
    "sg_obj = sca.models.sagenet(device=device)"
   ]
  },
  {
   "cell_type": "code",
   "execution_count": null,
   "id": "7260a086-d23a-4d65-8ea0-96235425672c",
   "metadata": {},
   "outputs": [],
   "source": [
    "# Train model on spatial references\n",
    "for i in range(len(adata_batch_list[:-2])):\n",
    "    sg_obj.train(adata_batch_list[i],\n",
    "                 comm_columns=['leiden_0.05', 'leiden_0.1', 'leiden_0.5'],\n",
    "                 tag=f'batch{i}',\n",
    "                 epochs=15,\n",
    "                 verbose = False,\n",
    "                 importance=True)"
   ]
  },
  {
   "cell_type": "code",
   "execution_count": null,
   "id": "9aa5b9e7-b94c-4a0b-a3d0-d483ae116980",
   "metadata": {},
   "outputs": [],
   "source": [
    "# Save model\n",
    "os.makedirs(model_artifacts_folder_path + \"/sagenet\")\n",
    "sg_obj.save_as_folder(model_artifacts_folder_path + \"/sagenet\")"
   ]
  },
  {
   "cell_type": "code",
   "execution_count": null,
   "id": "f943468f-9a45-47bc-b5fc-a15e5819b71c",
   "metadata": {},
   "outputs": [],
   "source": [
    "# Load model\n",
    "sg_obj_load = sca.models.sagenet(device=device)\n",
    "sg_obj_load.load_from_folder(model_artifacts_folder_path + \"/sagenet\")"
   ]
  },
  {
   "cell_type": "code",
   "execution_count": null,
   "id": "b15a248a-4bc1-4c25-8527-7faa9d2ddae8",
   "metadata": {},
   "outputs": [],
   "source": [
    "# Load query\n",
    "sg_obj_load.load_query_data(adata)"
   ]
  },
  {
   "cell_type": "code",
   "execution_count": null,
   "id": "0f4cd5d0-e3ff-426b-a220-be42be61b444",
   "metadata": {
    "tags": []
   },
   "outputs": [],
   "source": [
    "# Use SageNet cell-cell-distances for UMAP generation\n",
    "sc.pp.neighbors(adata, use_rep=\"dist_map\")\n",
    "sc.tl.umap(adata)"
   ]
  },
  {
   "cell_type": "code",
   "execution_count": null,
   "id": "909fa482-63b0-4e92-baa4-17edbf4498c4",
   "metadata": {},
   "outputs": [],
   "source": [
    "# Plot UMAP with batch annotations\n",
    "fig = sc.pl.umap(adata,\n",
    "                 color=[condition_key],\n",
    "                 legend_fontsize=12,\n",
    "                 return_fig=True)\n",
    "plt.title(\"SageNet Integration: Latent Space Batch Annotations\", size=20, pad=15)\n",
    "fig.savefig(f\"{figure_folder_path}/latent_batches_sagenet.png\",\n",
    "            bbox_inches=\"tight\")"
   ]
  },
  {
   "cell_type": "code",
   "execution_count": null,
   "id": "704f4b30-1420-4091-a58b-b6127b42d487",
   "metadata": {},
   "outputs": [],
   "source": [
    "# Plot UMAP with cell type annotations\n",
    "fig = sc.pl.umap(adata,\n",
    "                 color=[cell_type_key],\n",
    "                 return_fig=True)\n",
    "plt.title(\"SageNet: Latent Space Cell Type Annotations\", size=20, pad=15)\n",
    "fig.savefig(f\"{figure_folder_path}/latent_cell_types_sagenet.png\",\n",
    "            bbox_inches=\"tight\")"
   ]
  },
  {
   "cell_type": "markdown",
   "id": "1c0b79fc-ad60-438f-a663-eb13698aadad",
   "metadata": {},
   "source": [
    "#### 3.1.3 BBKNN"
   ]
  },
  {
   "cell_type": "code",
   "execution_count": null,
   "id": "8f5def0b-c46a-4c05-9901-d7a79121734e",
   "metadata": {},
   "outputs": [],
   "source": [
    "latent_bbknn_list = []\n",
    "for i in range(len(adata_batch_list)):\n",
    "    # Initialize model\n",
    "    model = NicheCompass(adata_batch_list[i],\n",
    "                       counts_key=counts_key,\n",
    "                       adj_key=adj_key,\n",
    "                       condition_key=condition_key,\n",
    "                       cond_embed_injection=[\"encoder\",\n",
    "                                             \"gene_expr_decoder\",\n",
    "                                             \"graph_decoder\"],\n",
    "                       n_cond_embed=n_cond_embed,\n",
    "                       gp_names_key=gp_names_key,\n",
    "                       active_gp_names_key=active_gp_names_key,\n",
    "                       gp_targets_mask_key=gp_targets_mask_key,\n",
    "                       gp_sources_mask_key=gp_sources_mask_key,\n",
    "                       latent_key=latent_key,\n",
    "                       active_gp_thresh_ratio=0., # all gps will be active for concatenation across batches\n",
    "                       gene_expr_recon_dist=gene_expr_recon_dist,\n",
    "                       n_hidden_encoder=n_hidden_encoder,\n",
    "                       log_variational=True)\n",
    "    print(\"\")\n",
    "    \n",
    "    # Train model\n",
    "    model.train(n_epochs=n_epochs,\n",
    "                n_epochs_all_gps=n_epochs, # all gps will be active for concatenation across batches\n",
    "                lr=lr,\n",
    "                lambda_edge_recon=lambda_edge_recon,\n",
    "                lambda_gene_expr_recon=lambda_gene_expr_recon,\n",
    "                verbose=True)\n",
    "    print(\"\")\n",
    "    \n",
    "    # Save trained model\n",
    "    model.save(dir_path=model_artifacts_folder_path + f\"/bbknn_batch{i+1}\",\n",
    "               overwrite=True,\n",
    "               save_adata=True,\n",
    "               adata_file_name=f\"{dataset}.h5ad\")\n",
    "    \n",
    "    latent_bbknn_current_batch = model.get_latent_representation(\n",
    "        adata=adata_batch_list[i],\n",
    "        counts_key=counts_key,\n",
    "        condition_key=condition_key,\n",
    "        only_active_gps=False)\n",
    "    \n",
    "    latent_bbknn_list.append(latent_bbknn_current_batch)\n",
    "    \n",
    "adata_bbknn.obsm[latent_key] = np.vstack(latent_bbknn_list)\n",
    "\n",
    "# Store adata to disk\n",
    "adata_bbknn.write(f\"{model_artifacts_folder_path}/adata_bbknn.h5ad\")"
   ]
  },
  {
   "cell_type": "code",
   "execution_count": null,
   "id": "5d9979c1-c696-4008-b517-6e2130b64db2",
   "metadata": {},
   "outputs": [],
   "source": [
    "if load_timestamp is not None:\n",
    "    model_artifacts_load_folder_path = f\"../artifacts/{dataset}/batch_integration/{load_timestamp}\"\n",
    "else:\n",
    "    model_artifacts_load_folder_path = model_artifacts_folder_path\n",
    "\n",
    "# Read adata from disk\n",
    "adata_bbknn = sc.read_h5ad(f\"{model_artifacts_load_folder_path}/adata_bbknn.h5ad\")"
   ]
  },
  {
   "cell_type": "code",
   "execution_count": null,
   "id": "c557ce3d-237c-4955-b65c-bae0a062d038",
   "metadata": {},
   "outputs": [],
   "source": [
    "# Compute batch-corrected latent nearest neighbor graph\n",
    "bbknn.bbknn(adata=adata_bbknn,\n",
    "            batch_key=condition_key,\n",
    "            use_rep=latent_key)\n",
    "\n",
    "adata_bbknn.obsp[f\"{latent_knng_key}_connectivities\"] = (\n",
    "    adata_bbknn.obsp[\"connectivities\"])\n",
    "\n",
    "adata_bbknn.obsp[f\"{latent_knng_key}_distances\"] = (\n",
    "    adata_bbknn.obsp[\"distances\"])"
   ]
  },
  {
   "cell_type": "code",
   "execution_count": null,
   "id": "ce422dbf-3de9-4196-ae7c-337f250141c7",
   "metadata": {},
   "outputs": [],
   "source": [
    "# Use batch-corrected latent space for UMAP generation\n",
    "sc.tl.umap(adata_bbknn)"
   ]
  },
  {
   "cell_type": "code",
   "execution_count": null,
   "id": "74e4f895-0342-4846-8443-f0730c6c00b5",
   "metadata": {},
   "outputs": [],
   "source": [
    "# Plot UMAP with batch annotations\n",
    "fig = sc.pl.umap(adata_bbknn,\n",
    "                 color=[condition_key],\n",
    "                 legend_fontsize=12,\n",
    "                 return_fig=True)\n",
    "plt.title(\"BBKNN Integration: Latent Space Batch Annotations\", size=20, pad=15)\n",
    "fig.savefig(f\"{figure_folder_path}/latent_batches_bbknn.png\",\n",
    "            bbox_inches=\"tight\")"
   ]
  },
  {
   "cell_type": "code",
   "execution_count": null,
   "id": "6791e657-07e1-4838-a622-4e99317de9f8",
   "metadata": {},
   "outputs": [],
   "source": [
    "# Plot UMAP with cell type annotations\n",
    "fig = sc.pl.umap(adata_bbknn,\n",
    "                 color=[cell_type_key],\n",
    "                 return_fig=True)\n",
    "plt.title(\"BBKNN Integration: Latent Space Cell Type Annotations\", size=20, pad=15)\n",
    "fig.savefig(f\"{figure_folder_path}/latent_cell_types_bbknn.png\",\n",
    "            bbox_inches=\"tight\")"
   ]
  },
  {
   "cell_type": "code",
   "execution_count": null,
   "id": "b67b7c40-59c8-4c9b-aa01-89d96074a6ec",
   "metadata": {},
   "outputs": [],
   "source": [
    "# Compute spatial nearest neighbor graph\n",
    "sc.pp.neighbors(adata_bbknn, use_rep=spatial_key, key_added=spatial_knng_key)"
   ]
  },
  {
   "cell_type": "code",
   "execution_count": null,
   "id": "7cb5ed1e-555a-4848-bba3-3062a737dc11",
   "metadata": {},
   "outputs": [],
   "source": [
    "metrics_dict_bbknn = {}\n",
    "\n",
    "metrics_dict_bbknn[\"cad\"] = compute_cad(\n",
    "    adata=adata_bbknn,\n",
    "    cell_type_key=cell_type_key,\n",
    "    spatial_knng_key=spatial_knng_key,\n",
    "    latent_knng_key=latent_knng_key)\n",
    "\n",
    "metrics_dict_bbknn[\"rclisi\"] = compute_rclisi(\n",
    "    adata=adata_bbknn,\n",
    "    cell_type_key=cell_type_key,\n",
    "    spatial_knng_key=spatial_knng_key,\n",
    "    latent_knng_key=latent_knng_key)\n",
    "    \n",
    "metrics_dict_bbknn[\"batch_asw\"] = scib.me.silhouette_batch(\n",
    "    adata=adata_bbknn,\n",
    "    batch_key=condition_key,\n",
    "    label_key=cell_type_key,\n",
    "    embed=\"X_umap\")\n",
    "\n",
    "# knn output\n",
    "metrics_dict_bbknn[\"ilisi\"] = scib.me.ilisi_graph(\n",
    "    adata=adata_bbknn,\n",
    "    batch_key=condition_key,\n",
    "    type_=\"knn\")\n",
    "\n",
    "\"\"\"\n",
    "metrics_dict_bbknn[\"kbet\"] = scib.me.kBET(\n",
    "    adata=adata_bbknn,\n",
    "    batch_key=condition_key,\n",
    "    label_key=cell_type_key,\n",
    "    type_=\"knn\")\n",
    "\"\"\"\n",
    "\n",
    "print(metrics_dict_bbknn)\n",
    "\n",
    "# Store to disk\n",
    "with open(f\"{model_artifacts_folder_path}/metrics_bbknn.pickle\", \"wb\") as f:\n",
    "    pickle.dump(metrics_dict_bbknn, f)"
   ]
  },
  {
   "cell_type": "markdown",
   "id": "4d4e3f47-a08e-4cb5-92c1-85d7b1df0729",
   "metadata": {},
   "source": [
    "#### 3.2.4 Compute Metrics"
   ]
  },
  {
   "cell_type": "code",
   "execution_count": null,
   "id": "7d91b6f1-a6a9-4d87-9e7c-c2e7d6a2efa3",
   "metadata": {},
   "outputs": [],
   "source": [
    "# Store computed latent nearest neighbor graph in connectivities\n",
    "# as required by scib metrics\n",
    "model.adata.obsp[\"connectivities\"] = (\n",
    "    model.adata.obsp[f\"{latent_knng_key}_connectivities\"])\n",
    "model.adata.obsp[\"distances\"] = (\n",
    "    model.adata.obsp[f\"{latent_knng_key}_distances\"])\n",
    "model.adata.uns[\"neighbors\"] = (\n",
    "    model.adata.uns[f\"{latent_knng_key}\"])\n",
    "\n",
    "# Compute spatial nearest neighbor graph\n",
    "sc.pp.neighbors(model.adata,\n",
    "                use_rep=spatial_key,\n",
    "                key_added=spatial_knng_key)"
   ]
  },
  {
   "cell_type": "code",
   "execution_count": null,
   "id": "94ee7b1b-4147-4e36-8309-e086a3048919",
   "metadata": {},
   "outputs": [],
   "source": [
    "# Compute metrics\n",
    "metrics_dict_oneshot = {}\n",
    "\n",
    "# Spatial conservation metrics\n",
    "metrics_dict_oneshot[\"cas\"] = compute_cas(\n",
    "    adata=model.adata,\n",
    "    cell_type_key=cell_type_key,\n",
    "    spatial_knng_key=spatial_knng_key,\n",
    "    latent_knng_key=latent_knng_key)\n",
    "metrics_dict_oneshot[\"clisis\"] = compute_clisis(\n",
    "    adata=model.adata,\n",
    "    cell_type_key=cell_type_key,\n",
    "    spatial_knng_key=spatial_knng_key,\n",
    "    latent_knng_key=latent_knng_key)\n",
    "    \n",
    "# Batch correction metrics\n",
    "metrics_dict_oneshot[\"batch_asw\"] = scib.me.silhouette_batch(\n",
    "    adata=model.adata,\n",
    "    batch_key=condition_key,\n",
    "    label_key=cell_type_key,\n",
    "    embed=\"X_umap\")\n",
    "metrics_dict_oneshot[\"ilisi\"] = scib.me.ilisi_graph(\n",
    "    adata=model.adata,\n",
    "    batch_key=condition_key,\n",
    "    type_=\"knn\")\n",
    "\n",
    "print(metrics_dict_oneshot)\n",
    "\n",
    "# Store metrics to disk\n",
    "with open(f\"{model_artifacts_folder_path}/metrics_oneshot.pickle\", \"wb\") as f:\n",
    "    pickle.dump(metrics_dict_oneshot, f)"
   ]
  },
  {
   "cell_type": "markdown",
   "id": "22532b07-0cc9-4884-ba76-cd3e00a8c4c9",
   "metadata": {},
   "source": [
    "#### 3.2.5 Visualize Conditional Embedding"
   ]
  },
  {
   "cell_type": "code",
   "execution_count": null,
   "id": "91919d64-92d2-4f78-ae9f-1ce1a38c57d0",
   "metadata": {},
   "outputs": [],
   "source": [
    "# Get conditional embeddings\n",
    "cond_embed = model.get_cond_embeddings()\n",
    "cond = model.adata.obs[\"batch\"].unique()\n",
    "\n",
    "# Get top 2 principal components and plot them\n",
    "pca = KernelPCA(n_components=2, kernel=\"linear\")\n",
    "cond_embed_pca = pca.fit_transform(cond_embed)\n",
    "sns.scatterplot(x=cond_embed_pca[:, 0], \n",
    "                y=cond_embed_pca[:, 1], \n",
    "                hue=cond)\n",
    "plt.title(\"One-Shot Integration Conditional Embeddings\", pad=15)\n",
    "plt.xlabel(\"Principal Component 1\")\n",
    "plt.xticks(fontsize=12)\n",
    "plt.ylabel (\"Principal Component 2\")\n",
    "plt.yticks(fontsize=12)\n",
    "plt.legend(bbox_to_anchor=(1.02, 0.75),\n",
    "           loc=2,\n",
    "           borderaxespad=0.,\n",
    "           fontsize=12,\n",
    "           frameon=False)\n",
    "plt.savefig(f\"{figure_folder_path}/cond_embed_oneshot.png\",\n",
    "            bbox_inches=\"tight\")"
   ]
  },
  {
   "cell_type": "code",
   "execution_count": null,
   "id": "15e20443-83d6-4b02-9cf2-401f28ce6458",
   "metadata": {},
   "outputs": [],
   "source": []
  },
  {
   "cell_type": "code",
   "execution_count": null,
   "id": "33c08cdb-72a6-4662-8575-4d9ac86b46b1",
   "metadata": {},
   "outputs": [],
   "source": []
  },
  {
   "cell_type": "code",
   "execution_count": null,
   "id": "641c9114-92b8-4ae7-83b4-45f3b4f9fddd",
   "metadata": {},
   "outputs": [],
   "source": []
  },
  {
   "cell_type": "code",
   "execution_count": null,
   "id": "19317be7-9af3-4141-9ff9-b33263a1af45",
   "metadata": {},
   "outputs": [],
   "source": []
  },
  {
   "cell_type": "code",
   "execution_count": null,
   "id": "941bfbaf-cd9c-474d-bd2c-b117abb374b3",
   "metadata": {},
   "outputs": [],
   "source": []
  },
  {
   "cell_type": "code",
   "execution_count": null,
   "id": "b40d2fee-5687-4d40-8d45-93760203392d",
   "metadata": {},
   "outputs": [],
   "source": []
  }
 ],
 "metadata": {
  "kernelspec": {
   "display_name": "Python 3 (ipykernel)",
   "language": "python",
   "name": "python3"
  },
  "language_info": {
   "codemirror_mode": {
    "name": "ipython",
    "version": 3
   },
   "file_extension": ".py",
   "mimetype": "text/x-python",
   "name": "python",
   "nbconvert_exporter": "python",
   "pygments_lexer": "ipython3",
   "version": "3.9.16"
  }
 },
 "nbformat": 4,
 "nbformat_minor": 5
}
