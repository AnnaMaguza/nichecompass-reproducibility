{
 "cells": [
  {
   "cell_type": "markdown",
   "id": "1b1daabf-c8e3-43d4-aa32-9789abcc8619",
   "metadata": {},
   "source": [
    "# Reference Query Mapping"
   ]
  },
  {
   "cell_type": "markdown",
   "id": "c325d921-2077-42b3-90a8-6f6c7dd928c5",
   "metadata": {},
   "source": [
    "- **Creator**: Sebastian Birk (<sebastian.birk@helmholtz-munich.de>).\n",
    "- **Affiliation:** Helmholtz Munich, Institute of Computational Biology (ICB), Talavera-López Lab\n",
    "- **Date of Creation:** 18.05.2023\n",
    "- **Date of Last Modification:** 01.07.2023"
   ]
  },
  {
   "cell_type": "markdown",
   "id": "68a24279-e59a-4c19-8c58-c8b9286fcd04",
   "metadata": {},
   "source": [
    "Before proceeding with this notebook, two steps need to be successfully conducted: <br>\n",
    "- A model has been trained with a reference dataset with ```<root>/scripts/train_nichecompass_reference_model.py```. <br>\n",
    "- A query has been mapped onto the reference model with ```<root>/scripts/map_query_on_nichecompass_reference_model.py```."
   ]
  },
  {
   "cell_type": "markdown",
   "id": "7350cbcb-18f8-4f7a-a476-2dd0a0e1e3be",
   "metadata": {},
   "source": [
    "## 1. Setup"
   ]
  },
  {
   "cell_type": "markdown",
   "id": "2ada23e4-a814-4374-825f-00528a78cec4",
   "metadata": {},
   "source": [
    "### 1.1 Import Libraries"
   ]
  },
  {
   "cell_type": "code",
   "execution_count": null,
   "id": "6a70c75d-cd86-4b02-b2fb-0e04ed0720c9",
   "metadata": {},
   "outputs": [],
   "source": [
    "%load_ext autoreload\n",
    "%autoreload 2"
   ]
  },
  {
   "cell_type": "code",
   "execution_count": null,
   "id": "11542f4a-84c1-44a1-aee3-dde4bcd77bbb",
   "metadata": {},
   "outputs": [],
   "source": [
    "import sys\n",
    "sys.path.append(\"../../utils\")"
   ]
  },
  {
   "cell_type": "code",
   "execution_count": null,
   "id": "1f54c6e8-ff7b-438a-b86d-1c5c3d2bf8be",
   "metadata": {},
   "outputs": [],
   "source": [
    "import os\n",
    "import warnings\n",
    "\n",
    "from nichecompass.models import NicheCompass\n",
    "from nichecompass.utils import create_new_color_dict\n",
    "from analysis_utils import *"
   ]
  },
  {
   "cell_type": "markdown",
   "id": "0dcc2cfe-2cff-4d1d-9b99-5163cca5ec41",
   "metadata": {},
   "source": [
    "### 1.2 Define Parameters"
   ]
  },
  {
   "cell_type": "code",
   "execution_count": null,
   "id": "109b8c21-9856-45f6-927a-39fb8b9a5072",
   "metadata": {},
   "outputs": [],
   "source": [
    "### Dataset ###\n",
    "dataset = \"seqfish_mouse_organogenesis_imputed\"\n",
    "\n",
    "### Model ###\n",
    "node_label_method = \"one-hop-norm\"\n",
    "gp_names_key = \"nichecompass_gp_names\"\n",
    "mapping_entity_key = \"mapping_entity\"\n",
    "sample_key = \"sample\"\n",
    "condition_key = \"batch\"\n",
    "cell_type_key = \"celltype_mapped_refined\"\n",
    "latent_key = \"nichecompass_latent\"\n",
    "reference_query_model_label = f\"{node_label_method}_reference_query_query_mapping\"\n",
    "load_timestamp = \"01072023_165203_1\"\n",
    "\n",
    "### Analysis ###\n",
    "latent_leiden_resolution = 0.2\n",
    "latent_cluster_key = f\"latent_leiden_{str(latent_leiden_resolution)}\"\n",
    "spot_size = 0.03"
   ]
  },
  {
   "cell_type": "markdown",
   "id": "47cb51f2-d355-459c-933d-b1a2d012e87a",
   "metadata": {},
   "source": [
    "### 1.3 Run Notebook Setup"
   ]
  },
  {
   "cell_type": "code",
   "execution_count": null,
   "id": "10f8dfe2-a878-43a9-b12f-7fefbcaa0c4f",
   "metadata": {},
   "outputs": [],
   "source": [
    "warnings.filterwarnings(\"ignore\")"
   ]
  },
  {
   "cell_type": "markdown",
   "id": "5063253e-b9df-47e3-96f0-522dcf862f1e",
   "metadata": {},
   "source": [
    "### 1.4 Configure Paths"
   ]
  },
  {
   "cell_type": "code",
   "execution_count": null,
   "id": "9bbe62ae-d7ed-4ccb-a65c-689b0afd75b7",
   "metadata": {},
   "outputs": [],
   "source": [
    "# Define paths\n",
    "artifacts_folder_path = f\"../../artifacts\"\n",
    "model_folder_path = f\"{artifacts_folder_path}/{dataset}/models/{reference_query_model_label}/{load_timestamp}\"\n",
    "figure_folder_path = f\"{artifacts_folder_path}/{dataset}/figures/{load_timestamp}\"\n",
    "os.makedirs(figure_folder_path, exist_ok=True)"
   ]
  },
  {
   "cell_type": "markdown",
   "id": "103871a2-2d96-4a64-9f71-99f388a9c345",
   "metadata": {},
   "source": [
    "## 2. Model"
   ]
  },
  {
   "cell_type": "markdown",
   "id": "c58bd27f-555f-4a34-89c9-0d5f6fa3b147",
   "metadata": {},
   "source": [
    "### 2.1 Load Model"
   ]
  },
  {
   "cell_type": "code",
   "execution_count": null,
   "id": "229a2c49-724d-4265-9edf-e878d42d1878",
   "metadata": {},
   "outputs": [],
   "source": [
    "# Load trained model\n",
    "model = NicheCompass.load(dir_path=model_folder_path,\n",
    "                          adata=None,\n",
    "                          adata_file_name=f\"{dataset}_{reference_query_model_label}.h5ad\",\n",
    "                          gp_names_key=gp_names_key)"
   ]
  },
  {
   "cell_type": "markdown",
   "id": "e95d9890-53ac-47cf-a758-7b5f7c80aa2e",
   "metadata": {},
   "source": [
    "## 3. Analysis"
   ]
  },
  {
   "cell_type": "code",
   "execution_count": null,
   "id": "c8a4431f-c5e3-4f0f-a1be-78a29f4cac5d",
   "metadata": {},
   "outputs": [],
   "source": [
    "# Check number of active gene programs\n",
    "active_gps = model.get_active_gps()\n",
    "print(f\"Number of total gene programs: {len(model.adata.uns[gp_names_key])}.\")\n",
    "print(f\"Number of active gene programs: {len(active_gps)}.\")"
   ]
  },
  {
   "cell_type": "code",
   "execution_count": null,
   "id": "3c1dc40c-5063-4e5c-ae02-1dfef52c4ebe",
   "metadata": {},
   "outputs": [],
   "source": [
    "gp_summary_df = model.get_gp_summary()\n",
    "gp_summary_df[gp_summary_df[\"gp_active\"] == True][0:20]"
   ]
  },
  {
   "cell_type": "markdown",
   "id": "91b2e495-b117-4408-9748-46c954207c20",
   "metadata": {},
   "source": [
    "### 3.1 Analyze Latent Manifold"
   ]
  },
  {
   "cell_type": "code",
   "execution_count": null,
   "id": "244e01c0-5e73-4d9c-b85b-bcf2f899d79c",
   "metadata": {},
   "outputs": [],
   "source": [
    "samples = model.adata.obs[sample_key].unique().tolist()"
   ]
  },
  {
   "cell_type": "code",
   "execution_count": null,
   "id": "4ff9d640-03a7-4994-9621-fd09d35c66b3",
   "metadata": {},
   "outputs": [],
   "source": [
    "# Plot mapping entities in latent and physical space\n",
    "save_fig = True\n",
    "file_path = f\"{figure_folder_path}/\" \\\n",
    "            \"mapping_entities_latent_physical_space.svg\"\n",
    "\n",
    "plot_category_in_latent_and_physical_space(\n",
    "    adata=model.adata,\n",
    "    plot_label=\"Mapping Entities\",\n",
    "    cat_key=mapping_entity_key,\n",
    "    groups=None,\n",
    "    sample_key=sample_key,\n",
    "    samples=samples,\n",
    "    cat_colors=None,\n",
    "    size=360000/len(model.adata),\n",
    "    spot_size=spot_size,\n",
    "    save_fig=save_fig,\n",
    "    file_path=file_path)"
   ]
  },
  {
   "cell_type": "code",
   "execution_count": null,
   "id": "69ba7cdd-7d9f-46bd-8b47-bd2cf7bd2291",
   "metadata": {},
   "outputs": [],
   "source": [
    "# Plot batches in latent and physical space\n",
    "save_fig = True\n",
    "file_path = f\"{figure_folder_path}/\" \\\n",
    "            \"batches_latent_physical_space.svg\"\n",
    "\n",
    "plot_category_in_latent_and_physical_space(\n",
    "    adata=model.adata,\n",
    "    plot_label=\"Batches\",\n",
    "    cat_key=condition_key,\n",
    "    groups=None,\n",
    "    sample_key=sample_key,\n",
    "    samples=samples,\n",
    "    cat_colors=None,\n",
    "    size=360000/len(model.adata),\n",
    "    spot_size=spot_size,\n",
    "    save_fig=save_fig,\n",
    "    file_path=file_path)"
   ]
  },
  {
   "cell_type": "code",
   "execution_count": null,
   "id": "97d0393f-c005-4e38-8d9f-267fb07da82d",
   "metadata": {},
   "outputs": [],
   "source": [
    "cell_type_colors = create_new_color_dict(\n",
    "    adata=model.adata,\n",
    "    cat_key=cell_type_key)"
   ]
  },
  {
   "cell_type": "code",
   "execution_count": null,
   "id": "942d3691-56a5-40b7-a425-28422ce1de92",
   "metadata": {},
   "outputs": [],
   "source": [
    "# Plot cell types in latent and physical space\n",
    "save_fig = True\n",
    "file_path = f\"{figure_folder_path}/\" \\\n",
    "            \"cell_types_latent_physical_space.svg\"\n",
    "\n",
    "plot_category_in_latent_and_physical_space(\n",
    "    adata=model.adata,\n",
    "    plot_label=\"Cell Types\",\n",
    "    cat_key=cell_type_key,\n",
    "    groups=None,\n",
    "    sample_key=sample_key,\n",
    "    samples=samples,\n",
    "    cat_colors=cell_type_colors,\n",
    "    size=None,\n",
    "    spot_size=spot_size,\n",
    "    save_fig=save_fig,\n",
    "    file_path=file_path)"
   ]
  },
  {
   "cell_type": "code",
   "execution_count": null,
   "id": "9d0c8194-4022-4e1e-b280-f30f6fb574fd",
   "metadata": {},
   "outputs": [],
   "source": [
    "# Compute latent Leiden clustering\n",
    "sc.tl.leiden(adata=model.adata,\n",
    "             resolution=latent_leiden_resolution,\n",
    "             key_added=latent_cluster_key,\n",
    "             neighbors_key=latent_key)"
   ]
  },
  {
   "cell_type": "code",
   "execution_count": null,
   "id": "ee2046bb-4853-47f7-8dab-dd5c8f098faa",
   "metadata": {},
   "outputs": [],
   "source": [
    "latent_cluster_colors = create_new_color_dict(\n",
    "    adata=model.adata,\n",
    "    cat_key=latent_cluster_key)"
   ]
  },
  {
   "cell_type": "code",
   "execution_count": null,
   "id": "5bcb6164-4761-45f8-a026-ce593186b768",
   "metadata": {},
   "outputs": [],
   "source": [
    "# Latent clusters in latent and physical space\n",
    "save_fig = True\n",
    "file_path = f\"{figure_folder_path}/res_{latent_leiden_resolution}_\" \\\n",
    "            \"latent_clusters_latent_physical_space.svg\"\n",
    "\n",
    "plot_category_in_latent_and_physical_space(\n",
    "    adata=model.adata,\n",
    "    plot_label=\"Latent Clusters\",\n",
    "    cat_key=latent_cluster_key,\n",
    "    groups=None,\n",
    "    sample_key=sample_key,\n",
    "    samples=samples,\n",
    "    cat_colors=latent_cluster_colors,\n",
    "    size=None,\n",
    "    spot_size=spot_size,\n",
    "    save_fig=save_fig,\n",
    "    file_path=file_path)"
   ]
  },
  {
   "cell_type": "markdown",
   "id": "4fa43a45-7c6d-475a-be71-e5378594c1e4",
   "metadata": {},
   "source": [
    "### 3.2 Analyze Query Enrichments (vs Reference)"
   ]
  },
  {
   "cell_type": "markdown",
   "id": "e3969ec5-3b85-4a12-9a6d-b01ec67173d6",
   "metadata": {
    "tags": []
   },
   "source": [
    "#### 3.2.1 Visualize Query-enriched Cell Types in Physical and Latent Space"
   ]
  },
  {
   "cell_type": "code",
   "execution_count": null,
   "id": "6b0003d5-00ed-4f70-bde4-d9c884556085",
   "metadata": {},
   "outputs": [],
   "source": [
    "adata_reference = model.adata[model.adata.obs[mapping_entity_key] == \"reference\"]\n",
    "adata_query = model.adata[model.adata.obs[mapping_entity_key] == \"query\"]"
   ]
  },
  {
   "cell_type": "code",
   "execution_count": null,
   "id": "83797f77-9e5d-4b6d-b73a-c593b33da6e3",
   "metadata": {},
   "outputs": [],
   "source": [
    "enriched_query_cell_type_prop_thresh = 5.\n",
    "query_enriched_cell_type_key = \"query_enriched_cell_types\"\n",
    "\n",
    "# Get query-enriched cell types\n",
    "cell_type_reference_proportions = adata_reference.obs[cell_type_key].value_counts().sort_index() / len(adata_reference)\n",
    "cell_type_query_proportions = adata_query.obs[cell_type_key].value_counts().sort_index() / len(adata_query)\n",
    "relative_cell_type_query_proportions = cell_type_query_proportions / cell_type_reference_proportions\n",
    "relative_cell_type_query_proportions.sort_values(ascending=False, inplace=True)\n",
    "display(relative_cell_type_query_proportions)\n",
    "\n",
    "query_enriched_cell_types = relative_cell_type_query_proportions[relative_cell_type_query_proportions > enriched_query_cell_type_prop_thresh].index.to_list()\n",
    "model.adata.obs[query_enriched_cell_type_key] = \"Cell types not enriched in query\"\n",
    "for cell_type in query_enriched_cell_types:\n",
    "    model.adata.obs.loc[model.adata.obs[cell_type_key] == cell_type, query_enriched_cell_type_key] = cell_type"
   ]
  },
  {
   "cell_type": "code",
   "execution_count": null,
   "id": "f6d4d837-e4ac-472c-8eb9-70958e7a9d29",
   "metadata": {},
   "outputs": [],
   "source": [
    "# Plot of query-enriched cell-type annotations in physical and latent space\n",
    "save_fig = True\n",
    "file_path = f\"{figure_folder_path}/\" \\\n",
    "            \"query_enriched_cell_types_latent_physical_space.svg\"\n",
    "\n",
    "plot_category_in_latent_and_physical_space(\n",
    "    adata=model.adata,\n",
    "    plot_label=\"Query Enriched Cell Types\",\n",
    "    cat_key=query_enriched_cell_type_key,\n",
    "    groups=None,\n",
    "    sample_key=sample_key,\n",
    "    samples=samples,\n",
    "    cat_colors=\"coolwarm\",\n",
    "    size=360000/len(model.adata),\n",
    "    spot_size=spot_size,\n",
    "    save_fig=save_fig,\n",
    "    file_path=file_path)"
   ]
  },
  {
   "cell_type": "markdown",
   "id": "8fd23951-a059-43c9-a1b5-f7657f6679e4",
   "metadata": {},
   "source": [
    "#### 3.1.2 Visualize Query-enriched Niches / Latent Clusters in Physical and Latent Space"
   ]
  },
  {
   "cell_type": "code",
   "execution_count": null,
   "id": "f1282610-f726-472a-aaa5-43b49b6fbc6e",
   "metadata": {},
   "outputs": [],
   "source": [
    "query_enriched_latent_cluster_key = \"query_enriched_latent_cluster\"\n",
    "enriched_query_latent_cluster_prop_thresh = 5."
   ]
  },
  {
   "cell_type": "code",
   "execution_count": null,
   "id": "f59c8079-0c63-4515-9617-2773fda450e0",
   "metadata": {},
   "outputs": [],
   "source": [
    "# Get query-enriched latent leiden clusters\n",
    "latent_cluster_reference_proportions = adata_reference.obs[f\"latent_leiden_{str(latent_leiden_resolution)}\"].value_counts().sort_index() / len(adata_reference)\n",
    "latent_cluster_query_proportions = adata_query.obs[f\"latent_leiden_{str(latent_leiden_resolution)}\"].value_counts().sort_index() / len(adata_query)\n",
    "relative_latent_cluster_query_proportions = latent_cluster_query_proportions / latent_cluster_reference_proportions\n",
    "relative_latent_cluster_query_proportions.sort_values(ascending=False, inplace=True)\n",
    "display(relative_latent_cluster_query_proportions)\n",
    "\n",
    "query_enriched_latent_clusters = relative_latent_cluster_query_proportions[relative_latent_cluster_query_proportions > enriched_query_latent_cluster_prop_thresh].index.to_list()\n",
    "model.adata.obs[query_enriched_latent_cluster_key] = \"Latent clusters not enriched in query\"\n",
    "for latent_cluster in query_enriched_latent_clusters:\n",
    "    model.adata.obs.loc[model.adata.obs[f\"latent_leiden_{str(latent_leiden_resolution)}\"] == latent_cluster, query_enriched_latent_cluster_key] = f\"Cluster {latent_cluster}\""
   ]
  },
  {
   "cell_type": "code",
   "execution_count": null,
   "id": "c1f83097-fd5b-4110-b3d8-d6a890b2560f",
   "metadata": {},
   "outputs": [],
   "source": [
    "# Plot of query-enriched cell-type annotations in physical and latent space\n",
    "save_fig = True\n",
    "file_path = f\"{figure_folder_path}/\" \\\n",
    "            \"query_enriched_latent_clusters_latent_physical_space.svg\"\n",
    "\n",
    "plot_category_in_latent_and_physical_space(\n",
    "    adata=model.adata,\n",
    "    plot_label=\"Query Enriched Latent Clusters\",\n",
    "    cat_key=query_enriched_latent_cluster_key,\n",
    "    groups=None,\n",
    "    sample_key=sample_key,\n",
    "    samples=samples,\n",
    "    cat_colors=\"coolwarm\",\n",
    "    size=360000/len(model.adata),\n",
    "    spot_size=spot_size,\n",
    "    save_fig=save_fig,\n",
    "    file_path=file_path)"
   ]
  },
  {
   "cell_type": "code",
   "execution_count": null,
   "id": "1502cb9d-3f93-405a-9908-1b8483a128b5",
   "metadata": {},
   "outputs": [],
   "source": []
  },
  {
   "cell_type": "code",
   "execution_count": null,
   "id": "498db177-0727-476c-8fb1-85cfbc3d2de4",
   "metadata": {},
   "outputs": [],
   "source": []
  },
  {
   "cell_type": "code",
   "execution_count": null,
   "id": "44f69805-d70d-4c65-aeb8-5ee6399e4d44",
   "metadata": {},
   "outputs": [],
   "source": []
  },
  {
   "cell_type": "markdown",
   "id": "2835549b-2d95-4e26-90fb-d1d94bd6b2e2",
   "metadata": {},
   "source": [
    "## 4. Benchmarking"
   ]
  },
  {
   "cell_type": "markdown",
   "id": "6eaa452e-2c31-4f31-b913-f9cbe22d67d0",
   "metadata": {},
   "source": [
    "### 3.1 Batch Integration Baselines"
   ]
  },
  {
   "cell_type": "code",
   "execution_count": null,
   "id": "f44104df-d4b9-4d04-ae18-828e3212735e",
   "metadata": {},
   "outputs": [],
   "source": [
    "### TO DO ###"
   ]
  },
  {
   "cell_type": "markdown",
   "id": "b8487860-dee3-446f-abfa-f6455fc8f96d",
   "metadata": {},
   "source": [
    "#### 3.1.1 scVI"
   ]
  },
  {
   "cell_type": "code",
   "execution_count": null,
   "id": "c9a952ef-9efc-400c-a28b-a3cc12c70250",
   "metadata": {},
   "outputs": [],
   "source": [
    "scvi.settings.seed = random_seed\n",
    "    \n",
    "# Setup adata\n",
    "scvi.model.SCVI.setup_anndata(adata_one_shot,\n",
    "                              layer=counts_key,\n",
    "                              batch_key=condition_key)\n",
    "\n",
    "# Initialize model\n",
    "# Use hyperparams that provenly work well on integration tasks (https://docs.scvi-tools.org/en/stable/tutorials/notebooks/harmonization.html)\n",
    "vae = scvi.model.SCVI(adata_one_shot,\n",
    "                      n_layers=2,\n",
    "                      n_latent=30,\n",
    "                      gene_likelihood=\"nb\")\n",
    "\n",
    "# Train model\n",
    "vae.train()\n",
    "\n",
    "adata_one_shot.obsm[\"scvi_latent\"] = vae.get_latent_representation()"
   ]
  },
  {
   "cell_type": "code",
   "execution_count": null,
   "id": "83393d73-3908-4bd6-b016-ca0dbf7b4835",
   "metadata": {},
   "outputs": [],
   "source": [
    "# Use scVI latent space for UMAP generation\n",
    "sc.pp.neighbors(adata_one_shot, use_rep=\"scvi_latent\")\n",
    "sc.tl.umap(adata_one_shot)"
   ]
  },
  {
   "cell_type": "code",
   "execution_count": null,
   "id": "28c0be8e-1864-4c46-b819-f77cc0184e53",
   "metadata": {},
   "outputs": [],
   "source": [
    "# Plot UMAP with batch annotations\n",
    "fig = sc.pl.umap(adata_one_shot,\n",
    "                 color=[cell_type_key],\n",
    "                 legend_fontsize=12,\n",
    "                 return_fig=True)\n",
    "plt.title(\"scVI Integration: Latent Space Cell Type Annotations\", size=20, pad=15)\n",
    "fig.savefig(f\"{figure_folder_path}/latent_cell_types_scvi.png\",\n",
    "            bbox_inches=\"tight\")"
   ]
  },
  {
   "cell_type": "markdown",
   "id": "3921008b-f97a-44ad-97cf-bdbc4e82125d",
   "metadata": {},
   "source": [
    "#### 3.1.2 SageNet"
   ]
  },
  {
   "cell_type": "code",
   "execution_count": null,
   "id": "692ea96a-00bf-4bab-93be-c546c1eb1704",
   "metadata": {},
   "outputs": [],
   "source": [
    "#################################################################\n",
    "This cell throws an error as the solver cannot solve this problem\n",
    "#################################################################\n",
    "\n",
    "\n",
    "# Construct gene interaction network for spatial references\n",
    "for i in range(len(adata_batch_list[:-2])):\n",
    "    adata_batch_list[i].X = adata_batch_list[i].X.toarray() # convert to dense matrix as required by glasso\n",
    "    print(\"Computing gene interaction network...\")\n",
    "    glasso(adata_batch_list[i], [0.25, 0.5])\n",
    "    adata_batch_list[i].X = sp.csc_matrix(adata_batch_list[i].X) # convert back to sparse matrix\n",
    "    print(\"Computing Leiden clusters...\")\n",
    "    sc.tl.leiden(adata_batch_list[i],\n",
    "                 resolution=.05,\n",
    "                 random_state=random_seed,\n",
    "                 key_added=\"leiden_0.05\",\n",
    "                 adjacency=adata_batch_list[i].obsp[\"spatial_connectivities\"])\n",
    "    sc.tl.leiden(adata_batch_list[i],\n",
    "                 resolution=.1,\n",
    "                 random_state=random_seed,\n",
    "                 key_added=\"leiden_0.1\",\n",
    "                 adjacency=adata_batch_list[i].obsp[\"spatial_connectivities\"])\n",
    "    sc.tl.leiden(adata_batch_list[i],\n",
    "                 resolution=.5,\n",
    "                 random_state=random_seed,\n",
    "                 key_added=\"leiden_0.5\",\n",
    "                 adjacency=adata_batch_list[i].obsp[\"spatial_connectivities\"])"
   ]
  },
  {
   "cell_type": "code",
   "execution_count": null,
   "id": "53b69d7f-bf97-43cf-a88e-58ac59049512",
   "metadata": {},
   "outputs": [],
   "source": [
    "if torch.cuda.is_available():\n",
    "  dev = \"cuda:0\"\n",
    "else:\n",
    "  dev = \"cpu\"\n",
    "device = torch.device(dev)\n",
    "print(device)"
   ]
  },
  {
   "cell_type": "code",
   "execution_count": null,
   "id": "2dfb93f2-ec17-4760-add5-19cd53bc9b59",
   "metadata": {},
   "outputs": [],
   "source": [
    "# Define model object\n",
    "sg_obj = sca.models.sagenet(device=device)"
   ]
  },
  {
   "cell_type": "code",
   "execution_count": null,
   "id": "7260a086-d23a-4d65-8ea0-96235425672c",
   "metadata": {},
   "outputs": [],
   "source": [
    "# Train model on spatial references\n",
    "for i in range(len(adata_batch_list[:-2])):\n",
    "    sg_obj.train(adata_batch_list[i],\n",
    "                 comm_columns=['leiden_0.05', 'leiden_0.1', 'leiden_0.5'],\n",
    "                 tag=f'batch{i}',\n",
    "                 epochs=15,\n",
    "                 verbose = False,\n",
    "                 importance=True)"
   ]
  },
  {
   "cell_type": "code",
   "execution_count": null,
   "id": "9aa5b9e7-b94c-4a0b-a3d0-d483ae116980",
   "metadata": {},
   "outputs": [],
   "source": [
    "# Save model\n",
    "os.makedirs(model_artifacts_folder_path + \"/sagenet\")\n",
    "sg_obj.save_as_folder(model_artifacts_folder_path + \"/sagenet\")"
   ]
  },
  {
   "cell_type": "code",
   "execution_count": null,
   "id": "f943468f-9a45-47bc-b5fc-a15e5819b71c",
   "metadata": {},
   "outputs": [],
   "source": [
    "# Load model\n",
    "sg_obj_load = sca.models.sagenet(device=device)\n",
    "sg_obj_load.load_from_folder(model_artifacts_folder_path + \"/sagenet\")"
   ]
  },
  {
   "cell_type": "code",
   "execution_count": null,
   "id": "b15a248a-4bc1-4c25-8527-7faa9d2ddae8",
   "metadata": {},
   "outputs": [],
   "source": [
    "# Load query\n",
    "sg_obj_load.load_query_data(adata)"
   ]
  },
  {
   "cell_type": "code",
   "execution_count": null,
   "id": "0f4cd5d0-e3ff-426b-a220-be42be61b444",
   "metadata": {
    "tags": []
   },
   "outputs": [],
   "source": [
    "# Use SageNet cell-cell-distances for UMAP generation\n",
    "sc.pp.neighbors(adata, use_rep=\"dist_map\")\n",
    "sc.tl.umap(adata)"
   ]
  },
  {
   "cell_type": "code",
   "execution_count": null,
   "id": "909fa482-63b0-4e92-baa4-17edbf4498c4",
   "metadata": {},
   "outputs": [],
   "source": [
    "# Plot UMAP with batch annotations\n",
    "fig = sc.pl.umap(adata,\n",
    "                 color=[condition_key],\n",
    "                 legend_fontsize=12,\n",
    "                 return_fig=True)\n",
    "plt.title(\"SageNet Integration: Latent Space Batch Annotations\", size=20, pad=15)\n",
    "fig.savefig(f\"{figure_folder_path}/latent_batches_sagenet.png\",\n",
    "            bbox_inches=\"tight\")"
   ]
  },
  {
   "cell_type": "code",
   "execution_count": null,
   "id": "704f4b30-1420-4091-a58b-b6127b42d487",
   "metadata": {},
   "outputs": [],
   "source": [
    "# Plot UMAP with cell type annotations\n",
    "fig = sc.pl.umap(adata,\n",
    "                 color=[cell_type_key],\n",
    "                 return_fig=True)\n",
    "plt.title(\"SageNet: Latent Space Cell Type Annotations\", size=20, pad=15)\n",
    "fig.savefig(f\"{figure_folder_path}/latent_cell_types_sagenet.png\",\n",
    "            bbox_inches=\"tight\")"
   ]
  },
  {
   "cell_type": "markdown",
   "id": "1c0b79fc-ad60-438f-a663-eb13698aadad",
   "metadata": {},
   "source": [
    "#### 3.1.3 BBKNN"
   ]
  },
  {
   "cell_type": "code",
   "execution_count": null,
   "id": "8f5def0b-c46a-4c05-9901-d7a79121734e",
   "metadata": {},
   "outputs": [],
   "source": [
    "latent_bbknn_list = []\n",
    "for i in range(len(adata_batch_list)):\n",
    "    # Initialize model\n",
    "    model = NicheCompass(adata_batch_list[i],\n",
    "                       counts_key=counts_key,\n",
    "                       adj_key=adj_key,\n",
    "                       condition_key=condition_key,\n",
    "                       cond_embed_injection=[\"encoder\",\n",
    "                                             \"gene_expr_decoder\",\n",
    "                                             \"graph_decoder\"],\n",
    "                       n_cond_embed=n_cond_embed,\n",
    "                       gp_names_key=gp_names_key,\n",
    "                       active_gp_names_key=active_gp_names_key,\n",
    "                       gp_targets_mask_key=gp_targets_mask_key,\n",
    "                       gp_sources_mask_key=gp_sources_mask_key,\n",
    "                       latent_key=latent_key,\n",
    "                       active_gp_thresh_ratio=0., # all gps will be active for concatenation across batches\n",
    "                       gene_expr_recon_dist=gene_expr_recon_dist,\n",
    "                       n_hidden_encoder=n_hidden_encoder,\n",
    "                       log_variational=True)\n",
    "    print(\"\")\n",
    "    \n",
    "    # Train model\n",
    "    model.train(n_epochs=n_epochs,\n",
    "                n_epochs_all_gps=n_epochs, # all gps will be active for concatenation across batches\n",
    "                lr=lr,\n",
    "                lambda_edge_recon=lambda_edge_recon,\n",
    "                lambda_gene_expr_recon=lambda_gene_expr_recon,\n",
    "                verbose=True)\n",
    "    print(\"\")\n",
    "    \n",
    "    # Save trained model\n",
    "    model.save(dir_path=model_artifacts_folder_path + f\"/bbknn_batch{i+1}\",\n",
    "               overwrite=True,\n",
    "               save_adata=True,\n",
    "               adata_file_name=f\"{dataset}.h5ad\")\n",
    "    \n",
    "    latent_bbknn_current_batch = model.get_latent_representation(\n",
    "        adata=adata_batch_list[i],\n",
    "        counts_key=counts_key,\n",
    "        condition_key=condition_key,\n",
    "        only_active_gps=False)\n",
    "    \n",
    "    latent_bbknn_list.append(latent_bbknn_current_batch)\n",
    "    \n",
    "adata_bbknn.obsm[latent_key] = np.vstack(latent_bbknn_list)\n",
    "\n",
    "# Store adata to disk\n",
    "adata_bbknn.write(f\"{model_artifacts_folder_path}/adata_bbknn.h5ad\")"
   ]
  },
  {
   "cell_type": "code",
   "execution_count": null,
   "id": "5d9979c1-c696-4008-b517-6e2130b64db2",
   "metadata": {},
   "outputs": [],
   "source": [
    "if load_timestamp is not None:\n",
    "    model_artifacts_load_folder_path = f\"../artifacts/{dataset}/batch_integration/{load_timestamp}\"\n",
    "else:\n",
    "    model_artifacts_load_folder_path = model_artifacts_folder_path\n",
    "\n",
    "# Read adata from disk\n",
    "adata_bbknn = sc.read_h5ad(f\"{model_artifacts_load_folder_path}/adata_bbknn.h5ad\")"
   ]
  },
  {
   "cell_type": "code",
   "execution_count": null,
   "id": "c557ce3d-237c-4955-b65c-bae0a062d038",
   "metadata": {},
   "outputs": [],
   "source": [
    "# Compute batch-corrected latent nearest neighbor graph\n",
    "bbknn.bbknn(adata=adata_bbknn,\n",
    "            batch_key=condition_key,\n",
    "            use_rep=latent_key)\n",
    "\n",
    "adata_bbknn.obsp[f\"{latent_knng_key}_connectivities\"] = (\n",
    "    adata_bbknn.obsp[\"connectivities\"])\n",
    "\n",
    "adata_bbknn.obsp[f\"{latent_knng_key}_distances\"] = (\n",
    "    adata_bbknn.obsp[\"distances\"])"
   ]
  },
  {
   "cell_type": "code",
   "execution_count": null,
   "id": "ce422dbf-3de9-4196-ae7c-337f250141c7",
   "metadata": {},
   "outputs": [],
   "source": [
    "# Use batch-corrected latent space for UMAP generation\n",
    "sc.tl.umap(adata_bbknn)"
   ]
  },
  {
   "cell_type": "code",
   "execution_count": null,
   "id": "74e4f895-0342-4846-8443-f0730c6c00b5",
   "metadata": {},
   "outputs": [],
   "source": [
    "# Plot UMAP with batch annotations\n",
    "fig = sc.pl.umap(adata_bbknn,\n",
    "                 color=[condition_key],\n",
    "                 legend_fontsize=12,\n",
    "                 return_fig=True)\n",
    "plt.title(\"BBKNN Integration: Latent Space Batch Annotations\", size=20, pad=15)\n",
    "fig.savefig(f\"{figure_folder_path}/latent_batches_bbknn.png\",\n",
    "            bbox_inches=\"tight\")"
   ]
  },
  {
   "cell_type": "code",
   "execution_count": null,
   "id": "6791e657-07e1-4838-a622-4e99317de9f8",
   "metadata": {},
   "outputs": [],
   "source": [
    "# Plot UMAP with cell type annotations\n",
    "fig = sc.pl.umap(adata_bbknn,\n",
    "                 color=[cell_type_key],\n",
    "                 return_fig=True)\n",
    "plt.title(\"BBKNN Integration: Latent Space Cell Type Annotations\", size=20, pad=15)\n",
    "fig.savefig(f\"{figure_folder_path}/latent_cell_types_bbknn.png\",\n",
    "            bbox_inches=\"tight\")"
   ]
  },
  {
   "cell_type": "code",
   "execution_count": null,
   "id": "b67b7c40-59c8-4c9b-aa01-89d96074a6ec",
   "metadata": {},
   "outputs": [],
   "source": [
    "# Compute spatial nearest neighbor graph\n",
    "sc.pp.neighbors(adata_bbknn, use_rep=spatial_key, key_added=spatial_knng_key)"
   ]
  },
  {
   "cell_type": "code",
   "execution_count": null,
   "id": "7cb5ed1e-555a-4848-bba3-3062a737dc11",
   "metadata": {},
   "outputs": [],
   "source": [
    "metrics_dict_bbknn = {}\n",
    "\n",
    "metrics_dict_bbknn[\"cad\"] = compute_cad(\n",
    "    adata=adata_bbknn,\n",
    "    cell_type_key=cell_type_key,\n",
    "    spatial_knng_key=spatial_knng_key,\n",
    "    latent_knng_key=latent_knng_key)\n",
    "\n",
    "metrics_dict_bbknn[\"rclisi\"] = compute_rclisi(\n",
    "    adata=adata_bbknn,\n",
    "    cell_type_key=cell_type_key,\n",
    "    spatial_knng_key=spatial_knng_key,\n",
    "    latent_knng_key=latent_knng_key)\n",
    "    \n",
    "metrics_dict_bbknn[\"batch_asw\"] = scib.me.silhouette_batch(\n",
    "    adata=adata_bbknn,\n",
    "    batch_key=condition_key,\n",
    "    label_key=cell_type_key,\n",
    "    embed=\"X_umap\")\n",
    "\n",
    "# knn output\n",
    "metrics_dict_bbknn[\"ilisi\"] = scib.me.ilisi_graph(\n",
    "    adata=adata_bbknn,\n",
    "    batch_key=condition_key,\n",
    "    type_=\"knn\")\n",
    "\n",
    "\"\"\"\n",
    "metrics_dict_bbknn[\"kbet\"] = scib.me.kBET(\n",
    "    adata=adata_bbknn,\n",
    "    batch_key=condition_key,\n",
    "    label_key=cell_type_key,\n",
    "    type_=\"knn\")\n",
    "\"\"\"\n",
    "\n",
    "print(metrics_dict_bbknn)\n",
    "\n",
    "# Store to disk\n",
    "with open(f\"{model_artifacts_folder_path}/metrics_bbknn.pickle\", \"wb\") as f:\n",
    "    pickle.dump(metrics_dict_bbknn, f)"
   ]
  },
  {
   "cell_type": "markdown",
   "id": "4d4e3f47-a08e-4cb5-92c1-85d7b1df0729",
   "metadata": {},
   "source": [
    "#### 3.2.4 Compute Metrics"
   ]
  },
  {
   "cell_type": "code",
   "execution_count": null,
   "id": "7d91b6f1-a6a9-4d87-9e7c-c2e7d6a2efa3",
   "metadata": {},
   "outputs": [],
   "source": [
    "# Store computed latent nearest neighbor graph in connectivities\n",
    "# as required by scib metrics\n",
    "model.adata.obsp[\"connectivities\"] = (\n",
    "    model.adata.obsp[f\"{latent_knng_key}_connectivities\"])\n",
    "model.adata.obsp[\"distances\"] = (\n",
    "    model.adata.obsp[f\"{latent_knng_key}_distances\"])\n",
    "model.adata.uns[\"neighbors\"] = (\n",
    "    model.adata.uns[f\"{latent_knng_key}\"])\n",
    "\n",
    "# Compute spatial nearest neighbor graph\n",
    "sc.pp.neighbors(model.adata,\n",
    "                use_rep=spatial_key,\n",
    "                key_added=spatial_knng_key)"
   ]
  },
  {
   "cell_type": "code",
   "execution_count": null,
   "id": "94ee7b1b-4147-4e36-8309-e086a3048919",
   "metadata": {},
   "outputs": [],
   "source": [
    "# Compute metrics\n",
    "metrics_dict_oneshot = {}\n",
    "\n",
    "# Spatial conservation metrics\n",
    "metrics_dict_oneshot[\"cas\"] = compute_cas(\n",
    "    adata=model.adata,\n",
    "    cell_type_key=cell_type_key,\n",
    "    spatial_knng_key=spatial_knng_key,\n",
    "    latent_knng_key=latent_knng_key)\n",
    "metrics_dict_oneshot[\"clisis\"] = compute_clisis(\n",
    "    adata=model.adata,\n",
    "    cell_type_key=cell_type_key,\n",
    "    spatial_knng_key=spatial_knng_key,\n",
    "    latent_knng_key=latent_knng_key)\n",
    "    \n",
    "# Batch correction metrics\n",
    "metrics_dict_oneshot[\"batch_asw\"] = scib.me.silhouette_batch(\n",
    "    adata=model.adata,\n",
    "    batch_key=condition_key,\n",
    "    label_key=cell_type_key,\n",
    "    embed=\"X_umap\")\n",
    "metrics_dict_oneshot[\"ilisi\"] = scib.me.ilisi_graph(\n",
    "    adata=model.adata,\n",
    "    batch_key=condition_key,\n",
    "    type_=\"knn\")\n",
    "\n",
    "print(metrics_dict_oneshot)\n",
    "\n",
    "# Store metrics to disk\n",
    "with open(f\"{model_artifacts_folder_path}/metrics_oneshot.pickle\", \"wb\") as f:\n",
    "    pickle.dump(metrics_dict_oneshot, f)"
   ]
  },
  {
   "cell_type": "markdown",
   "id": "22532b07-0cc9-4884-ba76-cd3e00a8c4c9",
   "metadata": {},
   "source": [
    "#### 3.2.5 Visualize Conditional Embedding"
   ]
  },
  {
   "cell_type": "code",
   "execution_count": null,
   "id": "91919d64-92d2-4f78-ae9f-1ce1a38c57d0",
   "metadata": {},
   "outputs": [],
   "source": [
    "# Get conditional embeddings\n",
    "cond_embed = model.get_cond_embeddings()\n",
    "cond = model.adata.obs[\"batch\"].unique()\n",
    "\n",
    "# Get top 2 principal components and plot them\n",
    "pca = KernelPCA(n_components=2, kernel=\"linear\")\n",
    "cond_embed_pca = pca.fit_transform(cond_embed)\n",
    "sns.scatterplot(x=cond_embed_pca[:, 0], \n",
    "                y=cond_embed_pca[:, 1], \n",
    "                hue=cond)\n",
    "plt.title(\"One-Shot Integration Conditional Embeddings\", pad=15)\n",
    "plt.xlabel(\"Principal Component 1\")\n",
    "plt.xticks(fontsize=12)\n",
    "plt.ylabel (\"Principal Component 2\")\n",
    "plt.yticks(fontsize=12)\n",
    "plt.legend(bbox_to_anchor=(1.02, 0.75),\n",
    "           loc=2,\n",
    "           borderaxespad=0.,\n",
    "           fontsize=12,\n",
    "           frameon=False)\n",
    "plt.savefig(f\"{figure_folder_path}/cond_embed_oneshot.png\",\n",
    "            bbox_inches=\"tight\")"
   ]
  },
  {
   "cell_type": "code",
   "execution_count": null,
   "id": "15e20443-83d6-4b02-9cf2-401f28ce6458",
   "metadata": {},
   "outputs": [],
   "source": []
  },
  {
   "cell_type": "code",
   "execution_count": null,
   "id": "33c08cdb-72a6-4662-8575-4d9ac86b46b1",
   "metadata": {},
   "outputs": [],
   "source": []
  },
  {
   "cell_type": "code",
   "execution_count": null,
   "id": "641c9114-92b8-4ae7-83b4-45f3b4f9fddd",
   "metadata": {},
   "outputs": [],
   "source": []
  },
  {
   "cell_type": "code",
   "execution_count": null,
   "id": "19317be7-9af3-4141-9ff9-b33263a1af45",
   "metadata": {},
   "outputs": [],
   "source": []
  },
  {
   "cell_type": "code",
   "execution_count": null,
   "id": "941bfbaf-cd9c-474d-bd2c-b117abb374b3",
   "metadata": {},
   "outputs": [],
   "source": []
  },
  {
   "cell_type": "code",
   "execution_count": null,
   "id": "b40d2fee-5687-4d40-8d45-93760203392d",
   "metadata": {},
   "outputs": [],
   "source": []
  }
 ],
 "metadata": {
  "kernelspec": {
   "display_name": "Python 3 (ipykernel)",
   "language": "python",
   "name": "python3"
  },
  "language_info": {
   "codemirror_mode": {
    "name": "ipython",
    "version": 3
   },
   "file_extension": ".py",
   "mimetype": "text/x-python",
   "name": "python",
   "nbconvert_exporter": "python",
   "pygments_lexer": "ipython3",
   "version": "3.9.16"
  }
 },
 "nbformat": 4,
 "nbformat_minor": 5
}
