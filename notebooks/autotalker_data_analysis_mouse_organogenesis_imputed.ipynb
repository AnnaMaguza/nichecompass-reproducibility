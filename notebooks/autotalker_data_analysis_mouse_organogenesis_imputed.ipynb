{
 "cells": [
  {
   "cell_type": "markdown",
   "id": "1b1daabf-c8e3-43d4-aa32-9789abcc8619",
   "metadata": {},
   "source": [
    "# Autotalker Data Analysis Mouse Organogenesis Imputed"
   ]
  },
  {
   "cell_type": "markdown",
   "id": "c325d921-2077-42b3-90a8-6f6c7dd928c5",
   "metadata": {},
   "source": [
    "- **Creator**: Sebastian Birk (<sebastian.birk@helmholtz-munich.de>).\n",
    "- **Affiliation:** Helmholtz Munich, Institute of Computational Biology (ICB), Talavera-López Lab\n",
    "- **Date of Creation:** 22.01.2023\n",
    "- **Date of Last Modification:** 15.02.2023"
   ]
  },
  {
   "cell_type": "markdown",
   "id": "2d464ebf-354f-4f61-8040-c3dcbcc893b9",
   "metadata": {},
   "source": [
    "## 1. Setup"
   ]
  },
  {
   "cell_type": "markdown",
   "id": "d5631277-d8d2-4194-a376-280f4f149b7d",
   "metadata": {},
   "source": [
    "### 1.1 Import Libraries"
   ]
  },
  {
   "cell_type": "code",
   "execution_count": null,
   "id": "4e5d3297-0290-47c0-846f-705e74cdb3de",
   "metadata": {},
   "outputs": [],
   "source": [
    "%load_ext autoreload\n",
    "%autoreload 2"
   ]
  },
  {
   "cell_type": "code",
   "execution_count": null,
   "id": "8dbd4925-7505-4d01-bf91-95b54bb8b533",
   "metadata": {},
   "outputs": [],
   "source": [
    "import sys\n",
    "sys.path.append(\"../../autotalker\")"
   ]
  },
  {
   "cell_type": "code",
   "execution_count": null,
   "id": "b4aa3c6a-5a44-4cf1-84a3-5e514457cf3c",
   "metadata": {},
   "outputs": [],
   "source": [
    "import argparse\n",
    "import os\n",
    "import random\n",
    "import warnings\n",
    "from datetime import datetime\n",
    "\n",
    "import anndata as ad\n",
    "import matplotlib\n",
    "import matplotlib.pyplot as plt\n",
    "import mlflow\n",
    "import numpy as np\n",
    "import pandas as pd\n",
    "import scanpy as sc\n",
    "import scipy.sparse as sp\n",
    "import seaborn as sns\n",
    "import squidpy as sq\n",
    "import torch\n",
    "from matplotlib import gridspec\n",
    "from matplotlib.pyplot import rc_context\n",
    "\n",
    "from autotalker.models import Autotalker\n",
    "from autotalker.utils import (add_gps_from_gp_dict_to_adata,\n",
    "                              extract_gp_dict_from_mebocost_es_interactions,\n",
    "                              extract_gp_dict_from_nichenet_ligand_target_mx,\n",
    "                              extract_gp_dict_from_omnipath_lr_interactions,\n",
    "                              filter_and_combine_gp_dict_gps,\n",
    "                              get_unique_genes_from_gp_dict)"
   ]
  },
  {
   "cell_type": "markdown",
   "id": "9f91f345-c297-47cb-8650-c6d9c60a8b7e",
   "metadata": {},
   "source": [
    "### 1.2 Define Parameters"
   ]
  },
  {
   "cell_type": "code",
   "execution_count": null,
   "id": "a4d4e6d9-239f-47c5-a30b-579b16d4c27c",
   "metadata": {},
   "outputs": [],
   "source": [
    "## Dataset\n",
    "dataset = \"seqfish_mouse_organogenesis\"\n",
    "batch1 = \"embryo1_z2\"\n",
    "batch2 = \"embryo1_z5\"\n",
    "batch3 = \"embryo2_z2\"\n",
    "batch4 = \"embryo2_z5\"\n",
    "batch5 = \"embryo3_z2\"\n",
    "batch6 = \"embryo3_z5\"\n",
    "\n",
    "## Model\n",
    "# AnnData Keys\n",
    "counts_key = \"log_normalized_counts\" # raw counts not available\n",
    "cell_type_key = \"celltype_mapped_refined\"\n",
    "sub_cell_type_key = \"sub_cell_type\"\n",
    "adj_key = \"spatial_connectivities\"\n",
    "spatial_key = \"spatial\"\n",
    "gp_names_key = \"autotalker_gp_names\"\n",
    "active_gp_names_key = \"autotalker_active_gp_names\"\n",
    "gp_targets_mask_key = \"autotalker_gp_targets\"\n",
    "gp_sources_mask_key = \"autotalker_gp_sources\"\n",
    "latent_key = \"autotalker_latent\"\n",
    "condition_key = \"batch\"\n",
    "sample_key = \"sample\"\n",
    "query_enriched_cell_type_key = \"autotalker_query_enriched_cell_types\"\n",
    "query_enriched_latent_cluster_key = \"autotalker_query_enriched_latent_clusters\"\n",
    "mapping_entity_key = \"mapping_entity\"\n",
    "\n",
    "# Benchmarking\n",
    "spatial_knng_key = \"autotalker_spatial_knng\"\n",
    "latent_knng_key = \"autotalker_latent_knng\"\n",
    "\n",
    "# Analysis\n",
    "enriched_query_cell_type_prop_thresh = 5\n",
    "enriched_query_latent_cluster_prop_thresh = 2.5\n",
    "latent_leiden_resolution = 0.3\n",
    "latent_cluster_key = f\"latent_leiden_{str(latent_leiden_resolution)}\"\n",
    "denovo_cell_type_differential_gp_scores_key = \"autotalker_denovo_cell_type_differential_gp_scores\"\n",
    "cell_type_differential_gp_scores_key = \"autotalker_cell_type_differential_gp_scores\"\n",
    "query_enriched_cell_type_differential_gp_scores_key = \"autotalker_query_enriched_latent_cluster_differential_gp_scores\"\n",
    "latent_cluster_differential_gp_scores_key = \"autotalker_latent_cluster_differential_gp_scores\"\n",
    "query_enriched_latent_cluster_differential_gp_scores_key = \"autotalker_query_enriched_latent_cluster_differential_gp_scores\"\n",
    "n_top_up_gps = 3\n",
    "n_top_down_gps = 3\n",
    "n_top_genes_per_gp = 3\n",
    "\n",
    "## Others\n",
    "random_seed = 42\n",
    "load_timestamp = \"08022023_004101\" # \"08022023_004101\" \"10022023_064933\" \"11022023_025252\" # saved model to be loaded"
   ]
  },
  {
   "cell_type": "code",
   "execution_count": null,
   "id": "51c95bd5-f794-4f68-ada0-fc51efb9096b",
   "metadata": {},
   "outputs": [],
   "source": [
    "cell_type_colors = {\"Epiblast\" : \"#635547\",\n",
    "                    \"Primitive Streak\" : \"#DABE99\",\n",
    "                    \"Caudal epiblast\" : \"#9e6762\",\n",
    "                    \"PGC\" : \"#FACB12\",\n",
    "                    \"Anterior Primitive Streak\" : \"#c19f70\",\n",
    "                    \"Notochord\" : \"#0F4A9C\",\n",
    "                    \"Def. endoderm\" : \"#F397C0\",\n",
    "                    \"Definitive endoderm\" : \"#F397C0\",\n",
    "                    \"Gut\" : \"#EF5A9D\",\n",
    "                    \"Gut tube\" : \"#EF5A9D\",\n",
    "                    \"Nascent mesoderm\" : \"#C594BF\",\n",
    "                    \"Mixed mesoderm\" : \"#DFCDE4\",\n",
    "                    \"Intermediate mesoderm\" : \"#139992\",\n",
    "                    \"Caudal Mesoderm\" : \"#3F84AA\",\n",
    "                    \"Paraxial mesoderm\" : \"#8DB5CE\",\n",
    "                    \"Somitic mesoderm\" : \"#005579\",\n",
    "                    \"Pharyngeal mesoderm\" : \"#C9EBFB\",\n",
    "                    \"Splanchnic mesoderm\" : \"#C9EBFB\",\n",
    "                    \"Cardiomyocytes\" : \"#B51D8D\",\n",
    "                    \"Allantois\" : \"#532C8A\",\n",
    "                    \"ExE mesoderm\" : \"#8870ad\",\n",
    "                    \"Lateral plate mesoderm\" : \"#8870ad\",\n",
    "                    \"Mesenchyme\" : \"#cc7818\",\n",
    "                    \"Mixed mesenchymal mesoderm\" : \"#cc7818\",\n",
    "                    \"Haematoendothelial progenitors\" : \"#FBBE92\",\n",
    "                    \"Endothelium\" : \"#ff891c\",\n",
    "                    \"Blood progenitors 1\" : \"#f9decf\",\n",
    "                    \"Blood progenitors 2\" : \"#c9a997\",\n",
    "                    \"Erythroid1\" : \"#C72228\",\n",
    "                    \"Erythroid2\" : \"#f79083\",\n",
    "                    \"Erythroid3\" : \"#EF4E22\",\n",
    "                    \"Erythroid\" : \"#f79083\",\n",
    "                    \"Blood progenitors\" : \"#f9decf\",\n",
    "                    \"NMP\" : \"#8EC792\",\n",
    "                    \"Rostral neurectoderm\" : \"#65A83E\",\n",
    "                    \"Caudal neurectoderm\" : \"#354E23\",\n",
    "                    \"Neural crest\" : \"#C3C388\",\n",
    "                    \"Forebrain/Midbrain/Hindbrain\" : \"#647a4f\",\n",
    "                    \"Spinal cord\" : \"#CDE088\",\n",
    "                    \"Surface ectoderm\" : \"#f7f79e\",\n",
    "                    \"Visceral endoderm\" : \"#F6BFCB\",\n",
    "                    \"ExE endoderm\" : \"#7F6874\",\n",
    "                    \"ExE ectoderm\" : \"#989898\",\n",
    "                    \"Parietal endoderm\" : \"#1A1A1A\",\n",
    "                    \"Low quality\" : \"#e6e6e6\",\n",
    "                    \"Cranial mesoderm\" : \"#77441B\",\n",
    "                    \"Anterior somitic tissues\" : \"#F90026\",\n",
    "                    \"Sclerotome\" : \"#A10037\",\n",
    "                    \"Dermomyotome\" : \"#DA5921\",\n",
    "                    \"Posterior somitic tissues\" : \"#E1C239\",\n",
    "                    \"Presomitic mesoderm\" : \"#9DD84A\",\n",
    "                    \"None\" : \"#D3D3D3\"}"
   ]
  },
  {
   "cell_type": "code",
   "execution_count": null,
   "id": "264d245c-fc5c-4a7a-bbb9-cd96b362e5e7",
   "metadata": {},
   "outputs": [],
   "source": [
    "latent_cluster_colors = {\"0\" : \"#635547\",\n",
    "                         \"1\" : \"#DABE99\",\n",
    "                         \"2\" : \"#9e6762\",\n",
    "                         \"3\" : \"#FACB12\",\n",
    "                         \"4\" : \"#c19f70\",\n",
    "                         \"5\" : \"#0F4A9C\",\n",
    "                         \"6\" : \"#F397C0\",\n",
    "                         \"7\" : \"#F397C0\",\n",
    "                         \"8\" : \"#EF5A9D\",\n",
    "                         \"9\" : \"#EF5A9D\",\n",
    "                         \"10\" : \"#C594BF\",\n",
    "                         \"11\" : \"#DFCDE4\",\n",
    "                         \"12\" : \"#139992\",\n",
    "                         \"13\" : \"#3F84AA\",\n",
    "                         \"14\" : \"#8DB5CE\",\n",
    "                         \"15\" : \"#005579\",\n",
    "                         \"16\" : \"#C9EBFB\",\n",
    "                         \"17\" : \"#C9EBFB\",\n",
    "                         \"18\" : \"#B51D8D\",\n",
    "                         \"19\" : \"#532C8A\",\n",
    "                         \"20\" : \"#8870ad\",\n",
    "                         \"21\" : \"#8870ad\",\n",
    "                         \"22\" : \"#cc7818\",\n",
    "                         \"23\" : \"#cc7818\",\n",
    "                         \"24\" : \"#FBBE92\",\n",
    "                         \"25\" : \"#ff891c\",\n",
    "                         \"26\" : \"#f9decf\",\n",
    "                         \"27\" : \"#c9a997\",\n",
    "                         \"28\" : \"#C72228\",\n",
    "                         \"29\" : \"#f79083\",\n",
    "                         \"30\" : \"#EF4E22\",\n",
    "                         \"31\" : \"#f79083\",\n",
    "                         \"32\" : \"#f9decf\",\n",
    "                         \"33\" : \"#8EC792\",\n",
    "                         \"34\" : \"#65A83E\",\n",
    "                         \"35\" : \"#354E23\",\n",
    "                         \"36\" : \"#C3C388\",\n",
    "                         \"37\" : \"#647a4f\",\n",
    "                         \"38\" : \"#CDE088\",\n",
    "                         \"39\" : \"#f7f79e\",\n",
    "                         \"40\" : \"#F6BFCB\",\n",
    "                         \"41\" : \"#7F6874\",\n",
    "                         \"42\" : \"#989898\",\n",
    "                         \"43\" : \"#1A1A1A\",\n",
    "                         \"44\" : \"#e6e6e6\",\n",
    "                         \"45\" : \"#77441B\",\n",
    "                         \"46\" : \"#F90026\",\n",
    "                         \"47\" : \"#A10037\",\n",
    "                         \"48\" : \"#DA5921\",\n",
    "                         \"49\" : \"#E1C239\",\n",
    "                         \"-1\" : \"#9DD84A\",\n",
    "                         \"None\" : \"#D3D3D3\"}"
   ]
  },
  {
   "cell_type": "markdown",
   "id": "a6c3b7fa-fa59-43dd-81d2-7e116650915f",
   "metadata": {},
   "source": [
    "### 1.3 Run Notebook Setup"
   ]
  },
  {
   "cell_type": "code",
   "execution_count": null,
   "id": "1bf229ca-ab66-4e52-a31e-8655878d290d",
   "metadata": {},
   "outputs": [],
   "source": [
    "sc.set_figure_params(figsize=(6, 6))\n",
    "sns.set_style(\"whitegrid\", {'axes.grid' : False})"
   ]
  },
  {
   "cell_type": "code",
   "execution_count": null,
   "id": "924032d4-24a4-45cf-87e1-0eba197da0c2",
   "metadata": {},
   "outputs": [],
   "source": [
    "# Ignore future warnings and user warnings\n",
    "warnings.simplefilter(action=\"ignore\", category=FutureWarning)\n",
    "warnings.simplefilter(action=\"ignore\", category=UserWarning)\n",
    "warnings.simplefilter(action=\"ignore\", category=RuntimeWarning)"
   ]
  },
  {
   "cell_type": "code",
   "execution_count": null,
   "id": "ab22fbaf-aeed-464b-8a20-b640b9e055fd",
   "metadata": {},
   "outputs": [],
   "source": [
    "# Get time of notebook execution for timestamping saved artifacts\n",
    "now = datetime.now()\n",
    "if load_timestamp is not None:\n",
    "    current_timestamp = load_timestamp\n",
    "else:\n",
    "    current_timestamp = now.strftime(\"%d%m%Y_%H%M%S\")"
   ]
  },
  {
   "cell_type": "markdown",
   "id": "2b886225-6b6d-433c-b117-47b9a8f8091f",
   "metadata": {},
   "source": [
    "### 1.4 Configure Paths and Create Directories"
   ]
  },
  {
   "cell_type": "code",
   "execution_count": null,
   "id": "36675337-808d-40a9-93fc-d6cfa9473f66",
   "metadata": {},
   "outputs": [],
   "source": [
    "# Define paths\n",
    "figure_folder_path = f\"../figures/{dataset}/analysis/{current_timestamp}\"\n",
    "model_artifacts_folder_path = f\"../artifacts/{dataset}/analysis/{current_timestamp}\"\n",
    "gp_data_folder_path = \"../datasets/gp_data\" # gene program data\n",
    "srt_data_folder_path = \"../datasets/srt_data\" # spatially resolved transcriptomics data\n",
    "srt_data_gold_folder_path = f\"{srt_data_folder_path}/gold\"\n",
    "nichenet_ligand_target_mx_file_path = gp_data_folder_path + \"/nichenet_ligand_target_matrix.csv\"\n",
    "omnipath_lr_interactions_file_path = gp_data_folder_path + \"/omnipath_lr_interactions.csv\"\n",
    "\n",
    "# Create required directories\n",
    "os.makedirs(figure_folder_path, exist_ok=True)\n",
    "os.makedirs(model_artifacts_folder_path, exist_ok=True)"
   ]
  },
  {
   "cell_type": "markdown",
   "id": "35bdd00c-4bf6-4968-acee-e4e99e214cb1",
   "metadata": {},
   "source": [
    "### 1.5 Define Functions"
   ]
  },
  {
   "cell_type": "code",
   "execution_count": null,
   "id": "83efbd4e-321f-495f-8850-fb62653e1577",
   "metadata": {},
   "outputs": [],
   "source": [
    "def plot_physical_latent_for_cell_types(adata,\n",
    "                                        cell_types,\n",
    "                                        save_fig=False):\n",
    "    # Create plot of cell type annotations in physical and latent space\n",
    "    fig = plt.figure(figsize=(12, 14))\n",
    "    title = fig.suptitle(t=f\"{' & '.join(cell_types).title()} in Physical and Latent Space\",\n",
    "                         y=0.96,\n",
    "                         x=0.55,\n",
    "                         fontsize=20)\n",
    "    spec = gridspec.GridSpec(ncols=1,\n",
    "                             nrows=2,\n",
    "                             width_ratios=[1],\n",
    "                             height_ratios=[1, 5])\n",
    "    ax1 = fig.add_subplot(2, 3, 1)\n",
    "    ax2 = fig.add_subplot(2, 3, 2)\n",
    "    ax3 = fig.add_subplot(2, 3, 3)\n",
    "    ax4 = fig.add_subplot(spec[1])\n",
    "    sc.pl.spatial(adata=adata[adata.obs[sample_key] == \"embryo1\"],\n",
    "                  color=[cell_type_key],\n",
    "                  palette=cell_type_colors,\n",
    "                  groups=cell_types,\n",
    "                  size=160000/len(model.adata),\n",
    "                  spot_size=0.03,\n",
    "                  title=\"Physical Space Embryo 1\",\n",
    "                  legend_loc=None,\n",
    "                  ax=ax1,\n",
    "                  show=False)\n",
    "    sc.pl.spatial(adata=adata[adata.obs[sample_key] == \"embryo2\"],\n",
    "                  color=[cell_type_key],\n",
    "                  palette=cell_type_colors,\n",
    "                  groups=cell_types,\n",
    "                  size=160000/len(model.adata),\n",
    "                  spot_size=0.03,\n",
    "                  title=\"Physical Space Embryo 2\",\n",
    "                  legend_loc=None,\n",
    "                  ax=ax2,\n",
    "                  show=False)\n",
    "    sc.pl.spatial(adata=adata[adata.obs[sample_key] == \"embryo3\"],\n",
    "                  color=[cell_type_key],\n",
    "                  palette=cell_type_colors,\n",
    "                  groups=cell_types,\n",
    "                  size=160000/len(model.adata),\n",
    "                  spot_size=0.03,\n",
    "                  title=\"Physical Space Embryo 3\",\n",
    "                  legend_loc=None,\n",
    "                  ax=ax3,\n",
    "                  show=False)\n",
    "    sc.pl.umap(adata=adata,\n",
    "               color=[cell_type_key],\n",
    "               palette=cell_type_colors,\n",
    "               groups=cell_types,\n",
    "               size=1280000/len(model.adata),\n",
    "               title=\"Autotalker Latent Space\",\n",
    "               ax=ax4,\n",
    "               show=False)\n",
    "\n",
    "    # Create and position shared legend\n",
    "    handles, labels = ax4.get_legend_handles_labels()\n",
    "    lgd = fig.legend(handles, labels, bbox_to_anchor=(1.12, 0.655))\n",
    "    ax4.get_legend().remove()\n",
    "\n",
    "    # Adjust, save and display plot\n",
    "    plt.subplots_adjust(wspace=0., hspace=0.85)\n",
    "    if save_fig:\n",
    "        fig.savefig(f\"{figure_folder_path}/\"\n",
    "                    f\"{'_'.join(cell_types).replace('/', '_').replace(' ', '_').lower()}_physical_latent_space.png\",\n",
    "                    bbox_extra_artists=(lgd, title),\n",
    "                    bbox_inches=\"tight\")\n",
    "    plt.show()"
   ]
  },
  {
   "cell_type": "code",
   "execution_count": null,
   "id": "2e77f8f5-6ae5-4fa8-a402-4bdb36487175",
   "metadata": {},
   "outputs": [],
   "source": [
    "def plot_latent_physical_for_cell_type_latent_clusters(adata,\n",
    "                                                       cell_type,\n",
    "                                                       save_fig=False):\n",
    "    # Create plot of cell type annotations in physical and latent space\n",
    "    fig = plt.figure(figsize=(12, 14))\n",
    "    title = fig.suptitle(t=f\"{cell_type.replace('_', ' ').title()} Latent Clusters in Latent and Physical Space\",\n",
    "                         y=0.96,\n",
    "                         x=0.55,\n",
    "                         fontsize=20)\n",
    "    spec1 = gridspec.GridSpec(ncols=1,\n",
    "                              nrows=2,\n",
    "                              width_ratios=[1],\n",
    "                              height_ratios=[3, 2])\n",
    "    spec2 = gridspec.GridSpec(ncols=3,\n",
    "                              nrows=2,\n",
    "                              width_ratios=[1, 1, 1],\n",
    "                              height_ratios=[3, 2])\n",
    "    ax1 = fig.add_subplot(spec1[0])\n",
    "    ax2 = fig.add_subplot(spec2[3])\n",
    "    ax3 = fig.add_subplot(spec2[4])\n",
    "    ax4 = fig.add_subplot(spec2[5])\n",
    "    sc.pl.umap(adata=adata,\n",
    "               color=[cell_type_latent_cluster_key],\n",
    "               palette=latent_cluster_colors,\n",
    "               size=1280000/len(model.adata),\n",
    "               title=f\"{cell_type.replace('_', ' ').title()} Latent Clusters in Latent Space\",\n",
    "               ax=ax1,\n",
    "               show=False)\n",
    "    sc.pl.spatial(adata=adata[model.adata.obs[sample_key] == \"embryo1\"],\n",
    "                  color=[cell_type_latent_cluster_key],\n",
    "                  palette=latent_cluster_colors,\n",
    "                  size=160000/len(model.adata),\n",
    "                  spot_size=0.03,\n",
    "                  title=f\"{cell_type.replace('_', ' ').title()} \\n Latent Clusters in \\n Physical Space Embryo 1\",\n",
    "                  legend_loc=None,\n",
    "                  ax=ax2,\n",
    "                  show=False)\n",
    "    sc.pl.spatial(adata=adata[model.adata.obs[sample_key] == \"embryo2\"],\n",
    "                  color=[cell_type_latent_cluster_key],\n",
    "                  palette=latent_cluster_colors,\n",
    "                  size=160000/len(model.adata),\n",
    "                  spot_size=0.03,\n",
    "                  title=f\"{cell_type.replace('_', ' ').title()} \\n Latent Clusters in \\n Physical Space Embryo 2\",\n",
    "                  legend_loc=None,\n",
    "                  ax=ax3,\n",
    "                  show=False)\n",
    "    sc.pl.spatial(adata=adata[model.adata.obs[sample_key] == \"embryo3\"],\n",
    "                  color=[cell_type_latent_cluster_key],\n",
    "                  palette=latent_cluster_colors,\n",
    "                  size=160000/len(model.adata),\n",
    "                  spot_size=0.03,\n",
    "                  title=f\"{cell_type.replace('_', ' ').title()} \\n Latent Clusters in \\n Physical Space Embryo 3\",\n",
    "                  legend_loc=None,\n",
    "                  ax=ax4,\n",
    "                  show=False)\n",
    "\n",
    "    # Create and position shared legend\n",
    "    handles, labels = ax1.get_legend_handles_labels()\n",
    "    lgd = fig.legend(handles, labels, bbox_to_anchor=(1.05, 0.5))\n",
    "    ax1.get_legend().remove()\n",
    "\n",
    "    # Adjust, save and display plot\n",
    "    plt.subplots_adjust(wspace=0.2, hspace=0.25)\n",
    "    if save_fig:\n",
    "        fig.savefig(f\"{figure_folder_path}/{cell_type.replace('/', '_').replace(' ', '_').lower()}_latent_clusters_physical_latent_space.png\",\n",
    "                    bbox_extra_artists=(lgd, title),\n",
    "                    bbox_inches=\"tight\")\n",
    "    plt.show()"
   ]
  },
  {
   "cell_type": "code",
   "execution_count": null,
   "id": "fcbb5333-3f92-4b40-aa20-42b198d905c3",
   "metadata": {},
   "outputs": [],
   "source": [
    "def get_differential_analysis_results(analysis_label,\n",
    "                                      model,\n",
    "                                      adata,\n",
    "                                      cat_key,\n",
    "                                      selected_cats,\n",
    "                                      differential_gp_scores_key,\n",
    "                                      plot_category,\n",
    "                                      comparison_cats=None,\n",
    "                                      selected_gps=None,\n",
    "                                      n_top_up_gps=3,\n",
    "                                      n_top_down_gps=3,\n",
    "                                      feature_spaces=[\"latent\"], # \"physical_embryo1\", \"physical_embryo2\", \"physical_embryo3\"\n",
    "                                      save_figs=False):\n",
    "    # Compute gene program enrichments and retrieve top up- and downregulated gene programs\n",
    "    top_unique_gps = model.compute_differential_gp_scores(cat_key=cat_key,\n",
    "                                                          adata=adata,\n",
    "                                                          selected_gps=selected_gps,\n",
    "                                                          selected_cats=selected_cats,\n",
    "                                                          gp_scores_weight_normalization=False,\n",
    "                                                          comparison_cats=comparison_cats,\n",
    "                                                          n_sample=10000,\n",
    "                                                          key_added=differential_gp_scores_key,\n",
    "                                                          n_top_up_gps_retrieved=n_top_up_gps,\n",
    "                                                          n_top_down_gps_retrieved=n_top_down_gps,\n",
    "                                                          seed=random_seed)\n",
    "\n",
    "    # Display top upregulated gene programs\n",
    "    top_up_gp_df = model.adata.uns[differential_gp_scores_key][:n_top_up_gps]\n",
    "    display(top_up_gp_df)\n",
    "\n",
    "    # Display top downregulated gene programs\n",
    "    top_down_gp_df = model.adata.uns[differential_gp_scores_key][-n_top_down_gps:][::-1]\n",
    "    display(top_down_gp_df)\n",
    "\n",
    "    fig = sc.pl.dotplot(model.adata,\n",
    "                        top_unique_gps,\n",
    "                        groupby=cat_key,\n",
    "                        dendrogram=True, \n",
    "                        title=f\"{analysis_label.replace('_', ' ').title()} Differential GP Scores\",\n",
    "                        swap_axes=True,\n",
    "                        return_fig=True)\n",
    "    # Save and display plot\n",
    "    if save_figs:\n",
    "        fig.savefig(f\"{figure_folder_path}/{analysis_label}_differential_gp_scores.png\")\n",
    "    plt.show()\n",
    "\n",
    "    # Inspect top up- and downregulated gene programs\n",
    "    display(gp_summary_df[gp_summary_df[\"gp_name\"].isin(top_unique_gps)])\n",
    "\n",
    "    top_cats = top_up_gp_df[\"category\"].append(top_down_gp_df[\"category\"]).to_list()\n",
    "    top_gps = top_up_gp_df[\"gene_program\"].append(top_down_gp_df[\"gene_program\"]).to_list()\n",
    "\n",
    "    top_cats = top_up_gp_df[\"category\"].append(top_down_gp_df[\"category\"]).to_list()\n",
    "    top_gps = top_up_gp_df[\"gene_program\"].append(top_down_gp_df[\"gene_program\"]).to_list()\n",
    "\n",
    "    get_cat_gp_score_gene_expr_summary(analysis_label=\"mixed_mesenchymal_mesoderm_latent_cluster\",\n",
    "                                       model=model,\n",
    "                                       cats=top_cats,\n",
    "                                       gps=top_gps,\n",
    "                                       plot_category=plot_category,\n",
    "                                       adata=adata,\n",
    "                                       feature_spaces=feature_spaces,\n",
    "                                       plot_types=[\"gene_categories\", \"individual_genes\"])\n",
    "    \n",
    "    return top_unique_gps"
   ]
  },
  {
   "cell_type": "code",
   "execution_count": null,
   "id": "81a18eb4-6c46-4bd9-952c-3cb35d4be394",
   "metadata": {},
   "outputs": [],
   "source": [
    "def get_cat_gp_score_gene_expr_summary(analysis_label,\n",
    "                                       model,\n",
    "                                       cats,\n",
    "                                       gps,\n",
    "                                       plot_category,\n",
    "                                       adata=None,\n",
    "                                       feature_spaces=[\"latent\", \"physical_embryo1\", \"physical_embryo2\", \"physical_embryo3\"],\n",
    "                                       plot_types=[\"gene_categories\", \"individual_genes\"],\n",
    "                                       n_top_genes_per_gp=5,\n",
    "                                       save_figs=False):\n",
    "    \n",
    "    if adata is None:\n",
    "        adata = model.adata.copy()\n",
    "    \n",
    "    for gp in gps:\n",
    "        gp_gene_importances_df = model.compute_gp_gene_importances(selected_gp=gp)\n",
    "        \n",
    "        pos_sign_target_genes = gp_gene_importances_df.loc[\n",
    "            (gp_gene_importances_df[\"gene_weight_sign_corrected\"] > 0) &\n",
    "            (gp_gene_importances_df[\"gene_entity\"] == \"target\"), \"gene\"].tolist()\n",
    "        pos_sign_source_genes = gp_gene_importances_df.loc[\n",
    "            (gp_gene_importances_df[\"gene_weight_sign_corrected\"] > 0) &\n",
    "            (gp_gene_importances_df[\"gene_entity\"] == \"source\"), \"gene\"].tolist()\n",
    "        neg_sign_target_genes = gp_gene_importances_df.loc[\n",
    "            (gp_gene_importances_df[\"gene_weight_sign_corrected\"] < 0) &\n",
    "            (gp_gene_importances_df[\"gene_entity\"] == \"target\"), \"gene\"].tolist()\n",
    "        neg_sign_source_genes = gp_gene_importances_df.loc[\n",
    "            (gp_gene_importances_df[\"gene_weight_sign_corrected\"] < 0) &\n",
    "            (gp_gene_importances_df[\"gene_entity\"] == \"source\"), \"gene\"].tolist()\n",
    "        \n",
    "        pos_sign_target_gene_importances = gp_gene_importances_df.loc[\n",
    "            (gp_gene_importances_df[\"gene_weight_sign_corrected\"] > 0) &\n",
    "            (gp_gene_importances_df[\"gene_entity\"] == \"target\"), \"gene_importance\"].values.reshape(1, -1)\n",
    "        pos_sign_source_gene_importances = gp_gene_importances_df.loc[\n",
    "            (gp_gene_importances_df[\"gene_weight_sign_corrected\"] > 0) &\n",
    "            (gp_gene_importances_df[\"gene_entity\"] == \"source\"), \"gene_importance\"].values.reshape(1, -1)\n",
    "        neg_sign_target_gene_importances = gp_gene_importances_df.loc[\n",
    "            (gp_gene_importances_df[\"gene_weight_sign_corrected\"] < 0) &\n",
    "            (gp_gene_importances_df[\"gene_entity\"] == \"target\"), \"gene_importance\"].values.reshape(1, -1)\n",
    "        neg_sign_source_gene_importances = gp_gene_importances_df.loc[\n",
    "            (gp_gene_importances_df[\"gene_weight_sign_corrected\"] < 0) &\n",
    "            (gp_gene_importances_df[\"gene_entity\"] == \"source\"), \"gene_importance\"].values.reshape(1, -1)\n",
    "        \n",
    "        pos_sign_target_gene_expr = adata[:, pos_sign_target_genes].X.toarray()\n",
    "        pos_sign_source_gene_expr = adata[:, pos_sign_source_genes].X.toarray()\n",
    "        neg_sign_target_gene_expr = adata[:, neg_sign_target_genes].X.toarray()\n",
    "        neg_sign_source_gene_expr = adata[:, neg_sign_source_genes].X.toarray()\n",
    "        \n",
    "        adata.obs[f\"{gp}_pos_sign_target_gene_weighted_mean_gene_expr\"] = (\n",
    "            np.mean(pos_sign_target_gene_expr * pos_sign_target_gene_importances, axis=1))\n",
    "        adata.obs[f\"{gp}_pos_sign_source_gene_weighted_mean_gene_expr\"] = (\n",
    "            np.mean(pos_sign_source_gene_expr * pos_sign_source_gene_importances, axis=1))\n",
    "        adata.obs[f\"{gp}_neg_sign_target_gene_weighted_mean_gene_expr\"] = (\n",
    "            np.mean(neg_sign_target_gene_expr * neg_sign_target_gene_importances, axis=1))\n",
    "        adata.obs[f\"{gp}_neg_sign_source_gene_weighted_mean_gene_expr\"] = (\n",
    "            np.mean(neg_sign_source_gene_expr * neg_sign_source_gene_importances, axis=1))\n",
    "        \n",
    "        adata.uns[f\"{gp}_gene_category_importances\"] = np.array([pos_sign_target_gene_importances.sum(),\n",
    "                                                                 pos_sign_source_gene_importances.sum(),\n",
    "                                                                 neg_sign_target_gene_importances.sum(),\n",
    "                                                                 neg_sign_source_gene_importances.sum()])\n",
    "        \n",
    "        adata.uns[\"n_top_genes\"] = n_top_genes_per_gp\n",
    "        adata.uns[f\"{gp}_top_genes\"] = gp_gene_importances_df[\"gene\"][:n_top_genes_per_gp]\n",
    "        adata.uns[f\"{gp}_top_gene_importances\"] = gp_gene_importances_df[\"gene_importance\"][:n_top_genes_per_gp]\n",
    "        adata.uns[f\"{gp}_top_gene_signs\"] = np.where(gp_gene_importances_df[\"gene_weight_sign_corrected\"] > 0, \"+\", \"-\")\n",
    "        adata.uns[f\"{gp}_top_gene_entities\"] = gp_gene_importances_df[\"gene_entity\"]\n",
    "        \n",
    "    for feature_space in feature_spaces:\n",
    "        for plot_type in plot_types:\n",
    "            plot_cat_gp_score_gene_expr_summary(adata=adata,\n",
    "                                                cats=cats,\n",
    "                                                gps=gps,\n",
    "                                                plot_type=plot_type,\n",
    "                                                plot_category=plot_category,\n",
    "                                                feature_space=feature_space,\n",
    "                                                suptitle=f\"{analysis_label.replace('_', ' ').title()} Differential GPs: \"\n",
    "                                                         f\"GP Scores and {'Weighted Mean ' if plot_type == 'gene_categories' else ''}\"\n",
    "                                                         f\"Gene Expression of {plot_type.replace('_', ' ').title()} in {feature_space.replace('_', ' ').title()} Space\",\n",
    "                                                cat_title=f\"GP-enriched \\n {analysis_label.replace('_', ' ')}\",\n",
    "                                                save_fig=save_figs,\n",
    "                                                fig_name=f\"{analysis_label}_gp_scores_{'weighted_mean_' if plot_type == 'gene_categories' else ''}gene_expr_\"\n",
    "                                                         f\"{analysis_label}_{feature_space}_space\")"
   ]
  },
  {
   "cell_type": "code",
   "execution_count": null,
   "id": "4fc62806-dd64-4bbd-ab68-2d2babfbd908",
   "metadata": {},
   "outputs": [],
   "source": [
    "def plot_cat_gp_score_gene_expr_summary(adata,\n",
    "                                        cats,\n",
    "                                        gps,\n",
    "                                        plot_type,\n",
    "                                        plot_category,\n",
    "                                        feature_space,\n",
    "                                        suptitle,\n",
    "                                        cat_title,\n",
    "                                        save_fig,\n",
    "                                        fig_name):\n",
    "        \n",
    "    # Plot selected gene program latent scores\n",
    "    if plot_type == \"gene_categories\":\n",
    "        ncols = 6\n",
    "        fig_width = 36\n",
    "        wspace = 0.155\n",
    "    elif plot_type == \"individual_genes\":\n",
    "        ncols = 2 + adata.uns[\"n_top_genes\"]\n",
    "        fig_width = 12 + (6 * adata.uns[\"n_top_genes\"])\n",
    "        wspace = 0.3\n",
    "    fig, axs = plt.subplots(nrows=len(gps), ncols=ncols, figsize=(fig_width, 6*len(gps)))\n",
    "    if axs.ndim == 1:\n",
    "        axs = axs.reshape(1, -1)\n",
    "\n",
    "    title = fig.suptitle(t=suptitle,\n",
    "                         x=0.55,\n",
    "                         y=(1.1 if len(gps) == 1 else 0.94),\n",
    "                         fontsize=20)\n",
    "    for i, gp in enumerate(gps):\n",
    "        if feature_space == \"latent\":\n",
    "            sc.pl.umap(adata,\n",
    "                       color=plot_category,\n",
    "                       palette=latent_cluster_colors,\n",
    "                       groups=[x for x in adata.obs[plot_category].unique().tolist() if str(x) != \"nan\"],\n",
    "                       ax=axs[i, 0],\n",
    "                       title=cat_title,\n",
    "                       legend_loc=\"on data\",\n",
    "                       na_in_legend=False,\n",
    "                       show=False)\n",
    "            sc.pl.umap(adata,\n",
    "                       color=gps[i],\n",
    "                       color_map=\"RdBu\",\n",
    "                       ax=axs[i, 1],\n",
    "                       title=f\"{gp[:gp.index('_')]}\\n{gp[gp.index('_') + 1: gp.rindex('_')].replace('_', ' ')}\\n{gp[gps[i].rindex('_') + 1:]} score\",\n",
    "                       show=False)\n",
    "        elif \"physical\" in feature_space:\n",
    "            sc.pl.spatial(adata=adata[adata.obs[\"sample\"] == feature_space.split(\"_\")[1]],\n",
    "                          color=plot_category,\n",
    "                          palette=latent_cluster_colors,\n",
    "                          groups=[x for x in adata.obs[plot_category].unique().tolist() if str(x) != \"nan\"],\n",
    "                          ax=axs[i, 0],\n",
    "                          spot_size=0.03,\n",
    "                          title=cat_title,\n",
    "                          legend_loc=\"on data\",\n",
    "                          na_in_legend=False,\n",
    "                          show=False)\n",
    "            sc.pl.spatial(adata=adata[adata.obs[\"sample\"] == feature_space.split(\"_\")[1]],\n",
    "                          color=gps[i],\n",
    "                          color_map=\"RdBu\",\n",
    "                          spot_size=0.03,\n",
    "                          title=f\"{gps[i].split('_', 1)[0]}\\n{gps[i].split('_', 1)[1]}\",\n",
    "                          legend_loc=None,\n",
    "                          ax=axs[i, 1],\n",
    "                          show=False) \n",
    "        axs[i, 0].xaxis.label.set_visible(False)\n",
    "        axs[i, 0].yaxis.label.set_visible(False)\n",
    "        axs[i, 1].xaxis.label.set_visible(False)\n",
    "        axs[i, 1].yaxis.label.set_visible(False)\n",
    "        if plot_type == \"gene_categories\":\n",
    "            for j, gene_category in enumerate([\"pos_sign_target_gene\",\n",
    "                                               \"pos_sign_source_gene\",\n",
    "                                               \"neg_sign_target_gene\",\n",
    "                                               \"neg_sign_source_gene\"]):\n",
    "                if not adata.obs[f\"{gp}_{gene_category}_weighted_mean_gene_expr\"].isna().any():\n",
    "                    if feature_space == \"latent\":\n",
    "                        sc.pl.umap(adata,\n",
    "                                   color=f\"{gp}_{gene_category}_weighted_mean_gene_expr\",\n",
    "                                   color_map=(\"Blues\" if \"pos_sign\" in gene_category else \"Reds\"),\n",
    "                                   ax=axs[i, j+2],\n",
    "                                   legend_loc=\"on data\",\n",
    "                                   na_in_legend=False,\n",
    "                                   title=f\"Weighted mean gene expression \\n {gene_category.replace('_', ' ')} ({adata.uns[f'{gp}_gene_category_importances'][j]:.2f})\",\n",
    "                                   show=False)\n",
    "                    elif \"physical\" in feature_space:\n",
    "                        sc.pl.spatial(adata=adata[adata.obs[\"sample\"] == feature_space.split(\"_\")[1]],\n",
    "                                      color=f\"{gp}_{gene_category}_weighted_mean_gene_expr\",\n",
    "                                      color_map=(\"Blues\" if \"pos_sign\" in gene_category else \"Reds\"),\n",
    "                                      ax=axs[i, 2+j],\n",
    "                                      legend_loc=\"on data\",\n",
    "                                      na_in_legend=False,\n",
    "                                      groups=cats[i],\n",
    "                                      spot_size=0.03,\n",
    "                                      title=f\"Weighted mean gene expression \\n {gene_category.replace('_', ' ')} ({adata.uns[f'{gp}_gene_category_importances'][j]:.2f})\",\n",
    "                                      show=False)                        \n",
    "                    axs[i, j+2].xaxis.label.set_visible(False)\n",
    "                    axs[i, j+2].yaxis.label.set_visible(False)\n",
    "                else:\n",
    "                    axs[i, j+2].set_visible(False)\n",
    "        elif plot_type == \"individual_genes\":\n",
    "            for j in range(len(adata.uns[f\"{gp}_top_genes\"])):\n",
    "                if feature_space == \"latent\":\n",
    "                    sc.pl.umap(adata,\n",
    "                               color=adata.uns[f\"{gp}_top_genes\"][j],\n",
    "                               color_map=(\"Blues\" if adata.uns[f\"{gp}_top_gene_signs\"][j] == \"+\" else \"Reds\"),\n",
    "                               ax=axs[i, 2+j],\n",
    "                               legend_loc=\"on data\",\n",
    "                               na_in_legend=False,\n",
    "                               title=f\"{adata.uns[f'{gp}_top_genes'][j]}: {adata.uns[f'{gp}_top_gene_importances'][j]:.2f} ({adata.uns[f'{gp}_top_gene_entities'][j][0]}; {adata.uns[f'{gp}_top_gene_signs'][j]})\",\n",
    "                               show=False)\n",
    "                elif \"physical\" in feature_space:\n",
    "                    sc.pl.spatial(adata=adata[adata.obs[\"sample\"] == feature_space.split(\"_\")[1]],\n",
    "                                  color=adata.uns[f\"{gp}_top_genes\"][j],\n",
    "                                  color_map=(\"Blues\" if adata.uns[f\"{gp}_top_gene_signs\"][j] == \"+\" else \"Reds\"),\n",
    "                                  legend_loc=\"on data\",\n",
    "                                  na_in_legend=False,\n",
    "                                  ax=axs[i, 2+j],\n",
    "                                  # groups=cats[i],\n",
    "                                  spot_size=0.03,\n",
    "                                  title=f\"{adata.uns[f'{gp}_top_genes'][j]}: {adata.uns[f'{gp}_top_gene_importances'][j]:.2f} ({adata.uns[f'{gp}_top_gene_entities'][j][0]}; {adata.uns[f'{gp}_top_gene_signs'][j]})\",\n",
    "                                  show=False)\n",
    "                axs[i, 2+j].xaxis.label.set_visible(False)\n",
    "                axs[i, 2+j].yaxis.label.set_visible(False)\n",
    "            for k in range(len(adata.uns[f\"{gp}_top_genes\"]), ncols - 2):\n",
    "                axs[i, 2+k].set_visible(False)            \n",
    "\n",
    "    # Save and display plot\n",
    "    plt.subplots_adjust(wspace=wspace, hspace=0.275)\n",
    "    if save_fig:\n",
    "        fig.savefig(f\"{figure_folder_path}/{fig_name}.png\",\n",
    "                    bbox_extra_artists=(title,),\n",
    "                    bbox_inches=\"tight\")\n",
    "    plt.show()"
   ]
  },
  {
   "cell_type": "code",
   "execution_count": null,
   "id": "d380b173-2cef-4988-9260-282885a6c4df",
   "metadata": {},
   "outputs": [],
   "source": [
    "def add_sub_cell_type(row):  \n",
    "    if row[cell_type_key] == cell_type.replace(\"_\", \" \").capitalize():\n",
    "        return row[cell_type_key] + \" cluster \" + row[cell_type_latent_cluster_key]\n",
    "    return row[cell_type_key]"
   ]
  },
  {
   "cell_type": "code",
   "execution_count": null,
   "id": "b4a8bc05-b4ad-492d-be7f-637f9f24ef69",
   "metadata": {},
   "outputs": [],
   "source": [
    "def add_cell_type_latent_cluster_emphasis(row, comparison_latent_clusters):  \n",
    "    for comparison_latent_cluster in comparison_latent_clusters:\n",
    "        if row[cell_type_latent_cluster_key] == comparison_latent_cluster:\n",
    "            return \"-1\"\n",
    "    return row[cell_type_latent_cluster_key]"
   ]
  },
  {
   "cell_type": "markdown",
   "id": "9cea1a5c-d075-4e51-90e5-90684bee88a6",
   "metadata": {},
   "source": [
    "## 2. Analysis"
   ]
  },
  {
   "cell_type": "markdown",
   "id": "8d6ede1d-2cdf-4c81-9f56-e4745ae59e6c",
   "metadata": {},
   "source": [
    "### 2.1 Load Model"
   ]
  },
  {
   "cell_type": "code",
   "execution_count": null,
   "id": "db67b57a-f66a-4d06-be6d-79bbb113f6f6",
   "metadata": {},
   "outputs": [],
   "source": [
    "if load_timestamp is not None:\n",
    "    model_artifacts_load_folder_path = f\"../artifacts/{dataset}/batch_integration/{load_timestamp}\"\n",
    "else:\n",
    "    model_artifacts_load_folder_path = model_artifacts_folder_path\n",
    "    \n",
    "# Load trained model    \n",
    "model = Autotalker.load(dir_path=f\"{model_artifacts_load_folder_path}/reference_query\",\n",
    "                        adata=None,\n",
    "                        adata_file_name=f\"{dataset}.h5ad\",\n",
    "                        gp_names_key=\"autotalker_gp_names\")"
   ]
  },
  {
   "cell_type": "markdown",
   "id": "d48d33e1-36d5-4246-a947-4662055cea58",
   "metadata": {},
   "source": [
    "### 2.2 Retrieve GP Summary"
   ]
  },
  {
   "cell_type": "code",
   "execution_count": null,
   "id": "8fc40859-6a4a-4bfa-8362-d28d4c1c2057",
   "metadata": {},
   "outputs": [],
   "source": [
    "# Check number of active gene programs\n",
    "active_gps = model.get_active_gps()\n",
    "print(f\"Number of total gene programs: {len(model.adata.uns[gp_names_key])}.\")\n",
    "print(f\"Number of active gene programs: {len(active_gps)}.\")"
   ]
  },
  {
   "cell_type": "code",
   "execution_count": null,
   "id": "8053fc3f-2e47-4530-8e77-9da69bbb24ec",
   "metadata": {},
   "outputs": [],
   "source": [
    "gp_summary_df = model.get_gp_summary()"
   ]
  },
  {
   "cell_type": "markdown",
   "id": "fa759223-4a75-425c-88cf-ddf960bd33ef",
   "metadata": {},
   "source": [
    "## 3. Dataset-specific Analysis & Validation of Results from Lohoff et. al 2022"
   ]
  },
  {
   "cell_type": "markdown",
   "id": "e5292a1b-6b07-42a3-9caa-8f2ef8d390ac",
   "metadata": {},
   "source": [
    "### 3.1 Cardiomyocytes & Endothelium"
   ]
  },
  {
   "cell_type": "markdown",
   "id": "e3750853-200a-40e1-a9f4-9db2a4fc1b35",
   "metadata": {},
   "source": [
    "Cardiomyocytes are spatially and morphologically distinct from other cell types, endothelium is interspersed and spread across the entire embryo space."
   ]
  },
  {
   "cell_type": "code",
   "execution_count": null,
   "id": "b93b0ae9-9d89-4913-8b12-bc7be79435e0",
   "metadata": {},
   "outputs": [],
   "source": [
    "plot_physical_latent_for_cell_types(adata=model.adata,\n",
    "                                    cell_types=[\"Cardiomyocytes\", \"Endothelium\"],\n",
    "                                    save_fig=True)"
   ]
  },
  {
   "cell_type": "markdown",
   "id": "9dbe8b0d-6056-4bea-9201-d80c7bb04a67",
   "metadata": {},
   "source": [
    "### 3.2 Mixed Mesenchymal Mesoderm"
   ]
  },
  {
   "cell_type": "markdown",
   "id": "e73294bc-af70-434a-bfc5-27763476239c",
   "metadata": {},
   "source": [
    "\"mixed mesenchymal mesoderm, represent \n",
    "a cell state rather than a defined cell type. Mesenchyme represents  a  state  in  which  cells  express  markers  characteristic  of  migratory   cells loosely dispersed within an extracellular matrix56. This strong  overriding transcriptional signature of mesenchyme, irrespective of  location,  makes  it  challenging  to  distinguish  which  cell  types  this   mixed  mesenchymal  mesoderm  population  represents  using  clas- sical scRNA-seq data\"\n",
    "\n",
    "We can identify distinct subpopulations that are spatially defined."
   ]
  },
  {
   "cell_type": "code",
   "execution_count": null,
   "id": "bbed8eb9-5ea8-42fd-aef0-7eb8dfc2094b",
   "metadata": {},
   "outputs": [],
   "source": [
    "cell_type = \"mixed_mesenchymal_mesoderm\"\n",
    "cell_type_latent_resolution = 0.05\n",
    "cell_type_latent_cluster_key = f\"{cell_type}_latent_leiden_{cell_type_latent_resolution}\"\n",
    "cell_type_latent_cluster_emphasis_key = f\"{cell_type_latent_cluster_key}_emphasis\"\n",
    "cell_type_differential_gp_scores_key = f\"{cell_type}_differential_gp_scores\""
   ]
  },
  {
   "cell_type": "code",
   "execution_count": null,
   "id": "f0ed64db-963c-4981-9e3a-de5addf6cf79",
   "metadata": {},
   "outputs": [],
   "source": [
    "plot_physical_latent_for_cell_types(adata=model.adata,\n",
    "                                    cell_types=[\"Mixed mesenchymal mesoderm\"],\n",
    "                                    save_fig=False)"
   ]
  },
  {
   "cell_type": "code",
   "execution_count": null,
   "id": "c717a4ce-8a24-4166-8c51-c589e7854571",
   "metadata": {},
   "outputs": [],
   "source": [
    "cell_type_adata = model.adata[model.adata.obs[cell_type_key] == cell_type.replace(\"_\", \" \").capitalize()]"
   ]
  },
  {
   "cell_type": "code",
   "execution_count": null,
   "id": "cc1cfa83-cc52-498a-addb-7e6310c34756",
   "metadata": {},
   "outputs": [],
   "source": [
    "# Compute latent nearest neighbor graph for cell type only\n",
    "sc.pp.neighbors(cell_type_adata,\n",
    "                use_rep=latent_key,\n",
    "                key_added=f\"{cell_type}_latent_knng\")\n",
    "\n",
    "# Compute latent Leiden clustering for cell type\n",
    "sc.tl.leiden(adata=cell_type_adata,\n",
    "             resolution=cell_type_latent_resolution,\n",
    "             random_state=random_seed,\n",
    "             key_added=cell_type_latent_cluster_key,\n",
    "             adjacency=cell_type_adata.obsp[f\"{cell_type}_latent_knng_connectivities\"])\n",
    "\n",
    "# Use cell type latent space for UMAP generation\n",
    "sc.tl.umap(cell_type_adata,\n",
    "           neighbors_key=f\"{cell_type}_latent_knng\")"
   ]
  },
  {
   "cell_type": "code",
   "execution_count": null,
   "id": "a490772e-3227-4843-b119-e5dac33c503e",
   "metadata": {},
   "outputs": [],
   "source": [
    "model.adata.obs[cell_type_latent_cluster_key] = np.nan\n",
    "model.adata.obs.loc[model.adata.obs[cell_type_key] == cell_type.replace(\"_\", \" \").capitalize(),\n",
    "                    cell_type_latent_cluster_key] = cell_type_adata.obs[cell_type_latent_cluster_key]"
   ]
  },
  {
   "cell_type": "code",
   "execution_count": null,
   "id": "85b00686-e8cf-43e5-9eef-bafa72bd3163",
   "metadata": {},
   "outputs": [],
   "source": [
    "plot_latent_physical_for_cell_type_latent_clusters(adata=model.adata,\n",
    "                                                   cell_type=\"mixed_mesenchymal_mesoderm\",\n",
    "                                                   save_fig=False)"
   ]
  },
  {
   "cell_type": "code",
   "execution_count": null,
   "id": "6f4bceea-6ca3-43ac-b0c8-f44153bd8d73",
   "metadata": {},
   "outputs": [],
   "source": [
    "model.adata.obs[sub_cell_type_key] = model.adata.obs.apply(lambda row: add_sub_cell_type(row), axis=1)\n",
    "model.adata.obs[sub_cell_type_key] = model.adata.obs[sub_cell_type_key].astype(\"category\")"
   ]
  },
  {
   "cell_type": "code",
   "execution_count": null,
   "id": "73f72238-b6f4-4993-9ae3-cfb5f534bc08",
   "metadata": {},
   "outputs": [],
   "source": [
    "sq.gr.nhood_enrichment(model.adata, cluster_key=sub_cell_type_key)"
   ]
  },
  {
   "cell_type": "code",
   "execution_count": null,
   "id": "38554288-d0fc-42c3-a650-8cc1079881d6",
   "metadata": {},
   "outputs": [],
   "source": [
    "cell_types = model.adata.obs[sub_cell_type_key].unique().tolist()\n",
    "cell_types.sort()"
   ]
  },
  {
   "cell_type": "markdown",
   "id": "f556b343-134c-4ef3-80aa-40e08f6c6cbf",
   "metadata": {},
   "source": [
    "#### Latent Cluster 0"
   ]
  },
  {
   "cell_type": "code",
   "execution_count": null,
   "id": "f4864f8b-a1db-4fe2-8d9f-a48966998f32",
   "metadata": {},
   "outputs": [],
   "source": [
    "selected_cats = [\"0\"]\n",
    "comparison_cats = [\"1\", \"2\", \"3\"]\n",
    "latent_cluster_differential_gp_scores_key = f\"autotalker_latent_cluster_{selected_cats[0]}_differential_gp_scores\"\n",
    "\n",
    "model.adata.obs[cell_type_latent_cluster_emphasis_key] = model.adata.obs.apply(\n",
    "    lambda row: add_cell_type_latent_cluster_emphasis(row, comparison_cats), axis=1)\n",
    "model.adata.obs[cell_type_latent_cluster_emphasis_key] = model.adata.obs[cell_type_latent_cluster_emphasis_key].astype(\"category\")\n",
    "\n",
    "top_unique_gps_latent_cluster_0 = get_differential_analysis_results(\n",
    "    analysis_label=\"mixed_mesenchymal_mesoderm_latent_cluster\",\n",
    "    model=model,\n",
    "    adata=model.adata,\n",
    "    cat_key=cell_type_latent_cluster_key,\n",
    "    selected_cats=selected_cats,\n",
    "    differential_gp_scores_key=latent_cluster_differential_gp_scores_key,\n",
    "    comparison_cats=comparison_cats,\n",
    "    plot_category=cell_type_latent_cluster_emphasis_key,\n",
    "    selected_gps=None,\n",
    "    n_top_up_gps=3,\n",
    "    n_top_down_gps=3,\n",
    "    feature_spaces=[\"latent\"], # \"physical_embryo1\", \"physical_embryo2\", \"physical_embryo3\"\n",
    "    save_figs=False)"
   ]
  },
  {
   "cell_type": "markdown",
   "id": "df0c54ce-58f1-4f47-bd3d-b5772f0fd423",
   "metadata": {},
   "source": [
    "#### Latent Cluster 1"
   ]
  },
  {
   "cell_type": "code",
   "execution_count": null,
   "id": "083ecc06-6960-464e-9982-5c5aa631a0ad",
   "metadata": {},
   "outputs": [],
   "source": [
    "selected_cats = [\"1\"]\n",
    "comparison_cats = [\"0\", \"2\", \"3\"]\n",
    "latent_cluster_differential_gp_scores_key = f\"autotalker_latent_cluster_{selected_cats[0]}_differential_gp_scores\"\n",
    "\n",
    "model.adata.obs[cell_type_latent_cluster_emphasis_key] = model.adata.obs.apply(\n",
    "    lambda row: add_cell_type_latent_cluster_emphasis(row, comparison_cats), axis=1)\n",
    "model.adata.obs[cell_type_latent_cluster_emphasis_key] = model.adata.obs[cell_type_latent_cluster_emphasis_key].astype(\"category\")\n",
    "\n",
    "top_unique_gps_latent_cluster_1 = get_differential_analysis_results(\n",
    "    analysis_label=\"mixed_mesenchymal_mesoderm_latent_cluster\",\n",
    "    model=model,\n",
    "    adata=model.adata,\n",
    "    cat_key=cell_type_latent_cluster_key,\n",
    "    selected_cats=selected_cats,\n",
    "    differential_gp_scores_key=latent_cluster_differential_gp_scores_key,\n",
    "    comparison_cats=comparison_cats,\n",
    "    plot_category=cell_type_latent_cluster_emphasis_key,\n",
    "    selected_gps=None,\n",
    "    n_top_up_gps=3,\n",
    "    n_top_down_gps=3,\n",
    "    feature_spaces=[\"latent\"], # \"physical_embryo1\", \"physical_embryo2\", \"physical_embryo3\"\n",
    "    save_figs=False)"
   ]
  },
  {
   "cell_type": "markdown",
   "id": "12adb760-5263-41a4-9133-a78e65d4b9d2",
   "metadata": {},
   "source": [
    "#### Latent Cluster 2"
   ]
  },
  {
   "cell_type": "code",
   "execution_count": null,
   "id": "39f0172e-f67c-43df-a588-dcb7989194c8",
   "metadata": {},
   "outputs": [],
   "source": [
    "selected_cats = [\"2\"]\n",
    "comparison_cats = [\"0\", \"1\", \"3\"]\n",
    "latent_cluster_differential_gp_scores_key = f\"autotalker_latent_cluster_{selected_cats[0]}_differential_gp_scores\"\n",
    "\n",
    "model.adata.obs[cell_type_latent_cluster_emphasis_key] = model.adata.obs.apply(\n",
    "    lambda row: add_cell_type_latent_cluster_emphasis(row, comparison_cats), axis=1)\n",
    "model.adata.obs[cell_type_latent_cluster_emphasis_key] = model.adata.obs[cell_type_latent_cluster_emphasis_key].astype(\"category\")\n",
    "\n",
    "top_unique_gps_latent_cluster_2 = get_differential_analysis_results(\n",
    "    analysis_label=\"mixed_mesenchymal_mesoderm_latent_cluster\",\n",
    "    model=model,\n",
    "    adata=model.adata,\n",
    "    cat_key=cell_type_latent_cluster_key,\n",
    "    selected_cats=selected_cats,\n",
    "    differential_gp_scores_key=latent_cluster_differential_gp_scores_key,\n",
    "    comparison_cats=comparison_cats,\n",
    "    plot_category=cell_type_latent_cluster_emphasis_key,\n",
    "    selected_gps=None,\n",
    "    n_top_up_gps=3,\n",
    "    n_top_down_gps=3,\n",
    "    feature_spaces=[\"latent\"], # \"physical_embryo1\", \"physical_embryo2\", \"physical_embryo3\"\n",
    "    save_figs=False)"
   ]
  },
  {
   "cell_type": "markdown",
   "id": "cbbbcf86-ee3a-41ff-baa5-28e788f0a25d",
   "metadata": {},
   "source": [
    "#### Latent Cluster 3"
   ]
  },
  {
   "cell_type": "code",
   "execution_count": null,
   "id": "0dec0494-85e5-4d2f-97c1-f19f2d780e10",
   "metadata": {},
   "outputs": [],
   "source": [
    "selected_cats = [\"3\"]\n",
    "comparison_cats = [\"0\", \"1\", \"2\"]\n",
    "latent_cluster_differential_gp_scores_key = f\"autotalker_latent_cluster_{selected_cats[0]}_differential_gp_scores\"\n",
    "\n",
    "model.adata.obs[cell_type_latent_cluster_emphasis_key] = model.adata.obs.apply(\n",
    "    lambda row: add_cell_type_latent_cluster_emphasis(row, comparison_cats), axis=1)\n",
    "model.adata.obs[cell_type_latent_cluster_emphasis_key] = model.adata.obs[cell_type_latent_cluster_emphasis_key].astype(\"category\")\n",
    "\n",
    "top_unique_gps_latent_cluster_3 = get_differential_analysis_results(\n",
    "    analysis_label=\"mixed_mesenchymal_mesoderm_latent_cluster\",\n",
    "    model=model,\n",
    "    adata=model.adata,\n",
    "    cat_key=cell_type_latent_cluster_key,\n",
    "    selected_cats=selected_cats,\n",
    "    differential_gp_scores_key=latent_cluster_differential_gp_scores_key,\n",
    "    comparison_cats=comparison_cats,\n",
    "    plot_category=cell_type_latent_cluster_emphasis_key,\n",
    "    selected_gps=None,\n",
    "    n_top_up_gps=3,\n",
    "    n_top_down_gps=3,\n",
    "    feature_spaces=[\"latent\"], # \"physical_embryo1\", \"physical_embryo2\", \"physical_embryo3\"\n",
    "    save_figs=False)"
   ]
  },
  {
   "cell_type": "markdown",
   "id": "b24822a4-61d9-4ca2-8c34-5fa086383c88",
   "metadata": {},
   "source": [
    "#### Overview"
   ]
  },
  {
   "cell_type": "code",
   "execution_count": null,
   "id": "03579654-666c-48de-b279-108d069486ed",
   "metadata": {},
   "outputs": [],
   "source": [
    "model.adata.obs.loc[model.adata.obs[cell_type_latent_cluster_key] == \"0\", \"MPZ_ligand_targetgenes_GP\"].mean()"
   ]
  },
  {
   "cell_type": "code",
   "execution_count": null,
   "id": "124eab62-0d84-4a6f-8141-7c40446e7feb",
   "metadata": {},
   "outputs": [],
   "source": [
    "model.adata.obs.loc[model.adata.obs[cell_type_latent_cluster_key] == \"1\", \"MPZ_ligand_targetgenes_GP\"].mean()"
   ]
  },
  {
   "cell_type": "code",
   "execution_count": null,
   "id": "d894981c-7307-4e48-8b85-93c5e32294dc",
   "metadata": {},
   "outputs": [],
   "source": [
    "model.adata.obs.loc[model.adata.obs[cell_type_latent_cluster_key] == \"2\", \"MPZ_ligand_targetgenes_GP\"].mean()"
   ]
  },
  {
   "cell_type": "code",
   "execution_count": null,
   "id": "658316a2-98ed-4893-bd55-906a9afe76ff",
   "metadata": {},
   "outputs": [],
   "source": [
    "model.adata.obs.loc[model.adata.obs[cell_type_latent_cluster_key] == \"3\", \"MPZ_ligand_targetgenes_GP\"].mean()"
   ]
  },
  {
   "cell_type": "code",
   "execution_count": null,
   "id": "6e9eec1c-e0dc-49cd-aca1-dd1ef1581887",
   "metadata": {},
   "outputs": [],
   "source": [
    "sq.pl.nhood_enrichment(model.adata, cluster_key=sub_cell_type_key)"
   ]
  },
  {
   "cell_type": "code",
   "execution_count": null,
   "id": "17283074-fd65-44d7-a80e-2f16f664d035",
   "metadata": {},
   "outputs": [],
   "source": [
    "print([[zscore, cell_type] for zscore, cell_type in sorted(\n",
    "        zip(model.adata.uns[f\"{sub_cell_type_key}_nhood_enrichment\"][\"zscore\"][15], cell_types), reverse=True)][:3])"
   ]
  },
  {
   "cell_type": "code",
   "execution_count": null,
   "id": "fdf1cc3a-967e-481d-a148-cb300ba22570",
   "metadata": {},
   "outputs": [],
   "source": [
    "enrichment_dict = {f\"{i}\":{\n",
    "    cell_type: zscore for zscore, cell_type in sorted(\n",
    "        zip(model.adata.uns[f\"{sub_cell_type_key}_nhood_enrichment\"][\"zscore\"][15 + i], cell_types), reverse=True)} for i in range(4)}\n",
    "\n",
    "enrichment_df = pd.DataFrame(enrichment_dict)"
   ]
  },
  {
   "cell_type": "code",
   "execution_count": null,
   "id": "32aaffc5-bdc3-4802-836f-6c59ae6971cd",
   "metadata": {},
   "outputs": [],
   "source": [
    "top_gps = [model.adata.uns[f\"autotalker_latent_cluster_{latent_cluster}_differential_gp_scores\"][\"gene_program\"][:n_top_up_gps].tolist() + \n",
    "           model.adata.uns[f\"autotalker_latent_cluster_{latent_cluster}_differential_gp_scores\"][\"gene_program\"][-n_top_down_gps:].tolist()\n",
    "           for latent_cluster in [cell_type_latent_cluster for cell_type_latent_cluster in model.adata.obs[cell_type_latent_cluster_key].unique().tolist() if str(cell_type_latent_cluster) != \"nan\"]]\n",
    "\n",
    "top_gps = [gp for gp_list in top_gps for gp in gp_list]\n",
    "\n",
    "for gp in top_gps:\n",
    "    cell_type_adata.obs[gp] = model.adata.obs.loc[model.adata.obs[cell_type_latent_cluster_key].notnull(), gp]"
   ]
  },
  {
   "cell_type": "code",
   "execution_count": null,
   "id": "5549da29-5a78-4e8e-9015-c701052526b3",
   "metadata": {},
   "outputs": [],
   "source": [
    "cell_type_adata.var_names"
   ]
  },
  {
   "cell_type": "code",
   "execution_count": null,
   "id": "b3ade08d-ce1f-4046-9e8e-2ee8c2b2f4e0",
   "metadata": {},
   "outputs": [],
   "source": [
    "type(fig)"
   ]
  },
  {
   "cell_type": "code",
   "execution_count": null,
   "id": "0cca5689-7684-4ff5-9fc8-cd983c4d258b",
   "metadata": {},
   "outputs": [],
   "source": [
    "    spec = gridspec.GridSpec(ncols=1,\n",
    "                             nrows=2,\n",
    "                             width_ratios=[1],\n",
    "                             height_ratios=[1, 5])"
   ]
  },
  {
   "cell_type": "code",
   "execution_count": null,
   "id": "d94bdb4c-0b25-41cb-b1d4-d30db0ceeb5c",
   "metadata": {},
   "outputs": [],
   "source": [
    "axs = sc.pl.heatmap(cell_type_adata,\n",
    "                   top_gps,\n",
    "                   groupby=cell_type_latent_cluster_key,\n",
    "                   cmap=\"viridis\",\n",
    "                   dendrogram=True,\n",
    "                   swap_axes=True,\n",
    "                   figsize=(12, 12),\n",
    "                   show=False)\n",
    "fig = axs[\"heatmap_ax\"].get_figure()\n",
    "fig.subplots_adjust(left=0.4)\n",
    "spec = matplotlib.gridspec.GridSpec(ncols=2, nrows=1, right=2.2)\n",
    "ax2 = fig.add_subplot(spec[1])\n",
    "sns.heatmap(enrichment_df, annot=True, fmt=\".2f\", cmap=\"viridis\", ax=ax2)\n",
    "ax2.set_title(\"Neighborhood enrichments\")"
   ]
  },
  {
   "cell_type": "code",
   "execution_count": null,
   "id": "7b7a842b-56b2-4d33-b3b5-2b17ba75ab2e",
   "metadata": {},
   "outputs": [],
   "source": [
    "axs"
   ]
  },
  {
   "cell_type": "code",
   "execution_count": null,
   "id": "66d67407-74ef-4d21-889d-d101196ea7c1",
   "metadata": {},
   "outputs": [],
   "source": []
  },
  {
   "cell_type": "code",
   "execution_count": null,
   "id": "e026757f-28ee-40bb-a7f6-840227098aa8",
   "metadata": {},
   "outputs": [],
   "source": [
    "\n",
    "# create axes within this new gridspec\n"
   ]
  },
  {
   "cell_type": "code",
   "execution_count": null,
   "id": "fcc1c7ad-f413-4ecf-bc1c-bcac0d252f2d",
   "metadata": {},
   "outputs": [],
   "source": [
    "ax2"
   ]
  },
  {
   "cell_type": "code",
   "execution_count": null,
   "id": "7c41c084-f066-4bba-84a9-33d3a27869a5",
   "metadata": {},
   "outputs": [],
   "source": [
    "# fig, axs = plt.subplots(1, 2, figsize=(10, 10))\n",
    "sns.heatmap(enrichment_df, annot=True, ax=ax2)\n",
    "ax2.set_title(\"Neighborhood enrichments\")"
   ]
  },
  {
   "cell_type": "code",
   "execution_count": null,
   "id": "bfc3cd08-8443-4fc8-8883-88022a31064f",
   "metadata": {},
   "outputs": [],
   "source": [
    "fig"
   ]
  },
  {
   "cell_type": "markdown",
   "id": "39593ae6-cefc-411a-a780-aaf1a122e933",
   "metadata": {},
   "source": [
    "### 3.3 Forebrain/Midbrain/Hindbrain"
   ]
  },
  {
   "cell_type": "markdown",
   "id": "5f450881-ac51-4c7e-bf61-4e9055381c7f",
   "metadata": {},
   "source": [
    "- Regionally specific developing brain subtypes: separation into Rhombencephalon, Tegmentum, Mesencephalon, Prosencephalon"
   ]
  },
  {
   "cell_type": "code",
   "execution_count": null,
   "id": "f962bae7-1b93-44eb-bb3d-11f450024c4c",
   "metadata": {},
   "outputs": [],
   "source": [
    "cell_type = \"Forebrain/Midbrain/Hindbrain\"\n",
    "cell_type_latent_resolution = 0.07\n",
    "cell_type_latent_cluster_key = f\"{cell_type}_latent_leiden_{cell_type_latent_resolution}\"\n",
    "cell_type_latent_cluster_emphasis_key = f\"{cell_type_latent_cluster_key}_emphasis\"\n",
    "cell_type_differential_gp_scores_key = f\"{cell_type}_differential_gp_scores\""
   ]
  },
  {
   "cell_type": "code",
   "execution_count": null,
   "id": "03c6933a-7182-4458-a4f5-ff35ebc5e9c4",
   "metadata": {},
   "outputs": [],
   "source": [
    "plot_physical_latent_for_cell_types(adata=model.adata,\n",
    "                                    cell_types=[\"Forebrain/Midbrain/Hindbrain\"],\n",
    "                                    save_fig=False)"
   ]
  },
  {
   "cell_type": "code",
   "execution_count": null,
   "id": "73f3553c-e090-402e-a8ac-508af188eff1",
   "metadata": {},
   "outputs": [],
   "source": [
    "cell_type_adata = model.adata[model.adata.obs[cell_type_key] == cell_type]"
   ]
  },
  {
   "cell_type": "code",
   "execution_count": null,
   "id": "c0561582-debe-45f4-95bc-3bc7e369cba2",
   "metadata": {},
   "outputs": [],
   "source": [
    "# Compute latent nearest neighbor graph for cell type only\n",
    "sc.pp.neighbors(cell_type_adata,\n",
    "                use_rep=latent_key,\n",
    "                key_added=f\"{cell_type.replace('/', '_').lower()}_latent_knng\")\n",
    "\n",
    "# Compute latent Leiden clustering for cell type\n",
    "sc.tl.leiden(adata=cell_type_adata,\n",
    "             resolution=cell_type_latent_resolution,\n",
    "             random_state=random_seed,\n",
    "             key_added=cell_type_latent_cluster_key,\n",
    "             adjacency=cell_type_adata.obsp[f\"{cell_type.replace('/', '_').lower()}_latent_knng_connectivities\"])\n",
    "\n",
    "# Use cell type latent space for UMAP generation\n",
    "sc.tl.umap(cell_type_adata,\n",
    "           neighbors_key=f\"{cell_type.replace('/', '_').lower()}_latent_knng\")"
   ]
  },
  {
   "cell_type": "code",
   "execution_count": null,
   "id": "a3fae104-238c-41ca-9384-4d4938f7e733",
   "metadata": {},
   "outputs": [],
   "source": [
    "model.adata.obs[cell_type_latent_cluster_key] = np.nan\n",
    "model.adata.obs.loc[model.adata.obs[cell_type_key] == cell_type,\n",
    "                    cell_type_latent_cluster_key] = cell_type_adata.obs[cell_type_latent_cluster_key]"
   ]
  },
  {
   "cell_type": "code",
   "execution_count": null,
   "id": "f93a42ff-a5cf-4f20-9a52-2d031ec573b3",
   "metadata": {},
   "outputs": [],
   "source": [
    "plot_latent_physical_for_cell_type_latent_clusters(adata=model.adata,\n",
    "                                                   cell_type=\"Forebrain/Midbrain/Hindbrain\",\n",
    "                                                   save_fig=True)"
   ]
  },
  {
   "cell_type": "markdown",
   "id": "241a509a-536e-4872-b54c-b7e4e932c445",
   "metadata": {},
   "source": [
    "#### Latent Cluster 0"
   ]
  },
  {
   "cell_type": "code",
   "execution_count": null,
   "id": "4a9f72b4-e125-44ae-9510-7e72615bf7c4",
   "metadata": {},
   "outputs": [],
   "source": [
    "selected_cats = [\"0\"]\n",
    "comparison_cats = [\"1\", \"2\", \"3\", \"4\"]\n",
    "\n",
    "model.adata.obs[cell_type_latent_cluster_emphasis_key] = model.adata.obs.apply(\n",
    "    lambda row: add_cell_type_latent_cluster_emphasis(row, comparison_cats), axis=1)\n",
    "model.adata.obs[cell_type_latent_cluster_emphasis_key] = model.adata.obs[cell_type_latent_cluster_emphasis_key].astype(\"category\")"
   ]
  },
  {
   "cell_type": "code",
   "execution_count": null,
   "id": "aa35cc75-1ee0-45a9-a04d-fa48110af336",
   "metadata": {},
   "outputs": [],
   "source": [
    "get_differential_analysis_results(analysis_label=\"forebrain_midbrain_hindbrain_latent_cluster\",\n",
    "                                  model=model,\n",
    "                                  adata=model.adata,\n",
    "                                  cat_key=cell_type_latent_cluster_key,\n",
    "                                  selected_cats=selected_cats,\n",
    "                                  differential_gp_scores_key=latent_cluster_differential_gp_scores_key,\n",
    "                                  comparison_cats=comparison_cats,\n",
    "                                  plot_category=cell_type_latent_cluster_emphasis_key,\n",
    "                                  selected_gps=None,\n",
    "                                  n_top_up_gps=3,\n",
    "                                  n_top_down_gps=3,\n",
    "                                  feature_spaces=[\"latent\"], # \"physical_embryo1\", \"physical_embryo2\", \"physical_embryo3\"\n",
    "                                  save_figs=False)"
   ]
  },
  {
   "cell_type": "markdown",
   "id": "1e0162cc-d9cb-443b-b95c-240cf5b6ec89",
   "metadata": {},
   "source": [
    "#### Latent Cluster 1"
   ]
  },
  {
   "cell_type": "code",
   "execution_count": null,
   "id": "a5f412b0-14ec-4c01-a834-c765f5dd9b9a",
   "metadata": {},
   "outputs": [],
   "source": [
    "selected_cats = [\"1\"]\n",
    "comparison_cats = [\"0\", \"2\", \"3\", \"4\"]\n",
    "\n",
    "model.adata.obs[cell_type_latent_cluster_emphasis_key] = model.adata.obs.apply(\n",
    "    lambda row: add_cell_type_latent_cluster_emphasis(row, comparison_cats), axis=1)\n",
    "model.adata.obs[cell_type_latent_cluster_emphasis_key] = model.adata.obs[cell_type_latent_cluster_emphasis_key].astype(\"category\")"
   ]
  },
  {
   "cell_type": "code",
   "execution_count": null,
   "id": "618619d4-5d00-4097-a125-1bca7d1c3ecd",
   "metadata": {},
   "outputs": [],
   "source": [
    "get_differential_analysis_results(analysis_label=\"forebrain_midbrain_hindbrain_latent_cluster\",\n",
    "                                  model=model,\n",
    "                                  adata=model.adata,\n",
    "                                  cat_key=cell_type_latent_cluster_key,\n",
    "                                  selected_cats=selected_cats,\n",
    "                                  differential_gp_scores_key=latent_cluster_differential_gp_scores_key,\n",
    "                                  comparison_cats=comparison_cats,\n",
    "                                  plot_category=cell_type_latent_cluster_emphasis_key,\n",
    "                                  selected_gps=None,\n",
    "                                  n_top_up_gps=3,\n",
    "                                  n_top_down_gps=3,\n",
    "                                  feature_spaces=[\"latent\"], # \"physical_embryo1\", \"physical_embryo2\", \"physical_embryo3\"\n",
    "                                  save_figs=False)"
   ]
  },
  {
   "cell_type": "markdown",
   "id": "b58a2a95-54f4-464a-97b4-e7e96037ad93",
   "metadata": {},
   "source": [
    "#### Latent Cluster 2"
   ]
  },
  {
   "cell_type": "code",
   "execution_count": null,
   "id": "e79c67cd-43c4-4803-a08e-ca32960d4117",
   "metadata": {},
   "outputs": [],
   "source": [
    "selected_cats = [\"2\"]\n",
    "comparison_cats = [\"0\", \"1\", \"3\", \"4\"]\n",
    "\n",
    "model.adata.obs[cell_type_latent_cluster_emphasis_key] = model.adata.obs.apply(\n",
    "    lambda row: add_cell_type_latent_cluster_emphasis(row, comparison_cats), axis=1)\n",
    "model.adata.obs[cell_type_latent_cluster_emphasis_key] = model.adata.obs[cell_type_latent_cluster_emphasis_key].astype(\"category\")"
   ]
  },
  {
   "cell_type": "code",
   "execution_count": null,
   "id": "403d773c-a0ea-4050-bb49-506892e117cf",
   "metadata": {},
   "outputs": [],
   "source": [
    "get_differential_analysis_results(analysis_label=\"forebrain_midbrain_hindbrain_latent_cluster\",\n",
    "                                  model=model,\n",
    "                                  adata=model.adata,\n",
    "                                  cat_key=cell_type_latent_cluster_key,\n",
    "                                  selected_cats=selected_cats,\n",
    "                                  differential_gp_scores_key=latent_cluster_differential_gp_scores_key,\n",
    "                                  comparison_cats=comparison_cats,\n",
    "                                  plot_category=cell_type_latent_cluster_emphasis_key,\n",
    "                                  selected_gps=None,\n",
    "                                  n_top_up_gps=3,\n",
    "                                  n_top_down_gps=3,\n",
    "                                  feature_spaces=[\"latent\"], # \"physical_embryo1\", \"physical_embryo2\", \"physical_embryo3\"\n",
    "                                  save_figs=False)"
   ]
  },
  {
   "cell_type": "markdown",
   "id": "9dd7d984-e7e9-4b17-b1b0-bb75b88c3282",
   "metadata": {},
   "source": [
    "#### Latent Cluster 3"
   ]
  },
  {
   "cell_type": "code",
   "execution_count": null,
   "id": "c7f95a5f-b471-4052-b310-35f9937a6baf",
   "metadata": {},
   "outputs": [],
   "source": [
    "selected_cats = [\"3\"]\n",
    "comparison_cats = [\"0\", \"1\", \"2\", \"4\"]\n",
    "\n",
    "model.adata.obs[cell_type_latent_cluster_emphasis_key] = model.adata.obs.apply(\n",
    "    lambda row: add_cell_type_latent_cluster_emphasis(row, comparison_cats), axis=1)\n",
    "model.adata.obs[cell_type_latent_cluster_emphasis_key] = model.adata.obs[cell_type_latent_cluster_emphasis_key].astype(\"category\")"
   ]
  },
  {
   "cell_type": "code",
   "execution_count": null,
   "id": "4b6995eb-f4e1-41c3-8f29-9a68cc85dae4",
   "metadata": {},
   "outputs": [],
   "source": [
    "get_differential_analysis_results(analysis_label=\"forebrain_midbrain_hindbrain_latent_cluster\",\n",
    "                                  model=model,\n",
    "                                  adata=model.adata,\n",
    "                                  cat_key=cell_type_latent_cluster_key,\n",
    "                                  selected_cats=selected_cats,\n",
    "                                  differential_gp_scores_key=latent_cluster_differential_gp_scores_key,\n",
    "                                  comparison_cats=comparison_cats,\n",
    "                                  plot_category=cell_type_latent_cluster_emphasis_key,\n",
    "                                  selected_gps=None,\n",
    "                                  n_top_up_gps=3,\n",
    "                                  n_top_down_gps=3,\n",
    "                                  feature_spaces=[\"latent\"], # \"physical_embryo1\", \"physical_embryo2\", \"physical_embryo3\"\n",
    "                                  save_figs=False)"
   ]
  },
  {
   "cell_type": "markdown",
   "id": "6272ef78-f239-4d97-8fec-68c09e004f85",
   "metadata": {},
   "source": [
    "### 3.4 Gut Tube"
   ]
  },
  {
   "cell_type": "code",
   "execution_count": null,
   "id": "d245331c-6c2d-429a-9903-51850a34261f",
   "metadata": {},
   "outputs": [],
   "source": [
    "cell_type = \"Gut tube\"\n",
    "cell_type_latent_resolution = 0.04"
   ]
  },
  {
   "cell_type": "code",
   "execution_count": null,
   "id": "7462fb04-ce36-4272-bad0-4e63b0769f83",
   "metadata": {},
   "outputs": [],
   "source": [
    "plot_physical_latent_for_cell_types(adata=model.adata,\n",
    "                                    cell_types=[cell_type],\n",
    "                                    save_fig=True)"
   ]
  },
  {
   "cell_type": "code",
   "execution_count": null,
   "id": "81fa2002-e5ed-4050-bc08-ca615114a090",
   "metadata": {},
   "outputs": [],
   "source": [
    "cell_type_adata = model.adata[model.adata.obs[cell_type_key] == cell_type.replace(\"_\", \" \").capitalize()]"
   ]
  },
  {
   "cell_type": "code",
   "execution_count": null,
   "id": "c72a4ad0-d758-419d-8571-31a77ecd54d6",
   "metadata": {},
   "outputs": [],
   "source": [
    "# Compute latent nearest neighbor graph for cell type only\n",
    "sc.pp.neighbors(cell_type_adata,\n",
    "                use_rep=latent_key,\n",
    "                key_added=f\"{cell_type}_latent_knng\")\n",
    "\n",
    "# Compute latent Leiden clustering for cell type\n",
    "sc.tl.leiden(adata=cell_type_adata,\n",
    "             resolution=cell_type_latent_resolution,\n",
    "             random_state=random_seed,\n",
    "             key_added=cell_type_latent_cluster_key,\n",
    "             adjacency=cell_type_adata.obsp[f\"{cell_type}_latent_knng_connectivities\"])\n",
    "\n",
    "# Use cell type latent space for UMAP generation\n",
    "sc.tl.umap(cell_type_adata,\n",
    "           neighbors_key=f\"{cell_type}_latent_knng\")"
   ]
  },
  {
   "cell_type": "code",
   "execution_count": null,
   "id": "25b11185-b7bb-43bf-b020-6b84dc7241d5",
   "metadata": {},
   "outputs": [],
   "source": [
    "model.adata.obs[cell_type_latent_cluster_key] = np.nan\n",
    "model.adata.obs.loc[model.adata.obs[cell_type_key] == cell_type.replace(\"_\", \" \").capitalize(),\n",
    "                    cell_type_latent_cluster_key] = cell_type_adata.obs[cell_type_latent_cluster_key]"
   ]
  },
  {
   "cell_type": "code",
   "execution_count": null,
   "id": "1640cd88-0b90-408e-b173-1d062900bf17",
   "metadata": {},
   "outputs": [],
   "source": [
    "plot_latent_physical_for_cell_type_latent_clusters(adata=model.adata,\n",
    "                                                   cell_type=\"mixed_mesenchymal_mesoderm\",\n",
    "                                                   save_fig=False)"
   ]
  },
  {
   "cell_type": "markdown",
   "id": "0e9a93ad-7216-41de-be26-1c8f0d097c1c",
   "metadata": {},
   "source": [
    "Dorsal-ventral separation of esophageal and tracheal progenitor populations in the gut tube (not visible in scVI latent space)."
   ]
  },
  {
   "cell_type": "markdown",
   "id": "36314dbb-7a56-4e6c-948f-cee2247ecb9e",
   "metadata": {},
   "source": [
    "Dorsal-ventral and rostral-caudal spatially resolved patterns of the midbrain and hindbrain region."
   ]
  }
 ],
 "metadata": {
  "kernelspec": {
   "display_name": "Python 3 (ipykernel)",
   "language": "python",
   "name": "python3"
  },
  "language_info": {
   "codemirror_mode": {
    "name": "ipython",
    "version": 3
   },
   "file_extension": ".py",
   "mimetype": "text/x-python",
   "name": "python",
   "nbconvert_exporter": "python",
   "pygments_lexer": "ipython3",
   "version": "3.9.15"
  }
 },
 "nbformat": 4,
 "nbformat_minor": 5
}
