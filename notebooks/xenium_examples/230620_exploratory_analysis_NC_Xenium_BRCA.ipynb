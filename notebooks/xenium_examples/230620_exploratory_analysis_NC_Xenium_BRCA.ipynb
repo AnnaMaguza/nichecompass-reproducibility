{
 "cells": [
  {
   "attachments": {},
   "cell_type": "markdown",
   "metadata": {},
   "source": [
    "### Notebook for the `NicheCompass` exploratory analysis of 10X Genomics Xenium for BRCA  \n",
    "\n",
    "- **Developed by**: Carlos Talavera-López Ph.D\n",
    "- **Würzburg Institute for Systems Immunology (WüSI) & Julius-Maximilian-Universität Würzburg**\n",
    "- **Created**: 230620\n",
    "- **Last modified**: 230621"
   ]
  },
  {
   "attachments": {},
   "cell_type": "markdown",
   "metadata": {},
   "source": [
    "### Load required packages"
   ]
  },
  {
   "cell_type": "code",
   "execution_count": null,
   "metadata": {},
   "outputs": [],
   "source": [
    "import numpy as np\n",
    "import scanpy as sc\n",
    "import pandas as pd\n",
    "import squidpy as sq\n",
    "import seaborn as sns\n",
    "import matplotlib.pyplot as plt\n",
    "import plotly.graph_objects as go"
   ]
  },
  {
   "attachments": {},
   "cell_type": "markdown",
   "metadata": {},
   "source": [
    "### Set up wortking environment "
   ]
  },
  {
   "cell_type": "code",
   "execution_count": null,
   "metadata": {},
   "outputs": [],
   "source": [
    "sc.settings.verbosity = 3\n",
    "sc.logging.print_versions()\n",
    "sc.settings.set_figure_params(dpi = 160, color_map = 'magma', dpi_save = 300, vector_friendly = True, format = 'svg', fontsize = 8)"
   ]
  },
  {
   "cell_type": "code",
   "execution_count": null,
   "metadata": {},
   "outputs": [],
   "source": [
    "color_palette = sns.color_palette(\"Paired\", 26)"
   ]
  },
  {
   "attachments": {},
   "cell_type": "markdown",
   "metadata": {},
   "source": [
    "### Read in Xenium dataset"
   ]
  },
  {
   "cell_type": "code",
   "execution_count": null,
   "metadata": {},
   "outputs": [],
   "source": [
    "adata = sc.read(\"../../datasets/xenium/xenium_human_breast_cancer.h5ad\")\n",
    "adata"
   ]
  },
  {
   "cell_type": "raw",
   "metadata": {},
   "source": [
    "sq.pl.spatial_scatter(\n",
    "    adata,\n",
    "    library_id = \"spatial\",\n",
    "    shape = None,\n",
    "    color = [\n",
    "        \"cell_states\",\n",
    "        \"latent_leiden_0.2\",\n",
    "        \"DEFB1_ligand_receptor_target_gene_GP\",\n",
    "        \"VEGFC_ligand_receptor_target_gene_GP\",\n",
    "        \"IFNA1_ligand_receptor_target_gene_GP\",\n",
    "        \"LAMA2_ligand_receptor_target_gene_GP\",\n",
    "        \"CD40LG_ligand_receptor_target_gene_GP\",\n",
    "        \"Phosphate_metabolite_enzyme_sensor_GP\",\n",
    "        \"Pyruvic acid_metabolite_enzyme_sensor_GP\",\n",
    "        \"LY6G5C_ligand_receptor_target_gene_GP\",\n",
    "        \"CD99_ligand_receptor_target_gene_GP\",\n",
    "        \"SEMA6D_ligand_receptor_target_gene_GP\",\n",
    "        \"KCNA1_ligand_receptor_target_gene_GP\"\n",
    "    ], frameon = False,\n",
    "    legend_fontsize = 6,\n",
    "    figsize = (7,7),\n",
    "    ncols = 3,\n",
    "    cmap = 'PuOr_r'\n",
    ")"
   ]
  },
  {
   "cell_type": "code",
   "execution_count": null,
   "metadata": {},
   "outputs": [],
   "source": [
    "sq.pl.spatial_scatter(\n",
    "    adata,\n",
    "    library_id = \"spatial\",\n",
    "    shape = None,\n",
    "    color = [\n",
    "        \"cell_states\",\n",
    "        \"latent_leiden_0.2\",\n",
    "        \"NODAL_ligand_receptor_target_gene_GP\",\n",
    "        \"LAMA2_ligand_receptor_target_gene_GP\",\n",
    "        \"VEGFC_ligand_receptor_target_gene_GP\",\n",
    "        \"NELL2_ligand_receptor_target_gene_GP\"\n",
    "    ], frameon = False,\n",
    "    legend_fontsize = 6,\n",
    "    figsize = (7,7),\n",
    "    ncols = 3,\n",
    "    cmap = 'PuOr_r'\n",
    ")"
   ]
  },
  {
   "attachments": {},
   "cell_type": "markdown",
   "metadata": {},
   "source": [
    "### Investigate active GPs"
   ]
  },
  {
   "cell_type": "code",
   "execution_count": null,
   "metadata": {},
   "outputs": [],
   "source": [
    "adata.uns['nichecompass_active_gp_names'].shape"
   ]
  },
  {
   "cell_type": "code",
   "execution_count": null,
   "metadata": {},
   "outputs": [],
   "source": [
    "LAMA2 = ['IGSF6', 'FCER1A', 'CLCA2', 'MMP12', 'VWF', 'TAC1', 'LEP', 'POSTN', 'ITGAX', 'GATA3']\n",
    "sc.pl.stacked_violin(adata, LAMA2, groupby = 'cell_states', cmap = 'magma')"
   ]
  },
  {
   "cell_type": "code",
   "execution_count": null,
   "metadata": {},
   "outputs": [],
   "source": [
    "VEGFC = ['ESM1', 'KDR', 'CLDN5', 'RAMP2', 'CCL8', 'ANGPT2', 'CD19', 'CCL20', 'LTB', 'TOP2A', 'PDK4', 'KLF5', 'CYP1A1', 'APOBEC3B', 'FASN', 'TRIB1', 'STC1']\n",
    "sc.pl.stacked_violin(adata, VEGFC, groupby = 'cell_states', cmap = 'magma')"
   ]
  },
  {
   "cell_type": "code",
   "execution_count": null,
   "metadata": {},
   "outputs": [],
   "source": [
    "CD80 = ['CD274', 'CCR7', 'CTLA4', 'ELF3', 'PRF1', 'AR', 'SCD', 'CD69', 'EDN1', 'MMP2', 'IL7R', 'LIF', 'PPARG', 'TRIB1', 'CCL20', 'MMP1', 'CAV1', 'PRDM1', 'DUSP5', 'KLF5', 'CCND1', 'CCL5', 'CXCR4', 'PIM1', 'KRT15', 'ESR1', 'FASN', 'CDH1', 'IL2RA', 'CYP1A1', 'GATA3', 'MDM2', 'EGFR']\n",
    "sc.pl.stacked_violin(adata, CD80, groupby = 'cell_states', cmap = 'magma')"
   ]
  },
  {
   "attachments": {},
   "cell_type": "markdown",
   "metadata": {},
   "source": [
    "### Create a plot for Niche composition"
   ]
  },
  {
   "cell_type": "code",
   "execution_count": null,
   "metadata": {},
   "outputs": [],
   "source": [
    "adata"
   ]
  },
  {
   "cell_type": "code",
   "execution_count": null,
   "metadata": {},
   "outputs": [],
   "source": [
    "adata.obs['cell_states'].cat.categories"
   ]
  },
  {
   "cell_type": "code",
   "execution_count": null,
   "metadata": {},
   "outputs": [],
   "source": [
    "trans_from=[['Epi_ABCC11+', 'Epi_FOXA1+', 'Epi_AGR3+', 'Epi_CENPF+', 'mgEpi_KRT14+', 'Epi_KRT14+'],['EC_CLEC14A+', 'EC_CAVIN2+'],['adipo_FB', 'GJB2+iKC-FB'],['EMT-Epi1_CEACAM6+', 'EMT-Epi2_CEACAM6+', 'EMT-Epi_SERPINA3+', 'EMT-Epi_KRT23+'],['DERL3+B', 'BANK1+B', 'B'],['eff_CD8+T1', 'eff_CD8+T2',],['tcm_CD4+T', 'CD161+FOXP3+T'],['NK/T'],['ADIPOQ+Mast'],['M2MØ', 'MMP12+miMØ'], ['DC1']]\n",
    "trans_to = ['Epithelial', 'Endothelial', 'Fibroblast', 'EMT-Epi', 'B_cells', 'CD8+T', 'CD4+T', 'NK/T', 'Mast', 'MØ', 'DC']\n",
    "\n",
    "adata.obs['cell_type'] = [str(i) for i in adata.obs['cell_states']]\n",
    "for leiden,celltype in zip(trans_from, trans_to):\n",
    "    for leiden_from in leiden:\n",
    "        adata.obs['cell_type'][adata.obs['cell_type'] == leiden_from] = celltype"
   ]
  },
  {
   "cell_type": "code",
   "execution_count": null,
   "metadata": {},
   "outputs": [],
   "source": [
    "adata.obs['cell_type'] = adata.obs['cell_type'].astype('category')\n",
    "adata.obs['cell_type'].cat.categories"
   ]
  },
  {
   "cell_type": "code",
   "execution_count": null,
   "metadata": {},
   "outputs": [],
   "source": [
    "latent_leiden_0.2latent_cluster_key = '' \n",
    "cell_type_key = 'cell_type'\n",
    "\n",
    "df_counts = (adata.obs.groupby([latent_cluster_key, cell_type_key])\n",
    "             .size().unstack())\n",
    "df_counts.plot(kind = \"bar\", stacked = True, figsize = (10,10), color = color_palette)  # Assign the created color palette\n",
    "legend = plt.legend(bbox_to_anchor = (1, 1), loc = \"upper left\", prop ={'size': 10})\n",
    "legend.set_title(\"Cell Type Annotations\", prop = {'size': 10})\n",
    "plt.title(\"Cell Type Composition of Niches\")\n",
    "plt.xlabel(\"Niche\")\n",
    "plt.ylabel(\"Cell Type Counts\")"
   ]
  },
  {
   "cell_type": "code",
   "execution_count": null,
   "metadata": {},
   "outputs": [],
   "source": [
    "df_perc = df_counts.divide(df_counts.sum(axis=1), axis=0) * 100\n",
    "\n",
    "ax = df_perc.plot(kind = \"bar\", stacked = True, figsize = (12,7), color = color_palette, width = 0.9)\n",
    "legend = plt.legend(bbox_to_anchor = (1, 1), loc = \"upper left\", prop ={'size': 10})\n",
    "legend.set_title(\"Cell Types\", prop = {'size': 10})\n",
    "plt.title(\"Cell Type Composition of Niches (Percentage)\")\n",
    "plt.xlabel(\"Niche\")\n",
    "plt.ylabel(\"Cell Type Percentage\")\n",
    "\n",
    "# Remove grid\n",
    "plt.grid(False)\n",
    "\n",
    "# Add the text in the center\n",
    "def label_formatter(x):\n",
    "    return f'{x:.1f}%' if x > 1.1 else ''\n",
    "\n",
    "for p in ax.containers:\n",
    "    ax.bar_label(p, label_type='center', labels=[label_formatter(x) for x in p.datavalues], fontsize=7)\n",
    "\n",
    "plt.show()"
   ]
  },
  {
   "attachments": {},
   "cell_type": "markdown",
   "metadata": {},
   "source": [
    "- Show active GPs"
   ]
  },
  {
   "cell_type": "code",
   "execution_count": null,
   "metadata": {},
   "outputs": [],
   "source": [
    "adata"
   ]
  },
  {
   "cell_type": "code",
   "execution_count": null,
   "metadata": {},
   "outputs": [],
   "source": [
    "gp_names_key = 'nichecompass_active_gp_names'\n",
    "print(f\"Number of total gene programs: {len(adata.uns[gp_names_key])}.\")\n",
    "#print(f\"Number of active gene programs: {len(active_gps)}.\")"
   ]
  },
  {
   "cell_type": "code",
   "execution_count": null,
   "metadata": {},
   "outputs": [],
   "source": [
    "adata.uns[gp_names_key]"
   ]
  },
  {
   "cell_type": "code",
   "execution_count": null,
   "metadata": {},
   "outputs": [],
   "source": [
    "adata.uns[\"nichecompass_differential_gp_test_results\"]"
   ]
  },
  {
   "cell_type": "code",
   "execution_count": null,
   "metadata": {},
   "outputs": [],
   "source": [
    "# Start by creating a mapping between cells and gene programmes\n",
    "cell_gp_mapping = []\n",
    "\n",
    "# For each cell, we will look up its cell type / cluster and gene programme\n",
    "for i, cell in enumerate(adata.obs.index):\n",
    "    cell_type = adata.obs.loc[cell, 'cell_type']\n",
    "    spatial_cluster = adata.obs.loc[cell, 'latent_leiden_0.2']\n",
    "\n",
    "    if i < len(adata.uns[gp_names_key]):  # Make sure we are not going out of bounds\n",
    "        gene_programme = adata.uns[gp_names_key][i]\n",
    "        cell_gp_mapping.append((cell_type, spatial_cluster, gene_programme))\n",
    "\n",
    "# Convert the mapping to a dataframe\n",
    "df = pd.DataFrame(cell_gp_mapping, columns=['Cell_Type', 'Spatial_Cluster', 'Gene_Programme'])\n",
    "\n",
    "# Now, we create a pivot table that counts the number of times each combination appears\n",
    "df_pivot = pd.pivot_table(df, index=['Cell_Type', 'Spatial_Cluster'], columns='Gene_Programme', aggfunc=len, fill_value=0)\n",
    "\n",
    "# Next, we transform the pivot table into a format suitable for a Sankey diagram\n",
    "sources = []\n",
    "targets = []\n",
    "counts = []\n",
    "\n",
    "# Iterate over the MultiIndexed DataFrame\n",
    "for i in df_pivot.index:\n",
    "    # Each row represents a unique combination of cell type and spatial cluster\n",
    "    cell_type, spatial_cluster = i\n",
    "    \n",
    "    # Each column in the row represents a unique gene programme\n",
    "    for gene_programme in df_pivot.columns:\n",
    "        sources.append(f\"{cell_type}_{spatial_cluster}\")\n",
    "        targets.append(gene_programme)\n",
    "        counts.append(df_pivot.loc[i, gene_programme])\n",
    "\n",
    "# Now, we can create the Sankey diagram using plotly\n",
    "fig = go.Figure(data=[go.Sankey(\n",
    "    node=dict(\n",
    "        label=list(set(sources+targets)),  # The labels are the unique sources followed by the unique targets\n",
    "        color='blue'  # Set the color (optional)\n",
    "    ),\n",
    "    link=dict(\n",
    "        source=[sources.index(s) for s in sources],  # The source indices\n",
    "        target=[len(sources)+targets.index(t) for t in targets],  # The target indices\n",
    "        value=counts  # The counts\n",
    "    )\n",
    ")])\n",
    "\n",
    "fig.show()"
   ]
  },
  {
   "cell_type": "code",
   "execution_count": null,
   "metadata": {},
   "outputs": [],
   "source": [
    "\n",
    "# Set up the matplotlib figure\n",
    "f, ax = plt.subplots(figsize = (16, 6))  # Change the size as needed\n",
    "\n",
    "# Draw the heatmap\n",
    "sns.heatmap(df_pivot, ax = ax)\n",
    "\n",
    "# Show the plot\n",
    "plt.show()"
   ]
  },
  {
   "attachments": {},
   "cell_type": "markdown",
   "metadata": {},
   "source": [
    "### Normalise data and tranform data"
   ]
  },
  {
   "cell_type": "code",
   "execution_count": null,
   "metadata": {},
   "outputs": [],
   "source": [
    "adata.layers[\"counts\"] = adata.X.copy()\n",
    "sc.pp.normalize_total(adata, inplace = True)\n",
    "sc.pp.log1p(adata)"
   ]
  },
  {
   "attachments": {},
   "cell_type": "markdown",
   "metadata": {},
   "source": [
    "### Visualise manifold"
   ]
  },
  {
   "cell_type": "code",
   "execution_count": null,
   "metadata": {},
   "outputs": [],
   "source": [
    "sc.pp.pca(adata, n_comps = 50, random_state = 1712)\n",
    "sc.pp.neighbors(adata, n_neighbors = 50, random_state = 1769, method = 'umap')\n",
    "sc.tl.leiden(adata, resolution = 2, random_state = 1786)\n",
    "sc.tl.umap(adata, min_dist = 0.3, spread = 2, random_state = 1789)"
   ]
  },
  {
   "cell_type": "code",
   "execution_count": null,
   "metadata": {},
   "outputs": [],
   "source": [
    "sc.pl.umap(\n",
    "    adata,\n",
    "    color = [\n",
    "        \"total_counts\",\n",
    "        \"n_genes_by_counts\",\n",
    "        \"leiden\",\n",
    "    ],\n",
    "    wspace = 0.4,\n",
    "    frameon = False, \n",
    "    size = 1\n",
    ")"
   ]
  },
  {
   "attachments": {},
   "cell_type": "markdown",
   "metadata": {},
   "source": [
    "### Characterise clusters"
   ]
  },
  {
   "cell_type": "code",
   "execution_count": null,
   "metadata": {},
   "outputs": [],
   "source": [
    "sc.tl.rank_genes_groups(adata, 'leiden', method = 'wilcoxon', n_genes = 100, use_raw = False)\n",
    "result = adata.uns['rank_genes_groups']\n",
    "groups = result['names'].dtype.names\n",
    "markers_cells = pd.DataFrame(\n",
    "    {group + '_' + key[:1]: result[key][group]\n",
    "    for group in groups for key in ['names', 'pvals_adj', 'logfoldchanges']})\n",
    "markers_cells.head(5)"
   ]
  },
  {
   "cell_type": "code",
   "execution_count": null,
   "metadata": {},
   "outputs": [],
   "source": [
    "markers_cells.to_csv('BRCA_Xenium_ALL_WilcoxRST_top100.csv', sep = ',', index = False)"
   ]
  },
  {
   "cell_type": "code",
   "execution_count": null,
   "metadata": {},
   "outputs": [],
   "source": [
    "adata.obs['leiden'].cat.categories"
   ]
  },
  {
   "cell_type": "code",
   "execution_count": null,
   "metadata": {},
   "outputs": [],
   "source": [
    "adata.obs['cell_states'] = adata.obs['leiden'].copy()\n",
    "adata.obs['cell_states'] = adata.obs['cell_states'].cat.rename_categories(['Epi_ABCC11+', 'EC_CLEC14A+', 'adipo_FB', 'tcm_CD4+T', 'CD161+FOXP3+T', 'eff_CD8+T1', 'ADIPOQ+Mast', 'Epi_FOXA1+', 'GJB2+iKC-FB', 'EMT-Epi1_CEACAM6+', 'DC1', \n",
    "                                                                           'M2MØ', 'Epi_AGR3+', 'Epi_CENPF+', 'mgEpi_KRT14+', 'DERL3+B', 'EMT-Epi2_CEACAM6+', 'EMT-Epi_SERPINA3+', 'BANK1+B', 'EMT-Epi_KRT23+', 'MMP12+miMØ',\n",
    "                                                                           'eff_CD8+T2', 'B', 'Epi_KRT14+', 'NK/T', 'EC_CAVIN2+'])\n",
    "sc.pl.umap(adata, color = ['cell_states'], size = 0.8, legend_fontsize = 6, legend_loc = 'on data', frameon = False)"
   ]
  },
  {
   "attachments": {},
   "cell_type": "markdown",
   "metadata": {},
   "source": [
    "### Split objects"
   ]
  },
  {
   "cell_type": "code",
   "execution_count": null,
   "metadata": {},
   "outputs": [],
   "source": [
    "adata_1_ann = adata[adata.obs['replicates'].isin(['Rep_1'])]\n",
    "adata_1_ann"
   ]
  },
  {
   "cell_type": "code",
   "execution_count": null,
   "metadata": {},
   "outputs": [],
   "source": [
    "sq.pl.spatial_scatter(\n",
    "    adata_1_ann,\n",
    "    library_id = \"spatial\",\n",
    "    shape = None,\n",
    "    color = [\n",
    "        \"cell_states\",\n",
    "    ],\n",
    "    wspace = 0.4,\n",
    "    frameon = False,\n",
    "    legend_fontsize = 6,\n",
    "    figsize = (7,7)\n",
    ")"
   ]
  },
  {
   "cell_type": "code",
   "execution_count": null,
   "metadata": {},
   "outputs": [],
   "source": [
    "adata_2_ann = adata[adata.obs['replicates'].isin(['Rep_2'])]\n",
    "adata_2_ann"
   ]
  },
  {
   "cell_type": "code",
   "execution_count": null,
   "metadata": {},
   "outputs": [],
   "source": [
    "sq.pl.spatial_scatter(\n",
    "    adata_2_ann,\n",
    "    library_id = \"spatial\",\n",
    "    shape = None,\n",
    "    color = [\n",
    "        \"cell_states\",\n",
    "    ],\n",
    "    wspace = 0.4,\n",
    "    frameon = False,\n",
    "    legend_fontsize = 6,\n",
    "    figsize = (7,7)\n",
    ")"
   ]
  },
  {
   "attachments": {},
   "cell_type": "markdown",
   "metadata": {},
   "source": [
    "### Export object"
   ]
  },
  {
   "cell_type": "code",
   "execution_count": null,
   "metadata": {},
   "outputs": [],
   "source": [
    "adata"
   ]
  },
  {
   "cell_type": "code",
   "execution_count": null,
   "metadata": {},
   "outputs": [],
   "source": [
    "adata_1_ann.write('../../datasets/xenium/Xenium_FFPE_Human_Breast_Cancer_Rep_1_annotated_ctl230619.h5ad')\n",
    "adata_2_ann.write('../../datasets/xenium/Xenium_FFPE_Human_Breast_Cancer_Rep_2_annotated_ctl230619.h5ad')"
   ]
  },
  {
   "cell_type": "code",
   "execution_count": null,
   "metadata": {},
   "outputs": [],
   "source": []
  }
 ],
 "metadata": {
  "kernelspec": {
   "display_name": "squidpy",
   "language": "python",
   "name": "python3"
  },
  "language_info": {
   "codemirror_mode": {
    "name": "ipython",
    "version": 3
   },
   "file_extension": ".py",
   "mimetype": "text/x-python",
   "name": "python",
   "nbconvert_exporter": "python",
   "pygments_lexer": "ipython3",
   "version": "3.9.16"
  },
  "orig_nbformat": 4
 },
 "nbformat": 4,
 "nbformat_minor": 2
}
