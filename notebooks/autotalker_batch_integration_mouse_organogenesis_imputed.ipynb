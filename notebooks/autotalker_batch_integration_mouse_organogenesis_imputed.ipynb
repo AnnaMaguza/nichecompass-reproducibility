{
 "cells": [
  {
   "cell_type": "markdown",
   "id": "1b1daabf-c8e3-43d4-aa32-9789abcc8619",
   "metadata": {},
   "source": [
    "# Autotalker Batch Integration Mouse Organogenesis Imputed"
   ]
  },
  {
   "cell_type": "markdown",
   "id": "c325d921-2077-42b3-90a8-6f6c7dd928c5",
   "metadata": {},
   "source": [
    "- **Creator**: Sebastian Birk (<sebastian.birk@helmholtz-munich.de>).\n",
    "- **Affiliation:** Helmholtz Munich, Institute of Computational Biology (ICB), Talavera-López Lab\n",
    "- **Date of Creation:** 20.01.2023\n",
    "- **Date of Last Modification:** 03.03.2023"
   ]
  },
  {
   "cell_type": "markdown",
   "id": "2d464ebf-354f-4f61-8040-c3dcbcc893b9",
   "metadata": {},
   "source": [
    "## 1. Setup"
   ]
  },
  {
   "cell_type": "markdown",
   "id": "d5631277-d8d2-4194-a376-280f4f149b7d",
   "metadata": {},
   "source": [
    "### 1.1 Import Libraries"
   ]
  },
  {
   "cell_type": "code",
   "execution_count": 1,
   "id": "4e5d3297-0290-47c0-846f-705e74cdb3de",
   "metadata": {},
   "outputs": [],
   "source": [
    "%load_ext autoreload\n",
    "%autoreload 2"
   ]
  },
  {
   "cell_type": "code",
   "execution_count": 2,
   "id": "8dbd4925-7505-4d01-bf91-95b54bb8b533",
   "metadata": {},
   "outputs": [],
   "source": [
    "import sys\n",
    "sys.path.append(\"../../autotalker\")"
   ]
  },
  {
   "cell_type": "code",
   "execution_count": 3,
   "id": "b4aa3c6a-5a44-4cf1-84a3-5e514457cf3c",
   "metadata": {},
   "outputs": [
    {
     "name": "stderr",
     "output_type": "stream",
     "text": [
      "Global seed set to 0\n",
      "WARNING:root:mvTCR is not installed. To use mvTCR models, please install it first using \"pip install mvtcr\"\n",
      "WARNING:root:multigrate is not installed. To use multigrate models, please install it first using \"pip install multigrate\".\n",
      "/home/sbirk/miniconda3/envs/autotalker/lib/python3.9/site-packages/omnipath/_core/query/_query_validator.py:165: ResourceWarning: unclosed <ssl.SSLSocket fd=66, family=AddressFamily.AF_INET, type=SocketKind.SOCK_STREAM, proto=6, laddr=('10.209.62.242', 38564), raddr=('178.62.7.222', 443)>\n",
      "  res = Downloader(opt).maybe_download(\n",
      "/home/sbirk/miniconda3/envs/autotalker/lib/python3.9/site-packages/omnipath/_core/query/_query_validator.py:165: ResourceWarning: unclosed <ssl.SSLSocket fd=66, family=AddressFamily.AF_INET, type=SocketKind.SOCK_STREAM, proto=6, laddr=('10.209.62.242', 38568), raddr=('178.62.7.222', 443)>\n",
      "  res = Downloader(opt).maybe_download(\n",
      "/home/sbirk/miniconda3/envs/autotalker/lib/python3.9/site-packages/omnipath/_core/query/_query_validator.py:165: ResourceWarning: unclosed <ssl.SSLSocket fd=66, family=AddressFamily.AF_INET, type=SocketKind.SOCK_STREAM, proto=6, laddr=('10.209.62.242', 38572), raddr=('178.62.7.222', 443)>\n",
      "  res = Downloader(opt).maybe_download(\n",
      "/home/sbirk/miniconda3/envs/autotalker/lib/python3.9/site-packages/omnipath/_core/query/_query_validator.py:165: ResourceWarning: unclosed <ssl.SSLSocket fd=66, family=AddressFamily.AF_INET, type=SocketKind.SOCK_STREAM, proto=6, laddr=('10.209.62.242', 38578), raddr=('178.62.7.222', 443)>\n",
      "  res = Downloader(opt).maybe_download(\n",
      "/home/sbirk/miniconda3/envs/autotalker/lib/python3.9/site-packages/omnipath/_core/query/_query_validator.py:165: ResourceWarning: unclosed <ssl.SSLSocket fd=66, family=AddressFamily.AF_INET, type=SocketKind.SOCK_STREAM, proto=6, laddr=('10.209.62.242', 38580), raddr=('178.62.7.222', 443)>\n",
      "  res = Downloader(opt).maybe_download(\n",
      "/home/sbirk/miniconda3/envs/autotalker/lib/python3.9/site-packages/omnipath/_core/downloader/_downloader.py:218: ResourceWarning: unclosed <ssl.SSLSocket fd=66, family=AddressFamily.AF_INET, type=SocketKind.SOCK_STREAM, proto=6, laddr=('10.209.62.242', 38582), raddr=('178.62.7.222', 443)>\n",
      "  return UNKNOWN_SERVER_VERSION\n"
     ]
    }
   ],
   "source": [
    "import argparse\n",
    "import os\n",
    "import pickle\n",
    "import random\n",
    "import warnings\n",
    "from copy import deepcopy\n",
    "from datetime import datetime\n",
    "\n",
    "import anndata as ad\n",
    "import bbknn\n",
    "import matplotlib\n",
    "import matplotlib.pyplot as plt\n",
    "import mlflow\n",
    "import numpy as np\n",
    "import pandas as pd\n",
    "import scanpy as sc\n",
    "import scarches as sca\n",
    "import scib\n",
    "import scipy.sparse as sp\n",
    "import scvi\n",
    "import seaborn as sns\n",
    "import squidpy as sq\n",
    "import torch\n",
    "from matplotlib.pyplot import rc_context\n",
    "from scarches.models.sagenet.utils import glasso\n",
    "from sklearn.decomposition import KernelPCA\n",
    "\n",
    "from autotalker.benchmarking import compute_clisis, compute_cas\n",
    "from autotalker.models import Autotalker\n",
    "from autotalker.utils import (add_gps_from_gp_dict_to_adata,\n",
    "                              extract_gp_dict_from_mebocost_es_interactions,\n",
    "                              extract_gp_dict_from_nichenet_ligand_target_mx,\n",
    "                              extract_gp_dict_from_omnipath_lr_interactions,\n",
    "                              filter_and_combine_gp_dict_gps,\n",
    "                              get_unique_genes_from_gp_dict)"
   ]
  },
  {
   "cell_type": "code",
   "execution_count": 4,
   "id": "2a480bfe-d895-4c92-b58c-e5c27c2c8374",
   "metadata": {},
   "outputs": [],
   "source": [
    "# Set experiment\n",
    "experiment = mlflow.set_experiment(\"batch_integration_mouse_organogenesis_imputed\")"
   ]
  },
  {
   "cell_type": "markdown",
   "id": "9f91f345-c297-47cb-8650-c6d9c60a8b7e",
   "metadata": {},
   "source": [
    "### 1.2 Define Parameters"
   ]
  },
  {
   "cell_type": "code",
   "execution_count": 5,
   "id": "a4d4e6d9-239f-47c5-a30b-579b16d4c27c",
   "metadata": {},
   "outputs": [],
   "source": [
    "## Dataset\n",
    "dataset = \"seqfish_mouse_organogenesis\"\n",
    "batch1 = \"embryo1_z2\"\n",
    "batch2 = \"embryo1_z5\"\n",
    "batch3 = \"embryo2_z2\"\n",
    "batch4 = \"embryo2_z5\"\n",
    "batch5 = \"embryo3_z2\"\n",
    "batch6 = \"embryo3_z5\"\n",
    "n_neighbors = 15 # 4, 8, 12, 16, 20\n",
    "n_hvg_genes = 2000 # 4000\n",
    "\n",
    "## Model\n",
    "# AnnData Keys\n",
    "counts_key = \"log_normalized_counts\" # raw counts not available\n",
    "cell_type_key = \"celltype_mapped_refined\"\n",
    "adj_key = \"spatial_connectivities\"\n",
    "spatial_key = \"spatial\"\n",
    "gp_names_key = \"autotalker_gp_names\"\n",
    "active_gp_names_key = \"autotalker_active_gp_names\"\n",
    "gp_targets_mask_key = \"autotalker_gp_targets\"\n",
    "gp_sources_mask_key = \"autotalker_gp_sources\"\n",
    "latent_key = \"autotalker_latent\"\n",
    "condition_key = \"batch\"\n",
    "mapping_entity_key = \"mapping_entity\"\n",
    "\n",
    "# Architecture\n",
    "active_gp_thresh_ratio = 0.03 # 0.01\n",
    "gene_expr_recon_dist = \"nb\" # zinb\n",
    "n_cond_embed = 180\n",
    "log_variational = False # log normalized counts as input\n",
    "n_layers_encoder = 1\n",
    "conv_layer_encoder = \"gcnconv\" # gatv2conv gcnconv\n",
    "\n",
    "# Trainer\n",
    "n_epochs = 40 # 40\n",
    "n_epochs_all_gps = 20 # 20\n",
    "lr = 0.001\n",
    "query_cond_embed_lr = 0.01\n",
    "lambda_edge_recon = 10000. # 0.3 # 1., 0.01\n",
    "lambda_gene_expr_recon = 1. # 1. # 1., 0.01, 0.0033\n",
    "lambda_group_lasso = 0.01 # 0.01\n",
    "lambda_l1_masked = 0.01 # 0.01 0.0033\n",
    "edge_batch_size = 128 # 64, 128, 256, 512\n",
    "node_batch_size = 16 # 8, 16, 32, 64\n",
    "\n",
    "# Benchmarking\n",
    "spatial_knng_key = \"autotalker_spatial_knng\"\n",
    "latent_knng_key = \"autotalker_latent_knng\"\n",
    "\n",
    "## Others\n",
    "random_seed = 42\n",
    "load_timestamp = None"
   ]
  },
  {
   "cell_type": "markdown",
   "id": "a6c3b7fa-fa59-43dd-81d2-7e116650915f",
   "metadata": {},
   "source": [
    "### 1.3 Run Notebook Setup"
   ]
  },
  {
   "cell_type": "code",
   "execution_count": 6,
   "id": "37685c2a-9a44-4de7-a7ca-5f7d23ef62b0",
   "metadata": {},
   "outputs": [
    {
     "name": "stderr",
     "output_type": "stream",
     "text": [
      "/home/sbirk/miniconda3/envs/autotalker/lib/python3.9/site-packages/scanpy/_settings.py:447: DeprecationWarning: `set_matplotlib_formats` is deprecated since IPython 7.23, directly use `matplotlib_inline.backend_inline.set_matplotlib_formats()`\n",
      "  IPython.display.set_matplotlib_formats(*ipython_format)\n"
     ]
    }
   ],
   "source": [
    "sc.set_figure_params(figsize=(6, 6))\n",
    "sns.set_style(\"whitegrid\", {'axes.grid' : False})"
   ]
  },
  {
   "cell_type": "code",
   "execution_count": 7,
   "id": "924032d4-24a4-45cf-87e1-0eba197da0c2",
   "metadata": {},
   "outputs": [],
   "source": [
    "# Ignore future warnings and user warnings\n",
    "warnings.simplefilter(action=\"ignore\", category=FutureWarning)\n",
    "warnings.simplefilter(action=\"ignore\", category=UserWarning)"
   ]
  },
  {
   "cell_type": "code",
   "execution_count": 8,
   "id": "ab22fbaf-aeed-464b-8a20-b640b9e055fd",
   "metadata": {},
   "outputs": [],
   "source": [
    "# Get time of notebook execution for timestamping saved artifacts\n",
    "now = datetime.now()\n",
    "current_timestamp = now.strftime(\"%d%m%Y_%H%M%S\")"
   ]
  },
  {
   "cell_type": "code",
   "execution_count": 9,
   "id": "35baaa85-7918-48a2-a7ca-9353d61b90c7",
   "metadata": {},
   "outputs": [],
   "source": [
    "mlflow.log_param(\"timestamp\", current_timestamp)"
   ]
  },
  {
   "cell_type": "markdown",
   "id": "2b886225-6b6d-433c-b117-47b9a8f8091f",
   "metadata": {},
   "source": [
    "### 1.4 Configure Paths and Create Directories"
   ]
  },
  {
   "cell_type": "code",
   "execution_count": 10,
   "id": "36675337-808d-40a9-93fc-d6cfa9473f66",
   "metadata": {},
   "outputs": [],
   "source": [
    "# Define paths\n",
    "figure_folder_path = f\"../figures/{dataset}/batch_integration/{current_timestamp}\"\n",
    "model_artifacts_folder_path = f\"../artifacts/{dataset}/batch_integration/{current_timestamp}\"\n",
    "gp_data_folder_path = \"../datasets/gp_data\" # gene program data\n",
    "srt_data_folder_path = \"../datasets/srt_data\" # spatially resolved transcriptomics data\n",
    "srt_data_gold_folder_path = f\"{srt_data_folder_path}/gold\"\n",
    "nichenet_ligand_target_mx_file_path = gp_data_folder_path + \"/nichenet_ligand_target_matrix.csv\"\n",
    "omnipath_lr_interactions_file_path = gp_data_folder_path + \"/omnipath_lr_interactions.csv\"\n",
    "\n",
    "# Create required directories\n",
    "os.makedirs(figure_folder_path, exist_ok=True)\n",
    "os.makedirs(model_artifacts_folder_path, exist_ok=True)"
   ]
  },
  {
   "cell_type": "markdown",
   "id": "fd883193-8aa9-4809-aeac-cacb478df22b",
   "metadata": {
    "tags": []
   },
   "source": [
    "## 2. Data"
   ]
  },
  {
   "cell_type": "markdown",
   "id": "049f6853-5dc1-4b68-9240-c4b6a00f1514",
   "metadata": {},
   "source": [
    "### 2.1 Load Data"
   ]
  },
  {
   "cell_type": "code",
   "execution_count": 11,
   "id": "8b8d87c6-bf7a-42bc-ae63-64922c0ee336",
   "metadata": {},
   "outputs": [],
   "source": [
    "adata_original = ad.read_h5ad(f\"{srt_data_gold_folder_path}/{dataset}_imputed.h5ad\")"
   ]
  },
  {
   "cell_type": "code",
   "execution_count": 12,
   "id": "ce39086d-851a-4b35-a8b3-08c7606a885c",
   "metadata": {},
   "outputs": [],
   "source": [
    "# Use log normalized counts as raw counts are not available\n",
    "adata_original.layers[counts_key] = adata_original.X"
   ]
  },
  {
   "cell_type": "markdown",
   "id": "3a33716e-7bfa-4865-9135-31fa2eb54dae",
   "metadata": {},
   "source": [
    "### 2.2 Prepare Data & GP Mask"
   ]
  },
  {
   "cell_type": "markdown",
   "id": "354ef886-6423-4d72-ad17-176986787b0d",
   "metadata": {},
   "source": [
    "#### 2.2.1 Filter Genes Based on GP Mask & HVG"
   ]
  },
  {
   "cell_type": "code",
   "execution_count": 13,
   "id": "74108d11-5bec-4718-ac11-322a5fad0bc5",
   "metadata": {},
   "outputs": [
    {
     "data": {
      "image/png": "[encoded data removed]",
      "text/plain": [
       "<Figure size 800x400 with 2 Axes>"
      ]
     },
     "metadata": {
      "image/png": {
       "height": 388,
       "width": 730
      }
     },
     "output_type": "display_data"
    }
   ],
   "source": [
    "nichenet_gp_dict = extract_gp_dict_from_nichenet_ligand_target_mx(\n",
    "    keep_target_genes_ratio=0.01,\n",
    "    max_n_target_genes_per_gp=50,\n",
    "    load_from_disk=True,\n",
    "    save_to_disk=False,\n",
    "    file_path=nichenet_ligand_target_mx_file_path,\n",
    "    plot_gp_gene_count_distributions=True)"
   ]
  },
  {
   "cell_type": "code",
   "execution_count": 14,
   "id": "871f1b86-2d1c-4cc6-ac61-4fed16dc610d",
   "metadata": {},
   "outputs": [
    {
     "data": {
      "image/png": "[encoded data removed]",
      "text/plain": [
       "<Figure size 800x400 with 2 Axes>"
      ]
     },
     "metadata": {
      "image/png": {
       "height": 388,
       "width": 730
      }
     },
     "output_type": "display_data"
    }
   ],
   "source": [
    "omnipath_gp_dict = extract_gp_dict_from_omnipath_lr_interactions(\n",
    "    min_curation_effort=0,\n",
    "    load_from_disk=False,\n",
    "    save_to_disk=False,\n",
    "    file_path=omnipath_lr_interactions_file_path,\n",
    "    plot_gp_gene_count_distributions=True)"
   ]
  },
  {
   "cell_type": "code",
   "execution_count": 15,
   "id": "8d5fc6f5-c22c-4465-b00f-0201e772262e",
   "metadata": {},
   "outputs": [
    {
     "data": {
      "image/png": "[encoded data removed]",
      "text/plain": [
       "<Figure size 800x400 with 2 Axes>"
      ]
     },
     "metadata": {
      "image/png": {
       "height": 388,
       "width": 720
      }
     },
     "output_type": "display_data"
    }
   ],
   "source": [
    "mebocost_gp_dict = extract_gp_dict_from_mebocost_es_interactions(\n",
    "    dir_path=f\"{gp_data_folder_path}/metabolite_enzyme_sensor_gps/\",\n",
    "    species=\"mouse\",\n",
    "    genes_uppercase=True,\n",
    "    plot_gp_gene_count_distributions=True)"
   ]
  },
  {
   "cell_type": "code",
   "execution_count": 16,
   "id": "7f0bdb30-07d7-41cc-be6e-af0d8ed8a616",
   "metadata": {},
   "outputs": [],
   "source": [
    "# Combine gene programs into one dictionary\n",
    "combined_gp_dict = dict(nichenet_gp_dict)\n",
    "combined_gp_dict.update(omnipath_gp_dict)\n",
    "# combined_gp_dict.update(mebocost_gp_dict)"
   ]
  },
  {
   "cell_type": "code",
   "execution_count": 17,
   "id": "5ee22968-0ae2-4b7c-aba1-94253da01076",
   "metadata": {},
   "outputs": [
    {
     "name": "stdout",
     "output_type": "stream",
     "text": [
      "Removing GP 'TNFSF4_ligand_receptor_GP' as it is a subset of GP 'TNFSF4_ligand_targetgenes_GP'.\n",
      "Removing GP 'TGFB1_ligand_receptor_GP' as it is a subset of GP 'TGFB1_ligand_targetgenes_GP'.\n",
      "Removing GP 'BMP2_ligand_receptor_GP' as it is a subset of GP 'BMP2_ligand_targetgenes_GP'.\n",
      "Removing GP 'EDN1_ligand_receptor_GP' as it is a subset of GP 'EDN1_ligand_targetgenes_GP'.\n",
      "Removing GP 'EDN3_ligand_receptor_GP' as it is a subset of GP 'EDN3_ligand_targetgenes_GP'.\n",
      "Removing GP 'GCG_ligand_receptor_GP' as it is a subset of GP 'GCG_ligand_targetgenes_GP'.\n",
      "Removing GP 'HCRT_ligand_receptor_GP' as it is a subset of GP 'HCRT_ligand_targetgenes_GP'.\n",
      "Removing GP 'GRP_ligand_receptor_GP' as it is a subset of GP 'GRP_ligand_targetgenes_GP'.\n",
      "Removing GP 'NTF3_ligand_receptor_GP' as it is a subset of GP 'NTF3_ligand_targetgenes_GP'.\n",
      "Removing GP 'AVP_ligand_receptor_GP' as it is a subset of GP 'AVP_ligand_targetgenes_GP'.\n",
      "Removing GP 'PROK1_ligand_receptor_GP' as it is a subset of GP 'PROK1_ligand_targetgenes_GP'.\n",
      "Removing GP 'AGT_ligand_receptor_GP' as it is a subset of GP 'AGT_ligand_targetgenes_GP'.\n",
      "Removing GP 'GHRH_ligand_receptor_GP' as it is a subset of GP 'GHRH_ligand_targetgenes_GP'.\n",
      "Removing GP 'DLL3_ligand_receptor_GP' as it is a subset of GP 'DLL3_ligand_targetgenes_GP'.\n",
      "Removing GP 'DLL4_ligand_receptor_GP' as it is a subset of GP 'DLL4_ligand_targetgenes_GP'.\n",
      "Removing GP 'GDF6_ligand_receptor_GP' as it is a subset of GP 'GDF6_ligand_targetgenes_GP'.\n",
      "Removing GP 'GDF9_ligand_receptor_GP' as it is a subset of GP 'GDF9_ligand_targetgenes_GP'.\n",
      "Removing GP 'CMTM2_ligand_receptor_GP' as it is a subset of GP 'CMTM2_ligand_targetgenes_GP'.\n",
      "Removing GP 'GDF3_ligand_receptor_GP' as it is a subset of GP 'GDF3_ligand_targetgenes_GP'.\n",
      "Removing GP 'EFNB3_ligand_targetgenes_GP' as it is a subset of GP 'EFNB3_ligand_receptor_GP'.\n",
      "Removing GP 'EFNB2_ligand_targetgenes_GP' as it is a subset of GP 'EFNB2_ligand_receptor_GP'.\n",
      "Removing GP 'EFNB1_ligand_targetgenes_GP' as it is a subset of GP 'EFNB1_ligand_receptor_GP'.\n",
      "Removing GP 'CCL23_ligand_targetgenes_GP' as it is a subset of GP 'CCL23_ligand_receptor_GP'.\n",
      "Removing GP 'CCL27_ligand_targetgenes_GP' as it is a subset of GP 'CCL27_ligand_receptor_GP'.\n",
      "Removing GP 'CCL28_ligand_targetgenes_GP' as it is a subset of GP 'CCL28_ligand_receptor_GP'.\n",
      "Removing GP 'CCL16_ligand_targetgenes_GP' as it is a subset of GP 'CCL16_ligand_receptor_GP'.\n",
      "Removing GP 'CXCL5_ligand_targetgenes_GP' as it is a subset of GP 'CXCL5_ligand_receptor_GP'.\n",
      "Removing GP 'PMCH_ligand_targetgenes_GP' as it is a subset of GP 'PMCH_ligand_receptor_GP'.\n",
      "Removing GP 'NMS_ligand_targetgenes_GP' as it is a subset of GP 'NMS_ligand_receptor_GP'.\n",
      "Removing GP 'NMU_ligand_targetgenes_GP' as it is a subset of GP 'NMU_ligand_receptor_GP'.\n",
      "Removing GP 'NPB_ligand_targetgenes_GP' as it is a subset of GP 'NPB_ligand_receptor_GP'.\n",
      "Removing GP 'NPW_ligand_targetgenes_GP' as it is a subset of GP 'NPW_ligand_receptor_GP'.\n",
      "Removing GP 'RLN3_ligand_targetgenes_GP' as it is a subset of GP 'RLN3_ligand_receptor_GP'.\n",
      "Removing GP 'PYY_ligand_targetgenes_GP' as it is a subset of GP 'PYY_ligand_receptor_GP'.\n",
      "Removing GP 'PPY_ligand_targetgenes_GP' as it is a subset of GP 'PPY_ligand_receptor_GP'.\n",
      "Removing GP 'NRG3_ligand_targetgenes_GP' as it is a subset of GP 'NRG3_ligand_receptor_GP'.\n",
      "Removing GP 'NRG4_ligand_targetgenes_GP' as it is a subset of GP 'NRG4_ligand_receptor_GP'.\n",
      "Removing GP 'FGF22_ligand_targetgenes_GP' as it is a subset of GP 'FGF22_ligand_receptor_GP'.\n",
      "Removing GP 'FGF13_ligand_targetgenes_GP' as it is a subset of GP 'FGF13_ligand_receptor_GP'.\n",
      "Removing GP 'FGF11_ligand_targetgenes_GP' as it is a subset of GP 'FGF11_ligand_receptor_GP'.\n",
      "Removing GP 'FGF14_ligand_targetgenes_GP' as it is a subset of GP 'FGF14_ligand_receptor_GP'.\n",
      "Removing GP 'PODXL2_ligand_targetgenes_GP' as it is a subset of GP 'PODXL2_ligand_receptor_GP'.\n",
      "Removing GP 'ADM2_ligand_targetgenes_GP' as it is a subset of GP 'ADM2_ligand_receptor_GP'.\n",
      "Removing GP 'APOB_ligand_targetgenes_GP' as it is a subset of GP 'APOB_ligand_receptor_GP'.\n",
      "Removing GP 'NPS_ligand_targetgenes_GP' as it is a subset of GP 'NPS_ligand_receptor_GP'.\n",
      "Removing GP 'PTH2_ligand_targetgenes_GP' as it is a subset of GP 'PTH2_ligand_receptor_GP'.\n",
      "Removing GP 'INSL3_ligand_targetgenes_GP' as it is a subset of GP 'INSL3_ligand_receptor_GP'.\n",
      "Removing GP 'NECTIN3_ligand_targetgenes_GP' as it is a subset of GP 'NECTIN3_ligand_receptor_GP'.\n",
      "Removing GP 'LAMA1_ligand_targetgenes_GP' as it is a subset of GP 'LAMA1_ligand_receptor_GP'.\n",
      "Removing GP 'WNT9A_ligand_targetgenes_GP' as it is a subset of GP 'WNT9A_ligand_receptor_GP'.\n",
      "Removing GP 'WNT9B_ligand_targetgenes_GP' as it is a subset of GP 'WNT9B_ligand_receptor_GP'.\n",
      "Removing GP 'WNT3_ligand_targetgenes_GP' as it is a subset of GP 'WNT3_ligand_receptor_GP'.\n",
      "Removing GP 'SOST_ligand_targetgenes_GP' as it is a subset of GP 'SOST_ligand_receptor_GP'.\n",
      "Removing GP 'EFNA1_ligand_targetgenes_GP' as it is a subset of GP 'EFNA1_ligand_receptor_GP'.\n",
      "Removing GP 'EFNA2_ligand_targetgenes_GP' as it is a subset of GP 'EFNA2_ligand_receptor_GP'.\n",
      "Removing GP 'EFNA3_ligand_targetgenes_GP' as it is a subset of GP 'EFNA3_ligand_receptor_GP'.\n",
      "Removing GP 'CCL22_ligand_targetgenes_GP' as it is a subset of GP 'CCL22_ligand_receptor_GP'.\n",
      "Removing GP 'NRG2_ligand_targetgenes_GP' as it is a subset of GP 'NRG2_ligand_receptor_GP'.\n",
      "Removing GP 'LAMC2_ligand_targetgenes_GP' as it is a subset of GP 'LAMC2_ligand_receptor_GP'.\n",
      "Removing GP 'ICAM5_ligand_targetgenes_GP' as it is a subset of GP 'ICAM5_ligand_receptor_GP'.\n",
      "Removing GP 'COMP_ligand_targetgenes_GP' as it is a subset of GP 'COMP_ligand_receptor_GP'.\n",
      "Removing GP 'CHAD_ligand_targetgenes_GP' as it is a subset of GP 'CHAD_ligand_receptor_GP'.\n",
      "Removing GP 'THBS4_ligand_targetgenes_GP' as it is a subset of GP 'THBS4_ligand_receptor_GP'.\n",
      "Removing GP 'SEMA7A_ligand_targetgenes_GP' as it is a subset of GP 'SEMA7A_ligand_receptor_GP'.\n",
      "Removing GP 'CCL8_ligand_targetgenes_GP' as it is a subset of GP 'CCL8_ligand_receptor_GP'.\n",
      "Removing GP 'CCL7_ligand_targetgenes_GP' as it is a subset of GP 'CCL7_ligand_receptor_GP'.\n",
      "Removing GP 'XCL1_ligand_targetgenes_GP' as it is a subset of GP 'XCL1_ligand_receptor_GP'.\n",
      "Removing GP 'CCL4L1_ligand_targetgenes_GP' as it is a subset of GP 'CCL4L1_ligand_receptor_GP'.\n",
      "Removing GP 'COPA_ligand_targetgenes_GP' as it is a subset of GP 'COPA_ligand_receptor_GP'.\n",
      "Removing GP 'GUCA2A_ligand_targetgenes_GP' as it is a subset of GP 'GUCA2A_ligand_receptor_GP'.\n",
      "Removing GP 'GUCA2B_ligand_targetgenes_GP' as it is a subset of GP 'GUCA2B_ligand_receptor_GP'.\n",
      "Removing GP 'NTN4_ligand_targetgenes_GP' as it is a subset of GP 'NTN4_ligand_receptor_GP'.\n",
      "Removing GP 'CD99_ligand_targetgenes_GP' as it is a subset of GP 'CD99_ligand_receptor_GP'.\n",
      "Removing GP 'SEMA3C_ligand_targetgenes_GP' as it is a subset of GP 'SEMA3C_ligand_receptor_GP'.\n",
      "Removing GP 'NECTIN2_ligand_targetgenes_GP' as it is a subset of GP 'NECTIN2_ligand_receptor_GP'.\n",
      "Removing GP 'HLA-B_ligand_targetgenes_GP' as it is a subset of GP 'HLA-B_ligand_receptor_GP'.\n",
      "Removing GP 'HLA-C_ligand_targetgenes_GP' as it is a subset of GP 'HLA-C_ligand_receptor_GP'.\n",
      "Removing GP 'CNTN1_ligand_targetgenes_GP' as it is a subset of GP 'CNTN1_ligand_receptor_GP'.\n",
      "Removing GP 'SEMA3F_ligand_targetgenes_GP' as it is a subset of GP 'SEMA3F_ligand_receptor_GP'.\n",
      "Removing GP 'FAM3C_ligand_targetgenes_GP' as it is a subset of GP 'FAM3C_ligand_receptor_GP'.\n",
      "Removing GP 'ULBP2_ligand_targetgenes_GP' as it is a subset of GP 'ULBP2_ligand_receptor_GP'.\n",
      "Removing GP 'GPHA2_ligand_targetgenes_GP' as it is a subset of GP 'GPHA2_ligand_receptor_GP'.\n",
      "Removing GP 'FLRT3_ligand_targetgenes_GP' as it is a subset of GP 'FLRT3_ligand_receptor_GP'.\n",
      "Removing GP 'PRND_ligand_targetgenes_GP' as it is a subset of GP 'PRND_ligand_receptor_GP'.\n",
      "Removing GP 'NDP_ligand_targetgenes_GP' as it is a subset of GP 'NDP_ligand_receptor_GP'.\n",
      "Removing GP 'RSPO2_ligand_targetgenes_GP' as it is a subset of GP 'RSPO2_ligand_receptor_GP'.\n",
      "Removing GP 'RSPO4_ligand_targetgenes_GP' as it is a subset of GP 'RSPO4_ligand_receptor_GP'.\n",
      "Removing GP 'NTN3_ligand_targetgenes_GP' as it is a subset of GP 'NTN3_ligand_receptor_GP'.\n",
      "Removing GP 'DHH_ligand_targetgenes_GP' as it is a subset of GP 'DHH_ligand_receptor_GP'.\n",
      "Removing GP 'DSC1_ligand_targetgenes_GP' as it is a subset of GP 'DSC1_ligand_receptor_GP'.\n",
      "Removing GP 'DSC2_ligand_targetgenes_GP' as it is a subset of GP 'DSC2_ligand_receptor_GP'.\n",
      "Removing GP 'NLGN2_ligand_targetgenes_GP' as it is a subset of GP 'NLGN2_ligand_receptor_GP'.\n",
      "Removing GP 'NXPH1_ligand_targetgenes_GP' as it is a subset of GP 'NXPH1_ligand_receptor_GP'.\n",
      "Removing GP 'NPFF_ligand_targetgenes_GP' as it is a subset of GP 'NPFF_ligand_receptor_GP'.\n",
      "Removing GP 'TAC3_ligand_targetgenes_GP' as it is a subset of GP 'TAC3_ligand_receptor_GP'.\n",
      "Removing GP 'TAC4_ligand_targetgenes_GP' as it is a subset of GP 'TAC4_ligand_receptor_GP'.\n",
      "Removing GP 'NMB_ligand_targetgenes_GP' as it is a subset of GP 'NMB_ligand_receptor_GP'.\n",
      "Removing GP 'GALP_ligand_targetgenes_GP' as it is a subset of GP 'GALP_ligand_receptor_GP'.\n",
      "Removing GP 'MLN_ligand_targetgenes_GP' as it is a subset of GP 'MLN_ligand_receptor_GP'.\n",
      "Removing GP 'IL17B_ligand_targetgenes_GP' as it is a subset of GP 'IL17B_ligand_receptor_GP'.\n",
      "Removing GP 'QRFP_ligand_targetgenes_GP' as it is a subset of GP 'QRFP_ligand_receptor_GP'.\n",
      "Removing GP 'TXLNA_ligand_targetgenes_GP' as it is a subset of GP 'TXLNA_ligand_receptor_GP'.\n",
      "Number of gene programs before filtering and combining: 1588.\n",
      "Number of gene programs after filtering and combining: 1486.\n"
     ]
    }
   ],
   "source": [
    "# Filter and combine gene programs\n",
    "combined_new_gp_dict = filter_and_combine_gp_dict_gps(\n",
    "    gp_dict=combined_gp_dict,\n",
    "    gp_filter_mode=\"subset\",\n",
    "    combine_overlap_gps=True,\n",
    "    overlap_thresh_source_genes=0.9,\n",
    "    overlap_thresh_target_genes=0.9,\n",
    "    overlap_thresh_genes=0.9,\n",
    "    verbose=True)\n",
    "\n",
    "print(f\"Number of gene programs before filtering and combining: {len(combined_gp_dict)}.\")\n",
    "print(f\"Number of gene programs after filtering and combining: {len(combined_new_gp_dict)}.\")"
   ]
  },
  {
   "cell_type": "code",
   "execution_count": 18,
   "id": "081296af-f841-42ed-bb8f-e856b0522ec7",
   "metadata": {},
   "outputs": [
    {
     "name": "stdout",
     "output_type": "stream",
     "text": [
      "Keeping 3058 highly variable or gene program relevant genes.\n",
      "Keeping 1769 genes after filtering genes not in gp dict.\n",
      "Keeping 1651 genes after removing genes with 0 expression.\n"
     ]
    }
   ],
   "source": [
    "# Filter genes and only keep ligand, receptor, metabolitye enzyme, metabolite sensor and \n",
    "# highly variable genes (potential target genes of nichenet)\n",
    "gp_dict_genes = get_unique_genes_from_gp_dict(gp_dict=combined_new_gp_dict,\n",
    "                                              retrieved_gene_entities=[\"sources\", \"targets\"])\n",
    "\n",
    "omnipath_genes = get_unique_genes_from_gp_dict(gp_dict=omnipath_gp_dict,\n",
    "                                               retrieved_gene_entities=[\"sources\", \"targets\"])\n",
    "\n",
    "mebocost_genes = get_unique_genes_from_gp_dict(gp_dict=mebocost_gp_dict,\n",
    "                                               retrieved_gene_entities=[\"sources\", \"targets\"])\n",
    "\n",
    "nichenet_source_genes = get_unique_genes_from_gp_dict(gp_dict=nichenet_gp_dict,\n",
    "                                                      retrieved_gene_entities=[\"sources\"])\n",
    "\n",
    "# gp_relevant_genes = list(set(omnipath_genes + mebocost_genes + nichenet_source_genes))\n",
    "gp_relevant_genes = list(set(omnipath_genes + nichenet_source_genes))\n",
    "\n",
    "# Keep only highly variable genes\n",
    "sc.pp.highly_variable_genes(\n",
    "    adata_original,\n",
    "    n_top_genes=n_hvg_genes,\n",
    "    batch_key=\"batch\",\n",
    "    subset=False)\n",
    "\n",
    "adata_original.var[\"gp_relevant\"] = adata_original.var.index.str.upper().isin(gp_relevant_genes)\n",
    "adata_original.var[\"keep_gene\"] = adata_original.var[\"gp_relevant\"] | adata_original.var[\"highly_variable\"]\n",
    "adata_original = adata_original[:, adata_original.var[\"keep_gene\"] == True]\n",
    "print(f\"Keeping {len(adata_original.var_names)} highly variable or gene program relevant genes.\")\n",
    "adata_original = adata_original[:, adata_original.var_names[adata_original.var_names.str.upper().isin(gp_dict_genes)].sort_values()]\n",
    "print(f\"Keeping {len(adata_original.var_names)} genes after filtering genes not in gp dict.\")\n",
    "adata_original = adata_original[:, (adata_original.X.sum(axis=0) > 0)]\n",
    "print(f\"Keeping {len(adata_original.var_names)} genes after removing genes with 0 expression.\")\n",
    "adata = adata_original.copy()"
   ]
  },
  {
   "cell_type": "code",
   "execution_count": 19,
   "id": "90f15b3f-8f49-4829-8ea3-990f06bf90a6",
   "metadata": {},
   "outputs": [],
   "source": [
    "# Split adata into different batches\n",
    "adata_batch1 = adata[adata.obs[\"batch\"] == batch1].copy() # reference\n",
    "adata_batch2 = adata[adata.obs[\"batch\"] == batch2].copy() # reference\n",
    "adata_batch3 = adata[adata.obs[\"batch\"] == batch3].copy() # reference\n",
    "adata_batch4 = adata[adata.obs[\"batch\"] == batch4].copy() # reference\n",
    "adata_batch5 = adata[adata.obs[\"batch\"] == batch5].copy() # query\n",
    "adata_batch6 = adata[adata.obs[\"batch\"] == batch6].copy() # query\n",
    "\n",
    "adata_batch_list = [adata_batch1,\n",
    "                    adata_batch2,\n",
    "                    adata_batch3,\n",
    "                    adata_batch4,\n",
    "                    adata_batch5,\n",
    "                    adata_batch6]"
   ]
  },
  {
   "cell_type": "markdown",
   "id": "23ef06ef-38e0-4940-b50d-06e9144b654b",
   "metadata": {},
   "source": [
    "### 2.3 Compute Spatial Neighbor Graphs"
   ]
  },
  {
   "cell_type": "code",
   "execution_count": 20,
   "id": "ada889e3-9efd-4371-af10-1c17c68be3cc",
   "metadata": {},
   "outputs": [],
   "source": [
    "for i in range(len(adata_batch_list)):\n",
    "    # Compute (separate) spatial neighborhood\n",
    "    sq.gr.spatial_neighbors(adata_batch_list[i],\n",
    "                            coord_type=\"generic\",\n",
    "                            spatial_key=spatial_key,\n",
    "                            n_neighs=n_neighbors)\n",
    "    # Make adjacency matrix symmetric\n",
    "    adata_batch_list[i].obsp[adj_key] = adata_batch_list[i].obsp[adj_key].maximum(\n",
    "        adata_batch_list[i].obsp[adj_key].T)"
   ]
  },
  {
   "cell_type": "markdown",
   "id": "e6a855d6-4208-4716-b58f-b7e368f82499",
   "metadata": {
    "tags": []
   },
   "source": [
    "### 2.4 Combine Data for One-Shot Batch Integration"
   ]
  },
  {
   "cell_type": "code",
   "execution_count": 21,
   "id": "47d37571-3e06-41f0-b2c3-ecb5c191b396",
   "metadata": {},
   "outputs": [],
   "source": [
    "adata_one_shot = ad.concat(adata_batch_list, join=\"inner\")\n",
    "\n",
    "# Combine spatial neighborhood graphs as disconnected components\n",
    "connectivities_extension_batch1 = sp.csr_matrix((adata_batch_list[0].shape[0],\n",
    "                                                 (adata_batch_list[1].shape[0] +\n",
    "                                                  adata_batch_list[2].shape[0] +\n",
    "                                                  adata_batch_list[3].shape[0] +\n",
    "                                                  adata_batch_list[4].shape[0] +\n",
    "                                                  adata_batch_list[5].shape[0])))\n",
    "connectivities_extension_batch2_before = sp.csr_matrix((adata_batch_list[1].shape[0],\n",
    "                                                        adata_batch_list[0].shape[0]))\n",
    "connectivities_extension_batch2_after = sp.csr_matrix((adata_batch_list[1].shape[0],\n",
    "                                                       (adata_batch_list[2].shape[0] +\n",
    "                                                        adata_batch_list[3].shape[0] +\n",
    "                                                        adata_batch_list[4].shape[0] +\n",
    "                                                        adata_batch_list[5].shape[0])))\n",
    "connectivities_extension_batch3_before = sp.csr_matrix((adata_batch_list[2].shape[0],\n",
    "                                                        (adata_batch_list[0].shape[0] +\n",
    "                                                         adata_batch_list[1].shape[0])))\n",
    "connectivities_extension_batch3_after = sp.csr_matrix((adata_batch_list[2].shape[0],\n",
    "                                                       (adata_batch_list[3].shape[0] +\n",
    "                                                        adata_batch_list[4].shape[0] +\n",
    "                                                        adata_batch_list[5].shape[0])))\n",
    "connectivities_extension_batch4_before = sp.csr_matrix((adata_batch_list[3].shape[0],\n",
    "                                                        (adata_batch_list[0].shape[0] +\n",
    "                                                         adata_batch_list[1].shape[0] +\n",
    "                                                         adata_batch_list[2].shape[0])))\n",
    "connectivities_extension_batch4_after = sp.csr_matrix((adata_batch_list[3].shape[0],\n",
    "                                                       (adata_batch_list[4].shape[0] +\n",
    "                                                        adata_batch_list[5].shape[0])))\n",
    "connectivities_extension_batch5_before = sp.csr_matrix((adata_batch_list[4].shape[0],\n",
    "                                                        (adata_batch_list[0].shape[0] +\n",
    "                                                         adata_batch_list[1].shape[0] +\n",
    "                                                         adata_batch_list[2].shape[0] +\n",
    "                                                         adata_batch_list[3].shape[0])))\n",
    "connectivities_extension_batch5_after = sp.csr_matrix((adata_batch_list[4].shape[0],\n",
    "                                                       adata_batch_list[5].shape[0]))\n",
    "connectivities_extension_batch6 = sp.csr_matrix((adata_batch_list[5].shape[0],\n",
    "                                                 (adata_batch_list[0].shape[0] +\n",
    "                                                  adata_batch_list[1].shape[0] +\n",
    "                                                  adata_batch_list[2].shape[0] +\n",
    "                                                  adata_batch_list[3].shape[0] +\n",
    "                                                  adata_batch_list[4].shape[0])))\n",
    "\n",
    "connectivities_batch1 = sp.hstack((adata_batch_list[0].obsp[adj_key],\n",
    "                                   connectivities_extension_batch1))\n",
    "connectivities_batch2 = sp.hstack((connectivities_extension_batch2_before,\n",
    "                                   adata_batch_list[1].obsp[adj_key],\n",
    "                                   connectivities_extension_batch2_after))\n",
    "connectivities_batch3 = sp.hstack((connectivities_extension_batch3_before,\n",
    "                                   adata_batch_list[2].obsp[adj_key],\n",
    "                                   connectivities_extension_batch3_after))\n",
    "connectivities_batch4 = sp.hstack((connectivities_extension_batch4_before,\n",
    "                                   adata_batch_list[3].obsp[adj_key],\n",
    "                                   connectivities_extension_batch4_after))\n",
    "connectivities_batch5 = sp.hstack((connectivities_extension_batch5_before,\n",
    "                                   adata_batch_list[4].obsp[adj_key],\n",
    "                                   connectivities_extension_batch5_after))\n",
    "connectivities_batch6 = sp.hstack((connectivities_extension_batch6,\n",
    "                                   adata_batch_list[5].obsp[adj_key]))\n",
    "\n",
    "connectivities = sp.vstack((connectivities_batch1,\n",
    "                            connectivities_batch2,\n",
    "                            connectivities_batch3,\n",
    "                            connectivities_batch4,\n",
    "                            connectivities_batch5,\n",
    "                            connectivities_batch6))\n",
    "\n",
    "adata_one_shot.obsp[adj_key] = connectivities"
   ]
  },
  {
   "cell_type": "markdown",
   "id": "22c9d40c-b986-40bf-828a-99ce033769d1",
   "metadata": {},
   "source": [
    "### 2.5 Combine Data for Query-to-Reference Mapping"
   ]
  },
  {
   "cell_type": "code",
   "execution_count": 22,
   "id": "9e66bc25-5082-4546-be0f-693725eed227",
   "metadata": {},
   "outputs": [],
   "source": [
    "# Reference\n",
    "adata_reference = ad.concat(adata_batch_list[:-2], join=\"inner\")\n",
    "\n",
    "# Combine spatial neighborhood graphs as disconnected components\n",
    "connectivities_extension_batch1 = sp.csr_matrix((adata_batch_list[0].shape[0],\n",
    "                                                 (adata_batch_list[1].shape[0] +\n",
    "                                                  adata_batch_list[2].shape[0] +\n",
    "                                                  adata_batch_list[3].shape[0])))\n",
    "connectivities_extension_batch2_before = sp.csr_matrix((adata_batch_list[1].shape[0],\n",
    "                                                        adata_batch_list[0].shape[0]))\n",
    "connectivities_extension_batch2_after = sp.csr_matrix((adata_batch_list[1].shape[0],\n",
    "                                                       (adata_batch_list[2].shape[0] +\n",
    "                                                        adata_batch_list[3].shape[0])))\n",
    "connectivities_extension_batch3_before = sp.csr_matrix((adata_batch_list[2].shape[0],\n",
    "                                                        (adata_batch_list[0].shape[0] +\n",
    "                                                         adata_batch_list[1].shape[0])))\n",
    "connectivities_extension_batch3_after = sp.csr_matrix((adata_batch_list[2].shape[0],\n",
    "                                                       (adata_batch_list[3].shape[0])))\n",
    "connectivities_extension_batch4 = sp.csr_matrix((adata_batch_list[3].shape[0],\n",
    "                                                 (adata_batch_list[0].shape[0] +\n",
    "                                                  adata_batch_list[1].shape[0] +\n",
    "                                                  adata_batch_list[2].shape[0])))\n",
    "\n",
    "connectivities_batch1 = sp.hstack((adata_batch_list[0].obsp[adj_key],\n",
    "                                   connectivities_extension_batch1))\n",
    "connectivities_batch2 = sp.hstack((connectivities_extension_batch2_before,\n",
    "                                   adata_batch_list[1].obsp[adj_key],\n",
    "                                   connectivities_extension_batch2_after))\n",
    "connectivities_batch3 = sp.hstack((connectivities_extension_batch3_before,\n",
    "                                   adata_batch_list[2].obsp[adj_key],\n",
    "                                   connectivities_extension_batch3_after))\n",
    "connectivities_batch4 = sp.hstack((connectivities_extension_batch4,\n",
    "                                   adata_batch_list[3].obsp[adj_key]))\n",
    "\n",
    "connectivities = sp.vstack((connectivities_batch1,\n",
    "                            connectivities_batch2,\n",
    "                            connectivities_batch3,\n",
    "                            connectivities_batch4))\n",
    "\n",
    "adata_reference.obsp[adj_key] = connectivities"
   ]
  },
  {
   "cell_type": "code",
   "execution_count": 23,
   "id": "8bd05339-a395-42d7-82eb-9641c4d25756",
   "metadata": {},
   "outputs": [],
   "source": [
    "# Query\n",
    "adata_query = ad.concat(adata_batch_list[-2:], join=\"inner\")\n",
    "\n",
    "# Combine spatial neighborhood graphs as disconnected components\n",
    "connectivities_extension_batch5 = sp.csr_matrix((adata_batch_list[4].shape[0],\n",
    "                                                 (adata_batch_list[5].shape[0])))\n",
    "connectivities_extension_batch6 = sp.csr_matrix((adata_batch_list[5].shape[0],\n",
    "                                                 (adata_batch_list[4].shape[0])))\n",
    "\n",
    "connectivities_batch5 = sp.hstack((adata_batch_list[4].obsp[adj_key],\n",
    "                                   connectivities_extension_batch5))\n",
    "connectivities_batch6 = sp.hstack((connectivities_extension_batch6,\n",
    "                                   adata_batch_list[5].obsp[adj_key]))\n",
    "\n",
    "connectivities = sp.vstack((connectivities_batch5,\n",
    "                            connectivities_batch6))\n",
    "\n",
    "adata_query.obsp[adj_key] = connectivities"
   ]
  },
  {
   "cell_type": "code",
   "execution_count": 24,
   "id": "baa58e92-4695-4093-b737-b517829e8b4f",
   "metadata": {},
   "outputs": [],
   "source": [
    "adata_reference_query = adata_one_shot.copy()\n",
    "\n",
    "# Add mapping entity \n",
    "reference_batches = adata_reference.obs[condition_key].unique().tolist()\n",
    "query_batches = adata_query.obs[condition_key].unique().tolist()\n",
    "adata_reference_query.obs[mapping_entity_key] = None\n",
    "adata_reference_query.obs.loc[adata_reference_query.obs[condition_key].isin(reference_batches), mapping_entity_key] = \"reference\"\n",
    "adata_reference_query.obs.loc[adata_reference_query.obs[condition_key].isin(query_batches), mapping_entity_key] = \"query\""
   ]
  },
  {
   "cell_type": "markdown",
   "id": "2677924a-2550-45ca-b18c-35039aee1d44",
   "metadata": {},
   "source": [
    "### 2.6 Add GP Mask to Data"
   ]
  },
  {
   "cell_type": "code",
   "execution_count": 25,
   "id": "96904c26-a72f-44d6-ba1b-9b8818ccee3c",
   "metadata": {},
   "outputs": [
    {
     "name": "stdout",
     "output_type": "stream",
     "text": [
      "Number of gene programs with probed genes: 1429.\n",
      "Example gene programs: ['TSHB_ligand_receptor_GP', 'PLG_ligand_receptor_GP', 'TNFSF12_ligand_targetgenes_GP', 'RET_ligand_targetgenes_GP', 'TF_ligand_receptor_GP'].\n",
      "Number of gene program target genes: 5902.\n",
      "Number of gene program source genes: 1128.\n"
     ]
    }
   ],
   "source": [
    "for adata in adata_batch_list + [adata_one_shot, adata_reference, adata_query, adata_reference_query]:\n",
    "    # Add the gene program dictionary as binary masks to the adata for model training\n",
    "    add_gps_from_gp_dict_to_adata(\n",
    "        gp_dict=combined_new_gp_dict,\n",
    "        adata=adata,\n",
    "        genes_uppercase=True,\n",
    "        gp_targets_mask_key=gp_targets_mask_key,\n",
    "        gp_sources_mask_key=gp_sources_mask_key,\n",
    "        gp_names_key=gp_names_key,\n",
    "        min_genes_per_gp=1,\n",
    "        min_source_genes_per_gp=0,\n",
    "        min_target_genes_per_gp=0,\n",
    "        max_genes_per_gp=None,\n",
    "        max_source_genes_per_gp=None,\n",
    "        max_target_genes_per_gp=None,\n",
    "        filter_genes_not_in_masks=False)\n",
    "\n",
    "# Determine dimensionality of hidden encoder\n",
    "n_hidden_encoder = len(adata_one_shot.uns[gp_names_key])\n",
    "\n",
    "# Summarize gene programs\n",
    "print(f\"Number of gene programs with probed genes: {len(adata_one_shot.uns[gp_names_key])}.\")\n",
    "print(f\"Example gene programs: {random.sample(list(adata_one_shot.uns[gp_names_key]), 5)}.\")\n",
    "print(f\"Number of gene program target genes: {adata_one_shot.varm[gp_targets_mask_key].sum()}.\")\n",
    "print(f\"Number of gene program source genes: {adata_one_shot.varm[gp_sources_mask_key].sum()}.\")"
   ]
  },
  {
   "cell_type": "markdown",
   "id": "1f53d723-4fd7-49dc-844b-58cf8b9585a2",
   "metadata": {},
   "source": [
    "## 3. Model Training"
   ]
  },
  {
   "cell_type": "markdown",
   "id": "25106553-4cb4-4e87-986e-b4380c84c68f",
   "metadata": {},
   "source": [
    "### 3.1 Batch Integration Baselines"
   ]
  },
  {
   "cell_type": "code",
   "execution_count": null,
   "id": "16dace98-3c7a-42b2-8a6f-2e18944ab087",
   "metadata": {},
   "outputs": [],
   "source": [
    "### TO DO ###"
   ]
  },
  {
   "cell_type": "markdown",
   "id": "66be56c9-58f8-4e1d-bc84-f8568d5e9ee9",
   "metadata": {},
   "source": [
    "#### 3.1.1 scVI"
   ]
  },
  {
   "cell_type": "code",
   "execution_count": null,
   "id": "b09b55b6-433a-449f-a73c-d9179584647e",
   "metadata": {},
   "outputs": [],
   "source": [
    "scvi.settings.seed = random_seed\n",
    "    \n",
    "# Setup adata\n",
    "scvi.model.SCVI.setup_anndata(adata_one_shot,\n",
    "                              layer=counts_key,\n",
    "                              batch_key=condition_key)\n",
    "\n",
    "# Initialize model\n",
    "# Use hyperparams that provenly work well on integration tasks (https://docs.scvi-tools.org/en/stable/tutorials/notebooks/harmonization.html)\n",
    "vae = scvi.model.SCVI(adata_one_shot,\n",
    "                      n_layers=2,\n",
    "                      n_latent=30,\n",
    "                      gene_likelihood=\"nb\")\n",
    "\n",
    "# Train model\n",
    "vae.train()\n",
    "\n",
    "adata_one_shot.obsm[\"scvi_latent\"] = vae.get_latent_representation()"
   ]
  },
  {
   "cell_type": "code",
   "execution_count": null,
   "id": "b7d75609-4023-40b2-9027-c8aa1d0579f8",
   "metadata": {},
   "outputs": [],
   "source": [
    "# Use scVI latent space for UMAP generation\n",
    "sc.pp.neighbors(adata_one_shot, use_rep=\"scvi_latent\")\n",
    "sc.tl.umap(adata_one_shot)"
   ]
  },
  {
   "cell_type": "code",
   "execution_count": null,
   "id": "43af2fbb-4dc2-4082-8580-b982cd59c632",
   "metadata": {},
   "outputs": [],
   "source": [
    "# Plot UMAP with batch annotations\n",
    "fig = sc.pl.umap(adata_one_shot,\n",
    "                 color=[cell_type_key],\n",
    "                 legend_fontsize=12,\n",
    "                 return_fig=True)\n",
    "plt.title(\"scVI Integration: Latent Space Cell Type Annotations\", size=20, pad=15)\n",
    "fig.savefig(f\"{figure_folder_path}/latent_cell_types_scvi.png\",\n",
    "            bbox_inches=\"tight\")"
   ]
  },
  {
   "cell_type": "markdown",
   "id": "9823ccdb-7f44-4ccb-b983-9a94b2a40b95",
   "metadata": {},
   "source": [
    "#### 3.1.2 SageNet"
   ]
  },
  {
   "cell_type": "code",
   "execution_count": null,
   "id": "9d1a477d-5cef-4af8-a1d6-93f9640045b9",
   "metadata": {},
   "outputs": [],
   "source": [
    "#################################################################\n",
    "This cell throws an error as the solver cannot solve this problem\n",
    "#################################################################\n",
    "\n",
    "\n",
    "# Construct gene interaction network for spatial references\n",
    "for i in range(len(adata_batch_list[:-2])):\n",
    "    adata_batch_list[i].X = adata_batch_list[i].X.toarray() # convert to dense matrix as required by glasso\n",
    "    print(\"Computing gene interaction network...\")\n",
    "    glasso(adata_batch_list[i], [0.25, 0.5])\n",
    "    adata_batch_list[i].X = sp.csc_matrix(adata_batch_list[i].X) # convert back to sparse matrix\n",
    "    print(\"Computing Leiden clusters...\")\n",
    "    sc.tl.leiden(adata_batch_list[i],\n",
    "                 resolution=.05,\n",
    "                 random_state=random_seed,\n",
    "                 key_added=\"leiden_0.05\",\n",
    "                 adjacency=adata_batch_list[i].obsp[\"spatial_connectivities\"])\n",
    "    sc.tl.leiden(adata_batch_list[i],\n",
    "                 resolution=.1,\n",
    "                 random_state=random_seed,\n",
    "                 key_added=\"leiden_0.1\",\n",
    "                 adjacency=adata_batch_list[i].obsp[\"spatial_connectivities\"])\n",
    "    sc.tl.leiden(adata_batch_list[i],\n",
    "                 resolution=.5,\n",
    "                 random_state=random_seed,\n",
    "                 key_added=\"leiden_0.5\",\n",
    "                 adjacency=adata_batch_list[i].obsp[\"spatial_connectivities\"])"
   ]
  },
  {
   "cell_type": "code",
   "execution_count": null,
   "id": "7d9b3ff9-9f93-40c1-89aa-ecc34f9f35df",
   "metadata": {},
   "outputs": [],
   "source": [
    "if torch.cuda.is_available():\n",
    "  dev = \"cuda:0\"\n",
    "else:\n",
    "  dev = \"cpu\"\n",
    "device = torch.device(dev)\n",
    "print(device)"
   ]
  },
  {
   "cell_type": "code",
   "execution_count": null,
   "id": "a87ce200-10c9-4099-9880-62ee4f5aa387",
   "metadata": {},
   "outputs": [],
   "source": [
    "# Define model object\n",
    "sg_obj = sca.models.sagenet(device=device)"
   ]
  },
  {
   "cell_type": "code",
   "execution_count": null,
   "id": "3bd23757-47d5-48c2-8638-aaab0bcb7e2b",
   "metadata": {},
   "outputs": [],
   "source": [
    "# Train model on spatial references\n",
    "for i in range(len(adata_batch_list[:-2])):\n",
    "    sg_obj.train(adata_batch_list[i],\n",
    "                 comm_columns=['leiden_0.05', 'leiden_0.1', 'leiden_0.5'],\n",
    "                 tag=f'batch{i}',\n",
    "                 epochs=15,\n",
    "                 verbose = False,\n",
    "                 importance=True)"
   ]
  },
  {
   "cell_type": "code",
   "execution_count": null,
   "id": "16e80b35-4589-41c8-9e8d-0caa4734a9ea",
   "metadata": {},
   "outputs": [],
   "source": [
    "# Save model\n",
    "os.makedirs(model_artifacts_folder_path + \"/sagenet\")\n",
    "sg_obj.save_as_folder(model_artifacts_folder_path + \"/sagenet\")"
   ]
  },
  {
   "cell_type": "code",
   "execution_count": null,
   "id": "51c8a08d-bfdc-4325-9b5f-121c099d0679",
   "metadata": {},
   "outputs": [],
   "source": [
    "# Load model\n",
    "sg_obj_load = sca.models.sagenet(device=device)\n",
    "sg_obj_load.load_from_folder(model_artifacts_folder_path + \"/sagenet\")"
   ]
  },
  {
   "cell_type": "code",
   "execution_count": null,
   "id": "8895d878-4419-4425-a9b3-9f9df89cd487",
   "metadata": {},
   "outputs": [],
   "source": [
    "# Load query\n",
    "sg_obj_load.load_query_data(adata)"
   ]
  },
  {
   "cell_type": "code",
   "execution_count": null,
   "id": "24d89ccc-2477-4a2e-a90a-27de866adf89",
   "metadata": {
    "tags": []
   },
   "outputs": [],
   "source": [
    "# Use SageNet cell-cell-distances for UMAP generation\n",
    "sc.pp.neighbors(adata, use_rep=\"dist_map\")\n",
    "sc.tl.umap(adata)"
   ]
  },
  {
   "cell_type": "code",
   "execution_count": null,
   "id": "e789578c-6c01-43de-a2ba-ec6d4631879c",
   "metadata": {},
   "outputs": [],
   "source": [
    "# Plot UMAP with batch annotations\n",
    "fig = sc.pl.umap(adata,\n",
    "                 color=[condition_key],\n",
    "                 legend_fontsize=12,\n",
    "                 return_fig=True)\n",
    "plt.title(\"SageNet Integration: Latent Space Batch Annotations\", size=20, pad=15)\n",
    "fig.savefig(f\"{figure_folder_path}/latent_batches_sagenet.png\",\n",
    "            bbox_inches=\"tight\")"
   ]
  },
  {
   "cell_type": "code",
   "execution_count": null,
   "id": "b3d716c3-d093-4ee8-a1bb-c771b99c45ff",
   "metadata": {},
   "outputs": [],
   "source": [
    "# Plot UMAP with cell type annotations\n",
    "fig = sc.pl.umap(adata,\n",
    "                 color=[cell_type_key],\n",
    "                 return_fig=True)\n",
    "plt.title(\"SageNet: Latent Space Cell Type Annotations\", size=20, pad=15)\n",
    "fig.savefig(f\"{figure_folder_path}/latent_cell_types_sagenet.png\",\n",
    "            bbox_inches=\"tight\")"
   ]
  },
  {
   "cell_type": "markdown",
   "id": "9bd02927-cb15-4c22-b690-6787f6df2780",
   "metadata": {},
   "source": [
    "#### 3.1.3 BBKNN"
   ]
  },
  {
   "cell_type": "code",
   "execution_count": null,
   "id": "12b18b90-ea5b-4f18-b0a5-95e6d5eb5394",
   "metadata": {},
   "outputs": [],
   "source": [
    "latent_bbknn_list = []\n",
    "for i in range(len(adata_batch_list)):\n",
    "    # Initialize model\n",
    "    model = Autotalker(adata_batch_list[i],\n",
    "                       counts_key=counts_key,\n",
    "                       adj_key=adj_key,\n",
    "                       condition_key=condition_key,\n",
    "                       cond_embed_injection=[\"encoder\",\n",
    "                                             \"gene_expr_decoder\",\n",
    "                                             \"graph_decoder\"],\n",
    "                       n_cond_embed=n_cond_embed,\n",
    "                       gp_names_key=gp_names_key,\n",
    "                       active_gp_names_key=active_gp_names_key,\n",
    "                       gp_targets_mask_key=gp_targets_mask_key,\n",
    "                       gp_sources_mask_key=gp_sources_mask_key,\n",
    "                       latent_key=latent_key,\n",
    "                       active_gp_thresh_ratio=0., # all gps will be active for concatenation across batches\n",
    "                       gene_expr_recon_dist=gene_expr_recon_dist,\n",
    "                       n_hidden_encoder=n_hidden_encoder,\n",
    "                       log_variational=True)\n",
    "    print(\"\")\n",
    "    \n",
    "    # Train model\n",
    "    model.train(n_epochs=n_epochs,\n",
    "                n_epochs_all_gps=n_epochs, # all gps will be active for concatenation across batches\n",
    "                lr=lr,\n",
    "                lambda_edge_recon=lambda_edge_recon,\n",
    "                lambda_gene_expr_recon=lambda_gene_expr_recon,\n",
    "                verbose=True)\n",
    "    print(\"\")\n",
    "    \n",
    "    # Save trained model\n",
    "    model.save(dir_path=model_artifacts_folder_path + f\"/bbknn_batch{i+1}\",\n",
    "               overwrite=True,\n",
    "               save_adata=True,\n",
    "               adata_file_name=f\"{dataset}.h5ad\")\n",
    "    \n",
    "    latent_bbknn_current_batch = model.get_latent_representation(\n",
    "        adata=adata_batch_list[i],\n",
    "        counts_key=counts_key,\n",
    "        condition_key=condition_key,\n",
    "        only_active_gps=False)\n",
    "    \n",
    "    latent_bbknn_list.append(latent_bbknn_current_batch)\n",
    "    \n",
    "adata_bbknn.obsm[latent_key] = np.vstack(latent_bbknn_list)\n",
    "\n",
    "# Store adata to disk\n",
    "adata_bbknn.write(f\"{model_artifacts_folder_path}/adata_bbknn.h5ad\")"
   ]
  },
  {
   "cell_type": "code",
   "execution_count": null,
   "id": "fe9f82bc-17c5-4a01-ba4a-96f0bcc018ee",
   "metadata": {},
   "outputs": [],
   "source": [
    "if load_timestamp is not None:\n",
    "    model_artifacts_load_folder_path = f\"../artifacts/{dataset}/batch_integration/{load_timestamp}\"\n",
    "else:\n",
    "    model_artifacts_load_folder_path = model_artifacts_folder_path\n",
    "\n",
    "# Read adata from disk\n",
    "adata_bbknn = sc.read_h5ad(f\"{model_artifacts_load_folder_path}/adata_bbknn.h5ad\")"
   ]
  },
  {
   "cell_type": "code",
   "execution_count": null,
   "id": "4a9b1196-d780-4cc5-a7a9-71328b147d01",
   "metadata": {},
   "outputs": [],
   "source": [
    "# Compute batch-corrected latent nearest neighbor graph\n",
    "bbknn.bbknn(adata=adata_bbknn,\n",
    "            batch_key=condition_key,\n",
    "            use_rep=latent_key)\n",
    "\n",
    "adata_bbknn.obsp[f\"{latent_knng_key}_connectivities\"] = (\n",
    "    adata_bbknn.obsp[\"connectivities\"])\n",
    "\n",
    "adata_bbknn.obsp[f\"{latent_knng_key}_distances\"] = (\n",
    "    adata_bbknn.obsp[\"distances\"])"
   ]
  },
  {
   "cell_type": "code",
   "execution_count": null,
   "id": "f3363766-a66c-4bb7-be68-2e2f897c4546",
   "metadata": {},
   "outputs": [],
   "source": [
    "# Use batch-corrected latent space for UMAP generation\n",
    "sc.tl.umap(adata_bbknn)"
   ]
  },
  {
   "cell_type": "code",
   "execution_count": null,
   "id": "e3e34af6-53d2-49d0-9120-ca02f9813ecf",
   "metadata": {},
   "outputs": [],
   "source": [
    "# Plot UMAP with batch annotations\n",
    "fig = sc.pl.umap(adata_bbknn,\n",
    "                 color=[condition_key],\n",
    "                 legend_fontsize=12,\n",
    "                 return_fig=True)\n",
    "plt.title(\"BBKNN Integration: Latent Space Batch Annotations\", size=20, pad=15)\n",
    "fig.savefig(f\"{figure_folder_path}/latent_batches_bbknn.png\",\n",
    "            bbox_inches=\"tight\")"
   ]
  },
  {
   "cell_type": "code",
   "execution_count": null,
   "id": "26d19d51-7af4-4a7c-ab95-71f7920b2240",
   "metadata": {},
   "outputs": [],
   "source": [
    "# Plot UMAP with cell type annotations\n",
    "fig = sc.pl.umap(adata_bbknn,\n",
    "                 color=[cell_type_key],\n",
    "                 return_fig=True)\n",
    "plt.title(\"BBKNN Integration: Latent Space Cell Type Annotations\", size=20, pad=15)\n",
    "fig.savefig(f\"{figure_folder_path}/latent_cell_types_bbknn.png\",\n",
    "            bbox_inches=\"tight\")"
   ]
  },
  {
   "cell_type": "code",
   "execution_count": null,
   "id": "3cac637f-bdfe-4efd-88f4-9b6a6ff683a5",
   "metadata": {},
   "outputs": [],
   "source": [
    "# Compute spatial nearest neighbor graph\n",
    "sc.pp.neighbors(adata_bbknn, use_rep=spatial_key, key_added=spatial_knng_key)"
   ]
  },
  {
   "cell_type": "code",
   "execution_count": null,
   "id": "a524c5b9-2a23-4110-a5ba-ff38294b12f2",
   "metadata": {},
   "outputs": [],
   "source": [
    "metrics_dict_bbknn = {}\n",
    "\n",
    "metrics_dict_bbknn[\"cad\"] = compute_cad(\n",
    "    adata=adata_bbknn,\n",
    "    cell_type_key=cell_type_key,\n",
    "    spatial_knng_key=spatial_knng_key,\n",
    "    latent_knng_key=latent_knng_key)\n",
    "\n",
    "metrics_dict_bbknn[\"rclisi\"] = compute_rclisi(\n",
    "    adata=adata_bbknn,\n",
    "    cell_type_key=cell_type_key,\n",
    "    spatial_knng_key=spatial_knng_key,\n",
    "    latent_knng_key=latent_knng_key)\n",
    "    \n",
    "metrics_dict_bbknn[\"batch_asw\"] = scib.me.silhouette_batch(\n",
    "    adata=adata_bbknn,\n",
    "    batch_key=condition_key,\n",
    "    label_key=cell_type_key,\n",
    "    embed=\"X_umap\")\n",
    "\n",
    "# knn output\n",
    "metrics_dict_bbknn[\"ilisi\"] = scib.me.ilisi_graph(\n",
    "    adata=adata_bbknn,\n",
    "    batch_key=condition_key,\n",
    "    type_=\"knn\")\n",
    "\n",
    "\"\"\"\n",
    "metrics_dict_bbknn[\"kbet\"] = scib.me.kBET(\n",
    "    adata=adata_bbknn,\n",
    "    batch_key=condition_key,\n",
    "    label_key=cell_type_key,\n",
    "    type_=\"knn\")\n",
    "\"\"\"\n",
    "\n",
    "print(metrics_dict_bbknn)\n",
    "\n",
    "# Store to disk\n",
    "with open(f\"{model_artifacts_folder_path}/metrics_bbknn.pickle\", \"wb\") as f:\n",
    "    pickle.dump(metrics_dict_bbknn, f)"
   ]
  },
  {
   "cell_type": "markdown",
   "id": "2c487a7d-a8ba-4447-b856-3473b7daca83",
   "metadata": {},
   "source": [
    "### 3.2 One-Shot Batch Integration"
   ]
  },
  {
   "cell_type": "markdown",
   "id": "a915a48a-1fe9-45a5-a5c2-f6ed24414f59",
   "metadata": {},
   "source": [
    "#### 3.2.1 Initialize, Train & Save Model"
   ]
  },
  {
   "cell_type": "code",
   "execution_count": 26,
   "id": "21c525d4-f561-4b99-8df9-d3e1dee5233f",
   "metadata": {},
   "outputs": [
    {
     "name": "stdout",
     "output_type": "stream",
     "text": [
      "--- INITIALIZING NEW NETWORK MODULE: VARIATIONAL GENE PROGRAM GRAPH AUTOENCODER ---\n",
      "LOSS -> include_edge_recon_loss: True, include_gene_expr_recon_loss: True, gene_expr_recon_dist: nb\n",
      "NODE LABEL METHOD -> one-hop-attention\n",
      "ACTIVE GP THRESHOLD RATIO -> 0.03\n",
      "LOG VARIATIONAL -> False\n",
      "CONDITIONAL EMBEDDING INJECTION -> ['gene_expr_decoder', 'graph_decoder']\n",
      "GRAPH ENCODER -> n_input: 1651, n_cond_embed_input: 0, n_layers: 1, n_hidden: 1429, n_latent: 1429, n_addon_latent: 0, conv_layer: gcnconv, n_attention_heads: 0, dropout_rate: 0.0\n",
      "COSINE SIM GRAPH DECODER -> n_cond_embed_input: 180, n_output: 1429, dropout_rate: 0.0\n",
      "MASKED GENE EXPRESSION DECODER -> n_input: 1429, n_cond_embed_input: 180, n_addon_input: 0, n_output: 3302\n"
     ]
    }
   ],
   "source": [
    "# Initialize model\n",
    "model = Autotalker(adata_one_shot,\n",
    "                   counts_key=counts_key,\n",
    "                   adj_key=adj_key,\n",
    "                   condition_key=condition_key,\n",
    "                   cond_embed_injection=[\"gene_expr_decoder\",\n",
    "                                         \"graph_decoder\"],\n",
    "                   n_cond_embed=n_cond_embed,\n",
    "                   gp_names_key=gp_names_key,\n",
    "                   active_gp_names_key=active_gp_names_key,\n",
    "                   gp_targets_mask_key=gp_targets_mask_key,\n",
    "                   gp_sources_mask_key=gp_sources_mask_key,\n",
    "                   latent_key=latent_key,\n",
    "                   active_gp_thresh_ratio=active_gp_thresh_ratio,\n",
    "                   gene_expr_recon_dist=gene_expr_recon_dist,\n",
    "                   n_layers_encoder=n_layers_encoder,\n",
    "                   conv_layer_encoder=conv_layer_encoder,\n",
    "                   n_hidden_encoder=n_hidden_encoder,\n",
    "                   log_variational=log_variational)"
   ]
  },
  {
   "cell_type": "raw",
   "id": "e9880f2d-50e5-4782-a6f1-203854650516",
   "metadata": {},
   "source": [
    "#mlflow.end_run()\n",
    "#del(model)\n",
    "torch.cuda.empty_cache()\n",
    "import gc\n",
    "gc.collect()"
   ]
  },
  {
   "cell_type": "code",
   "execution_count": null,
   "id": "45e114a0-df71-4573-a9fd-d8f89f79dad0",
   "metadata": {},
   "outputs": [
    {
     "name": "stdout",
     "output_type": "stream",
     "text": [
      "--- INITIALIZING TRAINER ---\n",
      "Number of training nodes: 47311\n",
      "Number of validation nodes: 5257\n",
      "Number of training edges: 398043\n",
      "Number of validation edges: 44226\n",
      "\n",
      "--- MODEL TRAINING ---\n",
      "Epoch 1/40 |--------------------| 2.5% val_auroc_score: 0.9855; val_auprc_score: 0.9838; val_best_acc_score: 0.9395; val_best_f1_score: 0.9404; train_kl_reg_loss: 1.7375; train_edge_recon_loss: 1585.4683; train_gene_expr_recon_loss: 545.0324; train_masked_gp_l1_reg_loss: 1.4551; train_group_lasso_reg_loss: 0.8199; train_global_loss: 2134.5133; train_optim_loss: 2134.5133; val_kl_reg_loss: 0.7212; val_edge_recon_loss: 1560.8402; val_gene_expr_recon_loss: 491.2335; val_masked_gp_l1_reg_loss: 1.5953; val_group_lasso_reg_loss: 0.9423; val_global_loss: 2055.3325; val_optim_loss: 2055.3325\n"
     ]
    }
   ],
   "source": [
    "# Train model\n",
    "model.train(n_epochs,\n",
    "            n_epochs_all_gps=n_epochs_all_gps,\n",
    "            lr=lr,\n",
    "            lambda_edge_recon=lambda_edge_recon,\n",
    "            lambda_gene_expr_recon=lambda_gene_expr_recon,\n",
    "            lambda_group_lasso=lambda_group_lasso,\n",
    "            lambda_l1_masked=lambda_l1_masked,\n",
    "            edge_batch_size=edge_batch_size,\n",
    "            node_batch_size=node_batch_size,\n",
    "            # mlflow_experiment_id=experiment.experiment_id,\n",
    "            verbose=True)"
   ]
  },
  {
   "cell_type": "code",
   "execution_count": null,
   "id": "e1ed97c7-4186-44cf-a459-569b61c7e534",
   "metadata": {},
   "outputs": [],
   "source": [
    "# Save trained model\n",
    "model.save(dir_path=model_artifacts_folder_path + \"/oneshot\",\n",
    "           overwrite=True,\n",
    "           save_adata=True,\n",
    "           adata_file_name=f\"{dataset}.h5ad\")"
   ]
  },
  {
   "cell_type": "markdown",
   "id": "fc8eb04d-47de-4650-b3a1-4e2f9d361955",
   "metadata": {},
   "source": [
    "#### 3.2.2 Load & Save Model with UMAP Features"
   ]
  },
  {
   "cell_type": "code",
   "execution_count": null,
   "id": "59dee9e3-55c3-496e-a9c5-bc5abdf06b13",
   "metadata": {},
   "outputs": [],
   "source": [
    "if load_timestamp is not None:\n",
    "    model_artifacts_load_folder_path = f\"../artifacts/{dataset}/batch_integration/{load_timestamp}\"\n",
    "else:\n",
    "    model_artifacts_load_folder_path = model_artifacts_folder_path\n",
    "\n",
    "# Load trained model\n",
    "model = Autotalker.load(dir_path=model_artifacts_load_folder_path + \"/oneshot\",\n",
    "                        adata=None,\n",
    "                        adata_file_name=f\"{dataset}.h5ad\",\n",
    "                        gp_names_key=\"autotalker_gp_names\")"
   ]
  },
  {
   "cell_type": "code",
   "execution_count": null,
   "id": "ee0cff61-3a66-43a8-86c7-6523da2f9e67",
   "metadata": {},
   "outputs": [],
   "source": [
    "# Compute latent nearest neighbor graph\n",
    "sc.pp.neighbors(model.adata,\n",
    "                use_rep=latent_key,\n",
    "                key_added=latent_knng_key)\n",
    "\n",
    "# Use Autotalker latent space for UMAP generation\n",
    "sc.tl.umap(model.adata,\n",
    "           neighbors_key=latent_knng_key)"
   ]
  },
  {
   "cell_type": "code",
   "execution_count": null,
   "id": "527530a6-59e1-4a84-8ccf-5e866b05e5c9",
   "metadata": {},
   "outputs": [],
   "source": [
    "# Save trained model\n",
    "model.save(dir_path=model_artifacts_folder_path + \"/oneshot\",\n",
    "           overwrite=True,\n",
    "           save_adata=True,\n",
    "           adata_file_name=f\"{dataset}.h5ad\")"
   ]
  },
  {
   "cell_type": "code",
   "execution_count": null,
   "id": "08dcd2e7-db7b-43d0-96f9-556679a4d391",
   "metadata": {},
   "outputs": [],
   "source": [
    "# Save adata\n",
    "model.adata.write(f\"{model_artifacts_folder_path}/{dataset}_oneshot.h5ad\")"
   ]
  },
  {
   "cell_type": "markdown",
   "id": "9747fd10-eaee-4fce-a4f7-4e0e756040f2",
   "metadata": {
    "tags": []
   },
   "source": [
    "#### 3.2.3 Visualize Latent Space"
   ]
  },
  {
   "cell_type": "code",
   "execution_count": null,
   "id": "09684cbd-1a41-405c-a0f7-f04c641b5321",
   "metadata": {},
   "outputs": [],
   "source": [
    "# Plot UMAP with batch annotations\n",
    "fig = sc.pl.umap(model.adata,\n",
    "                 color=[condition_key],\n",
    "                 legend_fontsize=12,\n",
    "                 return_fig=True)\n",
    "plt.title(\"One-Shot Integration: Latent Space Batch Annotations\", size=20, pad=15)\n",
    "fig.savefig(f\"{figure_folder_path}/latent_batches_oneshot.png\",\n",
    "            bbox_inches=\"tight\")"
   ]
  },
  {
   "cell_type": "code",
   "execution_count": null,
   "id": "07ea68fb-2ab3-4f58-94ae-1bcaf4391c1d",
   "metadata": {},
   "outputs": [],
   "source": [
    "# Plot UMAP with cell type annotations\n",
    "fig = sc.pl.umap(model.adata,\n",
    "                 color=[cell_type_key],\n",
    "                 return_fig=True)\n",
    "plt.title(\"One-Shot Integration: Latent Space Cell Type Annotations\", size=20, pad=15)\n",
    "fig.savefig(f\"{figure_folder_path}/latent_cell_types_oneshot.png\",\n",
    "            bbox_inches=\"tight\")"
   ]
  },
  {
   "cell_type": "code",
   "execution_count": null,
   "id": "430a300f-03ed-4baa-bf99-9f45ae177ca6",
   "metadata": {},
   "outputs": [],
   "source": [
    "# Check number of active gene programs\n",
    "active_gps = model.get_active_gps()\n",
    "print(f\"Number of total gene programs: {len(model.adata.uns[gp_names_key])}.\")\n",
    "print(f\"Number of active gene programs: {len(active_gps)}.\")"
   ]
  },
  {
   "cell_type": "code",
   "execution_count": null,
   "id": "98f92707-def7-43e4-b24b-8102ba22bfd8",
   "metadata": {},
   "outputs": [],
   "source": [
    "gp_summary_df = model.get_gp_summary()\n",
    "gp_summary_df[gp_summary_df[\"gp_active\"] == True]"
   ]
  },
  {
   "cell_type": "markdown",
   "id": "9e524c6b-a847-47ea-8afd-bb419f47de59",
   "metadata": {},
   "source": [
    "#### 3.2.4 Compute Metrics"
   ]
  },
  {
   "cell_type": "code",
   "execution_count": null,
   "id": "f4430c06-8d93-4603-999d-4e4466ee24c8",
   "metadata": {},
   "outputs": [],
   "source": [
    "# Store computed latent nearest neighbor graph in connectivities\n",
    "# as required by scib metrics\n",
    "model.adata.obsp[\"connectivities\"] = (\n",
    "    model.adata.obsp[f\"{latent_knng_key}_connectivities\"])\n",
    "model.adata.obsp[\"distances\"] = (\n",
    "    model.adata.obsp[f\"{latent_knng_key}_distances\"])\n",
    "model.adata.uns[\"neighbors\"] = (\n",
    "    model.adata.uns[f\"{latent_knng_key}\"])\n",
    "\n",
    "# Compute spatial nearest neighbor graph\n",
    "sc.pp.neighbors(model.adata,\n",
    "                use_rep=spatial_key,\n",
    "                key_added=spatial_knng_key)"
   ]
  },
  {
   "cell_type": "code",
   "execution_count": null,
   "id": "fd853b99-7c64-4619-b6d7-2718361f604d",
   "metadata": {},
   "outputs": [],
   "source": [
    "# Compute metrics\n",
    "metrics_dict_oneshot = {}\n",
    "\n",
    "# Spatial conservation metrics\n",
    "metrics_dict_oneshot[\"cas\"] = compute_cas(\n",
    "    adata=model.adata,\n",
    "    cell_type_key=cell_type_key,\n",
    "    spatial_knng_key=spatial_knng_key,\n",
    "    latent_knng_key=latent_knng_key)\n",
    "metrics_dict_oneshot[\"clisis\"] = compute_clisis(\n",
    "    adata=model.adata,\n",
    "    cell_type_key=cell_type_key,\n",
    "    spatial_knng_key=spatial_knng_key,\n",
    "    latent_knng_key=latent_knng_key)\n",
    "    \n",
    "# Batch correction metrics\n",
    "metrics_dict_oneshot[\"batch_asw\"] = scib.me.silhouette_batch(\n",
    "    adata=model.adata,\n",
    "    batch_key=condition_key,\n",
    "    label_key=cell_type_key,\n",
    "    embed=\"X_umap\")\n",
    "metrics_dict_oneshot[\"ilisi\"] = scib.me.ilisi_graph(\n",
    "    adata=model.adata,\n",
    "    batch_key=condition_key,\n",
    "    type_=\"knn\")\n",
    "\n",
    "print(metrics_dict_oneshot)\n",
    "\n",
    "# Store metrics to disk\n",
    "with open(f\"{model_artifacts_folder_path}/metrics_oneshot.pickle\", \"wb\") as f:\n",
    "    pickle.dump(metrics_dict_oneshot, f)"
   ]
  },
  {
   "cell_type": "markdown",
   "id": "9c4bdb58-0b6a-42fe-a821-1a8aca2519a2",
   "metadata": {},
   "source": [
    "#### 3.2.5 Visualize Conditional Embedding"
   ]
  },
  {
   "cell_type": "code",
   "execution_count": null,
   "id": "886466e6-6d3f-4276-827a-01913ca63eae",
   "metadata": {},
   "outputs": [],
   "source": [
    "# Get conditional embeddings\n",
    "cond_embed = model.get_cond_embeddings()\n",
    "cond = model.adata.obs[\"batch\"].unique()\n",
    "\n",
    "# Get top 2 principal components and plot them\n",
    "pca = KernelPCA(n_components=2, kernel=\"linear\")\n",
    "cond_embed_pca = pca.fit_transform(cond_embed)\n",
    "sns.scatterplot(x=cond_embed_pca[:, 0], \n",
    "                y=cond_embed_pca[:, 1], \n",
    "                hue=cond)\n",
    "plt.title(\"One-Shot Integration Conditional Embeddings\", pad=15)\n",
    "plt.xlabel(\"Principal Component 1\")\n",
    "plt.xticks(fontsize=12)\n",
    "plt.ylabel (\"Principal Component 2\")\n",
    "plt.yticks(fontsize=12)\n",
    "plt.legend(bbox_to_anchor=(1.02, 0.75),\n",
    "           loc=2,\n",
    "           borderaxespad=0.,\n",
    "           fontsize=12,\n",
    "           frameon=False)\n",
    "plt.savefig(f\"{figure_folder_path}/cond_embed_oneshot.png\",\n",
    "            bbox_inches=\"tight\")"
   ]
  },
  {
   "cell_type": "markdown",
   "id": "3a553a3d-2c88-4fcc-93f3-c07693be365d",
   "metadata": {},
   "source": [
    "### 3.3 Query-to-Reference Mapping"
   ]
  },
  {
   "cell_type": "markdown",
   "id": "ac2adc45-78e3-4632-b752-f9b0afe3f2c3",
   "metadata": {},
   "source": [
    "#### 3.3.1 Building the Reference"
   ]
  },
  {
   "cell_type": "markdown",
   "id": "9afbaf87-08b0-4ec4-916b-fd78ba183b03",
   "metadata": {},
   "source": [
    "##### 3.3.1.1 Initialize, Train & Save Model"
   ]
  },
  {
   "cell_type": "code",
   "execution_count": null,
   "id": "bf4ba2d0-3a25-4d03-b884-d854a66f174c",
   "metadata": {},
   "outputs": [],
   "source": [
    "# Initialize model\n",
    "model = Autotalker(adata_reference,\n",
    "                   counts_key=counts_key,\n",
    "                   adj_key=adj_key,\n",
    "                   condition_key=condition_key,\n",
    "                   cond_embed_injection=[\"encoder\",\n",
    "                                         \"gene_expr_decoder\",\n",
    "                                         \"graph_decoder\"],\n",
    "                   n_cond_embed=n_cond_embed,\n",
    "                   gp_names_key=gp_names_key,\n",
    "                   active_gp_names_key=active_gp_names_key,\n",
    "                   gp_targets_mask_key=gp_targets_mask_key,\n",
    "                   gp_sources_mask_key=gp_sources_mask_key,\n",
    "                   latent_key=latent_key,\n",
    "                   active_gp_thresh_ratio=active_gp_thresh_ratio,\n",
    "                   gene_expr_recon_dist=gene_expr_recon_dist,\n",
    "                   n_hidden_encoder=n_hidden_encoder,\n",
    "                   log_variational=log_variational)"
   ]
  },
  {
   "cell_type": "code",
   "execution_count": null,
   "id": "75dc5e24-659a-4b71-b694-b9d8b8ee820e",
   "metadata": {},
   "outputs": [],
   "source": [
    "# Train model\n",
    "model.train(n_epochs,\n",
    "            n_epochs_all_gps=n_epochs_all_gps,\n",
    "            lr=lr,\n",
    "            lambda_edge_recon=lambda_edge_recon,\n",
    "            lambda_gene_expr_recon=lambda_gene_expr_recon,\n",
    "            lambda_l1_masked=lambda_l1_masked,\n",
    "            edge_batch_size=edge_batch_size,\n",
    "            node_batch_size=node_batch_size,\n",
    "            verbose=True)"
   ]
  },
  {
   "cell_type": "code",
   "execution_count": null,
   "id": "08c2bff7-95dc-4c24-9be1-0c11d44d5390",
   "metadata": {},
   "outputs": [],
   "source": [
    "# Save trained model\n",
    "model.save(dir_path=model_artifacts_folder_path + \"/reference\",\n",
    "           overwrite=True,\n",
    "           save_adata=True,\n",
    "           adata_file_name=f\"{dataset}.h5ad\")"
   ]
  },
  {
   "cell_type": "markdown",
   "id": "12c3e9e8-f606-4511-a6d4-bf6327c03fc4",
   "metadata": {},
   "source": [
    "##### 3.3.1.2 Load Model"
   ]
  },
  {
   "cell_type": "code",
   "execution_count": null,
   "id": "1e5b8db9-a76e-419b-b797-6028e58e866a",
   "metadata": {},
   "outputs": [],
   "source": [
    "if load_timestamp is not None:\n",
    "    model_artifacts_load_folder_path = f\"../artifacts/{dataset}/batch_integration/{load_timestamp}\"\n",
    "else:\n",
    "    model_artifacts_load_folder_path = model_artifacts_folder_path\n",
    "\n",
    "# Load trained model\n",
    "model = Autotalker.load(dir_path=model_artifacts_load_folder_path + \"/reference\",\n",
    "                        adata=None,\n",
    "                        adata_file_name=f\"{dataset}.h5ad\",\n",
    "                        gp_names_key=\"autotalker_gp_names\")"
   ]
  },
  {
   "cell_type": "markdown",
   "id": "e3fc93b0-2c59-41a8-b495-7efe1fd6aebe",
   "metadata": {},
   "source": [
    "##### 3.3.1.3 Visualize Latent Space"
   ]
  },
  {
   "cell_type": "code",
   "execution_count": null,
   "id": "fe52e5d5-792e-4eee-a724-78e6ee26dd75",
   "metadata": {},
   "outputs": [],
   "source": [
    "# Use Autotalker latent space for UMAP generation\n",
    "sc.pp.neighbors(model.adata, use_rep=latent_key)\n",
    "sc.tl.umap(model.adata)"
   ]
  },
  {
   "cell_type": "code",
   "execution_count": null,
   "id": "73b318d7-6ab9-4e3d-b330-81de85533eff",
   "metadata": {},
   "outputs": [],
   "source": [
    "# Plot UMAP with batch annotations\n",
    "fig = sc.pl.umap(model.adata,\n",
    "                 color=[condition_key],\n",
    "                 legend_fontsize=12,\n",
    "                 return_fig=True)\n",
    "plt.title(\"Reference: Latent Space Batch Annotations\", size=20, pad=15)\n",
    "fig.savefig(f\"{figure_folder_path}/latent_batches_reference.png\",\n",
    "            bbox_inches=\"tight\")"
   ]
  },
  {
   "cell_type": "code",
   "execution_count": null,
   "id": "8cbcb8ed-7b1a-4ab1-9869-cc10849784f0",
   "metadata": {},
   "outputs": [],
   "source": [
    "# Plot UMAP with cell type annotations\n",
    "fig = sc.pl.umap(model.adata,\n",
    "                 color=[cell_type_key],\n",
    "                 return_fig=True)\n",
    "plt.title(\"Reference: Latent Space Cell Type Annotations\", size=20, pad=15)\n",
    "fig.savefig(f\"{figure_folder_path}/latent_cell_types_reference.png\",\n",
    "            bbox_inches=\"tight\")"
   ]
  },
  {
   "cell_type": "markdown",
   "id": "b98c90af-b0ae-440b-adde-8d4b2b8ed41f",
   "metadata": {},
   "source": [
    "#### 3.3.2 Mapping the Query"
   ]
  },
  {
   "cell_type": "markdown",
   "id": "08384712-93b9-4952-a614-43d5814cd6b8",
   "metadata": {},
   "source": [
    "##### 3.3.2.1 Initialize, Train & Save Model"
   ]
  },
  {
   "cell_type": "code",
   "execution_count": null,
   "id": "30194516-a9d9-4a75-9572-df50262162c9",
   "metadata": {},
   "outputs": [],
   "source": [
    "if load_timestamp is not None:\n",
    "    model_artifacts_load_folder_path = f\"../artifacts/{dataset}/batch_integration/{load_timestamp}\"\n",
    "else:\n",
    "    model_artifacts_load_folder_path = model_artifacts_folder_path\n",
    "\n",
    "# Load model trained on reference data for transfer learning with query data    \n",
    "# Freeze all weights except for conditional weights\n",
    "model = Autotalker.load(dir_path=model_artifacts_load_folder_path + \"/reference\",\n",
    "                        adata=adata_query,\n",
    "                        adata_file_name=f\"{dataset}.h5ad\",\n",
    "                        gp_names_key=\"autotalker_gp_names\",\n",
    "                        unfreeze_all_weights=False,\n",
    "                        unfreeze_cond_embed_weights=True)"
   ]
  },
  {
   "cell_type": "code",
   "execution_count": null,
   "id": "e6ecdc51-f9e0-443e-840b-7fe9fc668cdc",
   "metadata": {},
   "outputs": [],
   "source": [
    "# Train model\n",
    "model.train(n_epochs,\n",
    "            n_epochs_all_gps=n_epochs_all_gps,\n",
    "            lr=query_cond_embed_lr,\n",
    "            lambda_edge_recon=lambda_edge_recon,\n",
    "            lambda_gene_expr_recon=lambda_gene_expr_recon,\n",
    "            lambda_l1_masked=lambda_l1_masked,\n",
    "            verbose=True)"
   ]
  },
  {
   "cell_type": "code",
   "execution_count": null,
   "id": "fbb836ee-1cb2-4d59-8de6-82be98969b6b",
   "metadata": {},
   "outputs": [],
   "source": [
    "# Save trained model\n",
    "model.save(dir_path=model_artifacts_folder_path + \"/query\",\n",
    "           overwrite=True,\n",
    "           save_adata=True,\n",
    "           adata_file_name=f\"{dataset}.h5ad\")"
   ]
  },
  {
   "cell_type": "markdown",
   "id": "e0e2d251-d944-47f9-833a-2d7cbd2aa400",
   "metadata": {},
   "source": [
    "##### 3.3.2.2 Load & Save Model with Full Dataset & UMAP Features"
   ]
  },
  {
   "cell_type": "code",
   "execution_count": null,
   "id": "071840f3-cd20-4124-abb1-9f08a142fb7a",
   "metadata": {},
   "outputs": [],
   "source": [
    "if load_timestamp is not None:\n",
    "    model_artifacts_load_folder_path = f\"../artifacts/{dataset}/batch_integration/{load_timestamp}\"\n",
    "else:\n",
    "    model_artifacts_load_folder_path = model_artifacts_folder_path\n",
    "\n",
    "# Load trained model\n",
    "model = Autotalker.load(dir_path=model_artifacts_load_folder_path + \"/query\",\n",
    "                        adata=adata_reference_query,\n",
    "                        adata_file_name=f\"{dataset}.h5ad\",\n",
    "                        gp_names_key=\"autotalker_gp_names\")"
   ]
  },
  {
   "cell_type": "code",
   "execution_count": null,
   "id": "73e67657-f58c-4519-97d7-befb6ea04b2f",
   "metadata": {},
   "outputs": [],
   "source": [
    "# Store latent representation\n",
    "model.adata.obsm[latent_key] = model.get_latent_representation(\n",
    "    counts_key=counts_key,\n",
    "    condition_key=condition_key)"
   ]
  },
  {
   "cell_type": "code",
   "execution_count": null,
   "id": "9b3738e4-b7d6-4653-9f21-ae16de96c338",
   "metadata": {},
   "outputs": [],
   "source": [
    "# Store active gene programs\n",
    "model.adata.uns[active_gp_names_key] = model.get_active_gps()"
   ]
  },
  {
   "cell_type": "code",
   "execution_count": null,
   "id": "d4219329-a424-4412-8401-f994d88045d9",
   "metadata": {},
   "outputs": [],
   "source": [
    "# Compute latent nearest neighbor graph\n",
    "sc.pp.neighbors(model.adata,\n",
    "                use_rep=latent_key,\n",
    "                key_added=latent_knng_key)\n",
    "\n",
    "# Use Autotalker latent space for UMAP generation\n",
    "sc.tl.umap(model.adata,\n",
    "           neighbors_key=latent_knng_key)\n",
    "\n",
    "# Compute spatial nearest neighbor graph\n",
    "sc.pp.neighbors(model.adata,\n",
    "                use_rep=spatial_key,\n",
    "                key_added=spatial_knng_key)"
   ]
  },
  {
   "cell_type": "code",
   "execution_count": null,
   "id": "26133fa5-97bd-48da-bb34-5585ae7336d1",
   "metadata": {},
   "outputs": [],
   "source": [
    "# Save trained model\n",
    "model.save(dir_path=model_artifacts_folder_path + \"/reference_query\",\n",
    "           overwrite=True,\n",
    "           save_adata=True,\n",
    "           adata_file_name=f\"{dataset}.h5ad\")"
   ]
  },
  {
   "cell_type": "code",
   "execution_count": null,
   "id": "9db69c85-456f-4d75-8e4e-5879c5471e9d",
   "metadata": {},
   "outputs": [],
   "source": [
    "# Save adata\n",
    "model.adata.write(f\"{model_artifacts_folder_path}/{dataset}_integrated.h5ad\")"
   ]
  },
  {
   "cell_type": "markdown",
   "id": "ea4bc295-04d5-4b00-95b1-ff3521ea9694",
   "metadata": {},
   "source": [
    "##### 3.3.2.3 Visualize Latent Space"
   ]
  },
  {
   "cell_type": "code",
   "execution_count": null,
   "id": "62ac7145-fc28-4968-b9bf-5f0bf1dd4c67",
   "metadata": {},
   "outputs": [],
   "source": [
    "# Plot UMAP with batch annotations\n",
    "fig = sc.pl.umap(model.adata,\n",
    "                 color=[condition_key],\n",
    "                 legend_fontsize=12,\n",
    "                 return_fig=True)\n",
    "plt.title(\"Reference + Query: Latent Space Batch Annotations\", size=20, pad=15)\n",
    "fig.savefig(f\"{figure_folder_path}/latent_batches_reference_query.png\",\n",
    "            bbox_inches=\"tight\")"
   ]
  },
  {
   "cell_type": "code",
   "execution_count": null,
   "id": "0134614d-7acc-45fc-b733-47c0873f6ed0",
   "metadata": {},
   "outputs": [],
   "source": [
    "# Plot UMAP with mapping entity annotations\n",
    "fig = sc.pl.umap(model.adata,\n",
    "                 color=[mapping_entity_key],\n",
    "                 legend_fontsize=12,\n",
    "                 return_fig=True)\n",
    "plt.title(\"Reference + Query: Latent Space Mapping Entity Annotations\", size=20, pad=15)\n",
    "fig.savefig(f\"{figure_folder_path}/latent_mapping_entities_reference_query.png\",\n",
    "            bbox_inches=\"tight\") "
   ]
  },
  {
   "cell_type": "code",
   "execution_count": null,
   "id": "ee30c613-2dfa-4eec-98c9-1199ae1de23e",
   "metadata": {},
   "outputs": [],
   "source": [
    "# Plot UMAP with cell type annotations\n",
    "fig = sc.pl.umap(model.adata,\n",
    "                 color=[cell_type_key],\n",
    "                 return_fig=True)\n",
    "plt.title(\"Reference + Query: Latent Space Cell Type Annotations\", size=20, pad=15)\n",
    "fig.savefig(f\"{figure_folder_path}/latent_cell_types_reference_query.png\",\n",
    "            bbox_inches=\"tight\")"
   ]
  },
  {
   "cell_type": "markdown",
   "id": "532782cd-ca12-4b89-969a-6b8e7ee1a5d3",
   "metadata": {},
   "source": [
    "##### 3.3.2.4 Compute Metrics"
   ]
  },
  {
   "cell_type": "code",
   "execution_count": null,
   "id": "4b183620-2212-4566-81f1-3e393657ebb4",
   "metadata": {},
   "outputs": [],
   "source": [
    "# Compute metrics\n",
    "metrics_dict_reference_query = {}\n",
    "\n",
    "# Spatial conservation metrics\n",
    "metrics_dict_reference_query[\"cad\"] = compute_cad(\n",
    "    adata=model.adata,\n",
    "    cell_type_key=cell_type_key,\n",
    "    spatial_knng_key=spatial_knng_key,\n",
    "    latent_knng_key=latent_knng_key)\n",
    "metrics_dict_reference_query[\"rclisi\"] = compute_rclisi(\n",
    "    adata=model.adata,\n",
    "    cell_type_key=cell_type_key,\n",
    "    spatial_knng_key=spatial_knng_key,\n",
    "    latent_knng_key=latent_knng_key)\n",
    "    \n",
    "# Batch correction metrics\n",
    "metrics_dict_reference_query[\"batch_asw\"] = scib.me.silhouette_batch(\n",
    "    adata=model.adata,\n",
    "    batch_key=condition_key,\n",
    "    label_key=cell_type_key,\n",
    "    embed=latent_key)\n",
    "metrics_dict_reference_query[\"ilisi\"] = scib.me.ilisi_graph(\n",
    "    adata=model.adata,\n",
    "    batch_key=condition_key,\n",
    "    type_=\"embed\",\n",
    "    use_rep=latent_key)\n",
    "\n",
    "print(metrics_dict_reference_query)\n",
    "\n",
    "# Store metrics to disk\n",
    "with open(f\"{model_artifacts_folder_path}/metrics_reference_query.pickle\", \"wb\") as f:\n",
    "    pickle.dump(metrics_dict_reference_query, f)"
   ]
  },
  {
   "cell_type": "markdown",
   "id": "d93aa904-f3cd-4c8f-900f-51a497818d68",
   "metadata": {},
   "source": [
    "##### 3.3.2.5 Visualize Conditional Embedding"
   ]
  },
  {
   "cell_type": "code",
   "execution_count": null,
   "id": "a56481ad-737d-4761-975e-32d1b464ff67",
   "metadata": {},
   "outputs": [],
   "source": [
    "# Get conditional embeddings\n",
    "cond_embed = model.get_conditional_embeddings()\n",
    "cond = model.adata.obs[\"batch\"].unique()\n",
    "\n",
    "# Get top 2 principal components and plot them\n",
    "pca = KernelPCA(n_components=2, kernel=\"linear\")\n",
    "cond_embed_pca = pca.fit_transform(cond_embed)\n",
    "sns.scatterplot(x=cond_embed_pca[:, 0], \n",
    "                y=cond_embed_pca[:, 1], \n",
    "                hue=cond)\n",
    "plt.title(\"Reference + Query Conditional Embeddings\", pad=15)\n",
    "plt.xlabel(\"Principal Component 1\")\n",
    "plt.xticks(fontsize=12)\n",
    "plt.ylabel (\"Principal Component 2\")\n",
    "plt.yticks(fontsize=12)\n",
    "plt.legend(bbox_to_anchor=(1.02, 0.75),\n",
    "           loc=2,\n",
    "           borderaxespad=0.,\n",
    "           fontsize=12,\n",
    "           frameon=False)\n",
    "plt.savefig(f\"{figure_folder_path}/cond_embed_reference_query.png\",\n",
    "            bbox_inches=\"tight\")"
   ]
  },
  {
   "cell_type": "code",
   "execution_count": null,
   "id": "b28a0b8a-d154-4e76-9d7e-d5459498a580",
   "metadata": {},
   "outputs": [],
   "source": []
  }
 ],
 "metadata": {
  "kernelspec": {
   "display_name": "Python 3 (ipykernel)",
   "language": "python",
   "name": "python3"
  },
  "language_info": {
   "codemirror_mode": {
    "name": "ipython",
    "version": 3
   },
   "file_extension": ".py",
   "mimetype": "text/x-python",
   "name": "python",
   "nbconvert_exporter": "python",
   "pygments_lexer": "ipython3",
   "version": "3.9.15"
  }
 },
 "nbformat": 4,
 "nbformat_minor": 5
}
