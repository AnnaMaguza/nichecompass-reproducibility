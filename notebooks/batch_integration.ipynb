{
 "cells": [
  {
   "cell_type": "markdown",
   "id": "1b1daabf-c8e3-43d4-aa32-9789abcc8619",
   "metadata": {},
   "source": [
    "# Autotalker Batch Integration"
   ]
  },
  {
   "cell_type": "markdown",
   "id": "c325d921-2077-42b3-90a8-6f6c7dd928c5",
   "metadata": {},
   "source": [
    "- **Creator**: Sebastian Birk (<sebastian.birk@helmholtz-munich.de>).\n",
    "- **Affiliation:** Helmholtz Munich, Institute of Computational Biology (ICB), Talavera-López Lab\n",
    "- **Date of Creation:** 20.01.2023\n",
    "- **Date of Last Modification:** 21.01.2023"
   ]
  },
  {
   "cell_type": "markdown",
   "id": "2d464ebf-354f-4f61-8040-c3dcbcc893b9",
   "metadata": {},
   "source": [
    "## 1. Setup"
   ]
  },
  {
   "cell_type": "markdown",
   "id": "d5631277-d8d2-4194-a376-280f4f149b7d",
   "metadata": {},
   "source": [
    "### 1.1 Import Libraries"
   ]
  },
  {
   "cell_type": "code",
   "execution_count": 1,
   "id": "4e5d3297-0290-47c0-846f-705e74cdb3de",
   "metadata": {},
   "outputs": [],
   "source": [
    "%load_ext autoreload\n",
    "%autoreload 2"
   ]
  },
  {
   "cell_type": "code",
   "execution_count": 2,
   "id": "8dbd4925-7505-4d01-bf91-95b54bb8b533",
   "metadata": {},
   "outputs": [],
   "source": [
    "import sys\n",
    "sys.path.append(\"../../autotalker\")"
   ]
  },
  {
   "cell_type": "code",
   "execution_count": 3,
   "id": "b4aa3c6a-5a44-4cf1-84a3-5e514457cf3c",
   "metadata": {},
   "outputs": [],
   "source": [
    "import argparse\n",
    "import os\n",
    "import random\n",
    "import warnings\n",
    "from copy import deepcopy\n",
    "from datetime import datetime\n",
    "\n",
    "import anndata as ad\n",
    "import matplotlib\n",
    "import matplotlib.pyplot as plt\n",
    "import mlflow\n",
    "import numpy as np\n",
    "import pandas as pd\n",
    "import scanpy as sc\n",
    "import scipy.sparse as sp\n",
    "import seaborn as sns\n",
    "import squidpy as sq\n",
    "import torch\n",
    "from matplotlib.pyplot import rc_context\n",
    "\n",
    "from autotalker.models import Autotalker\n",
    "from autotalker.utils import (add_gps_from_gp_dict_to_adata,\n",
    "                              extract_gp_dict_from_mebocost_es_interactions,\n",
    "                              extract_gp_dict_from_nichenet_ligand_target_mx,\n",
    "                              extract_gp_dict_from_omnipath_lr_interactions,\n",
    "                              filter_and_combine_gp_dict_gps)"
   ]
  },
  {
   "cell_type": "markdown",
   "id": "9f91f345-c297-47cb-8650-c6d9c60a8b7e",
   "metadata": {},
   "source": [
    "### 1.2 Define Parameters"
   ]
  },
  {
   "cell_type": "code",
   "execution_count": 4,
   "id": "a4d4e6d9-239f-47c5-a30b-579b16d4c27c",
   "metadata": {},
   "outputs": [],
   "source": [
    "## Dataset\n",
    "dataset = \"seqfish_mouse_organogenesis\"\n",
    "batch1 = \"embryo1_rep1\"\n",
    "batch2 = \"embryo1_rep2\"\n",
    "batch3 = \"embryo2_rep1\"\n",
    "batch4 = \"embryo2_rep2\"\n",
    "batch5 = \"embryo3_rep1\"\n",
    "batch6 = \"embryo3_rep2\"\n",
    "n_neighbors = 12\n",
    "\n",
    "## Model\n",
    "# AnnData Keys\n",
    "counts_key = \"counts\"\n",
    "cell_type_key = \"celltype_mapped_refined\"\n",
    "adj_key = \"spatial_connectivities\"\n",
    "spatial_key = \"spatial\"\n",
    "gp_names_key = \"autotalker_gp_names\"\n",
    "active_gp_names_key = \"autotalker_active_gp_names\"\n",
    "gp_targets_mask_key = \"autotalker_gp_targets\"\n",
    "gp_sources_mask_key = \"autotalker_gp_sources\"\n",
    "latent_key = \"autotalker_latent\"\n",
    "condition_key = \"batch\"\n",
    "\n",
    "# Architecture\n",
    "active_gp_thresh_ratio = 0.03\n",
    "gene_expr_recon_dist = \"nb\"\n",
    "\n",
    "# Trainer\n",
    "n_epochs = 20\n",
    "n_epochs_all_gps = 10\n",
    "lr = 0.001\n",
    "\n",
    "## Others\n",
    "random_seed = 42"
   ]
  },
  {
   "cell_type": "markdown",
   "id": "a6c3b7fa-fa59-43dd-81d2-7e116650915f",
   "metadata": {},
   "source": [
    "### 1.3 Run Notebook Setup"
   ]
  },
  {
   "cell_type": "code",
   "execution_count": 5,
   "id": "924032d4-24a4-45cf-87e1-0eba197da0c2",
   "metadata": {},
   "outputs": [],
   "source": [
    "# Ignore future warnings and user warnings\n",
    "warnings.simplefilter(action=\"ignore\", category=FutureWarning)\n",
    "warnings.simplefilter(action=\"ignore\", category=UserWarning)"
   ]
  },
  {
   "cell_type": "code",
   "execution_count": 6,
   "id": "ab22fbaf-aeed-464b-8a20-b640b9e055fd",
   "metadata": {},
   "outputs": [],
   "source": [
    "# Get time of notebook execution for timestamping saved artifacts\n",
    "now = datetime.now()\n",
    "current_timestamp = now.strftime(\"%d%m%Y_%H%M%S\")"
   ]
  },
  {
   "cell_type": "markdown",
   "id": "2b886225-6b6d-433c-b117-47b9a8f8091f",
   "metadata": {},
   "source": [
    "### 1.4 Configure Paths and Create Directories"
   ]
  },
  {
   "cell_type": "code",
   "execution_count": 7,
   "id": "36675337-808d-40a9-93fc-d6cfa9473f66",
   "metadata": {},
   "outputs": [],
   "source": [
    "# Define paths\n",
    "figure_folder_path = f\"../figures/{dataset}/batch_integration/{current_timestamp}\"\n",
    "model_artifacts_folder_path = f\"../artifacts/{dataset}/batch_integration/{current_timestamp}\"\n",
    "gp_data_folder_path = \"../datasets/gp_data\" # gene program data\n",
    "srt_data_folder_path = \"../datasets/srt_data\" # spatially resolved transcriptomics data\n",
    "srt_data_gold_folder_path = f\"{srt_data_folder_path}/gold\"\n",
    "nichenet_ligand_target_mx_file_path = gp_data_folder_path + \"/nichenet_ligand_target_matrix.csv\"\n",
    "omnipath_lr_interactions_file_path = gp_data_folder_path + \"/omnipath_lr_interactions.csv\"\n",
    "\n",
    "# Create required directories\n",
    "os.makedirs(figure_folder_path, exist_ok=True)\n",
    "os.makedirs(model_artifacts_folder_path, exist_ok=True)"
   ]
  },
  {
   "cell_type": "markdown",
   "id": "fd883193-8aa9-4809-aeac-cacb478df22b",
   "metadata": {
    "tags": []
   },
   "source": [
    "## 2. Data"
   ]
  },
  {
   "cell_type": "markdown",
   "id": "049f6853-5dc1-4b68-9240-c4b6a00f1514",
   "metadata": {},
   "source": [
    "### 2.1 Load Data & Compute Spatial Neighbor Graph"
   ]
  },
  {
   "cell_type": "code",
   "execution_count": 8,
   "id": "e9be7111-01fc-451a-83c2-5e20eccafbc1",
   "metadata": {},
   "outputs": [],
   "source": [
    "adata_batch1 = ad.read_h5ad(f\"{srt_data_gold_folder_path}/{dataset}_{batch1}.h5ad\")\n",
    "adata_batch2 = ad.read_h5ad(f\"{srt_data_gold_folder_path}/{dataset}_{batch2}.h5ad\")\n",
    "adata_batch3 = ad.read_h5ad(f\"{srt_data_gold_folder_path}/{dataset}_{batch3}.h5ad\")\n",
    "adata_batch4 = ad.read_h5ad(f\"{srt_data_gold_folder_path}/{dataset}_{batch4}.h5ad\")\n",
    "adata_batch5 = ad.read_h5ad(f\"{srt_data_gold_folder_path}/{dataset}_{batch5}.h5ad\")\n",
    "adata_batch6 = ad.read_h5ad(f\"{srt_data_gold_folder_path}/{dataset}_{batch6}.h5ad\")\n",
    "\n",
    "adata_batch_list = [adata_batch1,\n",
    "                    adata_batch2,\n",
    "                    adata_batch3,\n",
    "                    adata_batch4,\n",
    "                    adata_batch5,\n",
    "                    adata_batch6]"
   ]
  },
  {
   "cell_type": "code",
   "execution_count": 9,
   "id": "ada889e3-9efd-4371-af10-1c17c68be3cc",
   "metadata": {},
   "outputs": [],
   "source": [
    "for adata_batch in adata_batch_list:\n",
    "    # Compute (separate) spatial neighborhood\n",
    "    sq.gr.spatial_neighbors(adata_batch,\n",
    "                            coord_type=\"generic\",\n",
    "                            spatial_key=spatial_key,\n",
    "                            n_neighs=n_neighbors)\n",
    "    # Make adjacency matrix symmetric\n",
    "    adata_batch.obsp[\"spatial_connectivities\"] = adata_batch.obsp[\"spatial_connectivities\"].maximum(\n",
    "        adata_batch.obsp[\"spatial_connectivities\"].T)"
   ]
  },
  {
   "cell_type": "code",
   "execution_count": 10,
   "id": "118d6d1b-e8ab-48c0-89e5-1b056740e0cd",
   "metadata": {},
   "outputs": [],
   "source": [
    "# Combine adata\n",
    "adata = ad.concat(adata_batch_list, join=\"inner\")\n",
    "\n",
    "# Combine spatial neighborhood graphs as disconnected components\n",
    "connectivities_extension_batch1 = sp.csr_matrix((adata_batch1.shape[0],\n",
    "                                                 (adata_batch2.shape[0] +\n",
    "                                                  adata_batch3.shape[0] +\n",
    "                                                  adata_batch4.shape[0] +\n",
    "                                                  adata_batch5.shape[0] +\n",
    "                                                  adata_batch6.shape[0])))\n",
    "connectivities_extension_batch2_before = sp.csr_matrix((adata_batch2.shape[0],\n",
    "                                                        adata_batch1.shape[0]))\n",
    "connectivities_extension_batch2_after = sp.csr_matrix((adata_batch2.shape[0],\n",
    "                                                       (adata_batch3.shape[0] +\n",
    "                                                        adata_batch4.shape[0] +\n",
    "                                                        adata_batch5.shape[0] +\n",
    "                                                        adata_batch6.shape[0])))\n",
    "connectivities_extension_batch3_before = sp.csr_matrix((adata_batch3.shape[0],\n",
    "                                                        (adata_batch1.shape[0] +\n",
    "                                                         adata_batch2.shape[0])))\n",
    "connectivities_extension_batch3_after = sp.csr_matrix((adata_batch3.shape[0],\n",
    "                                                       (adata_batch4.shape[0] +\n",
    "                                                        adata_batch5.shape[0] +\n",
    "                                                        adata_batch6.shape[0])))\n",
    "connectivities_extension_batch4_before = sp.csr_matrix((adata_batch4.shape[0],\n",
    "                                                        (adata_batch1.shape[0] +\n",
    "                                                         adata_batch2.shape[0] +\n",
    "                                                         adata_batch3.shape[0])))\n",
    "connectivities_extension_batch4_after = sp.csr_matrix((adata_batch4.shape[0],\n",
    "                                                       (adata_batch5.shape[0] +\n",
    "                                                        adata_batch6.shape[0])))\n",
    "connectivities_extension_batch5_before = sp.csr_matrix((adata_batch5.shape[0],\n",
    "                                                        (adata_batch1.shape[0] +\n",
    "                                                         adata_batch2.shape[0] +\n",
    "                                                         adata_batch3.shape[0] +\n",
    "                                                         adata_batch4.shape[0])))\n",
    "connectivities_extension_batch5_after = sp.csr_matrix((adata_batch5.shape[0],\n",
    "                                                       adata_batch6.shape[0]))\n",
    "connectivities_extension_batch6 = sp.csr_matrix((adata_batch6.shape[0],\n",
    "                                                 (adata_batch1.shape[0] +\n",
    "                                                  adata_batch2.shape[0] +\n",
    "                                                  adata_batch3.shape[0] +\n",
    "                                                  adata_batch4.shape[0] +\n",
    "                                                  adata_batch5.shape[0])))\n",
    "\n",
    "connectivities_batch1 = sp.hstack((adata_batch1.obsp[\"spatial_connectivities\"],\n",
    "                                   connectivities_extension_batch1))\n",
    "connectivities_batch2 = sp.hstack((connectivities_extension_batch2_before,\n",
    "                                   adata_batch2.obsp[\"spatial_connectivities\"],\n",
    "                                   connectivities_extension_batch2_after))\n",
    "connectivities_batch3 = sp.hstack((connectivities_extension_batch3_before,\n",
    "                                   adata_batch3.obsp[\"spatial_connectivities\"],\n",
    "                                   connectivities_extension_batch3_after))\n",
    "connectivities_batch4 = sp.hstack((connectivities_extension_batch4_before,\n",
    "                                   adata_batch4.obsp[\"spatial_connectivities\"],\n",
    "                                   connectivities_extension_batch4_after))\n",
    "connectivities_batch5 = sp.hstack((connectivities_extension_batch5_before,\n",
    "                                   adata_batch5.obsp[\"spatial_connectivities\"],\n",
    "                                   connectivities_extension_batch5_after))\n",
    "connectivities_batch6 = sp.hstack((connectivities_extension_batch6,\n",
    "                                   adata_batch6.obsp[\"spatial_connectivities\"]))\n",
    "\n",
    "connectivities = sp.vstack((connectivities_batch1,\n",
    "                            connectivities_batch2,\n",
    "                            connectivities_batch3,\n",
    "                            connectivities_batch4,\n",
    "                            connectivities_batch5,\n",
    "                            connectivities_batch6))\n",
    "\n",
    "adata.obsp[\"spatial_connectivities\"] = connectivities"
   ]
  },
  {
   "cell_type": "markdown",
   "id": "1f53d723-4fd7-49dc-844b-58cf8b9585a2",
   "metadata": {},
   "source": [
    "## 3. Autotalker Model"
   ]
  },
  {
   "cell_type": "markdown",
   "id": "2677924a-2550-45ca-b18c-35039aee1d44",
   "metadata": {},
   "source": [
    "### 3.1 Prepare Gene Program Mask"
   ]
  },
  {
   "cell_type": "code",
   "execution_count": 11,
   "id": "ce3d2721-7054-4761-8032-e1641c2523a3",
   "metadata": {},
   "outputs": [],
   "source": [
    "nichenet_gp_dict = extract_gp_dict_from_nichenet_ligand_target_mx(\n",
    "    keep_target_ratio=0.01,\n",
    "    load_from_disk=True,\n",
    "    save_to_disk=False,\n",
    "    file_path=nichenet_ligand_target_mx_file_path)"
   ]
  },
  {
   "cell_type": "code",
   "execution_count": 12,
   "id": "5c9d262a-f54a-40bc-aa63-eb6f42a28886",
   "metadata": {},
   "outputs": [],
   "source": [
    "omnipath_gp_dict = extract_gp_dict_from_omnipath_lr_interactions(\n",
    "    min_curation_effort=0,\n",
    "    load_from_disk=False,\n",
    "    save_to_disk=True,\n",
    "    file_path=omnipath_lr_interactions_file_path)"
   ]
  },
  {
   "cell_type": "code",
   "execution_count": 13,
   "id": "ae0f307d-68f8-4003-89bc-b9ded45569a9",
   "metadata": {},
   "outputs": [],
   "source": [
    "mebocost_gp_dict = extract_gp_dict_from_mebocost_es_interactions(\n",
    "    dir_path=f\"{gp_data_folder_path}/metabolite_enzyme_sensor_gps/\",\n",
    "    species=\"mouse\",\n",
    "    genes_uppercase=True)"
   ]
  },
  {
   "cell_type": "code",
   "execution_count": 14,
   "id": "85b8c216-c3e0-43bb-8de6-24796912dd67",
   "metadata": {},
   "outputs": [],
   "source": [
    "# Combine gene programs into one dictionary\n",
    "combined_gp_dict = dict(nichenet_gp_dict)\n",
    "combined_gp_dict.update(omnipath_gp_dict)\n",
    "combined_gp_dict.update(mebocost_gp_dict)"
   ]
  },
  {
   "cell_type": "code",
   "execution_count": 15,
   "id": "cdc8cb30-2ad9-4903-9a8d-4deb60ffcbbb",
   "metadata": {},
   "outputs": [
    {
     "name": "stdout",
     "output_type": "stream",
     "text": [
      "Removing GP 'CTF1_ligand_receptor_GP' as it is a subset of GP 'CTF1_ligand_targetgenes_GP'.\n",
      "Removing GP 'LEP_ligand_receptor_GP' as it is a subset of GP 'LEP_ligand_targetgenes_GP'.\n",
      "Removing GP 'IL4_ligand_receptor_GP' as it is a subset of GP 'IL4_ligand_targetgenes_GP'.\n",
      "Removing GP 'IL12A_ligand_receptor_GP' as it is a subset of GP 'IL12A_ligand_targetgenes_GP'.\n",
      "Removing GP 'IL23A_ligand_receptor_GP' as it is a subset of GP 'IL23A_ligand_targetgenes_GP'.\n",
      "Removing GP 'CSF2_ligand_receptor_GP' as it is a subset of GP 'CSF2_ligand_targetgenes_GP'.\n",
      "Removing GP 'IL21_ligand_receptor_GP' as it is a subset of GP 'IL21_ligand_targetgenes_GP'.\n",
      "Removing GP 'TSLP_ligand_receptor_GP' as it is a subset of GP 'TSLP_ligand_targetgenes_GP'.\n",
      "Removing GP 'GH2_ligand_receptor_GP' as it is a subset of GP 'GH2_ligand_targetgenes_GP'.\n",
      "Removing GP 'EGF_ligand_receptor_GP' as it is a subset of GP 'EGF_ligand_targetgenes_GP'.\n",
      "Removing GP 'IL10_ligand_receptor_GP' as it is a subset of GP 'IL10_ligand_targetgenes_GP'.\n",
      "Removing GP 'TNFSF4_ligand_receptor_GP' as it is a subset of GP 'TNFSF4_ligand_targetgenes_GP'.\n",
      "Removing GP 'TNFSF18_ligand_receptor_GP' as it is a subset of GP 'TNFSF18_ligand_targetgenes_GP'.\n",
      "Removing GP 'TGFB1_ligand_receptor_GP' as it is a subset of GP 'TGFB1_ligand_targetgenes_GP'.\n",
      "Removing GP 'BMP2_ligand_receptor_GP' as it is a subset of GP 'BMP2_ligand_targetgenes_GP'.\n",
      "Removing GP 'IL1B_ligand_receptor_GP' as it is a subset of GP 'IL1B_ligand_targetgenes_GP'.\n",
      "Removing GP 'CSH1_ligand_receptor_GP' as it is a subset of GP 'CSH1_ligand_targetgenes_GP'.\n",
      "Removing GP 'EDN1_ligand_receptor_GP' as it is a subset of GP 'EDN1_ligand_targetgenes_GP'.\n",
      "Removing GP 'EDN3_ligand_receptor_GP' as it is a subset of GP 'EDN3_ligand_targetgenes_GP'.\n",
      "Removing GP 'GCG_ligand_receptor_GP' as it is a subset of GP 'GCG_ligand_targetgenes_GP'.\n",
      "Removing GP 'HCRT_ligand_receptor_GP' as it is a subset of GP 'HCRT_ligand_targetgenes_GP'.\n",
      "Removing GP 'IGF1_ligand_receptor_GP' as it is a subset of GP 'IGF1_ligand_targetgenes_GP'.\n",
      "Removing GP 'GRP_ligand_receptor_GP' as it is a subset of GP 'GRP_ligand_targetgenes_GP'.\n",
      "Removing GP 'NTF3_ligand_receptor_GP' as it is a subset of GP 'NTF3_ligand_targetgenes_GP'.\n",
      "Removing GP 'AVP_ligand_receptor_GP' as it is a subset of GP 'AVP_ligand_targetgenes_GP'.\n",
      "Removing GP 'CSHL1_ligand_receptor_GP' as it is a subset of GP 'CSHL1_ligand_targetgenes_GP'.\n",
      "Removing GP 'PROK1_ligand_receptor_GP' as it is a subset of GP 'PROK1_ligand_targetgenes_GP'.\n",
      "Removing GP 'AGT_ligand_receptor_GP' as it is a subset of GP 'AGT_ligand_targetgenes_GP'.\n",
      "Removing GP 'GHRH_ligand_receptor_GP' as it is a subset of GP 'GHRH_ligand_targetgenes_GP'.\n",
      "Removing GP 'DLL3_ligand_receptor_GP' as it is a subset of GP 'DLL3_ligand_targetgenes_GP'.\n",
      "Removing GP 'DLL4_ligand_receptor_GP' as it is a subset of GP 'DLL4_ligand_targetgenes_GP'.\n",
      "Removing GP 'FGF23_ligand_receptor_GP' as it is a subset of GP 'FGF23_ligand_targetgenes_GP'.\n",
      "Removing GP 'GDF6_ligand_receptor_GP' as it is a subset of GP 'GDF6_ligand_targetgenes_GP'.\n",
      "Removing GP 'GDF9_ligand_receptor_GP' as it is a subset of GP 'GDF9_ligand_targetgenes_GP'.\n",
      "Removing GP 'IL12B_ligand_receptor_GP' as it is a subset of GP 'IL12B_ligand_targetgenes_GP'.\n",
      "Removing GP 'JAG1_ligand_receptor_GP' as it is a subset of GP 'JAG1_ligand_targetgenes_GP'.\n",
      "Removing GP 'CRLF1_ligand_receptor_GP' as it is a subset of GP 'CRLF1_ligand_targetgenes_GP'.\n",
      "Removing GP 'VGF_ligand_receptor_GP' as it is a subset of GP 'VGF_ligand_targetgenes_GP'.\n",
      "Removing GP 'IL27_ligand_receptor_GP' as it is a subset of GP 'IL27_ligand_targetgenes_GP'.\n",
      "Removing GP 'CMTM8_ligand_receptor_GP' as it is a subset of GP 'CMTM8_ligand_targetgenes_GP'.\n",
      "Removing GP 'SECTM1_ligand_receptor_GP' as it is a subset of GP 'SECTM1_ligand_targetgenes_GP'.\n",
      "Removing GP 'CMTM2_ligand_receptor_GP' as it is a subset of GP 'CMTM2_ligand_targetgenes_GP'.\n",
      "Removing GP 'BMP8A_ligand_receptor_GP' as it is a subset of GP 'BMP8A_ligand_targetgenes_GP'.\n",
      "Removing GP 'GDF3_ligand_receptor_GP' as it is a subset of GP 'GDF3_ligand_targetgenes_GP'.\n",
      "Removing GP 'EFNB3_ligand_targetgenes_GP' as it is a subset of GP 'EFNB3_ligand_receptor_GP'.\n",
      "Removing GP 'EFNB2_ligand_targetgenes_GP' as it is a subset of GP 'EFNB2_ligand_receptor_GP'.\n",
      "Removing GP 'EFNB1_ligand_targetgenes_GP' as it is a subset of GP 'EFNB1_ligand_receptor_GP'.\n",
      "Removing GP 'CCL23_ligand_targetgenes_GP' as it is a subset of GP 'CCL23_ligand_receptor_GP'.\n",
      "Removing GP 'CCL27_ligand_targetgenes_GP' as it is a subset of GP 'CCL27_ligand_receptor_GP'.\n",
      "Removing GP 'CCL28_ligand_targetgenes_GP' as it is a subset of GP 'CCL28_ligand_receptor_GP'.\n",
      "Removing GP 'CCL16_ligand_targetgenes_GP' as it is a subset of GP 'CCL16_ligand_receptor_GP'.\n",
      "Removing GP 'CXCL5_ligand_targetgenes_GP' as it is a subset of GP 'CXCL5_ligand_receptor_GP'.\n",
      "Removing GP 'PMCH_ligand_targetgenes_GP' as it is a subset of GP 'PMCH_ligand_receptor_GP'.\n",
      "Removing GP 'NMS_ligand_targetgenes_GP' as it is a subset of GP 'NMS_ligand_receptor_GP'.\n",
      "Removing GP 'NMU_ligand_targetgenes_GP' as it is a subset of GP 'NMU_ligand_receptor_GP'.\n",
      "Removing GP 'NPB_ligand_targetgenes_GP' as it is a subset of GP 'NPB_ligand_receptor_GP'.\n",
      "Removing GP 'NPW_ligand_targetgenes_GP' as it is a subset of GP 'NPW_ligand_receptor_GP'.\n",
      "Removing GP 'RLN3_ligand_targetgenes_GP' as it is a subset of GP 'RLN3_ligand_receptor_GP'.\n",
      "Removing GP 'PYY_ligand_targetgenes_GP' as it is a subset of GP 'PYY_ligand_receptor_GP'.\n",
      "Removing GP 'PPY_ligand_targetgenes_GP' as it is a subset of GP 'PPY_ligand_receptor_GP'.\n",
      "Removing GP 'NRG3_ligand_targetgenes_GP' as it is a subset of GP 'NRG3_ligand_receptor_GP'.\n",
      "Removing GP 'NRG4_ligand_targetgenes_GP' as it is a subset of GP 'NRG4_ligand_receptor_GP'.\n",
      "Removing GP 'FGF22_ligand_targetgenes_GP' as it is a subset of GP 'FGF22_ligand_receptor_GP'.\n",
      "Removing GP 'FGF13_ligand_targetgenes_GP' as it is a subset of GP 'FGF13_ligand_receptor_GP'.\n",
      "Removing GP 'FGF11_ligand_targetgenes_GP' as it is a subset of GP 'FGF11_ligand_receptor_GP'.\n",
      "Removing GP 'FGF14_ligand_targetgenes_GP' as it is a subset of GP 'FGF14_ligand_receptor_GP'.\n",
      "Removing GP 'PODXL2_ligand_targetgenes_GP' as it is a subset of GP 'PODXL2_ligand_receptor_GP'.\n",
      "Removing GP 'ADM2_ligand_targetgenes_GP' as it is a subset of GP 'ADM2_ligand_receptor_GP'.\n",
      "Removing GP 'APOB_ligand_targetgenes_GP' as it is a subset of GP 'APOB_ligand_receptor_GP'.\n",
      "Removing GP 'NPS_ligand_targetgenes_GP' as it is a subset of GP 'NPS_ligand_receptor_GP'.\n",
      "Removing GP 'PTH2_ligand_targetgenes_GP' as it is a subset of GP 'PTH2_ligand_receptor_GP'.\n",
      "Removing GP 'INSL3_ligand_targetgenes_GP' as it is a subset of GP 'INSL3_ligand_receptor_GP'.\n",
      "Removing GP 'NECTIN3_ligand_targetgenes_GP' as it is a subset of GP 'NECTIN3_ligand_receptor_GP'.\n",
      "Removing GP 'LAMA1_ligand_targetgenes_GP' as it is a subset of GP 'LAMA1_ligand_receptor_GP'.\n",
      "Removing GP 'WNT9A_ligand_targetgenes_GP' as it is a subset of GP 'WNT9A_ligand_receptor_GP'.\n",
      "Removing GP 'WNT9B_ligand_targetgenes_GP' as it is a subset of GP 'WNT9B_ligand_receptor_GP'.\n",
      "Removing GP 'WNT3_ligand_targetgenes_GP' as it is a subset of GP 'WNT3_ligand_receptor_GP'.\n",
      "Removing GP 'SOST_ligand_targetgenes_GP' as it is a subset of GP 'SOST_ligand_receptor_GP'.\n",
      "Removing GP 'EFNA1_ligand_targetgenes_GP' as it is a subset of GP 'EFNA1_ligand_receptor_GP'.\n",
      "Removing GP 'EFNA2_ligand_targetgenes_GP' as it is a subset of GP 'EFNA2_ligand_receptor_GP'.\n",
      "Removing GP 'EFNA3_ligand_targetgenes_GP' as it is a subset of GP 'EFNA3_ligand_receptor_GP'.\n",
      "Removing GP 'CCL22_ligand_targetgenes_GP' as it is a subset of GP 'CCL22_ligand_receptor_GP'.\n",
      "Removing GP 'NRG2_ligand_targetgenes_GP' as it is a subset of GP 'NRG2_ligand_receptor_GP'.\n",
      "Removing GP 'LAMC2_ligand_targetgenes_GP' as it is a subset of GP 'LAMC2_ligand_receptor_GP'.\n",
      "Removing GP 'ICAM5_ligand_targetgenes_GP' as it is a subset of GP 'ICAM5_ligand_receptor_GP'.\n",
      "Removing GP 'COMP_ligand_targetgenes_GP' as it is a subset of GP 'COMP_ligand_receptor_GP'.\n",
      "Removing GP 'CHAD_ligand_targetgenes_GP' as it is a subset of GP 'CHAD_ligand_receptor_GP'.\n",
      "Removing GP 'THBS4_ligand_targetgenes_GP' as it is a subset of GP 'THBS4_ligand_receptor_GP'.\n",
      "Removing GP 'SEMA7A_ligand_targetgenes_GP' as it is a subset of GP 'SEMA7A_ligand_receptor_GP'.\n",
      "Removing GP 'CCL8_ligand_targetgenes_GP' as it is a subset of GP 'CCL8_ligand_receptor_GP'.\n",
      "Removing GP 'CCL7_ligand_targetgenes_GP' as it is a subset of GP 'CCL7_ligand_receptor_GP'.\n",
      "Removing GP 'XCL1_ligand_targetgenes_GP' as it is a subset of GP 'XCL1_ligand_receptor_GP'.\n",
      "Removing GP 'CCL4L1_ligand_targetgenes_GP' as it is a subset of GP 'CCL4L1_ligand_receptor_GP'.\n",
      "Removing GP 'COPA_ligand_targetgenes_GP' as it is a subset of GP 'COPA_ligand_receptor_GP'.\n",
      "Removing GP 'GUCA2A_ligand_targetgenes_GP' as it is a subset of GP 'GUCA2A_ligand_receptor_GP'.\n",
      "Removing GP 'GUCA2B_ligand_targetgenes_GP' as it is a subset of GP 'GUCA2B_ligand_receptor_GP'.\n",
      "Removing GP 'NTN4_ligand_targetgenes_GP' as it is a subset of GP 'NTN4_ligand_receptor_GP'.\n",
      "Removing GP 'CD99_ligand_targetgenes_GP' as it is a subset of GP 'CD99_ligand_receptor_GP'.\n",
      "Removing GP 'SEMA3C_ligand_targetgenes_GP' as it is a subset of GP 'SEMA3C_ligand_receptor_GP'.\n",
      "Removing GP 'NECTIN2_ligand_targetgenes_GP' as it is a subset of GP 'NECTIN2_ligand_receptor_GP'.\n",
      "Removing GP 'HLA-B_ligand_targetgenes_GP' as it is a subset of GP 'HLA-B_ligand_receptor_GP'.\n",
      "Removing GP 'HLA-C_ligand_targetgenes_GP' as it is a subset of GP 'HLA-C_ligand_receptor_GP'.\n",
      "Removing GP 'CNTN1_ligand_targetgenes_GP' as it is a subset of GP 'CNTN1_ligand_receptor_GP'.\n",
      "Removing GP 'SEMA3F_ligand_targetgenes_GP' as it is a subset of GP 'SEMA3F_ligand_receptor_GP'.\n",
      "Removing GP 'FAM3C_ligand_targetgenes_GP' as it is a subset of GP 'FAM3C_ligand_receptor_GP'.\n",
      "Removing GP 'ULBP2_ligand_targetgenes_GP' as it is a subset of GP 'ULBP2_ligand_receptor_GP'.\n",
      "Removing GP 'GPHA2_ligand_targetgenes_GP' as it is a subset of GP 'GPHA2_ligand_receptor_GP'.\n",
      "Removing GP 'FLRT3_ligand_targetgenes_GP' as it is a subset of GP 'FLRT3_ligand_receptor_GP'.\n",
      "Removing GP 'PRND_ligand_targetgenes_GP' as it is a subset of GP 'PRND_ligand_receptor_GP'.\n",
      "Removing GP 'NDP_ligand_targetgenes_GP' as it is a subset of GP 'NDP_ligand_receptor_GP'.\n",
      "Removing GP 'RSPO2_ligand_targetgenes_GP' as it is a subset of GP 'RSPO2_ligand_receptor_GP'.\n",
      "Removing GP 'RSPO4_ligand_targetgenes_GP' as it is a subset of GP 'RSPO4_ligand_receptor_GP'.\n",
      "Removing GP 'NTN3_ligand_targetgenes_GP' as it is a subset of GP 'NTN3_ligand_receptor_GP'.\n",
      "Removing GP 'DHH_ligand_targetgenes_GP' as it is a subset of GP 'DHH_ligand_receptor_GP'.\n",
      "Removing GP 'DSC1_ligand_targetgenes_GP' as it is a subset of GP 'DSC1_ligand_receptor_GP'.\n",
      "Removing GP 'DSC2_ligand_targetgenes_GP' as it is a subset of GP 'DSC2_ligand_receptor_GP'.\n",
      "Removing GP 'NLGN2_ligand_targetgenes_GP' as it is a subset of GP 'NLGN2_ligand_receptor_GP'.\n",
      "Removing GP 'NXPH1_ligand_targetgenes_GP' as it is a subset of GP 'NXPH1_ligand_receptor_GP'.\n",
      "Removing GP 'NPFF_ligand_targetgenes_GP' as it is a subset of GP 'NPFF_ligand_receptor_GP'.\n",
      "Removing GP 'TAC3_ligand_targetgenes_GP' as it is a subset of GP 'TAC3_ligand_receptor_GP'.\n",
      "Removing GP 'TAC4_ligand_targetgenes_GP' as it is a subset of GP 'TAC4_ligand_receptor_GP'.\n",
      "Removing GP 'NMB_ligand_targetgenes_GP' as it is a subset of GP 'NMB_ligand_receptor_GP'.\n",
      "Removing GP 'GALP_ligand_targetgenes_GP' as it is a subset of GP 'GALP_ligand_receptor_GP'.\n",
      "Removing GP 'MLN_ligand_targetgenes_GP' as it is a subset of GP 'MLN_ligand_receptor_GP'.\n",
      "Removing GP 'IL17B_ligand_targetgenes_GP' as it is a subset of GP 'IL17B_ligand_receptor_GP'.\n",
      "Removing GP 'QRFP_ligand_targetgenes_GP' as it is a subset of GP 'QRFP_ligand_receptor_GP'.\n",
      "Removing GP 'TXLNA_ligand_targetgenes_GP' as it is a subset of GP 'TXLNA_ligand_receptor_GP'.\n",
      "Removing GP 'Deoxyinosine_metabolite_enzyme_sensor_GP' as it is a subset of GP 'Adenosine_metabolite_enzyme_sensor_GP'.\n",
      "Removing GP 'Deoxyadenosine_metabolite_enzyme_sensor_GP' as it is a subset of GP 'Adenosine_metabolite_enzyme_sensor_GP'.\n",
      "Removing GP 'Guanosine_metabolite_enzyme_sensor_GP' as it is a subset of GP 'Adenosine_metabolite_enzyme_sensor_GP'.\n",
      "Removing GP 'Inosine_metabolite_enzyme_sensor_GP' as it is a subset of GP 'Adenosine_metabolite_enzyme_sensor_GP'.\n",
      "Removing GP 'Corticosterone_metabolite_enzyme_sensor_GP' as it is a subset of GP 'Cortisol_metabolite_enzyme_sensor_GP'.\n",
      "Removing GP 'Deoxyinosine_metabolite_enzyme_sensor_GP' as it is a subset of GP 'Deoxyadenosine_metabolite_enzyme_sensor_GP'.\n",
      "Removing GP 'D-Galactose_metabolite_enzyme_sensor_GP' as it is a subset of GP 'D-Glucose_metabolite_enzyme_sensor_GP'.\n",
      "Removing GP 'D-Maltose_metabolite_enzyme_sensor_GP' as it is a subset of GP 'D-Glucose_metabolite_enzyme_sensor_GP'.\n",
      "Removing GP 'Estriol_metabolite_enzyme_sensor_GP' as it is a subset of GP 'Estrone_metabolite_enzyme_sensor_GP'.\n",
      "Removing GP 'Estriol_metabolite_enzyme_sensor_GP' as it is a subset of GP 'Estradiol_metabolite_enzyme_sensor_GP'.\n",
      "Removing GP 'L-Dopa_metabolite_enzyme_sensor_GP' as it is a subset of GP 'L-Tyrosine_metabolite_enzyme_sensor_GP'.\n",
      "Removing GP 'Deoxyinosine_metabolite_enzyme_sensor_GP' as it is a subset of GP 'Inosine_metabolite_enzyme_sensor_GP'.\n",
      "Removing GP 'Deoxyadenosine_metabolite_enzyme_sensor_GP' as it is a subset of GP 'Inosine_metabolite_enzyme_sensor_GP'.\n",
      "Removing GP 'Guanosine_metabolite_enzyme_sensor_GP' as it is a subset of GP 'Inosine_metabolite_enzyme_sensor_GP'.\n",
      "Removing GP 'Stearic acid_metabolite_enzyme_sensor_GP' as it is a subset of GP 'Oleic acid_metabolite_enzyme_sensor_GP'.\n",
      "Removing GP 'Dihomo-gamma-linolenic acid_metabolite_enzyme_sensor_GP' as it is a subset of GP 'Oleic acid_metabolite_enzyme_sensor_GP'.\n",
      "Removing GP 'gamma-Linolenic acid_metabolite_enzyme_sensor_GP' as it is a subset of GP 'Oleic acid_metabolite_enzyme_sensor_GP'.\n",
      "Removing GP 'Epinephrine_metabolite_enzyme_sensor_GP' as it is a subset of GP 'Norepinephrine_metabolite_enzyme_sensor_GP'.\n",
      "Removing GP 'Stearic acid_metabolite_enzyme_sensor_GP' as it is a subset of GP 'Palmitic acid_metabolite_enzyme_sensor_GP'.\n",
      "Removing GP 'Dihomo-gamma-linolenic acid_metabolite_enzyme_sensor_GP' as it is a subset of GP 'Palmitic acid_metabolite_enzyme_sensor_GP'.\n",
      "Removing GP 'gamma-Linolenic acid_metabolite_enzyme_sensor_GP' as it is a subset of GP 'Palmitic acid_metabolite_enzyme_sensor_GP'.\n",
      "Removing GP 'Androsterone_metabolite_enzyme_sensor_GP' as it is a subset of GP 'Testosterone_metabolite_enzyme_sensor_GP'.\n",
      "Removing GP 'Liothyronine_metabolite_enzyme_sensor_GP' as it is a subset of GP 'Thyroxine_metabolite_enzyme_sensor_GP'.\n",
      "Removing GP 'Cytidine_metabolite_enzyme_sensor_GP' as it is a subset of GP 'Uridine_metabolite_enzyme_sensor_GP'.\n",
      "Removing GP 'Thymine_metabolite_enzyme_sensor_GP' as it is a subset of GP 'Uracil_metabolite_enzyme_sensor_GP'.\n",
      "Removing GP 'alpha-Linolenic acid_metabolite_enzyme_sensor_GP' as it is a subset of GP 'Linoleic acid_metabolite_enzyme_sensor_GP'.\n",
      "Removing GP 'Dihomo-gamma-linolenic acid_metabolite_enzyme_sensor_GP' as it is a subset of GP 'Linoleic acid_metabolite_enzyme_sensor_GP'.\n",
      "Removing GP 'gamma-Linolenic acid_metabolite_enzyme_sensor_GP' as it is a subset of GP 'Linoleic acid_metabolite_enzyme_sensor_GP'.\n",
      "Removing GP 'Dihomo-gamma-linolenic acid_metabolite_enzyme_sensor_GP' as it is a subset of GP 'Stearic acid_metabolite_enzyme_sensor_GP'.\n",
      "Removing GP 'gamma-Linolenic acid_metabolite_enzyme_sensor_GP' as it is a subset of GP 'Stearic acid_metabolite_enzyme_sensor_GP'.\n",
      "Removing GP 'alpha-Linolenic acid_metabolite_enzyme_sensor_GP' as it is a subset of GP 'Arachidonic acid_metabolite_enzyme_sensor_GP'.\n",
      "Removing GP 'Dihomo-gamma-linolenic acid_metabolite_enzyme_sensor_GP' as it is a subset of GP 'Arachidonic acid_metabolite_enzyme_sensor_GP'.\n",
      "Removing GP 'gamma-Linolenic acid_metabolite_enzyme_sensor_GP' as it is a subset of GP 'Arachidonic acid_metabolite_enzyme_sensor_GP'.\n",
      "Removing GP 'Prostaglandin F2a_metabolite_enzyme_sensor_GP' as it is a subset of GP 'Prostaglandin E2_metabolite_enzyme_sensor_GP'.\n",
      "Removing GP '13-cis-Retinoic acid_metabolite_enzyme_sensor_GP' as it is a subset of GP 'Retinal_metabolite_enzyme_sensor_GP'.\n",
      "Removing GP 'Dihomo-gamma-linolenic acid_metabolite_enzyme_sensor_GP' as it is a subset of GP 'alpha-Linolenic acid_metabolite_enzyme_sensor_GP'.\n",
      "Removing GP 'gamma-Linolenic acid_metabolite_enzyme_sensor_GP' as it is a subset of GP 'alpha-Linolenic acid_metabolite_enzyme_sensor_GP'.\n",
      "Removing GP '13-cis-Retinoic acid_metabolite_enzyme_sensor_GP' as it is a subset of GP 'all-trans-Retinoic acid_metabolite_enzyme_sensor_GP'.\n",
      "Removing GP 'Docosahexaenoic acid_metabolite_enzyme_sensor_GP' as it is a subset of GP 'Eicosapentaenoic acid_metabolite_enzyme_sensor_GP'.\n",
      "Removing GP 'Eicosapentaenoic acid_metabolite_enzyme_sensor_GP' as it is a subset of GP 'Docosahexaenoic acid_metabolite_enzyme_sensor_GP'.\n",
      "Removing GP '13-cis-Retinoic acid_metabolite_enzyme_sensor_GP' as it is a subset of GP '9-cis-Retinoic acid_metabolite_enzyme_sensor_GP'.\n",
      "Removing GP 'gamma-Linolenic acid_metabolite_enzyme_sensor_GP' as it is a subset of GP 'Dihomo-gamma-linolenic acid_metabolite_enzyme_sensor_GP'.\n",
      "Removing GP 'Dihomo-gamma-linolenic acid_metabolite_enzyme_sensor_GP' as it is a subset of GP 'gamma-Linolenic acid_metabolite_enzyme_sensor_GP'.\n",
      "Removing GP 'Calcitriol_metabolite_enzyme_sensor_GP' as it is a subset of GP 'Calcidiol_metabolite_enzyme_sensor_GP'.\n",
      "Number of gene programs before filtering and combining: 1725.\n",
      "Number of gene programs after filtering and combining: 1575.\n"
     ]
    }
   ],
   "source": [
    "# Filter and combine gene programs\n",
    "combined_new_gp_dict = filter_and_combine_gp_dict_gps(\n",
    "    gp_dict=combined_gp_dict,\n",
    "    gp_filter_mode=\"subset\",\n",
    "    combine_overlap_gps=True,\n",
    "    overlap_thresh_source_genes=0.9,\n",
    "    overlap_thresh_target_genes=0.9,\n",
    "    overlap_thresh_genes=0.9,\n",
    "    verbose=True)\n",
    "\n",
    "print(f\"Number of gene programs before filtering and combining: {len(combined_gp_dict)}.\")\n",
    "print(f\"Number of gene programs after filtering and combining: {len(combined_new_gp_dict)}.\")"
   ]
  },
  {
   "cell_type": "code",
   "execution_count": 16,
   "id": "96904c26-a72f-44d6-ba1b-9b8818ccee3c",
   "metadata": {},
   "outputs": [],
   "source": [
    "# Add the gene program dictionary as binary masks to the adata for model training\n",
    "add_gps_from_gp_dict_to_adata(\n",
    "    gp_dict=combined_new_gp_dict,\n",
    "    adata=adata,\n",
    "    genes_uppercase=True,\n",
    "    gp_targets_mask_key=\"autotalker_gp_targets\",\n",
    "    gp_sources_mask_key=\"autotalker_gp_sources\",\n",
    "    gp_names_key=\"autotalker_gp_names\",\n",
    "    min_genes_per_gp=1,\n",
    "    min_source_genes_per_gp=0,\n",
    "    min_target_genes_per_gp=0,\n",
    "    max_genes_per_gp=None,\n",
    "    max_source_genes_per_gp=None,\n",
    "    max_target_genes_per_gp=None,\n",
    "    filter_genes_not_in_masks=False)\n",
    "\n",
    "# Determine dimensionality of hidden encoder\n",
    "n_hidden_encoder = len(adata.uns[\"autotalker_gp_names\"])"
   ]
  },
  {
   "cell_type": "code",
   "execution_count": 17,
   "id": "ffaa16ff-7391-42b7-8bcc-62ddb43c3502",
   "metadata": {},
   "outputs": [
    {
     "name": "stdout",
     "output_type": "stream",
     "text": [
      "Number of gene programs with probed genes: 489.\n",
      "Example gene programs: ['THBS1_ligand_targetgenes_GP', 'LGALS8_ligand_receptor_GP', 'FGF3_ligand_targetgenes_GP', 'NPTN_ligand_receptor_GP', 'IL31_ligand_targetgenes_GP'].\n",
      "Number of gene program target genes: 7476.\n",
      "Number of gene program source genes: 127.\n"
     ]
    }
   ],
   "source": [
    "# Summarize gene programs\n",
    "print(f\"Number of gene programs with probed genes: {len(adata.uns['autotalker_gp_names'])}.\")\n",
    "print(f\"Example gene programs: {random.sample(list(adata.uns['autotalker_gp_names']), 5)}.\")\n",
    "print(f\"Number of gene program target genes: {adata.varm['autotalker_gp_targets'].sum()}.\")\n",
    "print(f\"Number of gene program source genes: {adata.varm['autotalker_gp_sources'].sum()}.\")"
   ]
  },
  {
   "cell_type": "markdown",
   "id": "185b20df-515d-461a-8c6e-7c64413fbe69",
   "metadata": {},
   "source": [
    "### 3.2 Autotalker Model Without Batch Integration"
   ]
  },
  {
   "cell_type": "code",
   "execution_count": 18,
   "id": "ef2f7930-0db3-4739-95e3-3403cf68fb87",
   "metadata": {},
   "outputs": [],
   "source": [
    "adata_copy = adata.copy()"
   ]
  },
  {
   "cell_type": "markdown",
   "id": "8ca0cf8a-052b-418a-b36a-e1625d1f17ac",
   "metadata": {},
   "source": [
    "#### 3.2.1 Initialize, Train & Save Model"
   ]
  },
  {
   "cell_type": "code",
   "execution_count": 19,
   "id": "b153e8e9-58fc-46f1-b230-cff0590df4f7",
   "metadata": {},
   "outputs": [
    {
     "name": "stdout",
     "output_type": "stream",
     "text": [
      "--- INITIALIZING NEW NETWORK MODULE: VARIATIONAL GENE PROGRAM GRAPH AUTOENCODER ---\n",
      "LOSS -> include_edge_recon_loss: True, include_gene_expr_recon_loss: True, gene_expr_recon_dist: nb\n",
      "NODE LABEL METHOD -> one-hop-attention\n",
      "ACTIVE GP THRESHOLD RATIO -> 0.03\n",
      "LOG VARIATIONAL -> True\n",
      "CONDITIONAL EMBEDDING INJECTION -> ['encoder', 'graph_decoder', 'gene_expr_decoder']\n",
      "GRAPH ENCODER -> n_input: 351, n_cond_embed_input: 0, n_hidden: 489, n_latent: 489, n_addon_latent: 0, conv_layer: gcnconv, n_attention_heads: 0, dropout_rate: 0.0\n",
      "DOT PRODUCT GRAPH DECODER -> n_cond_embed_input: 0, n_output: 489, dropout_rate: 0.0\n",
      "MASKED GENE EXPRESSION DECODER -> n_input: 489, n_cond_embed_input: 0, n_addon_input: 0, n_output: 702\n"
     ]
    }
   ],
   "source": [
    "# Initialize model\n",
    "model = Autotalker(adata_copy,\n",
    "                   counts_key=counts_key,\n",
    "                   adj_key=adj_key,\n",
    "                   condition_key=None,\n",
    "                   gp_names_key=gp_names_key,\n",
    "                   active_gp_names_key=active_gp_names_key,\n",
    "                   gp_targets_mask_key=gp_targets_mask_key,\n",
    "                   gp_sources_mask_key=gp_sources_mask_key,\n",
    "                   latent_key=latent_key,\n",
    "                   active_gp_thresh_ratio=active_gp_thresh_ratio,\n",
    "                   gene_expr_recon_dist=gene_expr_recon_dist,\n",
    "                   n_hidden_encoder=n_hidden_encoder,\n",
    "                   n_addon_gps=0,\n",
    "                   node_label_method=\"one-hop-attention\")"
   ]
  },
  {
   "cell_type": "code",
   "execution_count": null,
   "id": "3886ce9f-1ca7-418c-86da-296611d95a3e",
   "metadata": {},
   "outputs": [
    {
     "name": "stdout",
     "output_type": "stream",
     "text": [
      "--- INITIALIZING TRAINER ---\n",
      "Number of training nodes: 47311\n",
      "Number of validation nodes: 5257\n",
      "Number of training edges: 319410\n",
      "Number of validation edges: 35490\n",
      "\n",
      "--- MODEL TRAINING ---\n"
     ]
    }
   ],
   "source": [
    "# Train model\n",
    "model.train(n_epochs,\n",
    "            n_epochs_all_gps=n_epochs_all_gps,\n",
    "            lr=lr,\n",
    "            verbose=True)"
   ]
  },
  {
   "cell_type": "code",
   "execution_count": null,
   "id": "dacc179f-fc17-4f75-9bd0-41d04a12f740",
   "metadata": {},
   "outputs": [],
   "source": [
    "# Save trained model\n",
    "model.save(dir_path=model_artifacts_folder_path + \"/unintegrated\",\n",
    "           overwrite=True,\n",
    "           save_adata=True,\n",
    "           adata_file_name=f\"{dataset}.h5ad\")"
   ]
  },
  {
   "cell_type": "markdown",
   "id": "55633181-d268-4476-8674-b6ba3ff55567",
   "metadata": {},
   "source": [
    "#### 3.2.2 Analyze Latent Space"
   ]
  },
  {
   "cell_type": "code",
   "execution_count": null,
   "id": "06c4ccdc-9115-4ada-894c-5faa1aa1fc86",
   "metadata": {},
   "outputs": [],
   "source": [
    "# Use Autotalker latent space for UMAP generation\n",
    "sc.pp.neighbors(model.adata, use_rep=latent_key)\n",
    "sc.tl.umap(model.adata)"
   ]
  },
  {
   "cell_type": "code",
   "execution_count": null,
   "id": "a8a6f36d-7a74-4e46-84ee-708696ab13b7",
   "metadata": {},
   "outputs": [],
   "source": [
    "# Plot UMAP with batch annotation\n",
    "fig = sc.pl.umap(model.adata,\n",
    "                 color=[condition_key],\n",
    "                 title=\"Latent Space with Unintegrated Batches: Autotalker\",\n",
    "                 return_fig=True)\n",
    "fig.savefig(f\"{figure_folder_path}/latent_autotalker_batches_unintegrated.png\",\n",
    "            bbox_inches=\"tight\")"
   ]
  },
  {
   "cell_type": "code",
   "execution_count": null,
   "id": "185a63c4-8699-4b01-99f8-04dd65a8c776",
   "metadata": {},
   "outputs": [],
   "source": [
    "# Plot UMAP with cell type annotation\n",
    "fig = sc.pl.umap(model.adata,\n",
    "                 color=[cell_type_key],\n",
    "                 title=\"Latent Space with Cell Types: Autotalker (Unintegrated Batches)\",\n",
    "                 return_fig=True)\n",
    "fig.savefig(f\"{figure_folder_path}/latent_autotalker_cell_types_unintegrated.png\",\n",
    "            bbox_inches=\"tight\")"
   ]
  },
  {
   "cell_type": "markdown",
   "id": "2c487a7d-a8ba-4447-b856-3473b7daca83",
   "metadata": {},
   "source": [
    "### 3.3 Autotalker Model With Decoder Batch Integration"
   ]
  },
  {
   "cell_type": "code",
   "execution_count": null,
   "id": "52c19dc0-715a-4d66-a0e4-b46267587ee3",
   "metadata": {},
   "outputs": [],
   "source": [
    "adata_copy = adata.copy()"
   ]
  },
  {
   "cell_type": "markdown",
   "id": "a915a48a-1fe9-45a5-a5c2-f6ed24414f59",
   "metadata": {},
   "source": [
    "#### 3.3.1 Initialize, Train & Save Model"
   ]
  },
  {
   "cell_type": "code",
   "execution_count": null,
   "id": "21c525d4-f561-4b99-8df9-d3e1dee5233f",
   "metadata": {},
   "outputs": [],
   "source": [
    "# Initialize model\n",
    "model = Autotalker(adata_copy,\n",
    "                   counts_key=counts_key,\n",
    "                   adj_key=adj_key,\n",
    "                   condition_key=condition_key,\n",
    "                   cond_embed_injection=[\"gene_expr_decoder\",\n",
    "                                         \"graph_decoder\"],\n",
    "                   n_cond_embed=6,\n",
    "                   gp_names_key=gp_names_key,\n",
    "                   active_gp_names_key=active_gp_names_key,\n",
    "                   gp_targets_mask_key=gp_targets_mask_key,\n",
    "                   gp_sources_mask_key=gp_sources_mask_key,\n",
    "                   latent_key=latent_key,\n",
    "                   active_gp_thresh_ratio=active_gp_thresh_ratio,\n",
    "                   gene_expr_recon_dist=gene_expr_recon_dist,\n",
    "                   n_hidden_encoder=n_hidden_encoder,\n",
    "                   n_addon_gps=0,\n",
    "                   node_label_method=\"one-hop-attention\")"
   ]
  },
  {
   "cell_type": "code",
   "execution_count": null,
   "id": "1d95bc7c-255f-40b6-932b-6f82e9a8d72e",
   "metadata": {},
   "outputs": [],
   "source": [
    "# Train model\n",
    "model.train(n_epochs,\n",
    "            n_epochs_all_gps=n_epochs_all_gps,\n",
    "            lr=lr,\n",
    "            verbose=True)"
   ]
  },
  {
   "cell_type": "code",
   "execution_count": null,
   "id": "e1ed97c7-4186-44cf-a459-569b61c7e534",
   "metadata": {},
   "outputs": [],
   "source": [
    "# Save trained model\n",
    "model.save(dir_path=model_artifacts_folder_path + \"/integrated_decoder\",\n",
    "           overwrite=True,\n",
    "           save_adata=True,\n",
    "           adata_file_name=f\"{dataset}.h5ad\")"
   ]
  },
  {
   "cell_type": "markdown",
   "id": "9747fd10-eaee-4fce-a4f7-4e0e756040f2",
   "metadata": {},
   "source": [
    "#### 3.3.2 Analyze Latent Space"
   ]
  },
  {
   "cell_type": "code",
   "execution_count": null,
   "id": "09684cbd-1a41-405c-a0f7-f04c641b5321",
   "metadata": {},
   "outputs": [],
   "source": [
    "# Plot UMAP with batch annotations\n",
    "fig = sc.pl.umap(model.adata,\n",
    "                 color=[condition_key],\n",
    "                 title=\"Latent Space with Decoder Integrated Batches: Autotalker\",\n",
    "                 return_fig=True)\n",
    "fig.savefig(f\"{figure_folder_path}/latent_autotalker_batches_integrated_decoder.png\",\n",
    "            bbox_inches=\"tight\")"
   ]
  },
  {
   "cell_type": "code",
   "execution_count": null,
   "id": "07ea68fb-2ab3-4f58-94ae-1bcaf4391c1d",
   "metadata": {},
   "outputs": [],
   "source": [
    "# Plot UMAP with cell type annotations\n",
    "fig = sc.pl.umap(model.adata,\n",
    "                 color=[cell_type_key],\n",
    "                 title=\"Latent Space with Cell Types: Autotalker (Decoder Integrated Batches)\",\n",
    "                 return_fig=True)\n",
    "fig.savefig(f\"{figure_folder_path}/latent_autotalker_cell_types_integrated_decoder.png\",\n",
    "            bbox_inches=\"tight\")"
   ]
  },
  {
   "cell_type": "markdown",
   "id": "9c4bdb58-0b6a-42fe-a821-1a8aca2519a2",
   "metadata": {},
   "source": [
    "#### 3.3.3 Analyze Conditional Embedding"
   ]
  },
  {
   "cell_type": "code",
   "execution_count": null,
   "id": "c860944e-c851-4d96-b1f0-29b2563eccf8",
   "metadata": {},
   "outputs": [],
   "source": [
    "# Get conditional embeddings\n",
    "cond_embed = model.get_conditional_embeddings()\n",
    "adata_cond_embed = ad.AnnData(cond_embed)\n",
    "adata_cond_embed.obs[\"batch\"] = adata.obs[\"batch\"].unique()"
   ]
  },
  {
   "cell_type": "code",
   "execution_count": null,
   "id": "59c6132c-72c0-4e22-8e20-4312beafec12",
   "metadata": {},
   "outputs": [],
   "source": [
    "sc.pp.neighbors(adata_cond_embed)\n",
    "sc.tl.umap(adata_cond_embed)\n",
    "fig = sc.pl.umap(adata_cond_embed,\n",
    "                 color=[condition_key],\n",
    "                 title=\"Conditional Embeddings with Decoder Integrated Batches: Autotalker\",\n",
    "                 return_fig=True)\n",
    "fig.savefig(f\"{figure_folder_path}/cond_embed_autotalker_batches_integrated_decoder.png\",\n",
    "            bbox_inches=\"tight\")"
   ]
  },
  {
   "cell_type": "markdown",
   "id": "3a553a3d-2c88-4fcc-93f3-c07693be365d",
   "metadata": {},
   "source": [
    "### 3.4 Autotalker Model With Encoder + Decoder Batch Integration"
   ]
  },
  {
   "cell_type": "code",
   "execution_count": null,
   "id": "a57f8762-4d78-42ff-b080-82434a446361",
   "metadata": {},
   "outputs": [],
   "source": [
    "adata_copy = adata.copy()"
   ]
  },
  {
   "cell_type": "markdown",
   "id": "11650e73-ce55-454e-9f8c-0617585f6f4f",
   "metadata": {},
   "source": [
    "#### 3.4.1 Initialize, Train & Save Model"
   ]
  },
  {
   "cell_type": "code",
   "execution_count": null,
   "id": "bf55f3e4-eb6e-455e-8330-396579047fcc",
   "metadata": {},
   "outputs": [],
   "source": [
    "# Initialize model\n",
    "model = Autotalker(adata_copy,\n",
    "                   counts_key=counts_key,\n",
    "                   adj_key=adj_key,\n",
    "                   condition_key=condition_key,\n",
    "                   cond_embed_injection=[\"encoder\",\n",
    "                                         \"gene_expr_decoder\",\n",
    "                                         \"graph_decoder\"],\n",
    "                   n_cond_embed=6,\n",
    "                   gp_names_key=gp_names_key,\n",
    "                   active_gp_names_key=active_gp_names_key,\n",
    "                   gp_targets_mask_key=gp_targets_mask_key,\n",
    "                   gp_sources_mask_key=gp_sources_mask_key,\n",
    "                   latent_key=latent_key,\n",
    "                   active_gp_thresh_ratio=active_gp_thresh_ratio,\n",
    "                   gene_expr_recon_dist=gene_expr_recon_dist,\n",
    "                   n_hidden_encoder=n_hidden_encoder,\n",
    "                   n_addon_gps=0,\n",
    "                   node_label_method=\"one-hop-attention\")"
   ]
  },
  {
   "cell_type": "code",
   "execution_count": null,
   "id": "8415655b-7b8c-451f-a39c-9e311a969170",
   "metadata": {},
   "outputs": [],
   "source": [
    "# Train model\n",
    "model.train(n_epochs,\n",
    "            n_epochs_all_gps=n_epochs_all_gps,\n",
    "            lr=lr,\n",
    "            verbose=True)"
   ]
  },
  {
   "cell_type": "code",
   "execution_count": null,
   "id": "e924c661-401a-4da5-aa9f-5c9d6e967f98",
   "metadata": {},
   "outputs": [],
   "source": [
    "# Save trained model\n",
    "model.save(dir_path=model_artifacts_folder_path + \"/integrated_encoder_decoder\",\n",
    "           overwrite=True,\n",
    "           save_adata=True,\n",
    "           adata_file_name=f\"{dataset}.h5ad\")"
   ]
  },
  {
   "cell_type": "markdown",
   "id": "3aca1c27-08b8-4e2d-9a19-802e09540fbd",
   "metadata": {},
   "source": [
    "#### 3.3.2 Analyze Latent Space"
   ]
  },
  {
   "cell_type": "code",
   "execution_count": null,
   "id": "3f498c39-00e0-4944-9bc8-301e0b99cda8",
   "metadata": {},
   "outputs": [],
   "source": [
    "# Plot UMAP with batch annotations\n",
    "fig = sc.pl.umap(model.adata,\n",
    "                 color=[condition_key],\n",
    "                 title=\"Latent Space with Encoder Decoder Integrated Batches: Autotalker\",\n",
    "                 return_fig=True)\n",
    "fig.savefig(f\"{figure_folder_path}/latent_autotalker_batches_integrated_encoder_decoder.png\",\n",
    "            bbox_inches=\"tight\")"
   ]
  },
  {
   "cell_type": "code",
   "execution_count": null,
   "id": "8e77a92c-2d2c-44fc-abc5-4e6f3339a47f",
   "metadata": {},
   "outputs": [],
   "source": [
    "# Plot UMAP with cell type annotations\n",
    "fig = sc.pl.umap(model.adata,\n",
    "                 color=[cell_type_key],\n",
    "                 title=\"Latent Space with Cell Types: Autotalker (Encoder Decoder Integrated Batches)\",\n",
    "                 return_fig=True)\n",
    "fig.savefig(f\"{figure_folder_path}/latent_autotalker_cell_types_integrated_encoder_decoder.png\",\n",
    "            bbox_inches=\"tight\")"
   ]
  },
  {
   "cell_type": "markdown",
   "id": "7a0d4ed1-7909-4a99-92df-931eb3861556",
   "metadata": {},
   "source": [
    "#### 3.3.3 Analyze Conditional Embedding"
   ]
  },
  {
   "cell_type": "code",
   "execution_count": null,
   "id": "0a52ab2a-461e-44b1-9274-9d5957fa5edc",
   "metadata": {},
   "outputs": [],
   "source": [
    "# Get conditional embeddings\n",
    "cond_embed = model.get_conditional_embeddings()\n",
    "adata_cond_embed = ad.AnnData(cond_embed)\n",
    "adata_cond_embed.obs[\"batch\"] = adata.obs[\"batch\"].unique()"
   ]
  },
  {
   "cell_type": "code",
   "execution_count": null,
   "id": "37a82b2f-a2c0-4e24-8414-023578b907b3",
   "metadata": {},
   "outputs": [],
   "source": [
    "sc.pp.neighbors(adata_cond_embed)\n",
    "sc.tl.umap(adata_cond_embed)\n",
    "fig = sc.pl.umap(adata_cond_embed,\n",
    "                 color=[condition_key],\n",
    "                 title=\"Conditional Embeddings with Encoder Decoder Integrated Batches: Autotalker\",\n",
    "                 return_fig=True)\n",
    "fig.savefig(f\"{figure_folder_path}/cond_embed_autotalker_batches_integrated_encoder_decoder.png\",\n",
    "            bbox_inches=\"tight\")"
   ]
  },
  {
   "cell_type": "code",
   "execution_count": null,
   "id": "fdf35fbe-3ee1-4762-aca7-4c9da490764c",
   "metadata": {},
   "outputs": [],
   "source": []
  }
 ],
 "metadata": {
  "kernelspec": {
   "display_name": "Python 3 (ipykernel)",
   "language": "python",
   "name": "python3"
  },
  "language_info": {
   "codemirror_mode": {
    "name": "ipython",
    "version": 3
   },
   "file_extension": ".py",
   "mimetype": "text/x-python",
   "name": "python",
   "nbconvert_exporter": "python",
   "pygments_lexer": "ipython3",
   "version": "3.9.15"
  }
 },
 "nbformat": 4,
 "nbformat_minor": 5
}
