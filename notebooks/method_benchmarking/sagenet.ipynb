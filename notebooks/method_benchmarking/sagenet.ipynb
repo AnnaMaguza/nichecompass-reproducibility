{
 "cells": [
  {
   "cell_type": "markdown",
   "id": "364a9ebc-3e3c-4645-9049-a34bd084c8a8",
   "metadata": {},
   "source": [
    "# SageNet"
   ]
  },
  {
   "cell_type": "markdown",
   "id": "b0c55227-147e-417f-b0dd-bb0b7f322930",
   "metadata": {},
   "source": [
    "- **Creator**: Sebastian Birk (<sebastian.birk@helmholtz-munich.de>).\n",
    "- **Affiliation:** Helmholtz Munich, Institute of Computational Biology (ICB), Talavera-López Lab\n",
    "- **Date of Creation:** 10.01.2023\n",
    "- **Date of Last Modification:** 06.03.2023"
   ]
  },
  {
   "cell_type": "markdown",
   "id": "2058fa03-e082-4a5d-a469-9b9f1607f6ed",
   "metadata": {},
   "source": [
    "- The SageNet source code is available at https://github.com/MarioniLab/SageNet.\n",
    "- The corresponding preprint is \"Heidari, E. et al. Supervised spatial inference of dissociated single-cell data with SageNet. bioRxiv 2022.04.14.488419 (2022) doi:10.1101/2022.04.14.488419\".\n",
    "- Parts of the workflow of this notebook are inspired by the tutorial from https://scarches.readthedocs.io/en/latest/SageNet_mouse_embryo.html.\n",
    "- The SageNet authors recommend log normalized counts as input. Therefore, we use log normalized counts (stored in adata.X)."
   ]
  },
  {
   "cell_type": "markdown",
   "id": "7529cde5-be12-403b-a94c-07561774b86c",
   "metadata": {},
   "source": [
    "## 1. Setup"
   ]
  },
  {
   "cell_type": "markdown",
   "id": "faad87bd-fef5-4429-a175-d714c491ae76",
   "metadata": {},
   "source": [
    "### 1.1 Import Libraries"
   ]
  },
  {
   "cell_type": "code",
   "execution_count": 1,
   "id": "d7f93960-c759-424f-8cb2-1d8698acae2c",
   "metadata": {},
   "outputs": [
    {
     "name": "stderr",
     "output_type": "stream",
     "text": [
      "/home/sebastian.birk/.conda/envs/scarches_hpc/lib/python3.9/site-packages/tqdm/auto.py:21: TqdmWarning: IProgress not found. Please update jupyter and ipywidgets. See https://ipywidgets.readthedocs.io/en/stable/user_install.html\n",
      "  from .autonotebook import tqdm as notebook_tqdm\n",
      "[rank: 0] Global seed set to 0\n",
      "WARNING:root:mvTCR is not installed. To use mvTCR models, please install it first using \"pip install mvtcr\"\n",
      "WARNING:root:multigrate is not installed. To use multigrate models, please install it first using \"pip install multigrate\".\n"
     ]
    }
   ],
   "source": [
    "import copy\n",
    "import os\n",
    "import random\n",
    "import time\n",
    "from datetime import datetime\n",
    "\n",
    "import anndata as ad\n",
    "import matplotlib.pyplot as plt\n",
    "import numpy as np\n",
    "import pandas as pd\n",
    "import scarches as sca\n",
    "import scanpy as sc\n",
    "import scipy.sparse as sp\n",
    "import squidpy as sq\n",
    "import torch\n",
    "import torch_geometric.data as geo_dt\n",
    "from scarches.models.sagenet.utils import glasso"
   ]
  },
  {
   "cell_type": "markdown",
   "id": "39b5efa5-2052-4986-8ae5-89cfab018515",
   "metadata": {},
   "source": [
    "### 1.2 Define Parameters"
   ]
  },
  {
   "cell_type": "code",
   "execution_count": 2,
   "id": "e5c8b48a-ed5e-48b5-8c5c-c1de11493aee",
   "metadata": {},
   "outputs": [],
   "source": [
    "model_name = \"sagenet\"\n",
    "latent_key = f\"{model_name}_latent\"\n",
    "leiden_resolution = 0.5 # used for Leiden clustering of latent space\n",
    "random_seed = 0 # used for Leiden clustering"
   ]
  },
  {
   "cell_type": "markdown",
   "id": "28adc110-0f41-4a71-9838-dc7f0687809a",
   "metadata": {},
   "source": [
    "### 1.3 Run Notebook Setup"
   ]
  },
  {
   "cell_type": "code",
   "execution_count": 3,
   "id": "334b87ca-3387-4ba9-8567-84bc4754ff0c",
   "metadata": {},
   "outputs": [],
   "source": [
    "sc.set_figure_params(figsize=(6, 6))"
   ]
  },
  {
   "cell_type": "code",
   "execution_count": 4,
   "id": "0ab6b302-1c0b-4937-8624-40629ada2e46",
   "metadata": {},
   "outputs": [],
   "source": [
    "# Get time of notebook execution for timestamping saved artifacts\n",
    "now = datetime.now()\n",
    "current_timestamp = now.strftime(\"%d%m%Y_%H%M%S\")"
   ]
  },
  {
   "cell_type": "code",
   "execution_count": 5,
   "id": "05daacf1-ec2f-4182-a369-f42e53e81d89",
   "metadata": {},
   "outputs": [
    {
     "name": "stdout",
     "output_type": "stream",
     "text": [
      "cuda:0\n"
     ]
    }
   ],
   "source": [
    "# Use GPU if available\n",
    "if torch.cuda.is_available():\n",
    "  dev = \"cuda:0\"\n",
    "else:\n",
    "  dev = \"cpu\"\n",
    "device = torch.device(dev)\n",
    "print(device)"
   ]
  },
  {
   "cell_type": "markdown",
   "id": "85538952-006b-4b0b-a50c-fe7445ce22e2",
   "metadata": {},
   "source": [
    "### 1.4 Configure Paths and Directories"
   ]
  },
  {
   "cell_type": "code",
   "execution_count": 6,
   "id": "7ddcc49c-ba22-4155-acd5-05b5b810e091",
   "metadata": {},
   "outputs": [],
   "source": [
    "data_folder_path = \"../../datasets/srt_data/gold/\"\n",
    "figure_folder_path = f\"../../figures\""
   ]
  },
  {
   "cell_type": "markdown",
   "id": "d974cd00-eafa-4432-b172-fafc4058a619",
   "metadata": {},
   "source": [
    "## 2. SageNet Model"
   ]
  },
  {
   "cell_type": "markdown",
   "id": "760a9944-655a-44e6-8d04-4834f8acc44a",
   "metadata": {},
   "source": [
    "### 2.1 Define Training Function"
   ]
  },
  {
   "cell_type": "code",
   "execution_count": 7,
   "id": "65f51427-d75e-4e0b-b24d-f61107a10617",
   "metadata": {},
   "outputs": [],
   "source": [
    "def train_sagenet_models(dataset,\n",
    "                         cell_type_key,\n",
    "                         adata_new=None,\n",
    "                         n_start_run=1,\n",
    "                         n_end_run=10,\n",
    "                         n_neighbor_list=[4, 4, 8, 8, 12, 12, 16, 16, 20, 20],\n",
    "                         plot_latent_umaps: bool=False):\n",
    "    # Configure figure folder path\n",
    "    dataset_figure_folder_path = f\"{figure_folder_path}/{dataset}/method_benchmarking/\" \\\n",
    "                                 f\"{model_name}/{current_timestamp}\"\n",
    "    os.makedirs(dataset_figure_folder_path, exist_ok=True)\n",
    "    \n",
    "    # Create new adata to store results from training runs in storage-efficient way\n",
    "    if adata_new is None:\n",
    "        adata_original = sc.read_h5ad(data_folder_path + f\"{dataset}.h5ad\")\n",
    "        adata_new = sc.AnnData(sp.csr_matrix(\n",
    "            (adata_original.shape[0], adata_original.shape[1]),\n",
    "            dtype=np.float32))\n",
    "        adata_new.var_names = adata_original.var_names\n",
    "        adata_new.obs_names = adata_original.obs_names\n",
    "        adata_new.obs[\"cell_type\"] = adata_original.obs[cell_type_key].values\n",
    "        adata_new.obsm[\"spatial\"] = adata_original.obsm[\"spatial\"]\n",
    "        del(adata_original)\n",
    "    \n",
    "    for run_number, n_neighbors in zip(np.arange(n_start_run, n_end_run+1), n_neighbor_list):\n",
    "        # Load data\n",
    "        adata = sc.read_h5ad(data_folder_path + f\"{dataset}.h5ad\")\n",
    "        \n",
    "        adata.X = adata.X.toarray()\n",
    "        \n",
    "        # Compute spatial neighborhood graph for clustering\n",
    "        sq.gr.spatial_neighbors(adata,\n",
    "                                coord_type=\"generic\",\n",
    "                                spatial_key=\"spatial\",\n",
    "                                n_neighs=n_neighbors)\n",
    "        \n",
    "        start_time = time.time()\n",
    "\n",
    "        # Estimate gene interaction network\n",
    "        glasso(adata, [0.25, 0.5]) # the adjacency matrix of the built graph is added under 'adata.varm[\"adj\"]'\n",
    "\n",
    "        # Compute spatial partitoning with 3 different resolutions to capture different granularities\n",
    "        sc.tl.leiden(adata,\n",
    "                     resolution=.05,\n",
    "                     random_state=random_seed,\n",
    "                     key_added=\"leiden_0.05\",\n",
    "                     adjacency=adata.obsp[\"spatial_connectivities\"]) # the partitioning is added under 'adata.obs[\"leiden_0.05\"]'\n",
    "        sc.tl.leiden(adata,\n",
    "                     resolution=.1,\n",
    "                     random_state=random_seed,\n",
    "                     key_added=\"leiden_0.1\",\n",
    "                     adjacency=adata.obsp[\"spatial_connectivities\"]) # the partitioning is added under 'adata.obs[\"leiden_0.1\"]'\n",
    "        sc.tl.leiden(adata,\n",
    "                     resolution=.5,\n",
    "                     random_state=random_seed,\n",
    "                     key_added=\"leiden_0.5\",\n",
    "                     adjacency=adata.obsp[\"spatial_connectivities\"]) # the partitioning is added under 'adata.obs[\"leiden_0.5\"]'\n",
    "        sc.pl.spatial(adata,\n",
    "                      color=[\"leiden_0.05\", \"leiden_0.1\", \"leiden_0.5\"],\n",
    "                      frameon=False,\n",
    "                      ncols=3,\n",
    "                      spot_size=.1,\n",
    "                      title=[\"leiden_0.05\", \"leiden_0.1\", \"leiden_0.5\"],\n",
    "                      legend_loc=None)\n",
    "\n",
    "        # Define model object\n",
    "        sg_obj = sca.models.sagenet(device=device)\n",
    "\n",
    "        sg_obj.train(adata,\n",
    "                     comm_columns=[\"leiden_0.05\", \"leiden_0.1\", \"leiden_0.5\"],\n",
    "                     tag=\"batch1\",\n",
    "                     epochs=15,\n",
    "                     verbose=False,\n",
    "                     importance=True)\n",
    "\n",
    "        sg_obj.load_query_data(adata)\n",
    "        \n",
    "        # Measure time for model training\n",
    "        end_time = time.time()\n",
    "        elapsed_time = end_time - start_time\n",
    "        hours, rem = divmod(elapsed_time, 3600)\n",
    "        minutes, seconds = divmod(rem, 60)\n",
    "        print(f\"Duration of model training in run {run_number}: \"\n",
    "              f\"{int(hours)} hours, {int(minutes)} minutes and {int(seconds)} seconds.\")\n",
    "        adata_new.uns[f\"{model_name}_model_training_duration_run{run_number}\"] = (\n",
    "            elapsed_time)\n",
    "\n",
    "        # Use SageNet cell-cell-distances for UMAP generation\n",
    "        sc.pp.neighbors(adata,\n",
    "                        use_rep=\"dist_map\",\n",
    "                        n_neighbors=n_neighbors)\n",
    "        sc.tl.umap(adata)\n",
    "        \n",
    "        if plot_latent_umaps:\n",
    "            fig = sc.pl.umap(adata,\n",
    "                             color=[cell_type_key],\n",
    "                             title=\"Latent Space with Cell Types: SageNet\",\n",
    "                             return_fig=True)\n",
    "            fig.savefig(f\"{dataset_figure_folder_path}/latent_{model_name}\"\n",
    "                        f\"_cell_types_run{run_number}.png\",\n",
    "                        bbox_inches=\"tight\")\n",
    "\n",
    "            # Compute latent Leiden clustering\n",
    "            sc.tl.leiden(adata=adata,\n",
    "                         resolution=leiden_resolution,\n",
    "                         random_state=random_seed,\n",
    "                         key_added=f\"latent_{model_name}_leiden_{str(leiden_resolution)}\")\n",
    "\n",
    "            # Create subplot of latent Leiden cluster annotations in physical and latent space\n",
    "            fig, axs = plt.subplots(nrows=2, ncols=1, figsize=(6, 12))\n",
    "            title = fig.suptitle(t=\"Latent and Physical Space with Leiden Clusters: SageNet\")\n",
    "            sc.pl.umap(adata=adata,\n",
    "                       color=[f\"latent_{model_name}_leiden_{str(leiden_resolution)}\"],\n",
    "                       title=f\"Latent Space with Leiden Clusters\",\n",
    "                       ax=axs[0],\n",
    "                       show=False)\n",
    "            sq.pl.spatial_scatter(adata=adata,\n",
    "                                  color=[f\"latent_{model_name}_leiden_{str(leiden_resolution)}\"],\n",
    "                                  title=f\"Physical Space with Leiden Clusters\",\n",
    "                                  shape=None,\n",
    "                                  ax=axs[1])\n",
    "\n",
    "            # Create and position shared legend\n",
    "            handles, labels = axs[0].get_legend_handles_labels()\n",
    "            lgd = fig.legend(handles, labels, bbox_to_anchor=(1.25, 0.9185))\n",
    "            axs[0].get_legend().remove()\n",
    "            axs[1].get_legend().remove()\n",
    "\n",
    "            # Adjust, save and display plot\n",
    "            plt.subplots_adjust(wspace=0, hspace=0.2)\n",
    "            fig.savefig(f\"{dataset_figure_folder_path}/latent_physical_comparison_\"\n",
    "                        f\"{model_name}_run{run_number}.png\",\n",
    "                        bbox_extra_artists=(lgd, title),\n",
    "                        bbox_inches=\"tight\")\n",
    "            plt.show()\n",
    "\n",
    "        # Use UMAP embedding of cell-cell distances as latent features\n",
    "        adata_new.obsm[latent_key + f\"_run{run_number}\"] = adata.obsm[\"X_umap\"]\n",
    "\n",
    "        # Store intermediate adata to disk\n",
    "        adata_new.write(f\"{data_folder_path}/{dataset}_{model_name}.h5ad\")\n",
    "\n",
    "    # Store final adata to disk\n",
    "    adata_new.write(f\"{data_folder_path}/{dataset}_{model_name}.h5ad\")  "
   ]
  },
  {
   "cell_type": "markdown",
   "id": "bbcf125d-e8d4-4377-8bf1-3c3dba863952",
   "metadata": {},
   "source": [
    "### 2.2 Train Models on Benchmarking Datasets"
   ]
  },
  {
   "cell_type": "code",
   "execution_count": null,
   "id": "66d21387-47b0-4c18-ad3c-1e3de46116e6",
   "metadata": {},
   "outputs": [],
   "source": [
    "train_sagenet_models(dataset=\"seqfish_mouse_organogenesis_embryo2\",\n",
    "                     cell_type_key=\"celltype_mapped_refined\",\n",
    "                     adata_new=None,\n",
    "                     n_start_run=1,\n",
    "                     n_end_run=10,\n",
    "                     n_neighbor_list=[4, 4, 8, 8, 12, 12, 16, 16, 20, 20])"
   ]
  },
  {
   "cell_type": "raw",
   "id": "f26f3c2d-fb69-40dd-80bc-16b2ec8d70ef",
   "metadata": {},
   "source": [
    "# This does not work because of memory exhaustion\n",
    "# (Tesla V100-SXM3-32GB GPU)\n",
    "train_sagenet_models(dataset=\"vizgen_merfish_mouse_liver\",\n",
    "                     cell_type_key=\"Cell_Type\",\n",
    "                     adata_new=None,\n",
    "                     n_start_run=1,\n",
    "                     n_end_run=10,\n",
    "                     n_neighbor_list=[4, 4, 8, 8, 12, 12, 16, 16, 20, 20])"
   ]
  },
  {
   "cell_type": "code",
   "execution_count": null,
   "id": "4dd7c819-4f7d-4051-aa13-409ee7654013",
   "metadata": {},
   "outputs": [],
   "source": [
    "# ~10% sample of the original dataset\n",
    "train_sagenet_models(dataset=\"vizgen_merfish_mouse_liver_sample\",\n",
    "                     cell_type_key=\"Cell_Type\",\n",
    "                     adata_new=None,\n",
    "                     n_start_run=1,\n",
    "                     n_end_run=10,\n",
    "                     n_neighbor_list=[4, 4, 8, 8, 12, 12, 16, 16, 20, 20])"
   ]
  },
  {
   "cell_type": "raw",
   "id": "723831a3-25c3-499f-aec4-0035ffa516cd",
   "metadata": {},
   "source": [
    "# This does not work because of memory exhaustion\n",
    "# (Tesla V100-SXM3-32GB GPU)\n",
    "train_sagenet_models(dataset=\"starmap_plus_mouse_cns\",\n",
    "                     cell_type_key=\"Main_molecular_cell_type\",\n",
    "                     adata_new=None,\n",
    "                     n_start_run=1,\n",
    "                     n_end_run=10,\n",
    "                     n_neighbor_list=[4, 4, 8, 8, 12, 12, 16, 16, 20, 20])"
   ]
  },
  {
   "cell_type": "code",
   "execution_count": null,
   "id": "5cba310a-1a6e-4a89-9fdc-55a7d4e0bd70",
   "metadata": {},
   "outputs": [],
   "source": [
    "# ~20% sample of the original dataset\n",
    "train_sagenet_models(dataset=\"starmap_plus_mouse_cns_sample\",\n",
    "                     cell_type_key=\"Main_molecular_cell_type\",\n",
    "                     adata_new=None,\n",
    "                     n_start_run=1,\n",
    "                     n_end_run=10,\n",
    "                     n_neighbor_list=[4, 4, 8, 8, 12, 12, 16, 16, 20, 20])"
   ]
  },
  {
   "cell_type": "raw",
   "id": "fca6a6cc-c4e1-4447-94ba-6734720e7a1b",
   "metadata": {},
   "source": [
    "# This does not work because of memory exhaustion\n",
    "# (Tesla V100-SXM3-32GB GPU)\n",
    "train_sagenet_models(dataset=\"nanostring_cosmx_human_nsclc\",\n",
    "                     cell_type_key=\"cell_type\",\n",
    "                     adata_new=None,\n",
    "                     n_start_run=1,\n",
    "                     n_end_run=10,\n",
    "                     n_neighbor_list=[4, 4, 8, 8, 12, 12, 16, 16, 20, 20])"
   ]
  },
  {
   "cell_type": "code",
   "execution_count": null,
   "id": "bc8962b5-4bea-41b3-91bb-176359bbe35e",
   "metadata": {},
   "outputs": [],
   "source": [
    "# ~20% sample of the original dataset\n",
    "train_sagenet_models(dataset=\"nanostring_cosmx_human_nsclc_sample\",\n",
    "                     cell_type_key=\"cell_type\",\n",
    "                     adata_new=None,\n",
    "                     n_start_run=1,\n",
    "                     n_end_run=10,\n",
    "                     n_neighbor_list=[4, 4, 8, 8, 12, 12, 16, 16, 20, 20])"
   ]
  },
  {
   "cell_type": "code",
   "execution_count": null,
   "id": "deb2b152-2028-481a-9b5c-75f896178d6e",
   "metadata": {},
   "outputs": [],
   "source": []
  }
 ],
 "metadata": {
  "kernelspec": {
   "display_name": "Python 3 (ipykernel)",
   "language": "python",
   "name": "python3"
  },
  "language_info": {
   "codemirror_mode": {
    "name": "ipython",
    "version": 3
   },
   "file_extension": ".py",
   "mimetype": "text/x-python",
   "name": "python",
   "nbconvert_exporter": "python",
   "pygments_lexer": "ipython3",
   "version": "3.9.16"
  }
 },
 "nbformat": 4,
 "nbformat_minor": 5
}
