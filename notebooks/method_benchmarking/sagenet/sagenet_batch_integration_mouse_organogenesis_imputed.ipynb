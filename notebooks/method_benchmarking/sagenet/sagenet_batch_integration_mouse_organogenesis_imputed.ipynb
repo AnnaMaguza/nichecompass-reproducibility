{
 "cells": [
  {
   "cell_type": "markdown",
   "id": "b04b5132-fb96-4e35-9f67-5bfefbb5f5ba",
   "metadata": {},
   "source": [
    "# SageNet Batch Integration Mouse Organogenesis Imputed"
   ]
  },
  {
   "cell_type": "markdown",
   "id": "857142b1-98ef-4b16-a6d3-a8b3ed4d7261",
   "metadata": {},
   "source": [
    "- **Creator**: Sebastian Birk (<sebastian.birk@helmholtz-munich.de>).\n",
    "- **Affiliation:** Helmholtz Munich, Institute of Computational Biology (ICB), Talavera-López Lab\n",
    "- **Date of Creation:** 30.01.2023\n",
    "- **Date of Last Modification:** 01.02.2023"
   ]
  },
  {
   "cell_type": "markdown",
   "id": "e3839e3d-eb29-4224-af42-d02db62a09b1",
   "metadata": {},
   "source": [
    "## 1. Setup"
   ]
  },
  {
   "cell_type": "markdown",
   "id": "1bc51d21-9846-4db3-8c80-03028066ee42",
   "metadata": {},
   "source": [
    "### 1.1 Import Libraries"
   ]
  },
  {
   "cell_type": "code",
   "execution_count": 13,
   "id": "f9f0ad1e-753e-4566-84cc-d2e5a988dd78",
   "metadata": {},
   "outputs": [],
   "source": [
    "import sys\n",
    "sys.path.append(\"../../../autotalker\")"
   ]
  },
  {
   "cell_type": "code",
   "execution_count": 14,
   "id": "49046957-e566-4d38-95d3-0ed0a1d7836f",
   "metadata": {},
   "outputs": [
    {
     "ename": "ModuleNotFoundError",
     "evalue": "No module named 'pyreadr'",
     "output_type": "error",
     "traceback": [
      "\u001b[0;31m---------------------------------------------------------------------------\u001b[0m",
      "\u001b[0;31mModuleNotFoundError\u001b[0m                       Traceback (most recent call last)",
      "Cell \u001b[0;32mIn[14], line 19\u001b[0m\n\u001b[1;32m     16\u001b[0m \u001b[38;5;28;01mimport\u001b[39;00m \u001b[38;5;21;01mtorch_geometric\u001b[39;00m\u001b[38;5;21;01m.\u001b[39;00m\u001b[38;5;21;01mdata\u001b[39;00m \u001b[38;5;28;01mas\u001b[39;00m \u001b[38;5;21;01mgeo_dt\u001b[39;00m\n\u001b[1;32m     17\u001b[0m \u001b[38;5;28;01mfrom\u001b[39;00m \u001b[38;5;21;01mscarches\u001b[39;00m\u001b[38;5;21;01m.\u001b[39;00m\u001b[38;5;21;01mmodels\u001b[39;00m\u001b[38;5;21;01m.\u001b[39;00m\u001b[38;5;21;01msagenet\u001b[39;00m\u001b[38;5;21;01m.\u001b[39;00m\u001b[38;5;21;01mutils\u001b[39;00m \u001b[38;5;28;01mimport\u001b[39;00m glasso\n\u001b[0;32m---> 19\u001b[0m \u001b[38;5;28;01mfrom\u001b[39;00m \u001b[38;5;21;01mautotalker\u001b[39;00m\u001b[38;5;21;01m.\u001b[39;00m\u001b[38;5;21;01mutils\u001b[39;00m \u001b[38;5;28;01mimport\u001b[39;00m (extract_gp_dict_from_mebocost_es_interactions,\n\u001b[1;32m     20\u001b[0m                               extract_gp_dict_from_nichenet_ligand_target_mx,\n\u001b[1;32m     21\u001b[0m                               extract_gp_dict_from_omnipath_lr_interactions,\n\u001b[1;32m     22\u001b[0m                               get_unique_genes_from_gp_dict)\n",
      "File \u001b[0;32m~/projects/autotalker-reproducibility/method_benchmarking/sagenet/../../../autotalker/autotalker/utils/__init__.py:1\u001b[0m\n\u001b[0;32m----> 1\u001b[0m \u001b[38;5;28;01mfrom\u001b[39;00m \u001b[38;5;21;01m.\u001b[39;00m\u001b[38;5;21;01mgene_programs\u001b[39;00m \u001b[38;5;28;01mimport\u001b[39;00m (add_gps_from_gp_dict_to_adata,\n\u001b[1;32m      2\u001b[0m                             extract_gp_dict_from_nichenet_ligand_target_mx,\n\u001b[1;32m      3\u001b[0m                             extract_gp_dict_from_mebocost_es_interactions,\n\u001b[1;32m      4\u001b[0m                             extract_gp_dict_from_omnipath_lr_interactions,\n\u001b[1;32m      5\u001b[0m                             filter_and_combine_gp_dict_gps,\n\u001b[1;32m      6\u001b[0m                             get_unique_genes_from_gp_dict)\n\u001b[1;32m      7\u001b[0m \u001b[38;5;28;01mfrom\u001b[39;00m \u001b[38;5;21;01m.\u001b[39;00m\u001b[38;5;21;01mgraphs\u001b[39;00m \u001b[38;5;28;01mimport\u001b[39;00m (compute_graph_connectivities,\n\u001b[1;32m      8\u001b[0m                      compute_graph_indices_and_distances)\n\u001b[1;32m     10\u001b[0m __all__ \u001b[38;5;241m=\u001b[39m [\u001b[38;5;124m\"\u001b[39m\u001b[38;5;124madd_gps_from_gp_dict_to_adata\u001b[39m\u001b[38;5;124m\"\u001b[39m,\n\u001b[1;32m     11\u001b[0m            \u001b[38;5;124m\"\u001b[39m\u001b[38;5;124mextract_gp_dict_from_nichenet_ligand_target_mx\u001b[39m\u001b[38;5;124m\"\u001b[39m,\n\u001b[1;32m     12\u001b[0m            \u001b[38;5;124m\"\u001b[39m\u001b[38;5;124mextract_gp_dict_from_mebocost_es_interactions\u001b[39m\u001b[38;5;124m\"\u001b[39m,\n\u001b[0;32m   (...)\u001b[0m\n\u001b[1;32m     16\u001b[0m            \u001b[38;5;124m\"\u001b[39m\u001b[38;5;124mcompute_graph_connectivities\u001b[39m\u001b[38;5;124m\"\u001b[39m,\n\u001b[1;32m     17\u001b[0m            \u001b[38;5;124m\"\u001b[39m\u001b[38;5;124mcompute_graph_indices_and_distances\u001b[39m\u001b[38;5;124m\"\u001b[39m]\n",
      "File \u001b[0;32m~/projects/autotalker-reproducibility/method_benchmarking/sagenet/../../../autotalker/autotalker/utils/gene_programs.py:13\u001b[0m\n\u001b[1;32m     10\u001b[0m \u001b[38;5;28;01mimport\u001b[39;00m \u001b[38;5;21;01mpandas\u001b[39;00m \u001b[38;5;28;01mas\u001b[39;00m \u001b[38;5;21;01mpd\u001b[39;00m\n\u001b[1;32m     11\u001b[0m \u001b[38;5;28;01mfrom\u001b[39;00m \u001b[38;5;21;01manndata\u001b[39;00m \u001b[38;5;28;01mimport\u001b[39;00m AnnData\n\u001b[0;32m---> 13\u001b[0m \u001b[38;5;28;01mfrom\u001b[39;00m \u001b[38;5;21;01m.\u001b[39;00m\u001b[38;5;21;01mutils\u001b[39;00m \u001b[38;5;28;01mimport\u001b[39;00m load_R_file_as_df\n\u001b[1;32m     16\u001b[0m \u001b[38;5;28;01mdef\u001b[39;00m \u001b[38;5;21madd_gps_from_gp_dict_to_adata\u001b[39m(\n\u001b[1;32m     17\u001b[0m         gp_dict: \u001b[38;5;28mdict\u001b[39m,\n\u001b[1;32m     18\u001b[0m         adata: AnnData,\n\u001b[0;32m   (...)\u001b[0m\n\u001b[1;32m     31\u001b[0m         max_target_genes_per_gp: Optional[\u001b[38;5;28mint\u001b[39m]\u001b[38;5;241m=\u001b[39m\u001b[38;5;28;01mNone\u001b[39;00m,\n\u001b[1;32m     32\u001b[0m         filter_genes_not_in_masks: \u001b[38;5;28mbool\u001b[39m\u001b[38;5;241m=\u001b[39m\u001b[38;5;28;01mFalse\u001b[39;00m):\n\u001b[1;32m     33\u001b[0m \u001b[38;5;250m    \u001b[39m\u001b[38;5;124;03m\"\"\"\u001b[39;00m\n\u001b[1;32m     34\u001b[0m \u001b[38;5;124;03m    Add gene programs defined in a gene program dictionary to an AnnData object\u001b[39;00m\n\u001b[1;32m     35\u001b[0m \u001b[38;5;124;03m    by converting the gene program lists of gene program target and source genes\u001b[39;00m\n\u001b[0;32m   (...)\u001b[0m\n\u001b[1;32m    105\u001b[0m \u001b[38;5;124;03m        object.\u001b[39;00m\n\u001b[1;32m    106\u001b[0m \u001b[38;5;124;03m    \"\"\"\u001b[39;00m\n",
      "File \u001b[0;32m~/projects/autotalker-reproducibility/method_benchmarking/sagenet/../../../autotalker/autotalker/utils/utils.py:9\u001b[0m\n\u001b[1;32m      6\u001b[0m \u001b[38;5;28;01mfrom\u001b[39;00m \u001b[38;5;21;01mtyping\u001b[39;00m \u001b[38;5;28;01mimport\u001b[39;00m Optional\n\u001b[1;32m      8\u001b[0m \u001b[38;5;28;01mimport\u001b[39;00m \u001b[38;5;21;01mpandas\u001b[39;00m \u001b[38;5;28;01mas\u001b[39;00m \u001b[38;5;21;01mpd\u001b[39;00m\n\u001b[0;32m----> 9\u001b[0m \u001b[38;5;28;01mimport\u001b[39;00m \u001b[38;5;21;01mpyreadr\u001b[39;00m\n\u001b[1;32m     12\u001b[0m \u001b[38;5;28;01mdef\u001b[39;00m \u001b[38;5;21mload_R_file_as_df\u001b[39m(R_file_path: \u001b[38;5;28mstr\u001b[39m,\n\u001b[1;32m     13\u001b[0m                        url: Optional[\u001b[38;5;28mstr\u001b[39m]\u001b[38;5;241m=\u001b[39m\u001b[38;5;28;01mNone\u001b[39;00m,\n\u001b[1;32m     14\u001b[0m                        save_df_to_disk: \u001b[38;5;28mbool\u001b[39m\u001b[38;5;241m=\u001b[39m\u001b[38;5;28;01mFalse\u001b[39;00m,\n\u001b[1;32m     15\u001b[0m                        df_save_path: Optional[\u001b[38;5;28mstr\u001b[39m]\u001b[38;5;241m=\u001b[39m\u001b[38;5;28;01mNone\u001b[39;00m) \u001b[38;5;241m-\u001b[39m\u001b[38;5;241m>\u001b[39m pd\u001b[38;5;241m.\u001b[39mDataFrame:\n\u001b[1;32m     16\u001b[0m \u001b[38;5;250m    \u001b[39m\u001b[38;5;124;03m\"\"\"\u001b[39;00m\n\u001b[1;32m     17\u001b[0m \u001b[38;5;124;03m    Helper to load an R file either from ´url´ if specified or from ´file_path´ \u001b[39;00m\n\u001b[1;32m     18\u001b[0m \u001b[38;5;124;03m    on disk and convert it to a pandas DataFrame.\u001b[39;00m\n\u001b[0;32m   (...)\u001b[0m\n\u001b[1;32m     34\u001b[0m \u001b[38;5;124;03m        Content of R file loaded into a pandas DataFrame.\u001b[39;00m\n\u001b[1;32m     35\u001b[0m \u001b[38;5;124;03m    \"\"\"\u001b[39;00m\n",
      "\u001b[0;31mModuleNotFoundError\u001b[0m: No module named 'pyreadr'"
     ]
    }
   ],
   "source": [
    "import copy\n",
    "import os\n",
    "import random\n",
    "import warnings\n",
    "from datetime import datetime\n",
    "\n",
    "import anndata as ad\n",
    "import matplotlib.pyplot as plt\n",
    "import numpy as np\n",
    "import pandas as pd\n",
    "import scarches as sca\n",
    "import scanpy as sc\n",
    "import scipy.sparse as sp\n",
    "import squidpy as sq\n",
    "import torch\n",
    "import torch_geometric.data as geo_dt\n",
    "from scarches.models.sagenet.utils import glasso\n",
    "\n",
    "from autotalker.utils import (extract_gp_dict_from_mebocost_es_interactions,\n",
    "                              extract_gp_dict_from_nichenet_ligand_target_mx,\n",
    "                              extract_gp_dict_from_omnipath_lr_interactions,\n",
    "                              get_unique_genes_from_gp_dict)"
   ]
  },
  {
   "cell_type": "markdown",
   "id": "6ff3f7fe-3c0b-4949-83bb-24db019541d2",
   "metadata": {},
   "source": [
    "### 1.2 Define Parameters"
   ]
  },
  {
   "cell_type": "code",
   "execution_count": 3,
   "id": "d1dee4dc-72fd-48bf-a3f8-26fa14371c1c",
   "metadata": {},
   "outputs": [],
   "source": [
    "## Dataset\n",
    "dataset = \"seqfish_mouse_organogenesis\"\n",
    "batch1 = \"embryo1_z2\"\n",
    "batch2 = \"embryo1_z5\"\n",
    "batch3 = \"embryo2_z2\"\n",
    "batch4 = \"embryo2_z5\"\n",
    "batch5 = \"embryo3_z2\"\n",
    "batch6 = \"embryo3_z5\"\n",
    "n_neighbors = 4\n",
    "reference_removed_cell_type = \"Presomitic mesoderm\"\n",
    "\n",
    "spatial_key = \"spatial\"\n",
    "\n",
    "## Others\n",
    "random_seed = 42\n",
    "load_timestamp = None"
   ]
  },
  {
   "cell_type": "markdown",
   "id": "24f39ef0-ea27-4530-add3-c2c025d7846c",
   "metadata": {},
   "source": [
    "### 1.3 Run Notebook Setup"
   ]
  },
  {
   "cell_type": "code",
   "execution_count": 4,
   "id": "92397ab9-ef5f-477c-8004-e3ecf6c42789",
   "metadata": {},
   "outputs": [],
   "source": [
    "sc.set_figure_params(figsize=(6, 6))"
   ]
  },
  {
   "cell_type": "code",
   "execution_count": 5,
   "id": "eb37695c-495b-423c-a8f6-0273d208fa64",
   "metadata": {},
   "outputs": [],
   "source": [
    "# Ignore future warnings and user warnings\n",
    "warnings.simplefilter(action=\"ignore\", category=FutureWarning)\n",
    "warnings.simplefilter(action=\"ignore\", category=UserWarning)"
   ]
  },
  {
   "cell_type": "code",
   "execution_count": 6,
   "id": "7a7355b3-3e15-4a12-a6e8-1839b032c72c",
   "metadata": {},
   "outputs": [],
   "source": [
    "# Get time of notebook execution for timestamping saved artifacts\n",
    "now = datetime.now()\n",
    "current_timestamp = now.strftime(\"%d%m%Y_%H%M%S\")"
   ]
  },
  {
   "cell_type": "markdown",
   "id": "458b6dbe-507f-4844-84c9-e138f2692898",
   "metadata": {},
   "source": [
    "### 1.4 Configure Paths and Create Directories"
   ]
  },
  {
   "cell_type": "code",
   "execution_count": 7,
   "id": "43981a99-75f2-4922-aa1e-42d92c0eff22",
   "metadata": {},
   "outputs": [],
   "source": [
    "# Define paths\n",
    "data_folder_path = \"../../datasets/srt_data/gold/\"\n",
    "figure_folder_path = f\"../../figures/{dataset}/batch_integration/{current_timestamp}\"\n",
    "model_artifacts_folder_path = f\"../../artifacts/{dataset}/batch_integration/{current_timestamp}\"\n",
    "\n",
    "# Create required directories\n",
    "os.makedirs(figure_folder_path, exist_ok=True)\n",
    "os.makedirs(model_artifacts_folder_path, exist_ok=True)"
   ]
  },
  {
   "cell_type": "markdown",
   "id": "0653dcd9-e46b-4832-b64e-8d70654719d3",
   "metadata": {
    "tags": []
   },
   "source": [
    "## 2. Data"
   ]
  },
  {
   "cell_type": "markdown",
   "id": "8f4a55e8-bb33-4725-84b5-01db36fdf058",
   "metadata": {},
   "source": [
    "### 2.1 Load Data"
   ]
  },
  {
   "cell_type": "code",
   "execution_count": 8,
   "id": "3b8514f3-b23a-4333-8f94-56da61adcb38",
   "metadata": {},
   "outputs": [],
   "source": [
    "adata = ad.read_h5ad(f\"{data_folder_path}/{dataset}_imputed.h5ad\")"
   ]
  },
  {
   "cell_type": "markdown",
   "id": "14c73afa-274d-4a9e-97bc-c660c6082240",
   "metadata": {},
   "source": [
    "### 2.2 Prepare Data for Model Training"
   ]
  },
  {
   "cell_type": "code",
   "execution_count": 9,
   "id": "fa83743e-c25d-40a2-a6d9-46035b5f5baf",
   "metadata": {},
   "outputs": [
    {
     "ename": "NameError",
     "evalue": "name 'extract_gp_dict_from_nichenet_ligand_target_mx' is not defined",
     "output_type": "error",
     "traceback": [
      "\u001b[0;31m---------------------------------------------------------------------------\u001b[0m",
      "\u001b[0;31mNameError\u001b[0m                                 Traceback (most recent call last)",
      "Cell \u001b[0;32mIn[9], line 1\u001b[0m\n\u001b[0;32m----> 1\u001b[0m nichenet_gp_dict \u001b[38;5;241m=\u001b[39m \u001b[43mextract_gp_dict_from_nichenet_ligand_target_mx\u001b[49m(\n\u001b[1;32m      2\u001b[0m     keep_target_ratio\u001b[38;5;241m=\u001b[39m\u001b[38;5;241m0.01\u001b[39m,\n\u001b[1;32m      3\u001b[0m     load_from_disk\u001b[38;5;241m=\u001b[39m\u001b[38;5;28;01mTrue\u001b[39;00m,\n\u001b[1;32m      4\u001b[0m     save_to_disk\u001b[38;5;241m=\u001b[39m\u001b[38;5;28;01mFalse\u001b[39;00m,\n\u001b[1;32m      5\u001b[0m     file_path\u001b[38;5;241m=\u001b[39mnichenet_ligand_target_mx_file_path)\n",
      "\u001b[0;31mNameError\u001b[0m: name 'extract_gp_dict_from_nichenet_ligand_target_mx' is not defined"
     ]
    }
   ],
   "source": [
    "nichenet_gp_dict = extract_gp_dict_from_nichenet_ligand_target_mx(\n",
    "    keep_target_ratio=0.01,\n",
    "    load_from_disk=True,\n",
    "    save_to_disk=False,\n",
    "    file_path=nichenet_ligand_target_mx_file_path)"
   ]
  },
  {
   "cell_type": "code",
   "execution_count": 78,
   "id": "b98a4fb6-5fec-4912-a365-db33510dc741",
   "metadata": {},
   "outputs": [],
   "source": [
    "omnipath_gp_dict = extract_gp_dict_from_omnipath_lr_interactions(\n",
    "    min_curation_effort=0,\n",
    "    load_from_disk=False,\n",
    "    save_to_disk=True,\n",
    "    file_path=omnipath_lr_interactions_file_path)"
   ]
  },
  {
   "cell_type": "code",
   "execution_count": 79,
   "id": "a3bf18c3-0871-4d31-b089-068b88d8bcbb",
   "metadata": {},
   "outputs": [],
   "source": [
    "mebocost_gp_dict = extract_gp_dict_from_mebocost_es_interactions(\n",
    "    dir_path=f\"{gp_data_folder_path}/metabolite_enzyme_sensor_gps/\",\n",
    "    species=\"mouse\",\n",
    "    genes_uppercase=True)"
   ]
  },
  {
   "cell_type": "code",
   "execution_count": 80,
   "id": "43717b83-3a94-4382-9cdc-ec519ec59842",
   "metadata": {},
   "outputs": [],
   "source": [
    "# Combine gene programs into one dictionary\n",
    "combined_gp_dict = dict(nichenet_gp_dict)\n",
    "combined_gp_dict.update(omnipath_gp_dict)\n",
    "combined_gp_dict.update(mebocost_gp_dict)"
   ]
  },
  {
   "cell_type": "code",
   "execution_count": 106,
   "id": "b65d0df4-3b2c-4352-b1f6-3de1c12eee4e",
   "metadata": {},
   "outputs": [
    {
     "name": "stdout",
     "output_type": "stream",
     "text": [
      "Keeping 3475 relevant gene program genes.\n"
     ]
    }
   ],
   "source": [
    "# Filter genes and only keep ligand, receptor, metabolitye enzyme, metabolite sensor and \n",
    "# highly variable genes (potential target genes of nichenet) \n",
    "omnipath_genes = get_unique_genes_from_gp_dict(gp_dict=omnipath_gp_dict,\n",
    "                                               retrieved_gene_entities=[\"sources\", \"targets\"])\n",
    "\n",
    "mebocost_genes = get_unique_genes_from_gp_dict(gp_dict=mebocost_gp_dict,\n",
    "                                               retrieved_gene_entities=[\"sources\", \"targets\"])\n",
    "\n",
    "nichenet_source_genes = get_unique_genes_from_gp_dict(gp_dict=nichenet_gp_dict,\n",
    "                                                      retrieved_gene_entities=[\"sources\"])\n",
    "\n",
    "gp_relevant_genes = list(set(omnipath_genes + mebocost_genes + nichenet_source_genes))\n",
    "\n",
    "# Keep only highly variable genes\n",
    "sc.pp.highly_variable_genes(\n",
    "    adata,\n",
    "    n_top_genes=1000,\n",
    "    batch_key=\"batch\",\n",
    "    subset=False)\n",
    "\n",
    "adata.var[\"gp_relevant\"] = adata.var.index.str.upper().isin(gp_relevant_genes)\n",
    "adata.var[\"gp_relevant\"] = adata.var[\"gp_relevant\"] | adata.var[\"highly_variable\"]\n",
    "print(f\"Keeping {adata.var['gp_relevant'].sum()} relevant gene program genes.\")"
   ]
  },
  {
   "cell_type": "code",
   "execution_count": 10,
   "id": "7580b0f1-e6fb-4ac1-b850-ee595ad0b575",
   "metadata": {},
   "outputs": [],
   "source": [
    "# Split adata into different batches\n",
    "adata_batch1 = adata[adata.obs.index.str.startswith(\"embryo1\") &\n",
    "                     adata.obs.index.str.endswith(\"z2\")] # reference\n",
    "adata_batch2 = adata[adata.obs.index.str.startswith(\"embryo1\") &\n",
    "                     adata.obs.index.str.endswith(\"z5\")] # reference\n",
    "adata_batch3 = adata[adata.obs.index.str.startswith(\"embryo2\") &\n",
    "                     adata.obs.index.str.endswith(\"z2\")] # reference\n",
    "adata_batch4 = adata[adata.obs.index.str.startswith(\"embryo2\") &\n",
    "                     adata.obs.index.str.endswith(\"z5\")] # reference\n",
    "adata_batch5 = adata[adata.obs.index.str.startswith(\"embryo3\") &\n",
    "                     adata.obs.index.str.endswith(\"z2\")] # query\n",
    "adata_batch6 = adata[adata.obs.index.str.startswith(\"embryo3\") &\n",
    "                     adata.obs.index.str.endswith(\"z5\")] # query\n",
    "\n",
    "adata_batch_list = [adata_batch1,\n",
    "                    adata_batch2,\n",
    "                    adata_batch3,\n",
    "                    adata_batch4,\n",
    "                    adata_batch5,\n",
    "                    adata_batch6]"
   ]
  },
  {
   "cell_type": "markdown",
   "id": "2492cca2-d23b-4e8f-8085-dd8373c16d7a",
   "metadata": {},
   "source": [
    "### 2.2 Remove Selected Cell Type from Reference for Recovery by Query"
   ]
  },
  {
   "cell_type": "code",
   "execution_count": 11,
   "id": "257445dd-6883-45eb-89dc-536085e4ef0c",
   "metadata": {},
   "outputs": [],
   "source": [
    "# Artificially remove cell type from reference for recovery by query\n",
    "for i in range(len(adata_batch_list[:-2])):\n",
    "    adata_batch_list[i] = adata_batch_list[i][adata_batch_list[i].obs[\"celltype_mapped_refined\"] != reference_removed_cell_type]"
   ]
  },
  {
   "cell_type": "markdown",
   "id": "4d6761d7-cc9e-4932-83c4-b7c65a4e8f64",
   "metadata": {},
   "source": [
    "### 2.3 Compute Spatial Neighbor Graphs"
   ]
  },
  {
   "cell_type": "code",
   "execution_count": 12,
   "id": "7c7253e4-eb6f-4f3d-a12b-3fa7232876cf",
   "metadata": {},
   "outputs": [],
   "source": [
    "for i in range(len(adata_batch_list)):\n",
    "    # Compute (separate) spatial neighborhood\n",
    "    sq.gr.spatial_neighbors(adata_batch_list[i],\n",
    "                            coord_type=\"generic\",\n",
    "                            spatial_key=spatial_key,\n",
    "                            n_neighs=n_neighbors)\n",
    "    # Make adjacency matrix symmetric\n",
    "    adata_batch_list[i].obsp[\"spatial_connectivities\"] = adata_batch_list[i].obsp[\"spatial_connectivities\"].maximum(\n",
    "        adata_batch_list[i].obsp[\"spatial_connectivities\"].T)"
   ]
  },
  {
   "cell_type": "markdown",
   "id": "455bc684-bbdc-4a6b-be4e-2ad970c4ee50",
   "metadata": {},
   "source": [
    "### 2.4 Combine Data for SageNet Integration"
   ]
  },
  {
   "cell_type": "code",
   "execution_count": 13,
   "id": "3a6772b0-c04c-4665-8624-bebef11e119e",
   "metadata": {},
   "outputs": [],
   "source": [
    "adata_sagenet = ad.concat(adata_batch_list, join=\"inner\")\n",
    "\n",
    "# Combine spatial neighborhood graphs as disconnected components\n",
    "connectivities_extension_batch1 = sp.csr_matrix((adata_batch_list[0].shape[0],\n",
    "                                                 (adata_batch_list[1].shape[0] +\n",
    "                                                  adata_batch_list[2].shape[0] +\n",
    "                                                  adata_batch_list[3].shape[0] +\n",
    "                                                  adata_batch_list[4].shape[0] +\n",
    "                                                  adata_batch_list[5].shape[0])))\n",
    "connectivities_extension_batch2_before = sp.csr_matrix((adata_batch_list[1].shape[0],\n",
    "                                                        adata_batch_list[0].shape[0]))\n",
    "connectivities_extension_batch2_after = sp.csr_matrix((adata_batch_list[1].shape[0],\n",
    "                                                       (adata_batch_list[2].shape[0] +\n",
    "                                                        adata_batch_list[3].shape[0] +\n",
    "                                                        adata_batch_list[4].shape[0] +\n",
    "                                                        adata_batch_list[5].shape[0])))\n",
    "connectivities_extension_batch3_before = sp.csr_matrix((adata_batch_list[2].shape[0],\n",
    "                                                        (adata_batch_list[0].shape[0] +\n",
    "                                                         adata_batch_list[1].shape[0])))\n",
    "connectivities_extension_batch3_after = sp.csr_matrix((adata_batch_list[2].shape[0],\n",
    "                                                       (adata_batch_list[3].shape[0] +\n",
    "                                                        adata_batch_list[4].shape[0] +\n",
    "                                                        adata_batch_list[5].shape[0])))\n",
    "connectivities_extension_batch4_before = sp.csr_matrix((adata_batch_list[3].shape[0],\n",
    "                                                        (adata_batch_list[0].shape[0] +\n",
    "                                                         adata_batch_list[1].shape[0] +\n",
    "                                                         adata_batch_list[2].shape[0])))\n",
    "connectivities_extension_batch4_after = sp.csr_matrix((adata_batch_list[3].shape[0],\n",
    "                                                       (adata_batch_list[4].shape[0] +\n",
    "                                                        adata_batch_list[5].shape[0])))\n",
    "connectivities_extension_batch5_before = sp.csr_matrix((adata_batch_list[4].shape[0],\n",
    "                                                        (adata_batch_list[0].shape[0] +\n",
    "                                                         adata_batch_list[1].shape[0] +\n",
    "                                                         adata_batch_list[2].shape[0] +\n",
    "                                                         adata_batch_list[3].shape[0])))\n",
    "connectivities_extension_batch5_after = sp.csr_matrix((adata_batch_list[4].shape[0],\n",
    "                                                       adata_batch_list[5].shape[0]))\n",
    "connectivities_extension_batch6 = sp.csr_matrix((adata_batch_list[5].shape[0],\n",
    "                                                 (adata_batch_list[0].shape[0] +\n",
    "                                                  adata_batch_list[1].shape[0] +\n",
    "                                                  adata_batch_list[2].shape[0] +\n",
    "                                                  adata_batch_list[3].shape[0] +\n",
    "                                                  adata_batch_list[4].shape[0])))\n",
    "\n",
    "connectivities_batch1 = sp.hstack((adata_batch_list[0].obsp[\"spatial_connectivities\"],\n",
    "                                   connectivities_extension_batch1))\n",
    "connectivities_batch2 = sp.hstack((connectivities_extension_batch2_before,\n",
    "                                   adata_batch_list[1].obsp[\"spatial_connectivities\"],\n",
    "                                   connectivities_extension_batch2_after))\n",
    "connectivities_batch3 = sp.hstack((connectivities_extension_batch3_before,\n",
    "                                   adata_batch_list[2].obsp[\"spatial_connectivities\"],\n",
    "                                   connectivities_extension_batch3_after))\n",
    "connectivities_batch4 = sp.hstack((connectivities_extension_batch4_before,\n",
    "                                   adata_batch_list[3].obsp[\"spatial_connectivities\"],\n",
    "                                   connectivities_extension_batch4_after))\n",
    "connectivities_batch5 = sp.hstack((connectivities_extension_batch5_before,\n",
    "                                   adata_batch_list[4].obsp[\"spatial_connectivities\"],\n",
    "                                   connectivities_extension_batch5_after))\n",
    "connectivities_batch6 = sp.hstack((connectivities_extension_batch6,\n",
    "                                   adata_batch_list[5].obsp[\"spatial_connectivities\"]))\n",
    "\n",
    "connectivities = sp.vstack((connectivities_batch1,\n",
    "                            connectivities_batch2,\n",
    "                            connectivities_batch3,\n",
    "                            connectivities_batch4,\n",
    "                            connectivities_batch5,\n",
    "                            connectivities_batch6))\n",
    "\n",
    "adata_sagenet.obsp[\"spatial_connectivities\"] = connectivities"
   ]
  },
  {
   "cell_type": "code",
   "execution_count": 14,
   "id": "851d3de6-60ed-4f72-883d-1de268a7f14b",
   "metadata": {},
   "outputs": [
    {
     "name": "stdout",
     "output_type": "stream",
     "text": [
      "Computing gene interaction network...\n"
     ]
    },
    {
     "name": "stderr",
     "output_type": "stream",
     "text": [
      "\n",
      "KeyboardInterrupt\n",
      "\n"
     ]
    }
   ],
   "source": [
    "# Construct gene interaction network for spatial references\n",
    "for i in range(len(adata_batch_list[:-2])):\n",
    "    print(\"Computing gene interaction network...\")\n",
    "    glasso(adata_batch_list[i], [0.25, 0.5])\n",
    "    print(\"Computing Leiden clusters...\")\n",
    "    sc.tl.leiden(adata_batch_list[i],\n",
    "                 resolution=.05,\n",
    "                 random_state=0,\n",
    "                 key_added='leiden_0.05',\n",
    "                 adjacency=adata_batch_list[i].obsp[\"spatial_connectivities\"])\n",
    "    sc.tl.leiden(adata_batch_list[i],\n",
    "                 resolution=.1,\n",
    "                 random_state=0,\n",
    "                 key_added='leiden_0.1',\n",
    "                 adjacency=adata_batch_list[i].obsp[\"spatial_connectivities\"])\n",
    "    sc.tl.leiden(adata_batch_list[i],\n",
    "                 resolution=.5, random_state=0,\n",
    "                 key_added='leiden_0.5',\n",
    "                 adjacency=adata_batch_list[i].obsp[\"spatial_connectivities\"])"
   ]
  },
  {
   "cell_type": "code",
   "execution_count": null,
   "id": "06d067ad-c7c1-4433-bc2a-8065f10dcd5f",
   "metadata": {},
   "outputs": [],
   "source": [
    "# Define model object\n",
    "sg_obj = sca.models.sagenet(device=device)"
   ]
  },
  {
   "cell_type": "code",
   "execution_count": null,
   "id": "18d35b9d-4bd4-46b7-9c01-dcf3455cfb88",
   "metadata": {},
   "outputs": [],
   "source": [
    "for i in range(len(adata_batch_list[:-2])):\n",
    "    sg_obj.add_ref(adata_batch_list[i],\n",
    "                   comm_columns=['leiden_0.05', 'leiden_0.1', 'leiden_0.5'],\n",
    "                   tag=f'batch{i}',\n",
    "                   epochs=15,\n",
    "                   verbose = False)"
   ]
  },
  {
   "cell_type": "code",
   "execution_count": null,
   "id": "5cb59c65-2844-46a0-bed3-927885920db7",
   "metadata": {},
   "outputs": [],
   "source": [
    "# Use GPU if available\n",
    "if torch.cuda.is_available():\n",
    "  dev = \"cuda:0\"\n",
    "else:\n",
    "  dev = \"cpu\"\n",
    "device = torch.device(dev)\n",
    "print(device)\n",
    "\n",
    "# Estimate gene interaction network\n",
    "glasso(adata_sagenet, [0.25, 0.5]) # the adjacency matrix of the built graph is added under 'adata.varm[\"adj\"]'\n",
    "    \n",
    "# Compute spatial partitoning with 3 different resolutions to capture different granularities\n",
    "sc.tl.leiden(adata_sagenet,\n",
    "             resolution=.05,\n",
    "             random_state=random_seed,\n",
    "             key_added=\"leiden_0.05\",\n",
    "             adjacency=adata_sagenet.obsp[\"spatial_connectivities\"]) # the partitioning is added under 'adata.obs[\"leiden_0.05\"]'\n",
    "sc.tl.leiden(adata_sagenet,\n",
    "             resolution=.1,\n",
    "             random_state=random_seed,\n",
    "             key_added=\"leiden_0.1\",\n",
    "             adjacency=adata_sagenet.obsp[\"spatial_connectivities\"]) # the partitioning is added under 'adata.obs[\"leiden_0.1\"]'\n",
    "sc.tl.leiden(adata_sagenet,\n",
    "             resolution=.5,\n",
    "             random_state=random_seed,\n",
    "             key_added=\"leiden_0.5\",\n",
    "             adjacency=adata_sagenet.obsp[\"spatial_connectivities\"]) # the partitioning is added under 'adata.obs[\"leiden_0.5\"]'\n",
    "sc.pl.spatial(adata_sagenet,\n",
    "              color=[\"leiden_0.05\", \"leiden_0.1\", \"leiden_0.5\"],\n",
    "              frameon=False,\n",
    "              ncols=3,\n",
    "              spot_size=.1,\n",
    "              title=[\"leiden_0.05\", \"leiden_0.1\", \"leiden_0.5\"],\n",
    "              legend_loc=None)\n",
    "\n",
    "print(\"Training SageNet model...\")\n",
    "\n",
    "# Define model object\n",
    "sg_obj = sca.models.sagenet(device=device)\n",
    "\n",
    "sg_obj.train(adata_sagenet,\n",
    "             comm_columns=[\"leiden_0.05\", \"leiden_0.1\", \"leiden_0.5\"],\n",
    "             tag=\"integrated\",\n",
    "             epochs=15,\n",
    "             verbose = False,\n",
    "             importance=True)"
   ]
  },
  {
   "cell_type": "code",
   "execution_count": null,
   "id": "8b0b9ce8-eb13-4fe6-b088-395c935ad245",
   "metadata": {},
   "outputs": [],
   "source": [
    "    sg_obj.load_query_data(adata)\n",
    "    \n",
    "    # Use SageNet cell-cell-distances for UMAP generation\n",
    "    sc.pp.neighbors(adata_one_shot, use_rep=\"dist_map\")\n",
    "    sc.tl.umap(adata_one_shot)\n",
    "    fig = sc.pl.umap(adata_one_shot,\n",
    "                     color=[cell_type_key],\n",
    "                     title=\"Latent Space with Cell Types: SageNet\",\n",
    "                     return_fig=True)\n",
    "    fig.savefig(f\"{figure_folder_path}/latent_sagenet_cell_types_run_{run_number}_{current_timestamp}.png\",\n",
    "                bbox_inches=\"tight\")\n",
    "    \n",
    "    # Compute latent Leiden clustering\n",
    "    sc.tl.leiden(adata=adata,\n",
    "                 resolution=leiden_resolution,\n",
    "                 random_state=random_seed,\n",
    "                 key_added=f\"latent_sagenet_leiden_{str(leiden_resolution)}\")\n",
    "    \n",
    "    # Create subplot of latent Leiden cluster annotations in physical and latent space\n",
    "    fig, axs = plt.subplots(nrows=2, ncols=1, figsize=(6, 12))\n",
    "    title = fig.suptitle(t=\"Latent and Physical Space with Leiden Clusters: SageNet\")\n",
    "    sc.pl.umap(adata=adata,\n",
    "               color=[f\"latent_sagenet_leiden_{str(leiden_resolution)}\"],\n",
    "               title=f\"Latent Space with Leiden Clusters\",\n",
    "               ax=axs[0],\n",
    "               show=False)\n",
    "    sc.pl.spatial(adata=adata,\n",
    "                  color=[f\"latent_sagenet_leiden_{str(leiden_resolution)}\"],\n",
    "                  spot_size=0.03,\n",
    "                  title=f\"Physical Space with Leiden Clusters\",\n",
    "                  ax=axs[1],\n",
    "                  show=False)\n",
    "\n",
    "    # Create and position shared legend\n",
    "    handles, labels = axs[0].get_legend_handles_labels()\n",
    "    lgd = fig.legend(handles, labels, bbox_to_anchor=(1.25, 0.9185))\n",
    "    axs[0].get_legend().remove()\n",
    "    axs[1].get_legend().remove()\n",
    "\n",
    "    # Adjust, save and display plot\n",
    "    plt.subplots_adjust(wspace=0, hspace=0.2)\n",
    "    fig.savefig(f\"{figure_folder_path}/latent_physical_comparison_sagenet_leiden_run_{run_number}_{current_timestamp}.png\",\n",
    "                bbox_extra_artists=(lgd, title),\n",
    "                bbox_inches=\"tight\")\n",
    "    plt.show()\n",
    "    \n",
    "    # Use UMAP embedding of cell-cell distances as latent features\n",
    "    adata_original.obsm[latent_key + f\"_run{run_number}\"] = adata.obsm[\"X_umap\"]"
   ]
  },
  {
   "cell_type": "code",
   "execution_count": null,
   "id": "5decc2b9-faaa-4309-a7e8-c718aef4ecfa",
   "metadata": {},
   "outputs": [],
   "source": []
  }
 ],
 "metadata": {
  "kernelspec": {
   "display_name": "Python 3 (ipykernel)",
   "language": "python",
   "name": "python3"
  },
  "language_info": {
   "codemirror_mode": {
    "name": "ipython",
    "version": 3
   },
   "file_extension": ".py",
   "mimetype": "text/x-python",
   "name": "python",
   "nbconvert_exporter": "python",
   "pygments_lexer": "ipython3",
   "version": "3.9.15"
  }
 },
 "nbformat": 4,
 "nbformat_minor": 5
}
