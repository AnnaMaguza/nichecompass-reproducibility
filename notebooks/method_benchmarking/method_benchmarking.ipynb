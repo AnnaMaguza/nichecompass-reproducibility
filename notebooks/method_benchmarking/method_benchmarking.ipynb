{
 "cells": [
  {
   "cell_type": "markdown",
   "id": "364a9ebc-3e3c-4645-9049-a34bd084c8a8",
   "metadata": {},
   "source": [
    "# Method Benchmarking"
   ]
  },
  {
   "cell_type": "markdown",
   "id": "b0c55227-147e-417f-b0dd-bb0b7f322930",
   "metadata": {},
   "source": [
    "- **Creator**: Sebastian Birk (<sebastian.birk@helmholtz-munich.de>).\n",
    "- **Affiliation:** Helmholtz Munich, Institute of Computational Biology (ICB), Talavera-López Lab\n",
    "- **Date of Creation:** 06.01.2023\n",
    "- **Date of Last Modification:** 24.02.2023"
   ]
  },
  {
   "cell_type": "markdown",
   "id": "7529cde5-be12-403b-a94c-07561774b86c",
   "metadata": {},
   "source": [
    "## 1. Setup"
   ]
  },
  {
   "cell_type": "markdown",
   "id": "faad87bd-fef5-4429-a175-d714c491ae76",
   "metadata": {},
   "source": [
    "### 1.1 Import Libraries"
   ]
  },
  {
   "cell_type": "code",
   "execution_count": 1,
   "id": "d9533f18-f082-4dcc-8e93-117b9759133e",
   "metadata": {},
   "outputs": [],
   "source": [
    "%load_ext autoreload\n",
    "%autoreload 2"
   ]
  },
  {
   "cell_type": "code",
   "execution_count": 2,
   "id": "f1e0bf12-90ee-403e-8970-0d1ac2f47540",
   "metadata": {},
   "outputs": [],
   "source": [
    "import sys\n",
    "sys.path.append(\"../../../autotalker\")"
   ]
  },
  {
   "cell_type": "code",
   "execution_count": 3,
   "id": "d7f93960-c759-424f-8cb2-1d8698acae2c",
   "metadata": {},
   "outputs": [],
   "source": [
    "import os\n",
    "from datetime import datetime\n",
    "\n",
    "import matplotlib.pyplot as plt\n",
    "import numpy as np\n",
    "import pandas as pd\n",
    "import pickle\n",
    "import scanpy as sc\n",
    "import scib\n",
    "import seaborn as sns\n",
    "\n",
    "from autotalker.benchmarking import compute_benchmarking_metrics"
   ]
  },
  {
   "cell_type": "markdown",
   "id": "39b5efa5-2052-4986-8ae5-89cfab018515",
   "metadata": {},
   "source": [
    "### 1.2 Define Parameters"
   ]
  },
  {
   "cell_type": "code",
   "execution_count": 4,
   "id": "e5c8b48a-ed5e-48b5-8c5c-c1de11493aee",
   "metadata": {},
   "outputs": [],
   "source": [
    "dataset = \"seqfish_mouse_organogenesis_embryo2\"\n",
    "cell_type_key = \"celltype_mapped_refined\"\n",
    "spatial_key = \"spatial\""
   ]
  },
  {
   "cell_type": "code",
   "execution_count": 5,
   "id": "c11f1e70-5e2b-4e49-863d-0faff99d9b1d",
   "metadata": {},
   "outputs": [],
   "source": [
    "cell_type_colors = {\"Epiblast\" : \"#635547\",\n",
    "                    \"Primitive Streak\" : \"#DABE99\",\n",
    "                    \"Caudal epiblast\" : \"#9e6762\",\n",
    "                    \"PGC\" : \"#FACB12\",\n",
    "                    \"Anterior Primitive Streak\" : \"#c19f70\",\n",
    "                    \"Notochord\" : \"#0F4A9C\",\n",
    "                    \"Def. endoderm\" : \"#F397C0\",\n",
    "                    \"Definitive endoderm\" : \"#F397C0\",\n",
    "                    \"Gut\" : \"#EF5A9D\",\n",
    "                    \"Gut tube\" : \"#EF5A9D\",\n",
    "                    \"Nascent mesoderm\" : \"#C594BF\",\n",
    "                    \"Mixed mesoderm\" : \"#DFCDE4\",\n",
    "                    \"Intermediate mesoderm\" : \"#139992\",\n",
    "                    \"Caudal Mesoderm\" : \"#3F84AA\",\n",
    "                    \"Paraxial mesoderm\" : \"#8DB5CE\",\n",
    "                    \"Somitic mesoderm\" : \"#005579\",\n",
    "                    \"Pharyngeal mesoderm\" : \"#C9EBFB\",\n",
    "                    \"Splanchnic mesoderm\" : \"#C9EBFB\",\n",
    "                    \"Cardiomyocytes\" : \"#B51D8D\",\n",
    "                    \"Allantois\" : \"#532C8A\",\n",
    "                    \"ExE mesoderm\" : \"#8870ad\",\n",
    "                    \"Lateral plate mesoderm\" : \"#8870ad\",\n",
    "                    \"Mesenchyme\" : \"#cc7818\",\n",
    "                    \"Mixed mesenchymal mesoderm\" : \"#cc7818\",\n",
    "                    \"Haematoendothelial progenitors\" : \"#FBBE92\",\n",
    "                    \"Endothelium\" : \"#ff891c\",\n",
    "                    \"Blood progenitors 1\" : \"#f9decf\",\n",
    "                    \"Blood progenitors 2\" : \"#c9a997\",\n",
    "                    \"Erythroid1\" : \"#C72228\",\n",
    "                    \"Erythroid2\" : \"#f79083\",\n",
    "                    \"Erythroid3\" : \"#EF4E22\",\n",
    "                    \"Erythroid\" : \"#f79083\",\n",
    "                    \"Blood progenitors\" : \"#f9decf\",\n",
    "                    \"NMP\" : \"#8EC792\",\n",
    "                    \"Rostral neurectoderm\" : \"#65A83E\",\n",
    "                    \"Caudal neurectoderm\" : \"#354E23\",\n",
    "                    \"Neural crest\" : \"#C3C388\",\n",
    "                    \"Forebrain/Midbrain/Hindbrain\" : \"#647a4f\",\n",
    "                    \"Spinal cord\" : \"#CDE088\",\n",
    "                    \"Surface ectoderm\" : \"#f7f79e\",\n",
    "                    \"Visceral endoderm\" : \"#F6BFCB\",\n",
    "                    \"ExE endoderm\" : \"#7F6874\",\n",
    "                    \"ExE ectoderm\" : \"#989898\",\n",
    "                    \"Parietal endoderm\" : \"#1A1A1A\",\n",
    "                    \"Low quality\" : \"#e6e6e6\",\n",
    "                    \"Cranial mesoderm\" : \"#77441B\",\n",
    "                    \"Anterior somitic tissues\" : \"#F90026\",\n",
    "                    \"Sclerotome\" : \"#A10037\",\n",
    "                    \"Dermomyotome\" : \"#DA5921\",\n",
    "                    \"Posterior somitic tissues\" : \"#E1C239\",\n",
    "                    \"Presomitic mesoderm\" : \"#9DD84A\",\n",
    "                    \"None\" : \"#D3D3D3\"}"
   ]
  },
  {
   "cell_type": "markdown",
   "id": "28adc110-0f41-4a71-9838-dc7f0687809a",
   "metadata": {},
   "source": [
    "### 1.3 Run Notebook Setup"
   ]
  },
  {
   "cell_type": "code",
   "execution_count": 6,
   "id": "334b87ca-3387-4ba9-8567-84bc4754ff0c",
   "metadata": {},
   "outputs": [
    {
     "name": "stderr",
     "output_type": "stream",
     "text": [
      "/home/sbirk/miniconda3/envs/autotalker/lib/python3.9/site-packages/scanpy/_settings.py:447: DeprecationWarning: `set_matplotlib_formats` is deprecated since IPython 7.23, directly use `matplotlib_inline.backend_inline.set_matplotlib_formats()`\n",
      "  IPython.display.set_matplotlib_formats(*ipython_format)\n"
     ]
    }
   ],
   "source": [
    "sc.set_figure_params(figsize=(6, 6))"
   ]
  },
  {
   "cell_type": "code",
   "execution_count": 7,
   "id": "0ab6b302-1c0b-4937-8624-40629ada2e46",
   "metadata": {},
   "outputs": [],
   "source": [
    "# Get time of notebook execution for timestamping saved artifacts\n",
    "now = datetime.now()\n",
    "current_timestamp = now.strftime(\"%d%m%Y_%H%M%S\")"
   ]
  },
  {
   "cell_type": "markdown",
   "id": "85538952-006b-4b0b-a50c-fe7445ce22e2",
   "metadata": {},
   "source": [
    "### 1.4 Configure Paths and Directories"
   ]
  },
  {
   "cell_type": "code",
   "execution_count": 8,
   "id": "7ddcc49c-ba22-4155-acd5-05b5b810e091",
   "metadata": {},
   "outputs": [],
   "source": [
    "data_folder_path = \"../../datasets/srt_data/gold/\"\n",
    "figure_folder_path = f\"../../figures/{dataset}/method_benchmarking/comparison/{current_timestamp}\""
   ]
  },
  {
   "cell_type": "code",
   "execution_count": 9,
   "id": "bb93ae1a-e35b-45ce-a488-6d592774c902",
   "metadata": {},
   "outputs": [],
   "source": [
    "# Create required directories\n",
    "os.makedirs(figure_folder_path, exist_ok=True)"
   ]
  },
  {
   "cell_type": "markdown",
   "id": "0172369b-361a-42de-bd56-82fef8accfac",
   "metadata": {},
   "source": [
    "### 1.5 Define Functions"
   ]
  },
  {
   "cell_type": "code",
   "execution_count": 10,
   "id": "749b4036-ffb8-4ed5-81b1-a8e5ffcba8d9",
   "metadata": {},
   "outputs": [],
   "source": [
    "def compute_combined_benchmarking_metrics(model_adata,\n",
    "                                          model_name,\n",
    "                                          cell_type_key,\n",
    "                                          run_number_list=list(np.arange(1, 11)),\n",
    "                                          n_neighbors_list=[4, 4, 8, 8, 12, 12, 16, 16, 20, 20]):\n",
    "    benchmarking_dict_list = []\n",
    "    for run_number, n_neighbors in zip(run_number_list, n_neighbors_list):\n",
    "        \n",
    "        # Compute Autotalker metrics\n",
    "        benchmarking_dict = compute_benchmarking_metrics(adata=model_adata,\n",
    "                                                         latent_key=f\"{model_name}_latent_run{run_number}\",\n",
    "                                                         active_gp_names_key=f\"{model_name}_active_gp_names_run{run_number}\",\n",
    "                                                         cell_type_key=cell_type_key,\n",
    "                                                         spatial_key=spatial_key,\n",
    "                                                         spatial_knng_key=f\"spatial_{n_neighbors}nng\",\n",
    "                                                         latent_knng_key=f\"{model_name}_latent_{n_neighbors}nng_run{run_number}\")\n",
    "\n",
    "        # Compute scib metrics\n",
    "        sc.pp.neighbors(adata=model_adata,\n",
    "                        use_rep=f\"{model_name}_latent_run{run_number}\",\n",
    "                        n_neighbors=n_neighbors)\n",
    "        scib.me.cluster_optimal_resolution(adata=model_adata,\n",
    "                                           cluster_key=\"cluster\",\n",
    "                                           label_key=cell_type_key)\n",
    "        benchmarking_dict[\"ari\"] = scib.me.ari(model_adata,\n",
    "                                               cluster_key=\"cluster\",\n",
    "                                               label_key=cell_type_key)\n",
    "        benchmarking_dict[\"clisi\"] = scib.me.clisi_graph(adata=model_adata,\n",
    "                                                         label_key=cell_type_key,\n",
    "                                                         type_=\"embed\",\n",
    "                                                         use_rep=f\"{model_name}_latent_run{run_number}\")\n",
    "        benchmarking_dict[\"nmi\"] = scib.me.nmi(adata=model_adata,\n",
    "                                               cluster_key=\"cluster\",\n",
    "                                               label_key=cell_type_key)\n",
    "        benchmarking_dict[\"asw\"] = scib.me.silhouette(adata=model_adata,\n",
    "                                                      label_key=cell_type_key,\n",
    "                                                      embed=f\"{model_name}_latent_run{run_number}\")\n",
    "        benchmarking_dict[\"ilasw\"] = scib.me.isolated_labels_asw(adata=model_adata,\n",
    "                                                                 batch_key=\"sample\",\n",
    "                                                                 label_key=cell_type_key,\n",
    "                                                                 embed=f\"{model_name}_latent_run{run_number}\")\n",
    "        \n",
    "        benchmarking_dict[\"model_name\"] = model_name\n",
    "        benchmarking_dict[\"run\"] = run_number\n",
    "        benchmarking_dict_list.append(benchmarking_dict)\n",
    "    return benchmarking_dict_list"
   ]
  },
  {
   "cell_type": "markdown",
   "id": "5e1f3798-2b4a-49ed-892c-a85d167d8ff1",
   "metadata": {},
   "source": [
    "## 2. Method Benchmarking"
   ]
  },
  {
   "cell_type": "markdown",
   "id": "bed96ebf-922e-42c2-a8aa-778e59737bc0",
   "metadata": {},
   "source": [
    "- Run all notebooks in the ```method_benchmarking``` directory before continuing."
   ]
  },
  {
   "cell_type": "markdown",
   "id": "8884ac28-0cdf-4b37-9281-4a86dd194ef5",
   "metadata": {},
   "source": [
    "### 3.1 Latent Space Comparison"
   ]
  },
  {
   "cell_type": "markdown",
   "id": "a7165012-177c-466d-b414-ff83c2bf9d7b",
   "metadata": {},
   "source": [
    "#### 3.1.1 Define Function"
   ]
  },
  {
   "cell_type": "code",
   "execution_count": 11,
   "id": "eb0ba86f-197b-4de9-a060-76e1396f68fe",
   "metadata": {},
   "outputs": [],
   "source": [
    "def compute_latent_space_comparison(dataset,\n",
    "                                    cell_type_key,\n",
    "                                    n_neighbors=12,\n",
    "                                    run_number=5):\n",
    "    # Load data\n",
    "    adata_pca = sc.read_h5ad(data_folder_path + f\"{dataset}_pca.h5ad\")\n",
    "    adata_scvi = sc.read_h5ad(data_folder_path + f\"{dataset}_scvi.h5ad\")\n",
    "    adata_expimap = sc.read_h5ad(data_folder_path + f\"{dataset}_expimap.h5ad\")\n",
    "    adata_sagenet = sc.read_h5ad(data_folder_path + f\"{dataset}_sagenet.h5ad\")\n",
    "    adata_deeplinc = sc.read_h5ad(data_folder_path + f\"{dataset}_deeplinc.h5ad\")\n",
    "    adata_graphst = sc.read_h5ad(data_folder_path + f\"{dataset}_graphst.h5ad\")\n",
    "    adata_autotalker = sc.read_h5ad(data_folder_path + f\"{dataset}_autotalker.h5ad\")\n",
    "    \n",
    "    adata_sagenet.obsm[\"X_umap\"] = adata_sagenet.obsm[f\"sagenet_latent_run{run_number}\"] # latent representation of SageNet are already UMAP features\n",
    "    for adata, method in zip([adata_pca, adata_scvi, adata_expimap, adata_deeplinc, adata_graphst, adata_autotalker],\n",
    "                             [\"pca\", \"scvi\", \"expimap\", \"deeplinc\", \"graphst\", \"autotalker\"]):\n",
    "        sc.pp.neighbors(adata,\n",
    "                        use_rep=f\"{method}_latent_run{run_number}\",\n",
    "                        n_neighbors=n_neighbors)\n",
    "        sc.tl.umap(adata)\n",
    "        \n",
    "    fig, axs = plt.subplots(nrows=2, ncols=4, figsize=(20, 10))\n",
    "    plt.suptitle(\"Latent Space Comparison\", fontsize=25, x=0.575)\n",
    "    plt.subplots_adjust(hspace=0.25, wspace=0.25, top=0.9)\n",
    "    axs=axs.flatten()\n",
    "\n",
    "    sc.pl.spatial(adata=adata,\n",
    "                  color=[cell_type_key],\n",
    "                  palette=cell_type_colors,\n",
    "                  spot_size=0.03,\n",
    "                  ax=axs[0],\n",
    "                  show=False)\n",
    "    axs[0].set_title(\"Physical Space\", fontsize=17)\n",
    "    handles, labels = axs[0].get_legend_handles_labels()\n",
    "    lgd = fig.legend(handles, labels, loc=\"upper center\", bbox_to_anchor=(1.07, 0.845))\n",
    "    axs[0].get_legend().remove()\n",
    "\n",
    "    for i, (adata, title) in enumerate(zip([adata_autotalker, adata_deeplinc, adata_graphst, adata_sagenet, adata_pca, adata_scvi, adata_expimap],\n",
    "                                           [\"Autotalker\", \"DeepLinc\", \"GraphST\", \"SageNet\", \"Log Normalized Counts PCA\", \"scVI\", \"expiMap\"])):        \n",
    "        sc.pl.umap(adata,\n",
    "                   color=[cell_type_key],\n",
    "                   palette=cell_type_colors,\n",
    "                   ax=axs[i + 1],\n",
    "                   show=False,\n",
    "                   legend_loc=None)\n",
    "        axs[i + 1].set_title(title, fontsize=17)\n",
    "\n",
    "    fig.savefig(f\"{figure_folder_path}/latent_comparison.png\",\n",
    "                bbox_inches=\"tight\")\n",
    "    plt.show()"
   ]
  },
  {
   "cell_type": "markdown",
   "id": "eb854907-e0d3-4084-98aa-48eb2d5cdabe",
   "metadata": {},
   "source": [
    "#### 3.1.2 Run Function"
   ]
  },
  {
   "cell_type": "code",
   "execution_count": null,
   "id": "cbc7fcf2-86e5-4440-80a9-756456e55535",
   "metadata": {},
   "outputs": [],
   "source": [
    "compute_latent_space_comparison(dataset=\"seqfish_mouse_organogenesis_embryo2\",\n",
    "                                cell_type_key=\"celltype_mapped_refined\",\n",
    "                                n_neighbors=12,\n",
    "                                run_number=5)"
   ]
  },
  {
   "cell_type": "code",
   "execution_count": null,
   "id": "53fd7625-af6e-41e0-a9a5-040e80e8d0c2",
   "metadata": {},
   "outputs": [],
   "source": [
    "compute_latent_space_comparison(dataset=\"vizgen_merfish_mouse_liver\",\n",
    "                                cell_type_key=\"Cell_Type\",\n",
    "                                n_neighbors=12,\n",
    "                                run_number=5)"
   ]
  },
  {
   "cell_type": "code",
   "execution_count": null,
   "id": "e73e2fdd-00f4-498c-8d53-a8e2ca1baac4",
   "metadata": {},
   "outputs": [],
   "source": [
    "compute_latent_space_comparison(dataset=\"starmap_plus_mouse_cns\",\n",
    "                                cell_type_key=\"Main_molecular_cell_type\",\n",
    "                                n_neighbors=12,\n",
    "                                run_number=5)"
   ]
  },
  {
   "cell_type": "code",
   "execution_count": null,
   "id": "1bc27321-91c8-44b5-aa44-c04055a2e1d3",
   "metadata": {},
   "outputs": [],
   "source": [
    "compute_latent_space_comparison(dataset=\"nanostring_cosmx_human_nsclc\",\n",
    "                                cell_type_key=\"cell_type\",\n",
    "                                n_neighbors=12,\n",
    "                                run_number=5)"
   ]
  },
  {
   "cell_type": "markdown",
   "id": "781e4275-de08-4bf4-adbf-9519615d6ff4",
   "metadata": {},
   "source": [
    "### 3.2 Benchmarking Metrics"
   ]
  },
  {
   "cell_type": "markdown",
   "id": "85601b8d-cbbf-4374-8ecd-cdce99f72baa",
   "metadata": {},
   "source": [
    "#### 3.2.1 Define Functions"
   ]
  },
  {
   "cell_type": "code",
   "execution_count": null,
   "id": "2a735441-aac3-4a3a-b56c-7ee638a0ba69",
   "metadata": {},
   "outputs": [],
   "source": [
    "def compute_combined_benchmarking_metrics_for_all_models(dataset,\n",
    "                                                         cell_type_key,\n",
    "                                                         run_number_list=list(np.arange(1, 11)),\n",
    "                                                         n_neighbors_list=[4, 4, 8, 8, 12, 12, 16, 16, 20, 20]):\n",
    "    # Configure dataset artifact folder path\n",
    "    dataset_artifact_folder_path = f\"../../artifacts/{dataset}/method_benchmarking/comparison/{current_timestamp}\"\n",
    "    os.makedirs(dataset_artifact_folder_path, exist_ok=True)\n",
    "\n",
    "    # PCA\n",
    "    print(\"Computing metrics for PCA...\")\n",
    "    adata_pca = sc.read_h5ad(data_folder_path + f\"{dataset}_pca.h5ad\")\n",
    "    benchmarking_dict_list_pca = compute_combined_benchmarking_metrics(model_adata=adata_pca,\n",
    "                                                                       model_name=\"pca\",\n",
    "                                                                       run_number_list=run_number_list,\n",
    "                                                                       n_neighbors_list=n_neighbors_list,\n",
    "                                                                       cell_type_key=cell_type_key)   \n",
    "    \n",
    "    benchmarking_dict_list = benchmarking_dict_list_pca\n",
    "    with open(f\"{dataset_artifact_folder_path}/benchmarking_dict_list.pickle\", \"wb\") as f:\n",
    "        pickle.dump(benchmarking_dict_list, f)\n",
    "    del(adata_pca)\n",
    "    print(\"\")\n",
    "    \n",
    "    # scVI\n",
    "    print(\"Computing metrics for scVI...\")\n",
    "    adata_scvi = sc.read_h5ad(data_folder_path + f\"{dataset}_scvi.h5ad\")\n",
    "    benchmarking_dict_list_scvi = compute_combined_benchmarking_metrics(model_adata=adata_scvi,\n",
    "                                                                        model_name=\"scvi\",\n",
    "                                                                        run_number_list=run_number_list,\n",
    "                                                                        n_neighbors_list=n_neighbors_list,\n",
    "                                                                        cell_type_key=cell_type_key)  \n",
    "    benchmarking_dict_list += benchmarking_dict_list_scvi\n",
    "    with open(f\"{dataset_artifact_folder_path}/benchmarking_dict_list.pickle\", \"wb\") as f:\n",
    "        pickle.dump(benchmarking_dict_list, f)\n",
    "    del(adata_scvi)\n",
    "    print(\"\")\n",
    "    \n",
    "    # expiMap\n",
    "    print(\"Computing metrics for expiMap...\")\n",
    "    adata_expimap = sc.read_h5ad(data_folder_path + f\"{dataset}_expimap.h5ad\")\n",
    "    benchmarking_dict_list_expimap = compute_combined_benchmarking_metrics(model_adata=adata_expimap,\n",
    "                                                                           model_name=\"expimap\",\n",
    "                                                                           run_number_list=run_number_list,\n",
    "                                                                           n_neighbors_list=n_neighbors_list,\n",
    "                                                                           cell_type_key=cell_type_key)  \n",
    "    benchmarking_dict_list += benchmarking_dict_list_expimap\n",
    "    with open(f\"{dataset_artifact_folder_path}/benchmarking_dict_list.pickle\", \"wb\") as f:\n",
    "        pickle.dump(benchmarking_dict_list, f)\n",
    "    del(adata_expimap)\n",
    "    print(\"\")\n",
    "    \n",
    "    # SageNet\n",
    "    print(\"Computing metrics for SageNet...\")\n",
    "    adata_sagenet = sc.read_h5ad(data_folder_path + f\"{dataset}_sagenet.h5ad\")\n",
    "    benchmarking_dict_list_sagenet = compute_combined_benchmarking_metrics(model_adata=adata_sagenet,\n",
    "                                                                           model_name=\"sagenet\",\n",
    "                                                                           run_number_list=run_number_list,\n",
    "                                                                           n_neighbors_list=n_neighbors_list,\n",
    "                                                                           cell_type_key=cell_type_key) \n",
    "    benchmarking_dict_list += benchmarking_dict_list_sagenet\n",
    "    with open(f\"{dataset_artifact_folder_path}/benchmarking_dict_list.pickle\", \"wb\") as f:\n",
    "        pickle.dump(benchmarking_dict_list, f)\n",
    "    del(adata_sagenet)\n",
    "    print(\"\")\n",
    "    \n",
    "    # DeepLinc\n",
    "    print(\"Computing metrics for DeepLinc...\")\n",
    "    adata_deeplinc = sc.read_h5ad(data_folder_path + f\"{dataset}_deeplinc.h5ad\")\n",
    "    benchmarking_dict_list_deeplinc = compute_combined_benchmarking_metrics(model_adata=adata_deeplinc,\n",
    "                                                                            model_name=\"deeplinc\",\n",
    "                                                                            run_number_list=run_number_list,\n",
    "                                                                            n_neighbors_list=n_neighbors_list,\n",
    "                                                                            cell_type_key=cell_type_key)\n",
    "    benchmarking_dict_list += benchmarking_dict_list_deeplinc\n",
    "    with open(f\"{dataset_artifact_folder_path}/benchmarking_dict_list.pickle\", \"wb\") as f:\n",
    "        pickle.dump(benchmarking_dict_list, f)\n",
    "    del(adata_deeplinc)\n",
    "    print(\"\")\n",
    "    \n",
    "    # GraphST\n",
    "    print(\"Computing metrics for GraphST...\")\n",
    "    adata_graphst = sc.read_h5ad(data_folder_path + f\"{dataset}_graphst.h5ad\")\n",
    "    benchmarking_dict_list_graphst = compute_combined_benchmarking_metrics(model_adata=adata_graphst,\n",
    "                                                                           model_name=\"graphst\",\n",
    "                                                                           run_number_list=run_number_list,\n",
    "                                                                           n_neighbors_list=n_neighbors_list,\n",
    "                                                                           cell_type_key=cell_type_key)\n",
    "    benchmarking_dict_list += benchmarking_dict_list_graphst\n",
    "    with open(f\"{dataset_artifact_folder_path}/benchmarking_dict_list.pickle\", \"wb\") as f:\n",
    "        pickle.dump(benchmarking_dict_list, f)\n",
    "    del(adata_graphst)\n",
    "    print(\"\")\n",
    "    \n",
    "    # Autotalker\n",
    "    print(\"Computing metrics for Autotalker...\")\n",
    "    adata_autotalker = sc.read_h5ad(data_folder_path + f\"{dataset}_autotalker.h5ad\")\n",
    "    benchmarking_dict_list_autotalker = compute_combined_benchmarking_metrics(model_adata=adata_autotalker,\n",
    "                                                                              model_name=\"autotalker\",\n",
    "                                                                              run_number_list=run_number_list,\n",
    "                                                                              n_neighbors_list=n_neighbors_list,\n",
    "                                                                              cell_type_key=cell_type_key)\n",
    "    benchmarking_dict_list += benchmarking_dict_list_autotalker\n",
    "    with open(f\"{dataset_artifact_folder_path}/benchmarking_dict_list.pickle\", \"wb\") as f:\n",
    "        pickle.dump(benchmarking_dict_list, f)\n",
    "    del(adata_autotalker)\n",
    "    print(\"\")"
   ]
  },
  {
   "cell_type": "code",
   "execution_count": null,
   "id": "5d99a58a-cb35-47d2-9d0c-20c853042265",
   "metadata": {},
   "outputs": [],
   "source": [
    "def create_summary_plot(dataset)\n",
    "    # Read complete benchmarking data from disk\n",
    "    with open(f\"{artifact_folder_path}/benchmarking_dict_list.pickle\", \"rb\") as f:\n",
    "        benchmarking_dict_list = pickle.load(f)\n",
    "        \n",
    "    df = pd.DataFrame(benchmarking_dict_list)"
   ]
  },
  {
   "cell_type": "markdown",
   "id": "1cd5a246-b9b1-4d20-9f39-0875d441b8bb",
   "metadata": {},
   "source": [
    "#### 3.2.2 Run Functions"
   ]
  },
  {
   "cell_type": "code",
   "execution_count": null,
   "id": "6fbe798c-0b98-4b47-a91c-d9756a688dfd",
   "metadata": {},
   "outputs": [],
   "source": [
    "compute_combined_benchmarking_metrics_for_all_models(dataset=\"seqfish_mouse_organogenesis_embryo2\",\n",
    "                                                     cell_type_key=\"celltype_mapped_refined\")"
   ]
  },
  {
   "cell_type": "code",
   "execution_count": null,
   "id": "2910da85-38d5-4855-8151-70094c208c90",
   "metadata": {},
   "outputs": [],
   "source": [
    "compute_combined_benchmarking_metrics_for_all_models(dataset=\"vizgen_merfish_mouse_liver\",\n",
    "                                                     cell_type_key=\"Cell_Type\",)"
   ]
  },
  {
   "cell_type": "code",
   "execution_count": null,
   "id": "b3d1f940-2b9f-4bc8-810e-1bdab00b9329",
   "metadata": {},
   "outputs": [],
   "source": [
    "compute_combined_benchmarking_metrics_for_all_models(dataset=\"starmap_plus_mouse_cns\",\n",
    "                                                     cell_type_key=\"Main_molecular_cell_type\")"
   ]
  },
  {
   "cell_type": "code",
   "execution_count": null,
   "id": "89dd6a14-5a1c-423b-8f2f-3cc7524ba51c",
   "metadata": {},
   "outputs": [],
   "source": [
    "compute_combined_benchmarking_metrics_for_all_models(dataset=\"nanostring_cosmx_human_nsclc\",\n",
    "                                                     cell_type_key=\"cell_type\")"
   ]
  },
  {
   "cell_type": "markdown",
   "id": "a3d224f8-b044-4133-8242-e55c7bec4e9f",
   "metadata": {},
   "source": [
    "#### 3.2.8 Summary"
   ]
  },
  {
   "cell_type": "code",
   "execution_count": null,
   "id": "ed78256b-9687-4876-a7fe-fdeb4bffae48",
   "metadata": {},
   "outputs": [],
   "source": [
    "dataset_artifact_folder_path = f\"../../artifacts/{dataset}/method_benchmarking/comparison/23022023_081459\""
   ]
  },
  {
   "cell_type": "code",
   "execution_count": null,
   "id": "a06c1040-6026-425b-9f93-086de58b56d6",
   "metadata": {},
   "outputs": [],
   "source": [
    "# Read complete benchmarking data from disk\n",
    "with open(f\"{dataset_artifact_folder_path}/benchmarking_dict_list.pickle\", \"rb\") as f:\n",
    "    benchmarking_dict_list = pickle.load(f)"
   ]
  },
  {
   "cell_type": "code",
   "execution_count": null,
   "id": "869cd40e-6788-4d5d-8213-ed68cccd667a",
   "metadata": {},
   "outputs": [],
   "source": [
    "df = pd.DataFrame(benchmarking_dict_list)\n",
    "df.head()"
   ]
  },
  {
   "cell_type": "code",
   "execution_count": null,
   "id": "cb4daed2-0f50-4772-895a-1ac9e25bfbd3",
   "metadata": {},
   "outputs": [],
   "source": [
    "# Compute metric means over all runs\n",
    "mean_df = df.groupby(\"model_name\").mean()\n",
    "\n",
    "columns = [\"gcd\",\n",
    "           \"mlnmi\",\n",
    "           \"cad\",\n",
    "           \"arclisi\",\n",
    "           \"rclisi\",\n",
    "           \"germse\",\n",
    "           \"cca\",\n",
    "           \"ari\",\n",
    "           \"clisi\",\n",
    "           \"nmi\",\n",
    "           \"asw\",\n",
    "           \"ilasw\"]\n",
    "\n",
    "rows = [\"autotalker\",\n",
    "        \"deeplinc\",\n",
    "        \"graphst\",\n",
    "        \"sagenet\",\n",
    "        \"pca\",\n",
    "        \"scvi\",\n",
    "        \"expimap\"]\n",
    "\n",
    "mean_df = mean_df[columns]\n",
    "mean_df = mean_df.reindex(rows)\n",
    "\n",
    "mean_df"
   ]
  },
  {
   "cell_type": "markdown",
   "id": "5d21d727-72dd-4ab1-81bb-9b60191b746a",
   "metadata": {},
   "source": [
    "##### 3.2.8.1 Metrics Plot"
   ]
  },
  {
   "cell_type": "code",
   "execution_count": null,
   "id": "43f4fd45-3d4c-40aa-b5ec-2f24d0031443",
   "metadata": {},
   "outputs": [],
   "source": [
    "fig, axs = plt.subplots(nrows=2, ncols=int(np.ceil(len(columns)/2)), figsize=(3*len(columns), 8))\n",
    "axs=axs.flatten()\n",
    "\n",
    "for i, col in enumerate(columns):\n",
    "    sns.barplot(data=mean_df, x=mean_df.index, y=col, ax=axs[i])\n",
    "    axs[i].set_xlabel('')\n",
    "    xlabels = axs[i].get_xticks()\n",
    "    axs[i].set_xticklabels(mean_df.index, rotation=45)\n",
    "plt.suptitle(\"Method Benchmarking Metrics\", fontsize=25)\n",
    "plt.subplots_adjust(hspace=0.5, wspace=0.5, top=0.9)\n",
    "\n",
    "if len(columns) % 2 != 0:\n",
    "    fig.delaxes(axs[-1])\n",
    "\n",
    "fig.savefig(f\"{figure_folder_path}/metrics_{current_timestamp}.png\",\n",
    "            bbox_inches=\"tight\")    \n",
    "plt.show()"
   ]
  },
  {
   "cell_type": "code",
   "execution_count": null,
   "id": "5a6ebb2e-38c0-461f-a0f6-08f741d1c162",
   "metadata": {},
   "outputs": [],
   "source": []
  },
  {
   "cell_type": "code",
   "execution_count": null,
   "id": "7c9df3c7-5ad1-4614-83b6-760f99ef095d",
   "metadata": {},
   "outputs": [],
   "source": []
  },
  {
   "cell_type": "code",
   "execution_count": 11,
   "id": "e10cfbb7-e893-45a1-98cf-984d6533e5dd",
   "metadata": {},
   "outputs": [],
   "source": [
    "adata_autotalker = sc.read_h5ad(data_folder_path + f\"{dataset}_autotalker.h5ad\")\n",
    "adata_expimap = sc.read_h5ad(data_folder_path + f\"{dataset}_autotalker.h5ad\")"
   ]
  },
  {
   "cell_type": "code",
   "execution_count": 27,
   "id": "09cce477-4b18-4d75-aa5a-f0324ea71994",
   "metadata": {},
   "outputs": [],
   "source": [
    "from autotalker.benchmarking import compute_clisis, compute_cas, compute_gcs, compute_mlami, compute_germse, compute_cca"
   ]
  },
  {
   "cell_type": "code",
   "execution_count": 33,
   "id": "3d113bd8-6440-45d9-ad28-842f4b203c03",
   "metadata": {},
   "outputs": [
    {
     "name": "stdout",
     "output_type": "stream",
     "text": [
      "0.9999999999999978\n",
      "0.9999999999999982\n"
     ]
    }
   ],
   "source": [
    "clisis = compute_clisis(\n",
    "        adata=adata_pca,\n",
    "        cell_type_key=\"celltype_mapped_refined\",\n",
    "        spatial_knng_key=\"autotalker_spatial_knng\",\n",
    "        latent_knng_key=\"autotalker_latent_knng\",\n",
    "        spatial_key=\"spatial\",\n",
    "        latent_key=\"pca_latent_run1\",    \n",
    "        lisi_graph_n_neighbors=90,\n",
    "        seed=0)"
   ]
  },
  {
   "cell_type": "code",
   "execution_count": 16,
   "id": "a0cc6903-632b-464a-974f-a9b6ef433b15",
   "metadata": {},
   "outputs": [
    {
     "data": {
      "text/plain": [
       "0.9902365038081462"
      ]
     },
     "execution_count": 16,
     "metadata": {},
     "output_type": "execute_result"
    }
   ],
   "source": [
    "gcs"
   ]
  },
  {
   "cell_type": "code",
   "execution_count": 13,
   "id": "b69e9f30-5274-4650-afe9-f458c1c62a7b",
   "metadata": {},
   "outputs": [],
   "source": [
    "gcs = compute_gcs(\n",
    "    adata=adata_autotalker,\n",
    "    spatial_knng_key=\"autotalker_spatial_knng\",\n",
    "    latent_knng_key=\"autotalker_latent_knng\",\n",
    "    spatial_key=\"spatial\",\n",
    "    latent_key=\"autotalker_latent_run1\")"
   ]
  },
  {
   "cell_type": "code",
   "execution_count": 17,
   "id": "bc2393c3-26cf-42b6-81be-687e2751f0bc",
   "metadata": {},
   "outputs": [],
   "source": [
    "mlami = compute_mlami(\n",
    "    adata=adata_autotalker,\n",
    "    spatial_knng_key=\"autotalker_spatial_knng\",\n",
    "    latent_knng_key=\"autotalker_latent_knng\",\n",
    "    spatial_key=\"spatial\",\n",
    "    latent_key=\"autotalker_latent_run1\")"
   ]
  },
  {
   "cell_type": "code",
   "execution_count": 19,
   "id": "db46983c-0b62-4f3c-9876-88e7bb5d0356",
   "metadata": {},
   "outputs": [
    {
     "name": "stderr",
     "output_type": "stream",
     "text": [
      "/home/sbirk/miniconda3/envs/autotalker/lib/python3.9/site-packages/squidpy/gr/_nhood.py:182: RuntimeWarning: invalid value encountered in divide\n",
      "  zscore = (count - perms.mean(axis=0)) / perms.std(axis=0)\n"
     ]
    }
   ],
   "source": [
    "cas = compute_cas(\n",
    "    adata=adata_autotalker,\n",
    "    cell_type_key=\"celltype_mapped_refined\",\n",
    "    spatial_knng_key=\"autotalker_spatial_knng\",\n",
    "    latent_knng_key=\"autotalker_latent_knng\",\n",
    "    spatial_key=\"spatial\",\n",
    "    latent_key=\"autotalker_latent_run1\")"
   ]
  },
  {
   "cell_type": "code",
   "execution_count": 24,
   "id": "477de35c-ee3a-416d-9ff5-c24a70886089",
   "metadata": {},
   "outputs": [],
   "source": [
    "clisis = compute_clisis(\n",
    "    adata=adata_autotalker,\n",
    "    cell_type_key=\"celltype_mapped_refined\",\n",
    "    spatial_knng_key=\"autotalker_spatial_knng\",\n",
    "    latent_knng_key=\"autotalker_latent_knng\",\n",
    "    spatial_key=\"spatial\",\n",
    "    latent_key=\"autotalker_latent_run1\")"
   ]
  },
  {
   "cell_type": "code",
   "execution_count": 36,
   "id": "e5c9b45e-24cd-4fb1-95cc-efe5618f8b4e",
   "metadata": {},
   "outputs": [],
   "source": [
    "germse = compute_germse(\n",
    "    adata=adata_autotalker,\n",
    "    active_gp_names_key=\"autotalker_active_gp_names_run1\",\n",
    "    latent_key=\"autotalker_latent_run1\",\n",
    "    regressor=\"mlp\",\n",
    "    selected_gps=None,\n",
    "    selected_genes=None)"
   ]
  },
  {
   "cell_type": "code",
   "execution_count": 37,
   "id": "312f2c09-1003-424a-a3f9-e57906d9fc92",
   "metadata": {},
   "outputs": [
    {
     "data": {
      "text/plain": [
       "0.2357966621726956"
      ]
     },
     "execution_count": 37,
     "metadata": {},
     "output_type": "execute_result"
    }
   ],
   "source": [
    "germse"
   ]
  },
  {
   "cell_type": "code",
   "execution_count": 40,
   "id": "a5a11765-7d29-4bdf-97a5-52ef4e654e10",
   "metadata": {},
   "outputs": [
    {
     "data": {
      "text/plain": [
       "(14185, 197)"
      ]
     },
     "execution_count": 40,
     "metadata": {},
     "output_type": "execute_result"
    }
   ],
   "source": [
    "adata_autotalker.obsm[\"autotalker_latent_run1\"].shape"
   ]
  },
  {
   "cell_type": "code",
   "execution_count": 41,
   "id": "aa5ce18c-c8e9-4001-bd9b-5d6c149bc313",
   "metadata": {},
   "outputs": [
    {
     "data": {
      "text/plain": [
       "(14185, 200)"
      ]
     },
     "execution_count": 41,
     "metadata": {},
     "output_type": "execute_result"
    }
   ],
   "source": [
    "adata_autotalker.obsm[\"autotalker_latent_run2\"].shape"
   ]
  },
  {
   "cell_type": "code",
   "execution_count": null,
   "id": "b1a9a187-7671-4b2f-803f-ae522c697d1e",
   "metadata": {},
   "outputs": [],
   "source": []
  },
  {
   "cell_type": "code",
   "execution_count": 14,
   "id": "f11fcab3-5d64-4529-bfad-1540dac3a3aa",
   "metadata": {},
   "outputs": [
    {
     "data": {
      "text/plain": [
       "0.9902365038081462"
      ]
     },
     "execution_count": 14,
     "metadata": {},
     "output_type": "execute_result"
    }
   ],
   "source": [
    "gcs"
   ]
  },
  {
   "cell_type": "code",
   "execution_count": null,
   "id": "3dd913b3-6001-4a7f-b8bb-3eecd8dd5c14",
   "metadata": {},
   "outputs": [],
   "source": [
    "gcs = compute_gcs(\n",
    "    adata=adata_autotalker,\n",
    "    cell_type_key=\"celltype_mapped_refined\",\n",
    "    spatial_knng_key=\"autotalker_spatial_knng\",\n",
    "    latent_knng_key=\"autotalker_latent_knng\")"
   ]
  },
  {
   "cell_type": "code",
   "execution_count": null,
   "id": "536ac2ca-7647-42ce-b819-5e1a94d26bd3",
   "metadata": {},
   "outputs": [],
   "source": []
  },
  {
   "cell_type": "code",
   "execution_count": null,
   "id": "304cdc6f-51bd-486c-aa18-7933261aa528",
   "metadata": {},
   "outputs": [],
   "source": []
  },
  {
   "cell_type": "code",
   "execution_count": null,
   "id": "fd15434a-d89b-4b8b-9e6b-46f14220696d",
   "metadata": {},
   "outputs": [],
   "source": []
  },
  {
   "cell_type": "code",
   "execution_count": null,
   "id": "9d9e223b-7223-4ba7-85ff-1ea61fc02f88",
   "metadata": {},
   "outputs": [],
   "source": []
  },
  {
   "cell_type": "code",
   "execution_count": null,
   "id": "ee7fc880-fff0-46e0-adc1-e05f472e2170",
   "metadata": {},
   "outputs": [],
   "source": [
    "clisis = compute_clisis(\n",
    "        adata=adata_pca,\n",
    "        cell_type_key=\"celltype_mapped_refined\",\n",
    "        spatial_knng_key=\"autotalker_spatial_knng\",\n",
    "        latent_knng_key=\"autotalker_latent_knng\",\n",
    "        spatial_key=\"spatial\",\n",
    "        latent_key=\"pca_latent_run1\",    \n",
    "        lisi_graph_n_neighbors=90,\n",
    "        seed=0)"
   ]
  },
  {
   "cell_type": "code",
   "execution_count": 50,
   "id": "deaaac75-eba2-4082-b951-5a1ef12b99a5",
   "metadata": {},
   "outputs": [],
   "source": [
    "gcs = compute_gcs(\n",
    "        adata=adata_pca,\n",
    "        spatial_knng_key=\"autotalker_spatial_knng\",\n",
    "        latent_knng_key=\"autotalker_latent_knng\",\n",
    "        spatial_key=\"spatial\",\n",
    "        latent_key=\"pca_latent_run1\")"
   ]
  },
  {
   "cell_type": "code",
   "execution_count": 51,
   "id": "62444c21-d76f-48f8-9926-9eb22d05a35a",
   "metadata": {},
   "outputs": [
    {
     "data": {
      "text/plain": [
       "0.9786923537256014"
      ]
     },
     "execution_count": 51,
     "metadata": {},
     "output_type": "execute_result"
    }
   ],
   "source": [
    "gcs"
   ]
  },
  {
   "cell_type": "code",
   "execution_count": 54,
   "id": "9883a0ad-01cd-4f78-b21b-d398cec9d44b",
   "metadata": {},
   "outputs": [
    {
     "data": {
      "text/plain": [
       "-2.321928094887362"
      ]
     },
     "execution_count": 54,
     "metadata": {},
     "output_type": "execute_result"
    }
   ],
   "source": [
    "np.log2(0.2)"
   ]
  },
  {
   "cell_type": "code",
   "execution_count": null,
   "id": "c699936d-3961-4be3-b9b4-caae93c64e3a",
   "metadata": {},
   "outputs": [],
   "source": [
    "cas = compute_cas(\n",
    "        adata=adata_pca,\n",
    "        cell_type_key=\"celltype_mapped_refined\",\n",
    "        spatial_knng_key=\"autotalker_spatial_knng\",\n",
    "        latent_knng_key=\"autotalker_latent_knng\",\n",
    "        spatial_key=\"spatial\",\n",
    "        latent_key=\"pca_latent_run1\")"
   ]
  },
  {
   "cell_type": "code",
   "execution_count": 55,
   "id": "e9d2dc23-ee10-4188-95f5-ceacf44f2064",
   "metadata": {},
   "outputs": [
    {
     "data": {
      "text/plain": [
       "AnnData object with n_obs × n_vars = 14185 × 351\n",
       "    obs: 'Area', 'celltype_mapped_refined', 'sample', 'batch'\n",
       "    uns: 'X_name', 'autotalker_active_gp_names_run1', 'autotalker_active_gp_names_run10', 'autotalker_active_gp_names_run2', 'autotalker_active_gp_names_run3', 'autotalker_active_gp_names_run4', 'autotalker_active_gp_names_run5', 'autotalker_active_gp_names_run6', 'autotalker_active_gp_names_run7', 'autotalker_active_gp_names_run8', 'autotalker_active_gp_names_run9', 'autotalker_model_training_duration_run1', 'autotalker_model_training_duration_run10', 'autotalker_model_training_duration_run2', 'autotalker_model_training_duration_run3', 'autotalker_model_training_duration_run4', 'autotalker_model_training_duration_run5', 'autotalker_model_training_duration_run6', 'autotalker_model_training_duration_run7', 'autotalker_model_training_duration_run8', 'autotalker_model_training_duration_run9', 'celltype_mapped_refined_colors', 'autotalker_spatial_knng', 'autotalker_latent_knng', 'celltype_mapped_refined_nhood_enrichment', 'celltype_mapped_refined_spatial_nhood_enrichment', 'celltype_mapped_refined_latent_nhood_enrichment'\n",
       "    obsm: 'autotalker_latent_run1', 'autotalker_latent_run10', 'autotalker_latent_run2', 'autotalker_latent_run3', 'autotalker_latent_run4', 'autotalker_latent_run5', 'autotalker_latent_run6', 'autotalker_latent_run7', 'autotalker_latent_run8', 'autotalker_latent_run9', 'spatial'\n",
       "    layers: 'counts'\n",
       "    obsp: 'autotalker_spatial_knng_distances', 'autotalker_spatial_knng_connectivities', 'autotalker_latent_knng_distances', 'autotalker_latent_knng_connectivities'"
      ]
     },
     "execution_count": 55,
     "metadata": {},
     "output_type": "execute_result"
    }
   ],
   "source": [
    "adata_autotalker"
   ]
  },
  {
   "cell_type": "code",
   "execution_count": null,
   "id": "f7a3ab05-629b-49ac-a125-94a4f20f08f2",
   "metadata": {},
   "outputs": [
    {
     "name": "stderr",
     "output_type": "stream",
     "text": [
      "/home/sbirk/miniconda3/envs/autotalker/lib/python3.9/site-packages/squidpy/gr/_nhood.py:182: RuntimeWarning: invalid value encountered in divide\n",
      "  zscore = (count - perms.mean(axis=0)) / perms.std(axis=0)\n"
     ]
    }
   ],
   "source": [
    "metrics = compute_benchmarking_metrics(\n",
    "        adata=adata_autotalker,\n",
    "        active_gp_names_key=\"autotalker_active_gp_names_run1\",\n",
    "        cell_type_key=\"celltype_mapped_refined\",\n",
    "        spatial_knng_key=\"autotalker_spatial_knng\",\n",
    "        latent_knng_key=\"autotalker_latent_knng\")"
   ]
  },
  {
   "cell_type": "code",
   "execution_count": 41,
   "id": "ffb237ed-1002-41b0-98f7-3619ba9372c3",
   "metadata": {},
   "outputs": [
    {
     "data": {
      "text/plain": [
       "numpy.float64"
      ]
     },
     "execution_count": 41,
     "metadata": {},
     "output_type": "execute_result"
    }
   ],
   "source": [
    "type(clisis)"
   ]
  },
  {
   "cell_type": "code",
   "execution_count": 40,
   "id": "43068b82-0f9f-4cdf-a9b7-2cc89a9f0da8",
   "metadata": {},
   "outputs": [
    {
     "data": {
      "text/plain": [
       "0.7673071802588362"
      ]
     },
     "execution_count": 40,
     "metadata": {},
     "output_type": "execute_result"
    }
   ],
   "source": [
    "np.power(clisis, 3)"
   ]
  },
  {
   "cell_type": "code",
   "execution_count": 37,
   "id": "f97cd162-f620-4a93-af89-73eb073882a8",
   "metadata": {},
   "outputs": [
    {
     "data": {
      "text/plain": [
       "0.7673071802588362"
      ]
     },
     "execution_count": 37,
     "metadata": {},
     "output_type": "execute_result"
    }
   ],
   "source": [
    "clisis**3"
   ]
  },
  {
   "cell_type": "code",
   "execution_count": 24,
   "id": "3daffe67-ddcb-4b2c-b142-c81c5c73ee7b",
   "metadata": {},
   "outputs": [],
   "source": [
    "adata_pca = sc.read_h5ad(data_folder_path + f\"{dataset}_pca.h5ad\")"
   ]
  },
  {
   "cell_type": "code",
   "execution_count": null,
   "id": "2c3b0a09-a684-41a6-ae30-87e2b0fa6375",
   "metadata": {},
   "outputs": [],
   "source": [
    "adata_pca"
   ]
  },
  {
   "cell_type": "code",
   "execution_count": null,
   "id": "31b738b1-c94a-4ad8-9b92-8fb75170d1c9",
   "metadata": {},
   "outputs": [],
   "source": [
    "        sc.pp.neighbors(adata=adata_pca,\n",
    "                        use_rep=\"pca_latent_run1\",\n",
    "                        n_neighbors=4,\n",
    "                        random_state=0)"
   ]
  },
  {
   "cell_type": "code",
   "execution_count": null,
   "id": "10ce7baf-b2a5-4e21-af64-d9a91c0c6b09",
   "metadata": {},
   "outputs": [],
   "source": [
    "row = np.array([0, 0, 0, 0, 1, 1, 1, 1, 2, 2, 2, 2, 3, 3, 3, 3])\n",
    "col = np.array([0, 1, 2, 3, 0, 1, 2, 3, 0, 1, 2, 3, 0, 1, 2, 3])\n",
    "data = np.array([1, 1, 1, 1, 1, 1, 1, 1, 0, 0, 0, 0, 0, 0, 0, 0])\n",
    "con = sp.csr_matrix((data, (row, col)), shape=(4, 4))"
   ]
  },
  {
   "cell_type": "code",
   "execution_count": null,
   "id": "fccd6b07-bf42-4631-aef4-fcc7ee461ae1",
   "metadata": {},
   "outputs": [],
   "source": [
    "row = np.array([0, 0, 0, 0, 1, 1, 1, 1, 2, 2, 2, 2, 3, 3, 3, 3])\n",
    "col = np.array([0, 1, 2, 3, 0, 1, 2, 3, 0, 1, 2, 3, 0, 1, 2, 3])\n",
    "data = np.array([0, 0, 0, 0, 0, 0, 0, 0, 1, 1, 1, 1, 1, 1, 1, 1])\n",
    "con2 = sp.csr_matrix((data, (row, col)), shape=(4, 4))"
   ]
  },
  {
   "cell_type": "code",
   "execution_count": null,
   "id": "59bdabe6-0e79-4a22-82e9-343ec30dc795",
   "metadata": {},
   "outputs": [],
   "source": [
    "con.toarray()"
   ]
  },
  {
   "cell_type": "code",
   "execution_count": null,
   "id": "25916479-0bbd-43f8-8d8d-b66a679c4647",
   "metadata": {},
   "outputs": [],
   "source": [
    "con2.toarray()"
   ]
  },
  {
   "cell_type": "code",
   "execution_count": null,
   "id": "c536207f-44e8-4b9b-8464-ee046fb58a83",
   "metadata": {},
   "outputs": [],
   "source": [
    "connectivities_diff = con2 - con"
   ]
  },
  {
   "cell_type": "code",
   "execution_count": null,
   "id": "f9c688c8-7d35-4c5e-8778-5ba26108b344",
   "metadata": {},
   "outputs": [],
   "source": [
    "import scipy.sparse as sp"
   ]
  },
  {
   "cell_type": "code",
   "execution_count": null,
   "id": "bf9f7a6d-0003-4de7-9f54-66b74b7d4a6d",
   "metadata": {},
   "outputs": [],
   "source": []
  },
  {
   "cell_type": "code",
   "execution_count": null,
   "id": "53ced3a5-5828-4248-970e-15f99f23b564",
   "metadata": {},
   "outputs": [],
   "source": [
    "    gcd = sp.linalg.norm(connectivities_diff,\n",
    "                         ord=\"fro\") / connectivities_diff.shape[0]"
   ]
  },
  {
   "cell_type": "code",
   "execution_count": null,
   "id": "5dc44219-4e49-4711-9519-ae338001eb2c",
   "metadata": {},
   "outputs": [],
   "source": [
    "gcd"
   ]
  },
  {
   "cell_type": "code",
   "execution_count": null,
   "id": "c6f19a1e-7c69-4e18-8f01-7afe289a7e42",
   "metadata": {},
   "outputs": [],
   "source": [
    "np.log2(2/2)"
   ]
  },
  {
   "cell_type": "code",
   "execution_count": null,
   "id": "a9a93ada-040a-4afa-b2f5-883b952547e1",
   "metadata": {},
   "outputs": [],
   "source": [
    "np.log2(12/1)"
   ]
  },
  {
   "cell_type": "code",
   "execution_count": null,
   "id": "dca726a4-05db-4aff-a7a0-cb666d3e5677",
   "metadata": {},
   "outputs": [],
   "source": []
  },
  {
   "cell_type": "markdown",
   "id": "b89418b7-7d74-4dfb-be72-1f1c0aef93f1",
   "metadata": {},
   "source": [
    "##### 3.2.8.1 Metrics Ranking Plot"
   ]
  },
  {
   "cell_type": "code",
   "execution_count": null,
   "id": "895e0bff-e8b0-4bc2-afa1-50b38cd19f2d",
   "metadata": {},
   "outputs": [],
   "source": [
    "mean_df_min_best = mean_df[[\"gcd\", \"cad\", \"arclisi\", \"germse\"]] # lower values are better\n",
    "mean_df_max_best = mean_df[[\"mlnmi\", \"cca\", \"ari\", \"clisi\", \"nmi\", \"asw\", \"ilasw\", ]] # higher values are better\n",
    "rank_df_min = mean_df_min_best.rank(method=\"max\", ascending=True)\n",
    "rank_df_max = mean_df_max_best.rank(method=\"max\", ascending=False)\n",
    "rank_df = pd.concat([rank_df_min, rank_df_max], axis=1)\n",
    "rank_df = rank_df[columns]"
   ]
  },
  {
   "cell_type": "code",
   "execution_count": null,
   "id": "1cfb4629-bd72-4918-bcf0-5176937a28b0",
   "metadata": {},
   "outputs": [],
   "source": [
    "heatmap = sns.heatmap(rank_df, annot=True, cmap=\"YlGnBu\")\n",
    "fig = heatmap.get_figure()\n",
    "plt.title(\"Method Benchmarking Metrics Ranking\", fontsize=20, pad=25)\n",
    "plt.xticks(rotation=45)\n",
    "fig.savefig(f\"{figure_folder_path}/metrics_ranking_{current_timestamp}.png\",\n",
    "            bbox_inches=\"tight\")\n",
    "plt.show()"
   ]
  },
  {
   "cell_type": "code",
   "execution_count": null,
   "id": "c40bd054-dc77-45c5-9c12-7ea78f6829a3",
   "metadata": {},
   "outputs": [],
   "source": []
  }
 ],
 "metadata": {
  "kernelspec": {
   "display_name": "Python 3 (ipykernel)",
   "language": "python",
   "name": "python3"
  },
  "language_info": {
   "codemirror_mode": {
    "name": "ipython",
    "version": 3
   },
   "file_extension": ".py",
   "mimetype": "text/x-python",
   "name": "python",
   "nbconvert_exporter": "python",
   "pygments_lexer": "ipython3",
   "version": "3.9.15"
  }
 },
 "nbformat": 4,
 "nbformat_minor": 5
}
