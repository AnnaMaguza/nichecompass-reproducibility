{
 "cells": [
  {
   "cell_type": "markdown",
   "id": "364a9ebc-3e3c-4645-9049-a34bd084c8a8",
   "metadata": {},
   "source": [
    "# Method Benchmarking"
   ]
  },
  {
   "cell_type": "markdown",
   "id": "b0c55227-147e-417f-b0dd-bb0b7f322930",
   "metadata": {},
   "source": [
    "- **Creator**: Sebastian Birk (<sebastian.birk@helmholtz-munich.de>).\n",
    "- **Affiliation:** Helmholtz Munich, Institute of Computational Biology (ICB), Talavera-López Lab\n",
    "- **Date of Creation:** 06.01.2023\n",
    "- **Date of Last Modification:** 24.02.2023"
   ]
  },
  {
   "cell_type": "markdown",
   "id": "7529cde5-be12-403b-a94c-07561774b86c",
   "metadata": {},
   "source": [
    "## 1. Setup"
   ]
  },
  {
   "cell_type": "markdown",
   "id": "faad87bd-fef5-4429-a175-d714c491ae76",
   "metadata": {},
   "source": [
    "### 1.1 Import Libraries"
   ]
  },
  {
   "cell_type": "code",
   "execution_count": 1,
   "id": "d9533f18-f082-4dcc-8e93-117b9759133e",
   "metadata": {},
   "outputs": [],
   "source": [
    "%load_ext autoreload\n",
    "%autoreload 2"
   ]
  },
  {
   "cell_type": "code",
   "execution_count": 2,
   "id": "f1e0bf12-90ee-403e-8970-0d1ac2f47540",
   "metadata": {},
   "outputs": [],
   "source": [
    "import sys\n",
    "sys.path.append(\"../../../autotalker\")"
   ]
  },
  {
   "cell_type": "code",
   "execution_count": 3,
   "id": "d7f93960-c759-424f-8cb2-1d8698acae2c",
   "metadata": {},
   "outputs": [
    {
     "name": "stderr",
     "output_type": "stream",
     "text": [
      "/home/sbirk/miniconda3/envs/autotalker/lib/python3.9/site-packages/omnipath/_core/query/_query_validator.py:165: ResourceWarning: unclosed <ssl.SSLSocket fd=50, family=AddressFamily.AF_INET, type=SocketKind.SOCK_STREAM, proto=6, laddr=('10.209.62.242', 46830), raddr=('178.62.7.222', 443)>\n",
      "  res = Downloader(opt).maybe_download(\n",
      "/home/sbirk/miniconda3/envs/autotalker/lib/python3.9/site-packages/omnipath/_core/query/_query_validator.py:165: ResourceWarning: unclosed <ssl.SSLSocket fd=50, family=AddressFamily.AF_INET, type=SocketKind.SOCK_STREAM, proto=6, laddr=('10.209.62.242', 46846), raddr=('178.62.7.222', 443)>\n",
      "  res = Downloader(opt).maybe_download(\n",
      "/home/sbirk/miniconda3/envs/autotalker/lib/python3.9/site-packages/omnipath/_core/query/_query_validator.py:165: ResourceWarning: unclosed <ssl.SSLSocket fd=50, family=AddressFamily.AF_INET, type=SocketKind.SOCK_STREAM, proto=6, laddr=('10.209.62.242', 46856), raddr=('178.62.7.222', 443)>\n",
      "  res = Downloader(opt).maybe_download(\n",
      "/home/sbirk/miniconda3/envs/autotalker/lib/python3.9/site-packages/omnipath/_core/query/_query_validator.py:165: ResourceWarning: unclosed <ssl.SSLSocket fd=50, family=AddressFamily.AF_INET, type=SocketKind.SOCK_STREAM, proto=6, laddr=('10.209.62.242', 46860), raddr=('178.62.7.222', 443)>\n",
      "  res = Downloader(opt).maybe_download(\n",
      "/home/sbirk/miniconda3/envs/autotalker/lib/python3.9/site-packages/omnipath/_core/query/_query_validator.py:165: ResourceWarning: unclosed <ssl.SSLSocket fd=50, family=AddressFamily.AF_INET, type=SocketKind.SOCK_STREAM, proto=6, laddr=('10.209.62.242', 46872), raddr=('178.62.7.222', 443)>\n",
      "  res = Downloader(opt).maybe_download(\n",
      "/home/sbirk/miniconda3/envs/autotalker/lib/python3.9/site-packages/omnipath/_core/downloader/_downloader.py:218: ResourceWarning: unclosed <ssl.SSLSocket fd=50, family=AddressFamily.AF_INET, type=SocketKind.SOCK_STREAM, proto=6, laddr=('10.209.62.242', 46888), raddr=('178.62.7.222', 443)>\n",
      "  return UNKNOWN_SERVER_VERSION\n",
      "/home/sbirk/miniconda3/envs/autotalker/lib/python3.9/site-packages/umap/__init__.py:9: ImportWarning: Tensorflow not installed; ParametricUMAP will be unavailable\n",
      "  warn(\n"
     ]
    }
   ],
   "source": [
    "import os\n",
    "from datetime import datetime\n",
    "\n",
    "import matplotlib.pyplot as plt\n",
    "import numpy as np\n",
    "import pandas as pd\n",
    "import pickle\n",
    "import scanpy as sc\n",
    "import scib\n",
    "import seaborn as sns\n",
    "\n",
    "from autotalker.benchmarking import compute_benchmarking_metrics\n",
    "from autotalker.utils import (add_gps_from_gp_dict_to_adata,\n",
    "                              extract_gp_dict_from_mebocost_es_interactions,\n",
    "                              extract_gp_dict_from_nichenet_ligand_target_mx,\n",
    "                              extract_gp_dict_from_omnipath_lr_interactions,\n",
    "                              filter_and_combine_gp_dict_gps)"
   ]
  },
  {
   "cell_type": "markdown",
   "id": "39b5efa5-2052-4986-8ae5-89cfab018515",
   "metadata": {},
   "source": [
    "### 1.2 Define Parameters"
   ]
  },
  {
   "cell_type": "code",
   "execution_count": 4,
   "id": "e5c8b48a-ed5e-48b5-8c5c-c1de11493aee",
   "metadata": {},
   "outputs": [],
   "source": [
    "dataset = \"seqfish_mouse_organogenesis_embryo2\"\n",
    "cell_type_key = \"celltype_mapped_refined\"\n",
    "spatial_key = \"spatial\""
   ]
  },
  {
   "cell_type": "code",
   "execution_count": 5,
   "id": "c11f1e70-5e2b-4e49-863d-0faff99d9b1d",
   "metadata": {},
   "outputs": [],
   "source": [
    "cell_type_colors = {\"Epiblast\" : \"#635547\",\n",
    "                    \"Primitive Streak\" : \"#DABE99\",\n",
    "                    \"Caudal epiblast\" : \"#9e6762\",\n",
    "                    \"PGC\" : \"#FACB12\",\n",
    "                    \"Anterior Primitive Streak\" : \"#c19f70\",\n",
    "                    \"Notochord\" : \"#0F4A9C\",\n",
    "                    \"Def. endoderm\" : \"#F397C0\",\n",
    "                    \"Definitive endoderm\" : \"#F397C0\",\n",
    "                    \"Gut\" : \"#EF5A9D\",\n",
    "                    \"Gut tube\" : \"#EF5A9D\",\n",
    "                    \"Nascent mesoderm\" : \"#C594BF\",\n",
    "                    \"Mixed mesoderm\" : \"#DFCDE4\",\n",
    "                    \"Intermediate mesoderm\" : \"#139992\",\n",
    "                    \"Caudal Mesoderm\" : \"#3F84AA\",\n",
    "                    \"Paraxial mesoderm\" : \"#8DB5CE\",\n",
    "                    \"Somitic mesoderm\" : \"#005579\",\n",
    "                    \"Pharyngeal mesoderm\" : \"#C9EBFB\",\n",
    "                    \"Splanchnic mesoderm\" : \"#C9EBFB\",\n",
    "                    \"Cardiomyocytes\" : \"#B51D8D\",\n",
    "                    \"Allantois\" : \"#532C8A\",\n",
    "                    \"ExE mesoderm\" : \"#8870ad\",\n",
    "                    \"Lateral plate mesoderm\" : \"#8870ad\",\n",
    "                    \"Mesenchyme\" : \"#cc7818\",\n",
    "                    \"Mixed mesenchymal mesoderm\" : \"#cc7818\",\n",
    "                    \"Haematoendothelial progenitors\" : \"#FBBE92\",\n",
    "                    \"Endothelium\" : \"#ff891c\",\n",
    "                    \"Blood progenitors 1\" : \"#f9decf\",\n",
    "                    \"Blood progenitors 2\" : \"#c9a997\",\n",
    "                    \"Erythroid1\" : \"#C72228\",\n",
    "                    \"Erythroid2\" : \"#f79083\",\n",
    "                    \"Erythroid3\" : \"#EF4E22\",\n",
    "                    \"Erythroid\" : \"#f79083\",\n",
    "                    \"Blood progenitors\" : \"#f9decf\",\n",
    "                    \"NMP\" : \"#8EC792\",\n",
    "                    \"Rostral neurectoderm\" : \"#65A83E\",\n",
    "                    \"Caudal neurectoderm\" : \"#354E23\",\n",
    "                    \"Neural crest\" : \"#C3C388\",\n",
    "                    \"Forebrain/Midbrain/Hindbrain\" : \"#647a4f\",\n",
    "                    \"Spinal cord\" : \"#CDE088\",\n",
    "                    \"Surface ectoderm\" : \"#f7f79e\",\n",
    "                    \"Visceral endoderm\" : \"#F6BFCB\",\n",
    "                    \"ExE endoderm\" : \"#7F6874\",\n",
    "                    \"ExE ectoderm\" : \"#989898\",\n",
    "                    \"Parietal endoderm\" : \"#1A1A1A\",\n",
    "                    \"Low quality\" : \"#e6e6e6\",\n",
    "                    \"Cranial mesoderm\" : \"#77441B\",\n",
    "                    \"Anterior somitic tissues\" : \"#F90026\",\n",
    "                    \"Sclerotome\" : \"#A10037\",\n",
    "                    \"Dermomyotome\" : \"#DA5921\",\n",
    "                    \"Posterior somitic tissues\" : \"#E1C239\",\n",
    "                    \"Presomitic mesoderm\" : \"#9DD84A\",\n",
    "                    \"None\" : \"#D3D3D3\"}"
   ]
  },
  {
   "cell_type": "markdown",
   "id": "28adc110-0f41-4a71-9838-dc7f0687809a",
   "metadata": {},
   "source": [
    "### 1.3 Run Notebook Setup"
   ]
  },
  {
   "cell_type": "code",
   "execution_count": 6,
   "id": "334b87ca-3387-4ba9-8567-84bc4754ff0c",
   "metadata": {},
   "outputs": [
    {
     "name": "stderr",
     "output_type": "stream",
     "text": [
      "/home/sbirk/miniconda3/envs/autotalker/lib/python3.9/site-packages/scanpy/_settings.py:447: DeprecationWarning: `set_matplotlib_formats` is deprecated since IPython 7.23, directly use `matplotlib_inline.backend_inline.set_matplotlib_formats()`\n",
      "  IPython.display.set_matplotlib_formats(*ipython_format)\n"
     ]
    }
   ],
   "source": [
    "sc.set_figure_params(figsize=(6, 6))"
   ]
  },
  {
   "cell_type": "code",
   "execution_count": 7,
   "id": "0ab6b302-1c0b-4937-8624-40629ada2e46",
   "metadata": {},
   "outputs": [],
   "source": [
    "# Get time of notebook execution for timestamping saved artifacts\n",
    "now = datetime.now()\n",
    "current_timestamp = now.strftime(\"%d%m%Y_%H%M%S\")"
   ]
  },
  {
   "cell_type": "markdown",
   "id": "85538952-006b-4b0b-a50c-fe7445ce22e2",
   "metadata": {},
   "source": [
    "### 1.4 Configure Paths and Directories"
   ]
  },
  {
   "cell_type": "code",
   "execution_count": 8,
   "id": "7ddcc49c-ba22-4155-acd5-05b5b810e091",
   "metadata": {},
   "outputs": [],
   "source": [
    "data_folder_path = \"../../datasets/srt_data/gold/\"\n",
    "figure_folder_path = f\"../../figures/{dataset}/method_benchmarking/comparison/{current_timestamp}\"\n",
    "gp_data_folder_path = \"../../datasets/gp_data\" # gene program data\n",
    "nichenet_ligand_target_mx_file_path = gp_data_folder_path + \"/nichenet_ligand_target_matrix.csv\"\n",
    "omnipath_lr_interactions_file_path = gp_data_folder_path + \"/omnipath_lr_interactions.csv\""
   ]
  },
  {
   "cell_type": "code",
   "execution_count": 9,
   "id": "bb93ae1a-e35b-45ce-a488-6d592774c902",
   "metadata": {},
   "outputs": [],
   "source": [
    "# Create required directories\n",
    "os.makedirs(figure_folder_path, exist_ok=True)"
   ]
  },
  {
   "cell_type": "markdown",
   "id": "5e1f3798-2b4a-49ed-892c-a85d167d8ff1",
   "metadata": {},
   "source": [
    "## 2. Method Benchmarking"
   ]
  },
  {
   "cell_type": "markdown",
   "id": "bed96ebf-922e-42c2-a8aa-778e59737bc0",
   "metadata": {},
   "source": [
    "- Run all notebooks in the ```method_benchmarking``` directory before continuing."
   ]
  },
  {
   "cell_type": "markdown",
   "id": "8884ac28-0cdf-4b37-9281-4a86dd194ef5",
   "metadata": {},
   "source": [
    "### 3.1 Latent Space Comparison"
   ]
  },
  {
   "cell_type": "markdown",
   "id": "a7165012-177c-466d-b414-ff83c2bf9d7b",
   "metadata": {},
   "source": [
    "#### 3.1.1 Define Function"
   ]
  },
  {
   "cell_type": "code",
   "execution_count": 11,
   "id": "eb0ba86f-197b-4de9-a060-76e1396f68fe",
   "metadata": {},
   "outputs": [],
   "source": [
    "def compute_latent_space_comparison(dataset,\n",
    "                                    cell_type_key,\n",
    "                                    n_neighbors=12,\n",
    "                                    run_number=5):\n",
    "    # Load data\n",
    "    adata_pca = sc.read_h5ad(data_folder_path + f\"{dataset}_pca.h5ad\")\n",
    "    adata_scvi = sc.read_h5ad(data_folder_path + f\"{dataset}_scvi.h5ad\")\n",
    "    adata_expimap = sc.read_h5ad(data_folder_path + f\"{dataset}_expimap.h5ad\")\n",
    "    adata_sagenet = sc.read_h5ad(data_folder_path + f\"{dataset}_sagenet.h5ad\")\n",
    "    adata_deeplinc = sc.read_h5ad(data_folder_path + f\"{dataset}_deeplinc.h5ad\")\n",
    "    adata_graphst = sc.read_h5ad(data_folder_path + f\"{dataset}_graphst.h5ad\")\n",
    "    adata_autotalker = sc.read_h5ad(data_folder_path + f\"{dataset}_autotalker.h5ad\")\n",
    "    \n",
    "    adata_sagenet.obsm[\"X_umap\"] = adata_sagenet.obsm[f\"sagenet_latent_run{run_number}\"] # latent representation of SageNet are already UMAP features\n",
    "    for adata, method in zip([adata_pca, adata_scvi, adata_expimap, adata_deeplinc, adata_graphst, adata_autotalker],\n",
    "                             [\"pca\", \"scvi\", \"expimap\", \"deeplinc\", \"graphst\", \"autotalker\"]):\n",
    "        sc.pp.neighbors(adata,\n",
    "                        use_rep=f\"{method}_latent_run{run_number}\",\n",
    "                        n_neighbors=n_neighbors)\n",
    "        sc.tl.umap(adata)\n",
    "        \n",
    "    fig, axs = plt.subplots(nrows=2, ncols=4, figsize=(20, 10))\n",
    "    plt.suptitle(\"Latent Space Comparison\", fontsize=25, x=0.575)\n",
    "    plt.subplots_adjust(hspace=0.25, wspace=0.25, top=0.9)\n",
    "    axs=axs.flatten()\n",
    "\n",
    "    sc.pl.spatial(adata=adata,\n",
    "                  color=[cell_type_key],\n",
    "                  palette=cell_type_colors,\n",
    "                  spot_size=0.03,\n",
    "                  ax=axs[0],\n",
    "                  show=False)\n",
    "    axs[0].set_title(\"Physical Space\", fontsize=17)\n",
    "    handles, labels = axs[0].get_legend_handles_labels()\n",
    "    lgd = fig.legend(handles, labels, loc=\"upper center\", bbox_to_anchor=(1.07, 0.845))\n",
    "    axs[0].get_legend().remove()\n",
    "\n",
    "    for i, (adata, title) in enumerate(zip([adata_autotalker, adata_deeplinc, adata_graphst, adata_sagenet, adata_pca, adata_scvi, adata_expimap],\n",
    "                                           [\"Autotalker\", \"DeepLinc\", \"GraphST\", \"SageNet\", \"Log Normalized Counts PCA\", \"scVI\", \"expiMap\"])):        \n",
    "        sc.pl.umap(adata,\n",
    "                   color=[cell_type_key],\n",
    "                   palette=cell_type_colors,\n",
    "                   ax=axs[i + 1],\n",
    "                   show=False,\n",
    "                   legend_loc=None)\n",
    "        axs[i + 1].set_title(title, fontsize=17)\n",
    "\n",
    "    fig.savefig(f\"{figure_folder_path}/latent_comparison.png\",\n",
    "                bbox_inches=\"tight\")\n",
    "    plt.show()"
   ]
  },
  {
   "cell_type": "markdown",
   "id": "eb854907-e0d3-4084-98aa-48eb2d5cdabe",
   "metadata": {},
   "source": [
    "#### 3.1.2 Run Function"
   ]
  },
  {
   "cell_type": "code",
   "execution_count": null,
   "id": "cbc7fcf2-86e5-4440-80a9-756456e55535",
   "metadata": {},
   "outputs": [],
   "source": [
    "compute_latent_space_comparison(dataset=\"seqfish_mouse_organogenesis_embryo2\",\n",
    "                                cell_type_key=\"celltype_mapped_refined\",\n",
    "                                n_neighbors=12,\n",
    "                                run_number=5)"
   ]
  },
  {
   "cell_type": "code",
   "execution_count": null,
   "id": "53fd7625-af6e-41e0-a9a5-040e80e8d0c2",
   "metadata": {},
   "outputs": [],
   "source": [
    "compute_latent_space_comparison(dataset=\"vizgen_merfish_mouse_liver\",\n",
    "                                cell_type_key=\"Cell_Type\",\n",
    "                                n_neighbors=12,\n",
    "                                run_number=5)"
   ]
  },
  {
   "cell_type": "code",
   "execution_count": null,
   "id": "e73e2fdd-00f4-498c-8d53-a8e2ca1baac4",
   "metadata": {},
   "outputs": [],
   "source": [
    "compute_latent_space_comparison(dataset=\"starmap_plus_mouse_cns\",\n",
    "                                cell_type_key=\"Main_molecular_cell_type\",\n",
    "                                n_neighbors=12,\n",
    "                                run_number=5)"
   ]
  },
  {
   "cell_type": "code",
   "execution_count": null,
   "id": "1bc27321-91c8-44b5-aa44-c04055a2e1d3",
   "metadata": {},
   "outputs": [],
   "source": [
    "compute_latent_space_comparison(dataset=\"nanostring_cosmx_human_nsclc\",\n",
    "                                cell_type_key=\"cell_type\",\n",
    "                                n_neighbors=12,\n",
    "                                run_number=5)"
   ]
  },
  {
   "cell_type": "markdown",
   "id": "781e4275-de08-4bf4-adbf-9519615d6ff4",
   "metadata": {},
   "source": [
    "### 3.2 Benchmarking Metrics"
   ]
  },
  {
   "cell_type": "markdown",
   "id": "85601b8d-cbbf-4374-8ecd-cdce99f72baa",
   "metadata": {},
   "source": [
    "#### 3.2.1 Define Functions"
   ]
  },
  {
   "cell_type": "code",
   "execution_count": 12,
   "id": "7ce3a1e5-6886-4f83-b17d-1e3b4f58e56b",
   "metadata": {},
   "outputs": [],
   "source": [
    "def compute_combined_benchmarking_metrics(model_adata,\n",
    "                                          model_name,\n",
    "                                          cell_type_key,\n",
    "                                          run_number_list=list(np.arange(1, 11)),\n",
    "                                          n_neighbors_list=[4, 4, 8, 8, 12, 12, 16, 16, 20, 20],\n",
    "                                          ger_genes=None):\n",
    "    benchmarking_dict_list = []\n",
    "    for run_number, n_neighbors in zip(run_number_list, n_neighbors_list):\n",
    "        \n",
    "        # Compute Autotalker metrics\n",
    "        benchmarking_dict = compute_benchmarking_metrics(adata=model_adata,\n",
    "                                                         latent_key=f\"{model_name}_latent_run{run_number}\",\n",
    "                                                         active_gp_names_key=f\"{model_name}_active_gp_names_run{run_number}\",\n",
    "                                                         cell_type_key=cell_type_key,\n",
    "                                                         spatial_key=spatial_key,\n",
    "                                                         spatial_knng_key=f\"spatial_{n_neighbors}nng\",\n",
    "                                                         latent_knng_key=f\"{model_name}_latent_{n_neighbors}nng_run{run_number}\",\n",
    "                                                         ger_genes=ger_genes)\n",
    "\n",
    "        # Compute scib metrics\n",
    "        sc.pp.neighbors(adata=model_adata,\n",
    "                        use_rep=f\"{model_name}_latent_run{run_number}\",\n",
    "                        n_neighbors=n_neighbors)\n",
    "        scib.me.cluster_optimal_resolution(adata=model_adata,\n",
    "                                           cluster_key=\"cluster\",\n",
    "                                           label_key=cell_type_key)\n",
    "        benchmarking_dict[\"ari\"] = scib.me.ari(model_adata,\n",
    "                                               cluster_key=\"cluster\",\n",
    "                                               label_key=cell_type_key)\n",
    "        benchmarking_dict[\"clisi\"] = scib.me.clisi_graph(adata=model_adata,\n",
    "                                                         label_key=cell_type_key,\n",
    "                                                         type_=\"embed\",\n",
    "                                                         use_rep=f\"{model_name}_latent_run{run_number}\")\n",
    "        benchmarking_dict[\"nmi\"] = scib.me.nmi(adata=model_adata,\n",
    "                                               cluster_key=\"cluster\",\n",
    "                                               label_key=cell_type_key)\n",
    "        benchmarking_dict[\"asw\"] = scib.me.silhouette(adata=model_adata,\n",
    "                                                      label_key=cell_type_key,\n",
    "                                                      embed=f\"{model_name}_latent_run{run_number}\")\n",
    "        \n",
    "        benchmarking_dict[\"model_name\"] = model_name\n",
    "        benchmarking_dict[\"run\"] = run_number\n",
    "        benchmarking_dict_list.append(benchmarking_dict)\n",
    "    return benchmarking_dict_list"
   ]
  },
  {
   "cell_type": "code",
   "execution_count": 17,
   "id": "2a735441-aac3-4a3a-b56c-7ee638a0ba69",
   "metadata": {},
   "outputs": [],
   "source": [
    "def compute_combined_benchmarking_metrics_for_all_models(dataset,\n",
    "                                                         cell_type_key,\n",
    "                                                         run_number_list=list(np.arange(1, 11)),\n",
    "                                                         n_neighbors_list=[4, 4, 8, 8, 12, 12, 16, 16, 20, 20],\n",
    "                                                         use_only_gp_mask_target_genes_for_gene_expr_regr=True):\n",
    "    # Configure dataset artifact folder path\n",
    "    dataset_artifact_folder_path = f\"../../artifacts/{dataset}/method_benchmarking/comparison/{current_timestamp}\"\n",
    "    os.makedirs(dataset_artifact_folder_path, exist_ok=True)\n",
    "    \n",
    "    if use_only_gp_mask_target_genes_for_gene_expr_regr:\n",
    "        # Identify genes that are available in gp mask as target genes\n",
    "        print(\"Retrieving gp mask target genes...\")\n",
    "        adata = sc.read_h5ad(data_folder_path + f\"{dataset}.h5ad\")\n",
    "        \n",
    "        nichenet_gp_dict = extract_gp_dict_from_nichenet_ligand_target_mx(\n",
    "            keep_target_ratio=0.01,\n",
    "            load_from_disk=False,\n",
    "            save_to_disk=False,\n",
    "            file_path=nichenet_ligand_target_mx_file_path)\n",
    "\n",
    "        omnipath_gp_dict = extract_gp_dict_from_omnipath_lr_interactions(\n",
    "            min_curation_effort=0,\n",
    "            load_from_disk=False,\n",
    "            save_to_disk=False,\n",
    "            file_path=omnipath_lr_interactions_file_path)\n",
    "\n",
    "        mebocost_gp_dict = extract_gp_dict_from_mebocost_es_interactions(\n",
    "            dir_path=f\"{gp_data_folder_path}/metabolite_enzyme_sensor_gps/\",\n",
    "            species=\"mouse\",\n",
    "            genes_uppercase=True)\n",
    "\n",
    "        # Combine gene programs into one dictionary\n",
    "        combined_gp_dict = dict(nichenet_gp_dict)\n",
    "        combined_gp_dict.update(omnipath_gp_dict)\n",
    "        combined_gp_dict.update(mebocost_gp_dict)\n",
    "\n",
    "        # Filter and combine gene programs\n",
    "        combined_new_gp_dict = filter_and_combine_gp_dict_gps(\n",
    "            gp_dict=combined_gp_dict,\n",
    "            gp_filter_mode=\"subset\", #None,\n",
    "            combine_overlap_gps=True, #True,\n",
    "            overlap_thresh_source_genes=0.9,\n",
    "            overlap_thresh_target_genes=0.9,\n",
    "            overlap_thresh_genes=0.9,\n",
    "            verbose=True)\n",
    "\n",
    "        # Add the gene program dictionary as binary masks to the adata for model training\n",
    "        add_gps_from_gp_dict_to_adata(\n",
    "            gp_dict=combined_new_gp_dict,\n",
    "            adata=adata_autotalker,\n",
    "            genes_uppercase=True,\n",
    "            gp_targets_mask_key=\"autotalker_gp_targets\",\n",
    "            gp_sources_mask_key=\"autotalker_gp_sources\",\n",
    "            gp_names_key=\"autotalker_gp_names\",\n",
    "            min_genes_per_gp=1,\n",
    "            min_source_genes_per_gp=0,\n",
    "            min_target_genes_per_gp=0,\n",
    "            max_genes_per_gp=None,\n",
    "            max_source_genes_per_gp=None,\n",
    "            max_target_genes_per_gp=None)\n",
    "\n",
    "        ger_genes = adata_autotalker.var_names[\n",
    "            adata_autotalker.uns[\"autotalker_target_genes_idx\"]].tolist()\n",
    "        del(adata)\n",
    "    else:\n",
    "        ger_genes = None\n",
    "        \n",
    "    # PCA\n",
    "    print(\"Computing metrics for PCA...\")\n",
    "    adata_pca = sc.read_h5ad(data_folder_path + f\"{dataset}_pca.h5ad\")\n",
    "    benchmarking_dict_list_pca = compute_combined_benchmarking_metrics(model_adata=adata_pca,\n",
    "                                                                       model_name=\"pca\",\n",
    "                                                                       run_number_list=run_number_list,\n",
    "                                                                       n_neighbors_list=n_neighbors_list,\n",
    "                                                                       cell_type_key=cell_type_key,\n",
    "                                                                       ger_genes=ger_genes)   \n",
    "    \n",
    "    benchmarking_dict_list = benchmarking_dict_list_pca\n",
    "    with open(f\"{dataset_artifact_folder_path}/benchmarking_dict_list.pickle\", \"wb\") as f:\n",
    "        pickle.dump(benchmarking_dict_list, f)\n",
    "    del(adata_pca)\n",
    "    print(\"\")\n",
    "    \n",
    "    # scVI\n",
    "    print(\"Computing metrics for scVI...\")\n",
    "    adata_scvi = sc.read_h5ad(data_folder_path + f\"{dataset}_scvi.h5ad\")\n",
    "    benchmarking_dict_list_scvi = compute_combined_benchmarking_metrics(model_adata=adata_scvi,\n",
    "                                                                        model_name=\"scvi\",\n",
    "                                                                        run_number_list=run_number_list,\n",
    "                                                                        n_neighbors_list=n_neighbors_list,\n",
    "                                                                        cell_type_key=cell_type_key,\n",
    "                                                                        ger_genes=ger_genes)  \n",
    "    benchmarking_dict_list += benchmarking_dict_list_scvi\n",
    "    with open(f\"{dataset_artifact_folder_path}/benchmarking_dict_list.pickle\", \"wb\") as f:\n",
    "        pickle.dump(benchmarking_dict_list, f)\n",
    "    del(adata_scvi)\n",
    "    print(\"\")\n",
    "    \n",
    "    # expiMap\n",
    "    print(\"Computing metrics for expiMap...\")\n",
    "    adata_expimap = sc.read_h5ad(data_folder_path + f\"{dataset}_expimap.h5ad\")\n",
    "    benchmarking_dict_list_expimap = compute_combined_benchmarking_metrics(model_adata=adata_expimap,\n",
    "                                                                           model_name=\"expimap\",\n",
    "                                                                           run_number_list=run_number_list,\n",
    "                                                                           n_neighbors_list=n_neighbors_list,\n",
    "                                                                           cell_type_key=cell_type_key,\n",
    "                                                                           ger_genes=ger_genes)  \n",
    "    benchmarking_dict_list += benchmarking_dict_list_expimap\n",
    "    with open(f\"{dataset_artifact_folder_path}/benchmarking_dict_list.pickle\", \"wb\") as f:\n",
    "        pickle.dump(benchmarking_dict_list, f)\n",
    "    del(adata_expimap)\n",
    "    print(\"\")\n",
    "    \n",
    "    # SageNet\n",
    "    print(\"Computing metrics for SageNet...\")\n",
    "    adata_sagenet = sc.read_h5ad(data_folder_path + f\"{dataset}_sagenet.h5ad\")\n",
    "    benchmarking_dict_list_sagenet = compute_combined_benchmarking_metrics(model_adata=adata_sagenet,\n",
    "                                                                           model_name=\"sagenet\",\n",
    "                                                                           run_number_list=run_number_list,\n",
    "                                                                           n_neighbors_list=n_neighbors_list,\n",
    "                                                                           cell_type_key=cell_type_key,\n",
    "                                                                           ger_genes=ger_genes) \n",
    "    benchmarking_dict_list += benchmarking_dict_list_sagenet\n",
    "    with open(f\"{dataset_artifact_folder_path}/benchmarking_dict_list.pickle\", \"wb\") as f:\n",
    "        pickle.dump(benchmarking_dict_list, f)\n",
    "    del(adata_sagenet)\n",
    "    print(\"\")\n",
    "    \n",
    "    # DeepLinc\n",
    "    print(\"Computing metrics for DeepLinc...\")\n",
    "    adata_deeplinc = sc.read_h5ad(data_folder_path + f\"{dataset}_deeplinc.h5ad\")\n",
    "    benchmarking_dict_list_deeplinc = compute_combined_benchmarking_metrics(model_adata=adata_deeplinc,\n",
    "                                                                            model_name=\"deeplinc\",\n",
    "                                                                            run_number_list=run_number_list,\n",
    "                                                                            n_neighbors_list=n_neighbors_list,\n",
    "                                                                            cell_type_key=cell_type_key,\n",
    "                                                                            ger_genes=ger_genes)\n",
    "    benchmarking_dict_list += benchmarking_dict_list_deeplinc\n",
    "    with open(f\"{dataset_artifact_folder_path}/benchmarking_dict_list.pickle\", \"wb\") as f:\n",
    "        pickle.dump(benchmarking_dict_list, f)\n",
    "    del(adata_deeplinc)\n",
    "    print(\"\")\n",
    "    \n",
    "    # GraphST\n",
    "    print(\"Computing metrics for GraphST...\")\n",
    "    adata_graphst = sc.read_h5ad(data_folder_path + f\"{dataset}_graphst.h5ad\")\n",
    "    benchmarking_dict_list_graphst = compute_combined_benchmarking_metrics(model_adata=adata_graphst,\n",
    "                                                                           model_name=\"graphst\",\n",
    "                                                                           run_number_list=run_number_list,\n",
    "                                                                           n_neighbors_list=n_neighbors_list,\n",
    "                                                                           cell_type_key=cell_type_key,\n",
    "                                                                           ger_genes=ger_genes)\n",
    "    benchmarking_dict_list += benchmarking_dict_list_graphst\n",
    "    with open(f\"{dataset_artifact_folder_path}/benchmarking_dict_list.pickle\", \"wb\") as f:\n",
    "        pickle.dump(benchmarking_dict_list, f)\n",
    "    del(adata_graphst)\n",
    "    print(\"\")\n",
    "    \n",
    "    # Autotalker\n",
    "    print(\"Computing metrics for Autotalker...\")\n",
    "    adata_autotalker = sc.read_h5ad(data_folder_path + f\"{dataset}_autotalker.h5ad\")\n",
    "    benchmarking_dict_list_autotalker = compute_combined_benchmarking_metrics(model_adata=adata_autotalker,\n",
    "                                                                              model_name=\"autotalker\",\n",
    "                                                                              run_number_list=run_number_list,\n",
    "                                                                              n_neighbors_list=n_neighbors_list,\n",
    "                                                                              cell_type_key=cell_type_key,\n",
    "                                                                              ger_genes=ger_genes)\n",
    "    benchmarking_dict_list += benchmarking_dict_list_autotalker\n",
    "    with open(f\"{dataset_artifact_folder_path}/benchmarking_dict_list.pickle\", \"wb\") as f:\n",
    "        pickle.dump(benchmarking_dict_list, f)\n",
    "    del(adata_autotalker)\n",
    "    print(\"\")"
   ]
  },
  {
   "cell_type": "code",
   "execution_count": 18,
   "id": "5d99a58a-cb35-47d2-9d0c-20c853042265",
   "metadata": {},
   "outputs": [],
   "source": [
    "def create_summary_plot(dataset):\n",
    "    # Read complete benchmarking data from disk\n",
    "    with open(f\"{artifact_folder_path}/benchmarking_dict_list.pickle\", \"rb\") as f:\n",
    "        benchmarking_dict_list = pickle.load(f)\n",
    "        \n",
    "    df = pd.DataFrame(benchmarking_dict_list)"
   ]
  },
  {
   "cell_type": "markdown",
   "id": "1cd5a246-b9b1-4d20-9f39-0875d441b8bb",
   "metadata": {},
   "source": [
    "#### 3.2.2 Run Functions"
   ]
  },
  {
   "cell_type": "code",
   "execution_count": null,
   "id": "6fbe798c-0b98-4b47-a91c-d9756a688dfd",
   "metadata": {},
   "outputs": [
    {
     "name": "stdout",
     "output_type": "stream",
     "text": [
      "Retrieving gp mask target genes...\n",
      "Downloading NicheNet ligand target potential matrix from the web. This might take a while...\n"
     ]
    }
   ],
   "source": [
    "compute_combined_benchmarking_metrics_for_all_models(dataset=\"seqfish_mouse_organogenesis_embryo2\",\n",
    "                                                     cell_type_key=\"celltype_mapped_refined\")"
   ]
  },
  {
   "cell_type": "code",
   "execution_count": null,
   "id": "2910da85-38d5-4855-8151-70094c208c90",
   "metadata": {},
   "outputs": [],
   "source": [
    "compute_combined_benchmarking_metrics_for_all_models(dataset=\"vizgen_merfish_mouse_liver\",\n",
    "                                                     cell_type_key=\"Cell_Type\",)"
   ]
  },
  {
   "cell_type": "code",
   "execution_count": null,
   "id": "b3d1f940-2b9f-4bc8-810e-1bdab00b9329",
   "metadata": {},
   "outputs": [],
   "source": [
    "compute_combined_benchmarking_metrics_for_all_models(dataset=\"starmap_plus_mouse_cns\",\n",
    "                                                     cell_type_key=\"Main_molecular_cell_type\")"
   ]
  },
  {
   "cell_type": "code",
   "execution_count": null,
   "id": "89dd6a14-5a1c-423b-8f2f-3cc7524ba51c",
   "metadata": {},
   "outputs": [],
   "source": [
    "compute_combined_benchmarking_metrics_for_all_models(dataset=\"nanostring_cosmx_human_nsclc\",\n",
    "                                                     cell_type_key=\"cell_type\")"
   ]
  },
  {
   "cell_type": "markdown",
   "id": "a3d224f8-b044-4133-8242-e55c7bec4e9f",
   "metadata": {},
   "source": [
    "#### 3.2.8 Summary"
   ]
  },
  {
   "cell_type": "code",
   "execution_count": null,
   "id": "ed78256b-9687-4876-a7fe-fdeb4bffae48",
   "metadata": {},
   "outputs": [],
   "source": [
    "dataset_artifact_folder_path = f\"../../artifacts/{dataset}/method_benchmarking/comparison/23022023_081459\""
   ]
  },
  {
   "cell_type": "code",
   "execution_count": null,
   "id": "a06c1040-6026-425b-9f93-086de58b56d6",
   "metadata": {},
   "outputs": [],
   "source": [
    "# Read complete benchmarking data from disk\n",
    "with open(f\"{dataset_artifact_folder_path}/benchmarking_dict_list.pickle\", \"rb\") as f:\n",
    "    benchmarking_dict_list = pickle.load(f)"
   ]
  },
  {
   "cell_type": "code",
   "execution_count": null,
   "id": "869cd40e-6788-4d5d-8213-ed68cccd667a",
   "metadata": {},
   "outputs": [],
   "source": [
    "df = pd.DataFrame(benchmarking_dict_list)\n",
    "df.head()"
   ]
  },
  {
   "cell_type": "code",
   "execution_count": null,
   "id": "cb4daed2-0f50-4772-895a-1ac9e25bfbd3",
   "metadata": {},
   "outputs": [],
   "source": [
    "# Compute metric means over all runs\n",
    "mean_df = df.groupby(\"model_name\").mean()\n",
    "\n",
    "columns = [\"gcd\",\n",
    "           \"mlnmi\",\n",
    "           \"cad\",\n",
    "           \"arclisi\",\n",
    "           \"rclisi\",\n",
    "           \"germse\",\n",
    "           \"cca\",\n",
    "           \"ari\",\n",
    "           \"clisi\",\n",
    "           \"nmi\",\n",
    "           \"asw\",\n",
    "           \"ilasw\"]\n",
    "\n",
    "rows = [\"autotalker\",\n",
    "        \"deeplinc\",\n",
    "        \"graphst\",\n",
    "        \"sagenet\",\n",
    "        \"pca\",\n",
    "        \"scvi\",\n",
    "        \"expimap\"]\n",
    "\n",
    "mean_df = mean_df[columns]\n",
    "mean_df = mean_df.reindex(rows)\n",
    "\n",
    "mean_df"
   ]
  },
  {
   "cell_type": "markdown",
   "id": "5d21d727-72dd-4ab1-81bb-9b60191b746a",
   "metadata": {},
   "source": [
    "##### 3.2.8.1 Metrics Plot"
   ]
  },
  {
   "cell_type": "code",
   "execution_count": null,
   "id": "43f4fd45-3d4c-40aa-b5ec-2f24d0031443",
   "metadata": {},
   "outputs": [],
   "source": [
    "fig, axs = plt.subplots(nrows=2, ncols=int(np.ceil(len(columns)/2)), figsize=(3*len(columns), 8))\n",
    "axs=axs.flatten()\n",
    "\n",
    "for i, col in enumerate(columns):\n",
    "    sns.barplot(data=mean_df, x=mean_df.index, y=col, ax=axs[i])\n",
    "    axs[i].set_xlabel('')\n",
    "    xlabels = axs[i].get_xticks()\n",
    "    axs[i].set_xticklabels(mean_df.index, rotation=45)\n",
    "plt.suptitle(\"Method Benchmarking Metrics\", fontsize=25)\n",
    "plt.subplots_adjust(hspace=0.5, wspace=0.5, top=0.9)\n",
    "\n",
    "if len(columns) % 2 != 0:\n",
    "    fig.delaxes(axs[-1])\n",
    "\n",
    "fig.savefig(f\"{figure_folder_path}/metrics_{current_timestamp}.png\",\n",
    "            bbox_inches=\"tight\")    \n",
    "plt.show()"
   ]
  },
  {
   "cell_type": "code",
   "execution_count": null,
   "id": "44f2b53e-ab74-484f-9ab2-329d9024f1a5",
   "metadata": {},
   "outputs": [],
   "source": []
  },
  {
   "cell_type": "code",
   "execution_count": null,
   "id": "dca726a4-05db-4aff-a7a0-cb666d3e5677",
   "metadata": {},
   "outputs": [],
   "source": []
  },
  {
   "cell_type": "markdown",
   "id": "b89418b7-7d74-4dfb-be72-1f1c0aef93f1",
   "metadata": {},
   "source": [
    "##### 3.2.8.1 Metrics Ranking Plot"
   ]
  },
  {
   "cell_type": "code",
   "execution_count": null,
   "id": "895e0bff-e8b0-4bc2-afa1-50b38cd19f2d",
   "metadata": {},
   "outputs": [],
   "source": [
    "mean_df_min_best = mean_df[[\"gcd\", \"cad\", \"arclisi\", \"germse\"]] # lower values are better\n",
    "mean_df_max_best = mean_df[[\"mlnmi\", \"cca\", \"ari\", \"clisi\", \"nmi\", \"asw\", \"ilasw\", ]] # higher values are better\n",
    "rank_df_min = mean_df_min_best.rank(method=\"max\", ascending=True)\n",
    "rank_df_max = mean_df_max_best.rank(method=\"max\", ascending=False)\n",
    "rank_df = pd.concat([rank_df_min, rank_df_max], axis=1)\n",
    "rank_df = rank_df[columns]"
   ]
  },
  {
   "cell_type": "code",
   "execution_count": null,
   "id": "1cfb4629-bd72-4918-bcf0-5176937a28b0",
   "metadata": {},
   "outputs": [],
   "source": [
    "heatmap = sns.heatmap(rank_df, annot=True, cmap=\"YlGnBu\")\n",
    "fig = heatmap.get_figure()\n",
    "plt.title(\"Method Benchmarking Metrics Ranking\", fontsize=20, pad=25)\n",
    "plt.xticks(rotation=45)\n",
    "fig.savefig(f\"{figure_folder_path}/metrics_ranking_{current_timestamp}.png\",\n",
    "            bbox_inches=\"tight\")\n",
    "plt.show()"
   ]
  },
  {
   "cell_type": "code",
   "execution_count": null,
   "id": "c40bd054-dc77-45c5-9c12-7ea78f6829a3",
   "metadata": {},
   "outputs": [],
   "source": []
  }
 ],
 "metadata": {
  "kernelspec": {
   "display_name": "Python 3 (ipykernel)",
   "language": "python",
   "name": "python3"
  },
  "language_info": {
   "codemirror_mode": {
    "name": "ipython",
    "version": 3
   },
   "file_extension": ".py",
   "mimetype": "text/x-python",
   "name": "python",
   "nbconvert_exporter": "python",
   "pygments_lexer": "ipython3",
   "version": "3.9.15"
  }
 },
 "nbformat": 4,
 "nbformat_minor": 5
}
