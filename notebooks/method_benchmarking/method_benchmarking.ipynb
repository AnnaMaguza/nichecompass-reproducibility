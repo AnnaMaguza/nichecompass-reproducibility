{
 "cells": [
  {
   "cell_type": "markdown",
   "id": "364a9ebc-3e3c-4645-9049-a34bd084c8a8",
   "metadata": {},
   "source": [
    "# Method Benchmarking"
   ]
  },
  {
   "cell_type": "markdown",
   "id": "b0c55227-147e-417f-b0dd-bb0b7f322930",
   "metadata": {},
   "source": [
    "- **Creator**: Sebastian Birk (<sebastian.birk@helmholtz-munich.de>).\n",
    "- **Affiliation:** Helmholtz Munich, Institute of Computational Biology (ICB), Talavera-López Lab\n",
    "- **Date of Creation:** 06.01.2023\n",
    "- **Date of Last Modification:** 24.02.2023"
   ]
  },
  {
   "cell_type": "markdown",
   "id": "7529cde5-be12-403b-a94c-07561774b86c",
   "metadata": {},
   "source": [
    "## 1. Setup"
   ]
  },
  {
   "cell_type": "markdown",
   "id": "faad87bd-fef5-4429-a175-d714c491ae76",
   "metadata": {},
   "source": [
    "### 1.1 Import Libraries"
   ]
  },
  {
   "cell_type": "code",
   "execution_count": 1,
   "id": "d9533f18-f082-4dcc-8e93-117b9759133e",
   "metadata": {},
   "outputs": [],
   "source": [
    "%load_ext autoreload\n",
    "%autoreload 2"
   ]
  },
  {
   "cell_type": "code",
   "execution_count": 2,
   "id": "f1e0bf12-90ee-403e-8970-0d1ac2f47540",
   "metadata": {},
   "outputs": [],
   "source": [
    "import sys\n",
    "sys.path.append(\"../../../autotalker\")"
   ]
  },
  {
   "cell_type": "code",
   "execution_count": 3,
   "id": "d7f93960-c759-424f-8cb2-1d8698acae2c",
   "metadata": {},
   "outputs": [
    {
     "name": "stderr",
     "output_type": "stream",
     "text": [
      "/home/sbirk/miniconda3/envs/autotalker/lib/python3.9/site-packages/omnipath/_core/query/_query_validator.py:165: ResourceWarning: unclosed <ssl.SSLSocket fd=58, family=AddressFamily.AF_INET, type=SocketKind.SOCK_STREAM, proto=6, laddr=('10.209.62.242', 39086), raddr=('178.62.7.222', 443)>\n",
      "  res = Downloader(opt).maybe_download(\n",
      "/home/sbirk/miniconda3/envs/autotalker/lib/python3.9/site-packages/omnipath/_core/query/_query_validator.py:165: ResourceWarning: unclosed <ssl.SSLSocket fd=58, family=AddressFamily.AF_INET, type=SocketKind.SOCK_STREAM, proto=6, laddr=('10.209.62.242', 39100), raddr=('178.62.7.222', 443)>\n",
      "  res = Downloader(opt).maybe_download(\n",
      "/home/sbirk/miniconda3/envs/autotalker/lib/python3.9/site-packages/omnipath/_core/query/_query_validator.py:165: ResourceWarning: unclosed <ssl.SSLSocket fd=58, family=AddressFamily.AF_INET, type=SocketKind.SOCK_STREAM, proto=6, laddr=('10.209.62.242', 39104), raddr=('178.62.7.222', 443)>\n",
      "  res = Downloader(opt).maybe_download(\n",
      "/home/sbirk/miniconda3/envs/autotalker/lib/python3.9/site-packages/omnipath/_core/query/_query_validator.py:165: ResourceWarning: unclosed <ssl.SSLSocket fd=59, family=AddressFamily.AF_INET, type=SocketKind.SOCK_STREAM, proto=6, laddr=('10.209.62.242', 39110), raddr=('178.62.7.222', 443)>\n",
      "  res = Downloader(opt).maybe_download(\n",
      "/home/sbirk/miniconda3/envs/autotalker/lib/python3.9/site-packages/omnipath/_core/query/_query_validator.py:165: ResourceWarning: unclosed <ssl.SSLSocket fd=59, family=AddressFamily.AF_INET, type=SocketKind.SOCK_STREAM, proto=6, laddr=('10.209.62.242', 39120), raddr=('178.62.7.222', 443)>\n",
      "  res = Downloader(opt).maybe_download(\n",
      "/home/sbirk/miniconda3/envs/autotalker/lib/python3.9/site-packages/omnipath/_core/downloader/_downloader.py:218: ResourceWarning: unclosed <ssl.SSLSocket fd=59, family=AddressFamily.AF_INET, type=SocketKind.SOCK_STREAM, proto=6, laddr=('10.209.62.242', 52974), raddr=('178.62.7.222', 443)>\n",
      "  return UNKNOWN_SERVER_VERSION\n",
      "/home/sbirk/miniconda3/envs/autotalker/lib/python3.9/site-packages/umap/__init__.py:9: ImportWarning: Tensorflow not installed; ParametricUMAP will be unavailable\n",
      "  warn(\n"
     ]
    }
   ],
   "source": [
    "import os\n",
    "from datetime import datetime\n",
    "\n",
    "import matplotlib.pyplot as plt\n",
    "import numpy as np\n",
    "import pandas as pd\n",
    "import pickle\n",
    "import scanpy as sc\n",
    "import scib\n",
    "import seaborn as sns\n",
    "\n",
    "from autotalker.benchmarking import compute_benchmarking_metrics\n",
    "from autotalker.utils import (add_gps_from_gp_dict_to_adata,\n",
    "                              extract_gp_dict_from_mebocost_es_interactions,\n",
    "                              extract_gp_dict_from_nichenet_ligand_target_mx,\n",
    "                              extract_gp_dict_from_omnipath_lr_interactions,\n",
    "                              filter_and_combine_gp_dict_gps)"
   ]
  },
  {
   "cell_type": "markdown",
   "id": "39b5efa5-2052-4986-8ae5-89cfab018515",
   "metadata": {},
   "source": [
    "### 1.2 Define Parameters"
   ]
  },
  {
   "cell_type": "code",
   "execution_count": 4,
   "id": "e5c8b48a-ed5e-48b5-8c5c-c1de11493aee",
   "metadata": {},
   "outputs": [],
   "source": [
    "dataset = \"seqfish_mouse_organogenesis_embryo2\"\n",
    "cell_type_key = \"celltype_mapped_refined\"\n",
    "spatial_key = \"spatial\""
   ]
  },
  {
   "cell_type": "code",
   "execution_count": 5,
   "id": "c11f1e70-5e2b-4e49-863d-0faff99d9b1d",
   "metadata": {},
   "outputs": [],
   "source": [
    "cell_type_colors = {\"Epiblast\" : \"#635547\",\n",
    "                    \"Primitive Streak\" : \"#DABE99\",\n",
    "                    \"Caudal epiblast\" : \"#9e6762\",\n",
    "                    \"PGC\" : \"#FACB12\",\n",
    "                    \"Anterior Primitive Streak\" : \"#c19f70\",\n",
    "                    \"Notochord\" : \"#0F4A9C\",\n",
    "                    \"Def. endoderm\" : \"#F397C0\",\n",
    "                    \"Definitive endoderm\" : \"#F397C0\",\n",
    "                    \"Gut\" : \"#EF5A9D\",\n",
    "                    \"Gut tube\" : \"#EF5A9D\",\n",
    "                    \"Nascent mesoderm\" : \"#C594BF\",\n",
    "                    \"Mixed mesoderm\" : \"#DFCDE4\",\n",
    "                    \"Intermediate mesoderm\" : \"#139992\",\n",
    "                    \"Caudal Mesoderm\" : \"#3F84AA\",\n",
    "                    \"Paraxial mesoderm\" : \"#8DB5CE\",\n",
    "                    \"Somitic mesoderm\" : \"#005579\",\n",
    "                    \"Pharyngeal mesoderm\" : \"#C9EBFB\",\n",
    "                    \"Splanchnic mesoderm\" : \"#C9EBFB\",\n",
    "                    \"Cardiomyocytes\" : \"#B51D8D\",\n",
    "                    \"Allantois\" : \"#532C8A\",\n",
    "                    \"ExE mesoderm\" : \"#8870ad\",\n",
    "                    \"Lateral plate mesoderm\" : \"#8870ad\",\n",
    "                    \"Mesenchyme\" : \"#cc7818\",\n",
    "                    \"Mixed mesenchymal mesoderm\" : \"#cc7818\",\n",
    "                    \"Haematoendothelial progenitors\" : \"#FBBE92\",\n",
    "                    \"Endothelium\" : \"#ff891c\",\n",
    "                    \"Blood progenitors 1\" : \"#f9decf\",\n",
    "                    \"Blood progenitors 2\" : \"#c9a997\",\n",
    "                    \"Erythroid1\" : \"#C72228\",\n",
    "                    \"Erythroid2\" : \"#f79083\",\n",
    "                    \"Erythroid3\" : \"#EF4E22\",\n",
    "                    \"Erythroid\" : \"#f79083\",\n",
    "                    \"Blood progenitors\" : \"#f9decf\",\n",
    "                    \"NMP\" : \"#8EC792\",\n",
    "                    \"Rostral neurectoderm\" : \"#65A83E\",\n",
    "                    \"Caudal neurectoderm\" : \"#354E23\",\n",
    "                    \"Neural crest\" : \"#C3C388\",\n",
    "                    \"Forebrain/Midbrain/Hindbrain\" : \"#647a4f\",\n",
    "                    \"Spinal cord\" : \"#CDE088\",\n",
    "                    \"Surface ectoderm\" : \"#f7f79e\",\n",
    "                    \"Visceral endoderm\" : \"#F6BFCB\",\n",
    "                    \"ExE endoderm\" : \"#7F6874\",\n",
    "                    \"ExE ectoderm\" : \"#989898\",\n",
    "                    \"Parietal endoderm\" : \"#1A1A1A\",\n",
    "                    \"Low quality\" : \"#e6e6e6\",\n",
    "                    \"Cranial mesoderm\" : \"#77441B\",\n",
    "                    \"Anterior somitic tissues\" : \"#F90026\",\n",
    "                    \"Sclerotome\" : \"#A10037\",\n",
    "                    \"Dermomyotome\" : \"#DA5921\",\n",
    "                    \"Posterior somitic tissues\" : \"#E1C239\",\n",
    "                    \"Presomitic mesoderm\" : \"#9DD84A\",\n",
    "                    \"None\" : \"#D3D3D3\"}"
   ]
  },
  {
   "cell_type": "markdown",
   "id": "28adc110-0f41-4a71-9838-dc7f0687809a",
   "metadata": {},
   "source": [
    "### 1.3 Run Notebook Setup"
   ]
  },
  {
   "cell_type": "code",
   "execution_count": 6,
   "id": "334b87ca-3387-4ba9-8567-84bc4754ff0c",
   "metadata": {},
   "outputs": [
    {
     "name": "stderr",
     "output_type": "stream",
     "text": [
      "/home/sbirk/miniconda3/envs/autotalker/lib/python3.9/site-packages/scanpy/_settings.py:447: DeprecationWarning: `set_matplotlib_formats` is deprecated since IPython 7.23, directly use `matplotlib_inline.backend_inline.set_matplotlib_formats()`\n",
      "  IPython.display.set_matplotlib_formats(*ipython_format)\n"
     ]
    }
   ],
   "source": [
    "sc.set_figure_params(figsize=(6, 6))"
   ]
  },
  {
   "cell_type": "code",
   "execution_count": 7,
   "id": "0ab6b302-1c0b-4937-8624-40629ada2e46",
   "metadata": {},
   "outputs": [],
   "source": [
    "# Get time of notebook execution for timestamping saved artifacts\n",
    "now = datetime.now()\n",
    "current_timestamp = now.strftime(\"%d%m%Y_%H%M%S\")"
   ]
  },
  {
   "cell_type": "markdown",
   "id": "85538952-006b-4b0b-a50c-fe7445ce22e2",
   "metadata": {},
   "source": [
    "### 1.4 Configure Paths and Directories"
   ]
  },
  {
   "cell_type": "code",
   "execution_count": 8,
   "id": "7ddcc49c-ba22-4155-acd5-05b5b810e091",
   "metadata": {},
   "outputs": [],
   "source": [
    "data_folder_path = \"../../datasets/srt_data/gold/\"\n",
    "figure_folder_path = f\"../../figures/{dataset}/method_benchmarking/comparison/{current_timestamp}\"\n",
    "gp_data_folder_path = \"../../datasets/gp_data\" # gene program data\n",
    "nichenet_ligand_target_mx_file_path = gp_data_folder_path + \"/nichenet_ligand_target_matrix.csv\"\n",
    "omnipath_lr_interactions_file_path = gp_data_folder_path + \"/omnipath_lr_interactions.csv\""
   ]
  },
  {
   "cell_type": "code",
   "execution_count": 9,
   "id": "bb93ae1a-e35b-45ce-a488-6d592774c902",
   "metadata": {},
   "outputs": [],
   "source": [
    "# Create required directories\n",
    "os.makedirs(figure_folder_path, exist_ok=True)"
   ]
  },
  {
   "cell_type": "markdown",
   "id": "5e1f3798-2b4a-49ed-892c-a85d167d8ff1",
   "metadata": {},
   "source": [
    "## 2. Method Benchmarking"
   ]
  },
  {
   "cell_type": "markdown",
   "id": "bed96ebf-922e-42c2-a8aa-778e59737bc0",
   "metadata": {},
   "source": [
    "- Run all notebooks in the ```method_benchmarking``` directory before continuing."
   ]
  },
  {
   "cell_type": "markdown",
   "id": "8884ac28-0cdf-4b37-9281-4a86dd194ef5",
   "metadata": {},
   "source": [
    "### 3.1 Latent Space Comparison"
   ]
  },
  {
   "cell_type": "markdown",
   "id": "a7165012-177c-466d-b414-ff83c2bf9d7b",
   "metadata": {},
   "source": [
    "#### 3.1.1 Define Function"
   ]
  },
  {
   "cell_type": "code",
   "execution_count": 10,
   "id": "eb0ba86f-197b-4de9-a060-76e1396f68fe",
   "metadata": {},
   "outputs": [],
   "source": [
    "def compute_latent_space_comparison(dataset,\n",
    "                                    cell_type_key,\n",
    "                                    n_neighbors=12,\n",
    "                                    run_number=5):\n",
    "    # Load data\n",
    "    adata_pca = sc.read_h5ad(data_folder_path + f\"{dataset}_pca.h5ad\")\n",
    "    adata_scvi = sc.read_h5ad(data_folder_path + f\"{dataset}_scvi.h5ad\")\n",
    "    adata_expimap = sc.read_h5ad(data_folder_path + f\"{dataset}_expimap.h5ad\")\n",
    "    adata_sagenet = sc.read_h5ad(data_folder_path + f\"{dataset}_sagenet.h5ad\")\n",
    "    adata_deeplinc = sc.read_h5ad(data_folder_path + f\"{dataset}_deeplinc.h5ad\")\n",
    "    adata_graphst = sc.read_h5ad(data_folder_path + f\"{dataset}_graphst.h5ad\")\n",
    "    adata_autotalker = sc.read_h5ad(data_folder_path + f\"{dataset}_autotalker.h5ad\")\n",
    "    \n",
    "    adata_sagenet.obsm[\"X_umap\"] = adata_sagenet.obsm[f\"sagenet_latent_run{run_number}\"] # latent representation of SageNet are already UMAP features\n",
    "    for adata, method in zip([adata_pca, adata_scvi, adata_expimap, adata_deeplinc, adata_graphst, adata_autotalker],\n",
    "                             [\"pca\", \"scvi\", \"expimap\", \"deeplinc\", \"graphst\", \"autotalker\"]):\n",
    "        sc.pp.neighbors(adata,\n",
    "                        use_rep=f\"{method}_latent_run{run_number}\",\n",
    "                        n_neighbors=n_neighbors)\n",
    "        sc.tl.umap(adata)\n",
    "        \n",
    "    fig, axs = plt.subplots(nrows=2, ncols=4, figsize=(20, 10))\n",
    "    plt.suptitle(\"Latent Space Comparison\", fontsize=25, x=0.575)\n",
    "    plt.subplots_adjust(hspace=0.25, wspace=0.25, top=0.9)\n",
    "    axs=axs.flatten()\n",
    "\n",
    "    sc.pl.spatial(adata=adata,\n",
    "                  color=[cell_type_key],\n",
    "                  palette=cell_type_colors,\n",
    "                  spot_size=0.03,\n",
    "                  ax=axs[0],\n",
    "                  show=False)\n",
    "    axs[0].set_title(\"Physical Space\", fontsize=17)\n",
    "    handles, labels = axs[0].get_legend_handles_labels()\n",
    "    lgd = fig.legend(handles, labels, loc=\"upper center\", bbox_to_anchor=(1.07, 0.845))\n",
    "    axs[0].get_legend().remove()\n",
    "\n",
    "    for i, (adata, title) in enumerate(zip([adata_autotalker, adata_deeplinc, adata_graphst, adata_sagenet, adata_pca, adata_scvi, adata_expimap],\n",
    "                                           [\"Autotalker\", \"DeepLinc\", \"GraphST\", \"SageNet\", \"Log Normalized Counts PCA\", \"scVI\", \"expiMap\"])):        \n",
    "        sc.pl.umap(adata,\n",
    "                   color=[cell_type_key],\n",
    "                   palette=cell_type_colors,\n",
    "                   ax=axs[i + 1],\n",
    "                   show=False,\n",
    "                   legend_loc=None)\n",
    "        axs[i + 1].set_title(title, fontsize=17)\n",
    "\n",
    "    fig.savefig(f\"{figure_folder_path}/latent_comparison.png\",\n",
    "                bbox_inches=\"tight\")\n",
    "    plt.show()"
   ]
  },
  {
   "cell_type": "markdown",
   "id": "eb854907-e0d3-4084-98aa-48eb2d5cdabe",
   "metadata": {},
   "source": [
    "#### 3.1.2 Run Function"
   ]
  },
  {
   "cell_type": "code",
   "execution_count": null,
   "id": "cbc7fcf2-86e5-4440-80a9-756456e55535",
   "metadata": {},
   "outputs": [],
   "source": [
    "compute_latent_space_comparison(dataset=\"seqfish_mouse_organogenesis_embryo2\",\n",
    "                                cell_type_key=\"celltype_mapped_refined\",\n",
    "                                n_neighbors=12,\n",
    "                                run_number=5)"
   ]
  },
  {
   "cell_type": "code",
   "execution_count": null,
   "id": "53fd7625-af6e-41e0-a9a5-040e80e8d0c2",
   "metadata": {},
   "outputs": [],
   "source": [
    "compute_latent_space_comparison(dataset=\"vizgen_merfish_mouse_liver\",\n",
    "                                cell_type_key=\"Cell_Type\",\n",
    "                                n_neighbors=12,\n",
    "                                run_number=5)"
   ]
  },
  {
   "cell_type": "code",
   "execution_count": null,
   "id": "e73e2fdd-00f4-498c-8d53-a8e2ca1baac4",
   "metadata": {},
   "outputs": [],
   "source": [
    "compute_latent_space_comparison(dataset=\"starmap_plus_mouse_cns\",\n",
    "                                cell_type_key=\"Main_molecular_cell_type\",\n",
    "                                n_neighbors=12,\n",
    "                                run_number=5)"
   ]
  },
  {
   "cell_type": "code",
   "execution_count": null,
   "id": "1bc27321-91c8-44b5-aa44-c04055a2e1d3",
   "metadata": {},
   "outputs": [],
   "source": [
    "compute_latent_space_comparison(dataset=\"nanostring_cosmx_human_nsclc\",\n",
    "                                cell_type_key=\"cell_type\",\n",
    "                                n_neighbors=12,\n",
    "                                run_number=5)"
   ]
  },
  {
   "cell_type": "markdown",
   "id": "781e4275-de08-4bf4-adbf-9519615d6ff4",
   "metadata": {},
   "source": [
    "### 3.2 Benchmarking Metrics"
   ]
  },
  {
   "cell_type": "markdown",
   "id": "85601b8d-cbbf-4374-8ecd-cdce99f72baa",
   "metadata": {},
   "source": [
    "#### 3.2.1 Define Functions"
   ]
  },
  {
   "cell_type": "code",
   "execution_count": 11,
   "id": "7ce3a1e5-6886-4f83-b17d-1e3b4f58e56b",
   "metadata": {},
   "outputs": [],
   "source": [
    "def compute_combined_benchmarking_metrics(model_adata,\n",
    "                                          model_name,\n",
    "                                          cell_type_key,\n",
    "                                          run_number_list=list(np.arange(1, 11)),\n",
    "                                          n_neighbors_list=[4, 4, 8, 8, 12, 12, 16, 16, 20, 20],\n",
    "                                          ger_genes=None):\n",
    "    benchmarking_dict_list = []\n",
    "    for run_number, n_neighbors in zip(run_number_list, n_neighbors_list):\n",
    "        \n",
    "        # Compute Autotalker metrics\n",
    "        benchmarking_dict = compute_benchmarking_metrics(adata=model_adata,\n",
    "                                                         latent_key=f\"{model_name}_latent_run{run_number}\",\n",
    "                                                         cell_type_key=cell_type_key,\n",
    "                                                         spatial_key=spatial_key,\n",
    "                                                         spatial_knng_key=f\"spatial_{n_neighbors}nng\",\n",
    "                                                         latent_knng_key=f\"{model_name}_latent_{n_neighbors}nng_run{run_number}\",\n",
    "                                                         ger_genes=ger_genes)\n",
    "        benchmarking_dict[\"model_name\"] = model_name\n",
    "        benchmarking_dict[\"run\"] = run_number\n",
    "        benchmarking_dict_list.append(benchmarking_dict)\n",
    "    return benchmarking_dict_list"
   ]
  },
  {
   "cell_type": "code",
   "execution_count": 12,
   "id": "2a735441-aac3-4a3a-b56c-7ee638a0ba69",
   "metadata": {},
   "outputs": [],
   "source": [
    "def compute_combined_benchmarking_metrics_for_all_models(dataset,\n",
    "                                                         cell_type_key,\n",
    "                                                         run_number_list=list(np.arange(1, 11)),\n",
    "                                                         n_neighbors_list=[4, 4, 8, 8, 12, 12, 16, 16, 20, 20],\n",
    "                                                         use_only_gp_mask_target_genes_for_gene_expr_regr=True):\n",
    "    # Configure dataset artifact folder path\n",
    "    dataset_artifact_folder_path = f\"../../artifacts/{dataset}/method_benchmarking/comparison/{current_timestamp}\"\n",
    "    os.makedirs(dataset_artifact_folder_path, exist_ok=True)\n",
    "    \n",
    "    if use_only_gp_mask_target_genes_for_gene_expr_regr:\n",
    "        # Identify genes that are available in gp mask as target genes\n",
    "        print(\"Retrieving gp mask target genes...\")\n",
    "        adata = sc.read_h5ad(data_folder_path + f\"{dataset}.h5ad\")\n",
    "        \n",
    "        nichenet_gp_dict = extract_gp_dict_from_nichenet_ligand_target_mx(\n",
    "            keep_target_ratio=0.01,\n",
    "            load_from_disk=False,\n",
    "            save_to_disk=False,\n",
    "            file_path=nichenet_ligand_target_mx_file_path)\n",
    "\n",
    "        omnipath_gp_dict = extract_gp_dict_from_omnipath_lr_interactions(\n",
    "            min_curation_effort=0,\n",
    "            load_from_disk=False,\n",
    "            save_to_disk=False,\n",
    "            file_path=omnipath_lr_interactions_file_path)\n",
    "\n",
    "        mebocost_gp_dict = extract_gp_dict_from_mebocost_es_interactions(\n",
    "            dir_path=f\"{gp_data_folder_path}/metabolite_enzyme_sensor_gps/\",\n",
    "            species=\"mouse\",\n",
    "            genes_uppercase=True)\n",
    "\n",
    "        # Combine gene programs into one dictionary\n",
    "        combined_gp_dict = dict(nichenet_gp_dict)\n",
    "        combined_gp_dict.update(omnipath_gp_dict)\n",
    "        combined_gp_dict.update(mebocost_gp_dict)\n",
    "\n",
    "        # Filter and combine gene programs\n",
    "        combined_new_gp_dict = filter_and_combine_gp_dict_gps(\n",
    "            gp_dict=combined_gp_dict,\n",
    "            gp_filter_mode=\"subset\", #None,\n",
    "            combine_overlap_gps=True, #True,\n",
    "            overlap_thresh_source_genes=0.9,\n",
    "            overlap_thresh_target_genes=0.9,\n",
    "            overlap_thresh_genes=0.9,\n",
    "            verbose=True)\n",
    "\n",
    "        # Add the gene program dictionary as binary masks to the adata for model training\n",
    "        add_gps_from_gp_dict_to_adata(\n",
    "            gp_dict=combined_new_gp_dict,\n",
    "            adata=adata,\n",
    "            genes_uppercase=True,\n",
    "            gp_targets_mask_key=\"autotalker_gp_targets\",\n",
    "            gp_sources_mask_key=\"autotalker_gp_sources\",\n",
    "            gp_names_key=\"autotalker_gp_names\",\n",
    "            min_genes_per_gp=1,\n",
    "            min_source_genes_per_gp=0,\n",
    "            min_target_genes_per_gp=0,\n",
    "            max_genes_per_gp=None,\n",
    "            max_source_genes_per_gp=None,\n",
    "            max_target_genes_per_gp=None)\n",
    "\n",
    "        ger_genes = adata.var_names[adata.uns[\"autotalker_target_genes_idx\"]].tolist()\n",
    "        del(adata)\n",
    "    else:\n",
    "        ger_genes = None\n",
    "        \n",
    "    # PCA\n",
    "    print(\"Computing metrics for PCA...\")\n",
    "    adata_pca = sc.read_h5ad(data_folder_path + f\"{dataset}_pca.h5ad\")\n",
    "    benchmarking_dict_list_pca = compute_combined_benchmarking_metrics(model_adata=adata_pca,\n",
    "                                                                       model_name=\"pca\",\n",
    "                                                                       run_number_list=run_number_list,\n",
    "                                                                       n_neighbors_list=n_neighbors_list,\n",
    "                                                                       cell_type_key=cell_type_key,\n",
    "                                                                       ger_genes=ger_genes)   \n",
    "    \n",
    "    benchmarking_dict_list = benchmarking_dict_list_pca\n",
    "    with open(f\"{dataset_artifact_folder_path}/benchmarking_dict_list.pickle\", \"wb\") as f:\n",
    "        pickle.dump(benchmarking_dict_list, f)\n",
    "    del(adata_pca)\n",
    "    print(\"\")\n",
    "    \n",
    "    # scVI\n",
    "    print(\"Computing metrics for scVI...\")\n",
    "    adata_scvi = sc.read_h5ad(data_folder_path + f\"{dataset}_scvi.h5ad\")\n",
    "    benchmarking_dict_list_scvi = compute_combined_benchmarking_metrics(model_adata=adata_scvi,\n",
    "                                                                        model_name=\"scvi\",\n",
    "                                                                        run_number_list=run_number_list,\n",
    "                                                                        n_neighbors_list=n_neighbors_list,\n",
    "                                                                        cell_type_key=cell_type_key,\n",
    "                                                                        ger_genes=ger_genes)  \n",
    "    benchmarking_dict_list += benchmarking_dict_list_scvi\n",
    "    with open(f\"{dataset_artifact_folder_path}/benchmarking_dict_list.pickle\", \"wb\") as f:\n",
    "        pickle.dump(benchmarking_dict_list, f)\n",
    "    del(adata_scvi)\n",
    "    print(\"\")\n",
    "    \n",
    "    # expiMap\n",
    "    print(\"Computing metrics for expiMap...\")\n",
    "    adata_expimap = sc.read_h5ad(data_folder_path + f\"{dataset}_expimap.h5ad\")\n",
    "    benchmarking_dict_list_expimap = compute_combined_benchmarking_metrics(model_adata=adata_expimap,\n",
    "                                                                           model_name=\"expimap\",\n",
    "                                                                           run_number_list=run_number_list,\n",
    "                                                                           n_neighbors_list=n_neighbors_list,\n",
    "                                                                           cell_type_key=cell_type_key,\n",
    "                                                                           ger_genes=ger_genes)  \n",
    "    benchmarking_dict_list += benchmarking_dict_list_expimap\n",
    "    with open(f\"{dataset_artifact_folder_path}/benchmarking_dict_list.pickle\", \"wb\") as f:\n",
    "        pickle.dump(benchmarking_dict_list, f)\n",
    "    del(adata_expimap)\n",
    "    print(\"\")\n",
    "    \n",
    "    # SageNet\n",
    "    print(\"Computing metrics for SageNet...\")\n",
    "    adata_sagenet = sc.read_h5ad(data_folder_path + f\"{dataset}_sagenet.h5ad\")\n",
    "    benchmarking_dict_list_sagenet = compute_combined_benchmarking_metrics(model_adata=adata_sagenet,\n",
    "                                                                           model_name=\"sagenet\",\n",
    "                                                                           run_number_list=run_number_list,\n",
    "                                                                           n_neighbors_list=n_neighbors_list,\n",
    "                                                                           cell_type_key=cell_type_key,\n",
    "                                                                           ger_genes=ger_genes) \n",
    "    benchmarking_dict_list += benchmarking_dict_list_sagenet\n",
    "    with open(f\"{dataset_artifact_folder_path}/benchmarking_dict_list.pickle\", \"wb\") as f:\n",
    "        pickle.dump(benchmarking_dict_list, f)\n",
    "    del(adata_sagenet)\n",
    "    print(\"\")\n",
    "    \n",
    "    # DeepLinc\n",
    "    print(\"Computing metrics for DeepLinc...\")\n",
    "    adata_deeplinc = sc.read_h5ad(data_folder_path + f\"{dataset}_deeplinc.h5ad\")\n",
    "    benchmarking_dict_list_deeplinc = compute_combined_benchmarking_metrics(model_adata=adata_deeplinc,\n",
    "                                                                            model_name=\"deeplinc\",\n",
    "                                                                            run_number_list=run_number_list,\n",
    "                                                                            n_neighbors_list=n_neighbors_list,\n",
    "                                                                            cell_type_key=cell_type_key,\n",
    "                                                                            ger_genes=ger_genes)\n",
    "    benchmarking_dict_list += benchmarking_dict_list_deeplinc\n",
    "    with open(f\"{dataset_artifact_folder_path}/benchmarking_dict_list.pickle\", \"wb\") as f:\n",
    "        pickle.dump(benchmarking_dict_list, f)\n",
    "    del(adata_deeplinc)\n",
    "    print(\"\")\n",
    "    \n",
    "    # GraphST\n",
    "    print(\"Computing metrics for GraphST...\")\n",
    "    adata_graphst = sc.read_h5ad(data_folder_path + f\"{dataset}_graphst.h5ad\")\n",
    "    benchmarking_dict_list_graphst = compute_combined_benchmarking_metrics(model_adata=adata_graphst,\n",
    "                                                                           model_name=\"graphst\",\n",
    "                                                                           run_number_list=run_number_list,\n",
    "                                                                           n_neighbors_list=n_neighbors_list,\n",
    "                                                                           cell_type_key=cell_type_key,\n",
    "                                                                           ger_genes=ger_genes)\n",
    "    benchmarking_dict_list += benchmarking_dict_list_graphst\n",
    "    with open(f\"{dataset_artifact_folder_path}/benchmarking_dict_list.pickle\", \"wb\") as f:\n",
    "        pickle.dump(benchmarking_dict_list, f)\n",
    "    del(adata_graphst)\n",
    "    print(\"\")\n",
    "    \n",
    "    # Autotalker\n",
    "    print(\"Computing metrics for Autotalker...\")\n",
    "    adata_autotalker = sc.read_h5ad(data_folder_path + f\"{dataset}_autotalker.h5ad\")\n",
    "    benchmarking_dict_list_autotalker = compute_combined_benchmarking_metrics(model_adata=adata_autotalker,\n",
    "                                                                              model_name=\"autotalker\",\n",
    "                                                                              run_number_list=run_number_list,\n",
    "                                                                              n_neighbors_list=n_neighbors_list,\n",
    "                                                                              cell_type_key=cell_type_key,\n",
    "                                                                              ger_genes=ger_genes)\n",
    "    benchmarking_dict_list += benchmarking_dict_list_autotalker\n",
    "    with open(f\"{dataset_artifact_folder_path}/benchmarking_dict_list.pickle\", \"wb\") as f:\n",
    "        pickle.dump(benchmarking_dict_list, f)\n",
    "    del(adata_autotalker)\n",
    "    print(\"\")"
   ]
  },
  {
   "cell_type": "code",
   "execution_count": 13,
   "id": "5d99a58a-cb35-47d2-9d0c-20c853042265",
   "metadata": {},
   "outputs": [],
   "source": [
    "def create_summary_plot(dataset):\n",
    "    # Read complete benchmarking data from disk\n",
    "    with open(f\"{artifact_folder_path}/benchmarking_dict_list.pickle\", \"rb\") as f:\n",
    "        benchmarking_dict_list = pickle.load(f)\n",
    "        \n",
    "    df = pd.DataFrame(benchmarking_dict_list)"
   ]
  },
  {
   "cell_type": "markdown",
   "id": "1cd5a246-b9b1-4d20-9f39-0875d441b8bb",
   "metadata": {},
   "source": [
    "#### 3.2.2 Run Functions"
   ]
  },
  {
   "cell_type": "code",
   "execution_count": 101,
   "id": "6fbe798c-0b98-4b47-a91c-d9756a688dfd",
   "metadata": {},
   "outputs": [
    {
     "name": "stdout",
     "output_type": "stream",
     "text": [
      "Retrieving gp mask target genes...\n",
      "Downloading NicheNet ligand target potential matrix from the web. This might take a while...\n",
      "Removing GP 'CTF1_ligand_receptor_GP' as it is a subset of GP 'CTF1_ligand_targetgenes_GP'.\n",
      "Removing GP 'LEP_ligand_receptor_GP' as it is a subset of GP 'LEP_ligand_targetgenes_GP'.\n",
      "Removing GP 'IL4_ligand_receptor_GP' as it is a subset of GP 'IL4_ligand_targetgenes_GP'.\n",
      "Removing GP 'IL12A_ligand_receptor_GP' as it is a subset of GP 'IL12A_ligand_targetgenes_GP'.\n",
      "Removing GP 'IL23A_ligand_receptor_GP' as it is a subset of GP 'IL23A_ligand_targetgenes_GP'.\n",
      "Removing GP 'CSF2_ligand_receptor_GP' as it is a subset of GP 'CSF2_ligand_targetgenes_GP'.\n",
      "Removing GP 'IL21_ligand_receptor_GP' as it is a subset of GP 'IL21_ligand_targetgenes_GP'.\n",
      "Removing GP 'TSLP_ligand_receptor_GP' as it is a subset of GP 'TSLP_ligand_targetgenes_GP'.\n",
      "Removing GP 'GH2_ligand_receptor_GP' as it is a subset of GP 'GH2_ligand_targetgenes_GP'.\n",
      "Removing GP 'EGF_ligand_receptor_GP' as it is a subset of GP 'EGF_ligand_targetgenes_GP'.\n",
      "Removing GP 'IL10_ligand_receptor_GP' as it is a subset of GP 'IL10_ligand_targetgenes_GP'.\n",
      "Removing GP 'TNFSF4_ligand_receptor_GP' as it is a subset of GP 'TNFSF4_ligand_targetgenes_GP'.\n",
      "Removing GP 'TNFSF18_ligand_receptor_GP' as it is a subset of GP 'TNFSF18_ligand_targetgenes_GP'.\n",
      "Removing GP 'TGFB1_ligand_receptor_GP' as it is a subset of GP 'TGFB1_ligand_targetgenes_GP'.\n",
      "Removing GP 'BMP2_ligand_receptor_GP' as it is a subset of GP 'BMP2_ligand_targetgenes_GP'.\n",
      "Removing GP 'IL1B_ligand_receptor_GP' as it is a subset of GP 'IL1B_ligand_targetgenes_GP'.\n",
      "Removing GP 'CSH1_ligand_receptor_GP' as it is a subset of GP 'CSH1_ligand_targetgenes_GP'.\n",
      "Removing GP 'EDN1_ligand_receptor_GP' as it is a subset of GP 'EDN1_ligand_targetgenes_GP'.\n",
      "Removing GP 'EDN3_ligand_receptor_GP' as it is a subset of GP 'EDN3_ligand_targetgenes_GP'.\n",
      "Removing GP 'GCG_ligand_receptor_GP' as it is a subset of GP 'GCG_ligand_targetgenes_GP'.\n",
      "Removing GP 'HCRT_ligand_receptor_GP' as it is a subset of GP 'HCRT_ligand_targetgenes_GP'.\n",
      "Removing GP 'IGF1_ligand_receptor_GP' as it is a subset of GP 'IGF1_ligand_targetgenes_GP'.\n",
      "Removing GP 'GRP_ligand_receptor_GP' as it is a subset of GP 'GRP_ligand_targetgenes_GP'.\n",
      "Removing GP 'NTF3_ligand_receptor_GP' as it is a subset of GP 'NTF3_ligand_targetgenes_GP'.\n",
      "Removing GP 'AVP_ligand_receptor_GP' as it is a subset of GP 'AVP_ligand_targetgenes_GP'.\n",
      "Removing GP 'CSHL1_ligand_receptor_GP' as it is a subset of GP 'CSHL1_ligand_targetgenes_GP'.\n",
      "Removing GP 'PROK1_ligand_receptor_GP' as it is a subset of GP 'PROK1_ligand_targetgenes_GP'.\n",
      "Removing GP 'AGT_ligand_receptor_GP' as it is a subset of GP 'AGT_ligand_targetgenes_GP'.\n",
      "Removing GP 'GHRH_ligand_receptor_GP' as it is a subset of GP 'GHRH_ligand_targetgenes_GP'.\n",
      "Removing GP 'DLL3_ligand_receptor_GP' as it is a subset of GP 'DLL3_ligand_targetgenes_GP'.\n",
      "Removing GP 'DLL4_ligand_receptor_GP' as it is a subset of GP 'DLL4_ligand_targetgenes_GP'.\n",
      "Removing GP 'FGF23_ligand_receptor_GP' as it is a subset of GP 'FGF23_ligand_targetgenes_GP'.\n",
      "Removing GP 'GDF6_ligand_receptor_GP' as it is a subset of GP 'GDF6_ligand_targetgenes_GP'.\n",
      "Removing GP 'GDF9_ligand_receptor_GP' as it is a subset of GP 'GDF9_ligand_targetgenes_GP'.\n",
      "Removing GP 'IL12B_ligand_receptor_GP' as it is a subset of GP 'IL12B_ligand_targetgenes_GP'.\n",
      "Removing GP 'JAG1_ligand_receptor_GP' as it is a subset of GP 'JAG1_ligand_targetgenes_GP'.\n",
      "Removing GP 'CRLF1_ligand_receptor_GP' as it is a subset of GP 'CRLF1_ligand_targetgenes_GP'.\n",
      "Removing GP 'VGF_ligand_receptor_GP' as it is a subset of GP 'VGF_ligand_targetgenes_GP'.\n",
      "Removing GP 'IL27_ligand_receptor_GP' as it is a subset of GP 'IL27_ligand_targetgenes_GP'.\n",
      "Removing GP 'CMTM8_ligand_receptor_GP' as it is a subset of GP 'CMTM8_ligand_targetgenes_GP'.\n",
      "Removing GP 'SECTM1_ligand_receptor_GP' as it is a subset of GP 'SECTM1_ligand_targetgenes_GP'.\n",
      "Removing GP 'CMTM2_ligand_receptor_GP' as it is a subset of GP 'CMTM2_ligand_targetgenes_GP'.\n",
      "Removing GP 'BMP8A_ligand_receptor_GP' as it is a subset of GP 'BMP8A_ligand_targetgenes_GP'.\n",
      "Removing GP 'GDF3_ligand_receptor_GP' as it is a subset of GP 'GDF3_ligand_targetgenes_GP'.\n",
      "Removing GP 'EFNB3_ligand_targetgenes_GP' as it is a subset of GP 'EFNB3_ligand_receptor_GP'.\n",
      "Removing GP 'EFNB2_ligand_targetgenes_GP' as it is a subset of GP 'EFNB2_ligand_receptor_GP'.\n",
      "Removing GP 'EFNB1_ligand_targetgenes_GP' as it is a subset of GP 'EFNB1_ligand_receptor_GP'.\n",
      "Removing GP 'CCL23_ligand_targetgenes_GP' as it is a subset of GP 'CCL23_ligand_receptor_GP'.\n",
      "Removing GP 'CCL27_ligand_targetgenes_GP' as it is a subset of GP 'CCL27_ligand_receptor_GP'.\n",
      "Removing GP 'CCL28_ligand_targetgenes_GP' as it is a subset of GP 'CCL28_ligand_receptor_GP'.\n",
      "Removing GP 'CCL16_ligand_targetgenes_GP' as it is a subset of GP 'CCL16_ligand_receptor_GP'.\n",
      "Removing GP 'CXCL5_ligand_targetgenes_GP' as it is a subset of GP 'CXCL5_ligand_receptor_GP'.\n",
      "Removing GP 'PMCH_ligand_targetgenes_GP' as it is a subset of GP 'PMCH_ligand_receptor_GP'.\n",
      "Removing GP 'NMS_ligand_targetgenes_GP' as it is a subset of GP 'NMS_ligand_receptor_GP'.\n",
      "Removing GP 'NMU_ligand_targetgenes_GP' as it is a subset of GP 'NMU_ligand_receptor_GP'.\n",
      "Removing GP 'NPB_ligand_targetgenes_GP' as it is a subset of GP 'NPB_ligand_receptor_GP'.\n",
      "Removing GP 'NPW_ligand_targetgenes_GP' as it is a subset of GP 'NPW_ligand_receptor_GP'.\n",
      "Removing GP 'RLN3_ligand_targetgenes_GP' as it is a subset of GP 'RLN3_ligand_receptor_GP'.\n",
      "Removing GP 'PYY_ligand_targetgenes_GP' as it is a subset of GP 'PYY_ligand_receptor_GP'.\n",
      "Removing GP 'PPY_ligand_targetgenes_GP' as it is a subset of GP 'PPY_ligand_receptor_GP'.\n",
      "Removing GP 'NRG3_ligand_targetgenes_GP' as it is a subset of GP 'NRG3_ligand_receptor_GP'.\n",
      "Removing GP 'NRG4_ligand_targetgenes_GP' as it is a subset of GP 'NRG4_ligand_receptor_GP'.\n",
      "Removing GP 'FGF22_ligand_targetgenes_GP' as it is a subset of GP 'FGF22_ligand_receptor_GP'.\n",
      "Removing GP 'FGF13_ligand_targetgenes_GP' as it is a subset of GP 'FGF13_ligand_receptor_GP'.\n",
      "Removing GP 'FGF11_ligand_targetgenes_GP' as it is a subset of GP 'FGF11_ligand_receptor_GP'.\n",
      "Removing GP 'FGF14_ligand_targetgenes_GP' as it is a subset of GP 'FGF14_ligand_receptor_GP'.\n",
      "Removing GP 'PODXL2_ligand_targetgenes_GP' as it is a subset of GP 'PODXL2_ligand_receptor_GP'.\n",
      "Removing GP 'ADM2_ligand_targetgenes_GP' as it is a subset of GP 'ADM2_ligand_receptor_GP'.\n",
      "Removing GP 'APOB_ligand_targetgenes_GP' as it is a subset of GP 'APOB_ligand_receptor_GP'.\n",
      "Removing GP 'NPS_ligand_targetgenes_GP' as it is a subset of GP 'NPS_ligand_receptor_GP'.\n",
      "Removing GP 'PTH2_ligand_targetgenes_GP' as it is a subset of GP 'PTH2_ligand_receptor_GP'.\n",
      "Removing GP 'INSL3_ligand_targetgenes_GP' as it is a subset of GP 'INSL3_ligand_receptor_GP'.\n",
      "Removing GP 'NECTIN3_ligand_targetgenes_GP' as it is a subset of GP 'NECTIN3_ligand_receptor_GP'.\n",
      "Removing GP 'LAMA1_ligand_targetgenes_GP' as it is a subset of GP 'LAMA1_ligand_receptor_GP'.\n",
      "Removing GP 'WNT9A_ligand_targetgenes_GP' as it is a subset of GP 'WNT9A_ligand_receptor_GP'.\n",
      "Removing GP 'WNT9B_ligand_targetgenes_GP' as it is a subset of GP 'WNT9B_ligand_receptor_GP'.\n",
      "Removing GP 'WNT3_ligand_targetgenes_GP' as it is a subset of GP 'WNT3_ligand_receptor_GP'.\n",
      "Removing GP 'SOST_ligand_targetgenes_GP' as it is a subset of GP 'SOST_ligand_receptor_GP'.\n",
      "Removing GP 'EFNA1_ligand_targetgenes_GP' as it is a subset of GP 'EFNA1_ligand_receptor_GP'.\n",
      "Removing GP 'EFNA2_ligand_targetgenes_GP' as it is a subset of GP 'EFNA2_ligand_receptor_GP'.\n",
      "Removing GP 'EFNA3_ligand_targetgenes_GP' as it is a subset of GP 'EFNA3_ligand_receptor_GP'.\n",
      "Removing GP 'CCL22_ligand_targetgenes_GP' as it is a subset of GP 'CCL22_ligand_receptor_GP'.\n",
      "Removing GP 'NRG2_ligand_targetgenes_GP' as it is a subset of GP 'NRG2_ligand_receptor_GP'.\n",
      "Removing GP 'LAMC2_ligand_targetgenes_GP' as it is a subset of GP 'LAMC2_ligand_receptor_GP'.\n",
      "Removing GP 'ICAM5_ligand_targetgenes_GP' as it is a subset of GP 'ICAM5_ligand_receptor_GP'.\n",
      "Removing GP 'COMP_ligand_targetgenes_GP' as it is a subset of GP 'COMP_ligand_receptor_GP'.\n",
      "Removing GP 'CHAD_ligand_targetgenes_GP' as it is a subset of GP 'CHAD_ligand_receptor_GP'.\n",
      "Removing GP 'THBS4_ligand_targetgenes_GP' as it is a subset of GP 'THBS4_ligand_receptor_GP'.\n",
      "Removing GP 'SEMA7A_ligand_targetgenes_GP' as it is a subset of GP 'SEMA7A_ligand_receptor_GP'.\n",
      "Removing GP 'CCL8_ligand_targetgenes_GP' as it is a subset of GP 'CCL8_ligand_receptor_GP'.\n",
      "Removing GP 'CCL7_ligand_targetgenes_GP' as it is a subset of GP 'CCL7_ligand_receptor_GP'.\n",
      "Removing GP 'XCL1_ligand_targetgenes_GP' as it is a subset of GP 'XCL1_ligand_receptor_GP'.\n",
      "Removing GP 'CCL4L1_ligand_targetgenes_GP' as it is a subset of GP 'CCL4L1_ligand_receptor_GP'.\n",
      "Removing GP 'COPA_ligand_targetgenes_GP' as it is a subset of GP 'COPA_ligand_receptor_GP'.\n",
      "Removing GP 'GUCA2A_ligand_targetgenes_GP' as it is a subset of GP 'GUCA2A_ligand_receptor_GP'.\n",
      "Removing GP 'GUCA2B_ligand_targetgenes_GP' as it is a subset of GP 'GUCA2B_ligand_receptor_GP'.\n",
      "Removing GP 'NTN4_ligand_targetgenes_GP' as it is a subset of GP 'NTN4_ligand_receptor_GP'.\n",
      "Removing GP 'CD99_ligand_targetgenes_GP' as it is a subset of GP 'CD99_ligand_receptor_GP'.\n",
      "Removing GP 'SEMA3C_ligand_targetgenes_GP' as it is a subset of GP 'SEMA3C_ligand_receptor_GP'.\n",
      "Removing GP 'NECTIN2_ligand_targetgenes_GP' as it is a subset of GP 'NECTIN2_ligand_receptor_GP'.\n",
      "Removing GP 'HLA-B_ligand_targetgenes_GP' as it is a subset of GP 'HLA-B_ligand_receptor_GP'.\n",
      "Removing GP 'HLA-C_ligand_targetgenes_GP' as it is a subset of GP 'HLA-C_ligand_receptor_GP'.\n",
      "Removing GP 'CNTN1_ligand_targetgenes_GP' as it is a subset of GP 'CNTN1_ligand_receptor_GP'.\n",
      "Removing GP 'SEMA3F_ligand_targetgenes_GP' as it is a subset of GP 'SEMA3F_ligand_receptor_GP'.\n",
      "Removing GP 'FAM3C_ligand_targetgenes_GP' as it is a subset of GP 'FAM3C_ligand_receptor_GP'.\n",
      "Removing GP 'ULBP2_ligand_targetgenes_GP' as it is a subset of GP 'ULBP2_ligand_receptor_GP'.\n",
      "Removing GP 'GPHA2_ligand_targetgenes_GP' as it is a subset of GP 'GPHA2_ligand_receptor_GP'.\n",
      "Removing GP 'FLRT3_ligand_targetgenes_GP' as it is a subset of GP 'FLRT3_ligand_receptor_GP'.\n",
      "Removing GP 'PRND_ligand_targetgenes_GP' as it is a subset of GP 'PRND_ligand_receptor_GP'.\n",
      "Removing GP 'NDP_ligand_targetgenes_GP' as it is a subset of GP 'NDP_ligand_receptor_GP'.\n",
      "Removing GP 'RSPO2_ligand_targetgenes_GP' as it is a subset of GP 'RSPO2_ligand_receptor_GP'.\n",
      "Removing GP 'RSPO4_ligand_targetgenes_GP' as it is a subset of GP 'RSPO4_ligand_receptor_GP'.\n",
      "Removing GP 'NTN3_ligand_targetgenes_GP' as it is a subset of GP 'NTN3_ligand_receptor_GP'.\n",
      "Removing GP 'DHH_ligand_targetgenes_GP' as it is a subset of GP 'DHH_ligand_receptor_GP'.\n",
      "Removing GP 'DSC1_ligand_targetgenes_GP' as it is a subset of GP 'DSC1_ligand_receptor_GP'.\n",
      "Removing GP 'DSC2_ligand_targetgenes_GP' as it is a subset of GP 'DSC2_ligand_receptor_GP'.\n",
      "Removing GP 'NLGN2_ligand_targetgenes_GP' as it is a subset of GP 'NLGN2_ligand_receptor_GP'.\n",
      "Removing GP 'NXPH1_ligand_targetgenes_GP' as it is a subset of GP 'NXPH1_ligand_receptor_GP'.\n",
      "Removing GP 'NPFF_ligand_targetgenes_GP' as it is a subset of GP 'NPFF_ligand_receptor_GP'.\n",
      "Removing GP 'TAC3_ligand_targetgenes_GP' as it is a subset of GP 'TAC3_ligand_receptor_GP'.\n",
      "Removing GP 'TAC4_ligand_targetgenes_GP' as it is a subset of GP 'TAC4_ligand_receptor_GP'.\n",
      "Removing GP 'NMB_ligand_targetgenes_GP' as it is a subset of GP 'NMB_ligand_receptor_GP'.\n",
      "Removing GP 'GALP_ligand_targetgenes_GP' as it is a subset of GP 'GALP_ligand_receptor_GP'.\n",
      "Removing GP 'MLN_ligand_targetgenes_GP' as it is a subset of GP 'MLN_ligand_receptor_GP'.\n",
      "Removing GP 'IL17B_ligand_targetgenes_GP' as it is a subset of GP 'IL17B_ligand_receptor_GP'.\n",
      "Removing GP 'QRFP_ligand_targetgenes_GP' as it is a subset of GP 'QRFP_ligand_receptor_GP'.\n",
      "Removing GP 'TXLNA_ligand_targetgenes_GP' as it is a subset of GP 'TXLNA_ligand_receptor_GP'.\n",
      "Removing GP 'Deoxyinosine_metabolite_enzyme_sensor_GP' as it is a subset of GP 'Adenosine_metabolite_enzyme_sensor_GP'.\n",
      "Removing GP 'Deoxyadenosine_metabolite_enzyme_sensor_GP' as it is a subset of GP 'Adenosine_metabolite_enzyme_sensor_GP'.\n",
      "Removing GP 'Guanosine_metabolite_enzyme_sensor_GP' as it is a subset of GP 'Adenosine_metabolite_enzyme_sensor_GP'.\n",
      "Removing GP 'Inosine_metabolite_enzyme_sensor_GP' as it is a subset of GP 'Adenosine_metabolite_enzyme_sensor_GP'.\n",
      "Removing GP 'Corticosterone_metabolite_enzyme_sensor_GP' as it is a subset of GP 'Cortisol_metabolite_enzyme_sensor_GP'.\n",
      "Removing GP 'Deoxyinosine_metabolite_enzyme_sensor_GP' as it is a subset of GP 'Deoxyadenosine_metabolite_enzyme_sensor_GP'.\n",
      "Removing GP 'D-Galactose_metabolite_enzyme_sensor_GP' as it is a subset of GP 'D-Glucose_metabolite_enzyme_sensor_GP'.\n",
      "Removing GP 'D-Maltose_metabolite_enzyme_sensor_GP' as it is a subset of GP 'D-Glucose_metabolite_enzyme_sensor_GP'.\n",
      "Removing GP 'Estriol_metabolite_enzyme_sensor_GP' as it is a subset of GP 'Estrone_metabolite_enzyme_sensor_GP'.\n",
      "Removing GP 'Estriol_metabolite_enzyme_sensor_GP' as it is a subset of GP 'Estradiol_metabolite_enzyme_sensor_GP'.\n",
      "Removing GP 'L-Dopa_metabolite_enzyme_sensor_GP' as it is a subset of GP 'L-Tyrosine_metabolite_enzyme_sensor_GP'.\n",
      "Removing GP 'Deoxyinosine_metabolite_enzyme_sensor_GP' as it is a subset of GP 'Inosine_metabolite_enzyme_sensor_GP'.\n",
      "Removing GP 'Deoxyadenosine_metabolite_enzyme_sensor_GP' as it is a subset of GP 'Inosine_metabolite_enzyme_sensor_GP'.\n",
      "Removing GP 'Guanosine_metabolite_enzyme_sensor_GP' as it is a subset of GP 'Inosine_metabolite_enzyme_sensor_GP'.\n",
      "Removing GP 'Stearic acid_metabolite_enzyme_sensor_GP' as it is a subset of GP 'Oleic acid_metabolite_enzyme_sensor_GP'.\n",
      "Removing GP 'Dihomo-gamma-linolenic acid_metabolite_enzyme_sensor_GP' as it is a subset of GP 'Oleic acid_metabolite_enzyme_sensor_GP'.\n",
      "Removing GP 'gamma-Linolenic acid_metabolite_enzyme_sensor_GP' as it is a subset of GP 'Oleic acid_metabolite_enzyme_sensor_GP'.\n",
      "Removing GP 'Epinephrine_metabolite_enzyme_sensor_GP' as it is a subset of GP 'Norepinephrine_metabolite_enzyme_sensor_GP'.\n",
      "Removing GP 'Stearic acid_metabolite_enzyme_sensor_GP' as it is a subset of GP 'Palmitic acid_metabolite_enzyme_sensor_GP'.\n",
      "Removing GP 'Dihomo-gamma-linolenic acid_metabolite_enzyme_sensor_GP' as it is a subset of GP 'Palmitic acid_metabolite_enzyme_sensor_GP'.\n",
      "Removing GP 'gamma-Linolenic acid_metabolite_enzyme_sensor_GP' as it is a subset of GP 'Palmitic acid_metabolite_enzyme_sensor_GP'.\n",
      "Removing GP 'Androsterone_metabolite_enzyme_sensor_GP' as it is a subset of GP 'Testosterone_metabolite_enzyme_sensor_GP'.\n",
      "Removing GP 'Liothyronine_metabolite_enzyme_sensor_GP' as it is a subset of GP 'Thyroxine_metabolite_enzyme_sensor_GP'.\n",
      "Removing GP 'Cytidine_metabolite_enzyme_sensor_GP' as it is a subset of GP 'Uridine_metabolite_enzyme_sensor_GP'.\n",
      "Removing GP 'Thymine_metabolite_enzyme_sensor_GP' as it is a subset of GP 'Uracil_metabolite_enzyme_sensor_GP'.\n",
      "Removing GP 'alpha-Linolenic acid_metabolite_enzyme_sensor_GP' as it is a subset of GP 'Linoleic acid_metabolite_enzyme_sensor_GP'.\n",
      "Removing GP 'Dihomo-gamma-linolenic acid_metabolite_enzyme_sensor_GP' as it is a subset of GP 'Linoleic acid_metabolite_enzyme_sensor_GP'.\n",
      "Removing GP 'gamma-Linolenic acid_metabolite_enzyme_sensor_GP' as it is a subset of GP 'Linoleic acid_metabolite_enzyme_sensor_GP'.\n",
      "Removing GP 'Dihomo-gamma-linolenic acid_metabolite_enzyme_sensor_GP' as it is a subset of GP 'Stearic acid_metabolite_enzyme_sensor_GP'.\n",
      "Removing GP 'gamma-Linolenic acid_metabolite_enzyme_sensor_GP' as it is a subset of GP 'Stearic acid_metabolite_enzyme_sensor_GP'.\n",
      "Removing GP 'alpha-Linolenic acid_metabolite_enzyme_sensor_GP' as it is a subset of GP 'Arachidonic acid_metabolite_enzyme_sensor_GP'.\n",
      "Removing GP 'Dihomo-gamma-linolenic acid_metabolite_enzyme_sensor_GP' as it is a subset of GP 'Arachidonic acid_metabolite_enzyme_sensor_GP'.\n",
      "Removing GP 'gamma-Linolenic acid_metabolite_enzyme_sensor_GP' as it is a subset of GP 'Arachidonic acid_metabolite_enzyme_sensor_GP'.\n",
      "Removing GP 'Prostaglandin F2a_metabolite_enzyme_sensor_GP' as it is a subset of GP 'Prostaglandin E2_metabolite_enzyme_sensor_GP'.\n",
      "Removing GP '13-cis-Retinoic acid_metabolite_enzyme_sensor_GP' as it is a subset of GP 'Retinal_metabolite_enzyme_sensor_GP'.\n",
      "Removing GP 'Dihomo-gamma-linolenic acid_metabolite_enzyme_sensor_GP' as it is a subset of GP 'alpha-Linolenic acid_metabolite_enzyme_sensor_GP'.\n",
      "Removing GP 'gamma-Linolenic acid_metabolite_enzyme_sensor_GP' as it is a subset of GP 'alpha-Linolenic acid_metabolite_enzyme_sensor_GP'.\n",
      "Removing GP '13-cis-Retinoic acid_metabolite_enzyme_sensor_GP' as it is a subset of GP 'all-trans-Retinoic acid_metabolite_enzyme_sensor_GP'.\n",
      "Removing GP 'Docosahexaenoic acid_metabolite_enzyme_sensor_GP' as it is a subset of GP 'Eicosapentaenoic acid_metabolite_enzyme_sensor_GP'.\n",
      "Removing GP 'Eicosapentaenoic acid_metabolite_enzyme_sensor_GP' as it is a subset of GP 'Docosahexaenoic acid_metabolite_enzyme_sensor_GP'.\n",
      "Removing GP '13-cis-Retinoic acid_metabolite_enzyme_sensor_GP' as it is a subset of GP '9-cis-Retinoic acid_metabolite_enzyme_sensor_GP'.\n",
      "Removing GP 'gamma-Linolenic acid_metabolite_enzyme_sensor_GP' as it is a subset of GP 'Dihomo-gamma-linolenic acid_metabolite_enzyme_sensor_GP'.\n",
      "Removing GP 'Dihomo-gamma-linolenic acid_metabolite_enzyme_sensor_GP' as it is a subset of GP 'gamma-Linolenic acid_metabolite_enzyme_sensor_GP'.\n",
      "Removing GP 'Calcitriol_metabolite_enzyme_sensor_GP' as it is a subset of GP 'Calcidiol_metabolite_enzyme_sensor_GP'.\n",
      "Computing metrics for PCA...\n",
      "Computing GCS...\n",
      "Computing MLAMI...\n",
      "Computing CAS...\n"
     ]
    },
    {
     "name": "stderr",
     "output_type": "stream",
     "text": [
      "/home/sbirk/miniconda3/envs/autotalker/lib/python3.9/site-packages/squidpy/gr/_nhood.py:182: RuntimeWarning: invalid value encountered in divide\n",
      "  zscore = (count - perms.mean(axis=0)) / perms.std(axis=0)\n"
     ]
    },
    {
     "name": "stdout",
     "output_type": "stream",
     "text": [
      "493.5475538177342\n",
      "Computing CLISIS...\n",
      "Computing GERR2...\n",
      "Computing CCA...\n",
      "Computing GCS...\n",
      "Computing MLAMI...\n",
      "Computing CAS...\n"
     ]
    },
    {
     "name": "stderr",
     "output_type": "stream",
     "text": [
      "/home/sbirk/miniconda3/envs/autotalker/lib/python3.9/site-packages/squidpy/gr/_nhood.py:182: RuntimeWarning: invalid value encountered in divide\n",
      "  zscore = (count - perms.mean(axis=0)) / perms.std(axis=0)\n"
     ]
    },
    {
     "name": "stdout",
     "output_type": "stream",
     "text": [
      "492.4906321731881\n",
      "Computing CLISIS...\n",
      "Computing GERR2...\n",
      "Computing CCA...\n",
      "Computing GCS...\n",
      "Computing MLAMI...\n",
      "Computing CAS...\n"
     ]
    },
    {
     "name": "stderr",
     "output_type": "stream",
     "text": [
      "/home/sbirk/miniconda3/envs/autotalker/lib/python3.9/site-packages/squidpy/gr/_nhood.py:182: RuntimeWarning: invalid value encountered in divide\n",
      "  zscore = (count - perms.mean(axis=0)) / perms.std(axis=0)\n"
     ]
    },
    {
     "name": "stdout",
     "output_type": "stream",
     "text": [
      "492.9505855385374\n",
      "Computing CLISIS...\n",
      "Computing GERR2...\n",
      "Computing CCA...\n",
      "Computing GCS...\n",
      "Computing MLAMI...\n",
      "Computing CAS...\n"
     ]
    },
    {
     "name": "stderr",
     "output_type": "stream",
     "text": [
      "/home/sbirk/miniconda3/envs/autotalker/lib/python3.9/site-packages/squidpy/gr/_nhood.py:182: RuntimeWarning: invalid value encountered in divide\n",
      "  zscore = (count - perms.mean(axis=0)) / perms.std(axis=0)\n"
     ]
    },
    {
     "name": "stdout",
     "output_type": "stream",
     "text": [
      "492.9322549607962\n",
      "Computing CLISIS...\n",
      "Computing GERR2...\n",
      "Computing CCA...\n",
      "Computing GCS...\n",
      "Computing MLAMI...\n",
      "Computing CAS...\n"
     ]
    },
    {
     "name": "stderr",
     "output_type": "stream",
     "text": [
      "/home/sbirk/miniconda3/envs/autotalker/lib/python3.9/site-packages/squidpy/gr/_nhood.py:182: RuntimeWarning: invalid value encountered in divide\n",
      "  zscore = (count - perms.mean(axis=0)) / perms.std(axis=0)\n"
     ]
    },
    {
     "name": "stdout",
     "output_type": "stream",
     "text": [
      "493.78650362569215\n",
      "Computing CLISIS...\n",
      "Computing GERR2...\n",
      "Computing CCA...\n",
      "Computing GCS...\n",
      "Computing MLAMI...\n",
      "Computing CAS...\n"
     ]
    },
    {
     "name": "stderr",
     "output_type": "stream",
     "text": [
      "/home/sbirk/miniconda3/envs/autotalker/lib/python3.9/site-packages/squidpy/gr/_nhood.py:182: RuntimeWarning: invalid value encountered in divide\n",
      "  zscore = (count - perms.mean(axis=0)) / perms.std(axis=0)\n"
     ]
    },
    {
     "name": "stdout",
     "output_type": "stream",
     "text": [
      "492.98117119571316\n",
      "Computing CLISIS...\n",
      "Computing GERR2...\n",
      "Computing CCA...\n",
      "Computing GCS...\n",
      "Computing MLAMI...\n",
      "Computing CAS...\n"
     ]
    },
    {
     "name": "stderr",
     "output_type": "stream",
     "text": [
      "/home/sbirk/miniconda3/envs/autotalker/lib/python3.9/site-packages/squidpy/gr/_nhood.py:182: RuntimeWarning: invalid value encountered in divide\n",
      "  zscore = (count - perms.mean(axis=0)) / perms.std(axis=0)\n"
     ]
    },
    {
     "name": "stdout",
     "output_type": "stream",
     "text": [
      "493.43740160725156\n",
      "Computing CLISIS...\n",
      "Computing GERR2...\n",
      "Computing CCA...\n",
      "Computing GCS...\n",
      "Computing MLAMI...\n",
      "Computing CAS...\n"
     ]
    },
    {
     "name": "stderr",
     "output_type": "stream",
     "text": [
      "/home/sbirk/miniconda3/envs/autotalker/lib/python3.9/site-packages/squidpy/gr/_nhood.py:182: RuntimeWarning: invalid value encountered in divide\n",
      "  zscore = (count - perms.mean(axis=0)) / perms.std(axis=0)\n"
     ]
    },
    {
     "name": "stdout",
     "output_type": "stream",
     "text": [
      "492.56486581714444\n",
      "Computing CLISIS...\n",
      "Computing GERR2...\n",
      "Computing CCA...\n",
      "Computing GCS...\n",
      "Computing MLAMI...\n",
      "Computing CAS...\n"
     ]
    },
    {
     "name": "stderr",
     "output_type": "stream",
     "text": [
      "/home/sbirk/miniconda3/envs/autotalker/lib/python3.9/site-packages/squidpy/gr/_nhood.py:182: RuntimeWarning: invalid value encountered in divide\n",
      "  zscore = (count - perms.mean(axis=0)) / perms.std(axis=0)\n"
     ]
    },
    {
     "name": "stdout",
     "output_type": "stream",
     "text": [
      "493.47359348512856\n",
      "Computing CLISIS...\n",
      "Computing GERR2...\n",
      "Computing CCA...\n",
      "Computing GCS...\n",
      "Computing MLAMI...\n",
      "Computing CAS...\n"
     ]
    },
    {
     "name": "stderr",
     "output_type": "stream",
     "text": [
      "/home/sbirk/miniconda3/envs/autotalker/lib/python3.9/site-packages/squidpy/gr/_nhood.py:182: RuntimeWarning: invalid value encountered in divide\n",
      "  zscore = (count - perms.mean(axis=0)) / perms.std(axis=0)\n"
     ]
    },
    {
     "name": "stdout",
     "output_type": "stream",
     "text": [
      "492.8620702624962\n",
      "Computing CLISIS...\n",
      "Computing GERR2...\n",
      "Computing CCA...\n",
      "\n",
      "Computing metrics for scVI...\n",
      "Computing GCS...\n",
      "Computing MLAMI...\n",
      "Computing CAS...\n"
     ]
    },
    {
     "name": "stderr",
     "output_type": "stream",
     "text": [
      "/home/sbirk/miniconda3/envs/autotalker/lib/python3.9/site-packages/squidpy/gr/_nhood.py:182: RuntimeWarning: invalid value encountered in divide\n",
      "  zscore = (count - perms.mean(axis=0)) / perms.std(axis=0)\n"
     ]
    },
    {
     "name": "stdout",
     "output_type": "stream",
     "text": [
      "488.91366105059507\n",
      "Computing CLISIS...\n",
      "Computing GERR2...\n",
      "Computing CCA...\n",
      "Computing GCS...\n",
      "Computing MLAMI...\n",
      "Computing CAS...\n"
     ]
    },
    {
     "name": "stderr",
     "output_type": "stream",
     "text": [
      "/home/sbirk/miniconda3/envs/autotalker/lib/python3.9/site-packages/squidpy/gr/_nhood.py:182: RuntimeWarning: invalid value encountered in divide\n",
      "  zscore = (count - perms.mean(axis=0)) / perms.std(axis=0)\n"
     ]
    },
    {
     "name": "stdout",
     "output_type": "stream",
     "text": [
      "500.5947935867778\n",
      "Computing CLISIS...\n",
      "Computing GERR2...\n",
      "Computing CCA...\n",
      "Computing GCS...\n",
      "Computing MLAMI...\n",
      "Computing CAS...\n"
     ]
    },
    {
     "name": "stderr",
     "output_type": "stream",
     "text": [
      "/home/sbirk/miniconda3/envs/autotalker/lib/python3.9/site-packages/squidpy/gr/_nhood.py:182: RuntimeWarning: invalid value encountered in divide\n",
      "  zscore = (count - perms.mean(axis=0)) / perms.std(axis=0)\n"
     ]
    },
    {
     "name": "stdout",
     "output_type": "stream",
     "text": [
      "490.06078176516667\n",
      "Computing CLISIS...\n",
      "Computing GERR2...\n",
      "Computing CCA...\n",
      "Computing GCS...\n",
      "Computing MLAMI...\n",
      "Computing CAS...\n"
     ]
    },
    {
     "name": "stderr",
     "output_type": "stream",
     "text": [
      "/home/sbirk/miniconda3/envs/autotalker/lib/python3.9/site-packages/squidpy/gr/_nhood.py:182: RuntimeWarning: invalid value encountered in divide\n",
      "  zscore = (count - perms.mean(axis=0)) / perms.std(axis=0)\n"
     ]
    },
    {
     "name": "stdout",
     "output_type": "stream",
     "text": [
      "489.7943470415343\n",
      "Computing CLISIS...\n",
      "Computing GERR2...\n",
      "Computing CCA...\n",
      "Computing GCS...\n",
      "Computing MLAMI...\n",
      "Computing CAS...\n"
     ]
    },
    {
     "name": "stderr",
     "output_type": "stream",
     "text": [
      "/home/sbirk/miniconda3/envs/autotalker/lib/python3.9/site-packages/squidpy/gr/_nhood.py:182: RuntimeWarning: invalid value encountered in divide\n",
      "  zscore = (count - perms.mean(axis=0)) / perms.std(axis=0)\n"
     ]
    },
    {
     "name": "stdout",
     "output_type": "stream",
     "text": [
      "507.3092255048466\n",
      "Computing CLISIS...\n",
      "Computing GERR2...\n",
      "Computing CCA...\n",
      "Computing GCS...\n",
      "Computing MLAMI...\n",
      "Computing CAS...\n"
     ]
    },
    {
     "name": "stderr",
     "output_type": "stream",
     "text": [
      "/home/sbirk/miniconda3/envs/autotalker/lib/python3.9/site-packages/squidpy/gr/_nhood.py:182: RuntimeWarning: invalid value encountered in divide\n",
      "  zscore = (count - perms.mean(axis=0)) / perms.std(axis=0)\n"
     ]
    },
    {
     "name": "stdout",
     "output_type": "stream",
     "text": [
      "499.7134318974363\n",
      "Computing CLISIS...\n",
      "Computing GERR2...\n",
      "Computing CCA...\n",
      "Computing GCS...\n",
      "Computing MLAMI...\n",
      "Computing CAS...\n"
     ]
    },
    {
     "name": "stderr",
     "output_type": "stream",
     "text": [
      "/home/sbirk/miniconda3/envs/autotalker/lib/python3.9/site-packages/squidpy/gr/_nhood.py:182: RuntimeWarning: invalid value encountered in divide\n",
      "  zscore = (count - perms.mean(axis=0)) / perms.std(axis=0)\n"
     ]
    },
    {
     "name": "stdout",
     "output_type": "stream",
     "text": [
      "494.1156023922665\n",
      "Computing CLISIS...\n",
      "Computing GERR2...\n",
      "Computing CCA...\n",
      "Computing GCS...\n",
      "Computing MLAMI...\n",
      "Computing CAS...\n"
     ]
    },
    {
     "name": "stderr",
     "output_type": "stream",
     "text": [
      "/home/sbirk/miniconda3/envs/autotalker/lib/python3.9/site-packages/squidpy/gr/_nhood.py:182: RuntimeWarning: invalid value encountered in divide\n",
      "  zscore = (count - perms.mean(axis=0)) / perms.std(axis=0)\n"
     ]
    },
    {
     "name": "stdout",
     "output_type": "stream",
     "text": [
      "484.09862883334995\n",
      "Computing CLISIS...\n",
      "Computing GERR2...\n",
      "Computing CCA...\n",
      "Computing GCS...\n",
      "Computing MLAMI...\n",
      "Computing CAS...\n"
     ]
    },
    {
     "name": "stderr",
     "output_type": "stream",
     "text": [
      "/home/sbirk/miniconda3/envs/autotalker/lib/python3.9/site-packages/squidpy/gr/_nhood.py:182: RuntimeWarning: invalid value encountered in divide\n",
      "  zscore = (count - perms.mean(axis=0)) / perms.std(axis=0)\n"
     ]
    },
    {
     "name": "stdout",
     "output_type": "stream",
     "text": [
      "501.3806408164547\n",
      "Computing CLISIS...\n",
      "Computing GERR2...\n",
      "Computing CCA...\n",
      "Computing GCS...\n",
      "Computing MLAMI...\n",
      "Computing CAS...\n"
     ]
    },
    {
     "name": "stderr",
     "output_type": "stream",
     "text": [
      "/home/sbirk/miniconda3/envs/autotalker/lib/python3.9/site-packages/squidpy/gr/_nhood.py:182: RuntimeWarning: invalid value encountered in divide\n",
      "  zscore = (count - perms.mean(axis=0)) / perms.std(axis=0)\n"
     ]
    },
    {
     "name": "stdout",
     "output_type": "stream",
     "text": [
      "500.41878044173285\n",
      "Computing CLISIS...\n",
      "Computing GERR2...\n",
      "Computing CCA...\n",
      "\n",
      "Computing metrics for expiMap...\n",
      "Computing GCS...\n",
      "Computing MLAMI...\n",
      "Computing CAS...\n"
     ]
    },
    {
     "name": "stderr",
     "output_type": "stream",
     "text": [
      "/home/sbirk/miniconda3/envs/autotalker/lib/python3.9/site-packages/squidpy/gr/_nhood.py:182: RuntimeWarning: invalid value encountered in divide\n",
      "  zscore = (count - perms.mean(axis=0)) / perms.std(axis=0)\n"
     ]
    },
    {
     "name": "stdout",
     "output_type": "stream",
     "text": [
      "546.9360860790147\n",
      "Computing CLISIS...\n",
      "Computing GERR2...\n",
      "Computing CCA...\n",
      "Computing GCS...\n",
      "Computing MLAMI...\n",
      "Computing CAS...\n"
     ]
    },
    {
     "name": "stderr",
     "output_type": "stream",
     "text": [
      "/home/sbirk/miniconda3/envs/autotalker/lib/python3.9/site-packages/squidpy/gr/_nhood.py:182: RuntimeWarning: invalid value encountered in divide\n",
      "  zscore = (count - perms.mean(axis=0)) / perms.std(axis=0)\n"
     ]
    },
    {
     "name": "stdout",
     "output_type": "stream",
     "text": [
      "522.9445021055642\n",
      "Computing CLISIS...\n",
      "Computing GERR2...\n",
      "Computing CCA...\n",
      "Computing GCS...\n",
      "Computing MLAMI...\n",
      "Computing CAS...\n"
     ]
    },
    {
     "name": "stderr",
     "output_type": "stream",
     "text": [
      "/home/sbirk/miniconda3/envs/autotalker/lib/python3.9/site-packages/squidpy/gr/_nhood.py:182: RuntimeWarning: invalid value encountered in divide\n",
      "  zscore = (count - perms.mean(axis=0)) / perms.std(axis=0)\n"
     ]
    },
    {
     "name": "stdout",
     "output_type": "stream",
     "text": [
      "521.1489450362113\n",
      "Computing CLISIS...\n",
      "Computing GERR2...\n",
      "Computing CCA...\n",
      "Computing GCS...\n",
      "Computing MLAMI...\n",
      "Computing CAS...\n"
     ]
    },
    {
     "name": "stderr",
     "output_type": "stream",
     "text": [
      "/home/sbirk/miniconda3/envs/autotalker/lib/python3.9/site-packages/squidpy/gr/_nhood.py:182: RuntimeWarning: invalid value encountered in divide\n",
      "  zscore = (count - perms.mean(axis=0)) / perms.std(axis=0)\n"
     ]
    },
    {
     "name": "stdout",
     "output_type": "stream",
     "text": [
      "543.7711611892092\n",
      "Computing CLISIS...\n",
      "Computing GERR2...\n",
      "Computing CCA...\n",
      "Computing GCS...\n",
      "Computing MLAMI...\n",
      "Computing CAS...\n"
     ]
    },
    {
     "name": "stderr",
     "output_type": "stream",
     "text": [
      "/home/sbirk/miniconda3/envs/autotalker/lib/python3.9/site-packages/squidpy/gr/_nhood.py:182: RuntimeWarning: invalid value encountered in divide\n",
      "  zscore = (count - perms.mean(axis=0)) / perms.std(axis=0)\n"
     ]
    },
    {
     "name": "stdout",
     "output_type": "stream",
     "text": [
      "542.0065082958512\n",
      "Computing CLISIS...\n",
      "Computing GERR2...\n",
      "Computing CCA...\n",
      "Computing GCS...\n",
      "Computing MLAMI...\n",
      "Computing CAS...\n"
     ]
    },
    {
     "name": "stderr",
     "output_type": "stream",
     "text": [
      "/home/sbirk/miniconda3/envs/autotalker/lib/python3.9/site-packages/squidpy/gr/_nhood.py:182: RuntimeWarning: invalid value encountered in divide\n",
      "  zscore = (count - perms.mean(axis=0)) / perms.std(axis=0)\n"
     ]
    },
    {
     "name": "stdout",
     "output_type": "stream",
     "text": [
      "517.4456526786613\n",
      "Computing CLISIS...\n",
      "Computing GERR2...\n",
      "Computing CCA...\n",
      "Computing GCS...\n",
      "Computing MLAMI...\n",
      "Computing CAS...\n"
     ]
    },
    {
     "name": "stderr",
     "output_type": "stream",
     "text": [
      "/home/sbirk/miniconda3/envs/autotalker/lib/python3.9/site-packages/squidpy/gr/_nhood.py:182: RuntimeWarning: invalid value encountered in divide\n",
      "  zscore = (count - perms.mean(axis=0)) / perms.std(axis=0)\n"
     ]
    },
    {
     "name": "stdout",
     "output_type": "stream",
     "text": [
      "525.2632343595603\n",
      "Computing CLISIS...\n",
      "Computing GERR2...\n",
      "Computing CCA...\n",
      "Computing GCS...\n",
      "Computing MLAMI...\n",
      "Computing CAS...\n"
     ]
    },
    {
     "name": "stderr",
     "output_type": "stream",
     "text": [
      "/home/sbirk/miniconda3/envs/autotalker/lib/python3.9/site-packages/squidpy/gr/_nhood.py:182: RuntimeWarning: invalid value encountered in divide\n",
      "  zscore = (count - perms.mean(axis=0)) / perms.std(axis=0)\n"
     ]
    },
    {
     "name": "stdout",
     "output_type": "stream",
     "text": [
      "514.0090964761208\n",
      "Computing CLISIS...\n",
      "Computing GERR2...\n",
      "Computing CCA...\n",
      "Computing GCS...\n",
      "Computing MLAMI...\n",
      "Computing CAS...\n"
     ]
    },
    {
     "name": "stderr",
     "output_type": "stream",
     "text": [
      "/home/sbirk/miniconda3/envs/autotalker/lib/python3.9/site-packages/squidpy/gr/_nhood.py:182: RuntimeWarning: invalid value encountered in divide\n",
      "  zscore = (count - perms.mean(axis=0)) / perms.std(axis=0)\n"
     ]
    },
    {
     "name": "stdout",
     "output_type": "stream",
     "text": [
      "519.4873436439317\n",
      "Computing CLISIS...\n",
      "Computing GERR2...\n",
      "Computing CCA...\n",
      "Computing GCS...\n",
      "Computing MLAMI...\n",
      "Computing CAS...\n"
     ]
    },
    {
     "name": "stderr",
     "output_type": "stream",
     "text": [
      "/home/sbirk/miniconda3/envs/autotalker/lib/python3.9/site-packages/squidpy/gr/_nhood.py:182: RuntimeWarning: invalid value encountered in divide\n",
      "  zscore = (count - perms.mean(axis=0)) / perms.std(axis=0)\n"
     ]
    },
    {
     "name": "stdout",
     "output_type": "stream",
     "text": [
      "515.2549877010646\n",
      "Computing CLISIS...\n",
      "Computing GERR2...\n",
      "Computing CCA...\n",
      "\n",
      "Computing metrics for SageNet...\n",
      "Computing GCS...\n",
      "Computing MLAMI...\n",
      "Computing CAS...\n"
     ]
    },
    {
     "name": "stderr",
     "output_type": "stream",
     "text": [
      "/home/sbirk/miniconda3/envs/autotalker/lib/python3.9/site-packages/squidpy/gr/_nhood.py:182: RuntimeWarning: invalid value encountered in divide\n",
      "  zscore = (count - perms.mean(axis=0)) / perms.std(axis=0)\n"
     ]
    },
    {
     "name": "stdout",
     "output_type": "stream",
     "text": [
      "247.22893586835\n",
      "Computing CLISIS...\n",
      "Computing GERR2...\n",
      "Computing CCA...\n",
      "Computing GCS...\n",
      "Computing MLAMI...\n",
      "Computing CAS...\n"
     ]
    },
    {
     "name": "stderr",
     "output_type": "stream",
     "text": [
      "/home/sbirk/miniconda3/envs/autotalker/lib/python3.9/site-packages/squidpy/gr/_nhood.py:182: RuntimeWarning: invalid value encountered in divide\n",
      "  zscore = (count - perms.mean(axis=0)) / perms.std(axis=0)\n"
     ]
    },
    {
     "name": "stdout",
     "output_type": "stream",
     "text": [
      "240.25244600163893\n",
      "Computing CLISIS...\n",
      "Computing GERR2...\n",
      "Computing CCA...\n",
      "Computing GCS...\n",
      "Computing MLAMI...\n",
      "Computing CAS...\n"
     ]
    },
    {
     "name": "stderr",
     "output_type": "stream",
     "text": [
      "/home/sbirk/miniconda3/envs/autotalker/lib/python3.9/site-packages/squidpy/gr/_nhood.py:182: RuntimeWarning: invalid value encountered in divide\n",
      "  zscore = (count - perms.mean(axis=0)) / perms.std(axis=0)\n"
     ]
    },
    {
     "name": "stdout",
     "output_type": "stream",
     "text": [
      "267.8886774790326\n",
      "Computing CLISIS...\n",
      "Computing GERR2...\n",
      "Computing CCA...\n",
      "Computing GCS...\n",
      "Computing MLAMI...\n",
      "Computing CAS...\n"
     ]
    },
    {
     "name": "stderr",
     "output_type": "stream",
     "text": [
      "/home/sbirk/miniconda3/envs/autotalker/lib/python3.9/site-packages/squidpy/gr/_nhood.py:182: RuntimeWarning: invalid value encountered in divide\n",
      "  zscore = (count - perms.mean(axis=0)) / perms.std(axis=0)\n"
     ]
    },
    {
     "name": "stdout",
     "output_type": "stream",
     "text": [
      "258.8726807780733\n",
      "Computing CLISIS...\n",
      "Computing GERR2...\n",
      "Computing CCA...\n",
      "Computing GCS...\n",
      "Computing MLAMI...\n",
      "Computing CAS...\n"
     ]
    },
    {
     "name": "stderr",
     "output_type": "stream",
     "text": [
      "/home/sbirk/miniconda3/envs/autotalker/lib/python3.9/site-packages/squidpy/gr/_nhood.py:182: RuntimeWarning: invalid value encountered in divide\n",
      "  zscore = (count - perms.mean(axis=0)) / perms.std(axis=0)\n"
     ]
    },
    {
     "name": "stdout",
     "output_type": "stream",
     "text": [
      "316.5952478166367\n",
      "Computing CLISIS...\n",
      "Computing GERR2...\n",
      "Computing CCA...\n",
      "Computing GCS...\n",
      "Computing MLAMI...\n",
      "Computing CAS...\n"
     ]
    },
    {
     "name": "stderr",
     "output_type": "stream",
     "text": [
      "/home/sbirk/miniconda3/envs/autotalker/lib/python3.9/site-packages/squidpy/gr/_nhood.py:182: RuntimeWarning: invalid value encountered in divide\n",
      "  zscore = (count - perms.mean(axis=0)) / perms.std(axis=0)\n"
     ]
    },
    {
     "name": "stdout",
     "output_type": "stream",
     "text": [
      "319.75418354850143\n",
      "Computing CLISIS...\n",
      "Computing GERR2...\n",
      "Computing CCA...\n",
      "Computing GCS...\n",
      "Computing MLAMI...\n",
      "Computing CAS...\n"
     ]
    },
    {
     "name": "stderr",
     "output_type": "stream",
     "text": [
      "/home/sbirk/miniconda3/envs/autotalker/lib/python3.9/site-packages/squidpy/gr/_nhood.py:182: RuntimeWarning: invalid value encountered in divide\n",
      "  zscore = (count - perms.mean(axis=0)) / perms.std(axis=0)\n"
     ]
    },
    {
     "name": "stdout",
     "output_type": "stream",
     "text": [
      "321.332733470084\n",
      "Computing CLISIS...\n",
      "Computing GERR2...\n",
      "Computing CCA...\n",
      "Computing GCS...\n",
      "Computing MLAMI...\n",
      "Computing CAS...\n"
     ]
    },
    {
     "name": "stderr",
     "output_type": "stream",
     "text": [
      "/home/sbirk/miniconda3/envs/autotalker/lib/python3.9/site-packages/squidpy/gr/_nhood.py:182: RuntimeWarning: invalid value encountered in divide\n",
      "  zscore = (count - perms.mean(axis=0)) / perms.std(axis=0)\n"
     ]
    },
    {
     "name": "stdout",
     "output_type": "stream",
     "text": [
      "313.4891223645581\n",
      "Computing CLISIS...\n",
      "Computing GERR2...\n",
      "Computing CCA...\n",
      "Computing GCS...\n",
      "Computing MLAMI...\n",
      "Computing CAS...\n"
     ]
    },
    {
     "name": "stderr",
     "output_type": "stream",
     "text": [
      "/home/sbirk/miniconda3/envs/autotalker/lib/python3.9/site-packages/squidpy/gr/_nhood.py:182: RuntimeWarning: invalid value encountered in divide\n",
      "  zscore = (count - perms.mean(axis=0)) / perms.std(axis=0)\n"
     ]
    },
    {
     "name": "stdout",
     "output_type": "stream",
     "text": [
      "334.7285056398724\n",
      "Computing CLISIS...\n",
      "Computing GERR2...\n",
      "Computing CCA...\n",
      "Computing GCS...\n",
      "Computing MLAMI...\n",
      "Computing CAS...\n"
     ]
    },
    {
     "name": "stderr",
     "output_type": "stream",
     "text": [
      "/home/sbirk/miniconda3/envs/autotalker/lib/python3.9/site-packages/squidpy/gr/_nhood.py:182: RuntimeWarning: invalid value encountered in divide\n",
      "  zscore = (count - perms.mean(axis=0)) / perms.std(axis=0)\n"
     ]
    },
    {
     "name": "stdout",
     "output_type": "stream",
     "text": [
      "333.72706854629945\n",
      "Computing CLISIS...\n",
      "Computing GERR2...\n",
      "Computing CCA...\n",
      "\n",
      "Computing metrics for DeepLinc...\n",
      "Computing GCS...\n",
      "Computing MLAMI...\n",
      "Computing CAS...\n"
     ]
    },
    {
     "name": "stderr",
     "output_type": "stream",
     "text": [
      "/home/sbirk/miniconda3/envs/autotalker/lib/python3.9/site-packages/squidpy/gr/_nhood.py:182: RuntimeWarning: invalid value encountered in divide\n",
      "  zscore = (count - perms.mean(axis=0)) / perms.std(axis=0)\n"
     ]
    },
    {
     "name": "stdout",
     "output_type": "stream",
     "text": [
      "263.6069117085311\n",
      "Computing CLISIS...\n",
      "Computing GERR2...\n",
      "Computing CCA...\n",
      "Computing GCS...\n",
      "Computing MLAMI...\n",
      "Computing CAS...\n"
     ]
    },
    {
     "name": "stderr",
     "output_type": "stream",
     "text": [
      "/home/sbirk/miniconda3/envs/autotalker/lib/python3.9/site-packages/squidpy/gr/_nhood.py:182: RuntimeWarning: invalid value encountered in divide\n",
      "  zscore = (count - perms.mean(axis=0)) / perms.std(axis=0)\n"
     ]
    },
    {
     "name": "stdout",
     "output_type": "stream",
     "text": [
      "209.27507167077962\n",
      "Computing CLISIS...\n",
      "Computing GERR2...\n",
      "Computing CCA...\n",
      "Computing GCS...\n",
      "Computing MLAMI...\n",
      "Computing CAS...\n"
     ]
    },
    {
     "name": "stderr",
     "output_type": "stream",
     "text": [
      "/home/sbirk/miniconda3/envs/autotalker/lib/python3.9/site-packages/squidpy/gr/_nhood.py:182: RuntimeWarning: invalid value encountered in divide\n",
      "  zscore = (count - perms.mean(axis=0)) / perms.std(axis=0)\n"
     ]
    },
    {
     "name": "stdout",
     "output_type": "stream",
     "text": [
      "176.83853667653347\n",
      "Computing CLISIS...\n",
      "Computing GERR2...\n",
      "Computing CCA...\n",
      "Computing GCS...\n",
      "Computing MLAMI...\n",
      "Computing CAS...\n"
     ]
    },
    {
     "name": "stderr",
     "output_type": "stream",
     "text": [
      "/home/sbirk/miniconda3/envs/autotalker/lib/python3.9/site-packages/squidpy/gr/_nhood.py:182: RuntimeWarning: invalid value encountered in divide\n",
      "  zscore = (count - perms.mean(axis=0)) / perms.std(axis=0)\n"
     ]
    },
    {
     "name": "stdout",
     "output_type": "stream",
     "text": [
      "147.05476446417794\n",
      "Computing CLISIS...\n",
      "Computing GERR2...\n",
      "Computing CCA...\n",
      "Computing GCS...\n",
      "Computing MLAMI...\n",
      "Computing CAS...\n"
     ]
    },
    {
     "name": "stderr",
     "output_type": "stream",
     "text": [
      "/home/sbirk/miniconda3/envs/autotalker/lib/python3.9/site-packages/squidpy/gr/_nhood.py:182: RuntimeWarning: invalid value encountered in divide\n",
      "  zscore = (count - perms.mean(axis=0)) / perms.std(axis=0)\n"
     ]
    },
    {
     "name": "stdout",
     "output_type": "stream",
     "text": [
      "130.96333743497206\n",
      "Computing CLISIS...\n",
      "Computing GERR2...\n",
      "Computing CCA...\n",
      "Computing GCS...\n",
      "Computing MLAMI...\n",
      "Computing CAS...\n"
     ]
    },
    {
     "name": "stderr",
     "output_type": "stream",
     "text": [
      "/home/sbirk/miniconda3/envs/autotalker/lib/python3.9/site-packages/squidpy/gr/_nhood.py:182: RuntimeWarning: invalid value encountered in divide\n",
      "  zscore = (count - perms.mean(axis=0)) / perms.std(axis=0)\n"
     ]
    },
    {
     "name": "stdout",
     "output_type": "stream",
     "text": [
      "124.40205129076449\n",
      "Computing CLISIS...\n",
      "Computing GERR2...\n",
      "Computing CCA...\n",
      "Computing GCS...\n",
      "Computing MLAMI...\n",
      "Computing CAS...\n"
     ]
    },
    {
     "name": "stderr",
     "output_type": "stream",
     "text": [
      "/home/sbirk/miniconda3/envs/autotalker/lib/python3.9/site-packages/squidpy/gr/_nhood.py:182: RuntimeWarning: invalid value encountered in divide\n",
      "  zscore = (count - perms.mean(axis=0)) / perms.std(axis=0)\n"
     ]
    },
    {
     "name": "stdout",
     "output_type": "stream",
     "text": [
      "129.86366652490392\n",
      "Computing CLISIS...\n",
      "Computing GERR2...\n",
      "Computing CCA...\n",
      "Computing GCS...\n",
      "Computing MLAMI...\n",
      "Computing CAS...\n"
     ]
    },
    {
     "name": "stderr",
     "output_type": "stream",
     "text": [
      "/home/sbirk/miniconda3/envs/autotalker/lib/python3.9/site-packages/squidpy/gr/_nhood.py:182: RuntimeWarning: invalid value encountered in divide\n",
      "  zscore = (count - perms.mean(axis=0)) / perms.std(axis=0)\n"
     ]
    },
    {
     "name": "stdout",
     "output_type": "stream",
     "text": [
      "130.28105884436096\n",
      "Computing CLISIS...\n",
      "Computing GERR2...\n",
      "Computing CCA...\n"
     ]
    },
    {
     "name": "stderr",
     "output_type": "stream",
     "text": [
      "/home/sbirk/miniconda3/envs/autotalker/lib/python3.9/site-packages/sklearn/neural_network/_multilayer_perceptron.py:684: ConvergenceWarning: Stochastic Optimizer: Maximum iterations (500) reached and the optimization hasn't converged yet.\n",
      "  warnings.warn(\n"
     ]
    },
    {
     "name": "stdout",
     "output_type": "stream",
     "text": [
      "Computing GCS...\n",
      "Computing MLAMI...\n",
      "Computing CAS...\n"
     ]
    },
    {
     "name": "stderr",
     "output_type": "stream",
     "text": [
      "/home/sbirk/miniconda3/envs/autotalker/lib/python3.9/site-packages/squidpy/gr/_nhood.py:182: RuntimeWarning: invalid value encountered in divide\n",
      "  zscore = (count - perms.mean(axis=0)) / perms.std(axis=0)\n"
     ]
    },
    {
     "name": "stdout",
     "output_type": "stream",
     "text": [
      "109.81416480393982\n",
      "Computing CLISIS...\n",
      "Computing GERR2...\n",
      "Computing CCA...\n",
      "Computing GCS...\n",
      "Computing MLAMI...\n",
      "Computing CAS...\n"
     ]
    },
    {
     "name": "stderr",
     "output_type": "stream",
     "text": [
      "/home/sbirk/miniconda3/envs/autotalker/lib/python3.9/site-packages/squidpy/gr/_nhood.py:182: RuntimeWarning: invalid value encountered in divide\n",
      "  zscore = (count - perms.mean(axis=0)) / perms.std(axis=0)\n"
     ]
    },
    {
     "name": "stdout",
     "output_type": "stream",
     "text": [
      "137.52698305769928\n",
      "Computing CLISIS...\n",
      "Computing GERR2...\n",
      "Computing CCA...\n",
      "\n",
      "Computing metrics for GraphST...\n",
      "Computing GCS...\n",
      "Computing MLAMI...\n",
      "Computing CAS...\n"
     ]
    },
    {
     "name": "stderr",
     "output_type": "stream",
     "text": [
      "/home/sbirk/miniconda3/envs/autotalker/lib/python3.9/site-packages/squidpy/gr/_nhood.py:182: RuntimeWarning: invalid value encountered in divide\n",
      "  zscore = (count - perms.mean(axis=0)) / perms.std(axis=0)\n"
     ]
    },
    {
     "name": "stdout",
     "output_type": "stream",
     "text": [
      "244.42334232221546\n",
      "Computing CLISIS...\n",
      "Computing GERR2...\n",
      "Computing CCA...\n",
      "Computing GCS...\n",
      "Computing MLAMI...\n",
      "Computing CAS...\n"
     ]
    },
    {
     "name": "stderr",
     "output_type": "stream",
     "text": [
      "/home/sbirk/miniconda3/envs/autotalker/lib/python3.9/site-packages/squidpy/gr/_nhood.py:182: RuntimeWarning: invalid value encountered in divide\n",
      "  zscore = (count - perms.mean(axis=0)) / perms.std(axis=0)\n"
     ]
    },
    {
     "name": "stdout",
     "output_type": "stream",
     "text": [
      "229.58915468067764\n",
      "Computing CLISIS...\n",
      "Computing GERR2...\n",
      "Computing CCA...\n",
      "Computing GCS...\n",
      "Computing MLAMI...\n",
      "Computing CAS...\n"
     ]
    },
    {
     "name": "stderr",
     "output_type": "stream",
     "text": [
      "/home/sbirk/miniconda3/envs/autotalker/lib/python3.9/site-packages/squidpy/gr/_nhood.py:182: RuntimeWarning: invalid value encountered in divide\n",
      "  zscore = (count - perms.mean(axis=0)) / perms.std(axis=0)\n"
     ]
    },
    {
     "name": "stdout",
     "output_type": "stream",
     "text": [
      "190.2965194334056\n",
      "Computing CLISIS...\n",
      "Computing GERR2...\n",
      "Computing CCA...\n",
      "Computing GCS...\n",
      "Computing MLAMI...\n",
      "Computing CAS...\n"
     ]
    },
    {
     "name": "stderr",
     "output_type": "stream",
     "text": [
      "/home/sbirk/miniconda3/envs/autotalker/lib/python3.9/site-packages/squidpy/gr/_nhood.py:182: RuntimeWarning: invalid value encountered in divide\n",
      "  zscore = (count - perms.mean(axis=0)) / perms.std(axis=0)\n"
     ]
    },
    {
     "name": "stdout",
     "output_type": "stream",
     "text": [
      "196.47993303070876\n",
      "Computing CLISIS...\n",
      "Computing GERR2...\n",
      "Computing CCA...\n",
      "Computing GCS...\n",
      "Computing MLAMI...\n",
      "Computing CAS...\n"
     ]
    },
    {
     "name": "stderr",
     "output_type": "stream",
     "text": [
      "/home/sbirk/miniconda3/envs/autotalker/lib/python3.9/site-packages/squidpy/gr/_nhood.py:182: RuntimeWarning: invalid value encountered in divide\n",
      "  zscore = (count - perms.mean(axis=0)) / perms.std(axis=0)\n"
     ]
    },
    {
     "name": "stdout",
     "output_type": "stream",
     "text": [
      "188.16025925048024\n",
      "Computing CLISIS...\n",
      "Computing GERR2...\n",
      "Computing CCA...\n",
      "Computing GCS...\n",
      "Computing MLAMI...\n",
      "Computing CAS...\n"
     ]
    },
    {
     "name": "stderr",
     "output_type": "stream",
     "text": [
      "/home/sbirk/miniconda3/envs/autotalker/lib/python3.9/site-packages/squidpy/gr/_nhood.py:182: RuntimeWarning: invalid value encountered in divide\n",
      "  zscore = (count - perms.mean(axis=0)) / perms.std(axis=0)\n"
     ]
    },
    {
     "name": "stdout",
     "output_type": "stream",
     "text": [
      "183.95024057896822\n",
      "Computing CLISIS...\n",
      "Computing GERR2...\n",
      "Computing CCA...\n",
      "Computing GCS...\n",
      "Computing MLAMI...\n",
      "Computing CAS...\n"
     ]
    },
    {
     "name": "stderr",
     "output_type": "stream",
     "text": [
      "/home/sbirk/miniconda3/envs/autotalker/lib/python3.9/site-packages/squidpy/gr/_nhood.py:182: RuntimeWarning: invalid value encountered in divide\n",
      "  zscore = (count - perms.mean(axis=0)) / perms.std(axis=0)\n"
     ]
    },
    {
     "name": "stdout",
     "output_type": "stream",
     "text": [
      "180.18798071434728\n",
      "Computing CLISIS...\n",
      "Computing GERR2...\n",
      "Computing CCA...\n",
      "Computing GCS...\n",
      "Computing MLAMI...\n",
      "Computing CAS...\n"
     ]
    },
    {
     "name": "stderr",
     "output_type": "stream",
     "text": [
      "/home/sbirk/miniconda3/envs/autotalker/lib/python3.9/site-packages/squidpy/gr/_nhood.py:182: RuntimeWarning: invalid value encountered in divide\n",
      "  zscore = (count - perms.mean(axis=0)) / perms.std(axis=0)\n"
     ]
    },
    {
     "name": "stdout",
     "output_type": "stream",
     "text": [
      "187.0276580956421\n",
      "Computing CLISIS...\n",
      "Computing GERR2...\n",
      "Computing CCA...\n",
      "Computing GCS...\n",
      "Computing MLAMI...\n",
      "Computing CAS...\n"
     ]
    },
    {
     "name": "stderr",
     "output_type": "stream",
     "text": [
      "/home/sbirk/miniconda3/envs/autotalker/lib/python3.9/site-packages/squidpy/gr/_nhood.py:182: RuntimeWarning: invalid value encountered in divide\n",
      "  zscore = (count - perms.mean(axis=0)) / perms.std(axis=0)\n"
     ]
    },
    {
     "name": "stdout",
     "output_type": "stream",
     "text": [
      "190.78583004118568\n",
      "Computing CLISIS...\n",
      "Computing GERR2...\n",
      "Computing CCA...\n",
      "Computing GCS...\n",
      "Computing MLAMI...\n",
      "Computing CAS...\n"
     ]
    },
    {
     "name": "stderr",
     "output_type": "stream",
     "text": [
      "/home/sbirk/miniconda3/envs/autotalker/lib/python3.9/site-packages/squidpy/gr/_nhood.py:182: RuntimeWarning: invalid value encountered in divide\n",
      "  zscore = (count - perms.mean(axis=0)) / perms.std(axis=0)\n"
     ]
    },
    {
     "name": "stdout",
     "output_type": "stream",
     "text": [
      "192.11659452770434\n",
      "Computing CLISIS...\n",
      "Computing GERR2...\n",
      "Computing CCA...\n",
      "\n",
      "Computing metrics for Autotalker...\n",
      "Computing GCS...\n",
      "Computing MLAMI...\n",
      "Computing CAS...\n"
     ]
    },
    {
     "name": "stderr",
     "output_type": "stream",
     "text": [
      "/home/sbirk/miniconda3/envs/autotalker/lib/python3.9/site-packages/squidpy/gr/_nhood.py:182: RuntimeWarning: invalid value encountered in divide\n",
      "  zscore = (count - perms.mean(axis=0)) / perms.std(axis=0)\n"
     ]
    },
    {
     "name": "stdout",
     "output_type": "stream",
     "text": [
      "196.93298416494008\n",
      "Computing CLISIS...\n",
      "Computing GERR2...\n",
      "Computing CCA...\n",
      "Computing GCS...\n",
      "Computing MLAMI...\n",
      "Computing CAS...\n"
     ]
    },
    {
     "name": "stderr",
     "output_type": "stream",
     "text": [
      "/home/sbirk/miniconda3/envs/autotalker/lib/python3.9/site-packages/squidpy/gr/_nhood.py:182: RuntimeWarning: invalid value encountered in divide\n",
      "  zscore = (count - perms.mean(axis=0)) / perms.std(axis=0)\n"
     ]
    },
    {
     "name": "stdout",
     "output_type": "stream",
     "text": [
      "201.5065468476908\n",
      "Computing CLISIS...\n",
      "Computing GERR2...\n",
      "Computing CCA...\n",
      "Computing GCS...\n",
      "Computing MLAMI...\n",
      "Computing CAS...\n"
     ]
    },
    {
     "name": "stderr",
     "output_type": "stream",
     "text": [
      "/home/sbirk/miniconda3/envs/autotalker/lib/python3.9/site-packages/squidpy/gr/_nhood.py:182: RuntimeWarning: invalid value encountered in divide\n",
      "  zscore = (count - perms.mean(axis=0)) / perms.std(axis=0)\n"
     ]
    },
    {
     "name": "stdout",
     "output_type": "stream",
     "text": [
      "138.57367601767274\n",
      "Computing CLISIS...\n",
      "Computing GERR2...\n",
      "Computing CCA...\n",
      "Computing GCS...\n",
      "Computing MLAMI...\n",
      "Computing CAS...\n"
     ]
    },
    {
     "name": "stderr",
     "output_type": "stream",
     "text": [
      "/home/sbirk/miniconda3/envs/autotalker/lib/python3.9/site-packages/squidpy/gr/_nhood.py:182: RuntimeWarning: invalid value encountered in divide\n",
      "  zscore = (count - perms.mean(axis=0)) / perms.std(axis=0)\n"
     ]
    },
    {
     "name": "stdout",
     "output_type": "stream",
     "text": [
      "139.075122997808\n",
      "Computing CLISIS...\n",
      "Computing GERR2...\n",
      "Computing CCA...\n",
      "Computing GCS...\n",
      "Computing MLAMI...\n",
      "Computing CAS...\n"
     ]
    },
    {
     "name": "stderr",
     "output_type": "stream",
     "text": [
      "/home/sbirk/miniconda3/envs/autotalker/lib/python3.9/site-packages/squidpy/gr/_nhood.py:182: RuntimeWarning: invalid value encountered in divide\n",
      "  zscore = (count - perms.mean(axis=0)) / perms.std(axis=0)\n"
     ]
    },
    {
     "name": "stdout",
     "output_type": "stream",
     "text": [
      "89.83939657654017\n",
      "Computing CLISIS...\n",
      "Computing GERR2...\n",
      "Computing CCA...\n",
      "Computing GCS...\n",
      "Computing MLAMI...\n",
      "Computing CAS...\n"
     ]
    },
    {
     "name": "stderr",
     "output_type": "stream",
     "text": [
      "/home/sbirk/miniconda3/envs/autotalker/lib/python3.9/site-packages/squidpy/gr/_nhood.py:182: RuntimeWarning: invalid value encountered in divide\n",
      "  zscore = (count - perms.mean(axis=0)) / perms.std(axis=0)\n"
     ]
    },
    {
     "name": "stdout",
     "output_type": "stream",
     "text": [
      "82.05569825474018\n",
      "Computing CLISIS...\n",
      "Computing GERR2...\n",
      "Computing CCA...\n",
      "Computing GCS...\n",
      "Computing MLAMI...\n",
      "Computing CAS...\n"
     ]
    },
    {
     "name": "stderr",
     "output_type": "stream",
     "text": [
      "/home/sbirk/miniconda3/envs/autotalker/lib/python3.9/site-packages/squidpy/gr/_nhood.py:182: RuntimeWarning: invalid value encountered in divide\n",
      "  zscore = (count - perms.mean(axis=0)) / perms.std(axis=0)\n"
     ]
    },
    {
     "name": "stdout",
     "output_type": "stream",
     "text": [
      "64.54054077279652\n",
      "Computing CLISIS...\n",
      "Computing GERR2...\n",
      "Computing CCA...\n",
      "Computing GCS...\n",
      "Computing MLAMI...\n",
      "Computing CAS...\n"
     ]
    },
    {
     "name": "stderr",
     "output_type": "stream",
     "text": [
      "/home/sbirk/miniconda3/envs/autotalker/lib/python3.9/site-packages/squidpy/gr/_nhood.py:182: RuntimeWarning: invalid value encountered in divide\n",
      "  zscore = (count - perms.mean(axis=0)) / perms.std(axis=0)\n"
     ]
    },
    {
     "name": "stdout",
     "output_type": "stream",
     "text": [
      "58.76824439407831\n",
      "Computing CLISIS...\n",
      "Computing GERR2...\n",
      "Computing CCA...\n",
      "Computing GCS...\n",
      "Computing MLAMI...\n",
      "Computing CAS...\n"
     ]
    },
    {
     "name": "stderr",
     "output_type": "stream",
     "text": [
      "/home/sbirk/miniconda3/envs/autotalker/lib/python3.9/site-packages/squidpy/gr/_nhood.py:182: RuntimeWarning: invalid value encountered in divide\n",
      "  zscore = (count - perms.mean(axis=0)) / perms.std(axis=0)\n"
     ]
    },
    {
     "name": "stdout",
     "output_type": "stream",
     "text": [
      "52.390119894899826\n",
      "Computing CLISIS...\n",
      "Computing GERR2...\n",
      "Computing CCA...\n",
      "Computing GCS...\n",
      "Computing MLAMI...\n",
      "Computing CAS...\n"
     ]
    },
    {
     "name": "stderr",
     "output_type": "stream",
     "text": [
      "/home/sbirk/miniconda3/envs/autotalker/lib/python3.9/site-packages/squidpy/gr/_nhood.py:182: RuntimeWarning: invalid value encountered in divide\n",
      "  zscore = (count - perms.mean(axis=0)) / perms.std(axis=0)\n"
     ]
    },
    {
     "name": "stdout",
     "output_type": "stream",
     "text": [
      "61.19779120825672\n",
      "Computing CLISIS...\n",
      "Computing GERR2...\n",
      "Computing CCA...\n",
      "\n"
     ]
    }
   ],
   "source": [
    "compute_combined_benchmarking_metrics_for_all_models(dataset=\"seqfish_mouse_organogenesis_embryo2\",\n",
    "                                                     cell_type_key=\"celltype_mapped_refined\")"
   ]
  },
  {
   "cell_type": "code",
   "execution_count": null,
   "id": "2910da85-38d5-4855-8151-70094c208c90",
   "metadata": {},
   "outputs": [],
   "source": [
    "compute_combined_benchmarking_metrics_for_all_models(dataset=\"vizgen_merfish_mouse_liver\",\n",
    "                                                     cell_type_key=\"Cell_Type\",)"
   ]
  },
  {
   "cell_type": "code",
   "execution_count": null,
   "id": "b3d1f940-2b9f-4bc8-810e-1bdab00b9329",
   "metadata": {},
   "outputs": [],
   "source": [
    "compute_combined_benchmarking_metrics_for_all_models(dataset=\"starmap_plus_mouse_cns\",\n",
    "                                                     cell_type_key=\"Main_molecular_cell_type\")"
   ]
  },
  {
   "cell_type": "code",
   "execution_count": null,
   "id": "89dd6a14-5a1c-423b-8f2f-3cc7524ba51c",
   "metadata": {},
   "outputs": [],
   "source": [
    "compute_combined_benchmarking_metrics_for_all_models(dataset=\"nanostring_cosmx_human_nsclc\",\n",
    "                                                     cell_type_key=\"cell_type\")"
   ]
  },
  {
   "cell_type": "markdown",
   "id": "a3d224f8-b044-4133-8242-e55c7bec4e9f",
   "metadata": {},
   "source": [
    "#### 3.2.8 Summary"
   ]
  },
  {
   "cell_type": "code",
   "execution_count": 102,
   "id": "ed78256b-9687-4876-a7fe-fdeb4bffae48",
   "metadata": {},
   "outputs": [],
   "source": [
    "dataset_artifact_folder_path = f\"../../artifacts/{dataset}/method_benchmarking/comparison/24022023_115320\""
   ]
  },
  {
   "cell_type": "code",
   "execution_count": 103,
   "id": "a06c1040-6026-425b-9f93-086de58b56d6",
   "metadata": {},
   "outputs": [],
   "source": [
    "# Read complete benchmarking data from disk\n",
    "with open(f\"{dataset_artifact_folder_path}/benchmarking_dict_list.pickle\", \"rb\") as f:\n",
    "    benchmarking_dict_list = pickle.load(f)"
   ]
  },
  {
   "cell_type": "code",
   "execution_count": 104,
   "id": "869cd40e-6788-4d5d-8213-ed68cccd667a",
   "metadata": {},
   "outputs": [
    {
     "data": {
      "text/html": [
       "<div>\n",
       "<style scoped>\n",
       "    .dataframe tbody tr th:only-of-type {\n",
       "        vertical-align: middle;\n",
       "    }\n",
       "\n",
       "    .dataframe tbody tr th {\n",
       "        vertical-align: top;\n",
       "    }\n",
       "\n",
       "    .dataframe thead th {\n",
       "        text-align: right;\n",
       "    }\n",
       "</style>\n",
       "<table border=\"1\" class=\"dataframe\">\n",
       "  <thead>\n",
       "    <tr style=\"text-align: right;\">\n",
       "      <th></th>\n",
       "      <th>gcs</th>\n",
       "      <th>mlami</th>\n",
       "      <th>cas</th>\n",
       "      <th>clisis</th>\n",
       "      <th>gerr2</th>\n",
       "      <th>cca</th>\n",
       "      <th>model_name</th>\n",
       "      <th>run</th>\n",
       "    </tr>\n",
       "  </thead>\n",
       "  <tbody>\n",
       "    <tr>\n",
       "      <th>0</th>\n",
       "      <td>0.785326</td>\n",
       "      <td>0.595748</td>\n",
       "      <td>0.521462</td>\n",
       "      <td>0.915496</td>\n",
       "      <td>0.310614</td>\n",
       "      <td>0.94466</td>\n",
       "      <td>pca</td>\n",
       "      <td>1</td>\n",
       "    </tr>\n",
       "    <tr>\n",
       "      <th>1</th>\n",
       "      <td>0.785325</td>\n",
       "      <td>0.593315</td>\n",
       "      <td>0.522143</td>\n",
       "      <td>0.914990</td>\n",
       "      <td>0.310614</td>\n",
       "      <td>0.94466</td>\n",
       "      <td>pca</td>\n",
       "      <td>2</td>\n",
       "    </tr>\n",
       "    <tr>\n",
       "      <th>2</th>\n",
       "      <td>0.785339</td>\n",
       "      <td>0.596942</td>\n",
       "      <td>0.521847</td>\n",
       "      <td>0.914751</td>\n",
       "      <td>0.310614</td>\n",
       "      <td>0.94466</td>\n",
       "      <td>pca</td>\n",
       "      <td>3</td>\n",
       "    </tr>\n",
       "    <tr>\n",
       "      <th>3</th>\n",
       "      <td>0.785333</td>\n",
       "      <td>0.596263</td>\n",
       "      <td>0.521858</td>\n",
       "      <td>0.914524</td>\n",
       "      <td>0.310614</td>\n",
       "      <td>0.94466</td>\n",
       "      <td>pca</td>\n",
       "      <td>4</td>\n",
       "    </tr>\n",
       "    <tr>\n",
       "      <th>4</th>\n",
       "      <td>0.785354</td>\n",
       "      <td>0.596801</td>\n",
       "      <td>0.521309</td>\n",
       "      <td>0.914634</td>\n",
       "      <td>0.310614</td>\n",
       "      <td>0.94466</td>\n",
       "      <td>pca</td>\n",
       "      <td>5</td>\n",
       "    </tr>\n",
       "  </tbody>\n",
       "</table>\n",
       "</div>"
      ],
      "text/plain": [
       "        gcs     mlami       cas    clisis     gerr2      cca model_name  run\n",
       "0  0.785326  0.595748  0.521462  0.915496  0.310614  0.94466        pca    1\n",
       "1  0.785325  0.593315  0.522143  0.914990  0.310614  0.94466        pca    2\n",
       "2  0.785339  0.596942  0.521847  0.914751  0.310614  0.94466        pca    3\n",
       "3  0.785333  0.596263  0.521858  0.914524  0.310614  0.94466        pca    4\n",
       "4  0.785354  0.596801  0.521309  0.914634  0.310614  0.94466        pca    5"
      ]
     },
     "execution_count": 104,
     "metadata": {},
     "output_type": "execute_result"
    }
   ],
   "source": [
    "df = pd.DataFrame(benchmarking_dict_list)\n",
    "df.head()"
   ]
  },
  {
   "cell_type": "code",
   "execution_count": 105,
   "id": "cb4daed2-0f50-4772-895a-1ac9e25bfbd3",
   "metadata": {},
   "outputs": [
    {
     "data": {
      "text/html": [
       "<div>\n",
       "<style scoped>\n",
       "    .dataframe tbody tr th:only-of-type {\n",
       "        vertical-align: middle;\n",
       "    }\n",
       "\n",
       "    .dataframe tbody tr th {\n",
       "        vertical-align: top;\n",
       "    }\n",
       "\n",
       "    .dataframe thead th {\n",
       "        text-align: right;\n",
       "    }\n",
       "</style>\n",
       "<table border=\"1\" class=\"dataframe\">\n",
       "  <thead>\n",
       "    <tr style=\"text-align: right;\">\n",
       "      <th></th>\n",
       "      <th>gcs</th>\n",
       "      <th>mlami</th>\n",
       "      <th>cas</th>\n",
       "      <th>clisis</th>\n",
       "      <th>gerr2</th>\n",
       "      <th>cca</th>\n",
       "    </tr>\n",
       "    <tr>\n",
       "      <th>model_name</th>\n",
       "      <th></th>\n",
       "      <th></th>\n",
       "      <th></th>\n",
       "      <th></th>\n",
       "      <th></th>\n",
       "      <th></th>\n",
       "    </tr>\n",
       "  </thead>\n",
       "  <tbody>\n",
       "    <tr>\n",
       "      <th>autotalker</th>\n",
       "      <td>0.964234</td>\n",
       "      <td>0.838604</td>\n",
       "      <td>0.872281</td>\n",
       "      <td>0.951468</td>\n",
       "      <td>0.233054</td>\n",
       "      <td>0.840381</td>\n",
       "    </tr>\n",
       "    <tr>\n",
       "      <th>deeplinc</th>\n",
       "      <td>0.883191</td>\n",
       "      <td>0.776112</td>\n",
       "      <td>0.818393</td>\n",
       "      <td>0.948148</td>\n",
       "      <td>0.179197</td>\n",
       "      <td>0.824660</td>\n",
       "    </tr>\n",
       "    <tr>\n",
       "      <th>graphst</th>\n",
       "      <td>0.933714</td>\n",
       "      <td>0.793992</td>\n",
       "      <td>0.771552</td>\n",
       "      <td>0.944306</td>\n",
       "      <td>0.251373</td>\n",
       "      <td>0.859351</td>\n",
       "    </tr>\n",
       "    <tr>\n",
       "      <th>sagenet</th>\n",
       "      <td>0.771935</td>\n",
       "      <td>0.691595</td>\n",
       "      <td>0.676206</td>\n",
       "      <td>0.908252</td>\n",
       "      <td>0.039093</td>\n",
       "      <td>0.576038</td>\n",
       "    </tr>\n",
       "    <tr>\n",
       "      <th>pca</th>\n",
       "      <td>0.785335</td>\n",
       "      <td>0.595125</td>\n",
       "      <td>0.521749</td>\n",
       "      <td>0.914993</td>\n",
       "      <td>0.310614</td>\n",
       "      <td>0.944660</td>\n",
       "    </tr>\n",
       "    <tr>\n",
       "      <th>scvi</th>\n",
       "      <td>0.791572</td>\n",
       "      <td>0.615918</td>\n",
       "      <td>0.520148</td>\n",
       "      <td>0.919051</td>\n",
       "      <td>0.148858</td>\n",
       "      <td>0.904892</td>\n",
       "    </tr>\n",
       "    <tr>\n",
       "      <th>expimap</th>\n",
       "      <td>0.762724</td>\n",
       "      <td>0.413443</td>\n",
       "      <td>0.500788</td>\n",
       "      <td>0.891653</td>\n",
       "      <td>0.220330</td>\n",
       "      <td>0.929581</td>\n",
       "    </tr>\n",
       "  </tbody>\n",
       "</table>\n",
       "</div>"
      ],
      "text/plain": [
       "                 gcs     mlami       cas    clisis     gerr2       cca\n",
       "model_name                                                            \n",
       "autotalker  0.964234  0.838604  0.872281  0.951468  0.233054  0.840381\n",
       "deeplinc    0.883191  0.776112  0.818393  0.948148  0.179197  0.824660\n",
       "graphst     0.933714  0.793992  0.771552  0.944306  0.251373  0.859351\n",
       "sagenet     0.771935  0.691595  0.676206  0.908252  0.039093  0.576038\n",
       "pca         0.785335  0.595125  0.521749  0.914993  0.310614  0.944660\n",
       "scvi        0.791572  0.615918  0.520148  0.919051  0.148858  0.904892\n",
       "expimap     0.762724  0.413443  0.500788  0.891653  0.220330  0.929581"
      ]
     },
     "execution_count": 105,
     "metadata": {},
     "output_type": "execute_result"
    }
   ],
   "source": [
    "# Compute metric means over all runs\n",
    "mean_df = df.groupby(\"model_name\").mean()\n",
    "\n",
    "columns = [\"gcs\",\n",
    "           \"mlami\",\n",
    "           \"cas\",\n",
    "           \"clisis\",\n",
    "           \"gerr2\",\n",
    "           \"cca\"]\n",
    "\n",
    "rows = [\"autotalker\",\n",
    "        \"deeplinc\",\n",
    "        \"graphst\",\n",
    "        \"sagenet\",\n",
    "        \"pca\",\n",
    "        \"scvi\",\n",
    "        \"expimap\"]\n",
    "\n",
    "mean_df = mean_df[columns]\n",
    "mean_df = mean_df.reindex(rows)\n",
    "\n",
    "mean_df"
   ]
  },
  {
   "cell_type": "code",
   "execution_count": null,
   "id": "5e959868-f496-43bc-8d36-0b817e9435db",
   "metadata": {},
   "outputs": [],
   "source": []
  },
  {
   "cell_type": "code",
   "execution_count": 33,
   "id": "14169f51-efce-47c5-aad1-969d4308373f",
   "metadata": {},
   "outputs": [],
   "source": [
    "import scipy.sparse as sp\n",
    "\n",
    "dense_matrix = np.array([[1, 1, 0, 1], [1, 1, 0, 1], [1, 1, 0, 1], [1, 1, 0, 1]])\n",
    "dense_matrix2 = np.array([[1, 0, 1, 1], [1, 0, 1, 1], [1, 0, 1, 1], [1, 0, 1, 1]])\n",
    "\n",
    "# Convert the dense matrix to a sparse CSR matrix\n",
    "sparse_matrix = sp.csr_matrix(dense_matrix)\n",
    "sparse_matrix2 = sp.csr_matrix(dense_matrix2)\n",
    "\n",
    "dif = sparse_matrix - sparse_matrix2"
   ]
  },
  {
   "cell_type": "code",
   "execution_count": 34,
   "id": "dc18fcdc-65ee-4534-a57c-5e989b2e3a76",
   "metadata": {},
   "outputs": [],
   "source": [
    "    gcd = sp.linalg.norm(dif,\n",
    "                         ord=\"fro\")"
   ]
  },
  {
   "cell_type": "code",
   "execution_count": 67,
   "id": "2e589386-2db0-4426-bbf1-596006f60efa",
   "metadata": {},
   "outputs": [],
   "source": [
    "from autotalker.benchmarking import compute_cas"
   ]
  },
  {
   "cell_type": "code",
   "execution_count": 73,
   "id": "e7196842-9be5-4688-bf4e-3d0504862b3b",
   "metadata": {},
   "outputs": [],
   "source": [
    "adata = sc.read_h5ad(data_folder_path + f\"{dataset}_autotalker.h5ad\")"
   ]
  },
  {
   "cell_type": "code",
   "execution_count": 96,
   "id": "00dc5f36-9e37-4dc4-ade6-8b572016e154",
   "metadata": {},
   "outputs": [
    {
     "name": "stdout",
     "output_type": "stream",
     "text": [
      "196.93298416494008\n"
     ]
    }
   ],
   "source": [
    "    cas = compute_cas(\n",
    "        adata=adata,\n",
    "        cell_type_key=\"celltype_mapped_refined\",\n",
    "        spatial_knng_key=\"autotalker_spatial_knng_key\",\n",
    "        latent_knng_key=\"autotalker_latent_knng_key\",\n",
    "        latent_key=\"autotalker_latent_run1\",\n",
    "        seed=0)"
   ]
  },
  {
   "cell_type": "code",
   "execution_count": 92,
   "id": "eea78ef1-db36-451b-9f4e-455ed76324fc",
   "metadata": {},
   "outputs": [
    {
     "data": {
      "text/plain": [
       "6.491853096329675"
      ]
     },
     "execution_count": 92,
     "metadata": {},
     "output_type": "execute_result"
    }
   ],
   "source": [
    "np.log2(90)"
   ]
  },
  {
   "cell_type": "markdown",
   "id": "5d21d727-72dd-4ab1-81bb-9b60191b746a",
   "metadata": {},
   "source": [
    "##### 3.2.8.1 Metrics Plot"
   ]
  },
  {
   "cell_type": "code",
   "execution_count": 21,
   "id": "4d03c1f7-ad42-46e0-a239-5847420f88d7",
   "metadata": {},
   "outputs": [
    {
     "ename": "SyntaxError",
     "evalue": "invalid syntax (452379698.py, line 3)",
     "output_type": "error",
     "traceback": [
      "\u001b[0;36m  Cell \u001b[0;32mIn[21], line 3\u001b[0;36m\u001b[0m\n\u001b[0;31m    x='score',\u001b[0m\n\u001b[0m    ^\u001b[0m\n\u001b[0;31mSyntaxError\u001b[0m\u001b[0;31m:\u001b[0m invalid syntax\n"
     ]
    }
   ],
   "source": [
    "plt.figure(figsize=(15,15))\n",
    "ax = sns.barplot(data=mean_df\n",
    "                 x='score',\n",
    "                 y='score_type',\n",
    "                 hue='model',\n",
    "                 palette='Paired',\n",
    "                 orient='h')\n",
    "\n",
    "plt.xticks(fontsize=40)\n",
    "plt.yticks(fontsize=40)\n",
    "\n",
    "\n",
    "plt.xlabel('Metric value (lower better)', fontsize=40)\n",
    "plt.ylabel('Metric type', fontsize=40)\n",
    "plt.legend(loc=2, bbox_to_anchor=(1, 1), prop={'size': 28})\n",
    "plt.title('Evaluation metrics predictions on BBBC021', fontsize=40)\n",
    "#plt.savefig('/lustre/groups/ml01/workspace/alessandro.palma/imCPA_official/experiments/general_experiments/1.benchmark_scores/plots/benchmark_scores_final.svg',\n",
    "#           dpi=300, bbox_inches='tight', format='svg')\n",
    "plt.show()"
   ]
  },
  {
   "cell_type": "code",
   "execution_count": 106,
   "id": "43f4fd45-3d4c-40aa-b5ec-2f24d0031443",
   "metadata": {},
   "outputs": [
    {
     "data": {
      "image/png": "[encoded data removed]",
      "text/plain": [
       "<Figure size 1440x640 with 6 Axes>"
      ]
     },
     "metadata": {
      "image/png": {
       "height": 628,
       "width": 1206
      }
     },
     "output_type": "display_data"
    }
   ],
   "source": [
    "fig, axs = plt.subplots(nrows=2, ncols=int(np.ceil(len(columns)/2)), figsize=(3*len(columns), 8))\n",
    "axs=axs.flatten()\n",
    "\n",
    "for i, col in enumerate(columns):\n",
    "    sns.barplot(data=mean_df, x=mean_df.index, y=col, ax=axs[i])\n",
    "    axs[i].set_xlabel('')\n",
    "    xlabels = axs[i].get_xticks()\n",
    "    axs[i].set_xticklabels(mean_df.index, rotation=45)\n",
    "plt.suptitle(\"Method Benchmarking Metrics\", fontsize=25)\n",
    "plt.subplots_adjust(hspace=0.5, wspace=0.5, top=0.9)\n",
    "\n",
    "if len(columns) % 2 != 0:\n",
    "    fig.delaxes(axs[-1])\n",
    "\n",
    "fig.savefig(f\"{figure_folder_path}/metrics_{current_timestamp}.png\",\n",
    "            bbox_inches=\"tight\")    \n",
    "plt.show()"
   ]
  },
  {
   "cell_type": "code",
   "execution_count": null,
   "id": "44f2b53e-ab74-484f-9ab2-329d9024f1a5",
   "metadata": {},
   "outputs": [],
   "source": []
  },
  {
   "cell_type": "code",
   "execution_count": null,
   "id": "dca726a4-05db-4aff-a7a0-cb666d3e5677",
   "metadata": {},
   "outputs": [],
   "source": []
  },
  {
   "cell_type": "markdown",
   "id": "b89418b7-7d74-4dfb-be72-1f1c0aef93f1",
   "metadata": {},
   "source": [
    "##### 3.2.8.1 Metrics Ranking Plot"
   ]
  },
  {
   "cell_type": "code",
   "execution_count": null,
   "id": "895e0bff-e8b0-4bc2-afa1-50b38cd19f2d",
   "metadata": {},
   "outputs": [],
   "source": [
    "mean_df_min_best = mean_df[[\"gcd\", \"cad\", \"arclisi\", \"germse\"]] # lower values are better\n",
    "mean_df_max_best = mean_df[[\"mlnmi\", \"cca\", \"ari\", \"clisi\", \"nmi\", \"asw\", \"ilasw\", ]] # higher values are better\n",
    "rank_df_min = mean_df_min_best.rank(method=\"max\", ascending=True)\n",
    "rank_df_max = mean_df_max_best.rank(method=\"max\", ascending=False)\n",
    "rank_df = pd.concat([rank_df_min, rank_df_max], axis=1)\n",
    "rank_df = rank_df[columns]"
   ]
  },
  {
   "cell_type": "code",
   "execution_count": null,
   "id": "1cfb4629-bd72-4918-bcf0-5176937a28b0",
   "metadata": {},
   "outputs": [],
   "source": [
    "heatmap = sns.heatmap(rank_df, annot=True, cmap=\"YlGnBu\")\n",
    "fig = heatmap.get_figure()\n",
    "plt.title(\"Method Benchmarking Metrics Ranking\", fontsize=20, pad=25)\n",
    "plt.xticks(rotation=45)\n",
    "fig.savefig(f\"{figure_folder_path}/metrics_ranking_{current_timestamp}.png\",\n",
    "            bbox_inches=\"tight\")\n",
    "plt.show()"
   ]
  },
  {
   "cell_type": "code",
   "execution_count": null,
   "id": "c40bd054-dc77-45c5-9c12-7ea78f6829a3",
   "metadata": {},
   "outputs": [],
   "source": []
  }
 ],
 "metadata": {
  "kernelspec": {
   "display_name": "Python 3 (ipykernel)",
   "language": "python",
   "name": "python3"
  },
  "language_info": {
   "codemirror_mode": {
    "name": "ipython",
    "version": 3
   },
   "file_extension": ".py",
   "mimetype": "text/x-python",
   "name": "python",
   "nbconvert_exporter": "python",
   "pygments_lexer": "ipython3",
   "version": "3.9.15"
  }
 },
 "nbformat": 4,
 "nbformat_minor": 5
}
