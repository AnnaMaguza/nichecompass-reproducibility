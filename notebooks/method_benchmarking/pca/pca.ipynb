{
 "cells": [
  {
   "cell_type": "markdown",
   "id": "364a9ebc-3e3c-4645-9049-a34bd084c8a8",
   "metadata": {},
   "source": [
    "# PCA"
   ]
  },
  {
   "cell_type": "markdown",
   "id": "b0c55227-147e-417f-b0dd-bb0b7f322930",
   "metadata": {},
   "source": [
    "- **Creator**: Sebastian Birk (<sebastian.birk@helmholtz-munich.de>).\n",
    "- **Affiliation:** Helmholtz Munich, Institute of Computational Biology (ICB), Talavera-López Lab\n",
    "- **Date of Creation:** 13.01.2023\n",
    "- **Date of Last Modification:** 22.02.2023"
   ]
  },
  {
   "cell_type": "markdown",
   "id": "8eb78e3b-6546-47bd-9d50-b337ad74ece4",
   "metadata": {},
   "source": [
    "- Run PCA on log normalized counts to get a baseline latent representation."
   ]
  },
  {
   "cell_type": "markdown",
   "id": "7529cde5-be12-403b-a94c-07561774b86c",
   "metadata": {},
   "source": [
    "## 1. Setup"
   ]
  },
  {
   "cell_type": "markdown",
   "id": "faad87bd-fef5-4429-a175-d714c491ae76",
   "metadata": {},
   "source": [
    "### 1.1 Import Libraries"
   ]
  },
  {
   "cell_type": "code",
   "execution_count": null,
   "id": "d7f93960-c759-424f-8cb2-1d8698acae2c",
   "metadata": {},
   "outputs": [],
   "source": [
    "import time\n",
    "from datetime import datetime\n",
    "\n",
    "import os\n",
    "import scanpy as sc\n",
    "import squidpy as sq\n",
    "import matplotlib.pyplot as plt\n",
    "import numpy as np"
   ]
  },
  {
   "cell_type": "markdown",
   "id": "39b5efa5-2052-4986-8ae5-89cfab018515",
   "metadata": {},
   "source": [
    "### 1.2 Define Parameters"
   ]
  },
  {
   "cell_type": "code",
   "execution_count": null,
   "id": "e5c8b48a-ed5e-48b5-8c5c-c1de11493aee",
   "metadata": {},
   "outputs": [],
   "source": [
    "model_name = \"pca\"\n",
    "latent_key = f\"{model_name}_latent\"\n",
    "n_pcs = 50 # Number of principal components to construct latent nearest neighbor graph\n",
    "leiden_resolution = 0.5 # used for Leiden clustering of latent space\n",
    "random_seed = 0 # used for Leiden clustering"
   ]
  },
  {
   "cell_type": "markdown",
   "id": "28adc110-0f41-4a71-9838-dc7f0687809a",
   "metadata": {},
   "source": [
    "### 1.3 Run Notebook Setup"
   ]
  },
  {
   "cell_type": "code",
   "execution_count": null,
   "id": "334b87ca-3387-4ba9-8567-84bc4754ff0c",
   "metadata": {},
   "outputs": [],
   "source": [
    "sc.set_figure_params(figsize=(6, 6))"
   ]
  },
  {
   "cell_type": "code",
   "execution_count": null,
   "id": "0ab6b302-1c0b-4937-8624-40629ada2e46",
   "metadata": {},
   "outputs": [],
   "source": [
    "# Get time of notebook execution for timestamping saved artifacts\n",
    "now = datetime.now()\n",
    "current_timestamp = now.strftime(\"%d%m%Y_%H%M%S\")"
   ]
  },
  {
   "cell_type": "markdown",
   "id": "85538952-006b-4b0b-a50c-fe7445ce22e2",
   "metadata": {},
   "source": [
    "### 1.4 Configure Paths and Directories"
   ]
  },
  {
   "cell_type": "code",
   "execution_count": null,
   "id": "7ddcc49c-ba22-4155-acd5-05b5b810e091",
   "metadata": {},
   "outputs": [],
   "source": [
    "data_folder_path = \"../../../datasets/srt_data/gold/\"\n",
    "figure_folder_path = f\"../../../figures\""
   ]
  },
  {
   "cell_type": "markdown",
   "id": "656c9b41-6c0f-46d8-9419-ee9857f34237",
   "metadata": {},
   "source": [
    "## 2. Log Normalized Gene Expression PCA"
   ]
  },
  {
   "cell_type": "markdown",
   "id": "a91c51b9-6668-4b05-8de0-8a3938e1ebc9",
   "metadata": {},
   "source": [
    "### 2.1 Define Run Function"
   ]
  },
  {
   "cell_type": "code",
   "execution_count": null,
   "id": "37bc16d6-b1ab-4257-afd9-83df7c543f2d",
   "metadata": {},
   "outputs": [],
   "source": [
    "def run_pca(dataset,\n",
    "            cell_type_key,\n",
    "            n_runs=10,\n",
    "            n_neighbor_list=[4, 4, 8, 8, 12, 12, 16, 16, 20, 20]):\n",
    "    # Configure figure folder path\n",
    "    dataset_figure_folder_path = f\"{figure_folder_path}/{dataset}/method_benchmarking/\" \\\n",
    "                                 f\"{model_name}/{current_timestamp}\"\n",
    "    os.makedirs(dataset_figure_folder_path, exist_ok=True)\n",
    "    \n",
    "    # Create original adata to store results from training runs\n",
    "    adata_original = sc.read_h5ad(data_folder_path + f\"{dataset}.h5ad\")\n",
    "    \n",
    "    for run_number, n_neighbors in zip(np.arange(1, n_runs+1), n_neighbor_list):\n",
    "        # n_neighbors is here only used for the latent neighbor graph construction used for\n",
    "        # UMAP generation and clustering as PCA is not a spatial method\n",
    "        \n",
    "        # Load data\n",
    "        adata = sc.read_h5ad(data_folder_path + f\"{dataset}.h5ad\")\n",
    "        \n",
    "        start_time = time.time()\n",
    "            \n",
    "        sc.tl.pca(adata)\n",
    "        \n",
    "        # Measure time for model training\n",
    "        end_time = time.time()\n",
    "        elapsed_time = end_time - start_time\n",
    "        hours, rem = divmod(elapsed_time, 3600)\n",
    "        minutes, seconds = divmod(rem, 60)\n",
    "        print(f\"Duration of model training in run {run_number}: \"\n",
    "              f\"{int(hours)} hours, {int(minutes)} minutes and {int(seconds)} seconds.\")\n",
    "        adata_original.uns[f\"{model_name}_model_training_duration_run{run_number}\"] = (\n",
    "            elapsed_time)\n",
    "        \n",
    "        sc.pp.neighbors(adata,\n",
    "                        n_pcs=n_pcs,\n",
    "                        n_neighbors=n_neighbors)\n",
    "        sc.tl.umap(adata)\n",
    "        fig = sc.pl.umap(adata,\n",
    "                         color=[cell_type_key],\n",
    "                         title=\"Latent Space with Cell Types: Log Normalized Counts PCA\",\n",
    "                         return_fig=True)\n",
    "        fig.savefig(f\"{dataset_figure_folder_path}/latent_log_normalized_counts_pca\"\n",
    "                    f\"_cell_types_run{run_number}.png\",\n",
    "                    bbox_inches=\"tight\")\n",
    "\n",
    "        # Compute latent Leiden clustering\n",
    "        sc.tl.leiden(adata=adata,\n",
    "                     resolution=leiden_resolution,\n",
    "                     random_state=random_seed,\n",
    "                     key_added=f\"latent_log_normalized_counts_pca_leiden_{str(leiden_resolution)}\")\n",
    "\n",
    "        # Create subplot of latent Leiden cluster annotations in physical and latent space\n",
    "        fig, axs = plt.subplots(nrows=2, ncols=1, figsize=(6, 12))\n",
    "        title = fig.suptitle(t=\"Latent and Physical Space with Leiden Clusters: Log Normalized Counts PCA\")\n",
    "        sc.pl.umap(adata=adata,\n",
    "                   color=[f\"latent_log_normalized_counts_pca_leiden_{str(leiden_resolution)}\"],\n",
    "                   title=f\"Latent Space with Leiden Clusters\",\n",
    "                   ax=axs[0],\n",
    "                   show=False)\n",
    "        sq.pl.spatial_scatter(adata=adata,\n",
    "                              color=[f\"latent_log_normalized_counts_pca_leiden_{str(leiden_resolution)}\"],\n",
    "                              title=f\"Physical Space with Leiden Clusters\",\n",
    "                              shape=None,\n",
    "                              ax=axs[1])\n",
    "\n",
    "        # Create and position shared legend\n",
    "        handles, labels = axs[0].get_legend_handles_labels()\n",
    "        lgd = fig.legend(handles, labels, bbox_to_anchor=(1.25, 0.9185))\n",
    "        axs[0].get_legend().remove()\n",
    "        axs[1].get_legend().remove()\n",
    "\n",
    "        # Adjust, save and display plot\n",
    "        plt.subplots_adjust(wspace=0, hspace=0.2)\n",
    "        fig.savefig(f\"{dataset_figure_folder_path}/latent_physical_comparison_\"\n",
    "                    f\"log_normalized_counts_pca_run{run_number}.png\",\n",
    "                    bbox_extra_artists=(lgd, title),\n",
    "                    bbox_inches=\"tight\")\n",
    "        plt.show()\n",
    "\n",
    "        # Store X_pca as latent representation\n",
    "        adata_original.obsm[latent_key + f\"_run{run_number}\"] = adata.obsm[\"X_pca\"]\n",
    "\n",
    "        # Label all 'gene programs' as active gene programs for subsequent benchmarking\n",
    "        adata_original.uns[f\"pca_active_gp_names_run{run_number}\"] = (\n",
    "            np.array([f\"latent_{i}\" for i in range(adata_original.obsm[f\"{latent_key}_run{run_number}\"].shape[1])]))\n",
    "\n",
    "        # Store intermediate adata to disk\n",
    "        adata_original.write(f\"{data_folder_path}/{dataset}_{model_name}.h5ad\")\n",
    "\n",
    "    # Store final adata to disk\n",
    "    adata_original.write(f\"{data_folder_path}/{dataset}_{model_name}.h5ad\")   "
   ]
  },
  {
   "cell_type": "markdown",
   "id": "1908348a-37d0-43a6-8237-e58d412d90f8",
   "metadata": {},
   "source": [
    "### 2.2 Run PCA on Benchmarking Datasets"
   ]
  },
  {
   "cell_type": "code",
   "execution_count": null,
   "id": "958d0e5f-2066-46e7-a5ed-0c3b02b299b0",
   "metadata": {},
   "outputs": [],
   "source": [
    "run_pca(dataset=\"seqfish_mouse_organogenesis_embryo2\",\n",
    "        cell_type_key=\"celltype_mapped_refined\")"
   ]
  },
  {
   "cell_type": "code",
   "execution_count": null,
   "id": "545a835d-c111-4704-b530-7f53bb6371dd",
   "metadata": {},
   "outputs": [],
   "source": [
    "run_pca(dataset=\"vizgen_merfish_mouse_liver\",\n",
    "        cell_type_key=\"Cell_Type\",\n",
    "        n_runs=1,\n",
    "        n_neighbor_list=[20])"
   ]
  },
  {
   "cell_type": "code",
   "execution_count": null,
   "id": "22d3add7-ceee-46b2-aece-c1aecf16c55a",
   "metadata": {},
   "outputs": [],
   "source": [
    "run_pca(dataset=\"starmap_plus_mouse_cns\",\n",
    "        cell_type_key=\"Main_molecular_cell_type\")"
   ]
  },
  {
   "cell_type": "code",
   "execution_count": null,
   "id": "a71d5bf3-15c5-4e7d-85b3-349cb83b45d3",
   "metadata": {},
   "outputs": [],
   "source": [
    "run_pca(dataset=\"nanostring_cosmx_human_nsclc\",\n",
    "        cell_type_key=\"cell_type\")"
   ]
  }
 ],
 "metadata": {
  "kernelspec": {
   "display_name": "Python 3 (ipykernel)",
   "language": "python",
   "name": "python3"
  },
  "language_info": {
   "codemirror_mode": {
    "name": "ipython",
    "version": 3
   },
   "file_extension": ".py",
   "mimetype": "text/x-python",
   "name": "python",
   "nbconvert_exporter": "python",
   "pygments_lexer": "ipython3",
   "version": "3.9.15"
  }
 },
 "nbformat": 4,
 "nbformat_minor": 5
}
