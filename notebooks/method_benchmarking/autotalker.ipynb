{
 "cells": [
  {
   "cell_type": "markdown",
   "id": "364a9ebc-3e3c-4645-9049-a34bd084c8a8",
   "metadata": {},
   "source": [
    "# Autotalker"
   ]
  },
  {
   "cell_type": "markdown",
   "id": "b0c55227-147e-417f-b0dd-bb0b7f322930",
   "metadata": {},
   "source": [
    "- **Creator**: Sebastian Birk (<sebastian.birk@helmholtz-munich.de>).\n",
    "- **Affiliation:** Helmholtz Munich, Institute of Computational Biology (ICB), Talavera-López Lab\n",
    "- **Date of Creation:** 13.01.2023\n",
    "- **Date of Last Modification:** 22.02.2023"
   ]
  },
  {
   "cell_type": "markdown",
   "id": "fa669117-f347-4666-b112-8ea6669fd9e9",
   "metadata": {},
   "source": [
    "- The Autotalker source code is available at https://github.com/Talavera-Lopez-Lab/autotalker.\n",
    "- The workflow of this notebook follows the tutorial from https://github.com/sebastianbirk/autotalker/blob/main/notebooks/autotalker_tutorial.ipynb.\n",
    "- It is recommended to use raw counts as input to Autotalker. Therefore, we use raw counts (stored in adata.X)."
   ]
  },
  {
   "cell_type": "markdown",
   "id": "7529cde5-be12-403b-a94c-07561774b86c",
   "metadata": {},
   "source": [
    "## 1. Setup"
   ]
  },
  {
   "cell_type": "markdown",
   "id": "faad87bd-fef5-4429-a175-d714c491ae76",
   "metadata": {},
   "source": [
    "### 1.1 Import Libraries"
   ]
  },
  {
   "cell_type": "code",
   "execution_count": null,
   "id": "d9305ecb-5d4b-4cdd-8e92-f7155426b7f4",
   "metadata": {},
   "outputs": [],
   "source": [
    "import sys\n",
    "sys.path.append(\"../../../autotalker\")"
   ]
  },
  {
   "cell_type": "code",
   "execution_count": null,
   "id": "d7f93960-c759-424f-8cb2-1d8698acae2c",
   "metadata": {},
   "outputs": [],
   "source": [
    "import argparse\n",
    "import os\n",
    "import random\n",
    "import time\n",
    "import warnings\n",
    "from copy import deepcopy\n",
    "from datetime import datetime\n",
    "\n",
    "import anndata as ad\n",
    "import matplotlib\n",
    "import matplotlib.pyplot as plt\n",
    "import mlflow\n",
    "import numpy as np\n",
    "import pandas as pd\n",
    "import scanpy as sc\n",
    "import scipy.sparse as sp\n",
    "import seaborn as sns\n",
    "import squidpy as sq\n",
    "import torch\n",
    "from matplotlib.pyplot import rc_context\n",
    "\n",
    "from autotalker.models import Autotalker\n",
    "from autotalker.utils import (add_gps_from_gp_dict_to_adata,\n",
    "                              extract_gp_dict_from_mebocost_es_interactions,\n",
    "                              extract_gp_dict_from_nichenet_ligand_target_mx,\n",
    "                              extract_gp_dict_from_omnipath_lr_interactions,\n",
    "                              filter_and_combine_gp_dict_gps)"
   ]
  },
  {
   "cell_type": "markdown",
   "id": "39b5efa5-2052-4986-8ae5-89cfab018515",
   "metadata": {},
   "source": [
    "### 1.2 Define Parameters"
   ]
  },
  {
   "cell_type": "code",
   "execution_count": null,
   "id": "e5c8b48a-ed5e-48b5-8c5c-c1de11493aee",
   "metadata": {},
   "outputs": [],
   "source": [
    "model_name = \"autotalker\"\n",
    "latent_key = f\"{model_name}_latent\"\n",
    "leiden_resolution = 0.3 # used for Leiden clustering of latent space\n",
    "random_seed = 0 # used for Leiden clustering"
   ]
  },
  {
   "cell_type": "markdown",
   "id": "28adc110-0f41-4a71-9838-dc7f0687809a",
   "metadata": {},
   "source": [
    "### 1.3 Run Notebook Setup"
   ]
  },
  {
   "cell_type": "code",
   "execution_count": null,
   "id": "334b87ca-3387-4ba9-8567-84bc4754ff0c",
   "metadata": {},
   "outputs": [],
   "source": [
    "sc.set_figure_params(figsize=(6, 6))"
   ]
  },
  {
   "cell_type": "code",
   "execution_count": null,
   "id": "0ab6b302-1c0b-4937-8624-40629ada2e46",
   "metadata": {},
   "outputs": [],
   "source": [
    "# Get time of notebook execution for timestamping saved artifacts\n",
    "now = datetime.now()\n",
    "current_timestamp = now.strftime(\"%d%m%Y_%H%M%S\")"
   ]
  },
  {
   "cell_type": "markdown",
   "id": "85538952-006b-4b0b-a50c-fe7445ce22e2",
   "metadata": {},
   "source": [
    "### 1.4 Configure Paths and Directories"
   ]
  },
  {
   "cell_type": "code",
   "execution_count": null,
   "id": "7ddcc49c-ba22-4155-acd5-05b5b810e091",
   "metadata": {},
   "outputs": [],
   "source": [
    "data_folder_path = \"../../datasets/srt_data/gold/\"\n",
    "figure_folder_path = f\"../../figures\"\n",
    "gp_data_folder_path = \"../../datasets/gp_data\" # gene program data\n",
    "nichenet_ligand_target_mx_file_path = gp_data_folder_path + \"/nichenet_ligand_target_matrix.csv\"\n",
    "omnipath_lr_interactions_file_path = gp_data_folder_path + \"/omnipath_lr_interactions.csv\"\n",
    "\n",
    "# Create required directories\n",
    "os.makedirs(gp_data_folder_path, exist_ok=True)"
   ]
  },
  {
   "cell_type": "markdown",
   "id": "d974cd00-eafa-4432-b172-fafc4058a619",
   "metadata": {},
   "source": [
    "## 2. Autotalker Model"
   ]
  },
  {
   "cell_type": "markdown",
   "id": "b908c99c-de2f-4239-8420-00bd1fd58baa",
   "metadata": {},
   "source": [
    "### 2.1 Prepare Gene Program Mask"
   ]
  },
  {
   "cell_type": "code",
   "execution_count": null,
   "id": "27479c03-b503-4a9c-9e96-41b2815043a0",
   "metadata": {},
   "outputs": [],
   "source": [
    "nichenet_gp_dict = extract_gp_dict_from_nichenet_ligand_target_mx(\n",
    "    keep_target_ratio=0.01,\n",
    "    load_from_disk=False,\n",
    "    save_to_disk=False,\n",
    "    file_path=nichenet_ligand_target_mx_file_path)"
   ]
  },
  {
   "cell_type": "code",
   "execution_count": null,
   "id": "59e28bec-f0eb-456b-ae5c-8d3b92583d22",
   "metadata": {},
   "outputs": [],
   "source": [
    "omnipath_gp_dict = extract_gp_dict_from_omnipath_lr_interactions(\n",
    "    min_curation_effort=0,\n",
    "    load_from_disk=False,\n",
    "    save_to_disk=False,\n",
    "    file_path=omnipath_lr_interactions_file_path)"
   ]
  },
  {
   "cell_type": "code",
   "execution_count": null,
   "id": "2269869c-d0c9-40e3-b69f-9d072f4b77af",
   "metadata": {},
   "outputs": [],
   "source": [
    "mebocost_gp_dict = extract_gp_dict_from_mebocost_es_interactions(\n",
    "    dir_path=f\"{gp_data_folder_path}/metabolite_enzyme_sensor_gps/\",\n",
    "    species=\"mouse\",\n",
    "    genes_uppercase=True)"
   ]
  },
  {
   "cell_type": "code",
   "execution_count": null,
   "id": "576045bf-755e-4c1e-9776-beb4dbf4f809",
   "metadata": {},
   "outputs": [],
   "source": [
    "# Combine gene programs into one dictionary\n",
    "combined_gp_dict = dict(nichenet_gp_dict)\n",
    "combined_gp_dict.update(omnipath_gp_dict)\n",
    "combined_gp_dict.update(mebocost_gp_dict)"
   ]
  },
  {
   "cell_type": "code",
   "execution_count": null,
   "id": "5a24960f-e0a8-4914-8c43-7b283042e617",
   "metadata": {},
   "outputs": [],
   "source": [
    "# Filter and combine gene programs\n",
    "combined_new_gp_dict = filter_and_combine_gp_dict_gps(\n",
    "    gp_dict=combined_gp_dict,\n",
    "    gp_filter_mode=\"subset\", #None,\n",
    "    combine_overlap_gps=True, #True,\n",
    "    overlap_thresh_source_genes=0.9,\n",
    "    overlap_thresh_target_genes=0.9,\n",
    "    overlap_thresh_genes=0.9,\n",
    "    verbose=True)\n",
    "\n",
    "print(f\"Number of gene programs before filtering and combining: {len(combined_gp_dict)}.\")\n",
    "print(f\"Number of gene programs after filtering and combining: {len(combined_new_gp_dict)}.\")"
   ]
  },
  {
   "cell_type": "markdown",
   "id": "d712fe8e-6438-4b1d-9ec8-6b6f4408627b",
   "metadata": {},
   "source": [
    "### 2.2 Define Training Function"
   ]
  },
  {
   "cell_type": "code",
   "execution_count": null,
   "id": "8ea39b0f-9c9a-459a-ba2e-c843802a8e37",
   "metadata": {},
   "outputs": [],
   "source": [
    "def train_autotalker_models(dataset,\n",
    "                            cell_type_key,\n",
    "                            n_runs=10,\n",
    "                            n_neighbor_list=[4, 4, 8, 8, 12, 12, 16, 16, 20, 20]):\n",
    "    # Configure figure folder path\n",
    "    dataset_figure_folder_path = f\"{figure_folder_path}/{dataset}/method_benchmarking/\" \\\n",
    "                                 f\"{model_name}/{current_timestamp}\"\n",
    "    os.makedirs(dataset_figure_folder_path, exist_ok=True)\n",
    "    \n",
    "    # Create original adata to store results from training runs\n",
    "    adata_original = sc.read_h5ad(data_folder_path + f\"{dataset}.h5ad\")\n",
    "    \n",
    "    model_seeds = list(range(10))\n",
    "    for run_number, n_neighbors in zip(np.arange(1, n_runs+1), n_neighbor_list):\n",
    "        # Load data\n",
    "        adata = sc.read_h5ad(data_folder_path + f\"{dataset}.h5ad\")\n",
    "        \n",
    "        adata.obs[\"batch\"] == \"batch1\"\n",
    "        \n",
    "        # Add the gene program dictionary as binary masks to the adata for model training\n",
    "        add_gps_from_gp_dict_to_adata(\n",
    "            gp_dict=combined_new_gp_dict,\n",
    "            adata=adata,\n",
    "            genes_uppercase=True,\n",
    "            gp_targets_mask_key=\"autotalker_gp_targets\",\n",
    "            gp_sources_mask_key=\"autotalker_gp_sources\",\n",
    "            gp_names_key=\"autotalker_gp_names\",\n",
    "            min_genes_per_gp=1,\n",
    "            min_source_genes_per_gp=0,\n",
    "            min_target_genes_per_gp=0,\n",
    "            max_genes_per_gp=None,\n",
    "            max_source_genes_per_gp=None,\n",
    "            max_target_genes_per_gp=None)\n",
    "\n",
    "        # Determine dimensionality of hidden encoder\n",
    "        n_hidden_encoder = len(adata.uns[f\"{model_name}_gp_names\"])\n",
    "\n",
    "        # Compute spatial neighborhood graph\n",
    "        sq.gr.spatial_neighbors(adata,\n",
    "                                coord_type=\"generic\",\n",
    "                                spatial_key=\"spatial\",\n",
    "                                n_neighs=n_neighbors)\n",
    "\n",
    "        # Make adjacency matrix symmetric\n",
    "        adata.obsp[\"spatial_connectivities\"] = (\n",
    "            adata.obsp[\"spatial_connectivities\"].maximum(\n",
    "            adata.obsp[\"spatial_connectivities\"].T))\n",
    "\n",
    "        start_time = time.time()\n",
    "        \n",
    "        # Initialize model\n",
    "        model = Autotalker(adata,\n",
    "                           counts_key=\"counts\",\n",
    "                           adj_key=\"spatial_connectivities\",\n",
    "                           condition_key=\"batch\",\n",
    "                           cond_embed_injection=[\"encoder\",\n",
    "                                                 \"gene_expr_decoder\",\n",
    "                                                 \"graph_decoder\"],\n",
    "                           n_cond_embed=3,\n",
    "                           gp_names_key=\"autotalker_gp_names\",\n",
    "                           active_gp_names_key=\"autotalker_active_gp_names\",\n",
    "                           gp_targets_mask_key=\"autotalker_gp_targets\",\n",
    "                           gp_sources_mask_key=\"autotalker_gp_sources\",\n",
    "                           latent_key=latent_key,\n",
    "                           active_gp_thresh_ratio=0.03,\n",
    "                           gene_expr_recon_dist=\"nb\",\n",
    "                           n_layers_encoder=2,\n",
    "                           n_hidden_encoder=n_hidden_encoder,\n",
    "                           log_variational=True)\n",
    "        print(\"\")\n",
    "\n",
    "        # Train model\n",
    "        model.train(n_epochs=40,\n",
    "                    n_epochs_all_gps=20,\n",
    "                    lr=0.001,\n",
    "                    lambda_edge_recon=0.01,\n",
    "                    lambda_gene_expr_recon=0.0033,\n",
    "                    lambda_l1_masked=0,\n",
    "                    edge_batch_size=64,\n",
    "                    node_batch_size=8,\n",
    "                    seed=model_seeds[run_number-1],\n",
    "                    verbose=True)\n",
    "        \n",
    "        # Measure time for model training\n",
    "        end_time = time.time()\n",
    "        elapsed_time = end_time - start_time\n",
    "        hours, rem = divmod(elapsed_time, 3600)\n",
    "        minutes, seconds = divmod(rem, 60)\n",
    "        print(f\"Duration of model training in run {run_number}: \"\n",
    "              f\"{int(hours)} hours, {int(minutes)} minutes and {int(seconds)} seconds.\")\n",
    "        adata_original.uns[f\"{model_name}_model_training_duration_run{run_number}\"] = (\n",
    "            elapsed_time)\n",
    "\n",
    "        # Use Autotalker latent space for UMAP generation\n",
    "        sc.pp.neighbors(adata,\n",
    "                        use_rep=latent_key,\n",
    "                        n_neighbors=n_neighbors)\n",
    "        sc.tl.umap(adata)\n",
    "        fig = sc.pl.umap(adata,\n",
    "                         color=[cell_type_key],\n",
    "                         title=f\"Latent Space with Cell Types: {model_name.capitalize()}\",\n",
    "                         return_fig=True)\n",
    "        fig.savefig(f\"{dataset_figure_folder_path}/latent_{model_name}\"\n",
    "                    f\"_cell_types_run{run_number}.png\",\n",
    "                    bbox_inches=\"tight\")\n",
    "\n",
    "        # Compute latent Leiden clustering\n",
    "        sc.tl.leiden(adata=adata,\n",
    "                     resolution=leiden_resolution,\n",
    "                     random_state=random_seed,\n",
    "                     key_added=f\"latent_{model_name}_leiden_{str(leiden_resolution)}\")\n",
    "\n",
    "        # Create subplot of latent Leiden cluster annotations in physical and latent space\n",
    "        fig, axs = plt.subplots(nrows=2, ncols=1, figsize=(6, 12))\n",
    "        title = fig.suptitle(t=\"Latent and Physical Space with Leiden Clusters: \"\n",
    "                               f\"{model_name.capitalize()}\")\n",
    "        sc.pl.umap(adata=adata,\n",
    "                   color=[f\"latent_{model_name}_leiden_{str(leiden_resolution)}\"],\n",
    "                   title=f\"Latent Space with Leiden Clusters\",\n",
    "                   ax=axs[0],\n",
    "                   show=False)\n",
    "        sq.pl.spatial_scatter(adata=adata,\n",
    "                              color=[f\"latent_{model_name}_leiden_{str(leiden_resolution)}\"],\n",
    "                              title=f\"Physical Space with Leiden Clusters\",\n",
    "                              shape=None,\n",
    "                              ax=axs[1])\n",
    "\n",
    "        # Create and position shared legend\n",
    "        handles, labels = axs[0].get_legend_handles_labels()\n",
    "        lgd = fig.legend(handles, labels, bbox_to_anchor=(1.25, 0.9185))\n",
    "        axs[0].get_legend().remove()\n",
    "        axs[1].get_legend().remove()\n",
    "\n",
    "        # Adjust, save and display plot\n",
    "        plt.subplots_adjust(wspace=0, hspace=0.2)\n",
    "        fig.savefig(f\"{dataset_figure_folder_path}/latent_physical_comparison_\"\n",
    "                    f\"{model_name}_run{run_number}.png\",\n",
    "                    bbox_extra_artists=(lgd, title),\n",
    "                    bbox_inches=\"tight\")\n",
    "        plt.show()\n",
    "\n",
    "        # Store latent representation\n",
    "        adata_original.obsm[latent_key + f\"_run{run_number}\"] = adata.obsm[latent_key]\n",
    "\n",
    "        # Store active gene programs\n",
    "        adata_original.uns[f\"{model_name}_active_gp_names_run{run_number}\"] = (\n",
    "            adata.uns[f\"{model_name}_active_gp_names\"])\n",
    "\n",
    "        # Store intermediate adata to disk\n",
    "        adata_original.write(f\"{data_folder_path}/{dataset}_{model_name}.h5ad\")\n",
    "\n",
    "    # Store final adata to disk\n",
    "    adata_original.write(f\"{data_folder_path}/{dataset}_{model_name}.h5ad\")    "
   ]
  },
  {
   "cell_type": "markdown",
   "id": "5471d723-2807-44a9-aea2-4736131b614d",
   "metadata": {},
   "source": [
    "### 2.3 Train Models on Benchmarking Datasets"
   ]
  },
  {
   "cell_type": "code",
   "execution_count": null,
   "id": "ae226e5f-a589-473f-8667-3cb567915524",
   "metadata": {},
   "outputs": [],
   "source": [
    "train_autotalker_models(dataset=\"seqfish_mouse_organogenesis_embryo2\",\n",
    "                        cell_type_key=\"celltype_mapped_refined\")"
   ]
  },
  {
   "cell_type": "code",
   "execution_count": null,
   "id": "8efa4cb3-ee9b-499e-b9bf-c78e2ec875c7",
   "metadata": {},
   "outputs": [],
   "source": [
    "train_autotalker_models(dataset=\"vizgen_merfish_mouse_liver\",\n",
    "                        cell_type_key=\"Cell_Type\",\n",
    "                        n_runs=1,\n",
    "                        n_neighbor_list=[20])"
   ]
  },
  {
   "cell_type": "code",
   "execution_count": null,
   "id": "e7e80f39-88fd-419f-b8be-0737662dee6e",
   "metadata": {},
   "outputs": [],
   "source": [
    "train_autotalker_models(dataset=\"starmap_plus_mouse_cns\",\n",
    "                        cell_type_key=\"Main_molecular_cell_type\")"
   ]
  },
  {
   "cell_type": "code",
   "execution_count": null,
   "id": "0e709492-a29a-4d8b-9f04-d31902251dde",
   "metadata": {},
   "outputs": [],
   "source": [
    "train_autotalker_models(dataset=\"nanostring_cosmx_human_nsclc\",\n",
    "                        cell_type_key=\"cell_type\")"
   ]
  },
  {
   "cell_type": "code",
   "execution_count": null,
   "id": "43617a84-1c81-473e-b275-c6b15a1b9fc3",
   "metadata": {},
   "outputs": [],
   "source": []
  }
 ],
 "metadata": {
  "kernelspec": {
   "display_name": "Python 3 (ipykernel)",
   "language": "python",
   "name": "python3"
  },
  "language_info": {
   "codemirror_mode": {
    "name": "ipython",
    "version": 3
   },
   "file_extension": ".py",
   "mimetype": "text/x-python",
   "name": "python",
   "nbconvert_exporter": "python",
   "pygments_lexer": "ipython3",
   "version": "3.9.15"
  }
 },
 "nbformat": 4,
 "nbformat_minor": 5
}
