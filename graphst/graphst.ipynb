{
 "cells": [
  {
   "cell_type": "markdown",
   "id": "364a9ebc-3e3c-4645-9049-a34bd084c8a8",
   "metadata": {},
   "source": [
    "# GraphST"
   ]
  },
  {
   "cell_type": "markdown",
   "id": "b0c55227-147e-417f-b0dd-bb0b7f322930",
   "metadata": {},
   "source": [
    "- **Creator**: Sebastian Birk (<sebastian.birk@helmholtz-munich.de>).\n",
    "- **Affiliation:** Helmholtz Munich, Institute of Computational Biology (ICB), Talavera-López Lab\n",
    "- **Date of Creation:** 11.01.2023\n",
    "- **Date of Last Modification:** 12.01.2023"
   ]
  },
  {
   "cell_type": "markdown",
   "id": "fbeec0fc-2605-4bd7-92f9-97b2bb62f4d9",
   "metadata": {},
   "source": [
    "- The GraphST source code is available at https://github.com/JinmiaoChenLab/GraphST.\n",
    "- The corresponding preprint is Long, Y. et al. DeepST: A versatile graph contrastive learning framework for spatially informed clustering, integration, and deconvolution of spatial transcriptomics. Preprint at https://doi.org/10.1101/2022.08.02.502407."
   ]
  },
  {
   "cell_type": "markdown",
   "id": "8eb78e3b-6546-47bd-9d50-b337ad74ece4",
   "metadata": {},
   "source": [
    "- The workflow of this notebook follows the tutorial from https://deepst-tutorials.readthedocs.io/en/latest/Tutorial%201_10X%20Visium.html.\n",
    "- The authors use raw counts as input to GraphST (stored in adata.X). Therefore, we also use raw counts.\n",
    "- To define the spatial neighborhood graph, the original GraphST paper uses the 3 nearest neighbors of a cell as neighbors and the union of all neighbors is used as final spatial neighborhood graph (the adjacency matrix is made symmetric)."
   ]
  },
  {
   "cell_type": "markdown",
   "id": "7529cde5-be12-403b-a94c-07561774b86c",
   "metadata": {},
   "source": [
    "## 1. Setup"
   ]
  },
  {
   "cell_type": "markdown",
   "id": "faad87bd-fef5-4429-a175-d714c491ae76",
   "metadata": {},
   "source": [
    "### 1.1 Import Libraries"
   ]
  },
  {
   "cell_type": "code",
   "execution_count": 1,
   "id": "d7f93960-c759-424f-8cb2-1d8698acae2c",
   "metadata": {},
   "outputs": [],
   "source": [
    "import os\n",
    "from datetime import datetime\n",
    "\n",
    "import multiprocessing as mp\n",
    "import pandas as pd\n",
    "import scanpy as sc\n",
    "import squidpy as sq\n",
    "import torch\n",
    "from GraphST import GraphST\n",
    "from sklearn import metrics"
   ]
  },
  {
   "cell_type": "markdown",
   "id": "39b5efa5-2052-4986-8ae5-89cfab018515",
   "metadata": {},
   "source": [
    "### 1.2 Define Parameters"
   ]
  },
  {
   "cell_type": "code",
   "execution_count": 2,
   "id": "e5c8b48a-ed5e-48b5-8c5c-c1de11493aee",
   "metadata": {},
   "outputs": [],
   "source": [
    "dataset = \"seqfish_mouse_organogenesis_embryo2\"\n",
    "cell_type_key = \"celltype_mapped_refined\"\n",
    "latent_key = \"graphst_latent\"\n",
    "leiden_resolution = 0.3\n",
    "n_clusters = 7\n",
    "random_seed = 0"
   ]
  },
  {
   "cell_type": "markdown",
   "id": "28adc110-0f41-4a71-9838-dc7f0687809a",
   "metadata": {},
   "source": [
    "### 1.3 Run Notebook Setup"
   ]
  },
  {
   "cell_type": "code",
   "execution_count": 3,
   "id": "334b87ca-3387-4ba9-8567-84bc4754ff0c",
   "metadata": {},
   "outputs": [],
   "source": [
    "sc.set_figure_params(figsize=(6, 6))"
   ]
  },
  {
   "cell_type": "code",
   "execution_count": 4,
   "id": "0ab6b302-1c0b-4937-8624-40629ada2e46",
   "metadata": {},
   "outputs": [],
   "source": [
    "# Get time of notebook execution for timestamping saved artifacts\n",
    "now = datetime.now()\n",
    "current_timestamp = now.strftime(\"%d%m%Y_%H%M%S\")"
   ]
  },
  {
   "cell_type": "code",
   "execution_count": 5,
   "id": "05daacf1-ec2f-4182-a369-f42e53e81d89",
   "metadata": {},
   "outputs": [],
   "source": [
    "# Run device, by default, the package is implemented on 'cpu'. We recommend using GPU.\n",
    "device = torch.device(\"cuda:0\" if torch.cuda.is_available() else \"cpu\")\n",
    "\n",
    "# the location of R, which is necessary for mclust algorithm. Please replace the path below with local R installation path\n",
    "os.environ[\"R_HOME\"] = \"/home/cartalop/anaconda3/envs/graphst/lib/R/bin/R\""
   ]
  },
  {
   "cell_type": "markdown",
   "id": "85538952-006b-4b0b-a50c-fe7445ce22e2",
   "metadata": {},
   "source": [
    "### 1.4 Configure Paths and Directories"
   ]
  },
  {
   "cell_type": "code",
   "execution_count": 6,
   "id": "7ddcc49c-ba22-4155-acd5-05b5b810e091",
   "metadata": {},
   "outputs": [],
   "source": [
    "data_folder_path = \"../datasets/srt_data/gold/\"\n",
    "figure_folder_path = f\"../figures/method_benchmarking/{dataset}/\""
   ]
  },
  {
   "cell_type": "code",
   "execution_count": 7,
   "id": "4461828f-0802-4c60-a188-3cce5c6abbf0",
   "metadata": {},
   "outputs": [],
   "source": [
    "# Create required directories\n",
    "os.makedirs(figure_folder_path, exist_ok=True)"
   ]
  },
  {
   "cell_type": "markdown",
   "id": "58f3bcb4-901b-48dd-b684-a398c836160b",
   "metadata": {},
   "source": [
    "## 2. Data"
   ]
  },
  {
   "cell_type": "code",
   "execution_count": 8,
   "id": "5ca4ff68-1935-4d9e-8e71-bad9113ce11c",
   "metadata": {},
   "outputs": [],
   "source": [
    "# Load data\n",
    "adata_original = sc.read_h5ad(data_folder_path + f\"{dataset}.h5ad\")"
   ]
  },
  {
   "cell_type": "markdown",
   "id": "d974cd00-eafa-4432-b172-fafc4058a619",
   "metadata": {},
   "source": [
    "## 3. Graph ST Model"
   ]
  },
  {
   "cell_type": "code",
   "execution_count": null,
   "id": "e416f486-07fe-4218-be3d-141a2043b18e",
   "metadata": {},
   "outputs": [],
   "source": [
    "model_seeds = [0, 1] * 5\n",
    "\n",
    "for run_number, n_neighbors in enumerate([4, 4, 8, 8, 12, 12, 16, 16, 20, 20]):\n",
    "    adata = sc.read_h5ad(data_folder_path + f\"{dataset}.h5ad\")\n",
    "    \n",
    "    # Store raw counts in adata.X\n",
    "    adata.X = adata.layers[\"counts\"].toarray()\n",
    "    \n",
    "    # Compute spatial neighborhood graph\n",
    "    sq.gr.spatial_neighbors(adata,\n",
    "                            coord_type=\"generic\",\n",
    "                            spatial_key=\"spatial\",\n",
    "                            n_neighs=n_neighbors)\n",
    "    adata.obsm[\"graph_neigh\"] = adata.obsp[\"spatial_connectivities\"]\n",
    "    adj = adata.obsm[\"graph_neigh\"].copy()\n",
    "    adj = adj + adj.T\n",
    "    adata.obsm[\"adj\"] = np.where(adj>1, 1, adj)\n",
    "    \n",
    "    # Define model\n",
    "    model = GraphST.GraphST(adata,\n",
    "                            device=device,\n",
    "                            random_seed=model_seeds[run_number])\n",
    "    \n",
    "    # Train model\n",
    "    adata = model.train()\n",
    "    \n",
    "    # Use GraphST latent space for UMAP generation\n",
    "    sc.pp.neighbors(adata, use_rep=\"emb\", n_neighbors=n_neighbors)\n",
    "    sc.tl.umap(adata, min_dist=0.3)\n",
    "    fig = sc.pl.umap(adata,\n",
    "                     color=[cell_type_key],\n",
    "                     title=\"Latent Space with Cell Types: GraphST\",\n",
    "                     return_fig=True)\n",
    "    fig.savefig(f\"{figure_folder_path}/latent_graphst_cell_types_run_{run_number + 1}_{current_timestamp}.png\",\n",
    "                bbox_inches=\"tight\")\n",
    "\n",
    "    # Compute latent Leiden clustering\n",
    "    sc.tl.leiden(adata=adata,\n",
    "                 resolution=leiden_resolution,\n",
    "                 random_state=random_seed,\n",
    "                 key_added=f\"latent_graphst_leiden_{str(leiden_resolution)}\")\n",
    "\n",
    "    # Create subplot of latent Leiden cluster annotations in physical and latent space\n",
    "    fig, axs = plt.subplots(nrows=2, ncols=1, figsize=(6, 12))\n",
    "    title = fig.suptitle(t=\"Latent and Physical Space with Leiden Clusters: GraphST\")\n",
    "    sc.pl.umap(adata=adata,\n",
    "               color=[f\"latent_graphst_leiden_{str(leiden_resolution)}\"],\n",
    "               title=f\"Latent Space with Leiden Clusters\",\n",
    "               ax=axs[0],\n",
    "               show=False)\n",
    "    sc.pl.spatial(adata=adata,\n",
    "                  color=[f\"latent_graphst_leiden_{str(leiden_resolution)}\"],\n",
    "                  spot_size=0.03,\n",
    "                  title=f\"Physical Space with Leiden Clusters\",\n",
    "                  ax=axs[1],\n",
    "                  show=False)\n",
    "\n",
    "    # Create and position shared legend\n",
    "    handles, labels = axs[0].get_legend_handles_labels()\n",
    "    lgd = fig.legend(handles, labels, bbox_to_anchor=(1.1, 0.90))\n",
    "    axs[0].get_legend().remove()\n",
    "    axs[1].get_legend().remove()\n",
    "\n",
    "    # Adjust, save and display plot\n",
    "    plt.subplots_adjust(wspace=0, hspace=0.2)\n",
    "    fig.savefig(f\"{figure_folder_path}/latent_physical_comparison_graphst_leiden_run_{run_number + 1}_{current_timestamp}.png\",\n",
    "                bbox_extra_artists=(lgd, title),\n",
    "                bbox_inches=\"tight\")\n",
    "    plt.show()\n",
    "\n",
    "    adata_original.obsm[latent_key + f\"_run{run_number + 1}\"] = adata.obsm[\"emb\"]\n",
    "    \n",
    "# Label all 'gene programs' as active gene programs for subsequent benchmarking\n",
    "adata_original.uns[\"graphst_active_gp_names\"] = np.array([f\"latent_{i}\" for i in range(adata_new.obsm[\"graphst_latent_run1\"].shape[1])])\n",
    "\n",
    "# Store data to disk\n",
    "adata_original.write(f\"{data_folder_path}/{dataset}_graphst.h5ad\")"
   ]
  },
  {
   "cell_type": "code",
   "execution_count": 38,
   "id": "8ef540f7-3dec-4e5f-a3c4-1d331ebada73",
   "metadata": {},
   "outputs": [],
   "source": [
    "import numpy as np\n",
    "def check_symmetric(a, rtol=1e-05, atol=1e-08):\n",
    "    return np.allclose(a, a.T, rtol=rtol, atol=atol)"
   ]
  },
  {
   "cell_type": "code",
   "execution_count": 39,
   "id": "6c9034a1-b8cf-4a1e-8222-d6a64366131d",
   "metadata": {},
   "outputs": [
    {
     "data": {
      "text/plain": [
       "False"
      ]
     },
     "execution_count": 39,
     "metadata": {},
     "output_type": "execute_result"
    }
   ],
   "source": [
    "check_symmetric(test)"
   ]
  },
  {
   "cell_type": "code",
   "execution_count": 34,
   "id": "cffc84fa-b5b6-4f6f-8483-a0d3fb1c14a8",
   "metadata": {},
   "outputs": [
    {
     "data": {
      "text/plain": [
       "array([[0., 1., 0., ..., 0., 0., 0.],\n",
       "       [1., 0., 0., ..., 0., 0., 0.],\n",
       "       [0., 0., 0., ..., 0., 0., 0.],\n",
       "       ...,\n",
       "       [0., 0., 0., ..., 0., 0., 1.],\n",
       "       [0., 0., 0., ..., 0., 0., 0.],\n",
       "       [0., 0., 0., ..., 1., 0., 0.]])"
      ]
     },
     "execution_count": 34,
     "metadata": {},
     "output_type": "execute_result"
    }
   ],
   "source": [
    "test.T"
   ]
  },
  {
   "cell_type": "code",
   "execution_count": 35,
   "id": "b1122a77-e6c4-4b03-89bc-16f50f751c4a",
   "metadata": {},
   "outputs": [
    {
     "data": {
      "text/plain": [
       "array([[0., 1., 0., ..., 0., 0., 0.],\n",
       "       [1., 0., 0., ..., 0., 0., 0.],\n",
       "       [0., 0., 0., ..., 0., 0., 0.],\n",
       "       ...,\n",
       "       [0., 0., 0., ..., 0., 0., 1.],\n",
       "       [0., 0., 0., ..., 0., 0., 0.],\n",
       "       [0., 0., 0., ..., 1., 0., 0.]])"
      ]
     },
     "execution_count": 35,
     "metadata": {},
     "output_type": "execute_result"
    }
   ],
   "source": [
    "test"
   ]
  },
  {
   "cell_type": "code",
   "execution_count": null,
   "id": "b023d1ec-186e-4398-b3a2-ddde880d4ca6",
   "metadata": {},
   "outputs": [],
   "source": [
    "    adata.obsm['graph_neigh'] = interaction\n",
    "    \n",
    "    #transform adj to symmetrical adj\n",
    "    adj = interaction\n",
    "    adj = adj + adj.T\n",
    "    adj = np.where(adj>1, 1, adj)\n",
    "    \n",
    "    adata.obsm['adj'] = adj"
   ]
  },
  {
   "cell_type": "code",
   "execution_count": 22,
   "id": "ca3f4b7f-624b-413e-a2c4-fbc45f26b99a",
   "metadata": {},
   "outputs": [
    {
     "ename": "KeyError",
     "evalue": "'graph_neigh'",
     "output_type": "error",
     "traceback": [
      "\u001b[0;31m---------------------------------------------------------------------------\u001b[0m",
      "\u001b[0;31mKeyError\u001b[0m                                  Traceback (most recent call last)",
      "Cell \u001b[0;32mIn[22], line 2\u001b[0m\n\u001b[1;32m      1\u001b[0m \u001b[38;5;66;03m# Define model\u001b[39;00m\n\u001b[0;32m----> 2\u001b[0m model \u001b[38;5;241m=\u001b[39m \u001b[43mGraphST\u001b[49m\u001b[38;5;241;43m.\u001b[39;49m\u001b[43mGraphST\u001b[49m\u001b[43m(\u001b[49m\u001b[43madata\u001b[49m\u001b[43m,\u001b[49m\u001b[43m \u001b[49m\u001b[43mdevice\u001b[49m\u001b[38;5;241;43m=\u001b[39;49m\u001b[43mdevice\u001b[49m\u001b[43m)\u001b[49m\n",
      "File \u001b[0;32m~/anaconda3/envs/graphst/lib/python3.8/site-packages/GraphST/GraphST.py:115\u001b[0m, in \u001b[0;36mGraphST.__init__\u001b[0;34m(self, adata, adata_sc, device, learning_rate, learning_rate_sc, weight_decay, epochs, dim_input, dim_output, random_seed, alpha, beta, theta, lamda1, lamda2, deconvolution, datatype)\u001b[0m\n\u001b[1;32m    113\u001b[0m \u001b[38;5;28mself\u001b[39m\u001b[38;5;241m.\u001b[39mlabel_CSL \u001b[38;5;241m=\u001b[39m torch\u001b[38;5;241m.\u001b[39mFloatTensor(\u001b[38;5;28mself\u001b[39m\u001b[38;5;241m.\u001b[39madata\u001b[38;5;241m.\u001b[39mobsm[\u001b[38;5;124m'\u001b[39m\u001b[38;5;124mlabel_CSL\u001b[39m\u001b[38;5;124m'\u001b[39m])\u001b[38;5;241m.\u001b[39mto(\u001b[38;5;28mself\u001b[39m\u001b[38;5;241m.\u001b[39mdevice)\n\u001b[1;32m    114\u001b[0m \u001b[38;5;28mself\u001b[39m\u001b[38;5;241m.\u001b[39madj \u001b[38;5;241m=\u001b[39m \u001b[38;5;28mself\u001b[39m\u001b[38;5;241m.\u001b[39madata\u001b[38;5;241m.\u001b[39mobsm[\u001b[38;5;124m'\u001b[39m\u001b[38;5;124madj\u001b[39m\u001b[38;5;124m'\u001b[39m]\n\u001b[0;32m--> 115\u001b[0m \u001b[38;5;28mself\u001b[39m\u001b[38;5;241m.\u001b[39mgraph_neigh \u001b[38;5;241m=\u001b[39m torch\u001b[38;5;241m.\u001b[39mFloatTensor(\u001b[38;5;28;43mself\u001b[39;49m\u001b[38;5;241;43m.\u001b[39;49m\u001b[43madata\u001b[49m\u001b[38;5;241;43m.\u001b[39;49m\u001b[43mobsm\u001b[49m\u001b[43m[\u001b[49m\u001b[38;5;124;43m'\u001b[39;49m\u001b[38;5;124;43mgraph_neigh\u001b[39;49m\u001b[38;5;124;43m'\u001b[39;49m\u001b[43m]\u001b[49m\u001b[38;5;241m.\u001b[39mcopy() \u001b[38;5;241m+\u001b[39m np\u001b[38;5;241m.\u001b[39meye(\u001b[38;5;28mself\u001b[39m\u001b[38;5;241m.\u001b[39madj\u001b[38;5;241m.\u001b[39mshape[\u001b[38;5;241m0\u001b[39m]))\u001b[38;5;241m.\u001b[39mto(\u001b[38;5;28mself\u001b[39m\u001b[38;5;241m.\u001b[39mdevice)\n\u001b[1;32m    117\u001b[0m \u001b[38;5;28mself\u001b[39m\u001b[38;5;241m.\u001b[39mdim_input \u001b[38;5;241m=\u001b[39m \u001b[38;5;28mself\u001b[39m\u001b[38;5;241m.\u001b[39mfeatures\u001b[38;5;241m.\u001b[39mshape[\u001b[38;5;241m1\u001b[39m]\n\u001b[1;32m    118\u001b[0m \u001b[38;5;28mself\u001b[39m\u001b[38;5;241m.\u001b[39mdim_output \u001b[38;5;241m=\u001b[39m dim_output\n",
      "File \u001b[0;32m~/anaconda3/envs/graphst/lib/python3.8/site-packages/anndata/_core/aligned_mapping.py:148\u001b[0m, in \u001b[0;36mAlignedActualMixin.__getitem__\u001b[0;34m(self, key)\u001b[0m\n\u001b[1;32m    147\u001b[0m \u001b[38;5;28;01mdef\u001b[39;00m \u001b[38;5;21m__getitem__\u001b[39m(\u001b[38;5;28mself\u001b[39m, key: \u001b[38;5;28mstr\u001b[39m) \u001b[38;5;241m-\u001b[39m\u001b[38;5;241m>\u001b[39m V:\n\u001b[0;32m--> 148\u001b[0m     \u001b[38;5;28;01mreturn\u001b[39;00m \u001b[38;5;28;43mself\u001b[39;49m\u001b[38;5;241;43m.\u001b[39;49m\u001b[43m_data\u001b[49m\u001b[43m[\u001b[49m\u001b[43mkey\u001b[49m\u001b[43m]\u001b[49m\n",
      "\u001b[0;31mKeyError\u001b[0m: 'graph_neigh'"
     ]
    }
   ],
   "source": [
    "# Define model\n",
    "model = GraphST.GraphST(adata, device=device, random_seed=0)"
   ]
  },
  {
   "cell_type": "code",
   "execution_count": null,
   "id": "4c19e620-b044-4b5a-97d4-eac4d13ecbf7",
   "metadata": {},
   "outputs": [],
   "source": [
    "# Train model\n",
    "adata = model.train()"
   ]
  },
  {
   "cell_type": "code",
   "execution_count": null,
   "id": "74f36f9a-9df0-4d1a-a696-ffdd498076b8",
   "metadata": {},
   "outputs": [],
   "source": [
    "adata"
   ]
  },
  {
   "cell_type": "code",
   "execution_count": null,
   "id": "7463a404-2d9f-4c68-9284-89a371ae117c",
   "metadata": {},
   "outputs": [],
   "source": [
    "# plotting predicted labels by UMAP\n",
    "sc.pp.neighbors(adata, use_rep=\"emb\", n_neighbors=10)\n",
    "sc.tl.umap(adata)\n",
    "sc.pl.umap(adata, color=cell_type_key, title=['Predicted labels'], show=False)"
   ]
  },
  {
   "cell_type": "code",
   "execution_count": null,
   "id": "d94918c4-114f-42e9-86f9-315ac5c23574",
   "metadata": {},
   "outputs": [],
   "source": []
  },
  {
   "cell_type": "code",
   "execution_count": null,
   "id": "ea84030c-5555-46c9-9738-ce8ae2e73d0e",
   "metadata": {},
   "outputs": [],
   "source": []
  },
  {
   "cell_type": "code",
   "execution_count": null,
   "id": "3c253786-6a39-426e-be58-c1a3b8ecdf54",
   "metadata": {},
   "outputs": [],
   "source": []
  }
 ],
 "metadata": {
  "kernelspec": {
   "display_name": "Python 3 (ipykernel)",
   "language": "python",
   "name": "python3"
  },
  "language_info": {
   "codemirror_mode": {
    "name": "ipython",
    "version": 3
   },
   "file_extension": ".py",
   "mimetype": "text/x-python",
   "name": "python",
   "nbconvert_exporter": "python",
   "pygments_lexer": "ipython3",
   "version": "3.10.4"
  }
 },
 "nbformat": 4,
 "nbformat_minor": 5
}
