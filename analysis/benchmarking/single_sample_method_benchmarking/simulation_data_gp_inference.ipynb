{
 "cells": [
  {
   "cell_type": "markdown",
   "id": "31158ef9-d5b8-4d34-b735-97fe829bff12",
   "metadata": {},
   "source": [
    "# Simulation Data Gene Program Inference"
   ]
  },
  {
   "cell_type": "markdown",
   "id": "89c7fb21-9b86-46c5-a174-e107a0a1221a",
   "metadata": {},
   "source": [
    "- **Creator**: Sebastian Birk (sebastian.birk@helmholtz-munich.de)\n",
    "- **Date of Creation:** 12.07.2024\n",
    "- **Date of Last Modification:** 17.08.2024"
   ]
  },
  {
   "cell_type": "markdown",
   "id": "9ad6ca50-25d4-45cc-806b-66bf698f81e9",
   "metadata": {},
   "source": [
    "- Perform gene set enrichment analysis with Decoupler as described at https://www.sc-best-practices.org/conditions/gsea_pathway.html#cluster-level-gene-set-enrichment-analysis-with-decoupler\n",
    "- Perform CCI analysis with LIANA as described at https://liana-py.readthedocs.io/en/latest/notebooks/liana_c2c.html with NicheCompass GPs as custom resource as illustrated at https://ccc-protocols.readthedocs.io/en/latest/notebooks/ccc_python/02-Infer-Communication-Scores.html#Alternative-Resources"
   ]
  },
  {
   "cell_type": "markdown",
   "id": "0ecc11b0-927a-4ee2-97e0-a66c22f7d9f1",
   "metadata": {},
   "source": [
    "## 1. Setup"
   ]
  },
  {
   "cell_type": "markdown",
   "id": "9a46506a-8379-4055-bdb6-c0f29347b300",
   "metadata": {},
   "source": [
    "### 1.1 Import Libraries"
   ]
  },
  {
   "cell_type": "code",
   "execution_count": 1,
   "id": "5ef43669-df89-4b84-aad9-d62754496575",
   "metadata": {},
   "outputs": [],
   "source": [
    "%load_ext autoreload\n",
    "%autoreload 2"
   ]
  },
  {
   "cell_type": "code",
   "execution_count": 3,
   "id": "58542bc8-95a1-40e8-9fde-4eb9d4de1066",
   "metadata": {},
   "outputs": [
    {
     "name": "stderr",
     "output_type": "stream",
     "text": [
      "/nfs/users/nfs_s/sb75/.conda/envs/nichecompass-reproducibility/lib/python3.9/site-packages/torch_geometric/typing.py:72: UserWarning: An issue occurred while importing 'torch-scatter'. Disabling its usage. Stacktrace: /nfs/users/nfs_s/sb75/.conda/envs/nichecompass-reproducibility/lib/python3.9/site-packages/torch_scatter/_version_cuda.so: undefined symbol: _ZN3c1017RegisterOperatorsD1Ev\n",
      "/nfs/users/nfs_s/sb75/.conda/envs/nichecompass-reproducibility/lib/python3.9/site-packages/torch_geometric/typing.py:110: UserWarning: An issue occurred while importing 'torch-sparse'. Disabling its usage. Stacktrace: /nfs/users/nfs_s/sb75/.conda/envs/nichecompass-reproducibility/lib/python3.9/site-packages/torch_sparse/_version_cuda.so: undefined symbol: _ZN3c1017RegisterOperatorsD1Ev\n"
     ]
    },
    {
     "ename": "OSError",
     "evalue": "/nfs/users/nfs_s/sb75/.conda/envs/nichecompass-reproducibility/lib/python3.9/site-packages/torch_sparse/_version_cuda.so: undefined symbol: _ZN3c1017RegisterOperatorsD1Ev",
     "output_type": "error",
     "traceback": [
      "\u001b[0;31m---------------------------------------------------------------------------\u001b[0m",
      "\u001b[0;31mOSError\u001b[0m                                   Traceback (most recent call last)",
      "Cell \u001b[0;32mIn[3], line 9\u001b[0m\n\u001b[1;32m      7\u001b[0m \u001b[38;5;28;01mfrom\u001b[39;00m \u001b[38;5;21;01msklearn\u001b[39;00m\u001b[38;5;21;01m.\u001b[39;00m\u001b[38;5;21;01mmetrics\u001b[39;00m \u001b[38;5;28;01mimport\u001b[39;00m f1_score\n\u001b[1;32m      8\u001b[0m \u001b[38;5;28;01mfrom\u001b[39;00m \u001b[38;5;21;01mmatplotlib\u001b[39;00m \u001b[38;5;28;01mimport\u001b[39;00m gridspec\n\u001b[0;32m----> 9\u001b[0m \u001b[38;5;28;01mfrom\u001b[39;00m \u001b[38;5;21;01mnichecompass\u001b[39;00m\u001b[38;5;21;01m.\u001b[39;00m\u001b[38;5;21;01mutils\u001b[39;00m \u001b[38;5;28;01mimport\u001b[39;00m (create_new_color_dict,\n\u001b[1;32m     10\u001b[0m                                 extract_gp_dict_from_mebocost_ms_interactions,\n\u001b[1;32m     11\u001b[0m                                 extract_gp_dict_from_nichenet_lrt_interactions,\n\u001b[1;32m     12\u001b[0m                                 extract_gp_dict_from_omnipath_lr_interactions,\n\u001b[1;32m     13\u001b[0m                                 filter_and_combine_gp_dict_gps_v2)\n",
      "File \u001b[0;32m~/.conda/envs/nichecompass-reproducibility/lib/python3.9/site-packages/nichecompass/__init__.py:3\u001b[0m\n\u001b[1;32m      1\u001b[0m \u001b[38;5;28;01mfrom\u001b[39;00m \u001b[38;5;21;01mimportlib\u001b[39;00m\u001b[38;5;21;01m.\u001b[39;00m\u001b[38;5;21;01mmetadata\u001b[39;00m \u001b[38;5;28;01mimport\u001b[39;00m version\n\u001b[0;32m----> 3\u001b[0m \u001b[38;5;28;01mfrom\u001b[39;00m \u001b[38;5;21;01m.\u001b[39;00m \u001b[38;5;28;01mimport\u001b[39;00m data, models, modules, nn, train, utils\n\u001b[1;32m      5\u001b[0m __all__ \u001b[38;5;241m=\u001b[39m [\u001b[38;5;124m\"\u001b[39m\u001b[38;5;124mdata\u001b[39m\u001b[38;5;124m\"\u001b[39m, \u001b[38;5;124m\"\u001b[39m\u001b[38;5;124mmodels\u001b[39m\u001b[38;5;124m\"\u001b[39m, \u001b[38;5;124m\"\u001b[39m\u001b[38;5;124mmodules\u001b[39m\u001b[38;5;124m\"\u001b[39m, \u001b[38;5;124m\"\u001b[39m\u001b[38;5;124mnn\u001b[39m\u001b[38;5;124m\"\u001b[39m, \u001b[38;5;124m\"\u001b[39m\u001b[38;5;124mtrain\u001b[39m\u001b[38;5;124m\"\u001b[39m, \u001b[38;5;124m\"\u001b[39m\u001b[38;5;124mutils\u001b[39m\u001b[38;5;124m\"\u001b[39m]\n\u001b[1;32m      7\u001b[0m __version__ \u001b[38;5;241m=\u001b[39m version(\u001b[38;5;124m\"\u001b[39m\u001b[38;5;124mnichecompass\u001b[39m\u001b[38;5;124m\"\u001b[39m)\n",
      "File \u001b[0;32m~/.conda/envs/nichecompass-reproducibility/lib/python3.9/site-packages/nichecompass/data/__init__.py:2\u001b[0m\n\u001b[1;32m      1\u001b[0m \u001b[38;5;28;01mfrom\u001b[39;00m \u001b[38;5;21;01m.\u001b[39;00m\u001b[38;5;21;01mdataloaders\u001b[39;00m \u001b[38;5;28;01mimport\u001b[39;00m initialize_dataloaders\n\u001b[0;32m----> 2\u001b[0m \u001b[38;5;28;01mfrom\u001b[39;00m \u001b[38;5;21;01m.\u001b[39;00m\u001b[38;5;21;01mdataprocessors\u001b[39;00m \u001b[38;5;28;01mimport\u001b[39;00m (edge_level_split,\n\u001b[1;32m      3\u001b[0m                              node_level_split_mask,\n\u001b[1;32m      4\u001b[0m                              prepare_data)\n\u001b[1;32m      5\u001b[0m \u001b[38;5;28;01mfrom\u001b[39;00m \u001b[38;5;21;01m.\u001b[39;00m\u001b[38;5;21;01mdatareaders\u001b[39;00m \u001b[38;5;28;01mimport\u001b[39;00m load_spatial_adata_from_csv\n\u001b[1;32m      6\u001b[0m \u001b[38;5;28;01mfrom\u001b[39;00m \u001b[38;5;21;01m.\u001b[39;00m\u001b[38;5;21;01mdatasets\u001b[39;00m \u001b[38;5;28;01mimport\u001b[39;00m SpatialAnnTorchDataset\n",
      "File \u001b[0;32m~/.conda/envs/nichecompass-reproducibility/lib/python3.9/site-packages/nichecompass/data/dataprocessors.py:14\u001b[0m\n\u001b[1;32m     11\u001b[0m \u001b[38;5;28;01mfrom\u001b[39;00m \u001b[38;5;21;01mtorch_geometric\u001b[39;00m\u001b[38;5;21;01m.\u001b[39;00m\u001b[38;5;21;01mtransforms\u001b[39;00m \u001b[38;5;28;01mimport\u001b[39;00m RandomNodeSplit, RandomLinkSplit\n\u001b[1;32m     12\u001b[0m \u001b[38;5;28;01mfrom\u001b[39;00m \u001b[38;5;21;01mtorch_geometric\u001b[39;00m\u001b[38;5;21;01m.\u001b[39;00m\u001b[38;5;21;01mutils\u001b[39;00m \u001b[38;5;28;01mimport\u001b[39;00m add_self_loops, remove_self_loops\n\u001b[0;32m---> 14\u001b[0m \u001b[38;5;28;01mfrom\u001b[39;00m \u001b[38;5;21;01m.\u001b[39;00m\u001b[38;5;21;01mdatasets\u001b[39;00m \u001b[38;5;28;01mimport\u001b[39;00m SpatialAnnTorchDataset\n\u001b[1;32m     17\u001b[0m \u001b[38;5;28;01mdef\u001b[39;00m \u001b[38;5;21medge_level_split\u001b[39m(data: Data,\n\u001b[1;32m     18\u001b[0m                      edge_label_adj: Optional[sp\u001b[38;5;241m.\u001b[39mcsr_matrix],\n\u001b[1;32m     19\u001b[0m                      val_ratio: \u001b[38;5;28mfloat\u001b[39m\u001b[38;5;241m=\u001b[39m\u001b[38;5;241m0.1\u001b[39m,\n\u001b[1;32m     20\u001b[0m                      test_ratio: \u001b[38;5;28mfloat\u001b[39m\u001b[38;5;241m=\u001b[39m\u001b[38;5;241m0.\u001b[39m,\n\u001b[1;32m     21\u001b[0m                      is_undirected: \u001b[38;5;28mbool\u001b[39m\u001b[38;5;241m=\u001b[39m\u001b[38;5;28;01mTrue\u001b[39;00m,\n\u001b[1;32m     22\u001b[0m                      neg_sampling_ratio: \u001b[38;5;28mfloat\u001b[39m\u001b[38;5;241m=\u001b[39m\u001b[38;5;241m0.\u001b[39m) \u001b[38;5;241m-\u001b[39m\u001b[38;5;241m>\u001b[39m Tuple[Data, Data, Data]:\n\u001b[1;32m     23\u001b[0m \u001b[38;5;250m    \u001b[39m\u001b[38;5;124;03m\"\"\"\u001b[39;00m\n\u001b[1;32m     24\u001b[0m \u001b[38;5;124;03m    Split a PyG Data object into training, validation and test PyG Data objects \u001b[39;00m\n\u001b[1;32m     25\u001b[0m \u001b[38;5;124;03m    using an edge-level split. The training split does not include edges in the\u001b[39;00m\n\u001b[0;32m   (...)\u001b[0m\n\u001b[1;32m     60\u001b[0m \u001b[38;5;124;03m        Test PyG Data object.\u001b[39;00m\n\u001b[1;32m     61\u001b[0m \u001b[38;5;124;03m    \"\"\"\u001b[39;00m\n",
      "File \u001b[0;32m~/.conda/envs/nichecompass-reproducibility/lib/python3.9/site-packages/nichecompass/data/datasets.py:13\u001b[0m\n\u001b[1;32m     10\u001b[0m \u001b[38;5;28;01mfrom\u001b[39;00m \u001b[38;5;21;01manndata\u001b[39;00m \u001b[38;5;28;01mimport\u001b[39;00m AnnData\n\u001b[1;32m     11\u001b[0m \u001b[38;5;28;01mfrom\u001b[39;00m \u001b[38;5;21;01mtorch_geometric\u001b[39;00m\u001b[38;5;21;01m.\u001b[39;00m\u001b[38;5;21;01mutils\u001b[39;00m \u001b[38;5;28;01mimport\u001b[39;00m add_self_loops, remove_self_loops\n\u001b[0;32m---> 13\u001b[0m \u001b[38;5;28;01mfrom\u001b[39;00m \u001b[38;5;21;01m.\u001b[39;00m\u001b[38;5;21;01mutils\u001b[39;00m \u001b[38;5;28;01mimport\u001b[39;00m encode_labels, sparse_mx_to_sparse_tensor\n\u001b[1;32m     16\u001b[0m \u001b[38;5;28;01mclass\u001b[39;00m \u001b[38;5;21;01mSpatialAnnTorchDataset\u001b[39;00m():\n\u001b[1;32m     17\u001b[0m \u001b[38;5;250m    \u001b[39m\u001b[38;5;124;03m\"\"\"\u001b[39;00m\n\u001b[1;32m     18\u001b[0m \u001b[38;5;124;03m    Spatially annotated torch dataset class to extract node features, node \u001b[39;00m\n\u001b[1;32m     19\u001b[0m \u001b[38;5;124;03m    labels, adjacency matrix and edge indices in a standardized format from an \u001b[39;00m\n\u001b[0;32m   (...)\u001b[0m\n\u001b[1;32m     43\u001b[0m \u001b[38;5;124;03m        Keys under which the categorical covariates are stored in ´adata.obs´.\u001b[39;00m\n\u001b[1;32m     44\u001b[0m \u001b[38;5;124;03m    \"\"\"\u001b[39;00m\n",
      "File \u001b[0;32m~/.conda/envs/nichecompass-reproducibility/lib/python3.9/site-packages/nichecompass/data/utils.py:9\u001b[0m\n\u001b[1;32m      7\u001b[0m \u001b[38;5;28;01mimport\u001b[39;00m \u001b[38;5;21;01mtorch\u001b[39;00m\n\u001b[1;32m      8\u001b[0m \u001b[38;5;28;01mfrom\u001b[39;00m \u001b[38;5;21;01mscipy\u001b[39;00m\u001b[38;5;21;01m.\u001b[39;00m\u001b[38;5;21;01msparse\u001b[39;00m \u001b[38;5;28;01mimport\u001b[39;00m csr_matrix\n\u001b[0;32m----> 9\u001b[0m \u001b[38;5;28;01mfrom\u001b[39;00m \u001b[38;5;21;01mtorch_sparse\u001b[39;00m \u001b[38;5;28;01mimport\u001b[39;00m SparseTensor\n\u001b[1;32m     12\u001b[0m \u001b[38;5;28;01mdef\u001b[39;00m \u001b[38;5;21mencode_labels\u001b[39m(adata: ad\u001b[38;5;241m.\u001b[39mAnnData,\n\u001b[1;32m     13\u001b[0m                   label_encoder: \u001b[38;5;28mdict\u001b[39m,\n\u001b[1;32m     14\u001b[0m                   label_key\u001b[38;5;241m=\u001b[39m\u001b[38;5;124m\"\u001b[39m\u001b[38;5;124mstr\u001b[39m\u001b[38;5;124m\"\u001b[39m) \u001b[38;5;241m-\u001b[39m\u001b[38;5;241m>\u001b[39m np\u001b[38;5;241m.\u001b[39mndarray:\n\u001b[1;32m     15\u001b[0m \u001b[38;5;250m    \u001b[39m\u001b[38;5;124;03m\"\"\"\u001b[39;00m\n\u001b[1;32m     16\u001b[0m \u001b[38;5;124;03m    Encode labels from an `adata` object stored in `adata.obs` to integers.\u001b[39;00m\n\u001b[1;32m     17\u001b[0m \n\u001b[0;32m   (...)\u001b[0m\n\u001b[1;32m     34\u001b[0m \u001b[38;5;124;03m        Integer-encoded labels.\u001b[39;00m\n\u001b[1;32m     35\u001b[0m \u001b[38;5;124;03m    \"\"\"\u001b[39;00m\n",
      "File \u001b[0;32m~/.conda/envs/nichecompass-reproducibility/lib/python3.9/site-packages/torch_sparse/__init__.py:18\u001b[0m\n\u001b[1;32m     16\u001b[0m spec \u001b[38;5;241m=\u001b[39m cuda_spec \u001b[38;5;129;01mor\u001b[39;00m cpu_spec\n\u001b[1;32m     17\u001b[0m \u001b[38;5;28;01mif\u001b[39;00m spec \u001b[38;5;129;01mis\u001b[39;00m \u001b[38;5;129;01mnot\u001b[39;00m \u001b[38;5;28;01mNone\u001b[39;00m:\n\u001b[0;32m---> 18\u001b[0m     \u001b[43mtorch\u001b[49m\u001b[38;5;241;43m.\u001b[39;49m\u001b[43mops\u001b[49m\u001b[38;5;241;43m.\u001b[39;49m\u001b[43mload_library\u001b[49m\u001b[43m(\u001b[49m\u001b[43mspec\u001b[49m\u001b[38;5;241;43m.\u001b[39;49m\u001b[43morigin\u001b[49m\u001b[43m)\u001b[49m\n\u001b[1;32m     19\u001b[0m \u001b[38;5;28;01melse\u001b[39;00m:  \u001b[38;5;66;03m# pragma: no cover\u001b[39;00m\n\u001b[1;32m     20\u001b[0m     \u001b[38;5;28;01mraise\u001b[39;00m \u001b[38;5;167;01mImportError\u001b[39;00m(\u001b[38;5;124mf\u001b[39m\u001b[38;5;124m\"\u001b[39m\u001b[38;5;124mCould not find module \u001b[39m\u001b[38;5;124m'\u001b[39m\u001b[38;5;132;01m{\u001b[39;00mlibrary\u001b[38;5;132;01m}\u001b[39;00m\u001b[38;5;124m_cpu\u001b[39m\u001b[38;5;124m'\u001b[39m\u001b[38;5;124m in \u001b[39m\u001b[38;5;124m\"\u001b[39m\n\u001b[1;32m     21\u001b[0m                       \u001b[38;5;124mf\u001b[39m\u001b[38;5;124m\"\u001b[39m\u001b[38;5;132;01m{\u001b[39;00mosp\u001b[38;5;241m.\u001b[39mdirname(\u001b[38;5;18m__file__\u001b[39m)\u001b[38;5;132;01m}\u001b[39;00m\u001b[38;5;124m\"\u001b[39m)\n",
      "File \u001b[0;32m~/.conda/envs/nichecompass-reproducibility/lib/python3.9/site-packages/torch/_ops.py:1295\u001b[0m, in \u001b[0;36m_Ops.load_library\u001b[0;34m(self, path)\u001b[0m\n\u001b[1;32m   1290\u001b[0m path \u001b[38;5;241m=\u001b[39m _utils_internal\u001b[38;5;241m.\u001b[39mresolve_library_path(path)\n\u001b[1;32m   1291\u001b[0m \u001b[38;5;28;01mwith\u001b[39;00m dl_open_guard():\n\u001b[1;32m   1292\u001b[0m     \u001b[38;5;66;03m# Import the shared library into the process, thus running its\u001b[39;00m\n\u001b[1;32m   1293\u001b[0m     \u001b[38;5;66;03m# static (global) initialization code in order to register custom\u001b[39;00m\n\u001b[1;32m   1294\u001b[0m     \u001b[38;5;66;03m# operators with the JIT.\u001b[39;00m\n\u001b[0;32m-> 1295\u001b[0m     \u001b[43mctypes\u001b[49m\u001b[38;5;241;43m.\u001b[39;49m\u001b[43mCDLL\u001b[49m\u001b[43m(\u001b[49m\u001b[43mpath\u001b[49m\u001b[43m)\u001b[49m\n\u001b[1;32m   1296\u001b[0m \u001b[38;5;28mself\u001b[39m\u001b[38;5;241m.\u001b[39mloaded_libraries\u001b[38;5;241m.\u001b[39madd(path)\n",
      "File \u001b[0;32m~/.conda/envs/nichecompass-reproducibility/lib/python3.9/ctypes/__init__.py:374\u001b[0m, in \u001b[0;36mCDLL.__init__\u001b[0;34m(self, name, mode, handle, use_errno, use_last_error, winmode)\u001b[0m\n\u001b[1;32m    371\u001b[0m \u001b[38;5;28mself\u001b[39m\u001b[38;5;241m.\u001b[39m_FuncPtr \u001b[38;5;241m=\u001b[39m _FuncPtr\n\u001b[1;32m    373\u001b[0m \u001b[38;5;28;01mif\u001b[39;00m handle \u001b[38;5;129;01mis\u001b[39;00m \u001b[38;5;28;01mNone\u001b[39;00m:\n\u001b[0;32m--> 374\u001b[0m     \u001b[38;5;28mself\u001b[39m\u001b[38;5;241m.\u001b[39m_handle \u001b[38;5;241m=\u001b[39m \u001b[43m_dlopen\u001b[49m\u001b[43m(\u001b[49m\u001b[38;5;28;43mself\u001b[39;49m\u001b[38;5;241;43m.\u001b[39;49m\u001b[43m_name\u001b[49m\u001b[43m,\u001b[49m\u001b[43m \u001b[49m\u001b[43mmode\u001b[49m\u001b[43m)\u001b[49m\n\u001b[1;32m    375\u001b[0m \u001b[38;5;28;01melse\u001b[39;00m:\n\u001b[1;32m    376\u001b[0m     \u001b[38;5;28mself\u001b[39m\u001b[38;5;241m.\u001b[39m_handle \u001b[38;5;241m=\u001b[39m handle\n",
      "\u001b[0;31mOSError\u001b[0m: /nfs/users/nfs_s/sb75/.conda/envs/nichecompass-reproducibility/lib/python3.9/site-packages/torch_sparse/_version_cuda.so: undefined symbol: _ZN3c1017RegisterOperatorsD1Ev"
     ]
    }
   ],
   "source": [
    "import decoupler\n",
    "import liana as li\n",
    "import matplotlib.pyplot as plt\n",
    "import numpy as np\n",
    "import pandas as pd\n",
    "import scanpy as sc\n",
    "from sklearn.metrics import f1_score\n",
    "from matplotlib import gridspec\n",
    "from nichecompass.utils import (create_new_color_dict,\n",
    "                                extract_gp_dict_from_mebocost_ms_interactions,\n",
    "                                extract_gp_dict_from_nichenet_lrt_interactions,\n",
    "                                extract_gp_dict_from_omnipath_lr_interactions,\n",
    "                                filter_and_combine_gp_dict_gps_v2)"
   ]
  },
  {
   "cell_type": "markdown",
   "id": "c16ab975-57c4-45fb-af9d-79d551c78cd1",
   "metadata": {},
   "source": [
    "### 1.2 Define Parameters"
   ]
  },
  {
   "cell_type": "code",
   "execution_count": null,
   "id": "3b15a2e7-2143-4700-943e-a897bcbfb7f4",
   "metadata": {
    "tags": []
   },
   "outputs": [],
   "source": [
    "species = \"mouse\"\n",
    "niche_key = \"niche_types\"\n",
    "cell_type_key = \"cell_types\"\n",
    "sample_key = \"batch\"\n",
    "differential_gp_test_results_key = \"nichecompass_differential_gp_test_results\"\n",
    "\n",
    "spot_size = 40"
   ]
  },
  {
   "cell_type": "markdown",
   "id": "c6386925-8e92-4cc2-a889-72a717e24f90",
   "metadata": {},
   "source": [
    "### 1.3 Run Notebook Setup"
   ]
  },
  {
   "cell_type": "code",
   "execution_count": null,
   "id": "8e1ba8ba-a961-41e8-bddd-520e0dd13c04",
   "metadata": {},
   "outputs": [],
   "source": [
    "sc.set_figure_params(figsize=(6, 6))"
   ]
  },
  {
   "cell_type": "markdown",
   "id": "46237877-edd4-4631-bb89-058d67ec91cc",
   "metadata": {},
   "source": [
    "### 1.4 Configure Paths and Directories"
   ]
  },
  {
   "cell_type": "code",
   "execution_count": null,
   "id": "5feb8575-bbbb-47f6-9829-335c16a9c95e",
   "metadata": {},
   "outputs": [],
   "source": [
    "ga_data_folder_path = \"../../../datasets/ga_data\"\n",
    "gp_data_folder_path = \"../../../datasets/gp_data\"\n",
    "st_data_folder_path = \"../../../datasets/st_data\"\n",
    "st_data_gold_folder_path = st_data_folder_path + \"/gold\"\n",
    "omnipath_lr_network_file_path = f\"{gp_data_folder_path}/omnipath_lr_network.csv\"\n",
    "nichenet_lr_network_file_path = f\"{gp_data_folder_path}/nichenet_lr_network_v2_{species}.csv\"\n",
    "nichenet_ligand_target_matrix_file_path = f\"{gp_data_folder_path}/nichenet_ligand_target_matrix_v2_{species}.csv\"\n",
    "mebocost_enzyme_sensor_interactions_folder_path = f\"{gp_data_folder_path}/metabolite_enzyme_sensor_gps\"\n",
    "gene_orthologs_mapping_file_path = f\"{ga_data_folder_path}/human_mouse_gene_orthologs.csv\"\n",
    "artifacts_folder_path = f\"../../../artifacts\""
   ]
  },
  {
   "cell_type": "markdown",
   "id": "afa901e6-016a-4d02-8ac7-4a357d813170",
   "metadata": {},
   "source": [
    "### 1.5 Define Functions"
   ]
  },
  {
   "cell_type": "code",
   "execution_count": null,
   "id": "d709c0cd-cb47-446a-891a-0a8b2300d6e9",
   "metadata": {},
   "outputs": [],
   "source": [
    "def compute_f1(set1, set2):\n",
    "    # Convert sets to binary vectors\n",
    "    all_elements = list(set1.union(set2))\n",
    "    vec1 = [1 if elem in set1 else 0 for elem in all_elements]\n",
    "    vec2 = [1 if elem in set2 else 0 for elem in all_elements]\n",
    "    \n",
    "    # Compute F1 score\n",
    "    return f1_score(vec1, vec2)"
   ]
  },
  {
   "cell_type": "markdown",
   "id": "d4a9f454-6da4-4499-bd98-cdc452ef7468",
   "metadata": {},
   "source": [
    "## 2. GP Inference\n"
   ]
  },
  {
   "cell_type": "markdown",
   "id": "e46adbbe-cbc3-4734-953b-dc5332885794",
   "metadata": {
    "tags": []
   },
   "source": [
    "### 2.1 Load Cell Embeddings from BANKSY & NicheCompass\n",
    "\n"
   ]
  },
  {
   "cell_type": "code",
   "execution_count": null,
   "id": "fbfa7066-faf1-4e88-8d07-02d2b50aa1b4",
   "metadata": {},
   "outputs": [],
   "source": [
    "# Get embeddings from BANKSY\n",
    "adata_annotated_banksy = sc.read_h5ad(f\"{artifacts_folder_path}/single_sample_method_benchmarking/sim1_1105genes_10000locs_strongincrements_banksy.h5ad\")\n",
    "\n",
    "# Get embeddings from NC\n",
    "adata_annotated_nichecompass = sc.read_h5ad(f\"{artifacts_folder_path}/single_sample_method_benchmarking/sim1_1105genes_10000locs_strongincrements_nichecompass_gatv2conv.h5ad\")\n",
    "\n",
    "# Get raw gene expression counts\n",
    "adata = sc.read_h5ad(f\"{st_data_gold_folder_path}/sim1_1105genes_10000locs_strongincrements.h5ad\")\n",
    "\n",
    "for run_number in range(1,9):\n",
    "    adata.obsm[f\"banksy_latent_run{run_number}\"] = adata_annotated_banksy.obsm[f\"banksy_latent_run{run_number}\"]\n",
    "    adata.obsm[f\"nichecompass_latent_run{run_number}\"] = adata_annotated_nichecompass.obsm[f\"nichecompass_latent_run{run_number}\"]\n",
    "del(adata_annotated_banksy)\n",
    "del(adata_annotated_nichecompass)\n",
    "\n",
    "# Preprocess counts\n",
    "sc.pp.normalize_total(adata)\n",
    "sc.pp.log1p(adata)"
   ]
  },
  {
   "cell_type": "markdown",
   "id": "c55f4c5b-dbc9-43af-8fe2-7db85b367b6a",
   "metadata": {},
   "source": [
    "### 2.2 Get NicheCompass GPs for Use as Prior Knowledge"
   ]
  },
  {
   "cell_type": "code",
   "execution_count": null,
   "id": "bf82229f-7956-4607-8eda-79ee784bca24",
   "metadata": {},
   "outputs": [],
   "source": [
    "# Retrieve OmniPath GPs (source: ligand genes; target: receptor genes)\n",
    "omnipath_gp_dict = extract_gp_dict_from_omnipath_lr_interactions(\n",
    "    species=species,\n",
    "    load_from_disk=True,\n",
    "    save_to_disk=False,\n",
    "    lr_network_file_path=omnipath_lr_network_file_path,\n",
    "    gene_orthologs_mapping_file_path=gene_orthologs_mapping_file_path,\n",
    "    plot_gp_gene_count_distributions=False)\n",
    "\n",
    "# Retrieve NicheNet GPs (source: ligand genes; target: receptor genes, target genes)\n",
    "nichenet_gp_dict = extract_gp_dict_from_nichenet_lrt_interactions(\n",
    "    species=species,\n",
    "    version=\"v2\",\n",
    "    load_from_disk=True,\n",
    "    save_to_disk=False,\n",
    "    lr_network_file_path=nichenet_lr_network_file_path,\n",
    "    ligand_target_matrix_file_path=nichenet_ligand_target_matrix_file_path,\n",
    "    gene_orthologs_mapping_file_path=gene_orthologs_mapping_file_path,\n",
    "    plot_gp_gene_count_distributions=False)\n",
    "\n",
    "# Retrieve MEBOCOST GPs (source: enzyme genes; target: sensor genes)\n",
    "mebocost_gp_dict = extract_gp_dict_from_mebocost_ms_interactions(\n",
    "    dir_path=mebocost_enzyme_sensor_interactions_folder_path,\n",
    "    species=species,\n",
    "    plot_gp_gene_count_distributions=False)\n",
    "\n",
    "# Filter and combine GPs\n",
    "gp_dicts = [omnipath_gp_dict, nichenet_gp_dict, mebocost_gp_dict]\n",
    "combined_gp_dict = filter_and_combine_gp_dict_gps_v2(\n",
    "    gp_dicts,\n",
    "    verbose=True)\n",
    "\n",
    "combined_gp_df = pd.DataFrame(combined_gp_dict.values(), index=combined_gp_dict.keys())\n",
    "\n",
    "# Filter genes to keep only genes in adata\n",
    "adata_genes = adata.var.index.tolist()\n",
    "combined_gp_df[\"sources\"] = combined_gp_df[\"sources\"].apply(lambda x: [gene for gene in x if gene in adata_genes])\n",
    "combined_gp_df[\"targets\"] = combined_gp_df[\"targets\"].apply(lambda x: [gene for gene in x if gene in adata_genes])"
   ]
  },
  {
   "cell_type": "markdown",
   "id": "d6f481c0-4f39-42f6-839b-83f740e05bf7",
   "metadata": {},
   "source": [
    "### 2.3 Get Simulation Ground Truth GPs"
   ]
  },
  {
   "cell_type": "code",
   "execution_count": null,
   "id": "303886c5-f384-479e-a610-e4c0d26b36d3",
   "metadata": {},
   "outputs": [],
   "source": [
    "# Get GP ground truth stats\n",
    "increment_mode = \"strong\"\n",
    "sim_gps_stats_file_path = f\"sim_gps_filtered_stats_{increment_mode}increments.csv\"\n",
    "sim_gps_stats = pd.read_csv(f\"{gp_data_folder_path}/data_simulation/{sim_gps_stats_file_path}\")\n",
    "sim_gps_stats = sim_gps_stats.applymap(lambda x: \"\" if pd.isna(x) else x)\n",
    "sim_gps_stats[\"prior_gps\"] = sim_gps_stats[\"prior_gps\"].apply(\n",
    "    lambda x: [gp for gp in x.split(\",\")])\n",
    "sim_gps_stats = sim_gps_stats[sim_gps_stats[\"increment_param\"] != 1]\n",
    "sim_gps_stats = sim_gps_stats.groupby(\"regionA\")[\"prior_gps\"].sum().reset_index()\n",
    "sim_gps_stats[\"prior_gps\"] = sim_gps_stats[\"prior_gps\"].apply(lambda x: {item for item in x if item not in [None, '']})\n",
    "sim_gps_stats.rename(columns={'regionA': 'niche'}, inplace=True)"
   ]
  },
  {
   "cell_type": "markdown",
   "id": "53d14041-b936-4548-acbc-e15ec90b811d",
   "metadata": {},
   "source": [
    "### 2.4 NicheCompass Metrics"
   ]
  },
  {
   "cell_type": "code",
   "execution_count": 17,
   "id": "77d7241b-30b2-4c02-ba02-37455d2da08a",
   "metadata": {},
   "outputs": [
    {
     "name": "stdout",
     "output_type": "stream",
     "text": [
      "Starting run 1...\n",
      "Computing Leiden clusters...\n",
      "Current number of niches: 12\n",
      "Cluster counter: 0\n",
      "Big decrease of clustering resolution...\n",
      "Current number of niches: 11\n",
      "Cluster counter: 1\n",
      "Big decrease of clustering resolution...\n",
      "Current number of niches: 8\n",
      "Cluster counter: 2\n",
      "Computing enriched GPs..\n"
     ]
    },
    {
     "ename": "NameError",
     "evalue": "name 'model' is not defined",
     "output_type": "error",
     "traceback": [
      "\u001b[0;31m---------------------------------------------------------------------------\u001b[0m",
      "\u001b[0;31mNameError\u001b[0m                                 Traceback (most recent call last)",
      "Cell \u001b[0;32mIn[17], line 52\u001b[0m\n\u001b[1;32m     50\u001b[0m comparison_cats \u001b[38;5;241m=\u001b[39m \u001b[38;5;124m\"\u001b[39m\u001b[38;5;124mrest\u001b[39m\u001b[38;5;124m\"\u001b[39m\n\u001b[1;32m     51\u001b[0m log_bayes_factor_thresh \u001b[38;5;241m=\u001b[39m \u001b[38;5;241m2.3\u001b[39m\n\u001b[0;32m---> 52\u001b[0m enriched_gps \u001b[38;5;241m=\u001b[39m \u001b[43mmodel\u001b[49m\u001b[38;5;241m.\u001b[39mrun_differential_gp_tests(\n\u001b[1;32m     53\u001b[0m     cat_key\u001b[38;5;241m=\u001b[39m\u001b[38;5;124m\"\u001b[39m\u001b[38;5;124mpred_niche_types\u001b[39m\u001b[38;5;124m\"\u001b[39m,\n\u001b[1;32m     54\u001b[0m     selected_cats\u001b[38;5;241m=\u001b[39mselected_cats,\n\u001b[1;32m     55\u001b[0m     comparison_cats\u001b[38;5;241m=\u001b[39mcomparison_cats,\n\u001b[1;32m     56\u001b[0m     log_bayes_factor_thresh\u001b[38;5;241m=\u001b[39mlog_bayes_factor_thresh)\n\u001b[1;32m     58\u001b[0m \u001b[38;5;66;03m# Get enriched prior and de novo GPs\u001b[39;00m\n\u001b[1;32m     59\u001b[0m gp_summary_df \u001b[38;5;241m=\u001b[39m model\u001b[38;5;241m.\u001b[39mget_gp_summary() \n",
      "\u001b[0;31mNameError\u001b[0m: name 'model' is not defined"
     ]
    }
   ],
   "source": [
    "# Get differentially expressed genes\n",
    "f1_scores = []\n",
    "\n",
    "for run_number in range(1,9):\n",
    "    print(f\"Starting run {run_number}...\")\n",
    "    latent_key = f\"nichecompass_latent\"\n",
    "    \n",
    "    load_timestamp = \"26072024_145319_1\"\n",
    "    \n",
    "    model_label = \"gatv2conv_single_sample_method_benchmarking\"\n",
    "    model_folder_path = f\"{artifacts_folder_path}/sim1_1105genes_10000locs_strongincrements/models/{model_label}/{load_timestamp}/run{run_number}\"\n",
    "\n",
    "    model = NicheCompass.load(dir_path=model_folder_path,\n",
    "                              adata=None,\n",
    "                              adata_file_name=f\"sim1_1105genes_10000locs_strongincrements_{model_label}.h5ad\",\n",
    "                              gp_names_key=gp_names_key) \n",
    "    \n",
    "    sc.pp.neighbors(model.adata,\n",
    "                    use_rep=latent_key,\n",
    "                    key_added=latent_key)\n",
    "    sc.tl.umap(model.adata,\n",
    "               neighbors_key=latent_key)\n",
    "    \n",
    "    # Compute Leiden clustering of latent space until 8 niches are obtained (to match ground truth number)\n",
    "    print(f\"Computing Leiden clusters...\")\n",
    "    latent_leiden_resolution = 0.3\n",
    "    leiden_resolution_increments = 0.1\n",
    "    latent_cluster_key = f\"latent_leiden_{str(latent_leiden_resolution)}\"\n",
    "    counter = 0\n",
    "    while True:\n",
    "        sc.tl.leiden(adata=model.adata,\n",
    "                     resolution=latent_leiden_resolution,\n",
    "                     key_added=\"pred_niche_types\",\n",
    "                     neighbors_key=latent_key)\n",
    "        \n",
    "        niche_counts = adata.obs[\"pred_niche_types\"].value_counts()\n",
    "        valid_niches = niche_counts[niche_counts >= 100].index\n",
    "        n_niches = adata.obs[adata.obs[\"pred_niche_types\"].isin(valid_niches)][\"pred_niche_types\"].nunique()\n",
    "        print(f\"Current number of niches: {n_niches}\")\n",
    "        print(f\"Cluster counter: {counter}\")\n",
    "        if n_niches == 8:\n",
    "            break\n",
    "        elif n_niches < 7 and counter < 30:\n",
    "            print(\"Big increase of clustering resolution...\")\n",
    "            latent_leiden_resolution += leiden_resolution_increments\n",
    "        elif n_niches < 8 and counter < 60:\n",
    "            print(\"Slight increase of clustering resolution...\")\n",
    "            latent_leiden_resolution += leiden_resolution_increments/10\n",
    "        elif n_niches > 9 and counter < 30:\n",
    "            print(\"Big decrease of clustering resolution...\")\n",
    "            latent_leiden_resolution -= leiden_resolution_increments\n",
    "        elif n_niches > 8 and counter < 60:\n",
    "            print(\"Slight decrease of clustering resolution...\")\n",
    "            latent_leiden_resolution -= leiden_resolution_increments/10\n",
    "        elif counter > 60:\n",
    "            break\n",
    "        counter += 1\n",
    "        \n",
    "    cross_tab = pd.crosstab(model.adata.obs[\"pred_niche_types\"], model.adata.obs[\"niche_types\"])\n",
    "    majority_map = cross_tab.idxmax(axis=1)\n",
    "    model.adata.obs[\"mapped_pred_niche_types\"] = model.adata.obs[\"pred_niche_types\"].map(majority_map)\n",
    "    \n",
    "    latent_cluster_colors = create_new_color_dict(\n",
    "        adata=adata,\n",
    "        cat_key=\"mapped_pred_niche_types\")\n",
    "    \n",
    "    # Create plot of latent cluster / niche annotations in physical and latent space\n",
    "    groups = None # set this to a specific cluster for easy visualization\n",
    "    save_fig = False\n",
    "    file_path = \"\"\n",
    "    \n",
    "    samples = adata.obs[sample_key].unique().tolist()\n",
    "    \n",
    "    fig = plt.figure(figsize=(12, 14))\n",
    "    title = fig.suptitle(t=f\"NicheCompass Niches \" \\\n",
    "                           \"in Latent and Physical Space\",\n",
    "                         y=0.96,\n",
    "                         x=0.55,\n",
    "                         fontsize=20)\n",
    "    spec1 = gridspec.GridSpec(ncols=1,\n",
    "                              nrows=2,\n",
    "                              width_ratios=[1],\n",
    "                              height_ratios=[3, 2])\n",
    "    spec2 = gridspec.GridSpec(ncols=len(samples),\n",
    "                              nrows=2,\n",
    "                              width_ratios=[1] * len(samples),\n",
    "                              height_ratios=[3, 2])\n",
    "    axs = []\n",
    "    axs.append(fig.add_subplot(spec1[0]))\n",
    "    sc.pl.umap(adata=adata,\n",
    "               color=[\"mapped_pred_niche_types\"],\n",
    "               groups=groups,\n",
    "               palette=latent_cluster_colors,\n",
    "               title=f\"Niches in Latent Space\",\n",
    "               ax=axs[0],\n",
    "               show=False)\n",
    "    for idx, sample in enumerate(samples):\n",
    "        axs.append(fig.add_subplot(spec2[len(samples) + idx]))\n",
    "        sc.pl.spatial(adata=adata[adata.obs[sample_key] == sample],\n",
    "                      color=[\"mapped_pred_niche_types\"],\n",
    "                      groups=groups,\n",
    "                      palette=latent_cluster_colors,\n",
    "                      spot_size=spot_size,\n",
    "                      title=f\"Niches in Physical Space \\n\"\n",
    "                            f\"(Sample: {sample})\",\n",
    "                      legend_loc=None,\n",
    "                      ax=axs[idx+1],\n",
    "                      show=False)\n",
    "    \n",
    "    # Create and position shared legend\n",
    "    handles, labels = axs[0].get_legend_handles_labels()\n",
    "    lgd = fig.legend(handles,\n",
    "                     labels,\n",
    "                     loc=\"center left\",\n",
    "                     bbox_to_anchor=(0.98, 0.5))\n",
    "    axs[0].get_legend().remove()\n",
    "    \n",
    "    # Adjust, save and display plot\n",
    "    plt.subplots_adjust(wspace=0.2, hspace=0.25)\n",
    "    if save_fig:\n",
    "        fig.savefig(file_path,\n",
    "                    bbox_extra_artists=(lgd, title),\n",
    "                    bbox_inches=\"tight\")\n",
    "    plt.show()\n",
    "    \n",
    "    print(f\"Computing enriched GPs...\")\n",
    "    selected_cats = None\n",
    "    comparison_cats = \"rest\"\n",
    "    log_bayes_factor_thresh = 2.3\n",
    "    enriched_gps = model.run_differential_gp_tests(\n",
    "        cat_key=\"mapped_pred_niche_types\",\n",
    "        selected_cats=selected_cats,\n",
    "        comparison_cats=comparison_cats,\n",
    "        log_bayes_factor_thresh=log_bayes_factor_thresh)\n",
    "\n",
    "    # Get enriched prior and de novo GPs\n",
    "    gp_summary_df = model.get_gp_summary() \n",
    "    enriched_gps = model.adata.uns[differential_gp_test_results_key]\n",
    "    prior_enriched_gps = enriched_gps[~enriched_gps[\"gene_program\"].str.contains(\"Add-on\")]  \n",
    "    enriched_prior_gps_per_niche = prior_enriched_gps.groupby(\n",
    "                \"category\")[[\"gene_program\", \"log_bayes_factor\"]].agg(list)\n",
    "\n",
    "    enriched_prior_gps_per_niche[\"niche\"] = enriched_prior_gps_per_niche.index.tolist()\n",
    "    niche_enriched_df = enriched_prior_gps_per_niche[[\"niche\", \"gene_program\"]]\n",
    "    niche_enriched_df[\"enriched_gps\"] = niche_enriched_df[\"gene_program\"].apply(lambda x: set(x))\n",
    "\n",
    "    # Compute F1 scores\n",
    "    merged_df = pd.merge(niche_enriched_df, sim_gps_stats, on='niche', suffixes=('_df1', '_df2'))\n",
    "    merged_df['f1_score'] = merged_df.apply(lambda row: compute_f1(row['enriched_gps'], row['prior_gps']), axis=1)\n",
    "    f1_scores.append(np.mean(merged_df[\"f1_score\"]))\n",
    "    \n",
    "f1_score_df = pd.DataFrame(f1_scores, columns=[\"f1_score\"])\n",
    "f1_score_df[\"run_number\"] = range(1,9)\n",
    "f1_score_df.to_csv(\"nichecompass_f1_scores.csv\", index=False)"
   ]
  },
  {
   "cell_type": "markdown",
   "id": "838952b1-34af-4ca5-aa61-82535377bb57",
   "metadata": {},
   "source": [
    "### 2.4 Decoupler GSEA"
   ]
  },
  {
   "cell_type": "markdown",
   "id": "8d19c4d4-7b05-408c-bb24-3989081ea4e0",
   "metadata": {},
   "source": [
    "#### 2.4.1 Perform Gene Set Enrichment Analysis with Decoupler (Based on Target Genes)"
   ]
  },
  {
   "cell_type": "code",
   "execution_count": null,
   "id": "33cf01e4-31d2-493c-a127-ad4cc0147e98",
   "metadata": {},
   "outputs": [],
   "source": [
    "# Format GPs for GSEA\n",
    "gp_df_gsea = combined_gp_df.copy()\n",
    "gp_df_gsea[\"geneset\"] = gp_df_gsea.index\n",
    "gp_df_gsea[\"genesymbol\"] = gp_df_gsea[\"targets\"]\n",
    "del(gp_df_gsea[\"targets\"])\n",
    "gp_df_gsea = gp_df_gsea[[\"geneset\", \"genesymbol\"]]\n",
    "gp_df_gsea.reset_index(drop=True, inplace=True)\n",
    "gp_df_gsea = gp_df_gsea.explode(\"genesymbol\").reset_index(drop=True)\n",
    "gp_df_gsea = gp_df_gsea.dropna(subset=['genesymbol'])\n",
    "gp_df_gsea = gp_df_gsea.drop_duplicates()"
   ]
  },
  {
   "cell_type": "code",
   "execution_count": 375,
   "id": "c8d6ad52-1e8d-4c88-8601-4c8af24ddc43",
   "metadata": {},
   "outputs": [
    {
     "name": "stdout",
     "output_type": "stream",
     "text": [
      "Starting run 1...\n",
      "Computing Leiden clusters...\n",
      "Current number of niches: 8\n",
      "Cluster counter: 0\n",
      "Computing GSEA...\n"
     ]
    },
    {
     "name": "stderr",
     "output_type": "stream",
     "text": [
      "/home/aih/sebastian.birk/miniconda3/envs/nichecompass-reproducibility/lib/python3.9/site-packages/scanpy/get/get.py:69: FutureWarning: The previous implementation of stack is deprecated and will be removed in a future version of pandas. See the What's New notes for pandas 2.1.0 for details. Specify future_stack=True to adopt the new implementation and silence this warning.\n",
      "/tmp/ipykernel_2182857/2854282916.py:84: UserWarning: Boolean Series key will be reindexed to match DataFrame index.\n",
      "/home/aih/sebastian.birk/miniconda3/envs/nichecompass-reproducibility/lib/python3.9/site-packages/scanpy/get/get.py:69: FutureWarning: The previous implementation of stack is deprecated and will be removed in a future version of pandas. See the What's New notes for pandas 2.1.0 for details. Specify future_stack=True to adopt the new implementation and silence this warning.\n",
      "/tmp/ipykernel_2182857/2854282916.py:84: UserWarning: Boolean Series key will be reindexed to match DataFrame index.\n",
      "/home/aih/sebastian.birk/miniconda3/envs/nichecompass-reproducibility/lib/python3.9/site-packages/scanpy/get/get.py:69: FutureWarning: The previous implementation of stack is deprecated and will be removed in a future version of pandas. See the What's New notes for pandas 2.1.0 for details. Specify future_stack=True to adopt the new implementation and silence this warning.\n",
      "/tmp/ipykernel_2182857/2854282916.py:84: UserWarning: Boolean Series key will be reindexed to match DataFrame index.\n",
      "/home/aih/sebastian.birk/miniconda3/envs/nichecompass-reproducibility/lib/python3.9/site-packages/scanpy/get/get.py:69: FutureWarning: The previous implementation of stack is deprecated and will be removed in a future version of pandas. See the What's New notes for pandas 2.1.0 for details. Specify future_stack=True to adopt the new implementation and silence this warning.\n",
      "/tmp/ipykernel_2182857/2854282916.py:84: UserWarning: Boolean Series key will be reindexed to match DataFrame index.\n",
      "/home/aih/sebastian.birk/miniconda3/envs/nichecompass-reproducibility/lib/python3.9/site-packages/scanpy/get/get.py:69: FutureWarning: The previous implementation of stack is deprecated and will be removed in a future version of pandas. See the What's New notes for pandas 2.1.0 for details. Specify future_stack=True to adopt the new implementation and silence this warning.\n",
      "/tmp/ipykernel_2182857/2854282916.py:84: UserWarning: Boolean Series key will be reindexed to match DataFrame index.\n",
      "/home/aih/sebastian.birk/miniconda3/envs/nichecompass-reproducibility/lib/python3.9/site-packages/scanpy/get/get.py:69: FutureWarning: The previous implementation of stack is deprecated and will be removed in a future version of pandas. See the What's New notes for pandas 2.1.0 for details. Specify future_stack=True to adopt the new implementation and silence this warning.\n",
      "/tmp/ipykernel_2182857/2854282916.py:84: UserWarning: Boolean Series key will be reindexed to match DataFrame index.\n",
      "/home/aih/sebastian.birk/miniconda3/envs/nichecompass-reproducibility/lib/python3.9/site-packages/scanpy/get/get.py:69: FutureWarning: The previous implementation of stack is deprecated and will be removed in a future version of pandas. See the What's New notes for pandas 2.1.0 for details. Specify future_stack=True to adopt the new implementation and silence this warning.\n",
      "/tmp/ipykernel_2182857/2854282916.py:84: UserWarning: Boolean Series key will be reindexed to match DataFrame index.\n",
      "/home/aih/sebastian.birk/miniconda3/envs/nichecompass-reproducibility/lib/python3.9/site-packages/scanpy/get/get.py:69: FutureWarning: The previous implementation of stack is deprecated and will be removed in a future version of pandas. See the What's New notes for pandas 2.1.0 for details. Specify future_stack=True to adopt the new implementation and silence this warning.\n",
      "/tmp/ipykernel_2182857/2854282916.py:84: UserWarning: Boolean Series key will be reindexed to match DataFrame index.\n"
     ]
    },
    {
     "name": "stdout",
     "output_type": "stream",
     "text": [
      "Starting run 2...\n",
      "Computing Leiden clusters...\n",
      "Current number of niches: 8\n",
      "Cluster counter: 0\n",
      "Computing GSEA...\n"
     ]
    },
    {
     "name": "stderr",
     "output_type": "stream",
     "text": [
      "/home/aih/sebastian.birk/miniconda3/envs/nichecompass-reproducibility/lib/python3.9/site-packages/scanpy/get/get.py:69: FutureWarning: The previous implementation of stack is deprecated and will be removed in a future version of pandas. See the What's New notes for pandas 2.1.0 for details. Specify future_stack=True to adopt the new implementation and silence this warning.\n",
      "/tmp/ipykernel_2182857/2854282916.py:84: UserWarning: Boolean Series key will be reindexed to match DataFrame index.\n",
      "/home/aih/sebastian.birk/miniconda3/envs/nichecompass-reproducibility/lib/python3.9/site-packages/scanpy/get/get.py:69: FutureWarning: The previous implementation of stack is deprecated and will be removed in a future version of pandas. See the What's New notes for pandas 2.1.0 for details. Specify future_stack=True to adopt the new implementation and silence this warning.\n",
      "/tmp/ipykernel_2182857/2854282916.py:84: UserWarning: Boolean Series key will be reindexed to match DataFrame index.\n",
      "/home/aih/sebastian.birk/miniconda3/envs/nichecompass-reproducibility/lib/python3.9/site-packages/scanpy/get/get.py:69: FutureWarning: The previous implementation of stack is deprecated and will be removed in a future version of pandas. See the What's New notes for pandas 2.1.0 for details. Specify future_stack=True to adopt the new implementation and silence this warning.\n",
      "/tmp/ipykernel_2182857/2854282916.py:84: UserWarning: Boolean Series key will be reindexed to match DataFrame index.\n",
      "/home/aih/sebastian.birk/miniconda3/envs/nichecompass-reproducibility/lib/python3.9/site-packages/scanpy/get/get.py:69: FutureWarning: The previous implementation of stack is deprecated and will be removed in a future version of pandas. See the What's New notes for pandas 2.1.0 for details. Specify future_stack=True to adopt the new implementation and silence this warning.\n",
      "/tmp/ipykernel_2182857/2854282916.py:84: UserWarning: Boolean Series key will be reindexed to match DataFrame index.\n",
      "/home/aih/sebastian.birk/miniconda3/envs/nichecompass-reproducibility/lib/python3.9/site-packages/scanpy/get/get.py:69: FutureWarning: The previous implementation of stack is deprecated and will be removed in a future version of pandas. See the What's New notes for pandas 2.1.0 for details. Specify future_stack=True to adopt the new implementation and silence this warning.\n",
      "/tmp/ipykernel_2182857/2854282916.py:84: UserWarning: Boolean Series key will be reindexed to match DataFrame index.\n",
      "/home/aih/sebastian.birk/miniconda3/envs/nichecompass-reproducibility/lib/python3.9/site-packages/scanpy/get/get.py:69: FutureWarning: The previous implementation of stack is deprecated and will be removed in a future version of pandas. See the What's New notes for pandas 2.1.0 for details. Specify future_stack=True to adopt the new implementation and silence this warning.\n",
      "/tmp/ipykernel_2182857/2854282916.py:84: UserWarning: Boolean Series key will be reindexed to match DataFrame index.\n",
      "/home/aih/sebastian.birk/miniconda3/envs/nichecompass-reproducibility/lib/python3.9/site-packages/scanpy/get/get.py:69: FutureWarning: The previous implementation of stack is deprecated and will be removed in a future version of pandas. See the What's New notes for pandas 2.1.0 for details. Specify future_stack=True to adopt the new implementation and silence this warning.\n",
      "/tmp/ipykernel_2182857/2854282916.py:84: UserWarning: Boolean Series key will be reindexed to match DataFrame index.\n",
      "/home/aih/sebastian.birk/miniconda3/envs/nichecompass-reproducibility/lib/python3.9/site-packages/scanpy/get/get.py:69: FutureWarning: The previous implementation of stack is deprecated and will be removed in a future version of pandas. See the What's New notes for pandas 2.1.0 for details. Specify future_stack=True to adopt the new implementation and silence this warning.\n",
      "/tmp/ipykernel_2182857/2854282916.py:84: UserWarning: Boolean Series key will be reindexed to match DataFrame index.\n"
     ]
    },
    {
     "name": "stdout",
     "output_type": "stream",
     "text": [
      "Starting run 3...\n",
      "Computing Leiden clusters...\n",
      "Current number of niches: 8\n",
      "Cluster counter: 0\n",
      "Computing GSEA...\n"
     ]
    },
    {
     "name": "stderr",
     "output_type": "stream",
     "text": [
      "/home/aih/sebastian.birk/miniconda3/envs/nichecompass-reproducibility/lib/python3.9/site-packages/scanpy/get/get.py:69: FutureWarning: The previous implementation of stack is deprecated and will be removed in a future version of pandas. See the What's New notes for pandas 2.1.0 for details. Specify future_stack=True to adopt the new implementation and silence this warning.\n",
      "/tmp/ipykernel_2182857/2854282916.py:84: UserWarning: Boolean Series key will be reindexed to match DataFrame index.\n",
      "/home/aih/sebastian.birk/miniconda3/envs/nichecompass-reproducibility/lib/python3.9/site-packages/scanpy/get/get.py:69: FutureWarning: The previous implementation of stack is deprecated and will be removed in a future version of pandas. See the What's New notes for pandas 2.1.0 for details. Specify future_stack=True to adopt the new implementation and silence this warning.\n",
      "/tmp/ipykernel_2182857/2854282916.py:84: UserWarning: Boolean Series key will be reindexed to match DataFrame index.\n",
      "/home/aih/sebastian.birk/miniconda3/envs/nichecompass-reproducibility/lib/python3.9/site-packages/scanpy/get/get.py:69: FutureWarning: The previous implementation of stack is deprecated and will be removed in a future version of pandas. See the What's New notes for pandas 2.1.0 for details. Specify future_stack=True to adopt the new implementation and silence this warning.\n",
      "/tmp/ipykernel_2182857/2854282916.py:84: UserWarning: Boolean Series key will be reindexed to match DataFrame index.\n",
      "/home/aih/sebastian.birk/miniconda3/envs/nichecompass-reproducibility/lib/python3.9/site-packages/scanpy/get/get.py:69: FutureWarning: The previous implementation of stack is deprecated and will be removed in a future version of pandas. See the What's New notes for pandas 2.1.0 for details. Specify future_stack=True to adopt the new implementation and silence this warning.\n",
      "/tmp/ipykernel_2182857/2854282916.py:84: UserWarning: Boolean Series key will be reindexed to match DataFrame index.\n",
      "/home/aih/sebastian.birk/miniconda3/envs/nichecompass-reproducibility/lib/python3.9/site-packages/scanpy/get/get.py:69: FutureWarning: The previous implementation of stack is deprecated and will be removed in a future version of pandas. See the What's New notes for pandas 2.1.0 for details. Specify future_stack=True to adopt the new implementation and silence this warning.\n",
      "/tmp/ipykernel_2182857/2854282916.py:84: UserWarning: Boolean Series key will be reindexed to match DataFrame index.\n",
      "/home/aih/sebastian.birk/miniconda3/envs/nichecompass-reproducibility/lib/python3.9/site-packages/scanpy/get/get.py:69: FutureWarning: The previous implementation of stack is deprecated and will be removed in a future version of pandas. See the What's New notes for pandas 2.1.0 for details. Specify future_stack=True to adopt the new implementation and silence this warning.\n",
      "/tmp/ipykernel_2182857/2854282916.py:84: UserWarning: Boolean Series key will be reindexed to match DataFrame index.\n",
      "/home/aih/sebastian.birk/miniconda3/envs/nichecompass-reproducibility/lib/python3.9/site-packages/scanpy/get/get.py:69: FutureWarning: The previous implementation of stack is deprecated and will be removed in a future version of pandas. See the What's New notes for pandas 2.1.0 for details. Specify future_stack=True to adopt the new implementation and silence this warning.\n",
      "/tmp/ipykernel_2182857/2854282916.py:84: UserWarning: Boolean Series key will be reindexed to match DataFrame index.\n",
      "/home/aih/sebastian.birk/miniconda3/envs/nichecompass-reproducibility/lib/python3.9/site-packages/scanpy/get/get.py:69: FutureWarning: The previous implementation of stack is deprecated and will be removed in a future version of pandas. See the What's New notes for pandas 2.1.0 for details. Specify future_stack=True to adopt the new implementation and silence this warning.\n",
      "/tmp/ipykernel_2182857/2854282916.py:84: UserWarning: Boolean Series key will be reindexed to match DataFrame index.\n"
     ]
    },
    {
     "name": "stdout",
     "output_type": "stream",
     "text": [
      "Starting run 4...\n",
      "Computing Leiden clusters...\n",
      "Current number of niches: 8\n",
      "Cluster counter: 0\n",
      "Computing GSEA...\n"
     ]
    },
    {
     "name": "stderr",
     "output_type": "stream",
     "text": [
      "/home/aih/sebastian.birk/miniconda3/envs/nichecompass-reproducibility/lib/python3.9/site-packages/scanpy/get/get.py:69: FutureWarning: The previous implementation of stack is deprecated and will be removed in a future version of pandas. See the What's New notes for pandas 2.1.0 for details. Specify future_stack=True to adopt the new implementation and silence this warning.\n",
      "/tmp/ipykernel_2182857/2854282916.py:84: UserWarning: Boolean Series key will be reindexed to match DataFrame index.\n",
      "/home/aih/sebastian.birk/miniconda3/envs/nichecompass-reproducibility/lib/python3.9/site-packages/scanpy/get/get.py:69: FutureWarning: The previous implementation of stack is deprecated and will be removed in a future version of pandas. See the What's New notes for pandas 2.1.0 for details. Specify future_stack=True to adopt the new implementation and silence this warning.\n",
      "/tmp/ipykernel_2182857/2854282916.py:84: UserWarning: Boolean Series key will be reindexed to match DataFrame index.\n",
      "/home/aih/sebastian.birk/miniconda3/envs/nichecompass-reproducibility/lib/python3.9/site-packages/scanpy/get/get.py:69: FutureWarning: The previous implementation of stack is deprecated and will be removed in a future version of pandas. See the What's New notes for pandas 2.1.0 for details. Specify future_stack=True to adopt the new implementation and silence this warning.\n",
      "/tmp/ipykernel_2182857/2854282916.py:84: UserWarning: Boolean Series key will be reindexed to match DataFrame index.\n",
      "/home/aih/sebastian.birk/miniconda3/envs/nichecompass-reproducibility/lib/python3.9/site-packages/scanpy/get/get.py:69: FutureWarning: The previous implementation of stack is deprecated and will be removed in a future version of pandas. See the What's New notes for pandas 2.1.0 for details. Specify future_stack=True to adopt the new implementation and silence this warning.\n",
      "/tmp/ipykernel_2182857/2854282916.py:84: UserWarning: Boolean Series key will be reindexed to match DataFrame index.\n",
      "/home/aih/sebastian.birk/miniconda3/envs/nichecompass-reproducibility/lib/python3.9/site-packages/scanpy/get/get.py:69: FutureWarning: The previous implementation of stack is deprecated and will be removed in a future version of pandas. See the What's New notes for pandas 2.1.0 for details. Specify future_stack=True to adopt the new implementation and silence this warning.\n",
      "/tmp/ipykernel_2182857/2854282916.py:84: UserWarning: Boolean Series key will be reindexed to match DataFrame index.\n",
      "/home/aih/sebastian.birk/miniconda3/envs/nichecompass-reproducibility/lib/python3.9/site-packages/scanpy/get/get.py:69: FutureWarning: The previous implementation of stack is deprecated and will be removed in a future version of pandas. See the What's New notes for pandas 2.1.0 for details. Specify future_stack=True to adopt the new implementation and silence this warning.\n",
      "/tmp/ipykernel_2182857/2854282916.py:84: UserWarning: Boolean Series key will be reindexed to match DataFrame index.\n",
      "/home/aih/sebastian.birk/miniconda3/envs/nichecompass-reproducibility/lib/python3.9/site-packages/scanpy/get/get.py:69: FutureWarning: The previous implementation of stack is deprecated and will be removed in a future version of pandas. See the What's New notes for pandas 2.1.0 for details. Specify future_stack=True to adopt the new implementation and silence this warning.\n",
      "/tmp/ipykernel_2182857/2854282916.py:84: UserWarning: Boolean Series key will be reindexed to match DataFrame index.\n",
      "/home/aih/sebastian.birk/miniconda3/envs/nichecompass-reproducibility/lib/python3.9/site-packages/scanpy/get/get.py:69: FutureWarning: The previous implementation of stack is deprecated and will be removed in a future version of pandas. See the What's New notes for pandas 2.1.0 for details. Specify future_stack=True to adopt the new implementation and silence this warning.\n",
      "/tmp/ipykernel_2182857/2854282916.py:84: UserWarning: Boolean Series key will be reindexed to match DataFrame index.\n"
     ]
    },
    {
     "name": "stdout",
     "output_type": "stream",
     "text": [
      "Starting run 5...\n",
      "Computing Leiden clusters...\n",
      "Current number of niches: 8\n",
      "Cluster counter: 0\n",
      "Computing GSEA...\n"
     ]
    },
    {
     "name": "stderr",
     "output_type": "stream",
     "text": [
      "/home/aih/sebastian.birk/miniconda3/envs/nichecompass-reproducibility/lib/python3.9/site-packages/scanpy/get/get.py:69: FutureWarning: The previous implementation of stack is deprecated and will be removed in a future version of pandas. See the What's New notes for pandas 2.1.0 for details. Specify future_stack=True to adopt the new implementation and silence this warning.\n",
      "/tmp/ipykernel_2182857/2854282916.py:84: UserWarning: Boolean Series key will be reindexed to match DataFrame index.\n",
      "/home/aih/sebastian.birk/miniconda3/envs/nichecompass-reproducibility/lib/python3.9/site-packages/scanpy/get/get.py:69: FutureWarning: The previous implementation of stack is deprecated and will be removed in a future version of pandas. See the What's New notes for pandas 2.1.0 for details. Specify future_stack=True to adopt the new implementation and silence this warning.\n",
      "/tmp/ipykernel_2182857/2854282916.py:84: UserWarning: Boolean Series key will be reindexed to match DataFrame index.\n",
      "/home/aih/sebastian.birk/miniconda3/envs/nichecompass-reproducibility/lib/python3.9/site-packages/scanpy/get/get.py:69: FutureWarning: The previous implementation of stack is deprecated and will be removed in a future version of pandas. See the What's New notes for pandas 2.1.0 for details. Specify future_stack=True to adopt the new implementation and silence this warning.\n",
      "/tmp/ipykernel_2182857/2854282916.py:84: UserWarning: Boolean Series key will be reindexed to match DataFrame index.\n",
      "/home/aih/sebastian.birk/miniconda3/envs/nichecompass-reproducibility/lib/python3.9/site-packages/scanpy/get/get.py:69: FutureWarning: The previous implementation of stack is deprecated and will be removed in a future version of pandas. See the What's New notes for pandas 2.1.0 for details. Specify future_stack=True to adopt the new implementation and silence this warning.\n",
      "/tmp/ipykernel_2182857/2854282916.py:84: UserWarning: Boolean Series key will be reindexed to match DataFrame index.\n",
      "/home/aih/sebastian.birk/miniconda3/envs/nichecompass-reproducibility/lib/python3.9/site-packages/scanpy/get/get.py:69: FutureWarning: The previous implementation of stack is deprecated and will be removed in a future version of pandas. See the What's New notes for pandas 2.1.0 for details. Specify future_stack=True to adopt the new implementation and silence this warning.\n",
      "/tmp/ipykernel_2182857/2854282916.py:84: UserWarning: Boolean Series key will be reindexed to match DataFrame index.\n",
      "/home/aih/sebastian.birk/miniconda3/envs/nichecompass-reproducibility/lib/python3.9/site-packages/scanpy/get/get.py:69: FutureWarning: The previous implementation of stack is deprecated and will be removed in a future version of pandas. See the What's New notes for pandas 2.1.0 for details. Specify future_stack=True to adopt the new implementation and silence this warning.\n",
      "/tmp/ipykernel_2182857/2854282916.py:84: UserWarning: Boolean Series key will be reindexed to match DataFrame index.\n",
      "/home/aih/sebastian.birk/miniconda3/envs/nichecompass-reproducibility/lib/python3.9/site-packages/scanpy/get/get.py:69: FutureWarning: The previous implementation of stack is deprecated and will be removed in a future version of pandas. See the What's New notes for pandas 2.1.0 for details. Specify future_stack=True to adopt the new implementation and silence this warning.\n",
      "/tmp/ipykernel_2182857/2854282916.py:84: UserWarning: Boolean Series key will be reindexed to match DataFrame index.\n",
      "/home/aih/sebastian.birk/miniconda3/envs/nichecompass-reproducibility/lib/python3.9/site-packages/scanpy/get/get.py:69: FutureWarning: The previous implementation of stack is deprecated and will be removed in a future version of pandas. See the What's New notes for pandas 2.1.0 for details. Specify future_stack=True to adopt the new implementation and silence this warning.\n",
      "/tmp/ipykernel_2182857/2854282916.py:84: UserWarning: Boolean Series key will be reindexed to match DataFrame index.\n"
     ]
    },
    {
     "name": "stdout",
     "output_type": "stream",
     "text": [
      "Starting run 6...\n",
      "Computing Leiden clusters...\n",
      "Current number of niches: 8\n",
      "Cluster counter: 0\n",
      "Computing GSEA...\n"
     ]
    },
    {
     "name": "stderr",
     "output_type": "stream",
     "text": [
      "/home/aih/sebastian.birk/miniconda3/envs/nichecompass-reproducibility/lib/python3.9/site-packages/scanpy/get/get.py:69: FutureWarning: The previous implementation of stack is deprecated and will be removed in a future version of pandas. See the What's New notes for pandas 2.1.0 for details. Specify future_stack=True to adopt the new implementation and silence this warning.\n",
      "/tmp/ipykernel_2182857/2854282916.py:84: UserWarning: Boolean Series key will be reindexed to match DataFrame index.\n",
      "/home/aih/sebastian.birk/miniconda3/envs/nichecompass-reproducibility/lib/python3.9/site-packages/scanpy/get/get.py:69: FutureWarning: The previous implementation of stack is deprecated and will be removed in a future version of pandas. See the What's New notes for pandas 2.1.0 for details. Specify future_stack=True to adopt the new implementation and silence this warning.\n",
      "/tmp/ipykernel_2182857/2854282916.py:84: UserWarning: Boolean Series key will be reindexed to match DataFrame index.\n",
      "/home/aih/sebastian.birk/miniconda3/envs/nichecompass-reproducibility/lib/python3.9/site-packages/scanpy/get/get.py:69: FutureWarning: The previous implementation of stack is deprecated and will be removed in a future version of pandas. See the What's New notes for pandas 2.1.0 for details. Specify future_stack=True to adopt the new implementation and silence this warning.\n",
      "/tmp/ipykernel_2182857/2854282916.py:84: UserWarning: Boolean Series key will be reindexed to match DataFrame index.\n",
      "/home/aih/sebastian.birk/miniconda3/envs/nichecompass-reproducibility/lib/python3.9/site-packages/scanpy/get/get.py:69: FutureWarning: The previous implementation of stack is deprecated and will be removed in a future version of pandas. See the What's New notes for pandas 2.1.0 for details. Specify future_stack=True to adopt the new implementation and silence this warning.\n",
      "/tmp/ipykernel_2182857/2854282916.py:84: UserWarning: Boolean Series key will be reindexed to match DataFrame index.\n",
      "/home/aih/sebastian.birk/miniconda3/envs/nichecompass-reproducibility/lib/python3.9/site-packages/scanpy/get/get.py:69: FutureWarning: The previous implementation of stack is deprecated and will be removed in a future version of pandas. See the What's New notes for pandas 2.1.0 for details. Specify future_stack=True to adopt the new implementation and silence this warning.\n",
      "/tmp/ipykernel_2182857/2854282916.py:84: UserWarning: Boolean Series key will be reindexed to match DataFrame index.\n",
      "/home/aih/sebastian.birk/miniconda3/envs/nichecompass-reproducibility/lib/python3.9/site-packages/scanpy/get/get.py:69: FutureWarning: The previous implementation of stack is deprecated and will be removed in a future version of pandas. See the What's New notes for pandas 2.1.0 for details. Specify future_stack=True to adopt the new implementation and silence this warning.\n",
      "/tmp/ipykernel_2182857/2854282916.py:84: UserWarning: Boolean Series key will be reindexed to match DataFrame index.\n",
      "/home/aih/sebastian.birk/miniconda3/envs/nichecompass-reproducibility/lib/python3.9/site-packages/scanpy/get/get.py:69: FutureWarning: The previous implementation of stack is deprecated and will be removed in a future version of pandas. See the What's New notes for pandas 2.1.0 for details. Specify future_stack=True to adopt the new implementation and silence this warning.\n",
      "/tmp/ipykernel_2182857/2854282916.py:84: UserWarning: Boolean Series key will be reindexed to match DataFrame index.\n",
      "/home/aih/sebastian.birk/miniconda3/envs/nichecompass-reproducibility/lib/python3.9/site-packages/scanpy/get/get.py:69: FutureWarning: The previous implementation of stack is deprecated and will be removed in a future version of pandas. See the What's New notes for pandas 2.1.0 for details. Specify future_stack=True to adopt the new implementation and silence this warning.\n",
      "/tmp/ipykernel_2182857/2854282916.py:84: UserWarning: Boolean Series key will be reindexed to match DataFrame index.\n"
     ]
    },
    {
     "name": "stdout",
     "output_type": "stream",
     "text": [
      "Starting run 7...\n",
      "Computing Leiden clusters...\n",
      "Current number of niches: 8\n",
      "Cluster counter: 0\n",
      "Computing GSEA...\n"
     ]
    },
    {
     "name": "stderr",
     "output_type": "stream",
     "text": [
      "/home/aih/sebastian.birk/miniconda3/envs/nichecompass-reproducibility/lib/python3.9/site-packages/scanpy/get/get.py:69: FutureWarning: The previous implementation of stack is deprecated and will be removed in a future version of pandas. See the What's New notes for pandas 2.1.0 for details. Specify future_stack=True to adopt the new implementation and silence this warning.\n",
      "/tmp/ipykernel_2182857/2854282916.py:84: UserWarning: Boolean Series key will be reindexed to match DataFrame index.\n",
      "/home/aih/sebastian.birk/miniconda3/envs/nichecompass-reproducibility/lib/python3.9/site-packages/scanpy/get/get.py:69: FutureWarning: The previous implementation of stack is deprecated and will be removed in a future version of pandas. See the What's New notes for pandas 2.1.0 for details. Specify future_stack=True to adopt the new implementation and silence this warning.\n",
      "/tmp/ipykernel_2182857/2854282916.py:84: UserWarning: Boolean Series key will be reindexed to match DataFrame index.\n",
      "/home/aih/sebastian.birk/miniconda3/envs/nichecompass-reproducibility/lib/python3.9/site-packages/scanpy/get/get.py:69: FutureWarning: The previous implementation of stack is deprecated and will be removed in a future version of pandas. See the What's New notes for pandas 2.1.0 for details. Specify future_stack=True to adopt the new implementation and silence this warning.\n",
      "/tmp/ipykernel_2182857/2854282916.py:84: UserWarning: Boolean Series key will be reindexed to match DataFrame index.\n",
      "/home/aih/sebastian.birk/miniconda3/envs/nichecompass-reproducibility/lib/python3.9/site-packages/scanpy/get/get.py:69: FutureWarning: The previous implementation of stack is deprecated and will be removed in a future version of pandas. See the What's New notes for pandas 2.1.0 for details. Specify future_stack=True to adopt the new implementation and silence this warning.\n",
      "/tmp/ipykernel_2182857/2854282916.py:84: UserWarning: Boolean Series key will be reindexed to match DataFrame index.\n",
      "/home/aih/sebastian.birk/miniconda3/envs/nichecompass-reproducibility/lib/python3.9/site-packages/scanpy/get/get.py:69: FutureWarning: The previous implementation of stack is deprecated and will be removed in a future version of pandas. See the What's New notes for pandas 2.1.0 for details. Specify future_stack=True to adopt the new implementation and silence this warning.\n",
      "/tmp/ipykernel_2182857/2854282916.py:84: UserWarning: Boolean Series key will be reindexed to match DataFrame index.\n",
      "/home/aih/sebastian.birk/miniconda3/envs/nichecompass-reproducibility/lib/python3.9/site-packages/scanpy/get/get.py:69: FutureWarning: The previous implementation of stack is deprecated and will be removed in a future version of pandas. See the What's New notes for pandas 2.1.0 for details. Specify future_stack=True to adopt the new implementation and silence this warning.\n",
      "/tmp/ipykernel_2182857/2854282916.py:84: UserWarning: Boolean Series key will be reindexed to match DataFrame index.\n",
      "/home/aih/sebastian.birk/miniconda3/envs/nichecompass-reproducibility/lib/python3.9/site-packages/scanpy/get/get.py:69: FutureWarning: The previous implementation of stack is deprecated and will be removed in a future version of pandas. See the What's New notes for pandas 2.1.0 for details. Specify future_stack=True to adopt the new implementation and silence this warning.\n",
      "/tmp/ipykernel_2182857/2854282916.py:84: UserWarning: Boolean Series key will be reindexed to match DataFrame index.\n",
      "/home/aih/sebastian.birk/miniconda3/envs/nichecompass-reproducibility/lib/python3.9/site-packages/scanpy/get/get.py:69: FutureWarning: The previous implementation of stack is deprecated and will be removed in a future version of pandas. See the What's New notes for pandas 2.1.0 for details. Specify future_stack=True to adopt the new implementation and silence this warning.\n",
      "/tmp/ipykernel_2182857/2854282916.py:84: UserWarning: Boolean Series key will be reindexed to match DataFrame index.\n"
     ]
    },
    {
     "name": "stdout",
     "output_type": "stream",
     "text": [
      "Starting run 8...\n",
      "Computing Leiden clusters...\n",
      "Current number of niches: 9\n",
      "Cluster counter: 0\n",
      "Slight decrease of clustering resolution...\n",
      "Current number of niches: 9\n",
      "Cluster counter: 1\n",
      "Slight decrease of clustering resolution...\n",
      "Current number of niches: 9\n",
      "Cluster counter: 2\n",
      "Slight decrease of clustering resolution...\n",
      "Current number of niches: 9\n",
      "Cluster counter: 3\n",
      "Slight decrease of clustering resolution...\n",
      "Current number of niches: 8\n",
      "Cluster counter: 4\n",
      "Computing GSEA...\n"
     ]
    },
    {
     "name": "stderr",
     "output_type": "stream",
     "text": [
      "/home/aih/sebastian.birk/miniconda3/envs/nichecompass-reproducibility/lib/python3.9/site-packages/scanpy/get/get.py:69: FutureWarning: The previous implementation of stack is deprecated and will be removed in a future version of pandas. See the What's New notes for pandas 2.1.0 for details. Specify future_stack=True to adopt the new implementation and silence this warning.\n",
      "/tmp/ipykernel_2182857/2854282916.py:84: UserWarning: Boolean Series key will be reindexed to match DataFrame index.\n",
      "/home/aih/sebastian.birk/miniconda3/envs/nichecompass-reproducibility/lib/python3.9/site-packages/scanpy/get/get.py:69: FutureWarning: The previous implementation of stack is deprecated and will be removed in a future version of pandas. See the What's New notes for pandas 2.1.0 for details. Specify future_stack=True to adopt the new implementation and silence this warning.\n",
      "/tmp/ipykernel_2182857/2854282916.py:84: UserWarning: Boolean Series key will be reindexed to match DataFrame index.\n",
      "/home/aih/sebastian.birk/miniconda3/envs/nichecompass-reproducibility/lib/python3.9/site-packages/scanpy/get/get.py:69: FutureWarning: The previous implementation of stack is deprecated and will be removed in a future version of pandas. See the What's New notes for pandas 2.1.0 for details. Specify future_stack=True to adopt the new implementation and silence this warning.\n",
      "/tmp/ipykernel_2182857/2854282916.py:84: UserWarning: Boolean Series key will be reindexed to match DataFrame index.\n",
      "/home/aih/sebastian.birk/miniconda3/envs/nichecompass-reproducibility/lib/python3.9/site-packages/scanpy/get/get.py:69: FutureWarning: The previous implementation of stack is deprecated and will be removed in a future version of pandas. See the What's New notes for pandas 2.1.0 for details. Specify future_stack=True to adopt the new implementation and silence this warning.\n",
      "/tmp/ipykernel_2182857/2854282916.py:84: UserWarning: Boolean Series key will be reindexed to match DataFrame index.\n",
      "/home/aih/sebastian.birk/miniconda3/envs/nichecompass-reproducibility/lib/python3.9/site-packages/scanpy/get/get.py:69: FutureWarning: The previous implementation of stack is deprecated and will be removed in a future version of pandas. See the What's New notes for pandas 2.1.0 for details. Specify future_stack=True to adopt the new implementation and silence this warning.\n",
      "/tmp/ipykernel_2182857/2854282916.py:84: UserWarning: Boolean Series key will be reindexed to match DataFrame index.\n",
      "/home/aih/sebastian.birk/miniconda3/envs/nichecompass-reproducibility/lib/python3.9/site-packages/scanpy/get/get.py:69: FutureWarning: The previous implementation of stack is deprecated and will be removed in a future version of pandas. See the What's New notes for pandas 2.1.0 for details. Specify future_stack=True to adopt the new implementation and silence this warning.\n",
      "/tmp/ipykernel_2182857/2854282916.py:84: UserWarning: Boolean Series key will be reindexed to match DataFrame index.\n",
      "/home/aih/sebastian.birk/miniconda3/envs/nichecompass-reproducibility/lib/python3.9/site-packages/scanpy/get/get.py:69: FutureWarning: The previous implementation of stack is deprecated and will be removed in a future version of pandas. See the What's New notes for pandas 2.1.0 for details. Specify future_stack=True to adopt the new implementation and silence this warning.\n",
      "/tmp/ipykernel_2182857/2854282916.py:84: UserWarning: Boolean Series key will be reindexed to match DataFrame index.\n",
      "/home/aih/sebastian.birk/miniconda3/envs/nichecompass-reproducibility/lib/python3.9/site-packages/scanpy/get/get.py:69: FutureWarning: The previous implementation of stack is deprecated and will be removed in a future version of pandas. See the What's New notes for pandas 2.1.0 for details. Specify future_stack=True to adopt the new implementation and silence this warning.\n",
      "/tmp/ipykernel_2182857/2854282916.py:84: UserWarning: Boolean Series key will be reindexed to match DataFrame index.\n"
     ]
    }
   ],
   "source": [
    "# Get differentially expressed genes\n",
    "f1_scores = []\n",
    "\n",
    "for run_number in range(1,9):\n",
    "    print(f\"Starting run {run_number}...\")\n",
    "    latent_key = f\"banksy_latent_run{run_number}\"\n",
    "    sc.pp.neighbors(adata,\n",
    "                    use_rep=latent_key,\n",
    "                    key_added=latent_key)\n",
    "    sc.tl.umap(adata,\n",
    "               neighbors_key=latent_key)\n",
    "    \n",
    "    # Compute Leiden clustering of latent space until 8 niches are obtained (to match ground truth number)\n",
    "    print(f\"Computing Leiden clusters...\")\n",
    "    latent_leiden_resolution = 0.3\n",
    "    leiden_resolution_increments = 0.1\n",
    "    latent_cluster_key = f\"latent_leiden_{str(latent_leiden_resolution)}\"\n",
    "    counter = 0\n",
    "    while True:\n",
    "        sc.tl.leiden(adata=adata,\n",
    "                     resolution=latent_leiden_resolution,\n",
    "                     key_added=\"pred_niche_types\",\n",
    "                     neighbors_key=latent_key)\n",
    "        \n",
    "        niche_counts = adata.obs[\"pred_niche_types\"].value_counts()\n",
    "        valid_niches = niche_counts[niche_counts >= 100].index\n",
    "        n_niches = adata.obs[adata.obs[\"pred_niche_types\"].isin(valid_niches)][\"pred_niche_types\"].nunique()\n",
    "        print(f\"Current number of niches: {n_niches}\")\n",
    "        print(f\"Cluster counter: {counter}\")\n",
    "        if n_niches == 8:\n",
    "            break\n",
    "        elif n_niches < 7 and counter < 30:\n",
    "            print(\"Big increase of clustering resolution...\")\n",
    "            latent_leiden_resolution += leiden_resolution_increments\n",
    "        elif n_niches < 8 and counter < 60:\n",
    "            print(\"Slight increase of clustering resolution...\")\n",
    "            latent_leiden_resolution += leiden_resolution_increments/10\n",
    "        elif n_niches > 9 and counter < 30:\n",
    "            print(\"Big decrease of clustering resolution...\")\n",
    "            latent_leiden_resolution -= leiden_resolution_increments\n",
    "        elif n_niches > 8 and counter < 60:\n",
    "            print(\"Slight decrease of clustering resolution...\")\n",
    "            latent_leiden_resolution -= leiden_resolution_increments/10\n",
    "        elif counter > 60:\n",
    "            break\n",
    "        counter += 1\n",
    "        \n",
    "    cross_tab = pd.crosstab(adata.obs[\"pred_niche_types\"], adata.obs[\"niche_types\"])\n",
    "    majority_map = cross_tab.idxmax(axis=1)\n",
    "    adata.obs[\"mapped_pred_niche_types\"] = adata.obs[\"pred_niche_types\"].map(majority_map)\n",
    "    \n",
    "    print(f\"Computing GSEA...\")\n",
    "    sc.tl.rank_genes_groups(adata, \"mapped_pred_niche_types\", method=\"t-test\", key_added=\"t-test\")\n",
    "    \n",
    "    # Get enriched GPs per niche\n",
    "    enriched_dict = {}\n",
    "\n",
    "    for niche_type in adata.obs[\"mapped_pred_niche_types\"].unique().tolist():\n",
    "\n",
    "        # Extract differential gene expression scores\n",
    "        t_stats = (\n",
    "            # Get dataframe of DE results for condition vs. rest\n",
    "            sc.get.rank_genes_groups_df(adata, niche_type, key=\"t-test\")\n",
    "            .set_index(\"names\")\n",
    "            # Sort by absolute score\n",
    "            .sort_values(\"scores\", key=np.abs, ascending=False)\n",
    "            # Format for decoupler\n",
    "            [[\"scores\"]]\n",
    "            .rename_axis([niche_type], axis=1)\n",
    "        )\n",
    "\n",
    "        # Get gene set enrichment analysis results\n",
    "        scores, norm, pvals = decoupler.run_gsea(\n",
    "            t_stats.T,\n",
    "            gp_df_gsea,\n",
    "            min_n=0,\n",
    "            source=\"geneset\",\n",
    "            target=\"genesymbol\",\n",
    "        )\n",
    "\n",
    "        gsea_results = (\n",
    "            pd.concat({\"score\": scores.T, \"norm\": norm.T, \"pval\": pvals.T}, axis=1)\n",
    "            .droplevel(level=1, axis=1)\n",
    "            .sort_values(\"pval\")\n",
    "        )\n",
    "\n",
    "        # Keep upregulated pathways with p-value < 0.05\n",
    "        enriched_gps = gsea_results[gsea_results[\"score\"] > 0][gsea_results[\"pval\"] < 0.05].index.tolist()\n",
    "        enriched_dict[niche_type] = enriched_gps\n",
    "        \n",
    "    enriched_df = pd.DataFrame(list(enriched_dict.items()), columns=[\"niche\", \"enriched_gps\"])\n",
    "    niche_enriched_df = enriched_df.groupby(\"niche\")[\"enriched_gps\"].sum().reset_index()\n",
    "    niche_enriched_df[\"enriched_gps\"] = niche_enriched_df[\"enriched_gps\"].apply(lambda x: set(x))\n",
    "\n",
    "    # Compute F1 scores\n",
    "    merged_df = pd.merge(niche_enriched_df, sim_gps_stats, on='niche', suffixes=('_df1', '_df2'))\n",
    "    merged_df['f1_score'] = merged_df.apply(lambda row: compute_f1(row['enriched_gps'], row['prior_gps']), axis=1)\n",
    "    f1_scores.append(np.mean(merged_df[\"f1_score\"]))\n",
    "    \n",
    "f1_score_df = pd.DataFrame(f1_scores, columns=[\"f1_score\"])\n",
    "f1_score_df[\"run_number\"] = range(1,9)\n",
    "f1_score_df.to_csv(\"banksy_gsea_f1_scores.csv\", index=False)"
   ]
  },
  {
   "cell_type": "markdown",
   "id": "dd00ed4b-e11a-480f-96f4-445977d276d9",
   "metadata": {},
   "source": [
    "### 2.5 LIANA CCI"
   ]
  },
  {
   "cell_type": "code",
   "execution_count": null,
   "id": "92e48937-b513-474e-bbb9-da49990fcb08",
   "metadata": {},
   "outputs": [],
   "source": [
    "gp_df_liana = combined_gp_df[[\"sources\", \"targets\"]].copy()\n",
    "gp_df_liana[\"ligand\"] = gp_df_liana[\"sources\"].apply(lambda x: \"_\".join(x))\n",
    "gp_df_liana[\"receptor\"] = gp_df_liana[\"targets\"].apply(lambda x: \"_\".join(x))\n",
    "del(gp_df_liana[\"sources\"])\n",
    "del(gp_df_liana[\"targets\"])"
   ]
  },
  {
   "cell_type": "code",
   "execution_count": null,
   "id": "6fc3ec14-3c0d-4714-ae88-fd8d3d180848",
   "metadata": {},
   "outputs": [],
   "source": [
    "# Filter niches with only one cell type\n",
    "adata = adata[~adata.obs[sample_key].isin([\"Niche 5\", \"Niche 6\"])]"
   ]
  },
  {
   "cell_type": "code",
   "execution_count": null,
   "id": "2af9c430-28f1-4bc6-99e7-dd1a26933201",
   "metadata": {},
   "outputs": [],
   "source": [
    "li.mt.rank_aggregate.by_sample(\n",
    "    adata,\n",
    "    groupby=cell_type_key,\n",
    "    resource=gp_df_liana,\n",
    "    sample_key=niche_type_key,\n",
    "    seed=0,\n",
    "    use_raw=False,\n",
    "    verbose=True,\n",
    "    n_perms=None,\n",
    "    return_all_lrs=True,\n",
    "    )"
   ]
  },
  {
   "cell_type": "code",
   "execution_count": null,
   "id": "5b1ef1c7-a4df-487d-a130-50e52069e75f",
   "metadata": {},
   "outputs": [],
   "source": [
    "adata.uns[\"liana_res\"].sort_values(\"magnitude_rank\").head(10)"
   ]
  }
 ],
 "metadata": {
  "kernelspec": {
   "display_name": "Python 3 (ipykernel)",
   "language": "python",
   "name": "python3"
  },
  "language_info": {
   "codemirror_mode": {
    "name": "ipython",
    "version": 3
   },
   "file_extension": ".py",
   "mimetype": "text/x-python",
   "name": "python",
   "nbconvert_exporter": "python",
   "pygments_lexer": "ipython3",
   "version": "3.9.19"
  }
 },
 "nbformat": 4,
 "nbformat_minor": 5
}
