{
 "cells": [
  {
   "cell_type": "code",
   "id": "initial_id",
   "metadata": {
    "collapsed": true
   },
   "source": [
    "import anndata as ad\n",
    "import matplotlib.pyplot as plt\n",
    "import matplotlib\n",
    "import pandas as pd\n",
    "import numpy as np\n",
    "from matplotlib import ticker\n",
    "import scanpy as sc\n",
    "import math"
   ],
   "outputs": [],
   "execution_count": null
  },
  {
   "metadata": {},
   "cell_type": "markdown",
   "source": "Uses run output saved in `trained_model_umaps` directory.",
   "id": "28f3d3dd01ab2dcc"
  },
  {
   "metadata": {},
   "cell_type": "markdown",
   "source": "# model training",
   "id": "28c947c08215a5c2"
  },
  {
   "metadata": {},
   "cell_type": "code",
   "source": "anndata = ad.read_h5ad(\"trained_model_umaps/anndata_umap_with_clusters.h5ad\")",
   "id": "4b68cc2de6c79eb",
   "outputs": [],
   "execution_count": null
  },
  {
   "metadata": {},
   "cell_type": "markdown",
   "source": "# preprocessing",
   "id": "e184ad35ef19f7a8"
  },
  {
   "metadata": {},
   "cell_type": "markdown",
   "source": "## niche selection and filtering",
   "id": "e005434d3442063f"
  },
  {
   "metadata": {},
   "cell_type": "code",
   "source": [
    "niche_cell_counts = anndata.obs[\"nichecompass_latent_cluster\"].value_counts().to_dict()\n",
    "retained_niches = [x for x, y in niche_cell_counts.items() if y > 100_000]\n",
    "anndata_filtered = anndata[anndata.obs[\"nichecompass_latent_cluster\"].isin(retained_niches)]\n",
    "print(f\"retaining {len(anndata_filtered)} of {len(anndata)} cells following filtering\")"
   ],
   "id": "7cc5f84915c3eae2",
   "outputs": [],
   "execution_count": null
  },
  {
   "metadata": {},
   "cell_type": "code",
   "source": "len(retained_niches)",
   "id": "4427c25e1cb59d06",
   "outputs": [],
   "execution_count": null
  },
  {
   "metadata": {},
   "cell_type": "markdown",
   "source": "# visualise results",
   "id": "aedba4693cb3996d"
  },
  {
   "metadata": {},
   "cell_type": "code",
   "source": [
    "niche_color_map = {\n",
    "    \"0\": \"#66C5CC\",\n",
    "    \"1\": \"#F6CF71\",\n",
    "    \"2\": \"#F89C74\",\n",
    "    \"3\": \"#DCB0F2\",\n",
    "    \"4\": \"#87C55F\",\n",
    "    \"5\": \"#9EB9F3\",\n",
    "    \"6\": \"#FE88B1\",\n",
    "    \"7\": \"#C9DB74\",\n",
    "    \"8\": \"#8BE0A4\",\n",
    "    \"9\": \"#B497E7\",\n",
    "    \"10\": \"#D3B484\",\n",
    "    \"11\": \"#B3B3B3\",\n",
    "    \"12\": \"#276A8C\",\n",
    "    \"13\": \"#DAB6C4\",\n",
    "    \"14\": \"#9B4DCA\",\n",
    "    \"15\": \"#9D88A2\",\n",
    "    \"16\": \"#FF4D4D\",\n",
    "}"
   ],
   "id": "680f6fa1e3877b69",
   "outputs": [],
   "execution_count": null
  },
  {
   "metadata": {},
   "cell_type": "markdown",
   "source": "## gene program embedding",
   "id": "ce98dde43c81ae50"
  },
  {
   "metadata": {},
   "cell_type": "code",
   "source": "anndata_filtered_subsample = sc.pp.subsample(anndata_filtered, fraction=0.01, copy=True)",
   "id": "b5e297f9d5d50565",
   "outputs": [],
   "execution_count": null
  },
  {
   "metadata": {},
   "cell_type": "code",
   "source": [
    "fig = sc.pl.umap(anndata_filtered_subsample, color=\"dataset\", title=\"NicheCompass GP embedding\", size=1, frameon=False, return_fig=True)\n",
    "plt.savefig(\"r3c12_gp_embedding.svg\")"
   ],
   "id": "234dc10b5595c6f8",
   "outputs": [],
   "execution_count": null
  },
  {
   "metadata": {},
   "cell_type": "code",
   "source": "sc.pl.umap(anndata_filtered_subsample, color=\"nichecompass_latent_cluster\", size=1, palette=niche_color_map)",
   "id": "e0ef8949a3f76e4f",
   "outputs": [],
   "execution_count": null
  },
  {
   "metadata": {},
   "cell_type": "markdown",
   "source": "## niche composition",
   "id": "1f1f8ba3712d98dc"
  },
  {
   "metadata": {},
   "cell_type": "code",
   "source": [
    "freq_table = pd.crosstab(\n",
    "    anndata_filtered.obs[\"dataset\"],\n",
    "    anndata_filtered.obs[\"nichecompass_latent_cluster\"]\n",
    ")\n",
    "freq_table"
   ],
   "id": "88f7a12ccad2592d",
   "outputs": [],
   "execution_count": null
  },
  {
   "metadata": {},
   "cell_type": "code",
   "source": [
    "fig, ax = plt.subplots()\n",
    "ax = freq_table.transpose().plot(kind=\"bar\", stacked=True, ylabel=\"Number of cells\", xlabel=\"NicheCompass niche\", ax=ax)\n",
    "\n",
    "ax.grid(which='major', axis='y', linestyle='--')\n",
    "ax.grid(False, axis='x')\n",
    "ax.spines[['right', 'top']].set_visible(False)\n",
    "ax.spines[['left', 'bottom']].set_linewidth(1)\n",
    "ax.spines[['left', 'bottom']].set_color(\"black\")\n",
    "\n",
    "plt.xticks(rotation=0)\n",
    "\n",
    "ax.get_yaxis().set_major_formatter(ticker.FuncFormatter(lambda x, p: format(int(x), ',')))\n",
    "\n",
    "plt.savefig(\"r3c12_number_of_cells.svg\")"
   ],
   "id": "3e80e106dcece8e3",
   "outputs": [],
   "execution_count": null
  },
  {
   "metadata": {},
   "cell_type": "markdown",
   "source": "## spatial distribution",
   "id": "98dfe46b35019cfb"
  },
  {
   "metadata": {},
   "cell_type": "code",
   "source": [
    "merfish_section_label = \"C57BL6J-1.083\"\n",
    "starmap_section_label = \"well11\""
   ],
   "id": "561a9472f1987dc8",
   "outputs": [],
   "execution_count": null
  },
  {
   "metadata": {},
   "cell_type": "code",
   "source": [
    "fig, axs = plt.subplots(1, 2)\n",
    "\n",
    "merfish_selected_section_anndata = anndata_filtered[anndata_filtered.obs[\"section\"] == merfish_section_label]\n",
    "sc.pl.spatial(merfish_selected_section_anndata, spot_size=20, title=\"MERFISH\", color=\"nichecompass_latent_cluster\", palette=niche_color_map, ax=axs[0], return_fig=False, show=False, frameon=False)\n",
    "axs[0].legend().set_visible(False)\n",
    "\n",
    "def rotate_origin_only(xy, radians):\n",
    "    \"\"\"Only rotate a point around the origin (0, 0).\"\"\"\n",
    "    x, y = xy\n",
    "    xx = x * math.cos(radians) + y * math.sin(radians)\n",
    "    yy = -x * math.sin(radians) + y * math.cos(radians)\n",
    "\n",
    "    return [xx, yy]\n",
    "\n",
    "starmap_selected_section_anndata = anndata_filtered[anndata_filtered.obs[\"section\"] == starmap_section_label]\n",
    "spatial_coordinates = starmap_selected_section_anndata.obsm[\"spatial\"].tolist()\n",
    "rotated_spatial_coordinates = [rotate_origin_only(xy, math.pi/2) for xy in spatial_coordinates]\n",
    "starmap_selected_section_anndata.obsm[\"spatial\"] = np.array(rotated_spatial_coordinates)\n",
    "sc.pl.spatial(starmap_selected_section_anndata, spot_size=0.12, title=\"STARmap PLUS\", color=\"nichecompass_latent_cluster\", palette=niche_color_map, ax=axs[1], return_fig=False, show=False, frameon=False)\n",
    "\n",
    "legend_elements = [matplotlib.patches.Patch(facecolor=y, edgecolor=y, label=x) for x, y in niche_color_map.items()]\n",
    "\n",
    "leg = axs[1].legend(handles=legend_elements, loc=\"right\", bbox_to_anchor=(1.5, 0.5), frameon=False)\n",
    "\n",
    "plt.savefig(\"r3c12_slide_overview.svg\")"
   ],
   "id": "238711f112e918b9",
   "outputs": [],
   "execution_count": null
  },
  {
   "metadata": {},
   "cell_type": "markdown",
   "source": "And now we'll run through the niches to better visualise this",
   "id": "5cf54b77bc7dd2c8"
  },
  {
   "metadata": {},
   "cell_type": "code",
   "source": [
    "color_map = {\"True\": \"blue\", \"False\": \"lightgrey\"}\n",
    "\n",
    "for selected_nichecompass_latent_cluster in retained_niches:\n",
    "    \n",
    "    fig, axs = plt.subplots(1, 2)\n",
    "    \n",
    "    # plot the merfish cluster\n",
    "    merfish_selected_section_anndata.obs[\"is_cluster\"] = merfish_selected_section_anndata.obs[\"nichecompass_latent_cluster\"] == selected_nichecompass_latent_cluster\n",
    "    merfish_selected_section_anndata.obs[\"is_cluster\"] = merfish_selected_section_anndata.obs[\"is_cluster\"].astype(\"str\")\n",
    "    sc.pl.spatial(merfish_selected_section_anndata, spot_size=20, return_fig=False, title=\"MERFISH\", color=\"is_cluster\", show=False, ax=axs[0], palette=color_map, frameon=False)\n",
    "    \n",
    "    # plot the starmap cluster\n",
    "    starmap_selected_section_anndata.obs[\"is_cluster\"] = starmap_selected_section_anndata.obs[\"nichecompass_latent_cluster\"] == selected_nichecompass_latent_cluster\n",
    "    starmap_selected_section_anndata.obs[\"is_cluster\"] = starmap_selected_section_anndata.obs[\"is_cluster\"].astype(\"str\")\n",
    "    sc.pl.spatial(starmap_selected_section_anndata, spot_size=0.12, return_fig=False, title=\"STARmap PLUS\", color=\"is_cluster\", show=False, ax=axs[1], palette=color_map, frameon=False)\n",
    "    \n",
    "    axs[0].legend().set_visible(False)\n",
    "    axs[1].legend().set_visible(False)\n",
    "    \n",
    "    fig.suptitle(f\"niche {selected_nichecompass_latent_cluster}\")\n",
    "    \n",
    "    plt.savefig(f\"r3c12_slide_detail_{selected_nichecompass_latent_cluster}.svg\")\n",
    "    "
   ],
   "id": "1a9585a9fca2c646",
   "outputs": [],
   "execution_count": null
  }
 ],
 "metadata": {
  "kernelspec": {
   "display_name": "Python 3",
   "language": "python",
   "name": "python3"
  },
  "language_info": {
   "codemirror_mode": {
    "name": "ipython",
    "version": 2
   },
   "file_extension": ".py",
   "mimetype": "text/x-python",
   "name": "python",
   "nbconvert_exporter": "python",
   "pygments_lexer": "ipython2",
   "version": "2.7.6"
  }
 },
 "nbformat": 4,
 "nbformat_minor": 5
}
