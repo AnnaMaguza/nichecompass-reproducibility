{
 "cells": [
  {
   "cell_type": "code",
   "id": "initial_id",
   "metadata": {
    "collapsed": true
   },
   "source": [
    "import anndata as ad\n",
    "import matplotlib.pyplot as plt\n",
    "import os\n",
    "import scanpy as sc\n",
    "import pickle"
   ],
   "outputs": [],
   "execution_count": null
  },
  {
   "metadata": {},
   "cell_type": "code",
   "source": [
    "artifact_mebocost_dir = \"trained_model_umaps:mebocost\"\n",
    "anndata_mebocost = ad.read_h5ad(os.path.join(artifact_mebocost_dir, \"anndata_umap_with_clusters.h5ad\"))"
   ],
   "id": "4767fa6ae4e7d0dc",
   "outputs": [],
   "execution_count": null
  },
  {
   "metadata": {},
   "cell_type": "code",
   "source": [
    "artifact_omnipath_dir = \"trained_model_umaps:omnipath\"\n",
    "anndata_omnipath = ad.read_h5ad(os.path.join(artifact_omnipath_dir, \"anndata_umap_with_clusters.h5ad\"))"
   ],
   "id": "a290e1c6844e91eb",
   "outputs": [],
   "execution_count": null
  },
  {
   "metadata": {},
   "cell_type": "code",
   "source": [
    "artifact_collectri_dir = \"trained_model_umaps:collectri\"\n",
    "anndata_collectri = ad.read_h5ad(os.path.join(artifact_collectri_dir, \"anndata_umap_with_clusters.h5ad\"))"
   ],
   "id": "a48462b7f79b29f1",
   "outputs": [],
   "execution_count": null
  },
  {
   "metadata": {},
   "cell_type": "code",
   "source": [
    "artifact_nichenet_dir = \"trained_model_umaps:nichenet\"\n",
    "anndata_nichenet = ad.read_h5ad(os.path.join(artifact_nichenet_dir, \"anndata_umap_with_clusters.h5ad\"))"
   ],
   "id": "3c5d365b2ba9b973",
   "outputs": [],
   "execution_count": null
  },
  {
   "metadata": {},
   "cell_type": "markdown",
   "source": "# gene program embedding",
   "id": "8049e3668a2be7c"
  },
  {
   "metadata": {},
   "cell_type": "code",
   "source": [
    "default_color_dict = {\n",
    "    \"0\": \"#66C5CC\",\n",
    "    \"1\": \"#F6CF71\",\n",
    "    \"2\": \"#F89C74\",\n",
    "    \"3\": \"#DCB0F2\",\n",
    "    \"4\": \"#87C55F\",\n",
    "    \"5\": \"#9EB9F3\",\n",
    "    \"6\": \"#FE88B1\",\n",
    "    \"7\": \"#C9DB74\",\n",
    "    \"8\": \"#8BE0A4\",\n",
    "    \"9\": \"#B497E7\",\n",
    "    \"10\": \"#D3B484\",\n",
    "    \"11\": \"#B3B3B3\",\n",
    "    \"12\": \"#276A8C\", # Royal Blue\n",
    "    \"13\": \"#DAB6C4\", # Pink\n",
    "    \"14\": \"#C38D9E\", # Mauve-Pink\n",
    "    \"15\": \"#9D88A2\", # Mauve\n",
    "    \"16\": \"#FF4D4D\", # Light Red\n",
    "    \"17\": \"#9B4DCA\", # Lavender-Purple\n",
    "    \"18\": \"#FF9CDA\", # Bright Pink\n",
    "    \"19\": \"#FF69B4\", # Hot Pink\n",
    "    \"20\": \"#FF00FF\", # Magenta\n",
    "    \"21\": \"#DA70D6\", # Orchid\n",
    "    \"22\": \"#BA55D3\", # Medium Orchid\n",
    "    \"23\": \"#8A2BE2\", # Blue Violet\n",
    "    \"24\": \"#9370DB\", # Medium Purple\n",
    "    \"25\": \"#7B68EE\", # Medium Slate Blue\n",
    "    \"26\": \"#4169E1\", # Royal Blue\n",
    "    \"27\": \"#FF8C8C\", # Salmon Pink\n",
    "    \"28\": \"#FFAA80\", # Light Coral\n",
    "    \"29\": \"#48D1CC\", # Medium Turquoise\n",
    "    \"30\": \"#40E0D0\", # Turquoise\n",
    "    \"31\": \"#00FF00\", # Lime\n",
    "    \"32\": \"#7FFF00\", # Chartreuse\n",
    "    \"33\": \"#ADFF2F\", # Green Yellow\n",
    "    \"34\": \"#32CD32\", # Lime Green\n",
    "    \"35\": \"#228B22\", # Forest Green\n",
    "    \"36\": \"#FFD8B8\", # Peach\n",
    "    \"37\": \"#008080\", # Teal\n",
    "    \"38\": \"#20B2AA\", # Light Sea Green\n",
    "    \"39\": \"#00FFFF\", # Cyan\n",
    "    \"40\": \"#00BFFF\", # Deep Sky Blue\n",
    "    \"41\": \"#4169E1\", # Royal Blue\n",
    "    \"42\": \"#0000CD\", # Medium Blue\n",
    "    \"43\": \"#00008B\", # Dark Blue\n",
    "    \"44\": \"#8B008B\", # Dark Magenta\n",
    "    \"45\": \"#FF1493\", # Deep Pink\n",
    "    \"46\": \"#FF4500\", # Orange Red\n",
    "    \"47\": \"#006400\", # Dark Green\n",
    "    \"48\": \"#FF6347\", # Tomato\n",
    "    \"49\": \"#FF7F50\", # Coral\n",
    "    \"50\": \"#CD5C5C\", # Indian Red\n",
    "    \"51\": \"#B22222\", # Fire Brick\n",
    "    \"52\": \"#FFB83F\",  # Light Orange\n",
    "    \"53\": \"#8B0000\", # Dark Red\n",
    "    \"54\": \"#D2691E\", # Chocolate\n",
    "    \"55\": \"#A0522D\", # Sienna\n",
    "    \"56\": \"#800000\", # Maroon\n",
    "    \"57\": \"#808080\", # Gray\n",
    "    \"58\": \"#A9A9A9\", # Dark Gray\n",
    "    \"59\": \"#C0C0C0\", # Silver\n",
    "    \"60\": \"#9DD84A\",\n",
    "    \"61\": \"#F5F5F5\", # White Smoke\n",
    "    \"62\": \"#F17171\", # Light Red\n",
    "    \"63\": \"#000000\", # Black\n",
    "    \"64\": \"#FF8C42\", # Tangerine\n",
    "    \"65\": \"#F9A11F\", # Bright Orange-Yellow\n",
    "    \"66\": \"#FACC15\", # Golden Yellow\n",
    "    \"67\": \"#E2E062\", # Pale Lime\n",
    "    \"68\": \"#BADE92\", # Soft Lime\n",
    "    \"69\": \"#70C1B3\", # Greenish-Blue\n",
    "    \"70\": \"#41B3A3\", # Turquoise\n",
    "    \"71\": \"#5EAAA8\", # Gray-Green\n",
    "    \"72\": \"#72B01D\", # Chartreuse\n",
    "    \"73\": \"#9CD08F\", # Light Green\n",
    "    \"74\": \"#8EBA43\", # Olive Green\n",
    "    \"75\": \"#FAC8C3\", # Light Pink\n",
    "    \"76\": \"#E27D60\", # Dark Salmon\n",
    "    \"77\": \"#C38D9E\", # Mauve-Pink\n",
    "    \"78\": \"#937D64\", # Light Brown\n",
    "    \"79\": \"#B1C1CC\", # Light Blue-Gray\n",
    "    \"80\": \"#88A0A8\", # Gray-Blue-Green\n",
    "    \"81\": \"#4E598C\", # Dark Blue-Purple\n",
    "    \"82\": \"#4B4E6D\", # Dark Gray-Blue\n",
    "    \"83\": \"#8E9AAF\", # Light Blue-Grey\n",
    "    \"84\": \"#C0D6DF\", # Pale Blue-Grey\n",
    "    \"85\": \"#97C1A9\", # Blue-Green\n",
    "    \"86\": \"#4C6E5D\", # Dark Green\n",
    "    \"87\": \"#95B9C7\", # Pale Blue-Green\n",
    "    \"88\": \"#C1D5E0\", # Pale Gray-Blue\n",
    "    \"89\": \"#ECDB54\", # Bright Yellow\n",
    "    \"90\": \"#E89B3B\", # Bright Orange\n",
    "    \"91\": \"#CE5A57\", # Deep Red\n",
    "    \"92\": \"#C3525A\", # Dark Red\n",
    "    \"93\": \"#B85D8E\", # Berry\n",
    "    \"94\": \"#7D5295\", # Deep Purple\n",
    "    \"-1\" : \"#E1D9D1\",\n",
    "    \"None\" : \"#E1D9D1\"\n",
    "}"
   ],
   "id": "682d6c5d026ed810",
   "outputs": [],
   "execution_count": null
  },
  {
   "metadata": {},
   "cell_type": "code",
   "source": [
    "def save_umap(anndata, title):\n",
    "    fig = sc.pl.umap(anndata, color=\"nichecompass_latent_cluster\", title=title, palette=default_color_dict, return_fig=True)\n",
    "    os.makedirs(\"umaps\", exist_ok=True)\n",
    "    fig.savefig(f\"umaps/{title}_umap.png\")\n",
    "    fig.savefig(f\"umaps/{title}_umap.svg\")\n",
    "\n",
    "\n",
    "save_umap(anndata_mebocost, title=\"mebocost\")\n",
    "save_umap(anndata_omnipath, title=\"omnipath\")\n",
    "save_umap(anndata_collectri, title=\"collectri\")\n",
    "save_umap(anndata_nichenet, title=\"nichenet\")"
   ],
   "id": "6ac997b09d030e9b",
   "outputs": [],
   "execution_count": null
  },
  {
   "metadata": {},
   "cell_type": "code",
   "source": [
    "def plot_section(anndata, section, title):\n",
    "    anndata_section = anndata[anndata.obs[\"section\"] == section]\n",
    "    fig = sc.pl.spatial(anndata_section, title=title, spot_size=0.05, color=\"nichecompass_latent_cluster\", frameon=False, palette=default_color_dict, return_fig=True)\n",
    "    os.makedirs(\"spatial_niches\", exist_ok=True)\n",
    "    fig.savefig(f\"spatial_niches/{title}_{section}.png\")\n",
    "    fig.savefig(f\"spatial_niches/{title}_{section}.svg\")\n",
    "\n",
    "plot_section(anndata_mebocost, section=\"embryo2_z2\", title=\"mebocost\")\n",
    "plot_section(anndata_omnipath, section=\"embryo2_z2\", title=\"omnipath\")\n",
    "plot_section(anndata_collectri, section=\"embryo2_z2\", title=\"collectri\")\n",
    "plot_section(anndata_nichenet, section=\"embryo2_z2\", title=\"nichenet\")"
   ],
   "id": "fa2648a9b3fbd804",
   "outputs": [],
   "execution_count": null
  },
  {
   "metadata": {},
   "cell_type": "code",
   "source": [
    "print(anndata_mebocost.obsm[\"nichecompass_latent\"].shape)\n",
    "print(anndata_omnipath.obsm[\"nichecompass_latent\"].shape)\n",
    "print(anndata_collectri.obsm[\"nichecompass_latent\"].shape)\n",
    "print(anndata_nichenet.obsm[\"nichecompass_latent\"].shape)"
   ],
   "id": "ce25fc351c8e3701",
   "outputs": [],
   "execution_count": null
  },
  {
   "metadata": {},
   "cell_type": "markdown",
   "source": "# enriched gene programs",
   "id": "baedd03d464b4463"
  },
  {
   "metadata": {},
   "cell_type": "code",
   "source": [
    "enriched_gps_for_artifact_mebocost_dir = \"enriched-gps:mebocost\"\n",
    "with open(os.path.join(enriched_gps_for_artifact_mebocost_dir, \"enriched_gps.pkl\"), \"rb\") as file:\n",
    "    enriched_gps_for_mebocost = pickle.load(file)\n",
    "anndata_with_enriched_gps_for_mebocost = ad.read_h5ad(os.path.join(enriched_gps_for_artifact_mebocost_dir, \"anndata_with_enriched_gps.h5ad\"))"
   ],
   "id": "d41272d9d0c37b72",
   "outputs": [],
   "execution_count": null
  },
  {
   "metadata": {},
   "cell_type": "code",
   "source": [
    "print(f\"{len(enriched_gps_for_mebocost)} enriched gene programs\")\n",
    "source_enriched_gps_for_mebocost = [x for x in enriched_gps_for_mebocost if not x.startswith(\"Add-on\")]\n",
    "print(f\"{len(source_enriched_gps_for_mebocost)} non-add-on enriched gene programs\")"
   ],
   "id": "92f292642e394543",
   "outputs": [],
   "execution_count": null
  },
  {
   "metadata": {},
   "cell_type": "code",
   "source": [
    "def plot_gps_in_section(anndata, section, title, gp_label, dataset):\n",
    "    anndata_section = anndata[anndata.obs[\"section\"] == section]\n",
    "    fig = sc.pl.spatial(anndata_section, title=title, spot_size=0.05, color=gp_label, frameon=False, return_fig=True, show=False)\n",
    "    fig.savefig(f\"gps/{dataset}_gps/{gp_label}.png\")\n",
    "    plt.close(fig)\n",
    "\n",
    "for gp in source_enriched_gps_for_mebocost:\n",
    "    plot_gps_in_section(anndata_with_enriched_gps_for_mebocost, section=\"embryo2_z2\", title=f\"mebocost - {gp}\", gp_label=gp, dataset=\"mebocost\")"
   ],
   "id": "3402c144fca1f19b",
   "outputs": [],
   "execution_count": null
  },
  {
   "metadata": {},
   "cell_type": "code",
   "source": [
    "enriched_gps_for_artifact_omnipath_dir = \"enriched-gps:omnipath\"\n",
    "with open(os.path.join(enriched_gps_for_artifact_omnipath_dir, \"enriched_gps.pkl\"), \"rb\") as file:\n",
    "    enriched_gps_for_omnipath = pickle.load(file)\n",
    "anndata_with_enriched_gps_for_omnipath = ad.read_h5ad(os.path.join(enriched_gps_for_artifact_omnipath_dir, \"anndata_with_enriched_gps.h5ad\"))"
   ],
   "id": "3f8ffd3f8840f28c",
   "outputs": [],
   "execution_count": null
  },
  {
   "metadata": {},
   "cell_type": "code",
   "source": [
    "print(f\"{len(enriched_gps_for_omnipath)} enriched gene programs\")\n",
    "source_enriched_gps_for_omnipath = [x for x in enriched_gps_for_omnipath if not x.startswith(\"Add-on\")]\n",
    "print(f\"{len(source_enriched_gps_for_omnipath)} non-add-on enriched gene programs\")"
   ],
   "id": "8bf7bc8271485433",
   "outputs": [],
   "execution_count": null
  },
  {
   "metadata": {},
   "cell_type": "code",
   "source": [
    "for gp in source_enriched_gps_for_omnipath:\n",
    "    plot_gps_in_section(anndata_with_enriched_gps_for_omnipath, section=\"embryo2_z2\", title=f\"omnipath - {gp}\", gp_label=gp, dataset=\"omnipath\")"
   ],
   "id": "c9cc377d65cd3d20",
   "outputs": [],
   "execution_count": null
  },
  {
   "metadata": {},
   "cell_type": "code",
   "source": [
    "enriched_gps_for_artifact_collectri_dir = \"enriched-gps:collectri\"\n",
    "with open(os.path.join(enriched_gps_for_artifact_collectri_dir, \"enriched_gps.pkl\"), \"rb\") as file:\n",
    "    enriched_gps_for_collectri = pickle.load(file)\n",
    "anndata_with_enriched_gps_for_collectri = ad.read_h5ad(os.path.join(enriched_gps_for_artifact_collectri_dir, \"anndata_with_enriched_gps.h5ad\"))"
   ],
   "id": "f0e17ecb31a20462",
   "outputs": [],
   "execution_count": null
  },
  {
   "metadata": {},
   "cell_type": "code",
   "source": [
    "print(f\"{len(enriched_gps_for_collectri)} enriched gene programs\")\n",
    "source_enriched_gps_for_collectri = [x for x in enriched_gps_for_collectri if not x.startswith(\"Add-on\")]\n",
    "print(f\"{len(source_enriched_gps_for_collectri)} non-add-on enriched gene programs\")"
   ],
   "id": "eb514ce9e223ddca",
   "outputs": [],
   "execution_count": null
  },
  {
   "metadata": {},
   "cell_type": "code",
   "source": [
    "for gp in source_enriched_gps_for_collectri:\n",
    "    plot_gps_in_section(anndata_with_enriched_gps_for_collectri, section=\"embryo2_z2\", title=f\"collectri - {gp}\", gp_label=gp, dataset=\"collectri\")"
   ],
   "id": "9992f9b28a2753b2",
   "outputs": [],
   "execution_count": null
  },
  {
   "metadata": {},
   "cell_type": "code",
   "source": [
    "enriched_gps_for_artifact_nichenet_dir = \"enriched-gps:nichenet\"\n",
    "with open(os.path.join(enriched_gps_for_artifact_nichenet_dir, \"enriched_gps.pkl\"), \"rb\") as file:\n",
    "    enriched_gps_for_nichenet = pickle.load(file)\n",
    "anndata_with_enriched_gps_for_nichenet = ad.read_h5ad(\n",
    "    os.path.join(enriched_gps_for_artifact_nichenet_dir, \"anndata_with_enriched_gps.h5ad\"))"
   ],
   "id": "f3df51903d07c73c",
   "outputs": [],
   "execution_count": null
  },
  {
   "metadata": {},
   "cell_type": "code",
   "source": [
    "print(f\"{len(enriched_gps_for_nichenet)} enriched gene programs\")\n",
    "source_enriched_gps_for_nichenet = [x for x in enriched_gps_for_nichenet if not x.startswith(\"Add-on\")]\n",
    "print(f\"{len(source_enriched_gps_for_nichenet)} non-add-on enriched gene programs\")"
   ],
   "id": "fb5f184f7ae771ae",
   "outputs": [],
   "execution_count": null
  },
  {
   "metadata": {
    "jupyter": {
     "is_executing": true
    }
   },
   "cell_type": "code",
   "source": [
    "for gp in source_enriched_gps_for_nichenet:\n",
    "    plot_gps_in_section(anndata_with_enriched_gps_for_nichenet, section=\"embryo2_z2\", title=f\"nichenet - {gp}\", gp_label=gp, dataset=\"nichenet\")"
   ],
   "id": "8181a9be1a3e1554",
   "outputs": [],
   "execution_count": null
  },
  {
   "metadata": {},
   "cell_type": "markdown",
   "source": "# gene program genes",
   "id": "8798be3127a30063"
  },
  {
   "metadata": {
    "jupyter": {
     "is_executing": true
    }
   },
   "cell_type": "code",
   "source": [
    "gps_mebocost_dir = \"processed-gene-programs:mebocost\"\n",
    "with open(os.path.join(gps_mebocost_dir, \"gene_programs.pkl\"), \"rb\") as file:\n",
    "    gps_mebocost = pickle.load(file)\n",
    "gps_mebocost"
   ],
   "id": "b7042b1b07304352",
   "outputs": [],
   "execution_count": null
  },
  {
   "metadata": {
    "jupyter": {
     "is_executing": true
    }
   },
   "cell_type": "code",
   "source": [
    "gps_omnipath_dir = \"processed-gene-programs:omnipath\"\n",
    "with open(os.path.join(gps_omnipath_dir, \"gene_programs.pkl\"), \"rb\") as file:\n",
    "    gps_omnipath = pickle.load(file)\n",
    "gps_omnipath"
   ],
   "id": "e62e2d9883ea2121",
   "outputs": [],
   "execution_count": null
  },
  {
   "metadata": {
    "jupyter": {
     "is_executing": true
    }
   },
   "cell_type": "code",
   "source": [
    "gps_collectri_dir = \"processed-gene-programs:collectri\"\n",
    "with open(os.path.join(gps_collectri_dir, \"gene_programs.pkl\"), \"rb\") as file:\n",
    "    gps_collectri = pickle.load(file)\n",
    "gps_collectri"
   ],
   "id": "685dc5a4d182fff4",
   "outputs": [],
   "execution_count": null
  },
  {
   "metadata": {
    "jupyter": {
     "is_executing": true
    }
   },
   "cell_type": "code",
   "source": [
    "gps_nichenet_dir = \"processed-gene-programs:nichenet\"\n",
    "with open(os.path.join(gps_nichenet_dir, \"gene_programs.pkl\"), \"rb\") as file:\n",
    "    gps_nichenet = pickle.load(file)\n",
    "gps_nichenet"
   ],
   "id": "bf88c8f0a9241a73",
   "outputs": [],
   "execution_count": null
  },
  {
   "metadata": {},
   "cell_type": "markdown",
   "source": "# regions of interest",
   "id": "3e7fd36401418927"
  },
  {
   "metadata": {},
   "cell_type": "markdown",
   "source": "## hindbrain",
   "id": "a606f21c3f90c45"
  },
  {
   "metadata": {
    "jupyter": {
     "is_executing": true
    }
   },
   "cell_type": "code",
   "source": [
    "mebocost_niche = \"13\"\n",
    "omnipath_niche = \"13\"\n",
    "collectri_niche = \"16\"\n",
    "nichenet_niche = \"20\"\n",
    "niche_label = \"hindbrain\""
   ],
   "id": "acd71c40e8da701e",
   "outputs": [],
   "execution_count": null
  },
  {
   "metadata": {
    "jupyter": {
     "is_executing": true
    }
   },
   "cell_type": "code",
   "source": [
    "def highlight_niche(anndata, niche, niche_label, section, title):\n",
    "    anndata_highlighted = anndata.copy()\n",
    "    anndata_highlighted.obs[\"niche_of_interest\"] = anndata_highlighted.obs[\"nichecompass_latent_cluster\"] == niche\n",
    "    anndata_highlighted_section = anndata_highlighted[anndata_highlighted.obs[\"section\"] == section]\n",
    "    fig = sc.pl.spatial(anndata_highlighted_section, title=title, spot_size=0.05, color=\"niche_of_interest\", frameon=False, return_fig=True)\n",
    "    os.makedirs(f\"highlighted_niche/{niche_label}\", exist_ok=True)\n",
    "    fig.savefig(f\"highlighted_niche/{niche_label}/{title}_niche{niche}_{section}.png\")\n",
    "    fig.savefig(f\"highlighted_niche/{niche_label}/{title}_niche{niche}_{section}.svg\")\n",
    "\n",
    "highlight_niche(anndata_mebocost, section=\"embryo2_z2\", title=\"mebocost\", niche=mebocost_niche, niche_label=niche_label)\n",
    "highlight_niche(anndata_omnipath, section=\"embryo2_z2\", title=\"omnipath\", niche=omnipath_niche, niche_label=niche_label)\n",
    "highlight_niche(anndata_collectri, section=\"embryo2_z2\", title=\"collectri\", niche=collectri_niche, niche_label=niche_label)\n",
    "highlight_niche(anndata_nichenet, section=\"embryo2_z2\", title=\"nichenet\", niche=nichenet_niche, niche_label=niche_label)"
   ],
   "id": "3d2b8ee26730d628",
   "outputs": [],
   "execution_count": null
  },
  {
   "metadata": {
    "jupyter": {
     "is_executing": true
    }
   },
   "cell_type": "code",
   "source": [
    "def niche_enriched_gps(anndata, niche):\n",
    "    test_results = anndata.uns[\"nichecompass_differential_gp_test_results\"]\n",
    "    test_results_filtered = test_results[test_results[\"category\"] == niche]\n",
    "    return test_results_filtered.sort_values(by=[\"log_bayes_factor\"], ascending=False)[\"gene_program\"].tolist()\n",
    "\n",
    "print(f\"mebocost enriched gps in {mebocost_niche}: {niche_enriched_gps(anndata_with_enriched_gps_for_mebocost, mebocost_niche)}\")\n",
    "print(f\"omnipath enriched gps in {omnipath_niche}: {niche_enriched_gps(anndata_with_enriched_gps_for_omnipath, omnipath_niche)}\")\n",
    "print(f\"collectri enriched gps in {collectri_niche}: {niche_enriched_gps(anndata_with_enriched_gps_for_collectri, collectri_niche)}\")\n",
    "print(f\"nichenet enriched gps in {nichenet_niche}: {niche_enriched_gps(anndata_with_enriched_gps_for_nichenet, nichenet_niche)}\")"
   ],
   "id": "c4b20650cb10c324",
   "outputs": [],
   "execution_count": null
  },
  {
   "metadata": {
    "jupyter": {
     "is_executing": true
    }
   },
   "cell_type": "code",
   "source": [
    "def plot_ranked_enriched_gps_in_section(anndata, section, dataset, niche, niche_label):\n",
    "    gp_labels = niche_enriched_gps(anndata, niche)[0:9]\n",
    "    anndata_section = anndata[anndata.obs[\"section\"] == section]\n",
    "    \n",
    "    for i, gp_label in enumerate(gp_labels):\n",
    "        padded_rank = str(i).zfill(5)\n",
    "        fig = sc.pl.spatial(anndata_section, title=f\"{dataset} - {gp_label}\", spot_size=0.05, color=gp_label, frameon=False, return_fig=True, show=False)\n",
    "        os.makedirs(f\"ranked_enriched_gps/{niche_label}/{dataset}_gps\", exist_ok=True)\n",
    "        fig.savefig(f\"ranked_enriched_gps/{niche_label}/{dataset}_gps/{padded_rank}_{gp_label}.png\")\n",
    "        fig.savefig(f\"ranked_enriched_gps/{niche_label}/{dataset}_gps/{padded_rank}_{gp_label}.svg\")\n",
    "        plt.close(fig)\n",
    "    \n",
    "plot_ranked_enriched_gps_in_section(anndata_with_enriched_gps_for_mebocost, section=\"embryo2_z2\", dataset=\"mebocost\", niche=mebocost_niche, niche_label=niche_label)\n",
    "plot_ranked_enriched_gps_in_section(anndata_with_enriched_gps_for_omnipath, section=\"embryo2_z2\", dataset=\"omnipath\", niche=omnipath_niche, niche_label=niche_label)\n",
    "plot_ranked_enriched_gps_in_section(anndata_with_enriched_gps_for_collectri, section=\"embryo2_z2\", dataset=\"collectri\", niche=collectri_niche, niche_label=niche_label)\n",
    "plot_ranked_enriched_gps_in_section(anndata_with_enriched_gps_for_nichenet, section=\"embryo2_z2\", dataset=\"nichenet\", niche=nichenet_niche, niche_label=niche_label)\n",
    "\n",
    "def plot_gene_expression_for_ranked_enriched_gps_in_section(anndata, gps, section, dataset, niche, niche_label):\n",
    "    gp_labels = niche_enriched_gps(anndata, niche)[0:9]\n",
    "    anndata_section = anndata[anndata.obs[\"section\"] == section]\n",
    "    \n",
    "    for i, gp_label in enumerate(gp_labels):\n",
    "        \n",
    "        if gp_label.startswith(\"Add-on\"):\n",
    "            continue\n",
    "        \n",
    "        padded_rank = str(i).zfill(5)\n",
    "        \n",
    "        gp_details = gps[gp_label]\n",
    "        gp_genes = gp_details[\"targets\"] + gp_details[\"sources\"]\n",
    "        included_genes = anndata.var_names.tolist()\n",
    "        included_gp_genes = list(set(included_genes).intersection(set(gp_genes)))\n",
    "        \n",
    "        os.makedirs(f\"ranked_enriched_gps/{niche_label}/{dataset}_gps/{padded_rank}_{gp_label}\", exist_ok=True)\n",
    "        for gene in included_gp_genes:\n",
    "            fig = sc.pl.spatial(anndata_section, title=f\"{dataset} - {gp_label} - {gene}\", spot_size=0.05, color=gene, frameon=False, return_fig=True, show=False, color_map=\"Reds\")\n",
    "            fig.savefig(f\"ranked_enriched_gps/{niche_label}/{dataset}_gps/{padded_rank}_{gp_label}/{gene}.png\")\n",
    "            fig.savefig(f\"ranked_enriched_gps/{niche_label}/{dataset}_gps/{padded_rank}_{gp_label}/{gene}.svg\")\n",
    "            plt.close(fig)\n",
    "\n",
    "plot_gene_expression_for_ranked_enriched_gps_in_section(anndata_with_enriched_gps_for_mebocost, gps=gps_mebocost, section=\"embryo2_z2\", dataset=\"mebocost\", niche=mebocost_niche, niche_label=niche_label)\n",
    "plot_gene_expression_for_ranked_enriched_gps_in_section(anndata_with_enriched_gps_for_omnipath, gps=gps_omnipath, section=\"embryo2_z2\", dataset=\"omnipath\", niche=omnipath_niche, niche_label=niche_label)\n",
    "plot_gene_expression_for_ranked_enriched_gps_in_section(anndata_with_enriched_gps_for_collectri, gps=gps_collectri, section=\"embryo2_z2\", dataset=\"collectri\", niche=collectri_niche, niche_label=niche_label)\n",
    "plot_gene_expression_for_ranked_enriched_gps_in_section(anndata_with_enriched_gps_for_nichenet, gps=gps_nichenet, section=\"embryo2_z2\", dataset=\"nichenet\", niche=nichenet_niche, niche_label=niche_label)"
   ],
   "id": "77dc07d3dec1e29c",
   "outputs": [],
   "execution_count": null
  },
  {
   "metadata": {},
   "cell_type": "markdown",
   "source": "## floor plate",
   "id": "d88f1c0b2018c165"
  },
  {
   "metadata": {
    "jupyter": {
     "is_executing": true
    }
   },
   "cell_type": "code",
   "source": [
    "mebocost_niche = \"20\"\n",
    "omnipath_niche = \"19\"\n",
    "collectri_niche = \"23\"\n",
    "nichenet_niche = \"15\"\n",
    "niche_label = \"floorplate\""
   ],
   "id": "21552c0f2a698c65",
   "outputs": [],
   "execution_count": null
  },
  {
   "metadata": {
    "jupyter": {
     "is_executing": true
    }
   },
   "cell_type": "code",
   "source": [
    "highlight_niche(anndata_mebocost, section=\"embryo2_z2\", title=\"mebocost\", niche=mebocost_niche, niche_label=niche_label)\n",
    "highlight_niche(anndata_omnipath, section=\"embryo2_z2\", title=\"omnipath\", niche=omnipath_niche, niche_label=niche_label)\n",
    "highlight_niche(anndata_collectri, section=\"embryo2_z2\", title=\"collectri\", niche=collectri_niche, niche_label=niche_label)\n",
    "highlight_niche(anndata_nichenet, section=\"embryo2_z2\", title=\"nichenet\", niche=nichenet_niche, niche_label=niche_label)"
   ],
   "id": "5680823f23ef51d8",
   "outputs": [],
   "execution_count": null
  },
  {
   "metadata": {
    "jupyter": {
     "is_executing": true
    }
   },
   "cell_type": "code",
   "source": [
    "print(f\"mebocost enriched gps in {mebocost_niche}: {niche_enriched_gps(anndata_with_enriched_gps_for_mebocost, mebocost_niche)}\")\n",
    "print(f\"omnipath enriched gps in {omnipath_niche}: {niche_enriched_gps(anndata_with_enriched_gps_for_omnipath, omnipath_niche)}\")\n",
    "print(f\"collectri enriched gps in {collectri_niche}: {niche_enriched_gps(anndata_with_enriched_gps_for_collectri, collectri_niche)}\")\n",
    "print(f\"nichenet enriched gps in {nichenet_niche}: {niche_enriched_gps(anndata_with_enriched_gps_for_nichenet, nichenet_niche)}\")"
   ],
   "id": "ea1ed9a8697f0cd9",
   "outputs": [],
   "execution_count": null
  },
  {
   "metadata": {
    "jupyter": {
     "is_executing": true
    }
   },
   "cell_type": "code",
   "source": [
    "plot_ranked_enriched_gps_in_section(anndata_with_enriched_gps_for_mebocost, section=\"embryo2_z2\", dataset=\"mebocost\", niche=mebocost_niche, niche_label=niche_label)\n",
    "plot_ranked_enriched_gps_in_section(anndata_with_enriched_gps_for_omnipath, section=\"embryo2_z2\", dataset=\"omnipath\", niche=omnipath_niche, niche_label=niche_label)\n",
    "plot_ranked_enriched_gps_in_section(anndata_with_enriched_gps_for_collectri, section=\"embryo2_z2\", dataset=\"collectri\", niche=collectri_niche, niche_label=niche_label)\n",
    "plot_ranked_enriched_gps_in_section(anndata_with_enriched_gps_for_nichenet, section=\"embryo2_z2\", dataset=\"nichenet\", niche=nichenet_niche, niche_label=niche_label)\n",
    "\n",
    "plot_gene_expression_for_ranked_enriched_gps_in_section(anndata_with_enriched_gps_for_mebocost, gps=gps_mebocost, section=\"embryo2_z2\", dataset=\"mebocost\", niche=mebocost_niche, niche_label=niche_label)\n",
    "plot_gene_expression_for_ranked_enriched_gps_in_section(anndata_with_enriched_gps_for_omnipath, gps=gps_omnipath, section=\"embryo2_z2\", dataset=\"omnipath\", niche=omnipath_niche, niche_label=niche_label)\n",
    "plot_gene_expression_for_ranked_enriched_gps_in_section(anndata_with_enriched_gps_for_collectri, gps=gps_collectri, section=\"embryo2_z2\", dataset=\"collectri\", niche=collectri_niche, niche_label=niche_label)\n",
    "plot_gene_expression_for_ranked_enriched_gps_in_section(anndata_with_enriched_gps_for_nichenet, gps=gps_nichenet, section=\"embryo2_z2\", dataset=\"nichenet\", niche=nichenet_niche, niche_label=niche_label)"
   ],
   "id": "9365e7e9216fc137",
   "outputs": [],
   "execution_count": null
  },
  {
   "metadata": {},
   "cell_type": "markdown",
   "source": "## ventral gut",
   "id": "6273003e5f4606c6"
  },
  {
   "metadata": {
    "jupyter": {
     "is_executing": true
    }
   },
   "cell_type": "code",
   "source": [
    "mebocost_niche = \"2\"\n",
    "omnipath_niche = \"6\"\n",
    "collectri_niche = \"5\"\n",
    "nichenet_niche = \"11\"\n",
    "niche_label = \"ventralgut\""
   ],
   "id": "d664a5fffdaa0778",
   "outputs": [],
   "execution_count": null
  },
  {
   "metadata": {
    "jupyter": {
     "is_executing": true
    }
   },
   "cell_type": "code",
   "source": [
    "highlight_niche(anndata_mebocost, section=\"embryo2_z2\", title=\"mebocost\", niche=mebocost_niche, niche_label=niche_label)\n",
    "highlight_niche(anndata_omnipath, section=\"embryo2_z2\", title=\"omnipath\", niche=omnipath_niche, niche_label=niche_label)\n",
    "highlight_niche(anndata_collectri, section=\"embryo2_z2\", title=\"collectri\", niche=collectri_niche, niche_label=niche_label)\n",
    "highlight_niche(anndata_nichenet, section=\"embryo2_z2\", title=\"nichenet\", niche=nichenet_niche, niche_label=niche_label)"
   ],
   "id": "163525d85f671d6c",
   "outputs": [],
   "execution_count": null
  },
  {
   "metadata": {
    "jupyter": {
     "is_executing": true
    }
   },
   "cell_type": "code",
   "source": [
    "print(f\"mebocost enriched gps in {mebocost_niche}: {niche_enriched_gps(anndata_with_enriched_gps_for_mebocost, mebocost_niche)}\")\n",
    "print(f\"omnipath enriched gps in {omnipath_niche}: {niche_enriched_gps(anndata_with_enriched_gps_for_omnipath, omnipath_niche)}\")\n",
    "print(f\"collectri enriched gps in {collectri_niche}: {niche_enriched_gps(anndata_with_enriched_gps_for_collectri, collectri_niche)}\")\n",
    "print(f\"nichenet enriched gps in {nichenet_niche}: {niche_enriched_gps(anndata_with_enriched_gps_for_nichenet, nichenet_niche)}\")"
   ],
   "id": "3f2bdfcd87b10935",
   "outputs": [],
   "execution_count": null
  },
  {
   "metadata": {
    "jupyter": {
     "is_executing": true
    }
   },
   "cell_type": "code",
   "source": [
    "plot_ranked_enriched_gps_in_section(anndata_with_enriched_gps_for_mebocost, section=\"embryo2_z2\", dataset=\"mebocost\", niche=mebocost_niche, niche_label=niche_label)\n",
    "plot_ranked_enriched_gps_in_section(anndata_with_enriched_gps_for_omnipath, section=\"embryo2_z2\", dataset=\"omnipath\", niche=omnipath_niche, niche_label=niche_label)\n",
    "plot_ranked_enriched_gps_in_section(anndata_with_enriched_gps_for_collectri, section=\"embryo2_z2\", dataset=\"collectri\", niche=collectri_niche, niche_label=niche_label)\n",
    "plot_ranked_enriched_gps_in_section(anndata_with_enriched_gps_for_nichenet, section=\"embryo2_z2\", dataset=\"nichenet\", niche=nichenet_niche, niche_label=niche_label)\n",
    "\n",
    "plot_gene_expression_for_ranked_enriched_gps_in_section(anndata_with_enriched_gps_for_mebocost, gps=gps_mebocost, section=\"embryo2_z2\", dataset=\"mebocost\", niche=mebocost_niche, niche_label=niche_label)\n",
    "plot_gene_expression_for_ranked_enriched_gps_in_section(anndata_with_enriched_gps_for_omnipath, gps=gps_omnipath, section=\"embryo2_z2\", dataset=\"omnipath\", niche=omnipath_niche, niche_label=niche_label)\n",
    "plot_gene_expression_for_ranked_enriched_gps_in_section(anndata_with_enriched_gps_for_collectri, gps=gps_collectri, section=\"embryo2_z2\", dataset=\"collectri\", niche=collectri_niche, niche_label=niche_label)\n",
    "plot_gene_expression_for_ranked_enriched_gps_in_section(anndata_with_enriched_gps_for_nichenet, gps=gps_nichenet, section=\"embryo2_z2\", dataset=\"nichenet\", niche=nichenet_niche, niche_label=niche_label)"
   ],
   "id": "ffd62d1dbfe852bf",
   "outputs": [],
   "execution_count": null
  },
  {
   "metadata": {},
   "cell_type": "markdown",
   "source": "## midbrain",
   "id": "28ec0562c213e7a"
  },
  {
   "metadata": {
    "jupyter": {
     "is_executing": true
    }
   },
   "cell_type": "code",
   "source": [
    "mebocost_niche = \"7\"\n",
    "omnipath_niche = \"18\"\n",
    "collectri_niche = \"24\"\n",
    "nichenet_niche = \"18\"\n",
    "niche_label = \"midbrain\""
   ],
   "id": "3249c888f6080197",
   "outputs": [],
   "execution_count": null
  },
  {
   "metadata": {
    "jupyter": {
     "is_executing": true
    }
   },
   "cell_type": "code",
   "source": [
    "highlight_niche(anndata_mebocost, section=\"embryo2_z2\", title=\"mebocost\", niche=mebocost_niche, niche_label=niche_label)\n",
    "highlight_niche(anndata_omnipath, section=\"embryo2_z2\", title=\"omnipath\", niche=omnipath_niche, niche_label=niche_label)\n",
    "highlight_niche(anndata_collectri, section=\"embryo2_z2\", title=\"collectri\", niche=collectri_niche, niche_label=niche_label)\n",
    "highlight_niche(anndata_nichenet, section=\"embryo2_z2\", title=\"nichenet\", niche=nichenet_niche, niche_label=niche_label)"
   ],
   "id": "b1aad099ab509950",
   "outputs": [],
   "execution_count": null
  },
  {
   "metadata": {
    "jupyter": {
     "is_executing": true
    }
   },
   "cell_type": "code",
   "source": [
    "print(f\"mebocost enriched gps in {mebocost_niche}: {niche_enriched_gps(anndata_with_enriched_gps_for_mebocost, mebocost_niche)}\")\n",
    "print(f\"omnipath enriched gps in {omnipath_niche}: {niche_enriched_gps(anndata_with_enriched_gps_for_omnipath, omnipath_niche)}\")\n",
    "print(f\"collectri enriched gps in {collectri_niche}: {niche_enriched_gps(anndata_with_enriched_gps_for_collectri, collectri_niche)}\")\n",
    "print(f\"nichenet enriched gps in {nichenet_niche}: {niche_enriched_gps(anndata_with_enriched_gps_for_nichenet, nichenet_niche)}\")"
   ],
   "id": "491540c2a7dbb436",
   "outputs": [],
   "execution_count": null
  },
  {
   "metadata": {
    "jupyter": {
     "is_executing": true
    }
   },
   "cell_type": "code",
   "source": [
    "plot_ranked_enriched_gps_in_section(anndata_with_enriched_gps_for_mebocost, section=\"embryo2_z2\", dataset=\"mebocost\", niche=mebocost_niche, niche_label=niche_label)\n",
    "plot_ranked_enriched_gps_in_section(anndata_with_enriched_gps_for_omnipath, section=\"embryo2_z2\", dataset=\"omnipath\", niche=omnipath_niche, niche_label=niche_label)\n",
    "plot_ranked_enriched_gps_in_section(anndata_with_enriched_gps_for_collectri, section=\"embryo2_z2\", dataset=\"collectri\", niche=collectri_niche, niche_label=niche_label)\n",
    "plot_ranked_enriched_gps_in_section(anndata_with_enriched_gps_for_nichenet, section=\"embryo2_z2\", dataset=\"nichenet\", niche=nichenet_niche, niche_label=niche_label)\n",
    "\n",
    "plot_gene_expression_for_ranked_enriched_gps_in_section(anndata_with_enriched_gps_for_mebocost, gps=gps_mebocost, section=\"embryo2_z2\", dataset=\"mebocost\", niche=mebocost_niche, niche_label=niche_label)\n",
    "plot_gene_expression_for_ranked_enriched_gps_in_section(anndata_with_enriched_gps_for_omnipath, gps=gps_omnipath, section=\"embryo2_z2\", dataset=\"omnipath\", niche=omnipath_niche, niche_label=niche_label)\n",
    "plot_gene_expression_for_ranked_enriched_gps_in_section(anndata_with_enriched_gps_for_collectri, gps=gps_collectri, section=\"embryo2_z2\", dataset=\"collectri\", niche=collectri_niche, niche_label=niche_label)\n",
    "plot_gene_expression_for_ranked_enriched_gps_in_section(anndata_with_enriched_gps_for_nichenet, gps=gps_nichenet, section=\"embryo2_z2\", dataset=\"nichenet\", niche=nichenet_niche, niche_label=niche_label)"
   ],
   "id": "d3f0c51bf155ac76",
   "outputs": [],
   "execution_count": null
  }
 ],
 "metadata": {
  "kernelspec": {
   "display_name": "Python 3",
   "language": "python",
   "name": "python3"
  },
  "language_info": {
   "codemirror_mode": {
    "name": "ipython",
    "version": 2
   },
   "file_extension": ".py",
   "mimetype": "text/x-python",
   "name": "python",
   "nbconvert_exporter": "python",
   "pygments_lexer": "ipython2",
   "version": "2.7.6"
  }
 },
 "nbformat": 4,
 "nbformat_minor": 5
}
