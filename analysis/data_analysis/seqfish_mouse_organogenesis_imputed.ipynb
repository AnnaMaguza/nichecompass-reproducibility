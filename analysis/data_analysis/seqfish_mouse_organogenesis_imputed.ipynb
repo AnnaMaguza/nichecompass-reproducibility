{
 "cells": [
  {
   "cell_type": "markdown",
   "id": "4ff90617-eadf-4860-9db6-ce6c3af24972",
   "metadata": {},
   "source": [
    "# seqFISH Mouse Organogenesis Imputed"
   ]
  },
  {
   "cell_type": "markdown",
   "id": "e4dbfd07-b32b-4cb4-933e-71e36d2bc5b2",
   "metadata": {},
   "source": [
    "- **Creator**: Sebastian Birk (<sebastian.birk@helmholtz-munich.de>)\n",
    "- **Date of Creation:** 01.08.2024\n",
    "- **Date of Last Modification:** 01.08.2024"
   ]
  },
  {
   "cell_type": "markdown",
   "id": "a51dd514-6ad4-45b7-bd1d-86becedf107e",
   "metadata": {},
   "source": [
    "## 1. Setup"
   ]
  },
  {
   "cell_type": "markdown",
   "id": "bd3d7961-4e20-483b-bbcf-eae7912f77a3",
   "metadata": {},
   "source": [
    "Run this notebook in the nichecompass-reproducibility environment, installable from ```('../../../envs/environment.yaml')```."
   ]
  },
  {
   "cell_type": "markdown",
   "id": "cc3c9710-4f33-4ef9-979f-62a4611ccf86",
   "metadata": {},
   "source": [
    "### 1.1 Import Libraries"
   ]
  },
  {
   "cell_type": "code",
   "execution_count": 1,
   "id": "0f588b5d-56e7-412a-bfa9-2e2734df6c1f",
   "metadata": {},
   "outputs": [],
   "source": [
    "%load_ext autoreload\n",
    "%autoreload 2"
   ]
  },
  {
   "cell_type": "code",
   "execution_count": 39,
   "id": "a5de923b-afc9-42bb-a539-5ea994b85d21",
   "metadata": {},
   "outputs": [],
   "source": [
    "import warnings\n",
    "\n",
    "import anndata as ad\n",
    "import pandas as pd\n",
    "import scipy.sparse as sp\n",
    "import squidpy as sq\n",
    "from nichecompass.models import NicheCompass"
   ]
  },
  {
   "cell_type": "markdown",
   "id": "56b93df9-f9d6-48fb-8dc6-2503813773b0",
   "metadata": {},
   "source": [
    "### 1.2 Define Parameters"
   ]
  },
  {
   "cell_type": "code",
   "execution_count": 55,
   "id": "a2c5e4b4-ef57-4774-a147-8b6d7f7bf85e",
   "metadata": {},
   "outputs": [],
   "source": [
    "dataset = \"seqfish_mouse_organogenesis_imputed\"\n",
    "species = \"mouse\"\n",
    "model_label = \"reference\"\n",
    "counts_key = \"counts\"\n",
    "cat_covariates_keys = \"batch\"\n",
    "gp_names_key = \"nichecompass_gp_names\"\n",
    "spatial_key = \"spatial\"\n",
    "adj_key = \"spatial_connectivities\"\n",
    "n_neighbors = 8\n",
    "latent_key = \"nichecompass_latent\"\n",
    "\n",
    "load_timestamp = \"31072024_212252_2\"\n",
    "batches = [\"batch1\", \"batch2\", \"batch3\", \"batch4\", \"batch5\", \"batch6\"]"
   ]
  },
  {
   "cell_type": "markdown",
   "id": "063eeb1b-1dbf-4f86-b2fe-b0917493dd30",
   "metadata": {},
   "source": [
    "### 1.3 Run Notebook Setup"
   ]
  },
  {
   "cell_type": "code",
   "execution_count": 10,
   "id": "2e05fce7-a897-4bb2-9bea-07b26ffd58a8",
   "metadata": {},
   "outputs": [],
   "source": [
    "warnings.filterwarnings(\"ignore\")\n",
    "pd.set_option('display.max_columns', None)\n",
    "pd.set_option('display.max_rows', None)"
   ]
  },
  {
   "cell_type": "markdown",
   "id": "6ba484b3-61f0-4ed3-9869-e31c4f65e509",
   "metadata": {},
   "source": [
    "### 1.4 Configure Paths"
   ]
  },
  {
   "cell_type": "code",
   "execution_count": 23,
   "id": "966a196b-4970-46e7-b745-ee4874813f64",
   "metadata": {},
   "outputs": [],
   "source": [
    "# Define paths\n",
    "ga_data_folder_path = \"../../datasets/ga_data\"\n",
    "gp_data_folder_path = \"../../datasets/gp_data\"\n",
    "st_data_folder_path = \"../../datasets/st_data\"\n",
    "st_data_gold_folder_path = st_data_folder_path + \"/gold\"\n",
    "omnipath_lr_network_file_path = f\"{gp_data_folder_path}/omnipath_lr_network.csv\"\n",
    "nichenet_lr_network_file_path = f\"{gp_data_folder_path}/nichenet_lr_network_v2_{species}.csv\"\n",
    "nichenet_ligand_target_matrix_file_path = f\"{gp_data_folder_path}/nichenet_ligand_target_matrix_v2_{species}.csv\"\n",
    "mebocost_enzyme_sensor_interactions_folder_path = f\"{gp_data_folder_path}/metabolite_enzyme_sensor_gps\"\n",
    "gene_orthologs_mapping_file_path = f\"{ga_data_folder_path}/human_mouse_gene_orthologs.csv\"\n",
    "artifacts_folder_path = f\"../../artifacts\"\n",
    "model_folder_path = f\"{artifacts_folder_path}/{dataset}/models/{model_label}/{load_timestamp}\"\n",
    "figure_folder_path = f\"{artifacts_folder_path}/{dataset}/figures/{model_label}/{load_timestamp}\""
   ]
  },
  {
   "cell_type": "markdown",
   "id": "d1e14d26-2fdb-477d-84a5-dd143b882d6a",
   "metadata": {},
   "source": [
    "## 2. Model"
   ]
  },
  {
   "cell_type": "code",
   "execution_count": 25,
   "id": "5a73291d-31e6-418d-a5c7-60bf886c2a70",
   "metadata": {},
   "outputs": [
    {
     "name": "stdout",
     "output_type": "stream",
     "text": [
      "--- INITIALIZING NEW NETWORK MODULE: VARIATIONAL GENE PROGRAM GRAPH AUTOENCODER ---\n",
      "LOSS -> include_edge_recon_loss: True, include_gene_expr_recon_loss: True, rna_recon_loss: nb\n",
      "NODE LABEL METHOD -> one-hop-norm\n",
      "ACTIVE GP THRESHOLD RATIO -> 0.01\n",
      "LOG VARIATIONAL -> True\n",
      "CATEGORICAL COVARIATES EMBEDDINGS INJECTION -> ['gene_expr_decoder']\n",
      "ONE HOP GCN NORM RNA NODE LABEL AGGREGATOR\n",
      "ENCODER -> n_input: 5000, n_cat_covariates_embed_input: 0, n_hidden: 1956, n_latent: 1856, n_addon_latent: 100, n_fc_layers: 1, n_layers: 1, conv_layer: gatv2conv, n_attention_heads: 4, dropout_rate: 0.0, \n",
      "COSINE SIM GRAPH DECODER -> dropout_rate: 0.0\n",
      "MASKED TARGET RNA DECODER -> n_prior_gp_input: 1856, n_addon_gp_input: 100, n_cat_covariates_embed_input: 3, n_output: 5000\n",
      "MASKED SOURCE RNA DECODER -> n_prior_gp_input: 1856, n_addon_gp_input: 100, n_cat_covariates_embed_input: 3, n_output: 5000\n"
     ]
    }
   ],
   "source": [
    "model = NicheCompass.load(dir_path=model_folder_path,\n",
    "                          adata=None,\n",
    "                          adata_file_name=f\"{dataset}_{model_label}.h5ad\",\n",
    "                          gp_names_key=gp_names_key)"
   ]
  },
  {
   "cell_type": "code",
   "execution_count": 43,
   "id": "28824e25-9d0a-4ce8-a891-81e4beaaef42",
   "metadata": {},
   "outputs": [
    {
     "name": "stdout",
     "output_type": "stream",
     "text": [
      "\n",
      "Processing batch batch1...\n",
      "Loading data...\n",
      "Computing spatial neighborhood graph...\n",
      "\n",
      "Processing batch batch2...\n",
      "Loading data...\n",
      "Computing spatial neighborhood graph...\n",
      "\n",
      "Processing batch batch3...\n",
      "Loading data...\n",
      "Computing spatial neighborhood graph...\n",
      "\n",
      "Processing batch batch4...\n",
      "Loading data...\n",
      "Computing spatial neighborhood graph...\n",
      "\n",
      "Processing batch batch5...\n",
      "Loading data...\n",
      "Computing spatial neighborhood graph...\n",
      "\n",
      "Processing batch batch6...\n",
      "Loading data...\n",
      "Computing spatial neighborhood graph...\n"
     ]
    }
   ],
   "source": [
    "adata_batch_list = []\n",
    "\n",
    "for batch in batches:\n",
    "    print(f\"\\nProcessing batch {batch}...\")\n",
    "    print(\"Loading data...\")\n",
    "    adata_batch = ad.read_h5ad(\n",
    "        f\"{st_data_gold_folder_path}/{dataset}_{batch}.h5ad\")\n",
    "    print(\"Computing spatial neighborhood graph...\")\n",
    "    # Compute (separate) spatial neighborhood graphs\n",
    "    sq.gr.spatial_neighbors(adata_batch,\n",
    "                            coord_type=\"generic\",\n",
    "                            spatial_key=spatial_key,\n",
    "                            n_neighs=n_neighbors)\n",
    "    # Make adjacency matrix symmetric\n",
    "    adata_batch.obsp[adj_key] = (\n",
    "        adata_batch.obsp[adj_key].maximum(\n",
    "            adata_batch.obsp[adj_key].T))\n",
    "    adata_batch_list.append(adata_batch)\n",
    "adata = ad.concat(adata_batch_list, join=\"inner\")\n",
    "\n",
    "# Combine spatial neighborhood graphs as disconnected components\n",
    "batch_connectivities = []\n",
    "len_before_batch = 0\n",
    "for i in range(len(adata_batch_list)):\n",
    "    if i == 0: # first batch\n",
    "        after_batch_connectivities_extension = sp.csr_matrix(\n",
    "            (adata_batch_list[0].shape[0],\n",
    "            (adata.shape[0] -\n",
    "            adata_batch_list[0].shape[0])))\n",
    "        batch_connectivities.append(sp.hstack(\n",
    "            (adata_batch_list[0].obsp[adj_key],\n",
    "            after_batch_connectivities_extension)))\n",
    "    elif i == (len(adata_batch_list) - 1): # last batch\n",
    "        before_batch_connectivities_extension = sp.csr_matrix(\n",
    "            (adata_batch_list[i].shape[0],\n",
    "            (adata.shape[0] -\n",
    "            adata_batch_list[i].shape[0])))\n",
    "        batch_connectivities.append(sp.hstack(\n",
    "            (before_batch_connectivities_extension,\n",
    "            adata_batch_list[i].obsp[adj_key])))\n",
    "    else: # middle batches\n",
    "        before_batch_connectivities_extension = sp.csr_matrix(\n",
    "            (adata_batch_list[i].shape[0], len_before_batch))\n",
    "        after_batch_connectivities_extension = sp.csr_matrix(\n",
    "            (adata_batch_list[i].shape[0],\n",
    "            (adata.shape[0] -\n",
    "            adata_batch_list[i].shape[0] -\n",
    "            len_before_batch)))\n",
    "        batch_connectivities.append(sp.hstack(\n",
    "            (before_batch_connectivities_extension,\n",
    "            adata_batch_list[i].obsp[adj_key],\n",
    "            after_batch_connectivities_extension)))\n",
    "    len_before_batch += adata_batch_list[i].shape[0]\n",
    "connectivities = sp.vstack(batch_connectivities)\n",
    "adata.obsp[adj_key] = connectivities"
   ]
  },
  {
   "cell_type": "code",
   "execution_count": 44,
   "id": "8314aa2a-69b7-4e6d-8c85-38f33a8d5738",
   "metadata": {},
   "outputs": [
    {
     "data": {
      "text/plain": [
       "AnnData object with n_obs × n_vars = 52568 × 29239\n",
       "    obs: 'Area', 'celltype_mapped_refined', 'sample', 'batch'\n",
       "    obsm: 'spatial'\n",
       "    layers: 'counts'\n",
       "    obsp: 'spatial_connectivities'"
      ]
     },
     "execution_count": 44,
     "metadata": {},
     "output_type": "execute_result"
    }
   ],
   "source": [
    "adata"
   ]
  },
  {
   "cell_type": "code",
   "execution_count": 45,
   "id": "435f146f-0eb1-4dbc-857d-c8e313a65469",
   "metadata": {},
   "outputs": [
    {
     "data": {
      "text/plain": [
       "AnnData object with n_obs × n_vars = 38383 × 5000\n",
       "    obs: 'Area', 'celltype_mapped_refined', 'sample', 'batch', 'mapping_entity'\n",
       "    var: 'n_cells', 'highly_variable', 'spatially_variable', 'gp_relevant', 'keep_gene'\n",
       "    uns: 'moranI', 'nichecompass_active_gp_names', 'nichecompass_genes_idx', 'nichecompass_gp_names', 'nichecompass_latent', 'nichecompass_source_genes_idx', 'nichecompass_sources_categories_label_encoder', 'nichecompass_target_genes_idx', 'nichecompass_targets_categories_label_encoder', 'umap'\n",
       "    obsm: 'X_umap', 'nichecompass_latent', 'spatial'\n",
       "    varm: 'nichecompass_gp_sources', 'nichecompass_gp_sources_categories', 'nichecompass_gp_targets', 'nichecompass_gp_targets_categories'\n",
       "    layers: 'counts'\n",
       "    obsp: 'nichecompass_latent_connectivities', 'nichecompass_latent_distances', 'spatial_connectivities'"
      ]
     },
     "execution_count": 45,
     "metadata": {},
     "output_type": "execute_result"
    }
   ],
   "source": [
    "model.adata"
   ]
  },
  {
   "cell_type": "code",
   "execution_count": 48,
   "id": "7fa1443f-b53d-4275-b9d6-e9f9673d6289",
   "metadata": {},
   "outputs": [],
   "source": [
    "genes = model.adata.var_names\n",
    "model.adata = adata[:, genes]"
   ]
  },
  {
   "cell_type": "code",
   "execution_count": 60,
   "id": "f605f545-f255-4921-a241-fb570467a2e7",
   "metadata": {},
   "outputs": [
    {
     "data": {
      "text/plain": [
       "['batch']"
      ]
     },
     "execution_count": 60,
     "metadata": {},
     "output_type": "execute_result"
    }
   ],
   "source": [
    "model.cat_covariates_keys_"
   ]
  },
  {
   "cell_type": "code",
   "execution_count": null,
   "id": "c4f13946-5e96-49c4-9c1e-e589313cfa30",
   "metadata": {},
   "outputs": [],
   "source": []
  },
  {
   "cell_type": "code",
   "execution_count": 59,
   "id": "9517039e-fd69-4a86-a5b6-abe51cba2b5b",
   "metadata": {},
   "outputs": [
    {
     "data": {
      "text/plain": [
       "['embryo1_z2', 'embryo1_z5', 'embryo2_z2', 'embryo2_z5', 'embryo3_z2', 'embryo3_z5']\n",
       "Categories (6, object): ['embryo1_z2', 'embryo1_z5', 'embryo2_z2', 'embryo2_z5', 'embryo3_z2', 'embryo3_z5']"
      ]
     },
     "execution_count": 59,
     "metadata": {},
     "output_type": "execute_result"
    }
   ],
   "source": [
    "adata.obs[\"batch\"].unique()"
   ]
  },
  {
   "cell_type": "code",
   "execution_count": null,
   "id": "1a88f685-d287-4739-891c-37aa5284e7e5",
   "metadata": {},
   "outputs": [],
   "source": []
  },
  {
   "cell_type": "code",
   "execution_count": 61,
   "id": "e44693d3-84bf-4294-8525-ce48adc0593c",
   "metadata": {},
   "outputs": [
    {
     "name": "stdout",
     "output_type": "stream",
     "text": [
      "\n",
      "Computing reference query latent embedding...\n"
     ]
    },
    {
     "ename": "KeyError",
     "evalue": "'nichecompass_gp_names'",
     "output_type": "error",
     "traceback": [
      "\u001b[0;31m---------------------------------------------------------------------------\u001b[0m",
      "\u001b[0;31mKeyError\u001b[0m                                  Traceback (most recent call last)",
      "Cell \u001b[0;32mIn[61], line 2\u001b[0m\n\u001b[1;32m      1\u001b[0m \u001b[38;5;28mprint\u001b[39m(\u001b[38;5;124m\"\u001b[39m\u001b[38;5;130;01m\\n\u001b[39;00m\u001b[38;5;124mComputing reference query latent embedding...\u001b[39m\u001b[38;5;124m\"\u001b[39m)\n\u001b[0;32m----> 2\u001b[0m model\u001b[38;5;241m.\u001b[39madata\u001b[38;5;241m.\u001b[39mobsm[latent_key], _ \u001b[38;5;241m=\u001b[39m \u001b[43mmodel\u001b[49m\u001b[38;5;241;43m.\u001b[39;49m\u001b[43mget_latent_representation\u001b[49m\u001b[43m(\u001b[49m\n\u001b[1;32m      3\u001b[0m \u001b[43m   \u001b[49m\u001b[43madata\u001b[49m\u001b[38;5;241;43m=\u001b[39;49m\u001b[43mmodel\u001b[49m\u001b[38;5;241;43m.\u001b[39;49m\u001b[43madata\u001b[49m\u001b[43m,\u001b[49m\n\u001b[1;32m      4\u001b[0m \u001b[43m   \u001b[49m\u001b[43mcounts_key\u001b[49m\u001b[38;5;241;43m=\u001b[39;49m\u001b[43mcounts_key\u001b[49m\u001b[43m,\u001b[49m\n\u001b[1;32m      5\u001b[0m \u001b[43m   \u001b[49m\u001b[43madj_key\u001b[49m\u001b[38;5;241;43m=\u001b[39;49m\u001b[43madj_key\u001b[49m\u001b[43m,\u001b[49m\n\u001b[1;32m      6\u001b[0m \u001b[43m   \u001b[49m\u001b[38;5;66;43;03m#cat_covariates_keys=cat_covariates_keys,\u001b[39;49;00m\n\u001b[1;32m      7\u001b[0m \u001b[43m   \u001b[49m\u001b[43monly_active_gps\u001b[49m\u001b[38;5;241;43m=\u001b[39;49m\u001b[38;5;28;43;01mTrue\u001b[39;49;00m\u001b[43m,\u001b[49m\n\u001b[1;32m      8\u001b[0m \u001b[43m   \u001b[49m\u001b[43mreturn_mu_std\u001b[49m\u001b[38;5;241;43m=\u001b[39;49m\u001b[38;5;28;43;01mTrue\u001b[39;49;00m\u001b[43m,\u001b[49m\n\u001b[1;32m      9\u001b[0m \u001b[43m   \u001b[49m\u001b[43mnode_batch_size\u001b[49m\u001b[38;5;241;43m=\u001b[39;49m\u001b[43mmodel\u001b[49m\u001b[38;5;241;43m.\u001b[39;49m\u001b[43mnode_batch_size_\u001b[49m\u001b[43m)\u001b[49m\n\u001b[1;32m     11\u001b[0m \u001b[38;5;28mprint\u001b[39m(\u001b[38;5;124m\"\u001b[39m\u001b[38;5;130;01m\\n\u001b[39;00m\u001b[38;5;124mComputing neighbor graph...\u001b[39m\u001b[38;5;124m\"\u001b[39m)\n\u001b[1;32m     12\u001b[0m \u001b[38;5;66;03m# Use latent representation for UMAP generation\u001b[39;00m\n",
      "File \u001b[0;32m/ictstr01/home/aih/sebastian.birk/workspace/projects/nichecompass/src/nichecompass/models/nichecompass.py:1345\u001b[0m, in \u001b[0;36mNicheCompass.get_latent_representation\u001b[0;34m(self, adata, adata_atac, counts_key, adj_key, cat_covariates_keys, only_active_gps, return_mu_std, node_batch_size, dtype)\u001b[0m\n\u001b[1;32m   1343\u001b[0m \u001b[38;5;66;03m# Get number of gene programs\u001b[39;00m\n\u001b[1;32m   1344\u001b[0m \u001b[38;5;28;01mif\u001b[39;00m only_active_gps:\n\u001b[0;32m-> 1345\u001b[0m     n_gps \u001b[38;5;241m=\u001b[39m \u001b[38;5;28;43mself\u001b[39;49m\u001b[38;5;241;43m.\u001b[39;49m\u001b[43mget_active_gps\u001b[49m\u001b[43m(\u001b[49m\u001b[43m)\u001b[49m\u001b[38;5;241m.\u001b[39mshape[\u001b[38;5;241m0\u001b[39m]\n\u001b[1;32m   1346\u001b[0m \u001b[38;5;28;01melse\u001b[39;00m:\n\u001b[1;32m   1347\u001b[0m     n_gps \u001b[38;5;241m=\u001b[39m (\u001b[38;5;28mself\u001b[39m\u001b[38;5;241m.\u001b[39mn_prior_gp_ \u001b[38;5;241m+\u001b[39m \u001b[38;5;28mself\u001b[39m\u001b[38;5;241m.\u001b[39mn_addon_gp_ )\n",
      "File \u001b[0;32m/ictstr01/home/aih/sebastian.birk/workspace/projects/nichecompass/src/nichecompass/models/nichecompass.py:1261\u001b[0m, in \u001b[0;36mNicheCompass.get_active_gps\u001b[0;34m(self)\u001b[0m\n\u001b[1;32m   1259\u001b[0m active_gp_mask \u001b[38;5;241m=\u001b[39m \u001b[38;5;28mself\u001b[39m\u001b[38;5;241m.\u001b[39mmodel\u001b[38;5;241m.\u001b[39mget_active_gp_mask()\n\u001b[1;32m   1260\u001b[0m active_gp_mask \u001b[38;5;241m=\u001b[39m active_gp_mask\u001b[38;5;241m.\u001b[39mdetach()\u001b[38;5;241m.\u001b[39mcpu()\u001b[38;5;241m.\u001b[39mnumpy()\n\u001b[0;32m-> 1261\u001b[0m active_gps \u001b[38;5;241m=\u001b[39m \u001b[38;5;28;43mself\u001b[39;49m\u001b[38;5;241;43m.\u001b[39;49m\u001b[43madata\u001b[49m\u001b[38;5;241;43m.\u001b[39;49m\u001b[43muns\u001b[49m\u001b[43m[\u001b[49m\u001b[38;5;28;43mself\u001b[39;49m\u001b[38;5;241;43m.\u001b[39;49m\u001b[43mgp_names_key_\u001b[49m\u001b[43m]\u001b[49m[active_gp_mask]\n\u001b[1;32m   1262\u001b[0m \u001b[38;5;28;01mreturn\u001b[39;00m active_gps\n",
      "\u001b[0;31mKeyError\u001b[0m: 'nichecompass_gp_names'"
     ]
    }
   ],
   "source": [
    "print(\"\\nComputing reference query latent embedding...\")\n",
    "model.adata.obsm[latent_key], _ = model.get_latent_representation(\n",
    "   adata=model.adata,\n",
    "   counts_key=counts_key,\n",
    "   adj_key=adj_key,\n",
    "   #cat_covariates_keys=cat_covariates_keys,\n",
    "   only_active_gps=True,\n",
    "   return_mu_std=True,\n",
    "   node_batch_size=model.node_batch_size_)\n",
    "\n",
    "print(\"\\nComputing neighbor graph...\")\n",
    "# Use latent representation for UMAP generation\n",
    "sc.pp.neighbors(model.adata,\n",
    "                use_rep=latent_key,\n",
    "                key_added=latent_key)\n",
    "\n",
    "print(\"\\nComputing UMAP embedding...\")\n",
    "sc.tl.umap(model.adata,\n",
    "           neighbors_key=latent_key)"
   ]
  },
  {
   "cell_type": "code",
   "execution_count": null,
   "id": "af2939a0-1111-40ee-a5be-b8aac7c4525a",
   "metadata": {},
   "outputs": [],
   "source": []
  }
 ],
 "metadata": {
  "kernelspec": {
   "display_name": "Python 3 (ipykernel)",
   "language": "python",
   "name": "python3"
  },
  "language_info": {
   "codemirror_mode": {
    "name": "ipython",
    "version": 3
   },
   "file_extension": ".py",
   "mimetype": "text/x-python",
   "name": "python",
   "nbconvert_exporter": "python",
   "pygments_lexer": "ipython3",
   "version": "3.9.19"
  }
 },
 "nbformat": 4,
 "nbformat_minor": 5
}
