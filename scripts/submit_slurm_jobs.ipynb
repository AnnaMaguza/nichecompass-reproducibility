{
 "cells": [
  {
   "cell_type": "code",
   "execution_count": 30,
   "id": "48d297b0-e0dc-42b9-a349-e6ac2edba0e3",
   "metadata": {},
   "outputs": [],
   "source": [
    "import os"
   ]
  },
  {
   "cell_type": "code",
   "execution_count": 56,
   "id": "6b2d6cf0-b360-428f-9548-c7942378de68",
   "metadata": {},
   "outputs": [],
   "source": [
    "def submit_python_script(\n",
    "        job_name_prefix,\n",
    "        job_id,\n",
    "        job_folder_path,\n",
    "        conda_env_name,\n",
    "        script_folder_path,\n",
    "        script_name,\n",
    "        script_args,\n",
    "        nice=10000):\n",
    "    job_name = f\"{job_name_prefix}_{job_id}\"\n",
    "    # Account for fact that submit node has different home path than compute node\n",
    "    job_file_path = f\"{job_folder_path.replace('/aih', '')}/job_{job_name}.cmd\"\n",
    "    out_file_path = f\"{job_folder_path}/logs/out_{job_name}.txt\"\n",
    "    err_file_path = f\"{job_folder_path}/logs/err_{job_name}.txt\"\n",
    "    \n",
    "    os.makedirs(job_folder_path + \"/logs\", exist_ok=True)\n",
    "    \n",
    "    with open(job_file_path, \"w\") as handle:\n",
    "        handle.writelines(\"#!/bin/bash\\n\")\n",
    "        handle.writelines(f\"#SBATCH -J {job_name}\\n\")\n",
    "        handle.writelines(f\"#SBATCH -o {out_file_path}\\n\")\n",
    "        handle.writelines(f\"#SBATCH -e {err_file_path}\\n\")\n",
    "        handle.writelines(\"#SBATCH -t 24:00:00\\n\")\n",
    "        handle.writelines(\"#SBATCH -p gpu_p\\n\")\n",
    "        handle.writelines(\"#SBATCH -c 6\\n\")\n",
    "        handle.writelines(\"#SBATCH --gres=gpu:1\\n\")\n",
    "        handle.writelines(\"#SBATCH --qos=gpu\\n\")       \n",
    "        handle.writelines(\"#SBATCH --mem=64GB\\n\")\n",
    "        handle.writelines(f\"#SBATCH --nice={nice}\\n\")\n",
    "        handle.writelines(\"source $HOME/.bashrc\\n\")\n",
    "        handle.writelines(f\"conda activate {conda_env_name}\\n\")\n",
    "        handle.writelines(\"cd /\\n\")\n",
    "        handle.writelines(f\"cd {script_folder_path}\\n\")\n",
    "        handle.writelines(f\"python {script_name}\")\n",
    "        handle.writelines(f\"{script_args}\")\n",
    "        handle.writelines(\"\\n\")\n",
    "        \n",
    "    os.system(f\"sbatch {job_file_path}\")"
   ]
  },
  {
   "cell_type": "code",
   "execution_count": 57,
   "id": "68a7dd8f-141b-4c2d-9d16-1eff37fa9832",
   "metadata": {},
   "outputs": [],
   "source": [
    "job_name_prefix = \"autotalker_nanostring_cosmx_human_liver_sample1\"\n",
    "job_id = 1\n",
    "job_folder_path = \"/home/aih/sebastian.birk/workspace/projects/autotalker-repro-new/slurm_jobs\"\n",
    "conda_env_name = \"autotalker_hpc\"\n",
    "script_folder_path = \"/home/aih/sebastian.birk/workspace/projects/autotalker-repro-new/scripts\"\n",
    "script_name = \"train_autotalker_reference_model.py\"\n",
    "script_args = \" --dataset=nanostring_cosmx_human_liver_sample1\" \\\n",
    "              \" --nichenet_max_n_target_genes_per_gp=20000\" \\\n",
    "              \" --n_epochs=1\" \\\n",
    "              \" --n_epochs_all_gps=1\" \\\n",
    "              \" --lambda_group_lasso=0.\" \\\n",
    "              \" --lambda_l1_masked=0.\" \\\n",
    "              \" --edge_batch_size=256\" \\\n",
    "              \" --node_batch_size=32\""
   ]
  },
  {
   "cell_type": "code",
   "execution_count": 58,
   "id": "986d547e-8601-41cc-ac29-650475f94a69",
   "metadata": {},
   "outputs": [],
   "source": [
    "submit_python_script(\n",
    "        job_name_prefix=job_name_prefix,\n",
    "        job_id=job_id,\n",
    "        job_folder_path=job_folder_path,\n",
    "        conda_env_name=conda_env_name,\n",
    "        script_folder_path=script_folder_path,\n",
    "        script_name=script_name,\n",
    "        script_args=script_args,\n",
    "        nice=10000)"
   ]
  },
  {
   "cell_type": "code",
   "execution_count": null,
   "id": "17761bc0-3178-42dd-9b0e-3935be8d2a5e",
   "metadata": {},
   "outputs": [],
   "source": []
  }
 ],
 "metadata": {
  "kernelspec": {
   "display_name": "Python 3 (ipykernel)",
   "language": "python",
   "name": "python3"
  },
  "language_info": {
   "codemirror_mode": {
    "name": "ipython",
    "version": 3
   },
   "file_extension": ".py",
   "mimetype": "text/x-python",
   "name": "python",
   "nbconvert_exporter": "python",
   "pygments_lexer": "ipython3",
   "version": "3.9.16"
  }
 },
 "nbformat": 4,
 "nbformat_minor": 5
}
