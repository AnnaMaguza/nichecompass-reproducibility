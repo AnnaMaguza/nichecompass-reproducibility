{
 "cells": [
  {
   "cell_type": "markdown",
   "id": "bdc8086b-2b80-43b4-b88a-aa0c87c820a6",
   "metadata": {},
   "source": [
    "# Slurm Job Submission"
   ]
  },
  {
   "cell_type": "markdown",
   "id": "be88d0ca-4c09-44e3-83fc-fb6bcf4563fd",
   "metadata": {},
   "source": [
    "- **Creator**: Sebastian Birk (<sebastian.birk@helmholtz-munich.de>).\n",
    "- **Affiliation:** Helmholtz Munich, Institute of Computational Biology (ICB), Talavera-López Lab\n",
    "- **Date of Creation:** 20.03.2023\n",
    "- **Date of Last Modification:** 20.03.2023"
   ]
  },
  {
   "cell_type": "markdown",
   "id": "aeeeb1fe-eaa1-4cdd-aa21-ed78e0b7be81",
   "metadata": {},
   "source": [
    "## 1. Setup"
   ]
  },
  {
   "cell_type": "markdown",
   "id": "0e58b0a3-c3fe-43d5-a420-14111aa545f6",
   "metadata": {},
   "source": [
    "### 1.1 Import Libraries"
   ]
  },
  {
   "cell_type": "code",
   "execution_count": 2,
   "id": "48d297b0-e0dc-42b9-a349-e6ac2edba0e3",
   "metadata": {},
   "outputs": [],
   "source": [
    "import os"
   ]
  },
  {
   "cell_type": "markdown",
   "id": "004ab52a-9cc3-4e40-b0e6-f9fed7f4a549",
   "metadata": {},
   "source": [
    "### 1.2 Define Functions"
   ]
  },
  {
   "cell_type": "code",
   "execution_count": 4,
   "id": "6b2d6cf0-b360-428f-9548-c7942378de68",
   "metadata": {},
   "outputs": [],
   "source": [
    "def submit_python_script(\n",
    "        job_name_prefix,\n",
    "        job_id,\n",
    "        job_folder_path,\n",
    "        conda_env_name,\n",
    "        script_folder_path,\n",
    "        script_name,\n",
    "        script_args,\n",
    "        nice=10000):\n",
    "    job_name = f\"{job_name_prefix}_{job_id}\"\n",
    "    # Account for fact that submit node has different home path than compute node\n",
    "    job_file_path = f\"{job_folder_path.replace('/aih', '')}/job_{job_name}.cmd\"\n",
    "    out_file_path = f\"{job_folder_path}/logs/out_{job_name}.txt\"\n",
    "    err_file_path = f\"{job_folder_path}/logs/err_{job_name}.txt\"\n",
    "    \n",
    "    os.makedirs(job_folder_path + \"/logs\", exist_ok=True)\n",
    "    \n",
    "    with open(job_file_path, \"w\") as handle:\n",
    "        handle.writelines(\"#!/bin/bash\\n\")\n",
    "        handle.writelines(f\"#SBATCH -J {job_name}\\n\")\n",
    "        handle.writelines(f\"#SBATCH -o {out_file_path}\\n\")\n",
    "        handle.writelines(f\"#SBATCH -e {err_file_path}\\n\")\n",
    "        handle.writelines(\"#SBATCH -t 48:00:00\\n\")\n",
    "        handle.writelines(\"#SBATCH -p gpu_p\\n\")\n",
    "        handle.writelines(\"#SBATCH -c 6\\n\")\n",
    "        handle.writelines(\"#SBATCH --gres=gpu:1\\n\")\n",
    "        handle.writelines(\"#SBATCH --qos=gpu\\n\")       \n",
    "        handle.writelines(\"#SBATCH --mem=64GB\\n\")\n",
    "        handle.writelines(f\"#SBATCH --nice={nice}\\n\")\n",
    "        handle.writelines(\"source $HOME/.bashrc\\n\")\n",
    "        handle.writelines(f\"conda activate {conda_env_name}\\n\")\n",
    "        handle.writelines(\"cd /\\n\")\n",
    "        handle.writelines(f\"cd {script_folder_path}\\n\")\n",
    "        handle.writelines(f\"python {script_name}\")\n",
    "        handle.writelines(f\"{script_args}\")\n",
    "        handle.writelines(\"\\n\")\n",
    "        \n",
    "    # os.system(f\"sbatch {job_file_path}\")"
   ]
  },
  {
   "cell_type": "markdown",
   "id": "6de6d55a-d942-4186-9d39-c2d429b8ff13",
   "metadata": {},
   "source": [
    "## 2. Autotalker Reference Model Training"
   ]
  },
  {
   "cell_type": "code",
   "execution_count": 5,
   "id": "e148c5c6-c03c-4c92-9fa5-72b5485ff649",
   "metadata": {},
   "outputs": [
    {
     "ename": "PermissionError",
     "evalue": "[Errno 13] Permission denied: '/home/aih'",
     "output_type": "error",
     "traceback": [
      "\u001b[0;31m---------------------------------------------------------------------------\u001b[0m",
      "\u001b[0;31mPermissionError\u001b[0m                           Traceback (most recent call last)",
      "Cell \u001b[0;32mIn[5], line 22\u001b[0m\n\u001b[1;32m      6\u001b[0m script_name \u001b[38;5;241m=\u001b[39m \u001b[38;5;124m\"\u001b[39m\u001b[38;5;124mtrain_autotalker_reference_model.py\u001b[39m\u001b[38;5;124m\"\u001b[39m\n\u001b[1;32m      7\u001b[0m script_args \u001b[38;5;241m=\u001b[39m \u001b[38;5;124m\"\u001b[39m\u001b[38;5;124m --dataset starmap_plus_mouse_cns\u001b[39m\u001b[38;5;124m\"\u001b[39m \\\n\u001b[1;32m      8\u001b[0m               \u001b[38;5;124m\"\u001b[39m\u001b[38;5;124m --reference_batches batch1_imputed\u001b[39m\u001b[38;5;124m\"\u001b[39m \\\n\u001b[1;32m      9\u001b[0m               \u001b[38;5;124m\"\u001b[39m\u001b[38;5;124m --n_neighbors 4\u001b[39m\u001b[38;5;124m\"\u001b[39m \\\n\u001b[0;32m   (...)\u001b[0m\n\u001b[1;32m     19\u001b[0m               \u001b[38;5;124m\"\u001b[39m\u001b[38;5;124m --edge_batch_size 256\u001b[39m\u001b[38;5;124m\"\u001b[39m \\\n\u001b[1;32m     20\u001b[0m               \u001b[38;5;124m\"\u001b[39m\u001b[38;5;124m --node_batch_size 32\u001b[39m\u001b[38;5;124m\"\u001b[39m\n\u001b[0;32m---> 22\u001b[0m \u001b[43msubmit_python_script\u001b[49m\u001b[43m(\u001b[49m\n\u001b[1;32m     23\u001b[0m \u001b[43m        \u001b[49m\u001b[43mjob_name_prefix\u001b[49m\u001b[38;5;241;43m=\u001b[39;49m\u001b[43mjob_name_prefix\u001b[49m\u001b[43m,\u001b[49m\n\u001b[1;32m     24\u001b[0m \u001b[43m        \u001b[49m\u001b[43mjob_id\u001b[49m\u001b[38;5;241;43m=\u001b[39;49m\u001b[43mjob_id\u001b[49m\u001b[43m,\u001b[49m\n\u001b[1;32m     25\u001b[0m \u001b[43m        \u001b[49m\u001b[43mjob_folder_path\u001b[49m\u001b[38;5;241;43m=\u001b[39;49m\u001b[43mjob_folder_path\u001b[49m\u001b[43m,\u001b[49m\n\u001b[1;32m     26\u001b[0m \u001b[43m        \u001b[49m\u001b[43mconda_env_name\u001b[49m\u001b[38;5;241;43m=\u001b[39;49m\u001b[43mconda_env_name\u001b[49m\u001b[43m,\u001b[49m\n\u001b[1;32m     27\u001b[0m \u001b[43m        \u001b[49m\u001b[43mscript_folder_path\u001b[49m\u001b[38;5;241;43m=\u001b[39;49m\u001b[43mscript_folder_path\u001b[49m\u001b[43m,\u001b[49m\n\u001b[1;32m     28\u001b[0m \u001b[43m        \u001b[49m\u001b[43mscript_name\u001b[49m\u001b[38;5;241;43m=\u001b[39;49m\u001b[43mscript_name\u001b[49m\u001b[43m,\u001b[49m\n\u001b[1;32m     29\u001b[0m \u001b[43m        \u001b[49m\u001b[43mscript_args\u001b[49m\u001b[38;5;241;43m=\u001b[39;49m\u001b[43mscript_args\u001b[49m\u001b[43m,\u001b[49m\n\u001b[1;32m     30\u001b[0m \u001b[43m        \u001b[49m\u001b[43mnice\u001b[49m\u001b[38;5;241;43m=\u001b[39;49m\u001b[38;5;241;43m10000\u001b[39;49m\u001b[43m)\u001b[49m\n",
      "Cell \u001b[0;32mIn[4], line 16\u001b[0m, in \u001b[0;36msubmit_python_script\u001b[0;34m(job_name_prefix, job_id, job_folder_path, conda_env_name, script_folder_path, script_name, script_args, nice)\u001b[0m\n\u001b[1;32m     13\u001b[0m out_file_path \u001b[38;5;241m=\u001b[39m \u001b[38;5;124mf\u001b[39m\u001b[38;5;124m\"\u001b[39m\u001b[38;5;132;01m{\u001b[39;00mjob_folder_path\u001b[38;5;132;01m}\u001b[39;00m\u001b[38;5;124m/logs/out_\u001b[39m\u001b[38;5;132;01m{\u001b[39;00mjob_name\u001b[38;5;132;01m}\u001b[39;00m\u001b[38;5;124m.txt\u001b[39m\u001b[38;5;124m\"\u001b[39m\n\u001b[1;32m     14\u001b[0m err_file_path \u001b[38;5;241m=\u001b[39m \u001b[38;5;124mf\u001b[39m\u001b[38;5;124m\"\u001b[39m\u001b[38;5;132;01m{\u001b[39;00mjob_folder_path\u001b[38;5;132;01m}\u001b[39;00m\u001b[38;5;124m/logs/err_\u001b[39m\u001b[38;5;132;01m{\u001b[39;00mjob_name\u001b[38;5;132;01m}\u001b[39;00m\u001b[38;5;124m.txt\u001b[39m\u001b[38;5;124m\"\u001b[39m\n\u001b[0;32m---> 16\u001b[0m \u001b[43mos\u001b[49m\u001b[38;5;241;43m.\u001b[39;49m\u001b[43mmakedirs\u001b[49m\u001b[43m(\u001b[49m\u001b[43mjob_folder_path\u001b[49m\u001b[43m \u001b[49m\u001b[38;5;241;43m+\u001b[39;49m\u001b[43m \u001b[49m\u001b[38;5;124;43m\"\u001b[39;49m\u001b[38;5;124;43m/logs\u001b[39;49m\u001b[38;5;124;43m\"\u001b[39;49m\u001b[43m,\u001b[49m\u001b[43m \u001b[49m\u001b[43mexist_ok\u001b[49m\u001b[38;5;241;43m=\u001b[39;49m\u001b[38;5;28;43;01mTrue\u001b[39;49;00m\u001b[43m)\u001b[49m\n\u001b[1;32m     18\u001b[0m \u001b[38;5;28;01mwith\u001b[39;00m \u001b[38;5;28mopen\u001b[39m(job_file_path, \u001b[38;5;124m\"\u001b[39m\u001b[38;5;124mw\u001b[39m\u001b[38;5;124m\"\u001b[39m) \u001b[38;5;28;01mas\u001b[39;00m handle:\n\u001b[1;32m     19\u001b[0m     handle\u001b[38;5;241m.\u001b[39mwritelines(\u001b[38;5;124m\"\u001b[39m\u001b[38;5;124m#!/bin/bash\u001b[39m\u001b[38;5;130;01m\\n\u001b[39;00m\u001b[38;5;124m\"\u001b[39m)\n",
      "File \u001b[0;32m~/miniconda3/envs/autotalker/lib/python3.9/os.py:215\u001b[0m, in \u001b[0;36mmakedirs\u001b[0;34m(name, mode, exist_ok)\u001b[0m\n\u001b[1;32m    213\u001b[0m \u001b[38;5;28;01mif\u001b[39;00m head \u001b[38;5;129;01mand\u001b[39;00m tail \u001b[38;5;129;01mand\u001b[39;00m \u001b[38;5;129;01mnot\u001b[39;00m path\u001b[38;5;241m.\u001b[39mexists(head):\n\u001b[1;32m    214\u001b[0m     \u001b[38;5;28;01mtry\u001b[39;00m:\n\u001b[0;32m--> 215\u001b[0m         \u001b[43mmakedirs\u001b[49m\u001b[43m(\u001b[49m\u001b[43mhead\u001b[49m\u001b[43m,\u001b[49m\u001b[43m \u001b[49m\u001b[43mexist_ok\u001b[49m\u001b[38;5;241;43m=\u001b[39;49m\u001b[43mexist_ok\u001b[49m\u001b[43m)\u001b[49m\n\u001b[1;32m    216\u001b[0m     \u001b[38;5;28;01mexcept\u001b[39;00m \u001b[38;5;167;01mFileExistsError\u001b[39;00m:\n\u001b[1;32m    217\u001b[0m         \u001b[38;5;66;03m# Defeats race condition when another thread created the path\u001b[39;00m\n\u001b[1;32m    218\u001b[0m         \u001b[38;5;28;01mpass\u001b[39;00m\n",
      "File \u001b[0;32m~/miniconda3/envs/autotalker/lib/python3.9/os.py:215\u001b[0m, in \u001b[0;36mmakedirs\u001b[0;34m(name, mode, exist_ok)\u001b[0m\n\u001b[1;32m    213\u001b[0m \u001b[38;5;28;01mif\u001b[39;00m head \u001b[38;5;129;01mand\u001b[39;00m tail \u001b[38;5;129;01mand\u001b[39;00m \u001b[38;5;129;01mnot\u001b[39;00m path\u001b[38;5;241m.\u001b[39mexists(head):\n\u001b[1;32m    214\u001b[0m     \u001b[38;5;28;01mtry\u001b[39;00m:\n\u001b[0;32m--> 215\u001b[0m         \u001b[43mmakedirs\u001b[49m\u001b[43m(\u001b[49m\u001b[43mhead\u001b[49m\u001b[43m,\u001b[49m\u001b[43m \u001b[49m\u001b[43mexist_ok\u001b[49m\u001b[38;5;241;43m=\u001b[39;49m\u001b[43mexist_ok\u001b[49m\u001b[43m)\u001b[49m\n\u001b[1;32m    216\u001b[0m     \u001b[38;5;28;01mexcept\u001b[39;00m \u001b[38;5;167;01mFileExistsError\u001b[39;00m:\n\u001b[1;32m    217\u001b[0m         \u001b[38;5;66;03m# Defeats race condition when another thread created the path\u001b[39;00m\n\u001b[1;32m    218\u001b[0m         \u001b[38;5;28;01mpass\u001b[39;00m\n",
      "    \u001b[0;31m[... skipping similar frames: makedirs at line 215 (3 times)]\u001b[0m\n",
      "File \u001b[0;32m~/miniconda3/envs/autotalker/lib/python3.9/os.py:215\u001b[0m, in \u001b[0;36mmakedirs\u001b[0;34m(name, mode, exist_ok)\u001b[0m\n\u001b[1;32m    213\u001b[0m \u001b[38;5;28;01mif\u001b[39;00m head \u001b[38;5;129;01mand\u001b[39;00m tail \u001b[38;5;129;01mand\u001b[39;00m \u001b[38;5;129;01mnot\u001b[39;00m path\u001b[38;5;241m.\u001b[39mexists(head):\n\u001b[1;32m    214\u001b[0m     \u001b[38;5;28;01mtry\u001b[39;00m:\n\u001b[0;32m--> 215\u001b[0m         \u001b[43mmakedirs\u001b[49m\u001b[43m(\u001b[49m\u001b[43mhead\u001b[49m\u001b[43m,\u001b[49m\u001b[43m \u001b[49m\u001b[43mexist_ok\u001b[49m\u001b[38;5;241;43m=\u001b[39;49m\u001b[43mexist_ok\u001b[49m\u001b[43m)\u001b[49m\n\u001b[1;32m    216\u001b[0m     \u001b[38;5;28;01mexcept\u001b[39;00m \u001b[38;5;167;01mFileExistsError\u001b[39;00m:\n\u001b[1;32m    217\u001b[0m         \u001b[38;5;66;03m# Defeats race condition when another thread created the path\u001b[39;00m\n\u001b[1;32m    218\u001b[0m         \u001b[38;5;28;01mpass\u001b[39;00m\n",
      "File \u001b[0;32m~/miniconda3/envs/autotalker/lib/python3.9/os.py:225\u001b[0m, in \u001b[0;36mmakedirs\u001b[0;34m(name, mode, exist_ok)\u001b[0m\n\u001b[1;32m    223\u001b[0m         \u001b[38;5;28;01mreturn\u001b[39;00m\n\u001b[1;32m    224\u001b[0m \u001b[38;5;28;01mtry\u001b[39;00m:\n\u001b[0;32m--> 225\u001b[0m     \u001b[43mmkdir\u001b[49m\u001b[43m(\u001b[49m\u001b[43mname\u001b[49m\u001b[43m,\u001b[49m\u001b[43m \u001b[49m\u001b[43mmode\u001b[49m\u001b[43m)\u001b[49m\n\u001b[1;32m    226\u001b[0m \u001b[38;5;28;01mexcept\u001b[39;00m \u001b[38;5;167;01mOSError\u001b[39;00m:\n\u001b[1;32m    227\u001b[0m     \u001b[38;5;66;03m# Cannot rely on checking for EEXIST, since the operating system\u001b[39;00m\n\u001b[1;32m    228\u001b[0m     \u001b[38;5;66;03m# could give priority to other errors like EACCES or EROFS\u001b[39;00m\n\u001b[1;32m    229\u001b[0m     \u001b[38;5;28;01mif\u001b[39;00m \u001b[38;5;129;01mnot\u001b[39;00m exist_ok \u001b[38;5;129;01mor\u001b[39;00m \u001b[38;5;129;01mnot\u001b[39;00m path\u001b[38;5;241m.\u001b[39misdir(name):\n",
      "\u001b[0;31mPermissionError\u001b[0m: [Errno 13] Permission denied: '/home/aih'"
     ]
    }
   ],
   "source": [
    "job_name_prefix = \"autotalker_starmap_plus_mouse_cns_reference\"\n",
    "job_id = 1\n",
    "job_folder_path = \"/home/aih/sebastian.birk/workspace/projects/autotalker-reproducibility/slurm_jobs\"\n",
    "conda_env_name = \"autotalker_hpc\"\n",
    "script_folder_path = \"/home/aih/sebastian.birk/workspace/projects/autotalker-reproducibility/scripts\"\n",
    "script_name = \"train_autotalker_reference_model.py\"\n",
    "script_args = \" --dataset starmap_plus_mouse_cns\" \\\n",
    "              \" --reference_batches batch1_imputed\" \\\n",
    "              \" --n_neighbors 4\" \\\n",
    "              \" --filter_genes\" \\\n",
    "              \" --n_hvg 2000\" \\\n",
    "              \" --nichenet_max_n_target_genes_per_gp 20000\" \\\n",
    "              \" --include_mebocost_gps\" \\\n",
    "              \" --mebocost_species mouse\" \\\n",
    "              \" --counts_key log_normalized_counts\" \\\n",
    "              \" --no-log_variational\" \\\n",
    "              \" --n_epochs 1\" \\\n",
    "              \" --n_epochs_all_gps 1\" \\\n",
    "              \" --lambda_group_lasso 0.\" \\\n",
    "              \" --lambda_l1_masked 0.\" \\\n",
    "              \" --edge_batch_size 256\" \\\n",
    "              \" --node_batch_size 32\"\n",
    "\n",
    "submit_python_script(\n",
    "        job_name_prefix=job_name_prefix,\n",
    "        job_id=job_id,\n",
    "        job_folder_path=job_folder_path,\n",
    "        conda_env_name=conda_env_name,\n",
    "        script_folder_path=script_folder_path,\n",
    "        script_name=script_name,\n",
    "        script_args=script_args,\n",
    "        nice=10000)"
   ]
  },
  {
   "cell_type": "code",
   "execution_count": 4,
   "id": "68a7dd8f-141b-4c2d-9d16-1eff37fa9832",
   "metadata": {},
   "outputs": [],
   "source": [
    "job_name_prefix = \"autotalker_nanostring_cosmx_human_liver_reference\"\n",
    "job_id = 1\n",
    "job_folder_path = \"/home/aih/sebastian.birk/workspace/projects/autotalker-repro-new/slurm_jobs\"\n",
    "conda_env_name = \"autotalker_hpc\"\n",
    "script_folder_path = \"/home/aih/sebastian.birk/workspace/projects/autotalker-repro-new/scripts\"\n",
    "script_name = \"train_autotalker_reference_model.py\"\n",
    "script_args = \" --dataset nanostring_cosmx_human_liver\" \\\n",
    "              \" --reference_batches sample1\" \\\n",
    "              \" --nichenet_max_n_target_genes_per_gp 20000\" \\\n",
    "              \" --include_mebocost_gps\" \\\n",
    "              \" --n_epochs 20\" \\\n",
    "              \" --n_epochs_all_gps 10\" \\\n",
    "              \" --lambda_group_lasso 0.\" \\\n",
    "              \" --lambda_l1_masked 0.\" \\\n",
    "              \" --edge_batch_size 256\" \\\n",
    "              \" --node_batch_size 32\"\n",
    "\n",
    "submit_python_script(\n",
    "        job_name_prefix=job_name_prefix,\n",
    "        job_id=job_id,\n",
    "        job_folder_path=job_folder_path,\n",
    "        conda_env_name=conda_env_name,\n",
    "        script_folder_path=script_folder_path,\n",
    "        script_name=script_name,\n",
    "        script_args=script_args,\n",
    "        nice=10000)"
   ]
  },
  {
   "cell_type": "markdown",
   "id": "bb4d5307-6a0d-4b1f-b682-0c26f9787830",
   "metadata": {},
   "source": [
    "## 3. Autotalker Query Mapping on Reference Model"
   ]
  },
  {
   "cell_type": "code",
   "execution_count": 3,
   "id": "17761bc0-3178-42dd-9b0e-3935be8d2a5e",
   "metadata": {},
   "outputs": [],
   "source": [
    "job_name_prefix = \"autotalker_nanostring_cosmx_human_liver_query\"\n",
    "job_id = 1\n",
    "job_folder_path = \"/home/aih/sebastian.birk/workspace/projects/autotalker-repro-new/slurm_jobs\"\n",
    "conda_env_name = \"autotalker_hpc\"\n",
    "script_folder_path = \"/home/aih/sebastian.birk/workspace/projects/autotalker-repro-new/scripts\"\n",
    "script_name = \"map_query_on_autotalker_reference_model.py\"\n",
    "script_args = \" --dataset nanostring_cosmx_human_liver\" \\\n",
    "              \" --query_batches sample2\" \\\n",
    "              \" --reference_batch sample1\" \\\n",
    "              \" --load_timestamp 10032023_145839\" \\\n",
    "              \" --nichenet_max_n_target_genes_per_gp=20000\" \\\n",
    "              \" --n_epochs=40\" \\\n",
    "              \" --n_epochs_all_gps=0\" \\\n",
    "              \" --lambda_group_lasso=0.\" \\\n",
    "              \" --lambda_l1_masked=0.\" \\\n",
    "              \" --edge_batch_size=256\" \\\n",
    "              \" --node_batch_size=32\"\n",
    "\n",
    "submit_python_script(\n",
    "        job_name_prefix=job_name_prefix,\n",
    "        job_id=job_id,\n",
    "        job_folder_path=job_folder_path,\n",
    "        conda_env_name=conda_env_name,\n",
    "        script_folder_path=script_folder_path,\n",
    "        script_name=script_name,\n",
    "        script_args=script_args,\n",
    "        nice=10000)"
   ]
  },
  {
   "cell_type": "markdown",
   "id": "a80b724d-8200-44b4-8dba-02269e4358e0",
   "metadata": {},
   "source": [
    "## 4. Autotalker Individual Sample Benchmark Models Training"
   ]
  },
  {
   "cell_type": "code",
   "execution_count": 4,
   "id": "29978f9b-e317-462e-8b8d-4042f5cc48a9",
   "metadata": {},
   "outputs": [],
   "source": [
    "job_name_prefix = \"autotalker_vizgen_merfish_mouse_liver_benchmarking\"\n",
    "job_id = 1\n",
    "job_folder_path = \"/home/aih/sebastian.birk/workspace/projects/autotalker-reproducibility/slurm_jobs\"\n",
    "conda_env_name = \"autotalker_hpc\"\n",
    "script_folder_path = \"/home/aih/sebastian.birk/workspace/projects/autotalker-reproducibility/scripts\"\n",
    "script_name = \"train_autotalker_benchmark_models.py\"\n",
    "script_args = \" --dataset vizgen_merfish_mouse_liver\" \\\n",
    "              \" --adata_new_name vizgen_merfish_mouse_liver_autotalker\" \\\n",
    "              \" --n_neighbors_list 12 16 16 20 20\" \\\n",
    "              \" --edge_batch_size_list 256 128 128 128 128\" \\\n",
    "              \" --node_batch_size_list 32 16 16 16 16\" \\\n",
    "              \" --seeds 5 6 7 8 9\" \\\n",
    "              \" --run_index 5 6 7 8 9 10\"\n",
    "\n",
    "submit_python_script(\n",
    "        job_name_prefix=job_name_prefix,\n",
    "        job_id=job_id,\n",
    "        job_folder_path=job_folder_path,\n",
    "        conda_env_name=conda_env_name,\n",
    "        script_folder_path=script_folder_path,\n",
    "        script_name=script_name,\n",
    "        script_args=script_args,\n",
    "        nice=10000)"
   ]
  },
  {
   "cell_type": "code",
   "execution_count": 5,
   "id": "c1812fe7-98be-48d5-89ca-630b6293083e",
   "metadata": {},
   "outputs": [],
   "source": [
    "job_name_prefix = \"autotalker_starmap_plus_mouse_cns_benchmarking\"\n",
    "job_id = 1\n",
    "job_folder_path = \"/home/aih/sebastian.birk/workspace/projects/autotalker-reproducibility/slurm_jobs\"\n",
    "conda_env_name = \"autotalker_hpc\"\n",
    "script_folder_path = \"/home/aih/sebastian.birk/workspace/projects/autotalker-reproducibility/scripts\"\n",
    "script_name = \"train_autotalker_benchmark_models.py\"\n",
    "script_args = \" --dataset starmap_plus_mouse_cns\" \\\n",
    "              \" --adata_new_name starmap_plus_mouse_cns_autotalker\" \\\n",
    "              \" --n_neighbors_list 20\" \\\n",
    "              \" --edge_batch_size_list 128\" \\\n",
    "              \" --node_batch_size_list 16\" \\\n",
    "              \" --seeds 9\" \\\n",
    "              \" --run_index 10\"\n",
    "\n",
    "submit_python_script(\n",
    "        job_name_prefix=job_name_prefix,\n",
    "        job_id=job_id,\n",
    "        job_folder_path=job_folder_path,\n",
    "        conda_env_name=conda_env_name,\n",
    "        script_folder_path=script_folder_path,\n",
    "        script_name=script_name,\n",
    "        script_args=script_args,\n",
    "        nice=10000)"
   ]
  },
  {
   "cell_type": "markdown",
   "id": "622f6c1d-65a1-4318-b03c-c12444fd0f4c",
   "metadata": {},
   "source": [
    "## 5. Autotalker Sample Integration Benchmark Models Training"
   ]
  },
  {
   "cell_type": "code",
   "execution_count": null,
   "id": "4a8c14e1-4b58-4bb6-a36f-5bb77de218be",
   "metadata": {},
   "outputs": [],
   "source": [
    "job_name_prefix = \"autotalker_starmap_plus_mouse_cns_benchmarking\"\n",
    "job_id = 1\n",
    "job_folder_path = \"/home/aih/sebastian.birk/workspace/projects/autotalker-repro-new/slurm_jobs\"\n",
    "conda_env_name = \"autotalker_hpc\"\n",
    "script_folder_path = \"/home/aih/sebastian.birk/workspace/projects/autotalker-repro-new/scripts\"\n",
    "script_name = \"train_autotalker_benchmark_models.py\"\n",
    "script_args = \" --dataset starmap_plus_mouse_cns\" \\\n",
    "              \" --adata_new_name starmap_plus_mouse_cns_autotalker\" \\\n",
    "              \" --n_neighbors_list 20\" \\\n",
    "              \" --edge_batch_size_list 128\" \\\n",
    "              \" --node_batch_size_list 16\" \\\n",
    "              \" --seeds 9\" \\\n",
    "              \" --run_index 10\"\n",
    "\n",
    "submit_python_script(\n",
    "        job_name_prefix=job_name_prefix,\n",
    "        job_id=job_id,\n",
    "        job_folder_path=job_folder_path,\n",
    "        conda_env_name=conda_env_name,\n",
    "        script_folder_path=script_folder_path,\n",
    "        script_name=script_name,\n",
    "        script_args=script_args,\n",
    "        nice=10000)"
   ]
  }
 ],
 "metadata": {
  "kernelspec": {
   "display_name": "Python 3 (ipykernel)",
   "language": "python",
   "name": "python3"
  },
  "language_info": {
   "codemirror_mode": {
    "name": "ipython",
    "version": 3
   },
   "file_extension": ".py",
   "mimetype": "text/x-python",
   "name": "python",
   "nbconvert_exporter": "python",
   "pygments_lexer": "ipython3",
   "version": "3.9.16"
  }
 },
 "nbformat": 4,
 "nbformat_minor": 5
}
