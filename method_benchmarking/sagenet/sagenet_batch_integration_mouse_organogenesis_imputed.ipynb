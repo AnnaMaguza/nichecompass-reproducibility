{
 "cells": [
  {
   "cell_type": "markdown",
   "id": "b04b5132-fb96-4e35-9f67-5bfefbb5f5ba",
   "metadata": {},
   "source": [
    "# SageNet Batch Integration Mouse Organogenesis Imputed"
   ]
  },
  {
   "cell_type": "markdown",
   "id": "857142b1-98ef-4b16-a6d3-a8b3ed4d7261",
   "metadata": {},
   "source": [
    "- **Creator**: Sebastian Birk (<sebastian.birk@helmholtz-munich.de>).\n",
    "- **Affiliation:** Helmholtz Munich, Institute of Computational Biology (ICB), Talavera-López Lab\n",
    "- **Date of Creation:** 30.01.2023\n",
    "- **Date of Last Modification:** 30.01.2023"
   ]
  },
  {
   "cell_type": "markdown",
   "id": "e3839e3d-eb29-4224-af42-d02db62a09b1",
   "metadata": {},
   "source": [
    "## 1. Setup"
   ]
  },
  {
   "cell_type": "markdown",
   "id": "1bc51d21-9846-4db3-8c80-03028066ee42",
   "metadata": {},
   "source": [
    "### 1.1 Import Libraries"
   ]
  },
  {
   "cell_type": "code",
   "execution_count": 18,
   "id": "49046957-e566-4d38-95d3-0ed0a1d7836f",
   "metadata": {},
   "outputs": [],
   "source": [
    "import copy\n",
    "import os\n",
    "import random\n",
    "from datetime import datetime\n",
    "\n",
    "import anndata as ad\n",
    "import matplotlib.pyplot as plt\n",
    "import numpy as np\n",
    "import pandas as pd\n",
    "import scarches as sca\n",
    "import scanpy as sc\n",
    "import scipy.sparse as sp\n",
    "import squidpy as sq\n",
    "import torch\n",
    "import torch_geometric.data as geo_dt\n",
    "from scarches.models.sagenet.utils import glasso"
   ]
  },
  {
   "cell_type": "markdown",
   "id": "6ff3f7fe-3c0b-4949-83bb-24db019541d2",
   "metadata": {},
   "source": [
    "### 1.2 Define Parameters"
   ]
  },
  {
   "cell_type": "code",
   "execution_count": 14,
   "id": "d1dee4dc-72fd-48bf-a3f8-26fa14371c1c",
   "metadata": {},
   "outputs": [],
   "source": [
    "## Dataset\n",
    "dataset = \"seqfish_mouse_organogenesis\"\n",
    "batch1 = \"embryo1\"\n",
    "batch2 = \"embryo2\"\n",
    "batch3 = \"embryo3\"\n",
    "n_neighbors = 4 # 12\n",
    "reference_removed_cell_type = \"Presomitic mesoderm\"\n",
    "\n",
    "spatial_key = \"spatial\"\n",
    "\n",
    "## Others\n",
    "random_seed = 42\n",
    "load_timestamp = None"
   ]
  },
  {
   "cell_type": "markdown",
   "id": "24f39ef0-ea27-4530-add3-c2c025d7846c",
   "metadata": {},
   "source": [
    "### 1.3 Run Notebook Setup"
   ]
  },
  {
   "cell_type": "code",
   "execution_count": 15,
   "id": "92397ab9-ef5f-477c-8004-e3ecf6c42789",
   "metadata": {},
   "outputs": [
    {
     "ename": "NameError",
     "evalue": "name 'sns' is not defined",
     "output_type": "error",
     "traceback": [
      "\u001b[0;31m---------------------------------------------------------------------------\u001b[0m",
      "\u001b[0;31mNameError\u001b[0m                                 Traceback (most recent call last)",
      "Cell \u001b[0;32mIn[15], line 2\u001b[0m\n\u001b[1;32m      1\u001b[0m sc\u001b[38;5;241m.\u001b[39mset_figure_params(figsize\u001b[38;5;241m=\u001b[39m(\u001b[38;5;241m6\u001b[39m, \u001b[38;5;241m6\u001b[39m))\n\u001b[0;32m----> 2\u001b[0m \u001b[43msns\u001b[49m\u001b[38;5;241m.\u001b[39mset_style(\u001b[38;5;124m\"\u001b[39m\u001b[38;5;124mwhitegrid\u001b[39m\u001b[38;5;124m\"\u001b[39m, {\u001b[38;5;124m'\u001b[39m\u001b[38;5;124maxes.grid\u001b[39m\u001b[38;5;124m'\u001b[39m : \u001b[38;5;28;01mFalse\u001b[39;00m})\n",
      "\u001b[0;31mNameError\u001b[0m: name 'sns' is not defined"
     ]
    }
   ],
   "source": [
    "sc.set_figure_params(figsize=(6, 6))\n",
    "sns.set_style(\"whitegrid\", {'axes.grid' : False})"
   ]
  },
  {
   "cell_type": "code",
   "execution_count": 4,
   "id": "eb37695c-495b-423c-a8f6-0273d208fa64",
   "metadata": {},
   "outputs": [
    {
     "ename": "NameError",
     "evalue": "name 'warnings' is not defined",
     "output_type": "error",
     "traceback": [
      "\u001b[0;31m---------------------------------------------------------------------------\u001b[0m",
      "\u001b[0;31mNameError\u001b[0m                                 Traceback (most recent call last)",
      "Cell \u001b[0;32mIn[4], line 2\u001b[0m\n\u001b[1;32m      1\u001b[0m \u001b[38;5;66;03m# Ignore future warnings and user warnings\u001b[39;00m\n\u001b[0;32m----> 2\u001b[0m \u001b[43mwarnings\u001b[49m\u001b[38;5;241m.\u001b[39msimplefilter(action\u001b[38;5;241m=\u001b[39m\u001b[38;5;124m\"\u001b[39m\u001b[38;5;124mignore\u001b[39m\u001b[38;5;124m\"\u001b[39m, category\u001b[38;5;241m=\u001b[39m\u001b[38;5;167;01mFutureWarning\u001b[39;00m)\n\u001b[1;32m      3\u001b[0m warnings\u001b[38;5;241m.\u001b[39msimplefilter(action\u001b[38;5;241m=\u001b[39m\u001b[38;5;124m\"\u001b[39m\u001b[38;5;124mignore\u001b[39m\u001b[38;5;124m\"\u001b[39m, category\u001b[38;5;241m=\u001b[39m\u001b[38;5;167;01mUserWarning\u001b[39;00m)\n",
      "\u001b[0;31mNameError\u001b[0m: name 'warnings' is not defined"
     ]
    }
   ],
   "source": [
    "# Ignore future warnings and user warnings\n",
    "warnings.simplefilter(action=\"ignore\", category=FutureWarning)\n",
    "warnings.simplefilter(action=\"ignore\", category=UserWarning)"
   ]
  },
  {
   "cell_type": "code",
   "execution_count": 5,
   "id": "7a7355b3-3e15-4a12-a6e8-1839b032c72c",
   "metadata": {},
   "outputs": [],
   "source": [
    "# Get time of notebook execution for timestamping saved artifacts\n",
    "now = datetime.now()\n",
    "current_timestamp = now.strftime(\"%d%m%Y_%H%M%S\")"
   ]
  },
  {
   "cell_type": "markdown",
   "id": "458b6dbe-507f-4844-84c9-e138f2692898",
   "metadata": {},
   "source": [
    "### 1.4 Configure Paths and Create Directories"
   ]
  },
  {
   "cell_type": "code",
   "execution_count": 8,
   "id": "43981a99-75f2-4922-aa1e-42d92c0eff22",
   "metadata": {},
   "outputs": [],
   "source": [
    "# Define paths\n",
    "data_folder_path = \"../../datasets/srt_data/gold/\"\n",
    "figure_folder_path = f\"../../figures/method_benchmarking/{dataset}/sagenet\"\n",
    "\n",
    "# Create required directories\n",
    "os.makedirs(figure_folder_path, exist_ok=True)\n",
    "os.makedirs(model_artifacts_folder_path, exist_ok=True)"
   ]
  },
  {
   "cell_type": "markdown",
   "id": "0653dcd9-e46b-4832-b64e-8d70654719d3",
   "metadata": {
    "tags": []
   },
   "source": [
    "## 2. Data"
   ]
  },
  {
   "cell_type": "markdown",
   "id": "8f4a55e8-bb33-4725-84b5-01db36fdf058",
   "metadata": {},
   "source": [
    "### 2.1 Load Data"
   ]
  },
  {
   "cell_type": "code",
   "execution_count": 9,
   "id": "3b8514f3-b23a-4333-8f94-56da61adcb38",
   "metadata": {},
   "outputs": [],
   "source": [
    "adata = ad.read_h5ad(f\"{data_folder_path}/{dataset}_imputed.h5ad\")"
   ]
  },
  {
   "cell_type": "code",
   "execution_count": 10,
   "id": "df313559-50da-4a87-9397-ca5f484e6c67",
   "metadata": {},
   "outputs": [
    {
     "name": "stderr",
     "output_type": "stream",
     "text": [
      "/home/sbirk/miniconda3/envs/sagenet/lib/python3.8/site-packages/scanpy/preprocessing/_highly_variable_genes.py:478: FutureWarning: The frame.append method is deprecated and will be removed from pandas in a future version. Use pandas.concat instead.\n",
      "  hvg = hvg.append(missing_hvg, ignore_index=True)\n",
      "/home/sbirk/miniconda3/envs/sagenet/lib/python3.8/site-packages/scanpy/preprocessing/_highly_variable_genes.py:478: FutureWarning: The frame.append method is deprecated and will be removed from pandas in a future version. Use pandas.concat instead.\n",
      "  hvg = hvg.append(missing_hvg, ignore_index=True)\n",
      "/home/sbirk/miniconda3/envs/sagenet/lib/python3.8/site-packages/scanpy/preprocessing/_highly_variable_genes.py:478: FutureWarning: The frame.append method is deprecated and will be removed from pandas in a future version. Use pandas.concat instead.\n",
      "  hvg = hvg.append(missing_hvg, ignore_index=True)\n"
     ]
    }
   ],
   "source": [
    "# Keep only highly variable genes\n",
    "sc.pp.highly_variable_genes(\n",
    "    adata,\n",
    "    n_top_genes=4000,\n",
    "    batch_key=\"batch\",\n",
    "    subset=True)\n",
    "\n",
    "adata.X = data.X.toarray()"
   ]
  },
  {
   "cell_type": "code",
   "execution_count": 11,
   "id": "7580b0f1-e6fb-4ac1-b850-ee595ad0b575",
   "metadata": {},
   "outputs": [],
   "source": [
    "adata_batch1 = adata[adata.obs[\"batch\"] == \"embryo1\"]\n",
    "adata_batch2 = adata[adata.obs[\"batch\"] == \"embryo2\"]\n",
    "adata_batch3 = adata[adata.obs[\"batch\"] == \"embryo3\"]\n",
    "\n",
    "adata_batch_list = [adata_batch1,\n",
    "                    adata_batch2,\n",
    "                    adata_batch3]"
   ]
  },
  {
   "cell_type": "markdown",
   "id": "2492cca2-d23b-4e8f-8085-dd8373c16d7a",
   "metadata": {},
   "source": [
    "### 2.2 Artificially Remove Cell Type from Embryo 1 for Recovery by Query (Embryo 3)"
   ]
  },
  {
   "cell_type": "code",
   "execution_count": 12,
   "id": "257445dd-6883-45eb-89dc-536085e4ef0c",
   "metadata": {},
   "outputs": [],
   "source": [
    "# Artificially remove cell type from reference for recovery by query\n",
    "adata_batch_list[0] = adata_batch_list[0][adata_batch_list[0].obs[\"celltype_mapped_refined\"] != reference_removed_cell_type]"
   ]
  },
  {
   "cell_type": "markdown",
   "id": "4d6761d7-cc9e-4932-83c4-b7c65a4e8f64",
   "metadata": {},
   "source": [
    "### 2.3 Compute Spatial Neighbor Graphs"
   ]
  },
  {
   "cell_type": "code",
   "execution_count": 16,
   "id": "7c7253e4-eb6f-4f3d-a12b-3fa7232876cf",
   "metadata": {},
   "outputs": [],
   "source": [
    "for i in range(len(adata_batch_list)):\n",
    "    # Compute (separate) spatial neighborhood\n",
    "    sq.gr.spatial_neighbors(adata_batch_list[i],\n",
    "                            coord_type=\"generic\",\n",
    "                            spatial_key=spatial_key,\n",
    "                            n_neighs=n_neighbors)\n",
    "    # Make adjacency matrix symmetric\n",
    "    adata_batch_list[i].obsp[\"spatial_connectivities\"] = adata_batch_list[i].obsp[\"spatial_connectivities\"].maximum(\n",
    "        adata_batch_list[i].obsp[\"spatial_connectivities\"].T)"
   ]
  },
  {
   "cell_type": "markdown",
   "id": "455bc684-bbdc-4a6b-be4e-2ad970c4ee50",
   "metadata": {},
   "source": [
    "### 2.4 Combine Data for Integration"
   ]
  },
  {
   "cell_type": "code",
   "execution_count": 19,
   "id": "3a6772b0-c04c-4665-8624-bebef11e119e",
   "metadata": {},
   "outputs": [],
   "source": [
    "adata_integration = ad.concat(adata_batch_list, join=\"inner\")\n",
    "\n",
    "# Combine spatial neighborhood graphs as disconnected components\n",
    "connectivities_extension_batch1 = sp.csr_matrix((adata_batch_list[0].shape[0],\n",
    "                                                 (adata_batch_list[1].shape[0] +\n",
    "                                                  adata_batch_list[2].shape[0])))\n",
    "connectivities_extension_batch2_before = sp.csr_matrix((adata_batch_list[1].shape[0],\n",
    "                                                        adata_batch_list[0].shape[0]))\n",
    "connectivities_extension_batch2_after = sp.csr_matrix((adata_batch_list[1].shape[0],\n",
    "                                                       (adata_batch_list[2].shape[0])))\n",
    "connectivities_extension_batch3 = sp.csr_matrix((adata_batch_list[2].shape[0],\n",
    "                                                 (adata_batch_list[0].shape[0] +\n",
    "                                                  adata_batch_list[1].shape[0])))\n",
    "\n",
    "connectivities_batch1 = sp.hstack((adata_batch_list[0].obsp[\"spatial_connectivities\"],\n",
    "                                   connectivities_extension_batch1))\n",
    "connectivities_batch2 = sp.hstack((connectivities_extension_batch2_before,\n",
    "                                   adata_batch_list[1].obsp[\"spatial_connectivities\"],\n",
    "                                   connectivities_extension_batch2_after))\n",
    "connectivities_batch3 = sp.hstack((connectivities_extension_batch3,\n",
    "                                   adata_batch_list[2].obsp[\"spatial_connectivities\"]))\n",
    "\n",
    "connectivities = sp.vstack((connectivities_batch1,\n",
    "                            connectivities_batch2,\n",
    "                            connectivities_batch3))\n",
    "\n",
    "adata_integration.obsp[\"spatial_connectivities\"] = connectivities"
   ]
  },
  {
   "cell_type": "code",
   "execution_count": null,
   "id": "5cb59c65-2844-46a0-bed3-927885920db7",
   "metadata": {},
   "outputs": [
    {
     "name": "stdout",
     "output_type": "stream",
     "text": [
      "cuda:0\n"
     ]
    },
    {
     "name": "stderr",
     "output_type": "stream",
     "text": [
      "/home/sbirk/miniconda3/envs/sagenet/lib/python3.8/site-packages/sklearn/covariance/_graph_lasso.py:272: RuntimeWarning: invalid value encountered in multiply\n",
      "  precision_[indices != idx, idx] = -precision_[idx, idx] * coefs\n",
      "/home/sbirk/miniconda3/envs/sagenet/lib/python3.8/site-packages/sklearn/covariance/_graph_lasso.py:273: RuntimeWarning: invalid value encountered in multiply\n",
      "  precision_[idx, indices != idx] = -precision_[idx, idx] * coefs\n"
     ]
    }
   ],
   "source": [
    "# Use GPU if available\n",
    "if torch.cuda.is_available():\n",
    "  dev = \"cuda:0\"\n",
    "else:\n",
    "  dev = \"cpu\"\n",
    "device = torch.device(dev)\n",
    "print(device)\n",
    "\n",
    "# Estimate gene interaction network\n",
    "glasso(adata_integration, [0.25, 0.5]) # the adjacency matrix of the built graph is added under 'adata.varm[\"adj\"]'\n",
    "    \n",
    "# Compute spatial partitoning with 3 different resolutions to capture different granularities\n",
    "sc.tl.leiden(adata_integration,\n",
    "             resolution=.05,\n",
    "             random_state=random_seed,\n",
    "             key_added=\"leiden_0.05\",\n",
    "             adjacency=adata.obsp[\"spatial_connectivities\"]) # the partitioning is added under 'adata.obs[\"leiden_0.05\"]'\n",
    "sc.tl.leiden(adata_integration,\n",
    "             resolution=.1,\n",
    "             random_state=random_seed,\n",
    "             key_added=\"leiden_0.1\",\n",
    "             adjacency=adata.obsp[\"spatial_connectivities\"]) # the partitioning is added under 'adata.obs[\"leiden_0.1\"]'\n",
    "sc.tl.leiden(adata_integration,\n",
    "             resolution=.5,\n",
    "             random_state=random_seed,\n",
    "             key_added=\"leiden_0.5\",\n",
    "             adjacency=adata.obsp[\"spatial_connectivities\"]) # the partitioning is added under 'adata.obs[\"leiden_0.5\"]'\n",
    "sc.pl.spatial(adata_integration,\n",
    "              color=[\"leiden_0.05\", \"leiden_0.1\", \"leiden_0.5\"],\n",
    "              frameon=False,\n",
    "              ncols=3,\n",
    "              spot_size=.1,\n",
    "              title=[\"leiden_0.05\", \"leiden_0.1\", \"leiden_0.5\"],\n",
    "              legend_loc=None)\n",
    "\n",
    "# Define model object\n",
    "sg_obj = sca.models.sagenet(device=device)\n",
    "\n",
    "sg_obj.train(adata_integration,\n",
    "             comm_columns=[\"leiden_0.05\", \"leiden_0.1\", \"leiden_0.5\"],\n",
    "             tag=\"integrated\",\n",
    "             epochs=15,\n",
    "             verbose = False,\n",
    "             importance=True)"
   ]
  },
  {
   "cell_type": "code",
   "execution_count": null,
   "id": "8b0b9ce8-eb13-4fe6-b088-395c935ad245",
   "metadata": {},
   "outputs": [],
   "source": [
    "    sg_obj.load_query_data(adata)\n",
    "    \n",
    "    # Use SageNet cell-cell-distances for UMAP generation\n",
    "    sc.pp.neighbors(adata_one_shot, use_rep=\"dist_map\")\n",
    "    sc.tl.umap(adata_one_shot)\n",
    "    fig = sc.pl.umap(adata_one_shot,\n",
    "                     color=[cell_type_key],\n",
    "                     title=\"Latent Space with Cell Types: SageNet\",\n",
    "                     return_fig=True)\n",
    "    fig.savefig(f\"{figure_folder_path}/latent_sagenet_cell_types_run_{run_number}_{current_timestamp}.png\",\n",
    "                bbox_inches=\"tight\")\n",
    "    \n",
    "    # Compute latent Leiden clustering\n",
    "    sc.tl.leiden(adata=adata,\n",
    "                 resolution=leiden_resolution,\n",
    "                 random_state=random_seed,\n",
    "                 key_added=f\"latent_sagenet_leiden_{str(leiden_resolution)}\")\n",
    "    \n",
    "    # Create subplot of latent Leiden cluster annotations in physical and latent space\n",
    "    fig, axs = plt.subplots(nrows=2, ncols=1, figsize=(6, 12))\n",
    "    title = fig.suptitle(t=\"Latent and Physical Space with Leiden Clusters: SageNet\")\n",
    "    sc.pl.umap(adata=adata,\n",
    "               color=[f\"latent_sagenet_leiden_{str(leiden_resolution)}\"],\n",
    "               title=f\"Latent Space with Leiden Clusters\",\n",
    "               ax=axs[0],\n",
    "               show=False)\n",
    "    sc.pl.spatial(adata=adata,\n",
    "                  color=[f\"latent_sagenet_leiden_{str(leiden_resolution)}\"],\n",
    "                  spot_size=0.03,\n",
    "                  title=f\"Physical Space with Leiden Clusters\",\n",
    "                  ax=axs[1],\n",
    "                  show=False)\n",
    "\n",
    "    # Create and position shared legend\n",
    "    handles, labels = axs[0].get_legend_handles_labels()\n",
    "    lgd = fig.legend(handles, labels, bbox_to_anchor=(1.25, 0.9185))\n",
    "    axs[0].get_legend().remove()\n",
    "    axs[1].get_legend().remove()\n",
    "\n",
    "    # Adjust, save and display plot\n",
    "    plt.subplots_adjust(wspace=0, hspace=0.2)\n",
    "    fig.savefig(f\"{figure_folder_path}/latent_physical_comparison_sagenet_leiden_run_{run_number}_{current_timestamp}.png\",\n",
    "                bbox_extra_artists=(lgd, title),\n",
    "                bbox_inches=\"tight\")\n",
    "    plt.show()\n",
    "    \n",
    "    # Use UMAP embedding of cell-cell distances as latent features\n",
    "    adata_original.obsm[latent_key + f\"_run{run_number}\"] = adata.obsm[\"X_umap\"]"
   ]
  }
 ],
 "metadata": {
  "kernelspec": {
   "display_name": "Python 3 (ipykernel)",
   "language": "python",
   "name": "python3"
  },
  "language_info": {
   "codemirror_mode": {
    "name": "ipython",
    "version": 3
   },
   "file_extension": ".py",
   "mimetype": "text/x-python",
   "name": "python",
   "nbconvert_exporter": "python",
   "pygments_lexer": "ipython3",
   "version": "3.8.16"
  }
 },
 "nbformat": 4,
 "nbformat_minor": 5
}
