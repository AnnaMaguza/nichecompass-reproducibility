{
 "cells": [
  {
   "cell_type": "markdown",
   "id": "364a9ebc-3e3c-4645-9049-a34bd084c8a8",
   "metadata": {},
   "source": [
    "# DeepLinc"
   ]
  },
  {
   "cell_type": "markdown",
   "id": "b0c55227-147e-417f-b0dd-bb0b7f322930",
   "metadata": {},
   "source": [
    "- **Creator**: Sebastian Birk (<sebastian.birk@helmholtz-munich.de>).\n",
    "- **Affiliation:** Helmholtz Munich, Institute of Computational Biology (ICB), Talavera-López Lab\n",
    "- **Date of Creation:** 05.01.2023\n",
    "- **Date of Last Modification:** 12.01.2023"
   ]
  },
  {
   "cell_type": "markdown",
   "id": "8eb78e3b-6546-47bd-9d50-b337ad74ece4",
   "metadata": {},
   "source": [
    "- The DeepLinc source code is available at https://github.com/xryanglab/DeepLinc.\n",
    "- The corresponding publication is Li, R. & Yang, X. De novo reconstruction of cell interaction landscapes from single-cell spatial transcriptome data with DeepLinc. Genome Biol. 23, 124 (2022)."
   ]
  },
  {
   "cell_type": "markdown",
   "id": "e868b30e-e3c6-4d9f-8919-4d2f275cb868",
   "metadata": {},
   "source": [
    "- The logic to run DeepLinc is encapsulated into the Python script 'deeplinc.py'.\n",
    "- We train DeepLinc models on the seqfish mouse organogenesis embryo 2 dataset with different adjacency matrices corresponding to 4, 8, 12, 16, and 20 average neighbors.\n",
    "- We compute 2 runs per number of average neighbors resulting in a total of 10 runs. Each of the 2 runs uses a different random seed (seed 0 and seed 1).\n",
    "- To train a DeepLinc model with 4 average neighbors, open a terminal, navigate to the 'deeplinc' folder, and run ```python deeplinc.py -e ../datasets/srt_data/gold/seqfish_mouse_organogenesis_embryo2_counts.csv -a ../datasets/srt_data/gold/seqfish_mouse_organogenesis_embryo2_adj4.csv -c ../datasets/srt_data/gold/seqfish_mouse_organogenesis_embryo2_coords.csv -r ../datasets/srt_data/gold/seqfish_mouse_organogenesis_embryo2_cell_types.csv -n run1 -i 40 --seed 0``` (after the data has been prepared further down in this notebook).\n",
    "- The results of the trained DeepLinc models (latent space features & reconstructed adjacency matrices) are manually stored in ```../datasets/benchmark_data/deeplinc/embryo2```.\n",
    "- According to the instructions in the Github repo, the authors use raw counts as input to DeepLinc. Therefore, we also use raw counts.\n",
    "- To define the spatial neighborhood graph, the original DeepLinc paper uses the 3 nearest neighbors of a cell as neighbors as long as their distance to the cell would fall below a threshold radius. The threshold radius is determined by plotting the distribution of cell's distances to their 3 nearest neighbors and drawing a cutoff to remove outliers. The union of all neighbors is used as final spatial neighborhood graph (the adjacency matrix is made symmetric). We use the same method but without threshhold radius cutoff to make the benchmarking more simple and comparable between different methods."
   ]
  },
  {
   "cell_type": "markdown",
   "id": "7529cde5-be12-403b-a94c-07561774b86c",
   "metadata": {},
   "source": [
    "## 1. Setup"
   ]
  },
  {
   "cell_type": "markdown",
   "id": "faad87bd-fef5-4429-a175-d714c491ae76",
   "metadata": {},
   "source": [
    "### 1.1 Import Libraries"
   ]
  },
  {
   "cell_type": "code",
   "execution_count": 2,
   "id": "d7f93960-c759-424f-8cb2-1d8698acae2c",
   "metadata": {},
   "outputs": [],
   "source": [
    "import os\n",
    "from datetime import datetime\n",
    "\n",
    "import anndata as ad\n",
    "import matplotlib.pyplot as plt\n",
    "import numpy as np\n",
    "import pandas as pd\n",
    "import scanpy as sc\n",
    "import squidpy as sq"
   ]
  },
  {
   "cell_type": "markdown",
   "id": "39b5efa5-2052-4986-8ae5-89cfab018515",
   "metadata": {},
   "source": [
    "### 1.2 Define Parameters"
   ]
  },
  {
   "cell_type": "code",
   "execution_count": 5,
   "id": "e5c8b48a-ed5e-48b5-8c5c-c1de11493aee",
   "metadata": {},
   "outputs": [],
   "source": [
    "dataset = \"seqfish_mouse_organogenesis_embryo2\"\n",
    "cell_type_key = \"celltype_mapped_refined\"\n",
    "latent_key = \"deeplinc_latent\"\n",
    "leiden_resolution = 0.3 # used for Leiden clustering of latent space\n",
    "random_seed = 0"
   ]
  },
  {
   "cell_type": "markdown",
   "id": "28adc110-0f41-4a71-9838-dc7f0687809a",
   "metadata": {},
   "source": [
    "### 1.3 Run Notebook Setup"
   ]
  },
  {
   "cell_type": "code",
   "execution_count": 6,
   "id": "334b87ca-3387-4ba9-8567-84bc4754ff0c",
   "metadata": {},
   "outputs": [],
   "source": [
    "sc.set_figure_params(figsize=(6, 6))"
   ]
  },
  {
   "cell_type": "code",
   "execution_count": 7,
   "id": "0ab6b302-1c0b-4937-8624-40629ada2e46",
   "metadata": {},
   "outputs": [],
   "source": [
    "# Get time of notebook execution for timestamping saved artifacts\n",
    "now = datetime.now()\n",
    "current_timestamp = now.strftime(\"%d%m%Y_%H%M%S\")"
   ]
  },
  {
   "cell_type": "markdown",
   "id": "85538952-006b-4b0b-a50c-fe7445ce22e2",
   "metadata": {},
   "source": [
    "### 1.4 Configure Paths and Directories"
   ]
  },
  {
   "cell_type": "code",
   "execution_count": 8,
   "id": "7ddcc49c-ba22-4155-acd5-05b5b810e091",
   "metadata": {},
   "outputs": [],
   "source": [
    "data_folder_path = \"../datasets/srt_data/gold/\"\n",
    "figure_folder_path = f\"../figures/method_benchmarking/{dataset}/\"\n",
    "benchmark_data_folder_path = \"../datasets/benchmark_data/\""
   ]
  },
  {
   "cell_type": "markdown",
   "id": "58f3bcb4-901b-48dd-b684-a398c836160b",
   "metadata": {},
   "source": [
    "## 2. Data"
   ]
  },
  {
   "cell_type": "code",
   "execution_count": 6,
   "id": "5ca4ff68-1935-4d9e-8e71-bad9113ce11c",
   "metadata": {},
   "outputs": [],
   "source": [
    "# Load Data\n",
    "adata = sc.read_h5ad(data_folder_path + f\"{dataset}.h5ad\")"
   ]
  },
  {
   "cell_type": "code",
   "execution_count": 7,
   "id": "b511456d-7196-470c-9ca3-1cf5dfdc4a8e",
   "metadata": {},
   "outputs": [],
   "source": [
    "# Create csv files to run DeepLinc\n",
    "counts_df = pd.DataFrame(adata.layers[\"counts\"].toarray(), columns=adata.var_names)\n",
    "counts_df.to_csv(f\"{data_folder_path}/{dataset}_counts.csv\", index=False)\n",
    "\n",
    "coords_df = pd.DataFrame(adata.obsm[\"spatial\"], columns=[\"X\", \"Y\"])\n",
    "coords_df.to_csv(f\"{data_folder_path}/{dataset}_coords.csv\", index=False)\n",
    "\n",
    "for n_neighbors in [4, 8, 12, 16, 20]:\n",
    "    # Compute spatial neighborhood graphs\n",
    "    sq.gr.spatial_neighbors(adata,\n",
    "                            coord_type=\"generic\",\n",
    "                            spatial_key=\"spatial\",\n",
    "                            n_neighs=n_neighbors)\n",
    "    adj = adata.obsp[\"spatial_connectivities\"].toarray()\n",
    "    adj = adj + adj.T\n",
    "    adj = np.where(adj>1, 1, adj)\n",
    "    adj_df = pd.DataFrame(adj)\n",
    "    adj_df.to_csv(f\"{data_folder_path}/{dataset}_adj{n_neighbors}.csv\", index=False)\n",
    "\n",
    "cell_types_df = pd.DataFrame(adata.obs[\"celltype_mapped_refined\"])\n",
    "cell_types_df.rename(columns={\"celltype_mapped_refined\": \"Cell_class_name\"}, inplace=True)\n",
    "cell_types_df[\"Cell_ID\"] = np.arange(len(adata))\n",
    "cell_types_df[\"Cell_class_id\"] = cell_types_df[\"Cell_class_name\"].cat.codes\n",
    "cell_types_df = cell_types_df[[\"Cell_ID\", \"Cell_class_id\", \"Cell_class_name\"]]\n",
    "cell_types_df.to_csv(f\"{data_folder_path}/{dataset}_cell_types.csv\", index=False)"
   ]
  },
  {
   "cell_type": "code",
   "execution_count": 9,
   "id": "3639ba63-d21a-4f41-8e5f-81fd7738d50f",
   "metadata": {},
   "outputs": [],
   "source": [
    "# Load latent space features into original adata after running 'deeplinc.py' script\n",
    "adata_original = sc.read_h5ad(data_folder_path + f\"{dataset}.h5ad\")"
   ]
  },
  {
   "cell_type": "markdown",
   "id": "656c9b41-6c0f-46d8-9419-ee9857f34237",
   "metadata": {},
   "source": [
    "## 3. DeepLinc Model"
   ]
  },
  {
   "cell_type": "markdown",
   "id": "72a7a8b5-c89d-43cf-9aca-4cb7ea6e6bf7",
   "metadata": {},
   "source": [
    "Now, train DeepLinc models with the ```deeplinc.py``` script as described at the top of the notebook and store the latent space features of trained models under ```../datasets/benchmark_data/deeplinc/embryo2/``` ."
   ]
  },
  {
   "cell_type": "code",
   "execution_count": null,
   "id": "7cb99adc-7b48-4bae-8499-3a9d2e108784",
   "metadata": {},
   "outputs": [],
   "source": [
    "run_number = 0\n",
    "for directory, subdirectory, file_list in os.walk(benchmark_data_folder_path + \"deeplinc/embryo2\"):\n",
    "    for file in file_list:\n",
    "        \n",
    "        if \"hidden2\" in file:\n",
    "            file_path = os.path.join(directory, file)\n",
    "            \n",
    "            adata = sc.read_h5ad(data_folder_path + f\"{dataset}.h5ad\")\n",
    "            adata.obsm[latent_key] = np.load(file_path)\n",
    "            \n",
    "            # Use DeepLinc latent space for UMAP generation\n",
    "            sc.pp.neighbors(adata, use_rep=latent_key, n_neighbors=directory[-1])\n",
    "            sc.tl.umap(adata, min_dist=0.3)\n",
    "            fig = sc.pl.umap(adata,\n",
    "                             color=[cell_type_key],\n",
    "                             title=\"Latent Space with Cell Types: DeepLinc\",\n",
    "                             return_fig=True)\n",
    "            fig.savefig(f\"{figure_folder_path}/latent_deeplinc_cell_types_run_{run_number + 1}_{current_timestamp}.png\",\n",
    "                        bbox_inches=\"tight\")\n",
    "            \n",
    "            # Compute latent Leiden clustering\n",
    "            sc.tl.leiden(adata=adata,\n",
    "                         resolution=leiden_resolution,\n",
    "                         random_state=random_seed,\n",
    "                         key_added=f\"latent_deeplinc_leiden_{str(leiden_resolution)}\")\n",
    "            \n",
    "            # Create subplot of latent Leiden cluster annotations in physical and latent space\n",
    "            fig, axs = plt.subplots(nrows=2, ncols=1, figsize=(6, 12))\n",
    "            title = fig.suptitle(t=\"Latent and Physical Space with Leiden Clusters: DeepLinc\")\n",
    "            sc.pl.umap(adata=adata,\n",
    "                       color=[f\"latent_deeplinc_leiden_{str(leiden_resolution)}\"],\n",
    "                       title=f\"Latent Space with Leiden Clusters\",\n",
    "                       ax=axs[0],\n",
    "                       show=False)\n",
    "            sc.pl.spatial(adata=adata,\n",
    "                          color=[f\"latent_deeplinc_leiden_{str(leiden_resolution)}\"],\n",
    "                          spot_size=0.03,\n",
    "                          title=f\"Physical Space with Leiden Clusters\",\n",
    "                          ax=axs[1],\n",
    "                          show=False)\n",
    "\n",
    "            # Create and position shared legend\n",
    "            handles, labels = axs[0].get_legend_handles_labels()\n",
    "            lgd = fig.legend(handles, labels, bbox_to_anchor=(1.1, 0.90))\n",
    "            axs[0].get_legend().remove()\n",
    "            axs[1].get_legend().remove()\n",
    "\n",
    "            # Adjust, save and display plot\n",
    "            plt.subplots_adjust(wspace=0, hspace=0.2)\n",
    "            fig.savefig(f\"{figure_folder_path}/latent_physical_comparison_deeplinc_leiden_run_{run_number + 1}_{current_timestamp}.png\",\n",
    "                        bbox_extra_artists=(lgd, title),\n",
    "                        bbox_inches=\"tight\")\n",
    "            plt.show()\n",
    "            \n",
    "            adata_original.obsm[latent_key + f\"_run{run_number}\"] = np.load(file_path)\n",
    "            run_number += 1\n",
    "\n",
    "# Label all 'gene programs' as active gene programs for subsequent benchmarking\n",
    "adata_original.uns[\"deeplinc_active_gp_names\"] = np.array([f\"latent_{i}\" for i in range(adata_new.obsm[\"deeplinc_latent_run1\"].shape[1])])\n",
    "\n",
    "# Store data to disk\n",
    "adata_original.write(f\"{data_folder_path}/{dataset}_deeplinc.h5ad\")"
   ]
  },
  {
   "cell_type": "code",
   "execution_count": null,
   "id": "e59d7c33-2f3b-46b7-b981-c1d5fbb34aa7",
   "metadata": {},
   "outputs": [],
   "source": []
  }
 ],
 "metadata": {
  "kernelspec": {
   "display_name": "Python 3 (ipykernel)",
   "language": "python",
   "name": "python3"
  },
  "language_info": {
   "codemirror_mode": {
    "name": "ipython",
    "version": 3
   },
   "file_extension": ".py",
   "mimetype": "text/x-python",
   "name": "python",
   "nbconvert_exporter": "python",
   "pygments_lexer": "ipython3",
   "version": "3.10.4"
  }
 },
 "nbformat": 4,
 "nbformat_minor": 5
}
