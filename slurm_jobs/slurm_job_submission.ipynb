{
 "cells": [
  {
   "cell_type": "markdown",
   "id": "580755e3-c278-4044-873a-c4373c6dc28f",
   "metadata": {},
   "source": [
    "# Slurm Job Submission"
   ]
  },
  {
   "cell_type": "markdown",
   "id": "54e29153-c3a9-4c03-ab6a-49ce621a6f8d",
   "metadata": {},
   "source": [
    "- **Creator**: Sebastian Birk (<sebastian.birk@helmholtz-munich.de>).\n",
    "- **Affiliation:** Helmholtz Munich, Institute of Computational Biology (ICB), Talavera-López Lab\n",
    "- **Date of Creation:** 20.03.2023\n",
    "- **Date of Last Modification:** 20.03.2023"
   ]
  },
  {
   "cell_type": "markdown",
   "id": "722a237f-c752-4e98-a701-02b7f82d8ebd",
   "metadata": {},
   "source": [
    "## 1. Setup"
   ]
  },
  {
   "cell_type": "markdown",
   "id": "3ed6200b-db2f-4252-85b6-543efd069094",
   "metadata": {},
   "source": [
    "### 1.1 Import Libraries"
   ]
  },
  {
   "cell_type": "code",
   "execution_count": null,
   "id": "48d297b0-e0dc-42b9-a349-e6ac2edba0e3",
   "metadata": {},
   "outputs": [],
   "source": [
    "import os"
   ]
  },
  {
   "cell_type": "markdown",
   "id": "7ade560f-1f77-4c71-9596-9d5f8f367a98",
   "metadata": {},
   "source": [
    "### 1.2 Define Functions"
   ]
  },
  {
   "cell_type": "code",
   "execution_count": null,
   "id": "6b2d6cf0-b360-428f-9548-c7942378de68",
   "metadata": {},
   "outputs": [],
   "source": [
    "def submit_python_script(\n",
    "        job_name_prefix,\n",
    "        job_id,\n",
    "        job_folder_path,\n",
    "        conda_env_name,\n",
    "        script_folder_path,\n",
    "        script_name,\n",
    "        script_args,\n",
    "        nice=10000):\n",
    "    job_name = f\"{job_name_prefix}_{job_id}\"\n",
    "    # Account for fact that submit node has different home path than compute node\n",
    "    job_file_path = f\"{job_folder_path.replace('/aih', '')}/job_{job_name}.cmd\"\n",
    "    out_file_path = f\"{job_folder_path}/logs/out_{job_name}.txt\"\n",
    "    err_file_path = f\"{job_folder_path}/logs/err_{job_name}.txt\"\n",
    "    \n",
    "    os.makedirs(job_folder_path + \"/logs\", exist_ok=True)\n",
    "    \n",
    "    with open(job_file_path, \"w\") as handle:\n",
    "        handle.writelines(\"#!/bin/bash\\n\")\n",
    "        handle.writelines(f\"#SBATCH -J {job_name}\\n\")\n",
    "        handle.writelines(f\"#SBATCH -o {out_file_path}\\n\")\n",
    "        handle.writelines(f\"#SBATCH -e {err_file_path}\\n\")\n",
    "        handle.writelines(\"#SBATCH -t 48:00:00\\n\")\n",
    "        handle.writelines(\"#SBATCH -p gpu_p\\n\")\n",
    "        handle.writelines(\"#SBATCH -c 6\\n\")\n",
    "        handle.writelines(\"#SBATCH --gres=gpu:1\\n\")\n",
    "        handle.writelines(\"#SBATCH --qos=gpu\\n\")       \n",
    "        handle.writelines(\"#SBATCH --mem=64GB\\n\")\n",
    "        handle.writelines(f\"#SBATCH --nice={nice}\\n\")\n",
    "        handle.writelines(\"source $HOME/.bashrc\\n\")\n",
    "        handle.writelines(f\"conda activate {conda_env_name}\\n\")\n",
    "        handle.writelines(\"cd /\\n\")\n",
    "        handle.writelines(f\"cd {script_folder_path}\\n\")\n",
    "        handle.writelines(f\"python {script_name}\")\n",
    "        handle.writelines(f\"{script_args}\")\n",
    "        handle.writelines(\"\\n\")\n",
    "        \n",
    "    os.system(f\"sbatch {job_file_path}\")"
   ]
  },
  {
   "cell_type": "markdown",
   "id": "b2788f14-640e-4dc9-9a85-13a2236701d9",
   "metadata": {},
   "source": [
    "## 2. Autotalker Reference Model Training"
   ]
  },
  {
   "cell_type": "markdown",
   "id": "cb8e54d8-12ec-4cab-a6b5-7477711a7898",
   "metadata": {},
   "source": [
    "### 2.1 STARmap PLUS Mouse CNS"
   ]
  },
  {
   "cell_type": "markdown",
   "id": "64e67c9e-fde1-48c0-91dc-ce3eef351242",
   "metadata": {},
   "source": [
    "#### 2.1.1 ST Data"
   ]
  },
  {
   "cell_type": "code",
   "execution_count": null,
   "id": "0e509b6e-f3cd-4ec2-b6a0-ed5fd3a34d48",
   "metadata": {},
   "outputs": [],
   "source": [
    "job_name_prefix = \"autotalker_starmap_plus_mouse_cns_reference\"\n",
    "job_id = 1\n",
    "job_folder_path = \"/home/aih/sebastian.birk/workspace/projects/autotalker-reproducibility/slurm_jobs\"\n",
    "conda_env_name = \"autotalker_hpc\"\n",
    "script_folder_path = \"/home/aih/sebastian.birk/workspace/projects/autotalker-reproducibility/scripts\"\n",
    "script_name = \"train_autotalker_reference_model.py\"\n",
    "script_args = \" --dataset starmap_plus_mouse_cns\" \\\n",
    "              \"--reference_batches batch1 batch2 batch3 batch4 batch5 batch6 batch7 batch8\" \\\n",
    "              \"batch9 batch10 batch11 batch12 batch13 batch14 batch15 batch16 batch17 batch18\" \\\n",
    "              \"batch19 batch20\" \\\n",
    "              \" --n_neighbors 4\" \\\n",
    "              \" --filter_genes\" \\\n",
    "              \" --n_hvg 2000\" \\\n",
    "              \" --nichenet_max_n_target_genes_per_gp 20000\" \\\n",
    "              \" --include_mebocost_gps\" \\\n",
    "              \" --mebocost_species mouse\" \\\n",
    "              \" --counts_key counts\" \\\n",
    "              \" --no-log_variational\" \\\n",
    "              \" --n_epochs 40\" \\\n",
    "              \" --n_epochs_all_gps 20\" \\\n",
    "              \" --lambda_group_lasso 0.\" \\\n",
    "              \" --lambda_l1_masked 0.\" \\\n",
    "              \" --edge_batch_size 256\" \\\n",
    "              \" --node_batch_size 32\"\n",
    "\n",
    "submit_python_script(\n",
    "        job_name_prefix=job_name_prefix,\n",
    "        job_id=job_id,\n",
    "        job_folder_path=job_folder_path,\n",
    "        conda_env_name=conda_env_name,\n",
    "        script_folder_path=script_folder_path,\n",
    "        script_name=script_name,\n",
    "        script_args=script_args,\n",
    "        nice=10000)"
   ]
  },
  {
   "cell_type": "markdown",
   "id": "22c3ccd0-8360-49e2-a5a9-7e5a97213830",
   "metadata": {},
   "source": [
    "#### 2.1.2 Imputed Data"
   ]
  },
  {
   "cell_type": "code",
   "execution_count": null,
   "id": "68a7dd8f-141b-4c2d-9d16-1eff37fa9832",
   "metadata": {},
   "outputs": [],
   "source": [
    "job_name_prefix = \"autotalker_starmap_plus_mouse_cns_reference\"\n",
    "job_id = 2\n",
    "job_folder_path = \"/home/aih/sebastian.birk/workspace/projects/autotalker-reproducibility/slurm_jobs\"\n",
    "conda_env_name = \"autotalker_hpc\"\n",
    "script_folder_path = \"/home/aih/sebastian.birk/workspace/projects/autotalker-reproducibility/scripts\"\n",
    "script_name = \"train_autotalker_reference_model.py\"\n",
    "script_args = \" --dataset starmap_plus_mouse_cns\" \\\n",
    "              \" --reference_batches batch1_imputed batch2_imputed batch3_imputed\" \\\n",
    "              \" --n_neighbors 4\" \\\n",
    "              \" --filter_genes\" \\\n",
    "              \" --n_hvg 2000\" \\\n",
    "              \" --nichenet_max_n_target_genes_per_gp 20000\" \\\n",
    "              \" --include_mebocost_gps\" \\\n",
    "              \" --mebocost_species mouse\" \\\n",
    "              \" --counts_key log_normalized_counts\" \\\n",
    "              \" --no-log_variational\" \\\n",
    "              \" --n_epochs 1\" \\\n",
    "              \" --n_epochs_all_gps 1\" \\\n",
    "              \" --lambda_group_lasso 0.\" \\\n",
    "              \" --lambda_l1_masked 0.\" \\\n",
    "              \" --edge_batch_size 256\" \\\n",
    "              \" --node_batch_size 32\"\n",
    "\n",
    "submit_python_script(\n",
    "        job_name_prefix=job_name_prefix,\n",
    "        job_id=job_id,\n",
    "        job_folder_path=job_folder_path,\n",
    "        conda_env_name=conda_env_name,\n",
    "        script_folder_path=script_folder_path,\n",
    "        script_name=script_name,\n",
    "        script_args=script_args,\n",
    "        nice=10000)"
   ]
  },
  {
   "cell_type": "code",
   "execution_count": null,
   "id": "547772d4-1dd3-415e-8547-39446b8f8b65",
   "metadata": {},
   "outputs": [],
   "source": [
    "job_name_prefix = \"autotalker_nanostring_cosmx_human_liver_reference\"\n",
    "job_id = 1\n",
    "job_folder_path = \"/home/aih/sebastian.birk/workspace/projects/autotalker-repro-new/slurm_jobs\"\n",
    "conda_env_name = \"autotalker_hpc\"\n",
    "script_folder_path = \"/home/aih/sebastian.birk/workspace/projects/autotalker-repro-new/scripts\"\n",
    "script_name = \"train_autotalker_reference_model.py\"\n",
    "script_args = \" --dataset=nanostring_cosmx_human_liver\" \\\n",
    "              \" --batch=sample1\" \\\n",
    "              \" --nichenet_max_n_target_genes_per_gp=20000\" \\\n",
    "              \" --include_mebocost_gps\" \\\n",
    "              \" --n_epochs=20\" \\\n",
    "              \" --n_epochs_all_gps=10\" \\\n",
    "              \" --lambda_group_lasso=0.\" \\\n",
    "              \" --lambda_l1_masked=0.\" \\\n",
    "              \" --edge_batch_size=256\" \\\n",
    "              \" --node_batch_size=32\"\n",
    "\n",
    "submit_python_script(\n",
    "        job_name_prefix=job_name_prefix,\n",
    "        job_id=job_id,\n",
    "        job_folder_path=job_folder_path,\n",
    "        conda_env_name=conda_env_name,\n",
    "        script_folder_path=script_folder_path,\n",
    "        script_name=script_name,\n",
    "        script_args=script_args,\n",
    "        nice=10000)"
   ]
  },
  {
   "cell_type": "markdown",
   "id": "693dafa0-4d95-4640-865f-9ef48b3f49f6",
   "metadata": {},
   "source": [
    "## 3. Autotalker Query Mapping on Reference Model"
   ]
  },
  {
   "cell_type": "code",
   "execution_count": null,
   "id": "17761bc0-3178-42dd-9b0e-3935be8d2a5e",
   "metadata": {},
   "outputs": [],
   "source": [
    "job_name_prefix = \"autotalker_nanostring_cosmx_human_liver_query\"\n",
    "job_id = 1\n",
    "job_folder_path = \"/home/aih/sebastian.birk/workspace/projects/autotalker-repro-new/slurm_jobs\"\n",
    "conda_env_name = \"autotalker_hpc\"\n",
    "script_folder_path = \"/home/aih/sebastian.birk/workspace/projects/autotalker-repro-new/scripts\"\n",
    "script_name = \"map_query_on_autotalker_reference_model.py\"\n",
    "script_args = \" --dataset=nanostring_cosmx_human_liver\" \\\n",
    "              \" --batch=sample2\" \\\n",
    "              \" --reference_batch=sample1\" \\\n",
    "              \" --load_timestamp=10032023_145839\" \\\n",
    "              \" --nichenet_max_n_target_genes_per_gp=20000\" \\\n",
    "              \" --n_epochs=40\" \\\n",
    "              \" --n_epochs_all_gps=0\" \\\n",
    "              \" --lambda_group_lasso=0.\" \\\n",
    "              \" --lambda_l1_masked=0.\" \\\n",
    "              \" --edge_batch_size=256\" \\\n",
    "              \" --node_batch_size=32\"\n",
    "\n",
    "submit_python_script(\n",
    "        job_name_prefix=job_name_prefix,\n",
    "        job_id=job_id,\n",
    "        job_folder_path=job_folder_path,\n",
    "        conda_env_name=conda_env_name,\n",
    "        script_folder_path=script_folder_path,\n",
    "        script_name=script_name,\n",
    "        script_args=script_args,\n",
    "        nice=10000)"
   ]
  },
  {
   "cell_type": "markdown",
   "id": "bb1fe574-6eac-440b-bd48-1a597f782a92",
   "metadata": {},
   "source": [
    "## 4. Autotalker Benchmark Models Training"
   ]
  },
  {
   "cell_type": "code",
   "execution_count": null,
   "id": "29978f9b-e317-462e-8b8d-4042f5cc48a9",
   "metadata": {},
   "outputs": [],
   "source": [
    "job_name_prefix = \"autotalker_vizgen_merfish_mouse_liver_benchmarking\"\n",
    "job_id = 1\n",
    "job_folder_path = \"/home/aih/sebastian.birk/workspace/projects/autotalker-repro-new/slurm_jobs\"\n",
    "conda_env_name = \"autotalker_hpc\"\n",
    "script_folder_path = \"/home/aih/sebastian.birk/workspace/projects/autotalker-repro-new/scripts\"\n",
    "script_name = \"train_autotalker_benchmark_models.py\"\n",
    "script_args = \" --dataset vizgen_merfish_mouse_liver\" \\\n",
    "              \" --adata_new_name vizgen_merfish_mouse_liver_autotalker\" \\\n",
    "              \" --n_neighbors_list 12 16 16 20 20\" \\\n",
    "              \" --edge_batch_size_list 256 128 128 128 128\" \\\n",
    "              \" --node_batch_size_list 32 16 16 16 16\" \\\n",
    "              \" --seeds 5 6 7 8 9\" \\\n",
    "              \" --run_index 5 6 7 8 9 10\"\n",
    "\n",
    "submit_python_script(\n",
    "        job_name_prefix=job_name_prefix,\n",
    "        job_id=job_id,\n",
    "        job_folder_path=job_folder_path,\n",
    "        conda_env_name=conda_env_name,\n",
    "        script_folder_path=script_folder_path,\n",
    "        script_name=script_name,\n",
    "        script_args=script_args,\n",
    "        nice=10000)"
   ]
  },
  {
   "cell_type": "code",
   "execution_count": null,
   "id": "c1812fe7-98be-48d5-89ca-630b6293083e",
   "metadata": {},
   "outputs": [],
   "source": [
    "job_name_prefix = \"autotalker_starmap_plus_mouse_cns_benchmarking\"\n",
    "job_id = 1\n",
    "job_folder_path = \"/home/aih/sebastian.birk/workspace/projects/autotalker-repro-new/slurm_jobs\"\n",
    "conda_env_name = \"autotalker_hpc\"\n",
    "script_folder_path = \"/home/aih/sebastian.birk/workspace/projects/autotalker-repro-new/scripts\"\n",
    "script_name = \"train_autotalker_benchmark_models.py\"\n",
    "script_args = \" --dataset starmap_plus_mouse_cns\" \\\n",
    "              \" --adata_new_name starmap_plus_mouse_cns_autotalker\" \\\n",
    "              \" --n_neighbors_list 20\" \\\n",
    "              \" --edge_batch_size_list 128\" \\\n",
    "              \" --node_batch_size_list 16\" \\\n",
    "              \" --seeds 9\" \\\n",
    "              \" --run_index 10\"\n",
    "\n",
    "submit_python_script(\n",
    "        job_name_prefix=job_name_prefix,\n",
    "        job_id=job_id,\n",
    "        job_folder_path=job_folder_path,\n",
    "        conda_env_name=conda_env_name,\n",
    "        script_folder_path=script_folder_path,\n",
    "        script_name=script_name,\n",
    "        script_args=script_args,\n",
    "        nice=10000)"
   ]
  },
  {
   "cell_type": "code",
   "execution_count": null,
   "id": "6f0e2a92-0987-4190-9630-96f6123228f3",
   "metadata": {},
   "outputs": [],
   "source": [
    "job_name_prefix = \"autotalker_slideseqv2_mouse_hippocampus_benchmarking\"\n",
    "job_id = 1\n",
    "job_folder_path = \"/home/aih/sebastian.birk/workspace/projects/autotalker-repro-new/slurm_jobs\"\n",
    "conda_env_name = \"autotalker_hpc\"\n",
    "script_folder_path = \"/home/aih/sebastian.birk/workspace/projects/autotalker-repro-new/scripts\"\n",
    "script_name = \"train_autotalker_benchmark_models.py\"\n",
    "script_args = \" --dataset slideseqv2_mouse_hippocampus\" \\\n",
    "              \" --adata_new_name slideseqv2_mouse_hippocampus_autotalker\" \\\n",
    "              \" --n_neighbors_list 20\" \\\n",
    "              \" --edge_batch_size_list 128\" \\\n",
    "              \" --node_batch_size_list 16\" \\\n",
    "              \" --seeds 9\" \\\n",
    "              \" --run_index 10\"\n",
    "\n",
    "submit_python_script(\n",
    "        job_name_prefix=job_name_prefix,\n",
    "        job_id=job_id,\n",
    "        job_folder_path=job_folder_path,\n",
    "        conda_env_name=conda_env_name,\n",
    "        script_folder_path=script_folder_path,\n",
    "        script_name=script_name,\n",
    "        script_args=script_args,\n",
    "        nice=10000)"
   ]
  },
  {
   "cell_type": "code",
   "execution_count": null,
   "id": "99b964ee-6804-41b1-849c-bf215cfea227",
   "metadata": {},
   "outputs": [],
   "source": []
  }
 ],
 "metadata": {
  "kernelspec": {
   "display_name": "Python 3 (ipykernel)",
   "language": "python",
   "name": "python3"
  },
  "language_info": {
   "codemirror_mode": {
    "name": "ipython",
    "version": 3
   },
   "file_extension": ".py",
   "mimetype": "text/x-python",
   "name": "python",
   "nbconvert_exporter": "python",
   "pygments_lexer": "ipython3",
   "version": "3.9.15"
  }
 },
 "nbformat": 4,
 "nbformat_minor": 5
}
